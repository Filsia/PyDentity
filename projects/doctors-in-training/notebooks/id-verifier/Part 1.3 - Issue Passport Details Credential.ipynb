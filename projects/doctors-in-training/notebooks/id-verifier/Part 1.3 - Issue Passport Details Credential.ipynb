{
 "cells": [
  {
   "cell_type": "markdown",
   "metadata": {
    "collapsed": true
   },
   "source": [
    "# Issue Passport Details Credential\n",
    "\n",
    "## Before running through this notebook you have configured the agent in  - [Part 1.2 - Initialising the ID Verification Agent](http://127.0.0.1:8888/notebooks/Part%201.2%20-%20Initialising%20the%20ID%20Verification%20Agent.ipynb)."
   ]
  },
  {
   "cell_type": "markdown",
   "metadata": {},
   "source": [
    "## 1. Initialise a controller for Issuer"
   ]
  },
  {
   "cell_type": "code",
   "execution_count": 1,
   "metadata": {},
   "outputs": [
    {
     "name": "stdout",
     "output_type": "stream",
     "text": [
      "IPython autoawait is `on`, and set to use `asyncio`\n"
     ]
    }
   ],
   "source": [
    "%autoawait\n",
    "import time\n",
    "import asyncio\n",
    "from termcolor import colored,cprint\n",
    "\n",
    "from aries_basic_controller.aries_controller import AriesAgentController\n",
    "    \n",
    "WEBHOOK_HOST = \"0.0.0.0\"\n",
    "WEBHOOK_PORT = 8052\n",
    "WEBHOOK_BASE = \"\"\n",
    "ADMIN_URL = \"http://id-verifier-agent:8051\"\n",
    "\n",
    "# Based on the aca-py agent you wish to control\n",
    "agent_controller = AriesAgentController(webhook_host=WEBHOOK_HOST, webhook_port=WEBHOOK_PORT,\n",
    "                                       webhook_base=WEBHOOK_BASE, admin_url=ADMIN_URL)\n",
    "    "
   ]
  },
  {
   "cell_type": "markdown",
   "metadata": {},
   "source": [
    "## 2. Register Listeners\n",
    "\n",
    "The handler should get called every time the controller receives a webhook with the topic issue_credential, printing out the payload. The agent calls to this webhook every time it receives an issue-credential protocol message from a credential."
   ]
  },
  {
   "cell_type": "code",
   "execution_count": 2,
   "metadata": {},
   "outputs": [],
   "source": [
    "loop = asyncio.get_event_loop()\n",
    "loop.create_task(agent_controller.listen_webhooks())\n",
    "\n",
    "def cred_handler(payload):\n",
    "    print(\"Handle Credentials\")\n",
    "    exchange_id = payload['credential_exchange_id']\n",
    "    state = payload['state']\n",
    "    role = payload['role']\n",
    "    attributes = payload['credential_proposal_dict']['credential_proposal']['attributes']\n",
    "    print(f\"Credential exchange {exchange_id}, role: {role}, state: {state}\")\n",
    "    print(f\"Offering: {attributes}\")\n",
    "    \n",
    "cred_listener = {\n",
    "    \"topic\": \"issue_credential\",\n",
    "    \"handler\": cred_handler\n",
    "}\n",
    "\n",
    "def connections_handler(payload):\n",
    "    global STATE\n",
    "    connection_id = payload[\"connection_id\"]\n",
    "    print(\"Connection message\", payload, connection_id)\n",
    "    STATE = payload['state']\n",
    "    if STATE == 'active':\n",
    "#         print('Connection {0} changed state to active'.format(connection_id))\n",
    "        print(colored(\"Connection {0} changed state to active\".format(connection_id), \"red\", attrs=[\"bold\"]))\n",
    "\n",
    "\n",
    "connection_listener = {\n",
    "    \"handler\": connections_handler,\n",
    "    \"topic\": \"connections\"\n",
    "}\n",
    "\n",
    "agent_controller.register_listeners([cred_listener,connection_listener], defaults=True)\n"
   ]
  },
  {
   "cell_type": "markdown",
   "metadata": {},
   "source": [
    "## 3. Copy across the `schema_id` and `cred_def_id` stored in Part 2"
   ]
  },
  {
   "cell_type": "code",
   "execution_count": 3,
   "metadata": {},
   "outputs": [
    {
     "name": "stdout",
     "output_type": "stream",
     "text": [
      "MHn4W8frCddahQcL1A8N6j:3:CL:141253:default\n",
      "2yWoMSfeTtYBFpUJFcnpqL:2:Passport Details:0.0.1\n"
     ]
    }
   ],
   "source": [
    "%store -r cred_def_id\n",
    "%store -r schema_id\n",
    "print(cred_def_id)\n",
    "print(schema_id)"
   ]
  },
  {
   "cell_type": "markdown",
   "metadata": {},
   "source": [
    "### 4. Make sure you have a Mobile SSI Wallet dowloaded and configured to using the Sovrin StagingNet\n",
    "Please download a mobile SSI wallet such as [Connect.me](https://connect.me/), [Trinsic](https://trinsic.id/trinsic-wallet/) or any other Aries compatible wallet."
   ]
  },
  {
   "cell_type": "markdown",
   "metadata": {},
   "source": [
    "## 5. Create a connection invitation to scan with the Mobile SSI Wallet\n",
    "\n",
    "To make a connection with an identity holders wallet we must create a connection invitation and present the QR code to be scanned by the identity holders wallet. The identity holder scan this QR code and then communicate back to the agent through the exposed ngrok endpoint.\n",
    "\n",
    "Once a connection is in an active state, the agent and the identity holders mobile wallet now have a secure pairwise relationship over which they can exchange verifiable credentials."
   ]
  },
  {
   "cell_type": "markdown",
   "metadata": {},
   "source": [
    "## 5a. Create an Invitation"
   ]
  },
  {
   "cell_type": "code",
   "execution_count": 3,
   "metadata": {},
   "outputs": [
    {
     "name": "stdout",
     "output_type": "stream",
     "text": [
      "Connection message {'initiator': 'self', 'invitation_mode': 'once', 'alias': 'doctor', 'updated_at': '2020-09-24 13:26:49.217938Z', 'created_at': '2020-09-24 13:26:49.217938Z', 'accept': 'auto', 'connection_id': '0b44993f-2d87-4ef1-844f-080268a4cf47', 'invitation_key': 'HyfU4LphQcnGctH5Z7KXfs3ySaoyr3bKR8F1cGYN6X1x', 'state': 'invitation', 'routing_state': 'none'} 0b44993f-2d87-4ef1-844f-080268a4cf47\n",
      "Connection ID 0b44993f-2d87-4ef1-844f-080268a4cf47\n",
      "Invitation\n",
      "https://9b06d0b48ce8.ngrok.io?c_i=eyJAdHlwZSI6ICJkaWQ6c292OkJ6Q2JzTlloTXJqSGlxWkRUVUFTSGc7c3BlYy9jb25uZWN0aW9ucy8xLjAvaW52aXRhdGlvbiIsICJAaWQiOiAiZWMzM2RiNDktN2Q5My00OWRiLTkxZjEtOGJkNmY4NjAyNWNmIiwgInNlcnZpY2VFbmRwb2ludCI6ICJodHRwczovLzliMDZkMGI0OGNlOC5uZ3Jvay5pbyIsICJyZWNpcGllbnRLZXlzIjogWyJIeWZVNExwaFFjbkdjdEg1WjdLWGZzM3lTYW95cjNiS1I4RjFjR1lONlgxeCJdLCAibGFiZWwiOiAiSWRlbnRpdHkgVmVyaWZpY2F0aW9uIFNldmljZSJ9\n"
     ]
    }
   ],
   "source": [
    "# Create Invitation\n",
    "invite = await agent_controller.connections.create_invitation(alias=\"doctor\")\n",
    "connection_id = invite[\"connection_id\"]\n",
    "print(\"Connection ID\", connection_id)\n",
    "print(\"Invitation\")\n",
    "print(invite['invitation_url'])\n",
    "inviteURL = invite['invitation_url']"
   ]
  },
  {
   "cell_type": "markdown",
   "metadata": {},
   "source": [
    "## 5b. Generate QR Code to be scanned with Mobile SSI Wallet"
   ]
  },
  {
   "cell_type": "code",
   "execution_count": 5,
   "metadata": {},
   "outputs": [
    {
     "data": {
      "image/png": "[encoded data removed]",
      "text/plain": [
       "<IPython.core.display.Image object>"
      ]
     },
     "execution_count": 5,
     "metadata": {
      "image/png": {
       "width": 400
      }
     },
     "output_type": "execute_result"
    },
    {
     "name": "stdout",
     "output_type": "stream",
     "text": [
      "Connection message {'invitation_mode': 'once', 'state': 'request', 'their_did': 'JiNJBBeP4fVKYfSAQ7rWmp', 'accept': 'auto', 'updated_at': '2020-09-22 13:27:37.883474Z', 'routing_state': 'none', 'initiator': 'self', 'invitation_key': 'Dg2hH69ZgpCdNpdj5ZWYgvk1wGeSDDt6S6AoFEmqCgkC', 'created_at': '2020-09-22 13:27:23.635794Z', 'their_label': 'some-random-name', 'connection_id': 'f30703cf-5c96-416c-aab5-a985ddc09402'} f30703cf-5c96-416c-aab5-a985ddc09402\n",
      "Connection message {'invitation_mode': 'once', 'state': 'response', 'their_did': 'JiNJBBeP4fVKYfSAQ7rWmp', 'accept': 'auto', 'updated_at': '2020-09-22 13:27:37.906647Z', 'routing_state': 'none', 'initiator': 'self', 'my_did': 'FvMqPUeFfuDdXqCrTLyCLj', 'invitation_key': 'Dg2hH69ZgpCdNpdj5ZWYgvk1wGeSDDt6S6AoFEmqCgkC', 'created_at': '2020-09-22 13:27:23.635794Z', 'their_label': 'some-random-name', 'connection_id': 'f30703cf-5c96-416c-aab5-a985ddc09402'} f30703cf-5c96-416c-aab5-a985ddc09402\n"
     ]
    }
   ],
   "source": [
    "import qrcode\n",
    "# Link for connection invitation\n",
    "input_data = inviteURL\n",
    "# Creating an instance of qrcode\n",
    "qr = qrcode.QRCode(\n",
    "        version=1,\n",
    "        box_size=10,\n",
    "        border=5)\n",
    "\n",
    "qr.add_data(input_data)\n",
    "qr.make(fit=True)\n",
    "img = qr.make_image(fill='black', back_color='white')\n",
    "img.save('id-verifier-agent_invite_QRcode.png')\n",
    "\n",
    "from IPython.display import Image\n",
    "Image(width=400, filename='./id-verifier-agent_invite_QRcode.png')"
   ]
  },
  {
   "cell_type": "markdown",
   "metadata": {},
   "source": [
    "## 5c. Check if established connection is in active state"
   ]
  },
  {
   "cell_type": "code",
   "execution_count": 6,
   "metadata": {},
   "outputs": [
    {
     "name": "stdout",
     "output_type": "stream",
     "text": [
      "\u001b[1m\u001b[35mCurrent state for ConnectionId f30703cf-5c96-416c-aab5-a985ddc09402 is response\u001b[0m\n",
      "\u001b[1m\u001b[33mConnectionId f30703cf-5c96-416c-aab5-a985ddc09402 is not in active state yet\u001b[0m\n",
      "\u001b[1m\u001b[34mTrust ping send to ConnectionId {'thread_id': '91023a5c-0d6b-46a2-8824-6d478ae2878f'} to activate connection\u001b[0m\n",
      "\u001b[1m\u001b[33mConnectionId f30703cf-5c96-416c-aab5-a985ddc09402 is not in active state yet\u001b[0m\n",
      "Connection message {'invitation_mode': 'once', 'state': 'active', 'their_did': 'JiNJBBeP4fVKYfSAQ7rWmp', 'accept': 'auto', 'updated_at': '2020-09-22 13:27:50.124012Z', 'routing_state': 'none', 'initiator': 'self', 'my_did': 'FvMqPUeFfuDdXqCrTLyCLj', 'invitation_key': 'Dg2hH69ZgpCdNpdj5ZWYgvk1wGeSDDt6S6AoFEmqCgkC', 'created_at': '2020-09-22 13:27:23.635794Z', 'their_label': 'some-random-name', 'connection_id': 'f30703cf-5c96-416c-aab5-a985ddc09402'} f30703cf-5c96-416c-aab5-a985ddc09402\n",
      "\u001b[1m\u001b[31mConnection f30703cf-5c96-416c-aab5-a985ddc09402 changed state to active\u001b[0m\n",
      "\u001b[1m\u001b[34mTrust ping send to ConnectionId {'thread_id': 'f101d048-f812-4390-86cc-819146ef9a7a'} to activate connection\u001b[0m\n",
      "\u001b[1m\u001b[32mConnectionId: f30703cf-5c96-416c-aab5-a985ddc09402 is now active. Continue with notebook\u001b[0m\n"
     ]
    }
   ],
   "source": [
    "import time\n",
    "\n",
    "# print('Current state for ConnectionId {} is {}'.format(connection_id,STATE))\n",
    "print(colored(\"Current state for ConnectionId {} is {}\".format(connection_id,STATE), \"magenta\", attrs=[\"bold\"]))\n",
    "while STATE != 'active':\n",
    "#     print('ConnectionId {0} is not in active state yet'.format(connection_id))\n",
    "    print(colored(\"ConnectionId {0} is not in active state yet\".format(connection_id), \"yellow\", attrs=[\"bold\"]))\n",
    "    trust_ping = await agent_controller.messaging.trust_ping(connection_id,'hello!')\n",
    "#     print('Trust ping send to ConnectionId {0} to activate connection'.format(trust_ping))\n",
    "    print(colored(\"Trust ping send to ConnectionId {0} to activate connection\".format(trust_ping), \"blue\", attrs=[\"bold\"]))\n",
    "    time.sleep(5)\n",
    "    \n",
    "# print('ConnectionId: {0} is now active. Continue with notebook'.format(connection_id))\n",
    "print(colored(\"ConnectionId: {0} is now active. Continue with notebook\".format(connection_id), \"green\", attrs=[\"bold\"]))\n"
   ]
  },
  {
   "cell_type": "markdown",
   "metadata": {},
   "source": [
    "## 6. Populate the Passport Details to Issue to Doctor\n",
    "\n",
    "This would typically be done through a face to face identity check.\n",
    "\n",
    "The notebook will ask you to input all the relevant fields."
   ]
  },
  {
   "cell_type": "code",
   "execution_count": 7,
   "metadata": {},
   "outputs": [
    {
     "name": "stdout",
     "output_type": "stream",
     "text": [
      "Please enter the doctors pasport number: 123124313\n",
      "Please enter the doctors surname: Coutts\n",
      "Please enter the doctors given names: Octavia\n",
      "Please enter the doctors nationality: UK\n",
      "Please enter the doctors date of birth: 21/01/12\n",
      "Please enter the doctors gender: Female\n",
      "Please enter the doctors place of birth: UK\n",
      "Please enter passport issuance date: 12/12/21\n",
      "Please enter the issuing authority: UK\n",
      "Please enter the expiry date: tomorrowq\n",
      "Please enter a photograph of the doctor: photo\n",
      "Please enter your signature: 123\n",
      "[{'name': 'PSS Passport No', 'value': '123124313'}, {'name': 'PSS Surname', 'value': 'Coutts'}, {'name': 'PSS Given Names', 'value': 'Octavia'}, {'name': 'PSS Nationality', 'value': 'UK'}, {'name': 'PSS Date of Birth', 'value': '21/01/12'}, {'name': 'PSS Sex', 'value': 'Female'}, {'name': 'PSS Place of Birth', 'value': 'UK'}, {'name': 'PSS Date of Issue', 'value': '12/12/21'}, {'name': 'PSS IssuingAuthority', 'value': 'UK'}, {'name': 'PSS Date Of Expiry', 'value': 'tomorrowq'}, {'name': 'PSS Photograph', 'value': 'photo'}, {'name': 'PSS Signature', 'value': '123'}]\n"
     ]
    }
   ],
   "source": [
    "passport_num = input(\"Please enter the doctors pasport number: \")\n",
    "surname=input(\"Please enter the doctors surname: \")\n",
    "given_names=input(\"Please enter the doctors given names: \")\n",
    "nationality = input(\"Please enter the doctors nationality: \")\n",
    "dob=input(\"Please enter the doctors date of birth: \")\n",
    "sex=input(\"Please enter the doctors gender: \")\n",
    "place_of_birth = input(\"Please enter the doctors place of birth: \")\n",
    "date_of_issue=input(\"Please enter passport issuance date: \")\n",
    "issuing_auth=input(\"Please enter the issuing authority: \")\n",
    "expiry_date = input(\"Please enter the expiry date: \")\n",
    "photograph=input(\"Please enter a photograph of the doctor: \")\n",
    "signature=input(\"Please enter your signature: \")\n",
    "credential_attributes = [\n",
    "    {\"name\": \"PSS Passport No\", \"value\": passport_num},\n",
    "    {\"name\": \"PSS Surname\", \"value\": surname},\n",
    "    {\"name\": \"PSS Given Names\", \"value\": given_names},\n",
    "    {\"name\": \"PSS Nationality\", \"value\": nationality},\n",
    "    {\"name\": \"PSS Date of Birth\", \"value\": dob},\n",
    "    {\"name\": \"PSS Sex\", \"value\": sex},\n",
    "    {\"name\": \"PSS Place of Birth\", \"value\": place_of_birth},\n",
    "    {\"name\": \"PSS Date of Issue\", \"value\": date_of_issue},\n",
    "    {\"name\": \"PSS IssuingAuthority\", \"value\": issuing_auth},\n",
    "    {\"name\": \"PSS Date Of Expiry\", \"value\": expiry_date},\n",
    "    {\"name\": \"PSS Photograph\", \"value\": photograph},\n",
    "    {\"name\": \"PSS Signature\", \"value\": signature}\n",
    "\n",
    "]\n",
    "\n",
    "\n",
    "print(credential_attributes)"
   ]
  },
  {
   "cell_type": "markdown",
   "metadata": {},
   "source": [
    "## 7. Send Credential\n",
    "\n",
    "This sends a credential to the doctor's mobile wallet you just connected with."
   ]
  },
  {
   "cell_type": "code",
   "execution_count": 8,
   "metadata": {
    "pycharm": {
     "name": "#%%\n"
    }
   },
   "outputs": [
    {
     "name": "stdout",
     "output_type": "stream",
     "text": [
      "Credential exchange f6206d12-9803-48d4-895a-2b643ae9ec68, role: issuer, state: offer_sent\n",
      "Handle Credentials\n",
      "Credential exchange f6206d12-9803-48d4-895a-2b643ae9ec68, role: issuer, state: offer_sent\n",
      "Offering: [{'name': 'PSS Passport No', 'value': '123124313'}, {'name': 'PSS Surname', 'value': 'Coutts'}, {'name': 'PSS Given Names', 'value': 'Octavia'}, {'name': 'PSS Nationality', 'value': 'UK'}, {'name': 'PSS Date of Birth', 'value': '21/01/12'}, {'name': 'PSS Sex', 'value': 'Female'}, {'name': 'PSS Place of Birth', 'value': 'UK'}, {'name': 'PSS Date of Issue', 'value': '12/12/21'}, {'name': 'PSS IssuingAuthority', 'value': 'UK'}, {'name': 'PSS Date Of Expiry', 'value': 'tomorrowq'}, {'name': 'PSS Photograph', 'value': 'photo'}, {'name': 'PSS Signature', 'value': '123'}]\n"
     ]
    }
   ],
   "source": [
    "record = await agent_controller.issuer.send_credential(connection_id, schema_id, cred_def_id, credential_attributes, trace=False)\n",
    "record_id = record['credential_exchange_id']\n",
    "state = record['state']\n",
    "role = record['role']\n",
    "print(f\"Credential exchange {record_id}, role: {role}, state: {state}\")\n"
   ]
  },
  {
   "cell_type": "markdown",
   "metadata": {},
   "source": [
    "## 8. Accept credential in Mobile SSI Wallet"
   ]
  },
  {
   "cell_type": "markdown",
   "metadata": {},
   "source": [
    "## 9. End of Tutorial\n",
    "\n",
    "Be sure to terminate the controller so you can run another tutorial."
   ]
  },
  {
   "cell_type": "code",
   "execution_count": 10,
   "metadata": {},
   "outputs": [
    {
     "name": "stdout",
     "output_type": "stream",
     "text": [
      "None\n"
     ]
    }
   ],
   "source": [
    "response = await agent_controller.terminate()\n",
    "print(response)"
   ]
  },
  {
   "cell_type": "markdown",
   "metadata": {},
   "source": [
    "# You can now proceed to use this Passport Details credential to interact with the  [Medical School](http://127.0.0.1:8889)\n",
    "\n",
    "Here you will present the attributes issued to you within this tutorial to a verifying entity.\n",
    "\n",
    "You can get the token for this notebook by running `docker logs  doctors-in-training_med-school-notebook_1` or `token=$(docker logs  doctors-in-training_med-school-notebook_1  2>&1 | grep \"127.0.0.1):8888/\" | cut -d\"=\" -f2 | head -1); echo \"Med School Agent - http://127.0.0.1:8889/?token=$token\"`"
   ]
  },
  {
   "cell_type": "code",
   "execution_count": null,
   "metadata": {},
   "outputs": [],
   "source": []
  }
 ],
 "metadata": {
  "kernelspec": {
   "display_name": "Python 3",
   "language": "python",
   "name": "python3"
  },
  "language_info": {
   "codemirror_mode": {
    "name": "ipython",
    "version": 3
   },
   "file_extension": ".py",
   "mimetype": "text/x-python",
   "name": "python",
   "nbconvert_exporter": "python",
   "pygments_lexer": "ipython3",
   "version": "3.7.6"
  }
 },
 "nbformat": 4,
 "nbformat_minor": 1
}
