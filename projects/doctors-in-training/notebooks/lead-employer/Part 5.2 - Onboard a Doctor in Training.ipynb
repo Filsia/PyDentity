{
 "cells": [
  {
   "cell_type": "markdown",
   "metadata": {
    "collapsed": true
   },
   "source": [
    "# Onboard a Doctor in Training\n",
    "## Role: Lead Employer\n",
    "\n",
    "The lead employer is responsible for verifying GMC licences and issuing credentials needed by new doctors before they can begin specific placements. These include; dbs checks, mandatory training, occupational health and assigment credentials.\n",
    "\n",
    "## Before running through this notebook you should run through the following notebook - [Part 5.1](http://localhost:8892/notebooks/Part%205.1%20-%20Initialising%20the%20Lead%20Employer%20Agent.ipynb).\n",
    "\n",
    "## Or alternatively you can start at the beginning of the Doctors in Training flow [here](http://localhost:8889/notebooks/Part%201%20-%20Getting%20Started.ipynb).\n",
    "\n"
   ]
  },
  {
   "cell_type": "markdown",
   "metadata": {},
   "source": [
    "## 1. Initialise a controller for the Lead Employer"
   ]
  },
  {
   "cell_type": "code",
   "execution_count": 1,
   "metadata": {},
   "outputs": [
    {
     "name": "stdout",
     "output_type": "stream",
     "text": [
      "IPython autoawait is `on`, and set to use `asyncio`\n"
     ]
    }
   ],
   "source": [
    "%autoawait\n",
    "import time\n",
    "import asyncio\n",
    "from termcolor import colored,cprint\n",
    "\n",
    "from aries_basic_controller.aries_controller import AriesAgentController\n",
    "    \n",
    "WEBHOOK_HOST = \"0.0.0.0\"\n",
    "WEBHOOK_PORT = 8062\n",
    "WEBHOOK_BASE = \"\"\n",
    "ADMIN_URL = \"http://lead-employer-agent:8061\"\n",
    "\n",
    "# Based on the aca-py agent you wish to control\n",
    "agent_controller = AriesAgentController(webhook_host=WEBHOOK_HOST, webhook_port=WEBHOOK_PORT,\n",
    "                                       webhook_base=WEBHOOK_BASE, admin_url=ADMIN_URL)\n",
    "    "
   ]
  },
  {
   "cell_type": "markdown",
   "metadata": {},
   "source": [
    "## 2. Register Listeners\n",
    "\n",
    "The handler should get called every time the controller receives a webhook with the topic issue_credential, printing out the payload. The agent calls to this webhook every time it receives an issue-credential protocol message from a credential."
   ]
  },
  {
   "cell_type": "code",
   "execution_count": 2,
   "metadata": {},
   "outputs": [],
   "source": [
    "loop = asyncio.get_event_loop()\n",
    "loop.create_task(agent_controller.listen_webhooks())\n",
    "\n",
    "def cred_handler(payload):\n",
    "    print(\"Handle Credentials\")\n",
    "    exchange_id = payload['credential_exchange_id']\n",
    "    state = payload['state']\n",
    "    role = payload['role']\n",
    "    attributes = payload['credential_proposal_dict']['credential_proposal']['attributes']\n",
    "    print(f\"Credential exchange {exchange_id}, role: {role}, state: {state}\")\n",
    "    print(f\"Offering: {attributes}\")\n",
    "    \n",
    "cred_listener = {\n",
    "    \"topic\": \"issue_credential\",\n",
    "    \"handler\": cred_handler\n",
    "}\n",
    "\n",
    "def connections_handler(payload):\n",
    "    global STATE\n",
    "    connection_id = payload[\"connection_id\"]\n",
    "    print(\"Connection message\", payload, connection_id)\n",
    "    STATE = payload['state']\n",
    "    if STATE == 'active':\n",
    "#         print('Connection {0} changed state to active'.format(connection_id))\n",
    "        print(colored(\"Connection {0} changed state to active\".format(connection_id), \"red\", attrs=[\"bold\"]))\n",
    "\n",
    "\n",
    "connection_listener = {\n",
    "    \"handler\": connections_handler,\n",
    "    \"topic\": \"connections\"\n",
    "}\n",
    "\n",
    "agent_controller.register_listeners([cred_listener,connection_listener], defaults=True)\n"
   ]
  },
  {
   "cell_type": "markdown",
   "metadata": {},
   "source": [
    "## 3. Create a connection invitation to scan with the Mobile SSI Wallet\n",
    "\n",
    "To make a connection with an identity holders wallet we must create a connection invitation and present the QR code to be scanned by the identity holders wallet. The identity holder scans this QR code and then can communicate with the agent through the exposed ngrok endpoint.\n",
    "\n",
    "Once a connection is in an active state, the agent and the identity holders mobile wallet now have a secure pairwise relationship over which they can exchange verifiable credentials.\n",
    "\n",
    "You must have a ssi wallet installed on your phone and connected to the Sovrin StagingNet for this to work."
   ]
  },
  {
   "cell_type": "markdown",
   "metadata": {},
   "source": [
    "### 3.1 Generate an invitation"
   ]
  },
  {
   "cell_type": "code",
   "execution_count": 3,
   "metadata": {},
   "outputs": [
    {
     "name": "stdout",
     "output_type": "stream",
     "text": [
      "Connection message {'initiator': 'self', 'routing_state': 'none', 'invitation_mode': 'once', 'accept': 'auto', 'invitation_key': 'FzCFSz4xDuQdAo7tCoEnTEBfmmNdCo3PyHJbL8vhJoSd', 'state': 'invitation', 'connection_id': 'd186aebf-d6c2-45d7-bd8f-d0523a4d2982', 'created_at': '2020-09-22 13:45:20.793970Z', 'updated_at': '2020-09-22 13:45:20.793970Z'} d186aebf-d6c2-45d7-bd8f-d0523a4d2982\n",
      "Connection ID d186aebf-d6c2-45d7-bd8f-d0523a4d2982\n",
      "Invitation\n",
      "https://873d01d30c11.ngrok.io?c_i=eyJAdHlwZSI6ICJkaWQ6c292OkJ6Q2JzTlloTXJqSGlxWkRUVUFTSGc7c3BlYy9jb25uZWN0aW9ucy8xLjAvaW52aXRhdGlvbiIsICJAaWQiOiAiZDE3MTE5NjctMGRmNy00NGZjLWIwZmYtOGQwMTVmZjQ3ZDQ3IiwgImxhYmVsIjogIk5IUyBMZWFkIEVtcGxveWVyIiwgInNlcnZpY2VFbmRwb2ludCI6ICJodHRwczovLzg3M2QwMWQzMGMxMS5uZ3Jvay5pbyIsICJyZWNpcGllbnRLZXlzIjogWyJGekNGU3o0eER1UWRBbzd0Q29FblRFQmZtbU5kQ28zUHlISmJMOHZoSm9TZCJdfQ==\n"
     ]
    }
   ],
   "source": [
    "# Create Invitation\n",
    "invite = await agent_controller.connections.create_invitation()\n",
    "connection_id = invite[\"connection_id\"]\n",
    "print(\"Connection ID\", connection_id)\n",
    "print(\"Invitation\")\n",
    "print(invite['invitation_url'])\n",
    "inviteURL = invite['invitation_url']"
   ]
  },
  {
   "cell_type": "markdown",
   "metadata": {},
   "source": [
    "### 3.2 Display as QrCode to be Scanned by SSI Wallet"
   ]
  },
  {
   "cell_type": "code",
   "execution_count": 4,
   "metadata": {},
   "outputs": [
    {
     "data": {
      "image/png": "[encoded data removed]",
      "text/plain": [
       "<IPython.core.display.Image object>"
      ]
     },
     "execution_count": 4,
     "metadata": {
      "image/png": {
       "width": 400
      }
     },
     "output_type": "execute_result"
    },
    {
     "name": "stdout",
     "output_type": "stream",
     "text": [
      "Connection message {'initiator': 'self', 'their_did': 'HZXfdXZsEqjfPqJzyV2nVz', 'routing_state': 'none', 'invitation_mode': 'once', 'accept': 'auto', 'invitation_key': 'FzCFSz4xDuQdAo7tCoEnTEBfmmNdCo3PyHJbL8vhJoSd', 'their_label': \"Vineeth's Pixel 3\", 'state': 'request', 'connection_id': 'd186aebf-d6c2-45d7-bd8f-d0523a4d2982', 'created_at': '2020-09-22 13:45:20.793970Z', 'updated_at': '2020-09-22 13:45:33.389639Z'} d186aebf-d6c2-45d7-bd8f-d0523a4d2982\n",
      "Connection message {'initiator': 'self', 'their_did': 'HZXfdXZsEqjfPqJzyV2nVz', 'routing_state': 'none', 'invitation_mode': 'once', 'accept': 'auto', 'invitation_key': 'FzCFSz4xDuQdAo7tCoEnTEBfmmNdCo3PyHJbL8vhJoSd', 'their_label': \"Vineeth's Pixel 3\", 'state': 'response', 'connection_id': 'd186aebf-d6c2-45d7-bd8f-d0523a4d2982', 'created_at': '2020-09-22 13:45:20.793970Z', 'my_did': 'WNRfdKKf5G6K79ygqcoLWF', 'updated_at': '2020-09-22 13:45:33.677671Z'} d186aebf-d6c2-45d7-bd8f-d0523a4d2982\n"
     ]
    }
   ],
   "source": [
    "import qrcode\n",
    "# Link for connection invitation\n",
    "input_data = inviteURL\n",
    "# Creating an instance of qrcode\n",
    "qr = qrcode.QRCode(\n",
    "        version=1,\n",
    "        box_size=10,\n",
    "        border=5)\n",
    "\n",
    "qr.add_data(input_data)\n",
    "qr.make(fit=True)\n",
    "img = qr.make_image(fill='black', back_color='white')\n",
    "img.save('issuer_agent_invite_QRcode.png')\n",
    "\n",
    "from IPython.display import Image\n",
    "Image(width=400, filename='./issuer_agent_invite_QRcode.png')"
   ]
  },
  {
   "cell_type": "markdown",
   "metadata": {},
   "source": [
    "### 3.3 Check the connection is in the active state"
   ]
  },
  {
   "cell_type": "code",
   "execution_count": 5,
   "metadata": {},
   "outputs": [
    {
     "name": "stdout",
     "output_type": "stream",
     "text": [
      "\u001b[1m\u001b[35mCurrent state for ConnectionId d186aebf-d6c2-45d7-bd8f-d0523a4d2982 is response\u001b[0m\n",
      "\u001b[1m\u001b[33mConnectionId d186aebf-d6c2-45d7-bd8f-d0523a4d2982 is not in active state yet\u001b[0m\n",
      "\u001b[1m\u001b[34mTrust ping send to ConnectionId {'thread_id': 'b50d764c-a522-45c6-9e18-deeb1a67e0d1'} to activate connection\u001b[0m\n",
      "\u001b[1m\u001b[33mConnectionId d186aebf-d6c2-45d7-bd8f-d0523a4d2982 is not in active state yet\u001b[0m\n",
      "\u001b[1m\u001b[34mTrust ping send to ConnectionId {'thread_id': '0bb55c47-4ae6-4501-bd0a-a0b01791e90b'} to activate connection\u001b[0m\n",
      "\u001b[1m\u001b[33mConnectionId d186aebf-d6c2-45d7-bd8f-d0523a4d2982 is not in active state yet\u001b[0m\n",
      "Connection message {'initiator': 'self', 'their_did': 'HZXfdXZsEqjfPqJzyV2nVz', 'routing_state': 'none', 'invitation_mode': 'once', 'accept': 'auto', 'invitation_key': 'FzCFSz4xDuQdAo7tCoEnTEBfmmNdCo3PyHJbL8vhJoSd', 'their_label': \"Vineeth's Pixel 3\", 'state': 'active', 'connection_id': 'd186aebf-d6c2-45d7-bd8f-d0523a4d2982', 'created_at': '2020-09-22 13:45:20.793970Z', 'my_did': 'WNRfdKKf5G6K79ygqcoLWF', 'updated_at': '2020-09-22 13:45:45.858703Z'} d186aebf-d6c2-45d7-bd8f-d0523a4d2982\n",
      "\u001b[1m\u001b[31mConnection d186aebf-d6c2-45d7-bd8f-d0523a4d2982 changed state to active\u001b[0m\n",
      "\u001b[1m\u001b[34mTrust ping send to ConnectionId {'thread_id': 'd354f310-684d-4ff0-a893-1c2ef76271a3'} to activate connection\u001b[0m\n",
      "\u001b[1m\u001b[32mConnectionId: d186aebf-d6c2-45d7-bd8f-d0523a4d2982 is now active. Continue with notebook\u001b[0m\n"
     ]
    }
   ],
   "source": [
    "import time\n",
    "\n",
    "# print('Current state for ConnectionId {} is {}'.format(connection_id,STATE))\n",
    "print(colored(\"Current state for ConnectionId {} is {}\".format(connection_id,STATE), \"magenta\", attrs=[\"bold\"]))\n",
    "while STATE != 'active':\n",
    "#     print('ConnectionId {0} is not in active state yet'.format(connection_id))\n",
    "    print(colored(\"ConnectionId {0} is not in active state yet\".format(connection_id), \"yellow\", attrs=[\"bold\"]))\n",
    "    trust_ping = await agent_controller.messaging.trust_ping(connection_id,'hello!')\n",
    "#     print('Trust ping send to ConnectionId {0} to activate connection'.format(trust_ping))\n",
    "    print(colored(\"Trust ping send to ConnectionId {0} to activate connection\".format(trust_ping), \"blue\", attrs=[\"bold\"]))\n",
    "    time.sleep(5)\n",
    "    \n",
    "# print('ConnectionId: {0} is now active. Continue with notebook'.format(connection_id))\n",
    "print(colored(\"ConnectionId: {0} is now active. Continue with notebook\".format(connection_id), \"green\", attrs=[\"bold\"]))\n"
   ]
  },
  {
   "cell_type": "markdown",
   "metadata": {},
   "source": [
    "## 4. Request Proof Presentation"
   ]
  },
  {
   "cell_type": "markdown",
   "metadata": {},
   "source": [
    "## 5a. Generate proof request"
   ]
  },
  {
   "cell_type": "code",
   "execution_count": 6,
   "metadata": {},
   "outputs": [
    {
     "name": "stdout",
     "output_type": "stream",
     "text": [
      "Request proof of Passport information\n"
     ]
    }
   ],
   "source": [
    "print(\"Request proof of Passport information\")\n",
    "\n",
    "#Set some variables\n",
    "\n",
    "REVOCATION = False\n",
    "SELF_ATTESTED = False\n",
    "EXCHANGE_TRACING = False\n",
    "\n",
    "req_attrs = [\n",
    "    {\"name\": \"PSS Given Names\", \"restrictions\": []},\n",
    "    {\"name\": \"PSS Surname\", \"restrictions\": []},\n",
    "    {\"name\": \"PSS Sex\", \"restrictions\": []},\n",
    "    {\"name\": \"PSS Place of Birth\", \"restrictions\": []},\n",
    "    {\"name\": \"PSS Date of Birth\", \"restrictions\": []},\n",
    "]\n",
    "\n",
    "if REVOCATION:\n",
    "    req_attrs.append(\n",
    "        {\n",
    "            \"name\": \"skill\",\n",
    "            \"restrictions\": [{\"schema_id\": schema_id}],\n",
    "            \"non_revoked\": {\"to\": int(time.time() - 1)},\n",
    "        },\n",
    "    )\n",
    "\n",
    "if SELF_ATTESTED:\n",
    "    # test self-attested claims\n",
    "    req_attrs.append({\"name\": \"country\"},)\n",
    "\n",
    "#Set predicates for Zero Knowledge Proofs\n",
    "req_preds = []\n",
    "\n",
    "indy_proof_request = {\n",
    "    \"name\": \"Proof of Passport Credential\",\n",
    "    \"version\": \"1.0\",\n",
    "    \"requested_attributes\": {\n",
    "        f\"0_{req_attr['name']}_uuid\":\n",
    "        req_attr for req_attr in req_attrs\n",
    "    },\n",
    "    \"requested_predicates\": {\n",
    "        f\"0_{req_pred['name']}_GE_uuid\":\n",
    "        req_pred for req_pred in req_preds\n",
    "    },\n",
    "}\n",
    "\n",
    "if REVOCATION:\n",
    "    indy_proof_request[\"non_revoked\"] = {\"to\": int(time.time())}\n",
    "\n",
    "#proof_request = indy_proof_request\n",
    "exchange_tracing_id = EXCHANGE_TRACING\n",
    "proof_request_web_request = {\n",
    "    \"connection_id\": connection_id,\n",
    "    \"proof_request\": indy_proof_request,\n",
    "    \"trace\": EXCHANGE_TRACING,\n",
    "}"
   ]
  },
  {
   "cell_type": "markdown",
   "metadata": {},
   "source": [
    "### 5b. Send the proof request to Doctor\n",
    "\n",
    "Doctor is identified through the connection_id"
   ]
  },
  {
   "cell_type": "code",
   "execution_count": 7,
   "metadata": {},
   "outputs": [
    {
     "name": "stdout",
     "output_type": "stream",
     "text": [
      "{'initiator': 'self', 'thread_id': '7ca28fe7-c44e-4a48-9d16-89cf9e7df4ff', 'auto_present': False, 'role': 'verifier', 'trace': False, 'state': 'request_sent', 'presentation_exchange_id': '006d5c23-70a6-4490-be26-9ecff04b63c5', 'connection_id': 'd186aebf-d6c2-45d7-bd8f-d0523a4d2982', 'created_at': '2020-09-22 13:45:53.065633Z', 'presentation_request_dict': {'@type': 'did:sov:BzCbsNYhMrjHiqZDTUASHg;spec/present-proof/1.0/request-presentation', '@id': '7ca28fe7-c44e-4a48-9d16-89cf9e7df4ff', 'request_presentations~attach': [{'@id': 'libindy-request-presentation-0', 'mime-type': 'application/json', 'data': {'base64': 'eyJuYW1lIjogIlByb29mIG9mIFBhc3Nwb3J0IENyZWRlbnRpYWwiLCAidmVyc2lvbiI6ICIxLjAiLCAicmVxdWVzdGVkX2F0dHJpYnV0ZXMiOiB7IjBfUFNTIEdpdmVuIE5hbWVzX3V1aWQiOiB7Im5hbWUiOiAiUFNTIEdpdmVuIE5hbWVzIiwgInJlc3RyaWN0aW9ucyI6IFtdfSwgIjBfUFNTIFN1cm5hbWVfdXVpZCI6IHsibmFtZSI6ICJQU1MgU3VybmFtZSIsICJyZXN0cmljdGlvbnMiOiBbXX0sICIwX1BTUyBTZXhfdXVpZCI6IHsibmFtZSI6ICJQU1MgU2V4IiwgInJlc3RyaWN0aW9ucyI6IFtdfSwgIjBfUFNTIFBsYWNlIG9mIEJpcnRoX3V1aWQiOiB7Im5hbWUiOiAiUFNTIFBsYWNlIG9mIEJpcnRoIiwgInJlc3RyaWN0aW9ucyI6IFtdfSwgIjBfUFNTIERhdGUgb2YgQmlydGhfdXVpZCI6IHsibmFtZSI6ICJQU1MgRGF0ZSBvZiBCaXJ0aCIsICJyZXN0cmljdGlvbnMiOiBbXX19LCAicmVxdWVzdGVkX3ByZWRpY2F0ZXMiOiB7fSwgIm5vbmNlIjogIjEyMDg2NjMxMzcwNDY2NDgzMzUwMjM1MjIifQ=='}}]}, 'presentation_request': {'name': 'Proof of Passport Credential', 'version': '1.0', 'requested_attributes': {'0_PSS Given Names_uuid': {'name': 'PSS Given Names', 'restrictions': []}, '0_PSS Surname_uuid': {'name': 'PSS Surname', 'restrictions': []}, '0_PSS Sex_uuid': {'name': 'PSS Sex', 'restrictions': []}, '0_PSS Place of Birth_uuid': {'name': 'PSS Place of Birth', 'restrictions': []}, '0_PSS Date of Birth_uuid': {'name': 'PSS Date of Birth', 'restrictions': []}}, 'requested_predicates': {}, 'nonce': '1208663137046648335023522'}, 'updated_at': '2020-09-22 13:45:53.065633Z'}\n",
      "\n",
      "\n",
      "006d5c23-70a6-4490-be26-9ecff04b63c5\n"
     ]
    }
   ],
   "source": [
    "response = await agent_controller.proofs.send_request(proof_request_web_request)\n",
    "print(response)\n",
    "presentation_exchange_id = response['presentation_exchange_id']\n",
    "print(\"\\n\")\n",
    "print(presentation_exchange_id)\n"
   ]
  },
  {
   "cell_type": "markdown",
   "metadata": {},
   "source": [
    "## 5c. Verify proof presentation and populate credential template\n",
    "\n",
    "This is checking the signatures on the credentials presented against the credential schema and definition id stored and resolvable on the ledger. It is a bit of a big complicated object, so we show the common pattern for breaking it down, checking it's verified and accessing the data that has been presented."
   ]
  },
  {
   "cell_type": "code",
   "execution_count": 8,
   "metadata": {},
   "outputs": [
    {
     "name": "stdout",
     "output_type": "stream",
     "text": [
      "Proof request state verified?: True \n"
     ]
    }
   ],
   "source": [
    "verify = await agent_controller.proofs.verify_presentation(presentation_exchange_id)\n",
    "\n",
    "# print proof request verification status\n",
    "print('Proof request state verified?: {} '.format(verify['state'] == 'verified'))\n"
   ]
  },
  {
   "cell_type": "code",
   "execution_count": 9,
   "metadata": {},
   "outputs": [
    {
     "name": "stdout",
     "output_type": "stream",
     "text": [
      "{}\n"
     ]
    }
   ],
   "source": [
    "print(verify['presentation']['requested_proof']['self_attested_attrs'])"
   ]
  },
  {
   "cell_type": "code",
   "execution_count": 10,
   "metadata": {},
   "outputs": [
    {
     "name": "stdout",
     "output_type": "stream",
     "text": [
      "Atribute name: 0_PSS Place of Birth_uuid Value: london\n",
      "Atribute name: 0_PSS Sex_uuid Value: M\n",
      "Atribute name: 0_PSS Surname_uuid Value: Jones\n",
      "Atribute name: 0_PSS Date of Birth_uuid Value: 00\n",
      "Atribute name: 0_PSS Given Names_uuid Value: Micheal\n"
     ]
    }
   ],
   "source": [
    "# access the revealed attributes and populate credential\n",
    "credential_attributes = []\n",
    "if len(verify['presentation']['requested_proof']['revealed_attrs']) > 0:\n",
    "    for (name, val) in verify['presentation']['requested_proof']['revealed_attrs'].items():\n",
    "        ## This is the actual data that you want. It's a little hidden\n",
    "        print('Atribute name: {} Value: {}'.format(name,val['raw']))\n",
    "        credential_attributes.append({\"name\":name, \"value\": val['raw']})\n",
    "else:\n",
    "    for (name, val) in verify['presentation']['requested_proof']['self_attested_attrs'].items():\n",
    "        ## This is the actual data that you want. It's a little hidden\n",
    "        print('Atribute name: {} Value: {}'.format(name,val))\n",
    "        credential_attributes.append({\"name\":name, \"value\": val})\n",
    "    \n",
    "\n",
    "# set credential attribute field names to match credential\n",
    "credential_attributes[0]['name'] = \"given_names\"\n",
    "credential_attributes[1]['name'] = \"surname\"\n",
    "credential_attributes[2]['name'] = \"gender\"\n",
    "credential_attributes[3]['name'] = \"POB\"\n",
    "credential_attributes[4]['name'] = \"DOB\"\n",
    "\n"
   ]
  },
  {
   "cell_type": "markdown",
   "metadata": {},
   "source": [
    "### 5.1 Retrieve stored `cred_def_id` and `schema_id`s"
   ]
  },
  {
   "cell_type": "code",
   "execution_count": 11,
   "metadata": {},
   "outputs": [],
   "source": [
    "%store -r occ_health_schema_id\n",
    "%store -r occ_health_cred_def_id\n",
    "%store -r mandatory_training_schema_id\n",
    "%store -r mandatory_training_cred_def_id\n",
    "%store -r dbs_schema_id\n",
    "%store -r dbs_cred_def_id\n",
    "%store -r lead_emp_schema_id\n",
    "%store -r lead_emp_cred_def_id"
   ]
  },
  {
   "cell_type": "markdown",
   "metadata": {},
   "source": [
    "## 4 Issue a DBS Check Credential\n",
    "\n",
    "This would be after first running one of course."
   ]
  },
  {
   "cell_type": "markdown",
   "metadata": {},
   "source": [
    "### 4.1 Populate the Training Program attributes to Issue to Doctor\n",
    "\n",
    "This would typically be done through a face to face identity check.\n",
    "\n",
    "The notebook will ask you to input all the relevant fields."
   ]
  },
  {
   "cell_type": "code",
   "execution_count": 12,
   "metadata": {},
   "outputs": [],
   "source": [
    "## populate from proof request response\n",
    "forename = credential_attributes[0]['value']\n",
    "surname = credential_attributes[1]['value']\n",
    "gender = credential_attributes[2]['value']\n",
    "placeofbirth = credential_attributes[3]['value']\n",
    "dob = credential_attributes[4]['value']\n",
    "othernames = \"\""
   ]
  },
  {
   "cell_type": "code",
   "execution_count": 13,
   "metadata": {},
   "outputs": [
    {
     "name": "stdout",
     "output_type": "stream",
     "text": [
      "Please enter the level of DBS check requested: dshfasdf\n",
      "Please enter the position the check was requested for: sdfas\n",
      "Check against the Adult's list: dasf\n",
      "Check against the Children's list: dfsa\n",
      "Check against the Police Records: sdf\n",
      "Check against the Education Act: asdf\n",
      "Check against other relevant info: sadf\n",
      "Please enter the name of the employer: asdf\n",
      "Please enter the registered person/body: asdf\n",
      "Who is the countersignatory: asdf\n",
      "What is the certificate reference numbersd\n",
      "[{'name': 'DBS Surname', 'value': 'M'}, {'name': 'DBS Forename', 'value': 'london'}, {'name': 'DBS Other Names', 'value': ''}, {'name': 'DBS Date of Birth', 'value': 'Micheal'}, {'name': 'DBS Place of Birth', 'value': '00'}, {'name': 'DBS Gender', 'value': 'Jones'}, {'name': 'DBS Date of Issue', 'value': '2020-09-22'}, {'name': 'DBS Level of Check Requested', 'value': 'dshfasdf'}, {'name': 'DBS Position Check Applied For', 'value': 'sdfas'}, {'name': \"DBS Check Against Adult's List\", 'value': 'dasf'}, {'name': \"DBS Check Against Children's List\", 'value': 'dfsa'}, {'name': 'DBS Check Against Police Records', 'value': 'sdf'}, {'name': 'DBS Check Information From Section 142 Education Act 2002', 'value': 'asdf'}, {'name': 'DBS Check for Other Relevant Information', 'value': 'sadf'}, {'name': 'DBS Name of Employer', 'value': 'asdf'}, {'name': 'DBS Registered Person/Body', 'value': 'asdf'}, {'name': 'DBS Countersignatory', 'value': 'asdf'}, {'name': 'DBS Certificate Reference Number', 'value': 'sd'}]\n"
     ]
    }
   ],
   "source": [
    "from datetime import date\n",
    "\n",
    "today = str(date.today())\n",
    "dbs_level = input(\"Please enter the level of DBS check requested: \")\n",
    "position=input(\"Please enter the position the check was requested for: \")\n",
    "adult_list=input(\"Check against the Adult's list: \")\n",
    "child_list = input(\"Check against the Children's list: \")\n",
    "police=input(\"Check against the Police Records: \")\n",
    "education=input(\"Check against the Education Act: \")\n",
    "relevant_info=input(\"Check against other relevant info: \")\n",
    "\n",
    "employer=input(\"Please enter the name of the employer: \")\n",
    "registered_body = input(\"Please enter the registered person/body: \")\n",
    "countersignatory=input(\"Who is the countersignatory: \")\n",
    "cert_num = input(\"What is the certificate reference number\")\n",
    "\n",
    "credential_attributes = [\n",
    "     {\"name\": \"DBS Surname\",\"value\": surname},\n",
    "     {\"name\": \"DBS Forename\",\"value\": forename},\n",
    "     {\"name\": \"DBS Other Names\",\"value\": othernames},\n",
    "     {\"name\": \"DBS Date of Birth\",\"value\": dob},\n",
    "     {\"name\": \"DBS Place of Birth\",\"value\": placeofbirth},\n",
    "     {\"name\": \"DBS Gender\",\"value\": gender},\n",
    "     {\"name\": \"DBS Date of Issue\",\"value\": today},\n",
    "     {\"name\": \"DBS Level of Check Requested\",\"value\": dbs_level},\n",
    "     {\"name\": \"DBS Position Check Applied For\",\"value\": position},\n",
    "     {\"name\": \"DBS Check Against Adult's List\",\"value\": adult_list},\n",
    "     {\"name\": \"DBS Check Against Children's List\",\"value\": child_list},\n",
    "     {\"name\": \"DBS Check Against Police Records\",\"value\": police},\n",
    "     {\"name\": \"DBS Check Information From Section 142 Education Act 2002\",\"value\": education},\n",
    "     {\"name\": \"DBS Check for Other Relevant Information\",\"value\": relevant_info},\n",
    "     {\"name\": \"DBS Name of Employer\",\"value\": employer},\n",
    "     {\"name\": \"DBS Registered Person/Body\",\"value\": registered_body},\n",
    "     {\"name\": \"DBS Countersignatory\",\"value\": countersignatory},\n",
    "     {\"name\": \"DBS Certificate Reference Number\",\"value\": cert_num},\n",
    "\n",
    "]\n",
    "\n",
    "\n",
    "\n",
    "\n",
    "print(credential_attributes)"
   ]
  },
  {
   "cell_type": "markdown",
   "metadata": {},
   "source": [
    "## 4.2 Issue Training Program Credential\n",
    "\n",
    "This sends a credential to the doctor's mobile wallet you just connected with."
   ]
  },
  {
   "cell_type": "code",
   "execution_count": 14,
   "metadata": {},
   "outputs": [
    {
     "name": "stdout",
     "output_type": "stream",
     "text": [
      "Credential exchange e1952620-bcf4-4db7-9288-3211a8fad8b5, role: issuer, state: offer_sent\n",
      "Handle Credentials\n",
      "Credential exchange e1952620-bcf4-4db7-9288-3211a8fad8b5, role: issuer, state: offer_sent\n",
      "Offering: [{'name': 'DBS Surname', 'value': 'M'}, {'name': 'DBS Forename', 'value': 'london'}, {'name': 'DBS Other Names', 'value': ''}, {'name': 'DBS Date of Birth', 'value': 'Micheal'}, {'name': 'DBS Place of Birth', 'value': '00'}, {'name': 'DBS Gender', 'value': 'Jones'}, {'name': 'DBS Date of Issue', 'value': '2020-09-22'}, {'name': 'DBS Level of Check Requested', 'value': 'dshfasdf'}, {'name': 'DBS Position Check Applied For', 'value': 'sdfas'}, {'name': \"DBS Check Against Adult's List\", 'value': 'dasf'}, {'name': \"DBS Check Against Children's List\", 'value': 'dfsa'}, {'name': 'DBS Check Against Police Records', 'value': 'sdf'}, {'name': 'DBS Check Information From Section 142 Education Act 2002', 'value': 'asdf'}, {'name': 'DBS Check for Other Relevant Information', 'value': 'sadf'}, {'name': 'DBS Name of Employer', 'value': 'asdf'}, {'name': 'DBS Registered Person/Body', 'value': 'asdf'}, {'name': 'DBS Countersignatory', 'value': 'asdf'}, {'name': 'DBS Certificate Reference Number', 'value': 'sd'}]\n",
      "Handle Credentials\n",
      "Credential exchange e1952620-bcf4-4db7-9288-3211a8fad8b5, role: issuer, state: request_received\n",
      "Offering: [{'name': 'DBS Surname', 'value': 'M'}, {'name': 'DBS Forename', 'value': 'london'}, {'name': 'DBS Other Names', 'value': ''}, {'name': 'DBS Date of Birth', 'value': 'Micheal'}, {'name': 'DBS Place of Birth', 'value': '00'}, {'name': 'DBS Gender', 'value': 'Jones'}, {'name': 'DBS Date of Issue', 'value': '2020-09-22'}, {'name': 'DBS Level of Check Requested', 'value': 'dshfasdf'}, {'name': 'DBS Position Check Applied For', 'value': 'sdfas'}, {'name': \"DBS Check Against Adult's List\", 'value': 'dasf'}, {'name': \"DBS Check Against Children's List\", 'value': 'dfsa'}, {'name': 'DBS Check Against Police Records', 'value': 'sdf'}, {'name': 'DBS Check Information From Section 142 Education Act 2002', 'value': 'asdf'}, {'name': 'DBS Check for Other Relevant Information', 'value': 'sadf'}, {'name': 'DBS Name of Employer', 'value': 'asdf'}, {'name': 'DBS Registered Person/Body', 'value': 'asdf'}, {'name': 'DBS Countersignatory', 'value': 'asdf'}, {'name': 'DBS Certificate Reference Number', 'value': 'sd'}]\n",
      "Handle Credentials\n",
      "Credential exchange e1952620-bcf4-4db7-9288-3211a8fad8b5, role: issuer, state: credential_issued\n",
      "Offering: [{'name': 'DBS Surname', 'value': 'M'}, {'name': 'DBS Forename', 'value': 'london'}, {'name': 'DBS Other Names', 'value': ''}, {'name': 'DBS Date of Birth', 'value': 'Micheal'}, {'name': 'DBS Place of Birth', 'value': '00'}, {'name': 'DBS Gender', 'value': 'Jones'}, {'name': 'DBS Date of Issue', 'value': '2020-09-22'}, {'name': 'DBS Level of Check Requested', 'value': 'dshfasdf'}, {'name': 'DBS Position Check Applied For', 'value': 'sdfas'}, {'name': \"DBS Check Against Adult's List\", 'value': 'dasf'}, {'name': \"DBS Check Against Children's List\", 'value': 'dfsa'}, {'name': 'DBS Check Against Police Records', 'value': 'sdf'}, {'name': 'DBS Check Information From Section 142 Education Act 2002', 'value': 'asdf'}, {'name': 'DBS Check for Other Relevant Information', 'value': 'sadf'}, {'name': 'DBS Name of Employer', 'value': 'asdf'}, {'name': 'DBS Registered Person/Body', 'value': 'asdf'}, {'name': 'DBS Countersignatory', 'value': 'asdf'}, {'name': 'DBS Certificate Reference Number', 'value': 'sd'}]\n"
     ]
    }
   ],
   "source": [
    "record = await agent_controller.issuer.send_credential(connection_id, dbs_schema_id, dbs_cred_def_id, credential_attributes, trace=False)\n",
    "record_id = record['credential_exchange_id']\n",
    "state = record['state']\n",
    "role = record['role']\n",
    "print(f\"Credential exchange {record_id}, role: {role}, state: {state}\")\n"
   ]
  },
  {
   "cell_type": "markdown",
   "metadata": {},
   "source": [
    "## 5. Issue Mandatory Training Credential"
   ]
  },
  {
   "cell_type": "markdown",
   "metadata": {},
   "source": [
    "### 5.1 Populate the Mandatory Training Credential Attributes\n",
    "\n",
    "This appears to be a terribly designed schema that makes it almost unusable. Are doctors ever going to complete all this training all at once? Why not break it up into the individual segments? Is this to save costs when writing too the ledger?"
   ]
  },
  {
   "cell_type": "code",
   "execution_count": 15,
   "metadata": {},
   "outputs": [
    {
     "name": "stdout",
     "output_type": "stream",
     "text": [
      "Please enter the expiry date for all training :123\n",
      "[{'name': 'MNT Conflict Resolution Completed', 'value': 'True'}, {'name': 'MNT Conflict Resolution Expiry Date', 'value': '123'}, {'name': 'MNT Equality and Diversity Completed', 'value': 'True'}, {'name': 'MNT Equality and Diversity Expiry Date', 'value': '123'}, {'name': 'MNT Fire Safety Completed', 'value': 'True'}, {'name': 'MNT Fire Safety Expiry Date', 'value': '123'}, {'name': 'MNT Health Safety and Welfare Completed', 'value': 'True'}, {'name': 'MNT Health Safety and Welfare Expiry Date', 'value': '123'}, {'name': 'MNT Infection Prevention L1 Completed', 'value': 'True'}, {'name': 'MNT Infection Prevention L1 Expiry Date', 'value': '123'}, {'name': 'MNT Infection Prevention L2 Completed', 'value': 'True'}, {'name': 'MNT Infection Prevention L2 Expiry Date', 'value': '123'}, {'name': 'MNT Information Governance Completed', 'value': 'True'}, {'name': 'MNT Information Governance Expiry Date', 'value': '123'}, {'name': 'MNT Moving and Handling L1 Completed', 'value': 'True'}, {'name': 'MNT Moving and Handling L1 Expiry Date', 'value': '123'}, {'name': 'MNT Moving and Handling L2 Completed', 'value': 'True'}, {'name': 'MNT Moving and Handling L2 Expiry Date', 'value': '123'}, {'name': 'MNT Basic Prevent Awareness Completed', 'value': 'True'}, {'name': 'MNT Basic Prevent Awareness Expiry Date', 'value': '123'}, {'name': 'MNT Prevent Awareness Completed', 'value': 'True'}, {'name': 'MNT Prevent Awareness Expiry Date', 'value': '123'}, {'name': 'MNT Resus L1 Completed', 'value': 'True'}, {'name': 'MNT Resus L1 Expiry Date', 'value': '123'}, {'name': 'MNT Resus L2 Adult Completed', 'value': 'True'}, {'name': 'MNT Resus L2 Adult Expiry Date', 'value': '123'}, {'name': 'MNT Resus L2 Newborn Completed', 'value': 'True'}, {'name': 'MNT Resus L2 Newborn Expiry Date', 'value': '123'}, {'name': 'MNT Resus L2 Paediatric Completed', 'value': 'True'}, {'name': 'MNT Resus L2 Paediatric Expiry Date', 'value': '123'}, {'name': 'MNT Safeguarding Adults L1 Completed', 'value': 'True'}, {'name': 'MNT Safeguarding Adults L1 Expiry Date', 'value': '123'}, {'name': 'MNT Safeguarding Adults L2 Completed', 'value': 'True'}, {'name': 'MNT Safeguarding Adults L2 Expiry Date', 'value': '123'}, {'name': 'MNT Safeguarding Adults L3 Completed', 'value': 'True'}, {'name': 'MNT Safeguarding Adults L3 Expiry Date', 'value': '123'}, {'name': 'MNT Safeguarding Children L1 Completed', 'value': 'True'}, {'name': 'MNT Safeguarding Children L1 Expiry Date', 'value': '123'}, {'name': 'MNT Safeguarding Children L2 Completed', 'value': 'True'}, {'name': 'MNT Safeguarding Children L2 Expiry Date', 'value': '123'}, {'name': 'MNT Safeguarding Children L3 Completed', 'value': 'True'}, {'name': 'MNT Safeguarding Children L3 Expiry Date', 'value': '123'}, {'name': 'MNT Violence and Aggression Completed', 'value': 'True'}, {'name': 'MNT Violence and Aggression Expiry Date', 'value': '123'}]\n"
     ]
    }
   ],
   "source": [
    "expiry_date = input(\"Please enter the expiry date for all training :\")\n",
    "\n",
    "credential_attributes=[\n",
    "    {\"name\":\"MNT Conflict Resolution Completed\", \"value\": \"True\"},\n",
    "     {\"name\":\"MNT Conflict Resolution Expiry Date\", \"value\": expiry_date},\n",
    "     {\"name\":\"MNT Equality and Diversity Completed\", \"value\": \"True\"},\n",
    "     {\"name\":\"MNT Equality and Diversity Expiry Date\", \"value\": expiry_date},\n",
    "     {\"name\":\"MNT Fire Safety Completed\", \"value\": \"True\"},\n",
    "     {\"name\":\"MNT Fire Safety Expiry Date\", \"value\": expiry_date},\n",
    "     {\"name\":\"MNT Health Safety and Welfare Completed\", \"value\": \"True\"},\n",
    "     {\"name\":\"MNT Health Safety and Welfare Expiry Date\", \"value\": expiry_date},\n",
    "     {\"name\":\"MNT Infection Prevention L1 Completed\", \"value\": \"True\"},\n",
    "     {\"name\":\"MNT Infection Prevention L1 Expiry Date\", \"value\": expiry_date},\n",
    "     {\"name\":\"MNT Infection Prevention L2 Completed\", \"value\": \"True\"},\n",
    "     {\"name\":\"MNT Infection Prevention L2 Expiry Date\", \"value\": expiry_date},\n",
    "     {\"name\":\"MNT Information Governance Completed\", \"value\": \"True\"},\n",
    "     {\"name\":\"MNT Information Governance Expiry Date\", \"value\": expiry_date},\n",
    "     {\"name\":\"MNT Moving and Handling L1 Completed\", \"value\": \"True\"},\n",
    "     {\"name\":\"MNT Moving and Handling L1 Expiry Date\", \"value\": expiry_date},\n",
    "     {\"name\":\"MNT Moving and Handling L2 Completed\", \"value\": \"True\"},\n",
    "     {\"name\":\"MNT Moving and Handling L2 Expiry Date\", \"value\": expiry_date},\n",
    "     {\"name\":\"MNT Basic Prevent Awareness Completed\", \"value\": \"True\"},\n",
    "     {\"name\":\"MNT Basic Prevent Awareness Expiry Date\", \"value\": expiry_date},\n",
    "     {\"name\":\"MNT Prevent Awareness Completed\", \"value\": \"True\"},\n",
    "     {\"name\":\"MNT Prevent Awareness Expiry Date\", \"value\": expiry_date},\n",
    "     {\"name\":\"MNT Resus L1 Completed\", \"value\": \"True\"},\n",
    "     {\"name\":\"MNT Resus L1 Expiry Date\", \"value\": expiry_date},\n",
    "     {\"name\":\"MNT Resus L2 Adult Completed\", \"value\": \"True\"},\n",
    "     {\"name\":\"MNT Resus L2 Adult Expiry Date\",\"value\": expiry_date},\n",
    "     {\"name\":\"MNT Resus L2 Newborn Completed\", \"value\": \"True\"},\n",
    "     {\"name\":\"MNT Resus L2 Newborn Expiry Date\", \"value\": expiry_date},\n",
    "     {\"name\": \"MNT Resus L2 Paediatric Completed\", \"value\": \"True\"},\n",
    "     {\"name\":\"MNT Resus L2 Paediatric Expiry Date\", \"value\": expiry_date},\n",
    "     {\"name\":\"MNT Safeguarding Adults L1 Completed\", \"value\": \"True\"},\n",
    "     {\"name\":\"MNT Safeguarding Adults L1 Expiry Date\", \"value\": expiry_date},\n",
    "     {\"name\":\"MNT Safeguarding Adults L2 Completed\", \"value\": \"True\"},\n",
    "     {\"name\":\"MNT Safeguarding Adults L2 Expiry Date\", \"value\": expiry_date},\n",
    "     {\"name\":\"MNT Safeguarding Adults L3 Completed\", \"value\": \"True\"},\n",
    "     {\"name\":\"MNT Safeguarding Adults L3 Expiry Date\", \"value\": expiry_date},\n",
    "     {\"name\":\"MNT Safeguarding Children L1 Completed\", \"value\": \"True\"},\n",
    "     {\"name\":\"MNT Safeguarding Children L1 Expiry Date\", \"value\": expiry_date},\n",
    "     {\"name\":\"MNT Safeguarding Children L2 Completed\", \"value\": \"True\"},\n",
    "     {\"name\":\"MNT Safeguarding Children L2 Expiry Date\", \"value\": expiry_date},\n",
    "     {\"name\":\"MNT Safeguarding Children L3 Completed\", \"value\": \"True\"},\n",
    "     {\"name\":\"MNT Safeguarding Children L3 Expiry Date\", \"value\": expiry_date},\n",
    "     {\"name\":\"MNT Violence and Aggression Completed\", \"value\": \"True\"},\n",
    "     {\"name\":\"MNT Violence and Aggression Expiry Date\", \"value\": expiry_date}\n",
    "]\n",
    "print(credential_attributes)\n"
   ]
  },
  {
   "cell_type": "markdown",
   "metadata": {},
   "source": [
    "### 5.3 Issue the Mandatory Training Credential "
   ]
  },
  {
   "cell_type": "code",
   "execution_count": 16,
   "metadata": {},
   "outputs": [
    {
     "name": "stdout",
     "output_type": "stream",
     "text": [
      "Credential exchange ef7e9d52-ead6-46b2-b8bf-4b44f298b676, role: issuer, state: offer_sent\n",
      "Handle Credentials\n",
      "Credential exchange ef7e9d52-ead6-46b2-b8bf-4b44f298b676, role: issuer, state: offer_sent\n",
      "Offering: [{'name': 'MNT Conflict Resolution Completed', 'value': 'True'}, {'name': 'MNT Conflict Resolution Expiry Date', 'value': '123'}, {'name': 'MNT Equality and Diversity Completed', 'value': 'True'}, {'name': 'MNT Equality and Diversity Expiry Date', 'value': '123'}, {'name': 'MNT Fire Safety Completed', 'value': 'True'}, {'name': 'MNT Fire Safety Expiry Date', 'value': '123'}, {'name': 'MNT Health Safety and Welfare Completed', 'value': 'True'}, {'name': 'MNT Health Safety and Welfare Expiry Date', 'value': '123'}, {'name': 'MNT Infection Prevention L1 Completed', 'value': 'True'}, {'name': 'MNT Infection Prevention L1 Expiry Date', 'value': '123'}, {'name': 'MNT Infection Prevention L2 Completed', 'value': 'True'}, {'name': 'MNT Infection Prevention L2 Expiry Date', 'value': '123'}, {'name': 'MNT Information Governance Completed', 'value': 'True'}, {'name': 'MNT Information Governance Expiry Date', 'value': '123'}, {'name': 'MNT Moving and Handling L1 Completed', 'value': 'True'}, {'name': 'MNT Moving and Handling L1 Expiry Date', 'value': '123'}, {'name': 'MNT Moving and Handling L2 Completed', 'value': 'True'}, {'name': 'MNT Moving and Handling L2 Expiry Date', 'value': '123'}, {'name': 'MNT Basic Prevent Awareness Completed', 'value': 'True'}, {'name': 'MNT Basic Prevent Awareness Expiry Date', 'value': '123'}, {'name': 'MNT Prevent Awareness Completed', 'value': 'True'}, {'name': 'MNT Prevent Awareness Expiry Date', 'value': '123'}, {'name': 'MNT Resus L1 Completed', 'value': 'True'}, {'name': 'MNT Resus L1 Expiry Date', 'value': '123'}, {'name': 'MNT Resus L2 Adult Completed', 'value': 'True'}, {'name': 'MNT Resus L2 Adult Expiry Date', 'value': '123'}, {'name': 'MNT Resus L2 Newborn Completed', 'value': 'True'}, {'name': 'MNT Resus L2 Newborn Expiry Date', 'value': '123'}, {'name': 'MNT Resus L2 Paediatric Completed', 'value': 'True'}, {'name': 'MNT Resus L2 Paediatric Expiry Date', 'value': '123'}, {'name': 'MNT Safeguarding Adults L1 Completed', 'value': 'True'}, {'name': 'MNT Safeguarding Adults L1 Expiry Date', 'value': '123'}, {'name': 'MNT Safeguarding Adults L2 Completed', 'value': 'True'}, {'name': 'MNT Safeguarding Adults L2 Expiry Date', 'value': '123'}, {'name': 'MNT Safeguarding Adults L3 Completed', 'value': 'True'}, {'name': 'MNT Safeguarding Adults L3 Expiry Date', 'value': '123'}, {'name': 'MNT Safeguarding Children L1 Completed', 'value': 'True'}, {'name': 'MNT Safeguarding Children L1 Expiry Date', 'value': '123'}, {'name': 'MNT Safeguarding Children L2 Completed', 'value': 'True'}, {'name': 'MNT Safeguarding Children L2 Expiry Date', 'value': '123'}, {'name': 'MNT Safeguarding Children L3 Completed', 'value': 'True'}, {'name': 'MNT Safeguarding Children L3 Expiry Date', 'value': '123'}, {'name': 'MNT Violence and Aggression Completed', 'value': 'True'}, {'name': 'MNT Violence and Aggression Expiry Date', 'value': '123'}]\n"
     ]
    }
   ],
   "source": [
    "record = await agent_controller.issuer.send_credential(connection_id, mandatory_training_schema_id, mandatory_training_cred_def_id, credential_attributes, trace=False)\n",
    "record_id = record['credential_exchange_id']\n",
    "state = record['state']\n",
    "role = record['role']\n",
    "print(f\"Credential exchange {record_id}, role: {role}, state: {state}\")"
   ]
  },
  {
   "cell_type": "markdown",
   "metadata": {},
   "source": [
    "## 6. Issue Occupational Health Credential"
   ]
  },
  {
   "cell_type": "markdown",
   "metadata": {},
   "source": [
    "### 6.1 Populate the Occupational Health Attributes"
   ]
  },
  {
   "cell_type": "code",
   "execution_count": 17,
   "metadata": {},
   "outputs": [
    {
     "name": "stdout",
     "output_type": "stream",
     "text": [
      "Please enter the skin test result: 12312\n",
      "Please enter the History of Ch. Pox or Shingles: 1231\n",
      "Has the doctor ever had exposure to TB : 3123\n",
      "Has the doctor ever been treated for TB : 3213\n",
      "Please enter the result of a TB Chest X-Ray: 1231\n",
      "Does the doctor have any alergies: \n",
      "[{'name': 'OCH DTP Imm. Date', 'value': '2020-09-22'}, {'name': 'OCH DTP Serology Date', 'value': '2020-09-22'}, {'name': 'OCH Hep B Imm. Course Date', 'value': '2020-09-22'}, {'name': 'OCH Hep B Booster Date', 'value': '2020-09-22'}, {'name': 'OCH Hep B sAg Serology Date', 'value': '2020-09-22'}, {'name': 'OCH Hep B Ab Date', 'value': '2020-09-22'}, {'name': 'OCH Hepatitis C Serology Date', 'value': '2020-09-22'}, {'name': 'OCH MMR Foundation Shot 1 Date', 'value': '2020-09-22'}, {'name': 'OCH MMR Foundation Shot 2 Date', 'value': '2020-09-22'}, {'name': 'OCH Varicella Imm. Course Date', 'value': '2020-09-22'}, {'name': 'OCH Varicella Ab Date', 'value': '2020-09-22'}, {'name': 'OCH Measles Ab Date', 'value': '2020-09-22'}, {'name': 'OCH Rubella Ab Date', 'value': '2020-09-22'}, {'name': 'OCH HIV Serology Date', 'value': '2020-09-22'}, {'name': 'OCH BCG Vacc. Date', 'value': '2020-09-22'}, {'name': 'OCH TB Skin Test Result', 'value': '12312'}, {'name': 'OCH History of Ch. Pox or Shingles', 'value': '1231'}, {'name': 'OCH History of Exp. to TB (or ever investig.)', 'value': '3123'}, {'name': 'OCH Ever Treated for TB', 'value': '3213'}, {'name': 'OCH Chest X-Ray Outcome if Exp. to TB', 'value': '1231'}, {'name': 'OCH Allergies', 'value': ''}]\n"
     ]
    }
   ],
   "source": [
    "today = str(date.today())\n",
    "\n",
    "skin_test = input(\"Please enter the skin test result: \")\n",
    "pox=input(\"Please enter the History of Ch. Pox or Shingles: \")\n",
    "tb=input(\"Has the doctor ever had exposure to TB : \")\n",
    "tb_treatment=input(\"Has the doctor ever been treated for TB : \")\n",
    "\n",
    "chest = input(\"Please enter the result of a TB Chest X-Ray: \")\n",
    "allergies = input(\"Does the doctor have any alergies: \")\n",
    "\n",
    "credential_attributes = [\n",
    "     {\"name\":\"OCH DTP Imm. Date\",\"value\": today},\n",
    "     {\"name\":\"OCH DTP Serology Date\",\"value\": today},\n",
    "     {\"name\":\"OCH Hep B Imm. Course Date\",\"value\": today},\n",
    "     {\"name\":\"OCH Hep B Booster Date\",\"value\": today},\n",
    "     {\"name\":\"OCH Hep B sAg Serology Date\",\"value\": today},\n",
    "     {\"name\":\"OCH Hep B Ab Date\",\"value\": today},\n",
    "     {\"name\":\"OCH Hepatitis C Serology Date\",\"value\": today},\n",
    "     {\"name\":\"OCH MMR Foundation Shot 1 Date\",\"value\": today},\n",
    "     {\"name\":\"OCH MMR Foundation Shot 2 Date\",\"value\": today},\n",
    "     {\"name\":\"OCH Varicella Imm. Course Date\",\"value\": today},\n",
    "     {\"name\":\"OCH Varicella Ab Date\",\"value\": today},\n",
    "     {\"name\":\"OCH Measles Ab Date\",\"value\": today},\n",
    "     {\"name\":\"OCH Rubella Ab Date\",\"value\": today},\n",
    "     {\"name\":\"OCH HIV Serology Date\",\"value\": today},\n",
    "     {\"name\":\"OCH BCG Vacc. Date\",\"value\": today},\n",
    "     {\"name\":\"OCH TB Skin Test Result\",\"value\": skin_test},\n",
    "     {\"name\":\"OCH History of Ch. Pox or Shingles\",\"value\": pox},\n",
    "     {\"name\":\"OCH History of Exp. to TB (or ever investig.)\",\"value\": tb},\n",
    "     {\"name\":\"OCH Ever Treated for TB\",\"value\": tb_treatment},\n",
    "     {\"name\":\"OCH Chest X-Ray Outcome if Exp. to TB\",\"value\": chest},\n",
    "     {\"name\":\"OCH Allergies\",\"value\": allergies},\n",
    "\n",
    "]\n",
    "print(credential_attributes)"
   ]
  },
  {
   "cell_type": "markdown",
   "metadata": {},
   "source": [
    "# 6.2 Issue the Training Placement Credential"
   ]
  },
  {
   "cell_type": "code",
   "execution_count": 18,
   "metadata": {},
   "outputs": [
    {
     "name": "stdout",
     "output_type": "stream",
     "text": [
      "Credential exchange e3b6da71-ee31-4b87-a9f3-c804895a30c6, role: issuer, state: offer_sent\n",
      "Handle Credentials\n",
      "Credential exchange e3b6da71-ee31-4b87-a9f3-c804895a30c6, role: issuer, state: offer_sent\n",
      "Offering: [{'name': 'OCH DTP Imm. Date', 'value': '2020-09-22'}, {'name': 'OCH DTP Serology Date', 'value': '2020-09-22'}, {'name': 'OCH Hep B Imm. Course Date', 'value': '2020-09-22'}, {'name': 'OCH Hep B Booster Date', 'value': '2020-09-22'}, {'name': 'OCH Hep B sAg Serology Date', 'value': '2020-09-22'}, {'name': 'OCH Hep B Ab Date', 'value': '2020-09-22'}, {'name': 'OCH Hepatitis C Serology Date', 'value': '2020-09-22'}, {'name': 'OCH MMR Foundation Shot 1 Date', 'value': '2020-09-22'}, {'name': 'OCH MMR Foundation Shot 2 Date', 'value': '2020-09-22'}, {'name': 'OCH Varicella Imm. Course Date', 'value': '2020-09-22'}, {'name': 'OCH Varicella Ab Date', 'value': '2020-09-22'}, {'name': 'OCH Measles Ab Date', 'value': '2020-09-22'}, {'name': 'OCH Rubella Ab Date', 'value': '2020-09-22'}, {'name': 'OCH HIV Serology Date', 'value': '2020-09-22'}, {'name': 'OCH BCG Vacc. Date', 'value': '2020-09-22'}, {'name': 'OCH TB Skin Test Result', 'value': '12312'}, {'name': 'OCH History of Ch. Pox or Shingles', 'value': '1231'}, {'name': 'OCH History of Exp. to TB (or ever investig.)', 'value': '3123'}, {'name': 'OCH Ever Treated for TB', 'value': '3213'}, {'name': 'OCH Chest X-Ray Outcome if Exp. to TB', 'value': '1231'}, {'name': 'OCH Allergies', 'value': ''}]\n",
      "Handle Credentials\n",
      "Credential exchange e3b6da71-ee31-4b87-a9f3-c804895a30c6, role: issuer, state: request_received\n",
      "Offering: [{'name': 'OCH DTP Imm. Date', 'value': '2020-09-22'}, {'name': 'OCH DTP Serology Date', 'value': '2020-09-22'}, {'name': 'OCH Hep B Imm. Course Date', 'value': '2020-09-22'}, {'name': 'OCH Hep B Booster Date', 'value': '2020-09-22'}, {'name': 'OCH Hep B sAg Serology Date', 'value': '2020-09-22'}, {'name': 'OCH Hep B Ab Date', 'value': '2020-09-22'}, {'name': 'OCH Hepatitis C Serology Date', 'value': '2020-09-22'}, {'name': 'OCH MMR Foundation Shot 1 Date', 'value': '2020-09-22'}, {'name': 'OCH MMR Foundation Shot 2 Date', 'value': '2020-09-22'}, {'name': 'OCH Varicella Imm. Course Date', 'value': '2020-09-22'}, {'name': 'OCH Varicella Ab Date', 'value': '2020-09-22'}, {'name': 'OCH Measles Ab Date', 'value': '2020-09-22'}, {'name': 'OCH Rubella Ab Date', 'value': '2020-09-22'}, {'name': 'OCH HIV Serology Date', 'value': '2020-09-22'}, {'name': 'OCH BCG Vacc. Date', 'value': '2020-09-22'}, {'name': 'OCH TB Skin Test Result', 'value': '12312'}, {'name': 'OCH History of Ch. Pox or Shingles', 'value': '1231'}, {'name': 'OCH History of Exp. to TB (or ever investig.)', 'value': '3123'}, {'name': 'OCH Ever Treated for TB', 'value': '3213'}, {'name': 'OCH Chest X-Ray Outcome if Exp. to TB', 'value': '1231'}, {'name': 'OCH Allergies', 'value': ''}]\n",
      "Handle Credentials\n",
      "Credential exchange e3b6da71-ee31-4b87-a9f3-c804895a30c6, role: issuer, state: credential_issued\n",
      "Offering: [{'name': 'OCH DTP Imm. Date', 'value': '2020-09-22'}, {'name': 'OCH DTP Serology Date', 'value': '2020-09-22'}, {'name': 'OCH Hep B Imm. Course Date', 'value': '2020-09-22'}, {'name': 'OCH Hep B Booster Date', 'value': '2020-09-22'}, {'name': 'OCH Hep B sAg Serology Date', 'value': '2020-09-22'}, {'name': 'OCH Hep B Ab Date', 'value': '2020-09-22'}, {'name': 'OCH Hepatitis C Serology Date', 'value': '2020-09-22'}, {'name': 'OCH MMR Foundation Shot 1 Date', 'value': '2020-09-22'}, {'name': 'OCH MMR Foundation Shot 2 Date', 'value': '2020-09-22'}, {'name': 'OCH Varicella Imm. Course Date', 'value': '2020-09-22'}, {'name': 'OCH Varicella Ab Date', 'value': '2020-09-22'}, {'name': 'OCH Measles Ab Date', 'value': '2020-09-22'}, {'name': 'OCH Rubella Ab Date', 'value': '2020-09-22'}, {'name': 'OCH HIV Serology Date', 'value': '2020-09-22'}, {'name': 'OCH BCG Vacc. Date', 'value': '2020-09-22'}, {'name': 'OCH TB Skin Test Result', 'value': '12312'}, {'name': 'OCH History of Ch. Pox or Shingles', 'value': '1231'}, {'name': 'OCH History of Exp. to TB (or ever investig.)', 'value': '3123'}, {'name': 'OCH Ever Treated for TB', 'value': '3213'}, {'name': 'OCH Chest X-Ray Outcome if Exp. to TB', 'value': '1231'}, {'name': 'OCH Allergies', 'value': ''}]\n"
     ]
    }
   ],
   "source": [
    "record = await agent_controller.issuer.send_credential(connection_id, occ_health_schema_id, occ_health_cred_def_id, credential_attributes, trace=False)\n",
    "record_id = record['credential_exchange_id']\n",
    "state = record['state']\n",
    "role = record['role']\n",
    "print(f\"Credential exchange {record_id}, role: {role}, state: {state}\")"
   ]
  },
  {
   "cell_type": "markdown",
   "metadata": {},
   "source": [
    "## 7. Issue the Doctor an Assignment Credential"
   ]
  },
  {
   "cell_type": "markdown",
   "metadata": {},
   "source": [
    "## 7.1 Populate the Assigment attributes"
   ]
  },
  {
   "cell_type": "code",
   "execution_count": 19,
   "metadata": {},
   "outputs": [
    {
     "name": "stdout",
     "output_type": "stream",
     "text": [
      "Enter the employing organisation for this assignment: dfkasjfka\n",
      "Enter the employing organisation ODS Code:asdfa\n",
      "Enter the assignment job title: dfasf\n",
      "Enter the assignment start date:dfasdfas\n",
      "Enter the assignment end date143231\n",
      "Enter the department:dfasf\n",
      "Enter the staff group:sdad\n",
      "Enter the job role:asdfa\n",
      "Enter the assignment Pay Band:asdfa\n",
      "Enter the area of work:adfa\n",
      "Enter the Occupation Code:asdfa\n",
      "Enter the smartcard numberadfas\n",
      "[{'name': 'LEA Employing Org', 'value': 'dfkasjfka'}, {'name': 'LEA Employing Org ODS Code', 'value': 'asdfa'}, {'name': 'LEA Job Title', 'value': 'dfasf'}, {'name': 'LEA Start Date', 'value': 'dfasdfas'}, {'name': 'LEA Fixed Term Contract End Date', 'value': '2020-09-22'}, {'name': 'LEA Department', 'value': 'dfasf'}, {'name': 'LEA Staff Group', 'value': 'sdad'}, {'name': 'LEA Job Role', 'value': 'asdfa'}, {'name': 'LEA Pay Band Afc', 'value': 'asdfa'}, {'name': 'LEA Area Of Work', 'value': 'adfa'}, {'name': 'LEA Occupation Code', 'value': 'asdfa'}, {'name': 'LEA Smartcard Number', 'value': 'adfas'}]\n"
     ]
    }
   ],
   "source": [
    "emp_org = input(\"Enter the employing organisation for this assignment: \")\n",
    "ods_code = input(\"Enter the employing organisation ODS Code:\")\n",
    "job_title = input(\"Enter the assignment job title: \")\n",
    "start = input(\"Enter the assignment start date:\")\n",
    "end_date = input(\"Enter the assignment end date\")\n",
    "department = input(\"Enter the department:\")\n",
    "staff_group = input(\"Enter the staff group:\")\n",
    "role = input(\"Enter the job role:\")\n",
    "pay_band = input(\"Enter the assignment Pay Band:\")\n",
    "area = input(\"Enter the area of work:\")\n",
    "occ_code = input(\"Enter the Occupation Code:\")\n",
    "smartcard = input(\"Enter the smartcard number\")\n",
    "\n",
    "credential_attributes = [\n",
    "     {\"name\":\"LEA Employing Org\",\"value\": emp_org},\n",
    "     {\"name\":\"LEA Employing Org ODS Code\",\"value\": ods_code},\n",
    "     {\"name\":\"LEA Job Title\",\"value\": job_title},\n",
    "     {\"name\":\"LEA Start Date\",\"value\": start},\n",
    "     {\"name\":\"LEA Fixed Term Contract End Date\",\"value\": today},\n",
    "     {\"name\":\"LEA Department\",\"value\": department},\n",
    "     {\"name\":\"LEA Staff Group\",\"value\": staff_group},\n",
    "     {\"name\":\"LEA Job Role\",\"value\": role},\n",
    "     {\"name\":\"LEA Pay Band Afc\",\"value\": pay_band},\n",
    "     {\"name\":\"LEA Area Of Work\",\"value\": area},\n",
    "     {\"name\":\"LEA Occupation Code\",\"value\": occ_code},\n",
    "     {\"name\":\"LEA Smartcard Number\",\"value\": smartcard},\n",
    "]\n",
    "\n",
    "print(credential_attributes)"
   ]
  },
  {
   "cell_type": "markdown",
   "metadata": {},
   "source": [
    "## 7.3 Issue the Lead Employer Assignment Credential"
   ]
  },
  {
   "cell_type": "code",
   "execution_count": 20,
   "metadata": {},
   "outputs": [
    {
     "name": "stdout",
     "output_type": "stream",
     "text": [
      "Credential exchange 2c17e576-5b14-4480-8fa3-bb1de89b60c9, role: issuer, state: offer_sent\n",
      "Handle Credentials\n",
      "Credential exchange 2c17e576-5b14-4480-8fa3-bb1de89b60c9, role: issuer, state: offer_sent\n",
      "Offering: [{'name': 'LEA Employing Org', 'value': 'dfkasjfka'}, {'name': 'LEA Employing Org ODS Code', 'value': 'asdfa'}, {'name': 'LEA Job Title', 'value': 'dfasf'}, {'name': 'LEA Start Date', 'value': 'dfasdfas'}, {'name': 'LEA Fixed Term Contract End Date', 'value': '2020-09-22'}, {'name': 'LEA Department', 'value': 'dfasf'}, {'name': 'LEA Staff Group', 'value': 'sdad'}, {'name': 'LEA Job Role', 'value': 'asdfa'}, {'name': 'LEA Pay Band Afc', 'value': 'asdfa'}, {'name': 'LEA Area Of Work', 'value': 'adfa'}, {'name': 'LEA Occupation Code', 'value': 'asdfa'}, {'name': 'LEA Smartcard Number', 'value': 'adfas'}]\n",
      "Handle Credentials\n",
      "Credential exchange 2c17e576-5b14-4480-8fa3-bb1de89b60c9, role: issuer, state: request_received\n",
      "Offering: [{'name': 'LEA Employing Org', 'value': 'dfkasjfka'}, {'name': 'LEA Employing Org ODS Code', 'value': 'asdfa'}, {'name': 'LEA Job Title', 'value': 'dfasf'}, {'name': 'LEA Start Date', 'value': 'dfasdfas'}, {'name': 'LEA Fixed Term Contract End Date', 'value': '2020-09-22'}, {'name': 'LEA Department', 'value': 'dfasf'}, {'name': 'LEA Staff Group', 'value': 'sdad'}, {'name': 'LEA Job Role', 'value': 'asdfa'}, {'name': 'LEA Pay Band Afc', 'value': 'asdfa'}, {'name': 'LEA Area Of Work', 'value': 'adfa'}, {'name': 'LEA Occupation Code', 'value': 'asdfa'}, {'name': 'LEA Smartcard Number', 'value': 'adfas'}]\n",
      "Handle Credentials\n",
      "Credential exchange 2c17e576-5b14-4480-8fa3-bb1de89b60c9, role: issuer, state: credential_issued\n",
      "Offering: [{'name': 'LEA Employing Org', 'value': 'dfkasjfka'}, {'name': 'LEA Employing Org ODS Code', 'value': 'asdfa'}, {'name': 'LEA Job Title', 'value': 'dfasf'}, {'name': 'LEA Start Date', 'value': 'dfasdfas'}, {'name': 'LEA Fixed Term Contract End Date', 'value': '2020-09-22'}, {'name': 'LEA Department', 'value': 'dfasf'}, {'name': 'LEA Staff Group', 'value': 'sdad'}, {'name': 'LEA Job Role', 'value': 'asdfa'}, {'name': 'LEA Pay Band Afc', 'value': 'asdfa'}, {'name': 'LEA Area Of Work', 'value': 'adfa'}, {'name': 'LEA Occupation Code', 'value': 'asdfa'}, {'name': 'LEA Smartcard Number', 'value': 'adfas'}]\n"
     ]
    }
   ],
   "source": [
    "record = await agent_controller.issuer.send_credential(connection_id, lead_emp_schema_id, lead_emp_cred_def_id, credential_attributes, trace=False)\n",
    "record_id = record['credential_exchange_id']\n",
    "state = record['state']\n",
    "role = record['role']\n",
    "print(f\"Credential exchange {record_id}, role: {role}, state: {state}\")"
   ]
  },
  {
   "cell_type": "markdown",
   "metadata": {},
   "source": [
    "## 7. End of Tutorial\n",
    "\n",
    "Be sure to terminate the controller so you can run another tutorial."
   ]
  },
  {
   "cell_type": "code",
   "execution_count": 77,
   "metadata": {},
   "outputs": [
    {
     "name": "stdout",
     "output_type": "stream",
     "text": [
      "None\n"
     ]
    }
   ],
   "source": [
    "response = await agent_controller.terminate()\n",
    "print(response)"
   ]
  },
  {
   "cell_type": "markdown",
   "metadata": {},
   "source": [
    "# You can now proceed to interact with the [Host Employer](http://127.0.0.1:8892)\n"
   ]
  }
 ],
 "metadata": {
  "kernelspec": {
   "display_name": "Python 3",
   "language": "python",
   "name": "python3"
  },
  "language_info": {
   "codemirror_mode": {
    "name": "ipython",
    "version": 3
   },
   "file_extension": ".py",
   "mimetype": "text/x-python",
   "name": "python",
   "nbconvert_exporter": "python",
   "pygments_lexer": "ipython3",
   "version": "3.7.6"
  }
 },
 "nbformat": 4,
 "nbformat_minor": 1
}
