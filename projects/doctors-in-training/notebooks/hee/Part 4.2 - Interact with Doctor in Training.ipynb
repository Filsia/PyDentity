{
 "cells": [
  {
   "cell_type": "markdown",
   "metadata": {
    "collapsed": true
   },
   "source": [
    "# Interact with Doctor in Training\n",
    "## Role: Health Education England\n",
    "\n",
    "## Before running through this notebook you should run through the following notebook - [Part 4.1](http://localhost:8891/notebooks/Part%204.1%20-%20Initialising%20the%20HEE%20Agent.ipynb).\n",
    "\n",
    "## Or alternatively you can start at the beginning of the Doctors in Training flow [here](http://localhost:8889/notebooks/Part%201%20-%20Getting%20Started.ipynb).\n",
    "\n"
   ]
  },
  {
   "cell_type": "markdown",
   "metadata": {},
   "source": [
    "## 1. Initialise a controller for Health Education England"
   ]
  },
  {
   "cell_type": "code",
   "execution_count": 18,
   "metadata": {},
   "outputs": [
    {
     "name": "stdout",
     "output_type": "stream",
     "text": [
      "IPython autoawait is `on`, and set to use `asyncio`\n"
     ]
    }
   ],
   "source": [
    "%autoawait\n",
    "import time\n",
    "import asyncio\n",
    "from termcolor import colored,cprint\n",
    "\n",
    "from aries_basic_controller.aries_controller import AriesAgentController\n",
    "    \n",
    "WEBHOOK_HOST = \"0.0.0.0\"\n",
    "WEBHOOK_PORT = 8042\n",
    "WEBHOOK_BASE = \"\"\n",
    "ADMIN_URL = \"http://hee-agent:8041\"\n",
    "\n",
    "# Based on the aca-py agent you wish to control\n",
    "agent_controller = AriesAgentController(webhook_host=WEBHOOK_HOST, webhook_port=WEBHOOK_PORT,\n",
    "                                       webhook_base=WEBHOOK_BASE, admin_url=ADMIN_URL)\n",
    "    "
   ]
  },
  {
   "cell_type": "markdown",
   "metadata": {},
   "source": [
    "## 2. Register Listeners\n",
    "\n",
    "The handler should get called every time the controller receives a webhook with the topic issue_credential, printing out the payload. The agent calls to this webhook every time it receives an issue-credential protocol message from a credential."
   ]
  },
  {
   "cell_type": "code",
   "execution_count": 19,
   "metadata": {},
   "outputs": [],
   "source": [
    "loop = asyncio.get_event_loop()\n",
    "loop.create_task(agent_controller.listen_webhooks())\n",
    "\n",
    "def cred_handler(payload):\n",
    "    print(\"Handle Credentials\")\n",
    "    exchange_id = payload['credential_exchange_id']\n",
    "    state = payload['state']\n",
    "    role = payload['role']\n",
    "    attributes = payload['credential_proposal_dict']['credential_proposal']['attributes']\n",
    "    print(f\"Credential exchange {exchange_id}, role: {role}, state: {state}\")\n",
    "    print(f\"Offering: {attributes}\")\n",
    "    \n",
    "cred_listener = {\n",
    "    \"topic\": \"issue_credential\",\n",
    "    \"handler\": cred_handler\n",
    "}\n",
    "\n",
    "def connections_handler(payload):\n",
    "    global STATE\n",
    "    connection_id = payload[\"connection_id\"]\n",
    "    print(\"Connection message\", payload, connection_id)\n",
    "    STATE = payload['state']\n",
    "    if STATE == 'active':\n",
    "#         print('Connection {0} changed state to active'.format(connection_id))\n",
    "        print(colored(\"Connection {0} changed state to active\".format(connection_id), \"red\", attrs=[\"bold\"]))\n",
    "\n",
    "\n",
    "connection_listener = {\n",
    "    \"handler\": connections_handler,\n",
    "    \"topic\": \"connections\"\n",
    "}\n",
    "\n",
    "agent_controller.register_listeners([cred_listener,connection_listener], defaults=True)\n"
   ]
  },
  {
   "cell_type": "markdown",
   "metadata": {},
   "source": [
    "## 3. Create a connection invitation to scan with the Mobile SSI Wallet\n",
    "\n",
    "To make a connection with an identity holders wallet we must create a connection invitation and present the QR code to be scanned by the identity holders wallet. The identity holder scans this QR code and then can communicate with the agent through the exposed ngrok endpoint.\n",
    "\n",
    "Once a connection is in an active state, the agent and the identity holders mobile wallet now have a secure pairwise relationship over which they can exchange verifiable credentials.\n",
    "\n",
    "You must have a ssi wallet installed on your phone and connected to the Sovrin StagingNet for this to work."
   ]
  },
  {
   "cell_type": "markdown",
   "metadata": {},
   "source": [
    "### 3.1 Generate an invitation"
   ]
  },
  {
   "cell_type": "code",
   "execution_count": 20,
   "metadata": {},
   "outputs": [
    {
     "name": "stdout",
     "output_type": "stream",
     "text": [
      "Connection message {'created_at': '2020-09-22 13:41:03.313296Z', 'connection_id': '4667d75b-540f-4618-a59b-3db7358fd023', 'routing_state': 'none', 'initiator': 'self', 'invitation_key': 'A8WnaUXB3V5TtJ1gmWQqyEpH1mXjuv3uxoXVJFWjrdEq', 'state': 'invitation', 'accept': 'auto', 'invitation_mode': 'once', 'updated_at': '2020-09-22 13:41:03.313296Z'} 4667d75b-540f-4618-a59b-3db7358fd023\n",
      "Connection ID 4667d75b-540f-4618-a59b-3db7358fd023\n",
      "Invitation\n",
      "https://8c6f64f47aa4.ngrok.io?c_i=eyJAdHlwZSI6ICJkaWQ6c292OkJ6Q2JzTlloTXJqSGlxWkRUVUFTSGc7c3BlYy9jb25uZWN0aW9ucy8xLjAvaW52aXRhdGlvbiIsICJAaWQiOiAiNDMyNzk1ZjYtMmRhZi00ZjllLTljNWItN2E4MDVjZGM0NmJjIiwgInNlcnZpY2VFbmRwb2ludCI6ICJodHRwczovLzhjNmY2NGY0N2FhNC5uZ3Jvay5pbyIsICJyZWNpcGllbnRLZXlzIjogWyJBOFduYVVYQjNWNVR0SjFnbVdRcXlFcEgxbVhqdXYzdXhvWFZKRldqcmRFcSJdLCAibGFiZWwiOiAiSGVhbHRoIEVkdWNhdGlvbiBFbmdsYW5kIn0=\n"
     ]
    }
   ],
   "source": [
    "# Create Invitation\n",
    "invite = await agent_controller.connections.create_invitation()\n",
    "connection_id = invite[\"connection_id\"]\n",
    "print(\"Connection ID\", connection_id)\n",
    "print(\"Invitation\")\n",
    "print(invite['invitation_url'])\n",
    "inviteURL = invite['invitation_url']"
   ]
  },
  {
   "cell_type": "markdown",
   "metadata": {},
   "source": [
    "### 3.2 Display as QrCode to be Scanned by SSI Wallet"
   ]
  },
  {
   "cell_type": "code",
   "execution_count": 21,
   "metadata": {},
   "outputs": [
    {
     "data": {
      "image/png": "[encoded data removed]",
      "text/plain": [
       "<IPython.core.display.Image object>"
      ]
     },
     "execution_count": 21,
     "metadata": {
      "image/png": {
       "width": 400
      }
     },
     "output_type": "execute_result"
    },
    {
     "name": "stdout",
     "output_type": "stream",
     "text": [
      "Connection message {'their_label': \"Vineeth's Pixel 3\", 'created_at': '2020-09-22 13:41:03.313296Z', 'their_did': 'U32dyhPNPoyLyEv7WYpJhw', 'connection_id': '4667d75b-540f-4618-a59b-3db7358fd023', 'routing_state': 'none', 'initiator': 'self', 'invitation_key': 'A8WnaUXB3V5TtJ1gmWQqyEpH1mXjuv3uxoXVJFWjrdEq', 'state': 'request', 'accept': 'auto', 'invitation_mode': 'once', 'updated_at': '2020-09-22 13:41:34.080922Z'} 4667d75b-540f-4618-a59b-3db7358fd023\n",
      "Connection message {'their_label': \"Vineeth's Pixel 3\", 'created_at': '2020-09-22 13:41:03.313296Z', 'their_did': 'U32dyhPNPoyLyEv7WYpJhw', 'connection_id': '4667d75b-540f-4618-a59b-3db7358fd023', 'my_did': 'VQHujUb2K74UizvbYjfXyx', 'routing_state': 'none', 'initiator': 'self', 'invitation_key': 'A8WnaUXB3V5TtJ1gmWQqyEpH1mXjuv3uxoXVJFWjrdEq', 'state': 'response', 'accept': 'auto', 'invitation_mode': 'once', 'updated_at': '2020-09-22 13:41:34.275682Z'} 4667d75b-540f-4618-a59b-3db7358fd023\n"
     ]
    }
   ],
   "source": [
    "import qrcode\n",
    "# Link for connection invitation\n",
    "input_data = inviteURL\n",
    "# Creating an instance of qrcode\n",
    "qr = qrcode.QRCode(\n",
    "        version=1,\n",
    "        box_size=10,\n",
    "        border=5)\n",
    "\n",
    "qr.add_data(input_data)\n",
    "qr.make(fit=True)\n",
    "img = qr.make_image(fill='black', back_color='white')\n",
    "img.save('issuer_agent_invite_QRcode.png')\n",
    "\n",
    "from IPython.display import Image\n",
    "Image(width=400, filename='./issuer_agent_invite_QRcode.png')"
   ]
  },
  {
   "cell_type": "markdown",
   "metadata": {},
   "source": [
    "### 3.3 Check the connection is in the active state"
   ]
  },
  {
   "cell_type": "code",
   "execution_count": 22,
   "metadata": {},
   "outputs": [
    {
     "name": "stdout",
     "output_type": "stream",
     "text": [
      "\u001b[1m\u001b[35mCurrent state for ConnectionId 4667d75b-540f-4618-a59b-3db7358fd023 is response\u001b[0m\n",
      "\u001b[1m\u001b[33mConnectionId 4667d75b-540f-4618-a59b-3db7358fd023 is not in active state yet\u001b[0m\n",
      "\u001b[1m\u001b[34mTrust ping send to ConnectionId {'thread_id': '36866c1d-d605-49fd-b96e-c2fc46dae284'} to activate connection\u001b[0m\n",
      "\u001b[1m\u001b[33mConnectionId 4667d75b-540f-4618-a59b-3db7358fd023 is not in active state yet\u001b[0m\n",
      "\u001b[1m\u001b[34mTrust ping send to ConnectionId {'thread_id': '54fd0e9c-9f12-408c-9a25-f1d11b58eff4'} to activate connection\u001b[0m\n",
      "\u001b[1m\u001b[33mConnectionId 4667d75b-540f-4618-a59b-3db7358fd023 is not in active state yet\u001b[0m\n",
      "Connection message {'their_label': \"Vineeth's Pixel 3\", 'created_at': '2020-09-22 13:41:03.313296Z', 'their_did': 'U32dyhPNPoyLyEv7WYpJhw', 'connection_id': '4667d75b-540f-4618-a59b-3db7358fd023', 'my_did': 'VQHujUb2K74UizvbYjfXyx', 'routing_state': 'none', 'initiator': 'self', 'invitation_key': 'A8WnaUXB3V5TtJ1gmWQqyEpH1mXjuv3uxoXVJFWjrdEq', 'state': 'active', 'accept': 'auto', 'invitation_mode': 'once', 'updated_at': '2020-09-22 13:41:42.881891Z'} 4667d75b-540f-4618-a59b-3db7358fd023\n",
      "\u001b[1m\u001b[31mConnection 4667d75b-540f-4618-a59b-3db7358fd023 changed state to active\u001b[0m\n",
      "\u001b[1m\u001b[34mTrust ping send to ConnectionId {'thread_id': '80afe5a4-e38e-4d5f-bf22-8acd40e46717'} to activate connection\u001b[0m\n",
      "\u001b[1m\u001b[32mConnectionId: 4667d75b-540f-4618-a59b-3db7358fd023 is now active. Continue with notebook\u001b[0m\n"
     ]
    }
   ],
   "source": [
    "import time\n",
    "\n",
    "# print('Current state for ConnectionId {} is {}'.format(connection_id,STATE))\n",
    "print(colored(\"Current state for ConnectionId {} is {}\".format(connection_id,STATE), \"magenta\", attrs=[\"bold\"]))\n",
    "while STATE != 'active':\n",
    "#     print('ConnectionId {0} is not in active state yet'.format(connection_id))\n",
    "    print(colored(\"ConnectionId {0} is not in active state yet\".format(connection_id), \"yellow\", attrs=[\"bold\"]))\n",
    "    trust_ping = await agent_controller.messaging.trust_ping(connection_id,'hello!')\n",
    "#     print('Trust ping send to ConnectionId {0} to activate connection'.format(trust_ping))\n",
    "    print(colored(\"Trust ping send to ConnectionId {0} to activate connection\".format(trust_ping), \"blue\", attrs=[\"bold\"]))\n",
    "    time.sleep(5)\n",
    "    \n",
    "# print('ConnectionId: {0} is now active. Continue with notebook'.format(connection_id))\n",
    "print(colored(\"ConnectionId: {0} is now active. Continue with notebook\".format(connection_id), \"green\", attrs=[\"bold\"]))\n"
   ]
  },
  {
   "cell_type": "markdown",
   "metadata": {},
   "source": [
    "## 4. Request Passport Details Presentation"
   ]
  },
  {
   "cell_type": "markdown",
   "metadata": {},
   "source": [
    "## 4a. Generate proof request"
   ]
  },
  {
   "cell_type": "code",
   "execution_count": 23,
   "metadata": {},
   "outputs": [
    {
     "name": "stdout",
     "output_type": "stream",
     "text": [
      "Request proof of Passport information\n"
     ]
    }
   ],
   "source": [
    "print(\"Request proof of Passport information\")\n",
    "\n",
    "#Set some variables\n",
    "\n",
    "REVOCATION = False\n",
    "SELF_ATTESTED = False\n",
    "EXCHANGE_TRACING = False\n",
    "\n",
    "req_attrs = [\n",
    "    {\"name\": \"PSS Given Names\", \"restrictions\": []},\n",
    "    {\"name\": \"PSS Surname\", \"restrictions\": []},\n",
    "]\n",
    "\n",
    "if REVOCATION:\n",
    "    req_attrs.append(\n",
    "        {\n",
    "            \"name\": \"skill\",\n",
    "            \"restrictions\": [{\"schema_id\": schema_id}],\n",
    "            \"non_revoked\": {\"to\": int(time.time() - 1)},\n",
    "        },\n",
    "    )\n",
    "\n",
    "if SELF_ATTESTED:\n",
    "    # test self-attested claims\n",
    "    req_attrs.append({\"name\": \"country\"},)\n",
    "\n",
    "#Set predicates for Zero Knowledge Proofs\n",
    "req_preds = []\n",
    "\n",
    "indy_proof_request = {\n",
    "    \"name\": \"Proof of Passport Credential\",\n",
    "    \"version\": \"1.0\",\n",
    "    \"requested_attributes\": {\n",
    "        f\"0_{req_attr['name']}_uuid\":\n",
    "        req_attr for req_attr in req_attrs\n",
    "    },\n",
    "    \"requested_predicates\": {\n",
    "        f\"0_{req_pred['name']}_GE_uuid\":\n",
    "        req_pred for req_pred in req_preds\n",
    "    },\n",
    "}\n",
    "\n",
    "if REVOCATION:\n",
    "    indy_proof_request[\"non_revoked\"] = {\"to\": int(time.time())}\n",
    "\n",
    "#proof_request = indy_proof_request\n",
    "exchange_tracing_id = EXCHANGE_TRACING\n",
    "proof_request_web_request = {\n",
    "    \"connection_id\": connection_id,\n",
    "    \"proof_request\": indy_proof_request,\n",
    "    \"trace\": EXCHANGE_TRACING,\n",
    "}"
   ]
  },
  {
   "cell_type": "markdown",
   "metadata": {},
   "source": [
    "### 4b. Send the proof request to Doctor\n",
    "\n",
    "Doctor is identified through the connection_id"
   ]
  },
  {
   "cell_type": "code",
   "execution_count": 24,
   "metadata": {},
   "outputs": [
    {
     "name": "stdout",
     "output_type": "stream",
     "text": [
      "{'created_at': '2020-09-22 13:41:51.930252Z', 'presentation_request_dict': {'@type': 'did:sov:BzCbsNYhMrjHiqZDTUASHg;spec/present-proof/1.0/request-presentation', '@id': 'b14d8947-cdbf-40b6-8406-5df996419437', 'request_presentations~attach': [{'@id': 'libindy-request-presentation-0', 'mime-type': 'application/json', 'data': {'base64': 'eyJuYW1lIjogIlByb29mIG9mIFBhc3Nwb3J0IENyZWRlbnRpYWwiLCAidmVyc2lvbiI6ICIxLjAiLCAicmVxdWVzdGVkX2F0dHJpYnV0ZXMiOiB7IjBfUFNTIEdpdmVuIE5hbWVzX3V1aWQiOiB7Im5hbWUiOiAiUFNTIEdpdmVuIE5hbWVzIiwgInJlc3RyaWN0aW9ucyI6IFtdfSwgIjBfUFNTIFN1cm5hbWVfdXVpZCI6IHsibmFtZSI6ICJQU1MgU3VybmFtZSIsICJyZXN0cmljdGlvbnMiOiBbXX19LCAicmVxdWVzdGVkX3ByZWRpY2F0ZXMiOiB7fSwgIm5vbmNlIjogIjExNzg1Njk0ODk1NTExNjgwNzg0MzAyMDUifQ=='}}]}, 'auto_present': False, 'role': 'verifier', 'connection_id': '4667d75b-540f-4618-a59b-3db7358fd023', 'thread_id': 'b14d8947-cdbf-40b6-8406-5df996419437', 'initiator': 'self', 'state': 'request_sent', 'presentation_exchange_id': '0418e2c3-2d2a-4b09-95ee-b99c3e52bc7e', 'presentation_request': {'name': 'Proof of Passport Credential', 'version': '1.0', 'requested_attributes': {'0_PSS Given Names_uuid': {'name': 'PSS Given Names', 'restrictions': []}, '0_PSS Surname_uuid': {'name': 'PSS Surname', 'restrictions': []}}, 'requested_predicates': {}, 'nonce': '1178569489551168078430205'}, 'updated_at': '2020-09-22 13:41:51.930252Z', 'trace': False}\n",
      "\n",
      "\n",
      "0418e2c3-2d2a-4b09-95ee-b99c3e52bc7e\n"
     ]
    }
   ],
   "source": [
    "response = await agent_controller.proofs.send_request(proof_request_web_request)\n",
    "print(response)\n",
    "presentation_exchange_id = response['presentation_exchange_id']\n",
    "print(\"\\n\")\n",
    "print(presentation_exchange_id)"
   ]
  },
  {
   "cell_type": "markdown",
   "metadata": {},
   "source": [
    "## 4c. Verify proof presentation and populate credential template\n",
    "\n",
    "This is checking the signatures on the credentials presented against the credential schema and definition id stored and resolvable on the ledger. It is a bit of a big complicated object, so we show the common pattern for breaking it down, checking it's verified and accessing the data that has been presented."
   ]
  },
  {
   "cell_type": "code",
   "execution_count": 26,
   "metadata": {},
   "outputs": [
    {
     "name": "stdout",
     "output_type": "stream",
     "text": [
      "Proof request state verified?: True \n"
     ]
    }
   ],
   "source": [
    "verify = await agent_controller.proofs.verify_presentation(presentation_exchange_id)\n",
    "\n",
    "# print proof request verification status\n",
    "print('Proof request state verified?: {} '.format(verify['state'] == 'verified'))\n"
   ]
  },
  {
   "cell_type": "code",
   "execution_count": 27,
   "metadata": {},
   "outputs": [
    {
     "name": "stdout",
     "output_type": "stream",
     "text": [
      "Atribute name: Given Names Value: Micheal\n",
      "Atribute name: Surname Value: Jones\n"
     ]
    }
   ],
   "source": [
    "# access the revealed attributes and populate credential\n",
    "credential_attributes = []\n",
    "for (name, val) in verify['presentation']['requested_proof']['revealed_attrs'].items():\n",
    "    ## This is the actual data that you want. It's a little hidden\n",
    "    print('Atribute name: {} Value: {}'.format(name[6:-5],val['raw']))\n",
    "    credential_attributes.append({\"name\":name[6:-5], \"value\": val['raw']})\n",
    "    \n",
    "# set credential attribute field names to match credential\n",
    "credential_attributes[0]['name'] = \"RTW Given Names\"\n",
    "credential_attributes[1]['name'] = \"RTW Surname\""
   ]
  },
  {
   "cell_type": "code",
   "execution_count": 28,
   "metadata": {},
   "outputs": [
    {
     "name": "stdout",
     "output_type": "stream",
     "text": [
      "[{'name': 'RTW Given Names', 'value': 'Micheal'}, {'name': 'RTW Surname', 'value': 'Jones'}]\n"
     ]
    }
   ],
   "source": [
    "print(credential_attributes)"
   ]
  },
  {
   "cell_type": "markdown",
   "metadata": {},
   "source": [
    "## 5 Issue Right to Work Credential"
   ]
  },
  {
   "cell_type": "markdown",
   "metadata": {},
   "source": [
    "### 5.1 Retrieve stored `cred_def_id` and `schema_id`s"
   ]
  },
  {
   "cell_type": "code",
   "execution_count": 29,
   "metadata": {},
   "outputs": [],
   "source": [
    "# load all globally stored variables\n",
    "%store -r training_program_schema_id\n",
    "%store -r training_program_cred_def_id\n",
    "%store -r right_to_work_schema_id\n",
    "%store -r right_to_work_cred_def_id\n",
    "%store -r training_placement_schema_id\n",
    "%store -r training_placement_cred_def_id"
   ]
  },
  {
   "cell_type": "markdown",
   "metadata": {},
   "source": [
    "### 5.1 Fetch the credential definition for the schema\n"
   ]
  },
  {
   "cell_type": "code",
   "execution_count": 63,
   "metadata": {},
   "outputs": [],
   "source": [
    "# response = await agent_controller.wallet.get_public_did()\n",
    "# print(response)\n",
    "# hee_public_did = response[\"result\"][\"did\"]\n",
    "# definitions = await agent_controller.definitions.search_created(issuer_did=hee_public_did, schema_id=right_to_work_schema_id)\n",
    "\n",
    "# right_to_work_cred_def_id = None\n",
    "# cred_def_ids = definitions['credential_definition_ids']\n",
    "# if len(cred_def_ids) == 0:\n",
    "#     print(\"You have not written a credential definition to the ledger for this public DID\")\n",
    "# else:\n",
    "#     right_to_work_cred_def_id = cred_def_ids[0]\n",
    "#     print(right_to_work_cred_def_id)\n",
    "    \n"
   ]
  },
  {
   "cell_type": "markdown",
   "metadata": {},
   "source": [
    "### 5.2 Populate the Mandatory Training Credential Attributes"
   ]
  },
  {
   "cell_type": "code",
   "execution_count": 30,
   "metadata": {},
   "outputs": [
    {
     "name": "stdout",
     "output_type": "stream",
     "text": [
      "Please enter residency status:123\n",
      "Please enter the VISA type :123123\n",
      "Please enter VISA Expiry date : 213132\n",
      "[{'name': 'RTW Given Names', 'value': 'Micheal'}, {'name': 'RTW Surname', 'value': 'Jones'}, {'name': 'RTW Residency Status', 'value': '123'}, {'name': 'RTW Visa Type', 'value': '123123'}, {'name': 'RTW Visa Expiry Date', 'value': '213132'}]\n"
     ]
    }
   ],
   "source": [
    "residency = input(\"Please enter residency status:\")\n",
    "visa = input(\"Please enter the VISA type :\")\n",
    "visa_exp = input(\"Please enter VISA Expiry date : \")\n",
    "\n",
    "credential_attributes.append({\"name\":\"RTW Residency Status\", \"value\": residency})\n",
    "credential_attributes.append({\"name\":\"RTW Visa Type\", \"value\": visa})\n",
    "credential_attributes.append({\"name\":\"RTW Visa Expiry Date\", \"value\": visa_exp})\n",
    "print(credential_attributes)\n"
   ]
  },
  {
   "cell_type": "markdown",
   "metadata": {},
   "source": [
    "### 5.3 Issue the Mandatory Training Credential "
   ]
  },
  {
   "cell_type": "code",
   "execution_count": 31,
   "metadata": {},
   "outputs": [
    {
     "name": "stdout",
     "output_type": "stream",
     "text": [
      "Credential exchange 6423afbc-0ef5-414d-9aa1-5d2b90f65e24, role: issuer, state: offer_sent\n",
      "Handle Credentials\n",
      "Credential exchange 6423afbc-0ef5-414d-9aa1-5d2b90f65e24, role: issuer, state: offer_sent\n",
      "Offering: [{'name': 'RTW Given Names', 'value': 'Micheal'}, {'name': 'RTW Surname', 'value': 'Jones'}, {'name': 'RTW Residency Status', 'value': '123'}, {'name': 'RTW Visa Type', 'value': '123123'}, {'name': 'RTW Visa Expiry Date', 'value': '213132'}]\n",
      "Handle Credentials\n",
      "Credential exchange 6423afbc-0ef5-414d-9aa1-5d2b90f65e24, role: issuer, state: request_received\n",
      "Offering: [{'name': 'RTW Given Names', 'value': 'Micheal'}, {'name': 'RTW Surname', 'value': 'Jones'}, {'name': 'RTW Residency Status', 'value': '123'}, {'name': 'RTW Visa Type', 'value': '123123'}, {'name': 'RTW Visa Expiry Date', 'value': '213132'}]\n",
      "Handle Credentials\n",
      "Credential exchange 6423afbc-0ef5-414d-9aa1-5d2b90f65e24, role: issuer, state: credential_issued\n",
      "Offering: [{'name': 'RTW Given Names', 'value': 'Micheal'}, {'name': 'RTW Surname', 'value': 'Jones'}, {'name': 'RTW Residency Status', 'value': '123'}, {'name': 'RTW Visa Type', 'value': '123123'}, {'name': 'RTW Visa Expiry Date', 'value': '213132'}]\n"
     ]
    }
   ],
   "source": [
    "record = await agent_controller.issuer.send_credential(connection_id, right_to_work_schema_id, right_to_work_cred_def_id, credential_attributes, trace=False)\n",
    "record_id = record['credential_exchange_id']\n",
    "state = record['state']\n",
    "role = record['role']\n",
    "print(f\"Credential exchange {record_id}, role: {role}, state: {state}\")"
   ]
  },
  {
   "cell_type": "markdown",
   "metadata": {},
   "source": [
    "## 6 Issue a Training Program Credential"
   ]
  },
  {
   "cell_type": "markdown",
   "metadata": {},
   "source": [
    "### 6.1 Fetch the associated credential definition id written to the Ledger in Part 4.1\n",
    "\n",
    "This will fail if a credential definition has not been written to the ledger by the HEE agent's public DID."
   ]
  },
  {
   "cell_type": "code",
   "execution_count": 66,
   "metadata": {},
   "outputs": [],
   "source": [
    "# response = await agent_controller.wallet.get_public_did()\n",
    "# print(response)\n",
    "# hee_public_did = response[\"result\"][\"did\"]\n",
    "# training_program_schema_id = \"2yWoMSfeTtYBFpUJFcnpqL:2:Training Programme:0.0.1\"\n",
    "# definitions = await agent_controller.definitions.search_created(issuer_did=hee_public_did, schema_id=training_program_schema_id)\n",
    "\n",
    "# training_program_cred_def_id = None\n",
    "# cred_def_ids = definitions['credential_definition_ids']\n",
    "# if len(cred_def_ids) == 0:\n",
    "#     print(\"You have not written a credential definition to the ledger for this public DID\")\n",
    "# else:\n",
    "#     training_program_cred_def_id = cred_def_ids[0]\n",
    "#     print(training_program_cred_def_id)\n",
    "    \n"
   ]
  },
  {
   "cell_type": "markdown",
   "metadata": {},
   "source": [
    "### 6.2 Populate the Training Program attributes to Issue to Doctor\n",
    "\n",
    "This would typically be done through a face to face identity check.\n",
    "\n",
    "The notebook will ask you to input all the relevant fields."
   ]
  },
  {
   "cell_type": "code",
   "execution_count": 32,
   "metadata": {},
   "outputs": [
    {
     "name": "stdout",
     "output_type": "stream",
     "text": [
      "Please enter the doctors lead employee: John\n",
      "Please enter the doctors clinical supervisor: adam\n",
      "Please enter the doctors academic supervisor: henry\n",
      "Please enter the name of the training program: adfsa\n",
      "Please enter the current year of the program: 123213\n",
      "Please enter the programs start date: 126361\n",
      "Please enter the scheduled end date: 12\n",
      "Please enter the extended_end_date: 23\n",
      "[{'name': 'TPR Lead Employer', 'value': 'John'}, {'name': 'TPR Clinical Supervisor', 'value': 'adam'}, {'name': 'TPR Academic Supervisor', 'value': 'henry'}, {'name': 'TPR Training Programme Name', 'value': 'adfsa'}, {'name': 'TPR Programme Current Year', 'value': '123213'}, {'name': 'TPR Start Date', 'value': '126361'}, {'name': 'TPR Scheduled End Date', 'value': '12'}, {'name': 'TPR Extended End Date', 'value': '23'}]\n"
     ]
    }
   ],
   "source": [
    "lead_employee = input(\"Please enter the doctors lead employee: \")\n",
    "clinical_supervisor=input(\"Please enter the doctors clinical supervisor: \")\n",
    "academic_supervisor=input(\"Please enter the doctors academic supervisor: \")\n",
    "program_name = input(\"Please enter the name of the training program: \")\n",
    "program_year=input(\"Please enter the current year of the program: \")\n",
    "start_date=input(\"Please enter the programs start date: \")\n",
    "scheduled_end = input(\"Please enter the scheduled end date: \")\n",
    "extended_end=input(\"Please enter the extended_end_date: \")\n",
    "\n",
    "credential_attributes = [\n",
    "    {\"name\": \"TPR Lead Employer\", \"value\": lead_employee},\n",
    "    {\"name\": \"TPR Clinical Supervisor\", \"value\": clinical_supervisor},\n",
    "    {\"name\": \"TPR Academic Supervisor\", \"value\": academic_supervisor},\n",
    "    {\"name\": \"TPR Training Programme Name\", \"value\": program_name},\n",
    "    {\"name\": \"TPR Programme Current Year\", \"value\": program_year},\n",
    "    {\"name\": \"TPR Start Date\", \"value\": start_date},\n",
    "    {\"name\": \"TPR Scheduled End Date\", \"value\": scheduled_end},\n",
    "    {\"name\": \"TPR Extended End Date\", \"value\": extended_end},\n",
    "\n",
    "]\n",
    "\n",
    "\n",
    "\n",
    "\n",
    "print(credential_attributes)"
   ]
  },
  {
   "cell_type": "markdown",
   "metadata": {},
   "source": [
    "## 6.3 Issue Training Program Credential\n",
    "\n",
    "This sends a credential to the doctor's mobile wallet you just connected with."
   ]
  },
  {
   "cell_type": "code",
   "execution_count": 33,
   "metadata": {},
   "outputs": [
    {
     "name": "stdout",
     "output_type": "stream",
     "text": [
      "Credential exchange a4543886-e20d-452c-af62-d13305e8a97c, role: issuer, state: offer_sent\n",
      "Handle Credentials\n",
      "Credential exchange a4543886-e20d-452c-af62-d13305e8a97c, role: issuer, state: offer_sent\n",
      "Offering: [{'name': 'TPR Lead Employer', 'value': 'John'}, {'name': 'TPR Clinical Supervisor', 'value': 'adam'}, {'name': 'TPR Academic Supervisor', 'value': 'henry'}, {'name': 'TPR Training Programme Name', 'value': 'adfsa'}, {'name': 'TPR Programme Current Year', 'value': '123213'}, {'name': 'TPR Start Date', 'value': '126361'}, {'name': 'TPR Scheduled End Date', 'value': '12'}, {'name': 'TPR Extended End Date', 'value': '23'}]\n",
      "Handle Credentials\n",
      "Credential exchange a4543886-e20d-452c-af62-d13305e8a97c, role: issuer, state: request_received\n",
      "Offering: [{'name': 'TPR Lead Employer', 'value': 'John'}, {'name': 'TPR Clinical Supervisor', 'value': 'adam'}, {'name': 'TPR Academic Supervisor', 'value': 'henry'}, {'name': 'TPR Training Programme Name', 'value': 'adfsa'}, {'name': 'TPR Programme Current Year', 'value': '123213'}, {'name': 'TPR Start Date', 'value': '126361'}, {'name': 'TPR Scheduled End Date', 'value': '12'}, {'name': 'TPR Extended End Date', 'value': '23'}]\n",
      "Handle Credentials\n",
      "Credential exchange a4543886-e20d-452c-af62-d13305e8a97c, role: issuer, state: credential_issued\n",
      "Offering: [{'name': 'TPR Lead Employer', 'value': 'John'}, {'name': 'TPR Clinical Supervisor', 'value': 'adam'}, {'name': 'TPR Academic Supervisor', 'value': 'henry'}, {'name': 'TPR Training Programme Name', 'value': 'adfsa'}, {'name': 'TPR Programme Current Year', 'value': '123213'}, {'name': 'TPR Start Date', 'value': '126361'}, {'name': 'TPR Scheduled End Date', 'value': '12'}, {'name': 'TPR Extended End Date', 'value': '23'}]\n"
     ]
    }
   ],
   "source": [
    "record = await agent_controller.issuer.send_credential(connection_id, training_program_schema_id, training_program_cred_def_id, credential_attributes, trace=False)\n",
    "record_id = record['credential_exchange_id']\n",
    "state = record['state']\n",
    "role = record['role']\n",
    "print(f\"Credential exchange {record_id}, role: {role}, state: {state}\")\n"
   ]
  },
  {
   "cell_type": "markdown",
   "metadata": {},
   "source": [
    "## 7. Issue Training Placement Credential"
   ]
  },
  {
   "cell_type": "markdown",
   "metadata": {},
   "source": [
    "### 7.1 Fetch the relevant credential definition"
   ]
  },
  {
   "cell_type": "code",
   "execution_count": 69,
   "metadata": {},
   "outputs": [],
   "source": [
    "\n",
    "# response = await agent_controller.wallet.get_public_did()\n",
    "# hee_public_did = response[\"result\"][\"did\"]\n",
    "# training_placement_schema_id = \"2yWoMSfeTtYBFpUJFcnpqL:2:Training Programme Placement:0.0.1\"\n",
    "# definitions = await agent_controller.definitions.search_created(issuer_did=hee_public_did, schema_id=training_placement_schema_id)\n",
    "\n",
    "# training_placement_cred_def_id = None\n",
    "# cred_def_ids = definitions['credential_definition_ids']\n",
    "# if len(cred_def_ids) == 0:\n",
    "#     print(\"You have not written a credential definition to the ledger for this public DID\")\n",
    "# else:\n",
    "#     training_placement_cred_def_id = cred_def_ids[0]\n",
    "#     print(training_placement_cred_def_id)\n",
    "    "
   ]
  },
  {
   "cell_type": "markdown",
   "metadata": {},
   "source": [
    "### 7.2 Populate the Training Placement Credential Attributes"
   ]
  },
  {
   "cell_type": "code",
   "execution_count": 34,
   "metadata": {},
   "outputs": [
    {
     "name": "stdout",
     "output_type": "stream",
     "text": [
      "Please enter the name of the placement: hfs\n",
      "Please enter the placement employer: sdfsa\n",
      "Please enter the location of the placement: fsad\n",
      "Please enter the placement start date: dsa\n",
      "Please enter the scheduled end of the placement: asdf\n",
      "Please enter the extended end date: adsf\n",
      "Please enter the actual end date: dfa\n",
      "Please enter the placements position id: sdf\n",
      "[{'name': 'TPP Placement Name', 'value': 'hfs'}, {'name': 'TPP Placement Employer', 'value': 'sdfsa'}, {'name': 'TPP Placement Location', 'value': 'fsad'}, {'name': 'TPP Placement StartDate', 'value': 'dsa'}, {'name': 'TPP Placement Sched End Date', 'value': 'asdf'}, {'name': 'TPP Placement Ext. End Date', 'value': 'adsf'}, {'name': 'TPP Placement Act End Date', 'value': 'dfa'}, {'name': 'TPP PositionId', 'value': 'sdf'}]\n"
     ]
    }
   ],
   "source": [
    "placement_name = input(\"Please enter the name of the placement: \")\n",
    "employer=input(\"Please enter the placement employer: \")\n",
    "location=input(\"Please enter the location of the placement: \")\n",
    "start_date = input(\"Please enter the placement start date: \")\n",
    "sched_end_date =input(\"Please enter the scheduled end of the placement: \")\n",
    "extended_end_date=input(\"Please enter the extended end date: \")\n",
    "actual_end = input(\"Please enter the actual end date: \")\n",
    "position_id =input(\"Please enter the placements position id: \")\n",
    "\n",
    "credential_attributes = [\n",
    "     {\"name\":\"TPP Placement Name\", \"value\": placement_name},\n",
    "     {\"name\":\"TPP Placement Employer\", \"value\": employer},\n",
    "     {\"name\":\"TPP Placement Location\", \"value\": location},\n",
    "     {\"name\":\"TPP Placement StartDate\", \"value\": start_date},\n",
    "     {\"name\":\"TPP Placement Sched End Date\", \"value\": sched_end_date},\n",
    "     {\"name\":\"TPP Placement Ext. End Date\", \"value\": extended_end_date},\n",
    "     {\"name\":\"TPP Placement Act End Date\", \"value\": actual_end},\n",
    "     {\"name\":\"TPP PositionId\", \"value\": position_id}\n",
    "]\n",
    "print(credential_attributes)"
   ]
  },
  {
   "cell_type": "markdown",
   "metadata": {},
   "source": [
    "### 7.3 Issue the Training Placement Credential"
   ]
  },
  {
   "cell_type": "code",
   "execution_count": 35,
   "metadata": {},
   "outputs": [
    {
     "name": "stdout",
     "output_type": "stream",
     "text": [
      "Credential exchange 4e33920a-4b7b-44ed-b42e-65dec154a1b4, role: issuer, state: offer_sent\n",
      "Handle Credentials\n",
      "Credential exchange 4e33920a-4b7b-44ed-b42e-65dec154a1b4, role: issuer, state: offer_sent\n",
      "Offering: [{'name': 'TPP Placement Name', 'value': 'hfs'}, {'name': 'TPP Placement Employer', 'value': 'sdfsa'}, {'name': 'TPP Placement Location', 'value': 'fsad'}, {'name': 'TPP Placement StartDate', 'value': 'dsa'}, {'name': 'TPP Placement Sched End Date', 'value': 'asdf'}, {'name': 'TPP Placement Ext. End Date', 'value': 'adsf'}, {'name': 'TPP Placement Act End Date', 'value': 'dfa'}, {'name': 'TPP PositionId', 'value': 'sdf'}]\n",
      "Handle Credentials\n",
      "Credential exchange 4e33920a-4b7b-44ed-b42e-65dec154a1b4, role: issuer, state: request_received\n",
      "Offering: [{'name': 'TPP Placement Name', 'value': 'hfs'}, {'name': 'TPP Placement Employer', 'value': 'sdfsa'}, {'name': 'TPP Placement Location', 'value': 'fsad'}, {'name': 'TPP Placement StartDate', 'value': 'dsa'}, {'name': 'TPP Placement Sched End Date', 'value': 'asdf'}, {'name': 'TPP Placement Ext. End Date', 'value': 'adsf'}, {'name': 'TPP Placement Act End Date', 'value': 'dfa'}, {'name': 'TPP PositionId', 'value': 'sdf'}]\n",
      "Handle Credentials\n",
      "Credential exchange 4e33920a-4b7b-44ed-b42e-65dec154a1b4, role: issuer, state: credential_issued\n",
      "Offering: [{'name': 'TPP Placement Name', 'value': 'hfs'}, {'name': 'TPP Placement Employer', 'value': 'sdfsa'}, {'name': 'TPP Placement Location', 'value': 'fsad'}, {'name': 'TPP Placement StartDate', 'value': 'dsa'}, {'name': 'TPP Placement Sched End Date', 'value': 'asdf'}, {'name': 'TPP Placement Ext. End Date', 'value': 'adsf'}, {'name': 'TPP Placement Act End Date', 'value': 'dfa'}, {'name': 'TPP PositionId', 'value': 'sdf'}]\n"
     ]
    }
   ],
   "source": [
    "record = await agent_controller.issuer.send_credential(connection_id, training_placement_schema_id, training_placement_cred_def_id, credential_attributes, trace=False)\n",
    "record_id = record['credential_exchange_id']\n",
    "state = record['state']\n",
    "role = record['role']\n",
    "print(f\"Credential exchange {record_id}, role: {role}, state: {state}\")"
   ]
  },
  {
   "cell_type": "markdown",
   "metadata": {},
   "source": [
    "## 8. End of Tutorial\n",
    "\n",
    "Be sure to terminate the controller so you can run another tutorial."
   ]
  },
  {
   "cell_type": "code",
   "execution_count": 36,
   "metadata": {},
   "outputs": [
    {
     "name": "stdout",
     "output_type": "stream",
     "text": [
      "None\n"
     ]
    }
   ],
   "source": [
    "response = await agent_controller.terminate()\n",
    "print(response)"
   ]
  },
  {
   "cell_type": "markdown",
   "metadata": {},
   "source": [
    "# You can now proceed to interact with the [Lead Employer](http://127.0.0.1:8892)\n",
    "\n",
    "Find the notebook access token by running `docker logs  interopen-hack_lead-employer-notebook_1`\n"
   ]
  },
  {
   "cell_type": "code",
   "execution_count": null,
   "metadata": {},
   "outputs": [],
   "source": []
  }
 ],
 "metadata": {
  "kernelspec": {
   "display_name": "Python 3",
   "language": "python",
   "name": "python3"
  },
  "language_info": {
   "codemirror_mode": {
    "name": "ipython",
    "version": 3
   },
   "file_extension": ".py",
   "mimetype": "text/x-python",
   "name": "python",
   "nbconvert_exporter": "python",
   "pygments_lexer": "ipython3",
   "version": "3.7.6"
  }
 },
 "nbformat": 4,
 "nbformat_minor": 1
}
