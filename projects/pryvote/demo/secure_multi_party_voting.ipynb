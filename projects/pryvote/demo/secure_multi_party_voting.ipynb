{
 "cells": [
  {
   "cell_type": "markdown",
   "metadata": {},
   "source": [
    "# Secure Multi-Party Voting\n",
    "\n",
    "In this notebook,\n",
    "we explore a voting protocol which uses secure multi-party computation (SMPC)\n",
    "to aggregate votes,\n",
    "without individual votes being discoverable.\n",
    "This protocol is best suited to a voting session with well-defined,\n",
    "non-cooperating parties,\n",
    "such as political parties in a general election.\n",
    "Each party is given a share of a vote,\n",
    "and computes a sum over their shares.\n",
    "Finally,\n",
    "parties combine their encrypted shares and decrypt it\n",
    "to reveal the final vote.\n",
    "Please read [this PySyft tutorial](https://github.com/OpenMined/PySyft/blob/master/examples/tutorials/Part%2009%20-%20Intro%20to%20Encrypted%20Programs.ipynb)\n",
    "for more information on SMPC.\n",
    "\n",
    "*THIS IS A POC. SSI/SECURE COMMUNICATION IS NOT IN PLACE.*\n",
    "\n",
    "For this POC,\n",
    "we shall perform a categorical vote on \"Best PriCon workshop\".\n",
    "\n",
    "### Assumptions of this protocol:\n",
    "- Limited, well-defined vote options\n",
    "    - Vote values (e.g. \"PryVote\") must be converted into an integer to be shared between parties. To assign each vote value to an integer, we need to know how many possible vote values there are ahead of time\n",
    "- Majority vote scheme\n",
    "    - Quadratic voting not supported\n",
    "    - \"multi-vote\" schemes, such as STV, not supported"
   ]
  },
  {
   "cell_type": "code",
   "execution_count": 1,
   "metadata": {},
   "outputs": [],
   "source": [
    "import random\n",
    "import uuid\n",
    "\n",
    "import numpy as np"
   ]
  },
  {
   "cell_type": "code",
   "execution_count": 2,
   "metadata": {},
   "outputs": [],
   "source": [
    "vote_values = {\n",
    "    \"PryVote\": 0,\n",
    "    \"PyDP\": 1,\n",
    "    \"PrivacyRaven\": 2,\n",
    "    \"PyVertical\": 3,\n",
    "}\n",
    "\n",
    "vote_classes = {v: k for k, v in vote_values.items()}"
   ]
  },
  {
   "cell_type": "markdown",
   "metadata": {},
   "source": [
    "## Define roles\n",
    "\n",
    "We create simple _Voter_ and _Party_ classes.\n",
    "\n",
    "Voter:\n",
    "- Given a unique ID\n",
    "- Can store a personal vote value\n",
    "- Can send vote and ID to parties\n",
    "\n",
    "Party:\n",
    "- Can aggregate votes\n",
    "- Can share vote aggregates amongst other parties"
   ]
  },
  {
   "cell_type": "code",
   "execution_count": 3,
   "metadata": {},
   "outputs": [],
   "source": [
    "class Voter:\n",
    "    def __init__(self, Q) -> None:\n",
    "        self._id = uuid.uuid4()\n",
    "        self._Q = Q\n",
    "        self._vote_shares = None\n",
    "\n",
    "    def update_vote(self, vote_value: str) -> None:\n",
    "        try:\n",
    "            vote_class = vote_values[vote_value]\n",
    "\n",
    "            onehot_votes = [0] * len(vote_values)\n",
    "            onehot_votes[vote_class] = 1\n",
    "            \n",
    "            vote_shares = [self._encrypt_vote(binary_vote) for binary_vote in onehot_votes]\n",
    "\n",
    "             # transpose the list to get a list of 4 vote values (the four options) for each vote share piece (the vote counters)\n",
    "            self._vote_shares = list(map(list, zip(*vote_shares)))\n",
    "        except KeyError:\n",
    "            self._vote_shares = None\n",
    "\n",
    "    def _encrypt_vote(self, vote: int):\n",
    "        share_a = random.randint(-Q,Q)\n",
    "        share_b = random.randint(-Q,Q)\n",
    "        share_c = (vote - share_a - share_b) % Q\n",
    "        return (share_a, share_b,  share_c)\n",
    "\n",
    "    def send_vote(self, parties) -> None:\n",
    "        if self._vote_shares is None:\n",
    "            print(f\"{self._id} has not set a vote\")\n",
    "            return\n",
    "\n",
    "        assert len(self._vote_shares) == len(parties)\n",
    "\n",
    "        for vote_share, party in zip(self._vote_shares, parties):\n",
    "            party.receive_vote(self._id, vote_share)"
   ]
  },
  {
   "cell_type": "code",
   "execution_count": 4,
   "metadata": {},
   "outputs": [],
   "source": [
    "class Party:\n",
    "    def __init__(self, name: str, Q: int) -> None:\n",
    "        self._name = name\n",
    "        self._Q = Q\n",
    "        self._ids = []\n",
    "        self._vote_sum = [0] * len(vote_values)  # init to zero for each vote count\n",
    "\n",
    "    def receive_vote(self, voter_id: uuid.UUID, votes) -> None:\n",
    "        if voter_id not in self._ids:\n",
    "            print(f\"{self._name}: Adding vote for {voter_id}\")\n",
    "            self._ids.append(voter_id)\n",
    "\n",
    "            for i in range(len(votes)):\n",
    "                self._vote_sum[i] += votes[i]\n",
    "        else:\n",
    "            print(f\"{self._name}: {voter_id} has already voted\")"
   ]
  },
  {
   "cell_type": "markdown",
   "metadata": {},
   "source": [
    "## Define Q\n",
    "\n",
    "TODO explain what Q is"
   ]
  },
  {
   "cell_type": "code",
   "execution_count": 5,
   "metadata": {},
   "outputs": [],
   "source": [
    "Q = 1234567891011"
   ]
  },
  {
   "cell_type": "markdown",
   "metadata": {},
   "source": [
    "## Create Voters and Vote counters\n",
    "\n",
    "5 voters, 3 vote counters (red, blue, yellow)"
   ]
  },
  {
   "cell_type": "code",
   "execution_count": 6,
   "metadata": {},
   "outputs": [],
   "source": [
    "red = Party(\"red\", Q)\n",
    "blue = Party(\"blue\", Q)\n",
    "yellow = Party(\"yellow\", Q)"
   ]
  },
  {
   "cell_type": "code",
   "execution_count": 7,
   "metadata": {},
   "outputs": [],
   "source": [
    "alice = Voter(Q)\n",
    "bob = Voter(Q)\n",
    "charlie = Voter(Q)\n",
    "dan = Voter(Q)\n",
    "eve = Voter(Q)"
   ]
  },
  {
   "cell_type": "markdown",
   "metadata": {},
   "source": [
    "## Vote"
   ]
  },
  {
   "cell_type": "code",
   "execution_count": 8,
   "metadata": {},
   "outputs": [],
   "source": [
    "alice.update_vote(\"PryVote\")\n",
    "bob.update_vote(\"PryVote\")\n",
    "charlie.update_vote(\"PyDP\")\n",
    "dan.update_vote(\"PryVote\")\n",
    "eve.update_vote(\"PyDP\")"
   ]
  },
  {
   "cell_type": "code",
   "execution_count": 9,
   "metadata": {},
   "outputs": [
    {
     "name": "stdout",
     "output_type": "stream",
     "text": [
      "red: Adding vote for adf8f9e3-e66b-4bde-9ad3-bcbefca2b189\n",
      "blue: Adding vote for adf8f9e3-e66b-4bde-9ad3-bcbefca2b189\n",
      "yellow: Adding vote for adf8f9e3-e66b-4bde-9ad3-bcbefca2b189\n",
      "red: Adding vote for 64d4c3b4-9729-46fc-a68a-4932d71b15d6\n",
      "blue: Adding vote for 64d4c3b4-9729-46fc-a68a-4932d71b15d6\n",
      "yellow: Adding vote for 64d4c3b4-9729-46fc-a68a-4932d71b15d6\n",
      "red: Adding vote for 06c05d9a-f344-43b3-b0ec-157998c52c81\n",
      "blue: Adding vote for 06c05d9a-f344-43b3-b0ec-157998c52c81\n",
      "yellow: Adding vote for 06c05d9a-f344-43b3-b0ec-157998c52c81\n",
      "red: Adding vote for afb9296a-c470-4327-ad7e-262315241d2c\n",
      "blue: Adding vote for afb9296a-c470-4327-ad7e-262315241d2c\n",
      "yellow: Adding vote for afb9296a-c470-4327-ad7e-262315241d2c\n",
      "red: Adding vote for 889bbb0b-a9fc-4484-9a72-79ce73835c31\n",
      "blue: Adding vote for 889bbb0b-a9fc-4484-9a72-79ce73835c31\n",
      "yellow: Adding vote for 889bbb0b-a9fc-4484-9a72-79ce73835c31\n"
     ]
    }
   ],
   "source": [
    "for voter in [alice, bob, charlie, dan, eve]:\n",
    "    voter.send_vote([red, blue, yellow])"
   ]
  },
  {
   "cell_type": "markdown",
   "metadata": {},
   "source": [
    "## Decrypt the Vote"
   ]
  },
  {
   "cell_type": "code",
   "execution_count": 12,
   "metadata": {},
   "outputs": [
    {
     "name": "stdout",
     "output_type": "stream",
     "text": [
      "Vote counts are [3, 2, 0, 0]\n",
      "PryVote is the winner!\n"
     ]
    }
   ],
   "source": [
    "total_sums = []\n",
    "\n",
    "for i in range(len(vote_values)):\n",
    "    total_sum = (red._vote_sum[i] + blue._vote_sum[i] + yellow._vote_sum[i]) % Q\n",
    "    total_sums.append(total_sum)\n",
    "\n",
    "winning_index = np.argmax(total_sums)\n",
    "winner = vote_classes[winning_index]\n",
    "\n",
    "print(f\"Vote counts are {total_sums}\\n{winner} is the winner!\")"
   ]
  },
  {
   "cell_type": "markdown",
   "metadata": {},
   "source": [
    "---\n",
    "\n",
    "## Evaluation of the protocol\n",
    "\n",
    "#### Voters\n",
    "\n",
    "If a sensible final vote was produced,\n",
    "each voter knows that their vote was counted correctly by all parties,\n",
    "_or_ that all parties did not count their vote.\n",
    "Collusion between all parties is unlikely in adversarial contexts,\n",
    "such as elections.\n",
    "In less combative vote sessions (including this pretend setting!),\n",
    "where there are no clearly opposing parties,\n",
    "collusion is more likely and the voters might place less trust in this protocol. \n",
    "\n",
    "Vote parties do not know how each voter voted.\n",
    "Colluding entities may be able to work out _who_ voted,\n",
    "however this is not as large a security threat as knowing _how_ someone voted.\n",
    "Ideally,\n",
    "we aim to make voter identification as difficult as possible.\n",
    "\n",
    "\n",
    "#### Vote parties\n",
    "Vote parties each have a stake in the vote.\n",
    "They do not have to trust a singular authority.\n",
    "This attribute is a core tenet of democratic, paper-based voting,\n",
    "therefore it is vital that the electronic protocol replicates it.\n",
    "\n",
    "However,\n",
    "a vote party who is confident they are going to lose\n",
    "(and is malicious)\n",
    "could invalidate the vote\n",
    "by falsifying vote shares.\n",
    "Under this protocol we **cannot identify which party made the \"mistake\"**.\n",
    "This could be solved by policy,\n",
    "such as frequent, independent auditing of a running vote aggregation during the lifetime of a vote session."
   ]
  }
 ],
 "metadata": {
  "kernelspec": {
   "display_name": "Python 3",
   "language": "python",
   "name": "python3"
  },
  "language_info": {
   "codemirror_mode": {
    "name": "ipython",
    "version": 3
   },
   "file_extension": ".py",
   "mimetype": "text/x-python",
   "name": "python",
   "nbconvert_exporter": "python",
   "pygments_lexer": "ipython3",
   "version": "3.7.6"
  }
 },
 "nbformat": 4,
 "nbformat_minor": 4
}
