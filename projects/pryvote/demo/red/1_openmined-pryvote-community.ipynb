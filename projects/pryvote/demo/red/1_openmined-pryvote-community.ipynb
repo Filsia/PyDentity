{
 "cells": [
  {
   "cell_type": "markdown",
   "metadata": {},
   "source": [
    "# Aries Basic Controller - Openmined PryVote Community\n",
    "\n",
    "This notebook walks through a MVP for PryVote assuming the Openminded community will be issued an Openmined commuity credential that will enable community members to vote on basic things. The credential will be issued across a previously established connection. \n",
    "\n",
    "It is best run in parallel with the [openmind-pryvote-voter notebook](http://127.0.0.1:8889/notebooks/openmind-pryvote-voter.ipynb) controlling the agent receiving the credential to enable voting.\n",
    "\n",
    "If unfamiliar with the protocol it is worth reading through the [aries-rfs](https://github.com/hyperledger/aries-rfcs/tree/master/features/0036-issue-credential)\n"
   ]
  },
  {
   "cell_type": "code",
   "execution_count": 1,
   "metadata": {},
   "outputs": [
    {
     "name": "stdout",
     "output_type": "stream",
     "text": [
      "IPython autoawait is `on`, and set to use `asyncio`\n"
     ]
    }
   ],
   "source": [
    "%autoawait\n",
    "import time\n",
    "import asyncio"
   ]
  },
  {
   "cell_type": "code",
   "execution_count": 2,
   "metadata": {},
   "outputs": [],
   "source": [
    "from aries_basic_controller.aries_controller import AriesAgentController\n",
    "    \n",
    "WEBHOOK_HOST = \"0.0.0.0\"\n",
    "WEBHOOK_PORT = 8052\n",
    "WEBHOOK_BASE = \"\"\n",
    "ADMIN_URL = \"http://red-agent:8051\"\n",
    "\n",
    "# Based on the aca-py agent you wish to control\n",
    "agent_controller = AriesAgentController(webhook_host=WEBHOOK_HOST, webhook_port=WEBHOOK_PORT,\n",
    "                                       webhook_base=WEBHOOK_BASE, admin_url=ADMIN_URL)\n",
    "    "
   ]
  },
  {
   "cell_type": "markdown",
   "metadata": {},
   "source": [
    "## 1. Register Listeners\n",
    "\n",
    "The handler should get called every time the controller receives a webhook with the topic issue_credential, printing out the payload. The agent calls to this webhook every time it receives an issue-credential protocol message from a credential."
   ]
  },
  {
   "cell_type": "code",
   "execution_count": 3,
   "metadata": {},
   "outputs": [],
   "source": [
    "loop = asyncio.get_event_loop()\n",
    "loop.create_task(agent_controller.listen_webhooks())\n",
    "\n",
    "def cred_handler(payload):\n",
    "    print(\"Handle Credentials\")\n",
    "    exchange_id = payload['credential_exchange_id']\n",
    "    state = payload['state']\n",
    "    role = payload['role']\n",
    "    attributes = payload['credential_proposal_dict']['credential_proposal']['attributes']\n",
    "    print(f\"Credential exchange {exchange_id}, role: {role}, state: {state}\")\n",
    "    print(f\"Being offered: {attributes}\")\n",
    "    \n",
    "cred_listener = {\n",
    "    \"topic\": \"issue_credential\",\n",
    "    \"handler\": cred_handler\n",
    "}\n",
    "agent_controller.register_listeners([cred_listener], defaults=True)\n"
   ]
  },
  {
   "cell_type": "markdown",
   "metadata": {},
   "source": [
    "## 3. Check the agent has an active connection\n",
    "\n",
    "**Note: An active connection is required, this should have been established on start up through the python script create_connection.py in the setup folder. If not it is possible to run through the did-exchange tutorial to create one between Red and Blue**\n"
   ]
  },
  {
   "cell_type": "code",
   "execution_count": 5,
   "metadata": {},
   "outputs": [
    {
     "name": "stdout",
     "output_type": "stream",
     "text": [
      "Results :  [{'routing_state': 'none', 'accept': 'manual', 'initiator': 'external', 'invitation_mode': 'once', 'my_did': 'LXJpbiS6f868VepB5PC15r', 'their_did': 'Ejnten3EaJZScUkQtGvq1K', 'state': 'active', 'their_label': 'Bob', 'request_id': '23270601-a0f1-45e4-b13b-8f623411539b', 'created_at': '2020-09-09 18:10:38.537889Z', 'invitation_key': '3EvYNwatLFnWE63ZCF5bdfzSnVVHBekSvN55s1ug8Lbh', 'updated_at': '2020-09-09 18:10:50.799442Z', 'connection_id': '701c408c-be28-4f90-9c6a-7c1e56f7240d'}]\n",
      "Connection : {'routing_state': 'none', 'accept': 'manual', 'initiator': 'external', 'invitation_mode': 'once', 'my_did': 'LXJpbiS6f868VepB5PC15r', 'their_did': 'Ejnten3EaJZScUkQtGvq1K', 'state': 'active', 'their_label': 'Bob', 'request_id': '23270601-a0f1-45e4-b13b-8f623411539b', 'created_at': '2020-09-09 18:10:38.537889Z', 'invitation_key': '3EvYNwatLFnWE63ZCF5bdfzSnVVHBekSvN55s1ug8Lbh', 'updated_at': '2020-09-09 18:10:50.799442Z', 'connection_id': '701c408c-be28-4f90-9c6a-7c1e56f7240d'}\n",
      "Active Connection ID :  701c408c-be28-4f90-9c6a-7c1e56f7240d\n"
     ]
    }
   ],
   "source": [
    "response = await agent_controller.connections.get_connections()\n",
    "results = response['results']\n",
    "print(\"Results : \", results)\n",
    "if len(results) > 0:\n",
    "    connection = response['results'][0]\n",
    "    print(\"Connection :\", connection)\n",
    "    if connection['state'] == 'active':       \n",
    "        connection_id = connection[\"connection_id\"]\n",
    "        print(\"Active Connection ID : \", connection_id)\n",
    "else:\n",
    "    print(\"You must create a connection\")\n",
    "    "
   ]
  },
  {
   "cell_type": "markdown",
   "metadata": {},
   "source": [
    "## 4. Write a Schema to the Ledger\n",
    "\n",
    "For more details see the [schema-api notebook](http://localhost:8888/notebooks/schema_api.ipynb)"
   ]
  },
  {
   "cell_type": "code",
   "execution_count": 6,
   "metadata": {},
   "outputs": [
    {
     "name": "stdout",
     "output_type": "stream",
     "text": [
      "PQRXDxdGqQGSZ8z69p4xZP:2:open_mined_community-member1:0.0.1\n"
     ]
    }
   ],
   "source": [
    "# Define you schema name - must be unique on the ledger\n",
    "schema_name = \"open_mined_community-member1\"\n",
    "# Can version the schema if you wish to update it\n",
    "schema_version = \"0.0.1\"\n",
    "# Define any list of attributes you wish to include in your schema\n",
    "attributes = [\"name\", \"community_member\"]\n",
    "\n",
    "response = await agent_controller.schema.write_schema(schema_name, attributes, schema_version)\n",
    "schema_id = response[\"schema_id\"]\n",
    "print(schema_id)\n"
   ]
  },
  {
   "cell_type": "markdown",
   "metadata": {},
   "source": [
    "## 5. Write a Credential Definition to the Ledger\n",
    "\n",
    "More details in the [definitions notebook](http://localhost:8888/notebooks/definitions_api.ipynb)"
   ]
  },
  {
   "cell_type": "code",
   "execution_count": 7,
   "metadata": {},
   "outputs": [
    {
     "name": "stdout",
     "output_type": "stream",
     "text": [
      "{'credential_definition_id': 'PQRXDxdGqQGSZ8z69p4xZP:3:CL:10:default'}\n",
      "PQRXDxdGqQGSZ8z69p4xZP:3:CL:10:default\n"
     ]
    }
   ],
   "source": [
    "response = await agent_controller.definitions.write_cred_def(schema_id)\n",
    "print(response)\n",
    "cred_def_id = response[\"credential_definition_id\"]\n",
    "print(cred_def_id)"
   ]
  },
  {
   "cell_type": "markdown",
   "metadata": {},
   "source": [
    "**Note: You should be able to see both schema and definition transactions on the local network [here](http://localhost:9000)**"
   ]
  },
  {
   "cell_type": "markdown",
   "metadata": {},
   "source": [
    "## 6. Populate the Attribues to Issue to Openmind-pryvote-voter (Bob)\n",
    "\n",
    "The schema defines two attributes: name and community_member. Both must be populated with attribute values that Openmined Community (Alice) wishes to issue in a credential to Openmind-pryvote-voter (Bob). To do this a list of objects must be created, each object containing the name of the attribute and it's value at a minimum. You can set the values to anything you wish.\n",
    "\n",
    "TODO: Some additional fields such as mime-type can be defined."
   ]
  },
  {
   "cell_type": "code",
   "execution_count": 8,
   "metadata": {},
   "outputs": [
    {
     "name": "stdout",
     "output_type": "stream",
     "text": [
      "[{'name': 'name', 'value': 'Bob'}, {'name': 'community_member', 'value': '1'}]\n"
     ]
    }
   ],
   "source": [
    "credential_attributes = [\n",
    "    {\"name\": \"name\", \"value\": \"Bob\"},\n",
    "    {\"name\": \"community_member\", \"value\": \"1\"}\n",
    "]\n",
    "print(credential_attributes)"
   ]
  },
  {
   "cell_type": "markdown",
   "metadata": {},
   "source": [
    "## 7. Send Credential\n",
    "\n",
    "This sends a credential to a holder Openmind-pryvote-voter (Bob), and automates the rest of the protocol. This tutorial works best if you have initialised the [openmind-pryvote-voter notebook](http://127.0.0.1:8889/notebooks/openmind-pryvote-voter.ipynb) and registered the listener for the issue_credential webhook.\n",
    "\n",
    "There are other ways to issue a credential that require multiple api calls.\n",
    "\n",
    "**Arguments**\n",
    "* connection_id: The connection_id of the holder you wish to issue to (MUST be in active state)\n",
    "* schema_id: The id of the schema you wish to issue\n",
    "* cred_def_id: The definition (public key) to sign the credential object. This must refer to the schema_id and be written to the ledger by the same public did that is currently being used by the agent.\n",
    "* attributes: A list of attribute objects as defined above. Must match the schema attributes.\n",
    "* comment (optional): Any string, defaults to \"\"\n",
    "* auto_remove (optional): Boolean, defaults to True. I believe this removes the record of this credential once it has been issued. (TODO: double check)\n",
    "* trace (optional): Boolean, defaults to False. **Not entirely sure about this one, believe its for logging. Also when set to True it throws an error**"
   ]
  },
  {
   "cell_type": "code",
   "execution_count": 9,
   "metadata": {},
   "outputs": [
    {
     "name": "stdout",
     "output_type": "stream",
     "text": [
      "{'issuer_did': 'PQRXDxdGqQGSZ8z69p4xZP', 'auto_remove': True, 'credential_proposal': {'@type': 'did:sov:BzCbsNYhMrjHiqZDTUASHg;spec/issue-credential/1.0/credential-preview', 'attributes': [{'name': 'name', 'value': 'Bob'}, {'name': 'community_member', 'value': '1'}]}, 'connection_id': '701c408c-be28-4f90-9c6a-7c1e56f7240d', 'trace': False, 'comment': '', 'cred_def_id': 'PQRXDxdGqQGSZ8z69p4xZP:3:CL:10:default', 'schema_id': 'PQRXDxdGqQGSZ8z69p4xZP:2:open_mined_community-member1:0.0.1', 'schema_name': 'open_mined_community-member1', 'schema_version': '0.0.1', 'schema_issuer_did': 'PQRXDxdGqQGSZ8z69p4xZP'}\n",
      "Credential exchange 6dafaafe-fddd-4e08-abed-746892b546d6, role: issuer, state: offer_sent\n",
      "Handle Credentials\n",
      "Credential exchange 6dafaafe-fddd-4e08-abed-746892b546d6, role: issuer, state: offer_sent\n",
      "Being offered: [{'name': 'name', 'value': 'Bob'}, {'name': 'community_member', 'value': '1'}]\n"
     ]
    }
   ],
   "source": [
    "record = await agent_controller.issuer.send_credential(connection_id, schema_id, cred_def_id, credential_attributes, trace=False)\n",
    "record_id = record['credential_exchange_id']\n",
    "state = record['state']\n",
    "role = record['role']\n",
    "#extract issuer DID for proof request requirements\n",
    "issuer_did = record['credential_proposal_dict']['issuer_did']\n",
    "print(f\"Credential exchange {record_id}, role: {role}, state: {state}\")\n"
   ]
  },
  {
   "cell_type": "markdown",
   "metadata": {},
   "source": [
    "## 9. Get Credential Exchange Records\n",
    "\n",
    "The state of the protocol is stored in an object called a Credential Exchange. These can be retrieved from the agent either individually by ID or the full list.\n",
    "\n",
    "Each record has a state, representing the stage of the protocol the record is at and a role. Either issuer or holder."
   ]
  },
  {
   "cell_type": "code",
   "execution_count": 10,
   "metadata": {},
   "outputs": [
    {
     "name": "stdout",
     "output_type": "stream",
     "text": [
      "[{'auto_remove': True, 'credential_definition_id': 'PQRXDxdGqQGSZ8z69p4xZP:3:CL:10:default', 'credential_offer': {'schema_id': 'PQRXDxdGqQGSZ8z69p4xZP:2:open_mined_community-member1:0.0.1', 'cred_def_id': 'PQRXDxdGqQGSZ8z69p4xZP:3:CL:10:default', 'key_correctness_proof': {'c': '19984204381732266376363148717959803890458327717202459028255648158811158974658', 'xz_cap': '404476306924503912581862354234357544712825268065583322461657768393257962009373120730592257730695921390547306954743265906635006026480691910885148106111608858368064003936306678243752869137358968948552786617284160075599165356927499347819191998684194788058368166778606671090535457935858977995871942183249140602946405117033855729886377030257279115204034022104334625684884653727893406420356073500710239893050249019867001405901814676804509961097080322650645110442843948415787179095766023163539686790052855221164260177590151357596773748377784432529012770930498499537490709642343513885932895181953400100712708859044830136423421455596373269875250644746552177400406169199900850736151377673142320150732694', 'xr_cap': [['master_secret', '319318209296221825257454609717818268514198617363200532669361474830214141338971713928067250648318800386998379923269675795002758140394138125419764880820659533270869291921246701376004150771314454386025203845552560550118668385954004608106475670247127838017854722554232753521434353133257741581289927110588717331126298513614758897751453988951538222534997325251704656402259454087715515502160434153525494364268301097152055802434217313213479332849433868036002067073819186772019515040952059934422851702457217606972686455628724577533269038742444402631758824876774813949680468519852030858270461550783992479730409852133561565122733402893413582381435328670532759382354758678832235889104546805809763409565409'], ['community_member', '249578101753800807233185025583336036477740668096469420198799297525272645878534217573653899896106061198741897097739949980199879816210516187475551581089569546311685364981595506061365193319688483744669547478758309942405599228984129308148890487396345882358722445611282675963567365104807817972238807947250963935034915421926815270107224332138095364004145639077004488561713444313870292365315622425353935221626684221810058467217870932427706802378300509642067262693422278674243877352672385754067385176463707520824465769599555900437430168421217166617974841031368006168955053056740684632378277021042959621263812985175534364544148410236679290631900677725070017542624815139535312331027351716507495291429002'], ['name', '370520096466951706107157741265958042936976494160153660105498449673657849305222488390114868300760869467453551444226796177677410822899657581143657752885334373510974520775120521407803211886367089723555254031293726572755065588710508185871601068353354604730698952853357566412133172921285110375151167816038399653548982884830316283582607110416710625037153647806580374147735167683112647840684732993367116946707751756472886519687840128761849475221683850219938186216672844952038480584976551598158334689631183782672944783950769458726064259771852189507143775655869004868576556720455311023334323850421018695324530603257952770896812223026827615338566469134861441312670054192937820791652296811847930378408753']]}, 'nonce': '1204774075104718257607714'}, 'created_at': '2020-09-09 18:22:02.154981Z', 'initiator': 'self', 'trace': False, 'credential_exchange_id': '6dafaafe-fddd-4e08-abed-746892b546d6', 'thread_id': 'c9b1050f-31ad-4504-ab7f-37e1afef7752', 'updated_at': '2020-09-09 18:22:02.154981Z', 'auto_issue': True, 'role': 'issuer', 'state': 'offer_sent', 'connection_id': '701c408c-be28-4f90-9c6a-7c1e56f7240d', 'credential_proposal_dict': {'@type': 'did:sov:BzCbsNYhMrjHiqZDTUASHg;spec/issue-credential/1.0/propose-credential', '@id': 'e05e26bb-11e0-4d9f-aabb-8cf4c63cf4f1', 'comment': '', 'credential_proposal': {'@type': 'did:sov:BzCbsNYhMrjHiqZDTUASHg;spec/issue-credential/1.0/credential-preview', 'attributes': [{'name': 'name', 'value': 'Bob'}, {'name': 'community_member', 'value': '1'}]}, 'schema_name': 'open_mined_community-member1', 'issuer_did': 'PQRXDxdGqQGSZ8z69p4xZP', 'schema_version': '0.0.1', 'schema_issuer_did': 'PQRXDxdGqQGSZ8z69p4xZP', 'cred_def_id': 'PQRXDxdGqQGSZ8z69p4xZP:3:CL:10:default', 'schema_id': 'PQRXDxdGqQGSZ8z69p4xZP:2:open_mined_community-member1:0.0.1'}, 'schema_id': 'PQRXDxdGqQGSZ8z69p4xZP:2:open_mined_community-member1:0.0.1', 'auto_offer': False}]\n"
     ]
    }
   ],
   "source": [
    "response = await agent_controller.issuer.get_records()\n",
    "print(response['results'])"
   ]
  },
  {
   "cell_type": "code",
   "execution_count": 11,
   "metadata": {},
   "outputs": [
    {
     "name": "stdout",
     "output_type": "stream",
     "text": [
      "Credential exchange 6dafaafe-fddd-4e08-abed-746892b546d6, role: issuer, state: offer_sent\n",
      "Handle Credentials\n",
      "Credential exchange 6dafaafe-fddd-4e08-abed-746892b546d6, role: issuer, state: request_received\n",
      "Being offered: [{'name': 'name', 'value': 'Bob'}, {'name': 'community_member', 'value': '1'}]\n",
      "Handle Credentials\n",
      "Credential exchange 6dafaafe-fddd-4e08-abed-746892b546d6, role: issuer, state: credential_issued\n",
      "Being offered: [{'name': 'name', 'value': 'Bob'}, {'name': 'community_member', 'value': '1'}]\n",
      "Handle Credentials\n",
      "Credential exchange 6dafaafe-fddd-4e08-abed-746892b546d6, role: issuer, state: credential_acked\n",
      "Being offered: [{'name': 'name', 'value': 'Bob'}, {'name': 'community_member', 'value': '1'}]\n"
     ]
    }
   ],
   "source": [
    "cred_record = await agent_controller.issuer.get_record_by_id(record_id)\n",
    "state = cred_record['state']\n",
    "role = cred_record['role']\n",
    "print(f\"Credential exchange {record_id}, role: {role}, state: {state}\")"
   ]
  },
  {
   "cell_type": "markdown",
   "metadata": {},
   "source": [
    "# 12. Send Proof Request"
   ]
  },
  {
   "cell_type": "markdown",
   "metadata": {},
   "source": [
    "Request a proof of Opemined community member to prove community membership"
   ]
  },
  {
   "cell_type": "code",
   "execution_count": 15,
   "metadata": {},
   "outputs": [
    {
     "name": "stdout",
     "output_type": "stream",
     "text": [
      "Request proof of Openmined Community from Openmined PryVote Voter (Bob)\n"
     ]
    }
   ],
   "source": [
    "print(\"Request proof of Openmined Community from Openmined PryVote Voter (Bob)\")\n",
    "#Set some variables\n",
    "\n",
    "revocation = False\n",
    "SELF_ATTESTED = True\n",
    "exchange_tracing = False\n",
    "\n",
    "#Enable this to ask for attributes to identity a user\n",
    "req_attrs = [\n",
    "    {\"name\": \"name\", \"restrictions\": [{\"issuer_did\": issuer_did}]},\n",
    "]\n",
    "\n",
    "if SELF_ATTESTED:\n",
    "    # test self-attested claims\n",
    "    req_attrs.append({\"name\": \"community_vote\"},)\n",
    "    \n",
    "#Set predicates for Zero Knowledge Proofs\n",
    "req_preds = [\n",
    "    # test zero-knowledge proofs\n",
    "    {\n",
    "        \"name\": \"community_member\",\n",
    "        \"p_type\": \">=\",\n",
    "        \"p_value\": 1,\n",
    "        \"restrictions\": [{\"issuer_did\": issuer_did}],\n",
    "    }\n",
    "]\n",
    "\n",
    "indy_proof_request = {\n",
    "    \"name\": \"Proof of Openmined Community Member\",\n",
    "    \"version\": \"1.0\",\n",
    "    \"requested_attributes\": {\n",
    "        f\"0_{req_attr['name']}_uuid\": \n",
    "        req_attr for req_attr in req_attrs\n",
    "    },\n",
    "    \"requested_predicates\": {\n",
    "        f\"0_{req_pred['name']}_GE_uuid\": \n",
    "        req_pred for req_pred in req_preds\n",
    "    },\n",
    "}\n",
    "\n",
    "if revocation:\n",
    "    indy_proof_request[\"non_revoked\"] = {\"to\": int(time.time())}\n",
    "    \n",
    "proof_request = indy_proof_request"
   ]
  },
  {
   "cell_type": "code",
   "execution_count": 22,
   "metadata": {},
   "outputs": [
    {
     "name": "stdout",
     "output_type": "stream",
     "text": [
      "{'role': 'verifier', 'auto_present': False, 'trace': False, 'presentation_exchange_id': 'bf52acd4-c09d-46d0-ba89-2af52615cb49', 'state': 'request_sent', 'connection_id': '701c408c-be28-4f90-9c6a-7c1e56f7240d', 'presentation_request': {'name': 'Proof of Openmined Community Member', 'version': '1.0', 'requested_attributes': {'0_name_uuid': {'name': 'name', 'restrictions': [{'issuer_did': 'PQRXDxdGqQGSZ8z69p4xZP'}]}, '0_community_vote_uuid': {'name': 'community_vote'}}, 'requested_predicates': {'0_community_member_GE_uuid': {'name': 'community_member', 'p_type': '>=', 'p_value': 1, 'restrictions': [{'issuer_did': 'PQRXDxdGqQGSZ8z69p4xZP'}]}}, 'nonce': '69315844992805527710604'}, 'created_at': '2020-09-09 18:45:43.785536Z', 'thread_id': '61b46e4d-fe2e-4e41-97de-5d4bb3ba4cbb', 'initiator': 'self', 'updated_at': '2020-09-09 18:45:43.785536Z'}\n",
      "\n",
      "\n",
      "bf52acd4-c09d-46d0-ba89-2af52615cb49\n"
     ]
    }
   ],
   "source": [
    "request_body = {\n",
    "    \"connection_id\": connection_id,\n",
    "    \"proof_request\": proof_request,\n",
    "    \"comment\": \"\",\n",
    "    \"trace\": exchange_tracing\n",
    "}\n",
    "\n",
    "response = await agent_controller.proofs.send_request(request_body)\n",
    "print(response)\n",
    "presentation_exchange_id = response['presentation_exchange_id']\n",
    "print(\"\\n\")\n",
    "print(presentation_exchange_id)\n"
   ]
  },
  {
   "cell_type": "markdown",
   "metadata": {},
   "source": [
    "# 16. Verify Proof Presentation"
   ]
  },
  {
   "cell_type": "code",
   "execution_count": 23,
   "metadata": {},
   "outputs": [
    {
     "ename": "ClientResponseError",
     "evalue": "500, message='Internal Server Error', url=URL('http://alice-agent:8021/present-proof/records/bf52acd4-c09d-46d0-ba89-2af52615cb49/verify-presentation')",
     "output_type": "error",
     "traceback": [
      "\u001b[0;31m---------------------------------------------------------------------------\u001b[0m",
      "\u001b[0;31mClientResponseError\u001b[0m                       Traceback (most recent call last)",
      "\u001b[0;32m<ipython-input-23-fe32604b3979>\u001b[0m in \u001b[0;36masync-def-wrapper\u001b[0;34m()\u001b[0m\n\u001b[1;32m      2\u001b[0m \u001b[0mprint\u001b[0m\u001b[0;34m(\u001b[0m\u001b[0mverify\u001b[0m\u001b[0;34m)\u001b[0m\u001b[0;34m\u001b[0m\u001b[0;34m\u001b[0m\u001b[0m\n",
      "\u001b[0;32m/aries_basic_controller/controllers/proof.py\u001b[0m in \u001b[0;36mverify_presentation\u001b[0;34m(self, pres_ex_id)\u001b[0m\n\u001b[1;32m     77\u001b[0m     \u001b[0;31m# Verify a received presentation\u001b[0m\u001b[0;34m\u001b[0m\u001b[0;34m\u001b[0m\u001b[0;34m\u001b[0m\u001b[0m\n\u001b[1;32m     78\u001b[0m     \u001b[0;32masync\u001b[0m \u001b[0;32mdef\u001b[0m \u001b[0mverify_presentation\u001b[0m\u001b[0;34m(\u001b[0m\u001b[0mself\u001b[0m\u001b[0;34m,\u001b[0m \u001b[0mpres_ex_id\u001b[0m\u001b[0;34m)\u001b[0m\u001b[0;34m:\u001b[0m\u001b[0;34m\u001b[0m\u001b[0;34m\u001b[0m\u001b[0m\n\u001b[0;32m---> 79\u001b[0;31m         \u001b[0;32mreturn\u001b[0m \u001b[0;32mawait\u001b[0m \u001b[0mself\u001b[0m\u001b[0;34m.\u001b[0m\u001b[0madmin_POST\u001b[0m\u001b[0;34m(\u001b[0m\u001b[0;34mf\"{self.base_url}/records/{pres_ex_id}/verify-presentation\"\u001b[0m\u001b[0;34m)\u001b[0m\u001b[0;34m\u001b[0m\u001b[0;34m\u001b[0m\u001b[0m\n\u001b[0m\u001b[1;32m     80\u001b[0m \u001b[0;34m\u001b[0m\u001b[0m\n\u001b[1;32m     81\u001b[0m     \u001b[0;32masync\u001b[0m \u001b[0;32mdef\u001b[0m \u001b[0mremove_presentation_record\u001b[0m\u001b[0;34m(\u001b[0m\u001b[0mself\u001b[0m\u001b[0;34m,\u001b[0m \u001b[0mpres_ex_id\u001b[0m\u001b[0;34m)\u001b[0m\u001b[0;34m:\u001b[0m\u001b[0;34m\u001b[0m\u001b[0;34m\u001b[0m\u001b[0m\n",
      "\u001b[0;32m/aries_basic_controller/controllers/base.py\u001b[0m in \u001b[0;36madmin_POST\u001b[0;34m(self, path, data, text, params)\u001b[0m\n\u001b[1;32m     94\u001b[0m                 \u001b[0;34m(\u001b[0m\u001b[0;34m\" with data: \\n{}\"\u001b[0m\u001b[0;34m.\u001b[0m\u001b[0mformat\u001b[0m\u001b[0;34m(\u001b[0m\u001b[0mrepr_json\u001b[0m\u001b[0;34m(\u001b[0m\u001b[0mdata\u001b[0m\u001b[0;34m)\u001b[0m\u001b[0;34m)\u001b[0m \u001b[0;32mif\u001b[0m \u001b[0mdata\u001b[0m \u001b[0;32melse\u001b[0m \u001b[0;34m\"\"\u001b[0m\u001b[0;34m)\u001b[0m\u001b[0;34m,\u001b[0m\u001b[0;34m\u001b[0m\u001b[0;34m\u001b[0m\u001b[0m\n\u001b[1;32m     95\u001b[0m             )\n\u001b[0;32m---> 96\u001b[0;31m             \u001b[0mresponse\u001b[0m \u001b[0;34m=\u001b[0m \u001b[0;32mawait\u001b[0m \u001b[0mself\u001b[0m\u001b[0;34m.\u001b[0m\u001b[0madmin_request\u001b[0m\u001b[0;34m(\u001b[0m\u001b[0;34m\"POST\"\u001b[0m\u001b[0;34m,\u001b[0m \u001b[0mpath\u001b[0m\u001b[0;34m,\u001b[0m \u001b[0mdata\u001b[0m\u001b[0;34m,\u001b[0m \u001b[0mtext\u001b[0m\u001b[0;34m,\u001b[0m \u001b[0mparams\u001b[0m\u001b[0;34m)\u001b[0m\u001b[0;34m\u001b[0m\u001b[0;34m\u001b[0m\u001b[0m\n\u001b[0m\u001b[1;32m     97\u001b[0m             EVENT_LOGGER.debug(\n\u001b[1;32m     98\u001b[0m                 \u001b[0;34m\"Response from POST %s received: \\n%s\"\u001b[0m\u001b[0;34m,\u001b[0m \u001b[0mpath\u001b[0m\u001b[0;34m,\u001b[0m \u001b[0mrepr_json\u001b[0m\u001b[0;34m(\u001b[0m\u001b[0mresponse\u001b[0m\u001b[0;34m)\u001b[0m\u001b[0;34m,\u001b[0m\u001b[0;34m\u001b[0m\u001b[0;34m\u001b[0m\u001b[0m\n",
      "\u001b[0;32m/aries_basic_controller/controllers/base.py\u001b[0m in \u001b[0;36madmin_request\u001b[0;34m(self, method, path, data, text, params)\u001b[0m\n\u001b[1;32m     61\u001b[0m             \u001b[0mmethod\u001b[0m\u001b[0;34m,\u001b[0m \u001b[0mself\u001b[0m\u001b[0;34m.\u001b[0m\u001b[0madmin_url\u001b[0m \u001b[0;34m+\u001b[0m \u001b[0mpath\u001b[0m\u001b[0;34m,\u001b[0m \u001b[0mjson\u001b[0m\u001b[0;34m=\u001b[0m\u001b[0mdata\u001b[0m\u001b[0;34m,\u001b[0m \u001b[0mparams\u001b[0m\u001b[0;34m=\u001b[0m\u001b[0mparams\u001b[0m\u001b[0;34m\u001b[0m\u001b[0;34m\u001b[0m\u001b[0m\n\u001b[1;32m     62\u001b[0m         ) as resp:\n\u001b[0;32m---> 63\u001b[0;31m             \u001b[0mresp\u001b[0m\u001b[0;34m.\u001b[0m\u001b[0mraise_for_status\u001b[0m\u001b[0;34m(\u001b[0m\u001b[0;34m)\u001b[0m\u001b[0;34m\u001b[0m\u001b[0;34m\u001b[0m\u001b[0m\n\u001b[0m\u001b[1;32m     64\u001b[0m             \u001b[0mresp_text\u001b[0m \u001b[0;34m=\u001b[0m \u001b[0;32mawait\u001b[0m \u001b[0mresp\u001b[0m\u001b[0;34m.\u001b[0m\u001b[0mtext\u001b[0m\u001b[0;34m(\u001b[0m\u001b[0;34m)\u001b[0m\u001b[0;34m\u001b[0m\u001b[0;34m\u001b[0m\u001b[0m\n\u001b[1;32m     65\u001b[0m             \u001b[0;32mif\u001b[0m \u001b[0;32mnot\u001b[0m \u001b[0mresp_text\u001b[0m \u001b[0;32mand\u001b[0m \u001b[0;32mnot\u001b[0m \u001b[0mtext\u001b[0m\u001b[0;34m:\u001b[0m\u001b[0;34m\u001b[0m\u001b[0;34m\u001b[0m\u001b[0m\n",
      "\u001b[0;32m/opt/conda/lib/python3.7/site-packages/aiohttp/client_reqrep.py\u001b[0m in \u001b[0;36mraise_for_status\u001b[0;34m(self)\u001b[0m\n\u001b[1;32m    944\u001b[0m                 \u001b[0mstatus\u001b[0m\u001b[0;34m=\u001b[0m\u001b[0mself\u001b[0m\u001b[0;34m.\u001b[0m\u001b[0mstatus\u001b[0m\u001b[0;34m,\u001b[0m\u001b[0;34m\u001b[0m\u001b[0;34m\u001b[0m\u001b[0m\n\u001b[1;32m    945\u001b[0m                 \u001b[0mmessage\u001b[0m\u001b[0;34m=\u001b[0m\u001b[0mself\u001b[0m\u001b[0;34m.\u001b[0m\u001b[0mreason\u001b[0m\u001b[0;34m,\u001b[0m\u001b[0;34m\u001b[0m\u001b[0;34m\u001b[0m\u001b[0m\n\u001b[0;32m--> 946\u001b[0;31m                 headers=self.headers)\n\u001b[0m\u001b[1;32m    947\u001b[0m \u001b[0;34m\u001b[0m\u001b[0m\n\u001b[1;32m    948\u001b[0m     \u001b[0;32mdef\u001b[0m \u001b[0m_cleanup_writer\u001b[0m\u001b[0;34m(\u001b[0m\u001b[0mself\u001b[0m\u001b[0;34m)\u001b[0m \u001b[0;34m->\u001b[0m \u001b[0;32mNone\u001b[0m\u001b[0;34m:\u001b[0m\u001b[0;34m\u001b[0m\u001b[0;34m\u001b[0m\u001b[0m\n",
      "\u001b[0;31mClientResponseError\u001b[0m: 500, message='Internal Server Error', url=URL('http://alice-agent:8021/present-proof/records/bf52acd4-c09d-46d0-ba89-2af52615cb49/verify-presentation')"
     ]
    },
    {
     "name": "stderr",
     "output_type": "stream",
     "text": [
      "ERROR:asyncio:Task exception was never retrieved\n",
      "future: <Task finished coro=<run_in_terminal.<locals>.run() done, defined at /opt/conda/lib/python3.7/site-packages/prompt_toolkit/application/run_in_terminal.py:50> exception=UnsupportedOperation('fileno')>\n",
      "Traceback (most recent call last):\n",
      "  File \"/opt/conda/lib/python3.7/site-packages/prompt_toolkit/application/run_in_terminal.py\", line 55, in run\n",
      "    return func()\n",
      "  File \"/aries_basic_controller/helpers/utils.py\", line 120, in <lambda>\n",
      "    run_in_terminal(lambda: print_ext(*msg, color=color, **kwargs))\n",
      "  File \"/aries_basic_controller/helpers/utils.py\", line 103, in print_ext\n",
      "    print_formatted(FormattedText(msg), **kwargs)\n",
      "  File \"/aries_basic_controller/helpers/utils.py\", line 83, in print_formatted\n",
      "    prompt_toolkit.print_formatted_text(*args, **kwargs)\n",
      "  File \"/opt/conda/lib/python3.7/site-packages/prompt_toolkit/shortcuts/utils.py\", line 112, in print_formatted_text\n",
      "    output = get_app_session().output\n",
      "  File \"/opt/conda/lib/python3.7/site-packages/prompt_toolkit/application/current.py\", line 65, in output\n",
      "    self._output = create_output()\n",
      "  File \"/opt/conda/lib/python3.7/site-packages/prompt_toolkit/output/defaults.py\", line 62, in create_output\n",
      "    return Vt100_Output.from_pty(stdout, term=get_term_environment_variable())\n",
      "  File \"/opt/conda/lib/python3.7/site-packages/prompt_toolkit/output/vt100.py\", line 449, in from_pty\n",
      "    fd = stdout.fileno()\n",
      "io.UnsupportedOperation: fileno\n"
     ]
    }
   ],
   "source": [
    "verify = await agent_controller.proofs.verify_presentation(presentation_exchange_id)\n",
    "print(verify)"
   ]
  },
  {
   "cell_type": "markdown",
   "metadata": {},
   "source": [
    "## End of Tutorial\n",
    "\n",
    "Be sure to terminate the controller so you can run another tutorial.\n",
    "\n",
    "There are a few api calls not covered in this tutorial so far. Mostly around credential revocation."
   ]
  },
  {
   "cell_type": "code",
   "execution_count": 24,
   "metadata": {},
   "outputs": [
    {
     "name": "stdout",
     "output_type": "stream",
     "text": [
      "None\n"
     ]
    }
   ],
   "source": [
    "response = await agent_controller.terminate()\n",
    "print(response)"
   ]
  },
  {
   "cell_type": "code",
   "execution_count": null,
   "metadata": {},
   "outputs": [],
   "source": []
  }
 ],
 "metadata": {
  "kernelspec": {
   "display_name": "Python 3",
   "language": "python",
   "name": "python3"
  },
  "language_info": {
   "codemirror_mode": {
    "name": "ipython",
    "version": 3
   },
   "file_extension": ".py",
   "mimetype": "text/x-python",
   "name": "python",
   "nbconvert_exporter": "python",
   "pygments_lexer": "ipython3",
   "version": "3.8.5"
  }
 },
 "nbformat": 4,
 "nbformat_minor": 4
}
