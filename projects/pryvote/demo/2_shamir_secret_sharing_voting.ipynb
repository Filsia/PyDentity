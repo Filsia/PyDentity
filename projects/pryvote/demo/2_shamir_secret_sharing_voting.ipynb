{
 "cells": [
  {
   "cell_type": "markdown",
   "metadata": {},
   "source": [
    "# Shamir Secret Sharing Voting\n",
    "\n",
    "In this notebook,\n",
    "we explore a voting protocol which uses Shamir's Secret Sharing (SSS)\n",
    "to aggregate votes,\n",
    "without individual votes being discoverable.\n",
    "This protocol is best suited to a voting session with well-defined,\n",
    "non-cooperating parties,\n",
    "such as political parties in a general election.\n",
    "However,\n",
    "we only need _K_ vote counters to act honestly\n",
    "in order to decrypt the results,\n",
    "where _K_ is a variable to be decided on by the vote controller.\n",
    "\n",
    "*THIS IS A POC. SSI/SECURE COMMUNICATION IS NOT IN PLACE.*\n",
    "\n",
    "For this POC,\n",
    "we shall perform a categorical vote on \"Best PriCon workshop\"."
   ]
  },
  {
   "cell_type": "code",
   "execution_count": 1,
   "metadata": {},
   "outputs": [],
   "source": [
    "import random\n",
    "import uuid\n",
    "from decimal import Decimal\n",
    "\n",
    "import numpy as np"
   ]
  },
  {
   "cell_type": "markdown",
   "metadata": {},
   "source": [
    "## Define Voting Session\n",
    "\n",
    "We create a helper class to manage voting options"
   ]
  },
  {
   "cell_type": "code",
   "execution_count": 2,
   "metadata": {},
   "outputs": [],
   "source": [
    "class Vote:\n",
    "    def __init__(self, *options):\n",
    "        vote_values = {}\n",
    "        for i, option in enumerate(options):\n",
    "            vote_values[option] = i\n",
    "\n",
    "        self._vote_values = vote_values\n",
    "        self._vote_classes = {v: k for k, v in vote_values.items()}\n",
    "\n",
    "    def __len__(self):\n",
    "        return len(self._vote_values)\n",
    "\n",
    "    def __getitem__(self, i):\n",
    "        return self._vote_classes[i]\n",
    "\n",
    "    def get_vote_class(self, vote_value):\n",
    "        return self._vote_values[vote_value]\n",
    "\n",
    "    def get_vote_value(self, vote_class):\n",
    "        return self._vote_classes[vote_class]"
   ]
  },
  {
   "cell_type": "code",
   "execution_count": 3,
   "metadata": {},
   "outputs": [],
   "source": [
    "pricon_vote = Vote(\"PryVote\", \"PyDP\", \"PyVertical\")"
   ]
  },
  {
   "cell_type": "markdown",
   "metadata": {},
   "source": [
    "## Define roles\n",
    "\n",
    "We create simple _Voter_ and _Party_ classes.\n",
    "\n",
    "Voter:\n",
    "- Given a unique ID\n",
    "- Can store a personal vote value\n",
    "- Can send vote and ID to parties\n",
    "\n",
    "Party:\n",
    "- Can aggregate votes\n",
    "- Can share vote aggregates amongst other parties"
   ]
  },
  {
   "cell_type": "code",
   "execution_count": 4,
   "metadata": {},
   "outputs": [],
   "source": [
    "class Voter:\n",
    "    def __init__(self, Q: int, n_counters: int = 2) -> None:\n",
    "        self._id = uuid.uuid4()\n",
    "        self._Q = Q\n",
    "        self._vote_shares = None\n",
    "\n",
    "    def _get_polynomial(self, x, coeff): \n",
    "        return sum([x**(len(coeff)-i-1) * coeff[i] for i in range(len(coeff))]) \n",
    "   \n",
    "    def _get_coeffs(self, t, secret):\n",
    "        coeff = [random.randint(0, self._Q) for _ in range(t-1)] \n",
    "        coeff.append(secret) \n",
    "\n",
    "        return coeff \n",
    "\n",
    "    def _encrypt_vote(self, n, m, secret): \n",
    "        cfs = self._get_coeffs(m,secret) \n",
    "        shares = [] \n",
    "\n",
    "        for i in range(1,n+1): \n",
    "            shares.append((i, self._get_polynomial(i,cfs)))\n",
    "\n",
    "        return shares \n",
    "\n",
    "    def update_vote(self, vote_value: str) -> None:\n",
    "        try:\n",
    "            vote_class = pricon_vote.get_vote_class(vote_value)\n",
    "\n",
    "            onehot_votes = [0] * len(pricon_vote)\n",
    "            onehot_votes[vote_class] = 1\n",
    "            \n",
    "            vote_shares = []\n",
    "\n",
    "            for binary_vote in onehot_votes:\n",
    "                vote_shares.append(self._encrypt_vote(3, 2, binary_vote))\n",
    "\n",
    "            self._vote_shares = list(map(list, zip(*vote_shares)))\n",
    "        except KeyError:\n",
    "            self._vote_shares = None\n",
    "\n",
    "    def send_vote(self, parties) -> None:\n",
    "        if self._vote_shares is None:\n",
    "            print(f\"{self._id} has not set a vote\")\n",
    "            return\n",
    "\n",
    "        assert len(self._vote_shares) == len(parties)\n",
    "\n",
    "        for vote_share, party in zip(self._vote_shares, parties):\n",
    "            party.receive_vote(self._id, vote_share)"
   ]
  },
  {
   "cell_type": "code",
   "execution_count": 5,
   "metadata": {},
   "outputs": [],
   "source": [
    "class Party:\n",
    "    def __init__(self, name: str, Q: int, vote_counter_number: int) -> None:\n",
    "        self._name = name\n",
    "        self._Q = Q\n",
    "        self._ids = []\n",
    "        self._vote_sum = [(vote_counter_number, 0)] * len(pricon_vote)  # init to zero for each vote count\n",
    "\n",
    "    def receive_vote(self, voter_id: uuid.UUID, votes) -> None:\n",
    "        if voter_id not in self._ids:\n",
    "            print(f\"{self._name}: Adding vote for {voter_id}\")\n",
    "            self._ids.append(voter_id)\n",
    "\n",
    "            for i in range(len(votes)):\n",
    "                vote_counter_number, vote_sum = self._vote_sum[i]\n",
    "                assert votes[i][0] == vote_counter_number  # x point should be constant\n",
    "                self._vote_sum[i] = (vote_counter_number, vote_sum + votes[i][1])\n",
    "        else:\n",
    "            print(f\"{self._name}: {voter_id} has already voted\")"
   ]
  },
  {
   "cell_type": "markdown",
   "metadata": {},
   "source": [
    "## Define Q"
   ]
  },
  {
   "cell_type": "code",
   "execution_count": 6,
   "metadata": {},
   "outputs": [],
   "source": [
    "Q = 1234567891011"
   ]
  },
  {
   "cell_type": "markdown",
   "metadata": {},
   "source": [
    "## Create Voters and Vote counters\n",
    "\n",
    "5 voters, 3 vote counters (red, blue, yellow)"
   ]
  },
  {
   "cell_type": "code",
   "execution_count": 7,
   "metadata": {},
   "outputs": [],
   "source": [
    "red = Party(\"red\", Q, 1)\n",
    "blue = Party(\"blue\", Q, 2)\n",
    "yellow = Party(\"yellow\", Q, 3)"
   ]
  },
  {
   "cell_type": "code",
   "execution_count": 8,
   "metadata": {},
   "outputs": [],
   "source": [
    "alice = Voter(Q)\n",
    "bob = Voter(Q)\n",
    "charlie = Voter(Q)\n",
    "dan = Voter(Q)\n",
    "eve = Voter(Q)\n",
    "fran = Voter(Q)\n",
    "greg = Voter(Q)"
   ]
  },
  {
   "cell_type": "markdown",
   "metadata": {},
   "source": [
    "## Vote!\n",
    "\n",
    "Each voter splits their votes into 3 shares\n",
    "and shares only one share with each of the three vote counters.\n",
    "No vote counter can work out what the vote was,\n",
    "given only a single share -\n",
    "you need all to somehow get hold of all three to be able to reverse the encryption!\n",
    "However,\n",
    "the shares a vote counter receives can be combined.\n",
    "\n",
    "<img src=\"../images/smpv-1.png\" alt=\"Voting Protocol\" width=\"900\"/>"
   ]
  },
  {
   "cell_type": "code",
   "execution_count": 9,
   "metadata": {},
   "outputs": [],
   "source": [
    "alice.update_vote(\"PryVote\")\n",
    "bob.update_vote(\"PryVote\")\n",
    "charlie.update_vote(\"PyDP\")\n",
    "dan.update_vote(\"PryVote\")\n",
    "eve.update_vote(\"PyDP\")\n",
    "fran.update_vote(\"PyVertical\")\n",
    "greg.update_vote(\"PyVertical\")"
   ]
  },
  {
   "cell_type": "code",
   "execution_count": 10,
   "metadata": {},
   "outputs": [
    {
     "name": "stdout",
     "output_type": "stream",
     "text": [
      "red: Adding vote for 9c6ef014-c21a-4162-a704-b79fdc80d5d7\n",
      "blue: Adding vote for 9c6ef014-c21a-4162-a704-b79fdc80d5d7\n",
      "yellow: Adding vote for 9c6ef014-c21a-4162-a704-b79fdc80d5d7\n",
      "red: Adding vote for 624d958b-1464-43b3-91ea-414fe70db057\n",
      "blue: Adding vote for 624d958b-1464-43b3-91ea-414fe70db057\n",
      "yellow: Adding vote for 624d958b-1464-43b3-91ea-414fe70db057\n",
      "red: Adding vote for dde39d6a-3432-4818-a9d9-42bddaf85ff0\n",
      "blue: Adding vote for dde39d6a-3432-4818-a9d9-42bddaf85ff0\n",
      "yellow: Adding vote for dde39d6a-3432-4818-a9d9-42bddaf85ff0\n",
      "red: Adding vote for eda0d4d8-a03f-46a8-ac12-8ea51bec2f9f\n",
      "blue: Adding vote for eda0d4d8-a03f-46a8-ac12-8ea51bec2f9f\n",
      "yellow: Adding vote for eda0d4d8-a03f-46a8-ac12-8ea51bec2f9f\n",
      "red: Adding vote for 1f89fe4d-78f1-40a6-8f96-1d43979a1742\n",
      "blue: Adding vote for 1f89fe4d-78f1-40a6-8f96-1d43979a1742\n",
      "yellow: Adding vote for 1f89fe4d-78f1-40a6-8f96-1d43979a1742\n",
      "red: Adding vote for e48ec75f-d635-4402-abbe-0eda22a0b174\n",
      "blue: Adding vote for e48ec75f-d635-4402-abbe-0eda22a0b174\n",
      "yellow: Adding vote for e48ec75f-d635-4402-abbe-0eda22a0b174\n",
      "red: Adding vote for 4efbd911-da95-4976-b978-29fb0933819f\n",
      "blue: Adding vote for 4efbd911-da95-4976-b978-29fb0933819f\n",
      "yellow: Adding vote for 4efbd911-da95-4976-b978-29fb0933819f\n"
     ]
    }
   ],
   "source": [
    "for voter in [alice, bob, charlie, dan, eve, fran, greg]:\n",
    "    voter.send_vote([red, blue, yellow])"
   ]
  },
  {
   "cell_type": "markdown",
   "metadata": {},
   "source": [
    "What do the votes look like to a vote counter?"
   ]
  },
  {
   "cell_type": "code",
   "execution_count": 11,
   "metadata": {},
   "outputs": [
    {
     "data": {
      "text/plain": [
       "([(1, 4100506485450), (1, 5775088068187), (1, 5470085133032)],\n",
       " [(2, 8201012970897), (2, 11550176136372), (2, 10940170266062)],\n",
       " [(3, 12301519456344), (3, 17325264204557), (3, 16410255399092)])"
      ]
     },
     "execution_count": 11,
     "metadata": {},
     "output_type": "execute_result"
    }
   ],
   "source": [
    "red._vote_sum, blue._vote_sum, yellow._vote_sum"
   ]
  },
  {
   "cell_type": "markdown",
   "metadata": {},
   "source": [
    "## Decrypt the Vote\n",
    "\n",
    "When the voting is done,\n",
    "the vote counters share the _sums_\n",
    "of the secret vote shares\n",
    "they received.\n",
    "Together,\n",
    "the sums of shares can be decrypted\n",
    "to find a _result_ -\n",
    "no individual vote can be decrypted.\n",
    "\n",
    "<img src=\"../images/smpv-2.png\" alt=\"Voting Protocol\" width=\"900\"/>"
   ]
  },
  {
   "cell_type": "markdown",
   "metadata": {},
   "source": [
    "## Decrypt using pairs of vote counters"
   ]
  },
  {
   "cell_type": "code",
   "execution_count": 12,
   "metadata": {},
   "outputs": [
    {
     "name": "stdout",
     "output_type": "stream",
     "text": [
      "\n",
      "\n",
      "Decrypting results using red and blue...\n",
      "Vote counts are [3, 2, 2]\n",
      "PryVote is the winner!\n",
      "\n",
      "\n",
      "Decrypting results using red and yellow...\n",
      "Vote counts are [3, 2, 2]\n",
      "PryVote is the winner!\n",
      "\n",
      "\n",
      "Decrypting results using blue and yellow...\n",
      "Vote counts are [3, 2, 2]\n",
      "PryVote is the winner!\n"
     ]
    }
   ],
   "source": [
    "vote_counters = {\"red\": red,\n",
    "                 \"blue\": blue,\n",
    "                 \"yellow\": yellow}\n",
    "\n",
    "for counter_1_idx, (vc_1_name, vc_1) in enumerate(vote_counters.items()):\n",
    "    for counter_2_idx, (vc_2_name, vc_2) in enumerate(vote_counters.items()):\n",
    "        if counter_2_idx <= counter_1_idx:\n",
    "            continue\n",
    "\n",
    "        print(f\"\\n\\nDecrypting results using {vc_1_name} and {vc_2_name}...\")\n",
    "\n",
    "        vote_counts = []\n",
    "        vote_values = []\n",
    "\n",
    "        for i in range(len(pricon_vote)):\n",
    "            vote_value = pricon_vote[i]\n",
    "\n",
    "            first_counter_shares = vc_1._vote_sum[i]\n",
    "            second_counter_shares = vc_2._vote_sum[i]\n",
    "\n",
    "            l0 = -second_counter_shares[0] / (first_counter_shares[0] - second_counter_shares[0])\n",
    "            l1 = -first_counter_shares[0] / (second_counter_shares[0] - first_counter_shares[0])\n",
    "\n",
    "            result = l0 * first_counter_shares[1] + l1 * second_counter_shares[1]\n",
    "            if result > Q:\n",
    "                result = result % Q\n",
    "            result = int(result)\n",
    "\n",
    "            vote_values.append(vote_value)\n",
    "            vote_counts.append(result)\n",
    "\n",
    "        winning_index = np.argmax(vote_counts)\n",
    "        winner = pricon_vote.get_vote_value(winning_index)\n",
    "\n",
    "        print(f\"Vote counts are {vote_counts}\\n{winner} is the winner!\")"
   ]
  },
  {
   "cell_type": "markdown",
   "metadata": {},
   "source": [
    "We see that the correct result is produced for each pair of vote counters.\n",
    "In practice, this means that the voting system can be made robust against malicious vote counters."
   ]
  },
  {
   "cell_type": "markdown",
   "metadata": {},
   "source": [
    "---\n",
    "\n",
    "## Evaluation of the protocol"
   ]
  },
  {
   "cell_type": "code",
   "execution_count": null,
   "metadata": {},
   "outputs": [],
   "source": []
  }
 ],
 "metadata": {
  "kernelspec": {
   "display_name": "Python 3",
   "language": "python",
   "name": "python3"
  },
  "language_info": {
   "codemirror_mode": {
    "name": "ipython",
    "version": 3
   },
   "file_extension": ".py",
   "mimetype": "text/x-python",
   "name": "python",
   "nbconvert_exporter": "python",
   "pygments_lexer": "ipython3",
   "version": "3.8.5"
  }
 },
 "nbformat": 4,
 "nbformat_minor": 4
}
