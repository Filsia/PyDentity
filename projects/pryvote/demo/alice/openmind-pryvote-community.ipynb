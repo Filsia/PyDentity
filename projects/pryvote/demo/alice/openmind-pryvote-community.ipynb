{
 "cells": [
  {
   "cell_type": "markdown",
   "metadata": {
    "collapsed": true
   },
   "source": [
    "# Aries Basic Controller - Openmined PryVote Community (Alice)\n",
    "\n",
    "This notebook walks through a MVP for PryVote assuming the Openminded community will be issued an Openmined commuity credential that will enable community members to vote on basic things. The credential will be issued across a previously established connection. \n",
    "\n",
    "It is best run in parallel with the [openmind-pryvote-voter notebook](http://127.0.0.1:8889/notebooks/openmind-pryvote-voter.ipynb) controlling the agent receiving the credential to enable voting.\n",
    "\n",
    "If unfamiliar with the protocol it is worth reading through the [aries-rfs](https://github.com/hyperledger/aries-rfcs/tree/master/features/0036-issue-credential)\n"
   ]
  },
  {
   "cell_type": "code",
   "execution_count": 1,
   "metadata": {},
   "outputs": [
    {
     "name": "stdout",
     "output_type": "stream",
     "text": [
      "IPython autoawait is `on`, and set to use `asyncio`\n"
     ]
    }
   ],
   "source": [
    "%autoawait\n",
    "import time\n",
    "import asyncio"
   ]
  },
  {
   "cell_type": "code",
   "execution_count": 2,
   "metadata": {},
   "outputs": [],
   "source": [
    "from aries_basic_controller.aries_controller import AriesAgentController\n",
    "    \n",
    "WEBHOOK_HOST = \"0.0.0.0\"\n",
    "WEBHOOK_PORT = 8022\n",
    "WEBHOOK_BASE = \"\"\n",
    "ADMIN_URL = \"http://alice-agent:8021\"\n",
    "\n",
    "# Based on the aca-py agent you wish to control\n",
    "agent_controller = AriesAgentController(webhook_host=WEBHOOK_HOST, webhook_port=WEBHOOK_PORT,\n",
    "                                       webhook_base=WEBHOOK_BASE, admin_url=ADMIN_URL)\n",
    "    "
   ]
  },
  {
   "cell_type": "markdown",
   "metadata": {},
   "source": [
    "## Register Listeners\n",
    "\n",
    "The handler should get called every time the controller receives a webhook with the topic issue_credential, printing out the payload. The agent calls to this webhook every time it receives an issue-credential protocol message from a credential."
   ]
  },
  {
   "cell_type": "code",
   "execution_count": 3,
   "metadata": {},
   "outputs": [],
   "source": [
    "loop = asyncio.get_event_loop()\n",
    "loop.create_task(agent_controller.listen_webhooks())\n",
    "\n",
    "def cred_handler(payload):\n",
    "    print(\"Handle Credentials\")\n",
    "    exchange_id = payload['credential_exchange_id']\n",
    "    state = payload['state']\n",
    "    role = payload['role']\n",
    "    attributes = payload['credential_proposal_dict']['credential_proposal']['attributes']\n",
    "    print(f\"Credential exchange {exchange_id}, role: {role}, state: {state}\")\n",
    "    print(f\"Being offered: {attributes}\")\n",
    "    \n",
    "cred_listener = {\n",
    "    \"topic\": \"issue_credential\",\n",
    "    \"handler\": cred_handler\n",
    "}\n",
    "agent_controller.register_listeners([cred_listener], defaults=True)\n"
   ]
  },
  {
   "cell_type": "markdown",
   "metadata": {},
   "source": [
    "## Check the agent has an active connection\n",
    "\n",
    "**Note: An active connection is required, this should have been established on start up through the python script create_connection.py in the setup folder. If not it is possible to run through the did-exchange tutorial to create one between Alice and Bob**\n",
    "\n",
    "* [Alice](http://localhost:8888/notebooks/did-exchange-inviter.ipynb)\n",
    "* [Bob](http://localhost:8889/notebooks/did-exchange-invitee.ipynb)"
   ]
  },
  {
   "cell_type": "code",
   "execution_count": 4,
   "metadata": {},
   "outputs": [
    {
     "name": "stdout",
     "output_type": "stream",
     "text": [
      "Results :  [{'state': 'active', 'request_id': 'ae00c60d-82e0-40a2-bf67-c4d634f33d12', 'my_did': 'UVmEvcgAYHs9GfQX5ogBva', 'created_at': '2020-08-18 15:11:24.523347Z', 'routing_state': 'none', 'initiator': 'external', 'invitation_key': 'AyGfBkZfieFaNDvngJhz2CrDReDX2xFMAwMLy6yiWYUS', 'their_did': '7a5BenAM3g2Kxrs6z3zYbH', 'invitation_mode': 'once', 'accept': 'manual', 'updated_at': '2020-08-18 15:11:34.735287Z', 'their_label': 'Bob', 'connection_id': 'a73894b1-62f6-4389-8bf8-4926254bed0e'}]\n",
      "Connection : {'state': 'active', 'request_id': 'ae00c60d-82e0-40a2-bf67-c4d634f33d12', 'my_did': 'UVmEvcgAYHs9GfQX5ogBva', 'created_at': '2020-08-18 15:11:24.523347Z', 'routing_state': 'none', 'initiator': 'external', 'invitation_key': 'AyGfBkZfieFaNDvngJhz2CrDReDX2xFMAwMLy6yiWYUS', 'their_did': '7a5BenAM3g2Kxrs6z3zYbH', 'invitation_mode': 'once', 'accept': 'manual', 'updated_at': '2020-08-18 15:11:34.735287Z', 'their_label': 'Bob', 'connection_id': 'a73894b1-62f6-4389-8bf8-4926254bed0e'}\n",
      "Active Connection ID :  a73894b1-62f6-4389-8bf8-4926254bed0e\n"
     ]
    }
   ],
   "source": [
    "response = await agent_controller.connections.get_connections()\n",
    "results = response['results']\n",
    "print(\"Results : \", results)\n",
    "if len(results) > 0:\n",
    "    connection = response['results'][0]\n",
    "    print(\"Connection :\", connection)\n",
    "    if connection['state'] == 'active':       \n",
    "        connection_id = connection[\"connection_id\"]\n",
    "        print(\"Active Connection ID : \", connection_id)\n",
    "else:\n",
    "    print(\"You must create a connection\")\n",
    "    "
   ]
  },
  {
   "cell_type": "markdown",
   "metadata": {},
   "source": [
    "## Write a Schema to the Ledger\n",
    "\n",
    "For more details see the [schema-api notebook](http://localhost:8888/notebooks/schema_api.ipynb)"
   ]
  },
  {
   "cell_type": "code",
   "execution_count": 5,
   "metadata": {},
   "outputs": [
    {
     "name": "stdout",
     "output_type": "stream",
     "text": [
      "PQRXDxdGqQGSZ8z69p4xZP:2:open_mined_community-member1:0.0.1\n"
     ]
    }
   ],
   "source": [
    "# Define you schema name - must be unique on the ledger\n",
    "schema_name = \"open_mined_community-member1\"\n",
    "# Can version the schema if you wish to update it\n",
    "schema_version = \"0.0.1\"\n",
    "# Define any list of attributes you wish to include in your schema\n",
    "attributes = [\"name\", \"community_member\"]\n",
    "\n",
    "response = await agent_controller.schema.write_schema(schema_name, attributes, schema_version)\n",
    "schema_id = response[\"schema_id\"]\n",
    "print(schema_id)\n"
   ]
  },
  {
   "cell_type": "markdown",
   "metadata": {},
   "source": [
    "## Write a Credential Definition to the Ledger\n",
    "\n",
    "More details in the [definitions notebook](http://localhost:8888/notebooks/definitions_api.ipynb)"
   ]
  },
  {
   "cell_type": "code",
   "execution_count": 6,
   "metadata": {},
   "outputs": [
    {
     "name": "stdout",
     "output_type": "stream",
     "text": [
      "{'credential_definition_id': 'PQRXDxdGqQGSZ8z69p4xZP:3:CL:10:default'}\n",
      "PQRXDxdGqQGSZ8z69p4xZP:3:CL:10:default\n"
     ]
    }
   ],
   "source": [
    "response = await agent_controller.definitions.write_cred_def(schema_id)\n",
    "print(response)\n",
    "cred_def_id = response[\"credential_definition_id\"]\n",
    "print(cred_def_id)\n",
    "# cred_def_id = 'PQRXDxdGqQGSZ8z69p4xZP:3:CL:12:default'"
   ]
  },
  {
   "cell_type": "markdown",
   "metadata": {},
   "source": [
    "**Note: You should be able to see both schema and definition transactions on the local network [here](http://localhost:9000)**"
   ]
  },
  {
   "cell_type": "markdown",
   "metadata": {},
   "source": [
    "## Populate the Attribues to Issue to Openmind-pryvote-voter (Bob)\n",
    "\n",
    "The schema defines two attributes: name and community_member. Both must be populated with attribute values that Openmined Community (Alice) wishes to issue in a credential to Openmind-pryvote-voter (Bob). To do this a list of objects must be created, each object containing the name of the attribute and it's value at a minimum. You can set the values to anything you wish.\n",
    "\n",
    "TODO: Some additional fields such as mime-type can be defined."
   ]
  },
  {
   "cell_type": "code",
   "execution_count": 7,
   "metadata": {},
   "outputs": [
    {
     "name": "stdout",
     "output_type": "stream",
     "text": [
      "[{'name': 'name', 'value': 'Bob'}, {'name': 'community_member', 'value': '1'}]\n"
     ]
    }
   ],
   "source": [
    "credential_attributes = [\n",
    "    {\"name\": \"name\", \"value\": \"Bob\"},\n",
    "    {\"name\": \"community_member\", \"value\": \"1\"}\n",
    "]\n",
    "print(credential_attributes)"
   ]
  },
  {
   "cell_type": "markdown",
   "metadata": {},
   "source": [
    "## Send Credential\n",
    "\n",
    "This sends a credential to a holder Openmind-pryvote-voter (Bob), and automates the rest of the protocol. This tutorial works best if you have initialised the [openmind-pryvote-voter notebook](http://127.0.0.1:8889/notebooks/openmind-pryvote-voter.ipynb) and registered the listener for the issue_credential webhook.\n",
    "\n",
    "There are other ways to issue a credential that require multiple api calls.\n",
    "\n",
    "**Arguments**\n",
    "* connection_id: The connection_id of the holder you wish to issue to (MUST be in active state)\n",
    "* schema_id: The id of the schema you wish to issue\n",
    "* cred_def_id: The definition (public key) to sign the credential object. This must refer to the schema_id and be written to the ledger by the same public did that is currently being used by the agent.\n",
    "* attributes: A list of attribute objects as defined above. Must match the schema attributes.\n",
    "* comment (optional): Any string, defaults to \"\"\n",
    "* auto_remove (optional): Boolean, defaults to True. I believe this removes the record of this credential once it has been issued. (TODO: double check)\n",
    "* trace (optional): Boolean, defaults to False. **Not entirely sure about this one, believe its for logging. Also when set to True it throws an error**"
   ]
  },
  {
   "cell_type": "code",
   "execution_count": 8,
   "metadata": {},
   "outputs": [
    {
     "name": "stdout",
     "output_type": "stream",
     "text": [
      "{'issuer_did': 'PQRXDxdGqQGSZ8z69p4xZP', 'auto_remove': True, 'credential_proposal': {'@type': 'did:sov:BzCbsNYhMrjHiqZDTUASHg;spec/issue-credential/1.0/credential-preview', 'attributes': [{'name': 'name', 'value': 'Bob'}, {'name': 'community_member', 'value': '1'}]}, 'connection_id': 'a73894b1-62f6-4389-8bf8-4926254bed0e', 'trace': False, 'comment': '', 'cred_def_id': 'PQRXDxdGqQGSZ8z69p4xZP:3:CL:10:default', 'schema_id': 'PQRXDxdGqQGSZ8z69p4xZP:2:open_mined_community-member1:0.0.1', 'schema_name': 'open_mined_community-member1', 'schema_version': '0.0.1', 'schema_issuer_did': 'PQRXDxdGqQGSZ8z69p4xZP'}\n",
      "Credential exchange 1f4d9586-e183-400a-9a36-d0b57815c422, role: issuer, state: offer_sent\n",
      "Handle Credentials\n",
      "Credential exchange 1f4d9586-e183-400a-9a36-d0b57815c422, role: issuer, state: offer_sent\n",
      "Being offered: [{'name': 'name', 'value': 'Bob'}, {'name': 'community_member', 'value': '1'}]\n",
      "Handle Credentials\n",
      "Credential exchange 1f4d9586-e183-400a-9a36-d0b57815c422, role: issuer, state: request_received\n",
      "Being offered: [{'name': 'name', 'value': 'Bob'}, {'name': 'community_member', 'value': '1'}]\n",
      "Handle Credentials\n",
      "Credential exchange 1f4d9586-e183-400a-9a36-d0b57815c422, role: issuer, state: credential_issued\n",
      "Being offered: [{'name': 'name', 'value': 'Bob'}, {'name': 'community_member', 'value': '1'}]\n",
      "Handle Credentials\n",
      "Credential exchange 1f4d9586-e183-400a-9a36-d0b57815c422, role: issuer, state: credential_acked\n",
      "Being offered: [{'name': 'name', 'value': 'Bob'}, {'name': 'community_member', 'value': '1'}]\n"
     ]
    }
   ],
   "source": [
    "record = await agent_controller.issuer.send_credential(connection_id, schema_id, cred_def_id, credential_attributes, trace=False)\n",
    "record_id = record['credential_exchange_id']\n",
    "state = record['state']\n",
    "role = record['role']\n",
    "#extract issuer DID for proof request requirements\n",
    "issuer_did = record['credential_proposal_dict']['issuer_did']\n",
    "print(f\"Credential exchange {record_id}, role: {role}, state: {state}\")\n"
   ]
  },
  {
   "cell_type": "markdown",
   "metadata": {},
   "source": [
    "## Get Credential Exchange Records\n",
    "\n",
    "The state of the protocol is stored in an object called a Credential Exchange. These can be retrieved from the agent either individually by ID or the full list.\n",
    "\n",
    "Each record has a state, representing the stage of the protocol the record is at and a role. Either issuer or holder."
   ]
  },
  {
   "cell_type": "code",
   "execution_count": 11,
   "metadata": {},
   "outputs": [
    {
     "name": "stdout",
     "output_type": "stream",
     "text": [
      "[]\n"
     ]
    }
   ],
   "source": [
    "response = await agent_controller.issuer.get_records()\n",
    "print(response['results'])"
   ]
  },
  {
   "cell_type": "code",
   "execution_count": 12,
   "metadata": {},
   "outputs": [
    {
     "ename": "ClientResponseError",
     "evalue": "404, message='Not Found', url=URL('http://alice-agent:8021/issue-credential/records/e577c4ae-fd4d-4de8-97cb-1a50862b0a55')",
     "output_type": "error",
     "traceback": [
      "\u001b[0;31m---------------------------------------------------------------------------\u001b[0m",
      "\u001b[0;31mClientResponseError\u001b[0m                       Traceback (most recent call last)",
      "\u001b[0;32m<ipython-input-12-216a220b348a>\u001b[0m in \u001b[0;36masync-def-wrapper\u001b[0;34m()\u001b[0m\n\u001b[1;32m      2\u001b[0m \u001b[0mstate\u001b[0m \u001b[0;34m=\u001b[0m \u001b[0mcred_record\u001b[0m\u001b[0;34m[\u001b[0m\u001b[0;34m'state'\u001b[0m\u001b[0;34m]\u001b[0m\u001b[0;34m\u001b[0m\u001b[0;34m\u001b[0m\u001b[0m\n\u001b[1;32m      3\u001b[0m \u001b[0mrole\u001b[0m \u001b[0;34m=\u001b[0m \u001b[0mcred_record\u001b[0m\u001b[0;34m[\u001b[0m\u001b[0;34m'role'\u001b[0m\u001b[0;34m]\u001b[0m\u001b[0;34m\u001b[0m\u001b[0;34m\u001b[0m\u001b[0m\n\u001b[0;32m----> 4\u001b[0;31m \u001b[0mprint\u001b[0m\u001b[0;34m(\u001b[0m\u001b[0;34mf\"Credential exchange {record_id}, role: {role}, state: {state}\"\u001b[0m\u001b[0;34m)\u001b[0m\u001b[0;34m\u001b[0m\u001b[0;34m\u001b[0m\u001b[0m\n\u001b[0m",
      "\u001b[0;32m/aries_basic_controller/issuer_controller.py\u001b[0m in \u001b[0;36mget_record_by_id\u001b[0;34m(self, cred_ex_id)\u001b[0m\n\u001b[1;32m     24\u001b[0m \u001b[0;34m\u001b[0m\u001b[0m\n\u001b[1;32m     25\u001b[0m     \u001b[0;32masync\u001b[0m \u001b[0;32mdef\u001b[0m \u001b[0mget_record_by_id\u001b[0m\u001b[0;34m(\u001b[0m\u001b[0mself\u001b[0m\u001b[0;34m,\u001b[0m \u001b[0mcred_ex_id\u001b[0m\u001b[0;34m)\u001b[0m\u001b[0;34m:\u001b[0m\u001b[0;34m\u001b[0m\u001b[0;34m\u001b[0m\u001b[0m\n\u001b[0;32m---> 26\u001b[0;31m         \u001b[0;32mreturn\u001b[0m \u001b[0;32mawait\u001b[0m \u001b[0mself\u001b[0m\u001b[0;34m.\u001b[0m\u001b[0madmin_GET\u001b[0m\u001b[0;34m(\u001b[0m\u001b[0;34mf\"{self.base_url}/records/{cred_ex_id}\"\u001b[0m\u001b[0;34m)\u001b[0m\u001b[0;34m\u001b[0m\u001b[0;34m\u001b[0m\u001b[0m\n\u001b[0m\u001b[1;32m     27\u001b[0m \u001b[0;34m\u001b[0m\u001b[0m\n\u001b[1;32m     28\u001b[0m     \u001b[0;31m# Send holder a credential, automating the entire flow\u001b[0m\u001b[0;34m\u001b[0m\u001b[0;34m\u001b[0m\u001b[0;34m\u001b[0m\u001b[0m\n",
      "\u001b[0;32m/aries_basic_controller/base_controller.py\u001b[0m in \u001b[0;36madmin_GET\u001b[0;34m(self, path, text, params)\u001b[0m\n\u001b[1;32m     76\u001b[0m         \u001b[0;32mtry\u001b[0m\u001b[0;34m:\u001b[0m\u001b[0;34m\u001b[0m\u001b[0;34m\u001b[0m\u001b[0m\n\u001b[1;32m     77\u001b[0m             \u001b[0mEVENT_LOGGER\u001b[0m\u001b[0;34m.\u001b[0m\u001b[0mdebug\u001b[0m\u001b[0;34m(\u001b[0m\u001b[0;34m\"Controller GET %s request to Agent\"\u001b[0m\u001b[0;34m,\u001b[0m \u001b[0mpath\u001b[0m\u001b[0;34m)\u001b[0m\u001b[0;34m\u001b[0m\u001b[0;34m\u001b[0m\u001b[0m\n\u001b[0;32m---> 78\u001b[0;31m             \u001b[0mresponse\u001b[0m \u001b[0;34m=\u001b[0m \u001b[0;32mawait\u001b[0m \u001b[0mself\u001b[0m\u001b[0;34m.\u001b[0m\u001b[0madmin_request\u001b[0m\u001b[0;34m(\u001b[0m\u001b[0;34m\"GET\"\u001b[0m\u001b[0;34m,\u001b[0m \u001b[0mpath\u001b[0m\u001b[0;34m,\u001b[0m \u001b[0;32mNone\u001b[0m\u001b[0;34m,\u001b[0m \u001b[0mtext\u001b[0m\u001b[0;34m,\u001b[0m \u001b[0mparams\u001b[0m\u001b[0;34m)\u001b[0m\u001b[0;34m\u001b[0m\u001b[0;34m\u001b[0m\u001b[0m\n\u001b[0m\u001b[1;32m     79\u001b[0m             EVENT_LOGGER.debug(\n\u001b[1;32m     80\u001b[0m                 \u001b[0;34m\"Response from GET %s received: \\n%s\"\u001b[0m\u001b[0;34m,\u001b[0m \u001b[0mpath\u001b[0m\u001b[0;34m,\u001b[0m \u001b[0mrepr_json\u001b[0m\u001b[0;34m(\u001b[0m\u001b[0mresponse\u001b[0m\u001b[0;34m)\u001b[0m\u001b[0;34m,\u001b[0m\u001b[0;34m\u001b[0m\u001b[0;34m\u001b[0m\u001b[0m\n",
      "\u001b[0;32m/aries_basic_controller/base_controller.py\u001b[0m in \u001b[0;36madmin_request\u001b[0;34m(self, method, path, data, text, params)\u001b[0m\n\u001b[1;32m     61\u001b[0m             \u001b[0mmethod\u001b[0m\u001b[0;34m,\u001b[0m \u001b[0mself\u001b[0m\u001b[0;34m.\u001b[0m\u001b[0madmin_url\u001b[0m \u001b[0;34m+\u001b[0m \u001b[0mpath\u001b[0m\u001b[0;34m,\u001b[0m \u001b[0mjson\u001b[0m\u001b[0;34m=\u001b[0m\u001b[0mdata\u001b[0m\u001b[0;34m,\u001b[0m \u001b[0mparams\u001b[0m\u001b[0;34m=\u001b[0m\u001b[0mparams\u001b[0m\u001b[0;34m\u001b[0m\u001b[0;34m\u001b[0m\u001b[0m\n\u001b[1;32m     62\u001b[0m         ) as resp:\n\u001b[0;32m---> 63\u001b[0;31m             \u001b[0mresp\u001b[0m\u001b[0;34m.\u001b[0m\u001b[0mraise_for_status\u001b[0m\u001b[0;34m(\u001b[0m\u001b[0;34m)\u001b[0m\u001b[0;34m\u001b[0m\u001b[0;34m\u001b[0m\u001b[0m\n\u001b[0m\u001b[1;32m     64\u001b[0m             \u001b[0mresp_text\u001b[0m \u001b[0;34m=\u001b[0m \u001b[0;32mawait\u001b[0m \u001b[0mresp\u001b[0m\u001b[0;34m.\u001b[0m\u001b[0mtext\u001b[0m\u001b[0;34m(\u001b[0m\u001b[0;34m)\u001b[0m\u001b[0;34m\u001b[0m\u001b[0;34m\u001b[0m\u001b[0m\n\u001b[1;32m     65\u001b[0m             \u001b[0;32mif\u001b[0m \u001b[0;32mnot\u001b[0m \u001b[0mresp_text\u001b[0m \u001b[0;32mand\u001b[0m \u001b[0;32mnot\u001b[0m \u001b[0mtext\u001b[0m\u001b[0;34m:\u001b[0m\u001b[0;34m\u001b[0m\u001b[0;34m\u001b[0m\u001b[0m\n",
      "\u001b[0;32m/opt/conda/lib/python3.7/site-packages/aiohttp/client_reqrep.py\u001b[0m in \u001b[0;36mraise_for_status\u001b[0;34m(self)\u001b[0m\n\u001b[1;32m    944\u001b[0m                 \u001b[0mstatus\u001b[0m\u001b[0;34m=\u001b[0m\u001b[0mself\u001b[0m\u001b[0;34m.\u001b[0m\u001b[0mstatus\u001b[0m\u001b[0;34m,\u001b[0m\u001b[0;34m\u001b[0m\u001b[0;34m\u001b[0m\u001b[0m\n\u001b[1;32m    945\u001b[0m                 \u001b[0mmessage\u001b[0m\u001b[0;34m=\u001b[0m\u001b[0mself\u001b[0m\u001b[0;34m.\u001b[0m\u001b[0mreason\u001b[0m\u001b[0;34m,\u001b[0m\u001b[0;34m\u001b[0m\u001b[0;34m\u001b[0m\u001b[0m\n\u001b[0;32m--> 946\u001b[0;31m                 headers=self.headers)\n\u001b[0m\u001b[1;32m    947\u001b[0m \u001b[0;34m\u001b[0m\u001b[0m\n\u001b[1;32m    948\u001b[0m     \u001b[0;32mdef\u001b[0m \u001b[0m_cleanup_writer\u001b[0m\u001b[0;34m(\u001b[0m\u001b[0mself\u001b[0m\u001b[0;34m)\u001b[0m \u001b[0;34m->\u001b[0m \u001b[0;32mNone\u001b[0m\u001b[0;34m:\u001b[0m\u001b[0;34m\u001b[0m\u001b[0;34m\u001b[0m\u001b[0m\n",
      "\u001b[0;31mClientResponseError\u001b[0m: 404, message='Not Found', url=URL('http://alice-agent:8021/issue-credential/records/e577c4ae-fd4d-4de8-97cb-1a50862b0a55')"
     ]
    },
    {
     "name": "stderr",
     "output_type": "stream",
     "text": [
      "ERROR:asyncio:Task exception was never retrieved\n",
      "future: <Task finished coro=<run_in_terminal.<locals>.run() done, defined at /opt/conda/lib/python3.7/site-packages/prompt_toolkit/application/run_in_terminal.py:50> exception=UnsupportedOperation('fileno')>\n",
      "Traceback (most recent call last):\n",
      "  File \"/opt/conda/lib/python3.7/site-packages/prompt_toolkit/application/run_in_terminal.py\", line 55, in run\n",
      "    return func()\n",
      "  File \"/aries_basic_controller/utils.py\", line 120, in <lambda>\n",
      "    run_in_terminal(lambda: print_ext(*msg, color=color, **kwargs))\n",
      "  File \"/aries_basic_controller/utils.py\", line 103, in print_ext\n",
      "    print_formatted(FormattedText(msg), **kwargs)\n",
      "  File \"/aries_basic_controller/utils.py\", line 83, in print_formatted\n",
      "    prompt_toolkit.print_formatted_text(*args, **kwargs)\n",
      "  File \"/opt/conda/lib/python3.7/site-packages/prompt_toolkit/shortcuts/utils.py\", line 112, in print_formatted_text\n",
      "    output = get_app_session().output\n",
      "  File \"/opt/conda/lib/python3.7/site-packages/prompt_toolkit/application/current.py\", line 65, in output\n",
      "    self._output = create_output()\n",
      "  File \"/opt/conda/lib/python3.7/site-packages/prompt_toolkit/output/defaults.py\", line 62, in create_output\n",
      "    return Vt100_Output.from_pty(stdout, term=get_term_environment_variable())\n",
      "  File \"/opt/conda/lib/python3.7/site-packages/prompt_toolkit/output/vt100.py\", line 449, in from_pty\n",
      "    fd = stdout.fileno()\n",
      "io.UnsupportedOperation: fileno\n"
     ]
    }
   ],
   "source": [
    "cred_record = await agent_controller.issuer.get_record_by_id(record_id)\n",
    "state = cred_record['state']\n",
    "role = cred_record['role']\n",
    "print(f\"Credential exchange {record_id}, role: {role}, state: {state}\")"
   ]
  },
  {
   "cell_type": "markdown",
   "metadata": {},
   "source": [
    "## Remove Credential Exchange\n",
    "\n",
    "It is possible to remove stored credential exchanges from an agent. Typically when you are not interested in the credential being offered, or the credential offer that you have sent has become stale (been ignored?)."
   ]
  },
  {
   "cell_type": "code",
   "execution_count": 13,
   "metadata": {},
   "outputs": [
    {
     "name": "stdout",
     "output_type": "stream",
     "text": [
      "{}\n"
     ]
    }
   ],
   "source": [
    "response = await agent_controller.issuer.remove_record(record_id)\n",
    "print(response)"
   ]
  },
  {
   "cell_type": "code",
   "execution_count": 29,
   "metadata": {},
   "outputs": [
    {
     "name": "stdout",
     "output_type": "stream",
     "text": [
      "{'results': []}\n"
     ]
    }
   ],
   "source": [
    "response = await agent_controller.issuer.get_records()\n",
    "print(response)"
   ]
  },
  {
   "cell_type": "markdown",
   "metadata": {},
   "source": [
    "# Send Proof Request"
   ]
  },
  {
   "cell_type": "markdown",
   "metadata": {},
   "source": [
    "Request a proof of Opemined community member to prove community membership"
   ]
  },
  {
   "cell_type": "code",
   "execution_count": 9,
   "metadata": {},
   "outputs": [
    {
     "name": "stdout",
     "output_type": "stream",
     "text": [
      "Request proof of Openmined Community from Openmined PryVote Voter (Bob)\n"
     ]
    }
   ],
   "source": [
    "print(\"Request proof of Openmined Community from Openmined PryVote Voter (Bob)\")\n",
    "#Set some variables\n",
    "\n",
    "revocation = False\n",
    "SELF_ATTESTED = True\n",
    "exchange_tracing = False\n",
    "\n",
    "#Enable this to ask for attributes to identity a user\n",
    "req_attrs = [\n",
    "    {\"name\": \"name\", \"restrictions\": [{\"issuer_did\": issuer_did}]},\n",
    "]\n",
    "\n",
    "# if revocation:\n",
    "#     req_attrs.append(\n",
    "#         {\n",
    "#             \"name\": \"degree\",\n",
    "#             \"restrictions\": [{\"issuer_did\": agent.did}],\n",
    "#             \"non_revoked\": {\"to\": int(time.time() - 1)},\n",
    "#         },\n",
    "#     )\n",
    "# else:\n",
    "#     req_attrs.append(\n",
    "#         {\"name\": \"vote\", \"restrictions\": [{\"issuer_did\": issuer_did}]}\n",
    "#     )\n",
    "\n",
    "if SELF_ATTESTED:\n",
    "    # test self-attested claims\n",
    "    req_attrs.append({\"name\": \"community_vote\"},)\n",
    "    \n",
    "#Set predicates for Zero Knowledge Proofs\n",
    "req_preds = [\n",
    "    # test zero-knowledge proofs\n",
    "    {\n",
    "        \"name\": \"community_member\",\n",
    "        \"p_type\": \">=\",\n",
    "        \"p_value\": 1,\n",
    "        \"restrictions\": [{\"issuer_did\": issuer_did}],\n",
    "    }\n",
    "]\n",
    "\n",
    "indy_proof_request = {\n",
    "    \"name\": \"Proof of Openmined Community Member\",\n",
    "    \"version\": \"1.0\",\n",
    "    \"requested_attributes\": {\n",
    "        f\"0_{req_attr['name']}_uuid\": \n",
    "        req_attr for req_attr in req_attrs\n",
    "    },\n",
    "    \"requested_predicates\": {\n",
    "        f\"0_{req_pred['name']}_GE_uuid\": \n",
    "        req_pred for req_pred in req_preds\n",
    "    },\n",
    "}\n",
    "\n",
    "if revocation:\n",
    "    indy_proof_request[\"non_revoked\"] = {\"to\": int(time.time())}\n",
    "    \n",
    "proof_request = indy_proof_request\n",
    "# exchange_tracing_id = exchange_tracing\n",
    "# proof_request_web_request = {\n",
    "#     \"connection_id\": agent.connection_id,\n",
    "#     \"proof_request\": indy_proof_request,\n",
    "#     \"trace\": exchange_tracing,\n",
    "# }"
   ]
  },
  {
   "cell_type": "code",
   "execution_count": 10,
   "metadata": {},
   "outputs": [
    {
     "name": "stdout",
     "output_type": "stream",
     "text": [
      "{'thread_id': '76c78780-a62a-42ec-b27c-64218a52a1ad', 'presentation_exchange_id': '91a96df6-b055-421c-a137-e8edd666d118', 'presentation_request': {'name': 'Proof of Openmined Community Member', 'version': '1.0', 'requested_attributes': {'0_name_uuid': {'name': 'name', 'restrictions': [{'issuer_did': 'PQRXDxdGqQGSZ8z69p4xZP'}]}, '0_community_vote_uuid': {'name': 'community_vote'}}, 'requested_predicates': {'0_community_member_GE_uuid': {'name': 'community_member', 'p_type': '>=', 'p_value': 1, 'restrictions': [{'issuer_did': 'PQRXDxdGqQGSZ8z69p4xZP'}]}}, 'nonce': '688091170694236289493880'}, 'state': 'request_sent', 'trace': False, 'created_at': '2020-08-18 15:13:17.302806Z', 'auto_present': False, 'initiator': 'self', 'role': 'verifier', 'updated_at': '2020-08-18 15:13:17.302806Z', 'connection_id': 'a73894b1-62f6-4389-8bf8-4926254bed0e'}\n",
      "\n",
      "\n",
      "91a96df6-b055-421c-a137-e8edd666d118\n"
     ]
    }
   ],
   "source": [
    "response = await agent_controller.proofs.send_request(connection_id, proof_request, \"\", exchange_tracing)\n",
    "print(response)\n",
    "presentation_exchange_id = response['presentation_exchange_id']\n",
    "print(\"\\n\")\n",
    "print(presentation_exchange_id)\n"
   ]
  },
  {
   "cell_type": "markdown",
   "metadata": {},
   "source": [
    "# Verify Proof Presentation"
   ]
  },
  {
   "cell_type": "code",
   "execution_count": 11,
   "metadata": {},
   "outputs": [
    {
     "name": "stdout",
     "output_type": "stream",
     "text": [
      "{'presentation': {'proof': {'proofs': [{'primary_proof': {'eq_proof': {'revealed_attrs': {'name': '93006290325627508022776103386395994712401809437930957652111221015872244345185'}, 'a_prime': '112739480602473499883493334364486661347505570216370687196135997720696382371962820956896837693672327269703442704741934550873613555010335566898172911748845372779970848791561246336075822439677526125416295610151698486974231593857157917904620677315742354288796625487474975844304771300339558080866031878627039832728845208806269567996998477173724945316632478473193075977806072263041044052028065140227819588299810172323358523628078727863625189501065533729206418353150429662256372934512147151925625774255681122517793992857639965256809144074376932447065103239299857299343379444382175608323103072663377203352107273184805079527975', 'e': '47231394454761441370951285449145922211309827067696114889855052615011949578763930183269458256505936790758022069324171760620661065710928524', 'v': '401973335325293447944334709296882935127953330619045245051811855025790202240182583407251124187677126050307359440136531503692906564353513795605760097689296054142741340222160596720411899126393177348982082416437352216049751319558863131788891413294642501356457707408705346102722552354210672567186987541917956200472337628872051944750967923565721353142365867944754342614671659152369033068798143945023321329774247560588242100900580556884534778614125534795036385174990470712153387930019236930890822225204027109106665217518019557753195224148234345152259993342954841224630309480149358982460297862717888780194451570422880187884363370909419647394458608816898082490250987595428641606189029969729921287900267648539998248069452951192056457197220539759884646296716821202663862184481494697753798089675014612996613606276933326849209020705857260480000702425272374007986430413918206995889091574584746151506582133030839437172598157709010449224', 'm': {'community_member': '12068040228271483713272295776856477677255909595750441094004517180934472584785308709681854724919208893693113996021763205513141629507568653231249202304829620302350067843018930102079', 'master_secret': '13709498088846401706190062265281523356129985169322117777136481733773334952731001542707796767698603752652058868359794813944298334065441803093670403026171837704262865908443446447296'}, 'm2': '14119637946508223530275045036525977323956548932974017927634017868087392142724554912383190435135297545348039187943185301020303496206123658484306779062937929571861996892267263502657'}, 'ge_proofs': [{'u': {'0': '2758196180171197503651000660000387564741901520363817425169507684176584677777316220224339861856882170484516484441913998517665243221760175646972187791821644613525447810513479550472', '2': '9521992726027645972308053282089777542128550985203897745484689925548420338130826554155875823025178461700619807396032114093748874266879506369052896288599714254815671976190447953247', '1': '2931211735592855518077245477895689121220830658344534755295480612450838848640422695154650499141590833892892387604339927946379870698259504140276922339633442894757688317684801832373', '3': '6821277605677353059139675122289299654935811557677547854617328327436197142480021251255270464250560832179627811630884452878140461898064995112805554831931862531518999667121614199946'}, 'r': {'1': '3787311224558555425480228487934496094670122784816474663047721949122749518259272139416467691942444602179935744167953455264027106483474745807579045684180937381321942916298888903422748503151715179041134634102367860271487558813148449230411394415064858463359328997543132697670987764067168935311074404766892873393615459101098115526434268455888241826239551023731388750578180769720860625426231736955714182984219908993918464559186257465319354179990461013398694857539178971224911943523508811111693543306496382073281695736993597521814748423117257502711458197974183213816298282321603959079621191284791040486103492615654187394392514838281915352924549484564522446384820397914138886943653357564875740560601908828180992523603160553645', '3': '270297580089421322539751090434782382422378290963133114972447527587035934775965969156044478457080855352813926292555078269102218098699941302400588999578765111700579389590593824542363248383190469873902231447718992317016750191505794226235402215165144478418440875527864649449063471689898314201129748138599328822283539457817879497023256917900486740548111710113394566174145587603764126272794990847121879109007198157006426290573187760911443482877938590090304409965342822362065197156747836319065413995321773667999729313217284075218280421521070035704059886568946304917320770895428278347040303116811866331846040597378236293682869316444922021990855191192805367588489249274250214518379206038633648869291168613840012692786591169629', 'DELTA': '3120759396567332810487026251674439714372039503619710030658913934164663269198738623310258531318867955603019945353231488146653410194163641470770945771331454177533946476396524673022062590557414953103464920176781860889455207797102893543576294077192339670374614409726919196226837699451459122982685358413061738068632356496503699436698781739180123763071630424601136602533394551696756861745347639869358893010085019774882008266608184161432071895019216037290798067167528874245302683171867153433662828443918663517977017853368131423447152475063313242739737384519197058042167280517736137965656233294257524668236098815026339925121001121336544891475956339001182875789663369913546283108622158955225029318540343144071365908624883019525', '2': '2252414498299755667747926087259315906315379259772627428655655964318772091782515109230754842261692711023548749793593435012678197186326407466079398203925029560244801067096895196668150592695559104493579460264453401328501018196729614709015428339690040891350755874468506839210577980859238960410949804963921596005756013316970272224355120852125067645260045290494382803353301061772317575900220344711376468094524900595449521669518523192756426857904220486614384535276101127315295182597685715331564306992258699307044080195242967045455547090954818051509216114065048097816838136166427615551673712119932463145474661638105130734217518258528203520417750816224056207178478512887915210655636936070299307851994454480289534532930382865610', '0': '2767261047218059686753659894922633421585048861129469714470381323535059808373308095795656668761356159381393320369025229100456343181681990169710053325753085881794479005729404073856082259516062771536730561839827258205160176964156556979826070241175691810841821552020004189841816002699238866141649413072848561990893781456547111400524128749506164947623312830930554876915524818342194632653785884128516999741072844203045951598540551160628220101975875953765647777609181596806995990854253707716876630111216537573629418582814611424806365633373279814813526236893569694582712638519938914613416219035947565756722932687733079620637793225774435856645900962958923791255488718644964385707834986527124142271576559705075825960074148274634'}, 'mj': '12068040228271483713272295776856477677255909595750441094004517180934472584785308709681854724919208893693113996021763205513141629507568653231249202304829620302350067843018930102079', 'alpha': '17493670998081963260414864710876528047899117940227732500746869686047360409538212105440740093192001050614199646299905704789203819108491275293421042103966399941576507153525982691054647615966570660392758597361989284187555680427625516757018836944580291671652038387375163236407699424670869038627862819704197066039589785008434189406447330490704806947710877551856759565853497071249363400307491199692915071161467439950075799683112136515718624246165424308448099188403736944689245026655254079886715790749365652829806389411962416581581131715030081715141137203255575405397917569799213766744153082720010258532526863590138865219033129778979476307360115608790241340866192413268785191569214478436954287963008518684613704736404214387172125197457047981323689794333381246917251033164446197787133502468322387640666123291340215712197836873890841284643675402057', 't': {'3': '82878960396880663360210549482570298138957337969338293488246152393262678518728246231302687387246993572162409056739941872963813900530627225295601035544842106802328500247293902751369298086847322677379354369459080056879677559461592128822043320456887804635636633101785381851631825360796483290336118715038459682435919085710350080733254793057892045931563464592135656551832777179727028702625757912932516730975663083428916095055769742513423292632573913103299186894620042146701169131811972712329297435613937720644953227221624662618172514232422177998334773686423345046999100502772961684115030507119119122676532870199636954929726', '1': '50440380224712420649499556677475740341775246190164479385249301924137941393545142800515359572829673758309913478277975398783129829614593875027129613943854372742553891396274122597771678885943973909927898712559627584198791525177518978868009860163956525471869565143892652081942613936871229950573347159018011127461484027496473491563541539044609033682960079669793094717656522302595304035849307619740769140545729313643816711134143664132747837254186976670054839033065422351218770037332968568674189098008786806932537078632719264088841275720514695209414570037478802999279831625158536123638228795265595629183488282074641721087118', '2': '86981778728852350920173569723775302606497458473895233643142736829560852786027028993845536266656727052294575876733784724356665251223428146500903925194640097912890857041658856065741778329736615638275256687697372438206578799327848138198371775178473192315290359804075421969646855493383915555369913716498253015764715386850836985657980397606449337759097246113532955876631773948668875315950115696595914173923398024900254379888226472372683500875812762696253669759187425897386423285372021069911709897378667160537524061146352800157968571437638224634476083572148683612650329448308831483201530361943646200600036332336243888708252', '0': '93684971227097130099454981850492358623420358392380514889711414801322751580624133872888368282230728334944322681828112615894973447259184376690314054876677283106347958599434749414457083387617566993720991963958813834014593280529998200286393193451026483426884621381018450737047426222381454380187378621115831147026363444563733761059354853564858349347128787928466975960415913190958820298035211973964228060805770767606832848749848217140307574955803509614791356640696261124994952253943251188628811664689035656363400146514242693008858316586421815893190054724748021273215514742585832667443887655811232867056809658985855410751809', 'DELTA': '22256026855177693808663188204483659072346201797788485285623601312502468594244147967156829861250015531899033037512566562475508663087311196515947679476510697189089096756836090782189759067031531356931207379997130420015515965293129841374813697317840123633041464693819626719257351846392069500557182683980665212661286105528751936674343340269226098802286066704271095596335311359924871144583011712352041800305084119109991307583566111792159480420145512100373356146395045347519334757785049425718506510694158337139558916906572843886749724309218500927648348679886683356875890425097994967687412062441230433926407998940944952825263'}, 'predicate': {'attr_name': 'community_member', 'p_type': 'GE', 'value': 1}}]}, 'non_revoc_proof': None}], 'aggregated_proof': {'c_hash': '108092413994342737075055610742112999515783112689983587677289371551133149935928', 'c_list': [[3, 125, 17, 151, 52, 43, 158, 45, 168, 51, 64, 77, 188, 129, 100, 70, 165, 39, 179, 101, 188, 100, 2, 234, 58, 215, 39, 231, 22, 69, 38, 210, 97, 70, 80, 254, 43, 54, 212, 166, 91, 1, 125, 246, 191, 181, 168, 69, 130, 104, 123, 31, 110, 175, 42, 20, 115, 171, 132, 70, 214, 229, 220, 196, 68, 248, 209, 155, 126, 159, 87, 31, 16, 123, 171, 108, 242, 201, 51, 59, 30, 142, 14, 139, 253, 142, 59, 254, 8, 9, 15, 251, 61, 62, 228, 126, 114, 126, 174, 235, 224, 89, 219, 138, 81, 38, 221, 22, 2, 65, 78, 184, 76, 213, 218, 21, 155, 136, 75, 208, 251, 191, 135, 218, 50, 165, 33, 138, 78, 166, 23, 138, 39, 144, 249, 114, 151, 131, 112, 130, 91, 225, 17, 56, 233, 21, 221, 92, 143, 85, 18, 77, 60, 155, 79, 71, 225, 225, 247, 218, 116, 235, 125, 59, 106, 55, 79, 123, 46, 231, 231, 205, 35, 28, 235, 136, 79, 131, 103, 52, 165, 205, 159, 226, 171, 112, 147, 87, 55, 55, 167, 249, 249, 96, 241, 183, 149, 153, 9, 142, 102, 106, 10, 41, 213, 105, 113, 10, 247, 225, 195, 41, 144, 89, 242, 70, 211, 57, 249, 54, 197, 96, 190, 16, 80, 152, 73, 98, 204, 55, 248, 85, 167, 21, 193, 46, 195, 183, 141, 60, 203, 54, 215, 108, 163, 161, 207, 89, 203, 154, 212, 250, 215, 38, 152, 178, 39], [2, 230, 32, 191, 165, 3, 70, 22, 64, 218, 31, 103, 9, 172, 69, 65, 45, 164, 192, 135, 88, 39, 44, 82, 114, 187, 169, 184, 156, 233, 91, 64, 43, 132, 228, 97, 40, 52, 34, 80, 188, 73, 130, 226, 43, 194, 30, 149, 57, 189, 141, 169, 50, 42, 13, 33, 166, 103, 217, 15, 252, 223, 12, 102, 182, 100, 102, 134, 171, 77, 185, 225, 227, 85, 179, 223, 117, 236, 49, 21, 33, 85, 112, 79, 166, 146, 80, 241, 241, 58, 27, 143, 167, 32, 48, 166, 19, 235, 98, 159, 24, 60, 11, 114, 119, 94, 91, 208, 193, 150, 159, 57, 159, 27, 125, 192, 91, 235, 142, 242, 208, 34, 13, 60, 21, 113, 247, 75, 25, 7, 50, 58, 88, 67, 143, 146, 130, 140, 218, 226, 199, 79, 113, 238, 10, 88, 225, 131, 87, 140, 252, 55, 80, 234, 71, 227, 229, 205, 106, 187, 80, 119, 30, 158, 66, 69, 90, 246, 234, 85, 55, 125, 188, 76, 108, 55, 47, 78, 157, 41, 243, 188, 85, 191, 124, 66, 143, 172, 34, 137, 35, 176, 197, 85, 187, 61, 175, 125, 23, 115, 80, 232, 215, 44, 177, 159, 99, 213, 94, 93, 36, 45, 220, 239, 229, 95, 187, 99, 221, 172, 48, 49, 80, 21, 144, 85, 232, 143, 70, 24, 41, 91, 139, 210, 198, 106, 198, 103, 124, 205, 234, 205, 250, 95, 83, 5, 3, 182, 55, 34, 245, 80, 194, 208, 199, 201, 65], [1, 143, 144, 149, 64, 164, 209, 4, 211, 213, 186, 55, 246, 120, 101, 34, 109, 4, 105, 131, 248, 57, 215, 149, 73, 199, 172, 215, 6, 5, 85, 203, 170, 193, 79, 1, 20, 230, 238, 219, 3, 58, 67, 75, 82, 164, 228, 133, 194, 225, 104, 159, 209, 128, 113, 249, 195, 10, 80, 5, 133, 82, 129, 246, 156, 52, 251, 203, 11, 135, 157, 79, 175, 208, 238, 154, 254, 55, 124, 93, 107, 12, 220, 89, 62, 22, 104, 250, 78, 11, 203, 254, 62, 109, 34, 128, 158, 25, 235, 10, 67, 179, 106, 144, 100, 207, 98, 239, 105, 78, 30, 33, 188, 183, 128, 50, 90, 17, 25, 155, 80, 170, 80, 185, 16, 236, 192, 239, 221, 234, 179, 222, 28, 208, 122, 223, 122, 241, 164, 237, 186, 1, 124, 37, 222, 167, 76, 30, 34, 213, 69, 60, 82, 66, 193, 155, 234, 84, 111, 25, 59, 221, 57, 118, 109, 226, 105, 202, 105, 225, 123, 13, 142, 41, 217, 232, 9, 167, 69, 186, 207, 73, 154, 18, 138, 178, 123, 94, 139, 238, 125, 26, 129, 159, 59, 237, 104, 45, 12, 157, 213, 73, 58, 104, 2, 15, 125, 213, 82, 55, 155, 240, 167, 39, 250, 221, 240, 253, 81, 223, 53, 99, 192, 217, 174, 76, 193, 146, 13, 231, 189, 40, 25, 160, 147, 255, 11, 86, 0, 165, 62, 96, 162, 173, 168, 187, 224, 174, 211, 49, 5, 250, 131, 171, 238, 84, 142], [2, 177, 7, 69, 248, 58, 176, 25, 236, 219, 52, 209, 9, 178, 210, 143, 200, 94, 197, 120, 166, 149, 18, 7, 41, 255, 153, 177, 57, 16, 65, 36, 148, 25, 113, 164, 111, 224, 20, 82, 138, 85, 135, 236, 74, 243, 21, 236, 49, 234, 26, 105, 248, 14, 197, 209, 74, 72, 236, 145, 4, 98, 226, 18, 223, 50, 241, 50, 141, 59, 76, 163, 3, 153, 28, 236, 43, 135, 198, 54, 111, 163, 130, 29, 64, 225, 23, 118, 154, 155, 61, 144, 161, 45, 174, 28, 85, 193, 68, 21, 88, 55, 127, 94, 111, 21, 173, 71, 53, 172, 82, 122, 158, 1, 12, 153, 84, 176, 55, 175, 205, 21, 144, 107, 181, 95, 59, 87, 86, 247, 227, 156, 71, 104, 187, 240, 114, 38, 141, 157, 227, 75, 222, 252, 173, 106, 156, 45, 142, 90, 102, 181, 66, 190, 15, 40, 255, 214, 159, 17, 26, 93, 112, 95, 178, 170, 207, 108, 168, 43, 205, 255, 193, 105, 8, 197, 113, 228, 45, 251, 106, 255, 47, 222, 35, 47, 51, 136, 87, 9, 175, 242, 120, 250, 103, 149, 234, 21, 173, 145, 186, 55, 39, 150, 126, 179, 207, 144, 91, 127, 153, 68, 81, 197, 204, 83, 189, 246, 17, 1, 249, 22, 216, 121, 161, 75, 19, 36, 211, 79, 10, 197, 226, 141, 99, 107, 247, 20, 17, 188, 31, 14, 150, 217, 178, 155, 144, 78, 57, 7, 13, 231, 5, 220, 9, 90, 156], [2, 144, 135, 31, 218, 140, 229, 38, 87, 49, 170, 123, 73, 106, 4, 24, 37, 152, 96, 15, 164, 5, 192, 199, 174, 252, 213, 70, 54, 148, 113, 107, 225, 185, 14, 213, 206, 234, 59, 254, 63, 162, 102, 144, 41, 118, 154, 92, 104, 108, 198, 203, 197, 113, 219, 195, 160, 237, 209, 67, 114, 111, 198, 5, 182, 221, 251, 26, 113, 77, 4, 129, 253, 194, 106, 63, 207, 16, 4, 217, 87, 83, 143, 244, 24, 112, 59, 91, 240, 207, 43, 244, 223, 26, 51, 228, 133, 100, 253, 190, 83, 175, 50, 204, 208, 66, 167, 164, 121, 188, 10, 147, 154, 5, 239, 57, 171, 25, 69, 90, 144, 60, 132, 22, 163, 25, 190, 230, 109, 149, 169, 193, 32, 154, 113, 168, 235, 33, 4, 71, 22, 132, 23, 250, 219, 204, 166, 123, 203, 244, 86, 72, 70, 254, 222, 83, 70, 61, 215, 241, 207, 99, 251, 84, 46, 116, 131, 235, 221, 11, 80, 128, 162, 96, 223, 15, 205, 123, 141, 32, 39, 24, 242, 155, 194, 124, 60, 243, 94, 51, 162, 251, 174, 26, 14, 36, 114, 10, 77, 242, 66, 91, 47, 2, 4, 99, 49, 128, 144, 219, 147, 140, 18, 197, 180, 62, 35, 177, 140, 173, 158, 38, 168, 50, 51, 255, 169, 117, 189, 130, 165, 78, 213, 97, 229, 154, 86, 68, 181, 60, 207, 62, 134, 213, 16, 152, 158, 149, 69, 13, 223, 151, 109, 160, 175, 90, 62], [176, 77, 59, 188, 102, 228, 171, 10, 43, 225, 14, 20, 74, 241, 172, 141, 104, 149, 251, 236, 118, 110, 123, 108, 110, 236, 189, 204, 204, 37, 195, 151, 151, 46, 163, 148, 168, 238, 11, 28, 191, 90, 255, 189, 5, 140, 143, 68, 58, 73, 91, 182, 198, 24, 139, 247, 11, 20, 113, 25, 52, 148, 247, 222, 252, 87, 143, 211, 86, 45, 55, 3, 66, 251, 115, 126, 165, 247, 115, 172, 210, 97, 240, 46, 149, 27, 110, 1, 87, 132, 237, 252, 248, 113, 120, 246, 190, 53, 132, 177, 218, 150, 243, 209, 72, 115, 73, 81, 218, 85, 193, 251, 189, 223, 255, 155, 170, 246, 175, 86, 195, 212, 108, 185, 101, 68, 217, 72, 123, 12, 180, 88, 43, 228, 223, 85, 90, 250, 242, 204, 224, 179, 35, 37, 37, 223, 49, 192, 34, 229, 226, 42, 69, 79, 51, 11, 150, 243, 28, 68, 37, 99, 66, 21, 37, 60, 245, 104, 236, 40, 197, 189, 228, 217, 175, 91, 40, 48, 209, 196, 234, 180, 49, 186, 82, 19, 166, 196, 50, 121, 154, 45, 243, 144, 157, 145, 179, 1, 231, 15, 91, 252, 3, 245, 168, 77, 2, 132, 22, 212, 245, 106, 15, 190, 253, 64, 161, 47, 173, 86, 67, 83, 67, 195, 4, 93, 120, 16, 45, 102, 88, 77, 152, 53, 191, 113, 103, 51, 253, 14, 135, 220, 208, 106, 240, 66, 107, 183, 215, 109, 81, 179, 151, 61, 149, 175]]}}, 'requested_proof': {'revealed_attrs': {'0_name_uuid': {'sub_proof_index': 0, 'raw': 'Bob', 'encoded': '93006290325627508022776103386395994712401809437930957652111221015872244345185'}}, 'self_attested_attrs': {'0_community_vote_uuid': 'True'}, 'unrevealed_attrs': {}, 'predicates': {'0_community_member_GE_uuid': {'sub_proof_index': 0}}}, 'identifiers': [{'schema_id': 'PQRXDxdGqQGSZ8z69p4xZP:2:open_mined_community-member1:0.0.1', 'cred_def_id': 'PQRXDxdGqQGSZ8z69p4xZP:3:CL:10:default', 'rev_reg_id': None, 'timestamp': None}]}, 'thread_id': '76c78780-a62a-42ec-b27c-64218a52a1ad', 'presentation_exchange_id': '91a96df6-b055-421c-a137-e8edd666d118', 'presentation_request': {'name': 'Proof of Openmined Community Member', 'version': '1.0', 'requested_attributes': {'0_name_uuid': {'name': 'name', 'restrictions': [{'issuer_did': 'PQRXDxdGqQGSZ8z69p4xZP'}]}, '0_community_vote_uuid': {'name': 'community_vote'}}, 'requested_predicates': {'0_community_member_GE_uuid': {'name': 'community_member', 'p_type': '>=', 'p_value': 1, 'restrictions': [{'issuer_did': 'PQRXDxdGqQGSZ8z69p4xZP'}]}}, 'nonce': '688091170694236289493880'}, 'state': 'verified', 'trace': False, 'created_at': '2020-08-18 15:13:17.302806Z', 'auto_present': False, 'initiator': 'self', 'role': 'verifier', 'updated_at': '2020-08-18 15:13:33.101250Z', 'verified': 'true', 'connection_id': 'a73894b1-62f6-4389-8bf8-4926254bed0e'}\n"
     ]
    }
   ],
   "source": [
    "verify = await agent_controller.proofs.verify_presentation(presentation_exchange_id)\n",
    "print(verify)"
   ]
  },
  {
   "cell_type": "markdown",
   "metadata": {},
   "source": [
    "## End of Tutorial\n",
    "\n",
    "Be sure to terminate the controller so you can run another tutorial.\n",
    "\n",
    "There are a few api calls not covered in this tutorial so far. Mostly around credential revocation."
   ]
  },
  {
   "cell_type": "code",
   "execution_count": 12,
   "metadata": {},
   "outputs": [
    {
     "name": "stdout",
     "output_type": "stream",
     "text": [
      "None\n"
     ]
    }
   ],
   "source": [
    "response = await agent_controller.terminate()\n",
    "print(response)"
   ]
  }
 ],
 "metadata": {
  "kernelspec": {
   "display_name": "Python 3",
   "language": "python",
   "name": "python3"
  },
  "language_info": {
   "codemirror_mode": {
    "name": "ipython",
    "version": 3
   },
   "file_extension": ".py",
   "mimetype": "text/x-python",
   "name": "python",
   "nbconvert_exporter": "python",
   "pygments_lexer": "ipython3",
   "version": "3.7.6"
  }
 },
 "nbformat": 4,
 "nbformat_minor": 1
}
