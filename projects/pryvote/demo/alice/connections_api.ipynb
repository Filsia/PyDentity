{
 "cells": [
  {
   "cell_type": "markdown",
   "metadata": {
    "collapsed": true,
    "pycharm": {
     "name": "#%% md\n"
    }
   },
   "source": [
    "# Aries Basic Controller Example\n",
    "## Controllers Api\n",
    "\n",
    "This can be used to make connections between two aries agents.\n",
    "\n",
    "A connection invitation must be created by Alice which is then copied to Bob's notebook to accept the invitation request.\n",
    "\n",
    "Once Bob accepted the invitation, Alice can accept the invitation response from Bob.\n",
    "\n",
    "This creates a pairwise relationship between Alice and Bob that is end-to-end encrypted and a trust channel between them for exchanging basic messages or verifiable credentials."
   ]
  },
  {
   "cell_type": "code",
   "execution_count": 1,
   "metadata": {
    "pycharm": {
     "name": "#%%\n"
    }
   },
   "outputs": [
    {
     "name": "stdout",
     "output_type": "stream",
     "text": [
      "IPython autoawait is `on`, and set to use `asyncio`\n"
     ]
    }
   ],
   "source": [
    "%autoawait\n",
    "import time\n",
    "import asyncio"
   ]
  },
  {
   "cell_type": "code",
   "execution_count": 1,
   "metadata": {
    "pycharm": {
     "name": "#%%\n"
    }
   },
   "outputs": [],
   "source": [
    "from aries_basic_controller.aries_controller import AriesAgentController\n",
    "\n",
    "WEBHOOK_HOST = \"0.0.0.0\"\n",
    "WEBHOOK_PORT = 8022\n",
    "WEBHOOK_BASE = \"\"\n",
    "ADMIN_URL = \"http://alice-agent:8021\"\n",
    "\n",
    "# Based on the aca-py agent you wish to control\n",
    "agent_controller = AriesAgentController(webhook_host=WEBHOOK_HOST, webhook_port=WEBHOOK_PORT,\n",
    "                                       webhook_base=WEBHOOK_BASE, admin_url=ADMIN_URL)\n",
    "\n"
   ]
  },
  {
   "cell_type": "markdown",
   "metadata": {},
   "source": [
    "## Check the agent has an active connection\n",
    "\n",
    "**Note: An active connection is required, this should have been established on start up through the python script create_connection.py in the setup folder. If not it is possible to run through the did-exchange tutorial to create one between Alice and Bob**\n",
    "\n",
    "* [Alice](http://localhost:8888/notebooks/did-exchange-inviter.ipynb)\n",
    "* [Bob](http://localhost:8889/notebooks/did-exchange-invitee.ipynb)"
   ]
  },
  {
   "cell_type": "code",
   "execution_count": 3,
   "metadata": {},
   "outputs": [
    {
     "name": "stdout",
     "output_type": "stream",
     "text": [
      "\n",
      "\n",
      "\n",
      "Active Connection ID :  3b1b7649-0fe0-4e42-aa9c-2e58a7d2f11b\n"
     ]
    }
   ],
   "source": [
    "response = await agent_controller.connections.get_connections()\n",
    "results = response['results']\n",
    "#print(\"Results : \", results)\n",
    "print('\\n')\n",
    "if len(results) > 0:\n",
    "    connection = response['results'][0]\n",
    "    #print(\"Connection :\", connection)\n",
    "    if connection['state'] == 'active':       \n",
    "        connection_id = connection[\"connection_id\"]\n",
    "        print(\"\\nActive Connection ID : \", connection_id)\n",
    "    else:\n",
    "        print(\"No active connection found - wait a bit and execute again\")\n",
    "else:\n",
    "    print(\"You must create a connection. A connection is being established in the background.\")"
   ]
  },
  {
   "cell_type": "markdown",
   "metadata": {},
   "source": [
    "### Pairwise Connection Record Parameters (`/connections`)\n",
    "\n",
    " * `connection_id`: the unique connection identifier\n",
    " * `state`: `init` / `invitation` / `request` / `response` / `active` / `error` / `inactive`\n",
    " * `my_did`: the DID this agent is using in the connection\n",
    " * `their_did`: the DID the other agent in the connection is using\n",
    " * `their_label`: a connection label provided by the other agent\n",
    " * `their_role`: a role assigned to the other agent in the connection\n",
    " * `inbound_connection_id`: a connection identifier for the related inbound routing connection\n",
    " * `initiator`: `self` / `external` / `multiuse`\n",
    " * `invitation_key`: a verification key used to identify the source connection invitation\n",
    " * `request_id`: the `@id` property from the connection request message\n",
    " * `routing_state`: `none` / `request` / `active` / `error`\n",
    " * `accept`: `manual` / `auto`\n",
    " * `error_msg`: the most recent error message\n",
    " * `invitation_mode`: `once` / `multi`\n",
    " * `alias`: a local alias for the connection record"
   ]
  },
  {
   "cell_type": "markdown",
   "metadata": {
    "pycharm": {
     "name": "#%% md\n"
    }
   },
   "source": [
    "### Get Connections List"
   ]
  },
  {
   "cell_type": "code",
   "execution_count": 4,
   "metadata": {},
   "outputs": [
    {
     "name": "stdout",
     "output_type": "stream",
     "text": [
      "{'results': [{'connection_id': '3b1b7649-0fe0-4e42-aa9c-2e58a7d2f11b', 'request_id': '3ee1b519-8285-41d9-8806-c92bf073bdab', 'their_did': 'CQLy9zbaicY9mTV8wCPk1C', 'routing_state': 'none', 'their_label': 'Bob', 'state': 'active', 'updated_at': '2020-09-01 19:02:11.904800Z', 'invitation_mode': 'once', 'accept': 'manual', 'invitation_key': '4BBjhcuXdWBxfphp56cXhvBLfsqEwxx6vYuVXmXMy5RM', 'my_did': 'KdSVNWrrxZdNSNsyCegDDC', 'created_at': '2020-09-01 19:01:59.693053Z', 'initiator': 'external'}]}\n"
     ]
    }
   ],
   "source": [
    "response = await agent_controller.connections.get_connections()\n",
    "print(response)"
   ]
  },
  {
   "cell_type": "markdown",
   "metadata": {},
   "source": [
    "### Get Connection by Connection ID"
   ]
  },
  {
   "cell_type": "code",
   "execution_count": 5,
   "metadata": {},
   "outputs": [
    {
     "name": "stdout",
     "output_type": "stream",
     "text": [
      "3b1b7649-0fe0-4e42-aa9c-2e58a7d2f11b\n",
      "{'connection_id': '3b1b7649-0fe0-4e42-aa9c-2e58a7d2f11b', 'request_id': '3ee1b519-8285-41d9-8806-c92bf073bdab', 'their_did': 'CQLy9zbaicY9mTV8wCPk1C', 'routing_state': 'none', 'their_label': 'Bob', 'state': 'active', 'updated_at': '2020-09-01 19:02:11.904800Z', 'invitation_mode': 'once', 'accept': 'manual', 'invitation_key': '4BBjhcuXdWBxfphp56cXhvBLfsqEwxx6vYuVXmXMy5RM', 'my_did': 'KdSVNWrrxZdNSNsyCegDDC', 'created_at': '2020-09-01 19:01:59.693053Z', 'initiator': 'external'}\n"
     ]
    }
   ],
   "source": [
    "print(connection_id)\n",
    "response = await agent_controller.connections.get_connection(connection_id)\n",
    "print(response)"
   ]
  },
  {
   "cell_type": "markdown",
   "metadata": {},
   "source": [
    "### Create a new static connection\n",
    "\n",
    "Not 100% sure what this is for at the moment. Seems strange that seeds are used."
   ]
  },
  {
   "cell_type": "code",
   "execution_count": 6,
   "metadata": {},
   "outputs": [
    {
     "name": "stdout",
     "output_type": "stream",
     "text": [
      "{'my_did': 'PQRXDxdGqQGSZ8z69p4xZP', 'my_verkey': 'DDEKJtBjzaXAJtpwetdPiXH5s4rNUEzG18V15QoLRcZZ', 'my_endpoint': 'http://192.168.65.3:8020', 'their_did': 'gZj39Y8JGQ5GVQp2y6zFH', 'their_verkey': 'NZhmtd1RginriRRSAWWhgA3567PGbzsEnnm5u927Pcu', 'record': {'accept': 'manual', 'updated_at': '2020-09-01 16:54:08.497107Z', 'alias': 'Alice', 'initiator': 'self', 'state': 'active', 'their_label': 'Bob', 'their_role': 'test', 'routing_state': 'none', 'created_at': '2020-09-01 16:54:08.497107Z', 'connection_id': '09c95f61-34ed-4ef0-9ddd-531fb1e534f7', 'invitation_mode': 'static', 'my_did': 'PQRXDxdGqQGSZ8z69p4xZP', 'their_did': 'gZj39Y8JGQ5GVQp2y6zFH'}}\n"
     ]
    }
   ],
   "source": [
    "# Create Static Connection\n",
    "# Alice settings\n",
    "# my_seed = my_seed\n",
    "# my_did = my_did\n",
    "# alias = alias\n",
    "\n",
    "my_did = 'PQRXDxdGqQGSZ8z69p4xZP'\n",
    "my_seed = 'alice_seed_000000000000000000000'\n",
    "alias = 'Alice'\n",
    "\n",
    "\n",
    "# # Bob settings\n",
    "# their_endpoint = their_endpoint\n",
    "# their_did = their_did\n",
    "# their_seed = their_seed\n",
    "# their_label = their_label\n",
    "# their_verkey = their_verkey\n",
    "# their_role = their_role\n",
    "their_did = 'gZj39Y8JGQ5GVQp2y6zFH'\n",
    "their_seed = 'bob_seed_00000000000000000000000'\n",
    "their_label = 'Bob'\n",
    "their_verkey = 'NZhmtd1RginriRRSAWWhgA3567PGbzsEnnm5u927Pcu'\n",
    "their_endpoint = 'http://192.168.65.3:8050'\n",
    "their_role = 'test'\n",
    "\n",
    "static = await agent_controller.connections.create_static(their_seed,their_label,their_verkey,their_role,my_seed,my_did,their_endpoint,alias,their_did)\n",
    "print(static)"
   ]
  },
  {
   "cell_type": "markdown",
   "metadata": {},
   "source": [
    "### Create invitation request that can be passed to Bob"
   ]
  },
  {
   "cell_type": "code",
   "execution_count": 7,
   "metadata": {
    "pycharm": {
     "name": "#%%\n"
    }
   },
   "outputs": [
    {
     "name": "stdout",
     "output_type": "stream",
     "text": [
      "Connection ID 0c057db4-d9f2-45f5-a8c1-516e2a1e12d0\n",
      "Invitation\n",
      "{'connection_id': '0c057db4-d9f2-45f5-a8c1-516e2a1e12d0', 'invitation': {'@type': 'did:sov:BzCbsNYhMrjHiqZDTUASHg;spec/connections/1.0/invitation', '@id': '717080aa-401d-4edc-9579-dd89a3469b3c', 'recipientKeys': ['BYcjKjcKJV2NSP8oPH1JZUiDsCsiKZqPzWdwtdsPcsyP'], 'serviceEndpoint': 'http://192.168.65.3:8020', 'label': 'Alice'}, 'invitation_url': 'http://192.168.65.3:8020?c_i=eyJAdHlwZSI6ICJkaWQ6c292OkJ6Q2JzTlloTXJqSGlxWkRUVUFTSGc7c3BlYy9jb25uZWN0aW9ucy8xLjAvaW52aXRhdGlvbiIsICJAaWQiOiAiNzE3MDgwYWEtNDAxZC00ZWRjLTk1NzktZGQ4OWEzNDY5YjNjIiwgInJlY2lwaWVudEtleXMiOiBbIkJZY2pLamNLSlYyTlNQOG9QSDFKWlVpRHNDc2lLWnFQeldkd3Rkc1Bjc3lQIl0sICJzZXJ2aWNlRW5kcG9pbnQiOiAiaHR0cDovLzE5Mi4xNjguNjUuMzo4MDIwIiwgImxhYmVsIjogIkFsaWNlIn0='}\n"
     ]
    }
   ],
   "source": [
    "# Create Invitation\n",
    "invite = await agent_controller.connections.create_invitation()\n",
    "connection_id = invite[\"connection_id\"]\n",
    "print(\"Connection ID\", connection_id)\n",
    "print(\"Invitation\")\n",
    "print(invite)"
   ]
  },
  {
   "cell_type": "markdown",
   "metadata": {
    "pycharm": {
     "name": "#%% md\n"
    }
   },
   "source": [
    "### Receive a connection invitation\n",
    "#### Example of accepting the invitation from the Alice [notebook](localhost:8088) in Bob's [notebook](localhost:8089);\n",
    "Copy the invitation request above to Bob's [notebook](localhost:8089)"
   ]
  },
  {
   "cell_type": "markdown",
   "metadata": {},
   "source": [
    "### Accept the invitation on Bob's notebook, then move back here to Alice's notebook"
   ]
  },
  {
   "cell_type": "code",
   "execution_count": 8,
   "metadata": {
    "pycharm": {
     "name": "#%%\n"
    }
   },
   "outputs": [
    {
     "name": "stdout",
     "output_type": "stream",
     "text": [
      "Connection {'created_at': '2020-09-01 12:34:32.780621Z', 'invitation_key': 'BYcjKjcKJV2NSP8oPH1JZUiDsCsiKZqPzWdwtdsPcsyP', 'my_did': 'JHf4eRqEfvdfotJizn5WxT', 'updated_at': '2020-09-01 12:34:32.842258Z', 'initiator': 'external', 'their_label': 'Alice', 'request_id': '343605c1-3e46-4b26-a3ef-d9d65f7508c9', 'accept': 'manual', 'routing_state': 'none', 'invitation_mode': 'once', 'state': 'request', 'connection_id': 'fe5bb963-9c12-4f9e-ad80-bdea40c3bf8a'}\n"
     ]
    }
   ],
   "source": [
    "# Receive Invitation\n",
    "response = await agent_controller.connections.accept_connection(invite[\"invitation\"])\n",
    "# Print out accepted Invite and Alice's connection ID\n",
    "print(\"Connection\", response)\n",
    "alice_id = response[\"connection_id\"]"
   ]
  },
  {
   "cell_type": "markdown",
   "metadata": {
    "pycharm": {
     "name": "#%% md\n"
    }
   },
   "source": [
    "### Accept Request for Connection by Alice"
   ]
  },
  {
   "cell_type": "code",
   "execution_count": 9,
   "metadata": {
    "pycharm": {
     "name": "#%%\n"
    }
   },
   "outputs": [
    {
     "name": "stdout",
     "output_type": "stream",
     "text": [
      "True\n",
      "ACCEPT REQUEST\n",
      "{'created_at': '2020-09-01 12:33:17.891802Z', 'invitation_key': 'BYcjKjcKJV2NSP8oPH1JZUiDsCsiKZqPzWdwtdsPcsyP', 'my_did': 'D3zLxJ52zjHRnYEtB1Lvyt', 'updated_at': '2020-09-01 12:35:12.627511Z', 'their_did': 'JHf4eRqEfvdfotJizn5WxT', 'initiator': 'self', 'their_label': 'Alice', 'accept': 'manual', 'routing_state': 'none', 'invitation_mode': 'once', 'state': 'response', 'connection_id': '0c057db4-d9f2-45f5-a8c1-516e2a1e12d0'}\n",
      "state response\n"
     ]
    }
   ],
   "source": [
    "# Accept Request for Invite created\n",
    "connection = await agent_controller.connections.accept_request(connection_id)\n",
    "print(\"ACCEPT REQUEST\")\n",
    "print(connection)\n",
    "print(\"state\", connection[\"state\"])"
   ]
  },
  {
   "cell_type": "markdown",
   "metadata": {},
   "source": [
    "### TODO Establish Inbound Connection"
   ]
  },
  {
   "cell_type": "code",
   "execution_count": null,
   "metadata": {},
   "outputs": [],
   "source": []
  },
  {
   "cell_type": "markdown",
   "metadata": {},
   "source": [
    "### Remove Connection"
   ]
  },
  {
   "cell_type": "code",
   "execution_count": 10,
   "metadata": {},
   "outputs": [
    {
     "name": "stdout",
     "output_type": "stream",
     "text": [
      "{}\n"
     ]
    }
   ],
   "source": [
    "# Remove a connection\n",
    "connection = await agent_controller.connections.remove_connection(connection_id)\n",
    "print(connection)"
   ]
  },
  {
   "cell_type": "markdown",
   "metadata": {},
   "source": [
    "### End of Tutorial\n",
    "\n"
   ]
  },
  {
   "cell_type": "code",
   "execution_count": 6,
   "metadata": {},
   "outputs": [
    {
     "name": "stdout",
     "output_type": "stream",
     "text": [
      "None\n"
     ]
    }
   ],
   "source": [
    "response = await agent_controller.terminate()\n",
    "print(response)"
   ]
  },
  {
   "cell_type": "code",
   "execution_count": null,
   "metadata": {},
   "outputs": [],
   "source": []
  }
 ],
 "metadata": {
  "kernelspec": {
   "display_name": "Python 3",
   "language": "python",
   "name": "python3"
  },
  "language_info": {
   "codemirror_mode": {
    "name": "ipython",
    "version": 3
   },
   "file_extension": ".py",
   "mimetype": "text/x-python",
   "name": "python",
   "nbconvert_exporter": "python",
   "pygments_lexer": "ipython3",
   "version": "3.7.6"
  }
 },
 "nbformat": 4,
 "nbformat_minor": 1
}
