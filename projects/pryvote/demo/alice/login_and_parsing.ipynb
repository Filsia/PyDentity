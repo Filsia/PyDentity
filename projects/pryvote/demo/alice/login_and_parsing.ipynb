{
 "cells": [
  {
   "cell_type": "code",
   "execution_count": null,
   "metadata": {},
   "outputs": [],
   "source": [
    "import requests\n",
    "from getpass import getpass\n",
    "from bs4 import BeautifulSoup\n",
    "\n",
    "\n",
    "headers = {\n",
    " 'user-agent': 'Mozilla/5.0 (Macintosh; Intel Mac OS X 10_13_6) AppleWebKit/537.36 (KHTML, like Gecko) Chrome/73.0.3683.86 Safari/537.36'\n",
    "}\n",
    "\n",
    "login_data = {\n",
    "'commit': 'Sign in',\n",
    "'utf8': '%E2%9C%93',\n",
    "'login': input('Username: '),\n",
    "'password': getpass()\n",
    "}\n",
    "url = 'https://github.com/session'\n",
    "session = requests.Session()\n",
    "response = session.get(url, headers=headers)\n",
    "\n",
    "soup = BeautifulSoup(response.text, 'html5lib')\n",
    "login_data['authenticity_token'] = soup.find(\n",
    "'input', attrs={'name': 'authenticity_token'})['value']\n",
    "response = session.post(url, data=login_data, headers=headers)\n",
    "print(response.status_code)\n",
    "response = session.get('https://github.com/settings/organizations', headers=headers)\n",
    "# print(response.text)"
   ]
  },
  {
   "cell_type": "code",
   "execution_count": 2,
   "metadata": {
    "scrolled": true
   },
   "outputs": [
    {
     "data": {
      "text/plain": [
       "{'Date': 'Tue, 08 Sep 2020 12:39:17 GMT', 'Content-Type': 'text/html; charset=utf-8', 'Transfer-Encoding': 'chunked', 'Server': 'GitHub.com', 'Status': '200 OK', 'Vary': 'X-PJAX, Accept-Encoding, Accept, X-Requested-With, Accept-Encoding', 'ETag': 'W/\"cbad0a105c4944e190290f12c83c5502\"', 'Cache-Control': 'max-age=0, private, must-revalidate', 'Set-Cookie': 'user_session=UPayuSBdxptvXri5sWhZNQifTlldzWi6n8Cyp12k3nZpzWTC; path=/; expires=Tue, 22 Sep 2020 12:39:16 GMT; secure; HttpOnly; SameSite=Lax, __Host-user_session_same_site=UPayuSBdxptvXri5sWhZNQifTlldzWi6n8Cyp12k3nZpzWTC; path=/; expires=Tue, 22 Sep 2020 12:39:16 GMT; SameSite=Strict; secure; HttpOnly, has_recent_activity=1; path=/; expires=Tue, 08 Sep 2020 13:39:16 GMT; secure; HttpOnly; SameSite=Lax, _gh_sess=ubezCE20ojeTt%2BuCyJnBWdE1CvjCaO8w6ompvXeY54GI6YiY%2FM2zkHgYIcsWgat9tNlhN8to5fDp7CDW5KTVHOsBx9JkwzC%2F0HwQm6vxLWqOq0I9ZI3dqEZNlw1QOF3TYCLN00tFWJlwq1OGlsLKg2OIME%2F7DGX4ATC54QQuhc06ZjeZ0P5TrJTbhlITmvjL3lIyn27u47B9L1r2GgTspwJozrfxfmrckCTcufqm074ZnQuXl8eiRR1YK4wSp6%2BH5N4Rb7Kw7b8CzWcljtgspkwUZHFUZHBYWg3Gxf6njly1UxR57KCXBQkVGYpOC%2BQKd88xBwOoqhhdOyYtIsu9wk5aQf0FCyzbwryoyuIGhl98q4ht%2F60JkXw0DobYAdyKudmIdXeMJfAf9YTEBwqBi%2FJ3j6XN0Nqtw%2FWWRqYVTuM1tP12rb7Nx00dMq7nQVVBkBwCBqkdREwYRXASuyzl8R3pD0%2FyxKrtQ7u79AKbbMFDLD3cpzQp1OsvoOAGvoszXdeGPooKKXTj1xssmA4vIYzwUIN7u%2FAAdjnbwdEshvQyHgRd0rKN%2B2PS26MitICetM%2BVVD5tboUk8HDVeyBSWwEtHx55iUE%2BfHn5cC9ZkuD%2FtHeYTJIL53YW9mECmRqBWi6c3AegGB99flX81TnLb1Kh1j26C71uuMomPTCail7y2o1kWaui2TrVWlT9YGpwdjcXqRidkEjpI15FNZZIWGgHyfi4OSOfR2BtChqKkmxHpP3bdzcEvub9e1d2ljEu7%2BZ%2FTZ9aliM6FnP93lQbklTNXhntkh%2BiLbG%2BSDmMkZ3HQKU0oq2H35T3YEtzgM4galD8XTLXHyOeTkKE6stMA9BvzYbJCqs6--v%2BNH5P0X3etqtIHz--hjgSigXnO2Bt4dHkaCthVg%3D%3D; path=/; secure; HttpOnly; SameSite=Lax', 'Strict-Transport-Security': 'max-age=31536000; includeSubdomains; preload', 'X-Frame-Options': 'deny', 'X-Content-Type-Options': 'nosniff', 'X-XSS-Protection': '1; mode=block', 'Referrer-Policy': 'origin-when-cross-origin, strict-origin-when-cross-origin', 'Expect-CT': 'max-age=2592000, report-uri=\"https://api.github.com/_private/browser/errors\"', 'Content-Security-Policy': \"default-src 'none'; base-uri 'self'; block-all-mixed-content; connect-src 'self' uploads.github.com www.githubstatus.com collector.githubapp.com api.github.com www.google-analytics.com github-cloud.s3.amazonaws.com github-production-repository-file-5c1aeb.s3.amazonaws.com github-production-upload-manifest-file-7fdce7.s3.amazonaws.com github-production-user-asset-6210df.s3.amazonaws.com cdn.optimizely.com logx.optimizely.com/v1/events wss://alive.github.com; font-src github.githubassets.com; form-action 'self' github.com gist.github.com; frame-ancestors 'none'; frame-src render.githubusercontent.com; img-src 'self' data: github.githubassets.com identicons.github.com collector.githubapp.com github-cloud.s3.amazonaws.com *.githubusercontent.com; manifest-src 'self'; media-src 'none'; script-src github.githubassets.com; style-src 'unsafe-inline' github.githubassets.com; worker-src github.com/socket-worker.js gist.github.com/socket-worker.js\", 'Content-Encoding': 'gzip', 'X-GitHub-Request-Id': 'D939:DB63:15174052:1F7224A2:5F577B74'}"
      ]
     },
     "execution_count": 2,
     "metadata": {},
     "output_type": "execute_result"
    }
   ],
   "source": [
    "response.headers\n",
    "\n",
    "# from IPython.core.display import display, HTML\n",
    "# display(HTML(response.text))"
   ]
  },
  {
   "cell_type": "code",
   "execution_count": 3,
   "metadata": {},
   "outputs": [
    {
     "name": "stdout",
     "output_type": "stream",
     "text": [
      "@diffusioncon\n",
      "@NeverMindTheBlockchain\n",
      "@blockpass-identity-lab\n",
      "@OpenMined\n"
     ]
    }
   ],
   "source": [
    "soup = BeautifulSoup(response.text)\n",
    "\n",
    "orgsSection = soup.findAll(\"div\", {\"class\": \"col-9 float-left\"})[0].findAll(\"div\", {\"class\": \"Box\"})[0].findAll('img')\n",
    "myOrgs = \"\\n\".join(set(tag['alt'] for tag in orgsSection))\n",
    "print(myOrgs)\n"
   ]
  },
  {
   "cell_type": "code",
   "execution_count": null,
   "metadata": {},
   "outputs": [],
   "source": []
  }
 ],
 "metadata": {
  "kernelspec": {
   "display_name": "Python 3",
   "language": "python",
   "name": "python3"
  },
  "language_info": {
   "codemirror_mode": {
    "name": "ipython",
    "version": 3
   },
   "file_extension": ".py",
   "mimetype": "text/x-python",
   "name": "python",
   "nbconvert_exporter": "python",
   "pygments_lexer": "ipython3",
   "version": "3.7.7"
  }
 },
 "nbformat": 4,
 "nbformat_minor": 4
}
