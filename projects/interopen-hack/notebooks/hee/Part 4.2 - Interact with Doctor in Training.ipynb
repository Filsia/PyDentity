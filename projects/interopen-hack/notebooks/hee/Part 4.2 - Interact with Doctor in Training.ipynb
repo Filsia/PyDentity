{
 "cells": [
  {
   "cell_type": "markdown",
   "metadata": {
    "collapsed": true
   },
   "source": [
    "# Interact with Doctor in Training\n",
    "## Role: Health Education England\n",
    "\n",
    "## Before running through this notebook you should run through the following notebook - [Part 4.1](http://localhost:8891/notebooks/Part%204.1%20-%20Initialising%20the%20HEE%20Agent.ipynb).\n",
    "\n",
    "## Or alternatively you can start at the beginning of the Doctors in Training flow [here](http://localhost:8889/notebooks/Part%201%20-%20Getting%20Started.ipynb).\n",
    "\n"
   ]
  },
  {
   "cell_type": "markdown",
   "metadata": {},
   "source": [
    "## 1. Initialise a controller for Health Education England"
   ]
  },
  {
   "cell_type": "code",
   "execution_count": 1,
   "metadata": {},
   "outputs": [
    {
     "name": "stdout",
     "output_type": "stream",
     "text": [
      "IPython autoawait is `on`, and set to use `asyncio`\n"
     ]
    }
   ],
   "source": [
    "%autoawait\n",
    "import time\n",
    "import asyncio\n",
    "from termcolor import colored,cprint\n",
    "\n",
    "from aries_basic_controller.aries_controller import AriesAgentController\n",
    "    \n",
    "WEBHOOK_HOST = \"0.0.0.0\"\n",
    "WEBHOOK_PORT = 8042\n",
    "WEBHOOK_BASE = \"\"\n",
    "ADMIN_URL = \"http://hee-agent:8041\"\n",
    "\n",
    "# Based on the aca-py agent you wish to control\n",
    "agent_controller = AriesAgentController(webhook_host=WEBHOOK_HOST, webhook_port=WEBHOOK_PORT,\n",
    "                                       webhook_base=WEBHOOK_BASE, admin_url=ADMIN_URL)\n",
    "    "
   ]
  },
  {
   "cell_type": "markdown",
   "metadata": {},
   "source": [
    "## 2. Register Listeners\n",
    "\n",
    "The handler should get called every time the controller receives a webhook with the topic issue_credential, printing out the payload. The agent calls to this webhook every time it receives an issue-credential protocol message from a credential."
   ]
  },
  {
   "cell_type": "code",
   "execution_count": 2,
   "metadata": {},
   "outputs": [],
   "source": [
    "loop = asyncio.get_event_loop()\n",
    "loop.create_task(agent_controller.listen_webhooks())\n",
    "\n",
    "def cred_handler(payload):\n",
    "    print(\"Handle Credentials\")\n",
    "    exchange_id = payload['credential_exchange_id']\n",
    "    state = payload['state']\n",
    "    role = payload['role']\n",
    "    attributes = payload['credential_proposal_dict']['credential_proposal']['attributes']\n",
    "    print(f\"Credential exchange {exchange_id}, role: {role}, state: {state}\")\n",
    "    print(f\"Offering: {attributes}\")\n",
    "    \n",
    "cred_listener = {\n",
    "    \"topic\": \"issue_credential\",\n",
    "    \"handler\": cred_handler\n",
    "}\n",
    "\n",
    "def connections_handler(payload):\n",
    "    global STATE\n",
    "    connection_id = payload[\"connection_id\"]\n",
    "    print(\"Connection message\", payload, connection_id)\n",
    "    STATE = payload['state']\n",
    "    if STATE == 'active':\n",
    "#         print('Connection {0} changed state to active'.format(connection_id))\n",
    "        print(colored(\"Connection {0} changed state to active\".format(connection_id), \"red\", attrs=[\"bold\"]))\n",
    "\n",
    "\n",
    "connection_listener = {\n",
    "    \"handler\": connections_handler,\n",
    "    \"topic\": \"connections\"\n",
    "}\n",
    "\n",
    "agent_controller.register_listeners([cred_listener,connection_listener], defaults=True)\n"
   ]
  },
  {
   "cell_type": "markdown",
   "metadata": {},
   "source": [
    "## 3. Create a connection invitation to scan with the Mobile SSI Wallet\n",
    "\n",
    "To make a connection with an identity holders wallet we must create a connection invitation and present the QR code to be scanned by the identity holders wallet. The identity holder scans this QR code and then can communicate with the agent through the exposed ngrok endpoint.\n",
    "\n",
    "Once a connection is in an active state, the agent and the identity holders mobile wallet now have a secure pairwise relationship over which they can exchange verifiable credentials.\n",
    "\n",
    "You must have a ssi wallet installed on your phone and connected to the Sovrin StagingNet for this to work."
   ]
  },
  {
   "cell_type": "markdown",
   "metadata": {},
   "source": [
    "### 3.1 Generate an invitation"
   ]
  },
  {
   "cell_type": "code",
   "execution_count": 3,
   "metadata": {},
   "outputs": [
    {
     "name": "stdout",
     "output_type": "stream",
     "text": [
      "Connection ID 0eab678d-760f-4118-a141-2b67eb6d2248\n",
      "Invitation\n",
      "http://ae70b01b2b0b.ngrok.io?c_i=eyJAdHlwZSI6ICJkaWQ6c292OkJ6Q2JzTlloTXJqSGlxWkRUVUFTSGc7c3BlYy9jb25uZWN0aW9ucy8xLjAvaW52aXRhdGlvbiIsICJAaWQiOiAiYjlkZDVhMWItODI1Mi00NjAzLTg1OGEtNGRkMGY1NzZiN2ZjIiwgInNlcnZpY2VFbmRwb2ludCI6ICJodHRwOi8vYWU3MGIwMWIyYjBiLm5ncm9rLmlvIiwgInJlY2lwaWVudEtleXMiOiBbIkRZYXJ0enZYRXVoaUZjR2RHZmZUQktqTTJaYW1XTlBvUng4Z1FGaWd0a2g0Il0sICJsYWJlbCI6ICJIZWFsdGggRWR1Y2F0aW9uIEVuZ2xhbmQifQ==\n",
      "Connection message {'invitation_mode': 'once', 'initiator': 'self', 'accept': 'auto', 'invitation_key': 'DYartzvXEuhiFcGdGffTBKjM2ZamWNPoRx8gQFigtkh4', 'connection_id': '0eab678d-760f-4118-a141-2b67eb6d2248', 'created_at': '2020-09-22 10:28:29.248283Z', 'state': 'invitation', 'routing_state': 'none', 'updated_at': '2020-09-22 10:28:29.248283Z'} 0eab678d-760f-4118-a141-2b67eb6d2248\n"
     ]
    }
   ],
   "source": [
    "# Create Invitation\n",
    "invite = await agent_controller.connections.create_invitation()\n",
    "connection_id = invite[\"connection_id\"]\n",
    "print(\"Connection ID\", connection_id)\n",
    "print(\"Invitation\")\n",
    "print(invite['invitation_url'])\n",
    "inviteURL = invite['invitation_url']"
   ]
  },
  {
   "cell_type": "markdown",
   "metadata": {},
   "source": [
    "### 3.2 Display as QrCode to be Scanned by SSI Wallet"
   ]
  },
  {
   "cell_type": "code",
   "execution_count": 4,
   "metadata": {},
   "outputs": [
    {
     "data": {
      "image/png": "[encoded data removed]",
      "text/plain": [
       "<IPython.core.display.Image object>"
      ]
     },
     "execution_count": 4,
     "metadata": {
      "image/png": {
       "width": 400
      }
     },
     "output_type": "execute_result"
    },
    {
     "name": "stdout",
     "output_type": "stream",
     "text": [
      "Connection message {'their_did': '7TSuhGu3m9KhpkustVdeo6', 'invitation_mode': 'once', 'initiator': 'self', 'accept': 'auto', 'invitation_key': 'DYartzvXEuhiFcGdGffTBKjM2ZamWNPoRx8gQFigtkh4', 'connection_id': '0eab678d-760f-4118-a141-2b67eb6d2248', 'created_at': '2020-09-22 10:28:29.248283Z', 'their_label': 'EAX', 'state': 'request', 'routing_state': 'none', 'updated_at': '2020-09-22 10:28:42.618588Z'} 0eab678d-760f-4118-a141-2b67eb6d2248\n",
      "Connection message {'their_did': '7TSuhGu3m9KhpkustVdeo6', 'invitation_mode': 'once', 'initiator': 'self', 'accept': 'auto', 'my_did': 'J2fv6K2u1s5fA15Y9zhaxN', 'invitation_key': 'DYartzvXEuhiFcGdGffTBKjM2ZamWNPoRx8gQFigtkh4', 'connection_id': '0eab678d-760f-4118-a141-2b67eb6d2248', 'created_at': '2020-09-22 10:28:29.248283Z', 'their_label': 'EAX', 'state': 'response', 'routing_state': 'none', 'updated_at': '2020-09-22 10:28:42.647225Z'} 0eab678d-760f-4118-a141-2b67eb6d2248\n"
     ]
    }
   ],
   "source": [
    "import qrcode\n",
    "# Link for connection invitation\n",
    "input_data = inviteURL\n",
    "# Creating an instance of qrcode\n",
    "qr = qrcode.QRCode(\n",
    "        version=1,\n",
    "        box_size=10,\n",
    "        border=5)\n",
    "\n",
    "qr.add_data(input_data)\n",
    "qr.make(fit=True)\n",
    "img = qr.make_image(fill='black', back_color='white')\n",
    "img.save('issuer_agent_invite_QRcode.png')\n",
    "\n",
    "from IPython.display import Image\n",
    "Image(width=400, filename='./issuer_agent_invite_QRcode.png')"
   ]
  },
  {
   "cell_type": "markdown",
   "metadata": {},
   "source": [
    "### 3.3 Check the connection is in the active state"
   ]
  },
  {
   "cell_type": "code",
   "execution_count": 5,
   "metadata": {},
   "outputs": [
    {
     "name": "stdout",
     "output_type": "stream",
     "text": [
      "\u001b[1m\u001b[35mCurrent state for ConnectionId 0eab678d-760f-4118-a141-2b67eb6d2248 is response\u001b[0m\n",
      "\u001b[1m\u001b[33mConnectionId 0eab678d-760f-4118-a141-2b67eb6d2248 is not in active state yet\u001b[0m\n",
      "\u001b[1m\u001b[34mTrust ping send to ConnectionId {'thread_id': 'acadee00-d2d1-4896-95ec-35081cbfe279'} to activate connection\u001b[0m\n",
      "\u001b[1m\u001b[33mConnectionId 0eab678d-760f-4118-a141-2b67eb6d2248 is not in active state yet\u001b[0m\n",
      "Connection message {'their_did': '7TSuhGu3m9KhpkustVdeo6', 'invitation_mode': 'once', 'initiator': 'self', 'accept': 'auto', 'my_did': 'J2fv6K2u1s5fA15Y9zhaxN', 'invitation_key': 'DYartzvXEuhiFcGdGffTBKjM2ZamWNPoRx8gQFigtkh4', 'connection_id': '0eab678d-760f-4118-a141-2b67eb6d2248', 'created_at': '2020-09-22 10:28:29.248283Z', 'their_label': 'EAX', 'state': 'active', 'routing_state': 'none', 'updated_at': '2020-09-22 10:28:48.166101Z'} 0eab678d-760f-4118-a141-2b67eb6d2248\n",
      "\u001b[1m\u001b[31mConnection 0eab678d-760f-4118-a141-2b67eb6d2248 changed state to active\u001b[0m\n",
      "\u001b[1m\u001b[34mTrust ping send to ConnectionId {'thread_id': 'ba74ef95-20a4-4eac-aa83-ea81a34f5ec9'} to activate connection\u001b[0m\n",
      "\u001b[1m\u001b[32mConnectionId: 0eab678d-760f-4118-a141-2b67eb6d2248 is now active. Continue with notebook\u001b[0m\n"
     ]
    }
   ],
   "source": [
    "import time\n",
    "\n",
    "# print('Current state for ConnectionId {} is {}'.format(connection_id,STATE))\n",
    "print(colored(\"Current state for ConnectionId {} is {}\".format(connection_id,STATE), \"magenta\", attrs=[\"bold\"]))\n",
    "while STATE != 'active':\n",
    "#     print('ConnectionId {0} is not in active state yet'.format(connection_id))\n",
    "    print(colored(\"ConnectionId {0} is not in active state yet\".format(connection_id), \"yellow\", attrs=[\"bold\"]))\n",
    "    trust_ping = await agent_controller.messaging.trust_ping(connection_id,'hello!')\n",
    "#     print('Trust ping send to ConnectionId {0} to activate connection'.format(trust_ping))\n",
    "    print(colored(\"Trust ping send to ConnectionId {0} to activate connection\".format(trust_ping), \"blue\", attrs=[\"bold\"]))\n",
    "    time.sleep(5)\n",
    "    \n",
    "# print('ConnectionId: {0} is now active. Continue with notebook'.format(connection_id))\n",
    "print(colored(\"ConnectionId: {0} is now active. Continue with notebook\".format(connection_id), \"green\", attrs=[\"bold\"]))\n"
   ]
  },
  {
   "cell_type": "markdown",
   "metadata": {},
   "source": [
    "## 4. Request Passport Details Presentation"
   ]
  },
  {
   "cell_type": "markdown",
   "metadata": {},
   "source": [
    "## 4a. Generate proof request"
   ]
  },
  {
   "cell_type": "code",
   "execution_count": 6,
   "metadata": {},
   "outputs": [],
   "source": [
    "print(schema_id)\n",
    "print(cred_def_id)\n",
    "\n",
    "# {\n",
    "#        \"attrNames\":[\n",
    "#            \"PSS Passport No\",\n",
    "#            \"PSS Surname\",\n",
    "#            \"PSS Given Names\",\n",
    "#            \"PSS Nationality\",\n",
    "#            \"PSS Date of Birth\",\n",
    "#            \"PSS Sex\",\n",
    "#            \"PSS Place of Birth\",\n",
    "#            \"PSS Date of Issue\",\n",
    "#            \"PSS IssuingAuthority\",\n",
    "#            \"PSS Date Of Expiry\",\n",
    "#            \"PSS Photograph\",\n",
    "#            \"PSS Signature\"\n",
    "#        ],\n",
    "#        \"name\":\"Passport Details\",\n",
    "#        \"version\":\"0.0.1\"\n",
    "# }\n",
    "\n",
    "# {\n",
    "#        \"attrNames\":[\n",
    "#            \"MDQ Primary Medical Qual\",\n",
    "#            \"MDQ Issuing Institution\",\n",
    "#            \"MDQ Surname\",\n",
    "#            \"MDQ Given Names\",\n",
    "#            \"MDQ Issue Date\"\n",
    "#        ],\n",
    "#        \"name\":\"Medical Qual\",\n",
    "#        \"version\":\"0.0.1\"\n",
    "# }\n",
    "\n",
    "\n",
    "print(\"Request proof of Passport and Medical School information\")\n",
    "\n",
    "#Set some variables\n",
    "\n",
    "REVOCATION = False\n",
    "SELF_ATTESTED = False\n",
    "EXCHANGE_TRACING = False\n",
    "\n",
    "req_attrs = [\n",
    "    {\"name\": \"PSS Given Names\", \"restrictions\": []},\n",
    "    {\"name\": \"PSS Surname\", \"restrictions\": []},\n",
    "    {\"name\": \"PSS Sex\", \"restrictions\": []},\n",
    "    {\"name\": \"MDQ Primary Medical Qual\", \"restrictions\": []},\n",
    "]\n",
    "\n",
    "if REVOCATION:\n",
    "    req_attrs.append(\n",
    "        {\n",
    "            \"name\": \"skill\",\n",
    "            \"restrictions\": [{\"schema_id\": schema_id}],\n",
    "            \"non_revoked\": {\"to\": int(time.time() - 1)},\n",
    "        },\n",
    "    )\n",
    "\n",
    "if SELF_ATTESTED:\n",
    "    # test self-attested claims\n",
    "    req_attrs.append({\"name\": \"country\"},)\n",
    "\n",
    "#Set predicates for Zero Knowledge Proofs\n",
    "req_preds = []\n",
    "\n",
    "indy_proof_request = {\n",
    "    \"name\": \"Proof of Passport Credential\",\n",
    "    \"version\": \"1.0\",\n",
    "    \"requested_attributes\": {\n",
    "        f\"0_{req_attr['name']}_uuid\":\n",
    "        req_attr for req_attr in req_attrs\n",
    "    },\n",
    "    \"requested_predicates\": {\n",
    "        f\"0_{req_pred['name']}_GE_uuid\":\n",
    "        req_pred for req_pred in req_preds\n",
    "    },\n",
    "}\n",
    "\n",
    "if REVOCATION:\n",
    "    indy_proof_request[\"non_revoked\"] = {\"to\": int(time.time())}\n",
    "\n",
    "#proof_request = indy_proof_request\n",
    "exchange_tracing_id = EXCHANGE_TRACING\n",
    "proof_request_web_request = {\n",
    "    \"connection_id\": connection_id,\n",
    "    \"proof_request\": indy_proof_request,\n",
    "    \"trace\": EXCHANGE_TRACING,\n",
    "}"
   ]
  },
  {
   "cell_type": "markdown",
   "metadata": {},
   "source": [
    "## 5 Issue Right to Work Credential"
   ]
  },
  {
   "cell_type": "markdown",
   "metadata": {},
   "source": [
    "### 5.1 Retrieve stored `cred_def_id` and `schema_id`s"
   ]
  },
  {
   "cell_type": "code",
   "execution_count": 12,
   "metadata": {},
   "outputs": [],
   "source": [
    "# load all globally stored variables\n",
    "%store -r training_program_schema_id\n",
    "%store -r training_program_cred_def_id\n",
    "%store -r right_to_work_schema_id\n",
    "%store -r right_to_work_cred_def_id\n",
    "%store -r training_placement_schema_id\n",
    "%store -r training_placement_cred_def_id"
   ]
  },
  {
   "cell_type": "markdown",
   "metadata": {},
   "source": [
    "### 5.1 Fetch the credential definition for the schema\n"
   ]
  },
  {
   "cell_type": "code",
   "execution_count": 13,
   "metadata": {},
   "outputs": [],
   "source": [
    "# response = await agent_controller.wallet.get_public_did()\n",
    "# print(response)\n",
    "# hee_public_did = response[\"result\"][\"did\"]\n",
    "# definitions = await agent_controller.definitions.search_created(issuer_did=hee_public_did, schema_id=right_to_work_schema_id)\n",
    "\n",
    "# right_to_work_cred_def_id = None\n",
    "# cred_def_ids = definitions['credential_definition_ids']\n",
    "# if len(cred_def_ids) == 0:\n",
    "#     print(\"You have not written a credential definition to the ledger for this public DID\")\n",
    "# else:\n",
    "#     right_to_work_cred_def_id = cred_def_ids[0]\n",
    "#     print(right_to_work_cred_def_id)\n",
    "    \n"
   ]
  },
  {
   "cell_type": "markdown",
   "metadata": {},
   "source": [
    "### 5.2 Populate the Mandatory Training Credential Attributes"
   ]
  },
  {
   "cell_type": "code",
   "execution_count": 14,
   "metadata": {},
   "outputs": [
    {
     "name": "stdout",
     "output_type": "stream",
     "text": [
      "Please enter residency status:asd\n",
      "Please enter the VISA type :asd\n",
      "Please enter VISA Expiry date : as\n"
     ]
    },
    {
     "ename": "NameError",
     "evalue": "name 'expiry_date' is not defined",
     "output_type": "error",
     "traceback": [
      "\u001b[0;31m---------------------------------------------------------------------------\u001b[0m",
      "\u001b[0;31mNameError\u001b[0m                                 Traceback (most recent call last)",
      "\u001b[0;32m<ipython-input-14-965d55954a0c>\u001b[0m in \u001b[0;36m<module>\u001b[0;34m\u001b[0m\n\u001b[1;32m      6\u001b[0m      \u001b[0;34m{\u001b[0m\u001b[0;34m\"name\"\u001b[0m\u001b[0;34m:\u001b[0m\u001b[0;34m\"RTW Surname\"\u001b[0m\u001b[0;34m,\u001b[0m \u001b[0;34m\"value\"\u001b[0m\u001b[0;34m:\u001b[0m \u001b[0msurname\u001b[0m\u001b[0;34m}\u001b[0m\u001b[0;34m,\u001b[0m\u001b[0;34m\u001b[0m\u001b[0;34m\u001b[0m\u001b[0m\n\u001b[1;32m      7\u001b[0m      \u001b[0;34m{\u001b[0m\u001b[0;34m\"name\"\u001b[0m\u001b[0;34m:\u001b[0m\u001b[0;34m\"RTW Given Names\"\u001b[0m\u001b[0;34m,\u001b[0m \u001b[0;34m\"value\"\u001b[0m\u001b[0;34m:\u001b[0m \u001b[0mgivennames\u001b[0m\u001b[0;34m}\u001b[0m\u001b[0;34m,\u001b[0m\u001b[0;34m\u001b[0m\u001b[0;34m\u001b[0m\u001b[0m\n\u001b[0;32m----> 8\u001b[0;31m      \u001b[0;34m{\u001b[0m\u001b[0;34m\"name\"\u001b[0m\u001b[0;34m:\u001b[0m\u001b[0;34m\"RTW Residency Status\"\u001b[0m\u001b[0;34m,\u001b[0m \u001b[0;34m\"value\"\u001b[0m\u001b[0;34m:\u001b[0m \u001b[0mexpiry_date\u001b[0m\u001b[0;34m}\u001b[0m\u001b[0;34m,\u001b[0m\u001b[0;34m\u001b[0m\u001b[0;34m\u001b[0m\u001b[0m\n\u001b[0m\u001b[1;32m      9\u001b[0m      \u001b[0;34m{\u001b[0m\u001b[0;34m\"name\"\u001b[0m\u001b[0;34m:\u001b[0m\u001b[0;34m\"RTW Visa Type\"\u001b[0m\u001b[0;34m,\u001b[0m \u001b[0;34m\"value\"\u001b[0m\u001b[0;34m:\u001b[0m \u001b[0mexpiry_date\u001b[0m\u001b[0;34m}\u001b[0m\u001b[0;34m,\u001b[0m\u001b[0;34m\u001b[0m\u001b[0;34m\u001b[0m\u001b[0m\n\u001b[1;32m     10\u001b[0m      \u001b[0;34m{\u001b[0m\u001b[0;34m\"name\"\u001b[0m\u001b[0;34m:\u001b[0m\u001b[0;34m\"RTW Visa Expiry Date\"\u001b[0m\u001b[0;34m,\u001b[0m \u001b[0;34m\"value\"\u001b[0m\u001b[0;34m:\u001b[0m \u001b[0mexpiry_date\u001b[0m\u001b[0;34m}\u001b[0m\u001b[0;34m,\u001b[0m\u001b[0;34m\u001b[0m\u001b[0;34m\u001b[0m\u001b[0m\n",
      "\u001b[0;31mNameError\u001b[0m: name 'expiry_date' is not defined"
     ]
    }
   ],
   "source": [
    "residency = input(\"Please enter residency status:\")\n",
    "visa = input(\"Please enter the VISA type :\")\n",
    "visa_exp = input(\"Please enter VISA Expiry date : \")\n",
    "\n",
    "credential_attributes=[\n",
    "     {\"name\":\"RTW Surname\", \"value\": surname},\n",
    "     {\"name\":\"RTW Given Names\", \"value\": givennames},\n",
    "     {\"name\":\"RTW Residency Status\", \"value\": expiry_date},\n",
    "     {\"name\":\"RTW Visa Type\", \"value\": expiry_date},\n",
    "     {\"name\":\"RTW Visa Expiry Date\", \"value\": expiry_date},\n",
    "]\n",
    "print(credential_attributes)\n"
   ]
  },
  {
   "cell_type": "markdown",
   "metadata": {},
   "source": [
    "### 5.3 Issue the Mandatory Training Credential "
   ]
  },
  {
   "cell_type": "code",
   "execution_count": null,
   "metadata": {},
   "outputs": [],
   "source": [
    "record = await agent_controller.issuer.send_credential(connection_id, right_to_work_schema_id, right_to_work_cred_def_id, credential_attributes, trace=False)\n",
    "record_id = record['credential_exchange_id']\n",
    "state = record['state']\n",
    "role = record['role']\n",
    "print(f\"Credential exchange {record_id}, role: {role}, state: {state}\")"
   ]
  },
  {
   "cell_type": "markdown",
   "metadata": {},
   "source": [
    "## 6 Issue a Training Program Credential"
   ]
  },
  {
   "cell_type": "markdown",
   "metadata": {},
   "source": [
    "### 6.1 Fetch the associated credential definition id written to the Ledger in Part 4.1\n",
    "\n",
    "This will fail if a credential definition has not been written to the ledger by the HEE agent's public DID."
   ]
  },
  {
   "cell_type": "code",
   "execution_count": 6,
   "metadata": {},
   "outputs": [
    {
     "name": "stdout",
     "output_type": "stream",
     "text": [
      "{'result': {'did': 'JZRP2ZvHL5563vdgWVTF5V', 'verkey': 'Aa5Gw22pwRxBZAVuVPzQGoeBWMV3qATJZBaNcaz6QXwv', 'public': True}}\n",
      "JZRP2ZvHL5563vdgWVTF5V:3:CL:141258:default\n"
     ]
    }
   ],
   "source": [
    "response = await agent_controller.wallet.get_public_did()\n",
    "print(response)\n",
    "hee_public_did = response[\"result\"][\"did\"]\n",
    "training_program_schema_id = \"2yWoMSfeTtYBFpUJFcnpqL:2:Training Programme:0.0.1\"\n",
    "definitions = await agent_controller.definitions.search_created(issuer_did=hee_public_did, schema_id=training_program_schema_id)\n",
    "\n",
    "training_program_cred_def_id = None\n",
    "cred_def_ids = definitions['credential_definition_ids']\n",
    "if len(cred_def_ids) == 0:\n",
    "    print(\"You have not written a credential definition to the ledger for this public DID\")\n",
    "else:\n",
    "    training_program_cred_def_id = cred_def_ids[0]\n",
    "    print(training_program_cred_def_id)\n",
    "    \n"
   ]
  },
  {
   "cell_type": "markdown",
   "metadata": {},
   "source": [
    "### 6.2 Populate the Training Program attributes to Issue to Doctor\n",
    "\n",
    "This would typically be done through a face to face identity check.\n",
    "\n",
    "The notebook will ask you to input all the relevant fields."
   ]
  },
  {
   "cell_type": "code",
   "execution_count": 7,
   "metadata": {},
   "outputs": [
    {
     "name": "stdout",
     "output_type": "stream",
     "text": [
      "Please enter the doctors lead employee: BTH\n",
      "Please enter the doctors clinical supervisor: me\n",
      "Please enter the doctors academic supervisor: you\n",
      "Please enter the name of the training program: training good\n",
      "Please enter the current year of the program: 2020\n",
      "Please enter the programs start date: today\n",
      "Please enter the scheduled end date: tomorrow\n",
      "Please enter the extended_end_date: wednesday\n",
      "[{'name': 'TPR Lead Employer', 'value': 'BTH'}, {'name': 'TPR Clinical Supervisor', 'value': 'me'}, {'name': 'TPR Academic Supervisor', 'value': 'you'}, {'name': 'TPR Training Programme Name', 'value': 'training good'}, {'name': 'TPR Programme Current Year', 'value': '2020'}, {'name': 'TPR Start Date', 'value': 'today'}, {'name': 'TPR Scheduled End Date', 'value': 'tomorrow'}, {'name': 'TPR Extended End Date', 'value': 'wednesday'}]\n"
     ]
    }
   ],
   "source": [
    "lead_employee = input(\"Please enter the doctors lead employee: \")\n",
    "clinical_supervisor=input(\"Please enter the doctors clinical supervisor: \")\n",
    "academic_supervisor=input(\"Please enter the doctors academic supervisor: \")\n",
    "program_name = input(\"Please enter the name of the training program: \")\n",
    "program_year=input(\"Please enter the current year of the program: \")\n",
    "start_date=input(\"Please enter the programs start date: \")\n",
    "scheduled_end = input(\"Please enter the scheduled end date: \")\n",
    "extended_end=input(\"Please enter the extended_end_date: \")\n",
    "\n",
    "credential_attributes = [\n",
    "    {\"name\": \"TPR Lead Employer\", \"value\": lead_employee},\n",
    "    {\"name\": \"TPR Clinical Supervisor\", \"value\": clinical_supervisor},\n",
    "    {\"name\": \"TPR Academic Supervisor\", \"value\": academic_supervisor},\n",
    "    {\"name\": \"TPR Training Programme Name\", \"value\": program_name},\n",
    "    {\"name\": \"TPR Programme Current Year\", \"value\": program_year},\n",
    "    {\"name\": \"TPR Start Date\", \"value\": start_date},\n",
    "    {\"name\": \"TPR Scheduled End Date\", \"value\": scheduled_end},\n",
    "    {\"name\": \"TPR Extended End Date\", \"value\": extended_end},\n",
    "\n",
    "]\n",
    "\n",
    "\n",
    "\n",
    "\n",
    "print(credential_attributes)"
   ]
  },
  {
   "cell_type": "markdown",
   "metadata": {},
   "source": [
    "## 6.3 Issue Training Program Credential\n",
    "\n",
    "This sends a credential to the doctor's mobile wallet you just connected with."
   ]
  },
  {
   "cell_type": "code",
   "execution_count": 17,
   "metadata": {},
   "outputs": [
    {
     "name": "stdout",
     "output_type": "stream",
     "text": [
      "{'issuer_did': 'XWp3vCdafbfAEthny5mERo', 'auto_remove': True, 'credential_proposal': {'@type': 'did:sov:BzCbsNYhMrjHiqZDTUASHg;spec/issue-credential/1.0/credential-preview', 'attributes': [{'name': 'fullname', 'value': 'Ronnie'}, {'name': 'skill', 'value': 'PyDentity SSI Ninja'}, {'name': 'age', 'value': '23'}]}, 'connection_id': 'd36df176-2428-46e4-937d-26eef701d292', 'trace': False, 'comment': '', 'cred_def_id': 'XWp3vCdafbfAEthny5mERo:3:CL:142409:default', 'schema_id': 'EuEtnVakYFyBtGFT1nHYtH:2:SSI PyDentity Tutorial:0.0.1', 'schema_name': 'SSI PyDentity Tutorial', 'schema_version': '0.0.1', 'schema_issuer_did': 'EuEtnVakYFyBtGFT1nHYtH'}\n",
      "Credential exchange 8f4d27a9-9034-45cc-829d-47514c7c976b, role: issuer, state: offer_sent\n",
      "Handle Credentials\n",
      "Credential exchange 8f4d27a9-9034-45cc-829d-47514c7c976b, role: issuer, state: offer_sent\n",
      "Offering: [{'name': 'fullname', 'value': 'Ronnie'}, {'name': 'skill', 'value': 'PyDentity SSI Ninja'}, {'name': 'age', 'value': '23'}]\n",
      "Handle Credentials\n",
      "Credential exchange 8f4d27a9-9034-45cc-829d-47514c7c976b, role: issuer, state: request_received\n",
      "Offering: [{'name': 'fullname', 'value': 'Ronnie'}, {'name': 'skill', 'value': 'PyDentity SSI Ninja'}, {'name': 'age', 'value': '23'}]\n",
      "Handle Credentials\n",
      "Credential exchange 8f4d27a9-9034-45cc-829d-47514c7c976b, role: issuer, state: credential_issued\n",
      "Offering: [{'name': 'fullname', 'value': 'Ronnie'}, {'name': 'skill', 'value': 'PyDentity SSI Ninja'}, {'name': 'age', 'value': '23'}]\n"
     ]
    }
   ],
   "source": [
    "record = await agent_controller.issuer.send_credential(connection_id, training_program_schema_id, training_program_cred_def_id, credential_attributes, trace=False)\n",
    "record_id = record['credential_exchange_id']\n",
    "state = record['state']\n",
    "role = record['role']\n",
    "print(f\"Credential exchange {record_id}, role: {role}, state: {state}\")\n"
   ]
  },
  {
   "cell_type": "markdown",
   "metadata": {},
   "source": [
    "## 7. Issue Training Placement Credential"
   ]
  },
  {
   "cell_type": "markdown",
   "metadata": {},
   "source": [
    "### 7.1 Fetch the relevant credential definition"
   ]
  },
  {
   "cell_type": "code",
   "execution_count": 9,
   "metadata": {},
   "outputs": [
    {
     "name": "stdout",
     "output_type": "stream",
     "text": [
      "{'result': {'did': 'JZRP2ZvHL5563vdgWVTF5V', 'verkey': 'Aa5Gw22pwRxBZAVuVPzQGoeBWMV3qATJZBaNcaz6QXwv', 'public': True}}\n",
      "JZRP2ZvHL5563vdgWVTF5V:3:CL:141276:default\n"
     ]
    }
   ],
   "source": [
    "\n",
    "response = await agent_controller.wallet.get_public_did()\n",
    "hee_public_did = response[\"result\"][\"did\"]\n",
    "training_placement_schema_id = \"2yWoMSfeTtYBFpUJFcnpqL:2:Training Programme Placement:0.0.1\"\n",
    "definitions = await agent_controller.definitions.search_created(issuer_did=hee_public_did, schema_id=training_placement_schema_id)\n",
    "\n",
    "training_placement_cred_def_id = None\n",
    "cred_def_ids = definitions['credential_definition_ids']\n",
    "if len(cred_def_ids) == 0:\n",
    "    print(\"You have not written a credential definition to the ledger for this public DID\")\n",
    "else:\n",
    "    training_placement_cred_def_id = cred_def_ids[0]\n",
    "    print(training_placement_cred_def_id)\n",
    "    "
   ]
  },
  {
   "cell_type": "markdown",
   "metadata": {},
   "source": [
    "### 7.2 Populate the Training Placement Credential Attributes"
   ]
  },
  {
   "cell_type": "code",
   "execution_count": 10,
   "metadata": {},
   "outputs": [
    {
     "name": "stdout",
     "output_type": "stream",
     "text": [
      "Please enter the name of the placement: Test\n",
      "Please enter the placement employer: bth\n",
      "Please enter the location of the placement: blackpool\n",
      "Please enter the placement start date: today\n",
      "Please enter the scheduled end of the placement: tomorrow\n",
      "Please enter the extended end date: wednesdayt\n",
      "Please enter the actual end date: thursday\n",
      "Please enter the placements position id: 123\n"
     ]
    }
   ],
   "source": [
    "placement_name = input(\"Please enter the name of the placement: \")\n",
    "employer=input(\"Please enter the placement employer: \")\n",
    "location=input(\"Please enter the location of the placement: \")\n",
    "start_date = input(\"Please enter the placement start date: \")\n",
    "sched_end_date =input(\"Please enter the scheduled end of the placement: \")\n",
    "extended_end_date=input(\"Please enter the extended end date: \")\n",
    "actual_end = input(\"Please enter the actual end date: \")\n",
    "position_id =input(\"Please enter the placements position id: \")\n",
    "\n",
    "credential_attributes = [\n",
    "     {\"name\":\"TPP Placement Name\", \"value\": placement_name},\n",
    "     {\"name\":\"TPP Placement Employer\", \"value\": employer},\n",
    "     {\"name\":\"TPP Placement Location\", \"value\": location},\n",
    "     {\"name\":\"TPP Placement StartDate\", \"value\": start_date},\n",
    "     {\"name\":\"TPP Placement Sched End Date\", \"value\": sched_end_date},\n",
    "     {\"name\":\"TPP Placement Ext. End Date\", \"value\": extended_end_date},\n",
    "     {\"name\":\"TPP Placement Act End Date\", \"value\": actual_end},\n",
    "     {\"name\":\"TPP PositionId\", \"value\": position_id}\n",
    "]\n",
    "print(credential_attributes)"
   ]
  },
  {
   "cell_type": "markdown",
   "metadata": {},
   "source": [
    "### 7.3 Issue the Training Placement Credential"
   ]
  },
  {
   "cell_type": "code",
   "execution_count": null,
   "metadata": {},
   "outputs": [],
   "source": [
    "record = await agent_controller.issuer.send_credential(connection_id, training_placement_schema_id, training_placement_cred_def_id, credential_attributes, trace=False)\n",
    "record_id = record['credential_exchange_id']\n",
    "state = record['state']\n",
    "role = record['role']\n",
    "print(f\"Credential exchange {record_id}, role: {role}, state: {state}\")"
   ]
  },
  {
   "cell_type": "markdown",
   "metadata": {},
   "source": [
    "## 8. End of Tutorial\n",
    "\n",
    "Be sure to terminate the controller so you can run another tutorial."
   ]
  },
  {
   "cell_type": "code",
   "execution_count": 12,
   "metadata": {},
   "outputs": [
    {
     "name": "stdout",
     "output_type": "stream",
     "text": [
      "None\n"
     ]
    }
   ],
   "source": [
    "response = await agent_controller.terminate()\n",
    "print(response)"
   ]
  },
  {
   "cell_type": "markdown",
   "metadata": {},
   "source": [
    "# You can now proceed to interact with the [Lead Employer](http://127.0.0.1:8892)\n",
    "\n",
    "Find the notebook access token by running `docker logs  interopen-hack_lead-employer-notebook_1`\n"
   ]
  },
  {
   "cell_type": "code",
   "execution_count": null,
   "metadata": {},
   "outputs": [],
   "source": []
  }
 ],
 "metadata": {
  "kernelspec": {
   "display_name": "Python 3",
   "language": "python",
   "name": "python3"
  },
  "language_info": {
   "codemirror_mode": {
    "name": "ipython",
    "version": 3
   },
   "file_extension": ".py",
   "mimetype": "text/x-python",
   "name": "python",
   "nbconvert_exporter": "python",
   "pygments_lexer": "ipython3",
   "version": "3.7.6"
  }
 },
 "nbformat": 4,
 "nbformat_minor": 1
}
