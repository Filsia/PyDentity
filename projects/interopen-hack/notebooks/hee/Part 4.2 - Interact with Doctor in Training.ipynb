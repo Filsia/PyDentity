{
 "cells": [
  {
   "cell_type": "markdown",
   "metadata": {
    "collapsed": true
   },
   "source": [
    "# Interact with Doctor in Training\n",
    "## Role: Health Education England\n",
    "\n",
    "## This notebook walks through how to issue a credential across a newly established connection with a mobile SSI agent. \n",
    "\n",
    "## Before running through this notebook you should run through the following notebook - [Part 4.1](http://localhost:8891/notebooks/Part%204.1%20-%20Initialising%20the%20HEE%20Agent.ipynb).\n",
    "\n",
    "## Or alternatively you can start at the beginning of the Doctors in Training flow [here](http://localhost:8889/notebooks/Part%201%20-%20Getting%20Started.ipynb).\n",
    "\n"
   ]
  },
  {
   "cell_type": "markdown",
   "metadata": {},
   "source": [
    "## 1. Initialise a controller for Issuer"
   ]
  },
  {
   "cell_type": "code",
   "execution_count": 1,
   "metadata": {},
   "outputs": [
    {
     "name": "stdout",
     "output_type": "stream",
     "text": [
      "IPython autoawait is `on`, and set to use `asyncio`\n"
     ]
    }
   ],
   "source": [
    "%autoawait\n",
    "import time\n",
    "import asyncio\n",
    "from termcolor import colored,cprint\n",
    "\n",
    "from aries_basic_controller.aries_controller import AriesAgentController\n",
    "    \n",
    "WEBHOOK_HOST = \"0.0.0.0\"\n",
    "WEBHOOK_PORT = 8042\n",
    "WEBHOOK_BASE = \"\"\n",
    "ADMIN_URL = \"http://hee-agent:8041\"\n",
    "\n",
    "# Based on the aca-py agent you wish to control\n",
    "agent_controller = AriesAgentController(webhook_host=WEBHOOK_HOST, webhook_port=WEBHOOK_PORT,\n",
    "                                       webhook_base=WEBHOOK_BASE, admin_url=ADMIN_URL)\n",
    "    "
   ]
  },
  {
   "cell_type": "markdown",
   "metadata": {},
   "source": [
    "## 2. Register Listeners\n",
    "\n",
    "The handler should get called every time the controller receives a webhook with the topic issue_credential, printing out the payload. The agent calls to this webhook every time it receives an issue-credential protocol message from a credential."
   ]
  },
  {
   "cell_type": "code",
   "execution_count": 2,
   "metadata": {},
   "outputs": [],
   "source": [
    "loop = asyncio.get_event_loop()\n",
    "loop.create_task(agent_controller.listen_webhooks())\n",
    "\n",
    "def cred_handler(payload):\n",
    "    print(\"Handle Credentials\")\n",
    "    exchange_id = payload['credential_exchange_id']\n",
    "    state = payload['state']\n",
    "    role = payload['role']\n",
    "    attributes = payload['credential_proposal_dict']['credential_proposal']['attributes']\n",
    "    print(f\"Credential exchange {exchange_id}, role: {role}, state: {state}\")\n",
    "    print(f\"Offering: {attributes}\")\n",
    "    \n",
    "cred_listener = {\n",
    "    \"topic\": \"issue_credential\",\n",
    "    \"handler\": cred_handler\n",
    "}\n",
    "\n",
    "def connections_handler(payload):\n",
    "    global STATE\n",
    "    connection_id = payload[\"connection_id\"]\n",
    "    print(\"Connection message\", payload, connection_id)\n",
    "    STATE = payload['state']\n",
    "    if STATE == 'active':\n",
    "#         print('Connection {0} changed state to active'.format(connection_id))\n",
    "        print(colored(\"Connection {0} changed state to active\".format(connection_id), \"red\", attrs=[\"bold\"]))\n",
    "\n",
    "\n",
    "connection_listener = {\n",
    "    \"handler\": connections_handler,\n",
    "    \"topic\": \"connections\"\n",
    "}\n",
    "\n",
    "agent_controller.register_listeners([cred_listener,connection_listener], defaults=True)\n"
   ]
  },
  {
   "cell_type": "markdown",
   "metadata": {},
   "source": [
    "## 3. Create a connection invitation to scan with the Mobile SSI Wallet\n",
    "\n",
    "To make a connection with an identity holders wallet we must create a connection invitation and present the QR code to be scanned by the identity holders wallet. The identity holder scans this QR code and then can communicate with the agent through the exposed ngrok endpoint.\n",
    "\n",
    "Once a connection is in an active state, the agent and the identity holders mobile wallet now have a secure pairwise relationship over which they can exchange verifiable credentials.\n",
    "\n",
    "You must have a ssi wallet installed on your phone and connected to the Sovrin StagingNet for this to work."
   ]
  },
  {
   "cell_type": "markdown",
   "metadata": {},
   "source": [
    "### 3.1 Generate an invitation"
   ]
  },
  {
   "cell_type": "code",
   "execution_count": null,
   "metadata": {},
   "outputs": [],
   "source": [
    "# Create Invitation\n",
    "invite = await agent_controller.connections.create_invitation()\n",
    "connection_id = invite[\"connection_id\"]\n",
    "print(\"Connection ID\", connection_id)\n",
    "print(\"Invitation\")\n",
    "print(invite['invitation_url'])\n",
    "inviteURL = invite['invitation_url']"
   ]
  },
  {
   "cell_type": "markdown",
   "metadata": {},
   "source": [
    "### 3.2 Display as QrCode to be Scanned by SSI Wallet"
   ]
  },
  {
   "cell_type": "code",
   "execution_count": null,
   "metadata": {},
   "outputs": [],
   "source": [
    "import qrcode\n",
    "# Link for connection invitation\n",
    "input_data = inviteURL\n",
    "# Creating an instance of qrcode\n",
    "qr = qrcode.QRCode(\n",
    "        version=1,\n",
    "        box_size=10,\n",
    "        border=5)\n",
    "\n",
    "qr.add_data(input_data)\n",
    "qr.make(fit=True)\n",
    "img = qr.make_image(fill='black', back_color='white')\n",
    "img.save('issuer_agent_invite_QRcode.png')\n",
    "\n",
    "from IPython.display import Image\n",
    "Image(width=400, filename='./issuer_agent_invite_QRcode.png')"
   ]
  },
  {
   "cell_type": "markdown",
   "metadata": {},
   "source": [
    "### 3.3 Check the connection is in the active state"
   ]
  },
  {
   "cell_type": "code",
   "execution_count": null,
   "metadata": {},
   "outputs": [],
   "source": [
    "import time\n",
    "\n",
    "# print('Current state for ConnectionId {} is {}'.format(connection_id,STATE))\n",
    "print(colored(\"Current state for ConnectionId {} is {}\".format(connection_id,STATE), \"magenta\", attrs=[\"bold\"]))\n",
    "while STATE != 'active':\n",
    "#     print('ConnectionId {0} is not in active state yet'.format(connection_id))\n",
    "    print(colored(\"ConnectionId {0} is not in active state yet\".format(connection_id), \"yellow\", attrs=[\"bold\"]))\n",
    "    trust_ping = await agent_controller.messaging.trust_ping(connection_id,'hello!')\n",
    "#     print('Trust ping send to ConnectionId {0} to activate connection'.format(trust_ping))\n",
    "    print(colored(\"Trust ping send to ConnectionId {0} to activate connection\".format(trust_ping), \"blue\", attrs=[\"bold\"]))\n",
    "    time.sleep(5)\n",
    "    \n",
    "# print('ConnectionId: {0} is now active. Continue with notebook'.format(connection_id))\n",
    "print(colored(\"ConnectionId: {0} is now active. Continue with notebook\".format(connection_id), \"green\", attrs=[\"bold\"]))\n"
   ]
  },
  {
   "cell_type": "markdown",
   "metadata": {},
   "source": [
    "## 4 Issue a Training Program Credential"
   ]
  },
  {
   "cell_type": "markdown",
   "metadata": {},
   "source": [
    "### 4.1 Fetch the associated credential definition id written to the Ledger in Part 4.1\n",
    "\n",
    "This will fail if a credential definition has not been written to the ledger by the HEE agent's public DID."
   ]
  },
  {
   "cell_type": "code",
   "execution_count": 6,
   "metadata": {},
   "outputs": [
    {
     "name": "stdout",
     "output_type": "stream",
     "text": [
      "{'result': {'did': 'JZRP2ZvHL5563vdgWVTF5V', 'verkey': 'Aa5Gw22pwRxBZAVuVPzQGoeBWMV3qATJZBaNcaz6QXwv', 'public': True}}\n",
      "JZRP2ZvHL5563vdgWVTF5V:3:CL:141258:default\n"
     ]
    }
   ],
   "source": [
    "response = await agent_controller.wallet.get_public_did()\n",
    "print(response)\n",
    "hee_public_did = response[\"result\"][\"did\"]\n",
    "training_program_schema_id = \"2yWoMSfeTtYBFpUJFcnpqL:2:Training Programme:0.0.1\"\n",
    "definitions = await agent_controller.definitions.search_created(issuer_did=hee_public_did, schema_id=training_program_schema_id)\n",
    "\n",
    "training_program_cred_def_id = None\n",
    "cred_def_ids = definitions['credential_definition_ids']\n",
    "if len(cred_def_ids) == 0:\n",
    "    print(\"You have not written a credential definition to the ledger for this public DID\")\n",
    "else:\n",
    "    training_program_cred_def_id = cred_def_ids[0]\n",
    "    print(training_program_cred_def_id)\n",
    "    \n"
   ]
  },
  {
   "cell_type": "markdown",
   "metadata": {},
   "source": [
    "### 4.2 Populate the Training Program attributes to Issue to Doctor\n",
    "\n",
    "This would typically be done through a face to face identity check.\n",
    "\n",
    "The notebook will ask you to input all the relevant fields."
   ]
  },
  {
   "cell_type": "code",
   "execution_count": 7,
   "metadata": {},
   "outputs": [
    {
     "name": "stdout",
     "output_type": "stream",
     "text": [
      "Please enter the doctors lead employee: BTH\n",
      "Please enter the doctors clinical supervisor: me\n",
      "Please enter the doctors academic supervisor: you\n",
      "Please enter the name of the training program: training good\n",
      "Please enter the current year of the program: 2020\n",
      "Please enter the programs start date: today\n",
      "Please enter the scheduled end date: tomorrow\n",
      "Please enter the extended_end_date: wednesday\n",
      "[{'name': 'TPR Lead Employer', 'value': 'BTH'}, {'name': 'TPR Clinical Supervisor', 'value': 'me'}, {'name': 'TPR Academic Supervisor', 'value': 'you'}, {'name': 'TPR Training Programme Name', 'value': 'training good'}, {'name': 'TPR Programme Current Year', 'value': '2020'}, {'name': 'TPR Start Date', 'value': 'today'}, {'name': 'TPR Scheduled End Date', 'value': 'tomorrow'}, {'name': 'TPR Extended End Date', 'value': 'wednesday'}]\n"
     ]
    }
   ],
   "source": [
    "lead_employee = input(\"Please enter the doctors lead employee: \")\n",
    "clinical_supervisor=input(\"Please enter the doctors clinical supervisor: \")\n",
    "academic_supervisor=input(\"Please enter the doctors academic supervisor: \")\n",
    "program_name = input(\"Please enter the name of the training program: \")\n",
    "program_year=input(\"Please enter the current year of the program: \")\n",
    "start_date=input(\"Please enter the programs start date: \")\n",
    "scheduled_end = input(\"Please enter the scheduled end date: \")\n",
    "extended_end=input(\"Please enter the extended_end_date: \")\n",
    "\n",
    "credential_attributes = [\n",
    "    {\"name\": \"TPR Lead Employer\", \"value\": lead_employee},\n",
    "    {\"name\": \"TPR Clinical Supervisor\", \"value\": clinical_supervisor},\n",
    "    {\"name\": \"TPR Academic Supervisor\", \"value\": academic_supervisor},\n",
    "    {\"name\": \"TPR Training Programme Name\", \"value\": program_name},\n",
    "    {\"name\": \"TPR Programme Current Year\", \"value\": program_year},\n",
    "    {\"name\": \"TPR Start Date\", \"value\": start_date},\n",
    "    {\"name\": \"TPR Scheduled End Date\", \"value\": scheduled_end},\n",
    "    {\"name\": \"TPR Extended End Date\", \"value\": extended_end},\n",
    "\n",
    "]\n",
    "\n",
    "\n",
    "\n",
    "\n",
    "print(credential_attributes)"
   ]
  },
  {
   "cell_type": "markdown",
   "metadata": {},
   "source": [
    "## 4.3 Issue Training Program Credential\n",
    "\n",
    "This sends a credential to the doctor's mobile wallet you just connected with."
   ]
  },
  {
   "cell_type": "code",
   "execution_count": 17,
   "metadata": {},
   "outputs": [
    {
     "name": "stdout",
     "output_type": "stream",
     "text": [
      "{'issuer_did': 'XWp3vCdafbfAEthny5mERo', 'auto_remove': True, 'credential_proposal': {'@type': 'did:sov:BzCbsNYhMrjHiqZDTUASHg;spec/issue-credential/1.0/credential-preview', 'attributes': [{'name': 'fullname', 'value': 'Ronnie'}, {'name': 'skill', 'value': 'PyDentity SSI Ninja'}, {'name': 'age', 'value': '23'}]}, 'connection_id': 'd36df176-2428-46e4-937d-26eef701d292', 'trace': False, 'comment': '', 'cred_def_id': 'XWp3vCdafbfAEthny5mERo:3:CL:142409:default', 'schema_id': 'EuEtnVakYFyBtGFT1nHYtH:2:SSI PyDentity Tutorial:0.0.1', 'schema_name': 'SSI PyDentity Tutorial', 'schema_version': '0.0.1', 'schema_issuer_did': 'EuEtnVakYFyBtGFT1nHYtH'}\n",
      "Credential exchange 8f4d27a9-9034-45cc-829d-47514c7c976b, role: issuer, state: offer_sent\n",
      "Handle Credentials\n",
      "Credential exchange 8f4d27a9-9034-45cc-829d-47514c7c976b, role: issuer, state: offer_sent\n",
      "Offering: [{'name': 'fullname', 'value': 'Ronnie'}, {'name': 'skill', 'value': 'PyDentity SSI Ninja'}, {'name': 'age', 'value': '23'}]\n",
      "Handle Credentials\n",
      "Credential exchange 8f4d27a9-9034-45cc-829d-47514c7c976b, role: issuer, state: request_received\n",
      "Offering: [{'name': 'fullname', 'value': 'Ronnie'}, {'name': 'skill', 'value': 'PyDentity SSI Ninja'}, {'name': 'age', 'value': '23'}]\n",
      "Handle Credentials\n",
      "Credential exchange 8f4d27a9-9034-45cc-829d-47514c7c976b, role: issuer, state: credential_issued\n",
      "Offering: [{'name': 'fullname', 'value': 'Ronnie'}, {'name': 'skill', 'value': 'PyDentity SSI Ninja'}, {'name': 'age', 'value': '23'}]\n"
     ]
    }
   ],
   "source": [
    "record = await agent_controller.issuer.send_credential(connection_id, training_program_schema_id, training_program_cred_def_id, credential_attributes, trace=False)\n",
    "record_id = record['credential_exchange_id']\n",
    "state = record['state']\n",
    "role = record['role']\n",
    "print(f\"Credential exchange {record_id}, role: {role}, state: {state}\")\n"
   ]
  },
  {
   "cell_type": "markdown",
   "metadata": {},
   "source": [
    "## 5. Issue Mandatory Training Credential"
   ]
  },
  {
   "cell_type": "markdown",
   "metadata": {},
   "source": [
    "### 5.1 Fetch the credential definition for the schema\n"
   ]
  },
  {
   "cell_type": "code",
   "execution_count": null,
   "metadata": {},
   "outputs": [],
   "source": [
    "response = await agent_controller.wallet.get_public_did()\n",
    "print(response)\n",
    "hee_public_did = response[\"result\"][\"did\"]\n",
    "mandatory_training_schema_id = \"2yWoMSfeTtYBFpUJFcnpqL:2:mandatoryTrainingCredential:0.0.1\"\n",
    "definitions = await agent_controller.definitions.search_created(issuer_did=hee_public_did, schema_id=mandatory_training_program_schema_id)\n",
    "\n",
    "mandatory_training_cred_def_id = None\n",
    "cred_def_ids = definitions['credential_definition_ids']\n",
    "if len(cred_def_ids) == 0:\n",
    "    print(\"You have not written a credential definition to the ledger for this public DID\")\n",
    "else:\n",
    "    mandatory_training_cred_def_id = cred_def_ids[0]\n",
    "    print(tmandatory_training_cred_def_id)\n",
    "    \n"
   ]
  },
  {
   "cell_type": "markdown",
   "metadata": {},
   "source": [
    "### 5.2 Populate the Mandatory Training Credential Attributes"
   ]
  },
  {
   "cell_type": "code",
   "execution_count": null,
   "metadata": {},
   "outputs": [],
   "source": [
    "     \"MNT Conflict Resolution Completed\",, \"value\": lead_employee},\n",
    "     \"MNT Conflict Resolution Expiry Date\",\n",
    "     \"MNT Equality and Diversity Completed\",\n",
    "     \"MNT Equality and Diversity Expiry Date\",\n",
    "     \"MNT Fire Safety Completed\",\n",
    "     \"MNT Fire Safety Expiry Date\",\n",
    "     \"MNT Health Safety and Welfare Completed\",\n",
    "     \"MNT Health Safety and Welfare Expiry Date\",\n",
    "     \"MNT Infection Prevention L1 Completed\",\n",
    "     \"MNT Infection Prevention L1 Expiry Date\",\n",
    "     \"MNT Infection Prevention L2 Completed\",\n",
    "     \"MNT Infection Prevention L2 Expiry Date\",\n",
    "     \"MNT Information Governance Completed\",\n",
    "     \"MNT Information Governance Expiry Date\",\n",
    "     \"MNT Moving and Handling L1 Completed\",\n",
    "     \"MNT Moving and Handling L1 Expiry Date\",\n",
    "     \"MNT Moving and Handling L2 Completed\",\n",
    "     \"MNT Moving and Handling L2 Expiry Date\",\n",
    "     \"MNT Basic Prevent Awareness Completed\",\n",
    "     \"MNT Basic Prevent Awareness Expiry Date\",\n",
    "     \"MNT Prevent Awareness Completed\",\n",
    "     \"MNT Prevent Awareness Expiry Date\",\n",
    "     \"MNT Resus L1 Completed\",\n",
    "     \"MNT Resus L1 Expiry Date\",\n",
    "     \"MNT Resus L2 Adult Completed\",\n",
    "     \"MNT Resus L2 Adult Expiry Date\",\n",
    "     \"MNT Resus L2 Newborn Completed\",\n",
    "     \"MNT Resus L2 Newborn Expiry Date\",\n",
    "     \"MNT Resus L2 Paediatric Completed\",\n",
    "     \"MNT Resus L2 Paediatric Expiry Date\",\n",
    "     \"MNT Safeguarding Adults L1 Completed\",\n",
    "     \"MNT Safeguarding Adults L1 Expiry Date\",\n",
    "     \"MNT Safeguarding Adults L2 Completed\",\n",
    "     \"MNT Safeguarding Adults L2 Expiry Date\",\n",
    "     \"MNT Safeguarding Adults L3 Completed\",\n",
    "     \"MNT Safeguarding Adults L3 Expiry Date\",\n",
    "     \"MNT Safeguarding Children L1 Completed\",\n",
    "     \"MNT Safeguarding Children L1 Expiry Date\",\n",
    "     \"MNT Safeguarding Children L2 Completed\",\n",
    "     \"MNT Safeguarding Children L2 Expiry Date\",\n",
    "     \"MNT Safeguarding Children L3 Completed\",\n",
    "     \"MNT Safeguarding Children L3 Expiry Date\",\n",
    "     \"MNT Violence and Aggression Completed\",\n",
    "     \"MNT Violence and Aggression Expiry Date\"\n"
   ]
  },
  {
   "cell_type": "markdown",
   "metadata": {},
   "source": [
    "## 11. End of Tutorial\n",
    "\n",
    "Be sure to terminate the controller so you can run another tutorial."
   ]
  },
  {
   "cell_type": "code",
   "execution_count": 13,
   "metadata": {},
   "outputs": [
    {
     "name": "stdout",
     "output_type": "stream",
     "text": [
      "None\n"
     ]
    }
   ],
   "source": [
    "response = await agent_controller.terminate()\n",
    "print(response)"
   ]
  },
  {
   "cell_type": "markdown",
   "metadata": {},
   "source": [
    "# You can now proceed to interact with the Medical School  [Medical School](http://127.0.0.1:8888)\n",
    "\n",
    "Here you will present the attributes issued to you within this tutorial to a verifying entity."
   ]
  },
  {
   "cell_type": "code",
   "execution_count": null,
   "metadata": {},
   "outputs": [],
   "source": []
  }
 ],
 "metadata": {
  "kernelspec": {
   "display_name": "Python 3",
   "language": "python",
   "name": "python3"
  },
  "language_info": {
   "codemirror_mode": {
    "name": "ipython",
    "version": 3
   },
   "file_extension": ".py",
   "mimetype": "text/x-python",
   "name": "python",
   "nbconvert_exporter": "python",
   "pygments_lexer": "ipython3",
   "version": "3.7.6"
  }
 },
 "nbformat": 4,
 "nbformat_minor": 1
}
