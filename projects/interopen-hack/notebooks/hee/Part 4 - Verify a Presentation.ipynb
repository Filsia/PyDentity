{
 "cells": [
  {
   "cell_type": "markdown",
   "metadata": {},
   "source": [
    "# Verify a Presentation\n",
    "\n",
    "## Before running this notebook you should have a mobile wallet contained the credential you issued yourself in Part 3. If not run through [Part 2](http://127.0.0.1:8888/notebooks/Part%202%20-%20Connecting%20Issuer%20Agent%20to%20Sovrin%20Stagingnet.ipynb) and [Part 3](http://localhost:8888/notebooks/Part%203%20-%20Issue%20Credential.ipynb) of this tutorial."
   ]
  },
  {
   "cell_type": "markdown",
   "metadata": {},
   "source": [
    "## Note that you do not need to write a public DID to the ledger as a verifier."
   ]
  },
  {
   "cell_type": "markdown",
   "metadata": {
    "pycharm": {
     "name": "#%%\n"
    }
   },
   "source": [
    "## 1. Instatiate Controller for Verifiers's Agent"
   ]
  },
  {
   "cell_type": "code",
   "execution_count": 1,
   "metadata": {
    "pycharm": {
     "name": "#%%\n"
    }
   },
   "outputs": [
    {
     "name": "stdout",
     "output_type": "stream",
     "text": [
      "IPython autoawait is `on`, and set to use `asyncio`\n"
     ]
    }
   ],
   "source": [
    "%autoawait\n",
    "import time\n",
    "import asyncio\n",
    "from termcolor import colored,cprint\n",
    "\n",
    "from aries_basic_controller.aries_controller import AriesAgentController\n",
    "    \n",
    "WEBHOOK_HOST = \"0.0.0.0\"\n",
    "WEBHOOK_PORT = 8042\n",
    "WEBHOOK_BASE = \"\"\n",
    "ADMIN_URL = \"http://hee-agent:8041\"\n",
    "\n",
    "# Based on the aca-py agent you wish to control\n",
    "agent_controller = AriesAgentController(webhook_host=WEBHOOK_HOST, webhook_port=WEBHOOK_PORT,\n",
    "                                       webhook_base=WEBHOOK_BASE, admin_url=ADMIN_URL)\n"
   ]
  },
  {
   "cell_type": "markdown",
   "metadata": {},
   "source": [
    "## 2. Register Listeners\n",
    "\n",
    "The handler should get called every time the controller receives a webhook with the topic present_proof, printing out the payload. The agent calls to this webhook every time it receives a present proof protocol message from another agent. \n"
   ]
  },
  {
   "cell_type": "code",
   "execution_count": 2,
   "metadata": {
    "pycharm": {
     "name": "#%%\n"
    }
   },
   "outputs": [],
   "source": [
    "loop = asyncio.get_event_loop()\n",
    "loop.create_task(agent_controller.listen_webhooks())\n",
    "\n",
    "def connections_handler(payload):\n",
    "    global STATE\n",
    "    connection_id = payload[\"connection_id\"]\n",
    "    print(\"Connection message\", payload, connection_id)\n",
    "    STATE = payload['state']\n",
    "    if STATE == 'active':\n",
    "#         print('Connection {0} changed state to active'.format(connection_id))\n",
    "        print(colored(\"Connection {0} changed state to active\".format(connection_id), \"red\", attrs=[\"bold\"]))\n",
    "\n",
    "\n",
    "connection_listener = {\n",
    "    \"handler\": connections_handler,\n",
    "    \"topic\": \"connections\"\n",
    "}\n",
    "\n",
    "def proof_handler(payload):\n",
    "    print(\"Handle present proof\")\n",
    "    print(payload)\n",
    "\n",
    "proof_listener = {\n",
    "    \"topic\": \"present_proof\",\n",
    "    \"handler\": proof_handler\n",
    "}\n",
    "\n",
    "agent_controller.register_listeners([connection_listener,proof_listener], defaults=True)\n",
    "\n"
   ]
  },
  {
   "cell_type": "markdown",
   "metadata": {},
   "source": [
    "## 3. Make a connection with the Mobile SSI Wallet you used in [Part 2](http://127.0.0.1:8888/notebooks/Part%202%20-%20Connecting%20Issuer%20Agent%20to%20Sovrin%20Stagingnet.ipynb)\n",
    "\n",
    "**You should have a credential stored in here from the previous notebook!**\n",
    "\n",
    "Please download a mobile SSI wallet such as [Connect.me](https://connect.me/), [Trinsic](https://trinsic.id/trinsic-wallet/) or any other Aries compatible wallet."
   ]
  },
  {
   "cell_type": "markdown",
   "metadata": {},
   "source": [
    "## 4. Create a connection invitation to scan with the Mobile SSI Wallet"
   ]
  },
  {
   "cell_type": "markdown",
   "metadata": {},
   "source": [
    "## 4a. Check for any existing connections"
   ]
  },
  {
   "cell_type": "code",
   "execution_count": 3,
   "metadata": {},
   "outputs": [
    {
     "name": "stdout",
     "output_type": "stream",
     "text": [
      "EXISTING CONNECTIONS\n"
     ]
    }
   ],
   "source": [
    "# Check for existing connections\n",
    "connection = await agent_controller.connections.get_connections()\n",
    "print(\"EXISTING CONNECTIONS\")\n",
    "for key, value in connection.items():\n",
    "    for item in value:\n",
    "        print('ConnectionID:', item['connection_id'], 'Status:',item['state'])"
   ]
  },
  {
   "cell_type": "markdown",
   "metadata": {},
   "source": [
    "## 4b. Create an Invitation"
   ]
  },
  {
   "cell_type": "code",
   "execution_count": 4,
   "metadata": {},
   "outputs": [
    {
     "name": "stdout",
     "output_type": "stream",
     "text": [
      "Connection ID 308a8584-2f33-41e5-b069-a78acd2710d6\n",
      "Invitation\n",
      "https://e2e6f0851e2f.ngrok.io?c_i=eyJAdHlwZSI6ICJkaWQ6c292OkJ6Q2JzTlloTXJqSGlxWkRUVUFTSGc7c3BlYy9jb25uZWN0aW9ucy8xLjAvaW52aXRhdGlvbiIsICJAaWQiOiAiYjc3Y2M4MzMtNzIwZC00NDEwLThkZGEtMDg4YjljYTFiZDlhIiwgInNlcnZpY2VFbmRwb2ludCI6ICJodHRwczovL2UyZTZmMDg1MWUyZi5uZ3Jvay5pbyIsICJyZWNpcGllbnRLZXlzIjogWyJHOWRDNkJBVVppVm9OS3NSY1R0UnRvbk5iSkd4bVA2amJLYUY4TkF5VWpTUCJdLCAibGFiZWwiOiAiSGVhbHRoIEVkdWNhdGlvbiBFbmdsYW5kIn0=\n",
      "Connection message {'invitation_key': 'G9dC6BAUZiVoNKsRcTtRtonNbJGxmP6jbKaF8NAyUjSP', 'updated_at': '2020-09-22 09:12:07.393144Z', 'created_at': '2020-09-22 09:12:07.393144Z', 'accept': 'auto', 'invitation_mode': 'once', 'state': 'invitation', 'initiator': 'self', 'routing_state': 'none', 'connection_id': '308a8584-2f33-41e5-b069-a78acd2710d6'} 308a8584-2f33-41e5-b069-a78acd2710d6\n"
     ]
    }
   ],
   "source": [
    "# Create Invitation\n",
    "invite = await agent_controller.connections.create_invitation()\n",
    "connection_id = invite[\"connection_id\"]\n",
    "print(\"Connection ID\", connection_id)\n",
    "print(\"Invitation\")\n",
    "print(invite['invitation_url'])\n",
    "inviteURL = invite['invitation_url']"
   ]
  },
  {
   "cell_type": "markdown",
   "metadata": {},
   "source": [
    "## 4c. Generate QR Code to be scanned with Mobile SSI Wallet"
   ]
  },
  {
   "cell_type": "code",
   "execution_count": 5,
   "metadata": {},
   "outputs": [
    {
     "data": {
      "image/png": "[encoded data removed]",
      "text/plain": [
       "<IPython.core.display.Image object>"
      ]
     },
     "execution_count": 5,
     "metadata": {
      "image/png": {
       "width": 400
      }
     },
     "output_type": "execute_result"
    },
    {
     "name": "stdout",
     "output_type": "stream",
     "text": [
      "Connection message {'invitation_key': 'G9dC6BAUZiVoNKsRcTtRtonNbJGxmP6jbKaF8NAyUjSP', 'updated_at': '2020-09-22 09:12:26.293865Z', 'created_at': '2020-09-22 09:12:07.393144Z', 'their_label': 'esatus Wallet', 'accept': 'auto', 'invitation_mode': 'once', 'state': 'request', 'initiator': 'self', 'routing_state': 'none', 'their_did': 'bBJQXvxnvHdMjxF4Umt8b', 'connection_id': '308a8584-2f33-41e5-b069-a78acd2710d6'} 308a8584-2f33-41e5-b069-a78acd2710d6\n",
      "Connection message {'invitation_key': 'G9dC6BAUZiVoNKsRcTtRtonNbJGxmP6jbKaF8NAyUjSP', 'updated_at': '2020-09-22 09:12:26.310408Z', 'created_at': '2020-09-22 09:12:07.393144Z', 'my_did': 'EtumUB8eWHqArz9MnwDtUu', 'their_label': 'esatus Wallet', 'accept': 'auto', 'invitation_mode': 'once', 'state': 'response', 'initiator': 'self', 'routing_state': 'none', 'their_did': 'bBJQXvxnvHdMjxF4Umt8b', 'connection_id': '308a8584-2f33-41e5-b069-a78acd2710d6'} 308a8584-2f33-41e5-b069-a78acd2710d6\n"
     ]
    }
   ],
   "source": [
    "import qrcode\n",
    "# Link for connection invitation\n",
    "input_data = inviteURL\n",
    "# Creating an instance of qrcode\n",
    "qr = qrcode.QRCode(\n",
    "        version=1,\n",
    "        box_size=10,\n",
    "        border=5)\n",
    "qr.add_data(input_data)\n",
    "qr.make(fit=True)\n",
    "img = qr.make_image(fill='black', back_color='white')\n",
    "img.save('verifier_agent_invite_QRcode.png')\n",
    "\n",
    "from IPython.display import Image\n",
    "Image(width=400, filename='./verifier_agent_invite_QRcode.png')"
   ]
  },
  {
   "cell_type": "markdown",
   "metadata": {},
   "source": [
    "## 4d. Check if established connection is in active state"
   ]
  },
  {
   "cell_type": "code",
   "execution_count": 6,
   "metadata": {},
   "outputs": [
    {
     "name": "stdout",
     "output_type": "stream",
     "text": [
      "\u001b[1m\u001b[35mCurrent state for ConnectionId 308a8584-2f33-41e5-b069-a78acd2710d6 is response\u001b[0m\n",
      "\u001b[1m\u001b[33mConnectionId 308a8584-2f33-41e5-b069-a78acd2710d6 is not in active state yet\u001b[0m\n",
      "\u001b[1m\u001b[34mTrust ping send to ConnectionId {'thread_id': '7f67209b-813d-42ca-8455-2a95e1c5b8f5'} to activate connection\u001b[0m\n",
      "\u001b[1m\u001b[33mConnectionId 308a8584-2f33-41e5-b069-a78acd2710d6 is not in active state yet\u001b[0m\n",
      "Connection message {'invitation_key': 'G9dC6BAUZiVoNKsRcTtRtonNbJGxmP6jbKaF8NAyUjSP', 'updated_at': '2020-09-22 09:12:34.871633Z', 'created_at': '2020-09-22 09:12:07.393144Z', 'my_did': 'EtumUB8eWHqArz9MnwDtUu', 'their_label': 'esatus Wallet', 'accept': 'auto', 'invitation_mode': 'once', 'state': 'active', 'initiator': 'self', 'routing_state': 'none', 'their_did': 'bBJQXvxnvHdMjxF4Umt8b', 'connection_id': '308a8584-2f33-41e5-b069-a78acd2710d6'} 308a8584-2f33-41e5-b069-a78acd2710d6\n",
      "\u001b[1m\u001b[31mConnection 308a8584-2f33-41e5-b069-a78acd2710d6 changed state to active\u001b[0m\n",
      "\u001b[1m\u001b[34mTrust ping send to ConnectionId {'thread_id': 'afda26be-b7b2-4caa-9a9f-181481a2ec1e'} to activate connection\u001b[0m\n",
      "\u001b[1m\u001b[32mConnectionId: 308a8584-2f33-41e5-b069-a78acd2710d6 is now active. Continue with notebook\u001b[0m\n"
     ]
    }
   ],
   "source": [
    "import time\n",
    "\n",
    "# print('Current state for ConnectionId {} is {}'.format(connection_id,STATE))\n",
    "print(colored(\"Current state for ConnectionId {} is {}\".format(connection_id,STATE), \"magenta\", attrs=[\"bold\"]))\n",
    "while STATE != 'active':\n",
    "#     print('ConnectionId {0} is not in active state yet'.format(connection_id))\n",
    "    print(colored(\"ConnectionId {0} is not in active state yet\".format(connection_id), \"yellow\", attrs=[\"bold\"]))\n",
    "    trust_ping = await agent_controller.messaging.trust_ping(connection_id,'hello!')\n",
    "#     print('Trust ping send to ConnectionId {0} to activate connection'.format(trust_ping))\n",
    "    print(colored(\"Trust ping send to ConnectionId {0} to activate connection\".format(trust_ping), \"blue\", attrs=[\"bold\"]))\n",
    "    time.sleep(5)\n",
    "    \n",
    "# print('ConnectionId: {0} is now active. Continue with notebook'.format(connection_id))\n",
    "print(colored(\"ConnectionId: {0} is now active. Continue with notebook\".format(connection_id), \"green\", attrs=[\"bold\"]))\n"
   ]
  },
  {
   "cell_type": "markdown",
   "metadata": {},
   "source": [
    "## 5. Send Proof Request to Identity Holder Mobile Wallet"
   ]
  },
  {
   "cell_type": "markdown",
   "metadata": {},
   "source": [
    "## 5a. Generate Proof Request\n",
    "\n",
    "The verifier will request a proof from the identity holder for the following attributes:\n",
    "\n",
    "    fullname\"\n",
    "    \"skill\"\n",
    "    \"country\" - self-attested\n",
    "    \"age\" - as a predicate range proof to determine if the identity holder is older than 21\n",
    "\n",
    "\n",
    "Note how the verifier has restricted the proof request to only include credentials issued against a specific `schema_id`. \n",
    "\n",
    "In our case `schema_id` = EuEtnVakYFyBtGFT1nHYtH:2:SSI PyDentity Tutorial:0.0.1\n",
    "\n",
    "If you ledgered your own schema in [Part 2](http://127.0.0.1:8888/notebooks/Part%203%20-%20Issuer.ipynb) and didn't use the pre-ledgered schema then please copy the new schema_id into the `schemaid` variable in the cell below.\n",
    "\n",
    "TODO: Add information around predicates"
   ]
  },
  {
   "cell_type": "code",
   "execution_count": 7,
   "metadata": {
    "pycharm": {
     "name": "#%%\n"
    }
   },
   "outputs": [
    {
     "name": "stdout",
     "output_type": "stream",
     "text": [
      "Request proof of Fullname and Age range from Identity Holder\n"
     ]
    }
   ],
   "source": [
    "schema_id = 'EuEtnVakYFyBtGFT1nHYtH:2:SSI PyDentity Tutorial:0.0.1'\n",
    "\n",
    "print(\"Request proof of Fullname and Age range from Identity Holder\")\n",
    "#Set some variables\n",
    "\n",
    "revocation = False\n",
    "SELF_ATTESTED = True\n",
    "exchange_tracing = False\n",
    "\n",
    "#Enable this to ask for attributes to identity a user\n",
    "#TODO - change restriction to schemaId or credentialId\n",
    "\n",
    "req_attrs = [\n",
    "    {\"name\": \"fullname\", \"restrictions\": [{\"schema_id\": schema_id}]},\n",
    "    {\"name\": \"skill\", \"restrictions\": [{\"schema_id\": schema_id}]},\n",
    "]\n",
    "\n",
    "if revocation:\n",
    "    req_attrs.append(\n",
    "        {\n",
    "            \"name\": \"skill\",\n",
    "            \"restrictions\": [{\"schema_id\": schema_id}],\n",
    "            \"non_revoked\": {\"to\": int(time.time() - 1)},\n",
    "        },\n",
    "    )\n",
    "\n",
    "if SELF_ATTESTED:\n",
    "    # test self-attested claims\n",
    "    req_attrs.append({\"name\": \"country\"},)\n",
    "\n",
    "#Set predicates for Zero Knowledge Proofs\n",
    "req_preds = [\n",
    "    # test zero-knowledge proofs\n",
    "    {\n",
    "        \"name\": \"age\",\n",
    "        \"p_type\": \">=\",\n",
    "        \"p_value\": 21,\n",
    "        \"restrictions\": [{\"schema_id\": schema_id}],\n",
    "    }\n",
    "]\n",
    "\n",
    "indy_proof_request = {\n",
    "    \"name\": \"Proof of Completion of PyDentity SSI Tutorial\",\n",
    "    \"version\": \"1.0\",\n",
    "    \"requested_attributes\": {\n",
    "        f\"0_{req_attr['name']}_uuid\":\n",
    "        req_attr for req_attr in req_attrs\n",
    "    },\n",
    "    \"requested_predicates\": {\n",
    "        f\"0_{req_pred['name']}_GE_uuid\":\n",
    "        req_pred for req_pred in req_preds\n",
    "    },\n",
    "}\n",
    "\n",
    "if revocation:\n",
    "    indy_proof_request[\"non_revoked\"] = {\"to\": int(time.time())}\n",
    "\n",
    "#proof_request = indy_proof_request\n",
    "exchange_tracing_id = exchange_tracing\n",
    "proof_request_web_request = {\n",
    "    \"connection_id\": connection_id,\n",
    "    \"proof_request\": indy_proof_request,\n",
    "    \"trace\": exchange_tracing,\n",
    "}"
   ]
  },
  {
   "cell_type": "markdown",
   "metadata": {},
   "source": [
    "### 5b. Send the proof request to Identity Holder\n",
    "\n",
    "Identity Holder is identified through the connection_id"
   ]
  },
  {
   "cell_type": "code",
   "execution_count": 10,
   "metadata": {
    "pycharm": {
     "name": "#%%\n"
    },
    "scrolled": false
   },
   "outputs": [
    {
     "name": "stdout",
     "output_type": "stream",
     "text": [
      "{'role': 'verifier', 'presentation_request_dict': {'@type': 'did:sov:BzCbsNYhMrjHiqZDTUASHg;spec/present-proof/1.0/request-presentation', '@id': 'e654fa5a-e8ad-42e6-8ed2-0c7c1583f0c0', 'request_presentations~attach': [{'@id': 'libindy-request-presentation-0', 'mime-type': 'application/json', 'data': {'base64': 'eyJuYW1lIjogIlByb29mIG9mIENvbXBsZXRpb24gb2YgUHlEZW50aXR5IFNTSSBUdXRvcmlhbCIsICJ2ZXJzaW9uIjogIjEuMCIsICJyZXF1ZXN0ZWRfYXR0cmlidXRlcyI6IHsiMF9mdWxsbmFtZV91dWlkIjogeyJuYW1lIjogImZ1bGxuYW1lIiwgInJlc3RyaWN0aW9ucyI6IFt7InNjaGVtYV9pZCI6ICJFdUV0blZha1lGeUJ0R0ZUMW5IWXRIOjI6U1NJIFB5RGVudGl0eSBUdXRvcmlhbDowLjAuMSJ9XX0sICIwX3NraWxsX3V1aWQiOiB7Im5hbWUiOiAic2tpbGwiLCAicmVzdHJpY3Rpb25zIjogW3sic2NoZW1hX2lkIjogIkV1RXRuVmFrWUZ5QnRHRlQxbkhZdEg6MjpTU0kgUHlEZW50aXR5IFR1dG9yaWFsOjAuMC4xIn1dfSwgIjBfY291bnRyeV91dWlkIjogeyJuYW1lIjogImNvdW50cnkifX0sICJyZXF1ZXN0ZWRfcHJlZGljYXRlcyI6IHsiMF9hZ2VfR0VfdXVpZCI6IHsibmFtZSI6ICJhZ2UiLCAicF90eXBlIjogIj49IiwgInBfdmFsdWUiOiAyMSwgInJlc3RyaWN0aW9ucyI6IFt7InNjaGVtYV9pZCI6ICJFdUV0blZha1lGeUJ0R0ZUMW5IWXRIOjI6U1NJIFB5RGVudGl0eSBUdXRvcmlhbDowLjAuMSJ9XX19LCAibm9uY2UiOiAiNTIzNzc0MjQzNzQyOTc4NzkzOTYzNTIzIn0='}}]}, 'trace': False, 'presentation_exchange_id': '6c688bb7-dffe-4ef6-9121-66a7d7980feb', 'updated_at': '2020-09-22 09:13:38.153861Z', 'created_at': '2020-09-22 09:13:38.153861Z', 'presentation_request': {'name': 'Proof of Completion of PyDentity SSI Tutorial', 'version': '1.0', 'requested_attributes': {'0_fullname_uuid': {'name': 'fullname', 'restrictions': [{'schema_id': 'EuEtnVakYFyBtGFT1nHYtH:2:SSI PyDentity Tutorial:0.0.1'}]}, '0_skill_uuid': {'name': 'skill', 'restrictions': [{'schema_id': 'EuEtnVakYFyBtGFT1nHYtH:2:SSI PyDentity Tutorial:0.0.1'}]}, '0_country_uuid': {'name': 'country'}}, 'requested_predicates': {'0_age_GE_uuid': {'name': 'age', 'p_type': '>=', 'p_value': 21, 'restrictions': [{'schema_id': 'EuEtnVakYFyBtGFT1nHYtH:2:SSI PyDentity Tutorial:0.0.1'}]}}, 'nonce': '523774243742978793963523'}, 'auto_present': False, 'thread_id': 'e654fa5a-e8ad-42e6-8ed2-0c7c1583f0c0', 'state': 'request_sent', 'initiator': 'self', 'connection_id': '308a8584-2f33-41e5-b069-a78acd2710d6'}\n",
      "\n",
      "\n",
      "6c688bb7-dffe-4ef6-9121-66a7d7980feb\n",
      "Handle present proof\n",
      "{'role': 'verifier', 'presentation_request_dict': {'@type': 'did:sov:BzCbsNYhMrjHiqZDTUASHg;spec/present-proof/1.0/request-presentation', '@id': 'e654fa5a-e8ad-42e6-8ed2-0c7c1583f0c0', 'request_presentations~attach': [{'@id': 'libindy-request-presentation-0', 'mime-type': 'application/json', 'data': {'base64': 'eyJuYW1lIjogIlByb29mIG9mIENvbXBsZXRpb24gb2YgUHlEZW50aXR5IFNTSSBUdXRvcmlhbCIsICJ2ZXJzaW9uIjogIjEuMCIsICJyZXF1ZXN0ZWRfYXR0cmlidXRlcyI6IHsiMF9mdWxsbmFtZV91dWlkIjogeyJuYW1lIjogImZ1bGxuYW1lIiwgInJlc3RyaWN0aW9ucyI6IFt7InNjaGVtYV9pZCI6ICJFdUV0blZha1lGeUJ0R0ZUMW5IWXRIOjI6U1NJIFB5RGVudGl0eSBUdXRvcmlhbDowLjAuMSJ9XX0sICIwX3NraWxsX3V1aWQiOiB7Im5hbWUiOiAic2tpbGwiLCAicmVzdHJpY3Rpb25zIjogW3sic2NoZW1hX2lkIjogIkV1RXRuVmFrWUZ5QnRHRlQxbkhZdEg6MjpTU0kgUHlEZW50aXR5IFR1dG9yaWFsOjAuMC4xIn1dfSwgIjBfY291bnRyeV91dWlkIjogeyJuYW1lIjogImNvdW50cnkifX0sICJyZXF1ZXN0ZWRfcHJlZGljYXRlcyI6IHsiMF9hZ2VfR0VfdXVpZCI6IHsibmFtZSI6ICJhZ2UiLCAicF90eXBlIjogIj49IiwgInBfdmFsdWUiOiAyMSwgInJlc3RyaWN0aW9ucyI6IFt7InNjaGVtYV9pZCI6ICJFdUV0blZha1lGeUJ0R0ZUMW5IWXRIOjI6U1NJIFB5RGVudGl0eSBUdXRvcmlhbDowLjAuMSJ9XX19LCAibm9uY2UiOiAiNTIzNzc0MjQzNzQyOTc4NzkzOTYzNTIzIn0='}}]}, 'trace': False, 'presentation_exchange_id': '6c688bb7-dffe-4ef6-9121-66a7d7980feb', 'updated_at': '2020-09-22 09:13:38.153861Z', 'created_at': '2020-09-22 09:13:38.153861Z', 'presentation_request': {'name': 'Proof of Completion of PyDentity SSI Tutorial', 'version': '1.0', 'requested_attributes': {'0_fullname_uuid': {'name': 'fullname', 'restrictions': [{'schema_id': 'EuEtnVakYFyBtGFT1nHYtH:2:SSI PyDentity Tutorial:0.0.1'}]}, '0_skill_uuid': {'name': 'skill', 'restrictions': [{'schema_id': 'EuEtnVakYFyBtGFT1nHYtH:2:SSI PyDentity Tutorial:0.0.1'}]}, '0_country_uuid': {'name': 'country'}}, 'requested_predicates': {'0_age_GE_uuid': {'name': 'age', 'p_type': '>=', 'p_value': 21, 'restrictions': [{'schema_id': 'EuEtnVakYFyBtGFT1nHYtH:2:SSI PyDentity Tutorial:0.0.1'}]}}, 'nonce': '523774243742978793963523'}, 'auto_present': False, 'thread_id': 'e654fa5a-e8ad-42e6-8ed2-0c7c1583f0c0', 'state': 'request_sent', 'initiator': 'self', 'connection_id': '308a8584-2f33-41e5-b069-a78acd2710d6'}\n"
     ]
    }
   ],
   "source": [
    "response = await agent_controller.proofs.send_request(proof_request_web_request)\n",
    "print(response)\n",
    "presentation_exchange_id = response['presentation_exchange_id']\n",
    "print(\"\\n\")\n",
    "print(presentation_exchange_id)\n"
   ]
  },
  {
   "cell_type": "markdown",
   "metadata": {},
   "source": [
    "## 6. Verify Proof Presentation\n",
    "\n",
    "This is checking the signatures on the credentials presented against the credential schema and definition id stored and resolvable on the ledger. It is a bit of a big complicated object, so we show the common pattern for breaking it down, checking it's verified and accessing the data that has been presented."
   ]
  },
  {
   "cell_type": "code",
   "execution_count": 9,
   "metadata": {
    "pycharm": {
     "name": "#%%\n"
    }
   },
   "outputs": [
    {
     "name": "stdout",
     "output_type": "stream",
     "text": [
      "{'updated_at': '2020-09-17 16:50:12.536334Z', 'role': 'verifier', 'state': 'verified', 'thread_id': 'deccb957-3518-4eb4-aaff-68b65f158752', 'verified': 'true', 'auto_present': False, 'presentation': {'proof': {'proofs': [{'primary_proof': {'eq_proof': {'revealed_attrs': {'fullname': '111726975520559410095632797966195093098573890400841928254251283143198591898889', 'skill': '38813097173523343342121686954087857232940954656654688676222283577873518606251'}, 'a_prime': '84390423647385245358007021936393971805956800592132153158120691402512059585951509227248706668995957180555842995017613487384962496063592981711038738140625437218176238886836489173828555861310565967435288526532685345265591391502405808436892455563615660912551349583759335752865079684322620227806182161515955605511470859831964788647292477070403189593110032673767906647119904299699512339824980808069310687723241470104154748975406741219475662959798787877964544166531926878019762053582290820652940891160684871871869133414308624647986011372140156288409795025442692232760417335031774031603494653654035936801556990756399132257481', 'e': '116047106602641827863213149883854635661033369505070982054659586356145267533448360517323125686601487136272716522806364528113617980322244070', 'v': '982581026628730294829614835686351498999308439625497299617481349891255866293327457944203981157843293187011455160132452067098737389575327586592007646700865899699277785336525668303661113383843880148515559587554867684445232384194879732803432707785638578099787874218978798774952436721251840186814174224935886157882136702194898931883330660304742250146247626013846205872813935513879797913163305428391465114082953842140343290342256910220003984951617156814822699857099495453236379618465129342686537391248172616474543488496148774336740400335173217220418350286562939338699431484649094649176893112937620646121256261312826056056605733282240600443756324060642828202309650436944288107005526908608786909109597916736437721576391626104997519609980843506690448702615780371404004523908045355048252113443218367531553309199416456204456198267416803257454687823070338866538694552066574680285091353697057504991129786428766071709754881141341742947', 'm': {'age': '250189795362117963509022394826147099334166974255975686529054426023652046970593323944363489922489673477063335941769132083672451092769938474776269463527502826615542559310586998170', 'master_secret': '2736904550641380295191569638473684762371404099698884280599910233495347439727757962401782202071146789440622709137542556850650688914952302296992317871292712535770135186044027907024'}, 'm2': '5632455410690421698645419783224157230077121708340991975617562973429015590590827756725078405763414225699203051160938609547383402595070697198986138809308411533566318301232664122981'}, 'ge_proofs': [{'u': {'2': '5670977616438107189562248896051510409691667751362870513740328089653326123029218036710536916936544876841570231911369766320780052838194776121383654458899707533563193546466735743460', '3': '14946183444895685006947308948499094181564162589193533251724250751560963750395614172984890200447393856352763105109713239020100039403958596828681344120783450805478493515042166300849', '1': '15555554831489842124175354461183719515655416679226669054159097243485176459772739995901704610807482734367420562483218849132667530143688662968098678217946505499681946827109356725992', '0': '4667970815862150423159491117668469633977782604136279603064038202645448547153595785176507564999998157248396107504443159866806580812367444917010278886279544780399258429137117788198'}, 'r': {'2': '9446588392701116119359232360251502861571840233501096483853726681606111586464378770536262156434233265708890670907341410218292240663222551839435906900501282132094747865377114841630227777601715777651665294156491742369731958453151506765544913707782469121979500857232399269467802008312609053476022565954121096125658140995578665492354262410112832751681611328270788351102471504504314539353716558536492971980957279681580444284207193715129856354507115976076882185041250037931847769002030085819443589618810419557729264498222993315441375482656244126607317825303624846241723411065405721083868013867978369825694005890100993071986885126678918418536135145841992677857387808194053300445265561858308887627272047914947419352844716561', 'DELTA': '15290829373702698977620991078645524374059780281426240407568927448037825726859777781310595651594001857844831067926969798894525612273196631779804027289040257324767634171036232801900342074680952444696192922666662599119156324229378800117032630630554006551735412961053911226095393101859243449208247030878953791421672981875425348599109827422703762834251497927654946128371326041402478889041843838452678198830425263382506568919745517379026252178733164578196540370948182923144391164760360286023097753160137489166808417009048819789210422378969977243442776812700235861137785387033451374507028896912143315497353816102171454447741909261721944232542104033618604683230656146916297056536905711585670471538737147471840684181632842189', '0': '17304710766609558509850382431028821205145580263503720282828684628465142750974050112368436961674959734535461516854170319974846274117839849339550258981492624313949719329905306707608115683858342684744159449064253964073424287984369322421189980237809088476553041782873212811793202832255892728890024391757462266773142933029389308756325468640546684466361603632978616461465590409251452088303212644793116332285551294491125174433945028396713102884040253977488154127906017231431945761969072571441777675498689955733036208414091241957972403411569939357280323899156543663462009413851476046955202770811277340490857955208898396767951774917243149609306526750998377213722731311962951481754068935062008856757262457263333413811806579138', '1': '12741286148213810802325324410847200859718649539752799441804566546698648075217352372572724732164098492468456429336569809575013497324916350852896309211124563425558853063876192480897410038476459048361988140835386537469628817729241253447802816689963507112974100102647394561442771571410366399906952736488164874779657394863933758368687836180886387166508848948879310935507828463441984223816839984707637291958764311995462879566395859865837050171706333662903876730384485138720072999598684261425110349090838626529999220950104356822623766822804446975368490814740698000577120451837232525297481371098525003242812057611554091351322278232805476300421381216644336655024585140428371500024882210156838255850017135449840222886925630873', '3': '11216300864488269530784196240824029694827738570424461640797054547491072849796209722200776008855878964435523295609692001287011993179026847435136554398380264006914661092647304706682692482971765654953648940200942006334581668025527571704981251068512558033655476300117359405686153184051412293864969779930734771639306419939608169793092214724915733432357384084000979174251467769943820617277837341613526204377115527272043314966712579565910168973768036098545084363567080964126892732165761971066172697038326504206576951351438937967251920819672602137556004187766242386772067743000165855017223586361328719734429967008024919809435037461775629511633317701362977969509068433769222935815595714240356356830468407539282613238629020964'}, 'mj': '250189795362117963509022394826147099334166974255975686529054426023652046970593323944363489922489673477063335941769132083672451092769938474776269463527502826615542559310586998170', 'alpha': '69221089166496377507979634502343498488228702932941965777083186393295755656968334215068666441618691421667544142162168843087199818311438430125161556848201142723491083573300590355955655531931773216446564823837851909282339734495407846327694672168478616244800878443816899225888094438166091882936729256976131080433441830110742665115896725181522267278970097452333950162979638749047459039643801887886719170269385629159739911779185342327118584620195180792808402034996494999900009539149093677510650864833584934478263352823610598989529655916268421354875471486670299437672087506773404454267309564009393125473774663806057756100217929873639661722208244855178819134574451365465851323660321582597765297343636667752366344782631223908191001498092599321362212885208218681689998425518204014823435263101817250486394439049222850057303526770465968116569325466179', 't': {'1': '17174281580470547481774716948798486726849899130538390527888547262849776988488108156468751938717997053600060194116526867877502222064934412203614862240746989994136639377192140849770872312763778593997134368128070391033432771056938858504906191391561645911516473385927483753407670419931782383625635733089322256482949404191300271859256656079282270715585903809143998304907021411746445893603398875333985038132551320318654791575791499153458384052550071355900126845911780992356383980331858742226403210969868242654349676837332611248021378052739240092283238575612666948708547269602067962795470136590630763356237075669966164183876', 'DELTA': '88783306705354197424672128991727882692468474027848638185086611682640886931771607420902524009764700660521629414360341998394783812809054601419506735768278984642791473361325643773961720768005034550632851395976501183785487230072419576869392479218558292506140377936262956688066075563642209802212301042587692491914955228657020390426002541356828477313076573696174336727262935640441628020403263014448339011647276117312134493134206084200436915230066086594983607633996769390128662918406323750456812644497616697289964639426523052989156965913603194706224933572461002324900746183689396287016190166908524262244630105782568343808764', '3': '40353176863064569847114483020590751473889454381262831541134273765150810021118494786346662324316904792142939391011527351585868894399996577357459062552336428081997767056874422797385772136076206940245035268355037392948786032415069640390356105785161762442338853478839833562921270082181089699089017174822151797099138389174472633353873583366283006212912027929061909056401114582132922986330533402385389997493811971793610101576752931972655682729088880563136684039039652267219333282986930999849440323815772279244856853027033950830388368581759599159340482162813202260769530137328449504385719116407598089879706924041031705729280', '2': '29488066783148777775979112779022162718792758644397683573911810360982866883840281273073827922725895679512904700468213739849200555126647504323464165569014802110656200250413093477445764467686964719004803237712050952106498998937388571326804527110815914321617006936096304077713014503704118897525286181837869811198613745531610370262370118894443101203166681206408597725517658658031120133351279393973870887349688752320531309094206740579425201939814732613686104679218534271926799917363095091479542154874387757012900330232544312990876560153813726045467329100225724727060941688427672807366725548332144418526962053268593694389121', '0': '73063882895075349514455606154518117756456446260874065734907617461077507657120890450960619139722496252654944417455036604076593273458325757954122637927617911901324124589732322116944385400605291582777992371954383976949176415824697678622826125286768587246478586210828280308738291220876220559914417053449294296291448981877240126216132363736417194993591124531201908508611253154020812961197371641828599317861962423340104467976223736756765860646233940844196158213663135491800685637896112030922557161355157093755127780201527060109601641383687819668431664887906569430203565101905967363830579477837781884015001522167102627621765'}, 'predicate': {'attr_name': 'age', 'p_type': 'GE', 'value': 21}}]}, 'non_revoc_proof': None}], 'aggregated_proof': {'c_hash': '454599288326933501738501182785900301793365553266203575832865432282192768321', 'c_list': [[2, 156, 128, 60, 159, 223, 197, 138, 63, 68, 141, 126, 199, 76, 34, 193, 9, 232, 17, 253, 80, 105, 4, 211, 131, 200, 225, 17, 63, 210, 138, 140, 118, 158, 25, 79, 102, 180, 35, 100, 45, 146, 8, 75, 171, 51, 174, 224, 35, 209, 78, 57, 209, 100, 243, 110, 108, 124, 147, 122, 100, 111, 197, 55, 177, 18, 191, 175, 50, 244, 225, 93, 128, 26, 99, 207, 146, 51, 5, 67, 208, 245, 140, 237, 186, 124, 31, 19, 175, 181, 198, 13, 132, 195, 197, 117, 52, 67, 157, 144, 174, 199, 126, 129, 202, 250, 87, 115, 244, 43, 113, 255, 32, 58, 149, 195, 232, 116, 60, 56, 118, 100, 68, 210, 103, 142, 162, 143, 119, 75, 190, 69, 119, 112, 184, 26, 16, 38, 242, 179, 70, 108, 81, 96, 2, 37, 206, 29, 236, 130, 35, 155, 254, 149, 1, 167, 116, 25, 85, 191, 221, 111, 136, 128, 248, 241, 159, 240, 111, 168, 170, 61, 104, 203, 224, 244, 172, 116, 18, 179, 212, 145, 113, 114, 142, 86, 223, 41, 233, 187, 168, 157, 91, 104, 64, 94, 193, 134, 250, 248, 112, 186, 8, 184, 92, 88, 11, 231, 65, 204, 44, 113, 219, 108, 50, 220, 64, 244, 230, 221, 234, 206, 123, 68, 4, 192, 137, 56, 159, 40, 79, 232, 253, 218, 179, 34, 204, 23, 11, 16, 174, 77, 206, 112, 44, 50, 221, 53, 205, 118, 202, 68, 121, 29, 9, 44, 201], [2, 66, 199, 6, 67, 194, 168, 120, 147, 247, 123, 17, 212, 90, 243, 174, 235, 103, 38, 191, 98, 237, 156, 246, 228, 123, 127, 24, 200, 116, 249, 131, 194, 37, 150, 77, 35, 231, 216, 195, 55, 51, 205, 147, 123, 181, 150, 154, 240, 13, 35, 17, 232, 162, 179, 174, 54, 194, 12, 253, 253, 84, 59, 93, 41, 7, 141, 114, 167, 52, 22, 253, 234, 55, 1, 196, 230, 166, 171, 211, 30, 238, 123, 239, 3, 140, 20, 7, 164, 168, 31, 113, 87, 128, 66, 183, 153, 157, 228, 180, 10, 5, 83, 47, 14, 57, 26, 18, 47, 235, 84, 71, 236, 166, 204, 122, 51, 78, 125, 133, 17, 254, 226, 254, 76, 90, 130, 255, 175, 113, 27, 113, 30, 20, 62, 131, 100, 92, 127, 2, 67, 134, 145, 16, 48, 126, 99, 205, 151, 103, 225, 173, 1, 52, 165, 3, 215, 89, 37, 107, 180, 255, 224, 214, 73, 122, 55, 240, 97, 230, 13, 51, 150, 58, 228, 150, 84, 213, 109, 210, 33, 107, 242, 73, 32, 195, 215, 182, 179, 182, 59, 102, 104, 248, 206, 147, 56, 137, 111, 136, 140, 6, 119, 11, 37, 100, 68, 56, 20, 160, 112, 172, 170, 92, 28, 221, 107, 173, 65, 235, 240, 143, 229, 169, 206, 24, 26, 44, 154, 47, 112, 143, 80, 66, 181, 36, 41, 239, 227, 244, 164, 169, 48, 71, 106, 181, 4, 77, 109, 120, 161, 64, 151, 72, 71, 171, 133], [136, 11, 232, 121, 133, 252, 232, 160, 244, 107, 127, 0, 253, 254, 22, 173, 74, 94, 186, 202, 15, 53, 213, 152, 49, 239, 115, 112, 59, 133, 136, 235, 14, 179, 75, 32, 36, 168, 73, 101, 98, 89, 65, 51, 20, 80, 241, 128, 181, 124, 94, 132, 120, 35, 72, 158, 23, 195, 178, 132, 225, 188, 248, 90, 35, 219, 19, 26, 170, 33, 57, 97, 222, 178, 6, 251, 173, 94, 68, 139, 152, 10, 142, 178, 189, 183, 191, 250, 14, 131, 33, 202, 192, 191, 235, 113, 244, 36, 196, 211, 199, 108, 198, 212, 192, 26, 34, 238, 195, 95, 251, 45, 37, 104, 231, 77, 149, 210, 6, 82, 180, 53, 202, 171, 35, 189, 104, 226, 43, 107, 64, 191, 4, 115, 8, 223, 157, 56, 50, 166, 104, 158, 226, 253, 120, 159, 70, 253, 131, 233, 109, 242, 180, 114, 210, 60, 193, 6, 19, 8, 34, 231, 244, 138, 211, 207, 96, 166, 93, 45, 92, 88, 123, 221, 224, 188, 222, 211, 154, 22, 229, 172, 59, 216, 61, 204, 52, 240, 82, 166, 20, 36, 87, 75, 198, 212, 198, 228, 191, 17, 152, 86, 163, 133, 64, 176, 142, 182, 233, 64, 220, 94, 69, 236, 162, 210, 246, 114, 70, 104, 171, 161, 86, 77, 62, 198, 44, 172, 48, 68, 45, 10, 215, 241, 210, 25, 193, 203, 70, 224, 177, 129, 220, 238, 149, 130, 71, 6, 20, 254, 253, 27, 198, 117, 203, 68], [233, 151, 41, 249, 44, 50, 17, 97, 185, 217, 19, 108, 215, 53, 117, 22, 15, 251, 67, 197, 123, 248, 96, 79, 10, 12, 53, 83, 169, 236, 30, 94, 192, 194, 84, 35, 251, 221, 240, 12, 143, 89, 87, 95, 170, 243, 206, 64, 77, 77, 38, 232, 99, 41, 115, 121, 53, 234, 68, 152, 217, 153, 247, 141, 15, 254, 250, 37, 61, 40, 16, 43, 198, 198, 249, 109, 149, 72, 42, 116, 124, 153, 201, 93, 230, 0, 207, 168, 241, 203, 38, 255, 189, 54, 59, 88, 201, 249, 214, 34, 72, 211, 215, 199, 175, 22, 193, 200, 158, 141, 187, 132, 237, 105, 2, 208, 254, 30, 215, 149, 8, 96, 171, 90, 119, 84, 35, 224, 170, 141, 246, 106, 37, 231, 111, 173, 43, 61, 87, 57, 58, 227, 166, 78, 138, 80, 89, 204, 20, 165, 7, 113, 102, 123, 11, 62, 234, 213, 94, 115, 95, 180, 30, 232, 144, 75, 208, 104, 240, 25, 193, 115, 25, 181, 86, 222, 211, 232, 13, 214, 172, 97, 151, 102, 28, 37, 31, 93, 225, 154, 252, 0, 247, 3, 130, 85, 200, 211, 69, 157, 83, 236, 109, 168, 143, 177, 81, 65, 202, 226, 44, 76, 246, 207, 185, 14, 121, 212, 124, 13, 141, 73, 222, 233, 67, 143, 71, 114, 55, 125, 30, 250, 142, 104, 163, 59, 179, 50, 182, 88, 219, 20, 58, 14, 182, 35, 117, 72, 59, 4, 229, 241, 201, 94, 179, 129], [1, 63, 168, 162, 217, 237, 221, 66, 223, 136, 138, 170, 140, 162, 187, 193, 138, 107, 2, 172, 163, 52, 251, 188, 194, 171, 73, 252, 157, 11, 206, 174, 38, 245, 193, 218, 20, 200, 238, 227, 49, 1, 9, 160, 246, 122, 51, 15, 136, 170, 180, 160, 224, 115, 124, 222, 215, 199, 101, 87, 18, 238, 153, 243, 82, 216, 153, 165, 106, 75, 44, 137, 39, 137, 223, 148, 173, 177, 219, 65, 195, 85, 223, 22, 216, 137, 107, 196, 77, 46, 56, 231, 240, 119, 26, 128, 67, 132, 145, 79, 9, 135, 219, 151, 73, 184, 20, 74, 32, 198, 232, 142, 137, 145, 38, 179, 190, 65, 213, 92, 44, 62, 26, 123, 36, 210, 149, 20, 153, 72, 120, 59, 183, 229, 13, 200, 239, 11, 44, 50, 92, 158, 173, 191, 12, 84, 212, 129, 99, 153, 48, 162, 146, 88, 39, 85, 214, 49, 176, 243, 154, 239, 91, 42, 20, 36, 249, 241, 17, 155, 204, 42, 129, 160, 134, 247, 71, 26, 148, 250, 69, 229, 219, 80, 117, 227, 205, 150, 108, 133, 5, 162, 0, 126, 138, 39, 74, 76, 115, 70, 80, 152, 208, 229, 183, 150, 114, 38, 151, 212, 93, 193, 4, 194, 41, 120, 43, 130, 3, 50, 234, 35, 204, 181, 129, 128, 98, 201, 45, 106, 66, 87, 62, 80, 240, 237, 249, 172, 29, 48, 10, 78, 190, 115, 199, 26, 105, 73, 206, 245, 233, 1, 141, 222, 220, 153, 0], [2, 191, 76, 156, 109, 110, 213, 210, 190, 62, 191, 147, 76, 79, 195, 218, 34, 101, 158, 73, 207, 44, 17, 134, 203, 58, 66, 184, 239, 116, 206, 79, 117, 46, 76, 119, 196, 254, 119, 186, 228, 222, 5, 22, 141, 95, 255, 65, 242, 254, 111, 171, 113, 85, 181, 169, 208, 114, 107, 68, 221, 44, 114, 14, 21, 34, 29, 198, 227, 185, 219, 52, 3, 174, 77, 195, 96, 113, 32, 147, 122, 99, 14, 50, 30, 13, 169, 144, 176, 94, 189, 166, 188, 101, 183, 103, 164, 69, 32, 138, 152, 186, 152, 16, 153, 114, 129, 32, 139, 134, 251, 167, 67, 165, 71, 185, 207, 111, 216, 75, 49, 40, 31, 150, 150, 104, 213, 163, 122, 68, 67, 74, 12, 48, 127, 151, 118, 166, 54, 158, 63, 211, 79, 141, 215, 153, 117, 178, 17, 149, 255, 227, 15, 223, 150, 124, 105, 26, 103, 77, 5, 234, 146, 91, 171, 90, 130, 73, 12, 199, 34, 70, 240, 147, 2, 96, 211, 189, 196, 228, 25, 185, 90, 238, 200, 125, 5, 243, 108, 41, 108, 67, 156, 146, 203, 52, 162, 242, 104, 5, 68, 51, 239, 223, 126, 39, 129, 52, 195, 70, 12, 43, 180, 230, 99, 162, 47, 37, 104, 237, 131, 61, 152, 43, 150, 192, 112, 25, 32, 4, 78, 188, 137, 90, 106, 134, 166, 234, 149, 216, 70, 77, 200, 212, 167, 241, 18, 151, 25, 101, 208, 188, 122, 64, 39, 170, 252]]}}, 'requested_proof': {'revealed_attrs': {'0_fullname_uuid': {'sub_proof_index': 0, 'raw': 'Ronnie', 'encoded': '111726975520559410095632797966195093098573890400841928254251283143198591898889'}, '0_skill_uuid': {'sub_proof_index': 0, 'raw': 'PyDentity SSI Ninja', 'encoded': '38813097173523343342121686954087857232940954656654688676222283577873518606251'}}, 'self_attested_attrs': {'0_country_uuid': 'USA'}, 'unrevealed_attrs': {}, 'predicates': {'0_age_GE_uuid': {'sub_proof_index': 0}}}, 'identifiers': [{'schema_id': 'EuEtnVakYFyBtGFT1nHYtH:2:SSI PyDentity Tutorial:0.0.1', 'cred_def_id': 'XWp3vCdafbfAEthny5mERo:3:CL:142409:default', 'rev_reg_id': None, 'timestamp': None}]}, 'initiator': 'self', 'connection_id': '46f33a4d-5ece-4c7e-a36a-43e0995878dc', 'created_at': '2020-09-17 16:48:15.234398Z', 'presentation_exchange_id': '1a14e450-846c-4c74-bf1c-2a7b8ffd474f', 'trace': False, 'presentation_request': {'name': 'Proof of Completion of PyDentity SSI Tutorial', 'version': '1.0', 'requested_attributes': {'0_fullname_uuid': {'name': 'fullname', 'restrictions': [{'schema_id': 'EuEtnVakYFyBtGFT1nHYtH:2:SSI PyDentity Tutorial:0.0.1'}]}, '0_skill_uuid': {'name': 'skill', 'restrictions': [{'schema_id': 'EuEtnVakYFyBtGFT1nHYtH:2:SSI PyDentity Tutorial:0.0.1'}]}, '0_country_uuid': {'name': 'country'}}, 'requested_predicates': {'0_age_GE_uuid': {'name': 'age', 'p_type': '>=', 'p_value': 21, 'restrictions': [{'schema_id': 'EuEtnVakYFyBtGFT1nHYtH:2:SSI PyDentity Tutorial:0.0.1'}]}}, 'nonce': '1190036690385966273017697'}, 'presentation_request_dict': {'@type': 'did:sov:BzCbsNYhMrjHiqZDTUASHg;spec/present-proof/1.0/request-presentation', '@id': 'deccb957-3518-4eb4-aaff-68b65f158752', 'request_presentations~attach': [{'@id': 'libindy-request-presentation-0', 'mime-type': 'application/json', 'data': {'base64': 'eyJuYW1lIjogIlByb29mIG9mIENvbXBsZXRpb24gb2YgUHlEZW50aXR5IFNTSSBUdXRvcmlhbCIsICJ2ZXJzaW9uIjogIjEuMCIsICJyZXF1ZXN0ZWRfYXR0cmlidXRlcyI6IHsiMF9mdWxsbmFtZV91dWlkIjogeyJuYW1lIjogImZ1bGxuYW1lIiwgInJlc3RyaWN0aW9ucyI6IFt7InNjaGVtYV9pZCI6ICJFdUV0blZha1lGeUJ0R0ZUMW5IWXRIOjI6U1NJIFB5RGVudGl0eSBUdXRvcmlhbDowLjAuMSJ9XX0sICIwX3NraWxsX3V1aWQiOiB7Im5hbWUiOiAic2tpbGwiLCAicmVzdHJpY3Rpb25zIjogW3sic2NoZW1hX2lkIjogIkV1RXRuVmFrWUZ5QnRHRlQxbkhZdEg6MjpTU0kgUHlEZW50aXR5IFR1dG9yaWFsOjAuMC4xIn1dfSwgIjBfY291bnRyeV91dWlkIjogeyJuYW1lIjogImNvdW50cnkifX0sICJyZXF1ZXN0ZWRfcHJlZGljYXRlcyI6IHsiMF9hZ2VfR0VfdXVpZCI6IHsibmFtZSI6ICJhZ2UiLCAicF90eXBlIjogIj49IiwgInBfdmFsdWUiOiAyMSwgInJlc3RyaWN0aW9ucyI6IFt7InNjaGVtYV9pZCI6ICJFdUV0blZha1lGeUJ0R0ZUMW5IWXRIOjI6U1NJIFB5RGVudGl0eSBUdXRvcmlhbDowLjAuMSJ9XX19LCAibm9uY2UiOiAiMTE5MDAzNjY5MDM4NTk2NjI3MzAxNzY5NyJ9'}}]}}\n"
     ]
    },
    {
     "name": "stdout",
     "output_type": "stream",
     "text": [
      "Handle present proof\n",
      "{'updated_at': '2020-09-17 16:50:12.536334Z', 'role': 'verifier', 'state': 'verified', 'thread_id': 'deccb957-3518-4eb4-aaff-68b65f158752', 'verified': 'true', 'auto_present': False, 'presentation': {'proof': {'proofs': [{'primary_proof': {'eq_proof': {'revealed_attrs': {'fullname': '111726975520559410095632797966195093098573890400841928254251283143198591898889', 'skill': '38813097173523343342121686954087857232940954656654688676222283577873518606251'}, 'a_prime': '84390423647385245358007021936393971805956800592132153158120691402512059585951509227248706668995957180555842995017613487384962496063592981711038738140625437218176238886836489173828555861310565967435288526532685345265591391502405808436892455563615660912551349583759335752865079684322620227806182161515955605511470859831964788647292477070403189593110032673767906647119904299699512339824980808069310687723241470104154748975406741219475662959798787877964544166531926878019762053582290820652940891160684871871869133414308624647986011372140156288409795025442692232760417335031774031603494653654035936801556990756399132257481', 'e': '116047106602641827863213149883854635661033369505070982054659586356145267533448360517323125686601487136272716522806364528113617980322244070', 'v': '982581026628730294829614835686351498999308439625497299617481349891255866293327457944203981157843293187011455160132452067098737389575327586592007646700865899699277785336525668303661113383843880148515559587554867684445232384194879732803432707785638578099787874218978798774952436721251840186814174224935886157882136702194898931883330660304742250146247626013846205872813935513879797913163305428391465114082953842140343290342256910220003984951617156814822699857099495453236379618465129342686537391248172616474543488496148774336740400335173217220418350286562939338699431484649094649176893112937620646121256261312826056056605733282240600443756324060642828202309650436944288107005526908608786909109597916736437721576391626104997519609980843506690448702615780371404004523908045355048252113443218367531553309199416456204456198267416803257454687823070338866538694552066574680285091353697057504991129786428766071709754881141341742947', 'm': {'age': '250189795362117963509022394826147099334166974255975686529054426023652046970593323944363489922489673477063335941769132083672451092769938474776269463527502826615542559310586998170', 'master_secret': '2736904550641380295191569638473684762371404099698884280599910233495347439727757962401782202071146789440622709137542556850650688914952302296992317871292712535770135186044027907024'}, 'm2': '5632455410690421698645419783224157230077121708340991975617562973429015590590827756725078405763414225699203051160938609547383402595070697198986138809308411533566318301232664122981'}, 'ge_proofs': [{'u': {'2': '5670977616438107189562248896051510409691667751362870513740328089653326123029218036710536916936544876841570231911369766320780052838194776121383654458899707533563193546466735743460', '3': '14946183444895685006947308948499094181564162589193533251724250751560963750395614172984890200447393856352763105109713239020100039403958596828681344120783450805478493515042166300849', '1': '15555554831489842124175354461183719515655416679226669054159097243485176459772739995901704610807482734367420562483218849132667530143688662968098678217946505499681946827109356725992', '0': '4667970815862150423159491117668469633977782604136279603064038202645448547153595785176507564999998157248396107504443159866806580812367444917010278886279544780399258429137117788198'}, 'r': {'2': '9446588392701116119359232360251502861571840233501096483853726681606111586464378770536262156434233265708890670907341410218292240663222551839435906900501282132094747865377114841630227777601715777651665294156491742369731958453151506765544913707782469121979500857232399269467802008312609053476022565954121096125658140995578665492354262410112832751681611328270788351102471504504314539353716558536492971980957279681580444284207193715129856354507115976076882185041250037931847769002030085819443589618810419557729264498222993315441375482656244126607317825303624846241723411065405721083868013867978369825694005890100993071986885126678918418536135145841992677857387808194053300445265561858308887627272047914947419352844716561', 'DELTA': '15290829373702698977620991078645524374059780281426240407568927448037825726859777781310595651594001857844831067926969798894525612273196631779804027289040257324767634171036232801900342074680952444696192922666662599119156324229378800117032630630554006551735412961053911226095393101859243449208247030878953791421672981875425348599109827422703762834251497927654946128371326041402478889041843838452678198830425263382506568919745517379026252178733164578196540370948182923144391164760360286023097753160137489166808417009048819789210422378969977243442776812700235861137785387033451374507028896912143315497353816102171454447741909261721944232542104033618604683230656146916297056536905711585670471538737147471840684181632842189', '0': '17304710766609558509850382431028821205145580263503720282828684628465142750974050112368436961674959734535461516854170319974846274117839849339550258981492624313949719329905306707608115683858342684744159449064253964073424287984369322421189980237809088476553041782873212811793202832255892728890024391757462266773142933029389308756325468640546684466361603632978616461465590409251452088303212644793116332285551294491125174433945028396713102884040253977488154127906017231431945761969072571441777675498689955733036208414091241957972403411569939357280323899156543663462009413851476046955202770811277340490857955208898396767951774917243149609306526750998377213722731311962951481754068935062008856757262457263333413811806579138', '1': '12741286148213810802325324410847200859718649539752799441804566546698648075217352372572724732164098492468456429336569809575013497324916350852896309211124563425558853063876192480897410038476459048361988140835386537469628817729241253447802816689963507112974100102647394561442771571410366399906952736488164874779657394863933758368687836180886387166508848948879310935507828463441984223816839984707637291958764311995462879566395859865837050171706333662903876730384485138720072999598684261425110349090838626529999220950104356822623766822804446975368490814740698000577120451837232525297481371098525003242812057611554091351322278232805476300421381216644336655024585140428371500024882210156838255850017135449840222886925630873', '3': '11216300864488269530784196240824029694827738570424461640797054547491072849796209722200776008855878964435523295609692001287011993179026847435136554398380264006914661092647304706682692482971765654953648940200942006334581668025527571704981251068512558033655476300117359405686153184051412293864969779930734771639306419939608169793092214724915733432357384084000979174251467769943820617277837341613526204377115527272043314966712579565910168973768036098545084363567080964126892732165761971066172697038326504206576951351438937967251920819672602137556004187766242386772067743000165855017223586361328719734429967008024919809435037461775629511633317701362977969509068433769222935815595714240356356830468407539282613238629020964'}, 'mj': '250189795362117963509022394826147099334166974255975686529054426023652046970593323944363489922489673477063335941769132083672451092769938474776269463527502826615542559310586998170', 'alpha': '69221089166496377507979634502343498488228702932941965777083186393295755656968334215068666441618691421667544142162168843087199818311438430125161556848201142723491083573300590355955655531931773216446564823837851909282339734495407846327694672168478616244800878443816899225888094438166091882936729256976131080433441830110742665115896725181522267278970097452333950162979638749047459039643801887886719170269385629159739911779185342327118584620195180792808402034996494999900009539149093677510650864833584934478263352823610598989529655916268421354875471486670299437672087506773404454267309564009393125473774663806057756100217929873639661722208244855178819134574451365465851323660321582597765297343636667752366344782631223908191001498092599321362212885208218681689998425518204014823435263101817250486394439049222850057303526770465968116569325466179', 't': {'1': '17174281580470547481774716948798486726849899130538390527888547262849776988488108156468751938717997053600060194116526867877502222064934412203614862240746989994136639377192140849770872312763778593997134368128070391033432771056938858504906191391561645911516473385927483753407670419931782383625635733089322256482949404191300271859256656079282270715585903809143998304907021411746445893603398875333985038132551320318654791575791499153458384052550071355900126845911780992356383980331858742226403210969868242654349676837332611248021378052739240092283238575612666948708547269602067962795470136590630763356237075669966164183876', 'DELTA': '88783306705354197424672128991727882692468474027848638185086611682640886931771607420902524009764700660521629414360341998394783812809054601419506735768278984642791473361325643773961720768005034550632851395976501183785487230072419576869392479218558292506140377936262956688066075563642209802212301042587692491914955228657020390426002541356828477313076573696174336727262935640441628020403263014448339011647276117312134493134206084200436915230066086594983607633996769390128662918406323750456812644497616697289964639426523052989156965913603194706224933572461002324900746183689396287016190166908524262244630105782568343808764', '3': '40353176863064569847114483020590751473889454381262831541134273765150810021118494786346662324316904792142939391011527351585868894399996577357459062552336428081997767056874422797385772136076206940245035268355037392948786032415069640390356105785161762442338853478839833562921270082181089699089017174822151797099138389174472633353873583366283006212912027929061909056401114582132922986330533402385389997493811971793610101576752931972655682729088880563136684039039652267219333282986930999849440323815772279244856853027033950830388368581759599159340482162813202260769530137328449504385719116407598089879706924041031705729280', '2': '29488066783148777775979112779022162718792758644397683573911810360982866883840281273073827922725895679512904700468213739849200555126647504323464165569014802110656200250413093477445764467686964719004803237712050952106498998937388571326804527110815914321617006936096304077713014503704118897525286181837869811198613745531610370262370118894443101203166681206408597725517658658031120133351279393973870887349688752320531309094206740579425201939814732613686104679218534271926799917363095091479542154874387757012900330232544312990876560153813726045467329100225724727060941688427672807366725548332144418526962053268593694389121', '0': '73063882895075349514455606154518117756456446260874065734907617461077507657120890450960619139722496252654944417455036604076593273458325757954122637927617911901324124589732322116944385400605291582777992371954383976949176415824697678622826125286768587246478586210828280308738291220876220559914417053449294296291448981877240126216132363736417194993591124531201908508611253154020812961197371641828599317861962423340104467976223736756765860646233940844196158213663135491800685637896112030922557161355157093755127780201527060109601641383687819668431664887906569430203565101905967363830579477837781884015001522167102627621765'}, 'predicate': {'attr_name': 'age', 'p_type': 'GE', 'value': 21}}]}, 'non_revoc_proof': None}], 'aggregated_proof': {'c_hash': '454599288326933501738501182785900301793365553266203575832865432282192768321', 'c_list': [[2, 156, 128, 60, 159, 223, 197, 138, 63, 68, 141, 126, 199, 76, 34, 193, 9, 232, 17, 253, 80, 105, 4, 211, 131, 200, 225, 17, 63, 210, 138, 140, 118, 158, 25, 79, 102, 180, 35, 100, 45, 146, 8, 75, 171, 51, 174, 224, 35, 209, 78, 57, 209, 100, 243, 110, 108, 124, 147, 122, 100, 111, 197, 55, 177, 18, 191, 175, 50, 244, 225, 93, 128, 26, 99, 207, 146, 51, 5, 67, 208, 245, 140, 237, 186, 124, 31, 19, 175, 181, 198, 13, 132, 195, 197, 117, 52, 67, 157, 144, 174, 199, 126, 129, 202, 250, 87, 115, 244, 43, 113, 255, 32, 58, 149, 195, 232, 116, 60, 56, 118, 100, 68, 210, 103, 142, 162, 143, 119, 75, 190, 69, 119, 112, 184, 26, 16, 38, 242, 179, 70, 108, 81, 96, 2, 37, 206, 29, 236, 130, 35, 155, 254, 149, 1, 167, 116, 25, 85, 191, 221, 111, 136, 128, 248, 241, 159, 240, 111, 168, 170, 61, 104, 203, 224, 244, 172, 116, 18, 179, 212, 145, 113, 114, 142, 86, 223, 41, 233, 187, 168, 157, 91, 104, 64, 94, 193, 134, 250, 248, 112, 186, 8, 184, 92, 88, 11, 231, 65, 204, 44, 113, 219, 108, 50, 220, 64, 244, 230, 221, 234, 206, 123, 68, 4, 192, 137, 56, 159, 40, 79, 232, 253, 218, 179, 34, 204, 23, 11, 16, 174, 77, 206, 112, 44, 50, 221, 53, 205, 118, 202, 68, 121, 29, 9, 44, 201], [2, 66, 199, 6, 67, 194, 168, 120, 147, 247, 123, 17, 212, 90, 243, 174, 235, 103, 38, 191, 98, 237, 156, 246, 228, 123, 127, 24, 200, 116, 249, 131, 194, 37, 150, 77, 35, 231, 216, 195, 55, 51, 205, 147, 123, 181, 150, 154, 240, 13, 35, 17, 232, 162, 179, 174, 54, 194, 12, 253, 253, 84, 59, 93, 41, 7, 141, 114, 167, 52, 22, 253, 234, 55, 1, 196, 230, 166, 171, 211, 30, 238, 123, 239, 3, 140, 20, 7, 164, 168, 31, 113, 87, 128, 66, 183, 153, 157, 228, 180, 10, 5, 83, 47, 14, 57, 26, 18, 47, 235, 84, 71, 236, 166, 204, 122, 51, 78, 125, 133, 17, 254, 226, 254, 76, 90, 130, 255, 175, 113, 27, 113, 30, 20, 62, 131, 100, 92, 127, 2, 67, 134, 145, 16, 48, 126, 99, 205, 151, 103, 225, 173, 1, 52, 165, 3, 215, 89, 37, 107, 180, 255, 224, 214, 73, 122, 55, 240, 97, 230, 13, 51, 150, 58, 228, 150, 84, 213, 109, 210, 33, 107, 242, 73, 32, 195, 215, 182, 179, 182, 59, 102, 104, 248, 206, 147, 56, 137, 111, 136, 140, 6, 119, 11, 37, 100, 68, 56, 20, 160, 112, 172, 170, 92, 28, 221, 107, 173, 65, 235, 240, 143, 229, 169, 206, 24, 26, 44, 154, 47, 112, 143, 80, 66, 181, 36, 41, 239, 227, 244, 164, 169, 48, 71, 106, 181, 4, 77, 109, 120, 161, 64, 151, 72, 71, 171, 133], [136, 11, 232, 121, 133, 252, 232, 160, 244, 107, 127, 0, 253, 254, 22, 173, 74, 94, 186, 202, 15, 53, 213, 152, 49, 239, 115, 112, 59, 133, 136, 235, 14, 179, 75, 32, 36, 168, 73, 101, 98, 89, 65, 51, 20, 80, 241, 128, 181, 124, 94, 132, 120, 35, 72, 158, 23, 195, 178, 132, 225, 188, 248, 90, 35, 219, 19, 26, 170, 33, 57, 97, 222, 178, 6, 251, 173, 94, 68, 139, 152, 10, 142, 178, 189, 183, 191, 250, 14, 131, 33, 202, 192, 191, 235, 113, 244, 36, 196, 211, 199, 108, 198, 212, 192, 26, 34, 238, 195, 95, 251, 45, 37, 104, 231, 77, 149, 210, 6, 82, 180, 53, 202, 171, 35, 189, 104, 226, 43, 107, 64, 191, 4, 115, 8, 223, 157, 56, 50, 166, 104, 158, 226, 253, 120, 159, 70, 253, 131, 233, 109, 242, 180, 114, 210, 60, 193, 6, 19, 8, 34, 231, 244, 138, 211, 207, 96, 166, 93, 45, 92, 88, 123, 221, 224, 188, 222, 211, 154, 22, 229, 172, 59, 216, 61, 204, 52, 240, 82, 166, 20, 36, 87, 75, 198, 212, 198, 228, 191, 17, 152, 86, 163, 133, 64, 176, 142, 182, 233, 64, 220, 94, 69, 236, 162, 210, 246, 114, 70, 104, 171, 161, 86, 77, 62, 198, 44, 172, 48, 68, 45, 10, 215, 241, 210, 25, 193, 203, 70, 224, 177, 129, 220, 238, 149, 130, 71, 6, 20, 254, 253, 27, 198, 117, 203, 68], [233, 151, 41, 249, 44, 50, 17, 97, 185, 217, 19, 108, 215, 53, 117, 22, 15, 251, 67, 197, 123, 248, 96, 79, 10, 12, 53, 83, 169, 236, 30, 94, 192, 194, 84, 35, 251, 221, 240, 12, 143, 89, 87, 95, 170, 243, 206, 64, 77, 77, 38, 232, 99, 41, 115, 121, 53, 234, 68, 152, 217, 153, 247, 141, 15, 254, 250, 37, 61, 40, 16, 43, 198, 198, 249, 109, 149, 72, 42, 116, 124, 153, 201, 93, 230, 0, 207, 168, 241, 203, 38, 255, 189, 54, 59, 88, 201, 249, 214, 34, 72, 211, 215, 199, 175, 22, 193, 200, 158, 141, 187, 132, 237, 105, 2, 208, 254, 30, 215, 149, 8, 96, 171, 90, 119, 84, 35, 224, 170, 141, 246, 106, 37, 231, 111, 173, 43, 61, 87, 57, 58, 227, 166, 78, 138, 80, 89, 204, 20, 165, 7, 113, 102, 123, 11, 62, 234, 213, 94, 115, 95, 180, 30, 232, 144, 75, 208, 104, 240, 25, 193, 115, 25, 181, 86, 222, 211, 232, 13, 214, 172, 97, 151, 102, 28, 37, 31, 93, 225, 154, 252, 0, 247, 3, 130, 85, 200, 211, 69, 157, 83, 236, 109, 168, 143, 177, 81, 65, 202, 226, 44, 76, 246, 207, 185, 14, 121, 212, 124, 13, 141, 73, 222, 233, 67, 143, 71, 114, 55, 125, 30, 250, 142, 104, 163, 59, 179, 50, 182, 88, 219, 20, 58, 14, 182, 35, 117, 72, 59, 4, 229, 241, 201, 94, 179, 129], [1, 63, 168, 162, 217, 237, 221, 66, 223, 136, 138, 170, 140, 162, 187, 193, 138, 107, 2, 172, 163, 52, 251, 188, 194, 171, 73, 252, 157, 11, 206, 174, 38, 245, 193, 218, 20, 200, 238, 227, 49, 1, 9, 160, 246, 122, 51, 15, 136, 170, 180, 160, 224, 115, 124, 222, 215, 199, 101, 87, 18, 238, 153, 243, 82, 216, 153, 165, 106, 75, 44, 137, 39, 137, 223, 148, 173, 177, 219, 65, 195, 85, 223, 22, 216, 137, 107, 196, 77, 46, 56, 231, 240, 119, 26, 128, 67, 132, 145, 79, 9, 135, 219, 151, 73, 184, 20, 74, 32, 198, 232, 142, 137, 145, 38, 179, 190, 65, 213, 92, 44, 62, 26, 123, 36, 210, 149, 20, 153, 72, 120, 59, 183, 229, 13, 200, 239, 11, 44, 50, 92, 158, 173, 191, 12, 84, 212, 129, 99, 153, 48, 162, 146, 88, 39, 85, 214, 49, 176, 243, 154, 239, 91, 42, 20, 36, 249, 241, 17, 155, 204, 42, 129, 160, 134, 247, 71, 26, 148, 250, 69, 229, 219, 80, 117, 227, 205, 150, 108, 133, 5, 162, 0, 126, 138, 39, 74, 76, 115, 70, 80, 152, 208, 229, 183, 150, 114, 38, 151, 212, 93, 193, 4, 194, 41, 120, 43, 130, 3, 50, 234, 35, 204, 181, 129, 128, 98, 201, 45, 106, 66, 87, 62, 80, 240, 237, 249, 172, 29, 48, 10, 78, 190, 115, 199, 26, 105, 73, 206, 245, 233, 1, 141, 222, 220, 153, 0], [2, 191, 76, 156, 109, 110, 213, 210, 190, 62, 191, 147, 76, 79, 195, 218, 34, 101, 158, 73, 207, 44, 17, 134, 203, 58, 66, 184, 239, 116, 206, 79, 117, 46, 76, 119, 196, 254, 119, 186, 228, 222, 5, 22, 141, 95, 255, 65, 242, 254, 111, 171, 113, 85, 181, 169, 208, 114, 107, 68, 221, 44, 114, 14, 21, 34, 29, 198, 227, 185, 219, 52, 3, 174, 77, 195, 96, 113, 32, 147, 122, 99, 14, 50, 30, 13, 169, 144, 176, 94, 189, 166, 188, 101, 183, 103, 164, 69, 32, 138, 152, 186, 152, 16, 153, 114, 129, 32, 139, 134, 251, 167, 67, 165, 71, 185, 207, 111, 216, 75, 49, 40, 31, 150, 150, 104, 213, 163, 122, 68, 67, 74, 12, 48, 127, 151, 118, 166, 54, 158, 63, 211, 79, 141, 215, 153, 117, 178, 17, 149, 255, 227, 15, 223, 150, 124, 105, 26, 103, 77, 5, 234, 146, 91, 171, 90, 130, 73, 12, 199, 34, 70, 240, 147, 2, 96, 211, 189, 196, 228, 25, 185, 90, 238, 200, 125, 5, 243, 108, 41, 108, 67, 156, 146, 203, 52, 162, 242, 104, 5, 68, 51, 239, 223, 126, 39, 129, 52, 195, 70, 12, 43, 180, 230, 99, 162, 47, 37, 104, 237, 131, 61, 152, 43, 150, 192, 112, 25, 32, 4, 78, 188, 137, 90, 106, 134, 166, 234, 149, 216, 70, 77, 200, 212, 167, 241, 18, 151, 25, 101, 208, 188, 122, 64, 39, 170, 252]]}}, 'requested_proof': {'revealed_attrs': {'0_fullname_uuid': {'sub_proof_index': 0, 'raw': 'Ronnie', 'encoded': '111726975520559410095632797966195093098573890400841928254251283143198591898889'}, '0_skill_uuid': {'sub_proof_index': 0, 'raw': 'PyDentity SSI Ninja', 'encoded': '38813097173523343342121686954087857232940954656654688676222283577873518606251'}}, 'self_attested_attrs': {'0_country_uuid': 'USA'}, 'unrevealed_attrs': {}, 'predicates': {'0_age_GE_uuid': {'sub_proof_index': 0}}}, 'identifiers': [{'schema_id': 'EuEtnVakYFyBtGFT1nHYtH:2:SSI PyDentity Tutorial:0.0.1', 'cred_def_id': 'XWp3vCdafbfAEthny5mERo:3:CL:142409:default', 'rev_reg_id': None, 'timestamp': None}]}, 'initiator': 'self', 'connection_id': '46f33a4d-5ece-4c7e-a36a-43e0995878dc', 'created_at': '2020-09-17 16:48:15.234398Z', 'presentation_exchange_id': '1a14e450-846c-4c74-bf1c-2a7b8ffd474f', 'trace': False, 'presentation_request': {'name': 'Proof of Completion of PyDentity SSI Tutorial', 'version': '1.0', 'requested_attributes': {'0_fullname_uuid': {'name': 'fullname', 'restrictions': [{'schema_id': 'EuEtnVakYFyBtGFT1nHYtH:2:SSI PyDentity Tutorial:0.0.1'}]}, '0_skill_uuid': {'name': 'skill', 'restrictions': [{'schema_id': 'EuEtnVakYFyBtGFT1nHYtH:2:SSI PyDentity Tutorial:0.0.1'}]}, '0_country_uuid': {'name': 'country'}}, 'requested_predicates': {'0_age_GE_uuid': {'name': 'age', 'p_type': '>=', 'p_value': 21, 'restrictions': [{'schema_id': 'EuEtnVakYFyBtGFT1nHYtH:2:SSI PyDentity Tutorial:0.0.1'}]}}, 'nonce': '1190036690385966273017697'}, 'presentation_request_dict': {'@type': 'did:sov:BzCbsNYhMrjHiqZDTUASHg;spec/present-proof/1.0/request-presentation', '@id': 'deccb957-3518-4eb4-aaff-68b65f158752', 'request_presentations~attach': [{'@id': 'libindy-request-presentation-0', 'mime-type': 'application/json', 'data': {'base64': 'eyJuYW1lIjogIlByb29mIG9mIENvbXBsZXRpb24gb2YgUHlEZW50aXR5IFNTSSBUdXRvcmlhbCIsICJ2ZXJzaW9uIjogIjEuMCIsICJyZXF1ZXN0ZWRfYXR0cmlidXRlcyI6IHsiMF9mdWxsbmFtZV91dWlkIjogeyJuYW1lIjogImZ1bGxuYW1lIiwgInJlc3RyaWN0aW9ucyI6IFt7InNjaGVtYV9pZCI6ICJFdUV0blZha1lGeUJ0R0ZUMW5IWXRIOjI6U1NJIFB5RGVudGl0eSBUdXRvcmlhbDowLjAuMSJ9XX0sICIwX3NraWxsX3V1aWQiOiB7Im5hbWUiOiAic2tpbGwiLCAicmVzdHJpY3Rpb25zIjogW3sic2NoZW1hX2lkIjogIkV1RXRuVmFrWUZ5QnRHRlQxbkhZdEg6MjpTU0kgUHlEZW50aXR5IFR1dG9yaWFsOjAuMC4xIn1dfSwgIjBfY291bnRyeV91dWlkIjogeyJuYW1lIjogImNvdW50cnkifX0sICJyZXF1ZXN0ZWRfcHJlZGljYXRlcyI6IHsiMF9hZ2VfR0VfdXVpZCI6IHsibmFtZSI6ICJhZ2UiLCAicF90eXBlIjogIj49IiwgInBfdmFsdWUiOiAyMSwgInJlc3RyaWN0aW9ucyI6IFt7InNjaGVtYV9pZCI6ICJFdUV0blZha1lGeUJ0R0ZUMW5IWXRIOjI6U1NJIFB5RGVudGl0eSBUdXRvcmlhbDowLjAuMSJ9XX19LCAibm9uY2UiOiAiMTE5MDAzNjY5MDM4NTk2NjI3MzAxNzY5NyJ9'}}]}}\n"
     ]
    }
   ],
   "source": [
    "verify = await agent_controller.proofs.verify_presentation(presentation_exchange_id)\n",
    "print(verify)"
   ]
  },
  {
   "cell_type": "markdown",
   "metadata": {},
   "source": [
    "### Verifying the State\n",
    "\n",
    "Once verified through the agent framework api, the state should be 'verified', otherwise the presentation is invalid."
   ]
  },
  {
   "cell_type": "code",
   "execution_count": 10,
   "metadata": {},
   "outputs": [
    {
     "name": "stdout",
     "output_type": "stream",
     "text": [
      "verified\n",
      "True\n"
     ]
    }
   ],
   "source": [
    "print(verify['state'])\n",
    "print(verify['state'] == 'verified')"
   ]
  },
  {
   "cell_type": "markdown",
   "metadata": {},
   "source": [
    "### Accessing the Revealed Attributes"
   ]
  },
  {
   "cell_type": "code",
   "execution_count": 13,
   "metadata": {},
   "outputs": [
    {
     "name": "stdout",
     "output_type": "stream",
     "text": [
      "Ronnie\n",
      "PyDentity SSI Ninja\n"
     ]
    }
   ],
   "source": [
    "# print(verify['presentation'])\n",
    "# print(verify['presentation']['requested_proof'])\n",
    "\n",
    "for (name, val) in verify['presentation']['requested_proof']['revealed_attrs'].items():\n",
    "    ## This is the actual data that you want. It's a little hidden\n",
    "    print(val['raw'])\n"
   ]
  },
  {
   "cell_type": "markdown",
   "metadata": {},
   "source": [
    "### Accessing self-attested attributes"
   ]
  },
  {
   "cell_type": "code",
   "execution_count": 14,
   "metadata": {},
   "outputs": [
    {
     "name": "stdout",
     "output_type": "stream",
     "text": [
      "0_country_uuid\n",
      "USA\n"
     ]
    }
   ],
   "source": [
    "for (name, val) in verify['presentation']['requested_proof']['self_attested_attrs'].items():\n",
    "    print(name)\n",
    "    ## Slightly different for self attested attrs\n",
    "    print(val)"
   ]
  },
  {
   "cell_type": "markdown",
   "metadata": {},
   "source": [
    "## End of Tutorial\n",
    "\n",
    "Be sure to terminate the controller so you can run another tutorial."
   ]
  },
  {
   "cell_type": "code",
   "execution_count": 16,
   "metadata": {
    "pycharm": {
     "name": "#%%\n"
    }
   },
   "outputs": [
    {
     "name": "stdout",
     "output_type": "stream",
     "text": [
      "None\n"
     ]
    }
   ],
   "source": [
    "response = await agent_controller.terminate()\n",
    "print(response)"
   ]
  },
  {
   "cell_type": "markdown",
   "metadata": {},
   "source": [
    "## Well done on completing the PyDentity SSI training series!"
   ]
  },
  {
   "cell_type": "code",
   "execution_count": null,
   "metadata": {},
   "outputs": [],
   "source": []
  }
 ],
 "metadata": {
  "kernelspec": {
   "display_name": "Python 3",
   "language": "python",
   "name": "python3"
  },
  "language_info": {
   "codemirror_mode": {
    "name": "ipython",
    "version": 3
   },
   "file_extension": ".py",
   "mimetype": "text/x-python",
   "name": "python",
   "nbconvert_exporter": "python",
   "pygments_lexer": "ipython3",
   "version": "3.7.6"
  }
 },
 "nbformat": 4,
 "nbformat_minor": 1
}
