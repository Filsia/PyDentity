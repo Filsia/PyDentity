{
 "cells": [
  {
   "cell_type": "markdown",
   "metadata": {
    "collapsed": true
   },
   "source": [
    "# Issue Passport Details Credential\n",
    "\n",
    "## Before running through this notebook you have configured the agent in  - [Part 1.2 - Initialising the ID Verification Agent](http://127.0.0.1:8888/notebooks/Part%201.2%20-%20Initialising%20the%20ID%20Verification%20Agent.ipynb)."
   ]
  },
  {
   "cell_type": "markdown",
   "metadata": {},
   "source": [
    "## 1. Initialise a controller for Issuer"
   ]
  },
  {
   "cell_type": "code",
   "execution_count": 1,
   "metadata": {},
   "outputs": [
    {
     "name": "stdout",
     "output_type": "stream",
     "text": [
      "IPython autoawait is `on`, and set to use `asyncio`\n"
     ]
    }
   ],
   "source": [
    "%autoawait\n",
    "import time\n",
    "import asyncio\n",
    "from termcolor import colored,cprint\n",
    "\n",
    "from aries_basic_controller.aries_controller import AriesAgentController\n",
    "    \n",
    "WEBHOOK_HOST = \"0.0.0.0\"\n",
    "WEBHOOK_PORT = 8052\n",
    "WEBHOOK_BASE = \"\"\n",
    "ADMIN_URL = \"http://id-verifier-agent:8051\"\n",
    "\n",
    "# Based on the aca-py agent you wish to control\n",
    "agent_controller = AriesAgentController(webhook_host=WEBHOOK_HOST, webhook_port=WEBHOOK_PORT,\n",
    "                                       webhook_base=WEBHOOK_BASE, admin_url=ADMIN_URL)\n",
    "    "
   ]
  },
  {
   "cell_type": "markdown",
   "metadata": {},
   "source": [
    "## 2. Register Listeners\n",
    "\n",
    "The handler should get called every time the controller receives a webhook with the topic issue_credential, printing out the payload. The agent calls to this webhook every time it receives an issue-credential protocol message from a credential."
   ]
  },
  {
   "cell_type": "code",
   "execution_count": 2,
   "metadata": {},
   "outputs": [],
   "source": [
    "loop = asyncio.get_event_loop()\n",
    "loop.create_task(agent_controller.listen_webhooks())\n",
    "\n",
    "def cred_handler(payload):\n",
    "    print(\"Handle Credentials\")\n",
    "    exchange_id = payload['credential_exchange_id']\n",
    "    state = payload['state']\n",
    "    role = payload['role']\n",
    "    attributes = payload['credential_proposal_dict']['credential_proposal']['attributes']\n",
    "    print(f\"Credential exchange {exchange_id}, role: {role}, state: {state}\")\n",
    "    print(f\"Offering: {attributes}\")\n",
    "    \n",
    "cred_listener = {\n",
    "    \"topic\": \"issue_credential\",\n",
    "    \"handler\": cred_handler\n",
    "}\n",
    "\n",
    "def connections_handler(payload):\n",
    "    global STATE\n",
    "    connection_id = payload[\"connection_id\"]\n",
    "    print(\"Connection message\", payload, connection_id)\n",
    "    STATE = payload['state']\n",
    "    if STATE == 'active':\n",
    "#         print('Connection {0} changed state to active'.format(connection_id))\n",
    "        print(colored(\"Connection {0} changed state to active\".format(connection_id), \"red\", attrs=[\"bold\"]))\n",
    "\n",
    "\n",
    "connection_listener = {\n",
    "    \"handler\": connections_handler,\n",
    "    \"topic\": \"connections\"\n",
    "}\n",
    "\n",
    "agent_controller.register_listeners([cred_listener,connection_listener], defaults=True)\n"
   ]
  },
  {
   "cell_type": "markdown",
   "metadata": {},
   "source": [
    "## 3. Copy across the `schema_id` and `cred_def_id` stored in Part 2"
   ]
  },
  {
   "cell_type": "code",
   "execution_count": 3,
   "metadata": {},
   "outputs": [
    {
     "name": "stdout",
     "output_type": "stream",
     "text": [
      "TAz26kuCtMgdCa1PjCgbGk:3:CL:141253:default\n",
      "2yWoMSfeTtYBFpUJFcnpqL:2:Passport Details:0.0.1\n"
     ]
    }
   ],
   "source": [
    "%store -r cred_def_id\n",
    "%store -r schema_id\n",
    "print(cred_def_id)\n",
    "print(schema_id)"
   ]
  },
  {
   "cell_type": "markdown",
   "metadata": {},
   "source": [
    "### 4. Make sure you have a Mobile SSI Wallet dowloaded and configured to using the Sovrin StagingNet\n",
    "Please download a mobile SSI wallet such as [Connect.me](https://connect.me/), [Trinsic](https://trinsic.id/trinsic-wallet/) or any other Aries compatible wallet."
   ]
  },
  {
   "cell_type": "markdown",
   "metadata": {},
   "source": [
    "## 5. Create a connection invitation to scan with the Mobile SSI Wallet\n",
    "\n",
    "To make a connection with an identity holders wallet we must create a connection invitation and present the QR code to be scanned by the identity holders wallet. The identity holder scan this QR code and then communicate back to the agent through the exposed ngrok endpoint.\n",
    "\n",
    "Once a connection is in an active state, the agent and the identity holders mobile wallet now have a secure pairwise relationship over which they can exchange verifiable credentials."
   ]
  },
  {
   "cell_type": "markdown",
   "metadata": {},
   "source": [
    "## 5a. Create an Invitation"
   ]
  },
  {
   "cell_type": "code",
   "execution_count": 4,
   "metadata": {},
   "outputs": [
    {
     "name": "stdout",
     "output_type": "stream",
     "text": [
      "Connection message {'connection_id': 'b32ec4d9-e344-4252-aa65-62d09ff191a6', 'state': 'invitation', 'routing_state': 'none', 'accept': 'auto', 'updated_at': '2020-09-21 18:50:16.738902Z', 'invitation_key': '7FhBSJ4epr4FCpsUCUFvcjJV2M8fY9ABq3Zb1HHoVdPz', 'created_at': '2020-09-21 18:50:16.738902Z', 'initiator': 'self', 'invitation_mode': 'once'} b32ec4d9-e344-4252-aa65-62d09ff191a6\n",
      "Connection ID b32ec4d9-e344-4252-aa65-62d09ff191a6\n",
      "Invitation\n",
      "https://398ee78ca679.ngrok.io?c_i=eyJAdHlwZSI6ICJkaWQ6c292OkJ6Q2JzTlloTXJqSGlxWkRUVUFTSGc7c3BlYy9jb25uZWN0aW9ucy8xLjAvaW52aXRhdGlvbiIsICJAaWQiOiAiMDY0ODY1MzgtOWY3Ni00ZGVhLTkyYTItYWZhMWFlMTVjYzI0IiwgImxhYmVsIjogIklkZW50aXR5IFZlcmlmaWNhdGlvbiBTZXZpY2UiLCAic2VydmljZUVuZHBvaW50IjogImh0dHBzOi8vMzk4ZWU3OGNhNjc5Lm5ncm9rLmlvIiwgInJlY2lwaWVudEtleXMiOiBbIjdGaEJTSjRlcHI0RkNwc1VDVUZ2Y2pKVjJNOGZZOUFCcTNaYjFISG9WZFB6Il19\n"
     ]
    }
   ],
   "source": [
    "# Create Invitation\n",
    "invite = await agent_controller.connections.create_invitation()\n",
    "connection_id = invite[\"connection_id\"]\n",
    "print(\"Connection ID\", connection_id)\n",
    "print(\"Invitation\")\n",
    "print(invite['invitation_url'])\n",
    "inviteURL = invite['invitation_url']"
   ]
  },
  {
   "cell_type": "markdown",
   "metadata": {},
   "source": [
    "## 5b. Generate QR Code to be scanned with Mobile SSI Wallet"
   ]
  },
  {
   "cell_type": "code",
   "execution_count": 5,
   "metadata": {},
   "outputs": [
    {
     "data": {
      "image/png": "[encoded data removed]",
      "text/plain": [
       "<IPython.core.display.Image object>"
      ]
     },
     "execution_count": 5,
     "metadata": {
      "image/png": {
       "width": 400
      }
     },
     "output_type": "execute_result"
    },
    {
     "name": "stdout",
     "output_type": "stream",
     "text": [
      "Connection message {'connection_id': 'b32ec4d9-e344-4252-aa65-62d09ff191a6', 'state': 'request', 'routing_state': 'none', 'their_label': 'EAX', 'their_did': '7fphS9uCfztnuRiyJ5tajM', 'accept': 'auto', 'updated_at': '2020-09-21 18:50:33.207070Z', 'invitation_key': '7FhBSJ4epr4FCpsUCUFvcjJV2M8fY9ABq3Zb1HHoVdPz', 'created_at': '2020-09-21 18:50:16.738902Z', 'initiator': 'self', 'invitation_mode': 'once'} b32ec4d9-e344-4252-aa65-62d09ff191a6\n",
      "Connection message {'connection_id': 'b32ec4d9-e344-4252-aa65-62d09ff191a6', 'state': 'response', 'routing_state': 'none', 'their_label': 'EAX', 'their_did': '7fphS9uCfztnuRiyJ5tajM', 'my_did': 'Guu5LjhupDBhN5V427fYtt', 'accept': 'auto', 'updated_at': '2020-09-21 18:50:33.230829Z', 'invitation_key': '7FhBSJ4epr4FCpsUCUFvcjJV2M8fY9ABq3Zb1HHoVdPz', 'created_at': '2020-09-21 18:50:16.738902Z', 'initiator': 'self', 'invitation_mode': 'once'} b32ec4d9-e344-4252-aa65-62d09ff191a6\n"
     ]
    }
   ],
   "source": [
    "import qrcode\n",
    "# Link for connection invitation\n",
    "input_data = inviteURL\n",
    "# Creating an instance of qrcode\n",
    "qr = qrcode.QRCode(\n",
    "        version=1,\n",
    "        box_size=10,\n",
    "        border=5)\n",
    "\n",
    "qr.add_data(input_data)\n",
    "qr.make(fit=True)\n",
    "img = qr.make_image(fill='black', back_color='white')\n",
    "img.save('id-verifier-agent_invite_QRcode.png')\n",
    "\n",
    "from IPython.display import Image\n",
    "Image(width=400, filename='./id-verifier-agent_invite_QRcode.png')"
   ]
  },
  {
   "cell_type": "markdown",
   "metadata": {},
   "source": [
    "## 5c. Check if established connection is in active state"
   ]
  },
  {
   "cell_type": "code",
   "execution_count": 6,
   "metadata": {},
   "outputs": [
    {
     "name": "stdout",
     "output_type": "stream",
     "text": [
      "\u001b[1m\u001b[35mCurrent state for ConnectionId b32ec4d9-e344-4252-aa65-62d09ff191a6 is response\u001b[0m\n",
      "\u001b[1m\u001b[33mConnectionId b32ec4d9-e344-4252-aa65-62d09ff191a6 is not in active state yet\u001b[0m\n",
      "\u001b[1m\u001b[34mTrust ping send to ConnectionId {'thread_id': '375c6b3f-66a5-4527-a1e6-e56d14bb047c'} to activate connection\u001b[0m\n",
      "\u001b[1m\u001b[33mConnectionId b32ec4d9-e344-4252-aa65-62d09ff191a6 is not in active state yet\u001b[0m\n",
      "Connection message {'connection_id': 'b32ec4d9-e344-4252-aa65-62d09ff191a6', 'state': 'active', 'routing_state': 'none', 'their_label': 'EAX', 'their_did': '7fphS9uCfztnuRiyJ5tajM', 'my_did': 'Guu5LjhupDBhN5V427fYtt', 'accept': 'auto', 'updated_at': '2020-09-21 18:51:01.278975Z', 'invitation_key': '7FhBSJ4epr4FCpsUCUFvcjJV2M8fY9ABq3Zb1HHoVdPz', 'created_at': '2020-09-21 18:50:16.738902Z', 'initiator': 'self', 'invitation_mode': 'once'} b32ec4d9-e344-4252-aa65-62d09ff191a6\n",
      "\u001b[1m\u001b[31mConnection b32ec4d9-e344-4252-aa65-62d09ff191a6 changed state to active\u001b[0m\n",
      "\u001b[1m\u001b[34mTrust ping send to ConnectionId {'thread_id': '9fc7e931-4a00-4444-9459-86009b130d59'} to activate connection\u001b[0m\n",
      "\u001b[1m\u001b[32mConnectionId: b32ec4d9-e344-4252-aa65-62d09ff191a6 is now active. Continue with notebook\u001b[0m\n"
     ]
    }
   ],
   "source": [
    "import time\n",
    "\n",
    "# print('Current state for ConnectionId {} is {}'.format(connection_id,STATE))\n",
    "print(colored(\"Current state for ConnectionId {} is {}\".format(connection_id,STATE), \"magenta\", attrs=[\"bold\"]))\n",
    "while STATE != 'active':\n",
    "#     print('ConnectionId {0} is not in active state yet'.format(connection_id))\n",
    "    print(colored(\"ConnectionId {0} is not in active state yet\".format(connection_id), \"yellow\", attrs=[\"bold\"]))\n",
    "    trust_ping = await agent_controller.messaging.trust_ping(connection_id,'hello!')\n",
    "#     print('Trust ping send to ConnectionId {0} to activate connection'.format(trust_ping))\n",
    "    print(colored(\"Trust ping send to ConnectionId {0} to activate connection\".format(trust_ping), \"blue\", attrs=[\"bold\"]))\n",
    "    time.sleep(5)\n",
    "    \n",
    "# print('ConnectionId: {0} is now active. Continue with notebook'.format(connection_id))\n",
    "print(colored(\"ConnectionId: {0} is now active. Continue with notebook\".format(connection_id), \"green\", attrs=[\"bold\"]))\n"
   ]
  },
  {
   "cell_type": "markdown",
   "metadata": {},
   "source": [
    "## 6. Populate the Passport Details to Issue to Doctor\n",
    "\n",
    "This would typically be done through a face to face identity check.\n",
    "\n",
    "The notebook will ask you to input all the relevant fields."
   ]
  },
  {
   "cell_type": "code",
   "execution_count": 8,
   "metadata": {},
   "outputs": [
    {
     "name": "stdout",
     "output_type": "stream",
     "text": [
      "Please enter the doctors pasport number: 1234567890\n",
      "Please enter the doctors surname: Jones\n",
      "Please enter the doctors given names: Bob\n",
      "Please enter the doctors nationality: ZA\n",
      "Please enter the doctors date of birth: 1919-01-01\n",
      "Please enter the doctors gender: F\n",
      "Please enter the doctors place of birth: ZA\n",
      "Please enter passport issuance date: 1800-01-01\n",
      "Please enter the issuing authority: ZA\n",
      "Please enter the expiry date: 2200-01-01\n",
      "Please enter a photograph of the doctor: Dr Doo Little\n",
      "Please enter your signature: Signed\n",
      "[{'name': 'PSS Passport No', 'value': '1234567890'}, {'name': 'PSS Surname', 'value': 'Jones'}, {'name': 'PSS Given Names', 'value': 'Bob'}, {'name': 'PSS Nationality', 'value': 'ZA'}, {'name': 'PSS Date of Birth', 'value': '1919-01-01'}, {'name': 'PSS Sex', 'value': 'F'}, {'name': 'PSS Place of Birth', 'value': 'ZA'}, {'name': 'PSS Date of Issue', 'value': '1800-01-01'}, {'name': 'PSS IssuingAuthority', 'value': 'ZA'}, {'name': 'PSS Date Of Expiry', 'value': '2200-01-01'}, {'name': 'PSS Photograph', 'value': 'Dr Doo Little'}, {'name': 'PSS Signature', 'value': 'Signed'}]\n"
     ]
    }
   ],
   "source": [
    "passport_num = input(\"Please enter the doctors pasport number: \")\n",
    "surname=input(\"Please enter the doctors surname: \")\n",
    "given_names=input(\"Please enter the doctors given names: \")\n",
    "nationality = input(\"Please enter the doctors nationality: \")\n",
    "dob=input(\"Please enter the doctors date of birth: \")\n",
    "sex=input(\"Please enter the doctors gender: \")\n",
    "place_of_birth = input(\"Please enter the doctors place of birth: \")\n",
    "date_of_issue=input(\"Please enter passport issuance date: \")\n",
    "issuing_auth=input(\"Please enter the issuing authority: \")\n",
    "expiry_date = input(\"Please enter the expiry date: \")\n",
    "photograph=input(\"Please enter a photograph of the doctor: \")\n",
    "signature=input(\"Please enter your signature: \")\n",
    "credential_attributes = [\n",
    "    {\"name\": \"PSS Passport No\", \"value\": passport_num},\n",
    "    {\"name\": \"PSS Surname\", \"value\": surname},\n",
    "    {\"name\": \"PSS Given Names\", \"value\": given_names},\n",
    "    {\"name\": \"PSS Nationality\", \"value\": nationality},\n",
    "    {\"name\": \"PSS Date of Birth\", \"value\": dob},\n",
    "    {\"name\": \"PSS Sex\", \"value\": sex},\n",
    "    {\"name\": \"PSS Place of Birth\", \"value\": place_of_birth},\n",
    "    {\"name\": \"PSS Date of Issue\", \"value\": date_of_issue},\n",
    "    {\"name\": \"PSS IssuingAuthority\", \"value\": issuing_auth},\n",
    "    {\"name\": \"PSS Date Of Expiry\", \"value\": expiry_date},\n",
    "    {\"name\": \"PSS Photograph\", \"value\": photograph},\n",
    "    {\"name\": \"PSS Signature\", \"value\": signature}\n",
    "\n",
    "]\n",
    "\n",
    "\n",
    "print(credential_attributes)"
   ]
  },
  {
   "cell_type": "markdown",
   "metadata": {},
   "source": [
    "## 7. Send Credential\n",
    "\n",
    "This sends a credential to the doctor's mobile wallet you just connected with."
   ]
  },
  {
   "cell_type": "code",
   "execution_count": 9,
   "metadata": {
    "pycharm": {
     "name": "#%%\n"
    }
   },
   "outputs": [
    {
     "name": "stdout",
     "output_type": "stream",
     "text": [
      "Credential exchange 6f9945a6-e2b5-45a9-855f-4c9595ccf61a, role: issuer, state: offer_sent\n",
      "Handle Credentials\n",
      "Credential exchange 6f9945a6-e2b5-45a9-855f-4c9595ccf61a, role: issuer, state: offer_sent\n",
      "Offering: [{'name': 'PSS Passport No', 'value': '1234567890'}, {'name': 'PSS Surname', 'value': 'Jones'}, {'name': 'PSS Given Names', 'value': 'Bob'}, {'name': 'PSS Nationality', 'value': 'ZA'}, {'name': 'PSS Date of Birth', 'value': '1919-01-01'}, {'name': 'PSS Sex', 'value': 'F'}, {'name': 'PSS Place of Birth', 'value': 'ZA'}, {'name': 'PSS Date of Issue', 'value': '1800-01-01'}, {'name': 'PSS IssuingAuthority', 'value': 'ZA'}, {'name': 'PSS Date Of Expiry', 'value': '2200-01-01'}, {'name': 'PSS Photograph', 'value': 'Dr Doo Little'}, {'name': 'PSS Signature', 'value': 'Signed'}]\n",
      "Handle Credentials\n",
      "Credential exchange 6f9945a6-e2b5-45a9-855f-4c9595ccf61a, role: issuer, state: request_received\n",
      "Offering: [{'name': 'PSS Passport No', 'value': '1234567890'}, {'name': 'PSS Surname', 'value': 'Jones'}, {'name': 'PSS Given Names', 'value': 'Bob'}, {'name': 'PSS Nationality', 'value': 'ZA'}, {'name': 'PSS Date of Birth', 'value': '1919-01-01'}, {'name': 'PSS Sex', 'value': 'F'}, {'name': 'PSS Place of Birth', 'value': 'ZA'}, {'name': 'PSS Date of Issue', 'value': '1800-01-01'}, {'name': 'PSS IssuingAuthority', 'value': 'ZA'}, {'name': 'PSS Date Of Expiry', 'value': '2200-01-01'}, {'name': 'PSS Photograph', 'value': 'Dr Doo Little'}, {'name': 'PSS Signature', 'value': 'Signed'}]\n",
      "Handle Credentials\n",
      "Credential exchange 6f9945a6-e2b5-45a9-855f-4c9595ccf61a, role: issuer, state: credential_issued\n",
      "Offering: [{'name': 'PSS Passport No', 'value': '1234567890'}, {'name': 'PSS Surname', 'value': 'Jones'}, {'name': 'PSS Given Names', 'value': 'Bob'}, {'name': 'PSS Nationality', 'value': 'ZA'}, {'name': 'PSS Date of Birth', 'value': '1919-01-01'}, {'name': 'PSS Sex', 'value': 'F'}, {'name': 'PSS Place of Birth', 'value': 'ZA'}, {'name': 'PSS Date of Issue', 'value': '1800-01-01'}, {'name': 'PSS IssuingAuthority', 'value': 'ZA'}, {'name': 'PSS Date Of Expiry', 'value': '2200-01-01'}, {'name': 'PSS Photograph', 'value': 'Dr Doo Little'}, {'name': 'PSS Signature', 'value': 'Signed'}]\n"
     ]
    }
   ],
   "source": [
    "record = await agent_controller.issuer.send_credential(connection_id, schema_id, cred_def_id, credential_attributes, trace=False)\n",
    "record_id = record['credential_exchange_id']\n",
    "state = record['state']\n",
    "role = record['role']\n",
    "print(f\"Credential exchange {record_id}, role: {role}, state: {state}\")\n"
   ]
  },
  {
   "cell_type": "markdown",
   "metadata": {},
   "source": [
    "## 8. Accept credential in Mobile SSI Wallet"
   ]
  },
  {
   "cell_type": "markdown",
   "metadata": {},
   "source": [
    "## 9. End of Tutorial\n",
    "\n",
    "Be sure to terminate the controller so you can run another tutorial."
   ]
  },
  {
   "cell_type": "code",
   "execution_count": 10,
   "metadata": {},
   "outputs": [
    {
     "name": "stdout",
     "output_type": "stream",
     "text": [
      "None\n"
     ]
    }
   ],
   "source": [
    "response = await agent_controller.terminate()\n",
    "print(response)"
   ]
  },
  {
   "cell_type": "markdown",
   "metadata": {},
   "source": [
    "# You can now proceed to use this Passport Details credential to interact with the  [Medical School](http://127.0.0.1:8889)\n",
    "\n",
    "Here you will present the attributes issued to you within this tutorial to a verifying entity.\n",
    "\n",
    "You can get the token for this notebook by running `docker logs  interopen-hack_med-school-notebook_1`"
   ]
  },
  {
   "cell_type": "code",
   "execution_count": null,
   "metadata": {},
   "outputs": [],
   "source": []
  }
 ],
 "metadata": {
  "kernelspec": {
   "display_name": "Python 3",
   "language": "python",
   "name": "python3"
  },
  "language_info": {
   "codemirror_mode": {
    "name": "ipython",
    "version": 3
   },
   "file_extension": ".py",
   "mimetype": "text/x-python",
   "name": "python",
   "nbconvert_exporter": "python",
   "pygments_lexer": "ipython3",
   "version": "3.7.6"
  }
 },
 "nbformat": 4,
 "nbformat_minor": 1
}
