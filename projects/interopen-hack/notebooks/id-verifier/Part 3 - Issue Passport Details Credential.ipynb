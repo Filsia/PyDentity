{
 "cells": [
  {
   "cell_type": "markdown",
   "metadata": {
    "collapsed": true
   },
   "source": [
    "# Issue Passport Details Credential\n",
    "\n",
    "## This notebook walks through how to issue a credential across a newly established connection with a mobile SSI agent. \n",
    "\n",
    "## Before running through this notebook you should run through the following notebook - [Part 2](http://localhost:8889/notebooks/Part%202%20-%20Initialising%20the%20ID%20Verification%20Agent.ipynb).\n",
    "\n",
    "If unfamiliar with the protocol it is worth reading through the [aries-rfs](https://github.com/hyperledger/aries-rfcs/tree/master/features/0036-issue-credential)\n"
   ]
  },
  {
   "cell_type": "markdown",
   "metadata": {},
   "source": [
    "## 1. Initialise a controller for Issuer"
   ]
  },
  {
   "cell_type": "code",
   "execution_count": 1,
   "metadata": {},
   "outputs": [
    {
     "name": "stdout",
     "output_type": "stream",
     "text": [
      "IPython autoawait is `on`, and set to use `asyncio`\n"
     ]
    }
   ],
   "source": [
    "%autoawait\n",
    "import time\n",
    "import asyncio\n",
    "from termcolor import colored,cprint\n",
    "\n",
    "from aries_basic_controller.aries_controller import AriesAgentController\n",
    "    \n",
    "WEBHOOK_HOST = \"0.0.0.0\"\n",
    "WEBHOOK_PORT = 8052\n",
    "WEBHOOK_BASE = \"\"\n",
    "ADMIN_URL = \"http://id-verifier-agent:8051\"\n",
    "\n",
    "# Based on the aca-py agent you wish to control\n",
    "agent_controller = AriesAgentController(webhook_host=WEBHOOK_HOST, webhook_port=WEBHOOK_PORT,\n",
    "                                       webhook_base=WEBHOOK_BASE, admin_url=ADMIN_URL)\n",
    "    "
   ]
  },
  {
   "cell_type": "markdown",
   "metadata": {},
   "source": [
    "## 2. Register Listeners\n",
    "\n",
    "The handler should get called every time the controller receives a webhook with the topic issue_credential, printing out the payload. The agent calls to this webhook every time it receives an issue-credential protocol message from a credential."
   ]
  },
  {
   "cell_type": "code",
   "execution_count": 2,
   "metadata": {},
   "outputs": [],
   "source": [
    "loop = asyncio.get_event_loop()\n",
    "loop.create_task(agent_controller.listen_webhooks())\n",
    "\n",
    "def cred_handler(payload):\n",
    "    print(\"Handle Credentials\")\n",
    "    exchange_id = payload['credential_exchange_id']\n",
    "    state = payload['state']\n",
    "    role = payload['role']\n",
    "    attributes = payload['credential_proposal_dict']['credential_proposal']['attributes']\n",
    "    print(f\"Credential exchange {exchange_id}, role: {role}, state: {state}\")\n",
    "    print(f\"Offering: {attributes}\")\n",
    "    \n",
    "cred_listener = {\n",
    "    \"topic\": \"issue_credential\",\n",
    "    \"handler\": cred_handler\n",
    "}\n",
    "\n",
    "def connections_handler(payload):\n",
    "    global STATE\n",
    "    connection_id = payload[\"connection_id\"]\n",
    "    print(\"Connection message\", payload, connection_id)\n",
    "    STATE = payload['state']\n",
    "    if STATE == 'active':\n",
    "#         print('Connection {0} changed state to active'.format(connection_id))\n",
    "        print(colored(\"Connection {0} changed state to active\".format(connection_id), \"red\", attrs=[\"bold\"]))\n",
    "\n",
    "\n",
    "connection_listener = {\n",
    "    \"handler\": connections_handler,\n",
    "    \"topic\": \"connections\"\n",
    "}\n",
    "\n",
    "agent_controller.register_listeners([cred_listener,connection_listener], defaults=True)\n"
   ]
  },
  {
   "cell_type": "markdown",
   "metadata": {},
   "source": [
    "## 3. Copy across the `schema_id` and `cred_def_id` stored in Part 2"
   ]
  },
  {
   "cell_type": "code",
   "execution_count": 3,
   "metadata": {},
   "outputs": [
    {
     "name": "stdout",
     "output_type": "stream",
     "text": [
      "6CJoFc4XQ1aXCSL33MowqX:3:CL:141253:default\n",
      "2yWoMSfeTtYBFpUJFcnpqL:2:Passport Details:0.0.1\n"
     ]
    }
   ],
   "source": [
    "%store -r cred_def_id\n",
    "%store -r schema_id\n",
    "print(cred_def_id)\n",
    "print(schema_id)"
   ]
  },
  {
   "cell_type": "markdown",
   "metadata": {},
   "source": [
    "## 4. Populate the Passport Details to Issue to Doctor\n",
    "\n",
    "This would typically be done through a face to face identity check.\n",
    "\n",
    "The notebook will ask you to input all the relevant fields."
   ]
  },
  {
   "cell_type": "code",
   "execution_count": 12,
   "metadata": {},
   "outputs": [
    {
     "name": "stdout",
     "output_type": "stream",
     "text": [
      "Please enter the doctors pasport number: 1234\n",
      "Please enter the doctors surname: 1234\n",
      "Please enter the doctors given names: 123\n",
      "Please enter the doctors nationality: 123\n",
      "Please enter the doctors date of birth: 123\n",
      "Please enter the doctors gender: 123\n",
      "Please enter the doctors place of birth: 1231\n",
      "Please enter passport issuance date: 231\n",
      "Please enter the issuing authority: 23\n",
      "Please enter the expiry date: 312\n",
      "Please enter a photograph of the doctor: 123\n",
      "Please enter your signature: 123\n",
      "[{'name': 'PSS Passport No', 'value': '1234'}, {'name': 'PSS Surname', 'value': '1234'}, {'name': 'PSS Given Names', 'value': '123'}, {'name': 'PSS Nationality', 'value': '123'}, {'name': 'PSS Date of Birth', 'value': '123'}, {'name': 'PSS Sex', 'value': '123'}, {'name': 'PSS Place of Birth', 'value': '1231'}, {'name': 'PSS Date of Issue', 'value': '231'}, {'name': 'PSS IssuingAuthority', 'value': '23'}, {'name': 'PSS Date of Expiry', 'value': '312'}, {'name': 'PSS Photograph', 'value': '123'}, {'name': 'PSS Signature', 'value': '123'}]\n"
     ]
    }
   ],
   "source": [
    "passport_num = input(\"Please enter the doctors pasport number: \")\n",
    "surname=input(\"Please enter the doctors surname: \")\n",
    "given_names=input(\"Please enter the doctors given names: \")\n",
    "nationality = input(\"Please enter the doctors nationality: \")\n",
    "dob=input(\"Please enter the doctors date of birth: \")\n",
    "sex=input(\"Please enter the doctors gender: \")\n",
    "place_of_birth = input(\"Please enter the doctors place of birth: \")\n",
    "date_of_issue=input(\"Please enter passport issuance date: \")\n",
    "issuing_auth=input(\"Please enter the issuing authority: \")\n",
    "expiry_date = input(\"Please enter the expiry date: \")\n",
    "photograph=input(\"Please enter a photograph of the doctor: \")\n",
    "signature=input(\"Please enter your signature: \")\n",
    "credential_attributes = [\n",
    "    {\"name\": \"PSS Passport No\", \"value\": passport_num},\n",
    "    {\"name\": \"PSS Surname\", \"value\": surname},\n",
    "    {\"name\": \"PSS Given Names\", \"value\": given_names},\n",
    "    {\"name\": \"PSS Nationality\", \"value\": nationality},\n",
    "    {\"name\": \"PSS Date of Birth\", \"value\": dob},\n",
    "    {\"name\": \"PSS Sex\", \"value\": sex},\n",
    "    {\"name\": \"PSS Place of Birth\", \"value\": place_of_birth},\n",
    "    {\"name\": \"PSS Date of Issue\", \"value\": date_of_issue},\n",
    "    {\"name\": \"PSS IssuingAuthority\", \"value\": issuing_auth},\n",
    "    {\"name\": \"PSS Date of Expiry\", \"value\": expiry_date},\n",
    "    {\"name\": \"PSS Photograph\", \"value\": photograph},\n",
    "    {\"name\": \"PSS Signature\", \"value\": signature}\n",
    "\n",
    "]\n",
    "\n",
    "# {'PSS Given Names', \n",
    "# 'PSS Date of Issue', \n",
    "# 'PSS Place of Birth', \n",
    "# 'PSS Date of Expiry', \n",
    "# 'PSS Sex', \n",
    "# 'PSS Date of Birth', \n",
    "# 'PSS Passport No', \n",
    "# 'PSS Nationality', \n",
    "# 'PSS Photograph', \n",
    "# 'PSS Signature', \n",
    "# 'PSS Surname', \n",
    "# 'PSS IssuingAuthority'}\n",
    "\n",
    "# {'PSS Date of Issue', \n",
    "# 'PSS Given Names', \n",
    "# 'PSS Place of Birth', \n",
    "# 'PSS Sex', \n",
    "# 'PSS Date of Birth', \n",
    "# 'PSS Passport No', \n",
    "# 'PSS Nationality', \n",
    "# 'PSS Date Of Expiry', \n",
    "# 'PSS Photograph', \n",
    "# 'PSS Signature', \n",
    "# 'PSS Surname', \n",
    "# 'PSS IssuingAuthority'}\n",
    "\n",
    "print(credential_attributes)"
   ]
  },
  {
   "cell_type": "markdown",
   "metadata": {},
   "source": [
    "### 7. Make sure you have a Mobile SSI Wallet dowloaded and configured to using the Sovrin StagingNet\n",
    "Please download a mobile SSI wallet such as [Connect.me](https://connect.me/), [Trinsic](https://trinsic.id/trinsic-wallet/) or any other Aries compatible wallet."
   ]
  },
  {
   "cell_type": "markdown",
   "metadata": {},
   "source": [
    "## 8. Create a connection invitation to scan with the Mobile SSI Wallet\n",
    "\n",
    "To make a connection with an identity holders wallet we must create a connection invitation and present the QR code to be scanned by the identity holders wallet. The identity holder scan this QR code and then communicate back to the agent through the exposed ngrok endpoint.\n",
    "\n",
    "Once a connection is in an active state, the agent and the identity holders mobile wallet now have a secure pairwise relationship over which they can exchange verifiable credentials."
   ]
  },
  {
   "cell_type": "markdown",
   "metadata": {},
   "source": [
    "## 8a. Create an Invitation"
   ]
  },
  {
   "cell_type": "code",
   "execution_count": 5,
   "metadata": {},
   "outputs": [
    {
     "name": "stdout",
     "output_type": "stream",
     "text": [
      "Connection message {'created_at': '2020-09-21 15:49:51.360361Z', 'initiator': 'self', 'invitation_key': 'FaPuSq9afjM25xBTsNG9eaiR6wJCxnaNCbbfHBrPG88o', 'accept': 'auto', 'invitation_mode': 'once', 'routing_state': 'none', 'connection_id': '1bfef2fb-b034-4ae1-b2a4-86c85eb2bef7', 'updated_at': '2020-09-21 15:49:51.360361Z', 'state': 'invitation'} 1bfef2fb-b034-4ae1-b2a4-86c85eb2bef7\n",
      "Connection ID 1bfef2fb-b034-4ae1-b2a4-86c85eb2bef7\n",
      "Invitation\n",
      "https://0d49b08d44fc.ngrok.io?c_i=eyJAdHlwZSI6ICJkaWQ6c292OkJ6Q2JzTlloTXJqSGlxWkRUVUFTSGc7c3BlYy9jb25uZWN0aW9ucy8xLjAvaW52aXRhdGlvbiIsICJAaWQiOiAiNjBiYTRjN2ItY2MzNy00YzgzLThiZjAtODE1Y2RjYzUyOWY4IiwgInJlY2lwaWVudEtleXMiOiBbIkZhUHVTcTlhZmpNMjV4QlRzTkc5ZWFpUjZ3SkN4bmFOQ2JiZkhCclBHODhvIl0sICJsYWJlbCI6ICJJZGVudGl0eSBWZXJpZmljYXRpb24gU2V2aWNlIiwgInNlcnZpY2VFbmRwb2ludCI6ICJodHRwczovLzBkNDliMDhkNDRmYy5uZ3Jvay5pbyJ9\n"
     ]
    }
   ],
   "source": [
    "# Create Invitation\n",
    "invite = await agent_controller.connections.create_invitation()\n",
    "connection_id = invite[\"connection_id\"]\n",
    "print(\"Connection ID\", connection_id)\n",
    "print(\"Invitation\")\n",
    "print(invite['invitation_url'])\n",
    "inviteURL = invite['invitation_url']"
   ]
  },
  {
   "cell_type": "markdown",
   "metadata": {},
   "source": [
    "## 8b. Generate QR Code to be scanned with Mobile SSI Wallet"
   ]
  },
  {
   "cell_type": "code",
   "execution_count": 6,
   "metadata": {},
   "outputs": [
    {
     "data": {
      "image/png": "[encoded data removed]",
      "text/plain": [
       "<IPython.core.display.Image object>"
      ]
     },
     "execution_count": 6,
     "metadata": {
      "image/png": {
       "width": 400
      }
     },
     "output_type": "execute_result"
    },
    {
     "name": "stdout",
     "output_type": "stream",
     "text": [
      "Connection message {'created_at': '2020-09-21 15:49:51.360361Z', 'initiator': 'self', 'invitation_key': 'FaPuSq9afjM25xBTsNG9eaiR6wJCxnaNCbbfHBrPG88o', 'their_label': 'EAX', 'accept': 'auto', 'their_did': 'XydyFB9obCUcTuLJDw239u', 'invitation_mode': 'once', 'routing_state': 'none', 'connection_id': '1bfef2fb-b034-4ae1-b2a4-86c85eb2bef7', 'updated_at': '2020-09-21 15:50:09.245460Z', 'state': 'request'} 1bfef2fb-b034-4ae1-b2a4-86c85eb2bef7\n",
      "Connection message {'created_at': '2020-09-21 15:49:51.360361Z', 'initiator': 'self', 'invitation_key': 'FaPuSq9afjM25xBTsNG9eaiR6wJCxnaNCbbfHBrPG88o', 'their_label': 'EAX', 'accept': 'auto', 'their_did': 'XydyFB9obCUcTuLJDw239u', 'invitation_mode': 'once', 'routing_state': 'none', 'my_did': '7eoSwumsH19LkBqDf2Tv35', 'connection_id': '1bfef2fb-b034-4ae1-b2a4-86c85eb2bef7', 'updated_at': '2020-09-21 15:50:09.273872Z', 'state': 'response'} 1bfef2fb-b034-4ae1-b2a4-86c85eb2bef7\n"
     ]
    }
   ],
   "source": [
    "import qrcode\n",
    "# Link for connection invitation\n",
    "input_data = inviteURL\n",
    "# Creating an instance of qrcode\n",
    "qr = qrcode.QRCode(\n",
    "        version=1,\n",
    "        box_size=10,\n",
    "        border=5)\n",
    "\n",
    "qr.add_data(input_data)\n",
    "qr.make(fit=True)\n",
    "img = qr.make_image(fill='black', back_color='white')\n",
    "img.save('id-verifier-agent_invite_QRcode.png')\n",
    "\n",
    "from IPython.display import Image\n",
    "Image(width=400, filename='./id-verifier-agent_invite_QRcode.png')"
   ]
  },
  {
   "cell_type": "markdown",
   "metadata": {},
   "source": [
    "## 8c. Check if established connection is in active state"
   ]
  },
  {
   "cell_type": "code",
   "execution_count": 7,
   "metadata": {},
   "outputs": [
    {
     "name": "stdout",
     "output_type": "stream",
     "text": [
      "\u001B[1m\u001B[35mCurrent state for ConnectionId 1bfef2fb-b034-4ae1-b2a4-86c85eb2bef7 is response\u001B[0m\n",
      "\u001B[1m\u001B[33mConnectionId 1bfef2fb-b034-4ae1-b2a4-86c85eb2bef7 is not in active state yet\u001B[0m\n",
      "\u001B[1m\u001B[34mTrust ping send to ConnectionId {'thread_id': 'd3243a6a-23e7-402a-94e7-b5ca78457a44'} to activate connection\u001B[0m\n",
      "\u001B[1m\u001B[33mConnectionId 1bfef2fb-b034-4ae1-b2a4-86c85eb2bef7 is not in active state yet\u001B[0m\n",
      "Connection message {'created_at': '2020-09-21 15:49:51.360361Z', 'initiator': 'self', 'invitation_key': 'FaPuSq9afjM25xBTsNG9eaiR6wJCxnaNCbbfHBrPG88o', 'their_label': 'EAX', 'accept': 'auto', 'their_did': 'XydyFB9obCUcTuLJDw239u', 'invitation_mode': 'once', 'routing_state': 'none', 'my_did': '7eoSwumsH19LkBqDf2Tv35', 'connection_id': '1bfef2fb-b034-4ae1-b2a4-86c85eb2bef7', 'updated_at': '2020-09-21 15:50:13.900888Z', 'state': 'active'} 1bfef2fb-b034-4ae1-b2a4-86c85eb2bef7\n",
      "\u001B[1m\u001B[31mConnection 1bfef2fb-b034-4ae1-b2a4-86c85eb2bef7 changed state to active\u001B[0m\n",
      "\u001B[1m\u001B[34mTrust ping send to ConnectionId {'thread_id': 'da352f74-209e-45f8-83c9-b55f7d96ee26'} to activate connection\u001B[0m\n",
      "\u001B[1m\u001B[32mConnectionId: 1bfef2fb-b034-4ae1-b2a4-86c85eb2bef7 is now active. Continue with notebook\u001B[0m\n"
     ]
    }
   ],
   "source": [
    "import time\n",
    "\n",
    "# print('Current state for ConnectionId {} is {}'.format(connection_id,STATE))\n",
    "print(colored(\"Current state for ConnectionId {} is {}\".format(connection_id,STATE), \"magenta\", attrs=[\"bold\"]))\n",
    "while STATE != 'active':\n",
    "#     print('ConnectionId {0} is not in active state yet'.format(connection_id))\n",
    "    print(colored(\"ConnectionId {0} is not in active state yet\".format(connection_id), \"yellow\", attrs=[\"bold\"]))\n",
    "    trust_ping = await agent_controller.messaging.trust_ping(connection_id,'hello!')\n",
    "#     print('Trust ping send to ConnectionId {0} to activate connection'.format(trust_ping))\n",
    "    print(colored(\"Trust ping send to ConnectionId {0} to activate connection\".format(trust_ping), \"blue\", attrs=[\"bold\"]))\n",
    "    time.sleep(5)\n",
    "    \n",
    "# print('ConnectionId: {0} is now active. Continue with notebook'.format(connection_id))\n",
    "print(colored(\"ConnectionId: {0} is now active. Continue with notebook\".format(connection_id), \"green\", attrs=[\"bold\"]))\n"
   ]
  },
  {
   "cell_type": "markdown",
   "metadata": {},
   "source": [
    "## 9. Send Credential\n",
    "\n",
    "This sends a credential to the doctor's mobile wallet you just connected with."
   ]
  },
  {
   "cell_type": "code",
   "execution_count": null,
   "metadata": {
    "pycharm": {
     "name": "#%%\n"
    }
   },
   "outputs": [],
   "source": [
    "print(connection_id, schema_id, cred_def_id, credential_attributes, \"trace=False\")"
   ]
  },
  {
   "cell_type": "code",
   "execution_count": null,
   "outputs": [],
   "source": [
    "record = await agent_controller.issuer.send_credential(connection_id, schema_id, cred_def_id, credential_attributes, trace=False)\n",
    "record_id = record['credential_exchange_id']\n",
    "state = record['state']\n",
    "role = record['role']\n",
    "print(f\"Credential exchange {record_id}, role: {role}, state: {state}\")\n"
   ],
   "metadata": {
    "collapsed": false,
    "pycharm": {
     "name": "#%%\n"
    }
   }
  },
  {
   "cell_type": "code",
   "execution_count": 15,
   "metadata": {},
   "outputs": [
    {
     "name": "stdout",
     "output_type": "stream",
     "text": [
      "1bfef2fb-b034-4ae1-b2a4-86c85eb2bef7 2yWoMSfeTtYBFpUJFcnpqL:2:Passport Details:0.0.1 6CJoFc4XQ1aXCSL33MowqX:3:CL:141253:default [{'name': 'PSS Passport No', 'value': '1234'}, {'name': 'PSS Surname', 'value': '1234'}, {'name': 'PSS Given Names', 'value': '123'}, {'name': 'PSS Nationality', 'value': '123'}, {'name': 'PSS Date of Birth', 'value': '123'}, {'name': 'PSS Sex', 'value': '123'}, {'name': 'PSS Place of Birth', 'value': '1231'}, {'name': 'PSS Date of Issue', 'value': '231'}, {'name': 'PSS IssuingAuthority', 'value': '23'}, {'name': 'PSS Date of Expiry', 'value': '312'}, {'name': 'PSS Photograph', 'value': '123'}, {'name': 'PSS Signature', 'value': '123'}] trace=False\n"
     ]
    }
   ],
   "source": [
    "record = await agent_controller.issuer.send_credential(connection_id, schema_id, cred_def_id, credential_attributes, trace=False)\n",
    "record_id = record['credential_exchange_id']\n",
    "state = record['state']\n",
    "role = record['role']\n",
    "print(f\"Credential exchange {record_id}, role: {role}, state: {state}\")\n"
   ]
  },
  {
   "cell_type": "code",
   "execution_count": 16,
   "metadata": {},
   "outputs": [
    {
     "ename": "ClientResponseError",
     "evalue": "400, message=\"Preview attributes {'PSS Given Names', 'PSS Date of Issue', 'PSS Place of Birth', 'PSS Date of Expiry', 'PSS Sex', 'PSS Date of Birth', 'PSS Passport No', 'PSS Nationality', 'PSS Photograph', 'PSS Signature', 'PSS Surname', 'PSS IssuingAuthority'} mismatch corresponding schema attributes {'PSS Date of Issue', 'PSS Given Names', 'PSS Place of Birth', 'PSS Sex', 'PSS Date of Birth', 'PSS Passport No', 'PSS Nationality', 'PSS Date Of Expiry', 'PSS Photograph', 'PSS Signature', 'PSS Surname', 'PSS IssuingAuthority'}.\", url=URL('http://id-verifier-agent:8051/issue-credential/send')",
     "output_type": "error",
     "traceback": [
      "\u001B[0;31m---------------------------------------------------------------------------\u001B[0m",
      "\u001B[0;31mClientResponseError\u001B[0m                       Traceback (most recent call last)",
      "\u001B[0;32m<ipython-input-16-d56370d33c34>\u001B[0m in \u001B[0;36masync-def-wrapper\u001B[0;34m()\u001B[0m\n\u001B[1;32m      2\u001B[0m \u001B[0mrecord_id\u001B[0m \u001B[0;34m=\u001B[0m \u001B[0mrecord\u001B[0m\u001B[0;34m[\u001B[0m\u001B[0;34m'credential_exchange_id'\u001B[0m\u001B[0;34m]\u001B[0m\u001B[0;34m\u001B[0m\u001B[0;34m\u001B[0m\u001B[0m\n\u001B[1;32m      3\u001B[0m \u001B[0mstate\u001B[0m \u001B[0;34m=\u001B[0m \u001B[0mrecord\u001B[0m\u001B[0;34m[\u001B[0m\u001B[0;34m'state'\u001B[0m\u001B[0;34m]\u001B[0m\u001B[0;34m\u001B[0m\u001B[0;34m\u001B[0m\u001B[0m\n\u001B[0;32m----> 4\u001B[0;31m \u001B[0mrole\u001B[0m \u001B[0;34m=\u001B[0m \u001B[0mrecord\u001B[0m\u001B[0;34m[\u001B[0m\u001B[0;34m'role'\u001B[0m\u001B[0;34m]\u001B[0m\u001B[0;34m\u001B[0m\u001B[0;34m\u001B[0m\u001B[0m\n\u001B[0m\u001B[1;32m      5\u001B[0m \u001B[0mprint\u001B[0m\u001B[0;34m(\u001B[0m\u001B[0;34mf\"Credential exchange {record_id}, role: {role}, state: {state}\"\u001B[0m\u001B[0;34m)\u001B[0m\u001B[0;34m\u001B[0m\u001B[0;34m\u001B[0m\u001B[0m\n",
      "\u001B[0;32m/aries_basic_controller/controllers/issuer.py\u001B[0m in \u001B[0;36msend_credential\u001B[0;34m(self, connection_id, schema_id, cred_def_id, attributes, comment, auto_remove, trace)\u001B[0m\n\u001B[1;32m     32\u001B[0m         body = await self.create_credential_body(connection_id, schema_id, cred_def_id, attributes, comment,\n\u001B[1;32m     33\u001B[0m                                                  auto_remove, trace)\n\u001B[0;32m---> 34\u001B[0;31m         \u001B[0;32mreturn\u001B[0m \u001B[0;32mawait\u001B[0m \u001B[0mself\u001B[0m\u001B[0;34m.\u001B[0m\u001B[0madmin_POST\u001B[0m\u001B[0;34m(\u001B[0m\u001B[0;34mf\"{self.base_url}/send\"\u001B[0m\u001B[0;34m,\u001B[0m \u001B[0mjson_data\u001B[0m\u001B[0;34m=\u001B[0m\u001B[0mbody\u001B[0m\u001B[0;34m)\u001B[0m\u001B[0;34m\u001B[0m\u001B[0;34m\u001B[0m\u001B[0m\n\u001B[0m\u001B[1;32m     35\u001B[0m \u001B[0;34m\u001B[0m\u001B[0m\n\u001B[1;32m     36\u001B[0m \u001B[0;34m\u001B[0m\u001B[0m\n",
      "\u001B[0;32m/aries_basic_controller/controllers/base.py\u001B[0m in \u001B[0;36madmin_POST\u001B[0;34m(self, path, json_data, text, params, data)\u001B[0m\n\u001B[1;32m     94\u001B[0m                 \u001B[0;34m(\u001B[0m\u001B[0;34m\" with data: \\n{}\"\u001B[0m\u001B[0;34m.\u001B[0m\u001B[0mformat\u001B[0m\u001B[0;34m(\u001B[0m\u001B[0mrepr_json\u001B[0m\u001B[0;34m(\u001B[0m\u001B[0mjson_data\u001B[0m\u001B[0;34m)\u001B[0m\u001B[0;34m)\u001B[0m \u001B[0;32mif\u001B[0m \u001B[0mjson_data\u001B[0m \u001B[0;32melse\u001B[0m \u001B[0;34m\"\"\u001B[0m\u001B[0;34m)\u001B[0m\u001B[0;34m,\u001B[0m\u001B[0;34m\u001B[0m\u001B[0;34m\u001B[0m\u001B[0m\n\u001B[1;32m     95\u001B[0m             )\n\u001B[0;32m---> 96\u001B[0;31m             \u001B[0mresponse\u001B[0m \u001B[0;34m=\u001B[0m \u001B[0;32mawait\u001B[0m \u001B[0mself\u001B[0m\u001B[0;34m.\u001B[0m\u001B[0madmin_request\u001B[0m\u001B[0;34m(\u001B[0m\u001B[0;34m\"POST\"\u001B[0m\u001B[0;34m,\u001B[0m \u001B[0mpath\u001B[0m\u001B[0;34m,\u001B[0m \u001B[0mjson_data\u001B[0m\u001B[0;34m,\u001B[0m \u001B[0mtext\u001B[0m\u001B[0;34m,\u001B[0m \u001B[0mparams\u001B[0m\u001B[0;34m,\u001B[0m \u001B[0mdata\u001B[0m\u001B[0;34m)\u001B[0m\u001B[0;34m\u001B[0m\u001B[0;34m\u001B[0m\u001B[0m\n\u001B[0m\u001B[1;32m     97\u001B[0m             EVENT_LOGGER.debug(\n\u001B[1;32m     98\u001B[0m                 \u001B[0;34m\"Response from POST %s received: \\n%s\"\u001B[0m\u001B[0;34m,\u001B[0m \u001B[0mpath\u001B[0m\u001B[0;34m,\u001B[0m \u001B[0mrepr_json\u001B[0m\u001B[0;34m(\u001B[0m\u001B[0mresponse\u001B[0m\u001B[0;34m)\u001B[0m\u001B[0;34m,\u001B[0m\u001B[0;34m\u001B[0m\u001B[0;34m\u001B[0m\u001B[0m\n",
      "\u001B[0;32m/aries_basic_controller/controllers/base.py\u001B[0m in \u001B[0;36madmin_request\u001B[0;34m(self, method, path, json_data, text, params, data)\u001B[0m\n\u001B[1;32m     61\u001B[0m             \u001B[0mmethod\u001B[0m\u001B[0;34m,\u001B[0m \u001B[0mself\u001B[0m\u001B[0;34m.\u001B[0m\u001B[0madmin_url\u001B[0m \u001B[0;34m+\u001B[0m \u001B[0mpath\u001B[0m\u001B[0;34m,\u001B[0m \u001B[0mjson\u001B[0m\u001B[0;34m=\u001B[0m\u001B[0mjson_data\u001B[0m\u001B[0;34m,\u001B[0m \u001B[0mparams\u001B[0m\u001B[0;34m=\u001B[0m\u001B[0mparams\u001B[0m\u001B[0;34m,\u001B[0m \u001B[0mdata\u001B[0m\u001B[0;34m=\u001B[0m\u001B[0mdata\u001B[0m\u001B[0;34m\u001B[0m\u001B[0;34m\u001B[0m\u001B[0m\n\u001B[1;32m     62\u001B[0m         ) as resp:\n\u001B[0;32m---> 63\u001B[0;31m             \u001B[0mresp\u001B[0m\u001B[0;34m.\u001B[0m\u001B[0mraise_for_status\u001B[0m\u001B[0;34m(\u001B[0m\u001B[0;34m)\u001B[0m\u001B[0;34m\u001B[0m\u001B[0;34m\u001B[0m\u001B[0m\n\u001B[0m\u001B[1;32m     64\u001B[0m             \u001B[0mresp_text\u001B[0m \u001B[0;34m=\u001B[0m \u001B[0;32mawait\u001B[0m \u001B[0mresp\u001B[0m\u001B[0;34m.\u001B[0m\u001B[0mtext\u001B[0m\u001B[0;34m(\u001B[0m\u001B[0;34m)\u001B[0m\u001B[0;34m\u001B[0m\u001B[0;34m\u001B[0m\u001B[0m\n\u001B[1;32m     65\u001B[0m             \u001B[0;32mif\u001B[0m \u001B[0;32mnot\u001B[0m \u001B[0mresp_text\u001B[0m \u001B[0;32mand\u001B[0m \u001B[0;32mnot\u001B[0m \u001B[0mtext\u001B[0m\u001B[0;34m:\u001B[0m\u001B[0;34m\u001B[0m\u001B[0;34m\u001B[0m\u001B[0m\n",
      "\u001B[0;32m/opt/conda/lib/python3.7/site-packages/aiohttp/client_reqrep.py\u001B[0m in \u001B[0;36mraise_for_status\u001B[0;34m(self)\u001B[0m\n\u001B[1;32m    944\u001B[0m                 \u001B[0mstatus\u001B[0m\u001B[0;34m=\u001B[0m\u001B[0mself\u001B[0m\u001B[0;34m.\u001B[0m\u001B[0mstatus\u001B[0m\u001B[0;34m,\u001B[0m\u001B[0;34m\u001B[0m\u001B[0;34m\u001B[0m\u001B[0m\n\u001B[1;32m    945\u001B[0m                 \u001B[0mmessage\u001B[0m\u001B[0;34m=\u001B[0m\u001B[0mself\u001B[0m\u001B[0;34m.\u001B[0m\u001B[0mreason\u001B[0m\u001B[0;34m,\u001B[0m\u001B[0;34m\u001B[0m\u001B[0;34m\u001B[0m\u001B[0m\n\u001B[0;32m--> 946\u001B[0;31m                 headers=self.headers)\n\u001B[0m\u001B[1;32m    947\u001B[0m \u001B[0;34m\u001B[0m\u001B[0m\n\u001B[1;32m    948\u001B[0m     \u001B[0;32mdef\u001B[0m \u001B[0m_cleanup_writer\u001B[0m\u001B[0;34m(\u001B[0m\u001B[0mself\u001B[0m\u001B[0;34m)\u001B[0m \u001B[0;34m->\u001B[0m \u001B[0;32mNone\u001B[0m\u001B[0;34m:\u001B[0m\u001B[0;34m\u001B[0m\u001B[0;34m\u001B[0m\u001B[0m\n",
      "\u001B[0;31mClientResponseError\u001B[0m: 400, message=\"Preview attributes {'PSS Given Names', 'PSS Date of Issue', 'PSS Place of Birth', 'PSS Date of Expiry', 'PSS Sex', 'PSS Date of Birth', 'PSS Passport No', 'PSS Nationality', 'PSS Photograph', 'PSS Signature', 'PSS Surname', 'PSS IssuingAuthority'} mismatch corresponding schema attributes {'PSS Date of Issue', 'PSS Given Names', 'PSS Place of Birth', 'PSS Sex', 'PSS Date of Birth', 'PSS Passport No', 'PSS Nationality', 'PSS Date Of Expiry', 'PSS Photograph', 'PSS Signature', 'PSS Surname', 'PSS IssuingAuthority'}.\", url=URL('http://id-verifier-agent:8051/issue-credential/send')"
     ]
    },
    {
     "name": "stderr",
     "output_type": "stream",
     "text": [
      "ERROR:asyncio:Task exception was never retrieved\n",
      "future: <Task finished coro=<run_in_terminal.<locals>.run() done, defined at /opt/conda/lib/python3.7/site-packages/prompt_toolkit/application/run_in_terminal.py:50> exception=UnsupportedOperation('fileno')>\n",
      "Traceback (most recent call last):\n",
      "  File \"/opt/conda/lib/python3.7/site-packages/prompt_toolkit/application/run_in_terminal.py\", line 55, in run\n",
      "    return func()\n",
      "  File \"/aries_basic_controller/helpers/utils.py\", line 120, in <lambda>\n",
      "    run_in_terminal(lambda: print_ext(*msg, color=color, **kwargs))\n",
      "  File \"/aries_basic_controller/helpers/utils.py\", line 103, in print_ext\n",
      "    print_formatted(FormattedText(msg), **kwargs)\n",
      "  File \"/aries_basic_controller/helpers/utils.py\", line 83, in print_formatted\n",
      "    prompt_toolkit.print_formatted_text(*args, **kwargs)\n",
      "  File \"/opt/conda/lib/python3.7/site-packages/prompt_toolkit/shortcuts/utils.py\", line 112, in print_formatted_text\n",
      "    output = get_app_session().output\n",
      "  File \"/opt/conda/lib/python3.7/site-packages/prompt_toolkit/application/current.py\", line 65, in output\n",
      "    self._output = create_output()\n",
      "  File \"/opt/conda/lib/python3.7/site-packages/prompt_toolkit/output/defaults.py\", line 62, in create_output\n",
      "    return Vt100_Output.from_pty(stdout, term=get_term_environment_variable())\n",
      "  File \"/opt/conda/lib/python3.7/site-packages/prompt_toolkit/output/vt100.py\", line 449, in from_pty\n",
      "    fd = stdout.fileno()\n",
      "io.UnsupportedOperation: fileno\n"
     ]
    }
   ],
   "source": [
    "record = await agent_controller.issuer.send_credential(connection_id, schema_id, cred_def_id, credential_attributes, trace=False)\n",
    "record_id = record['credential_exchange_id']\n",
    "state = record['state']\n",
    "role = record['role']\n",
    "print(f\"Credential exchange {record_id}, role: {role}, state: {state}\")\n"
   ]
  },
  {
   "cell_type": "markdown",
   "metadata": {},
   "source": [
    "## 10. Accept credential in Mobile SSI Wallet"
   ]
  },
  {
   "cell_type": "markdown",
   "metadata": {},
   "source": [
    "## 11. End of Tutorial\n",
    "\n",
    "Be sure to terminate the controller so you can run another tutorial."
   ]
  },
  {
   "cell_type": "code",
   "execution_count": 13,
   "metadata": {},
   "outputs": [
    {
     "name": "stdout",
     "output_type": "stream",
     "text": [
      "None\n"
     ]
    }
   ],
   "source": [
    "response = await agent_controller.terminate()\n",
    "print(response)"
   ]
  },
  {
   "cell_type": "markdown",
   "metadata": {},
   "source": [
    "# You can now proceed to interact with the Medical School  [Medical School](http://127.0.0.1:8888)\n",
    "\n",
    "Here you will present the attributes issued to you within this tutorial to a verifying entity."
   ]
  },
  {
   "cell_type": "code",
   "execution_count": null,
   "metadata": {},
   "outputs": [],
   "source": []
  }
 ],
 "metadata": {
  "kernelspec": {
   "display_name": "Python 3",
   "language": "python",
   "name": "python3"
  },
  "language_info": {
   "codemirror_mode": {
    "name": "ipython",
    "version": 3
   },
   "file_extension": ".py",
   "mimetype": "text/x-python",
   "name": "python",
   "nbconvert_exporter": "python",
   "pygments_lexer": "ipython3",
   "version": "3.7.6"
  }
 },
 "nbformat": 4,
 "nbformat_minor": 1
}