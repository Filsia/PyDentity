{
 "cells": [
  {
   "cell_type": "markdown",
   "metadata": {},
   "source": [
    "# Verify a Presentation\n",
    "\n",
    "## Before running this notebook you should have a mobile wallet contained the credential you issued yourself in Part 3. If not run through [Part 2](http://127.0.0.1:8888/notebooks/Part%202%20-%20Connecting%20Issuer%20Agent%20to%20Sovrin%20Stagingnet.ipynb) and [Part 3](http://localhost:8888/notebooks/Part%203%20-%20Issue%20Credential.ipynb) of this tutorial.\n",
    "\n",
    "If unfamiliar with the present-proof protocol it is worth reading through the [aries-rfs](https://github.com/hyperledger/aries-rfcs/tree/master/features/0037-present-proof)\n"
   ]
  },
  {
   "cell_type": "markdown",
   "metadata": {},
   "source": [
    "## Note that you do not need to write a public DID to the ledger as a verifier."
   ]
  },
  {
   "cell_type": "markdown",
   "metadata": {
    "pycharm": {
     "name": "#%%\n"
    }
   },
   "source": [
    "## 1. Instatiate Controller for Verifiers's Agent"
   ]
  },
  {
   "cell_type": "code",
   "execution_count": 1,
   "metadata": {
    "pycharm": {
     "name": "#%%\n"
    }
   },
   "outputs": [
    {
     "name": "stdout",
     "output_type": "stream",
     "text": [
      "IPython autoawait is `on`, and set to use `asyncio`\n"
     ]
    }
   ],
   "source": [
    "%autoawait\n",
    "import time\n",
    "import asyncio\n",
    "from termcolor import colored,cprint\n",
    "\n",
    "from aries_basic_controller.aries_controller import AriesAgentController\n",
    "\n",
    "WEBHOOK_HOST = \"0.0.0.0\"\n",
    "WEBHOOK_PORT = 8052\n",
    "WEBHOOK_BASE = \"\"\n",
    "ADMIN_URL = \"http://id-verifier-agent:8051\"\n",
    "\n",
    "# Based on the aca-py agent you wish to control\n",
    "agent_controller = AriesAgentController(webhook_host=WEBHOOK_HOST, webhook_port=WEBHOOK_PORT,\n",
    "                                       webhook_base=WEBHOOK_BASE, admin_url=ADMIN_URL)\n"
   ]
  },
  {
   "cell_type": "markdown",
   "metadata": {},
   "source": [
    "## 2. Register Listeners\n",
    "\n",
    "The handler should get called every time the controller receives a webhook with the topic present_proof, printing out the payload. The agent calls to this webhook every time it receives a present proof protocol message from another agent. \n"
   ]
  },
  {
   "cell_type": "code",
   "execution_count": 2,
   "metadata": {
    "pycharm": {
     "name": "#%%\n"
    }
   },
   "outputs": [],
   "source": [
    "loop = asyncio.get_event_loop()\n",
    "loop.create_task(agent_controller.listen_webhooks())\n",
    "\n",
    "def connections_handler(payload):\n",
    "    global STATE\n",
    "    connection_id = payload[\"connection_id\"]\n",
    "    print(\"Connection message\", payload, connection_id)\n",
    "    STATE = payload['state']\n",
    "    if STATE == 'active':\n",
    "#         print('Connection {0} changed state to active'.format(connection_id))\n",
    "        print(colored(\"Connection {0} changed state to active\".format(connection_id), \"red\", attrs=[\"bold\"]))\n",
    "\n",
    "\n",
    "connection_listener = {\n",
    "    \"handler\": connections_handler,\n",
    "    \"topic\": \"connections\"\n",
    "}\n",
    "\n",
    "def proof_handler(payload):\n",
    "    print(\"Handle present proof\")\n",
    "    print(payload)\n",
    "\n",
    "proof_listener = {\n",
    "    \"topic\": \"present_proof\",\n",
    "    \"handler\": proof_handler\n",
    "}\n",
    "\n",
    "agent_controller.register_listeners([connection_listener,proof_listener], defaults=True)\n",
    "\n"
   ]
  },
  {
   "cell_type": "markdown",
   "metadata": {},
   "source": [
    "## 3. Make a connection with the Mobile SSI Wallet you used in [Part 2](http://127.0.0.1:8888/notebooks/Part%202%20-%20Connecting%20Issuer%20Agent%20to%20Sovrin%20Stagingnet.ipynb)\n",
    "\n",
    "**You should have a credential stored in here from the previous notebook!**\n",
    "\n",
    "Please download a mobile SSI wallet such as [Connect.me](https://connect.me/), [Trinsic](https://trinsic.id/trinsic-wallet/) or any other Aries compatible wallet."
   ]
  },
  {
   "cell_type": "markdown",
   "metadata": {},
   "source": [
    "## 4. Create a connection invitation to scan with the Mobile SSI Wallet"
   ]
  },
  {
   "cell_type": "markdown",
   "metadata": {},
   "source": [
    "## 4a. Check for any existing connections"
   ]
  },
  {
   "cell_type": "code",
   "execution_count": 3,
   "metadata": {},
   "outputs": [
    {
     "name": "stdout",
     "output_type": "stream",
     "text": [
      "EXISTING CONNECTIONS\n"
     ]
    }
   ],
   "source": [
    "# Check for existing connections\n",
    "connection = await agent_controller.connections.get_connections()\n",
    "print(\"EXISTING CONNECTIONS\")\n",
    "for key, value in connection.items():\n",
    "    for item in value:\n",
    "        print('ConnectionID:', item['connection_id'], 'Status:',item['state'])"
   ]
  },
  {
   "cell_type": "markdown",
   "metadata": {},
   "source": [
    "## 4b. Create an Invitation"
   ]
  },
  {
   "cell_type": "code",
   "execution_count": 4,
   "metadata": {},
   "outputs": [
    {
     "name": "stdout",
     "output_type": "stream",
     "text": [
      "Connection message {'routing_state': 'none', 'invitation_mode': 'once', 'connection_id': 'bcce7c86-bb24-42f4-b1e0-e24b23c9f8af', 'accept': 'auto', 'updated_at': '2020-09-22 09:28:03.057573Z', 'invitation_key': '3T1YLQVvEFwmZo1EUwAAM7K1mJ7P4bvFgWdqCCzyHwzr', 'initiator': 'self', 'created_at': '2020-09-22 09:28:03.057573Z', 'state': 'invitation'} bcce7c86-bb24-42f4-b1e0-e24b23c9f8af\n",
      "Connection ID bcce7c86-bb24-42f4-b1e0-e24b23c9f8af\n",
      "Invitation\n",
      "https://300f0364b880.ngrok.io?c_i=eyJAdHlwZSI6ICJkaWQ6c292OkJ6Q2JzTlloTXJqSGlxWkRUVUFTSGc7c3BlYy9jb25uZWN0aW9ucy8xLjAvaW52aXRhdGlvbiIsICJAaWQiOiAiZGJkZjdlZTQtYjY4My00N2YxLWE3YzctMzg3MDlmZjVkZTY2IiwgImxhYmVsIjogIklkZW50aXR5IFZlcmlmaWNhdGlvbiBTZXZpY2UiLCAic2VydmljZUVuZHBvaW50IjogImh0dHBzOi8vMzAwZjAzNjRiODgwLm5ncm9rLmlvIiwgInJlY2lwaWVudEtleXMiOiBbIjNUMVlMUVZ2RUZ3bVpvMUVVd0FBTTdLMW1KN1A0YnZGZ1dkcUNDenlId3pyIl19\n"
     ]
    }
   ],
   "source": [
    "# Create Invitation\n",
    "invite = await agent_controller.connections.create_invitation()\n",
    "connection_id = invite[\"connection_id\"]\n",
    "print(\"Connection ID\", connection_id)\n",
    "print(\"Invitation\")\n",
    "print(invite['invitation_url'])\n",
    "inviteURL = invite['invitation_url']"
   ]
  },
  {
   "cell_type": "markdown",
   "metadata": {},
   "source": [
    "## 4c. Generate QR Code to be scanned with Mobile SSI Wallet"
   ]
  },
  {
   "cell_type": "code",
   "execution_count": 5,
   "metadata": {},
   "outputs": [
    {
     "data": {
      "image/png": "[encoded data removed]",
      "text/plain": [
       "<IPython.core.display.Image object>"
      ]
     },
     "execution_count": 5,
     "metadata": {
      "image/png": {
       "width": 400
      }
     },
     "output_type": "execute_result"
    },
    {
     "name": "stdout",
     "output_type": "stream",
     "text": [
      "Connection message {'their_did': 'DJovjhi484QuhED4AUNxhu', 'routing_state': 'none', 'invitation_mode': 'once', 'connection_id': 'bcce7c86-bb24-42f4-b1e0-e24b23c9f8af', 'accept': 'auto', 'updated_at': '2020-09-22 09:28:12.298459Z', 'invitation_key': '3T1YLQVvEFwmZo1EUwAAM7K1mJ7P4bvFgWdqCCzyHwzr', 'their_label': 'EAX', 'initiator': 'self', 'created_at': '2020-09-22 09:28:03.057573Z', 'state': 'request'} bcce7c86-bb24-42f4-b1e0-e24b23c9f8af\n",
      "Connection message {'their_did': 'DJovjhi484QuhED4AUNxhu', 'routing_state': 'none', 'my_did': 'FkF16rgkg8DxPEF3xRu4jT', 'invitation_mode': 'once', 'connection_id': 'bcce7c86-bb24-42f4-b1e0-e24b23c9f8af', 'accept': 'auto', 'updated_at': '2020-09-22 09:28:12.322305Z', 'invitation_key': '3T1YLQVvEFwmZo1EUwAAM7K1mJ7P4bvFgWdqCCzyHwzr', 'their_label': 'EAX', 'initiator': 'self', 'created_at': '2020-09-22 09:28:03.057573Z', 'state': 'response'} bcce7c86-bb24-42f4-b1e0-e24b23c9f8af\n"
     ]
    }
   ],
   "source": [
    "import qrcode\n",
    "# Link for connection invitation\n",
    "input_data = inviteURL\n",
    "# Creating an instance of qrcode\n",
    "qr = qrcode.QRCode(\n",
    "        version=1,\n",
    "        box_size=10,\n",
    "        border=5)\n",
    "qr.add_data(input_data)\n",
    "qr.make(fit=True)\n",
    "img = qr.make_image(fill='black', back_color='white')\n",
    "img.save('verifier_agent_invite_QRcode.png')\n",
    "\n",
    "from IPython.display import Image\n",
    "Image(width=400, filename='./verifier_agent_invite_QRcode.png')"
   ]
  },
  {
   "cell_type": "markdown",
   "metadata": {},
   "source": [
    "## 4d. Check if established connection is in active state"
   ]
  },
  {
   "cell_type": "code",
   "execution_count": 6,
   "metadata": {},
   "outputs": [
    {
     "name": "stdout",
     "output_type": "stream",
     "text": [
      "\u001b[1m\u001b[35mCurrent state for ConnectionId bcce7c86-bb24-42f4-b1e0-e24b23c9f8af is response\u001b[0m\n",
      "\u001b[1m\u001b[33mConnectionId bcce7c86-bb24-42f4-b1e0-e24b23c9f8af is not in active state yet\u001b[0m\n",
      "\u001b[1m\u001b[34mTrust ping send to ConnectionId {'thread_id': 'fb4e60f2-3a2b-4280-9d4e-7c389f8ef44a'} to activate connection\u001b[0m\n",
      "\u001b[1m\u001b[33mConnectionId bcce7c86-bb24-42f4-b1e0-e24b23c9f8af is not in active state yet\u001b[0m\n",
      "Connection message {'their_did': 'DJovjhi484QuhED4AUNxhu', 'routing_state': 'none', 'my_did': 'FkF16rgkg8DxPEF3xRu4jT', 'invitation_mode': 'once', 'connection_id': 'bcce7c86-bb24-42f4-b1e0-e24b23c9f8af', 'accept': 'auto', 'updated_at': '2020-09-22 09:28:19.144625Z', 'invitation_key': '3T1YLQVvEFwmZo1EUwAAM7K1mJ7P4bvFgWdqCCzyHwzr', 'their_label': 'EAX', 'initiator': 'self', 'created_at': '2020-09-22 09:28:03.057573Z', 'state': 'active'} bcce7c86-bb24-42f4-b1e0-e24b23c9f8af\n",
      "\u001b[1m\u001b[31mConnection bcce7c86-bb24-42f4-b1e0-e24b23c9f8af changed state to active\u001b[0m\n",
      "\u001b[1m\u001b[34mTrust ping send to ConnectionId {'thread_id': 'd7fdbe8e-31de-47e3-840b-8f55c6435c86'} to activate connection\u001b[0m\n",
      "\u001b[1m\u001b[32mConnectionId: bcce7c86-bb24-42f4-b1e0-e24b23c9f8af is now active. Continue with notebook\u001b[0m\n"
     ]
    }
   ],
   "source": [
    "import time\n",
    "\n",
    "# print('Current state for ConnectionId {} is {}'.format(connection_id,STATE))\n",
    "print(colored(\"Current state for ConnectionId {} is {}\".format(connection_id,STATE), \"magenta\", attrs=[\"bold\"]))\n",
    "while STATE != 'active':\n",
    "#     print('ConnectionId {0} is not in active state yet'.format(connection_id))\n",
    "    print(colored(\"ConnectionId {0} is not in active state yet\".format(connection_id), \"yellow\", attrs=[\"bold\"]))\n",
    "    trust_ping = await agent_controller.messaging.trust_ping(connection_id,'hello!')\n",
    "#     print('Trust ping send to ConnectionId {0} to activate connection'.format(trust_ping))\n",
    "    print(colored(\"Trust ping send to ConnectionId {0} to activate connection\".format(trust_ping), \"blue\", attrs=[\"bold\"]))\n",
    "    time.sleep(5)\n",
    "    \n",
    "# print('ConnectionId: {0} is now active. Continue with notebook'.format(connection_id))\n",
    "print(colored(\"ConnectionId: {0} is now active. Continue with notebook\".format(connection_id), \"green\", attrs=[\"bold\"]))\n"
   ]
  },
  {
   "cell_type": "markdown",
   "metadata": {},
   "source": [
    "## 5. Send Proof Request to Identity Holder Mobile Wallet"
   ]
  },
  {
   "cell_type": "markdown",
   "metadata": {},
   "source": [
    "## 5a. Generate Proof Request\n",
    "\n",
    "The verifier will request a proof from the identity holder for the following attributes:\n",
    "\n",
    "    fullname\"\n",
    "    \"skill\"\n",
    "    \"country\" - self-attested\n",
    "    \"age\" - as a predicate range proof to determine if the identity holder is older than 21\n",
    "\n",
    "\n",
    "Note how the verifier has restricted the proof request to only include credentials issued against a specific `schema_id`. \n",
    "\n",
    "In our case `schema_id` = EuEtnVakYFyBtGFT1nHYtH:2:SSI PyDentity Tutorial:0.0.1\n",
    "\n",
    "If you ledgered your own schema in [Part 2](http://127.0.0.1:8888/notebooks/Part%203%20-%20Issuer.ipynb) and didn't use the pre-ledgered schema then please copy the new schema_id into the `schemaid` variable in the cell below.\n",
    "\n",
    "TODO: Add information around predicates"
   ]
  },
  {
   "cell_type": "code",
   "execution_count": 7,
   "metadata": {
    "pycharm": {
     "name": "#%%\n"
    }
   },
   "outputs": [
    {
     "name": "stdout",
     "output_type": "stream",
     "text": [
      "Request proof of Fullname and Age range from Identity Holder\n"
     ]
    }
   ],
   "source": [
    "schema_id = 'EuEtnVakYFyBtGFT1nHYtH:2:SSI PyDentity Tutorial:0.0.1'\n",
    "\n",
    "print(\"Request proof of Fullname and Age range from Identity Holder\")\n",
    "#Set some variables\n",
    "\n",
    "revocation = False\n",
    "SELF_ATTESTED = True\n",
    "exchange_tracing = False\n",
    "\n",
    "#Enable this to ask for attributes to identity a user\n",
    "#TODO - change restriction to schemaId or credentialId\n",
    "\n",
    "req_attrs = [\n",
    "    {\"name\": \"fullname\", \"restrictions\": [{\"schema_id\": schema_id}]},\n",
    "    {\"name\": \"skill\", \"restrictions\": [{\"schema_id\": schema_id}]},\n",
    "]\n",
    "\n",
    "if revocation:\n",
    "    req_attrs.append(\n",
    "        {\n",
    "            \"name\": \"skill\",\n",
    "            \"restrictions\": [{\"schema_id\": schema_id}],\n",
    "            \"non_revoked\": {\"to\": int(time.time() - 1)},\n",
    "        },\n",
    "    )\n",
    "\n",
    "if SELF_ATTESTED:\n",
    "    # test self-attested claims\n",
    "    req_attrs.append({\"name\": \"country\"},)\n",
    "\n",
    "#Set predicates for Zero Knowledge Proofs\n",
    "req_preds = [\n",
    "    # test zero-knowledge proofs\n",
    "    {\n",
    "        \"name\": \"age\",\n",
    "        \"p_type\": \">=\",\n",
    "        \"p_value\": 21,\n",
    "        \"restrictions\": [{\"schema_id\": schema_id}],\n",
    "    }\n",
    "]\n",
    "\n",
    "indy_proof_request = {\n",
    "    \"name\": \"Proof of Completion of PyDentity SSI Tutorial\",\n",
    "    \"version\": \"1.0\",\n",
    "    \"requested_attributes\": {\n",
    "        f\"0_{req_attr['name']}_uuid\":\n",
    "        req_attr for req_attr in req_attrs\n",
    "    },\n",
    "    \"requested_predicates\": {\n",
    "        f\"0_{req_pred['name']}_GE_uuid\":\n",
    "        req_pred for req_pred in req_preds\n",
    "    },\n",
    "}\n",
    "\n",
    "if revocation:\n",
    "    indy_proof_request[\"non_revoked\"] = {\"to\": int(time.time())}\n",
    "\n",
    "#proof_request = indy_proof_request\n",
    "exchange_tracing_id = exchange_tracing\n",
    "proof_request_web_request = {\n",
    "    \"connection_id\": connection_id,\n",
    "    \"proof_request\": indy_proof_request,\n",
    "    \"trace\": exchange_tracing,\n",
    "}"
   ]
  },
  {
   "cell_type": "markdown",
   "metadata": {},
   "source": [
    "### 5b. Send the proof request to Identity Holder\n",
    "\n",
    "Identity Holder is identified through the connection_id"
   ]
  },
  {
   "cell_type": "code",
   "execution_count": 8,
   "metadata": {
    "pycharm": {
     "name": "#%%\n"
    },
    "scrolled": false
   },
   "outputs": [
    {
     "name": "stdout",
     "output_type": "stream",
     "text": [
      "Handle present proof\n",
      "{'presentation_request_dict': {'@type': 'did:sov:BzCbsNYhMrjHiqZDTUASHg;spec/present-proof/1.0/request-presentation', '@id': '007966be-9db0-4a23-8693-3944b075700d', 'request_presentations~attach': [{'@id': 'libindy-request-presentation-0', 'mime-type': 'application/json', 'data': {'base64': 'eyJuYW1lIjogIlByb29mIG9mIENvbXBsZXRpb24gb2YgUHlEZW50aXR5IFNTSSBUdXRvcmlhbCIsICJ2ZXJzaW9uIjogIjEuMCIsICJyZXF1ZXN0ZWRfYXR0cmlidXRlcyI6IHsiMF9mdWxsbmFtZV91dWlkIjogeyJuYW1lIjogImZ1bGxuYW1lIiwgInJlc3RyaWN0aW9ucyI6IFt7InNjaGVtYV9pZCI6ICJFdUV0blZha1lGeUJ0R0ZUMW5IWXRIOjI6U1NJIFB5RGVudGl0eSBUdXRvcmlhbDowLjAuMSJ9XX0sICIwX3NraWxsX3V1aWQiOiB7Im5hbWUiOiAic2tpbGwiLCAicmVzdHJpY3Rpb25zIjogW3sic2NoZW1hX2lkIjogIkV1RXRuVmFrWUZ5QnRHRlQxbkhZdEg6MjpTU0kgUHlEZW50aXR5IFR1dG9yaWFsOjAuMC4xIn1dfSwgIjBfY291bnRyeV91dWlkIjogeyJuYW1lIjogImNvdW50cnkifX0sICJyZXF1ZXN0ZWRfcHJlZGljYXRlcyI6IHsiMF9hZ2VfR0VfdXVpZCI6IHsibmFtZSI6ICJhZ2UiLCAicF90eXBlIjogIj49IiwgInBfdmFsdWUiOiAyMSwgInJlc3RyaWN0aW9ucyI6IFt7InNjaGVtYV9pZCI6ICJFdUV0blZha1lGeUJ0R0ZUMW5IWXRIOjI6U1NJIFB5RGVudGl0eSBUdXRvcmlhbDowLjAuMSJ9XX19LCAibm9uY2UiOiAiNDMwODYwODc4MzU4NTEzNzYxNTk0OTg1In0='}}]}, 'role': 'verifier', 'auto_present': False, 'connection_id': 'bcce7c86-bb24-42f4-b1e0-e24b23c9f8af', 'updated_at': '2020-09-22 09:28:26.113191Z', 'presentation_exchange_id': '309e61a5-5407-4759-9b5d-3660da675174', 'presentation_request': {'name': 'Proof of Completion of PyDentity SSI Tutorial', 'version': '1.0', 'requested_attributes': {'0_fullname_uuid': {'name': 'fullname', 'restrictions': [{'schema_id': 'EuEtnVakYFyBtGFT1nHYtH:2:SSI PyDentity Tutorial:0.0.1'}]}, '0_skill_uuid': {'name': 'skill', 'restrictions': [{'schema_id': 'EuEtnVakYFyBtGFT1nHYtH:2:SSI PyDentity Tutorial:0.0.1'}]}, '0_country_uuid': {'name': 'country'}}, 'requested_predicates': {'0_age_GE_uuid': {'name': 'age', 'p_type': '>=', 'p_value': 21, 'restrictions': [{'schema_id': 'EuEtnVakYFyBtGFT1nHYtH:2:SSI PyDentity Tutorial:0.0.1'}]}}, 'nonce': '430860878358513761594985'}, 'initiator': 'self', 'trace': False, 'created_at': '2020-09-22 09:28:26.113191Z', 'thread_id': '007966be-9db0-4a23-8693-3944b075700d', 'state': 'request_sent'}\n",
      "{'presentation_request_dict': {'@type': 'did:sov:BzCbsNYhMrjHiqZDTUASHg;spec/present-proof/1.0/request-presentation', '@id': '007966be-9db0-4a23-8693-3944b075700d', 'request_presentations~attach': [{'@id': 'libindy-request-presentation-0', 'mime-type': 'application/json', 'data': {'base64': 'eyJuYW1lIjogIlByb29mIG9mIENvbXBsZXRpb24gb2YgUHlEZW50aXR5IFNTSSBUdXRvcmlhbCIsICJ2ZXJzaW9uIjogIjEuMCIsICJyZXF1ZXN0ZWRfYXR0cmlidXRlcyI6IHsiMF9mdWxsbmFtZV91dWlkIjogeyJuYW1lIjogImZ1bGxuYW1lIiwgInJlc3RyaWN0aW9ucyI6IFt7InNjaGVtYV9pZCI6ICJFdUV0blZha1lGeUJ0R0ZUMW5IWXRIOjI6U1NJIFB5RGVudGl0eSBUdXRvcmlhbDowLjAuMSJ9XX0sICIwX3NraWxsX3V1aWQiOiB7Im5hbWUiOiAic2tpbGwiLCAicmVzdHJpY3Rpb25zIjogW3sic2NoZW1hX2lkIjogIkV1RXRuVmFrWUZ5QnRHRlQxbkhZdEg6MjpTU0kgUHlEZW50aXR5IFR1dG9yaWFsOjAuMC4xIn1dfSwgIjBfY291bnRyeV91dWlkIjogeyJuYW1lIjogImNvdW50cnkifX0sICJyZXF1ZXN0ZWRfcHJlZGljYXRlcyI6IHsiMF9hZ2VfR0VfdXVpZCI6IHsibmFtZSI6ICJhZ2UiLCAicF90eXBlIjogIj49IiwgInBfdmFsdWUiOiAyMSwgInJlc3RyaWN0aW9ucyI6IFt7InNjaGVtYV9pZCI6ICJFdUV0blZha1lGeUJ0R0ZUMW5IWXRIOjI6U1NJIFB5RGVudGl0eSBUdXRvcmlhbDowLjAuMSJ9XX19LCAibm9uY2UiOiAiNDMwODYwODc4MzU4NTEzNzYxNTk0OTg1In0='}}]}, 'role': 'verifier', 'auto_present': False, 'connection_id': 'bcce7c86-bb24-42f4-b1e0-e24b23c9f8af', 'updated_at': '2020-09-22 09:28:26.113191Z', 'presentation_exchange_id': '309e61a5-5407-4759-9b5d-3660da675174', 'presentation_request': {'name': 'Proof of Completion of PyDentity SSI Tutorial', 'version': '1.0', 'requested_attributes': {'0_fullname_uuid': {'name': 'fullname', 'restrictions': [{'schema_id': 'EuEtnVakYFyBtGFT1nHYtH:2:SSI PyDentity Tutorial:0.0.1'}]}, '0_skill_uuid': {'name': 'skill', 'restrictions': [{'schema_id': 'EuEtnVakYFyBtGFT1nHYtH:2:SSI PyDentity Tutorial:0.0.1'}]}, '0_country_uuid': {'name': 'country'}}, 'requested_predicates': {'0_age_GE_uuid': {'name': 'age', 'p_type': '>=', 'p_value': 21, 'restrictions': [{'schema_id': 'EuEtnVakYFyBtGFT1nHYtH:2:SSI PyDentity Tutorial:0.0.1'}]}}, 'nonce': '430860878358513761594985'}, 'initiator': 'self', 'trace': False, 'created_at': '2020-09-22 09:28:26.113191Z', 'thread_id': '007966be-9db0-4a23-8693-3944b075700d', 'state': 'request_sent'}\n",
      "\n",
      "\n",
      "309e61a5-5407-4759-9b5d-3660da675174\n"
     ]
    }
   ],
   "source": [
    "response = await agent_controller.proofs.send_request(proof_request_web_request)\n",
    "print(response)\n",
    "presentation_exchange_id = response['presentation_exchange_id']\n",
    "print(\"\\n\")\n",
    "print(presentation_exchange_id)\n"
   ]
  },
  {
   "cell_type": "markdown",
   "metadata": {},
   "source": [
    "## 6. Verify Proof Presentation\n",
    "\n",
    "This is checking the signatures on the credentials presented against the credential schema and definition id stored and resolvable on the ledger. It is a bit of a big complicated object, so we show the common pattern for breaking it down, checking it's verified and accessing the data that has been presented."
   ]
  },
  {
   "cell_type": "code",
   "execution_count": 10,
   "metadata": {
    "pycharm": {
     "name": "#%%\n"
    }
   },
   "outputs": [
    {
     "name": "stdout",
     "output_type": "stream",
     "text": [
      "Handle present proof\n",
      "{'presentation_request_dict': {'@type': 'did:sov:BzCbsNYhMrjHiqZDTUASHg;spec/present-proof/1.0/request-presentation', '@id': '007966be-9db0-4a23-8693-3944b075700d', 'request_presentations~attach': [{'@id': 'libindy-request-presentation-0', 'mime-type': 'application/json', 'data': {'base64': 'eyJuYW1lIjogIlByb29mIG9mIENvbXBsZXRpb24gb2YgUHlEZW50aXR5IFNTSSBUdXRvcmlhbCIsICJ2ZXJzaW9uIjogIjEuMCIsICJyZXF1ZXN0ZWRfYXR0cmlidXRlcyI6IHsiMF9mdWxsbmFtZV91dWlkIjogeyJuYW1lIjogImZ1bGxuYW1lIiwgInJlc3RyaWN0aW9ucyI6IFt7InNjaGVtYV9pZCI6ICJFdUV0blZha1lGeUJ0R0ZUMW5IWXRIOjI6U1NJIFB5RGVudGl0eSBUdXRvcmlhbDowLjAuMSJ9XX0sICIwX3NraWxsX3V1aWQiOiB7Im5hbWUiOiAic2tpbGwiLCAicmVzdHJpY3Rpb25zIjogW3sic2NoZW1hX2lkIjogIkV1RXRuVmFrWUZ5QnRHRlQxbkhZdEg6MjpTU0kgUHlEZW50aXR5IFR1dG9yaWFsOjAuMC4xIn1dfSwgIjBfY291bnRyeV91dWlkIjogeyJuYW1lIjogImNvdW50cnkifX0sICJyZXF1ZXN0ZWRfcHJlZGljYXRlcyI6IHsiMF9hZ2VfR0VfdXVpZCI6IHsibmFtZSI6ICJhZ2UiLCAicF90eXBlIjogIj49IiwgInBfdmFsdWUiOiAyMSwgInJlc3RyaWN0aW9ucyI6IFt7InNjaGVtYV9pZCI6ICJFdUV0blZha1lGeUJ0R0ZUMW5IWXRIOjI6U1NJIFB5RGVudGl0eSBUdXRvcmlhbDowLjAuMSJ9XX19LCAibm9uY2UiOiAiNDMwODYwODc4MzU4NTEzNzYxNTk0OTg1In0='}}]}, 'presentation': {'proof': {'proofs': [{'primary_proof': {'eq_proof': {'revealed_attrs': {'fullname': '65692680133235931683304645877785134421502393178184295996723213988805392923415', 'skill': '38813097173523343342121686954087857232940954656654688676222283577873518606251'}, 'a_prime': '80358576507414685153535323650038659857100405054073394246152738530237525482135218906620742409163930949992701556579978269806267802473591757796238418201606923535377629672333477785773965542368046854013445556803659754720688158051577496874380680854318474908601049677712701014967129543362140096346152069430791826420954247503721176626356948753645171415761480293084189580017814733328553012219284734726373164303473254565586371419445462191964239909242595109777832492517525045460162419661382758346087623102571848535152536798227345531552479242954240797062113399499732906553967222222943500441535196530222759803179671452255454994810', 'e': '51694478935964489707245233415130752126585251127631385919852859814500472569501322565586776030878433202808795087304621109203823394463478999', 'v': '682531921688038867678005669912748031083870042003017366085933694698225960599419873258234611465236787632217788477197224538471743922038296060059545124575416197799028857642703897655564701613103155164547682391977856327783162756385393149458761960994646215432176789035116295755204572386287124636921271887600578648260618541805097426224820384768526411606961243407177484738668698401842722791828578986035254668516062551713616898107733042761858959604286579966245293453538184689738039116822960030833139202958789841522249055248297158302186836344004664162701427284208744592954864655657723999356949833340030498129473552985838657517586759212810194599813420354479187316179249247775735096559782475522439894852739936459727274076543544676581376339906717602971256985942943407166263816282292460649305029944395652179887687204146855699117078201979827380006354731237578499120255700900716532874162914616968505798873595945774271792402751399548331595', 'm': {'age': '834734457642875641547780798062288135513406011309510166245988295920426531077970242946526907877411984442873395402667674895237455832337135239336210960755147124331987639082123797587', 'master_secret': '4221305889617399458029513815408087305378563518632221464377620477447237867716425578039825810597513807953061708765799083822643344647438909420494780448958318675747757215547434888851'}, 'm2': '14069461293241541344505370324722386459402995252927857916713886583061421681039172039372562840618574135226974841574149361817869112431943307359316050022377082954541286938185125384879'}, 'ge_proofs': [{'u': {'0': '14744351561657888617065085777839011760977130622238731076485854511433699918380005017237864996892832098893077036119671885759021123508284997507472564438378136791641263162679708979503', '1': '6964795877310848849729041377795088038955953795303976732933179603926887524788472870561274046821503794447044039875935424351962974902161500922405558756556433888070214746474721787242', '3': '2693552665313434281802870368009461826321707993625673975828030336963933079408726394680764163798067217195052002418391833779607708958368843475814679657354787189306807547490509726861', '2': '13554992879185541074697807584766895356394250621209124577571875803660563655348283707720221786109079460696786323362741015188431591628089737894106590881013388251774805939317266878245'}, 'r': {'3': '1118435719922970959106450370112046722803660741785839500469153024735965470103002690999747362702781542501822313951121163733666098532696817922106994460725285060290388260093183367999969247707728198344864578159475428983139390933797541060883563580992948430240147071931589307296741603468921630845767313747894076019761994666308974253183431840704433989077778874306659099865700939424480468443657392179005532816821106671738609580203739418808405992771213676965602494174904020986512607704098754763248755742576400124593936563914830635793594549365893749993408437771837198341578659689289483165167497305294489213041583595154053718065555865694300595860662455097427186329978632108884582281603042450170508094594244292183911700273243556762', 'DELTA': '507269221516188220035294534820915119375287749909100484729683377761297978183735471469122206340654428764879380569166775091996445063605131572694103398691049778919481876287981741971979950789198924259401143587498684856927815452337331670154510654630016031234029829057161331805145544585700946214227743600601323010584444955276552804702438386476536850998157778686089623588016470972600866285923051691724108033798717555153206478684323150774818371695182319937175711929902090411373439831501301567902616740141366311173778606018000380524793915086333480910635672900920149305917255943361864584571170340219798289344428205244027296140189039981212260388683704336592825577526906866837604120692736404555926089056929061002996158098822551823', '0': '891141198181590621310530934311859315331440407378722823097932439970499155934882743154748806858141561464450305984860055308884721875420548090630095501050944169982718909052576477701625105940268881117831476949103004115967800306884246203778930399611844877565226475592055774248707322193597267726088078770809405116880189808704856021509282365873587849938610492759259560751595484476293531975005222367978491250581564406082573668202928677578988869935054051028236728587377467409658208174223184002763761507452376002931303919038688834257370844297034808765644827023692110495762901093900204818243970047061942725336118754324238903980132135153867662268477199792066211717948409095019083345157907955515723942647224625296875370659585063668', '1': '521659730219261084620105293483422187555603397938265517294900831171066976887954312397968052438255694638649191784817349246803826385904642502130750863640563638789991194420194674850292861688746576690436549409248241119335530403006852331550289441564744494311652346280278960235289693978378942846788665550585345519599420380344865008064300630982390473830914465874540041413037199354514333253134337488386912649791864254424683327473804889882966194457684832347490403115413881711532751519405843874990865813201934940545058757927232422665956968081057786806575133123538071538507131403854584230697857258545673037949614409233961735326000764886410730354466361906981469990279160145993572511500658206702773740088257480273229126235937376336', '2': '598493060462492481174051997508111361320474109770876936625596783732611300294579278709969956321788968770284705539566993484179053796814308961714913404009409843907655502172288489061289952820160368739653359245506643862849331336595103630338191930405483394214465918922237430188177262480004767747746072478243963576642938040368243845252139962672093604673684250593745150859714333134379458132654877180211457088791665687912830177069131840431358129002938595711706103703515537882500065403282112654416106169923139992604251365520163340960168504773317848891669440852993354426731776891944638751770245620082669415269309782966394472747239238021643453206839198790015172872193009637540644722507992898001568811485213583248071094896435157453'}, 'mj': '834734457642875641547780798062288135513406011309510166245988295920426531077970242946526907877411984442873395402667674895237455832337135239336210960755147124331987639082123797587', 'alpha': '58837122463604487068023669565296610218557135493317155922307094939175052412313972395212374198879501491916533701225998776008439831662665724373158088275414469945588313408080538618865233379813323558992753552976298238370968960209085094197313210658979306855310106652782340010903400399404834324149221566508649173485915203207170596777255265375756333566557582559602836917746053633242740260412494678657366551960236315120826615837755348998708678184648634894029816857565972666166776261581456367236204658588969180070999056726746289202938554015482176146494827035147389527815946272804291482499242612411155565470035680354753836976525481216534388468334790923365178095365643890817200043887874781820644269811512340766367345363718100277602927022033026338707925680677483444195953687834407422063678740438932479810444794324776826726955445456077039501739800546874', 't': {'1': '27525055120189289205434657380652560712411320450632058304457717323741869122195742242347735540406666664540033247815977209096019061492311525731644022542126760033086593824304498538687941229591455773275849744101111979337566044130772678368526916564102644196093229475690644313686992123991386096955075752340148962699343436256411218849516103258158119950213321003224485191456816667879018568431873189615427511535556487724326506921517200615263066361632257616993499455257896003312895040703305405866473454036878677932495552094258976934059115408448781713884739390919027659843510968817387574377324727147120023241629878094619802790222', 'DELTA': '32980940619622253716374890330960912287186787442805806708390951213604435279197582054447652848438618353054312380406168741309183107256708513580110165673064047160568626439147480756393855568487299795016803275409829423549441257776266102417018895353475468088150049979859624880570151505811845379162603952521152939568560013088409421026525003280338166950798499235637246245523665411497321735536967560820223589818076079196096734928880094871768292516913932799364495739696031669764091672441717981415404956294386050957222864521436087786989519322327880462628913565313600775669250446001896233975413340767395547662541943139172843254994', '3': '67687528719097281889564396051070363020354396780636826400938054914370205485166936368704673046761286155693633030498147381641858713356694667362053694886239143477196382106133252011478778542088521309178430696841244798684739355675283954481713032608268117763072206916303604154697044830743008594052307473682724709418634806998554378502647052414966334505591618543093671891740796944361220339530982964682422057496211622004351539964964013674580888749670060252059412850632331654051251430200291038384440347995419399291061337492872362872578917044692573185632475702830655576759105364751701594415370604877076149933300180676064388765209', '0': '59253904329495374650084463585468988944322246819754789555768053893234844773719221991586701285983070343734402507089467540163648164763332606413806752417320806646693792337398955407672598486941504435541480651525411562797174610721641403439711077517283192197492298463992372627489949905719193683411869090697194027687065436435978037691985538717173429875200699734096341549390680977431565396836075833115256817551885064975430798091450883191856739661922503997625347332181047848441962342130012636050877805686622495621537683947920312685908290366272205566130901073348351299316212461632138380787686849484936623675085187049817566233045', '2': '31853223650037006268011840353514704636699702234697438088077413999537219950672871665645579453871271216862897913732385413450481845708973167407303673798667767043668204644651470588876428384157532905661610855542309848255359185171497635563713664749201721143943973449468257695480164875553019336350114962713685770739070661615639866456249828358148103393544590811381845699351176772283013977530801698655508464348483435052163615672078840449866099534702013524599982217724955304616596333044673667382617876219716177384087299201748553805619697774157243772919723187317560604643321224261327142908621160929924267776514806253145512066653'}, 'predicate': {'attr_name': 'age', 'p_type': 'GE', 'value': 21}}]}, 'non_revoc_proof': None}], 'aggregated_proof': {'c_hash': '29966068359621869848362371286154154529389872727533159883286175983878072679570', 'c_list': [[2, 124, 144, 2, 219, 72, 114, 164, 245, 207, 197, 66, 25, 159, 32, 49, 19, 125, 49, 189, 42, 138, 242, 179, 162, 5, 246, 155, 60, 90, 28, 241, 238, 160, 111, 157, 179, 118, 179, 159, 12, 30, 160, 233, 88, 236, 47, 157, 116, 1, 93, 72, 111, 196, 197, 6, 184, 91, 57, 57, 190, 192, 135, 177, 147, 52, 142, 12, 202, 239, 87, 98, 146, 5, 142, 146, 15, 182, 170, 0, 112, 58, 147, 128, 165, 93, 221, 102, 221, 111, 154, 1, 69, 141, 55, 203, 82, 79, 227, 32, 79, 79, 155, 35, 143, 141, 120, 185, 31, 140, 34, 212, 234, 183, 230, 31, 122, 174, 75, 49, 15, 86, 76, 12, 134, 107, 110, 163, 90, 104, 222, 62, 236, 18, 57, 147, 135, 153, 190, 219, 190, 21, 233, 185, 73, 19, 205, 182, 242, 35, 208, 225, 22, 58, 33, 124, 237, 44, 35, 41, 226, 236, 220, 19, 139, 31, 189, 37, 185, 137, 88, 98, 241, 25, 137, 51, 131, 251, 212, 56, 227, 187, 224, 2, 100, 152, 55, 15, 50, 163, 128, 38, 55, 220, 198, 60, 104, 129, 11, 226, 133, 78, 123, 87, 3, 130, 128, 192, 31, 122, 43, 222, 165, 11, 252, 83, 61, 246, 228, 104, 205, 254, 12, 240, 209, 54, 162, 8, 115, 27, 114, 71, 176, 64, 3, 53, 100, 241, 172, 149, 3, 201, 175, 227, 45, 209, 108, 17, 232, 38, 34, 118, 118, 51, 211, 161, 122], [1, 213, 97, 159, 72, 107, 250, 166, 8, 129, 29, 93, 70, 108, 169, 15, 218, 30, 77, 204, 134, 125, 241, 33, 5, 52, 172, 238, 187, 192, 3, 98, 39, 150, 123, 134, 128, 233, 141, 113, 254, 114, 99, 197, 80, 27, 236, 53, 123, 138, 145, 123, 232, 53, 64, 135, 165, 216, 139, 233, 239, 99, 194, 105, 42, 63, 144, 159, 88, 102, 236, 198, 213, 112, 229, 29, 185, 210, 6, 3, 93, 184, 217, 227, 11, 93, 102, 252, 120, 214, 182, 69, 31, 13, 2, 187, 29, 79, 199, 55, 156, 249, 8, 24, 67, 232, 179, 77, 114, 104, 248, 132, 66, 103, 61, 123, 32, 229, 148, 65, 120, 159, 161, 168, 115, 171, 82, 219, 205, 193, 62, 162, 233, 111, 24, 170, 182, 30, 233, 110, 140, 26, 43, 188, 104, 102, 231, 253, 33, 87, 76, 82, 199, 71, 137, 197, 40, 96, 243, 156, 99, 9, 248, 248, 124, 116, 150, 55, 211, 246, 216, 242, 230, 48, 216, 13, 62, 80, 183, 107, 79, 237, 219, 86, 56, 55, 21, 64, 1, 65, 216, 25, 32, 213, 190, 206, 180, 158, 91, 153, 47, 194, 22, 247, 53, 29, 129, 202, 53, 222, 82, 234, 65, 0, 123, 195, 207, 203, 11, 237, 130, 125, 142, 167, 12, 101, 8, 84, 200, 13, 89, 112, 46, 235, 98, 106, 226, 246, 141, 74, 241, 28, 240, 52, 125, 10, 84, 223, 14, 15, 106, 139, 152, 14, 106, 65, 213], [218, 10, 90, 12, 53, 176, 161, 194, 22, 216, 3, 131, 233, 86, 76, 209, 82, 149, 129, 46, 160, 158, 7, 54, 222, 181, 158, 83, 119, 24, 217, 213, 185, 208, 191, 22, 255, 151, 227, 227, 102, 201, 157, 28, 230, 195, 158, 30, 32, 153, 214, 200, 211, 255, 34, 158, 65, 34, 242, 81, 65, 69, 216, 20, 46, 252, 137, 205, 65, 21, 224, 136, 41, 140, 53, 143, 228, 139, 43, 241, 96, 134, 247, 37, 214, 63, 127, 141, 67, 246, 234, 67, 190, 192, 162, 92, 100, 87, 80, 232, 77, 79, 77, 160, 250, 17, 218, 46, 178, 142, 19, 172, 253, 214, 79, 178, 21, 250, 62, 18, 45, 226, 183, 191, 65, 65, 218, 205, 172, 96, 144, 119, 106, 129, 223, 210, 49, 154, 20, 59, 157, 25, 24, 35, 152, 229, 223, 192, 118, 37, 179, 234, 190, 129, 125, 68, 32, 82, 143, 230, 247, 226, 122, 126, 210, 197, 57, 154, 151, 206, 183, 159, 48, 213, 246, 243, 119, 76, 41, 181, 224, 105, 232, 176, 202, 31, 196, 241, 68, 234, 233, 224, 136, 63, 84, 31, 46, 124, 5, 96, 39, 120, 19, 9, 194, 104, 38, 198, 101, 177, 67, 34, 112, 90, 243, 144, 2, 251, 187, 137, 42, 228, 175, 52, 243, 85, 252, 33, 89, 47, 233, 17, 179, 137, 150, 31, 117, 7, 100, 30, 45, 22, 244, 85, 227, 121, 113, 14, 32, 195, 148, 167, 88, 218, 233, 78], [252, 83, 125, 158, 130, 166, 183, 161, 60, 162, 114, 2, 165, 138, 70, 107, 253, 16, 158, 234, 40, 142, 69, 51, 173, 109, 236, 18, 59, 32, 118, 122, 143, 34, 141, 141, 129, 214, 165, 237, 4, 129, 1, 33, 183, 84, 62, 25, 10, 158, 173, 22, 229, 159, 154, 228, 157, 130, 205, 226, 44, 138, 195, 142, 52, 85, 153, 107, 57, 152, 149, 168, 94, 24, 217, 80, 173, 89, 203, 48, 239, 12, 162, 92, 87, 24, 48, 105, 248, 151, 246, 14, 195, 126, 186, 2, 203, 53, 124, 69, 138, 148, 171, 197, 50, 70, 241, 80, 244, 198, 240, 199, 137, 96, 202, 190, 21, 107, 98, 186, 61, 28, 111, 22, 173, 156, 140, 134, 63, 13, 132, 25, 245, 114, 84, 191, 89, 125, 225, 68, 25, 39, 216, 72, 207, 253, 56, 101, 207, 189, 82, 145, 57, 210, 193, 128, 59, 229, 187, 87, 15, 216, 6, 14, 158, 129, 118, 81, 215, 11, 193, 15, 195, 51, 123, 205, 77, 192, 240, 159, 244, 5, 217, 51, 159, 110, 66, 162, 153, 37, 191, 56, 141, 77, 241, 109, 13, 210, 95, 224, 180, 56, 9, 161, 103, 161, 105, 99, 164, 232, 15, 240, 186, 33, 9, 12, 221, 65, 121, 97, 66, 28, 94, 25, 250, 164, 220, 1, 82, 186, 5, 68, 28, 38, 162, 111, 195, 165, 13, 188, 39, 66, 29, 171, 93, 119, 243, 30, 62, 156, 84, 70, 72, 17, 190, 93], [2, 24, 48, 66, 58, 224, 246, 69, 189, 198, 63, 58, 226, 128, 233, 223, 150, 186, 252, 154, 162, 55, 51, 250, 137, 160, 101, 84, 190, 78, 66, 98, 115, 119, 161, 16, 231, 109, 80, 136, 94, 152, 84, 13, 248, 61, 167, 75, 139, 247, 140, 203, 134, 142, 35, 89, 21, 88, 157, 128, 136, 117, 33, 55, 196, 119, 154, 137, 108, 128, 184, 20, 151, 254, 105, 8, 88, 36, 89, 10, 204, 142, 218, 228, 219, 29, 13, 220, 38, 124, 94, 73, 250, 216, 16, 218, 113, 171, 254, 209, 194, 75, 9, 18, 232, 183, 75, 209, 105, 155, 245, 186, 163, 156, 148, 48, 181, 248, 125, 109, 40, 135, 71, 81, 192, 228, 120, 211, 212, 215, 118, 103, 60, 84, 135, 46, 76, 197, 229, 61, 131, 13, 32, 31, 104, 93, 187, 44, 19, 75, 207, 159, 76, 21, 131, 71, 202, 116, 103, 121, 6, 2, 83, 209, 117, 119, 125, 139, 238, 14, 13, 92, 109, 55, 25, 122, 218, 104, 97, 231, 222, 84, 251, 98, 191, 240, 131, 64, 135, 91, 11, 64, 184, 151, 139, 218, 252, 22, 80, 156, 73, 99, 228, 206, 12, 116, 183, 33, 172, 230, 105, 248, 130, 146, 114, 94, 180, 178, 105, 237, 190, 149, 129, 226, 152, 136, 47, 80, 66, 39, 107, 153, 41, 139, 46, 153, 254, 102, 209, 87, 199, 0, 227, 58, 98, 43, 56, 92, 50, 3, 172, 198, 177, 184, 158, 214, 25], [1, 5, 66, 102, 97, 127, 255, 9, 180, 115, 35, 44, 100, 191, 245, 229, 186, 195, 134, 206, 169, 196, 138, 38, 120, 224, 252, 147, 220, 235, 68, 165, 217, 81, 63, 47, 26, 4, 48, 238, 224, 32, 162, 123, 79, 145, 7, 141, 245, 135, 239, 136, 101, 210, 255, 187, 21, 199, 244, 173, 246, 67, 221, 214, 146, 229, 46, 205, 201, 219, 171, 178, 64, 49, 228, 241, 171, 234, 162, 140, 100, 164, 27, 22, 76, 23, 197, 248, 168, 39, 27, 72, 201, 27, 1, 234, 0, 194, 209, 239, 153, 164, 164, 142, 205, 91, 165, 99, 83, 81, 13, 4, 83, 252, 105, 196, 26, 143, 120, 182, 160, 227, 159, 218, 216, 48, 143, 179, 106, 161, 19, 233, 140, 46, 230, 176, 224, 165, 214, 48, 167, 185, 28, 67, 178, 133, 245, 215, 201, 71, 138, 196, 160, 58, 96, 38, 252, 0, 3, 157, 108, 177, 191, 45, 111, 111, 107, 26, 199, 29, 131, 108, 113, 79, 195, 54, 231, 29, 134, 108, 89, 176, 117, 246, 126, 214, 233, 133, 111, 41, 146, 134, 59, 1, 85, 24, 227, 146, 14, 7, 38, 153, 2, 45, 28, 43, 250, 76, 140, 125, 0, 200, 109, 138, 226, 187, 197, 148, 23, 52, 154, 130, 162, 173, 49, 45, 68, 218, 98, 242, 115, 110, 197, 177, 158, 160, 149, 131, 17, 97, 34, 41, 106, 37, 44, 195, 159, 15, 180, 239, 157, 53, 145, 214, 39, 244, 210]]}}, 'requested_proof': {'revealed_attrs': {'0_skill_uuid': {'sub_proof_index': 0, 'raw': 'PyDentity SSI Ninja', 'encoded': '38813097173523343342121686954087857232940954656654688676222283577873518606251'}, '0_fullname_uuid': {'sub_proof_index': 0, 'raw': 'Lohan Spies', 'encoded': '65692680133235931683304645877785134421502393178184295996723213988805392923415'}}, 'self_attested_attrs': {}, 'unrevealed_attrs': {}, 'predicates': {'0_age_GE_uuid': {'sub_proof_index': 0}}}, 'identifiers': [{'schema_id': 'EuEtnVakYFyBtGFT1nHYtH:2:SSI PyDentity Tutorial:0.0.1', 'cred_def_id': 'WEhNYuEVXBo1GXec4ZuMmu:3:CL:142409:default', 'rev_reg_id': None, 'timestamp': None}]}, 'verified': 'false', 'role': 'verifier', 'auto_present': False, 'connection_id': 'bcce7c86-bb24-42f4-b1e0-e24b23c9f8af', 'updated_at': '2020-09-22 09:28:47.190398Z', 'presentation_exchange_id': '309e61a5-5407-4759-9b5d-3660da675174', 'presentation_request': {'name': 'Proof of Completion of PyDentity SSI Tutorial', 'version': '1.0', 'requested_attributes': {'0_fullname_uuid': {'name': 'fullname', 'restrictions': [{'schema_id': 'EuEtnVakYFyBtGFT1nHYtH:2:SSI PyDentity Tutorial:0.0.1'}]}, '0_skill_uuid': {'name': 'skill', 'restrictions': [{'schema_id': 'EuEtnVakYFyBtGFT1nHYtH:2:SSI PyDentity Tutorial:0.0.1'}]}, '0_country_uuid': {'name': 'country'}}, 'requested_predicates': {'0_age_GE_uuid': {'name': 'age', 'p_type': '>=', 'p_value': 21, 'restrictions': [{'schema_id': 'EuEtnVakYFyBtGFT1nHYtH:2:SSI PyDentity Tutorial:0.0.1'}]}}, 'nonce': '430860878358513761594985'}, 'initiator': 'self', 'trace': False, 'created_at': '2020-09-22 09:28:26.113191Z', 'thread_id': '007966be-9db0-4a23-8693-3944b075700d', 'state': 'verified'}\n",
      "{'presentation_request_dict': {'@type': 'did:sov:BzCbsNYhMrjHiqZDTUASHg;spec/present-proof/1.0/request-presentation', '@id': '007966be-9db0-4a23-8693-3944b075700d', 'request_presentations~attach': [{'@id': 'libindy-request-presentation-0', 'mime-type': 'application/json', 'data': {'base64': 'eyJuYW1lIjogIlByb29mIG9mIENvbXBsZXRpb24gb2YgUHlEZW50aXR5IFNTSSBUdXRvcmlhbCIsICJ2ZXJzaW9uIjogIjEuMCIsICJyZXF1ZXN0ZWRfYXR0cmlidXRlcyI6IHsiMF9mdWxsbmFtZV91dWlkIjogeyJuYW1lIjogImZ1bGxuYW1lIiwgInJlc3RyaWN0aW9ucyI6IFt7InNjaGVtYV9pZCI6ICJFdUV0blZha1lGeUJ0R0ZUMW5IWXRIOjI6U1NJIFB5RGVudGl0eSBUdXRvcmlhbDowLjAuMSJ9XX0sICIwX3NraWxsX3V1aWQiOiB7Im5hbWUiOiAic2tpbGwiLCAicmVzdHJpY3Rpb25zIjogW3sic2NoZW1hX2lkIjogIkV1RXRuVmFrWUZ5QnRHRlQxbkhZdEg6MjpTU0kgUHlEZW50aXR5IFR1dG9yaWFsOjAuMC4xIn1dfSwgIjBfY291bnRyeV91dWlkIjogeyJuYW1lIjogImNvdW50cnkifX0sICJyZXF1ZXN0ZWRfcHJlZGljYXRlcyI6IHsiMF9hZ2VfR0VfdXVpZCI6IHsibmFtZSI6ICJhZ2UiLCAicF90eXBlIjogIj49IiwgInBfdmFsdWUiOiAyMSwgInJlc3RyaWN0aW9ucyI6IFt7InNjaGVtYV9pZCI6ICJFdUV0blZha1lGeUJ0R0ZUMW5IWXRIOjI6U1NJIFB5RGVudGl0eSBUdXRvcmlhbDowLjAuMSJ9XX19LCAibm9uY2UiOiAiNDMwODYwODc4MzU4NTEzNzYxNTk0OTg1In0='}}]}, 'presentation': {'proof': {'proofs': [{'primary_proof': {'eq_proof': {'revealed_attrs': {'fullname': '65692680133235931683304645877785134421502393178184295996723213988805392923415', 'skill': '38813097173523343342121686954087857232940954656654688676222283577873518606251'}, 'a_prime': '80358576507414685153535323650038659857100405054073394246152738530237525482135218906620742409163930949992701556579978269806267802473591757796238418201606923535377629672333477785773965542368046854013445556803659754720688158051577496874380680854318474908601049677712701014967129543362140096346152069430791826420954247503721176626356948753645171415761480293084189580017814733328553012219284734726373164303473254565586371419445462191964239909242595109777832492517525045460162419661382758346087623102571848535152536798227345531552479242954240797062113399499732906553967222222943500441535196530222759803179671452255454994810', 'e': '51694478935964489707245233415130752126585251127631385919852859814500472569501322565586776030878433202808795087304621109203823394463478999', 'v': '682531921688038867678005669912748031083870042003017366085933694698225960599419873258234611465236787632217788477197224538471743922038296060059545124575416197799028857642703897655564701613103155164547682391977856327783162756385393149458761960994646215432176789035116295755204572386287124636921271887600578648260618541805097426224820384768526411606961243407177484738668698401842722791828578986035254668516062551713616898107733042761858959604286579966245293453538184689738039116822960030833139202958789841522249055248297158302186836344004664162701427284208744592954864655657723999356949833340030498129473552985838657517586759212810194599813420354479187316179249247775735096559782475522439894852739936459727274076543544676581376339906717602971256985942943407166263816282292460649305029944395652179887687204146855699117078201979827380006354731237578499120255700900716532874162914616968505798873595945774271792402751399548331595', 'm': {'age': '834734457642875641547780798062288135513406011309510166245988295920426531077970242946526907877411984442873395402667674895237455832337135239336210960755147124331987639082123797587', 'master_secret': '4221305889617399458029513815408087305378563518632221464377620477447237867716425578039825810597513807953061708765799083822643344647438909420494780448958318675747757215547434888851'}, 'm2': '14069461293241541344505370324722386459402995252927857916713886583061421681039172039372562840618574135226974841574149361817869112431943307359316050022377082954541286938185125384879'}, 'ge_proofs': [{'u': {'0': '14744351561657888617065085777839011760977130622238731076485854511433699918380005017237864996892832098893077036119671885759021123508284997507472564438378136791641263162679708979503', '1': '6964795877310848849729041377795088038955953795303976732933179603926887524788472870561274046821503794447044039875935424351962974902161500922405558756556433888070214746474721787242', '3': '2693552665313434281802870368009461826321707993625673975828030336963933079408726394680764163798067217195052002418391833779607708958368843475814679657354787189306807547490509726861', '2': '13554992879185541074697807584766895356394250621209124577571875803660563655348283707720221786109079460696786323362741015188431591628089737894106590881013388251774805939317266878245'}, 'r': {'3': '1118435719922970959106450370112046722803660741785839500469153024735965470103002690999747362702781542501822313951121163733666098532696817922106994460725285060290388260093183367999969247707728198344864578159475428983139390933797541060883563580992948430240147071931589307296741603468921630845767313747894076019761994666308974253183431840704433989077778874306659099865700939424480468443657392179005532816821106671738609580203739418808405992771213676965602494174904020986512607704098754763248755742576400124593936563914830635793594549365893749993408437771837198341578659689289483165167497305294489213041583595154053718065555865694300595860662455097427186329978632108884582281603042450170508094594244292183911700273243556762', 'DELTA': '507269221516188220035294534820915119375287749909100484729683377761297978183735471469122206340654428764879380569166775091996445063605131572694103398691049778919481876287981741971979950789198924259401143587498684856927815452337331670154510654630016031234029829057161331805145544585700946214227743600601323010584444955276552804702438386476536850998157778686089623588016470972600866285923051691724108033798717555153206478684323150774818371695182319937175711929902090411373439831501301567902616740141366311173778606018000380524793915086333480910635672900920149305917255943361864584571170340219798289344428205244027296140189039981212260388683704336592825577526906866837604120692736404555926089056929061002996158098822551823', '0': '891141198181590621310530934311859315331440407378722823097932439970499155934882743154748806858141561464450305984860055308884721875420548090630095501050944169982718909052576477701625105940268881117831476949103004115967800306884246203778930399611844877565226475592055774248707322193597267726088078770809405116880189808704856021509282365873587849938610492759259560751595484476293531975005222367978491250581564406082573668202928677578988869935054051028236728587377467409658208174223184002763761507452376002931303919038688834257370844297034808765644827023692110495762901093900204818243970047061942725336118754324238903980132135153867662268477199792066211717948409095019083345157907955515723942647224625296875370659585063668', '1': '521659730219261084620105293483422187555603397938265517294900831171066976887954312397968052438255694638649191784817349246803826385904642502130750863640563638789991194420194674850292861688746576690436549409248241119335530403006852331550289441564744494311652346280278960235289693978378942846788665550585345519599420380344865008064300630982390473830914465874540041413037199354514333253134337488386912649791864254424683327473804889882966194457684832347490403115413881711532751519405843874990865813201934940545058757927232422665956968081057786806575133123538071538507131403854584230697857258545673037949614409233961735326000764886410730354466361906981469990279160145993572511500658206702773740088257480273229126235937376336', '2': '598493060462492481174051997508111361320474109770876936625596783732611300294579278709969956321788968770284705539566993484179053796814308961714913404009409843907655502172288489061289952820160368739653359245506643862849331336595103630338191930405483394214465918922237430188177262480004767747746072478243963576642938040368243845252139962672093604673684250593745150859714333134379458132654877180211457088791665687912830177069131840431358129002938595711706103703515537882500065403282112654416106169923139992604251365520163340960168504773317848891669440852993354426731776891944638751770245620082669415269309782966394472747239238021643453206839198790015172872193009637540644722507992898001568811485213583248071094896435157453'}, 'mj': '834734457642875641547780798062288135513406011309510166245988295920426531077970242946526907877411984442873395402667674895237455832337135239336210960755147124331987639082123797587', 'alpha': '58837122463604487068023669565296610218557135493317155922307094939175052412313972395212374198879501491916533701225998776008439831662665724373158088275414469945588313408080538618865233379813323558992753552976298238370968960209085094197313210658979306855310106652782340010903400399404834324149221566508649173485915203207170596777255265375756333566557582559602836917746053633242740260412494678657366551960236315120826615837755348998708678184648634894029816857565972666166776261581456367236204658588969180070999056726746289202938554015482176146494827035147389527815946272804291482499242612411155565470035680354753836976525481216534388468334790923365178095365643890817200043887874781820644269811512340766367345363718100277602927022033026338707925680677483444195953687834407422063678740438932479810444794324776826726955445456077039501739800546874', 't': {'1': '27525055120189289205434657380652560712411320450632058304457717323741869122195742242347735540406666664540033247815977209096019061492311525731644022542126760033086593824304498538687941229591455773275849744101111979337566044130772678368526916564102644196093229475690644313686992123991386096955075752340148962699343436256411218849516103258158119950213321003224485191456816667879018568431873189615427511535556487724326506921517200615263066361632257616993499455257896003312895040703305405866473454036878677932495552094258976934059115408448781713884739390919027659843510968817387574377324727147120023241629878094619802790222', 'DELTA': '32980940619622253716374890330960912287186787442805806708390951213604435279197582054447652848438618353054312380406168741309183107256708513580110165673064047160568626439147480756393855568487299795016803275409829423549441257776266102417018895353475468088150049979859624880570151505811845379162603952521152939568560013088409421026525003280338166950798499235637246245523665411497321735536967560820223589818076079196096734928880094871768292516913932799364495739696031669764091672441717981415404956294386050957222864521436087786989519322327880462628913565313600775669250446001896233975413340767395547662541943139172843254994', '3': '67687528719097281889564396051070363020354396780636826400938054914370205485166936368704673046761286155693633030498147381641858713356694667362053694886239143477196382106133252011478778542088521309178430696841244798684739355675283954481713032608268117763072206916303604154697044830743008594052307473682724709418634806998554378502647052414966334505591618543093671891740796944361220339530982964682422057496211622004351539964964013674580888749670060252059412850632331654051251430200291038384440347995419399291061337492872362872578917044692573185632475702830655576759105364751701594415370604877076149933300180676064388765209', '0': '59253904329495374650084463585468988944322246819754789555768053893234844773719221991586701285983070343734402507089467540163648164763332606413806752417320806646693792337398955407672598486941504435541480651525411562797174610721641403439711077517283192197492298463992372627489949905719193683411869090697194027687065436435978037691985538717173429875200699734096341549390680977431565396836075833115256817551885064975430798091450883191856739661922503997625347332181047848441962342130012636050877805686622495621537683947920312685908290366272205566130901073348351299316212461632138380787686849484936623675085187049817566233045', '2': '31853223650037006268011840353514704636699702234697438088077413999537219950672871665645579453871271216862897913732385413450481845708973167407303673798667767043668204644651470588876428384157532905661610855542309848255359185171497635563713664749201721143943973449468257695480164875553019336350114962713685770739070661615639866456249828358148103393544590811381845699351176772283013977530801698655508464348483435052163615672078840449866099534702013524599982217724955304616596333044673667382617876219716177384087299201748553805619697774157243772919723187317560604643321224261327142908621160929924267776514806253145512066653'}, 'predicate': {'attr_name': 'age', 'p_type': 'GE', 'value': 21}}]}, 'non_revoc_proof': None}], 'aggregated_proof': {'c_hash': '29966068359621869848362371286154154529389872727533159883286175983878072679570', 'c_list': [[2, 124, 144, 2, 219, 72, 114, 164, 245, 207, 197, 66, 25, 159, 32, 49, 19, 125, 49, 189, 42, 138, 242, 179, 162, 5, 246, 155, 60, 90, 28, 241, 238, 160, 111, 157, 179, 118, 179, 159, 12, 30, 160, 233, 88, 236, 47, 157, 116, 1, 93, 72, 111, 196, 197, 6, 184, 91, 57, 57, 190, 192, 135, 177, 147, 52, 142, 12, 202, 239, 87, 98, 146, 5, 142, 146, 15, 182, 170, 0, 112, 58, 147, 128, 165, 93, 221, 102, 221, 111, 154, 1, 69, 141, 55, 203, 82, 79, 227, 32, 79, 79, 155, 35, 143, 141, 120, 185, 31, 140, 34, 212, 234, 183, 230, 31, 122, 174, 75, 49, 15, 86, 76, 12, 134, 107, 110, 163, 90, 104, 222, 62, 236, 18, 57, 147, 135, 153, 190, 219, 190, 21, 233, 185, 73, 19, 205, 182, 242, 35, 208, 225, 22, 58, 33, 124, 237, 44, 35, 41, 226, 236, 220, 19, 139, 31, 189, 37, 185, 137, 88, 98, 241, 25, 137, 51, 131, 251, 212, 56, 227, 187, 224, 2, 100, 152, 55, 15, 50, 163, 128, 38, 55, 220, 198, 60, 104, 129, 11, 226, 133, 78, 123, 87, 3, 130, 128, 192, 31, 122, 43, 222, 165, 11, 252, 83, 61, 246, 228, 104, 205, 254, 12, 240, 209, 54, 162, 8, 115, 27, 114, 71, 176, 64, 3, 53, 100, 241, 172, 149, 3, 201, 175, 227, 45, 209, 108, 17, 232, 38, 34, 118, 118, 51, 211, 161, 122], [1, 213, 97, 159, 72, 107, 250, 166, 8, 129, 29, 93, 70, 108, 169, 15, 218, 30, 77, 204, 134, 125, 241, 33, 5, 52, 172, 238, 187, 192, 3, 98, 39, 150, 123, 134, 128, 233, 141, 113, 254, 114, 99, 197, 80, 27, 236, 53, 123, 138, 145, 123, 232, 53, 64, 135, 165, 216, 139, 233, 239, 99, 194, 105, 42, 63, 144, 159, 88, 102, 236, 198, 213, 112, 229, 29, 185, 210, 6, 3, 93, 184, 217, 227, 11, 93, 102, 252, 120, 214, 182, 69, 31, 13, 2, 187, 29, 79, 199, 55, 156, 249, 8, 24, 67, 232, 179, 77, 114, 104, 248, 132, 66, 103, 61, 123, 32, 229, 148, 65, 120, 159, 161, 168, 115, 171, 82, 219, 205, 193, 62, 162, 233, 111, 24, 170, 182, 30, 233, 110, 140, 26, 43, 188, 104, 102, 231, 253, 33, 87, 76, 82, 199, 71, 137, 197, 40, 96, 243, 156, 99, 9, 248, 248, 124, 116, 150, 55, 211, 246, 216, 242, 230, 48, 216, 13, 62, 80, 183, 107, 79, 237, 219, 86, 56, 55, 21, 64, 1, 65, 216, 25, 32, 213, 190, 206, 180, 158, 91, 153, 47, 194, 22, 247, 53, 29, 129, 202, 53, 222, 82, 234, 65, 0, 123, 195, 207, 203, 11, 237, 130, 125, 142, 167, 12, 101, 8, 84, 200, 13, 89, 112, 46, 235, 98, 106, 226, 246, 141, 74, 241, 28, 240, 52, 125, 10, 84, 223, 14, 15, 106, 139, 152, 14, 106, 65, 213], [218, 10, 90, 12, 53, 176, 161, 194, 22, 216, 3, 131, 233, 86, 76, 209, 82, 149, 129, 46, 160, 158, 7, 54, 222, 181, 158, 83, 119, 24, 217, 213, 185, 208, 191, 22, 255, 151, 227, 227, 102, 201, 157, 28, 230, 195, 158, 30, 32, 153, 214, 200, 211, 255, 34, 158, 65, 34, 242, 81, 65, 69, 216, 20, 46, 252, 137, 205, 65, 21, 224, 136, 41, 140, 53, 143, 228, 139, 43, 241, 96, 134, 247, 37, 214, 63, 127, 141, 67, 246, 234, 67, 190, 192, 162, 92, 100, 87, 80, 232, 77, 79, 77, 160, 250, 17, 218, 46, 178, 142, 19, 172, 253, 214, 79, 178, 21, 250, 62, 18, 45, 226, 183, 191, 65, 65, 218, 205, 172, 96, 144, 119, 106, 129, 223, 210, 49, 154, 20, 59, 157, 25, 24, 35, 152, 229, 223, 192, 118, 37, 179, 234, 190, 129, 125, 68, 32, 82, 143, 230, 247, 226, 122, 126, 210, 197, 57, 154, 151, 206, 183, 159, 48, 213, 246, 243, 119, 76, 41, 181, 224, 105, 232, 176, 202, 31, 196, 241, 68, 234, 233, 224, 136, 63, 84, 31, 46, 124, 5, 96, 39, 120, 19, 9, 194, 104, 38, 198, 101, 177, 67, 34, 112, 90, 243, 144, 2, 251, 187, 137, 42, 228, 175, 52, 243, 85, 252, 33, 89, 47, 233, 17, 179, 137, 150, 31, 117, 7, 100, 30, 45, 22, 244, 85, 227, 121, 113, 14, 32, 195, 148, 167, 88, 218, 233, 78], [252, 83, 125, 158, 130, 166, 183, 161, 60, 162, 114, 2, 165, 138, 70, 107, 253, 16, 158, 234, 40, 142, 69, 51, 173, 109, 236, 18, 59, 32, 118, 122, 143, 34, 141, 141, 129, 214, 165, 237, 4, 129, 1, 33, 183, 84, 62, 25, 10, 158, 173, 22, 229, 159, 154, 228, 157, 130, 205, 226, 44, 138, 195, 142, 52, 85, 153, 107, 57, 152, 149, 168, 94, 24, 217, 80, 173, 89, 203, 48, 239, 12, 162, 92, 87, 24, 48, 105, 248, 151, 246, 14, 195, 126, 186, 2, 203, 53, 124, 69, 138, 148, 171, 197, 50, 70, 241, 80, 244, 198, 240, 199, 137, 96, 202, 190, 21, 107, 98, 186, 61, 28, 111, 22, 173, 156, 140, 134, 63, 13, 132, 25, 245, 114, 84, 191, 89, 125, 225, 68, 25, 39, 216, 72, 207, 253, 56, 101, 207, 189, 82, 145, 57, 210, 193, 128, 59, 229, 187, 87, 15, 216, 6, 14, 158, 129, 118, 81, 215, 11, 193, 15, 195, 51, 123, 205, 77, 192, 240, 159, 244, 5, 217, 51, 159, 110, 66, 162, 153, 37, 191, 56, 141, 77, 241, 109, 13, 210, 95, 224, 180, 56, 9, 161, 103, 161, 105, 99, 164, 232, 15, 240, 186, 33, 9, 12, 221, 65, 121, 97, 66, 28, 94, 25, 250, 164, 220, 1, 82, 186, 5, 68, 28, 38, 162, 111, 195, 165, 13, 188, 39, 66, 29, 171, 93, 119, 243, 30, 62, 156, 84, 70, 72, 17, 190, 93], [2, 24, 48, 66, 58, 224, 246, 69, 189, 198, 63, 58, 226, 128, 233, 223, 150, 186, 252, 154, 162, 55, 51, 250, 137, 160, 101, 84, 190, 78, 66, 98, 115, 119, 161, 16, 231, 109, 80, 136, 94, 152, 84, 13, 248, 61, 167, 75, 139, 247, 140, 203, 134, 142, 35, 89, 21, 88, 157, 128, 136, 117, 33, 55, 196, 119, 154, 137, 108, 128, 184, 20, 151, 254, 105, 8, 88, 36, 89, 10, 204, 142, 218, 228, 219, 29, 13, 220, 38, 124, 94, 73, 250, 216, 16, 218, 113, 171, 254, 209, 194, 75, 9, 18, 232, 183, 75, 209, 105, 155, 245, 186, 163, 156, 148, 48, 181, 248, 125, 109, 40, 135, 71, 81, 192, 228, 120, 211, 212, 215, 118, 103, 60, 84, 135, 46, 76, 197, 229, 61, 131, 13, 32, 31, 104, 93, 187, 44, 19, 75, 207, 159, 76, 21, 131, 71, 202, 116, 103, 121, 6, 2, 83, 209, 117, 119, 125, 139, 238, 14, 13, 92, 109, 55, 25, 122, 218, 104, 97, 231, 222, 84, 251, 98, 191, 240, 131, 64, 135, 91, 11, 64, 184, 151, 139, 218, 252, 22, 80, 156, 73, 99, 228, 206, 12, 116, 183, 33, 172, 230, 105, 248, 130, 146, 114, 94, 180, 178, 105, 237, 190, 149, 129, 226, 152, 136, 47, 80, 66, 39, 107, 153, 41, 139, 46, 153, 254, 102, 209, 87, 199, 0, 227, 58, 98, 43, 56, 92, 50, 3, 172, 198, 177, 184, 158, 214, 25], [1, 5, 66, 102, 97, 127, 255, 9, 180, 115, 35, 44, 100, 191, 245, 229, 186, 195, 134, 206, 169, 196, 138, 38, 120, 224, 252, 147, 220, 235, 68, 165, 217, 81, 63, 47, 26, 4, 48, 238, 224, 32, 162, 123, 79, 145, 7, 141, 245, 135, 239, 136, 101, 210, 255, 187, 21, 199, 244, 173, 246, 67, 221, 214, 146, 229, 46, 205, 201, 219, 171, 178, 64, 49, 228, 241, 171, 234, 162, 140, 100, 164, 27, 22, 76, 23, 197, 248, 168, 39, 27, 72, 201, 27, 1, 234, 0, 194, 209, 239, 153, 164, 164, 142, 205, 91, 165, 99, 83, 81, 13, 4, 83, 252, 105, 196, 26, 143, 120, 182, 160, 227, 159, 218, 216, 48, 143, 179, 106, 161, 19, 233, 140, 46, 230, 176, 224, 165, 214, 48, 167, 185, 28, 67, 178, 133, 245, 215, 201, 71, 138, 196, 160, 58, 96, 38, 252, 0, 3, 157, 108, 177, 191, 45, 111, 111, 107, 26, 199, 29, 131, 108, 113, 79, 195, 54, 231, 29, 134, 108, 89, 176, 117, 246, 126, 214, 233, 133, 111, 41, 146, 134, 59, 1, 85, 24, 227, 146, 14, 7, 38, 153, 2, 45, 28, 43, 250, 76, 140, 125, 0, 200, 109, 138, 226, 187, 197, 148, 23, 52, 154, 130, 162, 173, 49, 45, 68, 218, 98, 242, 115, 110, 197, 177, 158, 160, 149, 131, 17, 97, 34, 41, 106, 37, 44, 195, 159, 15, 180, 239, 157, 53, 145, 214, 39, 244, 210]]}}, 'requested_proof': {'revealed_attrs': {'0_skill_uuid': {'sub_proof_index': 0, 'raw': 'PyDentity SSI Ninja', 'encoded': '38813097173523343342121686954087857232940954656654688676222283577873518606251'}, '0_fullname_uuid': {'sub_proof_index': 0, 'raw': 'Lohan Spies', 'encoded': '65692680133235931683304645877785134421502393178184295996723213988805392923415'}}, 'self_attested_attrs': {}, 'unrevealed_attrs': {}, 'predicates': {'0_age_GE_uuid': {'sub_proof_index': 0}}}, 'identifiers': [{'schema_id': 'EuEtnVakYFyBtGFT1nHYtH:2:SSI PyDentity Tutorial:0.0.1', 'cred_def_id': 'WEhNYuEVXBo1GXec4ZuMmu:3:CL:142409:default', 'rev_reg_id': None, 'timestamp': None}]}, 'verified': 'false', 'role': 'verifier', 'auto_present': False, 'connection_id': 'bcce7c86-bb24-42f4-b1e0-e24b23c9f8af', 'updated_at': '2020-09-22 09:28:47.190398Z', 'presentation_exchange_id': '309e61a5-5407-4759-9b5d-3660da675174', 'presentation_request': {'name': 'Proof of Completion of PyDentity SSI Tutorial', 'version': '1.0', 'requested_attributes': {'0_fullname_uuid': {'name': 'fullname', 'restrictions': [{'schema_id': 'EuEtnVakYFyBtGFT1nHYtH:2:SSI PyDentity Tutorial:0.0.1'}]}, '0_skill_uuid': {'name': 'skill', 'restrictions': [{'schema_id': 'EuEtnVakYFyBtGFT1nHYtH:2:SSI PyDentity Tutorial:0.0.1'}]}, '0_country_uuid': {'name': 'country'}}, 'requested_predicates': {'0_age_GE_uuid': {'name': 'age', 'p_type': '>=', 'p_value': 21, 'restrictions': [{'schema_id': 'EuEtnVakYFyBtGFT1nHYtH:2:SSI PyDentity Tutorial:0.0.1'}]}}, 'nonce': '430860878358513761594985'}, 'initiator': 'self', 'trace': False, 'created_at': '2020-09-22 09:28:26.113191Z', 'thread_id': '007966be-9db0-4a23-8693-3944b075700d', 'state': 'verified'}\n"
     ]
    }
   ],
   "source": [
    "verify = await agent_controller.proofs.verify_presentation(presentation_exchange_id)\n",
    "print(verify)"
   ]
  },
  {
   "cell_type": "markdown",
   "metadata": {},
   "source": [
    "### Verifying the State\n",
    "\n",
    "Once verified through the agent framework api, the state should be 'verified', otherwise the presentation is invalid."
   ]
  },
  {
   "cell_type": "code",
   "execution_count": 11,
   "metadata": {},
   "outputs": [
    {
     "name": "stdout",
     "output_type": "stream",
     "text": [
      "verified\n",
      "True\n"
     ]
    }
   ],
   "source": [
    "print(verify['state'])\n",
    "print(verify['state'] == 'verified')"
   ]
  },
  {
   "cell_type": "markdown",
   "metadata": {},
   "source": [
    "### Accessing the Revealed Attributes"
   ]
  },
  {
   "cell_type": "code",
   "execution_count": 12,
   "metadata": {},
   "outputs": [
    {
     "name": "stdout",
     "output_type": "stream",
     "text": [
      "PyDentity SSI Ninja\n",
      "Lohan Spies\n"
     ]
    }
   ],
   "source": [
    "# print(verify['presentation'])\n",
    "# print(verify['presentation']['requested_proof'])\n",
    "\n",
    "for (name, val) in verify['presentation']['requested_proof']['revealed_attrs'].items():\n",
    "    ## This is the actual data that you want. It's a little hidden\n",
    "    print(val['raw'])\n"
   ]
  },
  {
   "cell_type": "markdown",
   "metadata": {},
   "source": [
    "### Accessing self-attested attributes"
   ]
  },
  {
   "cell_type": "code",
   "execution_count": 13,
   "metadata": {},
   "outputs": [],
   "source": [
    "for (name, val) in verify['presentation']['requested_proof']['self_attested_attrs'].items():\n",
    "    print(name)\n",
    "    ## Slightly different for self attested attrs\n",
    "    print(val)"
   ]
  },
  {
   "cell_type": "markdown",
   "metadata": {},
   "source": [
    "## End of Tutorial\n",
    "\n",
    "Be sure to terminate the controller so you can run another tutorial."
   ]
  },
  {
   "cell_type": "code",
   "execution_count": 16,
   "metadata": {
    "pycharm": {
     "name": "#%%\n"
    }
   },
   "outputs": [
    {
     "name": "stdout",
     "output_type": "stream",
     "text": [
      "None\n"
     ]
    }
   ],
   "source": [
    "response = await agent_controller.terminate()\n",
    "print(response)"
   ]
  },
  {
   "cell_type": "markdown",
   "metadata": {},
   "source": [
    "## Well done on completing the PyDentity SSI training series!"
   ]
  },
  {
   "cell_type": "code",
   "execution_count": null,
   "metadata": {},
   "outputs": [],
   "source": []
  }
 ],
 "metadata": {
  "kernelspec": {
   "display_name": "Python 3",
   "language": "python",
   "name": "python3"
  },
  "language_info": {
   "codemirror_mode": {
    "name": "ipython",
    "version": 3
   },
   "file_extension": ".py",
   "mimetype": "text/x-python",
   "name": "python",
   "nbconvert_exporter": "python",
   "pygments_lexer": "ipython3",
   "version": "3.7.6"
  }
 },
 "nbformat": 4,
 "nbformat_minor": 1
}
