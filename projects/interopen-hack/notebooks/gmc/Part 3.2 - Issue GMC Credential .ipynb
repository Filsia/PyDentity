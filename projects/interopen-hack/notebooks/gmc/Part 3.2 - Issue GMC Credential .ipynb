{
 "cells": [
  {
   "cell_type": "markdown",
   "metadata": {
    "collapsed": true
   },
   "source": [
    "# Issue GMC Registation Credentials to Doctors\n",
    "\n",
    "## Before running through this notebook you should have configured the GMC agent in [Part 3.1- Part 3.1 - Initialising the GMC Agent](http://localhost:8890/notebooks/Part%203.1%20-%20Initialising%20the%20GMC%20Agent.ipynb).\n",
    "\n",
    "In this notebook you will connect to the GMC, prove you have a medical qualification and receive a GMC Registration credential."
   ]
  },
  {
   "cell_type": "markdown",
   "metadata": {},
   "source": [
    "## 1. Initialise a controller for the GMC"
   ]
  },
  {
   "cell_type": "code",
   "execution_count": 59,
   "metadata": {},
   "outputs": [
    {
     "name": "stdout",
     "output_type": "stream",
     "text": [
      "IPython autoawait is `on`, and set to use `asyncio`\n"
     ]
    }
   ],
   "source": [
    "%autoawait\n",
    "import time\n",
    "import asyncio\n",
    "from termcolor import colored,cprint\n",
    "\n",
    "from aries_basic_controller.aries_controller import AriesAgentController\n",
    "    \n",
    "WEBHOOK_HOST = \"0.0.0.0\"\n",
    "WEBHOOK_PORT = 8032\n",
    "WEBHOOK_BASE = \"\"\n",
    "ADMIN_URL = \"http://gmc-agent:8031\"\n",
    "\n",
    "# Based on the aca-py agent you wish to control\n",
    "agent_controller = AriesAgentController(webhook_host=WEBHOOK_HOST, webhook_port=WEBHOOK_PORT,\n",
    "                                       webhook_base=WEBHOOK_BASE, admin_url=ADMIN_URL)\n",
    "    "
   ]
  },
  {
   "cell_type": "markdown",
   "metadata": {},
   "source": [
    "## 2. Register Listeners\n",
    "\n",
    "The handler should get called every time the controller receives a webhook with the topic issue_credential, printing out the payload. The agent calls to this webhook every time it receives an issue-credential protocol message from a credential."
   ]
  },
  {
   "cell_type": "code",
   "execution_count": 60,
   "metadata": {},
   "outputs": [
    {
     "name": "stderr",
     "output_type": "stream",
     "text": [
      "ERROR:asyncio:Task exception was never retrieved\n",
      "future: <Task finished coro=<AriesAgentController.listen_webhooks() done, defined at /aries_basic_controller/aries_controller.py:77> exception=OSError(98, \"error while attempting to bind on address ('0.0.0.0', 8032): address already in use\")>\n",
      "Traceback (most recent call last):\n",
      "  File \"/aries_basic_controller/aries_controller.py\", line 83, in listen_webhooks\n",
      "    await self.webhook_site.start()\n",
      "  File \"/opt/conda/lib/python3.7/site-packages/aiohttp/web_runner.py\", line 104, in start\n",
      "    reuse_port=self._reuse_port)\n",
      "  File \"/opt/conda/lib/python3.7/asyncio/base_events.py\", line 1385, in create_server\n",
      "    % (sa, err.strerror.lower())) from None\n",
      "OSError: [Errno 98] error while attempting to bind on address ('0.0.0.0', 8032): address already in use\n"
     ]
    }
   ],
   "source": [
    "loop = asyncio.get_event_loop()\n",
    "loop.create_task(agent_controller.listen_webhooks())\n",
    "\n",
    "def cred_handler(payload):\n",
    "    print(\"Handle Credentials\")\n",
    "    exchange_id = payload['credential_exchange_id']\n",
    "    state = payload['state']\n",
    "    role = payload['role']\n",
    "    attributes = payload['credential_proposal_dict']['credential_proposal']['attributes']\n",
    "    print(f\"Credential exchange {exchange_id}, role: {role}, state: {state}\")\n",
    "    print(f\"Offering: {attributes}\")\n",
    "    \n",
    "cred_listener = {\n",
    "    \"topic\": \"issue_credential\",\n",
    "    \"handler\": cred_handler\n",
    "}\n",
    "\n",
    "def connections_handler(payload):\n",
    "    global STATE\n",
    "    connection_id = payload[\"connection_id\"]\n",
    "    print(\"Connection message\", payload, connection_id)\n",
    "    STATE = payload['state']\n",
    "    if STATE == 'active':\n",
    "#         print('Connection {0} changed state to active'.format(connection_id))\n",
    "        print(colored(\"Connection {0} changed state to active\".format(connection_id), \"red\", attrs=[\"bold\"]))\n",
    "\n",
    "\n",
    "connection_listener = {\n",
    "    \"handler\": connections_handler,\n",
    "    \"topic\": \"connections\"\n",
    "}\n",
    "\n",
    "agent_controller.register_listeners([cred_listener,connection_listener], defaults=True)\n"
   ]
  },
  {
   "cell_type": "markdown",
   "metadata": {},
   "source": [
    "## 7. Download Identity Holder Mobile SSI Wallet\n",
    "Please download a mobile SSI wallet such as [Connect.me](https://connect.me/), [Trinsic](https://trinsic.id/trinsic-wallet/) or any other Aries compatible wallet."
   ]
  },
  {
   "cell_type": "markdown",
   "metadata": {},
   "source": [
    "## 8. Create a connection invitation to scan with the Mobile SSI Wallet\n",
    "\n",
    "To make a connection with an identity holders wallet we must create a connection invitation and present the QR code to be scanned by the identity holders wallet. The identity holder scan this QR code and then communicate back to the agent through the exposed ngrok endpoint.\n",
    "\n",
    "Once a connection is in an active state, the agent and the identity holders mobile wallet now have a secure pairwise relationship over which they can exchange verifiable credentials."
   ]
  },
  {
   "cell_type": "markdown",
   "metadata": {},
   "source": [
    "## 8a. Create an Invitation"
   ]
  },
  {
   "cell_type": "code",
   "execution_count": 61,
   "metadata": {},
   "outputs": [
    {
     "name": "stdout",
     "output_type": "stream",
     "text": [
      "Connection message {'state': 'invitation', 'routing_state': 'none', 'invitation_key': 'EY3csihMkg1HqPMiaN47SsKXx5k5DMWf9KJhxiBRvw91', 'created_at': '2020-09-22 13:32:28.492661Z', 'accept': 'auto', 'initiator': 'self', 'updated_at': '2020-09-22 13:32:28.492661Z', 'invitation_mode': 'once', 'connection_id': '04b983df-9885-400c-a513-e2d686120c15'} 04b983df-9885-400c-a513-e2d686120c15\n",
      "Connection ID 04b983df-9885-400c-a513-e2d686120c15\n",
      "Invitation\n",
      "https://584ce82b3d58.ngrok.io?c_i=eyJAdHlwZSI6ICJkaWQ6c292OkJ6Q2JzTlloTXJqSGlxWkRUVUFTSGc7c3BlYy9jb25uZWN0aW9ucy8xLjAvaW52aXRhdGlvbiIsICJAaWQiOiAiOGYxNDk0YWUtODQ2NS00ZjFlLWI1MTMtYzc0Zjg4YjZhYjE3IiwgImxhYmVsIjogIkdlbmVyYWwgTWVkaWNhbCBDb3VuY2lsIiwgInNlcnZpY2VFbmRwb2ludCI6ICJodHRwczovLzU4NGNlODJiM2Q1OC5uZ3Jvay5pbyIsICJyZWNpcGllbnRLZXlzIjogWyJFWTNjc2loTWtnMUhxUE1pYU40N1NzS1h4NWs1RE1XZjlLSmh4aUJSdnc5MSJdfQ==\n"
     ]
    }
   ],
   "source": [
    "# Create Invitation\n",
    "invite = await agent_controller.connections.create_invitation()\n",
    "connection_id = invite[\"connection_id\"]\n",
    "print(\"Connection ID\", connection_id)\n",
    "print(\"Invitation\")\n",
    "print(invite['invitation_url'])\n",
    "inviteURL = invite['invitation_url']"
   ]
  },
  {
   "cell_type": "markdown",
   "metadata": {},
   "source": [
    "## 8b. Generate QR Code to be scanned with Mobile SSI Wallet"
   ]
  },
  {
   "cell_type": "code",
   "execution_count": 62,
   "metadata": {},
   "outputs": [
    {
     "data": {
      "image/png": "[encoded data removed]",
      "text/plain": [
       "<IPython.core.display.Image object>"
      ]
     },
     "execution_count": 62,
     "metadata": {
      "image/png": {
       "width": 400
      }
     },
     "output_type": "execute_result"
    },
    {
     "name": "stdout",
     "output_type": "stream",
     "text": [
      "Connection message {'state': 'request', 'routing_state': 'none', 'their_did': '7uNtzkbo9JNq4fQghdM4oK', 'invitation_key': 'EY3csihMkg1HqPMiaN47SsKXx5k5DMWf9KJhxiBRvw91', 'created_at': '2020-09-22 13:32:28.492661Z', 'accept': 'auto', 'their_label': \"Vineeth's Pixel 3\", 'initiator': 'self', 'updated_at': '2020-09-22 13:32:53.638199Z', 'invitation_mode': 'once', 'connection_id': '04b983df-9885-400c-a513-e2d686120c15'} 04b983df-9885-400c-a513-e2d686120c15\n",
      "Connection message {'state': 'response', 'routing_state': 'none', 'their_did': '7uNtzkbo9JNq4fQghdM4oK', 'invitation_key': 'EY3csihMkg1HqPMiaN47SsKXx5k5DMWf9KJhxiBRvw91', 'created_at': '2020-09-22 13:32:28.492661Z', 'accept': 'auto', 'their_label': \"Vineeth's Pixel 3\", 'initiator': 'self', 'updated_at': '2020-09-22 13:32:55.067089Z', 'invitation_mode': 'once', 'my_did': '9r9ja3tUx7fpHe1LQgihY1', 'connection_id': '04b983df-9885-400c-a513-e2d686120c15'} 04b983df-9885-400c-a513-e2d686120c15\n"
     ]
    }
   ],
   "source": [
    "import qrcode\n",
    "# Link for connection invitation\n",
    "input_data = inviteURL\n",
    "# Creating an instance of qrcode\n",
    "qr = qrcode.QRCode(\n",
    "        version=1,\n",
    "        box_size=10,\n",
    "        border=5)\n",
    "qr.add_data(input_data)\n",
    "qr.make(fit=True)\n",
    "img = qr.make_image(fill='black', back_color='white')\n",
    "img.save('issuer_agent_invite_QRcode.png')\n",
    "\n",
    "from IPython.display import Image\n",
    "Image(width=400, filename='./issuer_agent_invite_QRcode.png')"
   ]
  },
  {
   "cell_type": "markdown",
   "metadata": {},
   "source": [
    "## 3c. Check if established connection is in active state"
   ]
  },
  {
   "cell_type": "code",
   "execution_count": 63,
   "metadata": {},
   "outputs": [
    {
     "name": "stdout",
     "output_type": "stream",
     "text": [
      "\u001b[1m\u001b[35mCurrent state for ConnectionId 04b983df-9885-400c-a513-e2d686120c15 is response\u001b[0m\n",
      "\u001b[1m\u001b[33mConnectionId 04b983df-9885-400c-a513-e2d686120c15 is not in active state yet\u001b[0m\n",
      "\u001b[1m\u001b[34mTrust ping send to ConnectionId {'thread_id': '48f7ce7e-9389-4dd3-b38a-7171f9cc9e87'} to activate connection\u001b[0m\n",
      "\u001b[1m\u001b[33mConnectionId 04b983df-9885-400c-a513-e2d686120c15 is not in active state yet\u001b[0m\n",
      "\u001b[1m\u001b[34mTrust ping send to ConnectionId {'thread_id': '42c1d90c-a96a-42bc-b004-90bb6aeabefb'} to activate connection\u001b[0m\n",
      "\u001b[1m\u001b[33mConnectionId 04b983df-9885-400c-a513-e2d686120c15 is not in active state yet\u001b[0m\n",
      "\u001b[1m\u001b[34mTrust ping send to ConnectionId {'thread_id': '613c23aa-6a6d-464f-bfca-f21e2d3ecdc3'} to activate connection\u001b[0m\n",
      "\u001b[1m\u001b[33mConnectionId 04b983df-9885-400c-a513-e2d686120c15 is not in active state yet\u001b[0m\n",
      "Connection message {'state': 'active', 'routing_state': 'none', 'their_did': '7uNtzkbo9JNq4fQghdM4oK', 'invitation_key': 'EY3csihMkg1HqPMiaN47SsKXx5k5DMWf9KJhxiBRvw91', 'created_at': '2020-09-22 13:32:28.492661Z', 'accept': 'auto', 'their_label': \"Vineeth's Pixel 3\", 'initiator': 'self', 'updated_at': '2020-09-22 13:33:05.690534Z', 'invitation_mode': 'once', 'my_did': '9r9ja3tUx7fpHe1LQgihY1', 'connection_id': '04b983df-9885-400c-a513-e2d686120c15'} 04b983df-9885-400c-a513-e2d686120c15\n",
      "\u001b[1m\u001b[31mConnection 04b983df-9885-400c-a513-e2d686120c15 changed state to active\u001b[0m\n",
      "\u001b[1m\u001b[34mTrust ping send to ConnectionId {'thread_id': 'f3e2a919-55a4-41b3-b9ce-6344eefdafb3'} to activate connection\u001b[0m\n",
      "\u001b[1m\u001b[32mConnectionId: 04b983df-9885-400c-a513-e2d686120c15 is now active. Continue with notebook\u001b[0m\n"
     ]
    }
   ],
   "source": [
    "import time\n",
    "\n",
    "# print('Current state for ConnectionId {} is {}'.format(connection_id,STATE))\n",
    "print(colored(\"Current state for ConnectionId {} is {}\".format(connection_id,STATE), \"magenta\", attrs=[\"bold\"]))\n",
    "while STATE != 'active':\n",
    "#     print('ConnectionId {0} is not in active state yet'.format(connection_id))\n",
    "    print(colored(\"ConnectionId {0} is not in active state yet\".format(connection_id), \"yellow\", attrs=[\"bold\"]))\n",
    "    trust_ping = await agent_controller.messaging.trust_ping(connection_id,'hello!')\n",
    "#     print('Trust ping send to ConnectionId {0} to activate connection'.format(trust_ping))\n",
    "    print(colored(\"Trust ping send to ConnectionId {0} to activate connection\".format(trust_ping), \"blue\", attrs=[\"bold\"]))\n",
    "    time.sleep(5)\n",
    "    \n",
    "# print('ConnectionId: {0} is now active. Continue with notebook'.format(connection_id))\n",
    "print(colored(\"ConnectionId: {0} is now active. Continue with notebook\".format(connection_id), \"green\", attrs=[\"bold\"]))\n"
   ]
  },
  {
   "cell_type": "markdown",
   "metadata": {},
   "source": [
    "### 3d. Retrieve stored cred_def_id and schema_id\n"
   ]
  },
  {
   "cell_type": "code",
   "execution_count": 64,
   "metadata": {},
   "outputs": [
    {
     "name": "stdout",
     "output_type": "stream",
     "text": [
      "2yWoMSfeTtYBFpUJFcnpqL:2:GMC Registration:0.0.1\n",
      "2gnThxc8Acp2fAz6tStipW:3:CL:141256:default\n"
     ]
    }
   ],
   "source": [
    "%store -r cred_def_id\n",
    "%store -r schema_id\n",
    "print(schema_id)\n",
    "print(cred_def_id)"
   ]
  },
  {
   "cell_type": "markdown",
   "metadata": {},
   "source": [
    "## 4. Send proof request(s) to populate credentials"
   ]
  },
  {
   "cell_type": "markdown",
   "metadata": {},
   "source": [
    "## 4a. Generate proof request"
   ]
  },
  {
   "cell_type": "code",
   "execution_count": null,
   "metadata": {},
   "outputs": [],
   "source": [
    "# schema_id = 'EuEtnVakYFyBtGFT1nHYtH:2:SSI PyDentity Tutorial:0.0.1'\n",
    "\n",
    "# print(\"Request proof of Fullname and Age range from Identity Holder\")\n",
    "# #Set some variables\n",
    "\n",
    "# revocation = False\n",
    "# SELF_ATTESTED = True\n",
    "# exchange_tracing = False\n",
    "\n",
    "# #Enable this to ask for attributes to identity a user\n",
    "# #TODO - change restriction to schemaId or credentialId\n",
    "\n",
    "# req_attrs = [\n",
    "#     {\"name\": \"fullname\", \"restrictions\": [{\"schema_id\": schema_id}]},\n",
    "#     {\"name\": \"skill\", \"restrictions\": [{\"schema_id\": schema_id}]},\n",
    "# ]\n",
    "\n",
    "# if revocation:\n",
    "#     req_attrs.append(\n",
    "#         {\n",
    "#             \"name\": \"skill\",\n",
    "#             \"restrictions\": [{\"schema_id\": schema_id}],\n",
    "#             \"non_revoked\": {\"to\": int(time.time() - 1)},\n",
    "#         },\n",
    "#     )\n",
    "\n",
    "# if SELF_ATTESTED:\n",
    "#     # test self-attested claims\n",
    "#     req_attrs.append({\"name\": \"country\"},)\n",
    "\n",
    "# #Set predicates for Zero Knowledge Proofs\n",
    "# req_preds = [\n",
    "#     # test zero-knowledge proofs\n",
    "#     {\n",
    "#         \"name\": \"age\",\n",
    "#         \"p_type\": \">=\",\n",
    "#         \"p_value\": 21,\n",
    "#         \"restrictions\": [{\"schema_id\": schema_id}],\n",
    "#     }\n",
    "# ]\n",
    "\n",
    "# indy_proof_request = {\n",
    "#     \"name\": \"Proof of Completion of PyDentity SSI Tutorial\",\n",
    "#     \"version\": \"1.0\",\n",
    "#     \"requested_attributes\": {\n",
    "#         f\"0_{req_attr['name']}_uuid\":\n",
    "#         req_attr for req_attr in req_attrs\n",
    "#     },\n",
    "#     \"requested_predicates\": {\n",
    "#         f\"0_{req_pred['name']}_GE_uuid\":\n",
    "#         req_pred for req_pred in req_preds\n",
    "#     },\n",
    "# }\n",
    "\n",
    "# if revocation:\n",
    "#     indy_proof_request[\"non_revoked\"] = {\"to\": int(time.time())}\n",
    "\n",
    "# #proof_request = indy_proof_request\n",
    "# exchange_tracing_id = exchange_tracing\n",
    "# proof_request_web_request = {\n",
    "#     \"connection_id\": connection_id,\n",
    "#     \"proof_request\": indy_proof_request,\n",
    "#     \"trace\": exchange_tracing,\n",
    "# }"
   ]
  },
  {
   "cell_type": "code",
   "execution_count": 65,
   "metadata": {},
   "outputs": [
    {
     "name": "stdout",
     "output_type": "stream",
     "text": [
      "2yWoMSfeTtYBFpUJFcnpqL:2:GMC Registration:0.0.1\n",
      "2gnThxc8Acp2fAz6tStipW:3:CL:141256:default\n",
      "Request proof of Passport and Medical School information\n"
     ]
    }
   ],
   "source": [
    "print(schema_id)\n",
    "print(cred_def_id)\n",
    "\n",
    "# {\n",
    "#        \"attrNames\":[\n",
    "#            \"PSS Passport No\",\n",
    "#            \"PSS Surname\",\n",
    "#            \"PSS Given Names\",\n",
    "#            \"PSS Nationality\",\n",
    "#            \"PSS Date of Birth\",\n",
    "#            \"PSS Sex\",\n",
    "#            \"PSS Place of Birth\",\n",
    "#            \"PSS Date of Issue\",\n",
    "#            \"PSS IssuingAuthority\",\n",
    "#            \"PSS Date Of Expiry\",\n",
    "#            \"PSS Photograph\",\n",
    "#            \"PSS Signature\"\n",
    "#        ],\n",
    "#        \"name\":\"Passport Details\",\n",
    "#        \"version\":\"0.0.1\"\n",
    "# }\n",
    "\n",
    "# {\n",
    "#        \"attrNames\":[\n",
    "#            \"MDQ Primary Medical Qual\",\n",
    "#            \"MDQ Issuing Institution\",\n",
    "#            \"MDQ Surname\",\n",
    "#            \"MDQ Given Names\",\n",
    "#            \"MDQ Issue Date\"\n",
    "#        ],\n",
    "#        \"name\":\"Medical Qual\",\n",
    "#        \"version\":\"0.0.1\"\n",
    "# }\n",
    "\n",
    "\n",
    "print(\"Request proof of Passport and Medical School information\")\n",
    "\n",
    "#Set some variables\n",
    "\n",
    "REVOCATION = False\n",
    "SELF_ATTESTED = False\n",
    "EXCHANGE_TRACING = False\n",
    "\n",
    "req_attrs = [\n",
    "    {\"name\": \"PSS Given Names\", \"restrictions\": []},\n",
    "    {\"name\": \"PSS Surname\", \"restrictions\": []},\n",
    "    {\"name\": \"PSS Sex\", \"restrictions\": []},\n",
    "    {\"name\": \"MDQ Primary Medical Qual\", \"restrictions\": []},\n",
    "]\n",
    "\n",
    "if REVOCATION:\n",
    "    req_attrs.append(\n",
    "        {\n",
    "            \"name\": \"skill\",\n",
    "            \"restrictions\": [{\"schema_id\": schema_id}],\n",
    "            \"non_revoked\": {\"to\": int(time.time() - 1)},\n",
    "        },\n",
    "    )\n",
    "\n",
    "if SELF_ATTESTED:\n",
    "    # test self-attested claims\n",
    "    req_attrs.append({\"name\": \"country\"},)\n",
    "\n",
    "#Set predicates for Zero Knowledge Proofs\n",
    "req_preds = []\n",
    "\n",
    "indy_proof_request = {\n",
    "    \"name\": \"Proof of Passport Credential\",\n",
    "    \"version\": \"1.0\",\n",
    "    \"requested_attributes\": {\n",
    "        f\"0_{req_attr['name']}_uuid\":\n",
    "        req_attr for req_attr in req_attrs\n",
    "    },\n",
    "    \"requested_predicates\": {\n",
    "        f\"0_{req_pred['name']}_GE_uuid\":\n",
    "        req_pred for req_pred in req_preds\n",
    "    },\n",
    "}\n",
    "\n",
    "if REVOCATION:\n",
    "    indy_proof_request[\"non_revoked\"] = {\"to\": int(time.time())}\n",
    "\n",
    "#proof_request = indy_proof_request\n",
    "exchange_tracing_id = EXCHANGE_TRACING\n",
    "proof_request_web_request = {\n",
    "    \"connection_id\": connection_id,\n",
    "    \"proof_request\": indy_proof_request,\n",
    "    \"trace\": EXCHANGE_TRACING,\n",
    "}"
   ]
  },
  {
   "cell_type": "markdown",
   "metadata": {},
   "source": [
    "### 4b. Send the proof request to Doctor\n",
    "\n",
    "Doctor is identified through the connection_id"
   ]
  },
  {
   "cell_type": "code",
   "execution_count": 66,
   "metadata": {},
   "outputs": [
    {
     "name": "stdout",
     "output_type": "stream",
     "text": [
      "{'state': 'request_sent', 'role': 'verifier', 'created_at': '2020-09-22 13:33:20.119012Z', 'presentation_request': {'name': 'Proof of Passport Credential', 'version': '1.0', 'requested_attributes': {'0_PSS Given Names_uuid': {'name': 'PSS Given Names', 'restrictions': []}, '0_PSS Surname_uuid': {'name': 'PSS Surname', 'restrictions': []}, '0_PSS Sex_uuid': {'name': 'PSS Sex', 'restrictions': []}, '0_MDQ Primary Medical Qual_uuid': {'name': 'MDQ Primary Medical Qual', 'restrictions': []}}, 'requested_predicates': {}, 'nonce': '623471495294188625119461'}, 'presentation_exchange_id': '30dcfa95-38e8-4b05-a1b7-ba9d9b21488e', 'initiator': 'self', 'trace': False, 'presentation_request_dict': {'@type': 'did:sov:BzCbsNYhMrjHiqZDTUASHg;spec/present-proof/1.0/request-presentation', '@id': '2cc3b4d5-7d0f-472e-9e30-0b5c91f3a842', 'request_presentations~attach': [{'@id': 'libindy-request-presentation-0', 'mime-type': 'application/json', 'data': {'base64': 'eyJuYW1lIjogIlByb29mIG9mIFBhc3Nwb3J0IENyZWRlbnRpYWwiLCAidmVyc2lvbiI6ICIxLjAiLCAicmVxdWVzdGVkX2F0dHJpYnV0ZXMiOiB7IjBfUFNTIEdpdmVuIE5hbWVzX3V1aWQiOiB7Im5hbWUiOiAiUFNTIEdpdmVuIE5hbWVzIiwgInJlc3RyaWN0aW9ucyI6IFtdfSwgIjBfUFNTIFN1cm5hbWVfdXVpZCI6IHsibmFtZSI6ICJQU1MgU3VybmFtZSIsICJyZXN0cmljdGlvbnMiOiBbXX0sICIwX1BTUyBTZXhfdXVpZCI6IHsibmFtZSI6ICJQU1MgU2V4IiwgInJlc3RyaWN0aW9ucyI6IFtdfSwgIjBfTURRIFByaW1hcnkgTWVkaWNhbCBRdWFsX3V1aWQiOiB7Im5hbWUiOiAiTURRIFByaW1hcnkgTWVkaWNhbCBRdWFsIiwgInJlc3RyaWN0aW9ucyI6IFtdfX0sICJyZXF1ZXN0ZWRfcHJlZGljYXRlcyI6IHt9LCAibm9uY2UiOiAiNjIzNDcxNDk1Mjk0MTg4NjI1MTE5NDYxIn0='}}]}, 'updated_at': '2020-09-22 13:33:20.119012Z', 'thread_id': '2cc3b4d5-7d0f-472e-9e30-0b5c91f3a842', 'auto_present': False, 'connection_id': '04b983df-9885-400c-a513-e2d686120c15'}\n",
      "\n",
      "\n",
      "30dcfa95-38e8-4b05-a1b7-ba9d9b21488e\n"
     ]
    }
   ],
   "source": [
    "response = await agent_controller.proofs.send_request(proof_request_web_request)\n",
    "print(response)\n",
    "presentation_exchange_id = response['presentation_exchange_id']\n",
    "print(\"\\n\")\n",
    "print(presentation_exchange_id)"
   ]
  },
  {
   "cell_type": "markdown",
   "metadata": {},
   "source": [
    "## 4c. Verify proof presentation and populate credential template\n",
    "\n",
    "This is checking the signatures on the credentials presented against the credential schema and definition id stored and resolvable on the ledger. It is a bit of a big complicated object, so we show the common pattern for breaking it down, checking it's verified and accessing the data that has been presented."
   ]
  },
  {
   "cell_type": "code",
   "execution_count": 67,
   "metadata": {},
   "outputs": [
    {
     "name": "stdout",
     "output_type": "stream",
     "text": [
      "Proof request state verified?: True \n"
     ]
    }
   ],
   "source": [
    "verify = await agent_controller.proofs.verify_presentation(presentation_exchange_id)\n",
    "\n",
    "# print proof request verification status\n",
    "print('Proof request state verified?: {} '.format(verify['state'] == 'verified'))\n"
   ]
  },
  {
   "cell_type": "code",
   "execution_count": 68,
   "metadata": {},
   "outputs": [
    {
     "name": "stdout",
     "output_type": "stream",
     "text": [
      "Atribute name: GMC Sex Value: M\n",
      "Atribute name: GMC Given Names Value: Micheal\n",
      "Atribute name: GMC Primary Medical Qual Value: Doctor\n",
      "Atribute name: GMC Surname Value: Jones\n"
     ]
    }
   ],
   "source": [
    "# access the revealed attributes and populate credential\n",
    "credential_attributes = []\n",
    "for (name, val) in verify['presentation']['requested_proof']['revealed_attrs'].items():\n",
    "    ## This is the actual data that you want. It's a little hidden\n",
    "    print('Atribute name: GMC {} Value: {}'.format(name[6:-5],val['raw']))\n",
    "    credential_attributes.append({\"name\": \"GMC \" + name[6:-5], \"value\": val['raw']})\n",
    "    \n",
    "credential_attributes[0]['name'] = \"GMC Given Name\"\n",
    "credential_attributes[1]['name'] = \"GMC Primary Medical Qual\"\n",
    "credential_attributes[2]['name'] = 'GMC Gender'\n",
    "credential_attributes[3]['name'] = \"GMC Surname\""
   ]
  },
  {
   "cell_type": "code",
   "execution_count": 69,
   "metadata": {},
   "outputs": [
    {
     "name": "stdout",
     "output_type": "stream",
     "text": [
      "[{'name': 'GMC Given Name', 'value': 'M'}, {'name': 'GMC Primary Medical Qual', 'value': 'Micheal'}, {'name': 'GMC Gender', 'value': 'Doctor'}, {'name': 'GMC Surname', 'value': 'Jones'}]\n"
     ]
    }
   ],
   "source": [
    "print(credential_attributes)"
   ]
  },
  {
   "cell_type": "code",
   "execution_count": null,
   "metadata": {},
   "outputs": [],
   "source": [
    "# reg_status = input(\"Please enter your reg_status\")\n",
    "# ftp_status = input(\"Please enter your FTP status\")\n",
    "# medical_qual = input(\"Please enter your primary medical qualification\")\n",
    "# prov_reg_date =(\"Please enter your provisional registration date\")\n",
    "# full_reg_date =(\"Please enter your full reg date\")\n",
    "# spec_register_status =(\"Please enter your Spec. register status\")\n",
    "# primary_speciality =(\"Please enter your primary speciality\")\n",
    "# gp_register_status =(\"Please enter your gp register status\")\n",
    "# gp_register_date =(\"Please enter your gp register date\")\n",
    "# revalidation_status =(\"Please enter your revalidation status\")\n",
    "# training_information =(\"Please enter your training information\")\n",
    "# designated_body =(\"Please enter your designated body\")\n",
    "# responsible_officer =(\"Please enter your Responsible Officer\")"
   ]
  },
  {
   "cell_type": "code",
   "execution_count": null,
   "metadata": {},
   "outputs": [],
   "source": [
    "# credential_attributes = [\n",
    "#     {\"name\": \"GMC Reference Number\", \"value\": reference_number},\n",
    "#     {\"name\": \"GMC Given Name\", \"value\": name},\n",
    "#     {\"name\": \"GMC Surname\", \"value\": surname},\n",
    "#     {\"name\":\"GMC Gender\", \"value\": gender},\n",
    "#     {\"name\":\"GMC Reg Status\", \"value\": \"Active\"},\n",
    "#     {\"name\":\"GMC FTP Status\", \"value\": \"Active\"},\n",
    "#     {\"name\":\"GMC Primary Medical Qual\", \"value\":\"Paediatrition\"},\n",
    "#     {\"name\":\"GMC Prov Reg Date\", \"value\":\"00/00/00\"},\n",
    "#     {\"name\":\"GMC Full Reg Date\", \"value\":\"00/00/00\"},\n",
    "#     {\"name\":\"GMC Spec. Register Status\", \"value\":\"Active\"},\n",
    "#     {\"name\":\"GMC Primary Specialty\", \"value\":\"Paediatrics\"},\n",
    "#     {\"name\":\"GMC GP Register Status\", \"value\":\"Active\"},\n",
    "#     {\"name\":\"GMC GP Register Date\", \"value\":\"00/00/00\"},\n",
    "#     {\"name\":\"GMC Revalidation Status\", \"value\":\"Active\"},\n",
    "#     {\"name\":\"GMC Training Information\", \"value\":\"Stage 1\"},\n",
    "#     {\"name\":\"GMC Designated Body\", \"value\":\"NHS\"},\n",
    "#     {\"name\":\"GMC Responsible Officer\", \"value\":\"Head Doctor\"}"
   ]
  },
  {
   "cell_type": "markdown",
   "metadata": {},
   "source": [
    "## 5. Populate the GMC Registration attributes"
   ]
  },
  {
   "cell_type": "code",
   "execution_count": 72,
   "metadata": {},
   "outputs": [
    {
     "name": "stdout",
     "output_type": "stream",
     "text": [
      "Please enter your reference number: 123\n",
      "Please enter your name 123\n",
      "Please enter your reg_status2131\n",
      "Please enter your FTP status23\n",
      "Please enter your provisional registration date123\n",
      "Please enter your full reg date231\n",
      "Please enter your Spec. register status123\n",
      "Please enter your primary speciality123\n",
      "Please enter your gp register status121\n",
      "Please enter your gp register date3\n",
      "Please enter your revalidation status213\n",
      "Please enter your training information23\n",
      "Please enter your designated body\n",
      "Please enter your Responsible Officer132\n",
      "[{'name': 'GMC Given Name', 'value': 'M'}, {'name': 'GMC Primary Medical Qual', 'value': 'Micheal'}, {'name': 'GMC Gender', 'value': 'Doctor'}, {'name': 'GMC Surname', 'value': 'Jones'}, {'name': 'GMC Reg Status', 'value': '2314'}, {'name': 'GMC FTP Status', 'value': '42'}, {'name': 'GMC Prov Reg Date', 'value': '432'}, {'name': 'GMC Full Reg Date', 'value': '342'}, {'name': 'GMC Spec. Register Status', 'value': '423'}, {'name': 'GMC Primary Specialty', 'value': '342'}, {'name': 'GMC GP Register Status', 'value': '453'}, {'name': 'GMC GP Register Date', 'value': '6432'}, {'name': 'GMC Revalidation Status', 'value': '54235'}, {'name': 'GMC Training Information', 'value': '24533'}, {'name': 'GMC Designated Body', 'value': '4352'}, {'name': 'GMC Responsible Officer', 'value': '245245'}, {'name': 'GMC Reference Number', 'value': '123'}, {'name': 'GMC Reg Status', 'value': '2131'}, {'name': 'GMC FTP Status', 'value': '23'}, {'name': 'GMC Prov Reg Date', 'value': '123'}, {'name': 'GMC Full Reg Date', 'value': '231'}, {'name': 'GMC Spec. Register Status', 'value': '123'}, {'name': 'GMC Primary Specialty', 'value': '123'}, {'name': 'GMC GP Register Status', 'value': '121'}, {'name': 'GMC GP Register Date', 'value': '3'}, {'name': 'GMC Revalidation Status', 'value': '213'}, {'name': 'GMC Training Information', 'value': '23'}, {'name': 'GMC Designated Body', 'value': ''}, {'name': 'GMC Responsible Officer', 'value': '132'}]\n"
     ]
    }
   ],
   "source": [
    "reference_number=input(\"Please enter your reference number: \")\n",
    "name=input(\"Please enter your name \")\n",
    "# surname = input(\"Please enter your surname\")\n",
    "# gender = input(\"Please enter your gender\")\n",
    "reg_status = input(\"Please enter your reg_status\")\n",
    "ftp_status = input(\"Please enter your FTP status\")\n",
    "# medical_qual = input(\"Please enter your primary medical qualification\")\n",
    "prov_reg_date =input(\"Please enter your provisional registration date\")\n",
    "full_reg_date =input(\"Please enter your full reg date\")\n",
    "spec_register_status =input(\"Please enter your Spec. register status\")\n",
    "primary_speciality =input(\"Please enter your primary speciality\")\n",
    "gp_register_status =input(\"Please enter your gp register status\")\n",
    "gp_register_date =input(\"Please enter your gp register date\")\n",
    "revalidation_status =input(\"Please enter your revalidation status\")\n",
    "training_information =input(\"Please enter your training information\")\n",
    "designated_body =input(\"Please enter your designated body\")\n",
    "responsible_officer =input(\"Please enter your Responsible Officer\")\n",
    "credential_attributes.append({\"name\":\"GMC Reference Number\",\"value\":reference_number})\n",
    "credential_attributes.append({\"name\":\"GMC Reg Status\", \"value\": reg_status})\n",
    "credential_attributes.append({\"name\":\"GMC FTP Status\", \"value\": ftp_status}),\n",
    "credential_attributes.append({\"name\":\"GMC Prov Reg Date\", \"value\":prov_reg_date})\n",
    "credential_attributes.append({\"name\":\"GMC Full Reg Date\", \"value\":full_reg_date})\n",
    "credential_attributes.append({\"name\":\"GMC Spec. Register Status\", \"value\":spec_register_status})\n",
    "credential_attributes.append({\"name\":\"GMC Primary Specialty\", \"value\":primary_speciality})\n",
    "credential_attributes.append({\"name\":\"GMC GP Register Status\", \"value\":gp_register_status})\n",
    "credential_attributes.append({\"name\":\"GMC GP Register Date\", \"value\":gp_register_date})\n",
    "credential_attributes.append({\"name\":\"GMC Revalidation Status\", \"value\":revalidation_status })\n",
    "credential_attributes.append({\"name\":\"GMC Training Information\", \"value\":training_information})\n",
    "credential_attributes.append({\"name\":\"GMC Designated Body\", \"value\":designated_body})\n",
    "credential_attributes.append({\"name\":\"GMC Responsible Officer\", \"value\":responsible_officer})\n",
    "    \n",
    "    \n",
    "\n",
    "print(credential_attributes)"
   ]
  },
  {
   "cell_type": "markdown",
   "metadata": {},
   "source": [
    "# 6. Send Credential\n",
    "\n",
    "This sends a credential to a identity holder (User), and automates the rest of the protocol.\n",
    "\n",
    "There are other ways to issue a credential that require multiple api calls.\n",
    "\n",
    "**Arguments**\n",
    "* connection_id: The connection_id of the holder you wish to issue to (MUST be in active state)\n",
    "* schema_id: The id of the schema you wish to issue\n",
    "* cred_def_id: The definition (public key) to sign the credential object. This must refer to the schema_id and be written to the ledger by the same public did that is currently being used by the agent.\n",
    "* attributes: A list of attribute objects as defined above. Must match the schema attributes.\n",
    "* comment (optional): Any string, defaults to \"\"\n",
    "* auto_remove (optional): Boolean, defaults to True. I believe this removes the record of this credential once it has been issued. (TODO: double check)\n",
    "* trace (optional): Boolean, defaults to False. **Not entirely sure about this one, believe its for logging. Also when set to True it throws an error**"
   ]
  },
  {
   "cell_type": "code",
   "execution_count": 73,
   "metadata": {},
   "outputs": [
    {
     "name": "stdout",
     "output_type": "stream",
     "text": [
      "Credential exchange 64990015-e644-4dcc-9161-ae728094ea45, role: issuer, state: offer_sent\n",
      "Handle Credentials\n",
      "Credential exchange 64990015-e644-4dcc-9161-ae728094ea45, role: issuer, state: offer_sent\n",
      "Offering: [{'name': 'GMC Given Name', 'value': 'M'}, {'name': 'GMC Primary Medical Qual', 'value': 'Micheal'}, {'name': 'GMC Gender', 'value': 'Doctor'}, {'name': 'GMC Surname', 'value': 'Jones'}, {'name': 'GMC Reg Status', 'value': '2314'}, {'name': 'GMC FTP Status', 'value': '42'}, {'name': 'GMC Prov Reg Date', 'value': '432'}, {'name': 'GMC Full Reg Date', 'value': '342'}, {'name': 'GMC Spec. Register Status', 'value': '423'}, {'name': 'GMC Primary Specialty', 'value': '342'}, {'name': 'GMC GP Register Status', 'value': '453'}, {'name': 'GMC GP Register Date', 'value': '6432'}, {'name': 'GMC Revalidation Status', 'value': '54235'}, {'name': 'GMC Training Information', 'value': '24533'}, {'name': 'GMC Designated Body', 'value': '4352'}, {'name': 'GMC Responsible Officer', 'value': '245245'}, {'name': 'GMC Reference Number', 'value': '123'}, {'name': 'GMC Reg Status', 'value': '2131'}, {'name': 'GMC FTP Status', 'value': '23'}, {'name': 'GMC Prov Reg Date', 'value': '123'}, {'name': 'GMC Full Reg Date', 'value': '231'}, {'name': 'GMC Spec. Register Status', 'value': '123'}, {'name': 'GMC Primary Specialty', 'value': '123'}, {'name': 'GMC GP Register Status', 'value': '121'}, {'name': 'GMC GP Register Date', 'value': '3'}, {'name': 'GMC Revalidation Status', 'value': '213'}, {'name': 'GMC Training Information', 'value': '23'}, {'name': 'GMC Designated Body', 'value': ''}, {'name': 'GMC Responsible Officer', 'value': '132'}]\n"
     ]
    }
   ],
   "source": [
    "record = await agent_controller.issuer.send_credential(connection_id, schema_id, cred_def_id, credential_attributes, trace=False)\n",
    "record_id = record['credential_exchange_id']\n",
    "state = record['state']\n",
    "role = record['role']\n",
    "print(f\"Credential exchange {record_id}, role: {role}, state: {state}\")\n"
   ]
  },
  {
   "cell_type": "markdown",
   "metadata": {},
   "source": [
    "## 7. Accept credential in Mobile SSI Wallet"
   ]
  },
  {
   "cell_type": "markdown",
   "metadata": {},
   "source": [
    "## 8. End of Tutorial\n",
    "\n",
    "Be sure to terminate the controller so you can run another tutorial."
   ]
  },
  {
   "cell_type": "code",
   "execution_count": 58,
   "metadata": {},
   "outputs": [
    {
     "ename": "RuntimeError",
     "evalue": "Site <aiohttp.web_runner.TCPSite object at 0x7f07a46cdf50> is not registered in runner <aiohttp.web_runner.AppRunner object at 0x7f07a4feddd0>",
     "output_type": "error",
     "traceback": [
      "\u001b[0;31m---------------------------------------------------------------------------\u001b[0m",
      "\u001b[0;31mRuntimeError\u001b[0m                              Traceback (most recent call last)",
      "\u001b[0;32m<ipython-input-58-5870155ffed5>\u001b[0m in \u001b[0;36masync-def-wrapper\u001b[0;34m()\u001b[0m\n\u001b[1;32m      2\u001b[0m \u001b[0mprint\u001b[0m\u001b[0;34m(\u001b[0m\u001b[0mresponse\u001b[0m\u001b[0;34m)\u001b[0m\u001b[0;34m\u001b[0m\u001b[0;34m\u001b[0m\u001b[0m\n",
      "\u001b[0;32m/aries_basic_controller/aries_controller.py\u001b[0m in \u001b[0;36mterminate\u001b[0;34m(self)\u001b[0m\n\u001b[1;32m     98\u001b[0m         \u001b[0;32mawait\u001b[0m \u001b[0mself\u001b[0m\u001b[0;34m.\u001b[0m\u001b[0mclient_session\u001b[0m\u001b[0;34m.\u001b[0m\u001b[0mclose\u001b[0m\u001b[0;34m(\u001b[0m\u001b[0;34m)\u001b[0m\u001b[0;34m\u001b[0m\u001b[0;34m\u001b[0m\u001b[0m\n\u001b[1;32m     99\u001b[0m         \u001b[0;32mif\u001b[0m \u001b[0mself\u001b[0m\u001b[0;34m.\u001b[0m\u001b[0mwebhook_site\u001b[0m\u001b[0;34m:\u001b[0m\u001b[0;34m\u001b[0m\u001b[0;34m\u001b[0m\u001b[0m\n\u001b[0;32m--> 100\u001b[0;31m             \u001b[0;32mawait\u001b[0m \u001b[0mself\u001b[0m\u001b[0;34m.\u001b[0m\u001b[0mwebhook_site\u001b[0m\u001b[0;34m.\u001b[0m\u001b[0mstop\u001b[0m\u001b[0;34m(\u001b[0m\u001b[0;34m)\u001b[0m\u001b[0;34m\u001b[0m\u001b[0;34m\u001b[0m\u001b[0m\n\u001b[0m\u001b[1;32m    101\u001b[0m \u001b[0;34m\u001b[0m\u001b[0m\n\u001b[1;32m    102\u001b[0m \u001b[0;34m\u001b[0m\u001b[0m\n",
      "\u001b[0;32m/opt/conda/lib/python3.7/site-packages/aiohttp/web_runner.py\u001b[0m in \u001b[0;36mstop\u001b[0;34m(self)\u001b[0m\n\u001b[1;32m     54\u001b[0m \u001b[0;34m\u001b[0m\u001b[0m\n\u001b[1;32m     55\u001b[0m     \u001b[0;32masync\u001b[0m \u001b[0;32mdef\u001b[0m \u001b[0mstop\u001b[0m\u001b[0;34m(\u001b[0m\u001b[0mself\u001b[0m\u001b[0;34m)\u001b[0m \u001b[0;34m->\u001b[0m \u001b[0;32mNone\u001b[0m\u001b[0;34m:\u001b[0m\u001b[0;34m\u001b[0m\u001b[0;34m\u001b[0m\u001b[0m\n\u001b[0;32m---> 56\u001b[0;31m         \u001b[0mself\u001b[0m\u001b[0;34m.\u001b[0m\u001b[0m_runner\u001b[0m\u001b[0;34m.\u001b[0m\u001b[0m_check_site\u001b[0m\u001b[0;34m(\u001b[0m\u001b[0mself\u001b[0m\u001b[0;34m)\u001b[0m\u001b[0;34m\u001b[0m\u001b[0;34m\u001b[0m\u001b[0m\n\u001b[0m\u001b[1;32m     57\u001b[0m         \u001b[0;32mif\u001b[0m \u001b[0mself\u001b[0m\u001b[0;34m.\u001b[0m\u001b[0m_server\u001b[0m \u001b[0;32mis\u001b[0m \u001b[0;32mNone\u001b[0m\u001b[0;34m:\u001b[0m\u001b[0;34m\u001b[0m\u001b[0;34m\u001b[0m\u001b[0m\n\u001b[1;32m     58\u001b[0m             \u001b[0mself\u001b[0m\u001b[0;34m.\u001b[0m\u001b[0m_runner\u001b[0m\u001b[0;34m.\u001b[0m\u001b[0m_unreg_site\u001b[0m\u001b[0;34m(\u001b[0m\u001b[0mself\u001b[0m\u001b[0;34m)\u001b[0m\u001b[0;34m\u001b[0m\u001b[0;34m\u001b[0m\u001b[0m\n",
      "\u001b[0;32m/opt/conda/lib/python3.7/site-packages/aiohttp/web_runner.py\u001b[0m in \u001b[0;36m_check_site\u001b[0;34m(self, site)\u001b[0m\n\u001b[1;32m    276\u001b[0m         \u001b[0;32mif\u001b[0m \u001b[0msite\u001b[0m \u001b[0;32mnot\u001b[0m \u001b[0;32min\u001b[0m \u001b[0mself\u001b[0m\u001b[0;34m.\u001b[0m\u001b[0m_sites\u001b[0m\u001b[0;34m:\u001b[0m\u001b[0;34m\u001b[0m\u001b[0;34m\u001b[0m\u001b[0m\n\u001b[1;32m    277\u001b[0m             raise RuntimeError(\"Site {} is not registered in runner {}\"\n\u001b[0;32m--> 278\u001b[0;31m                                .format(site, self))\n\u001b[0m\u001b[1;32m    279\u001b[0m \u001b[0;34m\u001b[0m\u001b[0m\n\u001b[1;32m    280\u001b[0m     \u001b[0;32mdef\u001b[0m \u001b[0m_unreg_site\u001b[0m\u001b[0;34m(\u001b[0m\u001b[0mself\u001b[0m\u001b[0;34m,\u001b[0m \u001b[0msite\u001b[0m\u001b[0;34m:\u001b[0m \u001b[0mBaseSite\u001b[0m\u001b[0;34m)\u001b[0m \u001b[0;34m->\u001b[0m \u001b[0;32mNone\u001b[0m\u001b[0;34m:\u001b[0m\u001b[0;34m\u001b[0m\u001b[0;34m\u001b[0m\u001b[0m\n",
      "\u001b[0;31mRuntimeError\u001b[0m: Site <aiohttp.web_runner.TCPSite object at 0x7f07a46cdf50> is not registered in runner <aiohttp.web_runner.AppRunner object at 0x7f07a4feddd0>"
     ]
    }
   ],
   "source": [
    "response = await agent_controller.terminate()\n",
    "print(response)"
   ]
  },
  {
   "cell_type": "markdown",
   "metadata": {},
   "source": [
    "# Congratulations you are now a licenced doctor. Proceed to the [Health Education England](http://localhost:8891/tree?) to receive your training.\n",
    "\n",
    "You can get the notebook access token by running this in the terminal `docker logs  interopen-hack_hee-notebook_1\n",
    "`"
   ]
  },
  {
   "cell_type": "code",
   "execution_count": null,
   "metadata": {},
   "outputs": [],
   "source": []
  }
 ],
 "metadata": {
  "kernelspec": {
   "display_name": "Python 3",
   "language": "python",
   "name": "python3"
  },
  "language_info": {
   "codemirror_mode": {
    "name": "ipython",
    "version": 3
   },
   "file_extension": ".py",
   "mimetype": "text/x-python",
   "name": "python",
   "nbconvert_exporter": "python",
   "pygments_lexer": "ipython3",
   "version": "3.7.6"
  }
 },
 "nbformat": 4,
 "nbformat_minor": 1
}
