{
 "cells": [
  {
   "cell_type": "markdown",
   "metadata": {
    "collapsed": true
   },
   "source": [
    "# Issue GMC Registation Credentials to Doctors\n",
    "\n",
    "## Before running through this notebook you should have configured the GMC agent in [Part 3.1](http://localhost:8890/notebooks/Part%203.1%20-%20Initialising%20the%20GMC%20Agent.ipynb).\n",
    "\n",
    "In this notebook you will connect to the GMC, prove you have a medical qualification and receive a GMC Registration credential."
   ]
  },
  {
   "cell_type": "markdown",
   "metadata": {},
   "source": [
    "## 1. Initialise a controller for the GMC"
   ]
  },
  {
   "cell_type": "code",
   "execution_count": 4,
   "metadata": {},
   "outputs": [
    {
     "name": "stdout",
     "output_type": "stream",
     "text": [
      "IPython autoawait is `on`, and set to use `asyncio`\n"
     ]
    }
   ],
   "source": [
    "%autoawait\n",
    "import time\n",
    "import asyncio\n",
    "from termcolor import colored,cprint\n",
    "\n",
    "from aries_basic_controller.aries_controller import AriesAgentController\n",
    "    \n",
    "WEBHOOK_HOST = \"0.0.0.0\"\n",
    "WEBHOOK_PORT = 8032\n",
    "WEBHOOK_BASE = \"\"\n",
    "ADMIN_URL = \"http://gmc-agent:8031\"\n",
    "\n",
    "# Based on the aca-py agent you wish to control\n",
    "agent_controller = AriesAgentController(webhook_host=WEBHOOK_HOST, webhook_port=WEBHOOK_PORT,\n",
    "                                       webhook_base=WEBHOOK_BASE, admin_url=ADMIN_URL)\n",
    "    "
   ]
  },
  {
   "cell_type": "markdown",
   "metadata": {},
   "source": [
    "## 2. Register Listeners\n",
    "\n",
    "The handler should get called every time the controller receives a webhook with the topic issue_credential, printing out the payload. The agent calls to this webhook every time it receives an issue-credential protocol message from a credential."
   ]
  },
  {
   "cell_type": "code",
   "execution_count": 5,
   "metadata": {},
   "outputs": [
    {
     "name": "stderr",
     "output_type": "stream",
     "text": [
      "Task exception was never retrieved\n",
      "future: <Task finished coro=<AriesAgentController.listen_webhooks() done, defined at /aries_basic_controller/aries_controller.py:77> exception=OSError(98, \"error while attempting to bind on address ('0.0.0.0', 8032): address already in use\")>\n",
      "Traceback (most recent call last):\n",
      "  File \"/aries_basic_controller/aries_controller.py\", line 83, in listen_webhooks\n",
      "    await self.webhook_site.start()\n",
      "  File \"/opt/conda/lib/python3.7/site-packages/aiohttp/web_runner.py\", line 104, in start\n",
      "    reuse_port=self._reuse_port)\n",
      "  File \"/opt/conda/lib/python3.7/asyncio/base_events.py\", line 1385, in create_server\n",
      "    % (sa, err.strerror.lower())) from None\n",
      "OSError: [Errno 98] error while attempting to bind on address ('0.0.0.0', 8032): address already in use\n"
     ]
    }
   ],
   "source": [
    "loop = asyncio.get_event_loop()\n",
    "loop.create_task(agent_controller.listen_webhooks())\n",
    "\n",
    "def cred_handler(payload):\n",
    "    print(\"Handle Credentials\")\n",
    "    exchange_id = payload['credential_exchange_id']\n",
    "    state = payload['state']\n",
    "    role = payload['role']\n",
    "    attributes = payload['credential_proposal_dict']['credential_proposal']['attributes']\n",
    "    print(f\"Credential exchange {exchange_id}, role: {role}, state: {state}\")\n",
    "    print(f\"Offering: {attributes}\")\n",
    "    \n",
    "cred_listener = {\n",
    "    \"topic\": \"issue_credential\",\n",
    "    \"handler\": cred_handler\n",
    "}\n",
    "\n",
    "def connections_handler(payload):\n",
    "    global STATE\n",
    "    connection_id = payload[\"connection_id\"]\n",
    "    print(\"Connection message\", payload, connection_id)\n",
    "    STATE = payload['state']\n",
    "    if STATE == 'active':\n",
    "#         print('Connection {0} changed state to active'.format(connection_id))\n",
    "        print(colored(\"Connection {0} changed state to active\".format(connection_id), \"red\", attrs=[\"bold\"]))\n",
    "\n",
    "\n",
    "connection_listener = {\n",
    "    \"handler\": connections_handler,\n",
    "    \"topic\": \"connections\"\n",
    "}\n",
    "\n",
    "agent_controller.register_listeners([cred_listener,connection_listener], defaults=True)\n"
   ]
  },
  {
   "cell_type": "markdown",
   "metadata": {},
   "source": [
    "## 7. Download Identity Holder Mobile SSI Wallet\n",
    "Please download a mobile SSI wallet such as [Connect.me](https://connect.me/), [Trinsic](https://trinsic.id/trinsic-wallet/) or any other Aries compatible wallet."
   ]
  },
  {
   "cell_type": "markdown",
   "metadata": {},
   "source": [
    "## 8. Create a connection invitation to scan with the Mobile SSI Wallet\n",
    "\n",
    "To make a connection with an identity holders wallet we must create a connection invitation and present the QR code to be scanned by the identity holders wallet. The identity holder scan this QR code and then communicate back to the agent through the exposed ngrok endpoint.\n",
    "\n",
    "Once a connection is in an active state, the agent and the identity holders mobile wallet now have a secure pairwise relationship over which they can exchange verifiable credentials."
   ]
  },
  {
   "cell_type": "markdown",
   "metadata": {},
   "source": [
    "## 8a. Create an Invitation"
   ]
  },
  {
   "cell_type": "code",
   "execution_count": 9,
   "metadata": {},
   "outputs": [
    {
     "name": "stdout",
     "output_type": "stream",
     "text": [
      "Connection message {'invitation_mode': 'once', 'routing_state': 'none', 'updated_at': '2020-09-21 15:48:23.192372Z', 'state': 'invitation', 'initiator': 'self', 'connection_id': '85899fb9-6dc1-4b54-bcd1-ad790588e817', 'accept': 'auto', 'invitation_key': '6hdPutKaHgSP7fdmbbF11sDd2DKy2p7qE6iPQGsVHXAx', 'created_at': '2020-09-21 15:48:23.192372Z'} 85899fb9-6dc1-4b54-bcd1-ad790588e817\n",
      "Connection ID 85899fb9-6dc1-4b54-bcd1-ad790588e817\n",
      "Invitation\n",
      "https://ca4256742cf4.ngrok.io?c_i=eyJAdHlwZSI6ICJkaWQ6c292OkJ6Q2JzTlloTXJqSGlxWkRUVUFTSGc7c3BlYy9jb25uZWN0aW9ucy8xLjAvaW52aXRhdGlvbiIsICJAaWQiOiAiYWI3NTJmYjItN2YxMi00NzYwLTgwODEtNjFmMzFlODFiNjg3IiwgInJlY2lwaWVudEtleXMiOiBbIjZoZFB1dEthSGdTUDdmZG1iYkYxMXNEZDJES3kycDdxRTZpUFFHc1ZIWEF4Il0sICJsYWJlbCI6ICJNZWRpY2FsIFNjaG9vbCIsICJzZXJ2aWNlRW5kcG9pbnQiOiAiaHR0cHM6Ly9jYTQyNTY3NDJjZjQubmdyb2suaW8ifQ==\n"
     ]
    }
   ],
   "source": [
    "# Create Invitation\n",
    "invite = await agent_controller.connections.create_invitation()\n",
    "connection_id = invite[\"connection_id\"]\n",
    "print(\"Connection ID\", connection_id)\n",
    "print(\"Invitation\")\n",
    "print(invite['invitation_url'])\n",
    "inviteURL = invite['invitation_url']"
   ]
  },
  {
   "cell_type": "markdown",
   "metadata": {},
   "source": [
    "## 8b. Generate QR Code to be scanned with Mobile SSI Wallet"
   ]
  },
  {
   "cell_type": "code",
   "execution_count": 10,
   "metadata": {},
   "outputs": [
    {
     "data": {
      "image/png": "[encoded data removed]",
      "text/plain": [
       "<IPython.core.display.Image object>"
      ]
     },
     "execution_count": 10,
     "metadata": {
      "image/png": {
       "width": 400
      }
     },
     "output_type": "execute_result"
    },
    {
     "name": "stdout",
     "output_type": "stream",
     "text": [
      "Connection message {'their_did': 'ULVnjmBr8LdChitZ7aVUNM', 'their_label': \"Vineeth's Pixel 3\", 'invitation_mode': 'once', 'routing_state': 'none', 'updated_at': '2020-09-21 15:48:37.933557Z', 'state': 'request', 'initiator': 'self', 'connection_id': '85899fb9-6dc1-4b54-bcd1-ad790588e817', 'accept': 'auto', 'invitation_key': '6hdPutKaHgSP7fdmbbF11sDd2DKy2p7qE6iPQGsVHXAx', 'created_at': '2020-09-21 15:48:23.192372Z'} 85899fb9-6dc1-4b54-bcd1-ad790588e817\n",
      "Connection message {'their_did': 'ULVnjmBr8LdChitZ7aVUNM', 'their_label': \"Vineeth's Pixel 3\", 'invitation_mode': 'once', 'routing_state': 'none', 'updated_at': '2020-09-21 15:48:38.740085Z', 'state': 'response', 'initiator': 'self', 'connection_id': '85899fb9-6dc1-4b54-bcd1-ad790588e817', 'accept': 'auto', 'my_did': 'WCEFqEzPvXxUAbgnVG2YkQ', 'invitation_key': '6hdPutKaHgSP7fdmbbF11sDd2DKy2p7qE6iPQGsVHXAx', 'created_at': '2020-09-21 15:48:23.192372Z'} 85899fb9-6dc1-4b54-bcd1-ad790588e817\n"
     ]
    }
   ],
   "source": [
    "import qrcode\n",
    "# Link for connection invitation\n",
    "input_data = inviteURL\n",
    "# Creating an instance of qrcode\n",
    "qr = qrcode.QRCode(\n",
    "        version=1,\n",
    "        box_size=10,\n",
    "        border=5)\n",
    "qr.add_data(input_data)\n",
    "qr.make(fit=True)\n",
    "img = qr.make_image(fill='black', back_color='white')\n",
    "img.save('issuer_agent_invite_QRcode.png')\n",
    "\n",
    "from IPython.display import Image\n",
    "Image(width=400, filename='./issuer_agent_invite_QRcode.png')"
   ]
  },
  {
   "cell_type": "markdown",
   "metadata": {},
   "source": [
    "## 3c. Check if established connection is in active state"
   ]
  },
  {
   "cell_type": "code",
   "execution_count": 11,
   "metadata": {},
   "outputs": [
    {
     "name": "stdout",
     "output_type": "stream",
     "text": [
      "\u001b[1m\u001b[35mCurrent state for ConnectionId 85899fb9-6dc1-4b54-bcd1-ad790588e817 is response\u001b[0m\n",
      "\u001b[1m\u001b[33mConnectionId 85899fb9-6dc1-4b54-bcd1-ad790588e817 is not in active state yet\u001b[0m\n",
      "\u001b[1m\u001b[34mTrust ping send to ConnectionId {'thread_id': '40a3be2a-9096-4979-8adf-f2d4f91b38c7'} to activate connection\u001b[0m\n",
      "\u001b[1m\u001b[33mConnectionId 85899fb9-6dc1-4b54-bcd1-ad790588e817 is not in active state yet\u001b[0m\n",
      "Connection message {'their_did': 'ULVnjmBr8LdChitZ7aVUNM', 'their_label': \"Vineeth's Pixel 3\", 'invitation_mode': 'once', 'routing_state': 'none', 'updated_at': '2020-09-21 15:48:44.395379Z', 'state': 'active', 'initiator': 'self', 'connection_id': '85899fb9-6dc1-4b54-bcd1-ad790588e817', 'accept': 'auto', 'my_did': 'WCEFqEzPvXxUAbgnVG2YkQ', 'invitation_key': '6hdPutKaHgSP7fdmbbF11sDd2DKy2p7qE6iPQGsVHXAx', 'created_at': '2020-09-21 15:48:23.192372Z'} 85899fb9-6dc1-4b54-bcd1-ad790588e817\n",
      "\u001b[1m\u001b[31mConnection 85899fb9-6dc1-4b54-bcd1-ad790588e817 changed state to active\u001b[0m\n",
      "\u001b[1m\u001b[34mTrust ping send to ConnectionId {'thread_id': '6a881949-ef99-4fa5-ad99-6de97e1e63c9'} to activate connection\u001b[0m\n",
      "\u001b[1m\u001b[32mConnectionId: 85899fb9-6dc1-4b54-bcd1-ad790588e817 is now active. Continue with notebook\u001b[0m\n"
     ]
    }
   ],
   "source": [
    "import time\n",
    "\n",
    "# print('Current state for ConnectionId {} is {}'.format(connection_id,STATE))\n",
    "print(colored(\"Current state for ConnectionId {} is {}\".format(connection_id,STATE), \"magenta\", attrs=[\"bold\"]))\n",
    "while STATE != 'active':\n",
    "#     print('ConnectionId {0} is not in active state yet'.format(connection_id))\n",
    "    print(colored(\"ConnectionId {0} is not in active state yet\".format(connection_id), \"yellow\", attrs=[\"bold\"]))\n",
    "    trust_ping = await agent_controller.messaging.trust_ping(connection_id,'hello!')\n",
    "#     print('Trust ping send to ConnectionId {0} to activate connection'.format(trust_ping))\n",
    "    print(colored(\"Trust ping send to ConnectionId {0} to activate connection\".format(trust_ping), \"blue\", attrs=[\"bold\"]))\n",
    "    time.sleep(5)\n",
    "    \n",
    "# print('ConnectionId: {0} is now active. Continue with notebook'.format(connection_id))\n",
    "print(colored(\"ConnectionId: {0} is now active. Continue with notebook\".format(connection_id), \"green\", attrs=[\"bold\"]))\n"
   ]
  },
  {
   "cell_type": "markdown",
   "metadata": {},
   "source": [
    "## 4. Retrieve stored cred_def_id and schema_id\n"
   ]
  },
  {
   "cell_type": "code",
   "execution_count": 1,
   "metadata": {},
   "outputs": [
    {
     "name": "stdout",
     "output_type": "stream",
     "text": [
      "no stored variable or alias cred_def\n"
     ]
    },
    {
     "ename": "NameError",
     "evalue": "name 'cred_def' is not defined",
     "output_type": "error",
     "traceback": [
      "\u001b[0;31m---------------------------------------------------------------------------\u001b[0m",
      "\u001b[0;31mNameError\u001b[0m                                 Traceback (most recent call last)",
      "\u001b[0;32m<ipython-input-1-53326835b6d7>\u001b[0m in \u001b[0;36m<module>\u001b[0;34m\u001b[0m\n\u001b[1;32m      1\u001b[0m \u001b[0mget_ipython\u001b[0m\u001b[0;34m(\u001b[0m\u001b[0;34m)\u001b[0m\u001b[0;34m.\u001b[0m\u001b[0mrun_line_magic\u001b[0m\u001b[0;34m(\u001b[0m\u001b[0;34m'store'\u001b[0m\u001b[0;34m,\u001b[0m \u001b[0;34m'-r cred_def'\u001b[0m\u001b[0;34m)\u001b[0m\u001b[0;34m\u001b[0m\u001b[0;34m\u001b[0m\u001b[0m\n\u001b[0;32m----> 2\u001b[0;31m \u001b[0mcred_def_id\u001b[0m \u001b[0;34m=\u001b[0m \u001b[0mcred_def\u001b[0m\u001b[0;34m\u001b[0m\u001b[0;34m\u001b[0m\u001b[0m\n\u001b[0m",
      "\u001b[0;31mNameError\u001b[0m: name 'cred_def' is not defined"
     ]
    }
   ],
   "source": [
    "%store -r cred_def_id\n",
    "%store -r schema_id\n",
    "print(schema_id)\n",
    "print(cred_def_id)"
   ]
  },
  {
   "cell_type": "markdown",
   "metadata": {},
   "source": [
    "## 5. Populate the GMC Registration attributes"
   ]
  },
  {
   "cell_type": "code",
   "execution_count": 7,
   "metadata": {},
   "outputs": [
    {
     "name": "stdout",
     "output_type": "stream",
     "text": [
      "Please enter your reference number: 2334\n",
      "Please enter your name VIneeth\n",
      "Please enter your surnameR\n",
      "Please enter your genderM\n",
      "[{'name': 'GMC Reference Number', 'value': '2334'}, {'name': 'GMC Given Name', 'value': 'VIneeth'}, {'name': 'GMC Surname', 'value': 'R'}, {'name': 'GMC Gender', 'value': 'M'}, {'name': 'GMC Reg Status', 'value': 'Active'}, {'name': 'GMC FTP Status', 'value': 'Active'}, {'name': 'GMC Primary Medical Qual', 'value': 'Paediatrition'}, {'name': 'GMC Prov Reg Date', 'value': '00/00/00'}, {'name': 'GMC Full Reg Date', 'value': '00/00/00'}, {'name': 'GMC Spec. Register Status', 'value': 'Active'}, {'name': 'GMC Primary Specialty', 'value': 'Paediatrics'}, {'name': 'GMC GP Register Status', 'value': 'Active'}, {'name': 'GMC GP Register Date', 'value': '00/00/00'}, {'name': 'GMC Revalidation Status', 'value': 'Active'}, {'name': 'GMC Training Information', 'value': 'Stage 1'}, {'name': 'GMC Designated Body', 'value': 'NHS'}, {'name': 'GMC Responsible Officer', 'value': 'Head Doctor'}]\n"
     ]
    }
   ],
   "source": [
    "reference_number=input(\"Please enter your reference number: \")\n",
    "name=input(\"Please enter your name \")\n",
    "surname = input(\"Please enter your surname\")\n",
    "gender = input(\"Please enter your gender\")\n",
    "# reg_status = input(\"Please enter your reg_status\")\n",
    "# ftp_status = input(\"Please enter your FTP status\")\n",
    "# medical_qual = input(\"Please enter your primary medical qualification\")\n",
    "# prov_reg_date =(\"Please enter your provisional registration date\")\n",
    "# full_reg_date =(\"Please enter your full reg date\")\n",
    "# spec_register_status =(\"Please enter your Spec. register status\")\n",
    "# primary_speciality =(\"Please enter your primary speciality\")\n",
    "# gp_register_status =(\"Please enter your gp register status\")\n",
    "# gp_register_date =(\"Please enter your gp register date\")\n",
    "# revalidation_status =(\"Please enter your revalidation status\")\n",
    "# training_information =(\"Please enter your training information\")\n",
    "# designated_body =(\"Please enter your designated body\")\n",
    "# responsible_officer =(\"Please enter your Responsible Officer\")\n",
    "credential_attributes = [\n",
    "    {\"name\": \"GMC Reference Number\", \"value\": reference_number},\n",
    "    {\"name\": \"GMC Given Name\", \"value\": name},\n",
    "    {\"name\": \"GMC Surname\", \"value\": surname},\n",
    "    {\"name\":\"GMC Gender\", \"value\": gender},\n",
    "    {\"name\":\"GMC Reg Status\", \"value\": \"Active\"},\n",
    "    {\"name\":\"GMC FTP Status\", \"value\": \"Active\"},\n",
    "    {\"name\":\"GMC Primary Medical Qual\", \"value\":\"Paediatrition\"},\n",
    "    {\"name\":\"GMC Prov Reg Date\", \"value\":\"00/00/00\"},\n",
    "    {\"name\":\"GMC Full Reg Date\", \"value\":\"00/00/00\"},\n",
    "    {\"name\":\"GMC Spec. Register Status\", \"value\":\"Active\"},\n",
    "    {\"name\":\"GMC Primary Specialty\", \"value\":\"Paediatrics\"},\n",
    "    {\"name\":\"GMC GP Register Status\", \"value\":\"Active\"},\n",
    "    {\"name\":\"GMC GP Register Date\", \"value\":\"00/00/00\"},\n",
    "    {\"name\":\"GMC Revalidation Status\", \"value\":\"Active\"},\n",
    "    {\"name\":\"GMC Training Information\", \"value\":\"Stage 1\"},\n",
    "    {\"name\":\"GMC Designated Body\", \"value\":\"NHS\"},\n",
    "    {\"name\":\"GMC Responsible Officer\", \"value\":\"Head Doctor\"}\n",
    "    \n",
    "    \n",
    "]\n",
    "print(credential_attributes)"
   ]
  },
  {
   "cell_type": "markdown",
   "metadata": {},
   "source": [
    "## 6. Send Credential\n",
    "\n",
    "This sends a credential to a identity holder (User), and automates the rest of the protocol.\n",
    "\n",
    "There are other ways to issue a credential that require multiple api calls.\n",
    "\n",
    "**Arguments**\n",
    "* connection_id: The connection_id of the holder you wish to issue to (MUST be in active state)\n",
    "* schema_id: The id of the schema you wish to issue\n",
    "* cred_def_id: The definition (public key) to sign the credential object. This must refer to the schema_id and be written to the ledger by the same public did that is currently being used by the agent.\n",
    "* attributes: A list of attribute objects as defined above. Must match the schema attributes.\n",
    "* comment (optional): Any string, defaults to \"\"\n",
    "* auto_remove (optional): Boolean, defaults to True. I believe this removes the record of this credential once it has been issued. (TODO: double check)\n",
    "* trace (optional): Boolean, defaults to False. **Not entirely sure about this one, believe its for logging. Also when set to True it throws an error**"
   ]
  },
  {
   "cell_type": "code",
   "execution_count": 12,
   "metadata": {},
   "outputs": [
    {
     "name": "stdout",
     "output_type": "stream",
     "text": [
      "Handle Credentials\n",
      "Credential exchange 7aa94eea-2978-459e-b868-1da07cd94113, role: issuer, state: offer_sent\n",
      "Offering: [{'name': 'GMC Reference Number', 'value': '2334'}, {'name': 'GMC Given Name', 'value': 'VIneeth'}, {'name': 'GMC Surname', 'value': 'R'}, {'name': 'GMC Gender', 'value': 'M'}, {'name': 'GMC Reg Status', 'value': 'Active'}, {'name': 'GMC FTP Status', 'value': 'Active'}, {'name': 'GMC Primary Medical Qual', 'value': 'Paediatrition'}, {'name': 'GMC Prov Reg Date', 'value': '00/00/00'}, {'name': 'GMC Full Reg Date', 'value': '00/00/00'}, {'name': 'GMC Spec. Register Status', 'value': 'Active'}, {'name': 'GMC Primary Specialty', 'value': 'Paediatrics'}, {'name': 'GMC GP Register Status', 'value': 'Active'}, {'name': 'GMC GP Register Date', 'value': '00/00/00'}, {'name': 'GMC Revalidation Status', 'value': 'Active'}, {'name': 'GMC Training Information', 'value': 'Stage 1'}, {'name': 'GMC Designated Body', 'value': 'NHS'}, {'name': 'GMC Responsible Officer', 'value': 'Head Doctor'}]\n",
      "Credential exchange 7aa94eea-2978-459e-b868-1da07cd94113, role: issuer, state: offer_sent\n"
     ]
    }
   ],
   "source": [
    "record = await agent_controller.issuer.send_credential(connection_id, schema_id, cred_def_id, credential_attributes, trace=False)\n",
    "record_id = record['credential_exchange_id']\n",
    "state = record['state']\n",
    "role = record['role']\n",
    "print(f\"Credential exchange {record_id}, role: {role}, state: {state}\")\n"
   ]
  },
  {
   "cell_type": "markdown",
   "metadata": {},
   "source": [
    "## 7. Accept credential in Mobile SSI Wallet"
   ]
  },
  {
   "cell_type": "markdown",
   "metadata": {},
   "source": [
    "## 8. End of Tutorial\n",
    "\n",
    "Be sure to terminate the controller so you can run another tutorial."
   ]
  },
  {
   "cell_type": "code",
   "execution_count": 18,
   "metadata": {},
   "outputs": [
    {
     "name": "stdout",
     "output_type": "stream",
     "text": [
      "None\n"
     ]
    }
   ],
   "source": [
    "response = await agent_controller.terminate()\n",
    "print(response)"
   ]
  },
  {
   "cell_type": "markdown",
   "metadata": {},
   "source": [
    "# Congratulations you are now a licenced doctor. Proceed to the [Health Education England](http://localhost:8891/tree?) to receive your training.\n",
    "\n",
    "You can get the notebook access token by running this in the terminal `docker logs  interopen-hack_hee-notebook_1\n",
    "`"
   ]
  },
  {
   "cell_type": "code",
   "execution_count": null,
   "metadata": {},
   "outputs": [],
   "source": []
  }
 ],
 "metadata": {
  "kernelspec": {
   "display_name": "Python 3",
   "language": "python",
   "name": "python3"
  },
  "language_info": {
   "codemirror_mode": {
    "name": "ipython",
    "version": 3
   },
   "file_extension": ".py",
   "mimetype": "text/x-python",
   "name": "python",
   "nbconvert_exporter": "python",
   "pygments_lexer": "ipython3",
   "version": "3.7.6"
  }
 },
 "nbformat": 4,
 "nbformat_minor": 1
}
