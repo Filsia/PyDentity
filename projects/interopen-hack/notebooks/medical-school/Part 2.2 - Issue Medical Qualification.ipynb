{
 "cells": [
  {
   "cell_type": "markdown",
   "metadata": {
    "collapsed": true
   },
   "source": [
    "# Medical School issues Medical Qualification to Doctor\n",
    "\n",
    "## Before running through this notebook you have configured the agent in [Part 1](http://localhost:8888/notebooks/Part%202%20-%20Writing%20a%20Public%20DID%20to%20the%20Sovrin%20StagingNet.ipynb).\n",
    "\n"
   ]
  },
  {
   "cell_type": "markdown",
   "metadata": {},
   "source": [
    "## 1. Initialise a controller for Medical School"
   ]
  },
  {
   "cell_type": "code",
   "execution_count": 1,
   "metadata": {},
   "outputs": [
    {
     "name": "stdout",
     "output_type": "stream",
     "text": [
      "IPython autoawait is `on`, and set to use `asyncio`\n"
     ]
    }
   ],
   "source": [
    "%autoawait\n",
    "import time\n",
    "import asyncio\n",
    "from termcolor import colored,cprint\n",
    "\n",
    "from aries_basic_controller.aries_controller import AriesAgentController\n",
    "    \n",
    "WEBHOOK_HOST = \"0.0.0.0\"\n",
    "WEBHOOK_PORT = 8022\n",
    "WEBHOOK_BASE = \"\"\n",
    "ADMIN_URL = \"http://medical-school-agent:8021\"\n",
    "\n",
    "# Based on the aca-py agent you wish to control\n",
    "agent_controller = AriesAgentController(webhook_host=WEBHOOK_HOST, webhook_port=WEBHOOK_PORT,\n",
    "                                       webhook_base=WEBHOOK_BASE, admin_url=ADMIN_URL)\n",
    "    "
   ]
  },
  {
   "cell_type": "markdown",
   "metadata": {},
   "source": [
    "## 2. Register Listeners\n",
    "\n",
    "The handler should get called every time the controller receives a webhook with the topic issue_credential, printing out the payload. The agent calls to this webhook every time it receives an issue-credential protocol message from a credential."
   ]
  },
  {
   "cell_type": "code",
   "execution_count": 2,
   "metadata": {},
   "outputs": [],
   "source": [
    "loop = asyncio.get_event_loop()\n",
    "loop.create_task(agent_controller.listen_webhooks())\n",
    "\n",
    "def cred_handler(payload):\n",
    "    print(\"Handle Credentials\")\n",
    "    exchange_id = payload['credential_exchange_id']\n",
    "    state = payload['state']\n",
    "    role = payload['role']\n",
    "    attributes = payload['credential_proposal_dict']['credential_proposal']['attributes']\n",
    "    print(f\"Credential exchange {exchange_id}, role: {role}, state: {state}\")\n",
    "    print(f\"Offering: {attributes}\")\n",
    "    \n",
    "cred_listener = {\n",
    "    \"topic\": \"issue_credential\",\n",
    "    \"handler\": cred_handler\n",
    "}\n",
    "\n",
    "def connections_handler(payload):\n",
    "    global STATE\n",
    "    connection_id = payload[\"connection_id\"]\n",
    "    print(\"Connection message\", payload, connection_id)\n",
    "    STATE = payload['state']\n",
    "    if STATE == 'active':\n",
    "#         print('Connection {0} changed state to active'.format(connection_id))\n",
    "        print(colored(\"Connection {0} changed state to active\".format(connection_id), \"red\", attrs=[\"bold\"]))\n",
    "\n",
    "\n",
    "connection_listener = {\n",
    "    \"handler\": connections_handler,\n",
    "    \"topic\": \"connections\"\n",
    "}\n",
    "\n",
    "agent_controller.register_listeners([cred_listener,connection_listener], defaults=True)\n"
   ]
  },
  {
   "cell_type": "markdown",
   "metadata": {},
   "source": [
    "## 3 Use a previously written schema"
   ]
  },
  {
   "cell_type": "code",
   "execution_count": 3,
   "metadata": {},
   "outputs": [],
   "source": [
    "schema_id = '2yWoMSfeTtYBFpUJFcnpqL:2:Medical Qual:0.0.1'"
   ]
  },
  {
   "cell_type": "markdown",
   "metadata": {},
   "source": [
    "## 4. Write a Credential Definition to the Ledger\n",
    "\n",
    "**Note: Again this can only be done once per issuer, per schema_id.**"
   ]
  },
  {
   "cell_type": "code",
   "execution_count": 4,
   "metadata": {},
   "outputs": [
    {
     "name": "stdout",
     "output_type": "stream",
     "text": [
      "WEhNYuEVXBo1GXec4ZuMmu:3:CL:141255:default\n"
     ]
    }
   ],
   "source": [
    "response = await agent_controller.definitions.write_cred_def(schema_id)\n",
    "\n",
    "cred_def_id = response[\"credential_definition_id\"]\n",
    "print(cred_def_id)"
   ]
  },
  {
   "cell_type": "markdown",
   "metadata": {},
   "source": [
    "**Note: You should be able to see both schema and definition transactions on Sovrin Stagingnet network with [Indyscan](https://indyscan.io/home/SOVRIN_STAGINGNET)**"
   ]
  },
  {
   "cell_type": "markdown",
   "metadata": {},
   "source": [
    "## 5. Populate the Attribues to Issue to Idenity Holder (User)\n",
    "\n",
    "We will issue a credential to the identity holder consisting of the following attributes:\n",
    "\n",
    "\n",
    "2yWoMSfeTtYBFpUJFcnpqL:2:Medical Qual:0.0.1\n",
    "{\n",
    "       \"attrNames\":[\n",
    "           \"MDQ Primary Medical Qual\",\n",
    "           \"MDQ Issuing Institution\",\n",
    "           \"MDQ Surname\",\n",
    "           \"MDQ Given Names\",\n",
    "           \"MDQ Issue Date\"\n",
    "       ],\n",
    "       \"name\":\"Medical Qual\",\n",
    "       \"version\":\"0.0.1\"\n",
    "}\n",
    "\n",
    "\n",
    "The notebook will ask you to input the identity holder's full name and age which will be used to populate the schema above with the identity holders attribute information."
   ]
  },
  {
   "cell_type": "code",
   "execution_count": 5,
   "metadata": {},
   "outputs": [
    {
     "name": "stdout",
     "output_type": "stream",
     "text": [
      "Please enter your qualification: MSc Comp Sci\n",
      "Please enter qualification institution: Rhodes\n",
      "Please enter your surname: Spies\n",
      "Please enter your name: Lohan\n",
      "Please enter the qualification issue date: 2020-12-31\n",
      "[{'name': 'MDQ Primary Medical Qual', 'value': 'MSc Comp Sci'}, {'name': 'MDQ Issuing Institution', 'value': 'Rhodes'}, {'name': 'MDQ Surname', 'value': 'Spies'}, {'name': 'MDQ Given Names', 'value': 'Lohan'}, {'name': 'MDQ Issue Date', 'value': '2020-12-31'}]\n"
     ]
    }
   ],
   "source": [
    "qualification=input(\"Please enter your qualification: \")\n",
    "institution=input(\"Please enter qualification institution: \")\n",
    "surname=input(\"Please enter your surname: \")\n",
    "name=input(\"Please enter your name: \")\n",
    "issue_date=input(\"Please enter the qualification issue date: \")\n",
    "\n",
    "credential_attributes = [\n",
    "    {\"name\": \"MDQ Primary Medical Qual\", \"value\": qualification},\n",
    "    {\"name\": \"MDQ Issuing Institution\", \"value\": institution},\n",
    "    {\"name\": \"MDQ Surname\", \"value\": surname},\n",
    "    {\"name\": \"MDQ Given Names\", \"value\": name},\n",
    "    {\"name\": \"MDQ Issue Date\", \"value\": issue_date}\n",
    "]\n",
    "print(credential_attributes)"
   ]
  },
  {
   "cell_type": "markdown",
   "metadata": {},
   "source": [
    "## 7. Download Identity Holder Mobile SSI Wallet\n",
    "Please download a mobile SSI wallet such as [Connect.me](https://connect.me/), [Trinsic](https://trinsic.id/trinsic-wallet/) or any other Aries compatible wallet."
   ]
  },
  {
   "cell_type": "markdown",
   "metadata": {},
   "source": [
    "## 8. Create a connection invitation to scan with the Mobile SSI Wallet\n",
    "\n",
    "To make a connection with an identity holders wallet we must create a connection invitation and present the QR code to be scanned by the identity holders wallet. The identity holder scan this QR code and then communicate back to the agent through the exposed ngrok endpoint.\n",
    "\n",
    "Once a connection is in an active state, the agent and the identity holders mobile wallet now have a secure pairwise relationship over which they can exchange verifiable credentials."
   ]
  },
  {
   "cell_type": "markdown",
   "metadata": {},
   "source": [
    "## 8a. Check for any existing connections"
   ]
  },
  {
   "cell_type": "code",
   "execution_count": 6,
   "metadata": {},
   "outputs": [
    {
     "name": "stdout",
     "output_type": "stream",
     "text": [
      "EXISTING CONNECTIONS\n",
      "ConnectionID: 19520f30-4d1f-41ef-8ddc-af7775186cba Status: active\n",
      "ConnectionID: 376256ae-8a5e-42b0-b5d3-837ebc4ea429 Status: active\n"
     ]
    }
   ],
   "source": [
    "# Check for existing connections\n",
    "connection = await agent_controller.connections.get_connections()\n",
    "print(\"EXISTING CONNECTIONS\")\n",
    "for key, value in connection.items():\n",
    "    for item in value:\n",
    "        print('ConnectionID:', item['connection_id'], 'Status:',item['state'])"
   ]
  },
  {
   "cell_type": "markdown",
   "metadata": {},
   "source": [
    "## 8b. Create an Invitation"
   ]
  },
  {
   "cell_type": "code",
   "execution_count": 7,
   "metadata": {},
   "outputs": [
    {
     "name": "stdout",
     "output_type": "stream",
     "text": [
      "Connection ID df4d95b6-53ec-44a2-8dd7-0ed4ab0686df\n",
      "Invitation\n",
      "http://18ffa296af94.ngrok.io?c_i=eyJAdHlwZSI6ICJkaWQ6c292OkJ6Q2JzTlloTXJqSGlxWkRUVUFTSGc7c3BlYy9jb25uZWN0aW9ucy8xLjAvaW52aXRhdGlvbiIsICJAaWQiOiAiYTYwYWM0MGMtZGQwOC00MzdlLTlhZDUtMzVjZDMyZmJlMjNmIiwgInNlcnZpY2VFbmRwb2ludCI6ICJodHRwOi8vMThmZmEyOTZhZjk0Lm5ncm9rLmlvIiwgInJlY2lwaWVudEtleXMiOiBbIjRyS0pLa1JzSkFpRnBSMTY0bjRSOWZRanJia2Z3NThVQlE1c0hhQjdETFQyIl0sICJsYWJlbCI6ICJNZWRpY2FsIFNjaG9vbCJ9\n",
      "Connection message {'routing_state': 'none', 'initiator': 'self', 'created_at': '2020-09-21 15:06:02.406159Z', 'connection_id': 'df4d95b6-53ec-44a2-8dd7-0ed4ab0686df', 'updated_at': '2020-09-21 15:06:02.406159Z', 'state': 'invitation', 'accept': 'auto', 'invitation_mode': 'once', 'invitation_key': '4rKJKkRsJAiFpR164n4R9fQjrbkfw58UBQ5sHaB7DLT2'} df4d95b6-53ec-44a2-8dd7-0ed4ab0686df\n"
     ]
    }
   ],
   "source": [
    "# Create Invitation\n",
    "invite = await agent_controller.connections.create_invitation()\n",
    "connection_id = invite[\"connection_id\"]\n",
    "print(\"Connection ID\", connection_id)\n",
    "print(\"Invitation\")\n",
    "print(invite['invitation_url'])\n",
    "inviteURL = invite['invitation_url']"
   ]
  },
  {
   "cell_type": "markdown",
   "metadata": {},
   "source": [
    "## 8c. Generate QR Code to be scanned with Mobile SSI Wallet"
   ]
  },
  {
   "cell_type": "code",
   "execution_count": 8,
   "metadata": {},
   "outputs": [
    {
     "data": {
      "image/png": "[encoded data removed]",
      "text/plain": [
       "<IPython.core.display.Image object>"
      ]
     },
     "execution_count": 8,
     "metadata": {
      "image/png": {
       "width": 400
      }
     },
     "output_type": "execute_result"
    },
    {
     "name": "stdout",
     "output_type": "stream",
     "text": [
      "Connection message {'their_did': 'Gqn94Zev7WGmxtCZcXujKp', 'routing_state': 'none', 'initiator': 'self', 'their_label': 'EAX', 'created_at': '2020-09-21 15:06:02.406159Z', 'connection_id': 'df4d95b6-53ec-44a2-8dd7-0ed4ab0686df', 'updated_at': '2020-09-21 15:06:15.712284Z', 'state': 'request', 'accept': 'auto', 'invitation_mode': 'once', 'invitation_key': '4rKJKkRsJAiFpR164n4R9fQjrbkfw58UBQ5sHaB7DLT2'} df4d95b6-53ec-44a2-8dd7-0ed4ab0686df\n",
      "Connection message {'their_did': 'Gqn94Zev7WGmxtCZcXujKp', 'routing_state': 'none', 'initiator': 'self', 'their_label': 'EAX', 'created_at': '2020-09-21 15:06:02.406159Z', 'connection_id': 'df4d95b6-53ec-44a2-8dd7-0ed4ab0686df', 'updated_at': '2020-09-21 15:06:15.738777Z', 'my_did': 'PiZWYwqNJEbdxVYhtTgeNQ', 'state': 'response', 'accept': 'auto', 'invitation_mode': 'once', 'invitation_key': '4rKJKkRsJAiFpR164n4R9fQjrbkfw58UBQ5sHaB7DLT2'} df4d95b6-53ec-44a2-8dd7-0ed4ab0686df\n"
     ]
    }
   ],
   "source": [
    "import qrcode\n",
    "# Link for connection invitation\n",
    "input_data = inviteURL\n",
    "# Creating an instance of qrcode\n",
    "qr = qrcode.QRCode(\n",
    "        version=1,\n",
    "        box_size=10,\n",
    "        border=5)\n",
    "qr.add_data(input_data)\n",
    "qr.make(fit=True)\n",
    "img = qr.make_image(fill='black', back_color='white')\n",
    "img.save('medical-school-agent_invite_QRcode.png')\n",
    "\n",
    "from IPython.display import Image\n",
    "Image(width=400, filename='./medical-school-agent_invite_QRcode.png')"
   ]
  },
  {
   "cell_type": "markdown",
   "metadata": {},
   "source": [
    "## 8d. Check if established connection is in active state"
   ]
  },
  {
   "cell_type": "code",
   "execution_count": 9,
   "metadata": {},
   "outputs": [
    {
     "name": "stdout",
     "output_type": "stream",
     "text": [
      "\u001b[1m\u001b[35mCurrent state for ConnectionId df4d95b6-53ec-44a2-8dd7-0ed4ab0686df is response\u001b[0m\n",
      "\u001b[1m\u001b[33mConnectionId df4d95b6-53ec-44a2-8dd7-0ed4ab0686df is not in active state yet\u001b[0m\n",
      "\u001b[1m\u001b[34mTrust ping send to ConnectionId {'thread_id': '98569ef3-c58b-4a04-b950-29e45f52db4b'} to activate connection\u001b[0m\n",
      "\u001b[1m\u001b[33mConnectionId df4d95b6-53ec-44a2-8dd7-0ed4ab0686df is not in active state yet\u001b[0m\n",
      "Connection message {'their_did': 'Gqn94Zev7WGmxtCZcXujKp', 'routing_state': 'none', 'initiator': 'self', 'their_label': 'EAX', 'created_at': '2020-09-21 15:06:02.406159Z', 'connection_id': 'df4d95b6-53ec-44a2-8dd7-0ed4ab0686df', 'updated_at': '2020-09-21 15:06:19.814883Z', 'my_did': 'PiZWYwqNJEbdxVYhtTgeNQ', 'state': 'active', 'accept': 'auto', 'invitation_mode': 'once', 'invitation_key': '4rKJKkRsJAiFpR164n4R9fQjrbkfw58UBQ5sHaB7DLT2'} df4d95b6-53ec-44a2-8dd7-0ed4ab0686df\n",
      "\u001b[1m\u001b[31mConnection df4d95b6-53ec-44a2-8dd7-0ed4ab0686df changed state to active\u001b[0m\n",
      "\u001b[1m\u001b[34mTrust ping send to ConnectionId {'thread_id': 'be365e70-cd50-461b-a2fd-461680e13cd9'} to activate connection\u001b[0m\n",
      "\u001b[1m\u001b[32mConnectionId: df4d95b6-53ec-44a2-8dd7-0ed4ab0686df is now active. Continue with notebook\u001b[0m\n"
     ]
    }
   ],
   "source": [
    "import time\n",
    "\n",
    "# print('Current state for ConnectionId {} is {}'.format(connection_id,STATE))\n",
    "print(colored(\"Current state for ConnectionId {} is {}\".format(connection_id,STATE), \"magenta\", attrs=[\"bold\"]))\n",
    "while STATE != 'active':\n",
    "#     print('ConnectionId {0} is not in active state yet'.format(connection_id))\n",
    "    print(colored(\"ConnectionId {0} is not in active state yet\".format(connection_id), \"yellow\", attrs=[\"bold\"]))\n",
    "    trust_ping = await agent_controller.messaging.trust_ping(connection_id,'hello!')\n",
    "#     print('Trust ping send to ConnectionId {0} to activate connection'.format(trust_ping))\n",
    "    print(colored(\"Trust ping send to ConnectionId {0} to activate connection\".format(trust_ping), \"blue\", attrs=[\"bold\"]))\n",
    "    time.sleep(5)\n",
    "    \n",
    "# print('ConnectionId: {0} is now active. Continue with notebook'.format(connection_id))\n",
    "print(colored(\"ConnectionId: {0} is now active. Continue with notebook\".format(connection_id), \"green\", attrs=[\"bold\"]))\n"
   ]
  },
  {
   "cell_type": "markdown",
   "metadata": {},
   "source": [
    "## 9. Send Credential\n",
    "\n",
    "This sends a credential to a identity holder (User), and automates the rest of the protocol.\n",
    "\n",
    "There are other ways to issue a credential that require multiple api calls.\n",
    "\n",
    "**Arguments**\n",
    "* connection_id: The connection_id of the holder you wish to issue to (MUST be in active state)\n",
    "* schema_id: The id of the schema you wish to issue\n",
    "* cred_def_id: The definition (public key) to sign the credential object. This must refer to the schema_id and be written to the ledger by the same public did that is currently being used by the agent.\n",
    "* attributes: A list of attribute objects as defined above. Must match the schema attributes.\n",
    "* comment (optional): Any string, defaults to \"\"\n",
    "* auto_remove (optional): Boolean, defaults to True. I believe this removes the record of this credential once it has been issued. (TODO: double check)\n",
    "* trace (optional): Boolean, defaults to False. **Not entirely sure about this one, believe its for logging. Also when set to True it throws an error**"
   ]
  },
  {
   "cell_type": "code",
   "execution_count": 10,
   "metadata": {},
   "outputs": [
    {
     "name": "stdout",
     "output_type": "stream",
     "text": [
      "Handle Credentials\n",
      "Credential exchange 316fd963-f457-4a75-921d-379ecd8862d9, role: issuer, state: offer_sent\n",
      "Offering: [{'name': 'MDQ Primary Medical Qual', 'value': 'MSc Comp Sci'}, {'name': 'MDQ Issuing Institution', 'value': 'Rhodes'}, {'name': 'MDQ Surname', 'value': 'Spies'}, {'name': 'MDQ Given Names', 'value': 'Lohan'}, {'name': 'MDQ Issue Date', 'value': '2020-12-31'}]\n",
      "Credential exchange 316fd963-f457-4a75-921d-379ecd8862d9, role: issuer, state: offer_sent\n",
      "Handle Credentials\n",
      "Credential exchange 316fd963-f457-4a75-921d-379ecd8862d9, role: issuer, state: request_received\n",
      "Offering: [{'name': 'MDQ Primary Medical Qual', 'value': 'MSc Comp Sci'}, {'name': 'MDQ Issuing Institution', 'value': 'Rhodes'}, {'name': 'MDQ Surname', 'value': 'Spies'}, {'name': 'MDQ Given Names', 'value': 'Lohan'}, {'name': 'MDQ Issue Date', 'value': '2020-12-31'}]\n",
      "Handle Credentials\n",
      "Credential exchange 316fd963-f457-4a75-921d-379ecd8862d9, role: issuer, state: credential_issued\n",
      "Offering: [{'name': 'MDQ Primary Medical Qual', 'value': 'MSc Comp Sci'}, {'name': 'MDQ Issuing Institution', 'value': 'Rhodes'}, {'name': 'MDQ Surname', 'value': 'Spies'}, {'name': 'MDQ Given Names', 'value': 'Lohan'}, {'name': 'MDQ Issue Date', 'value': '2020-12-31'}]\n"
     ]
    }
   ],
   "source": [
    "record = await agent_controller.issuer.send_credential(connection_id, schema_id, cred_def_id, credential_attributes, trace=False)\n",
    "record_id = record['credential_exchange_id']\n",
    "state = record['state']\n",
    "role = record['role']\n",
    "print(f\"Credential exchange {record_id}, role: {role}, state: {state}\")\n"
   ]
  },
  {
   "cell_type": "markdown",
   "metadata": {},
   "source": [
    "## 10. Accept credential in Mobile SSI Wallet"
   ]
  },
  {
   "cell_type": "markdown",
   "metadata": {},
   "source": [
    "## 11. End of Tutorial\n",
    "\n",
    "Be sure to terminate the controller so you can run another tutorial."
   ]
  },
  {
   "cell_type": "code",
   "execution_count": 18,
   "metadata": {},
   "outputs": [
    {
     "name": "stdout",
     "output_type": "stream",
     "text": [
      "None\n"
     ]
    }
   ],
   "source": [
    "response = await agent_controller.terminate()\n",
    "print(response)"
   ]
  },
  {
   "cell_type": "markdown",
   "metadata": {},
   "source": [
    "# Proceed to Interact with the [General Medical Council](http://localhost:8890) to receive your Doctor's Licence.\n",
    "\n",
    "You can get the token for this notebook by running `docker logs  interopen-hack_gmc-notebook_1`"
   ]
  },
  {
   "cell_type": "code",
   "execution_count": null,
   "metadata": {},
   "outputs": [],
   "source": []
  }
 ],
 "metadata": {
  "kernelspec": {
   "display_name": "Python 3",
   "language": "python",
   "name": "python3"
  },
  "language_info": {
   "codemirror_mode": {
    "name": "ipython",
    "version": 3
   },
   "file_extension": ".py",
   "mimetype": "text/x-python",
   "name": "python",
   "nbconvert_exporter": "python",
   "pygments_lexer": "ipython3",
   "version": "3.7.6"
  }
 },
 "nbformat": 4,
 "nbformat_minor": 1
}
