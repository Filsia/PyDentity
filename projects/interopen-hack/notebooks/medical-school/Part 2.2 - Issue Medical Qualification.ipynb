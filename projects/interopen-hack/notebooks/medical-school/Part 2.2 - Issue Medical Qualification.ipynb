{
 "cells": [
  {
   "cell_type": "markdown",
   "metadata": {
    "collapsed": true
   },
   "source": [
    "# Medical School issues Medical Qualification to Doctor\n",
    "\n",
    "## Before running through this notebook you have configured the agent in [Part 2.1 - Initialising the Medical School Agent.ipynb](http://127.0.0.1:8889/notebooks/Part%202.1%20-%20Initialising%20the%20Medical%20School%20Agent.ipynb).\n",
    "\n"
   ]
  },
  {
   "cell_type": "markdown",
   "metadata": {},
   "source": [
    "## 1. Initialise a controller for Medical School"
   ]
  },
  {
   "cell_type": "code",
   "execution_count": 1,
   "metadata": {},
   "outputs": [
    {
     "name": "stdout",
     "output_type": "stream",
     "text": [
      "IPython autoawait is `on`, and set to use `asyncio`\n"
     ]
    }
   ],
   "source": [
    "%autoawait\n",
    "import time\n",
    "import asyncio\n",
    "from termcolor import colored,cprint\n",
    "\n",
    "from aries_basic_controller.aries_controller import AriesAgentController\n",
    "    \n",
    "WEBHOOK_HOST = \"0.0.0.0\"\n",
    "WEBHOOK_PORT = 8022\n",
    "WEBHOOK_BASE = \"\"\n",
    "ADMIN_URL = \"http://medical-school-agent:8021\"\n",
    "\n",
    "# Based on the aca-py agent you wish to control\n",
    "agent_controller = AriesAgentController(webhook_host=WEBHOOK_HOST, webhook_port=WEBHOOK_PORT,\n",
    "                                       webhook_base=WEBHOOK_BASE, admin_url=ADMIN_URL)\n",
    "    "
   ]
  },
  {
   "cell_type": "markdown",
   "metadata": {},
   "source": [
    "## 2. Register Listeners\n",
    "\n",
    "The handler should get called every time the controller receives a webhook with the topic issue_credential, printing out the payload. The agent calls to this webhook every time it receives an issue-credential protocol message from a credential."
   ]
  },
  {
   "cell_type": "code",
   "execution_count": 2,
   "metadata": {},
   "outputs": [],
   "source": [
    "loop = asyncio.get_event_loop()\n",
    "loop.create_task(agent_controller.listen_webhooks())\n",
    "\n",
    "def cred_handler(payload):\n",
    "    print(\"Handle Credentials\")\n",
    "    exchange_id = payload['credential_exchange_id']\n",
    "    state = payload['state']\n",
    "    role = payload['role']\n",
    "    attributes = payload['credential_proposal_dict']['credential_proposal']['attributes']\n",
    "    print(f\"Credential exchange {exchange_id}, role: {role}, state: {state}\")\n",
    "    print(f\"Offering: {attributes}\")\n",
    "    \n",
    "cred_listener = {\n",
    "    \"topic\": \"issue_credential\",\n",
    "    \"handler\": cred_handler\n",
    "}\n",
    "\n",
    "def connections_handler(payload):\n",
    "    global STATE\n",
    "    connection_id = payload[\"connection_id\"]\n",
    "    print(\"Connection message\", payload, connection_id)\n",
    "    STATE = payload['state']\n",
    "    if STATE == 'active':\n",
    "#         print('Connection {0} changed state to active'.format(connection_id))\n",
    "        print(colored(\"Connection {0} changed state to active\".format(connection_id), \"red\", attrs=[\"bold\"]))\n",
    "\n",
    "\n",
    "connection_listener = {\n",
    "    \"handler\": connections_handler,\n",
    "    \"topic\": \"connections\"\n",
    "}\n",
    "\n",
    "agent_controller.register_listeners([cred_listener,connection_listener], defaults=True)\n"
   ]
  },
  {
   "cell_type": "markdown",
   "metadata": {},
   "source": [
    "## 3. Copy across the `schema_id` and `cred_def_id` stored in Part 2.1\n",
    "\n",
    "The Medical School Agent must have a credential definition on the ledger to issue these credentials.\n"
   ]
  },
  {
   "cell_type": "code",
   "execution_count": 3,
   "metadata": {},
   "outputs": [
    {
     "name": "stdout",
     "output_type": "stream",
     "text": [
      "ViGxKFPsbCXs1zoUJst28g:3:CL:141255:default\n",
      "2yWoMSfeTtYBFpUJFcnpqL:2:Medical Qual:0.0.1\n"
     ]
    }
   ],
   "source": [
    "%store -r cred_def_id\n",
    "%store -r schema_id\n",
    "print(cred_def_id)\n",
    "print(schema_id)"
   ]
  },
  {
   "cell_type": "markdown",
   "metadata": {},
   "source": [
    "## 4. Make sure you have a Mobile SSI Wallet dowloaded and configured to using the Sovrin StagingNet\n",
    "Please download a mobile SSI wallet such as [Connect.me](https://connect.me/), [Trinsic](https://trinsic.id/trinsic-wallet/) or any other Aries compatible wallet."
   ]
  },
  {
   "cell_type": "markdown",
   "metadata": {},
   "source": [
    "## 5. Create a connection invitation to scan with the Mobile SSI Wallet\n",
    "\n",
    "To make a connection with an identity holders wallet we must create a connection invitation and present the QR code to be scanned by the identity holders wallet. The identity holder scan this QR code and then communicate back to the agent through the exposed ngrok endpoint.\n",
    "\n",
    "Once a connection is in an active state, the agent and the identity holders mobile wallet now have a secure pairwise relationship over which they can exchange verifiable credentials."
   ]
  },
  {
   "cell_type": "markdown",
   "metadata": {},
   "source": [
    "## 5a. Check for any existing connections"
   ]
  },
  {
   "cell_type": "code",
   "execution_count": 4,
   "metadata": {},
   "outputs": [
    {
     "name": "stdout",
     "output_type": "stream",
     "text": [
      "EXISTING CONNECTIONS\n"
     ]
    }
   ],
   "source": [
    "# Check for existing connections\n",
    "connection = await agent_controller.connections.get_connections()\n",
    "print(\"EXISTING CONNECTIONS\")\n",
    "for key, value in connection.items():\n",
    "    for item in value:\n",
    "        print('ConnectionID:', item['connection_id'], 'Status:',item['state'])"
   ]
  },
  {
   "cell_type": "markdown",
   "metadata": {},
   "source": [
    "## 5b. Create an Invitation"
   ]
  },
  {
   "cell_type": "code",
   "execution_count": 5,
   "metadata": {},
   "outputs": [
    {
     "name": "stdout",
     "output_type": "stream",
     "text": [
      "Connection message {'initiator': 'self', 'connection_id': '7378dc4e-52fa-4675-adc3-fc3491f84e16', 'created_at': '2020-09-22 13:03:37.195642Z', 'invitation_key': '9NU6Zhp7HX9RsqjkJvZ8iVjPPhcy6tGPDEALJXhXyi81', 'state': 'invitation', 'invitation_mode': 'once', 'updated_at': '2020-09-22 13:03:37.195642Z', 'accept': 'auto', 'routing_state': 'none'} 7378dc4e-52fa-4675-adc3-fc3491f84e16\n",
      "Connection ID 7378dc4e-52fa-4675-adc3-fc3491f84e16\n",
      "Invitation\n",
      "https://e34c7fe6cfb2.ngrok.io?c_i=eyJAdHlwZSI6ICJkaWQ6c292OkJ6Q2JzTlloTXJqSGlxWkRUVUFTSGc7c3BlYy9jb25uZWN0aW9ucy8xLjAvaW52aXRhdGlvbiIsICJAaWQiOiAiYmRlNjFlMjQtNTc3ZS00NzBhLWI5ZmItMzM0NTQwOTc4ZjNmIiwgInJlY2lwaWVudEtleXMiOiBbIjlOVTZaaHA3SFg5UnNxamtKdlo4aVZqUFBoY3k2dEdQREVBTEpYaFh5aTgxIl0sICJzZXJ2aWNlRW5kcG9pbnQiOiAiaHR0cHM6Ly9lMzRjN2ZlNmNmYjIubmdyb2suaW8iLCAibGFiZWwiOiAiTWVkaWNhbCBTY2hvb2wifQ==\n"
     ]
    }
   ],
   "source": [
    "# Create Invitation\n",
    "invite = await agent_controller.connections.create_invitation()\n",
    "connection_id = invite[\"connection_id\"]\n",
    "print(\"Connection ID\", connection_id)\n",
    "print(\"Invitation\")\n",
    "print(invite['invitation_url'])\n",
    "inviteURL = invite['invitation_url']"
   ]
  },
  {
   "cell_type": "markdown",
   "metadata": {},
   "source": [
    "## 5c. Generate QR Code to be scanned with Mobile SSI Wallet"
   ]
  },
  {
   "cell_type": "code",
   "execution_count": 6,
   "metadata": {},
   "outputs": [
    {
     "data": {
      "image/png": "[encoded data removed]",
      "text/plain": [
       "<IPython.core.display.Image object>"
      ]
     },
     "execution_count": 6,
     "metadata": {
      "image/png": {
       "width": 400
      }
     },
     "output_type": "execute_result"
    },
    {
     "name": "stdout",
     "output_type": "stream",
     "text": [
      "Connection message {'initiator': 'self', 'connection_id': '7378dc4e-52fa-4675-adc3-fc3491f84e16', 'created_at': '2020-09-22 13:03:37.195642Z', 'their_did': '7yB92kA9mTiewUUmpNzeGu', 'invitation_key': '9NU6Zhp7HX9RsqjkJvZ8iVjPPhcy6tGPDEALJXhXyi81', 'state': 'request', 'invitation_mode': 'once', 'updated_at': '2020-09-22 13:03:53.883133Z', 'their_label': \"Vineeth's Pixel 3\", 'accept': 'auto', 'routing_state': 'none'} 7378dc4e-52fa-4675-adc3-fc3491f84e16\n",
      "Connection message {'initiator': 'self', 'connection_id': '7378dc4e-52fa-4675-adc3-fc3491f84e16', 'created_at': '2020-09-22 13:03:37.195642Z', 'their_did': '7yB92kA9mTiewUUmpNzeGu', 'invitation_key': '9NU6Zhp7HX9RsqjkJvZ8iVjPPhcy6tGPDEALJXhXyi81', 'state': 'response', 'invitation_mode': 'once', 'my_did': 'AhP2NPD9DX7rY5TqzBcBcP', 'updated_at': '2020-09-22 13:03:54.079533Z', 'their_label': \"Vineeth's Pixel 3\", 'accept': 'auto', 'routing_state': 'none'} 7378dc4e-52fa-4675-adc3-fc3491f84e16\n"
     ]
    }
   ],
   "source": [
    "import qrcode\n",
    "# Link for connection invitation\n",
    "input_data = inviteURL\n",
    "# Creating an instance of qrcode\n",
    "qr = qrcode.QRCode(\n",
    "        version=1,\n",
    "        box_size=10,\n",
    "        border=5)\n",
    "qr.add_data(input_data)\n",
    "qr.make(fit=True)\n",
    "img = qr.make_image(fill='black', back_color='white')\n",
    "img.save('medical-school-agent_invite_QRcode.png')\n",
    "\n",
    "from IPython.display import Image\n",
    "Image(width=400, filename='./medical-school-agent_invite_QRcode.png')"
   ]
  },
  {
   "cell_type": "markdown",
   "metadata": {},
   "source": [
    "## 5d. Check if established connection is in active state"
   ]
  },
  {
   "cell_type": "code",
   "execution_count": 7,
   "metadata": {},
   "outputs": [
    {
     "name": "stdout",
     "output_type": "stream",
     "text": [
      "\u001b[1m\u001b[35mCurrent state for ConnectionId 7378dc4e-52fa-4675-adc3-fc3491f84e16 is response\u001b[0m\n",
      "\u001b[1m\u001b[33mConnectionId 7378dc4e-52fa-4675-adc3-fc3491f84e16 is not in active state yet\u001b[0m\n",
      "\u001b[1m\u001b[34mTrust ping send to ConnectionId {'thread_id': '76bca1ff-893c-45b4-be2f-2d4c7f2176a8'} to activate connection\u001b[0m\n",
      "\u001b[1m\u001b[33mConnectionId 7378dc4e-52fa-4675-adc3-fc3491f84e16 is not in active state yet\u001b[0m\n",
      "Connection message {'initiator': 'self', 'connection_id': '7378dc4e-52fa-4675-adc3-fc3491f84e16', 'created_at': '2020-09-22 13:03:37.195642Z', 'their_did': '7yB92kA9mTiewUUmpNzeGu', 'invitation_key': '9NU6Zhp7HX9RsqjkJvZ8iVjPPhcy6tGPDEALJXhXyi81', 'state': 'active', 'invitation_mode': 'once', 'my_did': 'AhP2NPD9DX7rY5TqzBcBcP', 'updated_at': '2020-09-22 13:04:00.457026Z', 'their_label': \"Vineeth's Pixel 3\", 'accept': 'auto', 'routing_state': 'none'} 7378dc4e-52fa-4675-adc3-fc3491f84e16\n",
      "\u001b[1m\u001b[31mConnection 7378dc4e-52fa-4675-adc3-fc3491f84e16 changed state to active\u001b[0m\n",
      "\u001b[1m\u001b[34mTrust ping send to ConnectionId {'thread_id': '6150cbce-062d-4fbc-b107-63fc8d5a68bd'} to activate connection\u001b[0m\n",
      "\u001b[1m\u001b[32mConnectionId: 7378dc4e-52fa-4675-adc3-fc3491f84e16 is now active. Continue with notebook\u001b[0m\n"
     ]
    }
   ],
   "source": [
    "import time\n",
    "\n",
    "# print('Current state for ConnectionId {} is {}'.format(connection_id,STATE))\n",
    "print(colored(\"Current state for ConnectionId {} is {}\".format(connection_id,STATE), \"magenta\", attrs=[\"bold\"]))\n",
    "while STATE != 'active':\n",
    "#     print('ConnectionId {0} is not in active state yet'.format(connection_id))\n",
    "    print(colored(\"ConnectionId {0} is not in active state yet\".format(connection_id), \"yellow\", attrs=[\"bold\"]))\n",
    "    trust_ping = await agent_controller.messaging.trust_ping(connection_id,'hello!')\n",
    "#     print('Trust ping send to ConnectionId {0} to activate connection'.format(trust_ping))\n",
    "    print(colored(\"Trust ping send to ConnectionId {0} to activate connection\".format(trust_ping), \"blue\", attrs=[\"bold\"]))\n",
    "    time.sleep(5)\n",
    "    \n",
    "# print('ConnectionId: {0} is now active. Continue with notebook'.format(connection_id))\n",
    "print(colored(\"ConnectionId: {0} is now active. Continue with notebook\".format(connection_id), \"green\", attrs=[\"bold\"]))\n"
   ]
  },
  {
   "cell_type": "markdown",
   "metadata": {},
   "source": [
    "###  6a.Generate Proof Request\n"
   ]
  },
  {
   "cell_type": "code",
   "execution_count": 8,
   "metadata": {},
   "outputs": [
    {
     "name": "stdout",
     "output_type": "stream",
     "text": [
      "Request proof of Passport information\n"
     ]
    }
   ],
   "source": [
    "print(\"Request proof of Passport information\")\n",
    "\n",
    "#Set some variables\n",
    "\n",
    "REVOCATION = False\n",
    "SELF_ATTESTED = False\n",
    "EXCHANGE_TRACING = False\n",
    "\n",
    "req_attrs = [\n",
    "    {\"name\": \"PSS Given Names\", \"restrictions\": []},\n",
    "    {\"name\": \"PSS Surname\", \"restrictions\": []},\n",
    "]\n",
    "\n",
    "if REVOCATION:\n",
    "    req_attrs.append(\n",
    "        {\n",
    "            \"name\": \"skill\",\n",
    "            \"restrictions\": [{\"schema_id\": schema_id}],\n",
    "            \"non_revoked\": {\"to\": int(time.time() - 1)},\n",
    "        },\n",
    "    )\n",
    "\n",
    "if SELF_ATTESTED:\n",
    "    # test self-attested claims\n",
    "    req_attrs.append({\"name\": \"country\"},)\n",
    "\n",
    "#Set predicates for Zero Knowledge Proofs\n",
    "req_preds = []\n",
    "\n",
    "indy_proof_request = {\n",
    "    \"name\": \"Proof of Passport Credential\",\n",
    "    \"version\": \"1.0\",\n",
    "    \"requested_attributes\": {\n",
    "        f\"0_{req_attr['name']}_uuid\":\n",
    "        req_attr for req_attr in req_attrs\n",
    "    },\n",
    "    \"requested_predicates\": {\n",
    "        f\"0_{req_pred['name']}_GE_uuid\":\n",
    "        req_pred for req_pred in req_preds\n",
    "    },\n",
    "}\n",
    "\n",
    "if REVOCATION:\n",
    "    indy_proof_request[\"non_revoked\"] = {\"to\": int(time.time())}\n",
    "\n",
    "#proof_request = indy_proof_request\n",
    "exchange_tracing_id = EXCHANGE_TRACING\n",
    "proof_request_web_request = {\n",
    "    \"connection_id\": connection_id,\n",
    "    \"proof_request\": indy_proof_request,\n",
    "    \"trace\": EXCHANGE_TRACING,\n",
    "}"
   ]
  },
  {
   "cell_type": "markdown",
   "metadata": {},
   "source": [
    "### 6b. Send Proof Request"
   ]
  },
  {
   "cell_type": "code",
   "execution_count": 9,
   "metadata": {},
   "outputs": [
    {
     "name": "stdout",
     "output_type": "stream",
     "text": [
      "{'initiator': 'self', 'connection_id': '7378dc4e-52fa-4675-adc3-fc3491f84e16', 'presentation_request': {'name': 'Proof of Passport Credential', 'version': '1.0', 'requested_attributes': {'0_PSS Given Names_uuid': {'name': 'PSS Given Names', 'restrictions': []}, '0_PSS Surname_uuid': {'name': 'PSS Surname', 'restrictions': []}}, 'requested_predicates': {}, 'nonce': '845780171575113910114624'}, 'created_at': '2020-09-22 13:04:12.595683Z', 'presentation_request_dict': {'@type': 'did:sov:BzCbsNYhMrjHiqZDTUASHg;spec/present-proof/1.0/request-presentation', '@id': 'fcef12f0-4459-4dfe-8f1e-8c5a36fec0b5', 'request_presentations~attach': [{'@id': 'libindy-request-presentation-0', 'mime-type': 'application/json', 'data': {'base64': 'eyJuYW1lIjogIlByb29mIG9mIFBhc3Nwb3J0IENyZWRlbnRpYWwiLCAidmVyc2lvbiI6ICIxLjAiLCAicmVxdWVzdGVkX2F0dHJpYnV0ZXMiOiB7IjBfUFNTIEdpdmVuIE5hbWVzX3V1aWQiOiB7Im5hbWUiOiAiUFNTIEdpdmVuIE5hbWVzIiwgInJlc3RyaWN0aW9ucyI6IFtdfSwgIjBfUFNTIFN1cm5hbWVfdXVpZCI6IHsibmFtZSI6ICJQU1MgU3VybmFtZSIsICJyZXN0cmljdGlvbnMiOiBbXX19LCAicmVxdWVzdGVkX3ByZWRpY2F0ZXMiOiB7fSwgIm5vbmNlIjogIjg0NTc4MDE3MTU3NTExMzkxMDExNDYyNCJ9'}}]}, 'presentation_exchange_id': '56f035a0-a1cd-43c6-ae86-3a163bc7f5c0', 'thread_id': 'fcef12f0-4459-4dfe-8f1e-8c5a36fec0b5', 'role': 'verifier', 'state': 'request_sent', 'trace': False, 'auto_present': False, 'updated_at': '2020-09-22 13:04:12.595683Z'}\n",
      "\n",
      "\n",
      "56f035a0-a1cd-43c6-ae86-3a163bc7f5c0\n"
     ]
    }
   ],
   "source": [
    "response = await agent_controller.proofs.send_request(proof_request_web_request)\n",
    "print(response)\n",
    "presentation_exchange_id = response['presentation_exchange_id']\n",
    "print(\"\\n\")\n",
    "print(presentation_exchange_id)"
   ]
  },
  {
   "cell_type": "markdown",
   "metadata": {},
   "source": [
    "## 6c.Verify Proof presentation and Populate the Credential\n"
   ]
  },
  {
   "cell_type": "code",
   "execution_count": 10,
   "metadata": {},
   "outputs": [
    {
     "name": "stdout",
     "output_type": "stream",
     "text": [
      "Proof request state verified?: True \n"
     ]
    }
   ],
   "source": [
    "verify = await agent_controller.proofs.verify_presentation(presentation_exchange_id)\n",
    "\n",
    "# print proof request verification status\n",
    "print('Proof request state verified?: {} '.format(verify['state'] == 'verified'))"
   ]
  },
  {
   "cell_type": "code",
   "execution_count": 11,
   "metadata": {},
   "outputs": [
    {
     "name": "stdout",
     "output_type": "stream",
     "text": [
      "Atribute name: Given Names Value: Micheal\n",
      "Atribute name: Surname Value: Jones\n"
     ]
    }
   ],
   "source": [
    "# access the revealed attributes and populate credential\n",
    "credential_attributes = []\n",
    "for (name, val) in verify['presentation']['requested_proof']['revealed_attrs'].items():\n",
    "    ## This is the actual data that you want. It's a little hidden\n",
    "    print('Atribute name: {} Value: {}'.format(name[6:-5],val['raw']))\n",
    "    credential_attributes.append({\"name\":name[6:-5], \"value\": val['raw']})\n",
    "credential_attributes[0]['name'] = \"MDQ Given Names\"\n",
    "credential_attributes[1]['name'] = \"MDQ Surname\"\n"
   ]
  },
  {
   "cell_type": "code",
   "execution_count": 12,
   "metadata": {},
   "outputs": [
    {
     "name": "stdout",
     "output_type": "stream",
     "text": [
      "[{'name': 'MDQ Given Names', 'value': 'Micheal'}, {'name': 'MDQ Surname', 'value': 'Jones'}]\n"
     ]
    }
   ],
   "source": [
    "print(credential_attributes)"
   ]
  },
  {
   "cell_type": "markdown",
   "metadata": {},
   "source": [
    "## 6d. Populate the Medical Qualification to Issue to Doctor\n",
    "\n",
    "This would typically be done through a face to face identity check.\n",
    "\n",
    "The notebook will ask you to input all the relevant fields."
   ]
  },
  {
   "cell_type": "code",
   "execution_count": 13,
   "metadata": {},
   "outputs": [
    {
     "name": "stdout",
     "output_type": "stream",
     "text": [
      "Please enter your qualification: Doctor\n",
      "Please enter qualification institution: oxford\n",
      "Please enter the qualification issue date: 1234\n",
      "[{'name': 'MDQ Given Names', 'value': 'Micheal'}, {'name': 'MDQ Surname', 'value': 'Jones'}, {'name': 'MDQ Primary Medical Qual', 'value': 'Doctor'}, {'name': 'MDQ Issuing Institution', 'value': 'oxford'}, {'name': 'MDQ Issue Date', 'value': '1234'}]\n"
     ]
    }
   ],
   "source": [
    "qualification=input(\"Please enter your qualification: \")\n",
    "institution=input(\"Please enter qualification institution: \")\n",
    "# surname=input(\"Please enter your surname: \")\n",
    "# name=input(\"Please enter your name: \")\n",
    "issue_date=input(\"Please enter the qualification issue date: \")\n",
    "\n",
    "credential_attributes.append({\"name\": \"MDQ Primary Medical Qual\", \"value\": qualification})\n",
    "credential_attributes.append({\"name\": \"MDQ Issuing Institution\", \"value\": institution})    \n",
    "credential_attributes.append({\"name\": \"MDQ Issue Date\", \"value\": issue_date})\n",
    "print(credential_attributes)"
   ]
  },
  {
   "cell_type": "markdown",
   "metadata": {},
   "source": [
    "## 7. Issue Credential\n",
    "\n",
    "This sends a credential to the doctor's mobile wallet you just connected with."
   ]
  },
  {
   "cell_type": "code",
   "execution_count": 14,
   "metadata": {},
   "outputs": [
    {
     "name": "stdout",
     "output_type": "stream",
     "text": [
      "Credential exchange 025e49e8-e07c-4662-b76f-78a88a6155ad, role: issuer, state: offer_sent\n",
      "Handle Credentials\n",
      "Credential exchange 025e49e8-e07c-4662-b76f-78a88a6155ad, role: issuer, state: offer_sent\n",
      "Offering: [{'name': 'MDQ Given Names', 'value': 'Micheal'}, {'name': 'MDQ Surname', 'value': 'Jones'}, {'name': 'MDQ Primary Medical Qual', 'value': 'Doctor'}, {'name': 'MDQ Issuing Institution', 'value': 'oxford'}, {'name': 'MDQ Issue Date', 'value': '1234'}]\n"
     ]
    }
   ],
   "source": [
    "record = await agent_controller.issuer.send_credential(connection_id, schema_id, cred_def_id, credential_attributes, trace=False)\n",
    "record_id = record['credential_exchange_id']\n",
    "state = record['state']\n",
    "role = record['role']\n",
    "print(f\"Credential exchange {record_id}, role: {role}, state: {state}\")\n"
   ]
  },
  {
   "cell_type": "markdown",
   "metadata": {},
   "source": [
    "## 8. Accept credential in Mobile SSI Wallet"
   ]
  },
  {
   "cell_type": "markdown",
   "metadata": {},
   "source": [
    "## 9. End of Tutorial\n",
    "\n",
    "Be sure to terminate the controller so you can run another tutorial."
   ]
  },
  {
   "cell_type": "code",
   "execution_count": 15,
   "metadata": {},
   "outputs": [
    {
     "name": "stdout",
     "output_type": "stream",
     "text": [
      "None\n"
     ]
    }
   ],
   "source": [
    "response = await agent_controller.terminate()\n",
    "print(response)"
   ]
  },
  {
   "cell_type": "markdown",
   "metadata": {},
   "source": [
    "# Proceed to Interact with the [General Medical Council](http://127.0.0.1:8890) to receive your Doctor's Licence.\n",
    "\n",
    "You can get the token for this notebook by running `docker logs  interopen-hack_gmc-notebook_1`"
   ]
  },
  {
   "cell_type": "code",
   "execution_count": null,
   "metadata": {},
   "outputs": [],
   "source": []
  }
 ],
 "metadata": {
  "kernelspec": {
   "display_name": "Python 3",
   "language": "python",
   "name": "python3"
  },
  "language_info": {
   "codemirror_mode": {
    "name": "ipython",
    "version": 3
   },
   "file_extension": ".py",
   "mimetype": "text/x-python",
   "name": "python",
   "nbconvert_exporter": "python",
   "pygments_lexer": "ipython3",
   "version": "3.7.6"
  }
 },
 "nbformat": 4,
 "nbformat_minor": 1
}
