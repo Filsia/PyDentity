{
 "cells": [
  {
   "cell_type": "markdown",
   "metadata": {
    "collapsed": true
   },
   "source": [
    "# Medical School issues Medical Qualification to Doctor\n",
    "\n",
    "## Before running through this notebook you have configured the agent in [Part 2.1 - Initialising the Medical School Agent.ipynb](http://127.0.0.1:8889/notebooks/Part%202.1%20-%20Initialising%20the%20Medical%20School%20Agent.ipynb).\n",
    "\n"
   ]
  },
  {
   "cell_type": "markdown",
   "metadata": {},
   "source": [
    "## 1. Initialise a controller for Medical School"
   ]
  },
  {
   "cell_type": "code",
   "execution_count": 1,
   "metadata": {},
   "outputs": [
    {
     "name": "stdout",
     "output_type": "stream",
     "text": [
      "IPython autoawait is `on`, and set to use `asyncio`\n"
     ]
    }
   ],
   "source": [
    "%autoawait\n",
    "import time\n",
    "import asyncio\n",
    "from termcolor import colored,cprint\n",
    "\n",
    "from aries_basic_controller.aries_controller import AriesAgentController\n",
    "    \n",
    "WEBHOOK_HOST = \"0.0.0.0\"\n",
    "WEBHOOK_PORT = 8022\n",
    "WEBHOOK_BASE = \"\"\n",
    "ADMIN_URL = \"http://medical-school-agent:8021\"\n",
    "\n",
    "# Based on the aca-py agent you wish to control\n",
    "agent_controller = AriesAgentController(webhook_host=WEBHOOK_HOST, webhook_port=WEBHOOK_PORT,\n",
    "                                       webhook_base=WEBHOOK_BASE, admin_url=ADMIN_URL)\n",
    "    "
   ]
  },
  {
   "cell_type": "markdown",
   "metadata": {},
   "source": [
    "## 2. Register Listeners\n",
    "\n",
    "The handler should get called every time the controller receives a webhook with the topic issue_credential, printing out the payload. The agent calls to this webhook every time it receives an issue-credential protocol message from a credential."
   ]
  },
  {
   "cell_type": "code",
   "execution_count": 2,
   "metadata": {},
   "outputs": [],
   "source": [
    "loop = asyncio.get_event_loop()\n",
    "loop.create_task(agent_controller.listen_webhooks())\n",
    "\n",
    "def cred_handler(payload):\n",
    "    print(\"Handle Credentials\")\n",
    "    exchange_id = payload['credential_exchange_id']\n",
    "    state = payload['state']\n",
    "    role = payload['role']\n",
    "    attributes = payload['credential_proposal_dict']['credential_proposal']['attributes']\n",
    "    print(f\"Credential exchange {exchange_id}, role: {role}, state: {state}\")\n",
    "    print(f\"Offering: {attributes}\")\n",
    "    \n",
    "cred_listener = {\n",
    "    \"topic\": \"issue_credential\",\n",
    "    \"handler\": cred_handler\n",
    "}\n",
    "\n",
    "def connections_handler(payload):\n",
    "    global STATE\n",
    "    connection_id = payload[\"connection_id\"]\n",
    "    print(\"Connection message\", payload, connection_id)\n",
    "    STATE = payload['state']\n",
    "    if STATE == 'active':\n",
    "#         print('Connection {0} changed state to active'.format(connection_id))\n",
    "        print(colored(\"Connection {0} changed state to active\".format(connection_id), \"red\", attrs=[\"bold\"]))\n",
    "\n",
    "\n",
    "connection_listener = {\n",
    "    \"handler\": connections_handler,\n",
    "    \"topic\": \"connections\"\n",
    "}\n",
    "\n",
    "agent_controller.register_listeners([cred_listener,connection_listener], defaults=True)\n"
   ]
  },
  {
   "cell_type": "markdown",
   "metadata": {},
   "source": [
    "## 3. Copy across the `schema_id` and `cred_def_id` stored in Part 2.1\n",
    "\n",
    "The Medical School Agent must have a credential definition on the ledger to issue these credentials.\n"
   ]
  },
  {
   "cell_type": "code",
   "execution_count": 3,
   "metadata": {},
   "outputs": [
    {
     "name": "stdout",
     "output_type": "stream",
     "text": [
      "WWrW2tsGCqjyq4MnXWsFwv:3:CL:141255:default\n",
      "2yWoMSfeTtYBFpUJFcnpqL:2:Medical Qual:0.0.1\n"
     ]
    }
   ],
   "source": [
    "%store -r cred_def_id\n",
    "%store -r schema_id\n",
    "print(cred_def_id)\n",
    "print(schema_id)"
   ]
  },
  {
   "cell_type": "markdown",
   "metadata": {},
   "source": [
    "## 4. Make sure you have a Mobile SSI Wallet dowloaded and configured to using the Sovrin StagingNet\n",
    "Please download a mobile SSI wallet such as [Connect.me](https://connect.me/), [Trinsic](https://trinsic.id/trinsic-wallet/) or any other Aries compatible wallet."
   ]
  },
  {
   "cell_type": "markdown",
   "metadata": {},
   "source": [
    "## 5. Create a connection invitation to scan with the Mobile SSI Wallet\n",
    "\n",
    "To make a connection with an identity holders wallet we must create a connection invitation and present the QR code to be scanned by the identity holders wallet. The identity holder scan this QR code and then communicate back to the agent through the exposed ngrok endpoint.\n",
    "\n",
    "Once a connection is in an active state, the agent and the identity holders mobile wallet now have a secure pairwise relationship over which they can exchange verifiable credentials."
   ]
  },
  {
   "cell_type": "markdown",
   "metadata": {},
   "source": [
    "## 5a. Check for any existing connections"
   ]
  },
  {
   "cell_type": "code",
   "execution_count": 4,
   "metadata": {},
   "outputs": [
    {
     "name": "stdout",
     "output_type": "stream",
     "text": [
      "EXISTING CONNECTIONS\n"
     ]
    }
   ],
   "source": [
    "# Check for existing connections\n",
    "connection = await agent_controller.connections.get_connections()\n",
    "print(\"EXISTING CONNECTIONS\")\n",
    "for key, value in connection.items():\n",
    "    for item in value:\n",
    "        print('ConnectionID:', item['connection_id'], 'Status:',item['state'])"
   ]
  },
  {
   "cell_type": "markdown",
   "metadata": {},
   "source": [
    "## 5b. Create an Invitation"
   ]
  },
  {
   "cell_type": "code",
   "execution_count": 5,
   "metadata": {},
   "outputs": [
    {
     "name": "stdout",
     "output_type": "stream",
     "text": [
      "Connection ID f8c030c9-d703-46a2-8543-e19f0440b763\n",
      "Invitation\n",
      "https://f2664c51ca09.ngrok.io?c_i=eyJAdHlwZSI6ICJkaWQ6c292OkJ6Q2JzTlloTXJqSGlxWkRUVUFTSGc7c3BlYy9jb25uZWN0aW9ucy8xLjAvaW52aXRhdGlvbiIsICJAaWQiOiAiMTZiNjBmZjctZWJkYi00ZWU1LWI1YWUtMDU3MmFhOWRmYTJhIiwgInNlcnZpY2VFbmRwb2ludCI6ICJodHRwczovL2YyNjY0YzUxY2EwOS5uZ3Jvay5pbyIsICJsYWJlbCI6ICJNZWRpY2FsIFNjaG9vbCIsICJyZWNpcGllbnRLZXlzIjogWyI0Mnpqc2FyZExYcGtwTm9qY0ZrS0hUem5aMkhWcUdudk1rWVNVdldLUGpnayJdfQ==\n",
      "Connection message {'routing_state': 'none', 'updated_at': '2020-09-21 19:14:12.161741Z', 'initiator': 'self', 'created_at': '2020-09-21 19:14:12.161741Z', 'accept': 'auto', 'connection_id': 'f8c030c9-d703-46a2-8543-e19f0440b763', 'state': 'invitation', 'invitation_mode': 'once', 'invitation_key': '42zjsardLXpkpNojcFkKHTznZ2HVqGnvMkYSUvWKPjgk'} f8c030c9-d703-46a2-8543-e19f0440b763\n"
     ]
    }
   ],
   "source": [
    "# Create Invitation\n",
    "invite = await agent_controller.connections.create_invitation()\n",
    "connection_id = invite[\"connection_id\"]\n",
    "print(\"Connection ID\", connection_id)\n",
    "print(\"Invitation\")\n",
    "print(invite['invitation_url'])\n",
    "inviteURL = invite['invitation_url']"
   ]
  },
  {
   "cell_type": "markdown",
   "metadata": {},
   "source": [
    "## 5c. Generate QR Code to be scanned with Mobile SSI Wallet"
   ]
  },
  {
   "cell_type": "code",
   "execution_count": 6,
   "metadata": {},
   "outputs": [
    {
     "data": {
      "image/png": "[encoded data removed]",
      "text/plain": [
       "<IPython.core.display.Image object>"
      ]
     },
     "execution_count": 6,
     "metadata": {
      "image/png": {
       "width": 400
      }
     },
     "output_type": "execute_result"
    },
    {
     "name": "stdout",
     "output_type": "stream",
     "text": [
      "Connection message {'their_label': 'EAX', 'routing_state': 'none', 'their_did': 'XNA1Wnx1Rk1DAGMbE3p9oP', 'updated_at': '2020-09-21 19:14:22.735379Z', 'initiator': 'self', 'created_at': '2020-09-21 19:14:12.161741Z', 'accept': 'auto', 'connection_id': 'f8c030c9-d703-46a2-8543-e19f0440b763', 'state': 'request', 'invitation_mode': 'once', 'invitation_key': '42zjsardLXpkpNojcFkKHTznZ2HVqGnvMkYSUvWKPjgk'} f8c030c9-d703-46a2-8543-e19f0440b763\n",
      "Connection message {'their_label': 'EAX', 'routing_state': 'none', 'their_did': 'XNA1Wnx1Rk1DAGMbE3p9oP', 'updated_at': '2020-09-21 19:14:22.763113Z', 'initiator': 'self', 'created_at': '2020-09-21 19:14:12.161741Z', 'accept': 'auto', 'my_did': 'GFWfybSewyRQRaKDzg6ABz', 'connection_id': 'f8c030c9-d703-46a2-8543-e19f0440b763', 'state': 'response', 'invitation_mode': 'once', 'invitation_key': '42zjsardLXpkpNojcFkKHTznZ2HVqGnvMkYSUvWKPjgk'} f8c030c9-d703-46a2-8543-e19f0440b763\n"
     ]
    }
   ],
   "source": [
    "import qrcode\n",
    "# Link for connection invitation\n",
    "input_data = inviteURL\n",
    "# Creating an instance of qrcode\n",
    "qr = qrcode.QRCode(\n",
    "        version=1,\n",
    "        box_size=10,\n",
    "        border=5)\n",
    "qr.add_data(input_data)\n",
    "qr.make(fit=True)\n",
    "img = qr.make_image(fill='black', back_color='white')\n",
    "img.save('medical-school-agent_invite_QRcode.png')\n",
    "\n",
    "from IPython.display import Image\n",
    "Image(width=400, filename='./medical-school-agent_invite_QRcode.png')"
   ]
  },
  {
   "cell_type": "markdown",
   "metadata": {},
   "source": [
    "## 5d. Check if established connection is in active state"
   ]
  },
  {
   "cell_type": "code",
   "execution_count": 7,
   "metadata": {},
   "outputs": [
    {
     "name": "stdout",
     "output_type": "stream",
     "text": [
      "\u001b[1m\u001b[35mCurrent state for ConnectionId f8c030c9-d703-46a2-8543-e19f0440b763 is response\u001b[0m\n",
      "\u001b[1m\u001b[33mConnectionId f8c030c9-d703-46a2-8543-e19f0440b763 is not in active state yet\u001b[0m\n",
      "\u001b[1m\u001b[34mTrust ping send to ConnectionId {'thread_id': 'b27c380c-987a-4e11-9948-36e697d059ca'} to activate connection\u001b[0m\n",
      "\u001b[1m\u001b[33mConnectionId f8c030c9-d703-46a2-8543-e19f0440b763 is not in active state yet\u001b[0m\n",
      "Connection message {'their_label': 'EAX', 'routing_state': 'none', 'their_did': 'XNA1Wnx1Rk1DAGMbE3p9oP', 'updated_at': '2020-09-21 19:14:30.258578Z', 'initiator': 'self', 'created_at': '2020-09-21 19:14:12.161741Z', 'accept': 'auto', 'my_did': 'GFWfybSewyRQRaKDzg6ABz', 'connection_id': 'f8c030c9-d703-46a2-8543-e19f0440b763', 'state': 'active', 'invitation_mode': 'once', 'invitation_key': '42zjsardLXpkpNojcFkKHTznZ2HVqGnvMkYSUvWKPjgk'} f8c030c9-d703-46a2-8543-e19f0440b763\n",
      "\u001b[1m\u001b[31mConnection f8c030c9-d703-46a2-8543-e19f0440b763 changed state to active\u001b[0m\n",
      "\u001b[1m\u001b[34mTrust ping send to ConnectionId {'thread_id': '4dbb6fc5-5bfd-46e6-b42c-30f4b1c0bc40'} to activate connection\u001b[0m\n",
      "\u001b[1m\u001b[32mConnectionId: f8c030c9-d703-46a2-8543-e19f0440b763 is now active. Continue with notebook\u001b[0m\n"
     ]
    }
   ],
   "source": [
    "import time\n",
    "\n",
    "# print('Current state for ConnectionId {} is {}'.format(connection_id,STATE))\n",
    "print(colored(\"Current state for ConnectionId {} is {}\".format(connection_id,STATE), \"magenta\", attrs=[\"bold\"]))\n",
    "while STATE != 'active':\n",
    "#     print('ConnectionId {0} is not in active state yet'.format(connection_id))\n",
    "    print(colored(\"ConnectionId {0} is not in active state yet\".format(connection_id), \"yellow\", attrs=[\"bold\"]))\n",
    "    trust_ping = await agent_controller.messaging.trust_ping(connection_id,'hello!')\n",
    "#     print('Trust ping send to ConnectionId {0} to activate connection'.format(trust_ping))\n",
    "    print(colored(\"Trust ping send to ConnectionId {0} to activate connection\".format(trust_ping), \"blue\", attrs=[\"bold\"]))\n",
    "    time.sleep(5)\n",
    "    \n",
    "# print('ConnectionId: {0} is now active. Continue with notebook'.format(connection_id))\n",
    "print(colored(\"ConnectionId: {0} is now active. Continue with notebook\".format(connection_id), \"green\", attrs=[\"bold\"]))\n"
   ]
  },
  {
   "cell_type": "markdown",
   "metadata": {},
   "source": [
    "## 6. Populate the Medical Qualification to Issue to Doctor\n",
    "\n",
    "This would typically be done through a face to face identity check.\n",
    "\n",
    "The notebook will ask you to input all the relevant fields."
   ]
  },
  {
   "cell_type": "code",
   "execution_count": 8,
   "metadata": {},
   "outputs": [
    {
     "name": "stdout",
     "output_type": "stream",
     "text": [
      "Please enter your qualification: MSc Comp Sci\n",
      "Please enter qualification institution: Warwick\n",
      "Please enter your surname: Jones\n",
      "Please enter your name: Bob\n",
      "Please enter the qualification issue date: 2020-08-01\n",
      "[{'name': 'MDQ Primary Medical Qual', 'value': 'MSc Comp Sci'}, {'name': 'MDQ Issuing Institution', 'value': 'Warwick'}, {'name': 'MDQ Surname', 'value': 'Jones'}, {'name': 'MDQ Given Names', 'value': 'Bob'}, {'name': 'MDQ Issue Date', 'value': '2020-08-01'}]\n"
     ]
    }
   ],
   "source": [
    "qualification=input(\"Please enter your qualification: \")\n",
    "institution=input(\"Please enter qualification institution: \")\n",
    "surname=input(\"Please enter your surname: \")\n",
    "name=input(\"Please enter your name: \")\n",
    "issue_date=input(\"Please enter the qualification issue date: \")\n",
    "\n",
    "credential_attributes = [\n",
    "    {\"name\": \"MDQ Primary Medical Qual\", \"value\": qualification},\n",
    "    {\"name\": \"MDQ Issuing Institution\", \"value\": institution},\n",
    "    {\"name\": \"MDQ Surname\", \"value\": surname},\n",
    "    {\"name\": \"MDQ Given Names\", \"value\": name},\n",
    "    {\"name\": \"MDQ Issue Date\", \"value\": issue_date}\n",
    "]\n",
    "print(credential_attributes)"
   ]
  },
  {
   "cell_type": "markdown",
   "metadata": {},
   "source": [
    "## 7. Send Credential\n",
    "\n",
    "This sends a credential to the doctor's mobile wallet you just connected with."
   ]
  },
  {
   "cell_type": "code",
   "execution_count": 9,
   "metadata": {},
   "outputs": [
    {
     "name": "stdout",
     "output_type": "stream",
     "text": [
      "Credential exchange e09596cc-ede4-4da4-856d-1d53fa2d3179, role: issuer, state: offer_sent\n",
      "Handle Credentials\n",
      "Credential exchange e09596cc-ede4-4da4-856d-1d53fa2d3179, role: issuer, state: offer_sent\n",
      "Offering: [{'name': 'MDQ Primary Medical Qual', 'value': 'MSc Comp Sci'}, {'name': 'MDQ Issuing Institution', 'value': 'Warwick'}, {'name': 'MDQ Surname', 'value': 'Jones'}, {'name': 'MDQ Given Names', 'value': 'Bob'}, {'name': 'MDQ Issue Date', 'value': '2020-08-01'}]\n",
      "Handle Credentials\n",
      "Credential exchange e09596cc-ede4-4da4-856d-1d53fa2d3179, role: issuer, state: request_received\n",
      "Offering: [{'name': 'MDQ Primary Medical Qual', 'value': 'MSc Comp Sci'}, {'name': 'MDQ Issuing Institution', 'value': 'Warwick'}, {'name': 'MDQ Surname', 'value': 'Jones'}, {'name': 'MDQ Given Names', 'value': 'Bob'}, {'name': 'MDQ Issue Date', 'value': '2020-08-01'}]\n",
      "Handle Credentials\n",
      "Credential exchange e09596cc-ede4-4da4-856d-1d53fa2d3179, role: issuer, state: credential_issued\n",
      "Offering: [{'name': 'MDQ Primary Medical Qual', 'value': 'MSc Comp Sci'}, {'name': 'MDQ Issuing Institution', 'value': 'Warwick'}, {'name': 'MDQ Surname', 'value': 'Jones'}, {'name': 'MDQ Given Names', 'value': 'Bob'}, {'name': 'MDQ Issue Date', 'value': '2020-08-01'}]\n"
     ]
    }
   ],
   "source": [
    "record = await agent_controller.issuer.send_credential(connection_id, schema_id, cred_def_id, credential_attributes, trace=False)\n",
    "record_id = record['credential_exchange_id']\n",
    "state = record['state']\n",
    "role = record['role']\n",
    "print(f\"Credential exchange {record_id}, role: {role}, state: {state}\")\n"
   ]
  },
  {
   "cell_type": "markdown",
   "metadata": {},
   "source": [
    "## 8. Accept credential in Mobile SSI Wallet"
   ]
  },
  {
   "cell_type": "markdown",
   "metadata": {},
   "source": [
    "## 9. End of Tutorial\n",
    "\n",
    "Be sure to terminate the controller so you can run another tutorial."
   ]
  },
  {
   "cell_type": "code",
   "execution_count": 10,
   "metadata": {},
   "outputs": [
    {
     "name": "stdout",
     "output_type": "stream",
     "text": [
      "None\n"
     ]
    }
   ],
   "source": [
    "response = await agent_controller.terminate()\n",
    "print(response)"
   ]
  },
  {
   "cell_type": "markdown",
   "metadata": {},
   "source": [
    "# Proceed to Interact with the [General Medical Council](http://127.0.0.1:8890) to receive your Doctor's Licence.\n",
    "\n",
    "You can get the token for this notebook by running `docker logs  interopen-hack_gmc-notebook_1`"
   ]
  },
  {
   "cell_type": "code",
   "execution_count": null,
   "metadata": {},
   "outputs": [],
   "source": []
  }
 ],
 "metadata": {
  "kernelspec": {
   "display_name": "Python 3",
   "language": "python",
   "name": "python3"
  },
  "language_info": {
   "codemirror_mode": {
    "name": "ipython",
    "version": 3
   },
   "file_extension": ".py",
   "mimetype": "text/x-python",
   "name": "python",
   "nbconvert_exporter": "python",
   "pygments_lexer": "ipython3",
   "version": "3.7.6"
  }
 },
 "nbformat": 4,
 "nbformat_minor": 1
}
