{
 "cells": [
  {
   "cell_type": "markdown",
   "metadata": {
    "collapsed": true
   },
   "source": [
    "# Onboard a Doctor in Training\n",
    "## Role: Lead Employer\n",
    "\n",
    "The lead employer is responsible for verifying GMC licences and issuing credentials needed by new doctors before they can begin specific placements. These include; dbs checks, mandatory training, occupational health and assigment credentials.\n",
    "\n",
    "## Before running through this notebook you should run through the following notebook - [Part 5.1](http://localhost:8892/notebooks/Part%205.1%20-%20Initialising%20the%20Lead%20Employer%20Agent.ipynb).\n",
    "\n",
    "## Or alternatively you can start at the beginning of the Doctors in Training flow [here](http://localhost:8889/notebooks/Part%201%20-%20Getting%20Started.ipynb).\n",
    "\n"
   ]
  },
  {
   "cell_type": "markdown",
   "metadata": {},
   "source": [
    "## 1. Initialise a controller for the Lead Employer"
   ]
  },
  {
   "cell_type": "code",
   "execution_count": 1,
   "metadata": {},
   "outputs": [
    {
     "name": "stdout",
     "output_type": "stream",
     "text": [
      "IPython autoawait is `on`, and set to use `asyncio`\n"
     ]
    }
   ],
   "source": [
    "%autoawait\n",
    "import time\n",
    "import asyncio\n",
    "from termcolor import colored,cprint\n",
    "\n",
    "from aries_basic_controller.aries_controller import AriesAgentController\n",
    "    \n",
    "WEBHOOK_HOST = \"0.0.0.0\"\n",
    "WEBHOOK_PORT = 8062\n",
    "WEBHOOK_BASE = \"\"\n",
    "ADMIN_URL = \"http://lead-employer-agent:8061\"\n",
    "\n",
    "# Based on the aca-py agent you wish to control\n",
    "agent_controller = AriesAgentController(webhook_host=WEBHOOK_HOST, webhook_port=WEBHOOK_PORT,\n",
    "                                       webhook_base=WEBHOOK_BASE, admin_url=ADMIN_URL)\n",
    "    "
   ]
  },
  {
   "cell_type": "markdown",
   "metadata": {},
   "source": [
    "## 2. Register Listeners\n",
    "\n",
    "The handler should get called every time the controller receives a webhook with the topic issue_credential, printing out the payload. The agent calls to this webhook every time it receives an issue-credential protocol message from a credential."
   ]
  },
  {
   "cell_type": "code",
   "execution_count": 2,
   "metadata": {},
   "outputs": [
    {
     "name": "stderr",
     "output_type": "stream",
     "text": [
      "Task exception was never retrieved\n",
      "future: <Task finished coro=<AriesAgentController.listen_webhooks() done, defined at /aries_basic_controller/aries_controller.py:77> exception=OSError(98, \"error while attempting to bind on address ('0.0.0.0', 8062): address already in use\")>\n",
      "Traceback (most recent call last):\n",
      "  File \"/aries_basic_controller/aries_controller.py\", line 83, in listen_webhooks\n",
      "    await self.webhook_site.start()\n",
      "  File \"/opt/conda/lib/python3.7/site-packages/aiohttp/web_runner.py\", line 104, in start\n",
      "    reuse_port=self._reuse_port)\n",
      "  File \"/opt/conda/lib/python3.7/asyncio/base_events.py\", line 1385, in create_server\n",
      "    % (sa, err.strerror.lower())) from None\n",
      "OSError: [Errno 98] error while attempting to bind on address ('0.0.0.0', 8062): address already in use\n"
     ]
    }
   ],
   "source": [
    "loop = asyncio.get_event_loop()\n",
    "loop.create_task(agent_controller.listen_webhooks())\n",
    "\n",
    "def cred_handler(payload):\n",
    "    print(\"Handle Credentials\")\n",
    "    exchange_id = payload['credential_exchange_id']\n",
    "    state = payload['state']\n",
    "    role = payload['role']\n",
    "    attributes = payload['credential_proposal_dict']['credential_proposal']['attributes']\n",
    "    print(f\"Credential exchange {exchange_id}, role: {role}, state: {state}\")\n",
    "    print(f\"Offering: {attributes}\")\n",
    "    \n",
    "cred_listener = {\n",
    "    \"topic\": \"issue_credential\",\n",
    "    \"handler\": cred_handler\n",
    "}\n",
    "\n",
    "def connections_handler(payload):\n",
    "    global STATE\n",
    "    connection_id = payload[\"connection_id\"]\n",
    "    print(\"Connection message\", payload, connection_id)\n",
    "    STATE = payload['state']\n",
    "    if STATE == 'active':\n",
    "#         print('Connection {0} changed state to active'.format(connection_id))\n",
    "        print(colored(\"Connection {0} changed state to active\".format(connection_id), \"red\", attrs=[\"bold\"]))\n",
    "\n",
    "\n",
    "connection_listener = {\n",
    "    \"handler\": connections_handler,\n",
    "    \"topic\": \"connections\"\n",
    "}\n",
    "\n",
    "agent_controller.register_listeners([cred_listener,connection_listener], defaults=True)\n"
   ]
  },
  {
   "cell_type": "markdown",
   "metadata": {},
   "source": [
    "## 3. Create a connection invitation to scan with the Mobile SSI Wallet\n",
    "\n",
    "To make a connection with an identity holders wallet we must create a connection invitation and present the QR code to be scanned by the identity holders wallet. The identity holder scans this QR code and then can communicate with the agent through the exposed ngrok endpoint.\n",
    "\n",
    "Once a connection is in an active state, the agent and the identity holders mobile wallet now have a secure pairwise relationship over which they can exchange verifiable credentials.\n",
    "\n",
    "You must have a ssi wallet installed on your phone and connected to the Sovrin StagingNet for this to work."
   ]
  },
  {
   "cell_type": "markdown",
   "metadata": {},
   "source": [
    "### 3.1 Generate an invitation"
   ]
  },
  {
   "cell_type": "code",
   "execution_count": 3,
   "metadata": {},
   "outputs": [
    {
     "name": "stdout",
     "output_type": "stream",
     "text": [
      "Connection message {'connection_id': 'ecd5a6fa-5ab7-4c6c-bfd8-9ef49ff85f9e', 'invitation_key': '34FVD18rFvjFRYVPEGhCPybPZocuuhHwpvZEC7exZEXi', 'state': 'invitation', 'created_at': '2020-09-21 18:28:37.383279Z', 'accept': 'auto', 'invitation_mode': 'once', 'initiator': 'self', 'routing_state': 'none', 'updated_at': '2020-09-21 18:28:37.383279Z'} ecd5a6fa-5ab7-4c6c-bfd8-9ef49ff85f9e\n",
      "Connection ID ecd5a6fa-5ab7-4c6c-bfd8-9ef49ff85f9e\n",
      "Invitation\n",
      "https://44d1b19d89ec.ngrok.io?c_i=eyJAdHlwZSI6ICJkaWQ6c292OkJ6Q2JzTlloTXJqSGlxWkRUVUFTSGc7c3BlYy9jb25uZWN0aW9ucy8xLjAvaW52aXRhdGlvbiIsICJAaWQiOiAiODE5OTNiYjItYmY0ZS00ZmEwLTkzMWEtOTE5MTQzM2EyODkyIiwgImxhYmVsIjogIk5IUyBMZWFkIEVtcGxveWVyIiwgInNlcnZpY2VFbmRwb2ludCI6ICJodHRwczovLzQ0ZDFiMTlkODllYy5uZ3Jvay5pbyIsICJyZWNpcGllbnRLZXlzIjogWyIzNEZWRDE4ckZ2akZSWVZQRUdoQ1B5YlBab2N1dWhId3B2WkVDN2V4WkVYaSJdfQ==\n"
     ]
    }
   ],
   "source": [
    "# Create Invitation\n",
    "invite = await agent_controller.connections.create_invitation()\n",
    "connection_id = invite[\"connection_id\"]\n",
    "print(\"Connection ID\", connection_id)\n",
    "print(\"Invitation\")\n",
    "print(invite['invitation_url'])\n",
    "inviteURL = invite['invitation_url']"
   ]
  },
  {
   "cell_type": "markdown",
   "metadata": {},
   "source": [
    "### 3.2 Display as QrCode to be Scanned by SSI Wallet"
   ]
  },
  {
   "cell_type": "code",
   "execution_count": 4,
   "metadata": {},
   "outputs": [
    {
     "data": {
      "image/png": "[encoded data removed]",
      "text/plain": [
       "<IPython.core.display.Image object>"
      ]
     },
     "execution_count": 4,
     "metadata": {
      "image/png": {
       "width": 400
      }
     },
     "output_type": "execute_result"
    },
    {
     "name": "stdout",
     "output_type": "stream",
     "text": [
      "Connection message {'connection_id': 'ecd5a6fa-5ab7-4c6c-bfd8-9ef49ff85f9e', 'invitation_key': '34FVD18rFvjFRYVPEGhCPybPZocuuhHwpvZEC7exZEXi', 'state': 'request', 'their_label': 'esatus Wallet', 'created_at': '2020-09-21 18:28:37.383279Z', 'their_did': '3ujYysfpAZSErEkLHFRyWg', 'accept': 'auto', 'invitation_mode': 'once', 'initiator': 'self', 'routing_state': 'none', 'updated_at': '2020-09-21 18:29:00.515448Z'} ecd5a6fa-5ab7-4c6c-bfd8-9ef49ff85f9e\n",
      "Connection message {'connection_id': 'ecd5a6fa-5ab7-4c6c-bfd8-9ef49ff85f9e', 'invitation_key': '34FVD18rFvjFRYVPEGhCPybPZocuuhHwpvZEC7exZEXi', 'state': 'response', 'their_label': 'esatus Wallet', 'created_at': '2020-09-21 18:28:37.383279Z', 'my_did': 'Gu6U7Xz4kpEgW18udV2Sw7', 'their_did': '3ujYysfpAZSErEkLHFRyWg', 'accept': 'auto', 'invitation_mode': 'once', 'initiator': 'self', 'routing_state': 'none', 'updated_at': '2020-09-21 18:29:00.548256Z'} ecd5a6fa-5ab7-4c6c-bfd8-9ef49ff85f9e\n"
     ]
    }
   ],
   "source": [
    "import qrcode\n",
    "# Link for connection invitation\n",
    "input_data = inviteURL\n",
    "# Creating an instance of qrcode\n",
    "qr = qrcode.QRCode(\n",
    "        version=1,\n",
    "        box_size=10,\n",
    "        border=5)\n",
    "\n",
    "qr.add_data(input_data)\n",
    "qr.make(fit=True)\n",
    "img = qr.make_image(fill='black', back_color='white')\n",
    "img.save('issuer_agent_invite_QRcode.png')\n",
    "\n",
    "from IPython.display import Image\n",
    "Image(width=400, filename='./issuer_agent_invite_QRcode.png')"
   ]
  },
  {
   "cell_type": "markdown",
   "metadata": {},
   "source": [
    "### 3.3 Check the connection is in the active state"
   ]
  },
  {
   "cell_type": "code",
   "execution_count": 5,
   "metadata": {},
   "outputs": [
    {
     "name": "stdout",
     "output_type": "stream",
     "text": [
      "\u001b[1m\u001b[35mCurrent state for ConnectionId ecd5a6fa-5ab7-4c6c-bfd8-9ef49ff85f9e is response\u001b[0m\n",
      "\u001b[1m\u001b[33mConnectionId ecd5a6fa-5ab7-4c6c-bfd8-9ef49ff85f9e is not in active state yet\u001b[0m\n",
      "\u001b[1m\u001b[34mTrust ping send to ConnectionId {'thread_id': 'a6937c48-8ede-49d7-8a70-99e200a635d7'} to activate connection\u001b[0m\n",
      "\u001b[1m\u001b[33mConnectionId ecd5a6fa-5ab7-4c6c-bfd8-9ef49ff85f9e is not in active state yet\u001b[0m\n",
      "Connection message {'connection_id': 'ecd5a6fa-5ab7-4c6c-bfd8-9ef49ff85f9e', 'invitation_key': '34FVD18rFvjFRYVPEGhCPybPZocuuhHwpvZEC7exZEXi', 'state': 'active', 'their_label': 'esatus Wallet', 'created_at': '2020-09-21 18:28:37.383279Z', 'my_did': 'Gu6U7Xz4kpEgW18udV2Sw7', 'their_did': '3ujYysfpAZSErEkLHFRyWg', 'accept': 'auto', 'invitation_mode': 'once', 'initiator': 'self', 'routing_state': 'none', 'updated_at': '2020-09-21 18:29:10.912306Z'} ecd5a6fa-5ab7-4c6c-bfd8-9ef49ff85f9e\n",
      "\u001b[1m\u001b[31mConnection ecd5a6fa-5ab7-4c6c-bfd8-9ef49ff85f9e changed state to active\u001b[0m\n",
      "\u001b[1m\u001b[34mTrust ping send to ConnectionId {'thread_id': 'c67e4621-da35-43e4-be46-61fcfa165762'} to activate connection\u001b[0m\n",
      "\u001b[1m\u001b[32mConnectionId: ecd5a6fa-5ab7-4c6c-bfd8-9ef49ff85f9e is now active. Continue with notebook\u001b[0m\n"
     ]
    }
   ],
   "source": [
    "import time\n",
    "\n",
    "# print('Current state for ConnectionId {} is {}'.format(connection_id,STATE))\n",
    "print(colored(\"Current state for ConnectionId {} is {}\".format(connection_id,STATE), \"magenta\", attrs=[\"bold\"]))\n",
    "while STATE != 'active':\n",
    "#     print('ConnectionId {0} is not in active state yet'.format(connection_id))\n",
    "    print(colored(\"ConnectionId {0} is not in active state yet\".format(connection_id), \"yellow\", attrs=[\"bold\"]))\n",
    "    trust_ping = await agent_controller.messaging.trust_ping(connection_id,'hello!')\n",
    "#     print('Trust ping send to ConnectionId {0} to activate connection'.format(trust_ping))\n",
    "    print(colored(\"Trust ping send to ConnectionId {0} to activate connection\".format(trust_ping), \"blue\", attrs=[\"bold\"]))\n",
    "    time.sleep(5)\n",
    "    \n",
    "# print('ConnectionId: {0} is now active. Continue with notebook'.format(connection_id))\n",
    "print(colored(\"ConnectionId: {0} is now active. Continue with notebook\".format(connection_id), \"green\", attrs=[\"bold\"]))\n"
   ]
  },
  {
   "cell_type": "markdown",
   "metadata": {},
   "source": [
    "## 4. Request Proof Presentation"
   ]
  },
  {
   "cell_type": "markdown",
   "metadata": {},
   "source": [
    "## 5a. Generate proof request"
   ]
  },
  {
   "cell_type": "code",
   "execution_count": null,
   "metadata": {},
   "outputs": [],
   "source": [
    "print(\"Request proof of Passport information\")\n",
    "\n",
    "#Set some variables\n",
    "\n",
    "REVOCATION = False\n",
    "SELF_ATTESTED = False\n",
    "EXCHANGE_TRACING = False\n",
    "\n",
    "req_attrs = [\n",
    "    {\"name\": \"PSS Given Names\", \"restrictions\": []},\n",
    "    {\"name\": \"PSS Surname\", \"restrictions\": []},\n",
    "]\n",
    "\n",
    "if REVOCATION:\n",
    "    req_attrs.append(\n",
    "        {\n",
    "            \"name\": \"skill\",\n",
    "            \"restrictions\": [{\"schema_id\": schema_id}],\n",
    "            \"non_revoked\": {\"to\": int(time.time() - 1)},\n",
    "        },\n",
    "    )\n",
    "\n",
    "if SELF_ATTESTED:\n",
    "    # test self-attested claims\n",
    "    req_attrs.append({\"name\": \"country\"},)\n",
    "\n",
    "#Set predicates for Zero Knowledge Proofs\n",
    "req_preds = []\n",
    "\n",
    "indy_proof_request = {\n",
    "    \"name\": \"Proof of Passport Credential\",\n",
    "    \"version\": \"1.0\",\n",
    "    \"requested_attributes\": {\n",
    "        f\"0_{req_attr['name']}_uuid\":\n",
    "        req_attr for req_attr in req_attrs\n",
    "    },\n",
    "    \"requested_predicates\": {\n",
    "        f\"0_{req_pred['name']}_GE_uuid\":\n",
    "        req_pred for req_pred in req_preds\n",
    "    },\n",
    "}\n",
    "\n",
    "if REVOCATION:\n",
    "    indy_proof_request[\"non_revoked\"] = {\"to\": int(time.time())}\n",
    "\n",
    "#proof_request = indy_proof_request\n",
    "exchange_tracing_id = EXCHANGE_TRACING\n",
    "proof_request_web_request = {\n",
    "    \"connection_id\": connection_id,\n",
    "    \"proof_request\": indy_proof_request,\n",
    "    \"trace\": EXCHANGE_TRACING,\n",
    "}"
   ]
  },
  {
   "cell_type": "markdown",
   "metadata": {},
   "source": [
    "### 5b. Send the proof request to Doctor\n",
    "\n",
    "Doctor is identified through the connection_id"
   ]
  },
  {
   "cell_type": "code",
   "execution_count": null,
   "metadata": {},
   "outputs": [],
   "source": [
    "response = await agent_controller.proofs.send_request(proof_request_web_request)\n",
    "print(response)\n",
    "presentation_exchange_id = response['presentation_exchange_id']\n",
    "print(\"\\n\")\n",
    "print(presentation_exchange_id)\n"
   ]
  },
  {
   "cell_type": "markdown",
   "metadata": {},
   "source": [
    "## 5c. Verify proof presentation and populate credential template\n",
    "\n",
    "This is checking the signatures on the credentials presented against the credential schema and definition id stored and resolvable on the ledger. It is a bit of a big complicated object, so we show the common pattern for breaking it down, checking it's verified and accessing the data that has been presented."
   ]
  },
  {
   "cell_type": "code",
   "execution_count": null,
   "metadata": {},
   "outputs": [],
   "source": [
    "verify = await agent_controller.proofs.verify_presentation(presentation_exchange_id)\n",
    "\n",
    "# print proof request verification status\n",
    "print('Proof request state verified?: {} '.format(verify['state'] == 'verified'))\n"
   ]
  },
  {
   "cell_type": "code",
   "execution_count": null,
   "metadata": {},
   "outputs": [],
   "source": [
    "# access the revealed attributes and populate credential\n",
    "credential_attributes = []\n",
    "for (name, val) in verify['presentation']['requested_proof']['revealed_attrs'].items():\n",
    "    ## This is the actual data that you want. It's a little hidden\n",
    "    print('Atribute name: {} Value: {}'.format(name[6:-5],val['raw']))\n",
    "    credential_attributes.append({\"name\":name[6:-5], \"value\": val['raw']})\n",
    "    \n",
    "# set credential attribute field names to match credential\n",
    "credential_attributes[0]['name'] = \"RTW Given Names\"\n",
    "credential_attributes[1]['name'] = \"RTW Surname\""
   ]
  },
  {
   "cell_type": "markdown",
   "metadata": {},
   "source": [
    "### 5.1 Retrieve stored `cred_def_id` and `schema_id`s"
   ]
  },
  {
   "cell_type": "code",
   "execution_count": null,
   "metadata": {},
   "outputs": [],
   "source": [
    "%store -r occ_health_schema_id\n",
    "%store -r occ_health_cred_def_id\n",
    "%store mandatory_training_schema_id\n",
    "%store mandatory_training_cred_def_id\n",
    "%store dbs_schema_id\n",
    "%store dbs_cred_def_id\n",
    "%store lead_emp_schema_id\n",
    "%store lead_emp_cred_def_id"
   ]
  },
  {
   "cell_type": "markdown",
   "metadata": {},
   "source": [
    "## 4 Issue a DBS Check Credential\n",
    "\n",
    "This would be after first running one of course."
   ]
  },
  {
   "cell_type": "markdown",
   "metadata": {},
   "source": [
    "### 4.1 Fetch the stored cred def and schema id written to the ledger in Part 5.1\n"
   ]
  },
  {
   "cell_type": "code",
   "execution_count": 6,
   "metadata": {},
   "outputs": [
    {
     "name": "stdout",
     "output_type": "stream",
     "text": [
      "2yWoMSfeTtYBFpUJFcnpqL:2:DBS Criminal Record Check:0.0.1\n",
      "51CjicBWofzajTByNQnfo2:3:CL:141274:default\n"
     ]
    }
   ],
   "source": [
    "%store -r dbs_schema_id\n",
    "%store -r dbs_cred_def_id\n",
    "print(dbs_schema_id)\n",
    "print(dbs_cred_def_id)\n",
    "    \n"
   ]
  },
  {
   "cell_type": "markdown",
   "metadata": {},
   "source": [
    "### 4.2 Populate the Training Program attributes to Issue to Doctor\n",
    "\n",
    "This would typically be done through a face to face identity check.\n",
    "\n",
    "The notebook will ask you to input all the relevant fields."
   ]
  },
  {
   "cell_type": "code",
   "execution_count": 11,
   "metadata": {},
   "outputs": [],
   "source": [
    "## TODO These can be fetched from a presentation request\n",
    "\n",
    "surname = \"Johnson\"\n",
    "forename = \"Fred\"\n",
    "othernames = \"\"\n",
    "dob = \"05/03/2000\"\n",
    "placeofbirth = \"Bradford\"\n",
    "gender = \"Male\"\n"
   ]
  },
  {
   "cell_type": "code",
   "execution_count": 7,
   "metadata": {},
   "outputs": [
    {
     "name": "stdout",
     "output_type": "stream",
     "text": [
      "Today's date: 2020-09-21\n"
     ]
    }
   ],
   "source": []
  },
  {
   "cell_type": "code",
   "execution_count": 17,
   "metadata": {},
   "outputs": [
    {
     "name": "stdout",
     "output_type": "stream",
     "text": [
      "Please enter the level of DBS check requested: asd\n",
      "Please enter the position the check was requested for: asd\n",
      "Check against the Adult's list: sad\n",
      "Check against the Children's list: asd\n",
      "Check against the Police Records: as\n",
      "Check against the Education Act: asd\n",
      "Check against other relevant info: sda\n",
      "Please enter the name of the employer: asd\n",
      "Please enter the registered person/body: ads\n",
      "Who is the countersignatory: ads\n",
      "What is the certificate reference numberads\n",
      "[{'name': 'DBS Surname', 'value': 'Johnson'}, {'name': 'DBS Forename', 'value': 'Fred'}, {'name': 'DBS Other Names', 'value': ''}, {'name': 'DBS Date of Birth', 'value': '05/03/2000'}, {'name': 'DBS Place of Birth', 'value': 'Bradford'}, {'name': 'DBS Gender', 'value': 'Male'}, {'name': 'DBS Date of Issue', 'value': '2020-09-21'}, {'name': 'DBS Level of Check Requested', 'value': 'asd'}, {'name': 'DBS Position Check Applied For', 'value': 'asd'}, {'name': \"DBS Check Against Adult's List\", 'value': 'sad'}, {'name': \"DBS Check Against Children's List\", 'value': 'asd'}, {'name': 'DBS Check Against Police Records', 'value': 'as'}, {'name': 'DBS Check Information From Section 142 Education Act 2002', 'value': 'asd'}, {'name': 'DBS Check for Other Relevant Information', 'value': 'sda'}, {'name': 'DBS Name of Employer', 'value': 'asd'}, {'name': 'DBS Registered Person/Body', 'value': 'ads'}, {'name': 'DBS Countersignatory', 'value': 'ads'}, {'name': 'DBS Certificate Reference Number', 'value': 'ads'}]\n"
     ]
    }
   ],
   "source": [
    "from datetime import date\n",
    "\n",
    "today = str(date.today())\n",
    "dbs_level = input(\"Please enter the level of DBS check requested: \")\n",
    "position=input(\"Please enter the position the check was requested for: \")\n",
    "adult_list=input(\"Check against the Adult's list: \")\n",
    "child_list = input(\"Check against the Children's list: \")\n",
    "police=input(\"Check against the Police Records: \")\n",
    "education=input(\"Check against the Education Act: \")\n",
    "relevant_info=input(\"Check against other relevant info: \")\n",
    "\n",
    "employer=input(\"Please enter the name of the employer: \")\n",
    "registered_body = input(\"Please enter the registered person/body: \")\n",
    "countersignatory=input(\"Who is the countersignatory: \")\n",
    "cert_num = input(\"What is the certificate reference number\")\n",
    "\n",
    "credential_attributes = [\n",
    "     {\"name\": \"DBS Surname\",\"value\": surname},\n",
    "     {\"name\": \"DBS Forename\",\"value\": forename},\n",
    "     {\"name\": \"DBS Other Names\",\"value\": othernames},\n",
    "     {\"name\": \"DBS Date of Birth\",\"value\": dob},\n",
    "     {\"name\": \"DBS Place of Birth\",\"value\": placeofbirth},\n",
    "     {\"name\": \"DBS Gender\",\"value\": gender},\n",
    "     {\"name\": \"DBS Date of Issue\",\"value\": today},\n",
    "     {\"name\": \"DBS Level of Check Requested\",\"value\": dbs_level},\n",
    "     {\"name\": \"DBS Position Check Applied For\",\"value\": position},\n",
    "     {\"name\": \"DBS Check Against Adult's List\",\"value\": adult_list},\n",
    "     {\"name\": \"DBS Check Against Children's List\",\"value\": child_list},\n",
    "     {\"name\": \"DBS Check Against Police Records\",\"value\": police},\n",
    "     {\"name\": \"DBS Check Information From Section 142 Education Act 2002\",\"value\": education},\n",
    "     {\"name\": \"DBS Check for Other Relevant Information\",\"value\": relevant_info},\n",
    "     {\"name\": \"DBS Name of Employer\",\"value\": employer},\n",
    "     {\"name\": \"DBS Registered Person/Body\",\"value\": registered_body},\n",
    "     {\"name\": \"DBS Countersignatory\",\"value\": countersignatory},\n",
    "     {\"name\": \"DBS Certificate Reference Number\",\"value\": cert_num},\n",
    "\n",
    "]\n",
    "\n",
    "\n",
    "\n",
    "\n",
    "print(credential_attributes)"
   ]
  },
  {
   "cell_type": "markdown",
   "metadata": {},
   "source": [
    "## 4.3 Issue Training Program Credential\n",
    "\n",
    "This sends a credential to the doctor's mobile wallet you just connected with."
   ]
  },
  {
   "cell_type": "code",
   "execution_count": 18,
   "metadata": {},
   "outputs": [
    {
     "name": "stdout",
     "output_type": "stream",
     "text": [
      "Credential exchange 7bf69b03-8244-47dd-b28f-7a836faa6c01, role: issuer, state: offer_sent\n",
      "Handle Credentials\n",
      "Credential exchange 7bf69b03-8244-47dd-b28f-7a836faa6c01, role: issuer, state: offer_sent\n",
      "Offering: [{'name': 'DBS Surname', 'value': 'Johnson'}, {'name': 'DBS Forename', 'value': 'Fred'}, {'name': 'DBS Other Names', 'value': ''}, {'name': 'DBS Date of Birth', 'value': '05/03/2000'}, {'name': 'DBS Place of Birth', 'value': 'Bradford'}, {'name': 'DBS Gender', 'value': 'Male'}, {'name': 'DBS Date of Issue', 'value': '2020-09-21'}, {'name': 'DBS Level of Check Requested', 'value': 'asd'}, {'name': 'DBS Position Check Applied For', 'value': 'asd'}, {'name': \"DBS Check Against Adult's List\", 'value': 'sad'}, {'name': \"DBS Check Against Children's List\", 'value': 'asd'}, {'name': 'DBS Check Against Police Records', 'value': 'as'}, {'name': 'DBS Check Information From Section 142 Education Act 2002', 'value': 'asd'}, {'name': 'DBS Check for Other Relevant Information', 'value': 'sda'}, {'name': 'DBS Name of Employer', 'value': 'asd'}, {'name': 'DBS Registered Person/Body', 'value': 'ads'}, {'name': 'DBS Countersignatory', 'value': 'ads'}, {'name': 'DBS Certificate Reference Number', 'value': 'ads'}]\n"
     ]
    }
   ],
   "source": [
    "record = await agent_controller.issuer.send_credential(connection_id, dbs_schema_id, dbs_cred_def_id, credential_attributes, trace=False)\n",
    "record_id = record['credential_exchange_id']\n",
    "state = record['state']\n",
    "role = record['role']\n",
    "print(f\"Credential exchange {record_id}, role: {role}, state: {state}\")\n"
   ]
  },
  {
   "cell_type": "markdown",
   "metadata": {},
   "source": [
    "## 5. Issue Mandatory Training Credential"
   ]
  },
  {
   "cell_type": "markdown",
   "metadata": {},
   "source": [
    "### 5.1 Retrieve stored credential definitions and schema\n"
   ]
  },
  {
   "cell_type": "code",
   "execution_count": 19,
   "metadata": {},
   "outputs": [
    {
     "name": "stdout",
     "output_type": "stream",
     "text": [
      "2yWoMSfeTtYBFpUJFcnpqL:2:mandatoryTrainingCredential:0.0.1\n",
      "51CjicBWofzajTByNQnfo2:3:CL:141271:default\n"
     ]
    }
   ],
   "source": [
    "%store -r mandatory_training_schema_id\n",
    "%store -r mandatory_training_cred_def_id\n",
    "print(mandatory_training_schema_id)    \n",
    "print(mandatory_training_cred_def_id)"
   ]
  },
  {
   "cell_type": "markdown",
   "metadata": {},
   "source": [
    "### 5.2 Populate the Mandatory Training Credential Attributes\n",
    "\n",
    "This appears to be a terribly designed schema that makes it almost unusable. Are doctors ever going to complete all this training all at once? Why not break it up into the individual segments? Is this to save costs when writing too the ledger?"
   ]
  },
  {
   "cell_type": "code",
   "execution_count": 20,
   "metadata": {},
   "outputs": [
    {
     "name": "stdout",
     "output_type": "stream",
     "text": [
      "Please enter the expiry date for all training :12/12/21\n",
      "[{'name': 'MNT Conflict Resolution Completed', 'value': 'True'}, {'name': 'MNT Conflict Resolution Expiry Date', 'value': '12/12/21'}, {'name': 'MNT Equality and Diversity Completed', 'value': 'True'}, {'name': 'MNT Equality and Diversity Expiry Date', 'value': '12/12/21'}, {'name': 'MNT Fire Safety Completed', 'value': 'True'}, {'name': 'MNT Fire Safety Expiry Date', 'value': '12/12/21'}, {'name': 'MNT Health Safety and Welfare Completed', 'value': 'True'}, {'name': 'MNT Health Safety and Welfare Expiry Date', 'value': '12/12/21'}, {'name': 'MNT Infection Prevention L1 Completed', 'value': 'True'}, {'name': 'MNT Infection Prevention L1 Expiry Date', 'value': '12/12/21'}, {'name': 'MNT Infection Prevention L2 Completed', 'value': 'True'}, {'name': 'MNT Infection Prevention L2 Expiry Date', 'value': '12/12/21'}, {'name': 'MNT Information Governance Completed', 'value': 'True'}, {'name': 'MNT Information Governance Expiry Date', 'value': '12/12/21'}, {'name': 'MNT Moving and Handling L1 Completed', 'value': 'True'}, {'name': 'MNT Moving and Handling L1 Expiry Date', 'value': '12/12/21'}, {'name': 'MNT Moving and Handling L2 Completed', 'value': 'True'}, {'name': 'MNT Moving and Handling L2 Expiry Date', 'value': '12/12/21'}, {'name': 'MNT Basic Prevent Awareness Completed', 'value': 'True'}, {'name': 'MNT Basic Prevent Awareness Expiry Date', 'value': '12/12/21'}, {'name': 'MNT Prevent Awareness Completed', 'value': 'True'}, {'name': 'MNT Prevent Awareness Expiry Date', 'value': '12/12/21'}, {'name': 'MNT Resus L1 Completed', 'value': 'True'}, {'name': 'MNT Resus L1 Expiry Date', 'value': '12/12/21'}, {'name': 'MNT Resus L2 Adult Completed', 'value': 'True'}, {'name': 'MNT Resus L2 Adult Expiry Date', 'value': '12/12/21'}, {'name': 'MNT Resus L2 Newborn Completed', 'value': 'True'}, {'name': 'MNT Resus L2 Newborn Expiry Date', 'value': '12/12/21'}, {'name': 'MNT Resus L2 Paediatric Completed', 'value': 'True'}, {'name': 'MNT Resus L2 Paediatric Expiry Date', 'value': '12/12/21'}, {'name': 'MNT Safeguarding Adults L1 Completed', 'value': 'True'}, {'name': 'MNT Safeguarding Adults L1 Expiry Date', 'value': '12/12/21'}, {'name': 'MNT Safeguarding Adults L2 Completed', 'value': 'True'}, {'name': 'MNT Safeguarding Adults L2 Expiry Date', 'value': '12/12/21'}, {'name': 'MNT Safeguarding Adults L3 Completed', 'value': 'True'}, {'name': 'MNT Safeguarding Adults L3 Expiry Date', 'value': '12/12/21'}, {'name': 'MNT Safeguarding Children L1 Completed', 'value': 'True'}, {'name': 'MNT Safeguarding Children L1 Expiry Date', 'value': '12/12/21'}, {'name': 'MNT Safeguarding Children L2 Completed', 'value': 'True'}, {'name': 'MNT Safeguarding Children L2 Expiry Date', 'value': '12/12/21'}, {'name': 'MNT Safeguarding Children L3 Completed', 'value': 'True'}, {'name': 'MNT Safeguarding Children L3 Expiry Date', 'value': '12/12/21'}, {'name': 'MNT Violence and Aggression Completed', 'value': 'True'}, {'name': 'MNT Violence and Aggression Expiry Date', 'value': '12/12/21'}]\n"
     ]
    }
   ],
   "source": [
    "expiry_date = input(\"Please enter the expiry date for all training :\")\n",
    "\n",
    "credential_attributes=[\n",
    "    {\"name\":\"MNT Conflict Resolution Completed\", \"value\": \"True\"},\n",
    "     {\"name\":\"MNT Conflict Resolution Expiry Date\", \"value\": expiry_date},\n",
    "     {\"name\":\"MNT Equality and Diversity Completed\", \"value\": \"True\"},\n",
    "     {\"name\":\"MNT Equality and Diversity Expiry Date\", \"value\": expiry_date},\n",
    "     {\"name\":\"MNT Fire Safety Completed\", \"value\": \"True\"},\n",
    "     {\"name\":\"MNT Fire Safety Expiry Date\", \"value\": expiry_date},\n",
    "     {\"name\":\"MNT Health Safety and Welfare Completed\", \"value\": \"True\"},\n",
    "     {\"name\":\"MNT Health Safety and Welfare Expiry Date\", \"value\": expiry_date},\n",
    "     {\"name\":\"MNT Infection Prevention L1 Completed\", \"value\": \"True\"},\n",
    "     {\"name\":\"MNT Infection Prevention L1 Expiry Date\", \"value\": expiry_date},\n",
    "     {\"name\":\"MNT Infection Prevention L2 Completed\", \"value\": \"True\"},\n",
    "     {\"name\":\"MNT Infection Prevention L2 Expiry Date\", \"value\": expiry_date},\n",
    "     {\"name\":\"MNT Information Governance Completed\", \"value\": \"True\"},\n",
    "     {\"name\":\"MNT Information Governance Expiry Date\", \"value\": expiry_date},\n",
    "     {\"name\":\"MNT Moving and Handling L1 Completed\", \"value\": \"True\"},\n",
    "     {\"name\":\"MNT Moving and Handling L1 Expiry Date\", \"value\": expiry_date},\n",
    "     {\"name\":\"MNT Moving and Handling L2 Completed\", \"value\": \"True\"},\n",
    "     {\"name\":\"MNT Moving and Handling L2 Expiry Date\", \"value\": expiry_date},\n",
    "     {\"name\":\"MNT Basic Prevent Awareness Completed\", \"value\": \"True\"},\n",
    "     {\"name\":\"MNT Basic Prevent Awareness Expiry Date\", \"value\": expiry_date},\n",
    "     {\"name\":\"MNT Prevent Awareness Completed\", \"value\": \"True\"},\n",
    "     {\"name\":\"MNT Prevent Awareness Expiry Date\", \"value\": expiry_date},\n",
    "     {\"name\":\"MNT Resus L1 Completed\", \"value\": \"True\"},\n",
    "     {\"name\":\"MNT Resus L1 Expiry Date\", \"value\": expiry_date},\n",
    "     {\"name\":\"MNT Resus L2 Adult Completed\", \"value\": \"True\"},\n",
    "     {\"name\":\"MNT Resus L2 Adult Expiry Date\",\"value\": expiry_date},\n",
    "     {\"name\":\"MNT Resus L2 Newborn Completed\", \"value\": \"True\"},\n",
    "     {\"name\":\"MNT Resus L2 Newborn Expiry Date\", \"value\": expiry_date},\n",
    "     {\"name\": \"MNT Resus L2 Paediatric Completed\", \"value\": \"True\"},\n",
    "     {\"name\":\"MNT Resus L2 Paediatric Expiry Date\", \"value\": expiry_date},\n",
    "     {\"name\":\"MNT Safeguarding Adults L1 Completed\", \"value\": \"True\"},\n",
    "     {\"name\":\"MNT Safeguarding Adults L1 Expiry Date\", \"value\": expiry_date},\n",
    "     {\"name\":\"MNT Safeguarding Adults L2 Completed\", \"value\": \"True\"},\n",
    "     {\"name\":\"MNT Safeguarding Adults L2 Expiry Date\", \"value\": expiry_date},\n",
    "     {\"name\":\"MNT Safeguarding Adults L3 Completed\", \"value\": \"True\"},\n",
    "     {\"name\":\"MNT Safeguarding Adults L3 Expiry Date\", \"value\": expiry_date},\n",
    "     {\"name\":\"MNT Safeguarding Children L1 Completed\", \"value\": \"True\"},\n",
    "     {\"name\":\"MNT Safeguarding Children L1 Expiry Date\", \"value\": expiry_date},\n",
    "     {\"name\":\"MNT Safeguarding Children L2 Completed\", \"value\": \"True\"},\n",
    "     {\"name\":\"MNT Safeguarding Children L2 Expiry Date\", \"value\": expiry_date},\n",
    "     {\"name\":\"MNT Safeguarding Children L3 Completed\", \"value\": \"True\"},\n",
    "     {\"name\":\"MNT Safeguarding Children L3 Expiry Date\", \"value\": expiry_date},\n",
    "     {\"name\":\"MNT Violence and Aggression Completed\", \"value\": \"True\"},\n",
    "     {\"name\":\"MNT Violence and Aggression Expiry Date\", \"value\": expiry_date}\n",
    "]\n",
    "print(credential_attributes)\n"
   ]
  },
  {
   "cell_type": "markdown",
   "metadata": {},
   "source": [
    "### 5.3 Issue the Mandatory Training Credential "
   ]
  },
  {
   "cell_type": "code",
   "execution_count": 21,
   "metadata": {},
   "outputs": [
    {
     "name": "stdout",
     "output_type": "stream",
     "text": [
      "Credential exchange 49964ff4-c82b-4f9b-8ee2-f8dedeba7136, role: issuer, state: offer_sent\n",
      "Handle Credentials\n",
      "Credential exchange 49964ff4-c82b-4f9b-8ee2-f8dedeba7136, role: issuer, state: offer_sent\n",
      "Offering: [{'name': 'MNT Conflict Resolution Completed', 'value': 'True'}, {'name': 'MNT Conflict Resolution Expiry Date', 'value': '12/12/21'}, {'name': 'MNT Equality and Diversity Completed', 'value': 'True'}, {'name': 'MNT Equality and Diversity Expiry Date', 'value': '12/12/21'}, {'name': 'MNT Fire Safety Completed', 'value': 'True'}, {'name': 'MNT Fire Safety Expiry Date', 'value': '12/12/21'}, {'name': 'MNT Health Safety and Welfare Completed', 'value': 'True'}, {'name': 'MNT Health Safety and Welfare Expiry Date', 'value': '12/12/21'}, {'name': 'MNT Infection Prevention L1 Completed', 'value': 'True'}, {'name': 'MNT Infection Prevention L1 Expiry Date', 'value': '12/12/21'}, {'name': 'MNT Infection Prevention L2 Completed', 'value': 'True'}, {'name': 'MNT Infection Prevention L2 Expiry Date', 'value': '12/12/21'}, {'name': 'MNT Information Governance Completed', 'value': 'True'}, {'name': 'MNT Information Governance Expiry Date', 'value': '12/12/21'}, {'name': 'MNT Moving and Handling L1 Completed', 'value': 'True'}, {'name': 'MNT Moving and Handling L1 Expiry Date', 'value': '12/12/21'}, {'name': 'MNT Moving and Handling L2 Completed', 'value': 'True'}, {'name': 'MNT Moving and Handling L2 Expiry Date', 'value': '12/12/21'}, {'name': 'MNT Basic Prevent Awareness Completed', 'value': 'True'}, {'name': 'MNT Basic Prevent Awareness Expiry Date', 'value': '12/12/21'}, {'name': 'MNT Prevent Awareness Completed', 'value': 'True'}, {'name': 'MNT Prevent Awareness Expiry Date', 'value': '12/12/21'}, {'name': 'MNT Resus L1 Completed', 'value': 'True'}, {'name': 'MNT Resus L1 Expiry Date', 'value': '12/12/21'}, {'name': 'MNT Resus L2 Adult Completed', 'value': 'True'}, {'name': 'MNT Resus L2 Adult Expiry Date', 'value': '12/12/21'}, {'name': 'MNT Resus L2 Newborn Completed', 'value': 'True'}, {'name': 'MNT Resus L2 Newborn Expiry Date', 'value': '12/12/21'}, {'name': 'MNT Resus L2 Paediatric Completed', 'value': 'True'}, {'name': 'MNT Resus L2 Paediatric Expiry Date', 'value': '12/12/21'}, {'name': 'MNT Safeguarding Adults L1 Completed', 'value': 'True'}, {'name': 'MNT Safeguarding Adults L1 Expiry Date', 'value': '12/12/21'}, {'name': 'MNT Safeguarding Adults L2 Completed', 'value': 'True'}, {'name': 'MNT Safeguarding Adults L2 Expiry Date', 'value': '12/12/21'}, {'name': 'MNT Safeguarding Adults L3 Completed', 'value': 'True'}, {'name': 'MNT Safeguarding Adults L3 Expiry Date', 'value': '12/12/21'}, {'name': 'MNT Safeguarding Children L1 Completed', 'value': 'True'}, {'name': 'MNT Safeguarding Children L1 Expiry Date', 'value': '12/12/21'}, {'name': 'MNT Safeguarding Children L2 Completed', 'value': 'True'}, {'name': 'MNT Safeguarding Children L2 Expiry Date', 'value': '12/12/21'}, {'name': 'MNT Safeguarding Children L3 Completed', 'value': 'True'}, {'name': 'MNT Safeguarding Children L3 Expiry Date', 'value': '12/12/21'}, {'name': 'MNT Violence and Aggression Completed', 'value': 'True'}, {'name': 'MNT Violence and Aggression Expiry Date', 'value': '12/12/21'}]\n"
     ]
    }
   ],
   "source": [
    "record = await agent_controller.issuer.send_credential(connection_id, mandatory_training_schema_id, mandatory_training_cred_def_id, credential_attributes, trace=False)\n",
    "record_id = record['credential_exchange_id']\n",
    "state = record['state']\n",
    "role = record['role']\n",
    "print(f\"Credential exchange {record_id}, role: {role}, state: {state}\")"
   ]
  },
  {
   "cell_type": "markdown",
   "metadata": {},
   "source": [
    "## 6. Issue Occupational Health Credential"
   ]
  },
  {
   "cell_type": "markdown",
   "metadata": {},
   "source": [
    "### 6.1 Retrieve stored cred def and schemas"
   ]
  },
  {
   "cell_type": "code",
   "execution_count": 22,
   "metadata": {},
   "outputs": [
    {
     "name": "stdout",
     "output_type": "stream",
     "text": [
      "2yWoMSfeTtYBFpUJFcnpqL:2:Occupational Health:0.0.1\n",
      "51CjicBWofzajTByNQnfo2:3:CL:141273:default\n"
     ]
    }
   ],
   "source": [
    "%store -r occ_health_schema_id\n",
    "%store -r occ_health_cred_def_id\n",
    "print(occ_health_schema_id)\n",
    "print(occ_health_cred_def_id)"
   ]
  },
  {
   "cell_type": "markdown",
   "metadata": {},
   "source": [
    "### 6.2 Populate the Occupational Health Attributes"
   ]
  },
  {
   "cell_type": "code",
   "execution_count": 24,
   "metadata": {},
   "outputs": [
    {
     "name": "stdout",
     "output_type": "stream",
     "text": [
      "Please enter the skin test result: Negative\n",
      "Please enter the History of Ch. Pox or Shingles: No\n",
      "Has the doctor ever had exposure to TB : No\n",
      "Has the doctor ever been treated for TB : No\n",
      "Please enter the result of a TB Chest X-Ray: No\n",
      "Does the doctor have any alergies: No\n",
      "[{'name': 'OCH DTP Imm. Date', 'value': '2020-09-21'}, {'name': 'OCH DTP Serology Date', 'value': '2020-09-21'}, {'name': 'OCH Hep B Imm. Course Date', 'value': '2020-09-21'}, {'name': 'OCH Hep B Booster Date', 'value': '2020-09-21'}, {'name': 'OCH Hep B sAg Serology Date', 'value': '2020-09-21'}, {'name': 'OCH Hep B Ab Date', 'value': '2020-09-21'}, {'name': 'OCH Hepatitis C Serology Date', 'value': '2020-09-21'}, {'name': 'OCH MMR Foundation Shot 1 Date', 'value': '2020-09-21'}, {'name': 'OCH MMR Foundation Shot 2 Date', 'value': '2020-09-21'}, {'name': 'OCH Varicella Imm. Course Date', 'value': '2020-09-21'}, {'name': 'OCH Varicella Ab Date', 'value': '2020-09-21'}, {'name': 'OCH Measles Ab Date', 'value': '2020-09-21'}, {'name': 'OCH Rubella Ab Date', 'value': '2020-09-21'}, {'name': 'OCH HIV Serology Date', 'value': '2020-09-21'}, {'name': 'OCH BCG Vacc. Date', 'value': '2020-09-21'}, {'name': 'OCH TB Skin Test Result', 'value': 'Negative'}, {'name': 'OCH History of Ch. Pox or Shingles', 'value': 'No'}, {'name': 'OCH History of Exp. to TB (or ever investig.)', 'value': 'No'}, {'name': 'OCH Ever Treated for TB', 'value': 'No'}, {'name': 'OCH Chest X-Ray Outcome if Exp. to TB', 'value': 'No'}, {'name': 'OCH Allergies', 'value': 'No'}]\n"
     ]
    }
   ],
   "source": [
    "today = str(date.today())\n",
    "\n",
    "skin_test = input(\"Please enter the skin test result: \")\n",
    "pox=input(\"Please enter the History of Ch. Pox or Shingles: \")\n",
    "tb=input(\"Has the doctor ever had exposure to TB : \")\n",
    "tb_treatment=input(\"Has the doctor ever been treated for TB : \")\n",
    "\n",
    "chest = input(\"Please enter the result of a TB Chest X-Ray: \")\n",
    "allergies = input(\"Does the doctor have any alergies: \")\n",
    "\n",
    "credential_attributes = [\n",
    "     {\"name\":\"OCH DTP Imm. Date\",\"value\": today},\n",
    "     {\"name\":\"OCH DTP Serology Date\",\"value\": today},\n",
    "     {\"name\":\"OCH Hep B Imm. Course Date\",\"value\": today},\n",
    "     {\"name\":\"OCH Hep B Booster Date\",\"value\": today},\n",
    "     {\"name\":\"OCH Hep B sAg Serology Date\",\"value\": today},\n",
    "     {\"name\":\"OCH Hep B Ab Date\",\"value\": today},\n",
    "     {\"name\":\"OCH Hepatitis C Serology Date\",\"value\": today},\n",
    "     {\"name\":\"OCH MMR Foundation Shot 1 Date\",\"value\": today},\n",
    "     {\"name\":\"OCH MMR Foundation Shot 2 Date\",\"value\": today},\n",
    "     {\"name\":\"OCH Varicella Imm. Course Date\",\"value\": today},\n",
    "     {\"name\":\"OCH Varicella Ab Date\",\"value\": today},\n",
    "     {\"name\":\"OCH Measles Ab Date\",\"value\": today},\n",
    "     {\"name\":\"OCH Rubella Ab Date\",\"value\": today},\n",
    "     {\"name\":\"OCH HIV Serology Date\",\"value\": today},\n",
    "     {\"name\":\"OCH BCG Vacc. Date\",\"value\": today},\n",
    "     {\"name\":\"OCH TB Skin Test Result\",\"value\": skin_test},\n",
    "     {\"name\":\"OCH History of Ch. Pox or Shingles\",\"value\": pox},\n",
    "     {\"name\":\"OCH History of Exp. to TB (or ever investig.)\",\"value\": tb},\n",
    "     {\"name\":\"OCH Ever Treated for TB\",\"value\": tb_treatment},\n",
    "     {\"name\":\"OCH Chest X-Ray Outcome if Exp. to TB\",\"value\": chest},\n",
    "     {\"name\":\"OCH Allergies\",\"value\": allergies},\n",
    "\n",
    "]\n",
    "print(credential_attributes)"
   ]
  },
  {
   "cell_type": "markdown",
   "metadata": {},
   "source": [
    "### 6.3 Issue the Training Placement Credential"
   ]
  },
  {
   "cell_type": "code",
   "execution_count": 25,
   "metadata": {},
   "outputs": [
    {
     "name": "stdout",
     "output_type": "stream",
     "text": [
      "Credential exchange a3f16c2a-c624-4d1d-8286-97daf1112e18, role: issuer, state: offer_sent\n",
      "Handle Credentials\n",
      "Credential exchange a3f16c2a-c624-4d1d-8286-97daf1112e18, role: issuer, state: offer_sent\n",
      "Offering: [{'name': 'OCH DTP Imm. Date', 'value': '2020-09-21'}, {'name': 'OCH DTP Serology Date', 'value': '2020-09-21'}, {'name': 'OCH Hep B Imm. Course Date', 'value': '2020-09-21'}, {'name': 'OCH Hep B Booster Date', 'value': '2020-09-21'}, {'name': 'OCH Hep B sAg Serology Date', 'value': '2020-09-21'}, {'name': 'OCH Hep B Ab Date', 'value': '2020-09-21'}, {'name': 'OCH Hepatitis C Serology Date', 'value': '2020-09-21'}, {'name': 'OCH MMR Foundation Shot 1 Date', 'value': '2020-09-21'}, {'name': 'OCH MMR Foundation Shot 2 Date', 'value': '2020-09-21'}, {'name': 'OCH Varicella Imm. Course Date', 'value': '2020-09-21'}, {'name': 'OCH Varicella Ab Date', 'value': '2020-09-21'}, {'name': 'OCH Measles Ab Date', 'value': '2020-09-21'}, {'name': 'OCH Rubella Ab Date', 'value': '2020-09-21'}, {'name': 'OCH HIV Serology Date', 'value': '2020-09-21'}, {'name': 'OCH BCG Vacc. Date', 'value': '2020-09-21'}, {'name': 'OCH TB Skin Test Result', 'value': 'Negative'}, {'name': 'OCH History of Ch. Pox or Shingles', 'value': 'No'}, {'name': 'OCH History of Exp. to TB (or ever investig.)', 'value': 'No'}, {'name': 'OCH Ever Treated for TB', 'value': 'No'}, {'name': 'OCH Chest X-Ray Outcome if Exp. to TB', 'value': 'No'}, {'name': 'OCH Allergies', 'value': 'No'}]\n",
      "Handle Credentials\n",
      "Credential exchange 7bf69b03-8244-47dd-b28f-7a836faa6c01, role: issuer, state: request_received\n",
      "Offering: [{'name': 'DBS Surname', 'value': 'Johnson'}, {'name': 'DBS Forename', 'value': 'Fred'}, {'name': 'DBS Other Names', 'value': ''}, {'name': 'DBS Date of Birth', 'value': '05/03/2000'}, {'name': 'DBS Place of Birth', 'value': 'Bradford'}, {'name': 'DBS Gender', 'value': 'Male'}, {'name': 'DBS Date of Issue', 'value': '2020-09-21'}, {'name': 'DBS Level of Check Requested', 'value': 'asd'}, {'name': 'DBS Position Check Applied For', 'value': 'asd'}, {'name': \"DBS Check Against Adult's List\", 'value': 'sad'}, {'name': \"DBS Check Against Children's List\", 'value': 'asd'}, {'name': 'DBS Check Against Police Records', 'value': 'as'}, {'name': 'DBS Check Information From Section 142 Education Act 2002', 'value': 'asd'}, {'name': 'DBS Check for Other Relevant Information', 'value': 'sda'}, {'name': 'DBS Name of Employer', 'value': 'asd'}, {'name': 'DBS Registered Person/Body', 'value': 'ads'}, {'name': 'DBS Countersignatory', 'value': 'ads'}, {'name': 'DBS Certificate Reference Number', 'value': 'ads'}]\n",
      "Handle Credentials\n",
      "Credential exchange 7bf69b03-8244-47dd-b28f-7a836faa6c01, role: issuer, state: credential_issued\n",
      "Offering: [{'name': 'DBS Surname', 'value': 'Johnson'}, {'name': 'DBS Forename', 'value': 'Fred'}, {'name': 'DBS Other Names', 'value': ''}, {'name': 'DBS Date of Birth', 'value': '05/03/2000'}, {'name': 'DBS Place of Birth', 'value': 'Bradford'}, {'name': 'DBS Gender', 'value': 'Male'}, {'name': 'DBS Date of Issue', 'value': '2020-09-21'}, {'name': 'DBS Level of Check Requested', 'value': 'asd'}, {'name': 'DBS Position Check Applied For', 'value': 'asd'}, {'name': \"DBS Check Against Adult's List\", 'value': 'sad'}, {'name': \"DBS Check Against Children's List\", 'value': 'asd'}, {'name': 'DBS Check Against Police Records', 'value': 'as'}, {'name': 'DBS Check Information From Section 142 Education Act 2002', 'value': 'asd'}, {'name': 'DBS Check for Other Relevant Information', 'value': 'sda'}, {'name': 'DBS Name of Employer', 'value': 'asd'}, {'name': 'DBS Registered Person/Body', 'value': 'ads'}, {'name': 'DBS Countersignatory', 'value': 'ads'}, {'name': 'DBS Certificate Reference Number', 'value': 'ads'}]\n",
      "Handle Credentials\n",
      "Credential exchange 49964ff4-c82b-4f9b-8ee2-f8dedeba7136, role: issuer, state: request_received\n",
      "Offering: [{'name': 'MNT Conflict Resolution Completed', 'value': 'True'}, {'name': 'MNT Conflict Resolution Expiry Date', 'value': '12/12/21'}, {'name': 'MNT Equality and Diversity Completed', 'value': 'True'}, {'name': 'MNT Equality and Diversity Expiry Date', 'value': '12/12/21'}, {'name': 'MNT Fire Safety Completed', 'value': 'True'}, {'name': 'MNT Fire Safety Expiry Date', 'value': '12/12/21'}, {'name': 'MNT Health Safety and Welfare Completed', 'value': 'True'}, {'name': 'MNT Health Safety and Welfare Expiry Date', 'value': '12/12/21'}, {'name': 'MNT Infection Prevention L1 Completed', 'value': 'True'}, {'name': 'MNT Infection Prevention L1 Expiry Date', 'value': '12/12/21'}, {'name': 'MNT Infection Prevention L2 Completed', 'value': 'True'}, {'name': 'MNT Infection Prevention L2 Expiry Date', 'value': '12/12/21'}, {'name': 'MNT Information Governance Completed', 'value': 'True'}, {'name': 'MNT Information Governance Expiry Date', 'value': '12/12/21'}, {'name': 'MNT Moving and Handling L1 Completed', 'value': 'True'}, {'name': 'MNT Moving and Handling L1 Expiry Date', 'value': '12/12/21'}, {'name': 'MNT Moving and Handling L2 Completed', 'value': 'True'}, {'name': 'MNT Moving and Handling L2 Expiry Date', 'value': '12/12/21'}, {'name': 'MNT Basic Prevent Awareness Completed', 'value': 'True'}, {'name': 'MNT Basic Prevent Awareness Expiry Date', 'value': '12/12/21'}, {'name': 'MNT Prevent Awareness Completed', 'value': 'True'}, {'name': 'MNT Prevent Awareness Expiry Date', 'value': '12/12/21'}, {'name': 'MNT Resus L1 Completed', 'value': 'True'}, {'name': 'MNT Resus L1 Expiry Date', 'value': '12/12/21'}, {'name': 'MNT Resus L2 Adult Completed', 'value': 'True'}, {'name': 'MNT Resus L2 Adult Expiry Date', 'value': '12/12/21'}, {'name': 'MNT Resus L2 Newborn Completed', 'value': 'True'}, {'name': 'MNT Resus L2 Newborn Expiry Date', 'value': '12/12/21'}, {'name': 'MNT Resus L2 Paediatric Completed', 'value': 'True'}, {'name': 'MNT Resus L2 Paediatric Expiry Date', 'value': '12/12/21'}, {'name': 'MNT Safeguarding Adults L1 Completed', 'value': 'True'}, {'name': 'MNT Safeguarding Adults L1 Expiry Date', 'value': '12/12/21'}, {'name': 'MNT Safeguarding Adults L2 Completed', 'value': 'True'}, {'name': 'MNT Safeguarding Adults L2 Expiry Date', 'value': '12/12/21'}, {'name': 'MNT Safeguarding Adults L3 Completed', 'value': 'True'}, {'name': 'MNT Safeguarding Adults L3 Expiry Date', 'value': '12/12/21'}, {'name': 'MNT Safeguarding Children L1 Completed', 'value': 'True'}, {'name': 'MNT Safeguarding Children L1 Expiry Date', 'value': '12/12/21'}, {'name': 'MNT Safeguarding Children L2 Completed', 'value': 'True'}, {'name': 'MNT Safeguarding Children L2 Expiry Date', 'value': '12/12/21'}, {'name': 'MNT Safeguarding Children L3 Completed', 'value': 'True'}, {'name': 'MNT Safeguarding Children L3 Expiry Date', 'value': '12/12/21'}, {'name': 'MNT Violence and Aggression Completed', 'value': 'True'}, {'name': 'MNT Violence and Aggression Expiry Date', 'value': '12/12/21'}]\n",
      "Handle Credentials\n",
      "Credential exchange 49964ff4-c82b-4f9b-8ee2-f8dedeba7136, role: issuer, state: credential_issued\n",
      "Offering: [{'name': 'MNT Conflict Resolution Completed', 'value': 'True'}, {'name': 'MNT Conflict Resolution Expiry Date', 'value': '12/12/21'}, {'name': 'MNT Equality and Diversity Completed', 'value': 'True'}, {'name': 'MNT Equality and Diversity Expiry Date', 'value': '12/12/21'}, {'name': 'MNT Fire Safety Completed', 'value': 'True'}, {'name': 'MNT Fire Safety Expiry Date', 'value': '12/12/21'}, {'name': 'MNT Health Safety and Welfare Completed', 'value': 'True'}, {'name': 'MNT Health Safety and Welfare Expiry Date', 'value': '12/12/21'}, {'name': 'MNT Infection Prevention L1 Completed', 'value': 'True'}, {'name': 'MNT Infection Prevention L1 Expiry Date', 'value': '12/12/21'}, {'name': 'MNT Infection Prevention L2 Completed', 'value': 'True'}, {'name': 'MNT Infection Prevention L2 Expiry Date', 'value': '12/12/21'}, {'name': 'MNT Information Governance Completed', 'value': 'True'}, {'name': 'MNT Information Governance Expiry Date', 'value': '12/12/21'}, {'name': 'MNT Moving and Handling L1 Completed', 'value': 'True'}, {'name': 'MNT Moving and Handling L1 Expiry Date', 'value': '12/12/21'}, {'name': 'MNT Moving and Handling L2 Completed', 'value': 'True'}, {'name': 'MNT Moving and Handling L2 Expiry Date', 'value': '12/12/21'}, {'name': 'MNT Basic Prevent Awareness Completed', 'value': 'True'}, {'name': 'MNT Basic Prevent Awareness Expiry Date', 'value': '12/12/21'}, {'name': 'MNT Prevent Awareness Completed', 'value': 'True'}, {'name': 'MNT Prevent Awareness Expiry Date', 'value': '12/12/21'}, {'name': 'MNT Resus L1 Completed', 'value': 'True'}, {'name': 'MNT Resus L1 Expiry Date', 'value': '12/12/21'}, {'name': 'MNT Resus L2 Adult Completed', 'value': 'True'}, {'name': 'MNT Resus L2 Adult Expiry Date', 'value': '12/12/21'}, {'name': 'MNT Resus L2 Newborn Completed', 'value': 'True'}, {'name': 'MNT Resus L2 Newborn Expiry Date', 'value': '12/12/21'}, {'name': 'MNT Resus L2 Paediatric Completed', 'value': 'True'}, {'name': 'MNT Resus L2 Paediatric Expiry Date', 'value': '12/12/21'}, {'name': 'MNT Safeguarding Adults L1 Completed', 'value': 'True'}, {'name': 'MNT Safeguarding Adults L1 Expiry Date', 'value': '12/12/21'}, {'name': 'MNT Safeguarding Adults L2 Completed', 'value': 'True'}, {'name': 'MNT Safeguarding Adults L2 Expiry Date', 'value': '12/12/21'}, {'name': 'MNT Safeguarding Adults L3 Completed', 'value': 'True'}, {'name': 'MNT Safeguarding Adults L3 Expiry Date', 'value': '12/12/21'}, {'name': 'MNT Safeguarding Children L1 Completed', 'value': 'True'}, {'name': 'MNT Safeguarding Children L1 Expiry Date', 'value': '12/12/21'}, {'name': 'MNT Safeguarding Children L2 Completed', 'value': 'True'}, {'name': 'MNT Safeguarding Children L2 Expiry Date', 'value': '12/12/21'}, {'name': 'MNT Safeguarding Children L3 Completed', 'value': 'True'}, {'name': 'MNT Safeguarding Children L3 Expiry Date', 'value': '12/12/21'}, {'name': 'MNT Violence and Aggression Completed', 'value': 'True'}, {'name': 'MNT Violence and Aggression Expiry Date', 'value': '12/12/21'}]\n"
     ]
    },
    {
     "name": "stdout",
     "output_type": "stream",
     "text": [
      "Handle Credentials\n",
      "Credential exchange a3f16c2a-c624-4d1d-8286-97daf1112e18, role: issuer, state: request_received\n",
      "Offering: [{'name': 'OCH DTP Imm. Date', 'value': '2020-09-21'}, {'name': 'OCH DTP Serology Date', 'value': '2020-09-21'}, {'name': 'OCH Hep B Imm. Course Date', 'value': '2020-09-21'}, {'name': 'OCH Hep B Booster Date', 'value': '2020-09-21'}, {'name': 'OCH Hep B sAg Serology Date', 'value': '2020-09-21'}, {'name': 'OCH Hep B Ab Date', 'value': '2020-09-21'}, {'name': 'OCH Hepatitis C Serology Date', 'value': '2020-09-21'}, {'name': 'OCH MMR Foundation Shot 1 Date', 'value': '2020-09-21'}, {'name': 'OCH MMR Foundation Shot 2 Date', 'value': '2020-09-21'}, {'name': 'OCH Varicella Imm. Course Date', 'value': '2020-09-21'}, {'name': 'OCH Varicella Ab Date', 'value': '2020-09-21'}, {'name': 'OCH Measles Ab Date', 'value': '2020-09-21'}, {'name': 'OCH Rubella Ab Date', 'value': '2020-09-21'}, {'name': 'OCH HIV Serology Date', 'value': '2020-09-21'}, {'name': 'OCH BCG Vacc. Date', 'value': '2020-09-21'}, {'name': 'OCH TB Skin Test Result', 'value': 'Negative'}, {'name': 'OCH History of Ch. Pox or Shingles', 'value': 'No'}, {'name': 'OCH History of Exp. to TB (or ever investig.)', 'value': 'No'}, {'name': 'OCH Ever Treated for TB', 'value': 'No'}, {'name': 'OCH Chest X-Ray Outcome if Exp. to TB', 'value': 'No'}, {'name': 'OCH Allergies', 'value': 'No'}]\n",
      "Handle Credentials\n",
      "Credential exchange a3f16c2a-c624-4d1d-8286-97daf1112e18, role: issuer, state: credential_issued\n",
      "Offering: [{'name': 'OCH DTP Imm. Date', 'value': '2020-09-21'}, {'name': 'OCH DTP Serology Date', 'value': '2020-09-21'}, {'name': 'OCH Hep B Imm. Course Date', 'value': '2020-09-21'}, {'name': 'OCH Hep B Booster Date', 'value': '2020-09-21'}, {'name': 'OCH Hep B sAg Serology Date', 'value': '2020-09-21'}, {'name': 'OCH Hep B Ab Date', 'value': '2020-09-21'}, {'name': 'OCH Hepatitis C Serology Date', 'value': '2020-09-21'}, {'name': 'OCH MMR Foundation Shot 1 Date', 'value': '2020-09-21'}, {'name': 'OCH MMR Foundation Shot 2 Date', 'value': '2020-09-21'}, {'name': 'OCH Varicella Imm. Course Date', 'value': '2020-09-21'}, {'name': 'OCH Varicella Ab Date', 'value': '2020-09-21'}, {'name': 'OCH Measles Ab Date', 'value': '2020-09-21'}, {'name': 'OCH Rubella Ab Date', 'value': '2020-09-21'}, {'name': 'OCH HIV Serology Date', 'value': '2020-09-21'}, {'name': 'OCH BCG Vacc. Date', 'value': '2020-09-21'}, {'name': 'OCH TB Skin Test Result', 'value': 'Negative'}, {'name': 'OCH History of Ch. Pox or Shingles', 'value': 'No'}, {'name': 'OCH History of Exp. to TB (or ever investig.)', 'value': 'No'}, {'name': 'OCH Ever Treated for TB', 'value': 'No'}, {'name': 'OCH Chest X-Ray Outcome if Exp. to TB', 'value': 'No'}, {'name': 'OCH Allergies', 'value': 'No'}]\n"
     ]
    }
   ],
   "source": [
    "record = await agent_controller.issuer.send_credential(connection_id, occ_health_schema_id, occ_health_cred_def_id, credential_attributes, trace=False)\n",
    "record_id = record['credential_exchange_id']\n",
    "state = record['state']\n",
    "role = record['role']\n",
    "print(f\"Credential exchange {record_id}, role: {role}, state: {state}\")"
   ]
  },
  {
   "cell_type": "markdown",
   "metadata": {},
   "source": [
    "## 7. Issue the Doctor an Assignment Credential"
   ]
  },
  {
   "cell_type": "markdown",
   "metadata": {},
   "source": [
    "### 7.1 Retrieve cred def and schema id's from storage"
   ]
  },
  {
   "cell_type": "code",
   "execution_count": 26,
   "metadata": {},
   "outputs": [
    {
     "name": "stdout",
     "output_type": "stream",
     "text": [
      "2yWoMSfeTtYBFpUJFcnpqL:2:Lead Employer Assignment:0.0.1\n",
      "51CjicBWofzajTByNQnfo2:3:CL:141275:default\n"
     ]
    }
   ],
   "source": [
    "%store -r lead_emp_schema_id\n",
    "%store -r lead_emp_cred_def_id\n",
    "print(lead_emp_schema_id)\n",
    "print(lead_emp_cred_def_id)"
   ]
  },
  {
   "cell_type": "markdown",
   "metadata": {},
   "source": [
    "## 7.2 Populate the Assigment attributes"
   ]
  },
  {
   "cell_type": "code",
   "execution_count": 27,
   "metadata": {},
   "outputs": [
    {
     "name": "stdout",
     "output_type": "stream",
     "text": [
      "Enter the employing organisation for this assignment: BTH\n",
      "Enter the employing organisation ODS Code:123\n",
      "Enter the assignment job title: Boss\n",
      "Enter the assignment start date:today\n",
      "Enter the assignment end datetomorrow\n",
      "Enter the department:Work\n",
      "Enter the staff group:Working\n",
      "Enter the job role:Work\n",
      "Enter the assignment Pay Band:Top\n",
      "Enter the area of work:Top\n",
      "Enter the Occupation Code:123\n",
      "Enter the smartcard number123\n"
     ]
    }
   ],
   "source": [
    "emp_org = input(\"Enter the employing organisation for this assignment: \")\n",
    "ods_code = input(\"Enter the employing organisation ODS Code:\")\n",
    "job_title = input(\"Enter the assignment job title: \")\n",
    "start = input(\"Enter the assignment start date:\")\n",
    "end_date = input(\"Enter the assignment end date\")\n",
    "department = input(\"Enter the department:\")\n",
    "staff_group = input(\"Enter the staff group:\")\n",
    "role = input(\"Enter the job role:\")\n",
    "pay_band = input(\"Enter the assignment Pay Band:\")\n",
    "area = input(\"Enter the area of work:\")\n",
    "occ_code = input(\"Enter the Occupation Code:\")\n",
    "smartcard = input(\"Enter the smartcard number\")\n",
    "\n",
    "credential_attributes = [\n",
    "     {\"name\":\"LEA Employing Org\",\"value\": emp_org},\n",
    "     {\"name\":\"LEA Employing Org ODS Code\",\"value\": ods_code},\n",
    "     {\"name\":\"LEA Job Title\",\"value\": job_title},\n",
    "     {\"name\":\"LEA Start Date\",\"value\": start},\n",
    "     {\"name\":\"LEA Fixed Term Contract End Date\",\"value\": today},\n",
    "     {\"name\":\"LEA Department\",\"value\": department},\n",
    "     {\"name\":\"LEA Staff Group\",\"value\": staff_group},\n",
    "     {\"name\":\"LEA Job Role\",\"value\": role},\n",
    "     {\"name\":\"LEA Pay Band Afc\",\"value\": pay_band},\n",
    "     {\"name\":\"LEA Area Of Work\",\"value\": area},\n",
    "     {\"name\":\"LEA Occupation Code\",\"value\": occ_code},\n",
    "     {\"name\":\"LEA Smartcard Number\",\"value\": smartcard},\n",
    "]\n",
    "\n",
    "print(credential_attributes)"
   ]
  },
  {
   "cell_type": "markdown",
   "metadata": {},
   "source": [
    "## 7.3 Issue the Lead Employer Assignment Credential"
   ]
  },
  {
   "cell_type": "code",
   "execution_count": 28,
   "metadata": {},
   "outputs": [
    {
     "name": "stdout",
     "output_type": "stream",
     "text": [
      "Credential exchange a699d804-8be0-45ec-bc01-acd4d7c81727, role: issuer, state: offer_sent\n",
      "Handle Credentials\n",
      "Credential exchange a699d804-8be0-45ec-bc01-acd4d7c81727, role: issuer, state: offer_sent\n",
      "Offering: [{'name': 'LEA Employing Org', 'value': 'BTH'}, {'name': 'LEA Employing Org ODS Code', 'value': '123'}, {'name': 'LEA Job Title', 'value': 'Boss'}, {'name': 'LEA Start Date', 'value': 'today'}, {'name': 'LEA Fixed Term Contract End Date', 'value': '2020-09-21'}, {'name': 'LEA Department', 'value': 'Work'}, {'name': 'LEA Staff Group', 'value': 'Working'}, {'name': 'LEA Job Role', 'value': 'Work'}, {'name': 'LEA Pay Band Afc', 'value': 'Top'}, {'name': 'LEA Area Of Work', 'value': 'Top'}, {'name': 'LEA Occupation Code', 'value': '123'}, {'name': 'LEA Smartcard Number', 'value': '123'}]\n",
      "Handle Credentials\n",
      "Credential exchange a699d804-8be0-45ec-bc01-acd4d7c81727, role: issuer, state: request_received\n",
      "Offering: [{'name': 'LEA Employing Org', 'value': 'BTH'}, {'name': 'LEA Employing Org ODS Code', 'value': '123'}, {'name': 'LEA Job Title', 'value': 'Boss'}, {'name': 'LEA Start Date', 'value': 'today'}, {'name': 'LEA Fixed Term Contract End Date', 'value': '2020-09-21'}, {'name': 'LEA Department', 'value': 'Work'}, {'name': 'LEA Staff Group', 'value': 'Working'}, {'name': 'LEA Job Role', 'value': 'Work'}, {'name': 'LEA Pay Band Afc', 'value': 'Top'}, {'name': 'LEA Area Of Work', 'value': 'Top'}, {'name': 'LEA Occupation Code', 'value': '123'}, {'name': 'LEA Smartcard Number', 'value': '123'}]\n",
      "Handle Credentials\n",
      "Credential exchange a699d804-8be0-45ec-bc01-acd4d7c81727, role: issuer, state: credential_issued\n",
      "Offering: [{'name': 'LEA Employing Org', 'value': 'BTH'}, {'name': 'LEA Employing Org ODS Code', 'value': '123'}, {'name': 'LEA Job Title', 'value': 'Boss'}, {'name': 'LEA Start Date', 'value': 'today'}, {'name': 'LEA Fixed Term Contract End Date', 'value': '2020-09-21'}, {'name': 'LEA Department', 'value': 'Work'}, {'name': 'LEA Staff Group', 'value': 'Working'}, {'name': 'LEA Job Role', 'value': 'Work'}, {'name': 'LEA Pay Band Afc', 'value': 'Top'}, {'name': 'LEA Area Of Work', 'value': 'Top'}, {'name': 'LEA Occupation Code', 'value': '123'}, {'name': 'LEA Smartcard Number', 'value': '123'}]\n"
     ]
    }
   ],
   "source": [
    "record = await agent_controller.issuer.send_credential(connection_id, lead_emp_schema_id, lead_emp_cred_def_id, credential_attributes, trace=False)\n",
    "record_id = record['credential_exchange_id']\n",
    "state = record['state']\n",
    "role = record['role']\n",
    "print(f\"Credential exchange {record_id}, role: {role}, state: {state}\")"
   ]
  },
  {
   "cell_type": "markdown",
   "metadata": {},
   "source": [
    "## 7. End of Tutorial\n",
    "\n",
    "Be sure to terminate the controller so you can run another tutorial."
   ]
  },
  {
   "cell_type": "code",
   "execution_count": 9,
   "metadata": {},
   "outputs": [
    {
     "ename": "RuntimeError",
     "evalue": "Site <aiohttp.web_runner.TCPSite object at 0x7f1c382f2650> is not registered in runner <aiohttp.web_runner.AppRunner object at 0x7f1c382777d0>",
     "output_type": "error",
     "traceback": [
      "\u001b[0;31m---------------------------------------------------------------------------\u001b[0m",
      "\u001b[0;31mRuntimeError\u001b[0m                              Traceback (most recent call last)",
      "\u001b[0;32m<ipython-input-9-5870155ffed5>\u001b[0m in \u001b[0;36masync-def-wrapper\u001b[0;34m()\u001b[0m\n\u001b[1;32m      2\u001b[0m \u001b[0mprint\u001b[0m\u001b[0;34m(\u001b[0m\u001b[0mresponse\u001b[0m\u001b[0;34m)\u001b[0m\u001b[0;34m\u001b[0m\u001b[0;34m\u001b[0m\u001b[0m\n",
      "\u001b[0;32m/aries_basic_controller/aries_controller.py\u001b[0m in \u001b[0;36mterminate\u001b[0;34m(self)\u001b[0m\n\u001b[1;32m     98\u001b[0m         \u001b[0;32mawait\u001b[0m \u001b[0mself\u001b[0m\u001b[0;34m.\u001b[0m\u001b[0mclient_session\u001b[0m\u001b[0;34m.\u001b[0m\u001b[0mclose\u001b[0m\u001b[0;34m(\u001b[0m\u001b[0;34m)\u001b[0m\u001b[0;34m\u001b[0m\u001b[0;34m\u001b[0m\u001b[0m\n\u001b[1;32m     99\u001b[0m         \u001b[0;32mif\u001b[0m \u001b[0mself\u001b[0m\u001b[0;34m.\u001b[0m\u001b[0mwebhook_site\u001b[0m\u001b[0;34m:\u001b[0m\u001b[0;34m\u001b[0m\u001b[0;34m\u001b[0m\u001b[0m\n\u001b[0;32m--> 100\u001b[0;31m             \u001b[0;32mawait\u001b[0m \u001b[0mself\u001b[0m\u001b[0;34m.\u001b[0m\u001b[0mwebhook_site\u001b[0m\u001b[0;34m.\u001b[0m\u001b[0mstop\u001b[0m\u001b[0;34m(\u001b[0m\u001b[0;34m)\u001b[0m\u001b[0;34m\u001b[0m\u001b[0;34m\u001b[0m\u001b[0m\n\u001b[0m\u001b[1;32m    101\u001b[0m \u001b[0;34m\u001b[0m\u001b[0m\n\u001b[1;32m    102\u001b[0m \u001b[0;34m\u001b[0m\u001b[0m\n",
      "\u001b[0;32m/opt/conda/lib/python3.7/site-packages/aiohttp/web_runner.py\u001b[0m in \u001b[0;36mstop\u001b[0;34m(self)\u001b[0m\n\u001b[1;32m     54\u001b[0m \u001b[0;34m\u001b[0m\u001b[0m\n\u001b[1;32m     55\u001b[0m     \u001b[0;32masync\u001b[0m \u001b[0;32mdef\u001b[0m \u001b[0mstop\u001b[0m\u001b[0;34m(\u001b[0m\u001b[0mself\u001b[0m\u001b[0;34m)\u001b[0m \u001b[0;34m->\u001b[0m \u001b[0;32mNone\u001b[0m\u001b[0;34m:\u001b[0m\u001b[0;34m\u001b[0m\u001b[0;34m\u001b[0m\u001b[0m\n\u001b[0;32m---> 56\u001b[0;31m         \u001b[0mself\u001b[0m\u001b[0;34m.\u001b[0m\u001b[0m_runner\u001b[0m\u001b[0;34m.\u001b[0m\u001b[0m_check_site\u001b[0m\u001b[0;34m(\u001b[0m\u001b[0mself\u001b[0m\u001b[0;34m)\u001b[0m\u001b[0;34m\u001b[0m\u001b[0;34m\u001b[0m\u001b[0m\n\u001b[0m\u001b[1;32m     57\u001b[0m         \u001b[0;32mif\u001b[0m \u001b[0mself\u001b[0m\u001b[0;34m.\u001b[0m\u001b[0m_server\u001b[0m \u001b[0;32mis\u001b[0m \u001b[0;32mNone\u001b[0m\u001b[0;34m:\u001b[0m\u001b[0;34m\u001b[0m\u001b[0;34m\u001b[0m\u001b[0m\n\u001b[1;32m     58\u001b[0m             \u001b[0mself\u001b[0m\u001b[0;34m.\u001b[0m\u001b[0m_runner\u001b[0m\u001b[0;34m.\u001b[0m\u001b[0m_unreg_site\u001b[0m\u001b[0;34m(\u001b[0m\u001b[0mself\u001b[0m\u001b[0;34m)\u001b[0m\u001b[0;34m\u001b[0m\u001b[0;34m\u001b[0m\u001b[0m\n",
      "\u001b[0;32m/opt/conda/lib/python3.7/site-packages/aiohttp/web_runner.py\u001b[0m in \u001b[0;36m_check_site\u001b[0;34m(self, site)\u001b[0m\n\u001b[1;32m    276\u001b[0m         \u001b[0;32mif\u001b[0m \u001b[0msite\u001b[0m \u001b[0;32mnot\u001b[0m \u001b[0;32min\u001b[0m \u001b[0mself\u001b[0m\u001b[0;34m.\u001b[0m\u001b[0m_sites\u001b[0m\u001b[0;34m:\u001b[0m\u001b[0;34m\u001b[0m\u001b[0;34m\u001b[0m\u001b[0m\n\u001b[1;32m    277\u001b[0m             raise RuntimeError(\"Site {} is not registered in runner {}\"\n\u001b[0;32m--> 278\u001b[0;31m                                .format(site, self))\n\u001b[0m\u001b[1;32m    279\u001b[0m \u001b[0;34m\u001b[0m\u001b[0m\n\u001b[1;32m    280\u001b[0m     \u001b[0;32mdef\u001b[0m \u001b[0m_unreg_site\u001b[0m\u001b[0;34m(\u001b[0m\u001b[0mself\u001b[0m\u001b[0;34m,\u001b[0m \u001b[0msite\u001b[0m\u001b[0;34m:\u001b[0m \u001b[0mBaseSite\u001b[0m\u001b[0;34m)\u001b[0m \u001b[0;34m->\u001b[0m \u001b[0;32mNone\u001b[0m\u001b[0;34m:\u001b[0m\u001b[0;34m\u001b[0m\u001b[0;34m\u001b[0m\u001b[0m\n",
      "\u001b[0;31mRuntimeError\u001b[0m: Site <aiohttp.web_runner.TCPSite object at 0x7f1c382f2650> is not registered in runner <aiohttp.web_runner.AppRunner object at 0x7f1c382777d0>"
     ]
    }
   ],
   "source": [
    "response = await agent_controller.terminate()\n",
    "print(response)"
   ]
  },
  {
   "cell_type": "markdown",
   "metadata": {},
   "source": [
    "# You can now proceed to interact with the [Lead Employer](http://127.0.0.1:8892)\n"
   ]
  },
  {
   "cell_type": "code",
   "execution_count": null,
   "metadata": {},
   "outputs": [],
   "source": []
  }
 ],
 "metadata": {
  "kernelspec": {
   "display_name": "Python 3",
   "language": "python",
   "name": "python3"
  },
  "language_info": {
   "codemirror_mode": {
    "name": "ipython",
    "version": 3
   },
   "file_extension": ".py",
   "mimetype": "text/x-python",
   "name": "python",
   "nbconvert_exporter": "python",
   "pygments_lexer": "ipython3",
   "version": "3.7.6"
  }
 },
 "nbformat": 4,
 "nbformat_minor": 1
}
