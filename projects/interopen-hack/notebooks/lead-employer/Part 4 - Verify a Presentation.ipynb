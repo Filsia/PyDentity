{
 "cells": [
  {
   "cell_type": "markdown",
   "metadata": {},
   "source": [
    "# Verify a Presentation\n",
    "\n",
    "## Before running this notebook you should have a mobile wallet contained the credential you issued yourself in Part 3. If not run through [Part 2](http://127.0.0.1:8888/notebooks/Part%202%20-%20Connecting%20Issuer%20Agent%20to%20Sovrin%20Stagingnet.ipynb) and [Part 3](http://localhost:8888/notebooks/Part%203%20-%20Issue%20Credential.ipynb) of this tutorial."
   ]
  },
  {
   "cell_type": "markdown",
   "metadata": {},
   "source": [
    "## Note that you do not need to write a public DID to the ledger as a verifier."
   ]
  },
  {
   "cell_type": "markdown",
   "metadata": {
    "pycharm": {
     "name": "#%%\n"
    }
   },
   "source": [
    "## 1. Instatiate Controller for Verifiers's Agent"
   ]
  },
  {
   "cell_type": "code",
   "execution_count": 1,
   "metadata": {
    "pycharm": {
     "name": "#%%\n"
    }
   },
   "outputs": [
    {
     "name": "stdout",
     "output_type": "stream",
     "text": [
      "IPython autoawait is `on`, and set to use `asyncio`\n"
     ]
    }
   ],
   "source": [
    "%autoawait\n",
    "import time\n",
    "import asyncio\n",
    "from termcolor import colored,cprint\n",
    "\n",
    "from aries_basic_controller.aries_controller import AriesAgentController\n",
    "\n",
    "WEBHOOK_HOST = \"0.0.0.0\"\n",
    "WEBHOOK_PORT = 8062\n",
    "WEBHOOK_BASE = \"\"\n",
    "ADMIN_URL = \"http://lead-employer-agent:8061\"\n",
    "\n",
    "# Based on the aca-py agent you wish to control\n",
    "agent_controller = AriesAgentController(webhook_host=WEBHOOK_HOST, webhook_port=WEBHOOK_PORT,\n",
    "                                       webhook_base=WEBHOOK_BASE, admin_url=ADMIN_URL)\n"
   ]
  },
  {
   "cell_type": "markdown",
   "metadata": {},
   "source": [
    "## 2. Register Listeners\n",
    "\n",
    "The handler should get called every time the controller receives a webhook with the topic present_proof, printing out the payload. The agent calls to this webhook every time it receives a present proof protocol message from another agent. \n"
   ]
  },
  {
   "cell_type": "code",
   "execution_count": 2,
   "metadata": {
    "pycharm": {
     "name": "#%%\n"
    }
   },
   "outputs": [],
   "source": [
    "loop = asyncio.get_event_loop()\n",
    "loop.create_task(agent_controller.listen_webhooks())\n",
    "\n",
    "def connections_handler(payload):\n",
    "    global STATE\n",
    "    connection_id = payload[\"connection_id\"]\n",
    "    print(\"Connection message\", payload, connection_id)\n",
    "    STATE = payload['state']\n",
    "    if STATE == 'active':\n",
    "#         print('Connection {0} changed state to active'.format(connection_id))\n",
    "        print(colored(\"Connection {0} changed state to active\".format(connection_id), \"red\", attrs=[\"bold\"]))\n",
    "\n",
    "\n",
    "connection_listener = {\n",
    "    \"handler\": connections_handler,\n",
    "    \"topic\": \"connections\"\n",
    "}\n",
    "\n",
    "def proof_handler(payload):\n",
    "    print(\"Handle present proof\")\n",
    "    print(payload)\n",
    "\n",
    "proof_listener = {\n",
    "    \"topic\": \"present_proof\",\n",
    "    \"handler\": proof_handler\n",
    "}\n",
    "\n",
    "agent_controller.register_listeners([connection_listener,proof_listener], defaults=True)\n",
    "\n"
   ]
  },
  {
   "cell_type": "markdown",
   "metadata": {},
   "source": [
    "## 3. Make a connection with the Mobile SSI Wallet you used in [Part 2](http://127.0.0.1:8888/notebooks/Part%202%20-%20Connecting%20Issuer%20Agent%20to%20Sovrin%20Stagingnet.ipynb)\n",
    "\n",
    "**You should have a credential stored in here from the previous notebook!**\n",
    "\n",
    "Please download a mobile SSI wallet such as [Connect.me](https://connect.me/), [Trinsic](https://trinsic.id/trinsic-wallet/) or any other Aries compatible wallet."
   ]
  },
  {
   "cell_type": "markdown",
   "metadata": {},
   "source": [
    "## 4. Create a connection invitation to scan with the Mobile SSI Wallet"
   ]
  },
  {
   "cell_type": "markdown",
   "metadata": {},
   "source": [
    "## 4a. Check for any existing connections"
   ]
  },
  {
   "cell_type": "code",
   "execution_count": 3,
   "metadata": {},
   "outputs": [
    {
     "name": "stdout",
     "output_type": "stream",
     "text": [
      "EXISTING CONNECTIONS\n"
     ]
    }
   ],
   "source": [
    "# Check for existing connections\n",
    "connection = await agent_controller.connections.get_connections()\n",
    "print(\"EXISTING CONNECTIONS\")\n",
    "for key, value in connection.items():\n",
    "    for item in value:\n",
    "        print('ConnectionID:', item['connection_id'], 'Status:',item['state'])"
   ]
  },
  {
   "cell_type": "markdown",
   "metadata": {},
   "source": [
    "## 4b. Create an Invitation"
   ]
  },
  {
   "cell_type": "code",
   "execution_count": 4,
   "metadata": {},
   "outputs": [
    {
     "name": "stdout",
     "output_type": "stream",
     "text": [
      "Connection message {'connection_id': 'b667febb-343c-462c-bcbb-26c809bfb322', 'invitation_mode': 'once', 'routing_state': 'none', 'initiator': 'self', 'accept': 'auto', 'created_at': '2020-09-22 11:03:03.441731Z', 'updated_at': '2020-09-22 11:03:03.441731Z', 'invitation_key': 'ChamEqcmL1Lh8r7oG9A8rkFARMSQHk989KX5b2D7TnAY', 'state': 'invitation'} b667febb-343c-462c-bcbb-26c809bfb322\n",
      "Connection ID b667febb-343c-462c-bcbb-26c809bfb322\n",
      "Invitation\n",
      "https://de4cac5a6fe8.ngrok.io?c_i=eyJAdHlwZSI6ICJkaWQ6c292OkJ6Q2JzTlloTXJqSGlxWkRUVUFTSGc7c3BlYy9jb25uZWN0aW9ucy8xLjAvaW52aXRhdGlvbiIsICJAaWQiOiAiZGE0ZTBiNDAtNDY2MC00NTE3LWI5NWQtODAxMGZlYmIzZWI0IiwgInJlY2lwaWVudEtleXMiOiBbIkNoYW1FcWNtTDFMaDhyN29HOUE4cmtGQVJNU1FIazk4OUtYNWIyRDdUbkFZIl0sICJsYWJlbCI6ICJOSFMgTGVhZCBFbXBsb3llciIsICJzZXJ2aWNlRW5kcG9pbnQiOiAiaHR0cHM6Ly9kZTRjYWM1YTZmZTgubmdyb2suaW8ifQ==\n"
     ]
    }
   ],
   "source": [
    "# Create Invitation\n",
    "invite = await agent_controller.connections.create_invitation()\n",
    "connection_id = invite[\"connection_id\"]\n",
    "print(\"Connection ID\", connection_id)\n",
    "print(\"Invitation\")\n",
    "print(invite['invitation_url'])\n",
    "inviteURL = invite['invitation_url']"
   ]
  },
  {
   "cell_type": "markdown",
   "metadata": {},
   "source": [
    "## 4c. Generate QR Code to be scanned with Mobile SSI Wallet"
   ]
  },
  {
   "cell_type": "code",
   "execution_count": 5,
   "metadata": {},
   "outputs": [
    {
     "data": {
      "image/png": "[encoded data removed]",
      "text/plain": [
       "<IPython.core.display.Image object>"
      ]
     },
     "execution_count": 5,
     "metadata": {
      "image/png": {
       "width": 400
      }
     },
     "output_type": "execute_result"
    },
    {
     "name": "stdout",
     "output_type": "stream",
     "text": [
      "Connection message {'connection_id': 'b667febb-343c-462c-bcbb-26c809bfb322', 'invitation_mode': 'once', 'routing_state': 'none', 'initiator': 'self', 'accept': 'auto', 'created_at': '2020-09-22 11:03:03.441731Z', 'their_label': 'EAX', 'their_did': 'NFVekETc4UadQYVGVu4Cx4', 'updated_at': '2020-09-22 11:03:15.784260Z', 'invitation_key': 'ChamEqcmL1Lh8r7oG9A8rkFARMSQHk989KX5b2D7TnAY', 'state': 'request'} b667febb-343c-462c-bcbb-26c809bfb322\n",
      "Connection message {'connection_id': 'b667febb-343c-462c-bcbb-26c809bfb322', 'invitation_mode': 'once', 'routing_state': 'none', 'initiator': 'self', 'accept': 'auto', 'created_at': '2020-09-22 11:03:03.441731Z', 'their_label': 'EAX', 'their_did': 'NFVekETc4UadQYVGVu4Cx4', 'updated_at': '2020-09-22 11:03:15.823372Z', 'my_did': '8AA5Ux1Ly5K8x2gSqyh5uT', 'invitation_key': 'ChamEqcmL1Lh8r7oG9A8rkFARMSQHk989KX5b2D7TnAY', 'state': 'response'} b667febb-343c-462c-bcbb-26c809bfb322\n"
     ]
    }
   ],
   "source": [
    "import qrcode\n",
    "# Link for connection invitation\n",
    "input_data = inviteURL\n",
    "# Creating an instance of qrcode\n",
    "qr = qrcode.QRCode(\n",
    "        version=1,\n",
    "        box_size=10,\n",
    "        border=5)\n",
    "qr.add_data(input_data)\n",
    "qr.make(fit=True)\n",
    "img = qr.make_image(fill='black', back_color='white')\n",
    "img.save('verifier_agent_invite_QRcode.png')\n",
    "\n",
    "from IPython.display import Image\n",
    "Image(width=400, filename='./verifier_agent_invite_QRcode.png')"
   ]
  },
  {
   "cell_type": "markdown",
   "metadata": {},
   "source": [
    "## 4d. Check if established connection is in active state"
   ]
  },
  {
   "cell_type": "code",
   "execution_count": 6,
   "metadata": {},
   "outputs": [
    {
     "name": "stdout",
     "output_type": "stream",
     "text": [
      "\u001b[1m\u001b[35mCurrent state for ConnectionId b667febb-343c-462c-bcbb-26c809bfb322 is response\u001b[0m\n",
      "\u001b[1m\u001b[33mConnectionId b667febb-343c-462c-bcbb-26c809bfb322 is not in active state yet\u001b[0m\n",
      "\u001b[1m\u001b[34mTrust ping send to ConnectionId {'thread_id': 'da4a6ce0-3dec-462f-be14-7d9aa7a4ed84'} to activate connection\u001b[0m\n",
      "\u001b[1m\u001b[33mConnectionId b667febb-343c-462c-bcbb-26c809bfb322 is not in active state yet\u001b[0m\n",
      "Connection message {'connection_id': 'b667febb-343c-462c-bcbb-26c809bfb322', 'invitation_mode': 'once', 'routing_state': 'none', 'initiator': 'self', 'accept': 'auto', 'created_at': '2020-09-22 11:03:03.441731Z', 'their_label': 'EAX', 'their_did': 'NFVekETc4UadQYVGVu4Cx4', 'updated_at': '2020-09-22 11:03:22.978485Z', 'my_did': '8AA5Ux1Ly5K8x2gSqyh5uT', 'invitation_key': 'ChamEqcmL1Lh8r7oG9A8rkFARMSQHk989KX5b2D7TnAY', 'state': 'active'} b667febb-343c-462c-bcbb-26c809bfb322\n",
      "\u001b[1m\u001b[31mConnection b667febb-343c-462c-bcbb-26c809bfb322 changed state to active\u001b[0m\n",
      "\u001b[1m\u001b[34mTrust ping send to ConnectionId {'thread_id': 'bea7317a-1e90-4604-a7df-6b2507df4b65'} to activate connection\u001b[0m\n",
      "\u001b[1m\u001b[32mConnectionId: b667febb-343c-462c-bcbb-26c809bfb322 is now active. Continue with notebook\u001b[0m\n"
     ]
    }
   ],
   "source": [
    "import time\n",
    "\n",
    "# print('Current state for ConnectionId {} is {}'.format(connection_id,STATE))\n",
    "print(colored(\"Current state for ConnectionId {} is {}\".format(connection_id,STATE), \"magenta\", attrs=[\"bold\"]))\n",
    "while STATE != 'active':\n",
    "#     print('ConnectionId {0} is not in active state yet'.format(connection_id))\n",
    "    print(colored(\"ConnectionId {0} is not in active state yet\".format(connection_id), \"yellow\", attrs=[\"bold\"]))\n",
    "    trust_ping = await agent_controller.messaging.trust_ping(connection_id,'hello!')\n",
    "#     print('Trust ping send to ConnectionId {0} to activate connection'.format(trust_ping))\n",
    "    print(colored(\"Trust ping send to ConnectionId {0} to activate connection\".format(trust_ping), \"blue\", attrs=[\"bold\"]))\n",
    "    time.sleep(5)\n",
    "    \n",
    "# print('ConnectionId: {0} is now active. Continue with notebook'.format(connection_id))\n",
    "print(colored(\"ConnectionId: {0} is now active. Continue with notebook\".format(connection_id), \"green\", attrs=[\"bold\"]))\n"
   ]
  },
  {
   "cell_type": "markdown",
   "metadata": {},
   "source": [
    "## 5. Request Proof Presentation"
   ]
  },
  {
   "cell_type": "markdown",
   "metadata": {},
   "source": [
    "## 5a. Generate proof request"
   ]
  },
  {
   "cell_type": "code",
   "execution_count": 7,
   "metadata": {
    "pycharm": {
     "name": "#%%\n"
    }
   },
   "outputs": [
    {
     "name": "stdout",
     "output_type": "stream",
     "text": [
      "Request proof of Passport information\n"
     ]
    }
   ],
   "source": [
    "print(\"Request proof of Passport information\")\n",
    "\n",
    "#Set some variables\n",
    "\n",
    "REVOCATION = False\n",
    "SELF_ATTESTED = False\n",
    "EXCHANGE_TRACING = False\n",
    "\n",
    "req_attrs = [\n",
    "    {\"name\": \"PSS Given Names\", \"restrictions\": []},\n",
    "    {\"name\": \"PSS Surname\", \"restrictions\": []},\n",
    "]\n",
    "\n",
    "if REVOCATION:\n",
    "    req_attrs.append(\n",
    "        {\n",
    "            \"name\": \"skill\",\n",
    "            \"restrictions\": [{\"schema_id\": schema_id}],\n",
    "            \"non_revoked\": {\"to\": int(time.time() - 1)},\n",
    "        },\n",
    "    )\n",
    "\n",
    "if SELF_ATTESTED:\n",
    "    # test self-attested claims\n",
    "    req_attrs.append({\"name\": \"country\"},)\n",
    "\n",
    "#Set predicates for Zero Knowledge Proofs\n",
    "req_preds = []\n",
    "\n",
    "indy_proof_request = {\n",
    "    \"name\": \"Proof of Passport Credential\",\n",
    "    \"version\": \"1.0\",\n",
    "    \"requested_attributes\": {\n",
    "        f\"0_{req_attr['name']}_uuid\":\n",
    "        req_attr for req_attr in req_attrs\n",
    "    },\n",
    "    \"requested_predicates\": {\n",
    "        f\"0_{req_pred['name']}_GE_uuid\":\n",
    "        req_pred for req_pred in req_preds\n",
    "    },\n",
    "}\n",
    "\n",
    "if REVOCATION:\n",
    "    indy_proof_request[\"non_revoked\"] = {\"to\": int(time.time())}\n",
    "\n",
    "#proof_request = indy_proof_request\n",
    "exchange_tracing_id = EXCHANGE_TRACING\n",
    "proof_request_web_request = {\n",
    "    \"connection_id\": connection_id,\n",
    "    \"proof_request\": indy_proof_request,\n",
    "    \"trace\": EXCHANGE_TRACING,\n",
    "}"
   ]
  },
  {
   "cell_type": "markdown",
   "metadata": {},
   "source": [
    "### 5b. Send the proof request to Doctor\n",
    "\n",
    "Doctor is identified through the connection_id"
   ]
  },
  {
   "cell_type": "code",
   "execution_count": 15,
   "metadata": {
    "pycharm": {
     "name": "#%%\n"
    },
    "scrolled": false
   },
   "outputs": [
    {
     "name": "stdout",
     "output_type": "stream",
     "text": [
      "{'connection_id': 'b667febb-343c-462c-bcbb-26c809bfb322', 'role': 'verifier', 'auto_present': False, 'initiator': 'self', 'created_at': '2020-09-22 11:07:47.706188Z', 'presentation_request_dict': {'@type': 'did:sov:BzCbsNYhMrjHiqZDTUASHg;spec/present-proof/1.0/request-presentation', '@id': '88507110-b5b1-438c-b0e0-f865add14146', 'request_presentations~attach': [{'@id': 'libindy-request-presentation-0', 'mime-type': 'application/json', 'data': {'base64': 'eyJuYW1lIjogIlByb29mIG9mIFBhc3Nwb3J0IENyZWRlbnRpYWwiLCAidmVyc2lvbiI6ICIxLjAiLCAicmVxdWVzdGVkX2F0dHJpYnV0ZXMiOiB7IjBfUFNTIEdpdmVuIE5hbWVzX3V1aWQiOiB7Im5hbWUiOiAiUFNTIEdpdmVuIE5hbWVzIiwgInJlc3RyaWN0aW9ucyI6IFtdfSwgIjBfUFNTIFN1cm5hbWVfdXVpZCI6IHsibmFtZSI6ICJQU1MgU3VybmFtZSIsICJyZXN0cmljdGlvbnMiOiBbXX19LCAicmVxdWVzdGVkX3ByZWRpY2F0ZXMiOiB7fSwgIm5vbmNlIjogIjYzNjY4NTE4MDUyMTIzMjk5NTA0OTIxNCJ9'}}]}, 'updated_at': '2020-09-22 11:07:47.706188Z', 'thread_id': '88507110-b5b1-438c-b0e0-f865add14146', 'presentation_exchange_id': '9eab1c11-b262-4da2-bf90-8377f2c48b0f', 'presentation_request': {'name': 'Proof of Passport Credential', 'version': '1.0', 'requested_attributes': {'0_PSS Given Names_uuid': {'name': 'PSS Given Names', 'restrictions': []}, '0_PSS Surname_uuid': {'name': 'PSS Surname', 'restrictions': []}}, 'requested_predicates': {}, 'nonce': '636685180521232995049214'}, 'state': 'request_sent', 'trace': False}\n",
      "\n",
      "\n",
      "9eab1c11-b262-4da2-bf90-8377f2c48b0f\n",
      "Handle present proof\n",
      "{'connection_id': 'b667febb-343c-462c-bcbb-26c809bfb322', 'role': 'verifier', 'auto_present': False, 'initiator': 'self', 'created_at': '2020-09-22 11:07:47.706188Z', 'presentation_request_dict': {'@type': 'did:sov:BzCbsNYhMrjHiqZDTUASHg;spec/present-proof/1.0/request-presentation', '@id': '88507110-b5b1-438c-b0e0-f865add14146', 'request_presentations~attach': [{'@id': 'libindy-request-presentation-0', 'mime-type': 'application/json', 'data': {'base64': 'eyJuYW1lIjogIlByb29mIG9mIFBhc3Nwb3J0IENyZWRlbnRpYWwiLCAidmVyc2lvbiI6ICIxLjAiLCAicmVxdWVzdGVkX2F0dHJpYnV0ZXMiOiB7IjBfUFNTIEdpdmVuIE5hbWVzX3V1aWQiOiB7Im5hbWUiOiAiUFNTIEdpdmVuIE5hbWVzIiwgInJlc3RyaWN0aW9ucyI6IFtdfSwgIjBfUFNTIFN1cm5hbWVfdXVpZCI6IHsibmFtZSI6ICJQU1MgU3VybmFtZSIsICJyZXN0cmljdGlvbnMiOiBbXX19LCAicmVxdWVzdGVkX3ByZWRpY2F0ZXMiOiB7fSwgIm5vbmNlIjogIjYzNjY4NTE4MDUyMTIzMjk5NTA0OTIxNCJ9'}}]}, 'updated_at': '2020-09-22 11:07:47.706188Z', 'thread_id': '88507110-b5b1-438c-b0e0-f865add14146', 'presentation_exchange_id': '9eab1c11-b262-4da2-bf90-8377f2c48b0f', 'presentation_request': {'name': 'Proof of Passport Credential', 'version': '1.0', 'requested_attributes': {'0_PSS Given Names_uuid': {'name': 'PSS Given Names', 'restrictions': []}, '0_PSS Surname_uuid': {'name': 'PSS Surname', 'restrictions': []}}, 'requested_predicates': {}, 'nonce': '636685180521232995049214'}, 'state': 'request_sent', 'trace': False}\n",
      "Handle present proof\n",
      "{'connection_id': 'b667febb-343c-462c-bcbb-26c809bfb322', 'role': 'verifier', 'auto_present': False, 'initiator': 'self', 'created_at': '2020-09-22 11:07:47.706188Z', 'presentation_request_dict': {'@type': 'did:sov:BzCbsNYhMrjHiqZDTUASHg;spec/present-proof/1.0/request-presentation', '@id': '88507110-b5b1-438c-b0e0-f865add14146', 'request_presentations~attach': [{'@id': 'libindy-request-presentation-0', 'mime-type': 'application/json', 'data': {'base64': 'eyJuYW1lIjogIlByb29mIG9mIFBhc3Nwb3J0IENyZWRlbnRpYWwiLCAidmVyc2lvbiI6ICIxLjAiLCAicmVxdWVzdGVkX2F0dHJpYnV0ZXMiOiB7IjBfUFNTIEdpdmVuIE5hbWVzX3V1aWQiOiB7Im5hbWUiOiAiUFNTIEdpdmVuIE5hbWVzIiwgInJlc3RyaWN0aW9ucyI6IFtdfSwgIjBfUFNTIFN1cm5hbWVfdXVpZCI6IHsibmFtZSI6ICJQU1MgU3VybmFtZSIsICJyZXN0cmljdGlvbnMiOiBbXX19LCAicmVxdWVzdGVkX3ByZWRpY2F0ZXMiOiB7fSwgIm5vbmNlIjogIjYzNjY4NTE4MDUyMTIzMjk5NTA0OTIxNCJ9'}}]}, 'presentation': {'proof': {'proofs': [{'primary_proof': {'eq_proof': {'revealed_attrs': {'pssgivennames': '93006290325627508022776103386395994712401809437930957652111221015872244345185', 'psssurname': '114927502338763998064999850638882995061695907387154193658986605318642155271625'}, 'a_prime': '31853968052320539594305620534057539606109079732067936301046897411493254197765982015489995502193445668562998317047988337120254686790100958269566390328639827326637089412652137730162146905003807345020752584387574626610094869523781055659309324078728441234835705263268673713230215647705581023203970504108900870537101979525266038247358197037365137548097662215969251714727390701341685652187567187477684167474454125586949229019479622369934275625505734566900568620192754165227871894271897481428133982889381759022185212916895663239263628316587301236206261026528300438626500844175567854287632216024565508338819271805201117550668', 'e': '177890812779646303478060494412484237114056606957306407404044377383050566496387420921851611127893195499836214034451147356863263493234669690', 'v': '112010522691805924890225112491768038884850081052746045828520221112131375849079346886858762120837904178986519917753219114990087794725499079706863976170258409885860007418879003948567663674555912855099950248350255953154140357076379653893905667110195944004897322798746835982458590649818182949959687307984667501054867750766105113870985533221003818447697331118151338484000324599339300699907495771648255519000321706495860713424588138230374184114494184152262582814897253801588803894916897645612007035572460468440963706875290012375165447680435022624097877113564254089569548927125727396458811868537089362421899274204442050062221695691139193959159830502436214698613795946102383813174311324999944236155024673482475327055101472202148892653452530447583687414116371245032904793294734105419051537835840773860440393873284469846848023963638861846228354615345781298425859807628477338683368059022515861735120081535289916333649707369861145485', 'm': {'pssplaceofbirth': '5563561791438295177000968454561074781043753848110803819665578842746214212462852077156537618569371035610472599270075180716984354059813779674785763827766718044890380930146820763070', 'pssdateofexpiry': '13262634356124136557293580729899802549268564641494658815934726198085220136014274228277799556294038467675734097708179412914256451402084280114404803945201353035082188551365702678086', 'pssdateofbirth': '13681935893501503144199599100922662099785622673960795693432593646061511725057623326273412682951939998022475828767061129486497909010121283709963812679629661031876964850945084689031', 'master_secret': '5786020129007558783673856811684231542187532242183011547620388848709714019643085357624634768732162902440222141504426688019565789167288350827854561124985484819817101350264049671717', 'psssignature': '4515080195314707352086898544613121906510911577353531771145949401701808464781222197214410593382947774010131909695289456248701658723843332625956434087971941536163131422375217620221', 'pssphotograph': '7556706735224178664789446877448385408400478879272053573012527557924565500339062774914614809037917532986496263704792903446930877708998088205134616946798928057249399669972355249555', 'pssdateofissue': '5277656504118901589446801678694932485845963336702012897264295763182557439566808885568513975422216349883867278000361580964309886832630647936059147297772600793153384394627183825146', 'pssissuingauthority': '7510587113023134797922342525024556837142371626674924691535108746124103767311523661935917759698765806620063492931948181551115880054675352297387620550599141484883058171475893375411', 'psspassportno': '6639745734410821096785256970701192959100299879437444761931021718407509236981703790063779352224011148181474855020453170638810228231487058778292119551623703497304090004809350219224', 'psssex': '13126815951189305070425127017466096669979999680173446061318169754863796357834225193152001644450872440758199540164227074075268353261149773152302911664605292980159671560108698475665', 'pssnationality': '9145952370652395515801312988488300262980583172477289588053761338016839045294007236517170569077484144996225309001082734643730290708649712823892389663314812643425120993980760513942'}, 'm2': '14153357854945059246717342607658333409109035811435164076146699724986138398438937935320902758268489732550995130238063415949786856939656916410932056869774281331472879134444603734226'}, 'ge_proofs': []}, 'non_revoc_proof': None}], 'aggregated_proof': {'c_hash': '105188475322919797880708628018046837352586157024507158938293530712804842458642', 'c_list': [[252, 85, 0, 18, 110, 51, 12, 229, 199, 47, 214, 186, 233, 87, 142, 198, 37, 123, 247, 252, 199, 45, 251, 156, 62, 232, 61, 119, 146, 243, 208, 5, 78, 162, 215, 110, 174, 183, 209, 220, 89, 231, 13, 244, 254, 40, 49, 112, 202, 65, 170, 95, 124, 12, 91, 218, 10, 74, 180, 230, 202, 107, 148, 98, 182, 209, 43, 126, 151, 132, 33, 61, 212, 243, 116, 86, 21, 142, 212, 122, 99, 169, 175, 21, 171, 241, 127, 155, 163, 200, 215, 37, 84, 218, 6, 223, 131, 196, 84, 146, 6, 103, 238, 119, 158, 201, 135, 217, 95, 109, 123, 14, 66, 114, 146, 154, 166, 71, 158, 183, 96, 212, 38, 107, 238, 16, 250, 227, 7, 126, 20, 138, 19, 191, 204, 3, 50, 229, 0, 198, 214, 11, 166, 75, 95, 8, 19, 140, 64, 252, 185, 233, 218, 85, 169, 175, 67, 188, 217, 215, 1, 149, 103, 209, 129, 150, 153, 130, 241, 39, 188, 185, 228, 24, 45, 196, 154, 246, 102, 77, 104, 228, 213, 88, 179, 152, 202, 207, 51, 154, 34, 251, 163, 14, 254, 231, 232, 164, 186, 245, 153, 29, 248, 38, 83, 193, 177, 132, 84, 37, 145, 21, 101, 225, 191, 206, 183, 213, 91, 103, 34, 207, 233, 149, 216, 149, 246, 2, 210, 165, 177, 76, 135, 8, 36, 116, 82, 99, 94, 16, 137, 153, 217, 16, 240, 49, 56, 2, 216, 197, 2, 193, 228, 227, 24, 76]]}}, 'requested_proof': {'revealed_attrs': {'0_PSS Surname_uuid': {'sub_proof_index': 0, 'raw': 'Jones', 'encoded': '114927502338763998064999850638882995061695907387154193658986605318642155271625'}, '0_PSS Given Names_uuid': {'sub_proof_index': 0, 'raw': 'Bob', 'encoded': '93006290325627508022776103386395994712401809437930957652111221015872244345185'}}, 'self_attested_attrs': {}, 'unrevealed_attrs': {}, 'predicates': {}}, 'identifiers': [{'schema_id': '2yWoMSfeTtYBFpUJFcnpqL:2:Passport Details:0.0.1', 'cred_def_id': 'TAz26kuCtMgdCa1PjCgbGk:3:CL:141253:default', 'rev_reg_id': None, 'timestamp': None}]}, 'updated_at': '2020-09-22 11:08:01.009443Z', 'thread_id': '88507110-b5b1-438c-b0e0-f865add14146', 'presentation_exchange_id': '9eab1c11-b262-4da2-bf90-8377f2c48b0f', 'presentation_request': {'name': 'Proof of Passport Credential', 'version': '1.0', 'requested_attributes': {'0_PSS Given Names_uuid': {'name': 'PSS Given Names', 'restrictions': []}, '0_PSS Surname_uuid': {'name': 'PSS Surname', 'restrictions': []}}, 'requested_predicates': {}, 'nonce': '636685180521232995049214'}, 'state': 'presentation_received', 'trace': False}\n"
     ]
    }
   ],
   "source": [
    "response = await agent_controller.proofs.send_request(proof_request_web_request)\n",
    "print(response)\n",
    "presentation_exchange_id = response['presentation_exchange_id']\n",
    "print(\"\\n\")\n",
    "print(presentation_exchange_id)\n"
   ]
  },
  {
   "cell_type": "markdown",
   "metadata": {},
   "source": [
    "## 5c. Verify proof presentation and populate credential template\n",
    "\n",
    "This is checking the signatures on the credentials presented against the credential schema and definition id stored and resolvable on the ledger. It is a bit of a big complicated object, so we show the common pattern for breaking it down, checking it's verified and accessing the data that has been presented."
   ]
  },
  {
   "cell_type": "code",
   "execution_count": 16,
   "metadata": {
    "pycharm": {
     "name": "#%%\n"
    }
   },
   "outputs": [
    {
     "name": "stdout",
     "output_type": "stream",
     "text": [
      "Handle present proof\n",
      "{'connection_id': 'b667febb-343c-462c-bcbb-26c809bfb322', 'role': 'verifier', 'auto_present': False, 'verified': 'true', 'initiator': 'self', 'created_at': '2020-09-22 11:07:47.706188Z', 'presentation_request_dict': {'@type': 'did:sov:BzCbsNYhMrjHiqZDTUASHg;spec/present-proof/1.0/request-presentation', '@id': '88507110-b5b1-438c-b0e0-f865add14146', 'request_presentations~attach': [{'@id': 'libindy-request-presentation-0', 'mime-type': 'application/json', 'data': {'base64': 'eyJuYW1lIjogIlByb29mIG9mIFBhc3Nwb3J0IENyZWRlbnRpYWwiLCAidmVyc2lvbiI6ICIxLjAiLCAicmVxdWVzdGVkX2F0dHJpYnV0ZXMiOiB7IjBfUFNTIEdpdmVuIE5hbWVzX3V1aWQiOiB7Im5hbWUiOiAiUFNTIEdpdmVuIE5hbWVzIiwgInJlc3RyaWN0aW9ucyI6IFtdfSwgIjBfUFNTIFN1cm5hbWVfdXVpZCI6IHsibmFtZSI6ICJQU1MgU3VybmFtZSIsICJyZXN0cmljdGlvbnMiOiBbXX19LCAicmVxdWVzdGVkX3ByZWRpY2F0ZXMiOiB7fSwgIm5vbmNlIjogIjYzNjY4NTE4MDUyMTIzMjk5NTA0OTIxNCJ9'}}]}, 'presentation': {'proof': {'proofs': [{'primary_proof': {'eq_proof': {'revealed_attrs': {'pssgivennames': '93006290325627508022776103386395994712401809437930957652111221015872244345185', 'psssurname': '114927502338763998064999850638882995061695907387154193658986605318642155271625'}, 'a_prime': '31853968052320539594305620534057539606109079732067936301046897411493254197765982015489995502193445668562998317047988337120254686790100958269566390328639827326637089412652137730162146905003807345020752584387574626610094869523781055659309324078728441234835705263268673713230215647705581023203970504108900870537101979525266038247358197037365137548097662215969251714727390701341685652187567187477684167474454125586949229019479622369934275625505734566900568620192754165227871894271897481428133982889381759022185212916895663239263628316587301236206261026528300438626500844175567854287632216024565508338819271805201117550668', 'e': '177890812779646303478060494412484237114056606957306407404044377383050566496387420921851611127893195499836214034451147356863263493234669690', 'v': '112010522691805924890225112491768038884850081052746045828520221112131375849079346886858762120837904178986519917753219114990087794725499079706863976170258409885860007418879003948567663674555912855099950248350255953154140357076379653893905667110195944004897322798746835982458590649818182949959687307984667501054867750766105113870985533221003818447697331118151338484000324599339300699907495771648255519000321706495860713424588138230374184114494184152262582814897253801588803894916897645612007035572460468440963706875290012375165447680435022624097877113564254089569548927125727396458811868537089362421899274204442050062221695691139193959159830502436214698613795946102383813174311324999944236155024673482475327055101472202148892653452530447583687414116371245032904793294734105419051537835840773860440393873284469846848023963638861846228354615345781298425859807628477338683368059022515861735120081535289916333649707369861145485', 'm': {'pssplaceofbirth': '5563561791438295177000968454561074781043753848110803819665578842746214212462852077156537618569371035610472599270075180716984354059813779674785763827766718044890380930146820763070', 'pssdateofexpiry': '13262634356124136557293580729899802549268564641494658815934726198085220136014274228277799556294038467675734097708179412914256451402084280114404803945201353035082188551365702678086', 'pssdateofbirth': '13681935893501503144199599100922662099785622673960795693432593646061511725057623326273412682951939998022475828767061129486497909010121283709963812679629661031876964850945084689031', 'master_secret': '5786020129007558783673856811684231542187532242183011547620388848709714019643085357624634768732162902440222141504426688019565789167288350827854561124985484819817101350264049671717', 'psssignature': '4515080195314707352086898544613121906510911577353531771145949401701808464781222197214410593382947774010131909695289456248701658723843332625956434087971941536163131422375217620221', 'pssphotograph': '7556706735224178664789446877448385408400478879272053573012527557924565500339062774914614809037917532986496263704792903446930877708998088205134616946798928057249399669972355249555', 'pssdateofissue': '5277656504118901589446801678694932485845963336702012897264295763182557439566808885568513975422216349883867278000361580964309886832630647936059147297772600793153384394627183825146', 'pssissuingauthority': '7510587113023134797922342525024556837142371626674924691535108746124103767311523661935917759698765806620063492931948181551115880054675352297387620550599141484883058171475893375411', 'psspassportno': '6639745734410821096785256970701192959100299879437444761931021718407509236981703790063779352224011148181474855020453170638810228231487058778292119551623703497304090004809350219224', 'psssex': '13126815951189305070425127017466096669979999680173446061318169754863796357834225193152001644450872440758199540164227074075268353261149773152302911664605292980159671560108698475665', 'pssnationality': '9145952370652395515801312988488300262980583172477289588053761338016839045294007236517170569077484144996225309001082734643730290708649712823892389663314812643425120993980760513942'}, 'm2': '14153357854945059246717342607658333409109035811435164076146699724986138398438937935320902758268489732550995130238063415949786856939656916410932056869774281331472879134444603734226'}, 'ge_proofs': []}, 'non_revoc_proof': None}], 'aggregated_proof': {'c_hash': '105188475322919797880708628018046837352586157024507158938293530712804842458642', 'c_list': [[252, 85, 0, 18, 110, 51, 12, 229, 199, 47, 214, 186, 233, 87, 142, 198, 37, 123, 247, 252, 199, 45, 251, 156, 62, 232, 61, 119, 146, 243, 208, 5, 78, 162, 215, 110, 174, 183, 209, 220, 89, 231, 13, 244, 254, 40, 49, 112, 202, 65, 170, 95, 124, 12, 91, 218, 10, 74, 180, 230, 202, 107, 148, 98, 182, 209, 43, 126, 151, 132, 33, 61, 212, 243, 116, 86, 21, 142, 212, 122, 99, 169, 175, 21, 171, 241, 127, 155, 163, 200, 215, 37, 84, 218, 6, 223, 131, 196, 84, 146, 6, 103, 238, 119, 158, 201, 135, 217, 95, 109, 123, 14, 66, 114, 146, 154, 166, 71, 158, 183, 96, 212, 38, 107, 238, 16, 250, 227, 7, 126, 20, 138, 19, 191, 204, 3, 50, 229, 0, 198, 214, 11, 166, 75, 95, 8, 19, 140, 64, 252, 185, 233, 218, 85, 169, 175, 67, 188, 217, 215, 1, 149, 103, 209, 129, 150, 153, 130, 241, 39, 188, 185, 228, 24, 45, 196, 154, 246, 102, 77, 104, 228, 213, 88, 179, 152, 202, 207, 51, 154, 34, 251, 163, 14, 254, 231, 232, 164, 186, 245, 153, 29, 248, 38, 83, 193, 177, 132, 84, 37, 145, 21, 101, 225, 191, 206, 183, 213, 91, 103, 34, 207, 233, 149, 216, 149, 246, 2, 210, 165, 177, 76, 135, 8, 36, 116, 82, 99, 94, 16, 137, 153, 217, 16, 240, 49, 56, 2, 216, 197, 2, 193, 228, 227, 24, 76]]}}, 'requested_proof': {'revealed_attrs': {'0_PSS Surname_uuid': {'sub_proof_index': 0, 'raw': 'Jones', 'encoded': '114927502338763998064999850638882995061695907387154193658986605318642155271625'}, '0_PSS Given Names_uuid': {'sub_proof_index': 0, 'raw': 'Bob', 'encoded': '93006290325627508022776103386395994712401809437930957652111221015872244345185'}}, 'self_attested_attrs': {}, 'unrevealed_attrs': {}, 'predicates': {}}, 'identifiers': [{'schema_id': '2yWoMSfeTtYBFpUJFcnpqL:2:Passport Details:0.0.1', 'cred_def_id': 'TAz26kuCtMgdCa1PjCgbGk:3:CL:141253:default', 'rev_reg_id': None, 'timestamp': None}]}, 'updated_at': '2020-09-22 11:08:05.305787Z', 'thread_id': '88507110-b5b1-438c-b0e0-f865add14146', 'presentation_exchange_id': '9eab1c11-b262-4da2-bf90-8377f2c48b0f', 'presentation_request': {'name': 'Proof of Passport Credential', 'version': '1.0', 'requested_attributes': {'0_PSS Given Names_uuid': {'name': 'PSS Given Names', 'restrictions': []}, '0_PSS Surname_uuid': {'name': 'PSS Surname', 'restrictions': []}}, 'requested_predicates': {}, 'nonce': '636685180521232995049214'}, 'state': 'verified', 'trace': False}\n",
      "Proof request state verified?: True \n"
     ]
    }
   ],
   "source": [
    "verify = await agent_controller.proofs.verify_presentation(presentation_exchange_id)\n",
    "\n",
    "# print proof request verification status\n",
    "print('Proof request state verified?: {} '.format(verify['state'] == 'verified'))\n"
   ]
  },
  {
   "cell_type": "code",
   "execution_count": 17,
   "metadata": {},
   "outputs": [
    {
     "name": "stdout",
     "output_type": "stream",
     "text": [
      "Atribute name: Surname Value: Jones\n",
      "Atribute name: Given Names Value: Bob\n"
     ]
    }
   ],
   "source": [
    "# access the revealed attributes and populate credential\n",
    "credential_attributes = []\n",
    "for (name, val) in verify['presentation']['requested_proof']['revealed_attrs'].items():\n",
    "    ## This is the actual data that you want. It's a little hidden\n",
    "    print('Atribute name: {} Value: {}'.format(name[6:-5],val['raw']))\n",
    "    credential_attributes.append({\"name\":name[6:-5], \"value\": val['raw']})\n",
    "    \n",
    "# set credential attribute field names to match credential\n",
    "credential_attributes[0]['name'] = \"RTW Given Names\"\n",
    "credential_attributes[1]['name'] = \"RTW Surname\""
   ]
  },
  {
   "cell_type": "markdown",
   "metadata": {},
   "source": [
    "## End of Tutorial\n",
    "\n",
    "Be sure to terminate the controller so you can run another tutorial."
   ]
  },
  {
   "cell_type": "code",
   "execution_count": 16,
   "metadata": {
    "pycharm": {
     "name": "#%%\n"
    }
   },
   "outputs": [
    {
     "name": "stdout",
     "output_type": "stream",
     "text": [
      "None\n"
     ]
    }
   ],
   "source": [
    "response = await agent_controller.terminate()\n",
    "print(response)"
   ]
  },
  {
   "cell_type": "markdown",
   "metadata": {},
   "source": [
    "## Well done on completing the PyDentity SSI training series!"
   ]
  },
  {
   "cell_type": "code",
   "execution_count": null,
   "metadata": {},
   "outputs": [],
   "source": []
  }
 ],
 "metadata": {
  "kernelspec": {
   "display_name": "Python 3",
   "language": "python",
   "name": "python3"
  },
  "language_info": {
   "codemirror_mode": {
    "name": "ipython",
    "version": 3
   },
   "file_extension": ".py",
   "mimetype": "text/x-python",
   "name": "python",
   "nbconvert_exporter": "python",
   "pygments_lexer": "ipython3",
   "version": "3.7.6"
  }
 },
 "nbformat": 4,
 "nbformat_minor": 1
}
