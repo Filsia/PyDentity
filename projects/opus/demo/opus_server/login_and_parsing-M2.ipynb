{
 "cells": [
  {
   "cell_type": "markdown",
   "metadata": {},
   "source": [
    "# Opus Method 2\n",
    "\n",
    "This method of Opus verifying information about an indvidual relies on passing the user a unique key and that user posting that key on their social media profile. Opus can then parse the account page containing the key and any subsequent data on that page. Opus knows this page belongs to the user because only the user can post to that page.\n",
    "\n",
    "In order to issue a credential, first we need to define it on the ledger:\n",
    "\n",
    "<img src=\"../../images/opus_1A.png\" alt=\"drawing\" width=\"500\"/>\n",
    "\n",
    "Next we need to implement a method for moving <b>trusted</b> data from third parties online into our private wallets. Method 1 can be seen below. This good trust guarentees as Opus is able to verify that the html page presented by the user has the authority to post on the account page of the third party servive. However, this limits credentialing to only public information. The user doesn't need to trust Opus but Opus is limited to publicly available infromation.\n",
    "\n",
    "<img src=\"../../images/opus_2B.png\" alt=\"drawing\" width=\"800\"/>"
   ]
  },
  {
   "cell_type": "markdown",
   "metadata": {},
   "source": [
    "## 0. Initiate Connection between User and Opus Agents\n"
   ]
  },
  {
   "cell_type": "markdown",
   "metadata": {},
   "source": [
    "## 1.Retrieve Ownership Token\n",
    "\n",
    "Handle the message, prepare a response with a unique string for account verification. User posts it to their profile."
   ]
  },
  {
   "cell_type": "code",
   "execution_count": 26,
   "metadata": {},
   "outputs": [
    {
     "name": "stdout",
     "output_type": "stream",
     "text": [
      "Post '#OPUS 53a4198707658f2b0402af57441aa380==' on your Github profile\n"
     ]
    }
   ],
   "source": [
    "import secrets\n",
    "\n",
    "# ownership_proof = secrets.token_hex(16)\n",
    "ownership_proof = \"53a4198707658f2b0402af57441aa380\"\n",
    "ownership_statement = \"#OPUS \"+ownership_proof+\"==\"\n",
    "print(\"Post '\"+ownership_statement+\"' on your Github profile\")"
   ]
  },
  {
   "cell_type": "markdown",
   "metadata": {},
   "source": [
    "## 2. Sign in to Account and Post Ownership Token\n",
    "\n",
    "Performed on the user side. "
   ]
  },
  {
   "cell_type": "markdown",
   "metadata": {},
   "source": [
    "## 3. Parse Account Page URL, Retrieve Ownership Token\n",
    "\n",
    "Crawling is not yet robust but should complete given the user has posted to their profile. "
   ]
  },
  {
   "cell_type": "code",
   "execution_count": 24,
   "metadata": {},
   "outputs": [
    {
     "name": "stdout",
     "output_type": "stream",
     "text": [
      "Account Linked\n"
     ]
    }
   ],
   "source": [
    "import requests\n",
    "import re\n",
    "from bs4 import BeautifulSoup \n",
    "\n",
    "#Retrieve Page\n",
    "response = requests.get('https://github.com/H4LL')\n",
    "\n",
    "#Parse Account info for ownership token\n",
    "soup = BeautifulSoup(response.text)\n",
    "ownership_token = soup.findAll(\"div\", {\"class\": \"user-profile-bio\"})[0].findAll(\"div\")[0].text.strip()\n",
    "ownership_token = ownership_token.split(\"#OPUS \",1)[1].split(\"==\",1)[0] \n",
    "\n",
    "if ownership_token == ownership_proof:\n",
    "    print(\"Account Linked\")\n",
    "else:\n",
    "    print(\"Unable to Link\")"
   ]
  },
  {
   "cell_type": "markdown",
   "metadata": {},
   "source": [
    "## 4. Parse Authenticated Page for Organisation Membership"
   ]
  },
  {
   "cell_type": "markdown",
   "metadata": {},
   "source": [
    "Here we parse the recieved organisation page (as Opus) and recieve the membership affiliations."
   ]
  },
  {
   "cell_type": "code",
   "execution_count": null,
   "metadata": {
    "scrolled": true
   },
   "outputs": [],
   "source": [
    "# response.content\n",
    "\n",
    "# from IPython.core.display import display, HTML\n",
    "# display(HTML(response.text))"
   ]
  },
  {
   "cell_type": "code",
   "execution_count": 27,
   "metadata": {},
   "outputs": [
    {
     "name": "stdout",
     "output_type": "stream",
     "text": [
      "{'@blockpass-identity-lab', '@OpenMined'}\n"
     ]
    }
   ],
   "source": [
    "from bs4 import BeautifulSoup\n",
    "\n",
    "soup = BeautifulSoup(response.text)\n",
    "\n",
    "orgsSection = soup.findAll(\"div\", {\"class\": \"border-top pt-3 mt-3 clearfix hide-sm hide-md\"})[0].findAll('img')\n",
    "myOrgs = set(tag['alt'] for tag in orgsSection)\n",
    "\n",
    "print(myOrgs)"
   ]
  },
  {
   "cell_type": "markdown",
   "metadata": {},
   "source": [
    "## 5. Return Parsed Data as Signed Credential"
   ]
  },
  {
   "cell_type": "code",
   "execution_count": null,
   "metadata": {},
   "outputs": [],
   "source": []
  }
 ],
 "metadata": {
  "kernelspec": {
   "display_name": "Python 3",
   "language": "python",
   "name": "python3"
  },
  "language_info": {
   "codemirror_mode": {
    "name": "ipython",
    "version": 3
   },
   "file_extension": ".py",
   "mimetype": "text/x-python",
   "name": "python",
   "nbconvert_exporter": "python",
   "pygments_lexer": "ipython3",
   "version": "3.7.7"
  }
 },
 "nbformat": 4,
 "nbformat_minor": 4
}
