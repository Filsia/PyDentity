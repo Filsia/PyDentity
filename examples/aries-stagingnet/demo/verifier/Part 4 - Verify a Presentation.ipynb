{
 "cells": [
  {
   "cell_type": "markdown",
   "metadata": {},
   "source": [
    "# Verify a Presentation\n",
    "\n",
    "## Before running this notebook you should have a mobile wallet contained the credential you issued yourself in Part 3. If not run through [Part 2](http://127.0.0.1:8888/notebooks/Part%202%20-%20Connecting%20Issuer%20Agent%20to%20Sovrin%20Stagingnet.ipynb) and [Part 3](http://localhost:8888/notebooks/Part%203%20-%20Issue%20Credential.ipynb) of this tutorial.\n",
    "\n",
    "If unfamiliar with the present-proof protocol it is worth reading through the [aries-rfs](https://github.com/hyperledger/aries-rfcs/tree/master/features/0037-present-proof)`\n"
   ]
  },
  {
   "cell_type": "markdown",
   "metadata": {},
   "source": [
    "## Note that you do not need to write a public DID to the ledger as a verifier."
   ]
  },
  {
   "cell_type": "markdown",
   "metadata": {
    "pycharm": {
     "name": "#%%\n"
    }
   },
   "source": [
    "## 1. Instatiate Controller for Verifiers's Agent"
   ]
  },
  {
   "cell_type": "code",
   "execution_count": 1,
   "metadata": {
    "pycharm": {
     "name": "#%%\n"
    }
   },
   "outputs": [
    {
     "name": "stdout",
     "output_type": "stream",
     "text": [
      "IPython autoawait is `on`, and set to use `asyncio`\n"
     ]
    }
   ],
   "source": [
    "%autoawait\n",
    "import time\n",
    "import asyncio\n",
    "from termcolor import colored,cprint\n",
    "\n",
    "from aries_basic_controller.aries_controller import AriesAgentController\n",
    "\n",
    "WEBHOOK_HOST = \"0.0.0.0\"\n",
    "WEBHOOK_PORT = 8052\n",
    "WEBHOOK_BASE = \"\"\n",
    "ADMIN_URL = \"http://verifier-agent:8051\"\n",
    "\n",
    "# Based on the aca-py agent you wish to control\n",
    "agent_controller = AriesAgentController(webhook_host=WEBHOOK_HOST, webhook_port=WEBHOOK_PORT,\n",
    "                                       webhook_base=WEBHOOK_BASE, admin_url=ADMIN_URL)\n"
   ]
  },
  {
   "cell_type": "markdown",
   "metadata": {},
   "source": [
    "## 2. Register Listeners\n",
    "\n",
    "The handler should get called every time the controller receives a webhook with the topic present_proof, printing out the payload. The agent calls to this webhook every time it receives a present proof protocol message from another agent. \n"
   ]
  },
  {
   "cell_type": "code",
   "execution_count": 2,
   "metadata": {
    "pycharm": {
     "name": "#%%\n"
    }
   },
   "outputs": [],
   "source": [
    "loop = asyncio.get_event_loop()\n",
    "loop.create_task(agent_controller.listen_webhooks())\n",
    "\n",
    "def connections_handler(payload):\n",
    "    global STATE\n",
    "    connection_id = payload[\"connection_id\"]\n",
    "    print(\"Connection message\", payload, connection_id)\n",
    "    STATE = payload['state']\n",
    "    if STATE == 'active':\n",
    "#         print('Connection {0} changed state to active'.format(connection_id))\n",
    "        print(colored(\"Connection {0} changed state to active\".format(connection_id), \"red\", attrs=[\"bold\"]))\n",
    "\n",
    "\n",
    "connection_listener = {\n",
    "    \"handler\": connections_handler,\n",
    "    \"topic\": \"connections\"\n",
    "}\n",
    "\n",
    "def proof_handler(payload):\n",
    "    print(\"Handle present proof\")\n",
    "    print(payload)\n",
    "\n",
    "proof_listener = {\n",
    "    \"topic\": \"present_proof\",\n",
    "    \"handler\": proof_handler\n",
    "}\n",
    "\n",
    "agent_controller.register_listeners([connection_listener,proof_listener], defaults=True)\n",
    "\n"
   ]
  },
  {
   "cell_type": "markdown",
   "metadata": {},
   "source": [
    "## 3. Make a connection with the Mobile SSI Wallet you used in [Part 2](http://127.0.0.1:8888/notebooks/Part%202%20-%20Connecting%20Issuer%20Agent%20to%20Sovrin%20Stagingnet.ipynb)\n",
    "\n",
    "**You should have a credential stored in here from the previous notebook!**\n",
    "\n",
    "Please download a mobile SSI wallet such as [Connect.me](https://connect.me/), [Trinsic](https://trinsic.id/trinsic-wallet/) or any other Aries compatible wallet."
   ]
  },
  {
   "cell_type": "markdown",
   "metadata": {},
   "source": [
    "## 4. Create a connection invitation to scan with the Mobile SSI Wallet"
   ]
  },
  {
   "cell_type": "markdown",
   "metadata": {},
   "source": [
    "## 4a. Check for any existing connections"
   ]
  },
  {
   "cell_type": "code",
   "execution_count": 3,
   "metadata": {},
   "outputs": [
    {
     "name": "stdout",
     "output_type": "stream",
     "text": [
      "EXISTING CONNECTIONS\n"
     ]
    }
   ],
   "source": [
    "# Check for existing connections\n",
    "connection = await agent_controller.connections.get_connections()\n",
    "print(\"EXISTING CONNECTIONS\")\n",
    "for key, value in connection.items():\n",
    "    for item in value:\n",
    "        print('ConnectionID:', item['connection_id'], 'Status:',item['state'])"
   ]
  },
  {
   "cell_type": "markdown",
   "metadata": {},
   "source": [
    "## 4b. Create an Invitation"
   ]
  },
  {
   "cell_type": "code",
   "execution_count": 4,
   "metadata": {},
   "outputs": [
    {
     "name": "stdout",
     "output_type": "stream",
     "text": [
      "Connection ID 9833e3bc-d419-4a84-a5f2-130af083eedb\n",
      "Invitation\n",
      "https://51f831aadb91.ngrok.io?c_i=eyJAdHlwZSI6ICJkaWQ6c292OkJ6Q2JzTlloTXJqSGlxWkRUVUFTSGc7c3BlYy9jb25uZWN0aW9ucy8xLjAvaW52aXRhdGlvbiIsICJAaWQiOiAiNmZlOWQzOGQtNGMxYS00YzQzLThjNTgtZTM3YjQ1YTZmZjIzIiwgImxhYmVsIjogIlZlcmlmaWVyIiwgInNlcnZpY2VFbmRwb2ludCI6ICJodHRwczovLzUxZjgzMWFhZGI5MS5uZ3Jvay5pbyIsICJyZWNpcGllbnRLZXlzIjogWyJIRlN0ejNmeWRIY0dqYW5xcjhZWnY4UXNrWUx1dEFRZXdXZzh5OEdqZXF6YSJdfQ==\n",
      "Connection message {'routing_state': 'none', 'initiator': 'self', 'invitation_mode': 'once', 'accept': 'auto', 'connection_id': '9833e3bc-d419-4a84-a5f2-130af083eedb', 'invitation_key': 'HFStz3fydHcGjanqr8YZv8QskYLutAQewWg8y8Gjeqza', 'updated_at': '2020-09-16 16:22:32.469455Z', 'created_at': '2020-09-16 16:22:32.469455Z', 'state': 'invitation'} 9833e3bc-d419-4a84-a5f2-130af083eedb\n"
     ]
    }
   ],
   "source": [
    "# Create Invitation\n",
    "invite = await agent_controller.connections.create_invitation()\n",
    "connection_id = invite[\"connection_id\"]\n",
    "print(\"Connection ID\", connection_id)\n",
    "print(\"Invitation\")\n",
    "print(invite['invitation_url'])\n",
    "inviteURL = invite['invitation_url']"
   ]
  },
  {
   "cell_type": "markdown",
   "metadata": {},
   "source": [
    "## 4c. Generate QR Code to be scanned with Mobile SSI Wallet"
   ]
  },
  {
   "cell_type": "code",
   "execution_count": 5,
   "metadata": {},
   "outputs": [
    {
     "data": {
      "image/png": "[encoded data removed]",
      "text/plain": [
       "<IPython.core.display.Image object>"
      ]
     },
     "execution_count": 5,
     "metadata": {
      "image/png": {
       "width": 400
      }
     },
     "output_type": "execute_result"
    },
    {
     "name": "stdout",
     "output_type": "stream",
     "text": [
      "Connection message {'their_label': 'EAX', 'routing_state': 'none', 'initiator': 'self', 'invitation_mode': 'once', 'accept': 'auto', 'connection_id': '9833e3bc-d419-4a84-a5f2-130af083eedb', 'invitation_key': 'HFStz3fydHcGjanqr8YZv8QskYLutAQewWg8y8Gjeqza', 'their_did': 'WkaUqV7jeu9vV2Ysvu1Ey9', 'updated_at': '2020-09-16 16:22:47.796265Z', 'created_at': '2020-09-16 16:22:32.469455Z', 'state': 'request'} 9833e3bc-d419-4a84-a5f2-130af083eedb\n",
      "Connection message {'my_did': '3qYccpMLgBkzX7kMdBkvWK', 'their_label': 'EAX', 'routing_state': 'none', 'initiator': 'self', 'invitation_mode': 'once', 'accept': 'auto', 'connection_id': '9833e3bc-d419-4a84-a5f2-130af083eedb', 'invitation_key': 'HFStz3fydHcGjanqr8YZv8QskYLutAQewWg8y8Gjeqza', 'their_did': 'WkaUqV7jeu9vV2Ysvu1Ey9', 'updated_at': '2020-09-16 16:22:47.828221Z', 'created_at': '2020-09-16 16:22:32.469455Z', 'state': 'response'} 9833e3bc-d419-4a84-a5f2-130af083eedb\n"
     ]
    }
   ],
   "source": [
    "import qrcode\n",
    "# Link for connection invitation\n",
    "input_data = inviteURL\n",
    "# Creating an instance of qrcode\n",
    "qr = qrcode.QRCode(\n",
    "        version=1,\n",
    "        box_size=10,\n",
    "        border=5)\n",
    "qr.add_data(input_data)\n",
    "qr.make(fit=True)\n",
    "img = qr.make_image(fill='black', back_color='white')\n",
    "img.save('verifier_agent_invite_QRcode.png')\n",
    "\n",
    "from IPython.display import Image\n",
    "Image(width=400, filename='./verifier_agent_invite_QRcode.png')"
   ]
  },
  {
   "cell_type": "markdown",
   "metadata": {},
   "source": [
    "## 4d. Check if established connection is in active state"
   ]
  },
  {
   "cell_type": "code",
   "execution_count": 6,
   "metadata": {},
   "outputs": [
    {
     "name": "stdout",
     "output_type": "stream",
     "text": [
      "\u001b[1m\u001b[35mCurrent state for ConnectionId 9833e3bc-d419-4a84-a5f2-130af083eedb is response\u001b[0m\n",
      "\u001b[1m\u001b[33mConnectionId 9833e3bc-d419-4a84-a5f2-130af083eedb is not in active state yet\u001b[0m\n",
      "\u001b[1m\u001b[34mTrust ping send to ConnectionId {'thread_id': 'f65b118d-5637-42a6-b787-d66c0cb91faf'} to activate connection\u001b[0m\n",
      "\u001b[1m\u001b[33mConnectionId 9833e3bc-d419-4a84-a5f2-130af083eedb is not in active state yet\u001b[0m\n",
      "Connection message {'my_did': '3qYccpMLgBkzX7kMdBkvWK', 'their_label': 'EAX', 'routing_state': 'none', 'initiator': 'self', 'invitation_mode': 'once', 'accept': 'auto', 'connection_id': '9833e3bc-d419-4a84-a5f2-130af083eedb', 'invitation_key': 'HFStz3fydHcGjanqr8YZv8QskYLutAQewWg8y8Gjeqza', 'their_did': 'WkaUqV7jeu9vV2Ysvu1Ey9', 'updated_at': '2020-09-16 16:22:56.582199Z', 'created_at': '2020-09-16 16:22:32.469455Z', 'state': 'active'} 9833e3bc-d419-4a84-a5f2-130af083eedb\n",
      "\u001b[1m\u001b[31mConnection 9833e3bc-d419-4a84-a5f2-130af083eedb changed state to active\u001b[0m\n",
      "\u001b[1m\u001b[34mTrust ping send to ConnectionId {'thread_id': 'f6b9cdef-98eb-4efc-bf8a-e1651746252f'} to activate connection\u001b[0m\n",
      "\u001b[1m\u001b[32mConnectionId: 9833e3bc-d419-4a84-a5f2-130af083eedb is now active. Continue with notebook\u001b[0m\n"
     ]
    }
   ],
   "source": [
    "import time\n",
    "\n",
    "# print('Current state for ConnectionId {} is {}'.format(connection_id,STATE))\n",
    "print(colored(\"Current state for ConnectionId {} is {}\".format(connection_id,STATE), \"magenta\", attrs=[\"bold\"]))\n",
    "while STATE != 'active':\n",
    "#     print('ConnectionId {0} is not in active state yet'.format(connection_id))\n",
    "    print(colored(\"ConnectionId {0} is not in active state yet\".format(connection_id), \"yellow\", attrs=[\"bold\"]))\n",
    "    trust_ping = await agent_controller.messaging.trust_ping(connection_id,'hello!')\n",
    "#     print('Trust ping send to ConnectionId {0} to activate connection'.format(trust_ping))\n",
    "    print(colored(\"Trust ping send to ConnectionId {0} to activate connection\".format(trust_ping), \"blue\", attrs=[\"bold\"]))\n",
    "    time.sleep(5)\n",
    "    \n",
    "# print('ConnectionId: {0} is now active. Continue with notebook'.format(connection_id))\n",
    "print(colored(\"ConnectionId: {0} is now active. Continue with notebook\".format(connection_id), \"green\", attrs=[\"bold\"]))\n"
   ]
  },
  {
   "cell_type": "markdown",
   "metadata": {},
   "source": [
    "## 5. Send Proof Request to Identity Holder Mobile Wallet"
   ]
  },
  {
   "cell_type": "markdown",
   "metadata": {},
   "source": [
    "## 5a. Generate Proof Request\n",
    "\n",
    "The verifier will request a proof from the identity holder for the following attributes:\n",
    "\n",
    "    fullname\"\n",
    "    \"skill\"\n",
    "    \"country\" - self-attested\n",
    "    \"age\" - as a predicate range proof to determine if the identity holder is older than 21\n",
    "\n",
    "\n",
    "Note how the verifier has restricted the proof request to only include credentials issued against a specific `schema_id`. \n",
    "\n",
    "In our case `schema_id` = EuEtnVakYFyBtGFT1nHYtH:2:SSI PyDentity Tutorial:0.0.1\n",
    "\n",
    "If you ledgered your own schema in [Part 2](http://127.0.0.1:8888/notebooks/Part%203%20-%20Issuer.ipynb) and didn't use the pre-ledgered schema then please copy the new schema_id into the `schemaid` variable in the cell below.\n",
    "\n",
    "TODO: Add information around predicates"
   ]
  },
  {
   "cell_type": "code",
   "execution_count": 9,
   "metadata": {
    "pycharm": {
     "name": "#%%\n"
    }
   },
   "outputs": [
    {
     "name": "stdout",
     "output_type": "stream",
     "text": [
      "Request proof of Fullname and Age range from Identity Holder\n"
     ]
    }
   ],
   "source": [
    "schema_id = 'EuEtnVakYFyBtGFT1nHYtH:2:SSI PyDentity Tutorial:0.0.1'\n",
    "\n",
    "print(\"Request proof of Fullname and Age range from Identity Holder\")\n",
    "#Set some variables\n",
    "\n",
    "revocation = False\n",
    "SELF_ATTESTED = True\n",
    "exchange_tracing = False\n",
    "\n",
    "#Enable this to ask for attributes to identity a user\n",
    "#TODO - change restriction to schemaId or credentialId\n",
    "\n",
    "req_attrs = [\n",
    "    {\"name\": \"fullname\", \"restrictions\": [{\"schema_id\": schema_id}]},\n",
    "    {\"name\": \"skill\", \"restrictions\": [{\"schema_id\": schema_id}]},\n",
    "]\n",
    "\n",
    "if revocation:\n",
    "    req_attrs.append(\n",
    "        {\n",
    "            \"name\": \"skill\",\n",
    "            \"restrictions\": [{\"schema_id\": schema_id}],\n",
    "            \"non_revoked\": {\"to\": int(time.time() - 1)},\n",
    "        },\n",
    "    )\n",
    "\n",
    "if SELF_ATTESTED:\n",
    "    # test self-attested claims\n",
    "    req_attrs.append({\"name\": \"country\"},)\n",
    "\n",
    "#Set predicates for Zero Knowledge Proofs\n",
    "req_preds = [\n",
    "    # test zero-knowledge proofs\n",
    "    {\n",
    "        \"name\": \"age\",\n",
    "        \"p_type\": \">=\",\n",
    "        \"p_value\": 21,\n",
    "        \"restrictions\": [{\"schema_id\": schema_id}],\n",
    "    }\n",
    "]\n",
    "\n",
    "indy_proof_request = {\n",
    "    \"name\": \"Proof of Completion of PyDentity SSI Tutorial\",\n",
    "    \"version\": \"1.0\",\n",
    "    \"requested_attributes\": {\n",
    "        f\"0_{req_attr['name']}_uuid\":\n",
    "        req_attr for req_attr in req_attrs\n",
    "    },\n",
    "    \"requested_predicates\": {\n",
    "        f\"0_{req_pred['name']}_GE_uuid\":\n",
    "        req_pred for req_pred in req_preds\n",
    "    },\n",
    "}\n",
    "\n",
    "if revocation:\n",
    "    indy_proof_request[\"non_revoked\"] = {\"to\": int(time.time())}\n",
    "\n",
    "#proof_request = indy_proof_request\n",
    "exchange_tracing_id = exchange_tracing\n",
    "proof_request_web_request = {\n",
    "    \"connection_id\": connection_id,\n",
    "    \"proof_request\": indy_proof_request,\n",
    "    \"trace\": exchange_tracing,\n",
    "}"
   ]
  },
  {
   "cell_type": "markdown",
   "metadata": {},
   "source": [
    "### 5b. Send the proof request to Identity Holder\n",
    "\n",
    "Identity Holder is identified through the connection_id"
   ]
  },
  {
   "cell_type": "code",
   "execution_count": 10,
   "metadata": {
    "pycharm": {
     "name": "#%%\n"
    },
    "scrolled": false
   },
   "outputs": [
    {
     "name": "stdout",
     "output_type": "stream",
     "text": [
      "{'trace': False, 'presentation_request': {'name': 'Proof of Completion of PyDentity SSI Tutorial', 'version': '1.0', 'requested_attributes': {'0_fullname_uuid': {'name': 'fullname', 'restrictions': [{'schema_id': 'EuEtnVakYFyBtGFT1nHYtH:2:SSI PyDentity Tutorial:0.0.1'}]}, '0_skill_uuid': {'name': 'skill', 'restrictions': [{'schema_id': 'EuEtnVakYFyBtGFT1nHYtH:2:SSI PyDentity Tutorial:0.0.1'}]}, '0_country_uuid': {'name': 'country'}}, 'requested_predicates': {'0_age_GE_uuid': {'name': 'age', 'p_type': '>=', 'p_value': 21, 'restrictions': [{'schema_id': 'EuEtnVakYFyBtGFT1nHYtH:2:SSI PyDentity Tutorial:0.0.1'}]}}, 'nonce': '997388198087810378958653'}, 'presentation_request_dict': {'@type': 'did:sov:BzCbsNYhMrjHiqZDTUASHg;spec/present-proof/1.0/request-presentation', '@id': '8da2d690-5b2c-491e-a4b4-d1fa25617fa8', 'request_presentations~attach': [{'@id': 'libindy-request-presentation-0', 'mime-type': 'application/json', 'data': {'base64': 'eyJuYW1lIjogIlByb29mIG9mIENvbXBsZXRpb24gb2YgUHlEZW50aXR5IFNTSSBUdXRvcmlhbCIsICJ2ZXJzaW9uIjogIjEuMCIsICJyZXF1ZXN0ZWRfYXR0cmlidXRlcyI6IHsiMF9mdWxsbmFtZV91dWlkIjogeyJuYW1lIjogImZ1bGxuYW1lIiwgInJlc3RyaWN0aW9ucyI6IFt7InNjaGVtYV9pZCI6ICJFdUV0blZha1lGeUJ0R0ZUMW5IWXRIOjI6U1NJIFB5RGVudGl0eSBUdXRvcmlhbDowLjAuMSJ9XX0sICIwX3NraWxsX3V1aWQiOiB7Im5hbWUiOiAic2tpbGwiLCAicmVzdHJpY3Rpb25zIjogW3sic2NoZW1hX2lkIjogIkV1RXRuVmFrWUZ5QnRHRlQxbkhZdEg6MjpTU0kgUHlEZW50aXR5IFR1dG9yaWFsOjAuMC4xIn1dfSwgIjBfY291bnRyeV91dWlkIjogeyJuYW1lIjogImNvdW50cnkifX0sICJyZXF1ZXN0ZWRfcHJlZGljYXRlcyI6IHsiMF9hZ2VfR0VfdXVpZCI6IHsibmFtZSI6ICJhZ2UiLCAicF90eXBlIjogIj49IiwgInBfdmFsdWUiOiAyMSwgInJlc3RyaWN0aW9ucyI6IFt7InNjaGVtYV9pZCI6ICJFdUV0blZha1lGeUJ0R0ZUMW5IWXRIOjI6U1NJIFB5RGVudGl0eSBUdXRvcmlhbDowLjAuMSJ9XX19LCAibm9uY2UiOiAiOTk3Mzg4MTk4MDg3ODEwMzc4OTU4NjUzIn0='}}]}, 'initiator': 'self', 'role': 'verifier', 'connection_id': '9833e3bc-d419-4a84-a5f2-130af083eedb', 'presentation_exchange_id': '4c511af8-3ed3-4597-a8a6-f93fc727e869', 'thread_id': '8da2d690-5b2c-491e-a4b4-d1fa25617fa8', 'auto_present': False, 'updated_at': '2020-09-16 16:25:03.140123Z', 'created_at': '2020-09-16 16:25:03.140123Z', 'state': 'request_sent'}\n",
      "\n",
      "\n",
      "4c511af8-3ed3-4597-a8a6-f93fc727e869\n",
      "Handle present proof\n",
      "{'trace': False, 'presentation_request': {'name': 'Proof of Completion of PyDentity SSI Tutorial', 'version': '1.0', 'requested_attributes': {'0_fullname_uuid': {'name': 'fullname', 'restrictions': [{'schema_id': 'EuEtnVakYFyBtGFT1nHYtH:2:SSI PyDentity Tutorial:0.0.1'}]}, '0_skill_uuid': {'name': 'skill', 'restrictions': [{'schema_id': 'EuEtnVakYFyBtGFT1nHYtH:2:SSI PyDentity Tutorial:0.0.1'}]}, '0_country_uuid': {'name': 'country'}}, 'requested_predicates': {'0_age_GE_uuid': {'name': 'age', 'p_type': '>=', 'p_value': 21, 'restrictions': [{'schema_id': 'EuEtnVakYFyBtGFT1nHYtH:2:SSI PyDentity Tutorial:0.0.1'}]}}, 'nonce': '997388198087810378958653'}, 'presentation_request_dict': {'@type': 'did:sov:BzCbsNYhMrjHiqZDTUASHg;spec/present-proof/1.0/request-presentation', '@id': '8da2d690-5b2c-491e-a4b4-d1fa25617fa8', 'request_presentations~attach': [{'@id': 'libindy-request-presentation-0', 'mime-type': 'application/json', 'data': {'base64': 'eyJuYW1lIjogIlByb29mIG9mIENvbXBsZXRpb24gb2YgUHlEZW50aXR5IFNTSSBUdXRvcmlhbCIsICJ2ZXJzaW9uIjogIjEuMCIsICJyZXF1ZXN0ZWRfYXR0cmlidXRlcyI6IHsiMF9mdWxsbmFtZV91dWlkIjogeyJuYW1lIjogImZ1bGxuYW1lIiwgInJlc3RyaWN0aW9ucyI6IFt7InNjaGVtYV9pZCI6ICJFdUV0blZha1lGeUJ0R0ZUMW5IWXRIOjI6U1NJIFB5RGVudGl0eSBUdXRvcmlhbDowLjAuMSJ9XX0sICIwX3NraWxsX3V1aWQiOiB7Im5hbWUiOiAic2tpbGwiLCAicmVzdHJpY3Rpb25zIjogW3sic2NoZW1hX2lkIjogIkV1RXRuVmFrWUZ5QnRHRlQxbkhZdEg6MjpTU0kgUHlEZW50aXR5IFR1dG9yaWFsOjAuMC4xIn1dfSwgIjBfY291bnRyeV91dWlkIjogeyJuYW1lIjogImNvdW50cnkifX0sICJyZXF1ZXN0ZWRfcHJlZGljYXRlcyI6IHsiMF9hZ2VfR0VfdXVpZCI6IHsibmFtZSI6ICJhZ2UiLCAicF90eXBlIjogIj49IiwgInBfdmFsdWUiOiAyMSwgInJlc3RyaWN0aW9ucyI6IFt7InNjaGVtYV9pZCI6ICJFdUV0blZha1lGeUJ0R0ZUMW5IWXRIOjI6U1NJIFB5RGVudGl0eSBUdXRvcmlhbDowLjAuMSJ9XX19LCAibm9uY2UiOiAiOTk3Mzg4MTk4MDg3ODEwMzc4OTU4NjUzIn0='}}]}, 'initiator': 'self', 'role': 'verifier', 'connection_id': '9833e3bc-d419-4a84-a5f2-130af083eedb', 'presentation_exchange_id': '4c511af8-3ed3-4597-a8a6-f93fc727e869', 'thread_id': '8da2d690-5b2c-491e-a4b4-d1fa25617fa8', 'auto_present': False, 'updated_at': '2020-09-16 16:25:03.140123Z', 'created_at': '2020-09-16 16:25:03.140123Z', 'state': 'request_sent'}\n",
      "Handle present proof\n",
      "{'trace': False, 'presentation_request': {'name': 'Proof of Completion of PyDentity SSI Tutorial', 'version': '1.0', 'requested_attributes': {'0_fullname_uuid': {'name': 'fullname', 'restrictions': [{'schema_id': 'EuEtnVakYFyBtGFT1nHYtH:2:SSI PyDentity Tutorial:0.0.1'}]}, '0_skill_uuid': {'name': 'skill', 'restrictions': [{'schema_id': 'EuEtnVakYFyBtGFT1nHYtH:2:SSI PyDentity Tutorial:0.0.1'}]}, '0_country_uuid': {'name': 'country'}}, 'requested_predicates': {'0_age_GE_uuid': {'name': 'age', 'p_type': '>=', 'p_value': 21, 'restrictions': [{'schema_id': 'EuEtnVakYFyBtGFT1nHYtH:2:SSI PyDentity Tutorial:0.0.1'}]}}, 'nonce': '997388198087810378958653'}, 'presentation_request_dict': {'@type': 'did:sov:BzCbsNYhMrjHiqZDTUASHg;spec/present-proof/1.0/request-presentation', '@id': '8da2d690-5b2c-491e-a4b4-d1fa25617fa8', 'request_presentations~attach': [{'@id': 'libindy-request-presentation-0', 'mime-type': 'application/json', 'data': {'base64': 'eyJuYW1lIjogIlByb29mIG9mIENvbXBsZXRpb24gb2YgUHlEZW50aXR5IFNTSSBUdXRvcmlhbCIsICJ2ZXJzaW9uIjogIjEuMCIsICJyZXF1ZXN0ZWRfYXR0cmlidXRlcyI6IHsiMF9mdWxsbmFtZV91dWlkIjogeyJuYW1lIjogImZ1bGxuYW1lIiwgInJlc3RyaWN0aW9ucyI6IFt7InNjaGVtYV9pZCI6ICJFdUV0blZha1lGeUJ0R0ZUMW5IWXRIOjI6U1NJIFB5RGVudGl0eSBUdXRvcmlhbDowLjAuMSJ9XX0sICIwX3NraWxsX3V1aWQiOiB7Im5hbWUiOiAic2tpbGwiLCAicmVzdHJpY3Rpb25zIjogW3sic2NoZW1hX2lkIjogIkV1RXRuVmFrWUZ5QnRHRlQxbkhZdEg6MjpTU0kgUHlEZW50aXR5IFR1dG9yaWFsOjAuMC4xIn1dfSwgIjBfY291bnRyeV91dWlkIjogeyJuYW1lIjogImNvdW50cnkifX0sICJyZXF1ZXN0ZWRfcHJlZGljYXRlcyI6IHsiMF9hZ2VfR0VfdXVpZCI6IHsibmFtZSI6ICJhZ2UiLCAicF90eXBlIjogIj49IiwgInBfdmFsdWUiOiAyMSwgInJlc3RyaWN0aW9ucyI6IFt7InNjaGVtYV9pZCI6ICJFdUV0blZha1lGeUJ0R0ZUMW5IWXRIOjI6U1NJIFB5RGVudGl0eSBUdXRvcmlhbDowLjAuMSJ9XX19LCAibm9uY2UiOiAiOTk3Mzg4MTk4MDg3ODEwMzc4OTU4NjUzIn0='}}]}, 'initiator': 'self', 'role': 'verifier', 'connection_id': '9833e3bc-d419-4a84-a5f2-130af083eedb', 'presentation_exchange_id': '4c511af8-3ed3-4597-a8a6-f93fc727e869', 'presentation': {'proof': {'proofs': [{'primary_proof': {'eq_proof': {'revealed_attrs': {'fullname': '65692680133235931683304645877785134421502393178184295996723213988805392923415', 'skill': '38813097173523343342121686954087857232940954656654688676222283577873518606251'}, 'a_prime': '74621272954646413851033389675128816991437135463373688157493720142840661625639175765229445602777939248926175520403240817965993664710949256154838143984933160930336604623933696788113527071450081301865405220477258775258630592838164317142151866736108911429798118176125908675205321272425774362737940412693992216408486372220968174230270726200990153048390134704751516038649844398147333365343968432295978121420578640935464117679267643085790573563620669308863409721757879148386420669934253351601589056937340994200271071467526294123989460237699314768290971196513223921615202446609673959294502479769982682030011639055909946008326', 'e': '123970330644049869652032615636137920328751242417973550097360344664744229150924711920448300165121687628959373986612486200438032843010807764', 'v': '1027765092516698514709446240364845401171961311162662126575128901436720650241459133511609518556721329904347854372242805521798373350321572602964793610556215157416116302994919071545305198926605040932986969343875343258981412610942349465838243979078645258701713887103517768301263767141797577758214980480906030651362222436826006961990452284531434549210444823774558947097088328462638571600314104833009160767230032097085888232515293063536218112261800648217410161210764292773432910659522681986972021740161794813278571966544603857404441796942334324120817164812171634700153403460564917843233315152868380204861741371833654727972734053360555687770330700751613754626973533067878338541542863477316789357579209934976964010496492848208272300818596844743066606885297471147595815089809242230459293877765730235861885337571190948674647161242350797055278261733446971201624108006000840894725781493894350792629951465933825749346972487680505514716', 'm': {'age': '9073170359998526313535153679530811867089188009577625344244573570845303068267153999440828205505687036275243527231297790781394997960215385127165171765705414890947620328475988212585', 'master_secret': '12943539498580062776723720054305057900973051437992449017962888988568369406100709642648209648009275286050729533599045718911403315124759853416552953509517579176618362241863197895754'}, 'm2': '5276440384230524991927823929463737168300400772583081337687079384946747430687361300781713468451492929790397359866341005722100315396594443910412953108678090303491146351981986547713'}, 'ge_proofs': [{'u': {'1': '11360668752539389659882042974267852679507002624764081715625477819053872413974160691882305153065311215857533692034763711771971012272890666467665164496036051420073861336325593156661', '2': '10203705076699223971530097427200720579112622895459937154086049145927237542337240257967039842033806203231279817402500859343059334744252593447888003921534569949410296899814812428516', '3': '4039498930506375042721063126043466608650390299903348738591230607476412119136707608319632885416091158498691422140403201133723620429879217896890716451573475362025893346113751651565', '0': '12114053027725687233093147957805432473900424622998985744448922352676537584462894524728565447359934270320155763531024773765514568286217423218076073177729568485526941647631333206179'}, 'r': {'3': '1183996112243046595118266659987684936600961678605011403267548277734316730919617854093890129222159182495538983125594913124927148838876037462355332107912582193758787718887250170665185347460954775665885785399865357038478964387219118294366341533900462487877949084677413139501218272218982462955865004485775288918797337427101177512222273652191578869054847018310502486861063980229149481316262523225269280359261937928006802470717448245759983801041623370037796017380501766317319625615521209597833681750405119266278860161286827729762609853883387477862360857476355095707742418358402329132213426509813701856788239779066467002656697865120784152745280926406100785136622139073071347661264533967482207610701582094455909773052817855896', '1': '957990962709241918072818453317784156116824901680177986179567129466257910966189913354744618451779171923358345816178598000357164284071286411267621062040732637325458338873514667478824588219259501645955794369857601226364355089072170931826818959290551599502604280156028612567229844535429352158021172831288555886865223113148454641995788564897857841304532310887587675545280406872310980539076267316263986197445569144395622930502798638060115781843278888418729903406831000999124954888676116294610853072251048903619848563653722860302982579305324266843276409575906783798857701333733680867071493397353424297285671078090915117805005359082227638082047728069261532027726696124017588791420964473545596830952539913670350462206251333603', '0': '749121369033075002430300754118348539387037355646566026893253297702981153482823984848254215115039592758413892963273656545314661219416806624424461968185136255304016665039566501331477586883874149587250722756512429441212543109017010276774011437160859106154506057941545363881359550512545128575727642811832464977281443055796131652359861817611694716597964738143276096767334080076807362551061366725145113885973348950431580824869825821086537988346376330495371404412699181031530779194296869929017244581216968327765252368240729611732498652269517274269151818657063538877608719558155673540046277342947294981262933790833815766959890946001940203082179180956181955094216405358807552574384401075870421070335427576107316591612051898904', 'DELTA': '1182317961542932500808908554578345359737656274956721923346398332065162943210675233692477583908173050250525058471751332484425462386079981346456082366139263262429879620360772062507360388401869602235240079484601199799103129254086230505786673771186247685905286936873222321025000934661789978520465113319194701627476429497291920700198933031004452418535685405286637213376951626563492138664365260607797683243864190991472865963805540323302097878673483064820752010803812628583333462160315571357279159908306089457622953564796053506610918040664460343396662834004281218136689326654916136611279884229500393430396473876655805527232994084545480353090745118935248840853916166856958415006400843368771987751643747644744420193238280940400', '2': '194518869687497176034022107751685464204475339149945914392686329665438997833934513739253465287980363109085629898034074198962816679853188152568583022546418917022088414140974297471353436388221176480669493815159282657897272013088011973151028513650357899081661295944649440734038632060239026972519863549704797087652908606023597416662610870468326883365256273772236342682933275064361205153568914458998707784282795125620720734318276108045882161196311952034916081104265161371837434767931283484183292696355624124591649571631496686796062069679116985454288691535526284125632951678710903822981542711092345375668898282753795584296889137316991263291104208478481566341278368160377426164149486673282581199594907520885806912215262409683'}, 'mj': '9073170359998526313535153679530811867089188009577625344244573570845303068267153999440828205505687036275243527231297790781394997960215385127165171765705414890947620328475988212585', 'alpha': '45469712267273624075199181551275005000193204315043747422015584077486416151056348548911782631826036222679809602382748500014481603469211889596728429849750778766572381270572851796099858428451609870662280872912360277805388217069876882434726195071574410677720242064812163129336604437050976599767323369992304437660963343195342968686019974248554212141740547215832718397263170393495227241690948197127905988114778928639227925352652610537393936269154231505280065986791784506881384624619921572235911268012400117509368633143841312974004847029552487358880762607591475952900193027498714038460059951544174785893288237273269055606497242307768938110402676879684979607034573339581047057391796030009777980474584143440437806845365310456457619277611453349132676470465607248844177415039078556249453114073585986352179133364017154958468608771639311284905040089132', 't': {'2': '98672733268306192298732428795425033139531529311788576227255864214056643142814188052990811496257754020577444233814318338332406365538172595884893238589841822696804180156045465410159503104499673757448473792028840771609464395585852010276394873895841789016506280504332137701849143666433088683312780700326481640698306173136204712059994027977824638899399175538304139242390033734170403658903904458875357017674499357950554849757531901201039940306703676445016143352795879005220189487383504281379538592999093185394497755377184441679084909562297338469909106967760493107232756462559775314154272115930801358177026512120283630628561', '3': '70991781804550662455072831561700850787104565344561560274505591019412220832233360484628074069912840418467635643105403000102136129405030363885962588701534593356860387335790241848487768450065897009418207940915777538449433017184730179196084271324259378960179618229927231434020659557538330852801607797572963363163432923124570136341680964862622052340152565414761968759708635900143935713302215436267430589882624603878761307355741958379758446530555471323058699466920494475492737198112309337708383971295062361068196383379833829992304837362101906111655410722241555815034851301692285089659458489456931839610612428064903114203121', '1': '36440043078295444249418151542594088528022253523238280186922275984860051501228553561120670026744519521235251071613926786749481928265796092669648236429872084904513006966778394521519038212618148116876365109659125559873440614457570659984022805016732237534221157746155947298604631092399056586210343017802675046676567077209643582466921343746934831777499375858770370024242505462142615090934225443004670110195984652221125932213600623846467363963847949806840918439713965561816235641433663596826214492956396065311054883715956078414983696217043133352800706590927745101030967249949846839043261068559738210796088971808048331578305', '0': '27167997850553018695392758122025039798971645015372325985843077042635523982464815357732543989189143743261040288559455560518807857677470306655435159106786097466196801554891166248816030720616585226932465673400755752529695124354696531680443214288548759390067857472121611586969413291194838778614459736017570732562458840123140100524351970136966716831480337688896972375284433741470674899109144258448636038740330230221883573498272531196685357414677746081809982396814738104523934988045187695296268861493508070366778401531605395670069160729070057111912909846340072301377618567202476226178388388792755456269904923730901960600560', 'DELTA': '18969700763935705326555517181629527623437790673717898349841712387392624532687631649207585284375687599357659645343257521406004882312664484908005247497581895867969191618291038222413148831828990342171312593186416961929962883774730034354066882228967816291909272860102825571645107819986337612435374118625611613315399276418340557255637141165975407469531827892510063133562045686083112333758849593666986705724497842558348507229683618220492266516508643213233082331242195961327810723341322446236377842282407957961419017373258139113446982123570748373631598961358850972067163619814951532723947034704882878902914121048951381111634'}, 'predicate': {'attr_name': 'age', 'p_type': 'GE', 'value': 21}}]}, 'non_revoc_proof': None}], 'aggregated_proof': {'c_hash': '40442897182597285496930717089804586712412205649446224254751357265914992327532', 'c_list': [[2, 79, 29, 69, 182, 220, 27, 164, 156, 34, 14, 251, 185, 210, 115, 146, 240, 245, 81, 24, 218, 233, 91, 191, 121, 55, 208, 6, 191, 106, 243, 242, 220, 75, 119, 197, 62, 17, 227, 59, 150, 36, 90, 125, 182, 223, 198, 11, 98, 133, 0, 58, 122, 190, 229, 174, 99, 91, 215, 143, 14, 156, 77, 41, 236, 129, 120, 127, 48, 243, 105, 236, 102, 142, 251, 25, 76, 203, 32, 46, 123, 4, 165, 208, 1, 105, 251, 22, 219, 123, 179, 59, 56, 89, 222, 32, 173, 203, 249, 138, 95, 139, 142, 146, 215, 44, 250, 26, 230, 140, 187, 234, 2, 70, 222, 165, 7, 6, 72, 92, 35, 65, 134, 132, 242, 252, 221, 243, 42, 190, 69, 252, 135, 244, 36, 247, 156, 215, 76, 117, 26, 112, 140, 112, 187, 151, 193, 112, 89, 33, 10, 183, 0, 25, 158, 13, 126, 99, 251, 19, 79, 14, 187, 144, 214, 158, 66, 47, 179, 60, 77, 200, 115, 59, 221, 245, 23, 93, 104, 174, 192, 32, 37, 124, 68, 227, 218, 107, 162, 54, 223, 73, 243, 220, 73, 6, 136, 12, 64, 230, 199, 93, 124, 126, 51, 131, 237, 19, 220, 43, 194, 11, 137, 174, 19, 152, 219, 137, 33, 86, 12, 114, 164, 7, 211, 39, 75, 89, 140, 45, 203, 243, 113, 26, 210, 56, 165, 174, 214, 119, 154, 7, 22, 42, 253, 89, 207, 136, 229, 61, 42, 116, 80, 57, 254, 35, 6], [215, 54, 69, 130, 48, 18, 236, 233, 107, 198, 67, 85, 242, 181, 116, 34, 113, 248, 35, 83, 51, 133, 179, 205, 211, 202, 247, 154, 152, 205, 137, 14, 64, 246, 57, 136, 235, 238, 132, 202, 200, 84, 90, 214, 186, 92, 48, 175, 111, 204, 116, 169, 87, 65, 11, 22, 20, 211, 44, 179, 76, 50, 59, 72, 193, 62, 196, 86, 1, 15, 218, 161, 182, 229, 52, 1, 91, 104, 183, 106, 153, 97, 254, 223, 1, 58, 1, 13, 153, 208, 146, 86, 168, 136, 205, 119, 150, 121, 205, 78, 85, 220, 223, 192, 175, 46, 6, 167, 106, 170, 111, 114, 38, 25, 98, 254, 3, 99, 5, 98, 196, 55, 149, 115, 227, 55, 238, 152, 141, 211, 110, 153, 32, 246, 82, 24, 153, 15, 196, 116, 139, 212, 10, 104, 133, 200, 11, 102, 121, 52, 39, 209, 38, 159, 109, 55, 182, 170, 238, 152, 58, 145, 250, 145, 83, 18, 218, 48, 30, 102, 5, 82, 9, 175, 234, 61, 238, 127, 223, 222, 102, 121, 229, 144, 122, 114, 35, 129, 232, 68, 65, 9, 202, 101, 175, 254, 106, 250, 178, 124, 253, 39, 60, 42, 219, 25, 100, 90, 157, 168, 155, 44, 120, 99, 234, 43, 43, 37, 87, 55, 162, 191, 247, 4, 239, 70, 15, 51, 116, 165, 104, 173, 30, 85, 225, 99, 171, 116, 70, 254, 76, 122, 223, 129, 119, 133, 243, 20, 162, 201, 199, 179, 126, 169, 171, 240], [1, 32, 169, 38, 138, 218, 219, 230, 226, 16, 187, 128, 35, 114, 211, 210, 233, 30, 112, 48, 97, 15, 84, 104, 77, 24, 165, 197, 127, 23, 54, 159, 94, 36, 180, 194, 252, 64, 213, 195, 17, 107, 77, 224, 194, 201, 209, 165, 192, 189, 115, 74, 145, 213, 152, 69, 59, 249, 73, 213, 91, 147, 21, 89, 79, 84, 140, 248, 82, 252, 150, 253, 88, 229, 121, 215, 124, 85, 155, 249, 200, 103, 190, 174, 31, 187, 50, 162, 192, 71, 92, 102, 175, 91, 40, 190, 242, 76, 39, 13, 156, 170, 244, 123, 38, 27, 153, 72, 79, 35, 67, 87, 40, 20, 175, 229, 63, 49, 176, 49, 125, 22, 159, 137, 64, 203, 28, 207, 128, 123, 94, 237, 9, 32, 58, 107, 214, 83, 12, 218, 125, 63, 162, 79, 181, 228, 105, 208, 149, 144, 163, 95, 137, 174, 151, 19, 45, 35, 151, 149, 246, 173, 195, 199, 15, 173, 105, 65, 17, 10, 228, 94, 206, 171, 136, 46, 126, 11, 48, 240, 246, 135, 58, 40, 190, 209, 14, 19, 153, 193, 131, 252, 58, 60, 255, 41, 93, 119, 192, 167, 37, 31, 41, 85, 80, 82, 235, 83, 32, 133, 99, 223, 253, 24, 4, 157, 108, 70, 203, 42, 223, 178, 224, 153, 107, 83, 129, 175, 99, 115, 145, 227, 248, 117, 77, 20, 181, 176, 28, 120, 253, 183, 16, 165, 15, 69, 156, 172, 19, 25, 59, 217, 195, 204, 139, 91, 193], [3, 13, 163, 123, 248, 1, 220, 102, 1, 249, 176, 139, 223, 201, 132, 90, 134, 192, 153, 196, 79, 122, 1, 227, 213, 247, 57, 109, 159, 253, 233, 8, 107, 77, 30, 26, 34, 113, 245, 70, 16, 229, 227, 30, 201, 110, 65, 158, 223, 49, 132, 48, 142, 220, 18, 217, 79, 171, 102, 140, 75, 254, 208, 35, 233, 101, 180, 91, 93, 107, 114, 155, 41, 216, 110, 184, 135, 19, 166, 190, 211, 150, 5, 41, 62, 124, 119, 238, 55, 32, 176, 0, 17, 198, 70, 243, 111, 95, 54, 201, 226, 237, 244, 63, 12, 188, 213, 44, 98, 200, 104, 1, 155, 172, 155, 201, 165, 214, 194, 167, 128, 114, 138, 165, 76, 55, 145, 202, 169, 222, 77, 23, 75, 127, 227, 146, 114, 123, 220, 24, 49, 161, 90, 18, 249, 22, 234, 243, 118, 192, 78, 114, 16, 177, 89, 100, 108, 188, 143, 222, 240, 94, 243, 128, 137, 8, 141, 148, 194, 27, 198, 230, 162, 46, 42, 208, 203, 79, 175, 97, 213, 228, 193, 169, 98, 207, 126, 242, 198, 12, 89, 108, 2, 228, 252, 193, 120, 53, 94, 216, 14, 43, 33, 167, 161, 16, 30, 53, 73, 86, 70, 41, 193, 134, 69, 118, 63, 1, 83, 126, 196, 203, 59, 68, 101, 110, 180, 84, 243, 170, 70, 65, 168, 36, 235, 63, 85, 12, 176, 100, 143, 4, 113, 157, 137, 202, 55, 182, 178, 33, 153, 54, 24, 190, 219, 110, 209], [2, 50, 92, 253, 24, 86, 154, 38, 243, 200, 19, 57, 49, 41, 78, 57, 94, 203, 192, 215, 28, 150, 33, 48, 127, 246, 226, 132, 226, 87, 208, 194, 24, 6, 116, 191, 45, 174, 7, 154, 32, 119, 138, 123, 160, 194, 33, 22, 163, 82, 120, 204, 230, 45, 165, 166, 181, 129, 120, 94, 112, 58, 167, 232, 52, 32, 136, 254, 139, 13, 36, 53, 103, 106, 106, 19, 15, 184, 128, 126, 145, 66, 47, 121, 249, 25, 41, 47, 244, 119, 174, 191, 142, 150, 215, 39, 235, 248, 170, 53, 107, 21, 9, 4, 176, 31, 184, 181, 205, 239, 23, 208, 58, 213, 156, 92, 151, 34, 245, 158, 159, 99, 85, 54, 107, 167, 35, 36, 193, 150, 210, 180, 99, 144, 133, 176, 200, 213, 160, 217, 171, 236, 62, 140, 249, 226, 11, 156, 122, 71, 153, 82, 208, 175, 139, 36, 219, 72, 147, 163, 19, 37, 95, 58, 158, 106, 101, 65, 65, 32, 204, 84, 86, 9, 155, 217, 70, 228, 131, 75, 44, 90, 174, 8, 4, 211, 54, 144, 88, 52, 189, 215, 162, 189, 214, 85, 33, 63, 161, 133, 187, 2, 226, 155, 188, 170, 176, 230, 114, 106, 56, 120, 211, 103, 1, 116, 49, 148, 215, 243, 133, 184, 45, 2, 99, 144, 164, 113, 201, 59, 80, 77, 40, 163, 95, 43, 217, 150, 216, 177, 116, 153, 124, 127, 7, 177, 112, 245, 119, 125, 8, 239, 129, 238, 63, 31, 241], [150, 68, 219, 149, 26, 78, 112, 188, 236, 64, 129, 156, 186, 66, 163, 51, 225, 86, 76, 152, 25, 95, 198, 140, 191, 228, 236, 171, 12, 175, 106, 216, 82, 32, 199, 218, 94, 79, 110, 185, 153, 252, 8, 160, 75, 189, 187, 4, 169, 186, 37, 211, 195, 18, 32, 211, 24, 208, 193, 114, 111, 155, 19, 115, 230, 3, 242, 157, 106, 28, 118, 230, 63, 187, 41, 35, 142, 89, 78, 180, 149, 128, 3, 152, 7, 157, 91, 42, 15, 145, 248, 197, 26, 173, 230, 124, 192, 70, 246, 124, 241, 194, 139, 161, 107, 252, 58, 4, 48, 37, 101, 52, 162, 236, 14, 216, 98, 20, 4, 165, 148, 181, 190, 185, 203, 241, 5, 243, 56, 54, 157, 16, 136, 23, 186, 76, 115, 188, 91, 201, 127, 40, 139, 79, 116, 9, 40, 81, 186, 84, 107, 248, 232, 2, 117, 106, 69, 34, 136, 47, 50, 137, 210, 253, 80, 117, 13, 9, 36, 215, 47, 124, 99, 212, 47, 71, 120, 29, 44, 217, 28, 215, 159, 124, 102, 254, 217, 90, 21, 214, 160, 182, 222, 177, 204, 203, 125, 214, 244, 169, 99, 34, 83, 131, 212, 154, 58, 31, 165, 172, 187, 161, 204, 22, 160, 60, 22, 216, 233, 58, 71, 236, 68, 106, 88, 14, 199, 163, 144, 212, 8, 141, 250, 81, 99, 183, 165, 209, 31, 252, 211, 114, 98, 172, 147, 159, 236, 150, 185, 50, 138, 4, 204, 73, 51, 82]]}}, 'requested_proof': {'revealed_attrs': {'0_fullname_uuid': {'sub_proof_index': 0, 'raw': 'Lohan Spies', 'encoded': '65692680133235931683304645877785134421502393178184295996723213988805392923415'}, '0_skill_uuid': {'sub_proof_index': 0, 'raw': 'PyDentity SSI Ninja', 'encoded': '38813097173523343342121686954087857232940954656654688676222283577873518606251'}}, 'self_attested_attrs': {}, 'unrevealed_attrs': {}, 'predicates': {'0_age_GE_uuid': {'sub_proof_index': 0}}}, 'identifiers': [{'schema_id': 'EuEtnVakYFyBtGFT1nHYtH:2:SSI PyDentity Tutorial:0.0.1', 'cred_def_id': 'EuEtnVakYFyBtGFT1nHYtH:3:CL:142409:default', 'rev_reg_id': None, 'timestamp': None}]}, 'thread_id': '8da2d690-5b2c-491e-a4b4-d1fa25617fa8', 'auto_present': False, 'updated_at': '2020-09-16 16:25:50.007790Z', 'created_at': '2020-09-16 16:25:03.140123Z', 'state': 'presentation_received'}\n"
     ]
    }
   ],
   "source": [
    "response = await agent_controller.proofs.send_request(proof_request_web_request)\n",
    "print(response)\n",
    "presentation_exchange_id = response['presentation_exchange_id']\n",
    "print(\"\\n\")\n",
    "print(presentation_exchange_id)\n"
   ]
  },
  {
   "cell_type": "markdown",
   "metadata": {},
   "source": [
    "## 6. Verify Proof Presentation\n",
    "\n",
    "This is checking the signatures on the credentials presented against the credential schema and definition id stored and resolvable on the ledger. It is a bit of a big complicated object, so we show the common pattern for breaking it down, checking it's verified and accessing the data that has been presented."
   ]
  },
  {
   "cell_type": "code",
   "execution_count": 11,
   "metadata": {
    "pycharm": {
     "name": "#%%\n"
    }
   },
   "outputs": [
    {
     "name": "stdout",
     "output_type": "stream",
     "text": [
      "Handle present proof\n",
      "{'trace': False, 'presentation_request': {'name': 'Proof of Completion of PyDentity SSI Tutorial', 'version': '1.0', 'requested_attributes': {'0_fullname_uuid': {'name': 'fullname', 'restrictions': [{'schema_id': 'EuEtnVakYFyBtGFT1nHYtH:2:SSI PyDentity Tutorial:0.0.1'}]}, '0_skill_uuid': {'name': 'skill', 'restrictions': [{'schema_id': 'EuEtnVakYFyBtGFT1nHYtH:2:SSI PyDentity Tutorial:0.0.1'}]}, '0_country_uuid': {'name': 'country'}}, 'requested_predicates': {'0_age_GE_uuid': {'name': 'age', 'p_type': '>=', 'p_value': 21, 'restrictions': [{'schema_id': 'EuEtnVakYFyBtGFT1nHYtH:2:SSI PyDentity Tutorial:0.0.1'}]}}, 'nonce': '997388198087810378958653'}, 'presentation_request_dict': {'@type': 'did:sov:BzCbsNYhMrjHiqZDTUASHg;spec/present-proof/1.0/request-presentation', '@id': '8da2d690-5b2c-491e-a4b4-d1fa25617fa8', 'request_presentations~attach': [{'@id': 'libindy-request-presentation-0', 'mime-type': 'application/json', 'data': {'base64': 'eyJuYW1lIjogIlByb29mIG9mIENvbXBsZXRpb24gb2YgUHlEZW50aXR5IFNTSSBUdXRvcmlhbCIsICJ2ZXJzaW9uIjogIjEuMCIsICJyZXF1ZXN0ZWRfYXR0cmlidXRlcyI6IHsiMF9mdWxsbmFtZV91dWlkIjogeyJuYW1lIjogImZ1bGxuYW1lIiwgInJlc3RyaWN0aW9ucyI6IFt7InNjaGVtYV9pZCI6ICJFdUV0blZha1lGeUJ0R0ZUMW5IWXRIOjI6U1NJIFB5RGVudGl0eSBUdXRvcmlhbDowLjAuMSJ9XX0sICIwX3NraWxsX3V1aWQiOiB7Im5hbWUiOiAic2tpbGwiLCAicmVzdHJpY3Rpb25zIjogW3sic2NoZW1hX2lkIjogIkV1RXRuVmFrWUZ5QnRHRlQxbkhZdEg6MjpTU0kgUHlEZW50aXR5IFR1dG9yaWFsOjAuMC4xIn1dfSwgIjBfY291bnRyeV91dWlkIjogeyJuYW1lIjogImNvdW50cnkifX0sICJyZXF1ZXN0ZWRfcHJlZGljYXRlcyI6IHsiMF9hZ2VfR0VfdXVpZCI6IHsibmFtZSI6ICJhZ2UiLCAicF90eXBlIjogIj49IiwgInBfdmFsdWUiOiAyMSwgInJlc3RyaWN0aW9ucyI6IFt7InNjaGVtYV9pZCI6ICJFdUV0blZha1lGeUJ0R0ZUMW5IWXRIOjI6U1NJIFB5RGVudGl0eSBUdXRvcmlhbDowLjAuMSJ9XX19LCAibm9uY2UiOiAiOTk3Mzg4MTk4MDg3ODEwMzc4OTU4NjUzIn0='}}]}, 'initiator': 'self', 'role': 'verifier', 'connection_id': '9833e3bc-d419-4a84-a5f2-130af083eedb', 'presentation_exchange_id': '4c511af8-3ed3-4597-a8a6-f93fc727e869', 'presentation': {'proof': {'proofs': [{'primary_proof': {'eq_proof': {'revealed_attrs': {'fullname': '65692680133235931683304645877785134421502393178184295996723213988805392923415', 'skill': '38813097173523343342121686954087857232940954656654688676222283577873518606251'}, 'a_prime': '74621272954646413851033389675128816991437135463373688157493720142840661625639175765229445602777939248926175520403240817965993664710949256154838143984933160930336604623933696788113527071450081301865405220477258775258630592838164317142151866736108911429798118176125908675205321272425774362737940412693992216408486372220968174230270726200990153048390134704751516038649844398147333365343968432295978121420578640935464117679267643085790573563620669308863409721757879148386420669934253351601589056937340994200271071467526294123989460237699314768290971196513223921615202446609673959294502479769982682030011639055909946008326', 'e': '123970330644049869652032615636137920328751242417973550097360344664744229150924711920448300165121687628959373986612486200438032843010807764', 'v': '1027765092516698514709446240364845401171961311162662126575128901436720650241459133511609518556721329904347854372242805521798373350321572602964793610556215157416116302994919071545305198926605040932986969343875343258981412610942349465838243979078645258701713887103517768301263767141797577758214980480906030651362222436826006961990452284531434549210444823774558947097088328462638571600314104833009160767230032097085888232515293063536218112261800648217410161210764292773432910659522681986972021740161794813278571966544603857404441796942334324120817164812171634700153403460564917843233315152868380204861741371833654727972734053360555687770330700751613754626973533067878338541542863477316789357579209934976964010496492848208272300818596844743066606885297471147595815089809242230459293877765730235861885337571190948674647161242350797055278261733446971201624108006000840894725781493894350792629951465933825749346972487680505514716', 'm': {'age': '9073170359998526313535153679530811867089188009577625344244573570845303068267153999440828205505687036275243527231297790781394997960215385127165171765705414890947620328475988212585', 'master_secret': '12943539498580062776723720054305057900973051437992449017962888988568369406100709642648209648009275286050729533599045718911403315124759853416552953509517579176618362241863197895754'}, 'm2': '5276440384230524991927823929463737168300400772583081337687079384946747430687361300781713468451492929790397359866341005722100315396594443910412953108678090303491146351981986547713'}, 'ge_proofs': [{'u': {'1': '11360668752539389659882042974267852679507002624764081715625477819053872413974160691882305153065311215857533692034763711771971012272890666467665164496036051420073861336325593156661', '2': '10203705076699223971530097427200720579112622895459937154086049145927237542337240257967039842033806203231279817402500859343059334744252593447888003921534569949410296899814812428516', '3': '4039498930506375042721063126043466608650390299903348738591230607476412119136707608319632885416091158498691422140403201133723620429879217896890716451573475362025893346113751651565', '0': '12114053027725687233093147957805432473900424622998985744448922352676537584462894524728565447359934270320155763531024773765514568286217423218076073177729568485526941647631333206179'}, 'r': {'3': '1183996112243046595118266659987684936600961678605011403267548277734316730919617854093890129222159182495538983125594913124927148838876037462355332107912582193758787718887250170665185347460954775665885785399865357038478964387219118294366341533900462487877949084677413139501218272218982462955865004485775288918797337427101177512222273652191578869054847018310502486861063980229149481316262523225269280359261937928006802470717448245759983801041623370037796017380501766317319625615521209597833681750405119266278860161286827729762609853883387477862360857476355095707742418358402329132213426509813701856788239779066467002656697865120784152745280926406100785136622139073071347661264533967482207610701582094455909773052817855896', '1': '957990962709241918072818453317784156116824901680177986179567129466257910966189913354744618451779171923358345816178598000357164284071286411267621062040732637325458338873514667478824588219259501645955794369857601226364355089072170931826818959290551599502604280156028612567229844535429352158021172831288555886865223113148454641995788564897857841304532310887587675545280406872310980539076267316263986197445569144395622930502798638060115781843278888418729903406831000999124954888676116294610853072251048903619848563653722860302982579305324266843276409575906783798857701333733680867071493397353424297285671078090915117805005359082227638082047728069261532027726696124017588791420964473545596830952539913670350462206251333603', '0': '749121369033075002430300754118348539387037355646566026893253297702981153482823984848254215115039592758413892963273656545314661219416806624424461968185136255304016665039566501331477586883874149587250722756512429441212543109017010276774011437160859106154506057941545363881359550512545128575727642811832464977281443055796131652359861817611694716597964738143276096767334080076807362551061366725145113885973348950431580824869825821086537988346376330495371404412699181031530779194296869929017244581216968327765252368240729611732498652269517274269151818657063538877608719558155673540046277342947294981262933790833815766959890946001940203082179180956181955094216405358807552574384401075870421070335427576107316591612051898904', 'DELTA': '1182317961542932500808908554578345359737656274956721923346398332065162943210675233692477583908173050250525058471751332484425462386079981346456082366139263262429879620360772062507360388401869602235240079484601199799103129254086230505786673771186247685905286936873222321025000934661789978520465113319194701627476429497291920700198933031004452418535685405286637213376951626563492138664365260607797683243864190991472865963805540323302097878673483064820752010803812628583333462160315571357279159908306089457622953564796053506610918040664460343396662834004281218136689326654916136611279884229500393430396473876655805527232994084545480353090745118935248840853916166856958415006400843368771987751643747644744420193238280940400', '2': '194518869687497176034022107751685464204475339149945914392686329665438997833934513739253465287980363109085629898034074198962816679853188152568583022546418917022088414140974297471353436388221176480669493815159282657897272013088011973151028513650357899081661295944649440734038632060239026972519863549704797087652908606023597416662610870468326883365256273772236342682933275064361205153568914458998707784282795125620720734318276108045882161196311952034916081104265161371837434767931283484183292696355624124591649571631496686796062069679116985454288691535526284125632951678710903822981542711092345375668898282753795584296889137316991263291104208478481566341278368160377426164149486673282581199594907520885806912215262409683'}, 'mj': '9073170359998526313535153679530811867089188009577625344244573570845303068267153999440828205505687036275243527231297790781394997960215385127165171765705414890947620328475988212585', 'alpha': '45469712267273624075199181551275005000193204315043747422015584077486416151056348548911782631826036222679809602382748500014481603469211889596728429849750778766572381270572851796099858428451609870662280872912360277805388217069876882434726195071574410677720242064812163129336604437050976599767323369992304437660963343195342968686019974248554212141740547215832718397263170393495227241690948197127905988114778928639227925352652610537393936269154231505280065986791784506881384624619921572235911268012400117509368633143841312974004847029552487358880762607591475952900193027498714038460059951544174785893288237273269055606497242307768938110402676879684979607034573339581047057391796030009777980474584143440437806845365310456457619277611453349132676470465607248844177415039078556249453114073585986352179133364017154958468608771639311284905040089132', 't': {'2': '98672733268306192298732428795425033139531529311788576227255864214056643142814188052990811496257754020577444233814318338332406365538172595884893238589841822696804180156045465410159503104499673757448473792028840771609464395585852010276394873895841789016506280504332137701849143666433088683312780700326481640698306173136204712059994027977824638899399175538304139242390033734170403658903904458875357017674499357950554849757531901201039940306703676445016143352795879005220189487383504281379538592999093185394497755377184441679084909562297338469909106967760493107232756462559775314154272115930801358177026512120283630628561', '3': '70991781804550662455072831561700850787104565344561560274505591019412220832233360484628074069912840418467635643105403000102136129405030363885962588701534593356860387335790241848487768450065897009418207940915777538449433017184730179196084271324259378960179618229927231434020659557538330852801607797572963363163432923124570136341680964862622052340152565414761968759708635900143935713302215436267430589882624603878761307355741958379758446530555471323058699466920494475492737198112309337708383971295062361068196383379833829992304837362101906111655410722241555815034851301692285089659458489456931839610612428064903114203121', '1': '36440043078295444249418151542594088528022253523238280186922275984860051501228553561120670026744519521235251071613926786749481928265796092669648236429872084904513006966778394521519038212618148116876365109659125559873440614457570659984022805016732237534221157746155947298604631092399056586210343017802675046676567077209643582466921343746934831777499375858770370024242505462142615090934225443004670110195984652221125932213600623846467363963847949806840918439713965561816235641433663596826214492956396065311054883715956078414983696217043133352800706590927745101030967249949846839043261068559738210796088971808048331578305', '0': '27167997850553018695392758122025039798971645015372325985843077042635523982464815357732543989189143743261040288559455560518807857677470306655435159106786097466196801554891166248816030720616585226932465673400755752529695124354696531680443214288548759390067857472121611586969413291194838778614459736017570732562458840123140100524351970136966716831480337688896972375284433741470674899109144258448636038740330230221883573498272531196685357414677746081809982396814738104523934988045187695296268861493508070366778401531605395670069160729070057111912909846340072301377618567202476226178388388792755456269904923730901960600560', 'DELTA': '18969700763935705326555517181629527623437790673717898349841712387392624532687631649207585284375687599357659645343257521406004882312664484908005247497581895867969191618291038222413148831828990342171312593186416961929962883774730034354066882228967816291909272860102825571645107819986337612435374118625611613315399276418340557255637141165975407469531827892510063133562045686083112333758849593666986705724497842558348507229683618220492266516508643213233082331242195961327810723341322446236377842282407957961419017373258139113446982123570748373631598961358850972067163619814951532723947034704882878902914121048951381111634'}, 'predicate': {'attr_name': 'age', 'p_type': 'GE', 'value': 21}}]}, 'non_revoc_proof': None}], 'aggregated_proof': {'c_hash': '40442897182597285496930717089804586712412205649446224254751357265914992327532', 'c_list': [[2, 79, 29, 69, 182, 220, 27, 164, 156, 34, 14, 251, 185, 210, 115, 146, 240, 245, 81, 24, 218, 233, 91, 191, 121, 55, 208, 6, 191, 106, 243, 242, 220, 75, 119, 197, 62, 17, 227, 59, 150, 36, 90, 125, 182, 223, 198, 11, 98, 133, 0, 58, 122, 190, 229, 174, 99, 91, 215, 143, 14, 156, 77, 41, 236, 129, 120, 127, 48, 243, 105, 236, 102, 142, 251, 25, 76, 203, 32, 46, 123, 4, 165, 208, 1, 105, 251, 22, 219, 123, 179, 59, 56, 89, 222, 32, 173, 203, 249, 138, 95, 139, 142, 146, 215, 44, 250, 26, 230, 140, 187, 234, 2, 70, 222, 165, 7, 6, 72, 92, 35, 65, 134, 132, 242, 252, 221, 243, 42, 190, 69, 252, 135, 244, 36, 247, 156, 215, 76, 117, 26, 112, 140, 112, 187, 151, 193, 112, 89, 33, 10, 183, 0, 25, 158, 13, 126, 99, 251, 19, 79, 14, 187, 144, 214, 158, 66, 47, 179, 60, 77, 200, 115, 59, 221, 245, 23, 93, 104, 174, 192, 32, 37, 124, 68, 227, 218, 107, 162, 54, 223, 73, 243, 220, 73, 6, 136, 12, 64, 230, 199, 93, 124, 126, 51, 131, 237, 19, 220, 43, 194, 11, 137, 174, 19, 152, 219, 137, 33, 86, 12, 114, 164, 7, 211, 39, 75, 89, 140, 45, 203, 243, 113, 26, 210, 56, 165, 174, 214, 119, 154, 7, 22, 42, 253, 89, 207, 136, 229, 61, 42, 116, 80, 57, 254, 35, 6], [215, 54, 69, 130, 48, 18, 236, 233, 107, 198, 67, 85, 242, 181, 116, 34, 113, 248, 35, 83, 51, 133, 179, 205, 211, 202, 247, 154, 152, 205, 137, 14, 64, 246, 57, 136, 235, 238, 132, 202, 200, 84, 90, 214, 186, 92, 48, 175, 111, 204, 116, 169, 87, 65, 11, 22, 20, 211, 44, 179, 76, 50, 59, 72, 193, 62, 196, 86, 1, 15, 218, 161, 182, 229, 52, 1, 91, 104, 183, 106, 153, 97, 254, 223, 1, 58, 1, 13, 153, 208, 146, 86, 168, 136, 205, 119, 150, 121, 205, 78, 85, 220, 223, 192, 175, 46, 6, 167, 106, 170, 111, 114, 38, 25, 98, 254, 3, 99, 5, 98, 196, 55, 149, 115, 227, 55, 238, 152, 141, 211, 110, 153, 32, 246, 82, 24, 153, 15, 196, 116, 139, 212, 10, 104, 133, 200, 11, 102, 121, 52, 39, 209, 38, 159, 109, 55, 182, 170, 238, 152, 58, 145, 250, 145, 83, 18, 218, 48, 30, 102, 5, 82, 9, 175, 234, 61, 238, 127, 223, 222, 102, 121, 229, 144, 122, 114, 35, 129, 232, 68, 65, 9, 202, 101, 175, 254, 106, 250, 178, 124, 253, 39, 60, 42, 219, 25, 100, 90, 157, 168, 155, 44, 120, 99, 234, 43, 43, 37, 87, 55, 162, 191, 247, 4, 239, 70, 15, 51, 116, 165, 104, 173, 30, 85, 225, 99, 171, 116, 70, 254, 76, 122, 223, 129, 119, 133, 243, 20, 162, 201, 199, 179, 126, 169, 171, 240], [1, 32, 169, 38, 138, 218, 219, 230, 226, 16, 187, 128, 35, 114, 211, 210, 233, 30, 112, 48, 97, 15, 84, 104, 77, 24, 165, 197, 127, 23, 54, 159, 94, 36, 180, 194, 252, 64, 213, 195, 17, 107, 77, 224, 194, 201, 209, 165, 192, 189, 115, 74, 145, 213, 152, 69, 59, 249, 73, 213, 91, 147, 21, 89, 79, 84, 140, 248, 82, 252, 150, 253, 88, 229, 121, 215, 124, 85, 155, 249, 200, 103, 190, 174, 31, 187, 50, 162, 192, 71, 92, 102, 175, 91, 40, 190, 242, 76, 39, 13, 156, 170, 244, 123, 38, 27, 153, 72, 79, 35, 67, 87, 40, 20, 175, 229, 63, 49, 176, 49, 125, 22, 159, 137, 64, 203, 28, 207, 128, 123, 94, 237, 9, 32, 58, 107, 214, 83, 12, 218, 125, 63, 162, 79, 181, 228, 105, 208, 149, 144, 163, 95, 137, 174, 151, 19, 45, 35, 151, 149, 246, 173, 195, 199, 15, 173, 105, 65, 17, 10, 228, 94, 206, 171, 136, 46, 126, 11, 48, 240, 246, 135, 58, 40, 190, 209, 14, 19, 153, 193, 131, 252, 58, 60, 255, 41, 93, 119, 192, 167, 37, 31, 41, 85, 80, 82, 235, 83, 32, 133, 99, 223, 253, 24, 4, 157, 108, 70, 203, 42, 223, 178, 224, 153, 107, 83, 129, 175, 99, 115, 145, 227, 248, 117, 77, 20, 181, 176, 28, 120, 253, 183, 16, 165, 15, 69, 156, 172, 19, 25, 59, 217, 195, 204, 139, 91, 193], [3, 13, 163, 123, 248, 1, 220, 102, 1, 249, 176, 139, 223, 201, 132, 90, 134, 192, 153, 196, 79, 122, 1, 227, 213, 247, 57, 109, 159, 253, 233, 8, 107, 77, 30, 26, 34, 113, 245, 70, 16, 229, 227, 30, 201, 110, 65, 158, 223, 49, 132, 48, 142, 220, 18, 217, 79, 171, 102, 140, 75, 254, 208, 35, 233, 101, 180, 91, 93, 107, 114, 155, 41, 216, 110, 184, 135, 19, 166, 190, 211, 150, 5, 41, 62, 124, 119, 238, 55, 32, 176, 0, 17, 198, 70, 243, 111, 95, 54, 201, 226, 237, 244, 63, 12, 188, 213, 44, 98, 200, 104, 1, 155, 172, 155, 201, 165, 214, 194, 167, 128, 114, 138, 165, 76, 55, 145, 202, 169, 222, 77, 23, 75, 127, 227, 146, 114, 123, 220, 24, 49, 161, 90, 18, 249, 22, 234, 243, 118, 192, 78, 114, 16, 177, 89, 100, 108, 188, 143, 222, 240, 94, 243, 128, 137, 8, 141, 148, 194, 27, 198, 230, 162, 46, 42, 208, 203, 79, 175, 97, 213, 228, 193, 169, 98, 207, 126, 242, 198, 12, 89, 108, 2, 228, 252, 193, 120, 53, 94, 216, 14, 43, 33, 167, 161, 16, 30, 53, 73, 86, 70, 41, 193, 134, 69, 118, 63, 1, 83, 126, 196, 203, 59, 68, 101, 110, 180, 84, 243, 170, 70, 65, 168, 36, 235, 63, 85, 12, 176, 100, 143, 4, 113, 157, 137, 202, 55, 182, 178, 33, 153, 54, 24, 190, 219, 110, 209], [2, 50, 92, 253, 24, 86, 154, 38, 243, 200, 19, 57, 49, 41, 78, 57, 94, 203, 192, 215, 28, 150, 33, 48, 127, 246, 226, 132, 226, 87, 208, 194, 24, 6, 116, 191, 45, 174, 7, 154, 32, 119, 138, 123, 160, 194, 33, 22, 163, 82, 120, 204, 230, 45, 165, 166, 181, 129, 120, 94, 112, 58, 167, 232, 52, 32, 136, 254, 139, 13, 36, 53, 103, 106, 106, 19, 15, 184, 128, 126, 145, 66, 47, 121, 249, 25, 41, 47, 244, 119, 174, 191, 142, 150, 215, 39, 235, 248, 170, 53, 107, 21, 9, 4, 176, 31, 184, 181, 205, 239, 23, 208, 58, 213, 156, 92, 151, 34, 245, 158, 159, 99, 85, 54, 107, 167, 35, 36, 193, 150, 210, 180, 99, 144, 133, 176, 200, 213, 160, 217, 171, 236, 62, 140, 249, 226, 11, 156, 122, 71, 153, 82, 208, 175, 139, 36, 219, 72, 147, 163, 19, 37, 95, 58, 158, 106, 101, 65, 65, 32, 204, 84, 86, 9, 155, 217, 70, 228, 131, 75, 44, 90, 174, 8, 4, 211, 54, 144, 88, 52, 189, 215, 162, 189, 214, 85, 33, 63, 161, 133, 187, 2, 226, 155, 188, 170, 176, 230, 114, 106, 56, 120, 211, 103, 1, 116, 49, 148, 215, 243, 133, 184, 45, 2, 99, 144, 164, 113, 201, 59, 80, 77, 40, 163, 95, 43, 217, 150, 216, 177, 116, 153, 124, 127, 7, 177, 112, 245, 119, 125, 8, 239, 129, 238, 63, 31, 241], [150, 68, 219, 149, 26, 78, 112, 188, 236, 64, 129, 156, 186, 66, 163, 51, 225, 86, 76, 152, 25, 95, 198, 140, 191, 228, 236, 171, 12, 175, 106, 216, 82, 32, 199, 218, 94, 79, 110, 185, 153, 252, 8, 160, 75, 189, 187, 4, 169, 186, 37, 211, 195, 18, 32, 211, 24, 208, 193, 114, 111, 155, 19, 115, 230, 3, 242, 157, 106, 28, 118, 230, 63, 187, 41, 35, 142, 89, 78, 180, 149, 128, 3, 152, 7, 157, 91, 42, 15, 145, 248, 197, 26, 173, 230, 124, 192, 70, 246, 124, 241, 194, 139, 161, 107, 252, 58, 4, 48, 37, 101, 52, 162, 236, 14, 216, 98, 20, 4, 165, 148, 181, 190, 185, 203, 241, 5, 243, 56, 54, 157, 16, 136, 23, 186, 76, 115, 188, 91, 201, 127, 40, 139, 79, 116, 9, 40, 81, 186, 84, 107, 248, 232, 2, 117, 106, 69, 34, 136, 47, 50, 137, 210, 253, 80, 117, 13, 9, 36, 215, 47, 124, 99, 212, 47, 71, 120, 29, 44, 217, 28, 215, 159, 124, 102, 254, 217, 90, 21, 214, 160, 182, 222, 177, 204, 203, 125, 214, 244, 169, 99, 34, 83, 131, 212, 154, 58, 31, 165, 172, 187, 161, 204, 22, 160, 60, 22, 216, 233, 58, 71, 236, 68, 106, 88, 14, 199, 163, 144, 212, 8, 141, 250, 81, 99, 183, 165, 209, 31, 252, 211, 114, 98, 172, 147, 159, 236, 150, 185, 50, 138, 4, 204, 73, 51, 82]]}}, 'requested_proof': {'revealed_attrs': {'0_fullname_uuid': {'sub_proof_index': 0, 'raw': 'Lohan Spies', 'encoded': '65692680133235931683304645877785134421502393178184295996723213988805392923415'}, '0_skill_uuid': {'sub_proof_index': 0, 'raw': 'PyDentity SSI Ninja', 'encoded': '38813097173523343342121686954087857232940954656654688676222283577873518606251'}}, 'self_attested_attrs': {}, 'unrevealed_attrs': {}, 'predicates': {'0_age_GE_uuid': {'sub_proof_index': 0}}}, 'identifiers': [{'schema_id': 'EuEtnVakYFyBtGFT1nHYtH:2:SSI PyDentity Tutorial:0.0.1', 'cred_def_id': 'EuEtnVakYFyBtGFT1nHYtH:3:CL:142409:default', 'rev_reg_id': None, 'timestamp': None}]}, 'thread_id': '8da2d690-5b2c-491e-a4b4-d1fa25617fa8', 'auto_present': False, 'updated_at': '2020-09-16 16:26:02.315187Z', 'verified': 'false', 'created_at': '2020-09-16 16:25:03.140123Z', 'state': 'verified'}\n",
      "{'trace': False, 'presentation_request': {'name': 'Proof of Completion of PyDentity SSI Tutorial', 'version': '1.0', 'requested_attributes': {'0_fullname_uuid': {'name': 'fullname', 'restrictions': [{'schema_id': 'EuEtnVakYFyBtGFT1nHYtH:2:SSI PyDentity Tutorial:0.0.1'}]}, '0_skill_uuid': {'name': 'skill', 'restrictions': [{'schema_id': 'EuEtnVakYFyBtGFT1nHYtH:2:SSI PyDentity Tutorial:0.0.1'}]}, '0_country_uuid': {'name': 'country'}}, 'requested_predicates': {'0_age_GE_uuid': {'name': 'age', 'p_type': '>=', 'p_value': 21, 'restrictions': [{'schema_id': 'EuEtnVakYFyBtGFT1nHYtH:2:SSI PyDentity Tutorial:0.0.1'}]}}, 'nonce': '997388198087810378958653'}, 'presentation_request_dict': {'@type': 'did:sov:BzCbsNYhMrjHiqZDTUASHg;spec/present-proof/1.0/request-presentation', '@id': '8da2d690-5b2c-491e-a4b4-d1fa25617fa8', 'request_presentations~attach': [{'@id': 'libindy-request-presentation-0', 'mime-type': 'application/json', 'data': {'base64': 'eyJuYW1lIjogIlByb29mIG9mIENvbXBsZXRpb24gb2YgUHlEZW50aXR5IFNTSSBUdXRvcmlhbCIsICJ2ZXJzaW9uIjogIjEuMCIsICJyZXF1ZXN0ZWRfYXR0cmlidXRlcyI6IHsiMF9mdWxsbmFtZV91dWlkIjogeyJuYW1lIjogImZ1bGxuYW1lIiwgInJlc3RyaWN0aW9ucyI6IFt7InNjaGVtYV9pZCI6ICJFdUV0blZha1lGeUJ0R0ZUMW5IWXRIOjI6U1NJIFB5RGVudGl0eSBUdXRvcmlhbDowLjAuMSJ9XX0sICIwX3NraWxsX3V1aWQiOiB7Im5hbWUiOiAic2tpbGwiLCAicmVzdHJpY3Rpb25zIjogW3sic2NoZW1hX2lkIjogIkV1RXRuVmFrWUZ5QnRHRlQxbkhZdEg6MjpTU0kgUHlEZW50aXR5IFR1dG9yaWFsOjAuMC4xIn1dfSwgIjBfY291bnRyeV91dWlkIjogeyJuYW1lIjogImNvdW50cnkifX0sICJyZXF1ZXN0ZWRfcHJlZGljYXRlcyI6IHsiMF9hZ2VfR0VfdXVpZCI6IHsibmFtZSI6ICJhZ2UiLCAicF90eXBlIjogIj49IiwgInBfdmFsdWUiOiAyMSwgInJlc3RyaWN0aW9ucyI6IFt7InNjaGVtYV9pZCI6ICJFdUV0blZha1lGeUJ0R0ZUMW5IWXRIOjI6U1NJIFB5RGVudGl0eSBUdXRvcmlhbDowLjAuMSJ9XX19LCAibm9uY2UiOiAiOTk3Mzg4MTk4MDg3ODEwMzc4OTU4NjUzIn0='}}]}, 'initiator': 'self', 'role': 'verifier', 'connection_id': '9833e3bc-d419-4a84-a5f2-130af083eedb', 'presentation_exchange_id': '4c511af8-3ed3-4597-a8a6-f93fc727e869', 'presentation': {'proof': {'proofs': [{'primary_proof': {'eq_proof': {'revealed_attrs': {'fullname': '65692680133235931683304645877785134421502393178184295996723213988805392923415', 'skill': '38813097173523343342121686954087857232940954656654688676222283577873518606251'}, 'a_prime': '74621272954646413851033389675128816991437135463373688157493720142840661625639175765229445602777939248926175520403240817965993664710949256154838143984933160930336604623933696788113527071450081301865405220477258775258630592838164317142151866736108911429798118176125908675205321272425774362737940412693992216408486372220968174230270726200990153048390134704751516038649844398147333365343968432295978121420578640935464117679267643085790573563620669308863409721757879148386420669934253351601589056937340994200271071467526294123989460237699314768290971196513223921615202446609673959294502479769982682030011639055909946008326', 'e': '123970330644049869652032615636137920328751242417973550097360344664744229150924711920448300165121687628959373986612486200438032843010807764', 'v': '1027765092516698514709446240364845401171961311162662126575128901436720650241459133511609518556721329904347854372242805521798373350321572602964793610556215157416116302994919071545305198926605040932986969343875343258981412610942349465838243979078645258701713887103517768301263767141797577758214980480906030651362222436826006961990452284531434549210444823774558947097088328462638571600314104833009160767230032097085888232515293063536218112261800648217410161210764292773432910659522681986972021740161794813278571966544603857404441796942334324120817164812171634700153403460564917843233315152868380204861741371833654727972734053360555687770330700751613754626973533067878338541542863477316789357579209934976964010496492848208272300818596844743066606885297471147595815089809242230459293877765730235861885337571190948674647161242350797055278261733446971201624108006000840894725781493894350792629951465933825749346972487680505514716', 'm': {'age': '9073170359998526313535153679530811867089188009577625344244573570845303068267153999440828205505687036275243527231297790781394997960215385127165171765705414890947620328475988212585', 'master_secret': '12943539498580062776723720054305057900973051437992449017962888988568369406100709642648209648009275286050729533599045718911403315124759853416552953509517579176618362241863197895754'}, 'm2': '5276440384230524991927823929463737168300400772583081337687079384946747430687361300781713468451492929790397359866341005722100315396594443910412953108678090303491146351981986547713'}, 'ge_proofs': [{'u': {'1': '11360668752539389659882042974267852679507002624764081715625477819053872413974160691882305153065311215857533692034763711771971012272890666467665164496036051420073861336325593156661', '2': '10203705076699223971530097427200720579112622895459937154086049145927237542337240257967039842033806203231279817402500859343059334744252593447888003921534569949410296899814812428516', '3': '4039498930506375042721063126043466608650390299903348738591230607476412119136707608319632885416091158498691422140403201133723620429879217896890716451573475362025893346113751651565', '0': '12114053027725687233093147957805432473900424622998985744448922352676537584462894524728565447359934270320155763531024773765514568286217423218076073177729568485526941647631333206179'}, 'r': {'3': '1183996112243046595118266659987684936600961678605011403267548277734316730919617854093890129222159182495538983125594913124927148838876037462355332107912582193758787718887250170665185347460954775665885785399865357038478964387219118294366341533900462487877949084677413139501218272218982462955865004485775288918797337427101177512222273652191578869054847018310502486861063980229149481316262523225269280359261937928006802470717448245759983801041623370037796017380501766317319625615521209597833681750405119266278860161286827729762609853883387477862360857476355095707742418358402329132213426509813701856788239779066467002656697865120784152745280926406100785136622139073071347661264533967482207610701582094455909773052817855896', '1': '957990962709241918072818453317784156116824901680177986179567129466257910966189913354744618451779171923358345816178598000357164284071286411267621062040732637325458338873514667478824588219259501645955794369857601226364355089072170931826818959290551599502604280156028612567229844535429352158021172831288555886865223113148454641995788564897857841304532310887587675545280406872310980539076267316263986197445569144395622930502798638060115781843278888418729903406831000999124954888676116294610853072251048903619848563653722860302982579305324266843276409575906783798857701333733680867071493397353424297285671078090915117805005359082227638082047728069261532027726696124017588791420964473545596830952539913670350462206251333603', '0': '749121369033075002430300754118348539387037355646566026893253297702981153482823984848254215115039592758413892963273656545314661219416806624424461968185136255304016665039566501331477586883874149587250722756512429441212543109017010276774011437160859106154506057941545363881359550512545128575727642811832464977281443055796131652359861817611694716597964738143276096767334080076807362551061366725145113885973348950431580824869825821086537988346376330495371404412699181031530779194296869929017244581216968327765252368240729611732498652269517274269151818657063538877608719558155673540046277342947294981262933790833815766959890946001940203082179180956181955094216405358807552574384401075870421070335427576107316591612051898904', 'DELTA': '1182317961542932500808908554578345359737656274956721923346398332065162943210675233692477583908173050250525058471751332484425462386079981346456082366139263262429879620360772062507360388401869602235240079484601199799103129254086230505786673771186247685905286936873222321025000934661789978520465113319194701627476429497291920700198933031004452418535685405286637213376951626563492138664365260607797683243864190991472865963805540323302097878673483064820752010803812628583333462160315571357279159908306089457622953564796053506610918040664460343396662834004281218136689326654916136611279884229500393430396473876655805527232994084545480353090745118935248840853916166856958415006400843368771987751643747644744420193238280940400', '2': '194518869687497176034022107751685464204475339149945914392686329665438997833934513739253465287980363109085629898034074198962816679853188152568583022546418917022088414140974297471353436388221176480669493815159282657897272013088011973151028513650357899081661295944649440734038632060239026972519863549704797087652908606023597416662610870468326883365256273772236342682933275064361205153568914458998707784282795125620720734318276108045882161196311952034916081104265161371837434767931283484183292696355624124591649571631496686796062069679116985454288691535526284125632951678710903822981542711092345375668898282753795584296889137316991263291104208478481566341278368160377426164149486673282581199594907520885806912215262409683'}, 'mj': '9073170359998526313535153679530811867089188009577625344244573570845303068267153999440828205505687036275243527231297790781394997960215385127165171765705414890947620328475988212585', 'alpha': '45469712267273624075199181551275005000193204315043747422015584077486416151056348548911782631826036222679809602382748500014481603469211889596728429849750778766572381270572851796099858428451609870662280872912360277805388217069876882434726195071574410677720242064812163129336604437050976599767323369992304437660963343195342968686019974248554212141740547215832718397263170393495227241690948197127905988114778928639227925352652610537393936269154231505280065986791784506881384624619921572235911268012400117509368633143841312974004847029552487358880762607591475952900193027498714038460059951544174785893288237273269055606497242307768938110402676879684979607034573339581047057391796030009777980474584143440437806845365310456457619277611453349132676470465607248844177415039078556249453114073585986352179133364017154958468608771639311284905040089132', 't': {'2': '98672733268306192298732428795425033139531529311788576227255864214056643142814188052990811496257754020577444233814318338332406365538172595884893238589841822696804180156045465410159503104499673757448473792028840771609464395585852010276394873895841789016506280504332137701849143666433088683312780700326481640698306173136204712059994027977824638899399175538304139242390033734170403658903904458875357017674499357950554849757531901201039940306703676445016143352795879005220189487383504281379538592999093185394497755377184441679084909562297338469909106967760493107232756462559775314154272115930801358177026512120283630628561', '3': '70991781804550662455072831561700850787104565344561560274505591019412220832233360484628074069912840418467635643105403000102136129405030363885962588701534593356860387335790241848487768450065897009418207940915777538449433017184730179196084271324259378960179618229927231434020659557538330852801607797572963363163432923124570136341680964862622052340152565414761968759708635900143935713302215436267430589882624603878761307355741958379758446530555471323058699466920494475492737198112309337708383971295062361068196383379833829992304837362101906111655410722241555815034851301692285089659458489456931839610612428064903114203121', '1': '36440043078295444249418151542594088528022253523238280186922275984860051501228553561120670026744519521235251071613926786749481928265796092669648236429872084904513006966778394521519038212618148116876365109659125559873440614457570659984022805016732237534221157746155947298604631092399056586210343017802675046676567077209643582466921343746934831777499375858770370024242505462142615090934225443004670110195984652221125932213600623846467363963847949806840918439713965561816235641433663596826214492956396065311054883715956078414983696217043133352800706590927745101030967249949846839043261068559738210796088971808048331578305', '0': '27167997850553018695392758122025039798971645015372325985843077042635523982464815357732543989189143743261040288559455560518807857677470306655435159106786097466196801554891166248816030720616585226932465673400755752529695124354696531680443214288548759390067857472121611586969413291194838778614459736017570732562458840123140100524351970136966716831480337688896972375284433741470674899109144258448636038740330230221883573498272531196685357414677746081809982396814738104523934988045187695296268861493508070366778401531605395670069160729070057111912909846340072301377618567202476226178388388792755456269904923730901960600560', 'DELTA': '18969700763935705326555517181629527623437790673717898349841712387392624532687631649207585284375687599357659645343257521406004882312664484908005247497581895867969191618291038222413148831828990342171312593186416961929962883774730034354066882228967816291909272860102825571645107819986337612435374118625611613315399276418340557255637141165975407469531827892510063133562045686083112333758849593666986705724497842558348507229683618220492266516508643213233082331242195961327810723341322446236377842282407957961419017373258139113446982123570748373631598961358850972067163619814951532723947034704882878902914121048951381111634'}, 'predicate': {'attr_name': 'age', 'p_type': 'GE', 'value': 21}}]}, 'non_revoc_proof': None}], 'aggregated_proof': {'c_hash': '40442897182597285496930717089804586712412205649446224254751357265914992327532', 'c_list': [[2, 79, 29, 69, 182, 220, 27, 164, 156, 34, 14, 251, 185, 210, 115, 146, 240, 245, 81, 24, 218, 233, 91, 191, 121, 55, 208, 6, 191, 106, 243, 242, 220, 75, 119, 197, 62, 17, 227, 59, 150, 36, 90, 125, 182, 223, 198, 11, 98, 133, 0, 58, 122, 190, 229, 174, 99, 91, 215, 143, 14, 156, 77, 41, 236, 129, 120, 127, 48, 243, 105, 236, 102, 142, 251, 25, 76, 203, 32, 46, 123, 4, 165, 208, 1, 105, 251, 22, 219, 123, 179, 59, 56, 89, 222, 32, 173, 203, 249, 138, 95, 139, 142, 146, 215, 44, 250, 26, 230, 140, 187, 234, 2, 70, 222, 165, 7, 6, 72, 92, 35, 65, 134, 132, 242, 252, 221, 243, 42, 190, 69, 252, 135, 244, 36, 247, 156, 215, 76, 117, 26, 112, 140, 112, 187, 151, 193, 112, 89, 33, 10, 183, 0, 25, 158, 13, 126, 99, 251, 19, 79, 14, 187, 144, 214, 158, 66, 47, 179, 60, 77, 200, 115, 59, 221, 245, 23, 93, 104, 174, 192, 32, 37, 124, 68, 227, 218, 107, 162, 54, 223, 73, 243, 220, 73, 6, 136, 12, 64, 230, 199, 93, 124, 126, 51, 131, 237, 19, 220, 43, 194, 11, 137, 174, 19, 152, 219, 137, 33, 86, 12, 114, 164, 7, 211, 39, 75, 89, 140, 45, 203, 243, 113, 26, 210, 56, 165, 174, 214, 119, 154, 7, 22, 42, 253, 89, 207, 136, 229, 61, 42, 116, 80, 57, 254, 35, 6], [215, 54, 69, 130, 48, 18, 236, 233, 107, 198, 67, 85, 242, 181, 116, 34, 113, 248, 35, 83, 51, 133, 179, 205, 211, 202, 247, 154, 152, 205, 137, 14, 64, 246, 57, 136, 235, 238, 132, 202, 200, 84, 90, 214, 186, 92, 48, 175, 111, 204, 116, 169, 87, 65, 11, 22, 20, 211, 44, 179, 76, 50, 59, 72, 193, 62, 196, 86, 1, 15, 218, 161, 182, 229, 52, 1, 91, 104, 183, 106, 153, 97, 254, 223, 1, 58, 1, 13, 153, 208, 146, 86, 168, 136, 205, 119, 150, 121, 205, 78, 85, 220, 223, 192, 175, 46, 6, 167, 106, 170, 111, 114, 38, 25, 98, 254, 3, 99, 5, 98, 196, 55, 149, 115, 227, 55, 238, 152, 141, 211, 110, 153, 32, 246, 82, 24, 153, 15, 196, 116, 139, 212, 10, 104, 133, 200, 11, 102, 121, 52, 39, 209, 38, 159, 109, 55, 182, 170, 238, 152, 58, 145, 250, 145, 83, 18, 218, 48, 30, 102, 5, 82, 9, 175, 234, 61, 238, 127, 223, 222, 102, 121, 229, 144, 122, 114, 35, 129, 232, 68, 65, 9, 202, 101, 175, 254, 106, 250, 178, 124, 253, 39, 60, 42, 219, 25, 100, 90, 157, 168, 155, 44, 120, 99, 234, 43, 43, 37, 87, 55, 162, 191, 247, 4, 239, 70, 15, 51, 116, 165, 104, 173, 30, 85, 225, 99, 171, 116, 70, 254, 76, 122, 223, 129, 119, 133, 243, 20, 162, 201, 199, 179, 126, 169, 171, 240], [1, 32, 169, 38, 138, 218, 219, 230, 226, 16, 187, 128, 35, 114, 211, 210, 233, 30, 112, 48, 97, 15, 84, 104, 77, 24, 165, 197, 127, 23, 54, 159, 94, 36, 180, 194, 252, 64, 213, 195, 17, 107, 77, 224, 194, 201, 209, 165, 192, 189, 115, 74, 145, 213, 152, 69, 59, 249, 73, 213, 91, 147, 21, 89, 79, 84, 140, 248, 82, 252, 150, 253, 88, 229, 121, 215, 124, 85, 155, 249, 200, 103, 190, 174, 31, 187, 50, 162, 192, 71, 92, 102, 175, 91, 40, 190, 242, 76, 39, 13, 156, 170, 244, 123, 38, 27, 153, 72, 79, 35, 67, 87, 40, 20, 175, 229, 63, 49, 176, 49, 125, 22, 159, 137, 64, 203, 28, 207, 128, 123, 94, 237, 9, 32, 58, 107, 214, 83, 12, 218, 125, 63, 162, 79, 181, 228, 105, 208, 149, 144, 163, 95, 137, 174, 151, 19, 45, 35, 151, 149, 246, 173, 195, 199, 15, 173, 105, 65, 17, 10, 228, 94, 206, 171, 136, 46, 126, 11, 48, 240, 246, 135, 58, 40, 190, 209, 14, 19, 153, 193, 131, 252, 58, 60, 255, 41, 93, 119, 192, 167, 37, 31, 41, 85, 80, 82, 235, 83, 32, 133, 99, 223, 253, 24, 4, 157, 108, 70, 203, 42, 223, 178, 224, 153, 107, 83, 129, 175, 99, 115, 145, 227, 248, 117, 77, 20, 181, 176, 28, 120, 253, 183, 16, 165, 15, 69, 156, 172, 19, 25, 59, 217, 195, 204, 139, 91, 193], [3, 13, 163, 123, 248, 1, 220, 102, 1, 249, 176, 139, 223, 201, 132, 90, 134, 192, 153, 196, 79, 122, 1, 227, 213, 247, 57, 109, 159, 253, 233, 8, 107, 77, 30, 26, 34, 113, 245, 70, 16, 229, 227, 30, 201, 110, 65, 158, 223, 49, 132, 48, 142, 220, 18, 217, 79, 171, 102, 140, 75, 254, 208, 35, 233, 101, 180, 91, 93, 107, 114, 155, 41, 216, 110, 184, 135, 19, 166, 190, 211, 150, 5, 41, 62, 124, 119, 238, 55, 32, 176, 0, 17, 198, 70, 243, 111, 95, 54, 201, 226, 237, 244, 63, 12, 188, 213, 44, 98, 200, 104, 1, 155, 172, 155, 201, 165, 214, 194, 167, 128, 114, 138, 165, 76, 55, 145, 202, 169, 222, 77, 23, 75, 127, 227, 146, 114, 123, 220, 24, 49, 161, 90, 18, 249, 22, 234, 243, 118, 192, 78, 114, 16, 177, 89, 100, 108, 188, 143, 222, 240, 94, 243, 128, 137, 8, 141, 148, 194, 27, 198, 230, 162, 46, 42, 208, 203, 79, 175, 97, 213, 228, 193, 169, 98, 207, 126, 242, 198, 12, 89, 108, 2, 228, 252, 193, 120, 53, 94, 216, 14, 43, 33, 167, 161, 16, 30, 53, 73, 86, 70, 41, 193, 134, 69, 118, 63, 1, 83, 126, 196, 203, 59, 68, 101, 110, 180, 84, 243, 170, 70, 65, 168, 36, 235, 63, 85, 12, 176, 100, 143, 4, 113, 157, 137, 202, 55, 182, 178, 33, 153, 54, 24, 190, 219, 110, 209], [2, 50, 92, 253, 24, 86, 154, 38, 243, 200, 19, 57, 49, 41, 78, 57, 94, 203, 192, 215, 28, 150, 33, 48, 127, 246, 226, 132, 226, 87, 208, 194, 24, 6, 116, 191, 45, 174, 7, 154, 32, 119, 138, 123, 160, 194, 33, 22, 163, 82, 120, 204, 230, 45, 165, 166, 181, 129, 120, 94, 112, 58, 167, 232, 52, 32, 136, 254, 139, 13, 36, 53, 103, 106, 106, 19, 15, 184, 128, 126, 145, 66, 47, 121, 249, 25, 41, 47, 244, 119, 174, 191, 142, 150, 215, 39, 235, 248, 170, 53, 107, 21, 9, 4, 176, 31, 184, 181, 205, 239, 23, 208, 58, 213, 156, 92, 151, 34, 245, 158, 159, 99, 85, 54, 107, 167, 35, 36, 193, 150, 210, 180, 99, 144, 133, 176, 200, 213, 160, 217, 171, 236, 62, 140, 249, 226, 11, 156, 122, 71, 153, 82, 208, 175, 139, 36, 219, 72, 147, 163, 19, 37, 95, 58, 158, 106, 101, 65, 65, 32, 204, 84, 86, 9, 155, 217, 70, 228, 131, 75, 44, 90, 174, 8, 4, 211, 54, 144, 88, 52, 189, 215, 162, 189, 214, 85, 33, 63, 161, 133, 187, 2, 226, 155, 188, 170, 176, 230, 114, 106, 56, 120, 211, 103, 1, 116, 49, 148, 215, 243, 133, 184, 45, 2, 99, 144, 164, 113, 201, 59, 80, 77, 40, 163, 95, 43, 217, 150, 216, 177, 116, 153, 124, 127, 7, 177, 112, 245, 119, 125, 8, 239, 129, 238, 63, 31, 241], [150, 68, 219, 149, 26, 78, 112, 188, 236, 64, 129, 156, 186, 66, 163, 51, 225, 86, 76, 152, 25, 95, 198, 140, 191, 228, 236, 171, 12, 175, 106, 216, 82, 32, 199, 218, 94, 79, 110, 185, 153, 252, 8, 160, 75, 189, 187, 4, 169, 186, 37, 211, 195, 18, 32, 211, 24, 208, 193, 114, 111, 155, 19, 115, 230, 3, 242, 157, 106, 28, 118, 230, 63, 187, 41, 35, 142, 89, 78, 180, 149, 128, 3, 152, 7, 157, 91, 42, 15, 145, 248, 197, 26, 173, 230, 124, 192, 70, 246, 124, 241, 194, 139, 161, 107, 252, 58, 4, 48, 37, 101, 52, 162, 236, 14, 216, 98, 20, 4, 165, 148, 181, 190, 185, 203, 241, 5, 243, 56, 54, 157, 16, 136, 23, 186, 76, 115, 188, 91, 201, 127, 40, 139, 79, 116, 9, 40, 81, 186, 84, 107, 248, 232, 2, 117, 106, 69, 34, 136, 47, 50, 137, 210, 253, 80, 117, 13, 9, 36, 215, 47, 124, 99, 212, 47, 71, 120, 29, 44, 217, 28, 215, 159, 124, 102, 254, 217, 90, 21, 214, 160, 182, 222, 177, 204, 203, 125, 214, 244, 169, 99, 34, 83, 131, 212, 154, 58, 31, 165, 172, 187, 161, 204, 22, 160, 60, 22, 216, 233, 58, 71, 236, 68, 106, 88, 14, 199, 163, 144, 212, 8, 141, 250, 81, 99, 183, 165, 209, 31, 252, 211, 114, 98, 172, 147, 159, 236, 150, 185, 50, 138, 4, 204, 73, 51, 82]]}}, 'requested_proof': {'revealed_attrs': {'0_fullname_uuid': {'sub_proof_index': 0, 'raw': 'Lohan Spies', 'encoded': '65692680133235931683304645877785134421502393178184295996723213988805392923415'}, '0_skill_uuid': {'sub_proof_index': 0, 'raw': 'PyDentity SSI Ninja', 'encoded': '38813097173523343342121686954087857232940954656654688676222283577873518606251'}}, 'self_attested_attrs': {}, 'unrevealed_attrs': {}, 'predicates': {'0_age_GE_uuid': {'sub_proof_index': 0}}}, 'identifiers': [{'schema_id': 'EuEtnVakYFyBtGFT1nHYtH:2:SSI PyDentity Tutorial:0.0.1', 'cred_def_id': 'EuEtnVakYFyBtGFT1nHYtH:3:CL:142409:default', 'rev_reg_id': None, 'timestamp': None}]}, 'thread_id': '8da2d690-5b2c-491e-a4b4-d1fa25617fa8', 'auto_present': False, 'updated_at': '2020-09-16 16:26:02.315187Z', 'verified': 'false', 'created_at': '2020-09-16 16:25:03.140123Z', 'state': 'verified'}\n"
     ]
    }
   ],
   "source": [
    "verify = await agent_controller.proofs.verify_presentation(presentation_exchange_id)\n",
    "print(verify)"
   ]
  },
  {
   "cell_type": "markdown",
   "metadata": {},
   "source": [
    "### Verifying the State\n",
    "\n",
    "Once verified through the agent framework api, the state should be 'verified', otherwise the presentation is invalid."
   ]
  },
  {
   "cell_type": "code",
   "execution_count": 12,
   "metadata": {},
   "outputs": [
    {
     "name": "stdout",
     "output_type": "stream",
     "text": [
      "verified\n",
      "True\n"
     ]
    }
   ],
   "source": [
    "print(verify['state'])\n",
    "print(verify['state'] == 'verified')"
   ]
  },
  {
   "cell_type": "markdown",
   "metadata": {},
   "source": [
    "### Accessing the Revealed Attributes"
   ]
  },
  {
   "cell_type": "code",
   "execution_count": 13,
   "metadata": {},
   "outputs": [
    {
     "name": "stdout",
     "output_type": "stream",
     "text": [
      "{'proof': {'proofs': [{'primary_proof': {'eq_proof': {'revealed_attrs': {'fullname': '65692680133235931683304645877785134421502393178184295996723213988805392923415', 'skill': '38813097173523343342121686954087857232940954656654688676222283577873518606251'}, 'a_prime': '74621272954646413851033389675128816991437135463373688157493720142840661625639175765229445602777939248926175520403240817965993664710949256154838143984933160930336604623933696788113527071450081301865405220477258775258630592838164317142151866736108911429798118176125908675205321272425774362737940412693992216408486372220968174230270726200990153048390134704751516038649844398147333365343968432295978121420578640935464117679267643085790573563620669308863409721757879148386420669934253351601589056937340994200271071467526294123989460237699314768290971196513223921615202446609673959294502479769982682030011639055909946008326', 'e': '123970330644049869652032615636137920328751242417973550097360344664744229150924711920448300165121687628959373986612486200438032843010807764', 'v': '1027765092516698514709446240364845401171961311162662126575128901436720650241459133511609518556721329904347854372242805521798373350321572602964793610556215157416116302994919071545305198926605040932986969343875343258981412610942349465838243979078645258701713887103517768301263767141797577758214980480906030651362222436826006961990452284531434549210444823774558947097088328462638571600314104833009160767230032097085888232515293063536218112261800648217410161210764292773432910659522681986972021740161794813278571966544603857404441796942334324120817164812171634700153403460564917843233315152868380204861741371833654727972734053360555687770330700751613754626973533067878338541542863477316789357579209934976964010496492848208272300818596844743066606885297471147595815089809242230459293877765730235861885337571190948674647161242350797055278261733446971201624108006000840894725781493894350792629951465933825749346972487680505514716', 'm': {'age': '9073170359998526313535153679530811867089188009577625344244573570845303068267153999440828205505687036275243527231297790781394997960215385127165171765705414890947620328475988212585', 'master_secret': '12943539498580062776723720054305057900973051437992449017962888988568369406100709642648209648009275286050729533599045718911403315124759853416552953509517579176618362241863197895754'}, 'm2': '5276440384230524991927823929463737168300400772583081337687079384946747430687361300781713468451492929790397359866341005722100315396594443910412953108678090303491146351981986547713'}, 'ge_proofs': [{'u': {'1': '11360668752539389659882042974267852679507002624764081715625477819053872413974160691882305153065311215857533692034763711771971012272890666467665164496036051420073861336325593156661', '2': '10203705076699223971530097427200720579112622895459937154086049145927237542337240257967039842033806203231279817402500859343059334744252593447888003921534569949410296899814812428516', '3': '4039498930506375042721063126043466608650390299903348738591230607476412119136707608319632885416091158498691422140403201133723620429879217896890716451573475362025893346113751651565', '0': '12114053027725687233093147957805432473900424622998985744448922352676537584462894524728565447359934270320155763531024773765514568286217423218076073177729568485526941647631333206179'}, 'r': {'3': '1183996112243046595118266659987684936600961678605011403267548277734316730919617854093890129222159182495538983125594913124927148838876037462355332107912582193758787718887250170665185347460954775665885785399865357038478964387219118294366341533900462487877949084677413139501218272218982462955865004485775288918797337427101177512222273652191578869054847018310502486861063980229149481316262523225269280359261937928006802470717448245759983801041623370037796017380501766317319625615521209597833681750405119266278860161286827729762609853883387477862360857476355095707742418358402329132213426509813701856788239779066467002656697865120784152745280926406100785136622139073071347661264533967482207610701582094455909773052817855896', '1': '957990962709241918072818453317784156116824901680177986179567129466257910966189913354744618451779171923358345816178598000357164284071286411267621062040732637325458338873514667478824588219259501645955794369857601226364355089072170931826818959290551599502604280156028612567229844535429352158021172831288555886865223113148454641995788564897857841304532310887587675545280406872310980539076267316263986197445569144395622930502798638060115781843278888418729903406831000999124954888676116294610853072251048903619848563653722860302982579305324266843276409575906783798857701333733680867071493397353424297285671078090915117805005359082227638082047728069261532027726696124017588791420964473545596830952539913670350462206251333603', '0': '749121369033075002430300754118348539387037355646566026893253297702981153482823984848254215115039592758413892963273656545314661219416806624424461968185136255304016665039566501331477586883874149587250722756512429441212543109017010276774011437160859106154506057941545363881359550512545128575727642811832464977281443055796131652359861817611694716597964738143276096767334080076807362551061366725145113885973348950431580824869825821086537988346376330495371404412699181031530779194296869929017244581216968327765252368240729611732498652269517274269151818657063538877608719558155673540046277342947294981262933790833815766959890946001940203082179180956181955094216405358807552574384401075870421070335427576107316591612051898904', 'DELTA': '1182317961542932500808908554578345359737656274956721923346398332065162943210675233692477583908173050250525058471751332484425462386079981346456082366139263262429879620360772062507360388401869602235240079484601199799103129254086230505786673771186247685905286936873222321025000934661789978520465113319194701627476429497291920700198933031004452418535685405286637213376951626563492138664365260607797683243864190991472865963805540323302097878673483064820752010803812628583333462160315571357279159908306089457622953564796053506610918040664460343396662834004281218136689326654916136611279884229500393430396473876655805527232994084545480353090745118935248840853916166856958415006400843368771987751643747644744420193238280940400', '2': '194518869687497176034022107751685464204475339149945914392686329665438997833934513739253465287980363109085629898034074198962816679853188152568583022546418917022088414140974297471353436388221176480669493815159282657897272013088011973151028513650357899081661295944649440734038632060239026972519863549704797087652908606023597416662610870468326883365256273772236342682933275064361205153568914458998707784282795125620720734318276108045882161196311952034916081104265161371837434767931283484183292696355624124591649571631496686796062069679116985454288691535526284125632951678710903822981542711092345375668898282753795584296889137316991263291104208478481566341278368160377426164149486673282581199594907520885806912215262409683'}, 'mj': '9073170359998526313535153679530811867089188009577625344244573570845303068267153999440828205505687036275243527231297790781394997960215385127165171765705414890947620328475988212585', 'alpha': '45469712267273624075199181551275005000193204315043747422015584077486416151056348548911782631826036222679809602382748500014481603469211889596728429849750778766572381270572851796099858428451609870662280872912360277805388217069876882434726195071574410677720242064812163129336604437050976599767323369992304437660963343195342968686019974248554212141740547215832718397263170393495227241690948197127905988114778928639227925352652610537393936269154231505280065986791784506881384624619921572235911268012400117509368633143841312974004847029552487358880762607591475952900193027498714038460059951544174785893288237273269055606497242307768938110402676879684979607034573339581047057391796030009777980474584143440437806845365310456457619277611453349132676470465607248844177415039078556249453114073585986352179133364017154958468608771639311284905040089132', 't': {'2': '98672733268306192298732428795425033139531529311788576227255864214056643142814188052990811496257754020577444233814318338332406365538172595884893238589841822696804180156045465410159503104499673757448473792028840771609464395585852010276394873895841789016506280504332137701849143666433088683312780700326481640698306173136204712059994027977824638899399175538304139242390033734170403658903904458875357017674499357950554849757531901201039940306703676445016143352795879005220189487383504281379538592999093185394497755377184441679084909562297338469909106967760493107232756462559775314154272115930801358177026512120283630628561', '3': '70991781804550662455072831561700850787104565344561560274505591019412220832233360484628074069912840418467635643105403000102136129405030363885962588701534593356860387335790241848487768450065897009418207940915777538449433017184730179196084271324259378960179618229927231434020659557538330852801607797572963363163432923124570136341680964862622052340152565414761968759708635900143935713302215436267430589882624603878761307355741958379758446530555471323058699466920494475492737198112309337708383971295062361068196383379833829992304837362101906111655410722241555815034851301692285089659458489456931839610612428064903114203121', '1': '36440043078295444249418151542594088528022253523238280186922275984860051501228553561120670026744519521235251071613926786749481928265796092669648236429872084904513006966778394521519038212618148116876365109659125559873440614457570659984022805016732237534221157746155947298604631092399056586210343017802675046676567077209643582466921343746934831777499375858770370024242505462142615090934225443004670110195984652221125932213600623846467363963847949806840918439713965561816235641433663596826214492956396065311054883715956078414983696217043133352800706590927745101030967249949846839043261068559738210796088971808048331578305', '0': '27167997850553018695392758122025039798971645015372325985843077042635523982464815357732543989189143743261040288559455560518807857677470306655435159106786097466196801554891166248816030720616585226932465673400755752529695124354696531680443214288548759390067857472121611586969413291194838778614459736017570732562458840123140100524351970136966716831480337688896972375284433741470674899109144258448636038740330230221883573498272531196685357414677746081809982396814738104523934988045187695296268861493508070366778401531605395670069160729070057111912909846340072301377618567202476226178388388792755456269904923730901960600560', 'DELTA': '18969700763935705326555517181629527623437790673717898349841712387392624532687631649207585284375687599357659645343257521406004882312664484908005247497581895867969191618291038222413148831828990342171312593186416961929962883774730034354066882228967816291909272860102825571645107819986337612435374118625611613315399276418340557255637141165975407469531827892510063133562045686083112333758849593666986705724497842558348507229683618220492266516508643213233082331242195961327810723341322446236377842282407957961419017373258139113446982123570748373631598961358850972067163619814951532723947034704882878902914121048951381111634'}, 'predicate': {'attr_name': 'age', 'p_type': 'GE', 'value': 21}}]}, 'non_revoc_proof': None}], 'aggregated_proof': {'c_hash': '40442897182597285496930717089804586712412205649446224254751357265914992327532', 'c_list': [[2, 79, 29, 69, 182, 220, 27, 164, 156, 34, 14, 251, 185, 210, 115, 146, 240, 245, 81, 24, 218, 233, 91, 191, 121, 55, 208, 6, 191, 106, 243, 242, 220, 75, 119, 197, 62, 17, 227, 59, 150, 36, 90, 125, 182, 223, 198, 11, 98, 133, 0, 58, 122, 190, 229, 174, 99, 91, 215, 143, 14, 156, 77, 41, 236, 129, 120, 127, 48, 243, 105, 236, 102, 142, 251, 25, 76, 203, 32, 46, 123, 4, 165, 208, 1, 105, 251, 22, 219, 123, 179, 59, 56, 89, 222, 32, 173, 203, 249, 138, 95, 139, 142, 146, 215, 44, 250, 26, 230, 140, 187, 234, 2, 70, 222, 165, 7, 6, 72, 92, 35, 65, 134, 132, 242, 252, 221, 243, 42, 190, 69, 252, 135, 244, 36, 247, 156, 215, 76, 117, 26, 112, 140, 112, 187, 151, 193, 112, 89, 33, 10, 183, 0, 25, 158, 13, 126, 99, 251, 19, 79, 14, 187, 144, 214, 158, 66, 47, 179, 60, 77, 200, 115, 59, 221, 245, 23, 93, 104, 174, 192, 32, 37, 124, 68, 227, 218, 107, 162, 54, 223, 73, 243, 220, 73, 6, 136, 12, 64, 230, 199, 93, 124, 126, 51, 131, 237, 19, 220, 43, 194, 11, 137, 174, 19, 152, 219, 137, 33, 86, 12, 114, 164, 7, 211, 39, 75, 89, 140, 45, 203, 243, 113, 26, 210, 56, 165, 174, 214, 119, 154, 7, 22, 42, 253, 89, 207, 136, 229, 61, 42, 116, 80, 57, 254, 35, 6], [215, 54, 69, 130, 48, 18, 236, 233, 107, 198, 67, 85, 242, 181, 116, 34, 113, 248, 35, 83, 51, 133, 179, 205, 211, 202, 247, 154, 152, 205, 137, 14, 64, 246, 57, 136, 235, 238, 132, 202, 200, 84, 90, 214, 186, 92, 48, 175, 111, 204, 116, 169, 87, 65, 11, 22, 20, 211, 44, 179, 76, 50, 59, 72, 193, 62, 196, 86, 1, 15, 218, 161, 182, 229, 52, 1, 91, 104, 183, 106, 153, 97, 254, 223, 1, 58, 1, 13, 153, 208, 146, 86, 168, 136, 205, 119, 150, 121, 205, 78, 85, 220, 223, 192, 175, 46, 6, 167, 106, 170, 111, 114, 38, 25, 98, 254, 3, 99, 5, 98, 196, 55, 149, 115, 227, 55, 238, 152, 141, 211, 110, 153, 32, 246, 82, 24, 153, 15, 196, 116, 139, 212, 10, 104, 133, 200, 11, 102, 121, 52, 39, 209, 38, 159, 109, 55, 182, 170, 238, 152, 58, 145, 250, 145, 83, 18, 218, 48, 30, 102, 5, 82, 9, 175, 234, 61, 238, 127, 223, 222, 102, 121, 229, 144, 122, 114, 35, 129, 232, 68, 65, 9, 202, 101, 175, 254, 106, 250, 178, 124, 253, 39, 60, 42, 219, 25, 100, 90, 157, 168, 155, 44, 120, 99, 234, 43, 43, 37, 87, 55, 162, 191, 247, 4, 239, 70, 15, 51, 116, 165, 104, 173, 30, 85, 225, 99, 171, 116, 70, 254, 76, 122, 223, 129, 119, 133, 243, 20, 162, 201, 199, 179, 126, 169, 171, 240], [1, 32, 169, 38, 138, 218, 219, 230, 226, 16, 187, 128, 35, 114, 211, 210, 233, 30, 112, 48, 97, 15, 84, 104, 77, 24, 165, 197, 127, 23, 54, 159, 94, 36, 180, 194, 252, 64, 213, 195, 17, 107, 77, 224, 194, 201, 209, 165, 192, 189, 115, 74, 145, 213, 152, 69, 59, 249, 73, 213, 91, 147, 21, 89, 79, 84, 140, 248, 82, 252, 150, 253, 88, 229, 121, 215, 124, 85, 155, 249, 200, 103, 190, 174, 31, 187, 50, 162, 192, 71, 92, 102, 175, 91, 40, 190, 242, 76, 39, 13, 156, 170, 244, 123, 38, 27, 153, 72, 79, 35, 67, 87, 40, 20, 175, 229, 63, 49, 176, 49, 125, 22, 159, 137, 64, 203, 28, 207, 128, 123, 94, 237, 9, 32, 58, 107, 214, 83, 12, 218, 125, 63, 162, 79, 181, 228, 105, 208, 149, 144, 163, 95, 137, 174, 151, 19, 45, 35, 151, 149, 246, 173, 195, 199, 15, 173, 105, 65, 17, 10, 228, 94, 206, 171, 136, 46, 126, 11, 48, 240, 246, 135, 58, 40, 190, 209, 14, 19, 153, 193, 131, 252, 58, 60, 255, 41, 93, 119, 192, 167, 37, 31, 41, 85, 80, 82, 235, 83, 32, 133, 99, 223, 253, 24, 4, 157, 108, 70, 203, 42, 223, 178, 224, 153, 107, 83, 129, 175, 99, 115, 145, 227, 248, 117, 77, 20, 181, 176, 28, 120, 253, 183, 16, 165, 15, 69, 156, 172, 19, 25, 59, 217, 195, 204, 139, 91, 193], [3, 13, 163, 123, 248, 1, 220, 102, 1, 249, 176, 139, 223, 201, 132, 90, 134, 192, 153, 196, 79, 122, 1, 227, 213, 247, 57, 109, 159, 253, 233, 8, 107, 77, 30, 26, 34, 113, 245, 70, 16, 229, 227, 30, 201, 110, 65, 158, 223, 49, 132, 48, 142, 220, 18, 217, 79, 171, 102, 140, 75, 254, 208, 35, 233, 101, 180, 91, 93, 107, 114, 155, 41, 216, 110, 184, 135, 19, 166, 190, 211, 150, 5, 41, 62, 124, 119, 238, 55, 32, 176, 0, 17, 198, 70, 243, 111, 95, 54, 201, 226, 237, 244, 63, 12, 188, 213, 44, 98, 200, 104, 1, 155, 172, 155, 201, 165, 214, 194, 167, 128, 114, 138, 165, 76, 55, 145, 202, 169, 222, 77, 23, 75, 127, 227, 146, 114, 123, 220, 24, 49, 161, 90, 18, 249, 22, 234, 243, 118, 192, 78, 114, 16, 177, 89, 100, 108, 188, 143, 222, 240, 94, 243, 128, 137, 8, 141, 148, 194, 27, 198, 230, 162, 46, 42, 208, 203, 79, 175, 97, 213, 228, 193, 169, 98, 207, 126, 242, 198, 12, 89, 108, 2, 228, 252, 193, 120, 53, 94, 216, 14, 43, 33, 167, 161, 16, 30, 53, 73, 86, 70, 41, 193, 134, 69, 118, 63, 1, 83, 126, 196, 203, 59, 68, 101, 110, 180, 84, 243, 170, 70, 65, 168, 36, 235, 63, 85, 12, 176, 100, 143, 4, 113, 157, 137, 202, 55, 182, 178, 33, 153, 54, 24, 190, 219, 110, 209], [2, 50, 92, 253, 24, 86, 154, 38, 243, 200, 19, 57, 49, 41, 78, 57, 94, 203, 192, 215, 28, 150, 33, 48, 127, 246, 226, 132, 226, 87, 208, 194, 24, 6, 116, 191, 45, 174, 7, 154, 32, 119, 138, 123, 160, 194, 33, 22, 163, 82, 120, 204, 230, 45, 165, 166, 181, 129, 120, 94, 112, 58, 167, 232, 52, 32, 136, 254, 139, 13, 36, 53, 103, 106, 106, 19, 15, 184, 128, 126, 145, 66, 47, 121, 249, 25, 41, 47, 244, 119, 174, 191, 142, 150, 215, 39, 235, 248, 170, 53, 107, 21, 9, 4, 176, 31, 184, 181, 205, 239, 23, 208, 58, 213, 156, 92, 151, 34, 245, 158, 159, 99, 85, 54, 107, 167, 35, 36, 193, 150, 210, 180, 99, 144, 133, 176, 200, 213, 160, 217, 171, 236, 62, 140, 249, 226, 11, 156, 122, 71, 153, 82, 208, 175, 139, 36, 219, 72, 147, 163, 19, 37, 95, 58, 158, 106, 101, 65, 65, 32, 204, 84, 86, 9, 155, 217, 70, 228, 131, 75, 44, 90, 174, 8, 4, 211, 54, 144, 88, 52, 189, 215, 162, 189, 214, 85, 33, 63, 161, 133, 187, 2, 226, 155, 188, 170, 176, 230, 114, 106, 56, 120, 211, 103, 1, 116, 49, 148, 215, 243, 133, 184, 45, 2, 99, 144, 164, 113, 201, 59, 80, 77, 40, 163, 95, 43, 217, 150, 216, 177, 116, 153, 124, 127, 7, 177, 112, 245, 119, 125, 8, 239, 129, 238, 63, 31, 241], [150, 68, 219, 149, 26, 78, 112, 188, 236, 64, 129, 156, 186, 66, 163, 51, 225, 86, 76, 152, 25, 95, 198, 140, 191, 228, 236, 171, 12, 175, 106, 216, 82, 32, 199, 218, 94, 79, 110, 185, 153, 252, 8, 160, 75, 189, 187, 4, 169, 186, 37, 211, 195, 18, 32, 211, 24, 208, 193, 114, 111, 155, 19, 115, 230, 3, 242, 157, 106, 28, 118, 230, 63, 187, 41, 35, 142, 89, 78, 180, 149, 128, 3, 152, 7, 157, 91, 42, 15, 145, 248, 197, 26, 173, 230, 124, 192, 70, 246, 124, 241, 194, 139, 161, 107, 252, 58, 4, 48, 37, 101, 52, 162, 236, 14, 216, 98, 20, 4, 165, 148, 181, 190, 185, 203, 241, 5, 243, 56, 54, 157, 16, 136, 23, 186, 76, 115, 188, 91, 201, 127, 40, 139, 79, 116, 9, 40, 81, 186, 84, 107, 248, 232, 2, 117, 106, 69, 34, 136, 47, 50, 137, 210, 253, 80, 117, 13, 9, 36, 215, 47, 124, 99, 212, 47, 71, 120, 29, 44, 217, 28, 215, 159, 124, 102, 254, 217, 90, 21, 214, 160, 182, 222, 177, 204, 203, 125, 214, 244, 169, 99, 34, 83, 131, 212, 154, 58, 31, 165, 172, 187, 161, 204, 22, 160, 60, 22, 216, 233, 58, 71, 236, 68, 106, 88, 14, 199, 163, 144, 212, 8, 141, 250, 81, 99, 183, 165, 209, 31, 252, 211, 114, 98, 172, 147, 159, 236, 150, 185, 50, 138, 4, 204, 73, 51, 82]]}}, 'requested_proof': {'revealed_attrs': {'0_fullname_uuid': {'sub_proof_index': 0, 'raw': 'Lohan Spies', 'encoded': '65692680133235931683304645877785134421502393178184295996723213988805392923415'}, '0_skill_uuid': {'sub_proof_index': 0, 'raw': 'PyDentity SSI Ninja', 'encoded': '38813097173523343342121686954087857232940954656654688676222283577873518606251'}}, 'self_attested_attrs': {}, 'unrevealed_attrs': {}, 'predicates': {'0_age_GE_uuid': {'sub_proof_index': 0}}}, 'identifiers': [{'schema_id': 'EuEtnVakYFyBtGFT1nHYtH:2:SSI PyDentity Tutorial:0.0.1', 'cred_def_id': 'EuEtnVakYFyBtGFT1nHYtH:3:CL:142409:default', 'rev_reg_id': None, 'timestamp': None}]}\n",
      "{'revealed_attrs': {'0_fullname_uuid': {'sub_proof_index': 0, 'raw': 'Lohan Spies', 'encoded': '65692680133235931683304645877785134421502393178184295996723213988805392923415'}, '0_skill_uuid': {'sub_proof_index': 0, 'raw': 'PyDentity SSI Ninja', 'encoded': '38813097173523343342121686954087857232940954656654688676222283577873518606251'}}, 'self_attested_attrs': {}, 'unrevealed_attrs': {}, 'predicates': {'0_age_GE_uuid': {'sub_proof_index': 0}}}\n",
      "0_fullname_uuid\n",
      "{'sub_proof_index': 0, 'raw': 'Lohan Spies', 'encoded': '65692680133235931683304645877785134421502393178184295996723213988805392923415'}\n",
      "Lohan Spies\n",
      "0_skill_uuid\n",
      "{'sub_proof_index': 0, 'raw': 'PyDentity SSI Ninja', 'encoded': '38813097173523343342121686954087857232940954656654688676222283577873518606251'}\n",
      "PyDentity SSI Ninja\n"
     ]
    }
   ],
   "source": [
    "print(verify['presentation'])\n",
    "print(verify['presentation']['requested_proof'])\n",
    "\n",
    "for (name, val) in verify['presentation']['requested_proof']['revealed_attrs'].items():\n",
    "    print(name)\n",
    "    print(val)\n",
    "    ## This is the actual data that you want. It's a little hidden\n",
    "    print(val['raw'])\n"
   ]
  },
  {
   "cell_type": "markdown",
   "metadata": {},
   "source": [
    "### Accessing self-attested attributes"
   ]
  },
  {
   "cell_type": "code",
   "execution_count": 15,
   "metadata": {},
   "outputs": [],
   "source": [
    "for (name, val) in verify['presentation']['requested_proof']['self_attested_attrs'].items():\n",
    "    print(name)\n",
    "    ## Slightly different for self attested attrs\n",
    "    print(val)"
   ]
  },
  {
   "cell_type": "markdown",
   "metadata": {},
   "source": [
    "## End of Tutorial\n",
    "\n",
    "Be sure to terminate the controller so you can run another tutorial."
   ]
  },
  {
   "cell_type": "code",
   "execution_count": 24,
   "metadata": {
    "pycharm": {
     "name": "#%%\n"
    }
   },
   "outputs": [
    {
     "name": "stdout",
     "output_type": "stream",
     "text": [
      "None\n",
      "None\n"
     ]
    }
   ],
   "source": [
    "response = await agent_controller.terminate()\n",
    "print(response)"
   ]
  },
  {
   "cell_type": "markdown",
   "metadata": {},
   "source": [
    "## Well done on completing the PyDentity SSI training series!"
   ]
  },
  {
   "cell_type": "code",
   "execution_count": null,
   "metadata": {},
   "outputs": [],
   "source": []
  }
 ],
 "metadata": {
  "kernelspec": {
   "display_name": "Python 3",
   "language": "python",
   "name": "python3"
  },
  "language_info": {
   "codemirror_mode": {
    "name": "ipython",
    "version": 3
   },
   "file_extension": ".py",
   "mimetype": "text/x-python",
   "name": "python",
   "nbconvert_exporter": "python",
   "pygments_lexer": "ipython3",
   "version": "3.7.6"
  }
 },
 "nbformat": 4,
 "nbformat_minor": 1
}
