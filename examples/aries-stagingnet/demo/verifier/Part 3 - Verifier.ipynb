{
 "cells": [
  {
   "cell_type": "markdown",
   "metadata": {},
   "source": [
    "# Sovrin StagingNet Example: Verify Presentation\n",
    "\n",
    "## Before running this notebook you should have run through [Part 1](http://localhost:8888/notebooks/Part 1 - Getting Started.ipynb) and [Part 2](http://localhost:8888/notebooks/Part 2 - Issuer.ipynb) of this tutorial.\n",
    "\n",
    "If unfamiliar with the present-proof protocol it is worth reading through the [aries-rfs](https://github.com/hyperledger/aries-rfcs/tree/master/features/0037-present-proof)`\n"
   ]
  },
  {
   "cell_type": "markdown",
   "metadata": {},
   "source": [
    "## Note that you do not need to write a public DID to the ledger as a verifier."
   ]
  },
  {
   "cell_type": "markdown",
   "metadata": {},
   "source": [
    "## Import packages"
   ]
  },
  {
   "cell_type": "code",
   "execution_count": 1,
   "metadata": {},
   "outputs": [
    {
     "name": "stdout",
     "output_type": "stream",
     "text": [
      "Collecting termcolor\n",
      "  Downloading termcolor-1.1.0.tar.gz (3.9 kB)\n",
      "Building wheels for collected packages: termcolor\n",
      "  Building wheel for termcolor (setup.py) ... \u001b[?25ldone\n",
      "\u001b[?25h  Created wheel for termcolor: filename=termcolor-1.1.0-py3-none-any.whl size=4830 sha256=acb1b13e1e61fcfb1c0863c058e7df368186ed7017ef97899f311c45df18fa13\n",
      "  Stored in directory: /root/.cache/pip/wheels/3f/e3/ec/8a8336ff196023622fbcb36de0c5a5c218cbb24111d1d4c7f2\n",
      "Successfully built termcolor\n",
      "Installing collected packages: termcolor\n",
      "Successfully installed termcolor-1.1.0\n",
      "Collecting pillow\n",
      "  Downloading Pillow-7.2.0-cp37-cp37m-manylinux1_x86_64.whl (2.2 MB)\n",
      "\u001b[K     |████████████████████████████████| 2.2 MB 2.2 MB/s eta 0:00:01\n",
      "\u001b[?25hInstalling collected packages: pillow\n",
      "Successfully installed pillow-7.2.0\n",
      "Collecting qrcode\n",
      "  Downloading qrcode-6.1-py2.py3-none-any.whl (31 kB)\n",
      "Requirement already satisfied: six in /opt/conda/lib/python3.7/site-packages (from qrcode) (1.14.0)\n",
      "Installing collected packages: qrcode\n",
      "Successfully installed qrcode-6.1\n"
     ]
    }
   ],
   "source": [
    "!pip install termcolor\n",
    "!pip install pillow\n",
    "!pip install qrcode\n",
    "from termcolor import colored,cprint"
   ]
  },
  {
   "cell_type": "markdown",
   "metadata": {
    "pycharm": {
     "name": "#%%\n"
    }
   },
   "source": [
    "## 1. Instatiate Controller for Verifiers's Agent"
   ]
  },
  {
   "cell_type": "code",
   "execution_count": 2,
   "metadata": {
    "pycharm": {
     "name": "#%%\n"
    }
   },
   "outputs": [
    {
     "name": "stdout",
     "output_type": "stream",
     "text": [
      "IPython autoawait is `on`, and set to use `asyncio`\n"
     ]
    }
   ],
   "source": [
    "%autoawait\n",
    "import time\n",
    "import asyncio\n",
    "from aries_basic_controller.aries_controller import AriesAgentController\n",
    "\n",
    "WEBHOOK_HOST = \"0.0.0.0\"\n",
    "WEBHOOK_PORT = 8052\n",
    "WEBHOOK_BASE = \"\"\n",
    "ADMIN_URL = \"http://verifier-agent:8051\"\n",
    "\n",
    "# Based on the aca-py agent you wish to control\n",
    "agent_controller = AriesAgentController(webhook_host=WEBHOOK_HOST, webhook_port=WEBHOOK_PORT,\n",
    "                                       webhook_base=WEBHOOK_BASE, admin_url=ADMIN_URL)\n"
   ]
  },
  {
   "cell_type": "markdown",
   "metadata": {},
   "source": [
    "## 2. Register Listeners\n",
    "\n",
    "Again @lohan lets tidy these up to be verifier specific only I think.\n",
    "\n",
    "The handler should get called every time the controller receives a webhook with the topic present_proof, printing out the payload. The agent calls to this webhook every time it receives a present proof protocol message from another agent. \n"
   ]
  },
  {
   "cell_type": "code",
   "execution_count": 3,
   "metadata": {
    "pycharm": {
     "name": "#%%\n"
    }
   },
   "outputs": [],
   "source": [
    "loop = asyncio.get_event_loop()\n",
    "loop.create_task(agent_controller.listen_webhooks())\n",
    "\n",
    "def cred_handler(payload):\n",
    "    print(\"Handle Credentials\")\n",
    "    exchange_id = payload['credential_exchange_id']\n",
    "    state = payload['state']\n",
    "    role = payload['role']\n",
    "    attributes = payload['credential_proposal_dict']['credential_proposal']['attributes']\n",
    "    print(f\"Credential exchange {exchange_id}, role: {role}, state: {state}\")\n",
    "    print(f\"Offering: {attributes}\")\n",
    "    \n",
    "cred_listener = {\n",
    "    \"topic\": \"issue_credential\",\n",
    "    \"handler\": cred_handler\n",
    "}\n",
    "\n",
    "def messages_handler(payload):\n",
    "    connection_id = payload[\"connection_id\"]\n",
    "    asyncio.get_event_loop().create_task(agent_controller.messaging.send_message(connection_id, \"This is a response from Bob\"))\n",
    "    print(\"Handle message\", payload, connection_id)\n",
    "\n",
    "\n",
    "message_listener = {\n",
    "    \"handler\": messages_handler,\n",
    "    \"topic\": \"basicmessages\"\n",
    "}\n",
    "\n",
    "def connections_handler(payload):\n",
    "    global STATE\n",
    "    connection_id = payload[\"connection_id\"]\n",
    "    print(\"Connection message\", payload, connection_id)\n",
    "    STATE = payload['state']\n",
    "    if STATE == 'active':\n",
    "#         print('Connection {0} changed state to active'.format(connection_id))\n",
    "        print(colored(\"Connection {0} changed state to active\".format(connection_id), \"red\", attrs=[\"bold\"]))\n",
    "\n",
    "\n",
    "connection_listener = {\n",
    "    \"handler\": connections_handler,\n",
    "    \"topic\": \"connections\"\n",
    "}\n",
    "\n",
    "def proof_handler(payload):\n",
    "    print(\"Handle present proof\")\n",
    "    print(payload)\n",
    "\n",
    "proof_listener = {\n",
    "    \"topic\": \"present_proof\",\n",
    "    \"handler\": proof_handler\n",
    "}\n",
    "\n",
    "agent_controller.register_listeners([cred_listener,message_listener,connection_listener,proof_listener], defaults=True)\n",
    "\n"
   ]
  },
  {
   "cell_type": "markdown",
   "metadata": {},
   "source": [
    "## 3. Make a connection with the Mobile SSI Wallet you used in [Part 2](http://localhost:8888/notebooks/Part 2 - Issuer.ipynb)\n",
    "\n",
    "**You should have a credential stored in here from the previous notebook!**\n",
    "\n",
    "Please download a mobile SSI wallet such as [Connect.me](https://connect.me/), [Trinsic](https://trinsic.id/trinsic-wallet/) or any other Aries compatible wallet."
   ]
  },
  {
   "cell_type": "markdown",
   "metadata": {},
   "source": [
    "## 4. Create a connection invitation to scan with the Mobile SSI Wallet"
   ]
  },
  {
   "cell_type": "markdown",
   "metadata": {},
   "source": [
    "## 4a. Check for any existing connections"
   ]
  },
  {
   "cell_type": "code",
   "execution_count": 4,
   "metadata": {},
   "outputs": [
    {
     "name": "stdout",
     "output_type": "stream",
     "text": [
      "EXISTING CONNECTIONS\n"
     ]
    }
   ],
   "source": [
    "# Check for existing connections\n",
    "connection = await agent_controller.connections.get_connections()\n",
    "print(\"EXISTING CONNECTIONS\")\n",
    "for key, value in connection.items():\n",
    "    for item in value:\n",
    "        print('ConnectionID:', item['connection_id'], 'Status:',item['state'])"
   ]
  },
  {
   "cell_type": "markdown",
   "metadata": {},
   "source": [
    "## 4b. Create an Invitation"
   ]
  },
  {
   "cell_type": "code",
   "execution_count": 5,
   "metadata": {},
   "outputs": [
    {
     "name": "stdout",
     "output_type": "stream",
     "text": [
      "Connection message {'state': 'invitation', 'connection_id': '0d9630cd-4deb-43d7-a4f1-a5513ca5869b', 'invitation_key': 'Aee27tW2MvaEeduHaJJyiyQYisLw9VnQRetFbmB9eB7U', 'accept': 'auto', 'routing_state': 'none', 'invitation_mode': 'once', 'created_at': '2020-09-16 13:39:30.326259Z', 'updated_at': '2020-09-16 13:39:30.326259Z', 'initiator': 'self'} 0d9630cd-4deb-43d7-a4f1-a5513ca5869b\n",
      "Connection ID 0d9630cd-4deb-43d7-a4f1-a5513ca5869b\n",
      "Invitation\n",
      "https://3bb56e5f3644.ngrok.io?c_i=eyJAdHlwZSI6ICJkaWQ6c292OkJ6Q2JzTlloTXJqSGlxWkRUVUFTSGc7c3BlYy9jb25uZWN0aW9ucy8xLjAvaW52aXRhdGlvbiIsICJAaWQiOiAiOTQyMjRiNGQtYjZlMS00NWJiLTk1N2UtODc0NmRmNzk5YTZjIiwgInJlY2lwaWVudEtleXMiOiBbIkFlZTI3dFcyTXZhRWVkdUhhSkp5aXlRWWlzTHc5Vm5RUmV0RmJtQjllQjdVIl0sICJzZXJ2aWNlRW5kcG9pbnQiOiAiaHR0cHM6Ly8zYmI1NmU1ZjM2NDQubmdyb2suaW8iLCAibGFiZWwiOiAiVmVyaWZpZXIifQ==\n"
     ]
    }
   ],
   "source": [
    "# Create Invitation\n",
    "invite = await agent_controller.connections.create_invitation()\n",
    "connection_id = invite[\"connection_id\"]\n",
    "print(\"Connection ID\", connection_id)\n",
    "print(\"Invitation\")\n",
    "print(invite['invitation_url'])\n",
    "inviteURL = invite['invitation_url']"
   ]
  },
  {
   "cell_type": "markdown",
   "metadata": {},
   "source": [
    "## 4c. Generate QR Code to be scanned with Mobile SSI Wallet"
   ]
  },
  {
   "cell_type": "code",
   "execution_count": 6,
   "metadata": {},
   "outputs": [
    {
     "data": {
      "image/png": "[encoded data removed]",
      "text/plain": [
       "<IPython.core.display.Image object>"
      ]
     },
     "execution_count": 6,
     "metadata": {
      "image/png": {
       "width": 400
      }
     },
     "output_type": "execute_result"
    },
    {
     "name": "stdout",
     "output_type": "stream",
     "text": [
      "Connection message {'their_label': 'esatus Wallet', 'their_did': 'SFVjQ3CzjFHhAJtnE5FXzk', 'state': 'request', 'connection_id': '0d9630cd-4deb-43d7-a4f1-a5513ca5869b', 'invitation_key': 'Aee27tW2MvaEeduHaJJyiyQYisLw9VnQRetFbmB9eB7U', 'accept': 'auto', 'routing_state': 'none', 'invitation_mode': 'once', 'created_at': '2020-09-16 13:39:30.326259Z', 'updated_at': '2020-09-16 13:39:48.524132Z', 'initiator': 'self'} 0d9630cd-4deb-43d7-a4f1-a5513ca5869b\n",
      "Connection message {'their_label': 'esatus Wallet', 'their_did': 'SFVjQ3CzjFHhAJtnE5FXzk', 'state': 'response', 'connection_id': '0d9630cd-4deb-43d7-a4f1-a5513ca5869b', 'invitation_key': 'Aee27tW2MvaEeduHaJJyiyQYisLw9VnQRetFbmB9eB7U', 'accept': 'auto', 'my_did': 'XrSKDTxjWq1aPWF1RkiPNG', 'routing_state': 'none', 'invitation_mode': 'once', 'created_at': '2020-09-16 13:39:30.326259Z', 'updated_at': '2020-09-16 13:39:48.579572Z', 'initiator': 'self'} 0d9630cd-4deb-43d7-a4f1-a5513ca5869b\n"
     ]
    }
   ],
   "source": [
    "import qrcode\n",
    "# Link for connection invitation\n",
    "input_data = inviteURL\n",
    "# Creating an instance of qrcode\n",
    "qr = qrcode.QRCode(\n",
    "        version=1,\n",
    "        box_size=10,\n",
    "        border=5)\n",
    "qr.add_data(input_data)\n",
    "qr.make(fit=True)\n",
    "img = qr.make_image(fill='black', back_color='white')\n",
    "img.save('verifier_agent_invite_QRcode.png')\n",
    "\n",
    "from IPython.display import Image\n",
    "Image(width=400, filename='./verifier_agent_invite_QRcode.png')"
   ]
  },
  {
   "cell_type": "markdown",
   "metadata": {},
   "source": [
    "## 4d. Check if established connection is in active state"
   ]
  },
  {
   "cell_type": "code",
   "execution_count": 7,
   "metadata": {},
   "outputs": [
    {
     "name": "stdout",
     "output_type": "stream",
     "text": [
      "\u001b[1m\u001b[35mCurrent state for ConnectionId 0d9630cd-4deb-43d7-a4f1-a5513ca5869b is response\u001b[0m\n",
      "\u001b[1m\u001b[33mConnectionId 0d9630cd-4deb-43d7-a4f1-a5513ca5869b is not in active state yet\u001b[0m\n",
      "\u001b[1m\u001b[34mTrust ping send to ConnectionId {'thread_id': '010c2126-09f1-4331-a90d-c55f1a5fa59e'} to activate connection\u001b[0m\n",
      "\u001b[1m\u001b[33mConnectionId 0d9630cd-4deb-43d7-a4f1-a5513ca5869b is not in active state yet\u001b[0m\n",
      "Connection message {'their_label': 'esatus Wallet', 'their_did': 'SFVjQ3CzjFHhAJtnE5FXzk', 'state': 'active', 'connection_id': '0d9630cd-4deb-43d7-a4f1-a5513ca5869b', 'invitation_key': 'Aee27tW2MvaEeduHaJJyiyQYisLw9VnQRetFbmB9eB7U', 'accept': 'auto', 'my_did': 'XrSKDTxjWq1aPWF1RkiPNG', 'routing_state': 'none', 'invitation_mode': 'once', 'created_at': '2020-09-16 13:39:30.326259Z', 'updated_at': '2020-09-16 13:39:59.790739Z', 'initiator': 'self'} 0d9630cd-4deb-43d7-a4f1-a5513ca5869b\n",
      "\u001b[1m\u001b[31mConnection 0d9630cd-4deb-43d7-a4f1-a5513ca5869b changed state to active\u001b[0m\n",
      "\u001b[1m\u001b[34mTrust ping send to ConnectionId {'thread_id': '46f5557e-5cb9-4b66-947c-5b57710223a1'} to activate connection\u001b[0m\n",
      "\u001b[1m\u001b[32mConnectionId: 0d9630cd-4deb-43d7-a4f1-a5513ca5869b is now active. Continue with notebook\u001b[0m\n"
     ]
    }
   ],
   "source": [
    "import time\n",
    "\n",
    "# print('Current state for ConnectionId {} is {}'.format(connection_id,STATE))\n",
    "print(colored(\"Current state for ConnectionId {} is {}\".format(connection_id,STATE), \"magenta\", attrs=[\"bold\"]))\n",
    "while STATE != 'active':\n",
    "#     print('ConnectionId {0} is not in active state yet'.format(connection_id))\n",
    "    print(colored(\"ConnectionId {0} is not in active state yet\".format(connection_id), \"yellow\", attrs=[\"bold\"]))\n",
    "    trust_ping = await agent_controller.messaging.trust_ping(connection_id,'hello!')\n",
    "#     print('Trust ping send to ConnectionId {0} to activate connection'.format(trust_ping))\n",
    "    print(colored(\"Trust ping send to ConnectionId {0} to activate connection\".format(trust_ping), \"blue\", attrs=[\"bold\"]))\n",
    "    time.sleep(5)\n",
    "    \n",
    "# print('ConnectionId: {0} is now active. Continue with notebook'.format(connection_id))\n",
    "print(colored(\"ConnectionId: {0} is now active. Continue with notebook\".format(connection_id), \"green\", attrs=[\"bold\"]))\n"
   ]
  },
  {
   "cell_type": "markdown",
   "metadata": {},
   "source": [
    "## 5. Send Proof Request to Identity Holder Mobile Wallet"
   ]
  },
  {
   "cell_type": "markdown",
   "metadata": {},
   "source": [
    "## 5a. Generate Proof Request\n",
    "\n",
    "Note how the verifier has restricted the proof request to only include those attributes issued by the issuing DID.\n",
    "\n",
    "@Lohan -> I don't like that we have to instantiate the issuer_agent_controller to fetch this DID. I think there must be a better way. Perhaps asking users to copy across the DID from part 1? or we could restrict on the schema id?"
   ]
  },
  {
   "cell_type": "code",
   "execution_count": 8,
   "metadata": {
    "pycharm": {
     "name": "#%%\n"
    }
   },
   "outputs": [
    {
     "name": "stdout",
     "output_type": "stream",
     "text": [
      "{'result': {'did': '826BrciniTTh7FRMFyrPWR', 'verkey': '4psuB2xY6kp8y4784Xs92Ao8Kazi74T64u5GADGKovCv', 'public': True}}\n",
      "Request proof of Name and Age range from Identity Holder\n"
     ]
    }
   ],
   "source": [
    "from aries_basic_controller.aries_controller import AriesAgentController\n",
    "    \n",
    "WEBHOOK_HOST = \"0.0.0.0\"\n",
    "WEBHOOK_PORT = 8022\n",
    "WEBHOOK_BASE = \"\"\n",
    "ADMIN_URL = \"http://issuer-agent:8021\"\n",
    "\n",
    "# Based on the aca-py agent you wish to control\n",
    "issuer_agent_controller = AriesAgentController(webhook_host=WEBHOOK_HOST, webhook_port=WEBHOOK_PORT,\n",
    "                                       webhook_base=WEBHOOK_BASE, admin_url=ADMIN_URL)\n",
    "\n",
    "response = await issuer_agent_controller.wallet.get_public_did()\n",
    "print(response)\n",
    "issuer_did = response[\"result\"][\"did\"]\n",
    "\n",
    "print(\"Request proof of Name and Age range from Identity Holder\")\n",
    "#Set some variables\n",
    "\n",
    "revocation = False\n",
    "SELF_ATTESTED = True\n",
    "exchange_tracing = False\n",
    "\n",
    "#Enable this to ask for attributes to identity a user\n",
    "req_attrs = [\n",
    "    {\"name\": \"name\", \"restrictions\": [{\"issuer_did\": issuer_did}]},\n",
    "    {\"name\": \"skill\", \"restrictions\": [{\"issuer_did\": issuer_did}]},\n",
    "]\n",
    "\n",
    "if revocation:\n",
    "    req_attrs.append(\n",
    "        {\n",
    "            \"name\": \"skill\",\n",
    "            \"restrictions\": [{\"issuer_did\": agent.did}],\n",
    "            \"non_revoked\": {\"to\": int(time.time() - 1)},\n",
    "        },\n",
    "    )\n",
    "\n",
    "if SELF_ATTESTED:\n",
    "    # test self-attested claims\n",
    "    req_attrs.append({\"name\": \"country\"},)\n",
    "\n",
    "#Set predicates for Zero Knowledge Proofs\n",
    "req_preds = [\n",
    "    # test zero-knowledge proofs\n",
    "    {\n",
    "        \"name\": \"age\",\n",
    "        \"p_type\": \">=\",\n",
    "        \"p_value\": 21,\n",
    "        \"restrictions\": [{\"issuer_did\": issuer_did}],\n",
    "    }\n",
    "]\n",
    "\n",
    "indy_proof_request = {\n",
    "    \"name\": \"Proof of Personal Information\",\n",
    "    \"version\": \"1.0\",\n",
    "    \"requested_attributes\": {\n",
    "        f\"0_{req_attr['name']}_uuid\":\n",
    "        req_attr for req_attr in req_attrs\n",
    "    },\n",
    "    \"requested_predicates\": {\n",
    "        f\"0_{req_pred['name']}_GE_uuid\":\n",
    "        req_pred for req_pred in req_preds\n",
    "    },\n",
    "}\n",
    "\n",
    "if revocation:\n",
    "    indy_proof_request[\"non_revoked\"] = {\"to\": int(time.time())}\n",
    "\n",
    "#proof_request = indy_proof_request\n",
    "exchange_tracing_id = exchange_tracing\n",
    "proof_request_web_request = {\n",
    "    \"connection_id\": connection_id,\n",
    "    \"proof_request\": indy_proof_request,\n",
    "    \"trace\": exchange_tracing,\n",
    "}"
   ]
  },
  {
   "cell_type": "markdown",
   "metadata": {},
   "source": [
    "### 5b. Send the proof request to Identity Holder\n",
    "\n",
    "Identity Holder is identified through the connection_id"
   ]
  },
  {
   "cell_type": "code",
   "execution_count": 9,
   "metadata": {
    "pycharm": {
     "name": "#%%\n"
    },
    "scrolled": false
   },
   "outputs": [
    {
     "name": "stdout",
     "output_type": "stream",
     "text": [
      "{'role': 'verifier', 'state': 'request_sent', 'connection_id': '0d9630cd-4deb-43d7-a4f1-a5513ca5869b', 'presentation_exchange_id': '53a604ac-b1d3-464e-a4ce-16628e44555e', 'presentation_request': {'name': 'Proof of Personal Information', 'version': '1.0', 'requested_attributes': {'0_name_uuid': {'name': 'name', 'restrictions': [{'issuer_did': '826BrciniTTh7FRMFyrPWR'}]}, '0_skill_uuid': {'name': 'skill', 'restrictions': [{'issuer_did': '826BrciniTTh7FRMFyrPWR'}]}, '0_country_uuid': {'name': 'country'}}, 'requested_predicates': {'0_age_GE_uuid': {'name': 'age', 'p_type': '>=', 'p_value': 21, 'restrictions': [{'issuer_did': '826BrciniTTh7FRMFyrPWR'}]}}, 'nonce': '867066356444314349495390'}, 'thread_id': 'a8018567-1c2d-411a-9195-9c21a206e436', 'auto_present': False, 'trace': False, 'presentation_request_dict': {'@type': 'did:sov:BzCbsNYhMrjHiqZDTUASHg;spec/present-proof/1.0/request-presentation', '@id': 'a8018567-1c2d-411a-9195-9c21a206e436', 'request_presentations~attach': [{'@id': 'libindy-request-presentation-0', 'mime-type': 'application/json', 'data': {'base64': 'eyJuYW1lIjogIlByb29mIG9mIFBlcnNvbmFsIEluZm9ybWF0aW9uIiwgInZlcnNpb24iOiAiMS4wIiwgInJlcXVlc3RlZF9hdHRyaWJ1dGVzIjogeyIwX25hbWVfdXVpZCI6IHsibmFtZSI6ICJuYW1lIiwgInJlc3RyaWN0aW9ucyI6IFt7Imlzc3Vlcl9kaWQiOiAiODI2QnJjaW5pVFRoN0ZSTUZ5clBXUiJ9XX0sICIwX3NraWxsX3V1aWQiOiB7Im5hbWUiOiAic2tpbGwiLCAicmVzdHJpY3Rpb25zIjogW3siaXNzdWVyX2RpZCI6ICI4MjZCcmNpbmlUVGg3RlJNRnlyUFdSIn1dfSwgIjBfY291bnRyeV91dWlkIjogeyJuYW1lIjogImNvdW50cnkifX0sICJyZXF1ZXN0ZWRfcHJlZGljYXRlcyI6IHsiMF9hZ2VfR0VfdXVpZCI6IHsibmFtZSI6ICJhZ2UiLCAicF90eXBlIjogIj49IiwgInBfdmFsdWUiOiAyMSwgInJlc3RyaWN0aW9ucyI6IFt7Imlzc3Vlcl9kaWQiOiAiODI2QnJjaW5pVFRoN0ZSTUZ5clBXUiJ9XX19LCAibm9uY2UiOiAiODY3MDY2MzU2NDQ0MzE0MzQ5NDk1MzkwIn0='}}]}, 'created_at': '2020-09-16 13:43:29.679684Z', 'updated_at': '2020-09-16 13:43:29.679684Z', 'initiator': 'self'}\n",
      "\n",
      "\n",
      "53a604ac-b1d3-464e-a4ce-16628e44555e\n",
      "Handle present proof\n",
      "{'role': 'verifier', 'state': 'request_sent', 'connection_id': '0d9630cd-4deb-43d7-a4f1-a5513ca5869b', 'presentation_exchange_id': '53a604ac-b1d3-464e-a4ce-16628e44555e', 'presentation_request': {'name': 'Proof of Personal Information', 'version': '1.0', 'requested_attributes': {'0_name_uuid': {'name': 'name', 'restrictions': [{'issuer_did': '826BrciniTTh7FRMFyrPWR'}]}, '0_skill_uuid': {'name': 'skill', 'restrictions': [{'issuer_did': '826BrciniTTh7FRMFyrPWR'}]}, '0_country_uuid': {'name': 'country'}}, 'requested_predicates': {'0_age_GE_uuid': {'name': 'age', 'p_type': '>=', 'p_value': 21, 'restrictions': [{'issuer_did': '826BrciniTTh7FRMFyrPWR'}]}}, 'nonce': '867066356444314349495390'}, 'thread_id': 'a8018567-1c2d-411a-9195-9c21a206e436', 'auto_present': False, 'trace': False, 'presentation_request_dict': {'@type': 'did:sov:BzCbsNYhMrjHiqZDTUASHg;spec/present-proof/1.0/request-presentation', '@id': 'a8018567-1c2d-411a-9195-9c21a206e436', 'request_presentations~attach': [{'@id': 'libindy-request-presentation-0', 'mime-type': 'application/json', 'data': {'base64': 'eyJuYW1lIjogIlByb29mIG9mIFBlcnNvbmFsIEluZm9ybWF0aW9uIiwgInZlcnNpb24iOiAiMS4wIiwgInJlcXVlc3RlZF9hdHRyaWJ1dGVzIjogeyIwX25hbWVfdXVpZCI6IHsibmFtZSI6ICJuYW1lIiwgInJlc3RyaWN0aW9ucyI6IFt7Imlzc3Vlcl9kaWQiOiAiODI2QnJjaW5pVFRoN0ZSTUZ5clBXUiJ9XX0sICIwX3NraWxsX3V1aWQiOiB7Im5hbWUiOiAic2tpbGwiLCAicmVzdHJpY3Rpb25zIjogW3siaXNzdWVyX2RpZCI6ICI4MjZCcmNpbmlUVGg3RlJNRnlyUFdSIn1dfSwgIjBfY291bnRyeV91dWlkIjogeyJuYW1lIjogImNvdW50cnkifX0sICJyZXF1ZXN0ZWRfcHJlZGljYXRlcyI6IHsiMF9hZ2VfR0VfdXVpZCI6IHsibmFtZSI6ICJhZ2UiLCAicF90eXBlIjogIj49IiwgInBfdmFsdWUiOiAyMSwgInJlc3RyaWN0aW9ucyI6IFt7Imlzc3Vlcl9kaWQiOiAiODI2QnJjaW5pVFRoN0ZSTUZ5clBXUiJ9XX19LCAibm9uY2UiOiAiODY3MDY2MzU2NDQ0MzE0MzQ5NDk1MzkwIn0='}}]}, 'created_at': '2020-09-16 13:43:29.679684Z', 'updated_at': '2020-09-16 13:43:29.679684Z', 'initiator': 'self'}\n",
      "Handle present proof\n",
      "{'role': 'verifier', 'state': 'presentation_received', 'connection_id': '0d9630cd-4deb-43d7-a4f1-a5513ca5869b', 'presentation_exchange_id': '53a604ac-b1d3-464e-a4ce-16628e44555e', 'presentation_request': {'name': 'Proof of Personal Information', 'version': '1.0', 'requested_attributes': {'0_name_uuid': {'name': 'name', 'restrictions': [{'issuer_did': '826BrciniTTh7FRMFyrPWR'}]}, '0_skill_uuid': {'name': 'skill', 'restrictions': [{'issuer_did': '826BrciniTTh7FRMFyrPWR'}]}, '0_country_uuid': {'name': 'country'}}, 'requested_predicates': {'0_age_GE_uuid': {'name': 'age', 'p_type': '>=', 'p_value': 21, 'restrictions': [{'issuer_did': '826BrciniTTh7FRMFyrPWR'}]}}, 'nonce': '867066356444314349495390'}, 'thread_id': 'a8018567-1c2d-411a-9195-9c21a206e436', 'auto_present': False, 'trace': False, 'presentation_request_dict': {'@type': 'did:sov:BzCbsNYhMrjHiqZDTUASHg;spec/present-proof/1.0/request-presentation', '@id': 'a8018567-1c2d-411a-9195-9c21a206e436', 'request_presentations~attach': [{'@id': 'libindy-request-presentation-0', 'mime-type': 'application/json', 'data': {'base64': 'eyJuYW1lIjogIlByb29mIG9mIFBlcnNvbmFsIEluZm9ybWF0aW9uIiwgInZlcnNpb24iOiAiMS4wIiwgInJlcXVlc3RlZF9hdHRyaWJ1dGVzIjogeyIwX25hbWVfdXVpZCI6IHsibmFtZSI6ICJuYW1lIiwgInJlc3RyaWN0aW9ucyI6IFt7Imlzc3Vlcl9kaWQiOiAiODI2QnJjaW5pVFRoN0ZSTUZ5clBXUiJ9XX0sICIwX3NraWxsX3V1aWQiOiB7Im5hbWUiOiAic2tpbGwiLCAicmVzdHJpY3Rpb25zIjogW3siaXNzdWVyX2RpZCI6ICI4MjZCcmNpbmlUVGg3RlJNRnlyUFdSIn1dfSwgIjBfY291bnRyeV91dWlkIjogeyJuYW1lIjogImNvdW50cnkifX0sICJyZXF1ZXN0ZWRfcHJlZGljYXRlcyI6IHsiMF9hZ2VfR0VfdXVpZCI6IHsibmFtZSI6ICJhZ2UiLCAicF90eXBlIjogIj49IiwgInBfdmFsdWUiOiAyMSwgInJlc3RyaWN0aW9ucyI6IFt7Imlzc3Vlcl9kaWQiOiAiODI2QnJjaW5pVFRoN0ZSTUZ5clBXUiJ9XX19LCAibm9uY2UiOiAiODY3MDY2MzU2NDQ0MzE0MzQ5NDk1MzkwIn0='}}]}, 'presentation': {'proof': {'proofs': [{'primary_proof': {'eq_proof': {'revealed_attrs': {'name': '93006290325627508022776103386395994712401809437930957652111221015872244345185', 'skill': '24214165878429772374367858032287880675266648921286067519661391650938186682695'}, 'a_prime': '36605839518702014619533573864272015239335897390725080997422477636641025403624194255567236505043604020276588990474337521939672459478401007718781053612454112001582004626004864576351065864164051914702821890646703024358752855297950497048553775073608619407101767433407675070801771023484729040282753479410044500522485723961622620102805370255999024244830423198436520884596013568965031336441642542684446412902344926867215287814778938949706044743902747187259708105626738626106431767009295893124659550697466589872038082996326603276921042446447126962795524036578606086734356779476691830161059979619153330900772960342832537353411', 'e': '159199209673760596387201221542554578345213402647877977035379430962558194788619689748771699546274031187707315289116526131427378047749523439', 'v': '516734287176094402033559313019014316702921696534992764370450452934341043422807075299194083677370423679656598537502517317091162724809863252678211960167687929813444225691504177098919383245526344857034158824223898584647729868576710977908880644525884070117026285548408593308503412350648032287264947570924538195746383960531869415660511844618753888614900475965465997500168984060305781119354106009756228292265856823551775813600439665404473037812052178758558883099462353862197814808266519772038953476950985635752952934798075848471459597085299133004656459567076761698870912605333130597163568200269589650318358586905942568417646334941997058926553023762091736872250801003062680554942957864809998864094691197456574251220417260402849549844421575993812589146367521305945262553225921150504750803579775097075768147563926424450215312406044875043134538769381022151276334635556857930925676826629256775353570538844476354350186712639408044144', 'm': {'age': '2459743107712911081984068473592587973748793789718540920794973698124379429674432645178400339803065255384667065951254570046688679052887313203566996805362221583184732344097724988050', 'master_secret': '4099995521150814128490826547871854395079562585648011301256532946830682633528765240540018299661222295475715483273274142558086877960727797104279188036950789414060116018516431805322'}, 'm2': '11221716225023131193918842562698145401873964969364430049584839950969713664628711510410045280693785240828667487646657810303205132466567964155488212879806784228952387090034949192560'}, 'ge_proofs': [{'u': {'0': '7381675557337843259679149517216997696822817097255012143659608824286759031691695256392745279614713993840283636335116259295458184665950061826838979578420940850786598753188581576191', '2': '4105958041203495754132229159439158598289766157167571090828316257098722955565070477745205970661758844857190099249728885426646238628807989178430364980471751243230959429825868040204', '3': '7662794407510599242765935089187377915046610491894631468696447119423230202627695070365496987307180919039297128740529206969312119158307594251964704246641008703724128152957725371338', '1': '10973387749715211729721004706077579218622983688841701708955856706355842021276619614381004328625805506596761559293487684324493256149045730764900595812501081855952439212182909946118'}, 'r': {'1': '1807754804639184832883951372664301801760428105114259180343706643861655297334382496643401284474517005624749274643631910212014746299788857649430665802567324940586955442707478103043887362547849899879006040850433703707111622526215224024161691978506270111691444645329728027015740793351192759372834100208292811182558499336842939514668832240770019959417092342538432091626172060852224020327301053209648075390855704299368348800694290977888567879329897815666555470808410053051474495904876844744169537197201172396502415909062316234875179523648639009491192514612898831457992009855043306157233798042654046700340069519030211752038283545643060410850121271487842204184210063492695202513828232010788044265231940294004315456118889281395', '0': '1429153107588563545623376222310449478436776249141243983320159252290327826720021675772378669694614376485420457449684580790944048206333618944899899062288828424814859135545249357982290841621051298954216713811004734407380451796341618886608770870478806802860072173029300491842427532995675787682284595115183389218766823961814476130404568246829662361953015094368254865124297309750952626691337473613437895298637640450945386980989056728131049476644027592182251748027281553608804200918939452718549167934379737386048402350182789727696908636724792089017412388599363782845715815068729577653045355292666926830012251914198973743148106139958911001536106283734975002674212383202250369162886659700778661787698384859901150198003893695145', '2': '2036987750703382814932570427106074489272725996664790702117723973604352983517553601283045577867996864231480171313176581683011977505579224888696599687939688639060257124338233071987673763608007815482254873061871346491145589445393545168575243986535522240445077006198131855557762326809542700486994002866873884313752263020997895354886475198297043751671849492999806006266308479442228288230505441998088318942458833959903790512542942563881202977071902428592208086404665528806925898192840406241068353962667956908176118052436439924861671572598329999525762127555330497188072010631680489047692208898532015008634078864149675060400294204376907828517265519456537367757486597922620751578277087630119002971460982885867419492795674438728', '3': '3160006882860489031246005081785292422548008525321099874508151536127370561644537811110114717388290489013293045518201103113101976542936324178106160252557680680624293928717251739262304875778976542144416085747035744490616443428549451152002107201397727626619679517569588033488110099782024885707931030302653980250556239212999642860658843431180349992264529336673581065768796753019681983276407047445088595666290991552219424506945319418690002968038253230227238770148856768749053186518664427014125211051905419667839604433293980505281466178203110345106199173992735791817011177756661739660668974662321387455217846866539126123375434557994900720225482697933746196030608274089993539324226693161050289015121941166924817107200217452711', 'DELTA': '1433289270960400546466278078232472127081599883079533643044223792560377083744346089531082329691672281162780379228943292851243966235623882771371389352148885578522820025502772048751931790795658278022324108669248663919749539320522273110723260195846084777975817250029580952936825121542911639988841382264913721558690808177406286542885451895977962172224284795812249902005850191357008565479652718210032633248228849018613752754017956677361179337155933189739329508433181191643575510183039820743040602670842207042213571341627490003431488387095682161552335741967053151693813588672297088430964715363605729390358763953198238473568525955983231037632577729713515956689961599502525783669152102900369065544101896874709572915413470760826'}, 'mj': '2459743107712911081984068473592587973748793789718540920794973698124379429674432645178400339803065255384667065951254570046688679052887313203566996805362221583184732344097724988050', 'alpha': '11074513697805919295024187855653334767320897333544975395389483816063990367313820456647410436143511453318431634319448616704756135742222277890897918407737836291823295990721372293862995706223626137128838497412040285743236198068487488281480607940934291416621374582738208924168407902752326455018436090302960888605964336083575841693972447753944173495388265667667349125613824862811001326311073199787499361262294531291818496795623278407885381892301560717895610893385009785995132115655339169301170001027916119653021977267822410764320942961252840244634308541331426904240383109537437381242414604261898736288741618952211167538005711145056199719555594220533469107470180594939010690460117555198440343757549107749194979087554981267304785991708105007641786916023722794286395412640572617375415550205269027306839753655569833059663411035168737057143619149589', 't': {'0': '56648788420256006659234129015981379601482152038426711992694672863037448778513854231696275265783805991216467895672138949402103860076500001200062769774056075657895525432539012646141048605462870624171591316657835027091090502456080333868937755600371493455161874533329342519879339845841581948141852209028801537562719835498290892893914897319608756827621323426073669929308493466526640984298240215657408507931515863325519855174844734082453282277084481539863163349192388153468694715020161306488454096584149837094580439800547248277308960128778213511990973620130545942327066740463838745348688559804666383574972562714643232883935', '1': '106801789654189725336330258172607797935816654229743403336311324571025694725239866141620433341190624657698467314073809794283711957710592588688606059567772750628369698360688271568314074048907782475532586784686380077247946437447802858140176565851664119572560610687321107422604581820265821194793941504261719469953662049691150250526468537614003925298479907772497610435855156297079215058024931098241102801340993206571925236005388752128458991987866272827082542470151882118336598236094892895025216996330451470733711197794109243100488515488142741432823929563405695169596280861813953609914579479497423368760888000312064549789874', '2': '53628780268250008848959958858541966450852357395273676785030132557614165010202142778144786403867516054026321795217591303807845118673533941488449674442967415591268733799129699959616074580591838808424106281099309976659307634620051938063402238187282407142623790175602278573627962362859960605180083443218093632291220980546447892809578773291587671345569033298341341228024453155957858397782285965258083838352766995248290151587964146336108355837674106375368771741845745046281867287327778497629514013122631097174593336351611001121892902605769698503038407802372728013345661222712123526255966857003000922025760869578645215591073', 'DELTA': '58785526590932706310285096870249570160539792015137380588566862031754401354873070490271463912815410365950929940301157685249972708845047911512407798464480555799517899693685373902945145608815305840542178412101553915581629317264710692024855674869062865624916347554925180706784979799382009030275888639997295850166430351393194062080935314185140316840509626795855796251497940194799364250083294778521188370636763865505819540519434874320523047339450176423701420978478688988257229377668968104449513981513108317592254166136089409812275113408014294768836305066499932385627514065189598719963449422124191733181407494794049179618856', '3': '81278236897555960141036975618832471634752984482276369654907490500268308391091576232536948256524630582444057651179457048938750254713970809392490139275951111156431833103826763062410400117163739463940301715073655255574638963873492034210300282462143249309709004679700415886172684684205174803144448854902378894631350885753898020483341201697719516789688819151544528835396442055980414462851437797428894607215108978999351444241065821397694684857033537677527633406509494148022454392660745275770574059838010679345513203957107091763376369640653307018564167619577054426795553826260229578580980544740478274341719406567431717515078'}, 'predicate': {'attr_name': 'age', 'p_type': 'GE', 'value': 21}}]}, 'non_revoc_proof': None}], 'aggregated_proof': {'c_hash': '96358879354697568624535720986143257919407527592121321045529009671956620519609', 'c_list': [[1, 33, 249, 94, 244, 147, 174, 235, 216, 242, 190, 219, 54, 14, 168, 175, 24, 156, 214, 218, 26, 54, 228, 110, 87, 228, 118, 37, 197, 103, 179, 123, 120, 81, 243, 59, 122, 87, 102, 197, 141, 169, 126, 68, 136, 195, 248, 37, 213, 153, 149, 187, 40, 95, 92, 231, 78, 182, 110, 169, 14, 125, 228, 246, 159, 214, 107, 180, 163, 139, 86, 236, 237, 191, 67, 38, 156, 94, 87, 32, 202, 156, 139, 40, 156, 54, 88, 134, 79, 253, 163, 24, 54, 84, 104, 95, 105, 64, 142, 50, 82, 206, 241, 66, 168, 140, 0, 180, 101, 155, 127, 92, 132, 99, 47, 194, 2, 196, 235, 175, 249, 157, 204, 84, 107, 63, 40, 86, 74, 9, 119, 187, 168, 31, 189, 67, 124, 34, 67, 37, 17, 160, 200, 125, 124, 55, 123, 29, 0, 228, 54, 169, 224, 87, 92, 22, 85, 248, 124, 210, 91, 34, 69, 157, 234, 197, 236, 76, 12, 124, 83, 220, 139, 170, 41, 58, 250, 34, 105, 107, 206, 8, 35, 28, 186, 95, 175, 186, 89, 40, 48, 203, 248, 13, 108, 72, 221, 17, 254, 53, 216, 140, 91, 203, 198, 41, 95, 189, 48, 114, 51, 111, 115, 244, 79, 211, 61, 178, 54, 126, 129, 168, 127, 207, 219, 157, 40, 84, 157, 54, 85, 230, 21, 114, 59, 250, 49, 46, 54, 174, 146, 25, 205, 213, 125, 46, 169, 246, 66, 147, 65, 22, 174, 58, 11, 60, 195], [1, 192, 190, 174, 18, 56, 101, 246, 38, 206, 58, 30, 104, 212, 129, 210, 212, 47, 90, 70, 178, 157, 62, 225, 152, 118, 52, 126, 158, 247, 149, 56, 167, 222, 148, 213, 205, 130, 181, 31, 9, 15, 7, 70, 233, 147, 145, 107, 225, 232, 87, 225, 206, 93, 138, 129, 78, 3, 71, 132, 246, 93, 180, 146, 102, 19, 68, 48, 122, 123, 25, 85, 177, 135, 22, 155, 167, 73, 188, 222, 91, 249, 155, 160, 189, 251, 87, 7, 253, 193, 219, 131, 228, 147, 182, 107, 21, 240, 140, 157, 85, 222, 212, 195, 5, 203, 210, 166, 166, 19, 160, 132, 86, 239, 225, 140, 9, 155, 33, 201, 24, 98, 143, 12, 225, 167, 240, 55, 165, 133, 137, 98, 82, 179, 207, 212, 27, 207, 205, 120, 7, 60, 115, 242, 107, 60, 21, 149, 22, 132, 41, 222, 167, 199, 37, 157, 234, 17, 79, 93, 65, 222, 49, 210, 243, 13, 227, 177, 200, 174, 248, 60, 25, 95, 191, 84, 53, 132, 206, 203, 68, 120, 209, 202, 6, 74, 14, 246, 103, 55, 217, 165, 121, 105, 48, 93, 206, 113, 199, 118, 165, 45, 30, 34, 119, 254, 202, 66, 156, 47, 109, 41, 35, 182, 93, 228, 203, 183, 138, 83, 154, 26, 22, 186, 11, 161, 38, 220, 235, 247, 107, 18, 105, 174, 76, 128, 92, 44, 95, 182, 19, 8, 71, 161, 154, 29, 9, 82, 232, 204, 152, 7, 67, 189, 62, 132, 223], [3, 78, 8, 123, 236, 73, 12, 11, 130, 43, 123, 186, 240, 86, 164, 63, 199, 180, 236, 192, 48, 11, 195, 243, 162, 142, 227, 63, 167, 152, 79, 185, 10, 243, 6, 138, 77, 218, 74, 28, 87, 40, 101, 185, 124, 41, 151, 106, 215, 204, 42, 254, 149, 135, 112, 177, 211, 180, 200, 151, 100, 183, 23, 117, 57, 161, 120, 141, 2, 95, 4, 58, 121, 166, 89, 74, 219, 32, 128, 35, 215, 30, 54, 158, 241, 49, 96, 231, 71, 248, 231, 54, 62, 175, 209, 233, 102, 38, 73, 123, 61, 168, 86, 153, 59, 78, 184, 183, 146, 136, 199, 96, 169, 143, 54, 11, 29, 63, 216, 221, 250, 190, 208, 62, 162, 82, 227, 1, 74, 143, 56, 192, 120, 19, 143, 146, 228, 214, 237, 60, 195, 96, 9, 78, 133, 253, 142, 81, 245, 161, 139, 95, 1, 26, 159, 164, 133, 213, 48, 15, 100, 48, 39, 51, 54, 77, 93, 134, 179, 46, 78, 201, 37, 115, 86, 142, 159, 22, 89, 204, 7, 30, 161, 103, 163, 202, 247, 9, 201, 46, 200, 60, 197, 96, 66, 31, 85, 240, 98, 166, 3, 129, 171, 223, 222, 239, 249, 53, 152, 193, 241, 99, 187, 55, 38, 214, 170, 91, 64, 175, 28, 219, 173, 136, 54, 18, 118, 97, 85, 121, 216, 222, 16, 139, 221, 150, 11, 86, 91, 8, 1, 36, 71, 166, 254, 22, 100, 130, 111, 77, 150, 14, 82, 198, 131, 32, 178], [1, 168, 210, 95, 147, 131, 128, 27, 7, 71, 173, 126, 32, 79, 145, 242, 11, 98, 28, 236, 199, 56, 206, 128, 246, 114, 122, 247, 176, 111, 23, 141, 128, 144, 22, 48, 199, 144, 230, 207, 88, 22, 188, 80, 161, 13, 30, 200, 178, 93, 181, 232, 227, 193, 140, 37, 53, 93, 30, 187, 225, 106, 87, 89, 245, 47, 46, 19, 240, 166, 174, 85, 95, 230, 194, 27, 221, 227, 211, 11, 62, 175, 64, 255, 141, 135, 201, 16, 177, 3, 207, 45, 17, 79, 26, 61, 242, 15, 89, 16, 215, 189, 24, 124, 173, 159, 142, 55, 77, 112, 94, 149, 141, 180, 21, 95, 106, 165, 212, 250, 226, 14, 14, 16, 37, 163, 2, 180, 168, 80, 190, 174, 189, 126, 90, 206, 249, 227, 89, 252, 143, 229, 227, 0, 98, 173, 250, 34, 199, 104, 109, 216, 153, 49, 87, 205, 110, 83, 198, 0, 195, 4, 31, 104, 169, 94, 108, 203, 4, 238, 218, 29, 117, 69, 47, 181, 236, 72, 237, 60, 253, 83, 234, 27, 242, 213, 82, 40, 39, 107, 109, 66, 10, 64, 133, 216, 48, 38, 142, 111, 142, 234, 77, 111, 255, 250, 64, 20, 196, 210, 51, 150, 82, 53, 47, 131, 63, 107, 170, 149, 246, 106, 24, 104, 190, 55, 241, 114, 212, 189, 255, 181, 156, 243, 110, 135, 242, 177, 53, 80, 91, 142, 25, 31, 237, 187, 47, 93, 248, 39, 49, 16, 197, 244, 215, 58, 161], [2, 131, 217, 0, 15, 112, 249, 70, 198, 42, 199, 227, 187, 199, 0, 14, 225, 228, 146, 18, 61, 240, 158, 84, 105, 246, 190, 239, 146, 20, 208, 208, 68, 90, 194, 84, 117, 31, 239, 76, 156, 143, 61, 207, 19, 18, 243, 221, 92, 183, 34, 250, 136, 27, 188, 193, 226, 87, 127, 135, 155, 166, 78, 100, 246, 54, 225, 171, 14, 38, 146, 136, 126, 7, 229, 24, 50, 14, 166, 49, 164, 181, 138, 146, 188, 214, 139, 229, 171, 240, 102, 55, 23, 155, 179, 156, 193, 117, 113, 223, 140, 41, 164, 188, 78, 181, 11, 101, 205, 216, 3, 89, 173, 179, 124, 165, 13, 164, 103, 66, 183, 169, 5, 168, 244, 113, 248, 153, 35, 238, 218, 81, 15, 238, 217, 249, 237, 169, 223, 249, 226, 24, 75, 251, 237, 123, 181, 192, 171, 170, 126, 65, 151, 0, 250, 202, 99, 243, 3, 128, 109, 205, 185, 107, 154, 95, 152, 43, 65, 227, 212, 113, 236, 250, 109, 128, 49, 104, 170, 14, 185, 122, 174, 119, 124, 57, 189, 164, 110, 214, 173, 18, 186, 45, 219, 202, 160, 41, 191, 149, 58, 176, 128, 169, 121, 246, 254, 115, 209, 177, 209, 126, 243, 164, 151, 49, 56, 19, 88, 188, 87, 56, 43, 251, 172, 224, 35, 240, 68, 242, 95, 249, 11, 7, 198, 223, 223, 109, 34, 103, 129, 178, 245, 245, 186, 233, 148, 232, 64, 194, 200, 199, 193, 255, 191, 239, 70], [1, 209, 171, 203, 67, 249, 243, 230, 15, 141, 251, 209, 69, 33, 113, 235, 7, 196, 243, 245, 224, 214, 113, 93, 215, 183, 119, 158, 42, 190, 172, 213, 12, 236, 110, 150, 223, 96, 204, 18, 230, 140, 225, 33, 55, 170, 146, 97, 231, 123, 211, 30, 180, 157, 226, 213, 23, 15, 141, 3, 221, 104, 213, 211, 253, 185, 125, 152, 126, 210, 124, 232, 242, 196, 42, 146, 90, 175, 40, 211, 174, 219, 138, 102, 44, 202, 243, 66, 248, 36, 41, 129, 219, 255, 117, 252, 68, 38, 163, 156, 79, 205, 73, 105, 229, 195, 150, 14, 14, 105, 0, 32, 215, 189, 162, 162, 249, 225, 220, 232, 194, 45, 33, 144, 18, 190, 191, 81, 4, 117, 48, 31, 111, 51, 248, 63, 145, 2, 174, 30, 196, 121, 154, 238, 216, 160, 228, 113, 46, 248, 111, 194, 22, 211, 195, 211, 126, 136, 74, 192, 185, 122, 196, 109, 62, 33, 253, 189, 174, 140, 31, 62, 19, 206, 227, 42, 178, 13, 14, 29, 170, 44, 34, 49, 235, 114, 64, 93, 251, 212, 245, 253, 142, 62, 92, 61, 103, 172, 72, 189, 136, 140, 113, 245, 180, 202, 64, 96, 129, 180, 99, 38, 30, 249, 44, 193, 65, 128, 13, 148, 147, 2, 243, 150, 133, 223, 143, 180, 94, 127, 111, 183, 161, 208, 133, 60, 230, 89, 32, 249, 9, 77, 131, 176, 136, 248, 168, 58, 85, 164, 220, 109, 112, 142, 112, 14, 40]]}}, 'requested_proof': {'revealed_attrs': {'0_skill_uuid': {'sub_proof_index': 0, 'raw': 'researcher', 'encoded': '24214165878429772374367858032287880675266648921286067519661391650938186682695'}, '0_name_uuid': {'sub_proof_index': 0, 'raw': 'Bob', 'encoded': '93006290325627508022776103386395994712401809437930957652111221015872244345185'}}, 'self_attested_attrs': {'0_country_uuid': 'UK'}, 'unrevealed_attrs': {}, 'predicates': {'0_age_GE_uuid': {'sub_proof_index': 0}}}, 'identifiers': [{'schema_id': 'MGgoJXWbeupKsaHDa7s4fW:2:testabc:0.0.1', 'cred_def_id': '826BrciniTTh7FRMFyrPWR:3:CL:141433:default', 'rev_reg_id': None, 'timestamp': None}]}, 'created_at': '2020-09-16 13:43:29.679684Z', 'updated_at': '2020-09-16 13:44:03.345846Z', 'initiator': 'self'}\n"
     ]
    }
   ],
   "source": [
    "response = await agent_controller.proofs.send_request(proof_request_web_request)\n",
    "print(response)\n",
    "presentation_exchange_id = response['presentation_exchange_id']\n",
    "print(\"\\n\")\n",
    "print(presentation_exchange_id)\n"
   ]
  },
  {
   "cell_type": "markdown",
   "metadata": {},
   "source": [
    "## 6. Verify Proof Presentation\n",
    "\n",
    "This is checking the signatures on the credentials presented against the credential schema and definition id stored and resolvable on the ledger. It is a bit of a big complicated object, so we show the common pattern for breaking it down, checking it's verified and accessing the data that has been presented."
   ]
  },
  {
   "cell_type": "code",
   "execution_count": 10,
   "metadata": {
    "pycharm": {
     "name": "#%%\n"
    }
   },
   "outputs": [
    {
     "name": "stdout",
     "output_type": "stream",
     "text": [
      "{'role': 'verifier', 'state': 'verified', 'connection_id': '0d9630cd-4deb-43d7-a4f1-a5513ca5869b', 'presentation_exchange_id': '53a604ac-b1d3-464e-a4ce-16628e44555e', 'presentation_request': {'name': 'Proof of Personal Information', 'version': '1.0', 'requested_attributes': {'0_name_uuid': {'name': 'name', 'restrictions': [{'issuer_did': '826BrciniTTh7FRMFyrPWR'}]}, '0_skill_uuid': {'name': 'skill', 'restrictions': [{'issuer_did': '826BrciniTTh7FRMFyrPWR'}]}, '0_country_uuid': {'name': 'country'}}, 'requested_predicates': {'0_age_GE_uuid': {'name': 'age', 'p_type': '>=', 'p_value': 21, 'restrictions': [{'issuer_did': '826BrciniTTh7FRMFyrPWR'}]}}, 'nonce': '867066356444314349495390'}, 'verified': 'true', 'thread_id': 'a8018567-1c2d-411a-9195-9c21a206e436', 'auto_present': False, 'trace': False, 'presentation_request_dict': {'@type': 'did:sov:BzCbsNYhMrjHiqZDTUASHg;spec/present-proof/1.0/request-presentation', '@id': 'a8018567-1c2d-411a-9195-9c21a206e436', 'request_presentations~attach': [{'@id': 'libindy-request-presentation-0', 'mime-type': 'application/json', 'data': {'base64': 'eyJuYW1lIjogIlByb29mIG9mIFBlcnNvbmFsIEluZm9ybWF0aW9uIiwgInZlcnNpb24iOiAiMS4wIiwgInJlcXVlc3RlZF9hdHRyaWJ1dGVzIjogeyIwX25hbWVfdXVpZCI6IHsibmFtZSI6ICJuYW1lIiwgInJlc3RyaWN0aW9ucyI6IFt7Imlzc3Vlcl9kaWQiOiAiODI2QnJjaW5pVFRoN0ZSTUZ5clBXUiJ9XX0sICIwX3NraWxsX3V1aWQiOiB7Im5hbWUiOiAic2tpbGwiLCAicmVzdHJpY3Rpb25zIjogW3siaXNzdWVyX2RpZCI6ICI4MjZCcmNpbmlUVGg3RlJNRnlyUFdSIn1dfSwgIjBfY291bnRyeV91dWlkIjogeyJuYW1lIjogImNvdW50cnkifX0sICJyZXF1ZXN0ZWRfcHJlZGljYXRlcyI6IHsiMF9hZ2VfR0VfdXVpZCI6IHsibmFtZSI6ICJhZ2UiLCAicF90eXBlIjogIj49IiwgInBfdmFsdWUiOiAyMSwgInJlc3RyaWN0aW9ucyI6IFt7Imlzc3Vlcl9kaWQiOiAiODI2QnJjaW5pVFRoN0ZSTUZ5clBXUiJ9XX19LCAibm9uY2UiOiAiODY3MDY2MzU2NDQ0MzE0MzQ5NDk1MzkwIn0='}}]}, 'presentation': {'proof': {'proofs': [{'primary_proof': {'eq_proof': {'revealed_attrs': {'name': '93006290325627508022776103386395994712401809437930957652111221015872244345185', 'skill': '24214165878429772374367858032287880675266648921286067519661391650938186682695'}, 'a_prime': '36605839518702014619533573864272015239335897390725080997422477636641025403624194255567236505043604020276588990474337521939672459478401007718781053612454112001582004626004864576351065864164051914702821890646703024358752855297950497048553775073608619407101767433407675070801771023484729040282753479410044500522485723961622620102805370255999024244830423198436520884596013568965031336441642542684446412902344926867215287814778938949706044743902747187259708105626738626106431767009295893124659550697466589872038082996326603276921042446447126962795524036578606086734356779476691830161059979619153330900772960342832537353411', 'e': '159199209673760596387201221542554578345213402647877977035379430962558194788619689748771699546274031187707315289116526131427378047749523439', 'v': '516734287176094402033559313019014316702921696534992764370450452934341043422807075299194083677370423679656598537502517317091162724809863252678211960167687929813444225691504177098919383245526344857034158824223898584647729868576710977908880644525884070117026285548408593308503412350648032287264947570924538195746383960531869415660511844618753888614900475965465997500168984060305781119354106009756228292265856823551775813600439665404473037812052178758558883099462353862197814808266519772038953476950985635752952934798075848471459597085299133004656459567076761698870912605333130597163568200269589650318358586905942568417646334941997058926553023762091736872250801003062680554942957864809998864094691197456574251220417260402849549844421575993812589146367521305945262553225921150504750803579775097075768147563926424450215312406044875043134538769381022151276334635556857930925676826629256775353570538844476354350186712639408044144', 'm': {'age': '2459743107712911081984068473592587973748793789718540920794973698124379429674432645178400339803065255384667065951254570046688679052887313203566996805362221583184732344097724988050', 'master_secret': '4099995521150814128490826547871854395079562585648011301256532946830682633528765240540018299661222295475715483273274142558086877960727797104279188036950789414060116018516431805322'}, 'm2': '11221716225023131193918842562698145401873964969364430049584839950969713664628711510410045280693785240828667487646657810303205132466567964155488212879806784228952387090034949192560'}, 'ge_proofs': [{'u': {'0': '7381675557337843259679149517216997696822817097255012143659608824286759031691695256392745279614713993840283636335116259295458184665950061826838979578420940850786598753188581576191', '2': '4105958041203495754132229159439158598289766157167571090828316257098722955565070477745205970661758844857190099249728885426646238628807989178430364980471751243230959429825868040204', '3': '7662794407510599242765935089187377915046610491894631468696447119423230202627695070365496987307180919039297128740529206969312119158307594251964704246641008703724128152957725371338', '1': '10973387749715211729721004706077579218622983688841701708955856706355842021276619614381004328625805506596761559293487684324493256149045730764900595812501081855952439212182909946118'}, 'r': {'1': '1807754804639184832883951372664301801760428105114259180343706643861655297334382496643401284474517005624749274643631910212014746299788857649430665802567324940586955442707478103043887362547849899879006040850433703707111622526215224024161691978506270111691444645329728027015740793351192759372834100208292811182558499336842939514668832240770019959417092342538432091626172060852224020327301053209648075390855704299368348800694290977888567879329897815666555470808410053051474495904876844744169537197201172396502415909062316234875179523648639009491192514612898831457992009855043306157233798042654046700340069519030211752038283545643060410850121271487842204184210063492695202513828232010788044265231940294004315456118889281395', '0': '1429153107588563545623376222310449478436776249141243983320159252290327826720021675772378669694614376485420457449684580790944048206333618944899899062288828424814859135545249357982290841621051298954216713811004734407380451796341618886608770870478806802860072173029300491842427532995675787682284595115183389218766823961814476130404568246829662361953015094368254865124297309750952626691337473613437895298637640450945386980989056728131049476644027592182251748027281553608804200918939452718549167934379737386048402350182789727696908636724792089017412388599363782845715815068729577653045355292666926830012251914198973743148106139958911001536106283734975002674212383202250369162886659700778661787698384859901150198003893695145', '2': '2036987750703382814932570427106074489272725996664790702117723973604352983517553601283045577867996864231480171313176581683011977505579224888696599687939688639060257124338233071987673763608007815482254873061871346491145589445393545168575243986535522240445077006198131855557762326809542700486994002866873884313752263020997895354886475198297043751671849492999806006266308479442228288230505441998088318942458833959903790512542942563881202977071902428592208086404665528806925898192840406241068353962667956908176118052436439924861671572598329999525762127555330497188072010631680489047692208898532015008634078864149675060400294204376907828517265519456537367757486597922620751578277087630119002971460982885867419492795674438728', '3': '3160006882860489031246005081785292422548008525321099874508151536127370561644537811110114717388290489013293045518201103113101976542936324178106160252557680680624293928717251739262304875778976542144416085747035744490616443428549451152002107201397727626619679517569588033488110099782024885707931030302653980250556239212999642860658843431180349992264529336673581065768796753019681983276407047445088595666290991552219424506945319418690002968038253230227238770148856768749053186518664427014125211051905419667839604433293980505281466178203110345106199173992735791817011177756661739660668974662321387455217846866539126123375434557994900720225482697933746196030608274089993539324226693161050289015121941166924817107200217452711', 'DELTA': '1433289270960400546466278078232472127081599883079533643044223792560377083744346089531082329691672281162780379228943292851243966235623882771371389352148885578522820025502772048751931790795658278022324108669248663919749539320522273110723260195846084777975817250029580952936825121542911639988841382264913721558690808177406286542885451895977962172224284795812249902005850191357008565479652718210032633248228849018613752754017956677361179337155933189739329508433181191643575510183039820743040602670842207042213571341627490003431488387095682161552335741967053151693813588672297088430964715363605729390358763953198238473568525955983231037632577729713515956689961599502525783669152102900369065544101896874709572915413470760826'}, 'mj': '2459743107712911081984068473592587973748793789718540920794973698124379429674432645178400339803065255384667065951254570046688679052887313203566996805362221583184732344097724988050', 'alpha': '11074513697805919295024187855653334767320897333544975395389483816063990367313820456647410436143511453318431634319448616704756135742222277890897918407737836291823295990721372293862995706223626137128838497412040285743236198068487488281480607940934291416621374582738208924168407902752326455018436090302960888605964336083575841693972447753944173495388265667667349125613824862811001326311073199787499361262294531291818496795623278407885381892301560717895610893385009785995132115655339169301170001027916119653021977267822410764320942961252840244634308541331426904240383109537437381242414604261898736288741618952211167538005711145056199719555594220533469107470180594939010690460117555198440343757549107749194979087554981267304785991708105007641786916023722794286395412640572617375415550205269027306839753655569833059663411035168737057143619149589', 't': {'0': '56648788420256006659234129015981379601482152038426711992694672863037448778513854231696275265783805991216467895672138949402103860076500001200062769774056075657895525432539012646141048605462870624171591316657835027091090502456080333868937755600371493455161874533329342519879339845841581948141852209028801537562719835498290892893914897319608756827621323426073669929308493466526640984298240215657408507931515863325519855174844734082453282277084481539863163349192388153468694715020161306488454096584149837094580439800547248277308960128778213511990973620130545942327066740463838745348688559804666383574972562714643232883935', '1': '106801789654189725336330258172607797935816654229743403336311324571025694725239866141620433341190624657698467314073809794283711957710592588688606059567772750628369698360688271568314074048907782475532586784686380077247946437447802858140176565851664119572560610687321107422604581820265821194793941504261719469953662049691150250526468537614003925298479907772497610435855156297079215058024931098241102801340993206571925236005388752128458991987866272827082542470151882118336598236094892895025216996330451470733711197794109243100488515488142741432823929563405695169596280861813953609914579479497423368760888000312064549789874', '2': '53628780268250008848959958858541966450852357395273676785030132557614165010202142778144786403867516054026321795217591303807845118673533941488449674442967415591268733799129699959616074580591838808424106281099309976659307634620051938063402238187282407142623790175602278573627962362859960605180083443218093632291220980546447892809578773291587671345569033298341341228024453155957858397782285965258083838352766995248290151587964146336108355837674106375368771741845745046281867287327778497629514013122631097174593336351611001121892902605769698503038407802372728013345661222712123526255966857003000922025760869578645215591073', 'DELTA': '58785526590932706310285096870249570160539792015137380588566862031754401354873070490271463912815410365950929940301157685249972708845047911512407798464480555799517899693685373902945145608815305840542178412101553915581629317264710692024855674869062865624916347554925180706784979799382009030275888639997295850166430351393194062080935314185140316840509626795855796251497940194799364250083294778521188370636763865505819540519434874320523047339450176423701420978478688988257229377668968104449513981513108317592254166136089409812275113408014294768836305066499932385627514065189598719963449422124191733181407494794049179618856', '3': '81278236897555960141036975618832471634752984482276369654907490500268308391091576232536948256524630582444057651179457048938750254713970809392490139275951111156431833103826763062410400117163739463940301715073655255574638963873492034210300282462143249309709004679700415886172684684205174803144448854902378894631350885753898020483341201697719516789688819151544528835396442055980414462851437797428894607215108978999351444241065821397694684857033537677527633406509494148022454392660745275770574059838010679345513203957107091763376369640653307018564167619577054426795553826260229578580980544740478274341719406567431717515078'}, 'predicate': {'attr_name': 'age', 'p_type': 'GE', 'value': 21}}]}, 'non_revoc_proof': None}], 'aggregated_proof': {'c_hash': '96358879354697568624535720986143257919407527592121321045529009671956620519609', 'c_list': [[1, 33, 249, 94, 244, 147, 174, 235, 216, 242, 190, 219, 54, 14, 168, 175, 24, 156, 214, 218, 26, 54, 228, 110, 87, 228, 118, 37, 197, 103, 179, 123, 120, 81, 243, 59, 122, 87, 102, 197, 141, 169, 126, 68, 136, 195, 248, 37, 213, 153, 149, 187, 40, 95, 92, 231, 78, 182, 110, 169, 14, 125, 228, 246, 159, 214, 107, 180, 163, 139, 86, 236, 237, 191, 67, 38, 156, 94, 87, 32, 202, 156, 139, 40, 156, 54, 88, 134, 79, 253, 163, 24, 54, 84, 104, 95, 105, 64, 142, 50, 82, 206, 241, 66, 168, 140, 0, 180, 101, 155, 127, 92, 132, 99, 47, 194, 2, 196, 235, 175, 249, 157, 204, 84, 107, 63, 40, 86, 74, 9, 119, 187, 168, 31, 189, 67, 124, 34, 67, 37, 17, 160, 200, 125, 124, 55, 123, 29, 0, 228, 54, 169, 224, 87, 92, 22, 85, 248, 124, 210, 91, 34, 69, 157, 234, 197, 236, 76, 12, 124, 83, 220, 139, 170, 41, 58, 250, 34, 105, 107, 206, 8, 35, 28, 186, 95, 175, 186, 89, 40, 48, 203, 248, 13, 108, 72, 221, 17, 254, 53, 216, 140, 91, 203, 198, 41, 95, 189, 48, 114, 51, 111, 115, 244, 79, 211, 61, 178, 54, 126, 129, 168, 127, 207, 219, 157, 40, 84, 157, 54, 85, 230, 21, 114, 59, 250, 49, 46, 54, 174, 146, 25, 205, 213, 125, 46, 169, 246, 66, 147, 65, 22, 174, 58, 11, 60, 195], [1, 192, 190, 174, 18, 56, 101, 246, 38, 206, 58, 30, 104, 212, 129, 210, 212, 47, 90, 70, 178, 157, 62, 225, 152, 118, 52, 126, 158, 247, 149, 56, 167, 222, 148, 213, 205, 130, 181, 31, 9, 15, 7, 70, 233, 147, 145, 107, 225, 232, 87, 225, 206, 93, 138, 129, 78, 3, 71, 132, 246, 93, 180, 146, 102, 19, 68, 48, 122, 123, 25, 85, 177, 135, 22, 155, 167, 73, 188, 222, 91, 249, 155, 160, 189, 251, 87, 7, 253, 193, 219, 131, 228, 147, 182, 107, 21, 240, 140, 157, 85, 222, 212, 195, 5, 203, 210, 166, 166, 19, 160, 132, 86, 239, 225, 140, 9, 155, 33, 201, 24, 98, 143, 12, 225, 167, 240, 55, 165, 133, 137, 98, 82, 179, 207, 212, 27, 207, 205, 120, 7, 60, 115, 242, 107, 60, 21, 149, 22, 132, 41, 222, 167, 199, 37, 157, 234, 17, 79, 93, 65, 222, 49, 210, 243, 13, 227, 177, 200, 174, 248, 60, 25, 95, 191, 84, 53, 132, 206, 203, 68, 120, 209, 202, 6, 74, 14, 246, 103, 55, 217, 165, 121, 105, 48, 93, 206, 113, 199, 118, 165, 45, 30, 34, 119, 254, 202, 66, 156, 47, 109, 41, 35, 182, 93, 228, 203, 183, 138, 83, 154, 26, 22, 186, 11, 161, 38, 220, 235, 247, 107, 18, 105, 174, 76, 128, 92, 44, 95, 182, 19, 8, 71, 161, 154, 29, 9, 82, 232, 204, 152, 7, 67, 189, 62, 132, 223], [3, 78, 8, 123, 236, 73, 12, 11, 130, 43, 123, 186, 240, 86, 164, 63, 199, 180, 236, 192, 48, 11, 195, 243, 162, 142, 227, 63, 167, 152, 79, 185, 10, 243, 6, 138, 77, 218, 74, 28, 87, 40, 101, 185, 124, 41, 151, 106, 215, 204, 42, 254, 149, 135, 112, 177, 211, 180, 200, 151, 100, 183, 23, 117, 57, 161, 120, 141, 2, 95, 4, 58, 121, 166, 89, 74, 219, 32, 128, 35, 215, 30, 54, 158, 241, 49, 96, 231, 71, 248, 231, 54, 62, 175, 209, 233, 102, 38, 73, 123, 61, 168, 86, 153, 59, 78, 184, 183, 146, 136, 199, 96, 169, 143, 54, 11, 29, 63, 216, 221, 250, 190, 208, 62, 162, 82, 227, 1, 74, 143, 56, 192, 120, 19, 143, 146, 228, 214, 237, 60, 195, 96, 9, 78, 133, 253, 142, 81, 245, 161, 139, 95, 1, 26, 159, 164, 133, 213, 48, 15, 100, 48, 39, 51, 54, 77, 93, 134, 179, 46, 78, 201, 37, 115, 86, 142, 159, 22, 89, 204, 7, 30, 161, 103, 163, 202, 247, 9, 201, 46, 200, 60, 197, 96, 66, 31, 85, 240, 98, 166, 3, 129, 171, 223, 222, 239, 249, 53, 152, 193, 241, 99, 187, 55, 38, 214, 170, 91, 64, 175, 28, 219, 173, 136, 54, 18, 118, 97, 85, 121, 216, 222, 16, 139, 221, 150, 11, 86, 91, 8, 1, 36, 71, 166, 254, 22, 100, 130, 111, 77, 150, 14, 82, 198, 131, 32, 178], [1, 168, 210, 95, 147, 131, 128, 27, 7, 71, 173, 126, 32, 79, 145, 242, 11, 98, 28, 236, 199, 56, 206, 128, 246, 114, 122, 247, 176, 111, 23, 141, 128, 144, 22, 48, 199, 144, 230, 207, 88, 22, 188, 80, 161, 13, 30, 200, 178, 93, 181, 232, 227, 193, 140, 37, 53, 93, 30, 187, 225, 106, 87, 89, 245, 47, 46, 19, 240, 166, 174, 85, 95, 230, 194, 27, 221, 227, 211, 11, 62, 175, 64, 255, 141, 135, 201, 16, 177, 3, 207, 45, 17, 79, 26, 61, 242, 15, 89, 16, 215, 189, 24, 124, 173, 159, 142, 55, 77, 112, 94, 149, 141, 180, 21, 95, 106, 165, 212, 250, 226, 14, 14, 16, 37, 163, 2, 180, 168, 80, 190, 174, 189, 126, 90, 206, 249, 227, 89, 252, 143, 229, 227, 0, 98, 173, 250, 34, 199, 104, 109, 216, 153, 49, 87, 205, 110, 83, 198, 0, 195, 4, 31, 104, 169, 94, 108, 203, 4, 238, 218, 29, 117, 69, 47, 181, 236, 72, 237, 60, 253, 83, 234, 27, 242, 213, 82, 40, 39, 107, 109, 66, 10, 64, 133, 216, 48, 38, 142, 111, 142, 234, 77, 111, 255, 250, 64, 20, 196, 210, 51, 150, 82, 53, 47, 131, 63, 107, 170, 149, 246, 106, 24, 104, 190, 55, 241, 114, 212, 189, 255, 181, 156, 243, 110, 135, 242, 177, 53, 80, 91, 142, 25, 31, 237, 187, 47, 93, 248, 39, 49, 16, 197, 244, 215, 58, 161], [2, 131, 217, 0, 15, 112, 249, 70, 198, 42, 199, 227, 187, 199, 0, 14, 225, 228, 146, 18, 61, 240, 158, 84, 105, 246, 190, 239, 146, 20, 208, 208, 68, 90, 194, 84, 117, 31, 239, 76, 156, 143, 61, 207, 19, 18, 243, 221, 92, 183, 34, 250, 136, 27, 188, 193, 226, 87, 127, 135, 155, 166, 78, 100, 246, 54, 225, 171, 14, 38, 146, 136, 126, 7, 229, 24, 50, 14, 166, 49, 164, 181, 138, 146, 188, 214, 139, 229, 171, 240, 102, 55, 23, 155, 179, 156, 193, 117, 113, 223, 140, 41, 164, 188, 78, 181, 11, 101, 205, 216, 3, 89, 173, 179, 124, 165, 13, 164, 103, 66, 183, 169, 5, 168, 244, 113, 248, 153, 35, 238, 218, 81, 15, 238, 217, 249, 237, 169, 223, 249, 226, 24, 75, 251, 237, 123, 181, 192, 171, 170, 126, 65, 151, 0, 250, 202, 99, 243, 3, 128, 109, 205, 185, 107, 154, 95, 152, 43, 65, 227, 212, 113, 236, 250, 109, 128, 49, 104, 170, 14, 185, 122, 174, 119, 124, 57, 189, 164, 110, 214, 173, 18, 186, 45, 219, 202, 160, 41, 191, 149, 58, 176, 128, 169, 121, 246, 254, 115, 209, 177, 209, 126, 243, 164, 151, 49, 56, 19, 88, 188, 87, 56, 43, 251, 172, 224, 35, 240, 68, 242, 95, 249, 11, 7, 198, 223, 223, 109, 34, 103, 129, 178, 245, 245, 186, 233, 148, 232, 64, 194, 200, 199, 193, 255, 191, 239, 70], [1, 209, 171, 203, 67, 249, 243, 230, 15, 141, 251, 209, 69, 33, 113, 235, 7, 196, 243, 245, 224, 214, 113, 93, 215, 183, 119, 158, 42, 190, 172, 213, 12, 236, 110, 150, 223, 96, 204, 18, 230, 140, 225, 33, 55, 170, 146, 97, 231, 123, 211, 30, 180, 157, 226, 213, 23, 15, 141, 3, 221, 104, 213, 211, 253, 185, 125, 152, 126, 210, 124, 232, 242, 196, 42, 146, 90, 175, 40, 211, 174, 219, 138, 102, 44, 202, 243, 66, 248, 36, 41, 129, 219, 255, 117, 252, 68, 38, 163, 156, 79, 205, 73, 105, 229, 195, 150, 14, 14, 105, 0, 32, 215, 189, 162, 162, 249, 225, 220, 232, 194, 45, 33, 144, 18, 190, 191, 81, 4, 117, 48, 31, 111, 51, 248, 63, 145, 2, 174, 30, 196, 121, 154, 238, 216, 160, 228, 113, 46, 248, 111, 194, 22, 211, 195, 211, 126, 136, 74, 192, 185, 122, 196, 109, 62, 33, 253, 189, 174, 140, 31, 62, 19, 206, 227, 42, 178, 13, 14, 29, 170, 44, 34, 49, 235, 114, 64, 93, 251, 212, 245, 253, 142, 62, 92, 61, 103, 172, 72, 189, 136, 140, 113, 245, 180, 202, 64, 96, 129, 180, 99, 38, 30, 249, 44, 193, 65, 128, 13, 148, 147, 2, 243, 150, 133, 223, 143, 180, 94, 127, 111, 183, 161, 208, 133, 60, 230, 89, 32, 249, 9, 77, 131, 176, 136, 248, 168, 58, 85, 164, 220, 109, 112, 142, 112, 14, 40]]}}, 'requested_proof': {'revealed_attrs': {'0_skill_uuid': {'sub_proof_index': 0, 'raw': 'researcher', 'encoded': '24214165878429772374367858032287880675266648921286067519661391650938186682695'}, '0_name_uuid': {'sub_proof_index': 0, 'raw': 'Bob', 'encoded': '93006290325627508022776103386395994712401809437930957652111221015872244345185'}}, 'self_attested_attrs': {'0_country_uuid': 'UK'}, 'unrevealed_attrs': {}, 'predicates': {'0_age_GE_uuid': {'sub_proof_index': 0}}}, 'identifiers': [{'schema_id': 'MGgoJXWbeupKsaHDa7s4fW:2:testabc:0.0.1', 'cred_def_id': '826BrciniTTh7FRMFyrPWR:3:CL:141433:default', 'rev_reg_id': None, 'timestamp': None}]}, 'created_at': '2020-09-16 13:43:29.679684Z', 'updated_at': '2020-09-16 13:46:17.759791Z', 'initiator': 'self'}\n"
     ]
    },
    {
     "name": "stdout",
     "output_type": "stream",
     "text": [
      "Handle present proof\n",
      "{'role': 'verifier', 'state': 'verified', 'connection_id': '0d9630cd-4deb-43d7-a4f1-a5513ca5869b', 'presentation_exchange_id': '53a604ac-b1d3-464e-a4ce-16628e44555e', 'presentation_request': {'name': 'Proof of Personal Information', 'version': '1.0', 'requested_attributes': {'0_name_uuid': {'name': 'name', 'restrictions': [{'issuer_did': '826BrciniTTh7FRMFyrPWR'}]}, '0_skill_uuid': {'name': 'skill', 'restrictions': [{'issuer_did': '826BrciniTTh7FRMFyrPWR'}]}, '0_country_uuid': {'name': 'country'}}, 'requested_predicates': {'0_age_GE_uuid': {'name': 'age', 'p_type': '>=', 'p_value': 21, 'restrictions': [{'issuer_did': '826BrciniTTh7FRMFyrPWR'}]}}, 'nonce': '867066356444314349495390'}, 'verified': 'true', 'thread_id': 'a8018567-1c2d-411a-9195-9c21a206e436', 'auto_present': False, 'trace': False, 'presentation_request_dict': {'@type': 'did:sov:BzCbsNYhMrjHiqZDTUASHg;spec/present-proof/1.0/request-presentation', '@id': 'a8018567-1c2d-411a-9195-9c21a206e436', 'request_presentations~attach': [{'@id': 'libindy-request-presentation-0', 'mime-type': 'application/json', 'data': {'base64': 'eyJuYW1lIjogIlByb29mIG9mIFBlcnNvbmFsIEluZm9ybWF0aW9uIiwgInZlcnNpb24iOiAiMS4wIiwgInJlcXVlc3RlZF9hdHRyaWJ1dGVzIjogeyIwX25hbWVfdXVpZCI6IHsibmFtZSI6ICJuYW1lIiwgInJlc3RyaWN0aW9ucyI6IFt7Imlzc3Vlcl9kaWQiOiAiODI2QnJjaW5pVFRoN0ZSTUZ5clBXUiJ9XX0sICIwX3NraWxsX3V1aWQiOiB7Im5hbWUiOiAic2tpbGwiLCAicmVzdHJpY3Rpb25zIjogW3siaXNzdWVyX2RpZCI6ICI4MjZCcmNpbmlUVGg3RlJNRnlyUFdSIn1dfSwgIjBfY291bnRyeV91dWlkIjogeyJuYW1lIjogImNvdW50cnkifX0sICJyZXF1ZXN0ZWRfcHJlZGljYXRlcyI6IHsiMF9hZ2VfR0VfdXVpZCI6IHsibmFtZSI6ICJhZ2UiLCAicF90eXBlIjogIj49IiwgInBfdmFsdWUiOiAyMSwgInJlc3RyaWN0aW9ucyI6IFt7Imlzc3Vlcl9kaWQiOiAiODI2QnJjaW5pVFRoN0ZSTUZ5clBXUiJ9XX19LCAibm9uY2UiOiAiODY3MDY2MzU2NDQ0MzE0MzQ5NDk1MzkwIn0='}}]}, 'presentation': {'proof': {'proofs': [{'primary_proof': {'eq_proof': {'revealed_attrs': {'name': '93006290325627508022776103386395994712401809437930957652111221015872244345185', 'skill': '24214165878429772374367858032287880675266648921286067519661391650938186682695'}, 'a_prime': '36605839518702014619533573864272015239335897390725080997422477636641025403624194255567236505043604020276588990474337521939672459478401007718781053612454112001582004626004864576351065864164051914702821890646703024358752855297950497048553775073608619407101767433407675070801771023484729040282753479410044500522485723961622620102805370255999024244830423198436520884596013568965031336441642542684446412902344926867215287814778938949706044743902747187259708105626738626106431767009295893124659550697466589872038082996326603276921042446447126962795524036578606086734356779476691830161059979619153330900772960342832537353411', 'e': '159199209673760596387201221542554578345213402647877977035379430962558194788619689748771699546274031187707315289116526131427378047749523439', 'v': '516734287176094402033559313019014316702921696534992764370450452934341043422807075299194083677370423679656598537502517317091162724809863252678211960167687929813444225691504177098919383245526344857034158824223898584647729868576710977908880644525884070117026285548408593308503412350648032287264947570924538195746383960531869415660511844618753888614900475965465997500168984060305781119354106009756228292265856823551775813600439665404473037812052178758558883099462353862197814808266519772038953476950985635752952934798075848471459597085299133004656459567076761698870912605333130597163568200269589650318358586905942568417646334941997058926553023762091736872250801003062680554942957864809998864094691197456574251220417260402849549844421575993812589146367521305945262553225921150504750803579775097075768147563926424450215312406044875043134538769381022151276334635556857930925676826629256775353570538844476354350186712639408044144', 'm': {'age': '2459743107712911081984068473592587973748793789718540920794973698124379429674432645178400339803065255384667065951254570046688679052887313203566996805362221583184732344097724988050', 'master_secret': '4099995521150814128490826547871854395079562585648011301256532946830682633528765240540018299661222295475715483273274142558086877960727797104279188036950789414060116018516431805322'}, 'm2': '11221716225023131193918842562698145401873964969364430049584839950969713664628711510410045280693785240828667487646657810303205132466567964155488212879806784228952387090034949192560'}, 'ge_proofs': [{'u': {'0': '7381675557337843259679149517216997696822817097255012143659608824286759031691695256392745279614713993840283636335116259295458184665950061826838979578420940850786598753188581576191', '2': '4105958041203495754132229159439158598289766157167571090828316257098722955565070477745205970661758844857190099249728885426646238628807989178430364980471751243230959429825868040204', '3': '7662794407510599242765935089187377915046610491894631468696447119423230202627695070365496987307180919039297128740529206969312119158307594251964704246641008703724128152957725371338', '1': '10973387749715211729721004706077579218622983688841701708955856706355842021276619614381004328625805506596761559293487684324493256149045730764900595812501081855952439212182909946118'}, 'r': {'1': '1807754804639184832883951372664301801760428105114259180343706643861655297334382496643401284474517005624749274643631910212014746299788857649430665802567324940586955442707478103043887362547849899879006040850433703707111622526215224024161691978506270111691444645329728027015740793351192759372834100208292811182558499336842939514668832240770019959417092342538432091626172060852224020327301053209648075390855704299368348800694290977888567879329897815666555470808410053051474495904876844744169537197201172396502415909062316234875179523648639009491192514612898831457992009855043306157233798042654046700340069519030211752038283545643060410850121271487842204184210063492695202513828232010788044265231940294004315456118889281395', '0': '1429153107588563545623376222310449478436776249141243983320159252290327826720021675772378669694614376485420457449684580790944048206333618944899899062288828424814859135545249357982290841621051298954216713811004734407380451796341618886608770870478806802860072173029300491842427532995675787682284595115183389218766823961814476130404568246829662361953015094368254865124297309750952626691337473613437895298637640450945386980989056728131049476644027592182251748027281553608804200918939452718549167934379737386048402350182789727696908636724792089017412388599363782845715815068729577653045355292666926830012251914198973743148106139958911001536106283734975002674212383202250369162886659700778661787698384859901150198003893695145', '2': '2036987750703382814932570427106074489272725996664790702117723973604352983517553601283045577867996864231480171313176581683011977505579224888696599687939688639060257124338233071987673763608007815482254873061871346491145589445393545168575243986535522240445077006198131855557762326809542700486994002866873884313752263020997895354886475198297043751671849492999806006266308479442228288230505441998088318942458833959903790512542942563881202977071902428592208086404665528806925898192840406241068353962667956908176118052436439924861671572598329999525762127555330497188072010631680489047692208898532015008634078864149675060400294204376907828517265519456537367757486597922620751578277087630119002971460982885867419492795674438728', '3': '3160006882860489031246005081785292422548008525321099874508151536127370561644537811110114717388290489013293045518201103113101976542936324178106160252557680680624293928717251739262304875778976542144416085747035744490616443428549451152002107201397727626619679517569588033488110099782024885707931030302653980250556239212999642860658843431180349992264529336673581065768796753019681983276407047445088595666290991552219424506945319418690002968038253230227238770148856768749053186518664427014125211051905419667839604433293980505281466178203110345106199173992735791817011177756661739660668974662321387455217846866539126123375434557994900720225482697933746196030608274089993539324226693161050289015121941166924817107200217452711', 'DELTA': '1433289270960400546466278078232472127081599883079533643044223792560377083744346089531082329691672281162780379228943292851243966235623882771371389352148885578522820025502772048751931790795658278022324108669248663919749539320522273110723260195846084777975817250029580952936825121542911639988841382264913721558690808177406286542885451895977962172224284795812249902005850191357008565479652718210032633248228849018613752754017956677361179337155933189739329508433181191643575510183039820743040602670842207042213571341627490003431488387095682161552335741967053151693813588672297088430964715363605729390358763953198238473568525955983231037632577729713515956689961599502525783669152102900369065544101896874709572915413470760826'}, 'mj': '2459743107712911081984068473592587973748793789718540920794973698124379429674432645178400339803065255384667065951254570046688679052887313203566996805362221583184732344097724988050', 'alpha': '11074513697805919295024187855653334767320897333544975395389483816063990367313820456647410436143511453318431634319448616704756135742222277890897918407737836291823295990721372293862995706223626137128838497412040285743236198068487488281480607940934291416621374582738208924168407902752326455018436090302960888605964336083575841693972447753944173495388265667667349125613824862811001326311073199787499361262294531291818496795623278407885381892301560717895610893385009785995132115655339169301170001027916119653021977267822410764320942961252840244634308541331426904240383109537437381242414604261898736288741618952211167538005711145056199719555594220533469107470180594939010690460117555198440343757549107749194979087554981267304785991708105007641786916023722794286395412640572617375415550205269027306839753655569833059663411035168737057143619149589', 't': {'0': '56648788420256006659234129015981379601482152038426711992694672863037448778513854231696275265783805991216467895672138949402103860076500001200062769774056075657895525432539012646141048605462870624171591316657835027091090502456080333868937755600371493455161874533329342519879339845841581948141852209028801537562719835498290892893914897319608756827621323426073669929308493466526640984298240215657408507931515863325519855174844734082453282277084481539863163349192388153468694715020161306488454096584149837094580439800547248277308960128778213511990973620130545942327066740463838745348688559804666383574972562714643232883935', '1': '106801789654189725336330258172607797935816654229743403336311324571025694725239866141620433341190624657698467314073809794283711957710592588688606059567772750628369698360688271568314074048907782475532586784686380077247946437447802858140176565851664119572560610687321107422604581820265821194793941504261719469953662049691150250526468537614003925298479907772497610435855156297079215058024931098241102801340993206571925236005388752128458991987866272827082542470151882118336598236094892895025216996330451470733711197794109243100488515488142741432823929563405695169596280861813953609914579479497423368760888000312064549789874', '2': '53628780268250008848959958858541966450852357395273676785030132557614165010202142778144786403867516054026321795217591303807845118673533941488449674442967415591268733799129699959616074580591838808424106281099309976659307634620051938063402238187282407142623790175602278573627962362859960605180083443218093632291220980546447892809578773291587671345569033298341341228024453155957858397782285965258083838352766995248290151587964146336108355837674106375368771741845745046281867287327778497629514013122631097174593336351611001121892902605769698503038407802372728013345661222712123526255966857003000922025760869578645215591073', 'DELTA': '58785526590932706310285096870249570160539792015137380588566862031754401354873070490271463912815410365950929940301157685249972708845047911512407798464480555799517899693685373902945145608815305840542178412101553915581629317264710692024855674869062865624916347554925180706784979799382009030275888639997295850166430351393194062080935314185140316840509626795855796251497940194799364250083294778521188370636763865505819540519434874320523047339450176423701420978478688988257229377668968104449513981513108317592254166136089409812275113408014294768836305066499932385627514065189598719963449422124191733181407494794049179618856', '3': '81278236897555960141036975618832471634752984482276369654907490500268308391091576232536948256524630582444057651179457048938750254713970809392490139275951111156431833103826763062410400117163739463940301715073655255574638963873492034210300282462143249309709004679700415886172684684205174803144448854902378894631350885753898020483341201697719516789688819151544528835396442055980414462851437797428894607215108978999351444241065821397694684857033537677527633406509494148022454392660745275770574059838010679345513203957107091763376369640653307018564167619577054426795553826260229578580980544740478274341719406567431717515078'}, 'predicate': {'attr_name': 'age', 'p_type': 'GE', 'value': 21}}]}, 'non_revoc_proof': None}], 'aggregated_proof': {'c_hash': '96358879354697568624535720986143257919407527592121321045529009671956620519609', 'c_list': [[1, 33, 249, 94, 244, 147, 174, 235, 216, 242, 190, 219, 54, 14, 168, 175, 24, 156, 214, 218, 26, 54, 228, 110, 87, 228, 118, 37, 197, 103, 179, 123, 120, 81, 243, 59, 122, 87, 102, 197, 141, 169, 126, 68, 136, 195, 248, 37, 213, 153, 149, 187, 40, 95, 92, 231, 78, 182, 110, 169, 14, 125, 228, 246, 159, 214, 107, 180, 163, 139, 86, 236, 237, 191, 67, 38, 156, 94, 87, 32, 202, 156, 139, 40, 156, 54, 88, 134, 79, 253, 163, 24, 54, 84, 104, 95, 105, 64, 142, 50, 82, 206, 241, 66, 168, 140, 0, 180, 101, 155, 127, 92, 132, 99, 47, 194, 2, 196, 235, 175, 249, 157, 204, 84, 107, 63, 40, 86, 74, 9, 119, 187, 168, 31, 189, 67, 124, 34, 67, 37, 17, 160, 200, 125, 124, 55, 123, 29, 0, 228, 54, 169, 224, 87, 92, 22, 85, 248, 124, 210, 91, 34, 69, 157, 234, 197, 236, 76, 12, 124, 83, 220, 139, 170, 41, 58, 250, 34, 105, 107, 206, 8, 35, 28, 186, 95, 175, 186, 89, 40, 48, 203, 248, 13, 108, 72, 221, 17, 254, 53, 216, 140, 91, 203, 198, 41, 95, 189, 48, 114, 51, 111, 115, 244, 79, 211, 61, 178, 54, 126, 129, 168, 127, 207, 219, 157, 40, 84, 157, 54, 85, 230, 21, 114, 59, 250, 49, 46, 54, 174, 146, 25, 205, 213, 125, 46, 169, 246, 66, 147, 65, 22, 174, 58, 11, 60, 195], [1, 192, 190, 174, 18, 56, 101, 246, 38, 206, 58, 30, 104, 212, 129, 210, 212, 47, 90, 70, 178, 157, 62, 225, 152, 118, 52, 126, 158, 247, 149, 56, 167, 222, 148, 213, 205, 130, 181, 31, 9, 15, 7, 70, 233, 147, 145, 107, 225, 232, 87, 225, 206, 93, 138, 129, 78, 3, 71, 132, 246, 93, 180, 146, 102, 19, 68, 48, 122, 123, 25, 85, 177, 135, 22, 155, 167, 73, 188, 222, 91, 249, 155, 160, 189, 251, 87, 7, 253, 193, 219, 131, 228, 147, 182, 107, 21, 240, 140, 157, 85, 222, 212, 195, 5, 203, 210, 166, 166, 19, 160, 132, 86, 239, 225, 140, 9, 155, 33, 201, 24, 98, 143, 12, 225, 167, 240, 55, 165, 133, 137, 98, 82, 179, 207, 212, 27, 207, 205, 120, 7, 60, 115, 242, 107, 60, 21, 149, 22, 132, 41, 222, 167, 199, 37, 157, 234, 17, 79, 93, 65, 222, 49, 210, 243, 13, 227, 177, 200, 174, 248, 60, 25, 95, 191, 84, 53, 132, 206, 203, 68, 120, 209, 202, 6, 74, 14, 246, 103, 55, 217, 165, 121, 105, 48, 93, 206, 113, 199, 118, 165, 45, 30, 34, 119, 254, 202, 66, 156, 47, 109, 41, 35, 182, 93, 228, 203, 183, 138, 83, 154, 26, 22, 186, 11, 161, 38, 220, 235, 247, 107, 18, 105, 174, 76, 128, 92, 44, 95, 182, 19, 8, 71, 161, 154, 29, 9, 82, 232, 204, 152, 7, 67, 189, 62, 132, 223], [3, 78, 8, 123, 236, 73, 12, 11, 130, 43, 123, 186, 240, 86, 164, 63, 199, 180, 236, 192, 48, 11, 195, 243, 162, 142, 227, 63, 167, 152, 79, 185, 10, 243, 6, 138, 77, 218, 74, 28, 87, 40, 101, 185, 124, 41, 151, 106, 215, 204, 42, 254, 149, 135, 112, 177, 211, 180, 200, 151, 100, 183, 23, 117, 57, 161, 120, 141, 2, 95, 4, 58, 121, 166, 89, 74, 219, 32, 128, 35, 215, 30, 54, 158, 241, 49, 96, 231, 71, 248, 231, 54, 62, 175, 209, 233, 102, 38, 73, 123, 61, 168, 86, 153, 59, 78, 184, 183, 146, 136, 199, 96, 169, 143, 54, 11, 29, 63, 216, 221, 250, 190, 208, 62, 162, 82, 227, 1, 74, 143, 56, 192, 120, 19, 143, 146, 228, 214, 237, 60, 195, 96, 9, 78, 133, 253, 142, 81, 245, 161, 139, 95, 1, 26, 159, 164, 133, 213, 48, 15, 100, 48, 39, 51, 54, 77, 93, 134, 179, 46, 78, 201, 37, 115, 86, 142, 159, 22, 89, 204, 7, 30, 161, 103, 163, 202, 247, 9, 201, 46, 200, 60, 197, 96, 66, 31, 85, 240, 98, 166, 3, 129, 171, 223, 222, 239, 249, 53, 152, 193, 241, 99, 187, 55, 38, 214, 170, 91, 64, 175, 28, 219, 173, 136, 54, 18, 118, 97, 85, 121, 216, 222, 16, 139, 221, 150, 11, 86, 91, 8, 1, 36, 71, 166, 254, 22, 100, 130, 111, 77, 150, 14, 82, 198, 131, 32, 178], [1, 168, 210, 95, 147, 131, 128, 27, 7, 71, 173, 126, 32, 79, 145, 242, 11, 98, 28, 236, 199, 56, 206, 128, 246, 114, 122, 247, 176, 111, 23, 141, 128, 144, 22, 48, 199, 144, 230, 207, 88, 22, 188, 80, 161, 13, 30, 200, 178, 93, 181, 232, 227, 193, 140, 37, 53, 93, 30, 187, 225, 106, 87, 89, 245, 47, 46, 19, 240, 166, 174, 85, 95, 230, 194, 27, 221, 227, 211, 11, 62, 175, 64, 255, 141, 135, 201, 16, 177, 3, 207, 45, 17, 79, 26, 61, 242, 15, 89, 16, 215, 189, 24, 124, 173, 159, 142, 55, 77, 112, 94, 149, 141, 180, 21, 95, 106, 165, 212, 250, 226, 14, 14, 16, 37, 163, 2, 180, 168, 80, 190, 174, 189, 126, 90, 206, 249, 227, 89, 252, 143, 229, 227, 0, 98, 173, 250, 34, 199, 104, 109, 216, 153, 49, 87, 205, 110, 83, 198, 0, 195, 4, 31, 104, 169, 94, 108, 203, 4, 238, 218, 29, 117, 69, 47, 181, 236, 72, 237, 60, 253, 83, 234, 27, 242, 213, 82, 40, 39, 107, 109, 66, 10, 64, 133, 216, 48, 38, 142, 111, 142, 234, 77, 111, 255, 250, 64, 20, 196, 210, 51, 150, 82, 53, 47, 131, 63, 107, 170, 149, 246, 106, 24, 104, 190, 55, 241, 114, 212, 189, 255, 181, 156, 243, 110, 135, 242, 177, 53, 80, 91, 142, 25, 31, 237, 187, 47, 93, 248, 39, 49, 16, 197, 244, 215, 58, 161], [2, 131, 217, 0, 15, 112, 249, 70, 198, 42, 199, 227, 187, 199, 0, 14, 225, 228, 146, 18, 61, 240, 158, 84, 105, 246, 190, 239, 146, 20, 208, 208, 68, 90, 194, 84, 117, 31, 239, 76, 156, 143, 61, 207, 19, 18, 243, 221, 92, 183, 34, 250, 136, 27, 188, 193, 226, 87, 127, 135, 155, 166, 78, 100, 246, 54, 225, 171, 14, 38, 146, 136, 126, 7, 229, 24, 50, 14, 166, 49, 164, 181, 138, 146, 188, 214, 139, 229, 171, 240, 102, 55, 23, 155, 179, 156, 193, 117, 113, 223, 140, 41, 164, 188, 78, 181, 11, 101, 205, 216, 3, 89, 173, 179, 124, 165, 13, 164, 103, 66, 183, 169, 5, 168, 244, 113, 248, 153, 35, 238, 218, 81, 15, 238, 217, 249, 237, 169, 223, 249, 226, 24, 75, 251, 237, 123, 181, 192, 171, 170, 126, 65, 151, 0, 250, 202, 99, 243, 3, 128, 109, 205, 185, 107, 154, 95, 152, 43, 65, 227, 212, 113, 236, 250, 109, 128, 49, 104, 170, 14, 185, 122, 174, 119, 124, 57, 189, 164, 110, 214, 173, 18, 186, 45, 219, 202, 160, 41, 191, 149, 58, 176, 128, 169, 121, 246, 254, 115, 209, 177, 209, 126, 243, 164, 151, 49, 56, 19, 88, 188, 87, 56, 43, 251, 172, 224, 35, 240, 68, 242, 95, 249, 11, 7, 198, 223, 223, 109, 34, 103, 129, 178, 245, 245, 186, 233, 148, 232, 64, 194, 200, 199, 193, 255, 191, 239, 70], [1, 209, 171, 203, 67, 249, 243, 230, 15, 141, 251, 209, 69, 33, 113, 235, 7, 196, 243, 245, 224, 214, 113, 93, 215, 183, 119, 158, 42, 190, 172, 213, 12, 236, 110, 150, 223, 96, 204, 18, 230, 140, 225, 33, 55, 170, 146, 97, 231, 123, 211, 30, 180, 157, 226, 213, 23, 15, 141, 3, 221, 104, 213, 211, 253, 185, 125, 152, 126, 210, 124, 232, 242, 196, 42, 146, 90, 175, 40, 211, 174, 219, 138, 102, 44, 202, 243, 66, 248, 36, 41, 129, 219, 255, 117, 252, 68, 38, 163, 156, 79, 205, 73, 105, 229, 195, 150, 14, 14, 105, 0, 32, 215, 189, 162, 162, 249, 225, 220, 232, 194, 45, 33, 144, 18, 190, 191, 81, 4, 117, 48, 31, 111, 51, 248, 63, 145, 2, 174, 30, 196, 121, 154, 238, 216, 160, 228, 113, 46, 248, 111, 194, 22, 211, 195, 211, 126, 136, 74, 192, 185, 122, 196, 109, 62, 33, 253, 189, 174, 140, 31, 62, 19, 206, 227, 42, 178, 13, 14, 29, 170, 44, 34, 49, 235, 114, 64, 93, 251, 212, 245, 253, 142, 62, 92, 61, 103, 172, 72, 189, 136, 140, 113, 245, 180, 202, 64, 96, 129, 180, 99, 38, 30, 249, 44, 193, 65, 128, 13, 148, 147, 2, 243, 150, 133, 223, 143, 180, 94, 127, 111, 183, 161, 208, 133, 60, 230, 89, 32, 249, 9, 77, 131, 176, 136, 248, 168, 58, 85, 164, 220, 109, 112, 142, 112, 14, 40]]}}, 'requested_proof': {'revealed_attrs': {'0_skill_uuid': {'sub_proof_index': 0, 'raw': 'researcher', 'encoded': '24214165878429772374367858032287880675266648921286067519661391650938186682695'}, '0_name_uuid': {'sub_proof_index': 0, 'raw': 'Bob', 'encoded': '93006290325627508022776103386395994712401809437930957652111221015872244345185'}}, 'self_attested_attrs': {'0_country_uuid': 'UK'}, 'unrevealed_attrs': {}, 'predicates': {'0_age_GE_uuid': {'sub_proof_index': 0}}}, 'identifiers': [{'schema_id': 'MGgoJXWbeupKsaHDa7s4fW:2:testabc:0.0.1', 'cred_def_id': '826BrciniTTh7FRMFyrPWR:3:CL:141433:default', 'rev_reg_id': None, 'timestamp': None}]}, 'created_at': '2020-09-16 13:43:29.679684Z', 'updated_at': '2020-09-16 13:46:17.759791Z', 'initiator': 'self'}\n"
     ]
    }
   ],
   "source": [
    "verify = await agent_controller.proofs.verify_presentation(presentation_exchange_id)\n",
    "print(verify)"
   ]
  },
  {
   "cell_type": "markdown",
   "metadata": {},
   "source": [
    "### Verifying the State\n",
    "\n",
    "Once verified through the agent framework api, the state should be 'verified', otherwise the presentation is invalid."
   ]
  },
  {
   "cell_type": "code",
   "execution_count": 23,
   "metadata": {},
   "outputs": [
    {
     "name": "stdout",
     "output_type": "stream",
     "text": [
      "verified\n",
      "True\n"
     ]
    }
   ],
   "source": [
    "print(verify['state'])\n",
    "print(verify['state'] == 'verified')"
   ]
  },
  {
   "cell_type": "markdown",
   "metadata": {},
   "source": [
    "### Accessing the Revealed Attributes"
   ]
  },
  {
   "cell_type": "code",
   "execution_count": 19,
   "metadata": {},
   "outputs": [
    {
     "name": "stdout",
     "output_type": "stream",
     "text": [
      "verified\n",
      "{'revealed_attrs': {'0_skill_uuid': {'sub_proof_index': 0, 'raw': 'researcher', 'encoded': '24214165878429772374367858032287880675266648921286067519661391650938186682695'}, '0_name_uuid': {'sub_proof_index': 0, 'raw': 'Bob', 'encoded': '93006290325627508022776103386395994712401809437930957652111221015872244345185'}}, 'self_attested_attrs': {'0_country_uuid': 'UK'}, 'unrevealed_attrs': {}, 'predicates': {'0_age_GE_uuid': {'sub_proof_index': 0}}}\n",
      "0_skill_uuid\n",
      "{'sub_proof_index': 0, 'raw': 'researcher', 'encoded': '24214165878429772374367858032287880675266648921286067519661391650938186682695'}\n",
      "researcher\n",
      "0_name_uuid\n",
      "{'sub_proof_index': 0, 'raw': 'Bob', 'encoded': '93006290325627508022776103386395994712401809437930957652111221015872244345185'}\n",
      "Bob\n"
     ]
    }
   ],
   "source": [
    "print(verify['presentation'])\n",
    "print(verify['presentation']['requested_proof'])\n",
    "\n",
    "for (name, val) in verify['presentation']['requested_proof']['revealed_attrs'].items():\n",
    "    print(name)\n",
    "    print(val)\n",
    "    ## This is the actual data that you want. It's a little hidden\n",
    "    print(val['raw'])\n"
   ]
  },
  {
   "cell_type": "markdown",
   "metadata": {},
   "source": [
    "### Accessing self-attested attributes"
   ]
  },
  {
   "cell_type": "code",
   "execution_count": 22,
   "metadata": {},
   "outputs": [
    {
     "name": "stdout",
     "output_type": "stream",
     "text": [
      "0_country_uuid\n",
      "UK\n"
     ]
    }
   ],
   "source": [
    "for (name, val) in verify['presentation']['requested_proof']['self_attested_attrs'].items():\n",
    "    print(name)\n",
    "    ## Slightly different for self attested attrs\n",
    "    print(val)"
   ]
  },
  {
   "cell_type": "markdown",
   "metadata": {},
   "source": [
    "## @lohan do we say something about predicates. Not sure exactly what lol."
   ]
  },
  {
   "cell_type": "markdown",
   "metadata": {},
   "source": [
    "## End of Tutorial\n",
    "\n",
    "Be sure to terminate the controller so you can run another tutorial."
   ]
  },
  {
   "cell_type": "code",
   "execution_count": 24,
   "metadata": {
    "pycharm": {
     "name": "#%%\n"
    }
   },
   "outputs": [
    {
     "name": "stdout",
     "output_type": "stream",
     "text": [
      "None\n",
      "None\n"
     ]
    }
   ],
   "source": [
    "response = await issuer_agent_controller.terminate()\n",
    "print(response)\n",
    "response = await agent_controller.terminate()\n",
    "print(response)"
   ]
  },
  {
   "cell_type": "code",
   "execution_count": null,
   "metadata": {},
   "outputs": [],
   "source": []
  }
 ],
 "metadata": {
  "kernelspec": {
   "display_name": "Python 3",
   "language": "python",
   "name": "python3"
  },
  "language_info": {
   "codemirror_mode": {
    "name": "ipython",
    "version": 3
   },
   "file_extension": ".py",
   "mimetype": "text/x-python",
   "name": "python",
   "nbconvert_exporter": "python",
   "pygments_lexer": "ipython3",
   "version": "3.7.6"
  }
 },
 "nbformat": 4,
 "nbformat_minor": 1
}
