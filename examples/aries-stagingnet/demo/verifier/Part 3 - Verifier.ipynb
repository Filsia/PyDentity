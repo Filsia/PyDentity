{
 "cells": [
  {
   "cell_type": "markdown",
   "metadata": {},
   "source": [
    "# Aries Basic Controller - Verifier\n",
    "\n",
    "## This notebook works through the present proof protocol from the Verifier's perspective, it should be run alongside the Issuer notebook from an Issuer's perspective. \n",
    "\n",
    "If unfamiliar with the present-proof protocol it is worth reading through the [aries-rfs](https://github.com/hyperledger/aries-rfcs/tree/master/features/0037-present-proof)\n"
   ]
  },
  {
   "cell_type": "markdown",
   "metadata": {},
   "source": [
    "## Import packages"
   ]
  },
  {
   "cell_type": "code",
   "execution_count": 1,
   "metadata": {},
   "outputs": [
    {
     "name": "stdout",
     "output_type": "stream",
     "text": [
      "Collecting termcolor\n",
      "  Downloading termcolor-1.1.0.tar.gz (3.9 kB)\n",
      "Building wheels for collected packages: termcolor\n",
      "  Building wheel for termcolor (setup.py) ... \u001b[?25ldone\n",
      "\u001b[?25h  Created wheel for termcolor: filename=termcolor-1.1.0-py3-none-any.whl size=4830 sha256=7421d0250837255068892f8af5d784e41c9db600d21fe74fbaa40a6501139cf5\n",
      "  Stored in directory: /root/.cache/pip/wheels/3f/e3/ec/8a8336ff196023622fbcb36de0c5a5c218cbb24111d1d4c7f2\n",
      "Successfully built termcolor\n",
      "Installing collected packages: termcolor\n",
      "Successfully installed termcolor-1.1.0\n",
      "Collecting pillow\n",
      "  Downloading Pillow-7.2.0-cp37-cp37m-manylinux1_x86_64.whl (2.2 MB)\n",
      "\u001b[K     |████████████████████████████████| 2.2 MB 6.9 MB/s eta 0:00:01\n",
      "\u001b[?25hInstalling collected packages: pillow\n",
      "Successfully installed pillow-7.2.0\n",
      "Collecting qrcode\n",
      "  Downloading qrcode-6.1-py2.py3-none-any.whl (31 kB)\n",
      "Requirement already satisfied: six in /opt/conda/lib/python3.7/site-packages (from qrcode) (1.14.0)\n",
      "Installing collected packages: qrcode\n",
      "Successfully installed qrcode-6.1\n"
     ]
    }
   ],
   "source": [
    "!pip install termcolor\n",
    "!pip install pillow\n",
    "!pip install qrcode\n",
    "from termcolor import colored,cprint"
   ]
  },
  {
   "cell_type": "markdown",
   "metadata": {
    "pycharm": {
     "name": "#%%\n"
    }
   },
   "source": [
    "## 1. Instatiate Controller for Verifiers's Agent"
   ]
  },
  {
   "cell_type": "code",
   "execution_count": 2,
   "metadata": {
    "pycharm": {
     "name": "#%%\n"
    }
   },
   "outputs": [
    {
     "name": "stdout",
     "output_type": "stream",
     "text": [
      "IPython autoawait is `on`, and set to use `asyncio`\n"
     ]
    }
   ],
   "source": [
    "%autoawait\n",
    "import time\n",
    "import asyncio\n",
    "from aries_basic_controller.aries_controller import AriesAgentController\n",
    "\n",
    "WEBHOOK_HOST = \"0.0.0.0\"\n",
    "WEBHOOK_PORT = 8052\n",
    "WEBHOOK_BASE = \"\"\n",
    "ADMIN_URL = \"http://verifier-agent:8051\"\n",
    "\n",
    "# Based on the aca-py agent you wish to control\n",
    "agent_controller = AriesAgentController(webhook_host=WEBHOOK_HOST, webhook_port=WEBHOOK_PORT,\n",
    "                                       webhook_base=WEBHOOK_BASE, admin_url=ADMIN_URL)\n"
   ]
  },
  {
   "cell_type": "markdown",
   "metadata": {},
   "source": [
    "## 2. Register Listeners\n",
    "\n",
    "The handler should get called every time the controller receives a webhook with the topic present_proof, printing out the payload. The agent calls to this webhook every time it receives a present proof protocol message from another agent. \n",
    "\n",
    "The code for this protocol can be found [here](https://github.com/hyperledger/aries-cloudagent-python/tree/master/aries_cloudagent/protocols/issue_credential)."
   ]
  },
  {
   "cell_type": "code",
   "execution_count": 3,
   "metadata": {
    "pycharm": {
     "name": "#%%\n"
    }
   },
   "outputs": [],
   "source": [
    "loop = asyncio.get_event_loop()\n",
    "loop.create_task(agent_controller.listen_webhooks())\n",
    "\n",
    "def cred_handler(payload):\n",
    "    print(\"Handle Credentials\")\n",
    "    exchange_id = payload['credential_exchange_id']\n",
    "    state = payload['state']\n",
    "    role = payload['role']\n",
    "    attributes = payload['credential_proposal_dict']['credential_proposal']['attributes']\n",
    "    print(f\"Credential exchange {exchange_id}, role: {role}, state: {state}\")\n",
    "    print(f\"Offering: {attributes}\")\n",
    "    \n",
    "cred_listener = {\n",
    "    \"topic\": \"issue_credential\",\n",
    "    \"handler\": cred_handler\n",
    "}\n",
    "\n",
    "def messages_handler(payload):\n",
    "    connection_id = payload[\"connection_id\"]\n",
    "    asyncio.get_event_loop().create_task(agent_controller.messaging.send_message(connection_id, \"This is a response from Bob\"))\n",
    "    print(\"Handle message\", payload, connection_id)\n",
    "\n",
    "\n",
    "message_listener = {\n",
    "    \"handler\": messages_handler,\n",
    "    \"topic\": \"basicmessages\"\n",
    "}\n",
    "\n",
    "def connections_handler(payload):\n",
    "    global STATE\n",
    "    connection_id = payload[\"connection_id\"]\n",
    "    print(\"Connection message\", payload, connection_id)\n",
    "    STATE = payload['state']\n",
    "    if STATE == 'active':\n",
    "#         print('Connection {0} changed state to active'.format(connection_id))\n",
    "        print(colored(\"Connection {0} changed state to active\".format(connection_id), \"red\", attrs=[\"bold\"]))\n",
    "\n",
    "\n",
    "connection_listener = {\n",
    "    \"handler\": connections_handler,\n",
    "    \"topic\": \"connections\"\n",
    "}\n",
    "\n",
    "def proof_handler(payload):\n",
    "    print(\"Handle present proof\")\n",
    "    print(payload)\n",
    "\n",
    "proof_listener = {\n",
    "    \"topic\": \"present_proof\",\n",
    "    \"handler\": proof_handler\n",
    "}\n",
    "\n",
    "agent_controller.register_listeners([cred_listener,message_listener,connection_listener,proof_listener], defaults=True)\n",
    "\n"
   ]
  },
  {
   "cell_type": "markdown",
   "metadata": {},
   "source": [
    "## 3. Make a connection with a Users Mobile SSI Wallet\n",
    "Please download a mobile SSI wallet such as [Connect.me](https://connect.me/), [Trinsic](https://trinsic.id/trinsic-wallet/) or any other Aries compatible wallet."
   ]
  },
  {
   "cell_type": "markdown",
   "metadata": {},
   "source": [
    "## 4. Create a connection invitation to scan with the Mobile SSI Wallet"
   ]
  },
  {
   "cell_type": "markdown",
   "metadata": {},
   "source": [
    "## 4a. Check for any existing connections"
   ]
  },
  {
   "cell_type": "code",
   "execution_count": 4,
   "metadata": {},
   "outputs": [
    {
     "name": "stdout",
     "output_type": "stream",
     "text": [
      "EXISTING CONNECTIONS\n"
     ]
    }
   ],
   "source": [
    "# Check for existing connections\n",
    "connection = await agent_controller.connections.get_connections()\n",
    "print(\"EXISTING CONNECTIONS\")\n",
    "for key, value in connection.items():\n",
    "    for item in value:\n",
    "        print('ConnectionID:', item['connection_id'], 'Status:',item['state'])"
   ]
  },
  {
   "cell_type": "markdown",
   "metadata": {},
   "source": [
    "## 4b. Create an Invitation"
   ]
  },
  {
   "cell_type": "code",
   "execution_count": 5,
   "metadata": {},
   "outputs": [
    {
     "name": "stdout",
     "output_type": "stream",
     "text": [
      "Connection message {'routing_state': 'none', 'connection_id': '77b8f0ee-248b-4dd6-a984-164d78cb3b30', 'updated_at': '2020-09-16 10:32:56.271785Z', 'invitation_key': '9EcPXywGt7zSq8k6e6JGyszzEXnWfhWLeSiw6gA6nsmt', 'invitation_mode': 'once', 'accept': 'auto', 'state': 'invitation', 'initiator': 'self', 'created_at': '2020-09-16 10:32:56.271785Z'} 77b8f0ee-248b-4dd6-a984-164d78cb3b30\n",
      "Connection ID 77b8f0ee-248b-4dd6-a984-164d78cb3b30\n",
      "Invitation\n",
      "https://d4d579f95e08.ngrok.io?c_i=eyJAdHlwZSI6ICJkaWQ6c292OkJ6Q2JzTlloTXJqSGlxWkRUVUFTSGc7c3BlYy9jb25uZWN0aW9ucy8xLjAvaW52aXRhdGlvbiIsICJAaWQiOiAiOTYyNWUyM2ItOTBkMC00NDkyLWEzMjYtZWQ1MDk3ZGI2OWU4IiwgInJlY2lwaWVudEtleXMiOiBbIjlFY1BYeXdHdDd6U3E4azZlNkpHeXN6ekVYbldmaFdMZVNpdzZnQTZuc210Il0sICJzZXJ2aWNlRW5kcG9pbnQiOiAiaHR0cHM6Ly9kNGQ1NzlmOTVlMDgubmdyb2suaW8iLCAibGFiZWwiOiAiVmVyaWZpZXIifQ==\n"
     ]
    }
   ],
   "source": [
    "# Create Invitation\n",
    "invite = await agent_controller.connections.create_invitation()\n",
    "connection_id = invite[\"connection_id\"]\n",
    "print(\"Connection ID\", connection_id)\n",
    "print(\"Invitation\")\n",
    "print(invite['invitation_url'])\n",
    "inviteURL = invite['invitation_url']"
   ]
  },
  {
   "cell_type": "markdown",
   "metadata": {},
   "source": [
    "## 4c. Generate QR Code to be scanned with Mobile SSI Wallet"
   ]
  },
  {
   "cell_type": "code",
   "execution_count": 6,
   "metadata": {},
   "outputs": [
    {
     "data": {
      "image/png": "[encoded data removed]",
      "text/plain": [
       "<IPython.core.display.Image object>"
      ]
     },
     "execution_count": 6,
     "metadata": {
      "image/png": {
       "width": 400
      }
     },
     "output_type": "execute_result"
    },
    {
     "name": "stdout",
     "output_type": "stream",
     "text": [
      "Connection message {'routing_state': 'none', 'their_did': '9LB7baspkeZwiVqtzGBCVq', 'connection_id': '77b8f0ee-248b-4dd6-a984-164d78cb3b30', 'updated_at': '2020-09-16 10:34:37.143929Z', 'invitation_key': '9EcPXywGt7zSq8k6e6JGyszzEXnWfhWLeSiw6gA6nsmt', 'invitation_mode': 'once', 'accept': 'auto', 'state': 'request', 'initiator': 'self', 'their_label': 'EAX', 'created_at': '2020-09-16 10:32:56.271785Z'} 77b8f0ee-248b-4dd6-a984-164d78cb3b30\n",
      "Connection message {'routing_state': 'none', 'their_did': '9LB7baspkeZwiVqtzGBCVq', 'connection_id': '77b8f0ee-248b-4dd6-a984-164d78cb3b30', 'updated_at': '2020-09-16 10:34:37.172924Z', 'invitation_key': '9EcPXywGt7zSq8k6e6JGyszzEXnWfhWLeSiw6gA6nsmt', 'invitation_mode': 'once', 'accept': 'auto', 'state': 'response', 'initiator': 'self', 'their_label': 'EAX', 'created_at': '2020-09-16 10:32:56.271785Z', 'my_did': '4YpWvU6CxMSazWV2T3UUgv'} 77b8f0ee-248b-4dd6-a984-164d78cb3b30\n"
     ]
    }
   ],
   "source": [
    "import qrcode\n",
    "# Link for connection invitation\n",
    "input_data = inviteURL\n",
    "# Creating an instance of qrcode\n",
    "qr = qrcode.QRCode(\n",
    "        version=1,\n",
    "        box_size=10,\n",
    "        border=5)\n",
    "qr.add_data(input_data)\n",
    "qr.make(fit=True)\n",
    "img = qr.make_image(fill='black', back_color='white')\n",
    "img.save('issuer_agent_invite_QRcode.png')\n",
    "\n",
    "from IPython.display import Image\n",
    "Image(width=400, filename='./issuer_agent_invite_QRcode.png')"
   ]
  },
  {
   "cell_type": "markdown",
   "metadata": {},
   "source": [
    "## 4d. Check if established connection is in active state"
   ]
  },
  {
   "cell_type": "code",
   "execution_count": 7,
   "metadata": {},
   "outputs": [
    {
     "name": "stdout",
     "output_type": "stream",
     "text": [
      "\u001b[1m\u001b[35mCurrent state for ConnectionId 77b8f0ee-248b-4dd6-a984-164d78cb3b30 is response\u001b[0m\n",
      "\u001b[1m\u001b[33mConnectionId 77b8f0ee-248b-4dd6-a984-164d78cb3b30 is not in active state yet\u001b[0m\n",
      "\u001b[1m\u001b[34mTrust ping send to ConnectionId {'thread_id': '184ef4c2-3575-4005-b23c-eacbe3ae94d3'} to activate connection\u001b[0m\n",
      "\u001b[1m\u001b[33mConnectionId 77b8f0ee-248b-4dd6-a984-164d78cb3b30 is not in active state yet\u001b[0m\n",
      "Connection message {'routing_state': 'none', 'their_did': '9LB7baspkeZwiVqtzGBCVq', 'connection_id': '77b8f0ee-248b-4dd6-a984-164d78cb3b30', 'updated_at': '2020-09-16 10:34:42.454350Z', 'invitation_key': '9EcPXywGt7zSq8k6e6JGyszzEXnWfhWLeSiw6gA6nsmt', 'invitation_mode': 'once', 'accept': 'auto', 'state': 'active', 'initiator': 'self', 'their_label': 'EAX', 'created_at': '2020-09-16 10:32:56.271785Z', 'my_did': '4YpWvU6CxMSazWV2T3UUgv'} 77b8f0ee-248b-4dd6-a984-164d78cb3b30\n",
      "\u001b[1m\u001b[31mConnection 77b8f0ee-248b-4dd6-a984-164d78cb3b30 changed state to active\u001b[0m\n",
      "\u001b[1m\u001b[34mTrust ping send to ConnectionId {'thread_id': 'a02118a3-1057-4b1f-a621-290a1230e510'} to activate connection\u001b[0m\n",
      "\u001b[1m\u001b[32mConnectionId: 77b8f0ee-248b-4dd6-a984-164d78cb3b30 is now active. Continue with notebook\u001b[0m\n"
     ]
    }
   ],
   "source": [
    "import time\n",
    "\n",
    "# print('Current state for ConnectionId {} is {}'.format(connection_id,STATE))\n",
    "print(colored(\"Current state for ConnectionId {} is {}\".format(connection_id,STATE), \"magenta\", attrs=[\"bold\"]))\n",
    "while STATE != 'active':\n",
    "#     print('ConnectionId {0} is not in active state yet'.format(connection_id))\n",
    "    print(colored(\"ConnectionId {0} is not in active state yet\".format(connection_id), \"yellow\", attrs=[\"bold\"]))\n",
    "    trust_ping = await agent_controller.messaging.trust_ping(connection_id,'hello!')\n",
    "#     print('Trust ping send to ConnectionId {0} to activate connection'.format(trust_ping))\n",
    "    print(colored(\"Trust ping send to ConnectionId {0} to activate connection\".format(trust_ping), \"blue\", attrs=[\"bold\"]))\n",
    "    time.sleep(5)\n",
    "    \n",
    "# print('ConnectionId: {0} is now active. Continue with notebook'.format(connection_id))\n",
    "print(colored(\"ConnectionId: {0} is now active. Continue with notebook\".format(connection_id), \"green\", attrs=[\"bold\"]))\n"
   ]
  },
  {
   "cell_type": "markdown",
   "metadata": {},
   "source": [
    "## 5. Send Proof Request to Identity Holder Mobile Wallet"
   ]
  },
  {
   "cell_type": "markdown",
   "metadata": {},
   "source": [
    "## 5a. Generate Proof Request"
   ]
  },
  {
   "cell_type": "code",
   "execution_count": 8,
   "metadata": {
    "pycharm": {
     "name": "#%%\n"
    }
   },
   "outputs": [
    {
     "name": "stdout",
     "output_type": "stream",
     "text": [
      "{'result': {'did': 'QZx7SntrVpaiEgqJZkNLsA', 'verkey': 'Dr2zSXCMgw7qnFB4RwDVU3jvYTaqKyiwmK4UGd7nnPbf', 'public': True}}\n",
      "Request proof of Name and Age range from Identity Holder\n"
     ]
    }
   ],
   "source": [
    "from aries_basic_controller.aries_controller import AriesAgentController\n",
    "    \n",
    "WEBHOOK_HOST = \"0.0.0.0\"\n",
    "WEBHOOK_PORT = 8022\n",
    "WEBHOOK_BASE = \"\"\n",
    "ADMIN_URL = \"http://issuer-agent:8021\"\n",
    "\n",
    "# Based on the aca-py agent you wish to control\n",
    "issuer_agent_controller = AriesAgentController(webhook_host=WEBHOOK_HOST, webhook_port=WEBHOOK_PORT,\n",
    "                                       webhook_base=WEBHOOK_BASE, admin_url=ADMIN_URL)\n",
    "\n",
    "response = await issuer_agent_controller.wallet.get_public_did()\n",
    "print(response)\n",
    "issuer_did = response[\"result\"][\"did\"]\n",
    "\n",
    "print(\"Request proof of Name and Age range from Identity Holder\")\n",
    "#Set some variables\n",
    "\n",
    "revocation = False\n",
    "SELF_ATTESTED = True\n",
    "exchange_tracing = False\n",
    "\n",
    "#Enable this to ask for attributes to identity a user\n",
    "req_attrs = [\n",
    "    {\"name\": \"name\", \"restrictions\": [{\"issuer_did\": issuer_did}]},\n",
    "    {\"name\": \"skill\", \"restrictions\": [{\"issuer_did\": issuer_did}]},\n",
    "]\n",
    "\n",
    "if revocation:\n",
    "    req_attrs.append(\n",
    "        {\n",
    "            \"name\": \"skill\",\n",
    "            \"restrictions\": [{\"issuer_did\": agent.did}],\n",
    "            \"non_revoked\": {\"to\": int(time.time() - 1)},\n",
    "        },\n",
    "    )\n",
    "\n",
    "if SELF_ATTESTED:\n",
    "    # test self-attested claims\n",
    "    req_attrs.append({\"name\": \"country\"},)\n",
    "\n",
    "#Set predicates for Zero Knowledge Proofs\n",
    "req_preds = [\n",
    "    # test zero-knowledge proofs\n",
    "    {\n",
    "        \"name\": \"age\",\n",
    "        \"p_type\": \">=\",\n",
    "        \"p_value\": 21,\n",
    "        \"restrictions\": [{\"issuer_did\": issuer_did}],\n",
    "    }\n",
    "]\n",
    "\n",
    "indy_proof_request = {\n",
    "    \"name\": \"Proof of Personal Information\",\n",
    "    \"version\": \"1.0\",\n",
    "    \"requested_attributes\": {\n",
    "        f\"0_{req_attr['name']}_uuid\":\n",
    "        req_attr for req_attr in req_attrs\n",
    "    },\n",
    "    \"requested_predicates\": {\n",
    "        f\"0_{req_pred['name']}_GE_uuid\":\n",
    "        req_pred for req_pred in req_preds\n",
    "    },\n",
    "}\n",
    "\n",
    "if revocation:\n",
    "    indy_proof_request[\"non_revoked\"] = {\"to\": int(time.time())}\n",
    "\n",
    "#proof_request = indy_proof_request\n",
    "exchange_tracing_id = exchange_tracing\n",
    "proof_request_web_request = {\n",
    "    \"connection_id\": connection_id,\n",
    "    \"proof_request\": indy_proof_request,\n",
    "    \"trace\": exchange_tracing,\n",
    "}"
   ]
  },
  {
   "cell_type": "markdown",
   "metadata": {},
   "source": [
    "### 5b. Send the proof request to Identity Holder\n",
    "\n",
    "Identity Holder is identified through the connection_id"
   ]
  },
  {
   "cell_type": "code",
   "execution_count": 9,
   "metadata": {
    "pycharm": {
     "name": "#%%\n"
    },
    "scrolled": false
   },
   "outputs": [
    {
     "name": "stdout",
     "output_type": "stream",
     "text": [
      "Handle present proof\n",
      "{'thread_id': '7e28d785-09b1-420d-8971-6de124dee531', 'auto_present': False, 'connection_id': '77b8f0ee-248b-4dd6-a984-164d78cb3b30', 'updated_at': '2020-09-16 10:34:54.751182Z', 'presentation_request_dict': {'@type': 'did:sov:BzCbsNYhMrjHiqZDTUASHg;spec/present-proof/1.0/request-presentation', '@id': '7e28d785-09b1-420d-8971-6de124dee531', 'request_presentations~attach': [{'@id': 'libindy-request-presentation-0', 'mime-type': 'application/json', 'data': {'base64': 'eyJuYW1lIjogIlByb29mIG9mIFBlcnNvbmFsIEluZm9ybWF0aW9uIiwgInZlcnNpb24iOiAiMS4wIiwgInJlcXVlc3RlZF9hdHRyaWJ1dGVzIjogeyIwX25hbWVfdXVpZCI6IHsibmFtZSI6ICJuYW1lIiwgInJlc3RyaWN0aW9ucyI6IFt7Imlzc3Vlcl9kaWQiOiAiUVp4N1NudHJWcGFpRWdxSlprTkxzQSJ9XX0sICIwX3NraWxsX3V1aWQiOiB7Im5hbWUiOiAic2tpbGwiLCAicmVzdHJpY3Rpb25zIjogW3siaXNzdWVyX2RpZCI6ICJRWng3U250clZwYWlFZ3FKWmtOTHNBIn1dfSwgIjBfY291bnRyeV91dWlkIjogeyJuYW1lIjogImNvdW50cnkifX0sICJyZXF1ZXN0ZWRfcHJlZGljYXRlcyI6IHsiMF9hZ2VfR0VfdXVpZCI6IHsibmFtZSI6ICJhZ2UiLCAicF90eXBlIjogIj49IiwgInBfdmFsdWUiOiAyMSwgInJlc3RyaWN0aW9ucyI6IFt7Imlzc3Vlcl9kaWQiOiAiUVp4N1NudHJWcGFpRWdxSlprTkxzQSJ9XX19LCAibm9uY2UiOiAiMTIwODE4MTc4ODk1ODEyNjQ1NjM1MTIwMCJ9'}}]}, 'role': 'verifier', 'presentation_request': {'name': 'Proof of Personal Information', 'version': '1.0', 'requested_attributes': {'0_name_uuid': {'name': 'name', 'restrictions': [{'issuer_did': 'QZx7SntrVpaiEgqJZkNLsA'}]}, '0_skill_uuid': {'name': 'skill', 'restrictions': [{'issuer_did': 'QZx7SntrVpaiEgqJZkNLsA'}]}, '0_country_uuid': {'name': 'country'}}, 'requested_predicates': {'0_age_GE_uuid': {'name': 'age', 'p_type': '>=', 'p_value': 21, 'restrictions': [{'issuer_did': 'QZx7SntrVpaiEgqJZkNLsA'}]}}, 'nonce': '1208181788958126456351200'}, 'presentation_exchange_id': '946ce749-95d5-4cd3-8ec3-6f4e1e6fec3e', 'state': 'request_sent', 'initiator': 'self', 'trace': False, 'created_at': '2020-09-16 10:34:54.751182Z'}\n",
      "{'thread_id': '7e28d785-09b1-420d-8971-6de124dee531', 'auto_present': False, 'connection_id': '77b8f0ee-248b-4dd6-a984-164d78cb3b30', 'updated_at': '2020-09-16 10:34:54.751182Z', 'presentation_request_dict': {'@type': 'did:sov:BzCbsNYhMrjHiqZDTUASHg;spec/present-proof/1.0/request-presentation', '@id': '7e28d785-09b1-420d-8971-6de124dee531', 'request_presentations~attach': [{'@id': 'libindy-request-presentation-0', 'mime-type': 'application/json', 'data': {'base64': 'eyJuYW1lIjogIlByb29mIG9mIFBlcnNvbmFsIEluZm9ybWF0aW9uIiwgInZlcnNpb24iOiAiMS4wIiwgInJlcXVlc3RlZF9hdHRyaWJ1dGVzIjogeyIwX25hbWVfdXVpZCI6IHsibmFtZSI6ICJuYW1lIiwgInJlc3RyaWN0aW9ucyI6IFt7Imlzc3Vlcl9kaWQiOiAiUVp4N1NudHJWcGFpRWdxSlprTkxzQSJ9XX0sICIwX3NraWxsX3V1aWQiOiB7Im5hbWUiOiAic2tpbGwiLCAicmVzdHJpY3Rpb25zIjogW3siaXNzdWVyX2RpZCI6ICJRWng3U250clZwYWlFZ3FKWmtOTHNBIn1dfSwgIjBfY291bnRyeV91dWlkIjogeyJuYW1lIjogImNvdW50cnkifX0sICJyZXF1ZXN0ZWRfcHJlZGljYXRlcyI6IHsiMF9hZ2VfR0VfdXVpZCI6IHsibmFtZSI6ICJhZ2UiLCAicF90eXBlIjogIj49IiwgInBfdmFsdWUiOiAyMSwgInJlc3RyaWN0aW9ucyI6IFt7Imlzc3Vlcl9kaWQiOiAiUVp4N1NudHJWcGFpRWdxSlprTkxzQSJ9XX19LCAibm9uY2UiOiAiMTIwODE4MTc4ODk1ODEyNjQ1NjM1MTIwMCJ9'}}]}, 'role': 'verifier', 'presentation_request': {'name': 'Proof of Personal Information', 'version': '1.0', 'requested_attributes': {'0_name_uuid': {'name': 'name', 'restrictions': [{'issuer_did': 'QZx7SntrVpaiEgqJZkNLsA'}]}, '0_skill_uuid': {'name': 'skill', 'restrictions': [{'issuer_did': 'QZx7SntrVpaiEgqJZkNLsA'}]}, '0_country_uuid': {'name': 'country'}}, 'requested_predicates': {'0_age_GE_uuid': {'name': 'age', 'p_type': '>=', 'p_value': 21, 'restrictions': [{'issuer_did': 'QZx7SntrVpaiEgqJZkNLsA'}]}}, 'nonce': '1208181788958126456351200'}, 'presentation_exchange_id': '946ce749-95d5-4cd3-8ec3-6f4e1e6fec3e', 'state': 'request_sent', 'initiator': 'self', 'trace': False, 'created_at': '2020-09-16 10:34:54.751182Z'}\n",
      "\n",
      "\n",
      "946ce749-95d5-4cd3-8ec3-6f4e1e6fec3e\n",
      "Handle present proof\n",
      "{'thread_id': '7e28d785-09b1-420d-8971-6de124dee531', 'auto_present': False, 'connection_id': '77b8f0ee-248b-4dd6-a984-164d78cb3b30', 'updated_at': '2020-09-16 10:35:03.989331Z', 'presentation_request_dict': {'@type': 'did:sov:BzCbsNYhMrjHiqZDTUASHg;spec/present-proof/1.0/request-presentation', '@id': '7e28d785-09b1-420d-8971-6de124dee531', 'request_presentations~attach': [{'@id': 'libindy-request-presentation-0', 'mime-type': 'application/json', 'data': {'base64': 'eyJuYW1lIjogIlByb29mIG9mIFBlcnNvbmFsIEluZm9ybWF0aW9uIiwgInZlcnNpb24iOiAiMS4wIiwgInJlcXVlc3RlZF9hdHRyaWJ1dGVzIjogeyIwX25hbWVfdXVpZCI6IHsibmFtZSI6ICJuYW1lIiwgInJlc3RyaWN0aW9ucyI6IFt7Imlzc3Vlcl9kaWQiOiAiUVp4N1NudHJWcGFpRWdxSlprTkxzQSJ9XX0sICIwX3NraWxsX3V1aWQiOiB7Im5hbWUiOiAic2tpbGwiLCAicmVzdHJpY3Rpb25zIjogW3siaXNzdWVyX2RpZCI6ICJRWng3U250clZwYWlFZ3FKWmtOTHNBIn1dfSwgIjBfY291bnRyeV91dWlkIjogeyJuYW1lIjogImNvdW50cnkifX0sICJyZXF1ZXN0ZWRfcHJlZGljYXRlcyI6IHsiMF9hZ2VfR0VfdXVpZCI6IHsibmFtZSI6ICJhZ2UiLCAicF90eXBlIjogIj49IiwgInBfdmFsdWUiOiAyMSwgInJlc3RyaWN0aW9ucyI6IFt7Imlzc3Vlcl9kaWQiOiAiUVp4N1NudHJWcGFpRWdxSlprTkxzQSJ9XX19LCAibm9uY2UiOiAiMTIwODE4MTc4ODk1ODEyNjQ1NjM1MTIwMCJ9'}}]}, 'presentation': {'proof': {'proofs': [{'primary_proof': {'eq_proof': {'revealed_attrs': {'name': '93006290325627508022776103386395994712401809437930957652111221015872244345185', 'skill': '24214165878429772374367858032287880675266648921286067519661391650938186682695'}, 'a_prime': '71083165404964919077860860279670466466744712146688360461362454284482484749942053259966545507742976201230674454645982753312800296888536357189925931804475710446272041507980883204137848165335350855580360786559190698477843903915157548937311589703287024397895045676660607564937364084073350615849005822731825862408206305056722005408208922091617925669505977028515885267605429451146247641784760477712243616112674069901819122960069282752303380248495395678402744967140387651990260971567310656466063553919196482843792166334003827160376861758094384294574196110228918508303003631107717657593833799006875781926163258517760084627164', 'e': '27485753440361193183153815771653429235967146019687304797081816215204240249448525937013416261976158850031068925565363409745932422168806419', 'v': '1285259261549351101238674775164350833226326183262044125543615018450200163464617908389786391781142049832302543567371111936541426677314549405960437831990538218292916576096952213712182505003460579983917531888381965603834841889675360387248360931522389742229145219198862976999920375523499777925668401008133086032824102239686051279297058499178480394517917892776607913221079064889610824943030590257632742397739432060419713038165517907007411912952769042014827174020663839665971591608449147305587605492016794246095774642856473243557370932623383366443027137298812233023316020880185158336360467329464463816840555164216503334412228936065358099600974083375611748280740576476221434812426801573766415470555784412496121773130902239627145123271042271246669715454361296109422807776242929171332481927014524331840925486545913761875458496877845504428666322295460091723185883265951156341702593761985666391306000316947037879211751318341993837492', 'm': {'age': '7701080973768603201009721700546010824110484674506882280064540486020730075144008125145859346048267232243794698797555779436902752435372118427096878421197267548582823768787894777879', 'master_secret': '14437846194778857304497543175041256300941460992584330997983967952210436946216748956668142902985254226887207466266891696069010040740392634044571659419932201395635038661419509142269'}, 'm2': '351891297622715282304737787031118238010853195142634887704576514408045925581077790337732305690024666742893365203699252844222790131637603000798566640259963827648495293320247205770'}, 'ge_proofs': [{'u': {'0': '13427343797575388939855954968497007555344930788147934427829418041586893772805857642569809680651253117020288768055032470860148690312932735129535276460971333251529228793437186105643', '1': '12663693313112164594568928504824256743068073646887056655660255101579574247066183093196317391225058339095047095669344824444970959909854559194441784148840879917567495289442032884763', '2': '4664650485000164508915598467882920670303951899367336380659308730089148445477916818680122454682796231739097150628167555504521505201466852143318059308660052508359330471976707951068', '3': '5310301965592628314451133378287534381436112904210552291146815061767767952288832601988969241437719082285482751786512734172071670880822963600371313765774919130873533965747171481078'}, 'r': {'1': '1551574102156023021449491855863175822736911308109432150730416751668977779163517822884094435484234380827370715263787025899102392944529377461652876264517805299988456726094180569628374134294016054204438146828830964924430449871221894078939482359865125576754790167535676791749339849466221630555838218194981127034765642972744621970644121081415688577262273667511714475732883038156348974632048678587001457252004768396801447914136767458790635300122722655133898517761027813800637000836266722054619463792588649701396320347629373785812334120002080948621817794970547287612764041640115676699435859545812282374206706879714855807589454133191306231022642556475104140983855994121313079460160547769819624887277554711091685071908142481264', '3': '414017416650518955862007955508704194577139197343161452752922329878756277240761538964852042855547950277602162761634063497136258149396724783817285932377448111970285283644599873259074647629337959204912682434696999711862945006418544863151380945099111386669185567346081899506081560908487299067910764268826311255547565417354875951520075968401855292793756223603335556040643910048810385129838620521875825564214255746068900990338030090397474911419106739361716173689271528361222689759982827548087617047247044795874917676116625119745560618988292086866564793370456201538977114876945393857814250997976501355870266224912864215034697079579924996930214996627218656533593005435606799038942664518986600102602964834831676929640760231904', '0': '813323586450100621640776375469927913184450623405812518251753031119782460526084478028365457056789311435322940581781801821627380300594398373399324633621311644511593967403098246600246572424444605250006008900131220194675673134972346292383774714135559470815754902237239301973959754672592489420645679256801666477822347353193850726543541006389320975109073372515252317927092793508714595366385091066651634251650531287856871727181963612843622808159083436491922504890709922091197345930500431358035834395096501011428869416723714568260780086796057545753032827568862818597047468795595411338452151260169248689629186444641052136837998751965170447550481447147720698779621056788249837867792363925834950966219076948093464220421758227443', '2': '1941483513772205268219526431409973102936964508533022314871602724502137435555543111997728614865212149983852650703670851178782770054676091113653609839304219738923109122587217306182734535148105982875545989187763476083440369648139446895802468864721931885193478139444428784143869276496674682779670397273758859617932160525479849128600589534470935696390945676285805395213659937590411902708469713657330220943717118303572675642808640680557578514916032628291749026128401598638011567055355393803642739998076762951582563689311439489820557563505634918380086688894663968062511321093470210267188750631942512662027555512109142792934243849555268779537413697738343160497732777413216482231032453786920372310038482777741012358587293956042', 'DELTA': '1183975421312064940371636576941324270603519004878129017054804197567202677383475076565372981281387832889448500405380797174863602503300651484791310450989198006300950277532193950056392693171454868071994444652835172126989410340341711307193320054032889472743404697067142073234955365988343088855740676027635404490039130041649198782555448405534620208450342268275600381384049216102214978327242711519105879945630692006680491323859662413368819695578169117673864936976717323150722257235387034495106288230770494604733690806713053938337446064653646093236220957303987492080274352894896978032755986383709920135107507548450988638320852322241397272129049745026580362010636558639059367224865850231733628778635245827265909161344769405699'}, 'mj': '7701080973768603201009721700546010824110484674506882280064540486020730075144008125145859346048267232243794698797555779436902752435372118427096878421197267548582823768787894777879', 'alpha': '85178235321939593813903269463333065958173258663063817633409671295151712979080373962242876043287136999860281727274359506076249151795803216524565245629826685176303330829842392463347580061056954961694891344366432177013369249649052058234307391406915707544894704814162372692293185859809436811285296342016592541189616935517859550045377349164205356419470882418112083037390592724460854866533313458463770416584550990248738615128461789186112313773738111542571735675414879080979306516452639499751451065465003745162620003153362963210590242762589015208101987376475579438052250172391278476890745330604868528649102742546050575514176794312528717803301938970790496481032610961046789190867840898809953004123312485230202986298639446914827410234523945364141736981953862340101166263900782050929803800790304547224979238747413729841328988468609492804368800071673', 't': {'1': '85758408450637930710695085486491607445353004142702485032264512864939974342814204212263663778861300733515511061309966803803347895328531504862682908912445793003207020726089259920183653906302368673634101971115363460993672212053376055133618629432919845047782982409418296042978030701185576304392352886586629373061644075047335334208646766431313584118607948563110337593452840566914815114185319992737029870716946083943632197175073289544441646099696177340129331089302189719676702262922988865908197198536998617135441232297417106363636724099162300319710993178069883431166223969203766695334574001618123227709345039973241822513429', '0': '81415044248568601280443008281397303912825396590682515148849457999185755697036032380861329681668559770814696283059070789235705010113229288286930134796901950485037174623466783755462584689861846132347848173547787285571934872575904638639786021416537170561087720227600603584797069239472442165751610429263482026991555994146312870033789283727711448168909235791979257451197068771794274849641856631485298859598984979120502964126750454293733522371749979649241039497798359619825882446511889421717480308750859765621084650069474294634030197129408864134207674668913958948483908356737590085340888964861379942147706792357424513885529', 'DELTA': '19397459637203585789805559065620734942360511907855543163828721184010134303625873265719576174796549449526103076032829236217601401917506784763365839516996951562736113954194354389438839815158661694390147106544948009155826201752225099508364357067858213627663582441474218777078368369723844922661797463291665789638125334249568728654454496139873313536511022992956377814122574023805963343226556536741249722824720654004394014266788684173525982063538329586761753183719907213503470272975793608098071261340131934094666044441333350261547433146893789073316655310149139726156367968813603108077206111356835044283410046467782385956914', '3': '83990329627766958404830155297954984167524893827920375974116415054132385801829570230238714108218830546139361162427095976647570465592113735038348882111612922187702211395809908991737924538384655865535888204704694012071816030935405960149512626627444634069174465505144000793931108853015444917484520128548131266691207841916972388350391244640245746858384318593754495924801013482658128762793420814041458517999193420677868710889675563203035909098738801137691120118958376281140142644913872144800202673780385771675447284052035215251720317828403905328882848280606041921541719636879730043939085955121094323192064204099970372522718', '2': '23701768619586492816181816155950578874157619279339083370785252294193587566911681876986322255330610622545642102309481018267148459539530566947894395020916710507308232221949676321677032550676499141364744269091681346707257840958082568384300105811723555015193706635494897414327524725090774722547636941298245623404895425812099422550033621453699336846696289361466039119145754643626523019832053948164210582227050326238237477172042681113398222876365013858968313950613692610416273359119252726113878275858550948219515981588555556769828557992752025486172781658059912943480481819996475122604695325255414088564380588976767591889491'}, 'predicate': {'attr_name': 'age', 'p_type': 'GE', 'value': 21}}]}, 'non_revoc_proof': None}], 'aggregated_proof': {'c_hash': '67582743041321181628561484487272212896512826045773652664232049124312974700599', 'c_list': [[2, 51, 22, 78, 113, 254, 115, 132, 37, 153, 11, 252, 204, 226, 142, 201, 252, 184, 43, 152, 156, 170, 9, 57, 0, 3, 59, 16, 166, 243, 28, 197, 59, 218, 192, 136, 77, 54, 223, 133, 152, 151, 246, 194, 113, 77, 21, 188, 182, 96, 76, 90, 219, 37, 157, 222, 185, 58, 173, 102, 32, 36, 79, 57, 79, 133, 204, 159, 126, 111, 144, 100, 213, 134, 14, 122, 187, 163, 244, 102, 10, 58, 144, 71, 11, 22, 203, 61, 39, 72, 170, 136, 202, 46, 51, 136, 70, 217, 82, 181, 189, 236, 122, 187, 68, 118, 232, 78, 141, 105, 177, 190, 226, 208, 41, 75, 123, 120, 200, 234, 145, 188, 41, 17, 242, 2, 150, 102, 160, 49, 130, 35, 110, 248, 163, 238, 222, 150, 150, 93, 207, 197, 29, 11, 33, 251, 127, 200, 151, 28, 3, 69, 235, 183, 217, 67, 183, 221, 92, 141, 108, 36, 65, 111, 74, 172, 83, 170, 28, 230, 42, 70, 12, 148, 17, 164, 73, 238, 134, 70, 5, 192, 75, 12, 46, 74, 174, 239, 79, 79, 234, 143, 67, 19, 21, 129, 160, 23, 169, 19, 254, 90, 63, 163, 232, 132, 212, 13, 162, 136, 64, 58, 88, 67, 230, 70, 135, 137, 55, 37, 53, 136, 60, 254, 143, 117, 236, 120, 46, 66, 84, 11, 65, 84, 202, 188, 229, 4, 95, 147, 217, 107, 227, 127, 160, 68, 199, 45, 68, 151, 176, 197, 11, 250, 101, 78, 220], [2, 132, 238, 110, 237, 210, 197, 218, 70, 79, 135, 193, 44, 196, 70, 236, 157, 232, 76, 24, 99, 197, 188, 247, 212, 132, 46, 206, 106, 129, 95, 11, 53, 238, 191, 140, 8, 220, 66, 48, 92, 245, 119, 237, 31, 210, 37, 146, 127, 232, 205, 150, 142, 223, 6, 205, 40, 212, 186, 211, 2, 93, 230, 56, 16, 163, 214, 71, 0, 118, 71, 206, 39, 235, 94, 179, 236, 170, 198, 68, 68, 127, 183, 31, 3, 250, 74, 161, 83, 221, 128, 247, 87, 145, 45, 2, 1, 125, 80, 129, 37, 155, 60, 168, 79, 202, 26, 138, 2, 140, 218, 26, 115, 0, 72, 0, 106, 219, 128, 114, 226, 213, 216, 20, 37, 223, 12, 47, 219, 58, 168, 91, 124, 95, 106, 245, 13, 131, 44, 213, 217, 45, 223, 25, 227, 130, 115, 87, 103, 73, 230, 151, 216, 66, 25, 22, 177, 96, 136, 220, 80, 74, 241, 144, 29, 184, 1, 53, 65, 182, 52, 102, 112, 35, 20, 254, 86, 54, 173, 11, 243, 212, 79, 201, 72, 197, 206, 128, 5, 111, 38, 150, 230, 15, 206, 90, 78, 202, 8, 57, 63, 113, 245, 216, 143, 155, 205, 75, 223, 33, 236, 62, 54, 196, 55, 163, 144, 4, 245, 159, 57, 118, 122, 73, 139, 70, 245, 249, 34, 100, 146, 218, 124, 85, 210, 183, 224, 237, 245, 38, 148, 132, 15, 152, 213, 201, 140, 242, 234, 235, 85, 169, 134, 196, 243, 37, 89], [2, 167, 86, 99, 66, 114, 227, 193, 186, 132, 173, 148, 66, 239, 181, 30, 131, 210, 46, 69, 248, 71, 108, 42, 238, 255, 49, 197, 77, 11, 71, 87, 68, 160, 48, 210, 214, 152, 226, 122, 241, 96, 91, 6, 114, 80, 97, 106, 15, 102, 37, 194, 250, 64, 25, 0, 79, 6, 101, 166, 188, 102, 100, 84, 118, 138, 161, 179, 76, 62, 140, 143, 218, 174, 247, 92, 22, 65, 217, 183, 16, 237, 134, 225, 173, 208, 177, 75, 117, 198, 198, 109, 214, 20, 143, 204, 127, 75, 156, 93, 119, 56, 214, 123, 191, 210, 169, 132, 205, 188, 203, 242, 158, 111, 176, 46, 142, 160, 49, 179, 16, 166, 139, 23, 195, 133, 40, 254, 220, 106, 115, 8, 26, 212, 228, 46, 214, 128, 235, 101, 110, 178, 247, 65, 172, 198, 31, 204, 0, 214, 94, 180, 117, 66, 76, 206, 140, 187, 53, 81, 95, 173, 170, 225, 79, 67, 150, 104, 109, 249, 142, 70, 15, 56, 55, 52, 115, 99, 90, 223, 16, 184, 230, 92, 82, 0, 68, 173, 176, 188, 147, 199, 122, 249, 191, 131, 13, 20, 88, 156, 229, 57, 46, 123, 121, 201, 150, 99, 239, 228, 132, 125, 101, 212, 200, 240, 135, 191, 103, 149, 186, 157, 247, 75, 32, 232, 223, 202, 207, 63, 162, 186, 240, 100, 31, 232, 192, 210, 122, 224, 154, 191, 93, 101, 190, 241, 183, 67, 144, 177, 228, 195, 243, 129, 62, 9, 21], [187, 193, 17, 132, 152, 7, 159, 215, 30, 166, 218, 56, 53, 80, 255, 65, 86, 125, 52, 174, 223, 111, 217, 60, 82, 232, 177, 211, 218, 85, 254, 167, 222, 140, 72, 28, 150, 187, 144, 9, 194, 154, 244, 165, 226, 152, 177, 40, 232, 206, 134, 160, 173, 161, 135, 247, 255, 200, 193, 219, 180, 164, 18, 191, 134, 165, 127, 43, 190, 145, 174, 5, 224, 22, 119, 63, 3, 161, 111, 36, 219, 182, 225, 139, 40, 23, 237, 109, 163, 107, 66, 55, 64, 158, 232, 154, 119, 93, 21, 222, 152, 216, 193, 68, 216, 115, 24, 231, 45, 50, 32, 29, 115, 169, 55, 46, 143, 49, 186, 60, 54, 207, 247, 217, 78, 64, 201, 227, 130, 101, 9, 67, 70, 224, 124, 240, 249, 21, 15, 146, 162, 209, 40, 128, 1, 240, 245, 210, 245, 81, 60, 91, 64, 112, 127, 15, 68, 194, 160, 101, 196, 251, 79, 15, 20, 89, 208, 71, 152, 235, 231, 254, 1, 55, 143, 71, 12, 15, 136, 123, 185, 228, 98, 130, 252, 229, 78, 64, 2, 129, 239, 38, 78, 64, 247, 189, 80, 242, 251, 153, 127, 154, 71, 105, 188, 34, 113, 101, 135, 2, 131, 228, 185, 55, 218, 201, 144, 100, 42, 47, 170, 139, 199, 217, 201, 164, 117, 67, 118, 212, 112, 216, 240, 236, 137, 234, 221, 105, 160, 145, 183, 148, 150, 141, 206, 0, 9, 182, 157, 28, 88, 129, 30, 53, 186, 83], [2, 153, 84, 225, 196, 65, 44, 97, 114, 191, 40, 11, 235, 59, 203, 15, 235, 37, 136, 175, 228, 93, 90, 58, 51, 95, 66, 68, 48, 151, 158, 74, 163, 78, 144, 97, 78, 69, 82, 110, 155, 32, 157, 157, 193, 100, 83, 94, 132, 82, 89, 65, 248, 102, 96, 254, 173, 70, 140, 252, 193, 174, 195, 237, 46, 169, 126, 26, 228, 243, 247, 226, 20, 162, 107, 23, 215, 58, 185, 117, 175, 222, 13, 144, 251, 166, 214, 96, 113, 171, 242, 115, 81, 54, 207, 81, 200, 172, 86, 191, 52, 95, 21, 153, 38, 149, 54, 47, 108, 93, 240, 222, 230, 219, 212, 248, 8, 20, 187, 204, 94, 234, 189, 20, 115, 136, 234, 23, 191, 21, 235, 166, 71, 104, 41, 73, 103, 45, 247, 126, 194, 59, 75, 129, 69, 183, 135, 37, 68, 143, 190, 185, 173, 188, 74, 162, 129, 112, 80, 223, 211, 214, 144, 80, 62, 187, 196, 26, 53, 191, 251, 242, 123, 239, 223, 176, 19, 44, 176, 234, 240, 248, 146, 27, 114, 175, 0, 12, 60, 132, 35, 51, 169, 183, 95, 240, 190, 129, 134, 176, 220, 126, 6, 37, 113, 206, 124, 9, 250, 128, 140, 107, 138, 80, 118, 69, 41, 156, 145, 130, 169, 103, 238, 146, 104, 60, 242, 229, 178, 140, 244, 57, 131, 147, 160, 241, 131, 158, 174, 171, 204, 38, 157, 83, 5, 64, 86, 212, 237, 228, 200, 121, 45, 220, 184, 210, 222], [153, 168, 80, 131, 155, 161, 10, 192, 122, 17, 158, 184, 11, 132, 104, 128, 136, 218, 59, 75, 73, 200, 141, 236, 76, 12, 158, 243, 31, 163, 14, 237, 96, 186, 243, 211, 60, 135, 99, 53, 223, 187, 154, 61, 67, 0, 181, 27, 179, 157, 173, 232, 203, 154, 208, 220, 214, 82, 2, 176, 202, 66, 108, 34, 51, 241, 212, 78, 67, 225, 190, 188, 148, 25, 144, 104, 100, 52, 124, 121, 208, 15, 44, 150, 155, 172, 35, 26, 218, 141, 253, 31, 93, 192, 216, 221, 41, 109, 64, 25, 53, 119, 143, 53, 31, 112, 28, 204, 250, 241, 6, 170, 14, 18, 217, 219, 148, 108, 145, 203, 56, 115, 71, 148, 118, 238, 109, 40, 36, 96, 196, 151, 225, 214, 35, 192, 26, 119, 227, 38, 247, 154, 67, 131, 104, 26, 129, 202, 244, 54, 242, 238, 100, 178, 60, 215, 98, 139, 3, 70, 180, 201, 248, 190, 202, 205, 136, 114, 202, 38, 226, 29, 219, 218, 127, 249, 27, 187, 246, 54, 54, 13, 16, 139, 181, 140, 88, 166, 64, 223, 176, 83, 85, 25, 240, 186, 100, 249, 44, 87, 227, 193, 157, 139, 12, 55, 229, 100, 180, 213, 146, 23, 234, 92, 151, 15, 135, 230, 146, 77, 3, 211, 55, 168, 146, 99, 109, 242, 53, 138, 231, 251, 70, 48, 48, 221, 161, 42, 196, 201, 208, 80, 64, 113, 76, 224, 200, 254, 62, 200, 177, 162, 67, 165, 120, 50]]}}, 'requested_proof': {'revealed_attrs': {'0_skill_uuid': {'sub_proof_index': 0, 'raw': 'researcher', 'encoded': '24214165878429772374367858032287880675266648921286067519661391650938186682695'}, '0_name_uuid': {'sub_proof_index': 0, 'raw': 'Bob', 'encoded': '93006290325627508022776103386395994712401809437930957652111221015872244345185'}}, 'self_attested_attrs': {}, 'unrevealed_attrs': {}, 'predicates': {'0_age_GE_uuid': {'sub_proof_index': 0}}}, 'identifiers': [{'schema_id': 'MGgoJXWbeupKsaHDa7s4fW:2:testabc:0.0.1', 'cred_def_id': 'QZx7SntrVpaiEgqJZkNLsA:3:CL:141433:default', 'rev_reg_id': None, 'timestamp': None}]}, 'role': 'verifier', 'presentation_request': {'name': 'Proof of Personal Information', 'version': '1.0', 'requested_attributes': {'0_name_uuid': {'name': 'name', 'restrictions': [{'issuer_did': 'QZx7SntrVpaiEgqJZkNLsA'}]}, '0_skill_uuid': {'name': 'skill', 'restrictions': [{'issuer_did': 'QZx7SntrVpaiEgqJZkNLsA'}]}, '0_country_uuid': {'name': 'country'}}, 'requested_predicates': {'0_age_GE_uuid': {'name': 'age', 'p_type': '>=', 'p_value': 21, 'restrictions': [{'issuer_did': 'QZx7SntrVpaiEgqJZkNLsA'}]}}, 'nonce': '1208181788958126456351200'}, 'presentation_exchange_id': '946ce749-95d5-4cd3-8ec3-6f4e1e6fec3e', 'state': 'presentation_received', 'initiator': 'self', 'trace': False, 'created_at': '2020-09-16 10:34:54.751182Z'}\n"
     ]
    }
   ],
   "source": [
    "response = await agent_controller.proofs.send_request(proof_request_web_request)\n",
    "print(response)\n",
    "presentation_exchange_id = response['presentation_exchange_id']\n",
    "print(\"\\n\")\n",
    "print(presentation_exchange_id)\n"
   ]
  },
  {
   "cell_type": "markdown",
   "metadata": {},
   "source": [
    "## 6. Verify Proof Presentation\n",
    "\n",
    "This is checking the signatures on the credentials presented against the credential schema and definition id stored and resolvable on the ledger."
   ]
  },
  {
   "cell_type": "code",
   "execution_count": 10,
   "metadata": {
    "pycharm": {
     "name": "#%%\n"
    }
   },
   "outputs": [
    {
     "name": "stdout",
     "output_type": "stream",
     "text": [
      "{'thread_id': '7e28d785-09b1-420d-8971-6de124dee531', 'auto_present': False, 'connection_id': '77b8f0ee-248b-4dd6-a984-164d78cb3b30', 'updated_at': '2020-09-16 10:35:20.349612Z', 'presentation_request_dict': {'@type': 'did:sov:BzCbsNYhMrjHiqZDTUASHg;spec/present-proof/1.0/request-presentation', '@id': '7e28d785-09b1-420d-8971-6de124dee531', 'request_presentations~attach': [{'@id': 'libindy-request-presentation-0', 'mime-type': 'application/json', 'data': {'base64': 'eyJuYW1lIjogIlByb29mIG9mIFBlcnNvbmFsIEluZm9ybWF0aW9uIiwgInZlcnNpb24iOiAiMS4wIiwgInJlcXVlc3RlZF9hdHRyaWJ1dGVzIjogeyIwX25hbWVfdXVpZCI6IHsibmFtZSI6ICJuYW1lIiwgInJlc3RyaWN0aW9ucyI6IFt7Imlzc3Vlcl9kaWQiOiAiUVp4N1NudHJWcGFpRWdxSlprTkxzQSJ9XX0sICIwX3NraWxsX3V1aWQiOiB7Im5hbWUiOiAic2tpbGwiLCAicmVzdHJpY3Rpb25zIjogW3siaXNzdWVyX2RpZCI6ICJRWng3U250clZwYWlFZ3FKWmtOTHNBIn1dfSwgIjBfY291bnRyeV91dWlkIjogeyJuYW1lIjogImNvdW50cnkifX0sICJyZXF1ZXN0ZWRfcHJlZGljYXRlcyI6IHsiMF9hZ2VfR0VfdXVpZCI6IHsibmFtZSI6ICJhZ2UiLCAicF90eXBlIjogIj49IiwgInBfdmFsdWUiOiAyMSwgInJlc3RyaWN0aW9ucyI6IFt7Imlzc3Vlcl9kaWQiOiAiUVp4N1NudHJWcGFpRWdxSlprTkxzQSJ9XX19LCAibm9uY2UiOiAiMTIwODE4MTc4ODk1ODEyNjQ1NjM1MTIwMCJ9'}}]}, 'presentation': {'proof': {'proofs': [{'primary_proof': {'eq_proof': {'revealed_attrs': {'name': '93006290325627508022776103386395994712401809437930957652111221015872244345185', 'skill': '24214165878429772374367858032287880675266648921286067519661391650938186682695'}, 'a_prime': '71083165404964919077860860279670466466744712146688360461362454284482484749942053259966545507742976201230674454645982753312800296888536357189925931804475710446272041507980883204137848165335350855580360786559190698477843903915157548937311589703287024397895045676660607564937364084073350615849005822731825862408206305056722005408208922091617925669505977028515885267605429451146247641784760477712243616112674069901819122960069282752303380248495395678402744967140387651990260971567310656466063553919196482843792166334003827160376861758094384294574196110228918508303003631107717657593833799006875781926163258517760084627164', 'e': '27485753440361193183153815771653429235967146019687304797081816215204240249448525937013416261976158850031068925565363409745932422168806419', 'v': '1285259261549351101238674775164350833226326183262044125543615018450200163464617908389786391781142049832302543567371111936541426677314549405960437831990538218292916576096952213712182505003460579983917531888381965603834841889675360387248360931522389742229145219198862976999920375523499777925668401008133086032824102239686051279297058499178480394517917892776607913221079064889610824943030590257632742397739432060419713038165517907007411912952769042014827174020663839665971591608449147305587605492016794246095774642856473243557370932623383366443027137298812233023316020880185158336360467329464463816840555164216503334412228936065358099600974083375611748280740576476221434812426801573766415470555784412496121773130902239627145123271042271246669715454361296109422807776242929171332481927014524331840925486545913761875458496877845504428666322295460091723185883265951156341702593761985666391306000316947037879211751318341993837492', 'm': {'age': '7701080973768603201009721700546010824110484674506882280064540486020730075144008125145859346048267232243794698797555779436902752435372118427096878421197267548582823768787894777879', 'master_secret': '14437846194778857304497543175041256300941460992584330997983967952210436946216748956668142902985254226887207466266891696069010040740392634044571659419932201395635038661419509142269'}, 'm2': '351891297622715282304737787031118238010853195142634887704576514408045925581077790337732305690024666742893365203699252844222790131637603000798566640259963827648495293320247205770'}, 'ge_proofs': [{'u': {'0': '13427343797575388939855954968497007555344930788147934427829418041586893772805857642569809680651253117020288768055032470860148690312932735129535276460971333251529228793437186105643', '1': '12663693313112164594568928504824256743068073646887056655660255101579574247066183093196317391225058339095047095669344824444970959909854559194441784148840879917567495289442032884763', '2': '4664650485000164508915598467882920670303951899367336380659308730089148445477916818680122454682796231739097150628167555504521505201466852143318059308660052508359330471976707951068', '3': '5310301965592628314451133378287534381436112904210552291146815061767767952288832601988969241437719082285482751786512734172071670880822963600371313765774919130873533965747171481078'}, 'r': {'1': '1551574102156023021449491855863175822736911308109432150730416751668977779163517822884094435484234380827370715263787025899102392944529377461652876264517805299988456726094180569628374134294016054204438146828830964924430449871221894078939482359865125576754790167535676791749339849466221630555838218194981127034765642972744621970644121081415688577262273667511714475732883038156348974632048678587001457252004768396801447914136767458790635300122722655133898517761027813800637000836266722054619463792588649701396320347629373785812334120002080948621817794970547287612764041640115676699435859545812282374206706879714855807589454133191306231022642556475104140983855994121313079460160547769819624887277554711091685071908142481264', '3': '414017416650518955862007955508704194577139197343161452752922329878756277240761538964852042855547950277602162761634063497136258149396724783817285932377448111970285283644599873259074647629337959204912682434696999711862945006418544863151380945099111386669185567346081899506081560908487299067910764268826311255547565417354875951520075968401855292793756223603335556040643910048810385129838620521875825564214255746068900990338030090397474911419106739361716173689271528361222689759982827548087617047247044795874917676116625119745560618988292086866564793370456201538977114876945393857814250997976501355870266224912864215034697079579924996930214996627218656533593005435606799038942664518986600102602964834831676929640760231904', '0': '813323586450100621640776375469927913184450623405812518251753031119782460526084478028365457056789311435322940581781801821627380300594398373399324633621311644511593967403098246600246572424444605250006008900131220194675673134972346292383774714135559470815754902237239301973959754672592489420645679256801666477822347353193850726543541006389320975109073372515252317927092793508714595366385091066651634251650531287856871727181963612843622808159083436491922504890709922091197345930500431358035834395096501011428869416723714568260780086796057545753032827568862818597047468795595411338452151260169248689629186444641052136837998751965170447550481447147720698779621056788249837867792363925834950966219076948093464220421758227443', '2': '1941483513772205268219526431409973102936964508533022314871602724502137435555543111997728614865212149983852650703670851178782770054676091113653609839304219738923109122587217306182734535148105982875545989187763476083440369648139446895802468864721931885193478139444428784143869276496674682779670397273758859617932160525479849128600589534470935696390945676285805395213659937590411902708469713657330220943717118303572675642808640680557578514916032628291749026128401598638011567055355393803642739998076762951582563689311439489820557563505634918380086688894663968062511321093470210267188750631942512662027555512109142792934243849555268779537413697738343160497732777413216482231032453786920372310038482777741012358587293956042', 'DELTA': '1183975421312064940371636576941324270603519004878129017054804197567202677383475076565372981281387832889448500405380797174863602503300651484791310450989198006300950277532193950056392693171454868071994444652835172126989410340341711307193320054032889472743404697067142073234955365988343088855740676027635404490039130041649198782555448405534620208450342268275600381384049216102214978327242711519105879945630692006680491323859662413368819695578169117673864936976717323150722257235387034495106288230770494604733690806713053938337446064653646093236220957303987492080274352894896978032755986383709920135107507548450988638320852322241397272129049745026580362010636558639059367224865850231733628778635245827265909161344769405699'}, 'mj': '7701080973768603201009721700546010824110484674506882280064540486020730075144008125145859346048267232243794698797555779436902752435372118427096878421197267548582823768787894777879', 'alpha': '85178235321939593813903269463333065958173258663063817633409671295151712979080373962242876043287136999860281727274359506076249151795803216524565245629826685176303330829842392463347580061056954961694891344366432177013369249649052058234307391406915707544894704814162372692293185859809436811285296342016592541189616935517859550045377349164205356419470882418112083037390592724460854866533313458463770416584550990248738615128461789186112313773738111542571735675414879080979306516452639499751451065465003745162620003153362963210590242762589015208101987376475579438052250172391278476890745330604868528649102742546050575514176794312528717803301938970790496481032610961046789190867840898809953004123312485230202986298639446914827410234523945364141736981953862340101166263900782050929803800790304547224979238747413729841328988468609492804368800071673', 't': {'1': '85758408450637930710695085486491607445353004142702485032264512864939974342814204212263663778861300733515511061309966803803347895328531504862682908912445793003207020726089259920183653906302368673634101971115363460993672212053376055133618629432919845047782982409418296042978030701185576304392352886586629373061644075047335334208646766431313584118607948563110337593452840566914815114185319992737029870716946083943632197175073289544441646099696177340129331089302189719676702262922988865908197198536998617135441232297417106363636724099162300319710993178069883431166223969203766695334574001618123227709345039973241822513429', '0': '81415044248568601280443008281397303912825396590682515148849457999185755697036032380861329681668559770814696283059070789235705010113229288286930134796901950485037174623466783755462584689861846132347848173547787285571934872575904638639786021416537170561087720227600603584797069239472442165751610429263482026991555994146312870033789283727711448168909235791979257451197068771794274849641856631485298859598984979120502964126750454293733522371749979649241039497798359619825882446511889421717480308750859765621084650069474294634030197129408864134207674668913958948483908356737590085340888964861379942147706792357424513885529', 'DELTA': '19397459637203585789805559065620734942360511907855543163828721184010134303625873265719576174796549449526103076032829236217601401917506784763365839516996951562736113954194354389438839815158661694390147106544948009155826201752225099508364357067858213627663582441474218777078368369723844922661797463291665789638125334249568728654454496139873313536511022992956377814122574023805963343226556536741249722824720654004394014266788684173525982063538329586761753183719907213503470272975793608098071261340131934094666044441333350261547433146893789073316655310149139726156367968813603108077206111356835044283410046467782385956914', '3': '83990329627766958404830155297954984167524893827920375974116415054132385801829570230238714108218830546139361162427095976647570465592113735038348882111612922187702211395809908991737924538384655865535888204704694012071816030935405960149512626627444634069174465505144000793931108853015444917484520128548131266691207841916972388350391244640245746858384318593754495924801013482658128762793420814041458517999193420677868710889675563203035909098738801137691120118958376281140142644913872144800202673780385771675447284052035215251720317828403905328882848280606041921541719636879730043939085955121094323192064204099970372522718', '2': '23701768619586492816181816155950578874157619279339083370785252294193587566911681876986322255330610622545642102309481018267148459539530566947894395020916710507308232221949676321677032550676499141364744269091681346707257840958082568384300105811723555015193706635494897414327524725090774722547636941298245623404895425812099422550033621453699336846696289361466039119145754643626523019832053948164210582227050326238237477172042681113398222876365013858968313950613692610416273359119252726113878275858550948219515981588555556769828557992752025486172781658059912943480481819996475122604695325255414088564380588976767591889491'}, 'predicate': {'attr_name': 'age', 'p_type': 'GE', 'value': 21}}]}, 'non_revoc_proof': None}], 'aggregated_proof': {'c_hash': '67582743041321181628561484487272212896512826045773652664232049124312974700599', 'c_list': [[2, 51, 22, 78, 113, 254, 115, 132, 37, 153, 11, 252, 204, 226, 142, 201, 252, 184, 43, 152, 156, 170, 9, 57, 0, 3, 59, 16, 166, 243, 28, 197, 59, 218, 192, 136, 77, 54, 223, 133, 152, 151, 246, 194, 113, 77, 21, 188, 182, 96, 76, 90, 219, 37, 157, 222, 185, 58, 173, 102, 32, 36, 79, 57, 79, 133, 204, 159, 126, 111, 144, 100, 213, 134, 14, 122, 187, 163, 244, 102, 10, 58, 144, 71, 11, 22, 203, 61, 39, 72, 170, 136, 202, 46, 51, 136, 70, 217, 82, 181, 189, 236, 122, 187, 68, 118, 232, 78, 141, 105, 177, 190, 226, 208, 41, 75, 123, 120, 200, 234, 145, 188, 41, 17, 242, 2, 150, 102, 160, 49, 130, 35, 110, 248, 163, 238, 222, 150, 150, 93, 207, 197, 29, 11, 33, 251, 127, 200, 151, 28, 3, 69, 235, 183, 217, 67, 183, 221, 92, 141, 108, 36, 65, 111, 74, 172, 83, 170, 28, 230, 42, 70, 12, 148, 17, 164, 73, 238, 134, 70, 5, 192, 75, 12, 46, 74, 174, 239, 79, 79, 234, 143, 67, 19, 21, 129, 160, 23, 169, 19, 254, 90, 63, 163, 232, 132, 212, 13, 162, 136, 64, 58, 88, 67, 230, 70, 135, 137, 55, 37, 53, 136, 60, 254, 143, 117, 236, 120, 46, 66, 84, 11, 65, 84, 202, 188, 229, 4, 95, 147, 217, 107, 227, 127, 160, 68, 199, 45, 68, 151, 176, 197, 11, 250, 101, 78, 220], [2, 132, 238, 110, 237, 210, 197, 218, 70, 79, 135, 193, 44, 196, 70, 236, 157, 232, 76, 24, 99, 197, 188, 247, 212, 132, 46, 206, 106, 129, 95, 11, 53, 238, 191, 140, 8, 220, 66, 48, 92, 245, 119, 237, 31, 210, 37, 146, 127, 232, 205, 150, 142, 223, 6, 205, 40, 212, 186, 211, 2, 93, 230, 56, 16, 163, 214, 71, 0, 118, 71, 206, 39, 235, 94, 179, 236, 170, 198, 68, 68, 127, 183, 31, 3, 250, 74, 161, 83, 221, 128, 247, 87, 145, 45, 2, 1, 125, 80, 129, 37, 155, 60, 168, 79, 202, 26, 138, 2, 140, 218, 26, 115, 0, 72, 0, 106, 219, 128, 114, 226, 213, 216, 20, 37, 223, 12, 47, 219, 58, 168, 91, 124, 95, 106, 245, 13, 131, 44, 213, 217, 45, 223, 25, 227, 130, 115, 87, 103, 73, 230, 151, 216, 66, 25, 22, 177, 96, 136, 220, 80, 74, 241, 144, 29, 184, 1, 53, 65, 182, 52, 102, 112, 35, 20, 254, 86, 54, 173, 11, 243, 212, 79, 201, 72, 197, 206, 128, 5, 111, 38, 150, 230, 15, 206, 90, 78, 202, 8, 57, 63, 113, 245, 216, 143, 155, 205, 75, 223, 33, 236, 62, 54, 196, 55, 163, 144, 4, 245, 159, 57, 118, 122, 73, 139, 70, 245, 249, 34, 100, 146, 218, 124, 85, 210, 183, 224, 237, 245, 38, 148, 132, 15, 152, 213, 201, 140, 242, 234, 235, 85, 169, 134, 196, 243, 37, 89], [2, 167, 86, 99, 66, 114, 227, 193, 186, 132, 173, 148, 66, 239, 181, 30, 131, 210, 46, 69, 248, 71, 108, 42, 238, 255, 49, 197, 77, 11, 71, 87, 68, 160, 48, 210, 214, 152, 226, 122, 241, 96, 91, 6, 114, 80, 97, 106, 15, 102, 37, 194, 250, 64, 25, 0, 79, 6, 101, 166, 188, 102, 100, 84, 118, 138, 161, 179, 76, 62, 140, 143, 218, 174, 247, 92, 22, 65, 217, 183, 16, 237, 134, 225, 173, 208, 177, 75, 117, 198, 198, 109, 214, 20, 143, 204, 127, 75, 156, 93, 119, 56, 214, 123, 191, 210, 169, 132, 205, 188, 203, 242, 158, 111, 176, 46, 142, 160, 49, 179, 16, 166, 139, 23, 195, 133, 40, 254, 220, 106, 115, 8, 26, 212, 228, 46, 214, 128, 235, 101, 110, 178, 247, 65, 172, 198, 31, 204, 0, 214, 94, 180, 117, 66, 76, 206, 140, 187, 53, 81, 95, 173, 170, 225, 79, 67, 150, 104, 109, 249, 142, 70, 15, 56, 55, 52, 115, 99, 90, 223, 16, 184, 230, 92, 82, 0, 68, 173, 176, 188, 147, 199, 122, 249, 191, 131, 13, 20, 88, 156, 229, 57, 46, 123, 121, 201, 150, 99, 239, 228, 132, 125, 101, 212, 200, 240, 135, 191, 103, 149, 186, 157, 247, 75, 32, 232, 223, 202, 207, 63, 162, 186, 240, 100, 31, 232, 192, 210, 122, 224, 154, 191, 93, 101, 190, 241, 183, 67, 144, 177, 228, 195, 243, 129, 62, 9, 21], [187, 193, 17, 132, 152, 7, 159, 215, 30, 166, 218, 56, 53, 80, 255, 65, 86, 125, 52, 174, 223, 111, 217, 60, 82, 232, 177, 211, 218, 85, 254, 167, 222, 140, 72, 28, 150, 187, 144, 9, 194, 154, 244, 165, 226, 152, 177, 40, 232, 206, 134, 160, 173, 161, 135, 247, 255, 200, 193, 219, 180, 164, 18, 191, 134, 165, 127, 43, 190, 145, 174, 5, 224, 22, 119, 63, 3, 161, 111, 36, 219, 182, 225, 139, 40, 23, 237, 109, 163, 107, 66, 55, 64, 158, 232, 154, 119, 93, 21, 222, 152, 216, 193, 68, 216, 115, 24, 231, 45, 50, 32, 29, 115, 169, 55, 46, 143, 49, 186, 60, 54, 207, 247, 217, 78, 64, 201, 227, 130, 101, 9, 67, 70, 224, 124, 240, 249, 21, 15, 146, 162, 209, 40, 128, 1, 240, 245, 210, 245, 81, 60, 91, 64, 112, 127, 15, 68, 194, 160, 101, 196, 251, 79, 15, 20, 89, 208, 71, 152, 235, 231, 254, 1, 55, 143, 71, 12, 15, 136, 123, 185, 228, 98, 130, 252, 229, 78, 64, 2, 129, 239, 38, 78, 64, 247, 189, 80, 242, 251, 153, 127, 154, 71, 105, 188, 34, 113, 101, 135, 2, 131, 228, 185, 55, 218, 201, 144, 100, 42, 47, 170, 139, 199, 217, 201, 164, 117, 67, 118, 212, 112, 216, 240, 236, 137, 234, 221, 105, 160, 145, 183, 148, 150, 141, 206, 0, 9, 182, 157, 28, 88, 129, 30, 53, 186, 83], [2, 153, 84, 225, 196, 65, 44, 97, 114, 191, 40, 11, 235, 59, 203, 15, 235, 37, 136, 175, 228, 93, 90, 58, 51, 95, 66, 68, 48, 151, 158, 74, 163, 78, 144, 97, 78, 69, 82, 110, 155, 32, 157, 157, 193, 100, 83, 94, 132, 82, 89, 65, 248, 102, 96, 254, 173, 70, 140, 252, 193, 174, 195, 237, 46, 169, 126, 26, 228, 243, 247, 226, 20, 162, 107, 23, 215, 58, 185, 117, 175, 222, 13, 144, 251, 166, 214, 96, 113, 171, 242, 115, 81, 54, 207, 81, 200, 172, 86, 191, 52, 95, 21, 153, 38, 149, 54, 47, 108, 93, 240, 222, 230, 219, 212, 248, 8, 20, 187, 204, 94, 234, 189, 20, 115, 136, 234, 23, 191, 21, 235, 166, 71, 104, 41, 73, 103, 45, 247, 126, 194, 59, 75, 129, 69, 183, 135, 37, 68, 143, 190, 185, 173, 188, 74, 162, 129, 112, 80, 223, 211, 214, 144, 80, 62, 187, 196, 26, 53, 191, 251, 242, 123, 239, 223, 176, 19, 44, 176, 234, 240, 248, 146, 27, 114, 175, 0, 12, 60, 132, 35, 51, 169, 183, 95, 240, 190, 129, 134, 176, 220, 126, 6, 37, 113, 206, 124, 9, 250, 128, 140, 107, 138, 80, 118, 69, 41, 156, 145, 130, 169, 103, 238, 146, 104, 60, 242, 229, 178, 140, 244, 57, 131, 147, 160, 241, 131, 158, 174, 171, 204, 38, 157, 83, 5, 64, 86, 212, 237, 228, 200, 121, 45, 220, 184, 210, 222], [153, 168, 80, 131, 155, 161, 10, 192, 122, 17, 158, 184, 11, 132, 104, 128, 136, 218, 59, 75, 73, 200, 141, 236, 76, 12, 158, 243, 31, 163, 14, 237, 96, 186, 243, 211, 60, 135, 99, 53, 223, 187, 154, 61, 67, 0, 181, 27, 179, 157, 173, 232, 203, 154, 208, 220, 214, 82, 2, 176, 202, 66, 108, 34, 51, 241, 212, 78, 67, 225, 190, 188, 148, 25, 144, 104, 100, 52, 124, 121, 208, 15, 44, 150, 155, 172, 35, 26, 218, 141, 253, 31, 93, 192, 216, 221, 41, 109, 64, 25, 53, 119, 143, 53, 31, 112, 28, 204, 250, 241, 6, 170, 14, 18, 217, 219, 148, 108, 145, 203, 56, 115, 71, 148, 118, 238, 109, 40, 36, 96, 196, 151, 225, 214, 35, 192, 26, 119, 227, 38, 247, 154, 67, 131, 104, 26, 129, 202, 244, 54, 242, 238, 100, 178, 60, 215, 98, 139, 3, 70, 180, 201, 248, 190, 202, 205, 136, 114, 202, 38, 226, 29, 219, 218, 127, 249, 27, 187, 246, 54, 54, 13, 16, 139, 181, 140, 88, 166, 64, 223, 176, 83, 85, 25, 240, 186, 100, 249, 44, 87, 227, 193, 157, 139, 12, 55, 229, 100, 180, 213, 146, 23, 234, 92, 151, 15, 135, 230, 146, 77, 3, 211, 55, 168, 146, 99, 109, 242, 53, 138, 231, 251, 70, 48, 48, 221, 161, 42, 196, 201, 208, 80, 64, 113, 76, 224, 200, 254, 62, 200, 177, 162, 67, 165, 120, 50]]}}, 'requested_proof': {'revealed_attrs': {'0_skill_uuid': {'sub_proof_index': 0, 'raw': 'researcher', 'encoded': '24214165878429772374367858032287880675266648921286067519661391650938186682695'}, '0_name_uuid': {'sub_proof_index': 0, 'raw': 'Bob', 'encoded': '93006290325627508022776103386395994712401809437930957652111221015872244345185'}}, 'self_attested_attrs': {}, 'unrevealed_attrs': {}, 'predicates': {'0_age_GE_uuid': {'sub_proof_index': 0}}}, 'identifiers': [{'schema_id': 'MGgoJXWbeupKsaHDa7s4fW:2:testabc:0.0.1', 'cred_def_id': 'QZx7SntrVpaiEgqJZkNLsA:3:CL:141433:default', 'rev_reg_id': None, 'timestamp': None}]}, 'role': 'verifier', 'presentation_request': {'name': 'Proof of Personal Information', 'version': '1.0', 'requested_attributes': {'0_name_uuid': {'name': 'name', 'restrictions': [{'issuer_did': 'QZx7SntrVpaiEgqJZkNLsA'}]}, '0_skill_uuid': {'name': 'skill', 'restrictions': [{'issuer_did': 'QZx7SntrVpaiEgqJZkNLsA'}]}, '0_country_uuid': {'name': 'country'}}, 'requested_predicates': {'0_age_GE_uuid': {'name': 'age', 'p_type': '>=', 'p_value': 21, 'restrictions': [{'issuer_did': 'QZx7SntrVpaiEgqJZkNLsA'}]}}, 'nonce': '1208181788958126456351200'}, 'presentation_exchange_id': '946ce749-95d5-4cd3-8ec3-6f4e1e6fec3e', 'state': 'verified', 'initiator': 'self', 'verified': 'false', 'trace': False, 'created_at': '2020-09-16 10:34:54.751182Z'}\n"
     ]
    },
    {
     "name": "stdout",
     "output_type": "stream",
     "text": [
      "Handle present proof\n",
      "{'thread_id': '7e28d785-09b1-420d-8971-6de124dee531', 'auto_present': False, 'connection_id': '77b8f0ee-248b-4dd6-a984-164d78cb3b30', 'updated_at': '2020-09-16 10:35:20.349612Z', 'presentation_request_dict': {'@type': 'did:sov:BzCbsNYhMrjHiqZDTUASHg;spec/present-proof/1.0/request-presentation', '@id': '7e28d785-09b1-420d-8971-6de124dee531', 'request_presentations~attach': [{'@id': 'libindy-request-presentation-0', 'mime-type': 'application/json', 'data': {'base64': 'eyJuYW1lIjogIlByb29mIG9mIFBlcnNvbmFsIEluZm9ybWF0aW9uIiwgInZlcnNpb24iOiAiMS4wIiwgInJlcXVlc3RlZF9hdHRyaWJ1dGVzIjogeyIwX25hbWVfdXVpZCI6IHsibmFtZSI6ICJuYW1lIiwgInJlc3RyaWN0aW9ucyI6IFt7Imlzc3Vlcl9kaWQiOiAiUVp4N1NudHJWcGFpRWdxSlprTkxzQSJ9XX0sICIwX3NraWxsX3V1aWQiOiB7Im5hbWUiOiAic2tpbGwiLCAicmVzdHJpY3Rpb25zIjogW3siaXNzdWVyX2RpZCI6ICJRWng3U250clZwYWlFZ3FKWmtOTHNBIn1dfSwgIjBfY291bnRyeV91dWlkIjogeyJuYW1lIjogImNvdW50cnkifX0sICJyZXF1ZXN0ZWRfcHJlZGljYXRlcyI6IHsiMF9hZ2VfR0VfdXVpZCI6IHsibmFtZSI6ICJhZ2UiLCAicF90eXBlIjogIj49IiwgInBfdmFsdWUiOiAyMSwgInJlc3RyaWN0aW9ucyI6IFt7Imlzc3Vlcl9kaWQiOiAiUVp4N1NudHJWcGFpRWdxSlprTkxzQSJ9XX19LCAibm9uY2UiOiAiMTIwODE4MTc4ODk1ODEyNjQ1NjM1MTIwMCJ9'}}]}, 'presentation': {'proof': {'proofs': [{'primary_proof': {'eq_proof': {'revealed_attrs': {'name': '93006290325627508022776103386395994712401809437930957652111221015872244345185', 'skill': '24214165878429772374367858032287880675266648921286067519661391650938186682695'}, 'a_prime': '71083165404964919077860860279670466466744712146688360461362454284482484749942053259966545507742976201230674454645982753312800296888536357189925931804475710446272041507980883204137848165335350855580360786559190698477843903915157548937311589703287024397895045676660607564937364084073350615849005822731825862408206305056722005408208922091617925669505977028515885267605429451146247641784760477712243616112674069901819122960069282752303380248495395678402744967140387651990260971567310656466063553919196482843792166334003827160376861758094384294574196110228918508303003631107717657593833799006875781926163258517760084627164', 'e': '27485753440361193183153815771653429235967146019687304797081816215204240249448525937013416261976158850031068925565363409745932422168806419', 'v': '1285259261549351101238674775164350833226326183262044125543615018450200163464617908389786391781142049832302543567371111936541426677314549405960437831990538218292916576096952213712182505003460579983917531888381965603834841889675360387248360931522389742229145219198862976999920375523499777925668401008133086032824102239686051279297058499178480394517917892776607913221079064889610824943030590257632742397739432060419713038165517907007411912952769042014827174020663839665971591608449147305587605492016794246095774642856473243557370932623383366443027137298812233023316020880185158336360467329464463816840555164216503334412228936065358099600974083375611748280740576476221434812426801573766415470555784412496121773130902239627145123271042271246669715454361296109422807776242929171332481927014524331840925486545913761875458496877845504428666322295460091723185883265951156341702593761985666391306000316947037879211751318341993837492', 'm': {'age': '7701080973768603201009721700546010824110484674506882280064540486020730075144008125145859346048267232243794698797555779436902752435372118427096878421197267548582823768787894777879', 'master_secret': '14437846194778857304497543175041256300941460992584330997983967952210436946216748956668142902985254226887207466266891696069010040740392634044571659419932201395635038661419509142269'}, 'm2': '351891297622715282304737787031118238010853195142634887704576514408045925581077790337732305690024666742893365203699252844222790131637603000798566640259963827648495293320247205770'}, 'ge_proofs': [{'u': {'0': '13427343797575388939855954968497007555344930788147934427829418041586893772805857642569809680651253117020288768055032470860148690312932735129535276460971333251529228793437186105643', '1': '12663693313112164594568928504824256743068073646887056655660255101579574247066183093196317391225058339095047095669344824444970959909854559194441784148840879917567495289442032884763', '2': '4664650485000164508915598467882920670303951899367336380659308730089148445477916818680122454682796231739097150628167555504521505201466852143318059308660052508359330471976707951068', '3': '5310301965592628314451133378287534381436112904210552291146815061767767952288832601988969241437719082285482751786512734172071670880822963600371313765774919130873533965747171481078'}, 'r': {'1': '1551574102156023021449491855863175822736911308109432150730416751668977779163517822884094435484234380827370715263787025899102392944529377461652876264517805299988456726094180569628374134294016054204438146828830964924430449871221894078939482359865125576754790167535676791749339849466221630555838218194981127034765642972744621970644121081415688577262273667511714475732883038156348974632048678587001457252004768396801447914136767458790635300122722655133898517761027813800637000836266722054619463792588649701396320347629373785812334120002080948621817794970547287612764041640115676699435859545812282374206706879714855807589454133191306231022642556475104140983855994121313079460160547769819624887277554711091685071908142481264', '3': '414017416650518955862007955508704194577139197343161452752922329878756277240761538964852042855547950277602162761634063497136258149396724783817285932377448111970285283644599873259074647629337959204912682434696999711862945006418544863151380945099111386669185567346081899506081560908487299067910764268826311255547565417354875951520075968401855292793756223603335556040643910048810385129838620521875825564214255746068900990338030090397474911419106739361716173689271528361222689759982827548087617047247044795874917676116625119745560618988292086866564793370456201538977114876945393857814250997976501355870266224912864215034697079579924996930214996627218656533593005435606799038942664518986600102602964834831676929640760231904', '0': '813323586450100621640776375469927913184450623405812518251753031119782460526084478028365457056789311435322940581781801821627380300594398373399324633621311644511593967403098246600246572424444605250006008900131220194675673134972346292383774714135559470815754902237239301973959754672592489420645679256801666477822347353193850726543541006389320975109073372515252317927092793508714595366385091066651634251650531287856871727181963612843622808159083436491922504890709922091197345930500431358035834395096501011428869416723714568260780086796057545753032827568862818597047468795595411338452151260169248689629186444641052136837998751965170447550481447147720698779621056788249837867792363925834950966219076948093464220421758227443', '2': '1941483513772205268219526431409973102936964508533022314871602724502137435555543111997728614865212149983852650703670851178782770054676091113653609839304219738923109122587217306182734535148105982875545989187763476083440369648139446895802468864721931885193478139444428784143869276496674682779670397273758859617932160525479849128600589534470935696390945676285805395213659937590411902708469713657330220943717118303572675642808640680557578514916032628291749026128401598638011567055355393803642739998076762951582563689311439489820557563505634918380086688894663968062511321093470210267188750631942512662027555512109142792934243849555268779537413697738343160497732777413216482231032453786920372310038482777741012358587293956042', 'DELTA': '1183975421312064940371636576941324270603519004878129017054804197567202677383475076565372981281387832889448500405380797174863602503300651484791310450989198006300950277532193950056392693171454868071994444652835172126989410340341711307193320054032889472743404697067142073234955365988343088855740676027635404490039130041649198782555448405534620208450342268275600381384049216102214978327242711519105879945630692006680491323859662413368819695578169117673864936976717323150722257235387034495106288230770494604733690806713053938337446064653646093236220957303987492080274352894896978032755986383709920135107507548450988638320852322241397272129049745026580362010636558639059367224865850231733628778635245827265909161344769405699'}, 'mj': '7701080973768603201009721700546010824110484674506882280064540486020730075144008125145859346048267232243794698797555779436902752435372118427096878421197267548582823768787894777879', 'alpha': '85178235321939593813903269463333065958173258663063817633409671295151712979080373962242876043287136999860281727274359506076249151795803216524565245629826685176303330829842392463347580061056954961694891344366432177013369249649052058234307391406915707544894704814162372692293185859809436811285296342016592541189616935517859550045377349164205356419470882418112083037390592724460854866533313458463770416584550990248738615128461789186112313773738111542571735675414879080979306516452639499751451065465003745162620003153362963210590242762589015208101987376475579438052250172391278476890745330604868528649102742546050575514176794312528717803301938970790496481032610961046789190867840898809953004123312485230202986298639446914827410234523945364141736981953862340101166263900782050929803800790304547224979238747413729841328988468609492804368800071673', 't': {'1': '85758408450637930710695085486491607445353004142702485032264512864939974342814204212263663778861300733515511061309966803803347895328531504862682908912445793003207020726089259920183653906302368673634101971115363460993672212053376055133618629432919845047782982409418296042978030701185576304392352886586629373061644075047335334208646766431313584118607948563110337593452840566914815114185319992737029870716946083943632197175073289544441646099696177340129331089302189719676702262922988865908197198536998617135441232297417106363636724099162300319710993178069883431166223969203766695334574001618123227709345039973241822513429', '0': '81415044248568601280443008281397303912825396590682515148849457999185755697036032380861329681668559770814696283059070789235705010113229288286930134796901950485037174623466783755462584689861846132347848173547787285571934872575904638639786021416537170561087720227600603584797069239472442165751610429263482026991555994146312870033789283727711448168909235791979257451197068771794274849641856631485298859598984979120502964126750454293733522371749979649241039497798359619825882446511889421717480308750859765621084650069474294634030197129408864134207674668913958948483908356737590085340888964861379942147706792357424513885529', 'DELTA': '19397459637203585789805559065620734942360511907855543163828721184010134303625873265719576174796549449526103076032829236217601401917506784763365839516996951562736113954194354389438839815158661694390147106544948009155826201752225099508364357067858213627663582441474218777078368369723844922661797463291665789638125334249568728654454496139873313536511022992956377814122574023805963343226556536741249722824720654004394014266788684173525982063538329586761753183719907213503470272975793608098071261340131934094666044441333350261547433146893789073316655310149139726156367968813603108077206111356835044283410046467782385956914', '3': '83990329627766958404830155297954984167524893827920375974116415054132385801829570230238714108218830546139361162427095976647570465592113735038348882111612922187702211395809908991737924538384655865535888204704694012071816030935405960149512626627444634069174465505144000793931108853015444917484520128548131266691207841916972388350391244640245746858384318593754495924801013482658128762793420814041458517999193420677868710889675563203035909098738801137691120118958376281140142644913872144800202673780385771675447284052035215251720317828403905328882848280606041921541719636879730043939085955121094323192064204099970372522718', '2': '23701768619586492816181816155950578874157619279339083370785252294193587566911681876986322255330610622545642102309481018267148459539530566947894395020916710507308232221949676321677032550676499141364744269091681346707257840958082568384300105811723555015193706635494897414327524725090774722547636941298245623404895425812099422550033621453699336846696289361466039119145754643626523019832053948164210582227050326238237477172042681113398222876365013858968313950613692610416273359119252726113878275858550948219515981588555556769828557992752025486172781658059912943480481819996475122604695325255414088564380588976767591889491'}, 'predicate': {'attr_name': 'age', 'p_type': 'GE', 'value': 21}}]}, 'non_revoc_proof': None}], 'aggregated_proof': {'c_hash': '67582743041321181628561484487272212896512826045773652664232049124312974700599', 'c_list': [[2, 51, 22, 78, 113, 254, 115, 132, 37, 153, 11, 252, 204, 226, 142, 201, 252, 184, 43, 152, 156, 170, 9, 57, 0, 3, 59, 16, 166, 243, 28, 197, 59, 218, 192, 136, 77, 54, 223, 133, 152, 151, 246, 194, 113, 77, 21, 188, 182, 96, 76, 90, 219, 37, 157, 222, 185, 58, 173, 102, 32, 36, 79, 57, 79, 133, 204, 159, 126, 111, 144, 100, 213, 134, 14, 122, 187, 163, 244, 102, 10, 58, 144, 71, 11, 22, 203, 61, 39, 72, 170, 136, 202, 46, 51, 136, 70, 217, 82, 181, 189, 236, 122, 187, 68, 118, 232, 78, 141, 105, 177, 190, 226, 208, 41, 75, 123, 120, 200, 234, 145, 188, 41, 17, 242, 2, 150, 102, 160, 49, 130, 35, 110, 248, 163, 238, 222, 150, 150, 93, 207, 197, 29, 11, 33, 251, 127, 200, 151, 28, 3, 69, 235, 183, 217, 67, 183, 221, 92, 141, 108, 36, 65, 111, 74, 172, 83, 170, 28, 230, 42, 70, 12, 148, 17, 164, 73, 238, 134, 70, 5, 192, 75, 12, 46, 74, 174, 239, 79, 79, 234, 143, 67, 19, 21, 129, 160, 23, 169, 19, 254, 90, 63, 163, 232, 132, 212, 13, 162, 136, 64, 58, 88, 67, 230, 70, 135, 137, 55, 37, 53, 136, 60, 254, 143, 117, 236, 120, 46, 66, 84, 11, 65, 84, 202, 188, 229, 4, 95, 147, 217, 107, 227, 127, 160, 68, 199, 45, 68, 151, 176, 197, 11, 250, 101, 78, 220], [2, 132, 238, 110, 237, 210, 197, 218, 70, 79, 135, 193, 44, 196, 70, 236, 157, 232, 76, 24, 99, 197, 188, 247, 212, 132, 46, 206, 106, 129, 95, 11, 53, 238, 191, 140, 8, 220, 66, 48, 92, 245, 119, 237, 31, 210, 37, 146, 127, 232, 205, 150, 142, 223, 6, 205, 40, 212, 186, 211, 2, 93, 230, 56, 16, 163, 214, 71, 0, 118, 71, 206, 39, 235, 94, 179, 236, 170, 198, 68, 68, 127, 183, 31, 3, 250, 74, 161, 83, 221, 128, 247, 87, 145, 45, 2, 1, 125, 80, 129, 37, 155, 60, 168, 79, 202, 26, 138, 2, 140, 218, 26, 115, 0, 72, 0, 106, 219, 128, 114, 226, 213, 216, 20, 37, 223, 12, 47, 219, 58, 168, 91, 124, 95, 106, 245, 13, 131, 44, 213, 217, 45, 223, 25, 227, 130, 115, 87, 103, 73, 230, 151, 216, 66, 25, 22, 177, 96, 136, 220, 80, 74, 241, 144, 29, 184, 1, 53, 65, 182, 52, 102, 112, 35, 20, 254, 86, 54, 173, 11, 243, 212, 79, 201, 72, 197, 206, 128, 5, 111, 38, 150, 230, 15, 206, 90, 78, 202, 8, 57, 63, 113, 245, 216, 143, 155, 205, 75, 223, 33, 236, 62, 54, 196, 55, 163, 144, 4, 245, 159, 57, 118, 122, 73, 139, 70, 245, 249, 34, 100, 146, 218, 124, 85, 210, 183, 224, 237, 245, 38, 148, 132, 15, 152, 213, 201, 140, 242, 234, 235, 85, 169, 134, 196, 243, 37, 89], [2, 167, 86, 99, 66, 114, 227, 193, 186, 132, 173, 148, 66, 239, 181, 30, 131, 210, 46, 69, 248, 71, 108, 42, 238, 255, 49, 197, 77, 11, 71, 87, 68, 160, 48, 210, 214, 152, 226, 122, 241, 96, 91, 6, 114, 80, 97, 106, 15, 102, 37, 194, 250, 64, 25, 0, 79, 6, 101, 166, 188, 102, 100, 84, 118, 138, 161, 179, 76, 62, 140, 143, 218, 174, 247, 92, 22, 65, 217, 183, 16, 237, 134, 225, 173, 208, 177, 75, 117, 198, 198, 109, 214, 20, 143, 204, 127, 75, 156, 93, 119, 56, 214, 123, 191, 210, 169, 132, 205, 188, 203, 242, 158, 111, 176, 46, 142, 160, 49, 179, 16, 166, 139, 23, 195, 133, 40, 254, 220, 106, 115, 8, 26, 212, 228, 46, 214, 128, 235, 101, 110, 178, 247, 65, 172, 198, 31, 204, 0, 214, 94, 180, 117, 66, 76, 206, 140, 187, 53, 81, 95, 173, 170, 225, 79, 67, 150, 104, 109, 249, 142, 70, 15, 56, 55, 52, 115, 99, 90, 223, 16, 184, 230, 92, 82, 0, 68, 173, 176, 188, 147, 199, 122, 249, 191, 131, 13, 20, 88, 156, 229, 57, 46, 123, 121, 201, 150, 99, 239, 228, 132, 125, 101, 212, 200, 240, 135, 191, 103, 149, 186, 157, 247, 75, 32, 232, 223, 202, 207, 63, 162, 186, 240, 100, 31, 232, 192, 210, 122, 224, 154, 191, 93, 101, 190, 241, 183, 67, 144, 177, 228, 195, 243, 129, 62, 9, 21], [187, 193, 17, 132, 152, 7, 159, 215, 30, 166, 218, 56, 53, 80, 255, 65, 86, 125, 52, 174, 223, 111, 217, 60, 82, 232, 177, 211, 218, 85, 254, 167, 222, 140, 72, 28, 150, 187, 144, 9, 194, 154, 244, 165, 226, 152, 177, 40, 232, 206, 134, 160, 173, 161, 135, 247, 255, 200, 193, 219, 180, 164, 18, 191, 134, 165, 127, 43, 190, 145, 174, 5, 224, 22, 119, 63, 3, 161, 111, 36, 219, 182, 225, 139, 40, 23, 237, 109, 163, 107, 66, 55, 64, 158, 232, 154, 119, 93, 21, 222, 152, 216, 193, 68, 216, 115, 24, 231, 45, 50, 32, 29, 115, 169, 55, 46, 143, 49, 186, 60, 54, 207, 247, 217, 78, 64, 201, 227, 130, 101, 9, 67, 70, 224, 124, 240, 249, 21, 15, 146, 162, 209, 40, 128, 1, 240, 245, 210, 245, 81, 60, 91, 64, 112, 127, 15, 68, 194, 160, 101, 196, 251, 79, 15, 20, 89, 208, 71, 152, 235, 231, 254, 1, 55, 143, 71, 12, 15, 136, 123, 185, 228, 98, 130, 252, 229, 78, 64, 2, 129, 239, 38, 78, 64, 247, 189, 80, 242, 251, 153, 127, 154, 71, 105, 188, 34, 113, 101, 135, 2, 131, 228, 185, 55, 218, 201, 144, 100, 42, 47, 170, 139, 199, 217, 201, 164, 117, 67, 118, 212, 112, 216, 240, 236, 137, 234, 221, 105, 160, 145, 183, 148, 150, 141, 206, 0, 9, 182, 157, 28, 88, 129, 30, 53, 186, 83], [2, 153, 84, 225, 196, 65, 44, 97, 114, 191, 40, 11, 235, 59, 203, 15, 235, 37, 136, 175, 228, 93, 90, 58, 51, 95, 66, 68, 48, 151, 158, 74, 163, 78, 144, 97, 78, 69, 82, 110, 155, 32, 157, 157, 193, 100, 83, 94, 132, 82, 89, 65, 248, 102, 96, 254, 173, 70, 140, 252, 193, 174, 195, 237, 46, 169, 126, 26, 228, 243, 247, 226, 20, 162, 107, 23, 215, 58, 185, 117, 175, 222, 13, 144, 251, 166, 214, 96, 113, 171, 242, 115, 81, 54, 207, 81, 200, 172, 86, 191, 52, 95, 21, 153, 38, 149, 54, 47, 108, 93, 240, 222, 230, 219, 212, 248, 8, 20, 187, 204, 94, 234, 189, 20, 115, 136, 234, 23, 191, 21, 235, 166, 71, 104, 41, 73, 103, 45, 247, 126, 194, 59, 75, 129, 69, 183, 135, 37, 68, 143, 190, 185, 173, 188, 74, 162, 129, 112, 80, 223, 211, 214, 144, 80, 62, 187, 196, 26, 53, 191, 251, 242, 123, 239, 223, 176, 19, 44, 176, 234, 240, 248, 146, 27, 114, 175, 0, 12, 60, 132, 35, 51, 169, 183, 95, 240, 190, 129, 134, 176, 220, 126, 6, 37, 113, 206, 124, 9, 250, 128, 140, 107, 138, 80, 118, 69, 41, 156, 145, 130, 169, 103, 238, 146, 104, 60, 242, 229, 178, 140, 244, 57, 131, 147, 160, 241, 131, 158, 174, 171, 204, 38, 157, 83, 5, 64, 86, 212, 237, 228, 200, 121, 45, 220, 184, 210, 222], [153, 168, 80, 131, 155, 161, 10, 192, 122, 17, 158, 184, 11, 132, 104, 128, 136, 218, 59, 75, 73, 200, 141, 236, 76, 12, 158, 243, 31, 163, 14, 237, 96, 186, 243, 211, 60, 135, 99, 53, 223, 187, 154, 61, 67, 0, 181, 27, 179, 157, 173, 232, 203, 154, 208, 220, 214, 82, 2, 176, 202, 66, 108, 34, 51, 241, 212, 78, 67, 225, 190, 188, 148, 25, 144, 104, 100, 52, 124, 121, 208, 15, 44, 150, 155, 172, 35, 26, 218, 141, 253, 31, 93, 192, 216, 221, 41, 109, 64, 25, 53, 119, 143, 53, 31, 112, 28, 204, 250, 241, 6, 170, 14, 18, 217, 219, 148, 108, 145, 203, 56, 115, 71, 148, 118, 238, 109, 40, 36, 96, 196, 151, 225, 214, 35, 192, 26, 119, 227, 38, 247, 154, 67, 131, 104, 26, 129, 202, 244, 54, 242, 238, 100, 178, 60, 215, 98, 139, 3, 70, 180, 201, 248, 190, 202, 205, 136, 114, 202, 38, 226, 29, 219, 218, 127, 249, 27, 187, 246, 54, 54, 13, 16, 139, 181, 140, 88, 166, 64, 223, 176, 83, 85, 25, 240, 186, 100, 249, 44, 87, 227, 193, 157, 139, 12, 55, 229, 100, 180, 213, 146, 23, 234, 92, 151, 15, 135, 230, 146, 77, 3, 211, 55, 168, 146, 99, 109, 242, 53, 138, 231, 251, 70, 48, 48, 221, 161, 42, 196, 201, 208, 80, 64, 113, 76, 224, 200, 254, 62, 200, 177, 162, 67, 165, 120, 50]]}}, 'requested_proof': {'revealed_attrs': {'0_skill_uuid': {'sub_proof_index': 0, 'raw': 'researcher', 'encoded': '24214165878429772374367858032287880675266648921286067519661391650938186682695'}, '0_name_uuid': {'sub_proof_index': 0, 'raw': 'Bob', 'encoded': '93006290325627508022776103386395994712401809437930957652111221015872244345185'}}, 'self_attested_attrs': {}, 'unrevealed_attrs': {}, 'predicates': {'0_age_GE_uuid': {'sub_proof_index': 0}}}, 'identifiers': [{'schema_id': 'MGgoJXWbeupKsaHDa7s4fW:2:testabc:0.0.1', 'cred_def_id': 'QZx7SntrVpaiEgqJZkNLsA:3:CL:141433:default', 'rev_reg_id': None, 'timestamp': None}]}, 'role': 'verifier', 'presentation_request': {'name': 'Proof of Personal Information', 'version': '1.0', 'requested_attributes': {'0_name_uuid': {'name': 'name', 'restrictions': [{'issuer_did': 'QZx7SntrVpaiEgqJZkNLsA'}]}, '0_skill_uuid': {'name': 'skill', 'restrictions': [{'issuer_did': 'QZx7SntrVpaiEgqJZkNLsA'}]}, '0_country_uuid': {'name': 'country'}}, 'requested_predicates': {'0_age_GE_uuid': {'name': 'age', 'p_type': '>=', 'p_value': 21, 'restrictions': [{'issuer_did': 'QZx7SntrVpaiEgqJZkNLsA'}]}}, 'nonce': '1208181788958126456351200'}, 'presentation_exchange_id': '946ce749-95d5-4cd3-8ec3-6f4e1e6fec3e', 'state': 'verified', 'initiator': 'self', 'verified': 'false', 'trace': False, 'created_at': '2020-09-16 10:34:54.751182Z'}\n"
     ]
    }
   ],
   "source": [
    "verify = await agent_controller.proofs.verify_presentation(presentation_exchange_id)\n",
    "print(verify)"
   ]
  },
  {
   "cell_type": "markdown",
   "metadata": {},
   "source": [
    "## End of Tutorial\n",
    "\n",
    "Be sure to terminate the controller so you can run another tutorial."
   ]
  },
  {
   "cell_type": "code",
   "execution_count": 11,
   "metadata": {
    "pycharm": {
     "name": "#%%\n"
    }
   },
   "outputs": [
    {
     "name": "stdout",
     "output_type": "stream",
     "text": [
      "None\n",
      "None\n"
     ]
    }
   ],
   "source": [
    "response = await issuer_agent_controller.terminate()\n",
    "print(response)\n",
    "response = await agent_controller.terminate()\n",
    "print(response)"
   ]
  },
  {
   "cell_type": "code",
   "execution_count": null,
   "metadata": {},
   "outputs": [],
   "source": []
  }
 ],
 "metadata": {
  "kernelspec": {
   "display_name": "Python 3",
   "language": "python",
   "name": "python3"
  },
  "language_info": {
   "codemirror_mode": {
    "name": "ipython",
    "version": 3
   },
   "file_extension": ".py",
   "mimetype": "text/x-python",
   "name": "python",
   "nbconvert_exporter": "python",
   "pygments_lexer": "ipython3",
   "version": "3.7.6"
  }
 },
 "nbformat": 4,
 "nbformat_minor": 1
}
