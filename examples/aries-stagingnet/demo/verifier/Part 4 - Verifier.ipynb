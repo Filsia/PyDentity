{
 "cells": [
  {
   "cell_type": "markdown",
   "metadata": {},
   "source": [
    "# Sovrin StagingNet Example: Verify Presentation\n",
    "\n",
    "## Before running this notebook you should have run through [Part 2](http://127.0.0.1:8888/notebooks/Part%202%20-%20Connecting%20Issuer%20Agent%20to%20Sovrin%20Stagingnet.ipynb) and [Part 3](http://127.0.0.1:8888/notebooks/Part%203%20-%20Issuer.ipynb) of this tutorial.\n",
    "\n",
    "If unfamiliar with the present-proof protocol it is worth reading through the [aries-rfs](https://github.com/hyperledger/aries-rfcs/tree/master/features/0037-present-proof)\n"
   ]
  },
  {
   "cell_type": "markdown",
   "metadata": {},
   "source": [
    "## Note that you do not need to write a public DID to the ledger as a verifier."
   ]
  },
  {
   "cell_type": "markdown",
   "metadata": {
    "pycharm": {
     "name": "#%%\n"
    }
   },
   "source": [
    "## 1. Instatiate Controller for Verifiers's Agent"
   ]
  },
  {
   "cell_type": "code",
   "execution_count": 1,
   "metadata": {
    "pycharm": {
     "name": "#%%\n"
    }
   },
   "outputs": [
    {
     "name": "stdout",
     "output_type": "stream",
     "text": [
      "IPython autoawait is `on`, and set to use `asyncio`\n"
     ]
    }
   ],
   "source": [
    "%autoawait\n",
    "import time\n",
    "import asyncio\n",
    "from termcolor import colored,cprint\n",
    "\n",
    "from aries_basic_controller.aries_controller import AriesAgentController\n",
    "\n",
    "WEBHOOK_HOST = \"0.0.0.0\"\n",
    "WEBHOOK_PORT = 8052\n",
    "WEBHOOK_BASE = \"\"\n",
    "ADMIN_URL = \"http://verifier-agent:8051\"\n",
    "\n",
    "# Based on the aca-py agent you wish to control\n",
    "agent_controller = AriesAgentController(webhook_host=WEBHOOK_HOST, webhook_port=WEBHOOK_PORT,\n",
    "                                       webhook_base=WEBHOOK_BASE, admin_url=ADMIN_URL)\n"
   ]
  },
  {
   "cell_type": "markdown",
   "metadata": {},
   "source": [
    "## 2. Register Listeners\n",
    "\n",
    "The handler should get called every time the controller receives a webhook with the topic present_proof, printing out the payload. The agent calls to this webhook every time it receives a present proof protocol message from another agent. \n"
   ]
  },
  {
   "cell_type": "code",
   "execution_count": 2,
   "metadata": {
    "pycharm": {
     "name": "#%%\n"
    }
   },
   "outputs": [],
   "source": [
    "loop = asyncio.get_event_loop()\n",
    "loop.create_task(agent_controller.listen_webhooks())\n",
    "\n",
    "def connections_handler(payload):\n",
    "    global STATE\n",
    "    connection_id = payload[\"connection_id\"]\n",
    "    print(\"Connection message\", payload, connection_id)\n",
    "    STATE = payload['state']\n",
    "    if STATE == 'active':\n",
    "#         print('Connection {0} changed state to active'.format(connection_id))\n",
    "        print(colored(\"Connection {0} changed state to active\".format(connection_id), \"red\", attrs=[\"bold\"]))\n",
    "\n",
    "\n",
    "connection_listener = {\n",
    "    \"handler\": connections_handler,\n",
    "    \"topic\": \"connections\"\n",
    "}\n",
    "\n",
    "def proof_handler(payload):\n",
    "    print(\"Handle present proof\")\n",
    "    print(payload)\n",
    "\n",
    "proof_listener = {\n",
    "    \"topic\": \"present_proof\",\n",
    "    \"handler\": proof_handler\n",
    "}\n",
    "\n",
    "agent_controller.register_listeners([connection_listener,proof_listener], defaults=True)\n",
    "\n"
   ]
  },
  {
   "cell_type": "markdown",
   "metadata": {},
   "source": [
    "## 3. Make a connection with the Mobile SSI Wallet you used in [Part 2](http://127.0.0.1:8888/notebooks/Part%202%20-%20Connecting%20Issuer%20Agent%20to%20Sovrin%20Stagingnet.ipynb)\n",
    "\n",
    "**You should have a credential stored in here from the previous notebook!**\n",
    "\n",
    "Please download a mobile SSI wallet such as [Connect.me](https://connect.me/), [Trinsic](https://trinsic.id/trinsic-wallet/) or any other Aries compatible wallet."
   ]
  },
  {
   "cell_type": "markdown",
   "metadata": {},
   "source": [
    "## 4. Create a connection invitation to scan with the Mobile SSI Wallet"
   ]
  },
  {
   "cell_type": "markdown",
   "metadata": {},
   "source": [
    "## 4a. Check for any existing connections"
   ]
  },
  {
   "cell_type": "code",
   "execution_count": 3,
   "metadata": {},
   "outputs": [
    {
     "name": "stdout",
     "output_type": "stream",
     "text": [
      "EXISTING CONNECTIONS\n"
     ]
    }
   ],
   "source": [
    "# Check for existing connections\n",
    "connection = await agent_controller.connections.get_connections()\n",
    "print(\"EXISTING CONNECTIONS\")\n",
    "for key, value in connection.items():\n",
    "    for item in value:\n",
    "        print('ConnectionID:', item['connection_id'], 'Status:',item['state'])"
   ]
  },
  {
   "cell_type": "markdown",
   "metadata": {},
   "source": [
    "## 4b. Create an Invitation"
   ]
  },
  {
   "cell_type": "code",
   "execution_count": 4,
   "metadata": {},
   "outputs": [
    {
     "name": "stdout",
     "output_type": "stream",
     "text": [
      "Connection message {'updated_at': '2020-09-17 12:29:30.235005Z', 'invitation_mode': 'once', 'connection_id': 'e3668df4-ae7c-4c47-a89e-70b64aa6fcef', 'state': 'invitation', 'routing_state': 'none', 'invitation_key': '4wuCeBg2Vwifg5xowyYDY9JtZ1LXiyYCsaurdWX5HQvA', 'accept': 'auto', 'initiator': 'self', 'created_at': '2020-09-17 12:29:30.235005Z'} e3668df4-ae7c-4c47-a89e-70b64aa6fcef\n",
      "Connection ID e3668df4-ae7c-4c47-a89e-70b64aa6fcef\n",
      "Invitation\n",
      "https://6641c629ed09.ngrok.io?c_i=eyJAdHlwZSI6ICJkaWQ6c292OkJ6Q2JzTlloTXJqSGlxWkRUVUFTSGc7c3BlYy9jb25uZWN0aW9ucy8xLjAvaW52aXRhdGlvbiIsICJAaWQiOiAiM2M0YTY1YzctNjFlYy00MzQzLWI2YmEtODhjY2UxNmExYmUzIiwgInJlY2lwaWVudEtleXMiOiBbIjR3dUNlQmcyVndpZmc1eG93eVlEWTlKdFoxTFhpeVlDc2F1cmRXWDVIUXZBIl0sICJzZXJ2aWNlRW5kcG9pbnQiOiAiaHR0cHM6Ly82NjQxYzYyOWVkMDkubmdyb2suaW8iLCAibGFiZWwiOiAiVmVyaWZpZXIifQ==\n"
     ]
    }
   ],
   "source": [
    "# Create Invitation\n",
    "invite = await agent_controller.connections.create_invitation()\n",
    "connection_id = invite[\"connection_id\"]\n",
    "print(\"Connection ID\", connection_id)\n",
    "print(\"Invitation\")\n",
    "print(invite['invitation_url'])\n",
    "inviteURL = invite['invitation_url']"
   ]
  },
  {
   "cell_type": "markdown",
   "metadata": {},
   "source": [
    "## 4c. Generate QR Code to be scanned with Mobile SSI Wallet"
   ]
  },
  {
   "cell_type": "code",
   "execution_count": 5,
   "metadata": {},
   "outputs": [
    {
     "data": {
      "image/png": "[encoded data removed]",
      "text/plain": [
       "<IPython.core.display.Image object>"
      ]
     },
     "execution_count": 5,
     "metadata": {
      "image/png": {
       "width": 400
      }
     },
     "output_type": "execute_result"
    },
    {
     "name": "stdout",
     "output_type": "stream",
     "text": [
      "Connection message {'updated_at': '2020-09-17 12:29:37.333428Z', 'invitation_mode': 'once', 'connection_id': 'e3668df4-ae7c-4c47-a89e-70b64aa6fcef', 'their_did': 'Wy4RSKQxfZhiL1JfAfqmdZ', 'state': 'request', 'routing_state': 'none', 'invitation_key': '4wuCeBg2Vwifg5xowyYDY9JtZ1LXiyYCsaurdWX5HQvA', 'accept': 'auto', 'initiator': 'self', 'created_at': '2020-09-17 12:29:30.235005Z', 'their_label': 'Adam’s iPhone'} e3668df4-ae7c-4c47-a89e-70b64aa6fcef\n",
      "Connection message {'updated_at': '2020-09-17 12:29:37.370494Z', 'invitation_mode': 'once', 'my_did': '14mrtbbM8hyHUs3Ktxrch8', 'connection_id': 'e3668df4-ae7c-4c47-a89e-70b64aa6fcef', 'their_did': 'Wy4RSKQxfZhiL1JfAfqmdZ', 'state': 'response', 'routing_state': 'none', 'invitation_key': '4wuCeBg2Vwifg5xowyYDY9JtZ1LXiyYCsaurdWX5HQvA', 'accept': 'auto', 'initiator': 'self', 'created_at': '2020-09-17 12:29:30.235005Z', 'their_label': 'Adam’s iPhone'} e3668df4-ae7c-4c47-a89e-70b64aa6fcef\n"
     ]
    }
   ],
   "source": [
    "import qrcode\n",
    "# Link for connection invitation\n",
    "input_data = inviteURL\n",
    "# Creating an instance of qrcode\n",
    "qr = qrcode.QRCode(\n",
    "        version=1,\n",
    "        box_size=10,\n",
    "        border=5)\n",
    "qr.add_data(input_data)\n",
    "qr.make(fit=True)\n",
    "img = qr.make_image(fill='black', back_color='white')\n",
    "img.save('verifier_agent_invite_QRcode.png')\n",
    "\n",
    "from IPython.display import Image\n",
    "Image(width=400, filename='./verifier_agent_invite_QRcode.png')"
   ]
  },
  {
   "cell_type": "markdown",
   "metadata": {},
   "source": [
    "## 4d. Check if established connection is in active state"
   ]
  },
  {
   "cell_type": "code",
   "execution_count": 6,
   "metadata": {},
   "outputs": [
    {
     "name": "stdout",
     "output_type": "stream",
     "text": [
      "\u001b[1m\u001b[35mCurrent state for ConnectionId e3668df4-ae7c-4c47-a89e-70b64aa6fcef is response\u001b[0m\n",
      "\u001b[1m\u001b[33mConnectionId e3668df4-ae7c-4c47-a89e-70b64aa6fcef is not in active state yet\u001b[0m\n",
      "\u001b[1m\u001b[34mTrust ping send to ConnectionId {'thread_id': '8a5b131a-a6fd-4ded-82fe-5cc99deaaef9'} to activate connection\u001b[0m\n",
      "\u001b[1m\u001b[33mConnectionId e3668df4-ae7c-4c47-a89e-70b64aa6fcef is not in active state yet\u001b[0m\n",
      "Connection message {'updated_at': '2020-09-17 12:29:45.208122Z', 'invitation_mode': 'once', 'my_did': '14mrtbbM8hyHUs3Ktxrch8', 'connection_id': 'e3668df4-ae7c-4c47-a89e-70b64aa6fcef', 'their_did': 'Wy4RSKQxfZhiL1JfAfqmdZ', 'state': 'active', 'routing_state': 'none', 'invitation_key': '4wuCeBg2Vwifg5xowyYDY9JtZ1LXiyYCsaurdWX5HQvA', 'accept': 'auto', 'initiator': 'self', 'created_at': '2020-09-17 12:29:30.235005Z', 'their_label': 'Adam’s iPhone'} e3668df4-ae7c-4c47-a89e-70b64aa6fcef\n",
      "\u001b[1m\u001b[31mConnection e3668df4-ae7c-4c47-a89e-70b64aa6fcef changed state to active\u001b[0m\n",
      "\u001b[1m\u001b[34mTrust ping send to ConnectionId {'thread_id': '286a82bf-a317-4dc1-b595-de33f7ca8581'} to activate connection\u001b[0m\n",
      "\u001b[1m\u001b[32mConnectionId: e3668df4-ae7c-4c47-a89e-70b64aa6fcef is now active. Continue with notebook\u001b[0m\n"
     ]
    }
   ],
   "source": [
    "import time\n",
    "\n",
    "# print('Current state for ConnectionId {} is {}'.format(connection_id,STATE))\n",
    "print(colored(\"Current state for ConnectionId {} is {}\".format(connection_id,STATE), \"magenta\", attrs=[\"bold\"]))\n",
    "while STATE != 'active':\n",
    "#     print('ConnectionId {0} is not in active state yet'.format(connection_id))\n",
    "    print(colored(\"ConnectionId {0} is not in active state yet\".format(connection_id), \"yellow\", attrs=[\"bold\"]))\n",
    "    trust_ping = await agent_controller.messaging.trust_ping(connection_id,'hello!')\n",
    "#     print('Trust ping send to ConnectionId {0} to activate connection'.format(trust_ping))\n",
    "    print(colored(\"Trust ping send to ConnectionId {0} to activate connection\".format(trust_ping), \"blue\", attrs=[\"bold\"]))\n",
    "    time.sleep(5)\n",
    "    \n",
    "# print('ConnectionId: {0} is now active. Continue with notebook'.format(connection_id))\n",
    "print(colored(\"ConnectionId: {0} is now active. Continue with notebook\".format(connection_id), \"green\", attrs=[\"bold\"]))\n"
   ]
  },
  {
   "cell_type": "markdown",
   "metadata": {},
   "source": [
    "## 5. Send Proof Request to Identity Holder Mobile Wallet"
   ]
  },
  {
   "cell_type": "markdown",
   "metadata": {},
   "source": [
    "## 5a. Generate Proof Request\n",
    "\n",
    "Note how the verifier has restricted the proof request to only include credentials issued against a specific `schema_id`. \n",
    "\n",
    "In our case `schema_id` = EuEtnVakYFyBtGFT1nHYtH:2:SSI PyDentity Tutorial:0.0.1\n",
    "\n",
    "If you ledgered your own schema in [Part 2](http://127.0.0.1:8888/notebooks/Part%203%20-%20Issuer.ipynb) and didn't use the pre-ledgered schema then please copy the new schema_id into the `schemaid` variable in the cell below.\n",
    "\n",
    "TODO: Add information around predicates"
   ]
  },
  {
   "cell_type": "code",
   "execution_count": 7,
   "metadata": {
    "pycharm": {
     "name": "#%%\n"
    }
   },
   "outputs": [
    {
     "name": "stdout",
     "output_type": "stream",
     "text": [
      "Request proof of Fullname and Age range from Identity Holder\n"
     ]
    }
   ],
   "source": [
    "schema_id = 'EuEtnVakYFyBtGFT1nHYtH:2:SSI PyDentity Tutorial:0.0.1'\n",
    "\n",
    "print(\"Request proof of Fullname and Age range from Identity Holder\")\n",
    "#Set some variables\n",
    "\n",
    "revocation = False\n",
    "SELF_ATTESTED = True\n",
    "exchange_tracing = False\n",
    "\n",
    "#Enable this to ask for attributes to identity a user\n",
    "#TODO - change restriction to schemaId or credentialId\n",
    "\n",
    "req_attrs = [\n",
    "    {\"name\": \"fullname\", \"restrictions\": [{\"schema_id\": schema_id}]},\n",
    "    {\"name\": \"skill\", \"restrictions\": [{\"schema_id\": schema_id}]},\n",
    "]\n",
    "\n",
    "if revocation:\n",
    "    req_attrs.append(\n",
    "        {\n",
    "            \"name\": \"skill\",\n",
    "            \"restrictions\": [{\"schema_id\": schema_id}],\n",
    "            \"non_revoked\": {\"to\": int(time.time() - 1)},\n",
    "        },\n",
    "    )\n",
    "\n",
    "if SELF_ATTESTED:\n",
    "    # test self-attested claims\n",
    "    req_attrs.append({\"name\": \"country\"},)\n",
    "\n",
    "#Set predicates for Zero Knowledge Proofs\n",
    "req_preds = [\n",
    "    # test zero-knowledge proofs\n",
    "    {\n",
    "        \"name\": \"age\",\n",
    "        \"p_type\": \">=\",\n",
    "        \"p_value\": 21,\n",
    "        \"restrictions\": [{\"schema_id\": schema_id}],\n",
    "    }\n",
    "]\n",
    "\n",
    "indy_proof_request = {\n",
    "    \"name\": \"Proof of Completion of PyDentity SSI Tutorial\",\n",
    "    \"version\": \"1.0\",\n",
    "    \"requested_attributes\": {\n",
    "        f\"0_{req_attr['name']}_uuid\":\n",
    "        req_attr for req_attr in req_attrs\n",
    "    },\n",
    "    \"requested_predicates\": {\n",
    "        f\"0_{req_pred['name']}_GE_uuid\":\n",
    "        req_pred for req_pred in req_preds\n",
    "    },\n",
    "}\n",
    "\n",
    "if revocation:\n",
    "    indy_proof_request[\"non_revoked\"] = {\"to\": int(time.time())}\n",
    "\n",
    "#proof_request = indy_proof_request\n",
    "exchange_tracing_id = exchange_tracing\n",
    "proof_request_web_request = {\n",
    "    \"connection_id\": connection_id,\n",
    "    \"proof_request\": indy_proof_request,\n",
    "    \"trace\": exchange_tracing,\n",
    "}"
   ]
  },
  {
   "cell_type": "markdown",
   "metadata": {},
   "source": [
    "### 5b. Send the proof request to Identity Holder\n",
    "\n",
    "Identity Holder is identified through the connection_id"
   ]
  },
  {
   "cell_type": "code",
   "execution_count": 8,
   "metadata": {
    "pycharm": {
     "name": "#%%\n"
    },
    "scrolled": false
   },
   "outputs": [
    {
     "name": "stdout",
     "output_type": "stream",
     "text": [
      "{'updated_at': '2020-09-17 12:30:33.027192Z', 'thread_id': '0c60519d-7ae6-427b-94e2-fb5e49a5785e', 'role': 'verifier', 'trace': False, 'presentation_request': {'name': 'Proof of Completion of PyDentity SSI Tutorial', 'version': '1.0', 'requested_attributes': {'0_fullname_uuid': {'name': 'fullname', 'restrictions': [{'schema_id': 'EuEtnVakYFyBtGFT1nHYtH:2:SSI PyDentity Tutorial:0.0.1'}]}, '0_skill_uuid': {'name': 'skill', 'restrictions': [{'schema_id': 'EuEtnVakYFyBtGFT1nHYtH:2:SSI PyDentity Tutorial:0.0.1'}]}, '0_country_uuid': {'name': 'country'}}, 'requested_predicates': {'0_age_GE_uuid': {'name': 'age', 'p_type': '>=', 'p_value': 21, 'restrictions': [{'schema_id': 'EuEtnVakYFyBtGFT1nHYtH:2:SSI PyDentity Tutorial:0.0.1'}]}}, 'nonce': '285431657330420396277897'}, 'connection_id': 'e3668df4-ae7c-4c47-a89e-70b64aa6fcef', 'presentation_exchange_id': 'e47c0245-ffab-4a33-983d-a8bb6e938560', 'auto_present': False, 'state': 'request_sent', 'presentation_request_dict': {'@type': 'did:sov:BzCbsNYhMrjHiqZDTUASHg;spec/present-proof/1.0/request-presentation', '@id': '0c60519d-7ae6-427b-94e2-fb5e49a5785e', 'request_presentations~attach': [{'@id': 'libindy-request-presentation-0', 'mime-type': 'application/json', 'data': {'base64': 'eyJuYW1lIjogIlByb29mIG9mIENvbXBsZXRpb24gb2YgUHlEZW50aXR5IFNTSSBUdXRvcmlhbCIsICJ2ZXJzaW9uIjogIjEuMCIsICJyZXF1ZXN0ZWRfYXR0cmlidXRlcyI6IHsiMF9mdWxsbmFtZV91dWlkIjogeyJuYW1lIjogImZ1bGxuYW1lIiwgInJlc3RyaWN0aW9ucyI6IFt7InNjaGVtYV9pZCI6ICJFdUV0blZha1lGeUJ0R0ZUMW5IWXRIOjI6U1NJIFB5RGVudGl0eSBUdXRvcmlhbDowLjAuMSJ9XX0sICIwX3NraWxsX3V1aWQiOiB7Im5hbWUiOiAic2tpbGwiLCAicmVzdHJpY3Rpb25zIjogW3sic2NoZW1hX2lkIjogIkV1RXRuVmFrWUZ5QnRHRlQxbkhZdEg6MjpTU0kgUHlEZW50aXR5IFR1dG9yaWFsOjAuMC4xIn1dfSwgIjBfY291bnRyeV91dWlkIjogeyJuYW1lIjogImNvdW50cnkifX0sICJyZXF1ZXN0ZWRfcHJlZGljYXRlcyI6IHsiMF9hZ2VfR0VfdXVpZCI6IHsibmFtZSI6ICJhZ2UiLCAicF90eXBlIjogIj49IiwgInBfdmFsdWUiOiAyMSwgInJlc3RyaWN0aW9ucyI6IFt7InNjaGVtYV9pZCI6ICJFdUV0blZha1lGeUJ0R0ZUMW5IWXRIOjI6U1NJIFB5RGVudGl0eSBUdXRvcmlhbDowLjAuMSJ9XX19LCAibm9uY2UiOiAiMjg1NDMxNjU3MzMwNDIwMzk2Mjc3ODk3In0='}}]}, 'initiator': 'self', 'created_at': '2020-09-17 12:30:33.027192Z'}\n",
      "\n",
      "\n",
      "e47c0245-ffab-4a33-983d-a8bb6e938560\n",
      "Handle present proof\n",
      "{'updated_at': '2020-09-17 12:30:33.027192Z', 'thread_id': '0c60519d-7ae6-427b-94e2-fb5e49a5785e', 'role': 'verifier', 'trace': False, 'presentation_request': {'name': 'Proof of Completion of PyDentity SSI Tutorial', 'version': '1.0', 'requested_attributes': {'0_fullname_uuid': {'name': 'fullname', 'restrictions': [{'schema_id': 'EuEtnVakYFyBtGFT1nHYtH:2:SSI PyDentity Tutorial:0.0.1'}]}, '0_skill_uuid': {'name': 'skill', 'restrictions': [{'schema_id': 'EuEtnVakYFyBtGFT1nHYtH:2:SSI PyDentity Tutorial:0.0.1'}]}, '0_country_uuid': {'name': 'country'}}, 'requested_predicates': {'0_age_GE_uuid': {'name': 'age', 'p_type': '>=', 'p_value': 21, 'restrictions': [{'schema_id': 'EuEtnVakYFyBtGFT1nHYtH:2:SSI PyDentity Tutorial:0.0.1'}]}}, 'nonce': '285431657330420396277897'}, 'connection_id': 'e3668df4-ae7c-4c47-a89e-70b64aa6fcef', 'presentation_exchange_id': 'e47c0245-ffab-4a33-983d-a8bb6e938560', 'auto_present': False, 'state': 'request_sent', 'presentation_request_dict': {'@type': 'did:sov:BzCbsNYhMrjHiqZDTUASHg;spec/present-proof/1.0/request-presentation', '@id': '0c60519d-7ae6-427b-94e2-fb5e49a5785e', 'request_presentations~attach': [{'@id': 'libindy-request-presentation-0', 'mime-type': 'application/json', 'data': {'base64': 'eyJuYW1lIjogIlByb29mIG9mIENvbXBsZXRpb24gb2YgUHlEZW50aXR5IFNTSSBUdXRvcmlhbCIsICJ2ZXJzaW9uIjogIjEuMCIsICJyZXF1ZXN0ZWRfYXR0cmlidXRlcyI6IHsiMF9mdWxsbmFtZV91dWlkIjogeyJuYW1lIjogImZ1bGxuYW1lIiwgInJlc3RyaWN0aW9ucyI6IFt7InNjaGVtYV9pZCI6ICJFdUV0blZha1lGeUJ0R0ZUMW5IWXRIOjI6U1NJIFB5RGVudGl0eSBUdXRvcmlhbDowLjAuMSJ9XX0sICIwX3NraWxsX3V1aWQiOiB7Im5hbWUiOiAic2tpbGwiLCAicmVzdHJpY3Rpb25zIjogW3sic2NoZW1hX2lkIjogIkV1RXRuVmFrWUZ5QnRHRlQxbkhZdEg6MjpTU0kgUHlEZW50aXR5IFR1dG9yaWFsOjAuMC4xIn1dfSwgIjBfY291bnRyeV91dWlkIjogeyJuYW1lIjogImNvdW50cnkifX0sICJyZXF1ZXN0ZWRfcHJlZGljYXRlcyI6IHsiMF9hZ2VfR0VfdXVpZCI6IHsibmFtZSI6ICJhZ2UiLCAicF90eXBlIjogIj49IiwgInBfdmFsdWUiOiAyMSwgInJlc3RyaWN0aW9ucyI6IFt7InNjaGVtYV9pZCI6ICJFdUV0blZha1lGeUJ0R0ZUMW5IWXRIOjI6U1NJIFB5RGVudGl0eSBUdXRvcmlhbDowLjAuMSJ9XX19LCAibm9uY2UiOiAiMjg1NDMxNjU3MzMwNDIwMzk2Mjc3ODk3In0='}}]}, 'initiator': 'self', 'created_at': '2020-09-17 12:30:33.027192Z'}\n",
      "Handle present proof\n",
      "{'updated_at': '2020-09-17 12:30:47.418044Z', 'thread_id': '0c60519d-7ae6-427b-94e2-fb5e49a5785e', 'role': 'verifier', 'trace': False, 'presentation_request': {'name': 'Proof of Completion of PyDentity SSI Tutorial', 'version': '1.0', 'requested_attributes': {'0_fullname_uuid': {'name': 'fullname', 'restrictions': [{'schema_id': 'EuEtnVakYFyBtGFT1nHYtH:2:SSI PyDentity Tutorial:0.0.1'}]}, '0_skill_uuid': {'name': 'skill', 'restrictions': [{'schema_id': 'EuEtnVakYFyBtGFT1nHYtH:2:SSI PyDentity Tutorial:0.0.1'}]}, '0_country_uuid': {'name': 'country'}}, 'requested_predicates': {'0_age_GE_uuid': {'name': 'age', 'p_type': '>=', 'p_value': 21, 'restrictions': [{'schema_id': 'EuEtnVakYFyBtGFT1nHYtH:2:SSI PyDentity Tutorial:0.0.1'}]}}, 'nonce': '285431657330420396277897'}, 'connection_id': 'e3668df4-ae7c-4c47-a89e-70b64aa6fcef', 'presentation_exchange_id': 'e47c0245-ffab-4a33-983d-a8bb6e938560', 'auto_present': False, 'state': 'presentation_received', 'presentation': {'proof': {'proofs': [{'primary_proof': {'eq_proof': {'revealed_attrs': {'fullname': '5584118292243570832229007151227486557830456183152330398099998379897660339546', 'skill': '38813097173523343342121686954087857232940954656654688676222283577873518606251'}, 'a_prime': '63110253238062897573016409045949601283402340221408016037538901955875273429544335658173250555734077516388103085123681161542976127912969620037215520878956734744396296200627370449871620440763282029213735004409557644642669065438604133646759564441371165634164392710549309382063282599943632914719039358244371358764848206104292398821224976178469112814759967397366686594674936091037324441383559275929990546934848707600140997543021250197577408000835648627869812858327841743838622406878026032273133345627968708729983889498652467450694688677342098573694040976646431367910809708097791894516625354263649368096773479797054668355711', 'e': '25261302608580896114954906299260120306483923619389366323540524674277341223951337187396098388761672704804657927329478602778480698235625808', 'v': '1131693029630966232414339105133650046866731782854444748774491498422753716357415720793172985337517368626362550113590289699453098916551761503526277520010397630844148269499458790816619307820795122582935201456285919869092874505802159191672434646898835177473955503178025254588585659522017961627862806774135980158059758505480380901591549156168841696762352727205464332708977671284738898874024278398219738089624210386089983839142663343141389987315315286121745006575684226949050217354914341990483030196182171851836408541655569598773554162959491912023479051982891449230671193766308554428671317221700807872300408748837668514862537378628119336321742496302810982219115330548802651342429701144802764804156276741615357351471452161550090542568964555076462581863774117230397587197381182484711046660821275032716236530174703688680041702907070317322765593600087992824296536289119052456960930795804020649745003943854255257708889374642652990495', 'm': {'master_secret': '4209425266987992938486905350999146087052332243070976881281474910936719125402444412307842371225340177246099300978377812867113017831035143093278503215320621474017191658211282876353', 'age': '7848936647891164311847524238846150709251176568464544195790043737830757057695320679918676816845535966327906170306609555380337996625074456490852918892951706374161962420493467046078'}, 'm2': '9872039417467794643559922166829994578102136906542445712366504428436290236799535785904882883805642838735756892677514033089266516081271030814717441827091025920954544413480550058336'}, 'ge_proofs': [{'u': {'0': '5654737445471938395399291017192221763462511193121193585529578311685869661435841021315332433124689078212052746952475871268548867179849476181832152390083504196823953456202813294652', '2': '7379131188861917179376049291119875594255042208113673626701721926823425332781041790204161671304573744544107938033065677573625891746327423030345445663693248724939481646653330541264', '1': '11665446093374962883020379912037091136347916846520418028847307845622002064006843492824420933491455562453277987355869643201323999196182902227379876942112497714568960143362696973145', '3': '5113588822178691156435456568695452180487699086005119919880145715491634342735168849188931844316036384731374621295421516154347683122179027664002359811261877646851671442392284344974'}, 'r': {'DELTA': '164803111151454611503409213717437720974894935147658882826928559266558778370120038530617069912555479325159326330747308763247283143927124630582402981805331141721206633212688112847077684576273776955549690752498111544895982497393537745984915104818281912849428671635627245218471522989612269887494095387989984944313314318658409790898833085367009761604691479417167550769152356779144984045640628116085581248539720053243905962987238333702725897826447826602892558158160005601356294678563859376628329401625695700386361170961844043249606192262431802726301019993746338798468503749444941439226351646200790362344770888083837099822025909635963236585042037746752052256195985423540108767550093459742237954506107725919994037018831938789', '0': '1666493658236244709039544427814024540983190504408275317269978644797898208738696504236749472418381498856320724647580580263251510638930914702053287605339905965096937285313168020925270695197243045302851590240650137356523588184039779925586176077943645998375989903602572546303280886959109215766955808874563106818747060000099579660958239995109330315602071281401465615577489762862342370081201803174515416875800132486699157668699945237924554442578609033867682648944021905553379156617347574630503295790579657345475479980688849245224236637317144563280768812347772708121230227293157042486890104112910129037630855633732979803480328250081529250825202274918099636172774001646882263327438532935647579979863101936161852314784747547672', '3': '559148845744967826381769800877457123612349180881256342132633991209351018942351655750897532025678399766582022316091423333683420488014494412370625302572876480805651934295415561352601498578103793298595035974930953338391628158714598003258458220829363137100902089521179125700260930642310950711075980997010215601793897181382251048996721309593780430237461346784108145207578806527612210731237733154161386750241291197518677104017354719396275098216061812743433688883138595902182686620722677636134638763954926593310139611796855934440486433992768240317023222237319886976039862217300566163390446899676288432614242972422342309368702590759497809553688898018595632167250215211132857628731627574848285273659272557055348221787445935089', '1': '492658586773239226903337551999277884897228513820055020156479869801037698967301312589123487844649057779215364787824878329927965358771439948774320063019734098043847432094173547736478283128580830314092910169436979280373751706938093259247439985178225146807729419760839453637012294349399242491487584322909633630480899389186166580090790924499028392676593809393105675217543423550978997543734074198189056349181888851607505501007808773052580834776678918292884583798794065670217465709790390600881106358179734899426475046064227210148519657493864909505452274718368925113761361328169512014399544408941648942513038622084562837969302733741405333491010397683955341964415358910782318553091964036042008322159895726920259781012961989757', '2': '1582979956009008321160869095454477115917124456616854922671687043500114518045732957984467351759480510681566869430866313124484315570949935302312972667563321001377904427507037687732874871572102803813685854607591011763525513330912652502974443394155679519432874310225246682436502741718331992000083782025313551929328063317634507219779985866249557183211451304384406827653838753240942382279656581599377516879153678015085700152535991985351642054042925381893072128804290576122923766293750220874040325654202143558115128842463901845405936656950692198235145919722762376196750874748852319597964498685143156748067466907902689887285376735490994984462261421169989147562329060357469017390525698409236476348947731161084642129318788684183'}, 'mj': '7848936647891164311847524238846150709251176568464544195790043737830757057695320679918676816845535966327906170306609555380337996625074456490852918892951706374161962420493467046078', 'alpha': '72776239163551599704530147992289721370925162286967576687405497431606047617133084013907408835168768712645213828618437272810002820520525964371858587113769791372971281913409451130574071180749817206604883859885561204884916006962903810276114409701471105554780325084547169553654375322337326837156041218531830981224213727243496533534300604496420242676862316747454495838898552218077507753901506679434233634035367626338150542784319829808291104383622126445943090932932337117819867553947146606259983833226105346632699111640260443280513485464165560144202248896191627452177952136064182455209981215307769765935883587200506285192470969637045083423777648468395860715864793548089868134584550675719987088172598398134195157236782554058544726569026329305004882934859541849585983064193549931235653934333356801188723896972541870680684405904590110589917086609992', 't': {'1': '78523144051148478302717252370575889834395008879948934840179365213459664520906447753924676431670607837271195583182103683139427341746171501187867778459353685178427845361895763897919074029773526321482409691273385470519350132290506890980622226299055620529896519170884589518193257515082494127911245923946187480451986944906901331418332642945960986013143551346354667838127502523887235698292734106131134920099156279589849386756489926847601170648456502593163610785768496066516284543356867172353982107978576848452954215519748915767539159084841970163611901507972933309311240172291374039337618996078721133742064475413055544776413', '0': '8070863257244998588326033855488958081728222017042138621585604489952688357333976156059906557233477510243088983660171612187783625206221241237934781888019425358209778163373535345929126457200070746484700550586559182099309895775746242782324641660883969514421641580694662855257464669877700072746765251985469215486897466908651406605041109119407460882560547276580173046852068460791879423980410964509400248166583320330254053900722774229428615299480937677101366084762616599405276013088968424768839319099073213750962278550455269506534536062992934677405822805054371291566864297813946843128382337199879795851936160946806791358684', '3': '657111669399308820330442923141120760319555180894319732447177483577136980328412920977998798642832278569173613337972032469879027423159363160013291393141086328057957175675370540554093974572379999801228452990446054077789534979210640256884213871989726712811751533906390081594034810444845741633025601835515517621392157555419812294953254006772734807944112222755445076297451398939192885956982432244195774136021647766356837300033951897668494317874388653063745344016266570431259743855306692997828723897677348476149443014293099415176604482313728275315983040461572884302672524682787154960199358753374326468774094358730720915902', 'DELTA': '94614588398797801332092211909472500606589804448520302480891999735005376203481365034126315487524967083377348987592306080266601514533910918760782305090348700075729744939461523386785944004883394046073401617649663824612536423956536093162088951160667488910738260208388759015674923388613487666514445635688556543327068814143658730484907371003589254975901882417523464840990720315586215380655113329340140570974355228308451120943388872047950475579886600504063434438484561030436001411298970479990455127533378886955925171862161050060580077480776344000034949307230579141484579833150826045395493100170446519190910444560690504924882', '2': '16201904101461184393181722208116870017582540450850686802916470430604107269527161790030701492674623259921280998778846624317177076536908068193380937879356711754650932691872010708982387825852892676791093492418730767231788145105894562076744143885028722727928817198353369316355035120230246548893253706355266171966956270334079192498753907374579417435580678544309393164480194300258261466295225239158267844630772092247646027233074382314432099368895034612996061656948137285859054791700226044611765737277350441276611117650135355913349484542611189843262051126288692223642618128500712841784016216680412048018450527695204848475594'}, 'predicate': {'attr_name': 'age', 'p_type': 'GE', 'value': 21}}]}, 'non_revoc_proof': None}], 'aggregated_proof': {'c_hash': '62075889640103621357300005874579100356881117948551028219740233234328221068453', 'c_list': [[1, 243, 237, 244, 0, 26, 98, 156, 8, 217, 0, 247, 230, 51, 32, 252, 202, 176, 57, 236, 4, 1, 152, 137, 130, 224, 57, 135, 177, 51, 91, 246, 253, 42, 216, 110, 36, 157, 43, 101, 202, 90, 211, 121, 227, 87, 154, 215, 56, 251, 236, 152, 181, 212, 25, 232, 97, 244, 146, 246, 225, 149, 145, 43, 126, 230, 63, 150, 77, 214, 234, 28, 239, 34, 131, 12, 93, 11, 10, 24, 94, 15, 217, 102, 160, 79, 154, 250, 103, 158, 166, 50, 143, 178, 126, 172, 97, 176, 227, 180, 18, 70, 83, 149, 103, 171, 54, 40, 85, 240, 224, 241, 182, 31, 63, 119, 160, 211, 78, 203, 250, 224, 222, 205, 142, 110, 208, 29, 96, 189, 167, 196, 10, 139, 158, 55, 196, 35, 169, 144, 55, 157, 54, 111, 102, 117, 128, 75, 198, 43, 120, 130, 113, 255, 55, 124, 142, 148, 77, 223, 42, 251, 208, 141, 127, 128, 209, 135, 98, 235, 23, 112, 86, 78, 42, 174, 230, 89, 10, 227, 2, 50, 93, 185, 8, 89, 41, 117, 18, 5, 187, 51, 194, 132, 207, 143, 88, 116, 38, 44, 251, 164, 31, 185, 2, 150, 137, 31, 122, 47, 9, 61, 148, 52, 248, 22, 111, 69, 3, 253, 82, 62, 171, 66, 98, 181, 206, 87, 249, 232, 28, 39, 138, 197, 90, 37, 198, 0, 11, 128, 14, 124, 52, 3, 212, 81, 148, 177, 93, 44, 118, 179, 24, 84, 189, 56, 127], [63, 238, 253, 70, 132, 3, 89, 16, 115, 136, 254, 240, 245, 191, 173, 177, 176, 43, 198, 175, 9, 135, 101, 104, 31, 174, 254, 185, 49, 157, 110, 241, 235, 63, 126, 30, 40, 146, 206, 23, 40, 91, 207, 63, 126, 211, 20, 45, 247, 158, 7, 142, 209, 41, 149, 180, 202, 214, 87, 100, 46, 23, 71, 233, 13, 132, 202, 3, 34, 250, 33, 81, 240, 27, 11, 201, 37, 235, 25, 230, 109, 162, 56, 237, 249, 223, 146, 81, 75, 62, 222, 117, 26, 73, 109, 36, 156, 18, 58, 204, 187, 27, 39, 18, 226, 110, 35, 192, 239, 136, 107, 214, 86, 137, 172, 146, 215, 20, 205, 38, 40, 28, 77, 162, 126, 134, 103, 208, 15, 237, 66, 208, 142, 26, 56, 148, 78, 106, 188, 69, 217, 183, 197, 47, 137, 246, 54, 167, 58, 199, 9, 170, 53, 236, 242, 121, 12, 91, 229, 42, 12, 201, 47, 124, 92, 220, 12, 60, 3, 168, 164, 254, 252, 94, 4, 18, 115, 217, 68, 182, 110, 131, 181, 119, 178, 138, 158, 178, 132, 132, 158, 83, 247, 136, 18, 16, 78, 94, 203, 29, 68, 6, 107, 31, 245, 58, 28, 2, 184, 26, 85, 77, 206, 163, 44, 48, 247, 198, 204, 129, 105, 203, 145, 84, 213, 19, 223, 141, 60, 102, 226, 40, 210, 188, 216, 106, 157, 52, 147, 235, 104, 195, 56, 235, 41, 176, 218, 164, 130, 93, 156, 25, 5, 8, 72, 220], [2, 110, 5, 235, 13, 179, 227, 143, 7, 8, 53, 250, 113, 87, 91, 143, 143, 21, 70, 37, 163, 93, 202, 130, 99, 6, 64, 129, 131, 211, 163, 39, 174, 86, 34, 238, 104, 169, 137, 214, 214, 127, 71, 135, 177, 99, 195, 141, 107, 106, 42, 143, 147, 3, 119, 62, 102, 122, 202, 129, 152, 81, 240, 250, 85, 200, 125, 174, 22, 201, 15, 93, 76, 2, 121, 85, 78, 146, 21, 117, 56, 13, 52, 37, 218, 137, 94, 25, 112, 28, 77, 31, 157, 21, 168, 24, 114, 53, 104, 45, 230, 183, 98, 34, 148, 50, 45, 80, 152, 162, 109, 59, 13, 147, 122, 186, 192, 240, 173, 6, 167, 125, 136, 98, 213, 194, 74, 230, 97, 183, 250, 66, 124, 204, 183, 74, 157, 173, 62, 138, 67, 86, 20, 207, 251, 45, 55, 113, 190, 187, 242, 200, 228, 161, 47, 173, 73, 208, 167, 40, 103, 147, 167, 255, 200, 77, 243, 217, 139, 249, 184, 225, 242, 5, 236, 188, 84, 237, 36, 151, 87, 234, 208, 228, 76, 10, 249, 61, 173, 107, 104, 205, 52, 181, 160, 10, 70, 45, 238, 152, 131, 109, 133, 184, 142, 145, 232, 130, 111, 253, 24, 102, 68, 82, 180, 213, 90, 197, 99, 207, 24, 26, 0, 29, 59, 198, 75, 108, 121, 195, 12, 237, 210, 249, 3, 158, 198, 111, 150, 152, 16, 106, 102, 18, 43, 232, 170, 57, 183, 14, 100, 4, 122, 99, 20, 86, 221], [128, 88, 3, 115, 150, 252, 155, 134, 70, 188, 67, 61, 176, 79, 26, 47, 185, 229, 98, 254, 139, 29, 48, 143, 71, 154, 248, 27, 187, 142, 44, 219, 6, 74, 92, 95, 211, 183, 46, 91, 187, 86, 211, 134, 47, 163, 60, 0, 150, 8, 203, 119, 214, 223, 55, 223, 40, 218, 116, 190, 188, 133, 89, 63, 219, 223, 163, 236, 110, 205, 78, 80, 224, 49, 131, 95, 2, 237, 219, 52, 155, 213, 85, 190, 164, 173, 125, 129, 63, 43, 44, 199, 147, 145, 103, 35, 35, 20, 84, 141, 37, 99, 60, 116, 207, 216, 249, 5, 141, 33, 46, 53, 148, 143, 112, 0, 115, 195, 224, 33, 84, 77, 6, 135, 36, 51, 65, 241, 89, 161, 112, 181, 133, 31, 18, 91, 25, 191, 42, 179, 118, 78, 103, 78, 221, 87, 58, 34, 151, 223, 148, 146, 130, 220, 6, 141, 33, 111, 218, 79, 228, 199, 106, 62, 123, 95, 99, 249, 206, 133, 57, 135, 233, 45, 222, 177, 227, 55, 190, 26, 32, 100, 33, 177, 40, 200, 206, 58, 133, 45, 49, 15, 211, 186, 251, 22, 195, 74, 82, 57, 131, 199, 236, 238, 24, 54, 2, 15, 181, 250, 98, 75, 0, 144, 133, 122, 118, 28, 225, 180, 190, 10, 181, 101, 22, 83, 88, 123, 129, 27, 116, 168, 83, 106, 57, 16, 57, 142, 42, 121, 211, 68, 209, 202, 92, 99, 38, 71, 84, 53, 145, 241, 167, 179, 157, 202], [5, 52, 144, 81, 10, 132, 251, 126, 132, 57, 228, 93, 78, 192, 182, 136, 244, 190, 16, 234, 107, 223, 234, 36, 53, 108, 219, 126, 40, 138, 127, 93, 177, 74, 122, 185, 1, 88, 122, 222, 81, 216, 112, 49, 53, 3, 47, 10, 212, 45, 179, 113, 182, 59, 234, 150, 221, 10, 148, 75, 28, 48, 206, 234, 88, 208, 224, 7, 92, 89, 148, 62, 24, 74, 16, 199, 45, 236, 246, 147, 115, 166, 234, 18, 64, 201, 221, 211, 245, 84, 217, 106, 172, 88, 55, 213, 249, 87, 25, 179, 20, 191, 202, 49, 27, 79, 232, 138, 208, 64, 69, 73, 9, 238, 52, 74, 136, 122, 238, 170, 234, 181, 147, 68, 24, 239, 109, 11, 196, 246, 10, 208, 230, 137, 62, 168, 251, 14, 13, 183, 58, 84, 145, 64, 74, 161, 166, 210, 138, 78, 166, 117, 41, 40, 188, 192, 38, 145, 185, 221, 158, 198, 118, 90, 107, 135, 1, 201, 9, 175, 85, 225, 181, 242, 116, 47, 47, 116, 212, 159, 60, 41, 49, 75, 106, 5, 168, 25, 169, 44, 239, 23, 67, 137, 16, 241, 102, 67, 223, 86, 32, 198, 162, 33, 47, 244, 56, 194, 238, 166, 116, 176, 206, 118, 69, 16, 42, 59, 67, 47, 101, 48, 47, 111, 108, 77, 6, 175, 97, 150, 28, 225, 173, 19, 70, 241, 182, 78, 79, 237, 87, 238, 95, 146, 193, 95, 146, 87, 2, 14, 198, 179, 76, 235, 177, 190], [2, 237, 125, 237, 220, 229, 240, 173, 210, 148, 233, 126, 111, 163, 241, 142, 102, 19, 234, 146, 147, 128, 177, 228, 203, 118, 49, 220, 170, 86, 88, 147, 151, 15, 177, 77, 127, 19, 22, 197, 36, 54, 6, 239, 67, 220, 26, 7, 104, 154, 66, 130, 55, 30, 214, 70, 13, 139, 136, 25, 121, 237, 142, 25, 171, 175, 66, 36, 121, 216, 13, 129, 199, 63, 89, 111, 134, 117, 43, 165, 2, 84, 6, 218, 129, 135, 233, 74, 191, 86, 122, 188, 38, 7, 87, 76, 22, 28, 125, 247, 43, 190, 55, 218, 217, 18, 179, 128, 206, 224, 145, 123, 230, 214, 85, 86, 111, 175, 31, 78, 244, 232, 220, 65, 55, 61, 99, 234, 231, 93, 220, 111, 92, 63, 8, 118, 111, 162, 33, 90, 140, 139, 208, 21, 83, 50, 216, 169, 152, 69, 3, 82, 33, 189, 142, 114, 162, 151, 19, 208, 85, 198, 61, 119, 85, 241, 249, 200, 3, 19, 18, 140, 61, 93, 208, 85, 86, 19, 194, 99, 8, 233, 134, 155, 197, 246, 51, 92, 34, 234, 123, 160, 22, 199, 33, 31, 160, 156, 212, 92, 58, 82, 183, 202, 121, 204, 204, 60, 171, 105, 20, 29, 7, 225, 142, 87, 249, 178, 93, 219, 90, 132, 183, 237, 113, 85, 25, 114, 96, 105, 126, 72, 91, 177, 154, 173, 91, 200, 125, 155, 80, 59, 21, 189, 132, 18, 117, 34, 241, 21, 19, 91, 180, 13, 221, 254, 210]]}}, 'requested_proof': {'revealed_attrs': {'0_skill_uuid': {'sub_proof_index': 0, 'raw': 'PyDentity SSI Ninja', 'encoded': '38813097173523343342121686954087857232940954656654688676222283577873518606251'}, '0_fullname_uuid': {'sub_proof_index': 0, 'raw': 'Adam Hall', 'encoded': '5584118292243570832229007151227486557830456183152330398099998379897660339546'}}, 'self_attested_attrs': {}, 'unrevealed_attrs': {}, 'predicates': {'0_age_GE_uuid': {'sub_proof_index': 0}}}, 'identifiers': [{'schema_id': 'EuEtnVakYFyBtGFT1nHYtH:2:SSI PyDentity Tutorial:0.0.1', 'cred_def_id': 'T4WGdVSJPFTjXR9HXk4F5A:3:CL:142409:default', 'rev_reg_id': None, 'timestamp': None}]}, 'presentation_request_dict': {'@type': 'did:sov:BzCbsNYhMrjHiqZDTUASHg;spec/present-proof/1.0/request-presentation', '@id': '0c60519d-7ae6-427b-94e2-fb5e49a5785e', 'request_presentations~attach': [{'@id': 'libindy-request-presentation-0', 'mime-type': 'application/json', 'data': {'base64': 'eyJuYW1lIjogIlByb29mIG9mIENvbXBsZXRpb24gb2YgUHlEZW50aXR5IFNTSSBUdXRvcmlhbCIsICJ2ZXJzaW9uIjogIjEuMCIsICJyZXF1ZXN0ZWRfYXR0cmlidXRlcyI6IHsiMF9mdWxsbmFtZV91dWlkIjogeyJuYW1lIjogImZ1bGxuYW1lIiwgInJlc3RyaWN0aW9ucyI6IFt7InNjaGVtYV9pZCI6ICJFdUV0blZha1lGeUJ0R0ZUMW5IWXRIOjI6U1NJIFB5RGVudGl0eSBUdXRvcmlhbDowLjAuMSJ9XX0sICIwX3NraWxsX3V1aWQiOiB7Im5hbWUiOiAic2tpbGwiLCAicmVzdHJpY3Rpb25zIjogW3sic2NoZW1hX2lkIjogIkV1RXRuVmFrWUZ5QnRHRlQxbkhZdEg6MjpTU0kgUHlEZW50aXR5IFR1dG9yaWFsOjAuMC4xIn1dfSwgIjBfY291bnRyeV91dWlkIjogeyJuYW1lIjogImNvdW50cnkifX0sICJyZXF1ZXN0ZWRfcHJlZGljYXRlcyI6IHsiMF9hZ2VfR0VfdXVpZCI6IHsibmFtZSI6ICJhZ2UiLCAicF90eXBlIjogIj49IiwgInBfdmFsdWUiOiAyMSwgInJlc3RyaWN0aW9ucyI6IFt7InNjaGVtYV9pZCI6ICJFdUV0blZha1lGeUJ0R0ZUMW5IWXRIOjI6U1NJIFB5RGVudGl0eSBUdXRvcmlhbDowLjAuMSJ9XX19LCAibm9uY2UiOiAiMjg1NDMxNjU3MzMwNDIwMzk2Mjc3ODk3In0='}}]}, 'initiator': 'self', 'created_at': '2020-09-17 12:30:33.027192Z'}\n"
     ]
    }
   ],
   "source": [
    "response = await agent_controller.proofs.send_request(proof_request_web_request)\n",
    "print(response)\n",
    "presentation_exchange_id = response['presentation_exchange_id']\n",
    "print(\"\\n\")\n",
    "print(presentation_exchange_id)\n"
   ]
  },
  {
   "cell_type": "markdown",
   "metadata": {},
   "source": [
    "## 6. Verify Proof Presentation\n",
    "\n",
    "This is checking the signatures on the credentials presented against the credential schema and definition id stored and resolvable on the ledger. It is a bit of a big complicated object, so we show the common pattern for breaking it down, checking it's verified and accessing the data that has been presented."
   ]
  },
  {
   "cell_type": "code",
   "execution_count": 9,
   "metadata": {
    "pycharm": {
     "name": "#%%\n"
    }
   },
   "outputs": [
    {
     "name": "stdout",
     "output_type": "stream",
     "text": [
      "Handle present proof\n",
      "{'updated_at': '2020-09-17 12:30:59.908743Z', 'thread_id': '0c60519d-7ae6-427b-94e2-fb5e49a5785e', 'role': 'verifier', 'trace': False, 'presentation_request': {'name': 'Proof of Completion of PyDentity SSI Tutorial', 'version': '1.0', 'requested_attributes': {'0_fullname_uuid': {'name': 'fullname', 'restrictions': [{'schema_id': 'EuEtnVakYFyBtGFT1nHYtH:2:SSI PyDentity Tutorial:0.0.1'}]}, '0_skill_uuid': {'name': 'skill', 'restrictions': [{'schema_id': 'EuEtnVakYFyBtGFT1nHYtH:2:SSI PyDentity Tutorial:0.0.1'}]}, '0_country_uuid': {'name': 'country'}}, 'requested_predicates': {'0_age_GE_uuid': {'name': 'age', 'p_type': '>=', 'p_value': 21, 'restrictions': [{'schema_id': 'EuEtnVakYFyBtGFT1nHYtH:2:SSI PyDentity Tutorial:0.0.1'}]}}, 'nonce': '285431657330420396277897'}, 'verified': 'false', 'connection_id': 'e3668df4-ae7c-4c47-a89e-70b64aa6fcef', 'presentation_exchange_id': 'e47c0245-ffab-4a33-983d-a8bb6e938560', 'auto_present': False, 'state': 'verified', 'presentation': {'proof': {'proofs': [{'primary_proof': {'eq_proof': {'revealed_attrs': {'fullname': '5584118292243570832229007151227486557830456183152330398099998379897660339546', 'skill': '38813097173523343342121686954087857232940954656654688676222283577873518606251'}, 'a_prime': '63110253238062897573016409045949601283402340221408016037538901955875273429544335658173250555734077516388103085123681161542976127912969620037215520878956734744396296200627370449871620440763282029213735004409557644642669065438604133646759564441371165634164392710549309382063282599943632914719039358244371358764848206104292398821224976178469112814759967397366686594674936091037324441383559275929990546934848707600140997543021250197577408000835648627869812858327841743838622406878026032273133345627968708729983889498652467450694688677342098573694040976646431367910809708097791894516625354263649368096773479797054668355711', 'e': '25261302608580896114954906299260120306483923619389366323540524674277341223951337187396098388761672704804657927329478602778480698235625808', 'v': '1131693029630966232414339105133650046866731782854444748774491498422753716357415720793172985337517368626362550113590289699453098916551761503526277520010397630844148269499458790816619307820795122582935201456285919869092874505802159191672434646898835177473955503178025254588585659522017961627862806774135980158059758505480380901591549156168841696762352727205464332708977671284738898874024278398219738089624210386089983839142663343141389987315315286121745006575684226949050217354914341990483030196182171851836408541655569598773554162959491912023479051982891449230671193766308554428671317221700807872300408748837668514862537378628119336321742496302810982219115330548802651342429701144802764804156276741615357351471452161550090542568964555076462581863774117230397587197381182484711046660821275032716236530174703688680041702907070317322765593600087992824296536289119052456960930795804020649745003943854255257708889374642652990495', 'm': {'master_secret': '4209425266987992938486905350999146087052332243070976881281474910936719125402444412307842371225340177246099300978377812867113017831035143093278503215320621474017191658211282876353', 'age': '7848936647891164311847524238846150709251176568464544195790043737830757057695320679918676816845535966327906170306609555380337996625074456490852918892951706374161962420493467046078'}, 'm2': '9872039417467794643559922166829994578102136906542445712366504428436290236799535785904882883805642838735756892677514033089266516081271030814717441827091025920954544413480550058336'}, 'ge_proofs': [{'u': {'0': '5654737445471938395399291017192221763462511193121193585529578311685869661435841021315332433124689078212052746952475871268548867179849476181832152390083504196823953456202813294652', '2': '7379131188861917179376049291119875594255042208113673626701721926823425332781041790204161671304573744544107938033065677573625891746327423030345445663693248724939481646653330541264', '1': '11665446093374962883020379912037091136347916846520418028847307845622002064006843492824420933491455562453277987355869643201323999196182902227379876942112497714568960143362696973145', '3': '5113588822178691156435456568695452180487699086005119919880145715491634342735168849188931844316036384731374621295421516154347683122179027664002359811261877646851671442392284344974'}, 'r': {'DELTA': '164803111151454611503409213717437720974894935147658882826928559266558778370120038530617069912555479325159326330747308763247283143927124630582402981805331141721206633212688112847077684576273776955549690752498111544895982497393537745984915104818281912849428671635627245218471522989612269887494095387989984944313314318658409790898833085367009761604691479417167550769152356779144984045640628116085581248539720053243905962987238333702725897826447826602892558158160005601356294678563859376628329401625695700386361170961844043249606192262431802726301019993746338798468503749444941439226351646200790362344770888083837099822025909635963236585042037746752052256195985423540108767550093459742237954506107725919994037018831938789', '0': '1666493658236244709039544427814024540983190504408275317269978644797898208738696504236749472418381498856320724647580580263251510638930914702053287605339905965096937285313168020925270695197243045302851590240650137356523588184039779925586176077943645998375989903602572546303280886959109215766955808874563106818747060000099579660958239995109330315602071281401465615577489762862342370081201803174515416875800132486699157668699945237924554442578609033867682648944021905553379156617347574630503295790579657345475479980688849245224236637317144563280768812347772708121230227293157042486890104112910129037630855633732979803480328250081529250825202274918099636172774001646882263327438532935647579979863101936161852314784747547672', '3': '559148845744967826381769800877457123612349180881256342132633991209351018942351655750897532025678399766582022316091423333683420488014494412370625302572876480805651934295415561352601498578103793298595035974930953338391628158714598003258458220829363137100902089521179125700260930642310950711075980997010215601793897181382251048996721309593780430237461346784108145207578806527612210731237733154161386750241291197518677104017354719396275098216061812743433688883138595902182686620722677636134638763954926593310139611796855934440486433992768240317023222237319886976039862217300566163390446899676288432614242972422342309368702590759497809553688898018595632167250215211132857628731627574848285273659272557055348221787445935089', '1': '492658586773239226903337551999277884897228513820055020156479869801037698967301312589123487844649057779215364787824878329927965358771439948774320063019734098043847432094173547736478283128580830314092910169436979280373751706938093259247439985178225146807729419760839453637012294349399242491487584322909633630480899389186166580090790924499028392676593809393105675217543423550978997543734074198189056349181888851607505501007808773052580834776678918292884583798794065670217465709790390600881106358179734899426475046064227210148519657493864909505452274718368925113761361328169512014399544408941648942513038622084562837969302733741405333491010397683955341964415358910782318553091964036042008322159895726920259781012961989757', '2': '1582979956009008321160869095454477115917124456616854922671687043500114518045732957984467351759480510681566869430866313124484315570949935302312972667563321001377904427507037687732874871572102803813685854607591011763525513330912652502974443394155679519432874310225246682436502741718331992000083782025313551929328063317634507219779985866249557183211451304384406827653838753240942382279656581599377516879153678015085700152535991985351642054042925381893072128804290576122923766293750220874040325654202143558115128842463901845405936656950692198235145919722762376196750874748852319597964498685143156748067466907902689887285376735490994984462261421169989147562329060357469017390525698409236476348947731161084642129318788684183'}, 'mj': '7848936647891164311847524238846150709251176568464544195790043737830757057695320679918676816845535966327906170306609555380337996625074456490852918892951706374161962420493467046078', 'alpha': '72776239163551599704530147992289721370925162286967576687405497431606047617133084013907408835168768712645213828618437272810002820520525964371858587113769791372971281913409451130574071180749817206604883859885561204884916006962903810276114409701471105554780325084547169553654375322337326837156041218531830981224213727243496533534300604496420242676862316747454495838898552218077507753901506679434233634035367626338150542784319829808291104383622126445943090932932337117819867553947146606259983833226105346632699111640260443280513485464165560144202248896191627452177952136064182455209981215307769765935883587200506285192470969637045083423777648468395860715864793548089868134584550675719987088172598398134195157236782554058544726569026329305004882934859541849585983064193549931235653934333356801188723896972541870680684405904590110589917086609992', 't': {'1': '78523144051148478302717252370575889834395008879948934840179365213459664520906447753924676431670607837271195583182103683139427341746171501187867778459353685178427845361895763897919074029773526321482409691273385470519350132290506890980622226299055620529896519170884589518193257515082494127911245923946187480451986944906901331418332642945960986013143551346354667838127502523887235698292734106131134920099156279589849386756489926847601170648456502593163610785768496066516284543356867172353982107978576848452954215519748915767539159084841970163611901507972933309311240172291374039337618996078721133742064475413055544776413', '0': '8070863257244998588326033855488958081728222017042138621585604489952688357333976156059906557233477510243088983660171612187783625206221241237934781888019425358209778163373535345929126457200070746484700550586559182099309895775746242782324641660883969514421641580694662855257464669877700072746765251985469215486897466908651406605041109119407460882560547276580173046852068460791879423980410964509400248166583320330254053900722774229428615299480937677101366084762616599405276013088968424768839319099073213750962278550455269506534536062992934677405822805054371291566864297813946843128382337199879795851936160946806791358684', '3': '657111669399308820330442923141120760319555180894319732447177483577136980328412920977998798642832278569173613337972032469879027423159363160013291393141086328057957175675370540554093974572379999801228452990446054077789534979210640256884213871989726712811751533906390081594034810444845741633025601835515517621392157555419812294953254006772734807944112222755445076297451398939192885956982432244195774136021647766356837300033951897668494317874388653063745344016266570431259743855306692997828723897677348476149443014293099415176604482313728275315983040461572884302672524682787154960199358753374326468774094358730720915902', 'DELTA': '94614588398797801332092211909472500606589804448520302480891999735005376203481365034126315487524967083377348987592306080266601514533910918760782305090348700075729744939461523386785944004883394046073401617649663824612536423956536093162088951160667488910738260208388759015674923388613487666514445635688556543327068814143658730484907371003589254975901882417523464840990720315586215380655113329340140570974355228308451120943388872047950475579886600504063434438484561030436001411298970479990455127533378886955925171862161050060580077480776344000034949307230579141484579833150826045395493100170446519190910444560690504924882', '2': '16201904101461184393181722208116870017582540450850686802916470430604107269527161790030701492674623259921280998778846624317177076536908068193380937879356711754650932691872010708982387825852892676791093492418730767231788145105894562076744143885028722727928817198353369316355035120230246548893253706355266171966956270334079192498753907374579417435580678544309393164480194300258261466295225239158267844630772092247646027233074382314432099368895034612996061656948137285859054791700226044611765737277350441276611117650135355913349484542611189843262051126288692223642618128500712841784016216680412048018450527695204848475594'}, 'predicate': {'attr_name': 'age', 'p_type': 'GE', 'value': 21}}]}, 'non_revoc_proof': None}], 'aggregated_proof': {'c_hash': '62075889640103621357300005874579100356881117948551028219740233234328221068453', 'c_list': [[1, 243, 237, 244, 0, 26, 98, 156, 8, 217, 0, 247, 230, 51, 32, 252, 202, 176, 57, 236, 4, 1, 152, 137, 130, 224, 57, 135, 177, 51, 91, 246, 253, 42, 216, 110, 36, 157, 43, 101, 202, 90, 211, 121, 227, 87, 154, 215, 56, 251, 236, 152, 181, 212, 25, 232, 97, 244, 146, 246, 225, 149, 145, 43, 126, 230, 63, 150, 77, 214, 234, 28, 239, 34, 131, 12, 93, 11, 10, 24, 94, 15, 217, 102, 160, 79, 154, 250, 103, 158, 166, 50, 143, 178, 126, 172, 97, 176, 227, 180, 18, 70, 83, 149, 103, 171, 54, 40, 85, 240, 224, 241, 182, 31, 63, 119, 160, 211, 78, 203, 250, 224, 222, 205, 142, 110, 208, 29, 96, 189, 167, 196, 10, 139, 158, 55, 196, 35, 169, 144, 55, 157, 54, 111, 102, 117, 128, 75, 198, 43, 120, 130, 113, 255, 55, 124, 142, 148, 77, 223, 42, 251, 208, 141, 127, 128, 209, 135, 98, 235, 23, 112, 86, 78, 42, 174, 230, 89, 10, 227, 2, 50, 93, 185, 8, 89, 41, 117, 18, 5, 187, 51, 194, 132, 207, 143, 88, 116, 38, 44, 251, 164, 31, 185, 2, 150, 137, 31, 122, 47, 9, 61, 148, 52, 248, 22, 111, 69, 3, 253, 82, 62, 171, 66, 98, 181, 206, 87, 249, 232, 28, 39, 138, 197, 90, 37, 198, 0, 11, 128, 14, 124, 52, 3, 212, 81, 148, 177, 93, 44, 118, 179, 24, 84, 189, 56, 127], [63, 238, 253, 70, 132, 3, 89, 16, 115, 136, 254, 240, 245, 191, 173, 177, 176, 43, 198, 175, 9, 135, 101, 104, 31, 174, 254, 185, 49, 157, 110, 241, 235, 63, 126, 30, 40, 146, 206, 23, 40, 91, 207, 63, 126, 211, 20, 45, 247, 158, 7, 142, 209, 41, 149, 180, 202, 214, 87, 100, 46, 23, 71, 233, 13, 132, 202, 3, 34, 250, 33, 81, 240, 27, 11, 201, 37, 235, 25, 230, 109, 162, 56, 237, 249, 223, 146, 81, 75, 62, 222, 117, 26, 73, 109, 36, 156, 18, 58, 204, 187, 27, 39, 18, 226, 110, 35, 192, 239, 136, 107, 214, 86, 137, 172, 146, 215, 20, 205, 38, 40, 28, 77, 162, 126, 134, 103, 208, 15, 237, 66, 208, 142, 26, 56, 148, 78, 106, 188, 69, 217, 183, 197, 47, 137, 246, 54, 167, 58, 199, 9, 170, 53, 236, 242, 121, 12, 91, 229, 42, 12, 201, 47, 124, 92, 220, 12, 60, 3, 168, 164, 254, 252, 94, 4, 18, 115, 217, 68, 182, 110, 131, 181, 119, 178, 138, 158, 178, 132, 132, 158, 83, 247, 136, 18, 16, 78, 94, 203, 29, 68, 6, 107, 31, 245, 58, 28, 2, 184, 26, 85, 77, 206, 163, 44, 48, 247, 198, 204, 129, 105, 203, 145, 84, 213, 19, 223, 141, 60, 102, 226, 40, 210, 188, 216, 106, 157, 52, 147, 235, 104, 195, 56, 235, 41, 176, 218, 164, 130, 93, 156, 25, 5, 8, 72, 220], [2, 110, 5, 235, 13, 179, 227, 143, 7, 8, 53, 250, 113, 87, 91, 143, 143, 21, 70, 37, 163, 93, 202, 130, 99, 6, 64, 129, 131, 211, 163, 39, 174, 86, 34, 238, 104, 169, 137, 214, 214, 127, 71, 135, 177, 99, 195, 141, 107, 106, 42, 143, 147, 3, 119, 62, 102, 122, 202, 129, 152, 81, 240, 250, 85, 200, 125, 174, 22, 201, 15, 93, 76, 2, 121, 85, 78, 146, 21, 117, 56, 13, 52, 37, 218, 137, 94, 25, 112, 28, 77, 31, 157, 21, 168, 24, 114, 53, 104, 45, 230, 183, 98, 34, 148, 50, 45, 80, 152, 162, 109, 59, 13, 147, 122, 186, 192, 240, 173, 6, 167, 125, 136, 98, 213, 194, 74, 230, 97, 183, 250, 66, 124, 204, 183, 74, 157, 173, 62, 138, 67, 86, 20, 207, 251, 45, 55, 113, 190, 187, 242, 200, 228, 161, 47, 173, 73, 208, 167, 40, 103, 147, 167, 255, 200, 77, 243, 217, 139, 249, 184, 225, 242, 5, 236, 188, 84, 237, 36, 151, 87, 234, 208, 228, 76, 10, 249, 61, 173, 107, 104, 205, 52, 181, 160, 10, 70, 45, 238, 152, 131, 109, 133, 184, 142, 145, 232, 130, 111, 253, 24, 102, 68, 82, 180, 213, 90, 197, 99, 207, 24, 26, 0, 29, 59, 198, 75, 108, 121, 195, 12, 237, 210, 249, 3, 158, 198, 111, 150, 152, 16, 106, 102, 18, 43, 232, 170, 57, 183, 14, 100, 4, 122, 99, 20, 86, 221], [128, 88, 3, 115, 150, 252, 155, 134, 70, 188, 67, 61, 176, 79, 26, 47, 185, 229, 98, 254, 139, 29, 48, 143, 71, 154, 248, 27, 187, 142, 44, 219, 6, 74, 92, 95, 211, 183, 46, 91, 187, 86, 211, 134, 47, 163, 60, 0, 150, 8, 203, 119, 214, 223, 55, 223, 40, 218, 116, 190, 188, 133, 89, 63, 219, 223, 163, 236, 110, 205, 78, 80, 224, 49, 131, 95, 2, 237, 219, 52, 155, 213, 85, 190, 164, 173, 125, 129, 63, 43, 44, 199, 147, 145, 103, 35, 35, 20, 84, 141, 37, 99, 60, 116, 207, 216, 249, 5, 141, 33, 46, 53, 148, 143, 112, 0, 115, 195, 224, 33, 84, 77, 6, 135, 36, 51, 65, 241, 89, 161, 112, 181, 133, 31, 18, 91, 25, 191, 42, 179, 118, 78, 103, 78, 221, 87, 58, 34, 151, 223, 148, 146, 130, 220, 6, 141, 33, 111, 218, 79, 228, 199, 106, 62, 123, 95, 99, 249, 206, 133, 57, 135, 233, 45, 222, 177, 227, 55, 190, 26, 32, 100, 33, 177, 40, 200, 206, 58, 133, 45, 49, 15, 211, 186, 251, 22, 195, 74, 82, 57, 131, 199, 236, 238, 24, 54, 2, 15, 181, 250, 98, 75, 0, 144, 133, 122, 118, 28, 225, 180, 190, 10, 181, 101, 22, 83, 88, 123, 129, 27, 116, 168, 83, 106, 57, 16, 57, 142, 42, 121, 211, 68, 209, 202, 92, 99, 38, 71, 84, 53, 145, 241, 167, 179, 157, 202], [5, 52, 144, 81, 10, 132, 251, 126, 132, 57, 228, 93, 78, 192, 182, 136, 244, 190, 16, 234, 107, 223, 234, 36, 53, 108, 219, 126, 40, 138, 127, 93, 177, 74, 122, 185, 1, 88, 122, 222, 81, 216, 112, 49, 53, 3, 47, 10, 212, 45, 179, 113, 182, 59, 234, 150, 221, 10, 148, 75, 28, 48, 206, 234, 88, 208, 224, 7, 92, 89, 148, 62, 24, 74, 16, 199, 45, 236, 246, 147, 115, 166, 234, 18, 64, 201, 221, 211, 245, 84, 217, 106, 172, 88, 55, 213, 249, 87, 25, 179, 20, 191, 202, 49, 27, 79, 232, 138, 208, 64, 69, 73, 9, 238, 52, 74, 136, 122, 238, 170, 234, 181, 147, 68, 24, 239, 109, 11, 196, 246, 10, 208, 230, 137, 62, 168, 251, 14, 13, 183, 58, 84, 145, 64, 74, 161, 166, 210, 138, 78, 166, 117, 41, 40, 188, 192, 38, 145, 185, 221, 158, 198, 118, 90, 107, 135, 1, 201, 9, 175, 85, 225, 181, 242, 116, 47, 47, 116, 212, 159, 60, 41, 49, 75, 106, 5, 168, 25, 169, 44, 239, 23, 67, 137, 16, 241, 102, 67, 223, 86, 32, 198, 162, 33, 47, 244, 56, 194, 238, 166, 116, 176, 206, 118, 69, 16, 42, 59, 67, 47, 101, 48, 47, 111, 108, 77, 6, 175, 97, 150, 28, 225, 173, 19, 70, 241, 182, 78, 79, 237, 87, 238, 95, 146, 193, 95, 146, 87, 2, 14, 198, 179, 76, 235, 177, 190], [2, 237, 125, 237, 220, 229, 240, 173, 210, 148, 233, 126, 111, 163, 241, 142, 102, 19, 234, 146, 147, 128, 177, 228, 203, 118, 49, 220, 170, 86, 88, 147, 151, 15, 177, 77, 127, 19, 22, 197, 36, 54, 6, 239, 67, 220, 26, 7, 104, 154, 66, 130, 55, 30, 214, 70, 13, 139, 136, 25, 121, 237, 142, 25, 171, 175, 66, 36, 121, 216, 13, 129, 199, 63, 89, 111, 134, 117, 43, 165, 2, 84, 6, 218, 129, 135, 233, 74, 191, 86, 122, 188, 38, 7, 87, 76, 22, 28, 125, 247, 43, 190, 55, 218, 217, 18, 179, 128, 206, 224, 145, 123, 230, 214, 85, 86, 111, 175, 31, 78, 244, 232, 220, 65, 55, 61, 99, 234, 231, 93, 220, 111, 92, 63, 8, 118, 111, 162, 33, 90, 140, 139, 208, 21, 83, 50, 216, 169, 152, 69, 3, 82, 33, 189, 142, 114, 162, 151, 19, 208, 85, 198, 61, 119, 85, 241, 249, 200, 3, 19, 18, 140, 61, 93, 208, 85, 86, 19, 194, 99, 8, 233, 134, 155, 197, 246, 51, 92, 34, 234, 123, 160, 22, 199, 33, 31, 160, 156, 212, 92, 58, 82, 183, 202, 121, 204, 204, 60, 171, 105, 20, 29, 7, 225, 142, 87, 249, 178, 93, 219, 90, 132, 183, 237, 113, 85, 25, 114, 96, 105, 126, 72, 91, 177, 154, 173, 91, 200, 125, 155, 80, 59, 21, 189, 132, 18, 117, 34, 241, 21, 19, 91, 180, 13, 221, 254, 210]]}}, 'requested_proof': {'revealed_attrs': {'0_skill_uuid': {'sub_proof_index': 0, 'raw': 'PyDentity SSI Ninja', 'encoded': '38813097173523343342121686954087857232940954656654688676222283577873518606251'}, '0_fullname_uuid': {'sub_proof_index': 0, 'raw': 'Adam Hall', 'encoded': '5584118292243570832229007151227486557830456183152330398099998379897660339546'}}, 'self_attested_attrs': {}, 'unrevealed_attrs': {}, 'predicates': {'0_age_GE_uuid': {'sub_proof_index': 0}}}, 'identifiers': [{'schema_id': 'EuEtnVakYFyBtGFT1nHYtH:2:SSI PyDentity Tutorial:0.0.1', 'cred_def_id': 'T4WGdVSJPFTjXR9HXk4F5A:3:CL:142409:default', 'rev_reg_id': None, 'timestamp': None}]}, 'presentation_request_dict': {'@type': 'did:sov:BzCbsNYhMrjHiqZDTUASHg;spec/present-proof/1.0/request-presentation', '@id': '0c60519d-7ae6-427b-94e2-fb5e49a5785e', 'request_presentations~attach': [{'@id': 'libindy-request-presentation-0', 'mime-type': 'application/json', 'data': {'base64': 'eyJuYW1lIjogIlByb29mIG9mIENvbXBsZXRpb24gb2YgUHlEZW50aXR5IFNTSSBUdXRvcmlhbCIsICJ2ZXJzaW9uIjogIjEuMCIsICJyZXF1ZXN0ZWRfYXR0cmlidXRlcyI6IHsiMF9mdWxsbmFtZV91dWlkIjogeyJuYW1lIjogImZ1bGxuYW1lIiwgInJlc3RyaWN0aW9ucyI6IFt7InNjaGVtYV9pZCI6ICJFdUV0blZha1lGeUJ0R0ZUMW5IWXRIOjI6U1NJIFB5RGVudGl0eSBUdXRvcmlhbDowLjAuMSJ9XX0sICIwX3NraWxsX3V1aWQiOiB7Im5hbWUiOiAic2tpbGwiLCAicmVzdHJpY3Rpb25zIjogW3sic2NoZW1hX2lkIjogIkV1RXRuVmFrWUZ5QnRHRlQxbkhZdEg6MjpTU0kgUHlEZW50aXR5IFR1dG9yaWFsOjAuMC4xIn1dfSwgIjBfY291bnRyeV91dWlkIjogeyJuYW1lIjogImNvdW50cnkifX0sICJyZXF1ZXN0ZWRfcHJlZGljYXRlcyI6IHsiMF9hZ2VfR0VfdXVpZCI6IHsibmFtZSI6ICJhZ2UiLCAicF90eXBlIjogIj49IiwgInBfdmFsdWUiOiAyMSwgInJlc3RyaWN0aW9ucyI6IFt7InNjaGVtYV9pZCI6ICJFdUV0blZha1lGeUJ0R0ZUMW5IWXRIOjI6U1NJIFB5RGVudGl0eSBUdXRvcmlhbDowLjAuMSJ9XX19LCAibm9uY2UiOiAiMjg1NDMxNjU3MzMwNDIwMzk2Mjc3ODk3In0='}}]}, 'initiator': 'self', 'created_at': '2020-09-17 12:30:33.027192Z'}\n",
      "{'updated_at': '2020-09-17 12:30:59.908743Z', 'thread_id': '0c60519d-7ae6-427b-94e2-fb5e49a5785e', 'role': 'verifier', 'trace': False, 'presentation_request': {'name': 'Proof of Completion of PyDentity SSI Tutorial', 'version': '1.0', 'requested_attributes': {'0_fullname_uuid': {'name': 'fullname', 'restrictions': [{'schema_id': 'EuEtnVakYFyBtGFT1nHYtH:2:SSI PyDentity Tutorial:0.0.1'}]}, '0_skill_uuid': {'name': 'skill', 'restrictions': [{'schema_id': 'EuEtnVakYFyBtGFT1nHYtH:2:SSI PyDentity Tutorial:0.0.1'}]}, '0_country_uuid': {'name': 'country'}}, 'requested_predicates': {'0_age_GE_uuid': {'name': 'age', 'p_type': '>=', 'p_value': 21, 'restrictions': [{'schema_id': 'EuEtnVakYFyBtGFT1nHYtH:2:SSI PyDentity Tutorial:0.0.1'}]}}, 'nonce': '285431657330420396277897'}, 'verified': 'false', 'connection_id': 'e3668df4-ae7c-4c47-a89e-70b64aa6fcef', 'presentation_exchange_id': 'e47c0245-ffab-4a33-983d-a8bb6e938560', 'auto_present': False, 'state': 'verified', 'presentation': {'proof': {'proofs': [{'primary_proof': {'eq_proof': {'revealed_attrs': {'fullname': '5584118292243570832229007151227486557830456183152330398099998379897660339546', 'skill': '38813097173523343342121686954087857232940954656654688676222283577873518606251'}, 'a_prime': '63110253238062897573016409045949601283402340221408016037538901955875273429544335658173250555734077516388103085123681161542976127912969620037215520878956734744396296200627370449871620440763282029213735004409557644642669065438604133646759564441371165634164392710549309382063282599943632914719039358244371358764848206104292398821224976178469112814759967397366686594674936091037324441383559275929990546934848707600140997543021250197577408000835648627869812858327841743838622406878026032273133345627968708729983889498652467450694688677342098573694040976646431367910809708097791894516625354263649368096773479797054668355711', 'e': '25261302608580896114954906299260120306483923619389366323540524674277341223951337187396098388761672704804657927329478602778480698235625808', 'v': '1131693029630966232414339105133650046866731782854444748774491498422753716357415720793172985337517368626362550113590289699453098916551761503526277520010397630844148269499458790816619307820795122582935201456285919869092874505802159191672434646898835177473955503178025254588585659522017961627862806774135980158059758505480380901591549156168841696762352727205464332708977671284738898874024278398219738089624210386089983839142663343141389987315315286121745006575684226949050217354914341990483030196182171851836408541655569598773554162959491912023479051982891449230671193766308554428671317221700807872300408748837668514862537378628119336321742496302810982219115330548802651342429701144802764804156276741615357351471452161550090542568964555076462581863774117230397587197381182484711046660821275032716236530174703688680041702907070317322765593600087992824296536289119052456960930795804020649745003943854255257708889374642652990495', 'm': {'master_secret': '4209425266987992938486905350999146087052332243070976881281474910936719125402444412307842371225340177246099300978377812867113017831035143093278503215320621474017191658211282876353', 'age': '7848936647891164311847524238846150709251176568464544195790043737830757057695320679918676816845535966327906170306609555380337996625074456490852918892951706374161962420493467046078'}, 'm2': '9872039417467794643559922166829994578102136906542445712366504428436290236799535785904882883805642838735756892677514033089266516081271030814717441827091025920954544413480550058336'}, 'ge_proofs': [{'u': {'0': '5654737445471938395399291017192221763462511193121193585529578311685869661435841021315332433124689078212052746952475871268548867179849476181832152390083504196823953456202813294652', '2': '7379131188861917179376049291119875594255042208113673626701721926823425332781041790204161671304573744544107938033065677573625891746327423030345445663693248724939481646653330541264', '1': '11665446093374962883020379912037091136347916846520418028847307845622002064006843492824420933491455562453277987355869643201323999196182902227379876942112497714568960143362696973145', '3': '5113588822178691156435456568695452180487699086005119919880145715491634342735168849188931844316036384731374621295421516154347683122179027664002359811261877646851671442392284344974'}, 'r': {'DELTA': '164803111151454611503409213717437720974894935147658882826928559266558778370120038530617069912555479325159326330747308763247283143927124630582402981805331141721206633212688112847077684576273776955549690752498111544895982497393537745984915104818281912849428671635627245218471522989612269887494095387989984944313314318658409790898833085367009761604691479417167550769152356779144984045640628116085581248539720053243905962987238333702725897826447826602892558158160005601356294678563859376628329401625695700386361170961844043249606192262431802726301019993746338798468503749444941439226351646200790362344770888083837099822025909635963236585042037746752052256195985423540108767550093459742237954506107725919994037018831938789', '0': '1666493658236244709039544427814024540983190504408275317269978644797898208738696504236749472418381498856320724647580580263251510638930914702053287605339905965096937285313168020925270695197243045302851590240650137356523588184039779925586176077943645998375989903602572546303280886959109215766955808874563106818747060000099579660958239995109330315602071281401465615577489762862342370081201803174515416875800132486699157668699945237924554442578609033867682648944021905553379156617347574630503295790579657345475479980688849245224236637317144563280768812347772708121230227293157042486890104112910129037630855633732979803480328250081529250825202274918099636172774001646882263327438532935647579979863101936161852314784747547672', '3': '559148845744967826381769800877457123612349180881256342132633991209351018942351655750897532025678399766582022316091423333683420488014494412370625302572876480805651934295415561352601498578103793298595035974930953338391628158714598003258458220829363137100902089521179125700260930642310950711075980997010215601793897181382251048996721309593780430237461346784108145207578806527612210731237733154161386750241291197518677104017354719396275098216061812743433688883138595902182686620722677636134638763954926593310139611796855934440486433992768240317023222237319886976039862217300566163390446899676288432614242972422342309368702590759497809553688898018595632167250215211132857628731627574848285273659272557055348221787445935089', '1': '492658586773239226903337551999277884897228513820055020156479869801037698967301312589123487844649057779215364787824878329927965358771439948774320063019734098043847432094173547736478283128580830314092910169436979280373751706938093259247439985178225146807729419760839453637012294349399242491487584322909633630480899389186166580090790924499028392676593809393105675217543423550978997543734074198189056349181888851607505501007808773052580834776678918292884583798794065670217465709790390600881106358179734899426475046064227210148519657493864909505452274718368925113761361328169512014399544408941648942513038622084562837969302733741405333491010397683955341964415358910782318553091964036042008322159895726920259781012961989757', '2': '1582979956009008321160869095454477115917124456616854922671687043500114518045732957984467351759480510681566869430866313124484315570949935302312972667563321001377904427507037687732874871572102803813685854607591011763525513330912652502974443394155679519432874310225246682436502741718331992000083782025313551929328063317634507219779985866249557183211451304384406827653838753240942382279656581599377516879153678015085700152535991985351642054042925381893072128804290576122923766293750220874040325654202143558115128842463901845405936656950692198235145919722762376196750874748852319597964498685143156748067466907902689887285376735490994984462261421169989147562329060357469017390525698409236476348947731161084642129318788684183'}, 'mj': '7848936647891164311847524238846150709251176568464544195790043737830757057695320679918676816845535966327906170306609555380337996625074456490852918892951706374161962420493467046078', 'alpha': '72776239163551599704530147992289721370925162286967576687405497431606047617133084013907408835168768712645213828618437272810002820520525964371858587113769791372971281913409451130574071180749817206604883859885561204884916006962903810276114409701471105554780325084547169553654375322337326837156041218531830981224213727243496533534300604496420242676862316747454495838898552218077507753901506679434233634035367626338150542784319829808291104383622126445943090932932337117819867553947146606259983833226105346632699111640260443280513485464165560144202248896191627452177952136064182455209981215307769765935883587200506285192470969637045083423777648468395860715864793548089868134584550675719987088172598398134195157236782554058544726569026329305004882934859541849585983064193549931235653934333356801188723896972541870680684405904590110589917086609992', 't': {'1': '78523144051148478302717252370575889834395008879948934840179365213459664520906447753924676431670607837271195583182103683139427341746171501187867778459353685178427845361895763897919074029773526321482409691273385470519350132290506890980622226299055620529896519170884589518193257515082494127911245923946187480451986944906901331418332642945960986013143551346354667838127502523887235698292734106131134920099156279589849386756489926847601170648456502593163610785768496066516284543356867172353982107978576848452954215519748915767539159084841970163611901507972933309311240172291374039337618996078721133742064475413055544776413', '0': '8070863257244998588326033855488958081728222017042138621585604489952688357333976156059906557233477510243088983660171612187783625206221241237934781888019425358209778163373535345929126457200070746484700550586559182099309895775746242782324641660883969514421641580694662855257464669877700072746765251985469215486897466908651406605041109119407460882560547276580173046852068460791879423980410964509400248166583320330254053900722774229428615299480937677101366084762616599405276013088968424768839319099073213750962278550455269506534536062992934677405822805054371291566864297813946843128382337199879795851936160946806791358684', '3': '657111669399308820330442923141120760319555180894319732447177483577136980328412920977998798642832278569173613337972032469879027423159363160013291393141086328057957175675370540554093974572379999801228452990446054077789534979210640256884213871989726712811751533906390081594034810444845741633025601835515517621392157555419812294953254006772734807944112222755445076297451398939192885956982432244195774136021647766356837300033951897668494317874388653063745344016266570431259743855306692997828723897677348476149443014293099415176604482313728275315983040461572884302672524682787154960199358753374326468774094358730720915902', 'DELTA': '94614588398797801332092211909472500606589804448520302480891999735005376203481365034126315487524967083377348987592306080266601514533910918760782305090348700075729744939461523386785944004883394046073401617649663824612536423956536093162088951160667488910738260208388759015674923388613487666514445635688556543327068814143658730484907371003589254975901882417523464840990720315586215380655113329340140570974355228308451120943388872047950475579886600504063434438484561030436001411298970479990455127533378886955925171862161050060580077480776344000034949307230579141484579833150826045395493100170446519190910444560690504924882', '2': '16201904101461184393181722208116870017582540450850686802916470430604107269527161790030701492674623259921280998778846624317177076536908068193380937879356711754650932691872010708982387825852892676791093492418730767231788145105894562076744143885028722727928817198353369316355035120230246548893253706355266171966956270334079192498753907374579417435580678544309393164480194300258261466295225239158267844630772092247646027233074382314432099368895034612996061656948137285859054791700226044611765737277350441276611117650135355913349484542611189843262051126288692223642618128500712841784016216680412048018450527695204848475594'}, 'predicate': {'attr_name': 'age', 'p_type': 'GE', 'value': 21}}]}, 'non_revoc_proof': None}], 'aggregated_proof': {'c_hash': '62075889640103621357300005874579100356881117948551028219740233234328221068453', 'c_list': [[1, 243, 237, 244, 0, 26, 98, 156, 8, 217, 0, 247, 230, 51, 32, 252, 202, 176, 57, 236, 4, 1, 152, 137, 130, 224, 57, 135, 177, 51, 91, 246, 253, 42, 216, 110, 36, 157, 43, 101, 202, 90, 211, 121, 227, 87, 154, 215, 56, 251, 236, 152, 181, 212, 25, 232, 97, 244, 146, 246, 225, 149, 145, 43, 126, 230, 63, 150, 77, 214, 234, 28, 239, 34, 131, 12, 93, 11, 10, 24, 94, 15, 217, 102, 160, 79, 154, 250, 103, 158, 166, 50, 143, 178, 126, 172, 97, 176, 227, 180, 18, 70, 83, 149, 103, 171, 54, 40, 85, 240, 224, 241, 182, 31, 63, 119, 160, 211, 78, 203, 250, 224, 222, 205, 142, 110, 208, 29, 96, 189, 167, 196, 10, 139, 158, 55, 196, 35, 169, 144, 55, 157, 54, 111, 102, 117, 128, 75, 198, 43, 120, 130, 113, 255, 55, 124, 142, 148, 77, 223, 42, 251, 208, 141, 127, 128, 209, 135, 98, 235, 23, 112, 86, 78, 42, 174, 230, 89, 10, 227, 2, 50, 93, 185, 8, 89, 41, 117, 18, 5, 187, 51, 194, 132, 207, 143, 88, 116, 38, 44, 251, 164, 31, 185, 2, 150, 137, 31, 122, 47, 9, 61, 148, 52, 248, 22, 111, 69, 3, 253, 82, 62, 171, 66, 98, 181, 206, 87, 249, 232, 28, 39, 138, 197, 90, 37, 198, 0, 11, 128, 14, 124, 52, 3, 212, 81, 148, 177, 93, 44, 118, 179, 24, 84, 189, 56, 127], [63, 238, 253, 70, 132, 3, 89, 16, 115, 136, 254, 240, 245, 191, 173, 177, 176, 43, 198, 175, 9, 135, 101, 104, 31, 174, 254, 185, 49, 157, 110, 241, 235, 63, 126, 30, 40, 146, 206, 23, 40, 91, 207, 63, 126, 211, 20, 45, 247, 158, 7, 142, 209, 41, 149, 180, 202, 214, 87, 100, 46, 23, 71, 233, 13, 132, 202, 3, 34, 250, 33, 81, 240, 27, 11, 201, 37, 235, 25, 230, 109, 162, 56, 237, 249, 223, 146, 81, 75, 62, 222, 117, 26, 73, 109, 36, 156, 18, 58, 204, 187, 27, 39, 18, 226, 110, 35, 192, 239, 136, 107, 214, 86, 137, 172, 146, 215, 20, 205, 38, 40, 28, 77, 162, 126, 134, 103, 208, 15, 237, 66, 208, 142, 26, 56, 148, 78, 106, 188, 69, 217, 183, 197, 47, 137, 246, 54, 167, 58, 199, 9, 170, 53, 236, 242, 121, 12, 91, 229, 42, 12, 201, 47, 124, 92, 220, 12, 60, 3, 168, 164, 254, 252, 94, 4, 18, 115, 217, 68, 182, 110, 131, 181, 119, 178, 138, 158, 178, 132, 132, 158, 83, 247, 136, 18, 16, 78, 94, 203, 29, 68, 6, 107, 31, 245, 58, 28, 2, 184, 26, 85, 77, 206, 163, 44, 48, 247, 198, 204, 129, 105, 203, 145, 84, 213, 19, 223, 141, 60, 102, 226, 40, 210, 188, 216, 106, 157, 52, 147, 235, 104, 195, 56, 235, 41, 176, 218, 164, 130, 93, 156, 25, 5, 8, 72, 220], [2, 110, 5, 235, 13, 179, 227, 143, 7, 8, 53, 250, 113, 87, 91, 143, 143, 21, 70, 37, 163, 93, 202, 130, 99, 6, 64, 129, 131, 211, 163, 39, 174, 86, 34, 238, 104, 169, 137, 214, 214, 127, 71, 135, 177, 99, 195, 141, 107, 106, 42, 143, 147, 3, 119, 62, 102, 122, 202, 129, 152, 81, 240, 250, 85, 200, 125, 174, 22, 201, 15, 93, 76, 2, 121, 85, 78, 146, 21, 117, 56, 13, 52, 37, 218, 137, 94, 25, 112, 28, 77, 31, 157, 21, 168, 24, 114, 53, 104, 45, 230, 183, 98, 34, 148, 50, 45, 80, 152, 162, 109, 59, 13, 147, 122, 186, 192, 240, 173, 6, 167, 125, 136, 98, 213, 194, 74, 230, 97, 183, 250, 66, 124, 204, 183, 74, 157, 173, 62, 138, 67, 86, 20, 207, 251, 45, 55, 113, 190, 187, 242, 200, 228, 161, 47, 173, 73, 208, 167, 40, 103, 147, 167, 255, 200, 77, 243, 217, 139, 249, 184, 225, 242, 5, 236, 188, 84, 237, 36, 151, 87, 234, 208, 228, 76, 10, 249, 61, 173, 107, 104, 205, 52, 181, 160, 10, 70, 45, 238, 152, 131, 109, 133, 184, 142, 145, 232, 130, 111, 253, 24, 102, 68, 82, 180, 213, 90, 197, 99, 207, 24, 26, 0, 29, 59, 198, 75, 108, 121, 195, 12, 237, 210, 249, 3, 158, 198, 111, 150, 152, 16, 106, 102, 18, 43, 232, 170, 57, 183, 14, 100, 4, 122, 99, 20, 86, 221], [128, 88, 3, 115, 150, 252, 155, 134, 70, 188, 67, 61, 176, 79, 26, 47, 185, 229, 98, 254, 139, 29, 48, 143, 71, 154, 248, 27, 187, 142, 44, 219, 6, 74, 92, 95, 211, 183, 46, 91, 187, 86, 211, 134, 47, 163, 60, 0, 150, 8, 203, 119, 214, 223, 55, 223, 40, 218, 116, 190, 188, 133, 89, 63, 219, 223, 163, 236, 110, 205, 78, 80, 224, 49, 131, 95, 2, 237, 219, 52, 155, 213, 85, 190, 164, 173, 125, 129, 63, 43, 44, 199, 147, 145, 103, 35, 35, 20, 84, 141, 37, 99, 60, 116, 207, 216, 249, 5, 141, 33, 46, 53, 148, 143, 112, 0, 115, 195, 224, 33, 84, 77, 6, 135, 36, 51, 65, 241, 89, 161, 112, 181, 133, 31, 18, 91, 25, 191, 42, 179, 118, 78, 103, 78, 221, 87, 58, 34, 151, 223, 148, 146, 130, 220, 6, 141, 33, 111, 218, 79, 228, 199, 106, 62, 123, 95, 99, 249, 206, 133, 57, 135, 233, 45, 222, 177, 227, 55, 190, 26, 32, 100, 33, 177, 40, 200, 206, 58, 133, 45, 49, 15, 211, 186, 251, 22, 195, 74, 82, 57, 131, 199, 236, 238, 24, 54, 2, 15, 181, 250, 98, 75, 0, 144, 133, 122, 118, 28, 225, 180, 190, 10, 181, 101, 22, 83, 88, 123, 129, 27, 116, 168, 83, 106, 57, 16, 57, 142, 42, 121, 211, 68, 209, 202, 92, 99, 38, 71, 84, 53, 145, 241, 167, 179, 157, 202], [5, 52, 144, 81, 10, 132, 251, 126, 132, 57, 228, 93, 78, 192, 182, 136, 244, 190, 16, 234, 107, 223, 234, 36, 53, 108, 219, 126, 40, 138, 127, 93, 177, 74, 122, 185, 1, 88, 122, 222, 81, 216, 112, 49, 53, 3, 47, 10, 212, 45, 179, 113, 182, 59, 234, 150, 221, 10, 148, 75, 28, 48, 206, 234, 88, 208, 224, 7, 92, 89, 148, 62, 24, 74, 16, 199, 45, 236, 246, 147, 115, 166, 234, 18, 64, 201, 221, 211, 245, 84, 217, 106, 172, 88, 55, 213, 249, 87, 25, 179, 20, 191, 202, 49, 27, 79, 232, 138, 208, 64, 69, 73, 9, 238, 52, 74, 136, 122, 238, 170, 234, 181, 147, 68, 24, 239, 109, 11, 196, 246, 10, 208, 230, 137, 62, 168, 251, 14, 13, 183, 58, 84, 145, 64, 74, 161, 166, 210, 138, 78, 166, 117, 41, 40, 188, 192, 38, 145, 185, 221, 158, 198, 118, 90, 107, 135, 1, 201, 9, 175, 85, 225, 181, 242, 116, 47, 47, 116, 212, 159, 60, 41, 49, 75, 106, 5, 168, 25, 169, 44, 239, 23, 67, 137, 16, 241, 102, 67, 223, 86, 32, 198, 162, 33, 47, 244, 56, 194, 238, 166, 116, 176, 206, 118, 69, 16, 42, 59, 67, 47, 101, 48, 47, 111, 108, 77, 6, 175, 97, 150, 28, 225, 173, 19, 70, 241, 182, 78, 79, 237, 87, 238, 95, 146, 193, 95, 146, 87, 2, 14, 198, 179, 76, 235, 177, 190], [2, 237, 125, 237, 220, 229, 240, 173, 210, 148, 233, 126, 111, 163, 241, 142, 102, 19, 234, 146, 147, 128, 177, 228, 203, 118, 49, 220, 170, 86, 88, 147, 151, 15, 177, 77, 127, 19, 22, 197, 36, 54, 6, 239, 67, 220, 26, 7, 104, 154, 66, 130, 55, 30, 214, 70, 13, 139, 136, 25, 121, 237, 142, 25, 171, 175, 66, 36, 121, 216, 13, 129, 199, 63, 89, 111, 134, 117, 43, 165, 2, 84, 6, 218, 129, 135, 233, 74, 191, 86, 122, 188, 38, 7, 87, 76, 22, 28, 125, 247, 43, 190, 55, 218, 217, 18, 179, 128, 206, 224, 145, 123, 230, 214, 85, 86, 111, 175, 31, 78, 244, 232, 220, 65, 55, 61, 99, 234, 231, 93, 220, 111, 92, 63, 8, 118, 111, 162, 33, 90, 140, 139, 208, 21, 83, 50, 216, 169, 152, 69, 3, 82, 33, 189, 142, 114, 162, 151, 19, 208, 85, 198, 61, 119, 85, 241, 249, 200, 3, 19, 18, 140, 61, 93, 208, 85, 86, 19, 194, 99, 8, 233, 134, 155, 197, 246, 51, 92, 34, 234, 123, 160, 22, 199, 33, 31, 160, 156, 212, 92, 58, 82, 183, 202, 121, 204, 204, 60, 171, 105, 20, 29, 7, 225, 142, 87, 249, 178, 93, 219, 90, 132, 183, 237, 113, 85, 25, 114, 96, 105, 126, 72, 91, 177, 154, 173, 91, 200, 125, 155, 80, 59, 21, 189, 132, 18, 117, 34, 241, 21, 19, 91, 180, 13, 221, 254, 210]]}}, 'requested_proof': {'revealed_attrs': {'0_skill_uuid': {'sub_proof_index': 0, 'raw': 'PyDentity SSI Ninja', 'encoded': '38813097173523343342121686954087857232940954656654688676222283577873518606251'}, '0_fullname_uuid': {'sub_proof_index': 0, 'raw': 'Adam Hall', 'encoded': '5584118292243570832229007151227486557830456183152330398099998379897660339546'}}, 'self_attested_attrs': {}, 'unrevealed_attrs': {}, 'predicates': {'0_age_GE_uuid': {'sub_proof_index': 0}}}, 'identifiers': [{'schema_id': 'EuEtnVakYFyBtGFT1nHYtH:2:SSI PyDentity Tutorial:0.0.1', 'cred_def_id': 'T4WGdVSJPFTjXR9HXk4F5A:3:CL:142409:default', 'rev_reg_id': None, 'timestamp': None}]}, 'presentation_request_dict': {'@type': 'did:sov:BzCbsNYhMrjHiqZDTUASHg;spec/present-proof/1.0/request-presentation', '@id': '0c60519d-7ae6-427b-94e2-fb5e49a5785e', 'request_presentations~attach': [{'@id': 'libindy-request-presentation-0', 'mime-type': 'application/json', 'data': {'base64': 'eyJuYW1lIjogIlByb29mIG9mIENvbXBsZXRpb24gb2YgUHlEZW50aXR5IFNTSSBUdXRvcmlhbCIsICJ2ZXJzaW9uIjogIjEuMCIsICJyZXF1ZXN0ZWRfYXR0cmlidXRlcyI6IHsiMF9mdWxsbmFtZV91dWlkIjogeyJuYW1lIjogImZ1bGxuYW1lIiwgInJlc3RyaWN0aW9ucyI6IFt7InNjaGVtYV9pZCI6ICJFdUV0blZha1lGeUJ0R0ZUMW5IWXRIOjI6U1NJIFB5RGVudGl0eSBUdXRvcmlhbDowLjAuMSJ9XX0sICIwX3NraWxsX3V1aWQiOiB7Im5hbWUiOiAic2tpbGwiLCAicmVzdHJpY3Rpb25zIjogW3sic2NoZW1hX2lkIjogIkV1RXRuVmFrWUZ5QnRHRlQxbkhZdEg6MjpTU0kgUHlEZW50aXR5IFR1dG9yaWFsOjAuMC4xIn1dfSwgIjBfY291bnRyeV91dWlkIjogeyJuYW1lIjogImNvdW50cnkifX0sICJyZXF1ZXN0ZWRfcHJlZGljYXRlcyI6IHsiMF9hZ2VfR0VfdXVpZCI6IHsibmFtZSI6ICJhZ2UiLCAicF90eXBlIjogIj49IiwgInBfdmFsdWUiOiAyMSwgInJlc3RyaWN0aW9ucyI6IFt7InNjaGVtYV9pZCI6ICJFdUV0blZha1lGeUJ0R0ZUMW5IWXRIOjI6U1NJIFB5RGVudGl0eSBUdXRvcmlhbDowLjAuMSJ9XX19LCAibm9uY2UiOiAiMjg1NDMxNjU3MzMwNDIwMzk2Mjc3ODk3In0='}}]}, 'initiator': 'self', 'created_at': '2020-09-17 12:30:33.027192Z'}\n"
     ]
    }
   ],
   "source": [
    "verify = await agent_controller.proofs.verify_presentation(presentation_exchange_id)\n",
    "print(verify)"
   ]
  },
  {
   "cell_type": "markdown",
   "metadata": {},
   "source": [
    "### Verifying the State\n",
    "\n",
    "Once verified through the agent framework api, the state should be 'verified', otherwise the presentation is invalid."
   ]
  },
  {
   "cell_type": "code",
   "execution_count": 10,
   "metadata": {},
   "outputs": [
    {
     "name": "stdout",
     "output_type": "stream",
     "text": [
      "verified\n",
      "True\n"
     ]
    }
   ],
   "source": [
    "print(verify['state'])\n",
    "print(verify['state'] == 'verified')"
   ]
  },
  {
   "cell_type": "markdown",
   "metadata": {},
   "source": [
    "### Accessing the Revealed Attributes"
   ]
  },
  {
   "cell_type": "code",
   "execution_count": 11,
   "metadata": {},
   "outputs": [
    {
     "name": "stdout",
     "output_type": "stream",
     "text": [
      "{'proof': {'proofs': [{'primary_proof': {'eq_proof': {'revealed_attrs': {'fullname': '5584118292243570832229007151227486557830456183152330398099998379897660339546', 'skill': '38813097173523343342121686954087857232940954656654688676222283577873518606251'}, 'a_prime': '63110253238062897573016409045949601283402340221408016037538901955875273429544335658173250555734077516388103085123681161542976127912969620037215520878956734744396296200627370449871620440763282029213735004409557644642669065438604133646759564441371165634164392710549309382063282599943632914719039358244371358764848206104292398821224976178469112814759967397366686594674936091037324441383559275929990546934848707600140997543021250197577408000835648627869812858327841743838622406878026032273133345627968708729983889498652467450694688677342098573694040976646431367910809708097791894516625354263649368096773479797054668355711', 'e': '25261302608580896114954906299260120306483923619389366323540524674277341223951337187396098388761672704804657927329478602778480698235625808', 'v': '1131693029630966232414339105133650046866731782854444748774491498422753716357415720793172985337517368626362550113590289699453098916551761503526277520010397630844148269499458790816619307820795122582935201456285919869092874505802159191672434646898835177473955503178025254588585659522017961627862806774135980158059758505480380901591549156168841696762352727205464332708977671284738898874024278398219738089624210386089983839142663343141389987315315286121745006575684226949050217354914341990483030196182171851836408541655569598773554162959491912023479051982891449230671193766308554428671317221700807872300408748837668514862537378628119336321742496302810982219115330548802651342429701144802764804156276741615357351471452161550090542568964555076462581863774117230397587197381182484711046660821275032716236530174703688680041702907070317322765593600087992824296536289119052456960930795804020649745003943854255257708889374642652990495', 'm': {'master_secret': '4209425266987992938486905350999146087052332243070976881281474910936719125402444412307842371225340177246099300978377812867113017831035143093278503215320621474017191658211282876353', 'age': '7848936647891164311847524238846150709251176568464544195790043737830757057695320679918676816845535966327906170306609555380337996625074456490852918892951706374161962420493467046078'}, 'm2': '9872039417467794643559922166829994578102136906542445712366504428436290236799535785904882883805642838735756892677514033089266516081271030814717441827091025920954544413480550058336'}, 'ge_proofs': [{'u': {'0': '5654737445471938395399291017192221763462511193121193585529578311685869661435841021315332433124689078212052746952475871268548867179849476181832152390083504196823953456202813294652', '2': '7379131188861917179376049291119875594255042208113673626701721926823425332781041790204161671304573744544107938033065677573625891746327423030345445663693248724939481646653330541264', '1': '11665446093374962883020379912037091136347916846520418028847307845622002064006843492824420933491455562453277987355869643201323999196182902227379876942112497714568960143362696973145', '3': '5113588822178691156435456568695452180487699086005119919880145715491634342735168849188931844316036384731374621295421516154347683122179027664002359811261877646851671442392284344974'}, 'r': {'DELTA': '164803111151454611503409213717437720974894935147658882826928559266558778370120038530617069912555479325159326330747308763247283143927124630582402981805331141721206633212688112847077684576273776955549690752498111544895982497393537745984915104818281912849428671635627245218471522989612269887494095387989984944313314318658409790898833085367009761604691479417167550769152356779144984045640628116085581248539720053243905962987238333702725897826447826602892558158160005601356294678563859376628329401625695700386361170961844043249606192262431802726301019993746338798468503749444941439226351646200790362344770888083837099822025909635963236585042037746752052256195985423540108767550093459742237954506107725919994037018831938789', '0': '1666493658236244709039544427814024540983190504408275317269978644797898208738696504236749472418381498856320724647580580263251510638930914702053287605339905965096937285313168020925270695197243045302851590240650137356523588184039779925586176077943645998375989903602572546303280886959109215766955808874563106818747060000099579660958239995109330315602071281401465615577489762862342370081201803174515416875800132486699157668699945237924554442578609033867682648944021905553379156617347574630503295790579657345475479980688849245224236637317144563280768812347772708121230227293157042486890104112910129037630855633732979803480328250081529250825202274918099636172774001646882263327438532935647579979863101936161852314784747547672', '3': '559148845744967826381769800877457123612349180881256342132633991209351018942351655750897532025678399766582022316091423333683420488014494412370625302572876480805651934295415561352601498578103793298595035974930953338391628158714598003258458220829363137100902089521179125700260930642310950711075980997010215601793897181382251048996721309593780430237461346784108145207578806527612210731237733154161386750241291197518677104017354719396275098216061812743433688883138595902182686620722677636134638763954926593310139611796855934440486433992768240317023222237319886976039862217300566163390446899676288432614242972422342309368702590759497809553688898018595632167250215211132857628731627574848285273659272557055348221787445935089', '1': '492658586773239226903337551999277884897228513820055020156479869801037698967301312589123487844649057779215364787824878329927965358771439948774320063019734098043847432094173547736478283128580830314092910169436979280373751706938093259247439985178225146807729419760839453637012294349399242491487584322909633630480899389186166580090790924499028392676593809393105675217543423550978997543734074198189056349181888851607505501007808773052580834776678918292884583798794065670217465709790390600881106358179734899426475046064227210148519657493864909505452274718368925113761361328169512014399544408941648942513038622084562837969302733741405333491010397683955341964415358910782318553091964036042008322159895726920259781012961989757', '2': '1582979956009008321160869095454477115917124456616854922671687043500114518045732957984467351759480510681566869430866313124484315570949935302312972667563321001377904427507037687732874871572102803813685854607591011763525513330912652502974443394155679519432874310225246682436502741718331992000083782025313551929328063317634507219779985866249557183211451304384406827653838753240942382279656581599377516879153678015085700152535991985351642054042925381893072128804290576122923766293750220874040325654202143558115128842463901845405936656950692198235145919722762376196750874748852319597964498685143156748067466907902689887285376735490994984462261421169989147562329060357469017390525698409236476348947731161084642129318788684183'}, 'mj': '7848936647891164311847524238846150709251176568464544195790043737830757057695320679918676816845535966327906170306609555380337996625074456490852918892951706374161962420493467046078', 'alpha': '72776239163551599704530147992289721370925162286967576687405497431606047617133084013907408835168768712645213828618437272810002820520525964371858587113769791372971281913409451130574071180749817206604883859885561204884916006962903810276114409701471105554780325084547169553654375322337326837156041218531830981224213727243496533534300604496420242676862316747454495838898552218077507753901506679434233634035367626338150542784319829808291104383622126445943090932932337117819867553947146606259983833226105346632699111640260443280513485464165560144202248896191627452177952136064182455209981215307769765935883587200506285192470969637045083423777648468395860715864793548089868134584550675719987088172598398134195157236782554058544726569026329305004882934859541849585983064193549931235653934333356801188723896972541870680684405904590110589917086609992', 't': {'1': '78523144051148478302717252370575889834395008879948934840179365213459664520906447753924676431670607837271195583182103683139427341746171501187867778459353685178427845361895763897919074029773526321482409691273385470519350132290506890980622226299055620529896519170884589518193257515082494127911245923946187480451986944906901331418332642945960986013143551346354667838127502523887235698292734106131134920099156279589849386756489926847601170648456502593163610785768496066516284543356867172353982107978576848452954215519748915767539159084841970163611901507972933309311240172291374039337618996078721133742064475413055544776413', '0': '8070863257244998588326033855488958081728222017042138621585604489952688357333976156059906557233477510243088983660171612187783625206221241237934781888019425358209778163373535345929126457200070746484700550586559182099309895775746242782324641660883969514421641580694662855257464669877700072746765251985469215486897466908651406605041109119407460882560547276580173046852068460791879423980410964509400248166583320330254053900722774229428615299480937677101366084762616599405276013088968424768839319099073213750962278550455269506534536062992934677405822805054371291566864297813946843128382337199879795851936160946806791358684', '3': '657111669399308820330442923141120760319555180894319732447177483577136980328412920977998798642832278569173613337972032469879027423159363160013291393141086328057957175675370540554093974572379999801228452990446054077789534979210640256884213871989726712811751533906390081594034810444845741633025601835515517621392157555419812294953254006772734807944112222755445076297451398939192885956982432244195774136021647766356837300033951897668494317874388653063745344016266570431259743855306692997828723897677348476149443014293099415176604482313728275315983040461572884302672524682787154960199358753374326468774094358730720915902', 'DELTA': '94614588398797801332092211909472500606589804448520302480891999735005376203481365034126315487524967083377348987592306080266601514533910918760782305090348700075729744939461523386785944004883394046073401617649663824612536423956536093162088951160667488910738260208388759015674923388613487666514445635688556543327068814143658730484907371003589254975901882417523464840990720315586215380655113329340140570974355228308451120943388872047950475579886600504063434438484561030436001411298970479990455127533378886955925171862161050060580077480776344000034949307230579141484579833150826045395493100170446519190910444560690504924882', '2': '16201904101461184393181722208116870017582540450850686802916470430604107269527161790030701492674623259921280998778846624317177076536908068193380937879356711754650932691872010708982387825852892676791093492418730767231788145105894562076744143885028722727928817198353369316355035120230246548893253706355266171966956270334079192498753907374579417435580678544309393164480194300258261466295225239158267844630772092247646027233074382314432099368895034612996061656948137285859054791700226044611765737277350441276611117650135355913349484542611189843262051126288692223642618128500712841784016216680412048018450527695204848475594'}, 'predicate': {'attr_name': 'age', 'p_type': 'GE', 'value': 21}}]}, 'non_revoc_proof': None}], 'aggregated_proof': {'c_hash': '62075889640103621357300005874579100356881117948551028219740233234328221068453', 'c_list': [[1, 243, 237, 244, 0, 26, 98, 156, 8, 217, 0, 247, 230, 51, 32, 252, 202, 176, 57, 236, 4, 1, 152, 137, 130, 224, 57, 135, 177, 51, 91, 246, 253, 42, 216, 110, 36, 157, 43, 101, 202, 90, 211, 121, 227, 87, 154, 215, 56, 251, 236, 152, 181, 212, 25, 232, 97, 244, 146, 246, 225, 149, 145, 43, 126, 230, 63, 150, 77, 214, 234, 28, 239, 34, 131, 12, 93, 11, 10, 24, 94, 15, 217, 102, 160, 79, 154, 250, 103, 158, 166, 50, 143, 178, 126, 172, 97, 176, 227, 180, 18, 70, 83, 149, 103, 171, 54, 40, 85, 240, 224, 241, 182, 31, 63, 119, 160, 211, 78, 203, 250, 224, 222, 205, 142, 110, 208, 29, 96, 189, 167, 196, 10, 139, 158, 55, 196, 35, 169, 144, 55, 157, 54, 111, 102, 117, 128, 75, 198, 43, 120, 130, 113, 255, 55, 124, 142, 148, 77, 223, 42, 251, 208, 141, 127, 128, 209, 135, 98, 235, 23, 112, 86, 78, 42, 174, 230, 89, 10, 227, 2, 50, 93, 185, 8, 89, 41, 117, 18, 5, 187, 51, 194, 132, 207, 143, 88, 116, 38, 44, 251, 164, 31, 185, 2, 150, 137, 31, 122, 47, 9, 61, 148, 52, 248, 22, 111, 69, 3, 253, 82, 62, 171, 66, 98, 181, 206, 87, 249, 232, 28, 39, 138, 197, 90, 37, 198, 0, 11, 128, 14, 124, 52, 3, 212, 81, 148, 177, 93, 44, 118, 179, 24, 84, 189, 56, 127], [63, 238, 253, 70, 132, 3, 89, 16, 115, 136, 254, 240, 245, 191, 173, 177, 176, 43, 198, 175, 9, 135, 101, 104, 31, 174, 254, 185, 49, 157, 110, 241, 235, 63, 126, 30, 40, 146, 206, 23, 40, 91, 207, 63, 126, 211, 20, 45, 247, 158, 7, 142, 209, 41, 149, 180, 202, 214, 87, 100, 46, 23, 71, 233, 13, 132, 202, 3, 34, 250, 33, 81, 240, 27, 11, 201, 37, 235, 25, 230, 109, 162, 56, 237, 249, 223, 146, 81, 75, 62, 222, 117, 26, 73, 109, 36, 156, 18, 58, 204, 187, 27, 39, 18, 226, 110, 35, 192, 239, 136, 107, 214, 86, 137, 172, 146, 215, 20, 205, 38, 40, 28, 77, 162, 126, 134, 103, 208, 15, 237, 66, 208, 142, 26, 56, 148, 78, 106, 188, 69, 217, 183, 197, 47, 137, 246, 54, 167, 58, 199, 9, 170, 53, 236, 242, 121, 12, 91, 229, 42, 12, 201, 47, 124, 92, 220, 12, 60, 3, 168, 164, 254, 252, 94, 4, 18, 115, 217, 68, 182, 110, 131, 181, 119, 178, 138, 158, 178, 132, 132, 158, 83, 247, 136, 18, 16, 78, 94, 203, 29, 68, 6, 107, 31, 245, 58, 28, 2, 184, 26, 85, 77, 206, 163, 44, 48, 247, 198, 204, 129, 105, 203, 145, 84, 213, 19, 223, 141, 60, 102, 226, 40, 210, 188, 216, 106, 157, 52, 147, 235, 104, 195, 56, 235, 41, 176, 218, 164, 130, 93, 156, 25, 5, 8, 72, 220], [2, 110, 5, 235, 13, 179, 227, 143, 7, 8, 53, 250, 113, 87, 91, 143, 143, 21, 70, 37, 163, 93, 202, 130, 99, 6, 64, 129, 131, 211, 163, 39, 174, 86, 34, 238, 104, 169, 137, 214, 214, 127, 71, 135, 177, 99, 195, 141, 107, 106, 42, 143, 147, 3, 119, 62, 102, 122, 202, 129, 152, 81, 240, 250, 85, 200, 125, 174, 22, 201, 15, 93, 76, 2, 121, 85, 78, 146, 21, 117, 56, 13, 52, 37, 218, 137, 94, 25, 112, 28, 77, 31, 157, 21, 168, 24, 114, 53, 104, 45, 230, 183, 98, 34, 148, 50, 45, 80, 152, 162, 109, 59, 13, 147, 122, 186, 192, 240, 173, 6, 167, 125, 136, 98, 213, 194, 74, 230, 97, 183, 250, 66, 124, 204, 183, 74, 157, 173, 62, 138, 67, 86, 20, 207, 251, 45, 55, 113, 190, 187, 242, 200, 228, 161, 47, 173, 73, 208, 167, 40, 103, 147, 167, 255, 200, 77, 243, 217, 139, 249, 184, 225, 242, 5, 236, 188, 84, 237, 36, 151, 87, 234, 208, 228, 76, 10, 249, 61, 173, 107, 104, 205, 52, 181, 160, 10, 70, 45, 238, 152, 131, 109, 133, 184, 142, 145, 232, 130, 111, 253, 24, 102, 68, 82, 180, 213, 90, 197, 99, 207, 24, 26, 0, 29, 59, 198, 75, 108, 121, 195, 12, 237, 210, 249, 3, 158, 198, 111, 150, 152, 16, 106, 102, 18, 43, 232, 170, 57, 183, 14, 100, 4, 122, 99, 20, 86, 221], [128, 88, 3, 115, 150, 252, 155, 134, 70, 188, 67, 61, 176, 79, 26, 47, 185, 229, 98, 254, 139, 29, 48, 143, 71, 154, 248, 27, 187, 142, 44, 219, 6, 74, 92, 95, 211, 183, 46, 91, 187, 86, 211, 134, 47, 163, 60, 0, 150, 8, 203, 119, 214, 223, 55, 223, 40, 218, 116, 190, 188, 133, 89, 63, 219, 223, 163, 236, 110, 205, 78, 80, 224, 49, 131, 95, 2, 237, 219, 52, 155, 213, 85, 190, 164, 173, 125, 129, 63, 43, 44, 199, 147, 145, 103, 35, 35, 20, 84, 141, 37, 99, 60, 116, 207, 216, 249, 5, 141, 33, 46, 53, 148, 143, 112, 0, 115, 195, 224, 33, 84, 77, 6, 135, 36, 51, 65, 241, 89, 161, 112, 181, 133, 31, 18, 91, 25, 191, 42, 179, 118, 78, 103, 78, 221, 87, 58, 34, 151, 223, 148, 146, 130, 220, 6, 141, 33, 111, 218, 79, 228, 199, 106, 62, 123, 95, 99, 249, 206, 133, 57, 135, 233, 45, 222, 177, 227, 55, 190, 26, 32, 100, 33, 177, 40, 200, 206, 58, 133, 45, 49, 15, 211, 186, 251, 22, 195, 74, 82, 57, 131, 199, 236, 238, 24, 54, 2, 15, 181, 250, 98, 75, 0, 144, 133, 122, 118, 28, 225, 180, 190, 10, 181, 101, 22, 83, 88, 123, 129, 27, 116, 168, 83, 106, 57, 16, 57, 142, 42, 121, 211, 68, 209, 202, 92, 99, 38, 71, 84, 53, 145, 241, 167, 179, 157, 202], [5, 52, 144, 81, 10, 132, 251, 126, 132, 57, 228, 93, 78, 192, 182, 136, 244, 190, 16, 234, 107, 223, 234, 36, 53, 108, 219, 126, 40, 138, 127, 93, 177, 74, 122, 185, 1, 88, 122, 222, 81, 216, 112, 49, 53, 3, 47, 10, 212, 45, 179, 113, 182, 59, 234, 150, 221, 10, 148, 75, 28, 48, 206, 234, 88, 208, 224, 7, 92, 89, 148, 62, 24, 74, 16, 199, 45, 236, 246, 147, 115, 166, 234, 18, 64, 201, 221, 211, 245, 84, 217, 106, 172, 88, 55, 213, 249, 87, 25, 179, 20, 191, 202, 49, 27, 79, 232, 138, 208, 64, 69, 73, 9, 238, 52, 74, 136, 122, 238, 170, 234, 181, 147, 68, 24, 239, 109, 11, 196, 246, 10, 208, 230, 137, 62, 168, 251, 14, 13, 183, 58, 84, 145, 64, 74, 161, 166, 210, 138, 78, 166, 117, 41, 40, 188, 192, 38, 145, 185, 221, 158, 198, 118, 90, 107, 135, 1, 201, 9, 175, 85, 225, 181, 242, 116, 47, 47, 116, 212, 159, 60, 41, 49, 75, 106, 5, 168, 25, 169, 44, 239, 23, 67, 137, 16, 241, 102, 67, 223, 86, 32, 198, 162, 33, 47, 244, 56, 194, 238, 166, 116, 176, 206, 118, 69, 16, 42, 59, 67, 47, 101, 48, 47, 111, 108, 77, 6, 175, 97, 150, 28, 225, 173, 19, 70, 241, 182, 78, 79, 237, 87, 238, 95, 146, 193, 95, 146, 87, 2, 14, 198, 179, 76, 235, 177, 190], [2, 237, 125, 237, 220, 229, 240, 173, 210, 148, 233, 126, 111, 163, 241, 142, 102, 19, 234, 146, 147, 128, 177, 228, 203, 118, 49, 220, 170, 86, 88, 147, 151, 15, 177, 77, 127, 19, 22, 197, 36, 54, 6, 239, 67, 220, 26, 7, 104, 154, 66, 130, 55, 30, 214, 70, 13, 139, 136, 25, 121, 237, 142, 25, 171, 175, 66, 36, 121, 216, 13, 129, 199, 63, 89, 111, 134, 117, 43, 165, 2, 84, 6, 218, 129, 135, 233, 74, 191, 86, 122, 188, 38, 7, 87, 76, 22, 28, 125, 247, 43, 190, 55, 218, 217, 18, 179, 128, 206, 224, 145, 123, 230, 214, 85, 86, 111, 175, 31, 78, 244, 232, 220, 65, 55, 61, 99, 234, 231, 93, 220, 111, 92, 63, 8, 118, 111, 162, 33, 90, 140, 139, 208, 21, 83, 50, 216, 169, 152, 69, 3, 82, 33, 189, 142, 114, 162, 151, 19, 208, 85, 198, 61, 119, 85, 241, 249, 200, 3, 19, 18, 140, 61, 93, 208, 85, 86, 19, 194, 99, 8, 233, 134, 155, 197, 246, 51, 92, 34, 234, 123, 160, 22, 199, 33, 31, 160, 156, 212, 92, 58, 82, 183, 202, 121, 204, 204, 60, 171, 105, 20, 29, 7, 225, 142, 87, 249, 178, 93, 219, 90, 132, 183, 237, 113, 85, 25, 114, 96, 105, 126, 72, 91, 177, 154, 173, 91, 200, 125, 155, 80, 59, 21, 189, 132, 18, 117, 34, 241, 21, 19, 91, 180, 13, 221, 254, 210]]}}, 'requested_proof': {'revealed_attrs': {'0_skill_uuid': {'sub_proof_index': 0, 'raw': 'PyDentity SSI Ninja', 'encoded': '38813097173523343342121686954087857232940954656654688676222283577873518606251'}, '0_fullname_uuid': {'sub_proof_index': 0, 'raw': 'Adam Hall', 'encoded': '5584118292243570832229007151227486557830456183152330398099998379897660339546'}}, 'self_attested_attrs': {}, 'unrevealed_attrs': {}, 'predicates': {'0_age_GE_uuid': {'sub_proof_index': 0}}}, 'identifiers': [{'schema_id': 'EuEtnVakYFyBtGFT1nHYtH:2:SSI PyDentity Tutorial:0.0.1', 'cred_def_id': 'T4WGdVSJPFTjXR9HXk4F5A:3:CL:142409:default', 'rev_reg_id': None, 'timestamp': None}]}\n",
      "{'revealed_attrs': {'0_skill_uuid': {'sub_proof_index': 0, 'raw': 'PyDentity SSI Ninja', 'encoded': '38813097173523343342121686954087857232940954656654688676222283577873518606251'}, '0_fullname_uuid': {'sub_proof_index': 0, 'raw': 'Adam Hall', 'encoded': '5584118292243570832229007151227486557830456183152330398099998379897660339546'}}, 'self_attested_attrs': {}, 'unrevealed_attrs': {}, 'predicates': {'0_age_GE_uuid': {'sub_proof_index': 0}}}\n",
      "0_skill_uuid\n",
      "{'sub_proof_index': 0, 'raw': 'PyDentity SSI Ninja', 'encoded': '38813097173523343342121686954087857232940954656654688676222283577873518606251'}\n",
      "PyDentity SSI Ninja\n",
      "0_fullname_uuid\n",
      "{'sub_proof_index': 0, 'raw': 'Adam Hall', 'encoded': '5584118292243570832229007151227486557830456183152330398099998379897660339546'}\n",
      "Adam Hall\n"
     ]
    }
   ],
   "source": [
    "print(verify['presentation'])\n",
    "print(verify['presentation']['requested_proof'])\n",
    "\n",
    "for (name, val) in verify['presentation']['requested_proof']['revealed_attrs'].items():\n",
    "    print(name)\n",
    "    print(val)\n",
    "    ## This is the actual data that you want. It's a little hidden\n",
    "    print(val['raw'])\n"
   ]
  },
  {
   "cell_type": "markdown",
   "metadata": {},
   "source": [
    "### Accessing self-attested attributes"
   ]
  },
  {
   "cell_type": "code",
   "execution_count": 13,
   "metadata": {},
   "outputs": [],
   "source": [
    "for (name, val) in verify['presentation']['requested_proof']['self_attested_attrs'].items():\n",
    "    print(name)\n",
    "    ## Slightly different for self attested attrs\n",
    "    print(val)"
   ]
  },
  {
   "cell_type": "markdown",
   "metadata": {},
   "source": [
    "## End of Tutorial\n",
    "\n",
    "Be sure to terminate the controller so you can run another tutorial."
   ]
  },
  {
   "cell_type": "code",
   "execution_count": 15,
   "metadata": {
    "pycharm": {
     "name": "#%%\n"
    }
   },
   "outputs": [
    {
     "name": "stdout",
     "output_type": "stream",
     "text": [
      "None\n"
     ]
    }
   ],
   "source": [
    "response = await agent_controller.terminate()\n",
    "print(response)"
   ]
  },
  {
   "cell_type": "markdown",
   "metadata": {},
   "source": [
    "## Well done on completing the PyDentity SSI training series!"
   ]
  },
  {
   "cell_type": "code",
   "execution_count": null,
   "metadata": {},
   "outputs": [],
   "source": []
  }
 ],
 "metadata": {
  "kernelspec": {
   "display_name": "Python 3",
   "language": "python",
   "name": "python3"
  },
  "language_info": {
   "codemirror_mode": {
    "name": "ipython",
    "version": 3
   },
   "file_extension": ".py",
   "mimetype": "text/x-python",
   "name": "python",
   "nbconvert_exporter": "python",
   "pygments_lexer": "ipython3",
   "version": "3.7.6"
  }
 },
 "nbformat": 4,
 "nbformat_minor": 1
}
