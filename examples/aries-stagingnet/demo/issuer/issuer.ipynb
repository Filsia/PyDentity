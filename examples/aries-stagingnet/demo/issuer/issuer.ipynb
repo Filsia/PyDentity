{
 "cells": [
  {
   "cell_type": "markdown",
   "metadata": {
    "collapsed": true
   },
   "source": [
    "# Aries Basic Controller - Issuer Alice\n",
    "\n",
    "### This notebook walks through how to issue a credential across a previously established connection. It should be run in parallel with the [Holder notebook](http://localhost:8889/notebooks/holder.ipynb) controlling the agent receiving the credential.\n",
    "\n",
    "If unfamiliar with the protocol it is worth reading through the [aries-rfs](https://github.com/hyperledger/aries-rfcs/tree/master/features/0036-issue-credential)\n"
   ]
  },
  {
   "cell_type": "markdown",
   "metadata": {},
   "source": [
    "## 1. Initialise a controller for Alice"
   ]
  },
  {
   "cell_type": "code",
   "execution_count": 1,
   "metadata": {},
   "outputs": [
    {
     "name": "stdout",
     "output_type": "stream",
     "text": [
      "IPython autoawait is `on`, and set to use `asyncio`\n"
     ]
    }
   ],
   "source": [
    "%autoawait\n",
    "import time\n",
    "import asyncio\n",
    "from aries_basic_controller.aries_controller import AriesAgentController\n",
    "    \n",
    "WEBHOOK_HOST = \"0.0.0.0\"\n",
    "WEBHOOK_PORT = 8022\n",
    "WEBHOOK_BASE = \"\"\n",
    "ADMIN_URL = \"http://alice-agent:8021\"\n",
    "\n",
    "# Based on the aca-py agent you wish to control\n",
    "agent_controller = AriesAgentController(webhook_host=WEBHOOK_HOST, webhook_port=WEBHOOK_PORT,\n",
    "                                       webhook_base=WEBHOOK_BASE, admin_url=ADMIN_URL)\n",
    "    "
   ]
  },
  {
   "cell_type": "markdown",
   "metadata": {},
   "source": [
    "## 2. Register Listeners\n",
    "\n",
    "The handler should get called every time the controller receives a webhook with the topic issue_credential, printing out the payload. The agent calls to this webhook every time it receives an issue-credential protocol message from a credential."
   ]
  },
  {
   "cell_type": "code",
   "execution_count": 2,
   "metadata": {},
   "outputs": [],
   "source": [
    "loop = asyncio.get_event_loop()\n",
    "loop.create_task(agent_controller.listen_webhooks())\n",
    "\n",
    "def cred_handler(payload):\n",
    "    print(\"Handle Credentials\")\n",
    "    exchange_id = payload['credential_exchange_id']\n",
    "    state = payload['state']\n",
    "    role = payload['role']\n",
    "    attributes = payload['credential_proposal_dict']['credential_proposal']['attributes']\n",
    "    print(f\"Credential exchange {exchange_id}, role: {role}, state: {state}\")\n",
    "    print(f\"Offering: {attributes}\")\n",
    "    \n",
    "cred_listener = {\n",
    "    \"topic\": \"issue_credential\",\n",
    "    \"handler\": cred_handler\n",
    "}\n",
    "agent_controller.register_listeners([cred_listener], defaults=True)\n"
   ]
  },
  {
   "cell_type": "markdown",
   "metadata": {},
   "source": [
    "## 3. Check the agent has an active connection\n",
    "\n",
    "**Note: An active connection is required, this should have been established on start up through the python script create_connection.py in the setup folder. If not it is possible to run through the did-exchange tutorial to create one between Alice and Bob**\n",
    "\n",
    "* [Alice](http://localhost:8888/notebooks/did-exchange-inviter.ipynb)\n",
    "* [Bob](http://localhost:8889/notebooks/did-exchange-invitee.ipynb)"
   ]
  },
  {
   "cell_type": "code",
   "execution_count": 3,
   "metadata": {},
   "outputs": [
    {
     "name": "stdout",
     "output_type": "stream",
     "text": [
      "Results :  [{'their_role': 'admin', 'routing_state': 'none', 'connection_id': '040c673c-32e2-4f28-98af-f59e4e8d44be', 'invitation_key': 'YbmDUhxN4euv5q8q551wLrgiqQ7n5W8bx8xQebfBrAM', 'initiator': 'self', 'updated_at': '2020-09-10 14:21:37.366052Z', 'state': 'invitation', 'created_at': '2020-09-10 14:21:37.366052Z', 'invitation_mode': 'once', 'accept': 'auto'}]\n",
      "Connection : {'their_role': 'admin', 'routing_state': 'none', 'connection_id': '040c673c-32e2-4f28-98af-f59e4e8d44be', 'invitation_key': 'YbmDUhxN4euv5q8q551wLrgiqQ7n5W8bx8xQebfBrAM', 'initiator': 'self', 'updated_at': '2020-09-10 14:21:37.366052Z', 'state': 'invitation', 'created_at': '2020-09-10 14:21:37.366052Z', 'invitation_mode': 'once', 'accept': 'auto'}\n"
     ]
    }
   ],
   "source": [
    "response = await agent_controller.connections.get_connections()\n",
    "results = response['results']\n",
    "print(\"Results : \", results)\n",
    "if len(results) > 0:\n",
    "    connection = response['results'][0]\n",
    "    print(\"Connection :\", connection)\n",
    "    if connection['state'] == 'active':       \n",
    "        connection_id = connection[\"connection_id\"]\n",
    "        print(\"Active Connection ID : \", connection_id)\n",
    "else:\n",
    "    print(\"You must create a connection\")\n",
    "    \n"
   ]
  },
  {
   "cell_type": "markdown",
   "metadata": {},
   "source": [
    "## 4. Write a Schema to the Ledger\n",
    "\n",
    "For more details see the [schema-api notebook](http://localhost:8888/notebooks/schema_api.ipynb)\n",
    "\n",
    "**Note: You will only be able to do this once unless you change the schema_name or version. Or tear down the current ledger using ./manage down**"
   ]
  },
  {
   "cell_type": "code",
   "execution_count": 4,
   "metadata": {},
   "outputs": [
    {
     "name": "stdout",
     "output_type": "stream",
     "text": [
      "PQRXDxdGqQGSZ8z69p4xZP:2:testabc:0.0.1\n"
     ]
    }
   ],
   "source": [
    "# Define you schema name - must be unique on the ledger\n",
    "schema_name = \"testabc\"\n",
    "# Can version the schema if you wish to update it\n",
    "schema_version = \"0.0.1\"\n",
    "# Define any list of attributes you wish to include in your schema\n",
    "attributes = [\"name\", \"skill\", \"age\"]\n",
    "\n",
    "response = await agent_controller.schema.write_schema(schema_name, attributes, schema_version)\n",
    "schema_id = response[\"schema_id\"]\n",
    "print(schema_id)\n"
   ]
  },
  {
   "cell_type": "markdown",
   "metadata": {},
   "source": [
    "## 5. Write a Credential Definition to the Ledger\n",
    "\n",
    "More details in the [definitions notebook](http://localhost:8888/notebooks/definitions_api.ipynb)\n",
    "\n",
    "**Note: Again this can only be done once per issuer, per schema_id.**"
   ]
  },
  {
   "cell_type": "code",
   "execution_count": 5,
   "metadata": {},
   "outputs": [
    {
     "name": "stdout",
     "output_type": "stream",
     "text": [
      "PQRXDxdGqQGSZ8z69p4xZP:3:CL:10:default\n"
     ]
    }
   ],
   "source": [
    "response = await agent_controller.definitions.write_cred_def(schema_id)\n",
    "\n",
    "cred_def_id = response[\"credential_definition_id\"]\n",
    "print(cred_def_id)"
   ]
  },
  {
   "cell_type": "markdown",
   "metadata": {},
   "source": [
    "**Note: You should be able to see both schema and definition transactions on the local network [here](http://localhost:9000)**"
   ]
  },
  {
   "cell_type": "markdown",
   "metadata": {},
   "source": [
    "## 6. Populate the Attribues to Issue to Bob\n",
    "\n",
    "The schema defines two attributes: name and skill. Both must be populated with attribute values that Alice wishes to issue in a credential to Bob. To do this a list of objects must be created, each object containing the name of the attribute and it's value at a minimum. You can set the values to anything you wish.\n",
    "\n",
    "TODO: Some additional fields such as mime-type can be defined."
   ]
  },
  {
   "cell_type": "code",
   "execution_count": 6,
   "metadata": {},
   "outputs": [
    {
     "name": "stdout",
     "output_type": "stream",
     "text": [
      "[{'name': 'name', 'value': 'Bob'}, {'name': 'skill', 'value': 'researcher'}, {'name': 'age', 'value': '21'}]\n"
     ]
    }
   ],
   "source": [
    "credential_attributes = [\n",
    "    {\"name\": \"name\", \"value\": \"Bob\"},\n",
    "    {\"name\": \"skill\", \"value\": \"researcher\"},\n",
    "    {\"name\": \"age\", \"value\": \"21\"}\n",
    "]\n",
    "print(credential_attributes)"
   ]
  },
  {
   "cell_type": "markdown",
   "metadata": {},
   "source": [
    "## 7. Continue to the [Holder Notebook](http://localhost:8889/notebooks/holder.ipynb)\n",
    "\n",
    "It works best if this notebook is already initialised and has listeners registered.\n"
   ]
  },
  {
   "cell_type": "markdown",
   "metadata": {},
   "source": [
    "## 9. Send Credential\n",
    "\n",
    "This sends a credential to a holder (Bob), and automates the rest of the protocol.\n",
    "\n",
    "There are other ways to issue a credential that require multiple api calls.\n",
    "\n",
    "**Arguments**\n",
    "* connection_id: The connection_id of the holder you wish to issue to (MUST be in active state)\n",
    "* schema_id: The id of the schema you wish to issue\n",
    "* cred_def_id: The definition (public key) to sign the credential object. This must refer to the schema_id and be written to the ledger by the same public did that is currently being used by the agent.\n",
    "* attributes: A list of attribute objects as defined above. Must match the schema attributes.\n",
    "* comment (optional): Any string, defaults to \"\"\n",
    "* auto_remove (optional): Boolean, defaults to True. I believe this removes the record of this credential once it has been issued. (TODO: double check)\n",
    "* trace (optional): Boolean, defaults to False. **Not entirely sure about this one, believe its for logging. Also when set to True it throws an error**"
   ]
  },
  {
   "cell_type": "code",
   "execution_count": 7,
   "metadata": {},
   "outputs": [
    {
     "name": "stdout",
     "output_type": "stream",
     "text": [
      "{'issuer_did': 'PQRXDxdGqQGSZ8z69p4xZP', 'auto_remove': True, 'credential_proposal': {'@type': 'did:sov:BzCbsNYhMrjHiqZDTUASHg;spec/issue-credential/1.0/credential-preview', 'attributes': [{'name': 'name', 'value': 'Bob'}, {'name': 'skill', 'value': 'researcher'}, {'name': 'age', 'value': '21'}]}, 'connection_id': '4a3bfb5d-483c-4ba3-b7f8-3755d09a3fb9', 'trace': False, 'comment': '', 'cred_def_id': 'PQRXDxdGqQGSZ8z69p4xZP:3:CL:10:default', 'schema_id': 'PQRXDxdGqQGSZ8z69p4xZP:2:open_mined_contributor:0.0.1', 'schema_name': 'open_mined_contributor', 'schema_version': '0.0.1', 'schema_issuer_did': 'PQRXDxdGqQGSZ8z69p4xZP'}\n",
      "Credential exchange 1a7aca80-0d1b-4232-9888-1f270a9f3886, role: issuer, state: offer_sent\n",
      "Handle Credentials\n",
      "Credential exchange 1a7aca80-0d1b-4232-9888-1f270a9f3886, role: issuer, state: offer_sent\n",
      "Being offered: [{'name': 'name', 'value': 'Bob'}, {'name': 'skill', 'value': 'researcher'}, {'name': 'age', 'value': '21'}]\n",
      "Handle Credentials\n",
      "Credential exchange 1a7aca80-0d1b-4232-9888-1f270a9f3886, role: issuer, state: request_received\n",
      "Being offered: [{'name': 'name', 'value': 'Bob'}, {'name': 'skill', 'value': 'researcher'}, {'name': 'age', 'value': '21'}]\n",
      "Handle Credentials\n",
      "Credential exchange 1a7aca80-0d1b-4232-9888-1f270a9f3886, role: issuer, state: credential_issued\n",
      "Being offered: [{'name': 'name', 'value': 'Bob'}, {'name': 'skill', 'value': 'researcher'}, {'name': 'age', 'value': '21'}]\n",
      "Handle Credentials\n",
      "Credential exchange 1a7aca80-0d1b-4232-9888-1f270a9f3886, role: issuer, state: credential_acked\n",
      "Being offered: [{'name': 'name', 'value': 'Bob'}, {'name': 'skill', 'value': 'researcher'}, {'name': 'age', 'value': '21'}]\n"
     ]
    }
   ],
   "source": [
    "record = await agent_controller.issuer.send_credential(connection_id, schema_id, cred_def_id, credential_attributes, trace=False)\n",
    "record_id = record['credential_exchange_id']\n",
    "state = record['state']\n",
    "role = record['role']\n",
    "print(f\"Credential exchange {record_id}, role: {role}, state: {state}\")\n"
   ]
  },
  {
   "cell_type": "markdown",
   "metadata": {},
   "source": [
    "## 10. Continue on Holder Notebook\n",
    "\n"
   ]
  },
  {
   "cell_type": "markdown",
   "metadata": {},
   "source": [
    "## Misc Api Calls (Optional)"
   ]
  },
  {
   "cell_type": "markdown",
   "metadata": {},
   "source": [
    "## Get Credential Exchange Records\n",
    "\n",
    "The state of the protocol is stored in an object called a Credential Exchange. These can be retrieved from the agent either individually by ID or the full list.\n",
    "\n",
    "Each record has a state, representing the stage of the protocol the record is at and a role. Either issuer or holder."
   ]
  },
  {
   "cell_type": "code",
   "execution_count": 10,
   "metadata": {},
   "outputs": [
    {
     "name": "stdout",
     "output_type": "stream",
     "text": [
      "[{'auto_offer': False, 'schema_id': 'PQRXDxdGqQGSZ8z69p4xZP:2:open_mined_contributor:0.0.1', 'credential_definition_id': 'PQRXDxdGqQGSZ8z69p4xZP:3:CL:11:default', 'credential_offer_dict': {'@type': 'did:sov:BzCbsNYhMrjHiqZDTUASHg;spec/issue-credential/1.0/offer-credential', '@id': '70f3281b-cfec-4a14-9bea-303f0cf4c73a', '~thread': {}, 'credential_preview': {'@type': 'did:sov:BzCbsNYhMrjHiqZDTUASHg;spec/issue-credential/1.0/credential-preview', 'attributes': [{'name': 'name', 'value': 'Bob'}, {'name': 'skill', 'value': 'researcher'}]}, 'comment': 'create automated credential exchange', 'offers~attach': [{'@id': 'libindy-cred-offer-0', 'mime-type': 'application/json', 'data': {'base64': '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'}}]}, 'state': 'offer_sent', 'credential_proposal_dict': {'@type': 'did:sov:BzCbsNYhMrjHiqZDTUASHg;spec/issue-credential/1.0/propose-credential', '@id': '534685ac-a0e0-4629-85ea-17ae6670363d', 'cred_def_id': 'PQRXDxdGqQGSZ8z69p4xZP:3:CL:11:default', 'schema_name': 'open_mined_contributor', 'credential_proposal': {'@type': 'did:sov:BzCbsNYhMrjHiqZDTUASHg;spec/issue-credential/1.0/credential-preview', 'attributes': [{'name': 'name', 'value': 'Bob'}, {'name': 'skill', 'value': 'researcher'}]}, 'schema_version': '0.0.1', 'comment': '', 'schema_issuer_did': 'PQRXDxdGqQGSZ8z69p4xZP', 'issuer_did': 'PQRXDxdGqQGSZ8z69p4xZP', 'schema_id': 'PQRXDxdGqQGSZ8z69p4xZP:2:open_mined_contributor:0.0.1'}, 'initiator': 'self', 'updated_at': '2020-09-01 15:12:51.182275Z', 'role': 'issuer', 'credential_exchange_id': '238edf23-b161-4611-b6fc-b155962691ff', 'thread_id': '70f3281b-cfec-4a14-9bea-303f0cf4c73a', 'credential_offer': {'schema_id': 'PQRXDxdGqQGSZ8z69p4xZP:2:open_mined_contributor:0.0.1', 'cred_def_id': 'PQRXDxdGqQGSZ8z69p4xZP:3:CL:11:default', 'key_correctness_proof': {'c': '104752473162756355697423171030889100584316623305971356157774410299560039898806', 'xz_cap': '1049355673858020091716108516031193243508820570987548432236602346647360985441053534255886057988850688274980376566513557434805647669660298029712258991399970682586317572880580170227100804420768622899173483225439732862654710321790868462599003005232828458091336753787594324874822800401813780671297463667796670877971365043188420254374809794319785670572288255107763734634907652286566780591754388895616130329599432424106876809627791314825548731157126162799922652002764173634766616634224457104362688155273269815724340409880871211143350547805601845820975409914248160437220740978216547117009309262341521957580100532096529028641854909275546464166668639754576908255271695578997632437245520471645425933241392', 'xr_cap': [['skill', '1003195942527308627005586973212569971778405856480174333643923318763711059664424963066383567893630402398927247624905804655315922724122061012488221581945464552728258015508516792280904145032540468634821347664449466243448993968120804691322677330665380110642676075102392089721935887453660114513051711659475057352976333308711280426741757236704287588849952586086353065780269067143302792435271352114057255835885572465361370777589239445780829979613513445275892627672590324710750966586216393844056357703379018801445288421237848810526271541236363995296328932842739841951910048245504616225598263432912400755571287080873147890856823350674113223337088326798034161895979623187257349505046327500346121622329605'], ['name', '35857216537251491546690478915438574115715888048833722719349878528647069878589720420612856138028509548124664043829857342231760491210486857836320230179290395744057112032401895027383024287509983245856899704952234573216282328317545381977641800212359273396609086677467056516104874798302114424885386850122432133346412032958163710543857322351147769631752968296675719555154853784027324303010277620855686537498484264035214527094117278291468750254625156856257132889604489795935889491977106624653329294068394728458772546810387678186588519740699460622904854624698431946177438797432209200457274686277833051933111379571965989547670697139573528179673065388190300576421771769368400979661786067121953460662868'], ['master_secret', '458155145080161387252071458978486965907139088050805908376693526447258807918001239206910277551630474790819556232008469700478789738629821573007189361377707701417200317556850261467161668975092780319512215764342185597159097662366331604730072165570179575461684737160591021371300040485059050151818204176693200047062513590722312467037032426009232503315962090711185758130106050158977581498781525753958057545856213558656632157159395139361302574586430674173361755240359840267994219188693177075170498906113602285360561681139059633857633370245840856820511649350516851936855823925418764070084304301560102209719770935235237226966319807497236241761712226803797199236692572326760340951765323650719871706711709']]}, 'nonce': '838537773577898207048058'}, 'trace': False, 'connection_id': 'be2189a5-4e7d-471a-9c54-9b251a9abf39', 'auto_issue': True, 'auto_remove': True, 'created_at': '2020-09-01 15:12:51.182275Z'}]\n"
     ]
    }
   ],
   "source": [
    "response = await agent_controller.issuer.get_records()\n",
    "print(response['results'])"
   ]
  },
  {
   "cell_type": "code",
   "execution_count": 11,
   "metadata": {},
   "outputs": [
    {
     "name": "stdout",
     "output_type": "stream",
     "text": [
      "Credential exchange 238edf23-b161-4611-b6fc-b155962691ff, role: issuer, state: offer_sent\n",
      "Handle Credentials\n",
      "Credential exchange 238edf23-b161-4611-b6fc-b155962691ff, role: issuer, state: request_received\n",
      "Being offered: [{'name': 'name', 'value': 'Bob'}, {'name': 'skill', 'value': 'researcher'}]\n",
      "Handle Credentials\n",
      "Credential exchange 238edf23-b161-4611-b6fc-b155962691ff, role: issuer, state: credential_issued\n",
      "Being offered: [{'name': 'name', 'value': 'Bob'}, {'name': 'skill', 'value': 'researcher'}]\n",
      "Handle Credentials\n",
      "Credential exchange 238edf23-b161-4611-b6fc-b155962691ff, role: issuer, state: credential_acked\n",
      "Being offered: [{'name': 'name', 'value': 'Bob'}, {'name': 'skill', 'value': 'researcher'}]\n"
     ]
    }
   ],
   "source": [
    "cred_record = await agent_controller.issuer.get_record_by_id(record_id)\n",
    "state = cred_record['state']\n",
    "role = cred_record['role']\n",
    "print(f\"Credential exchange {record_id}, role: {role}, state: {state}\")"
   ]
  },
  {
   "cell_type": "markdown",
   "metadata": {},
   "source": [
    "## Remove Credential Exchange\n",
    "\n",
    "It is possible to remove stored credential exchanges from an agent. Typically when you are not interested in the credential being offered, or the credential offer that you have sent has become stale (been ignored?). \n",
    "\n",
    "**Note: For some usecases keeping these exchange records may be very important. E.g. For audit purposes.**"
   ]
  },
  {
   "cell_type": "code",
   "execution_count": 15,
   "metadata": {},
   "outputs": [
    {
     "ename": "ClientResponseError",
     "evalue": "404, message='Not Found', url=URL('http://alice-agent:8021/issue-credential/records/22b59951-89c0-40d5-9d96-fa31093b2d25/remove')",
     "output_type": "error",
     "traceback": [
      "\u001b[0;31m---------------------------------------------------------------------------\u001b[0m",
      "\u001b[0;31mClientResponseError\u001b[0m                       Traceback (most recent call last)",
      "\u001b[0;32m<ipython-input-15-1f47caf85c4a>\u001b[0m in \u001b[0;36masync-def-wrapper\u001b[0;34m()\u001b[0m\n\u001b[1;32m      2\u001b[0m \u001b[0mprint\u001b[0m\u001b[0;34m(\u001b[0m\u001b[0mresponse\u001b[0m\u001b[0;34m)\u001b[0m\u001b[0;34m\u001b[0m\u001b[0;34m\u001b[0m\u001b[0m\n\u001b[1;32m      3\u001b[0m \u001b[0mresponse\u001b[0m \u001b[0;34m=\u001b[0m \u001b[0;32mawait\u001b[0m \u001b[0magent_controller\u001b[0m\u001b[0;34m.\u001b[0m\u001b[0missuer\u001b[0m\u001b[0;34m.\u001b[0m\u001b[0mget_records\u001b[0m\u001b[0;34m(\u001b[0m\u001b[0;34m)\u001b[0m\u001b[0;34m\u001b[0m\u001b[0;34m\u001b[0m\u001b[0m\n\u001b[0;32m----> 4\u001b[0;31m \u001b[0mprint\u001b[0m\u001b[0;34m(\u001b[0m\u001b[0mresponse\u001b[0m\u001b[0;34m)\u001b[0m\u001b[0;34m\u001b[0m\u001b[0;34m\u001b[0m\u001b[0m\n\u001b[0m",
      "\u001b[0;32m/workspace/aries_basic_controller/issuer_controller.py\u001b[0m in \u001b[0;36mremove_record\u001b[0;34m(self, cred_ex_id)\u001b[0m\n\u001b[1;32m    103\u001b[0m     \u001b[0;31m# Remove an existing credential exchange record\u001b[0m\u001b[0;34m\u001b[0m\u001b[0;34m\u001b[0m\u001b[0;34m\u001b[0m\u001b[0m\n\u001b[1;32m    104\u001b[0m     \u001b[0;32masync\u001b[0m \u001b[0;32mdef\u001b[0m \u001b[0mremove_record\u001b[0m\u001b[0;34m(\u001b[0m\u001b[0mself\u001b[0m\u001b[0;34m,\u001b[0m \u001b[0mcred_ex_id\u001b[0m\u001b[0;34m)\u001b[0m\u001b[0;34m:\u001b[0m\u001b[0;34m\u001b[0m\u001b[0;34m\u001b[0m\u001b[0m\n\u001b[0;32m--> 105\u001b[0;31m         \u001b[0;32mreturn\u001b[0m \u001b[0;32mawait\u001b[0m \u001b[0mself\u001b[0m\u001b[0;34m.\u001b[0m\u001b[0madmin_POST\u001b[0m\u001b[0;34m(\u001b[0m\u001b[0;34mf\"{self.base_url}/records/{cred_ex_id}/remove\"\u001b[0m\u001b[0;34m)\u001b[0m\u001b[0;34m\u001b[0m\u001b[0;34m\u001b[0m\u001b[0m\n\u001b[0m\u001b[1;32m    106\u001b[0m \u001b[0;34m\u001b[0m\u001b[0m\n\u001b[1;32m    107\u001b[0m     \u001b[0;31m# Send a problem report for a credential exchange\u001b[0m\u001b[0;34m\u001b[0m\u001b[0;34m\u001b[0m\u001b[0;34m\u001b[0m\u001b[0m\n",
      "\u001b[0;32m/workspace/aries_basic_controller/base_controller.py\u001b[0m in \u001b[0;36madmin_POST\u001b[0;34m(self, path, data, text, params)\u001b[0m\n\u001b[1;32m     94\u001b[0m                 \u001b[0;34m(\u001b[0m\u001b[0;34m\" with data: \\n{}\"\u001b[0m\u001b[0;34m.\u001b[0m\u001b[0mformat\u001b[0m\u001b[0;34m(\u001b[0m\u001b[0mrepr_json\u001b[0m\u001b[0;34m(\u001b[0m\u001b[0mdata\u001b[0m\u001b[0;34m)\u001b[0m\u001b[0;34m)\u001b[0m \u001b[0;32mif\u001b[0m \u001b[0mdata\u001b[0m \u001b[0;32melse\u001b[0m \u001b[0;34m\"\"\u001b[0m\u001b[0;34m)\u001b[0m\u001b[0;34m,\u001b[0m\u001b[0;34m\u001b[0m\u001b[0;34m\u001b[0m\u001b[0m\n\u001b[1;32m     95\u001b[0m             )\n\u001b[0;32m---> 96\u001b[0;31m             \u001b[0mresponse\u001b[0m \u001b[0;34m=\u001b[0m \u001b[0;32mawait\u001b[0m \u001b[0mself\u001b[0m\u001b[0;34m.\u001b[0m\u001b[0madmin_request\u001b[0m\u001b[0;34m(\u001b[0m\u001b[0;34m\"POST\"\u001b[0m\u001b[0;34m,\u001b[0m \u001b[0mpath\u001b[0m\u001b[0;34m,\u001b[0m \u001b[0mdata\u001b[0m\u001b[0;34m,\u001b[0m \u001b[0mtext\u001b[0m\u001b[0;34m,\u001b[0m \u001b[0mparams\u001b[0m\u001b[0;34m)\u001b[0m\u001b[0;34m\u001b[0m\u001b[0;34m\u001b[0m\u001b[0m\n\u001b[0m\u001b[1;32m     97\u001b[0m             EVENT_LOGGER.debug(\n\u001b[1;32m     98\u001b[0m                 \u001b[0;34m\"Response from POST %s received: \\n%s\"\u001b[0m\u001b[0;34m,\u001b[0m \u001b[0mpath\u001b[0m\u001b[0;34m,\u001b[0m \u001b[0mrepr_json\u001b[0m\u001b[0;34m(\u001b[0m\u001b[0mresponse\u001b[0m\u001b[0;34m)\u001b[0m\u001b[0;34m,\u001b[0m\u001b[0;34m\u001b[0m\u001b[0;34m\u001b[0m\u001b[0m\n",
      "\u001b[0;32m/workspace/aries_basic_controller/base_controller.py\u001b[0m in \u001b[0;36madmin_request\u001b[0;34m(self, method, path, data, text, params)\u001b[0m\n\u001b[1;32m     61\u001b[0m             \u001b[0mmethod\u001b[0m\u001b[0;34m,\u001b[0m \u001b[0mself\u001b[0m\u001b[0;34m.\u001b[0m\u001b[0madmin_url\u001b[0m \u001b[0;34m+\u001b[0m \u001b[0mpath\u001b[0m\u001b[0;34m,\u001b[0m \u001b[0mjson\u001b[0m\u001b[0;34m=\u001b[0m\u001b[0mdata\u001b[0m\u001b[0;34m,\u001b[0m \u001b[0mparams\u001b[0m\u001b[0;34m=\u001b[0m\u001b[0mparams\u001b[0m\u001b[0;34m\u001b[0m\u001b[0;34m\u001b[0m\u001b[0m\n\u001b[1;32m     62\u001b[0m         ) as resp:\n\u001b[0;32m---> 63\u001b[0;31m             \u001b[0mresp\u001b[0m\u001b[0;34m.\u001b[0m\u001b[0mraise_for_status\u001b[0m\u001b[0;34m(\u001b[0m\u001b[0;34m)\u001b[0m\u001b[0;34m\u001b[0m\u001b[0;34m\u001b[0m\u001b[0m\n\u001b[0m\u001b[1;32m     64\u001b[0m             \u001b[0mresp_text\u001b[0m \u001b[0;34m=\u001b[0m \u001b[0;32mawait\u001b[0m \u001b[0mresp\u001b[0m\u001b[0;34m.\u001b[0m\u001b[0mtext\u001b[0m\u001b[0;34m(\u001b[0m\u001b[0;34m)\u001b[0m\u001b[0;34m\u001b[0m\u001b[0;34m\u001b[0m\u001b[0m\n\u001b[1;32m     65\u001b[0m             \u001b[0;32mif\u001b[0m \u001b[0;32mnot\u001b[0m \u001b[0mresp_text\u001b[0m \u001b[0;32mand\u001b[0m \u001b[0;32mnot\u001b[0m \u001b[0mtext\u001b[0m\u001b[0;34m:\u001b[0m\u001b[0;34m\u001b[0m\u001b[0;34m\u001b[0m\u001b[0m\n",
      "\u001b[0;32m/opt/conda/lib/python3.7/site-packages/aiohttp/client_reqrep.py\u001b[0m in \u001b[0;36mraise_for_status\u001b[0;34m(self)\u001b[0m\n\u001b[1;32m    944\u001b[0m                 \u001b[0mstatus\u001b[0m\u001b[0;34m=\u001b[0m\u001b[0mself\u001b[0m\u001b[0;34m.\u001b[0m\u001b[0mstatus\u001b[0m\u001b[0;34m,\u001b[0m\u001b[0;34m\u001b[0m\u001b[0;34m\u001b[0m\u001b[0m\n\u001b[1;32m    945\u001b[0m                 \u001b[0mmessage\u001b[0m\u001b[0;34m=\u001b[0m\u001b[0mself\u001b[0m\u001b[0;34m.\u001b[0m\u001b[0mreason\u001b[0m\u001b[0;34m,\u001b[0m\u001b[0;34m\u001b[0m\u001b[0;34m\u001b[0m\u001b[0m\n\u001b[0;32m--> 946\u001b[0;31m                 headers=self.headers)\n\u001b[0m\u001b[1;32m    947\u001b[0m \u001b[0;34m\u001b[0m\u001b[0m\n\u001b[1;32m    948\u001b[0m     \u001b[0;32mdef\u001b[0m \u001b[0m_cleanup_writer\u001b[0m\u001b[0;34m(\u001b[0m\u001b[0mself\u001b[0m\u001b[0;34m)\u001b[0m \u001b[0;34m->\u001b[0m \u001b[0;32mNone\u001b[0m\u001b[0;34m:\u001b[0m\u001b[0;34m\u001b[0m\u001b[0;34m\u001b[0m\u001b[0m\n",
      "\u001b[0;31mClientResponseError\u001b[0m: 404, message='Not Found', url=URL('http://alice-agent:8021/issue-credential/records/22b59951-89c0-40d5-9d96-fa31093b2d25/remove')"
     ]
    },
    {
     "name": "stderr",
     "output_type": "stream",
     "text": [
      "ERROR:asyncio:Task exception was never retrieved\n",
      "future: <Task finished coro=<run_in_terminal.<locals>.run() done, defined at /opt/conda/lib/python3.7/site-packages/prompt_toolkit/application/run_in_terminal.py:50> exception=UnsupportedOperation('fileno')>\n",
      "Traceback (most recent call last):\n",
      "  File \"/opt/conda/lib/python3.7/site-packages/prompt_toolkit/application/run_in_terminal.py\", line 55, in run\n",
      "    return func()\n",
      "  File \"/workspace/aries_basic_controller/utils.py\", line 120, in <lambda>\n",
      "    run_in_terminal(lambda: print_ext(*msg, color=color, **kwargs))\n",
      "  File \"/workspace/aries_basic_controller/utils.py\", line 103, in print_ext\n",
      "    print_formatted(FormattedText(msg), **kwargs)\n",
      "  File \"/workspace/aries_basic_controller/utils.py\", line 83, in print_formatted\n",
      "    prompt_toolkit.print_formatted_text(*args, **kwargs)\n",
      "  File \"/opt/conda/lib/python3.7/site-packages/prompt_toolkit/shortcuts/utils.py\", line 112, in print_formatted_text\n",
      "    output = get_app_session().output\n",
      "  File \"/opt/conda/lib/python3.7/site-packages/prompt_toolkit/application/current.py\", line 65, in output\n",
      "    self._output = create_output()\n",
      "  File \"/opt/conda/lib/python3.7/site-packages/prompt_toolkit/output/defaults.py\", line 62, in create_output\n",
      "    return Vt100_Output.from_pty(stdout, term=get_term_environment_variable())\n",
      "  File \"/opt/conda/lib/python3.7/site-packages/prompt_toolkit/output/vt100.py\", line 449, in from_pty\n",
      "    fd = stdout.fileno()\n",
      "io.UnsupportedOperation: fileno\n"
     ]
    }
   ],
   "source": [
    "response = await agent_controller.issuer.remove_record(record_id)\n",
    "print(response)"
   ]
  },
  {
   "cell_type": "code",
   "execution_count": 26,
   "metadata": {},
   "outputs": [
    {
     "name": "stdout",
     "output_type": "stream",
     "text": [
      "{'results': [{'connection_id': 'ac53ec32-0c36-4202-a6b0-cbdff9b37ed1', 'credential_exchange_id': 'd318bc42-3bf8-4bdd-997f-3ec37b156ee4', 'schema_id': 'PQRXDxdGqQGSZ8z69p4xZP:2:open_mined_contributor:0.0.1', 'auto_offer': False, 'auto_remove': True, 'auto_issue': True, 'credential_offer': {'schema_id': 'PQRXDxdGqQGSZ8z69p4xZP:2:open_mined_contributor:0.0.1', 'cred_def_id': 'PQRXDxdGqQGSZ8z69p4xZP:3:CL:10:default', 'key_correctness_proof': {'c': '79170176153350620028549950016135935654313248003471236926302455974413396051344', 'xz_cap': '1396235375325619727338321551222113480244211052014874840937160204552798576435859880925148151476722993078399547575807537695585488790036145257604049598327982178818544291205088081644473046348076996514883811028715602948870034170217016503327494499905844178648936888458598945201615966125928353232341132412886093303135418353600987329915719417804180125576821370613932982083996648803277155780075871308305170575550955969658720299874424052627072600097890088914615943336991227714640784652696829231191754539661422652899054865551387591008322104644930558990910424683341870869042830252073899826066731091397861435970324315892935414620368639404178452538504893529341672914520898426297098855952170451804495187035252', 'xr_cap': [['master_secret', '887282224518812246209554558473905258132444383685885178068348248191192703487974649411481031848033596182818272073666795904769017383500238115084296016135791760827968944842227815997863626715023817026612922695483465966122248022112169455796813441681420370600850024753871384203552032339686409577271077776010920274589091148337568455840290906965008279374828782352515694185886090895431682136101086151344087909906158088968247646626184694646088999293982522553169033388946558333753200316827585439206236165174778920133985893626198841266149567649208580742863209300721385808720259137803048008331173148584393646181020823359263597677800150819789990673821397266713729294707810932820281063042103878386245718051776'], ['skill', '744329119049725659863179633617600051711973468409085295471305333632823485758268722117022298473842276270207721898814790461251798251872920357115254449509836811122276846410386979733240217888127375059603177366148861019313894617398691764071237315871626862695000867736474927715763269308296031751971325371907808586420790894846450925901674651738927211096598451060328964939634130809615837129028872358936207106222786856145307098183505722261984891643177021630516848010905116940475014561281239579902435211725150951841752031100654234471305432211303651785015337358770035017838082421530132032002108758605808934585737857558979665465462857291442739535694124713995682967120744134426644171322761893303193757587342'], ['name', '430252763910708419552017166952279035342448965078855889111632087655470384516470837014598250118627588559286761145532263699438646225181820305228175214115002696906150079438289186859777817446858930437901816675613923566163321471938168348132777311881352743400858043814843165959729792793633528437010946970889031372072959905506267687301042916598311635512565684412700457096260923783686029700655946067170441839233696297373612694105986779547644280990175504150330486035681314318954977485667887299254556841068622555770760897779660737885403889720353158142584926607997849350138832261990312633205698389891057597587257206401213526619069100786544497643059151449118281833342776940178201168291030950776316725109767']]}, 'nonce': '403205089062883899371033'}, 'credential_proposal_dict': {'@type': 'did:sov:BzCbsNYhMrjHiqZDTUASHg;spec/issue-credential/1.0/propose-credential', '@id': '162507a8-c50b-4c43-9fa9-1e96522697c3', 'comment': '', 'credential_proposal': {'@type': 'did:sov:BzCbsNYhMrjHiqZDTUASHg;spec/issue-credential/1.0/credential-preview', 'attributes': [{'name': 'name', 'value': 'Bob'}, {'name': 'skill', 'value': 'researcher'}]}, 'cred_def_id': 'PQRXDxdGqQGSZ8z69p4xZP:3:CL:10:default', 'schema_name': 'open_mined_contributor', 'issuer_did': 'PQRXDxdGqQGSZ8z69p4xZP', 'schema_version': '0.0.1', 'schema_issuer_did': 'PQRXDxdGqQGSZ8z69p4xZP', 'schema_id': 'PQRXDxdGqQGSZ8z69p4xZP:2:open_mined_contributor:0.0.1'}, 'trace': False, 'credential_definition_id': 'PQRXDxdGqQGSZ8z69p4xZP:3:CL:10:default', 'state': 'offer_sent', 'created_at': '2020-07-09 10:40:06.576301Z', 'role': 'issuer', 'thread_id': '895d5075-d6cf-49f4-8143-79782df53e7d', 'initiator': 'self', 'updated_at': '2020-07-09 10:40:06.576301Z'}, {'connection_id': 'ac53ec32-0c36-4202-a6b0-cbdff9b37ed1', 'credential_exchange_id': '043d1ff0-372a-4dba-91bb-9dfd3b833ec1', 'schema_id': 'PQRXDxdGqQGSZ8z69p4xZP:2:open_mined_contributor:0.0.1', 'auto_offer': False, 'auto_remove': True, 'auto_issue': True, 'credential_offer': {'schema_id': 'PQRXDxdGqQGSZ8z69p4xZP:2:open_mined_contributor:0.0.1', 'cred_def_id': 'PQRXDxdGqQGSZ8z69p4xZP:3:CL:10:default', 'key_correctness_proof': {'c': '79170176153350620028549950016135935654313248003471236926302455974413396051344', 'xz_cap': '1396235375325619727338321551222113480244211052014874840937160204552798576435859880925148151476722993078399547575807537695585488790036145257604049598327982178818544291205088081644473046348076996514883811028715602948870034170217016503327494499905844178648936888458598945201615966125928353232341132412886093303135418353600987329915719417804180125576821370613932982083996648803277155780075871308305170575550955969658720299874424052627072600097890088914615943336991227714640784652696829231191754539661422652899054865551387591008322104644930558990910424683341870869042830252073899826066731091397861435970324315892935414620368639404178452538504893529341672914520898426297098855952170451804495187035252', 'xr_cap': [['master_secret', '887282224518812246209554558473905258132444383685885178068348248191192703487974649411481031848033596182818272073666795904769017383500238115084296016135791760827968944842227815997863626715023817026612922695483465966122248022112169455796813441681420370600850024753871384203552032339686409577271077776010920274589091148337568455840290906965008279374828782352515694185886090895431682136101086151344087909906158088968247646626184694646088999293982522553169033388946558333753200316827585439206236165174778920133985893626198841266149567649208580742863209300721385808720259137803048008331173148584393646181020823359263597677800150819789990673821397266713729294707810932820281063042103878386245718051776'], ['skill', '744329119049725659863179633617600051711973468409085295471305333632823485758268722117022298473842276270207721898814790461251798251872920357115254449509836811122276846410386979733240217888127375059603177366148861019313894617398691764071237315871626862695000867736474927715763269308296031751971325371907808586420790894846450925901674651738927211096598451060328964939634130809615837129028872358936207106222786856145307098183505722261984891643177021630516848010905116940475014561281239579902435211725150951841752031100654234471305432211303651785015337358770035017838082421530132032002108758605808934585737857558979665465462857291442739535694124713995682967120744134426644171322761893303193757587342'], ['name', '430252763910708419552017166952279035342448965078855889111632087655470384516470837014598250118627588559286761145532263699438646225181820305228175214115002696906150079438289186859777817446858930437901816675613923566163321471938168348132777311881352743400858043814843165959729792793633528437010946970889031372072959905506267687301042916598311635512565684412700457096260923783686029700655946067170441839233696297373612694105986779547644280990175504150330486035681314318954977485667887299254556841068622555770760897779660737885403889720353158142584926607997849350138832261990312633205698389891057597587257206401213526619069100786544497643059151449118281833342776940178201168291030950776316725109767']]}, 'nonce': '403205089062883899371033'}, 'credential_proposal_dict': {'@type': 'did:sov:BzCbsNYhMrjHiqZDTUASHg;spec/issue-credential/1.0/propose-credential', '@id': '8e8ed012-f0a4-46d0-9b73-c7cb1837ce97', 'comment': '', 'credential_proposal': {'@type': 'did:sov:BzCbsNYhMrjHiqZDTUASHg;spec/issue-credential/1.0/credential-preview', 'attributes': [{'name': 'name', 'value': 'Bob'}, {'name': 'skill', 'value': 'researcher'}]}, 'cred_def_id': 'PQRXDxdGqQGSZ8z69p4xZP:3:CL:10:default', 'schema_name': 'open_mined_contributor', 'issuer_did': 'PQRXDxdGqQGSZ8z69p4xZP', 'schema_version': '0.0.1', 'schema_issuer_did': 'PQRXDxdGqQGSZ8z69p4xZP', 'schema_id': 'PQRXDxdGqQGSZ8z69p4xZP:2:open_mined_contributor:0.0.1'}, 'trace': False, 'credential_definition_id': 'PQRXDxdGqQGSZ8z69p4xZP:3:CL:10:default', 'state': 'offer_sent', 'created_at': '2020-07-09 10:33:52.561393Z', 'role': 'issuer', 'thread_id': 'ae10443d-767f-4989-bce8-62237b3c847c', 'initiator': 'self', 'updated_at': '2020-07-09 10:33:52.561393Z'}, {'connection_id': 'ac53ec32-0c36-4202-a6b0-cbdff9b37ed1', 'credential_exchange_id': '0801a225-e6d1-4353-946b-f14570f3cd3a', 'auto_remove': True, 'credential_proposal_dict': {'@type': 'did:sov:BzCbsNYhMrjHiqZDTUASHg;spec/issue-credential/1.0/propose-credential', '@id': 'a40785bf-5fe2-4885-b43e-a307840b8767', 'comment': '', 'credential_proposal': {'@type': 'did:sov:BzCbsNYhMrjHiqZDTUASHg;spec/issue-credential/1.0/credential-preview', 'attributes': [{'name': 'name', 'value': 'Bob'}, {'name': 'skill', 'value': 'software engineer'}]}, 'cred_def_id': 'PQRXDxdGqQGSZ8z69p4xZP:3:CL:10:default', 'schema_name': 'open_mined_contributor', 'issuer_did': 'PQRXDxdGqQGSZ8z69p4xZP', 'schema_version': '0.0.1', 'schema_issuer_did': 'PQRXDxdGqQGSZ8z69p4xZP', 'schema_id': 'PQRXDxdGqQGSZ8z69p4xZP:2:open_mined_contributor:0.0.1'}, 'trace': False, 'state': 'proposal_received', 'created_at': '2020-07-09 11:11:12.175111Z', 'role': 'issuer', 'thread_id': 'a40785bf-5fe2-4885-b43e-a307840b8767', 'initiator': 'external', 'updated_at': '2020-07-09 11:11:12.175111Z'}, {'connection_id': 'ac53ec32-0c36-4202-a6b0-cbdff9b37ed1', 'credential_exchange_id': '8b318c40-bbf0-42f0-8ba2-c46a083f54fa', 'schema_id': 'PQRXDxdGqQGSZ8z69p4xZP:2:open_mined_contributor:0.0.1', 'auto_offer': False, 'auto_remove': True, 'auto_issue': True, 'credential_offer': {'schema_id': 'PQRXDxdGqQGSZ8z69p4xZP:2:open_mined_contributor:0.0.1', 'cred_def_id': 'PQRXDxdGqQGSZ8z69p4xZP:3:CL:10:default', 'key_correctness_proof': {'c': '79170176153350620028549950016135935654313248003471236926302455974413396051344', 'xz_cap': '1396235375325619727338321551222113480244211052014874840937160204552798576435859880925148151476722993078399547575807537695585488790036145257604049598327982178818544291205088081644473046348076996514883811028715602948870034170217016503327494499905844178648936888458598945201615966125928353232341132412886093303135418353600987329915719417804180125576821370613932982083996648803277155780075871308305170575550955969658720299874424052627072600097890088914615943336991227714640784652696829231191754539661422652899054865551387591008322104644930558990910424683341870869042830252073899826066731091397861435970324315892935414620368639404178452538504893529341672914520898426297098855952170451804495187035252', 'xr_cap': [['master_secret', '887282224518812246209554558473905258132444383685885178068348248191192703487974649411481031848033596182818272073666795904769017383500238115084296016135791760827968944842227815997863626715023817026612922695483465966122248022112169455796813441681420370600850024753871384203552032339686409577271077776010920274589091148337568455840290906965008279374828782352515694185886090895431682136101086151344087909906158088968247646626184694646088999293982522553169033388946558333753200316827585439206236165174778920133985893626198841266149567649208580742863209300721385808720259137803048008331173148584393646181020823359263597677800150819789990673821397266713729294707810932820281063042103878386245718051776'], ['skill', '744329119049725659863179633617600051711973468409085295471305333632823485758268722117022298473842276270207721898814790461251798251872920357115254449509836811122276846410386979733240217888127375059603177366148861019313894617398691764071237315871626862695000867736474927715763269308296031751971325371907808586420790894846450925901674651738927211096598451060328964939634130809615837129028872358936207106222786856145307098183505722261984891643177021630516848010905116940475014561281239579902435211725150951841752031100654234471305432211303651785015337358770035017838082421530132032002108758605808934585737857558979665465462857291442739535694124713995682967120744134426644171322761893303193757587342'], ['name', '430252763910708419552017166952279035342448965078855889111632087655470384516470837014598250118627588559286761145532263699438646225181820305228175214115002696906150079438289186859777817446858930437901816675613923566163321471938168348132777311881352743400858043814843165959729792793633528437010946970889031372072959905506267687301042916598311635512565684412700457096260923783686029700655946067170441839233696297373612694105986779547644280990175504150330486035681314318954977485667887299254556841068622555770760897779660737885403889720353158142584926607997849350138832261990312633205698389891057597587257206401213526619069100786544497643059151449118281833342776940178201168291030950776316725109767']]}, 'nonce': '403205089062883899371033'}, 'credential_proposal_dict': {'@type': 'did:sov:BzCbsNYhMrjHiqZDTUASHg;spec/issue-credential/1.0/propose-credential', '@id': 'd86afc36-ecba-42d3-88ce-89bfb633f852', 'comment': '', 'credential_proposal': {'@type': 'did:sov:BzCbsNYhMrjHiqZDTUASHg;spec/issue-credential/1.0/credential-preview', 'attributes': [{'name': 'name', 'value': 'Bob'}, {'name': 'skill', 'value': 'researcher'}]}, 'cred_def_id': 'PQRXDxdGqQGSZ8z69p4xZP:3:CL:10:default', 'schema_name': 'open_mined_contributor', 'issuer_did': 'PQRXDxdGqQGSZ8z69p4xZP', 'schema_version': '0.0.1', 'schema_issuer_did': 'PQRXDxdGqQGSZ8z69p4xZP', 'schema_id': 'PQRXDxdGqQGSZ8z69p4xZP:2:open_mined_contributor:0.0.1'}, 'trace': False, 'credential_definition_id': 'PQRXDxdGqQGSZ8z69p4xZP:3:CL:10:default', 'state': 'offer_sent', 'created_at': '2020-07-09 10:39:43.893416Z', 'role': 'issuer', 'thread_id': '068c8788-b8f7-41e4-ae03-8c75a8bd4d0e', 'initiator': 'self', 'updated_at': '2020-07-09 10:39:43.893416Z'}]}\n"
     ]
    }
   ],
   "source": [
    "response = await agent_controller.issuer.get_records()\n",
    "print(response)"
   ]
  },
  {
   "cell_type": "markdown",
   "metadata": {},
   "source": [
    "### TODO: Document the api calls not used. \n",
    "\n",
    "* Send_offer\n",
    "* send_offer_for_record\n",
    "* issue_credential - If rather than send_credential the notebook used send_offer then the entity controlling the agent (you with this notebook and agent_controller api) would have to explicitly issue the credential to once Bob requested it. With send_credential this part is automated."
   ]
  },
  {
   "cell_type": "markdown",
   "metadata": {},
   "source": [
    "## End of Tutorial\n",
    "\n",
    "Be sure to terminate the controller so you can run another tutorial.\n",
    "\n",
    "There are a few api calls not covered in this tutorial so far. Mostly around credential revocation."
   ]
  },
  {
   "cell_type": "code",
   "execution_count": 9,
   "metadata": {},
   "outputs": [
    {
     "ename": "RuntimeError",
     "evalue": "Site <aiohttp.web_runner.TCPSite object at 0x7f96801e81d0> is not registered in runner <aiohttp.web_runner.AppRunner object at 0x7f9678020b30>",
     "output_type": "error",
     "traceback": [
      "\u001b[0;31m---------------------------------------------------------------------------\u001b[0m",
      "\u001b[0;31mRuntimeError\u001b[0m                              Traceback (most recent call last)",
      "\u001b[0;32m<ipython-input-9-5870155ffed5>\u001b[0m in \u001b[0;36masync-def-wrapper\u001b[0;34m()\u001b[0m\n\u001b[1;32m      2\u001b[0m \u001b[0mprint\u001b[0m\u001b[0;34m(\u001b[0m\u001b[0mresponse\u001b[0m\u001b[0;34m)\u001b[0m\u001b[0;34m\u001b[0m\u001b[0;34m\u001b[0m\u001b[0m\n",
      "\u001b[0;32m/aries_basic_controller/aries_controller.py\u001b[0m in \u001b[0;36mterminate\u001b[0;34m(self)\u001b[0m\n\u001b[1;32m     91\u001b[0m         \u001b[0;32mawait\u001b[0m \u001b[0mself\u001b[0m\u001b[0;34m.\u001b[0m\u001b[0mclient_session\u001b[0m\u001b[0;34m.\u001b[0m\u001b[0mclose\u001b[0m\u001b[0;34m(\u001b[0m\u001b[0;34m)\u001b[0m\u001b[0;34m\u001b[0m\u001b[0;34m\u001b[0m\u001b[0m\n\u001b[1;32m     92\u001b[0m         \u001b[0;32mif\u001b[0m \u001b[0mself\u001b[0m\u001b[0;34m.\u001b[0m\u001b[0mwebhook_site\u001b[0m\u001b[0;34m:\u001b[0m\u001b[0;34m\u001b[0m\u001b[0;34m\u001b[0m\u001b[0m\n\u001b[0;32m---> 93\u001b[0;31m             \u001b[0;32mawait\u001b[0m \u001b[0mself\u001b[0m\u001b[0;34m.\u001b[0m\u001b[0mwebhook_site\u001b[0m\u001b[0;34m.\u001b[0m\u001b[0mstop\u001b[0m\u001b[0;34m(\u001b[0m\u001b[0;34m)\u001b[0m\u001b[0;34m\u001b[0m\u001b[0;34m\u001b[0m\u001b[0m\n\u001b[0m\u001b[1;32m     94\u001b[0m \u001b[0;34m\u001b[0m\u001b[0m\n\u001b[1;32m     95\u001b[0m \u001b[0;34m\u001b[0m\u001b[0m\n",
      "\u001b[0;32m/opt/conda/lib/python3.7/site-packages/aiohttp/web_runner.py\u001b[0m in \u001b[0;36mstop\u001b[0;34m(self)\u001b[0m\n\u001b[1;32m     54\u001b[0m \u001b[0;34m\u001b[0m\u001b[0m\n\u001b[1;32m     55\u001b[0m     \u001b[0;32masync\u001b[0m \u001b[0;32mdef\u001b[0m \u001b[0mstop\u001b[0m\u001b[0;34m(\u001b[0m\u001b[0mself\u001b[0m\u001b[0;34m)\u001b[0m \u001b[0;34m->\u001b[0m \u001b[0;32mNone\u001b[0m\u001b[0;34m:\u001b[0m\u001b[0;34m\u001b[0m\u001b[0;34m\u001b[0m\u001b[0m\n\u001b[0;32m---> 56\u001b[0;31m         \u001b[0mself\u001b[0m\u001b[0;34m.\u001b[0m\u001b[0m_runner\u001b[0m\u001b[0;34m.\u001b[0m\u001b[0m_check_site\u001b[0m\u001b[0;34m(\u001b[0m\u001b[0mself\u001b[0m\u001b[0;34m)\u001b[0m\u001b[0;34m\u001b[0m\u001b[0;34m\u001b[0m\u001b[0m\n\u001b[0m\u001b[1;32m     57\u001b[0m         \u001b[0;32mif\u001b[0m \u001b[0mself\u001b[0m\u001b[0;34m.\u001b[0m\u001b[0m_server\u001b[0m \u001b[0;32mis\u001b[0m \u001b[0;32mNone\u001b[0m\u001b[0;34m:\u001b[0m\u001b[0;34m\u001b[0m\u001b[0;34m\u001b[0m\u001b[0m\n\u001b[1;32m     58\u001b[0m             \u001b[0mself\u001b[0m\u001b[0;34m.\u001b[0m\u001b[0m_runner\u001b[0m\u001b[0;34m.\u001b[0m\u001b[0m_unreg_site\u001b[0m\u001b[0;34m(\u001b[0m\u001b[0mself\u001b[0m\u001b[0;34m)\u001b[0m\u001b[0;34m\u001b[0m\u001b[0;34m\u001b[0m\u001b[0m\n",
      "\u001b[0;32m/opt/conda/lib/python3.7/site-packages/aiohttp/web_runner.py\u001b[0m in \u001b[0;36m_check_site\u001b[0;34m(self, site)\u001b[0m\n\u001b[1;32m    276\u001b[0m         \u001b[0;32mif\u001b[0m \u001b[0msite\u001b[0m \u001b[0;32mnot\u001b[0m \u001b[0;32min\u001b[0m \u001b[0mself\u001b[0m\u001b[0;34m.\u001b[0m\u001b[0m_sites\u001b[0m\u001b[0;34m:\u001b[0m\u001b[0;34m\u001b[0m\u001b[0;34m\u001b[0m\u001b[0m\n\u001b[1;32m    277\u001b[0m             raise RuntimeError(\"Site {} is not registered in runner {}\"\n\u001b[0;32m--> 278\u001b[0;31m                                .format(site, self))\n\u001b[0m\u001b[1;32m    279\u001b[0m \u001b[0;34m\u001b[0m\u001b[0m\n\u001b[1;32m    280\u001b[0m     \u001b[0;32mdef\u001b[0m \u001b[0m_unreg_site\u001b[0m\u001b[0;34m(\u001b[0m\u001b[0mself\u001b[0m\u001b[0;34m,\u001b[0m \u001b[0msite\u001b[0m\u001b[0;34m:\u001b[0m \u001b[0mBaseSite\u001b[0m\u001b[0;34m)\u001b[0m \u001b[0;34m->\u001b[0m \u001b[0;32mNone\u001b[0m\u001b[0;34m:\u001b[0m\u001b[0;34m\u001b[0m\u001b[0;34m\u001b[0m\u001b[0m\n",
      "\u001b[0;31mRuntimeError\u001b[0m: Site <aiohttp.web_runner.TCPSite object at 0x7f96801e81d0> is not registered in runner <aiohttp.web_runner.AppRunner object at 0x7f9678020b30>"
     ]
    }
   ],
   "source": [
    "response = await agent_controller.terminate()\n",
    "print(response)"
   ]
  },
  {
   "cell_type": "code",
   "execution_count": null,
   "metadata": {},
   "outputs": [],
   "source": []
  }
 ],
 "metadata": {
  "kernelspec": {
   "display_name": "Python 3",
   "language": "python",
   "name": "python3"
  },
  "language_info": {
   "codemirror_mode": {
    "name": "ipython",
    "version": 3
   },
   "file_extension": ".py",
   "mimetype": "text/x-python",
   "name": "python",
   "nbconvert_exporter": "python",
   "pygments_lexer": "ipython3",
   "version": "3.7.6"
  }
 },
 "nbformat": 4,
 "nbformat_minor": 1
}
