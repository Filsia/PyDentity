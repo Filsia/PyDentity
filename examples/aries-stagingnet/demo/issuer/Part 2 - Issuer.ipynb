{
 "cells": [
  {
   "cell_type": "markdown",
   "metadata": {
    "collapsed": true
   },
   "source": [
    "# Aries Basic Controller - Sovrin Stagingnet Issuer Agent\n",
    "\n",
    "## This notebook walks through how to issue a credential across a newly established connection with a mobile SSI agent. \n",
    "\n",
    "## Before running through this notebook you should run through the Getting Started notebooks - [Getting Started](http://127.0.0.1:8888/notebooks/Part%201%20-%20Getting%20Started.ipynb).\n",
    "\n",
    "If unfamiliar with the protocol it is worth reading through the [aries-rfs](https://github.com/hyperledger/aries-rfcs/tree/master/features/0036-issue-credential)\n"
   ]
  },
  {
   "cell_type": "markdown",
   "metadata": {},
   "source": [
    "## Import packages"
   ]
  },
  {
   "cell_type": "code",
   "execution_count": 1,
   "metadata": {},
   "outputs": [
    {
     "name": "stdout",
     "output_type": "stream",
     "text": [
      "Collecting termcolor\n",
      "  Downloading termcolor-1.1.0.tar.gz (3.9 kB)\n",
      "Building wheels for collected packages: termcolor\n",
      "  Building wheel for termcolor (setup.py) ... \u001b[?25ldone\n",
      "\u001b[?25h  Created wheel for termcolor: filename=termcolor-1.1.0-py3-none-any.whl size=4830 sha256=a8bcebc69ce070ccf780f61641b94f39c7e7bdef24305bd87a636861a9f16899\n",
      "  Stored in directory: /root/.cache/pip/wheels/3f/e3/ec/8a8336ff196023622fbcb36de0c5a5c218cbb24111d1d4c7f2\n",
      "Successfully built termcolor\n",
      "Installing collected packages: termcolor\n",
      "Successfully installed termcolor-1.1.0\n",
      "Collecting pillow\n",
      "  Downloading Pillow-7.2.0-cp37-cp37m-manylinux1_x86_64.whl (2.2 MB)\n",
      "\u001b[K     |████████████████████████████████| 2.2 MB 2.0 MB/s eta 0:00:01\n",
      "\u001b[?25hInstalling collected packages: pillow\n",
      "Successfully installed pillow-7.2.0\n",
      "Collecting qrcode\n",
      "  Downloading qrcode-6.1-py2.py3-none-any.whl (31 kB)\n",
      "Requirement already satisfied: six in /opt/conda/lib/python3.7/site-packages (from qrcode) (1.14.0)\n",
      "Installing collected packages: qrcode\n",
      "Successfully installed qrcode-6.1\n"
     ]
    }
   ],
   "source": [
    "!pip install termcolor\n",
    "!pip install pillow\n",
    "!pip install qrcode\n",
    "from termcolor import colored,cprint"
   ]
  },
  {
   "cell_type": "markdown",
   "metadata": {},
   "source": [
    "## 1. Initialise a controller for Issuer"
   ]
  },
  {
   "cell_type": "code",
   "execution_count": 2,
   "metadata": {},
   "outputs": [
    {
     "name": "stdout",
     "output_type": "stream",
     "text": [
      "IPython autoawait is `on`, and set to use `asyncio`\n"
     ]
    }
   ],
   "source": [
    "%autoawait\n",
    "import time\n",
    "import asyncio\n",
    "\n",
    "from aries_basic_controller.aries_controller import AriesAgentController\n",
    "    \n",
    "WEBHOOK_HOST = \"0.0.0.0\"\n",
    "WEBHOOK_PORT = 8022\n",
    "WEBHOOK_BASE = \"\"\n",
    "ADMIN_URL = \"http://issuer-agent:8021\"\n",
    "\n",
    "# Based on the aca-py agent you wish to control\n",
    "agent_controller = AriesAgentController(webhook_host=WEBHOOK_HOST, webhook_port=WEBHOOK_PORT,\n",
    "                                       webhook_base=WEBHOOK_BASE, admin_url=ADMIN_URL)\n",
    "    "
   ]
  },
  {
   "cell_type": "markdown",
   "metadata": {},
   "source": [
    "## 2. Register Listeners\n",
    "\n",
    "@lohan - do we need to register listeners for everything do you think? I reckon it could be smoother just to register the cred and connection listener?\n",
    "\n",
    "The handler should get called every time the controller receives a webhook with the topic issue_credential, printing out the payload. The agent calls to this webhook every time it receives an issue-credential protocol message from a credential."
   ]
  },
  {
   "cell_type": "code",
   "execution_count": 3,
   "metadata": {},
   "outputs": [],
   "source": [
    "loop = asyncio.get_event_loop()\n",
    "loop.create_task(agent_controller.listen_webhooks())\n",
    "\n",
    "def cred_handler(payload):\n",
    "    print(\"Handle Credentials\")\n",
    "    exchange_id = payload['credential_exchange_id']\n",
    "    state = payload['state']\n",
    "    role = payload['role']\n",
    "    attributes = payload['credential_proposal_dict']['credential_proposal']['attributes']\n",
    "    print(f\"Credential exchange {exchange_id}, role: {role}, state: {state}\")\n",
    "    print(f\"Offering: {attributes}\")\n",
    "    \n",
    "cred_listener = {\n",
    "    \"topic\": \"issue_credential\",\n",
    "    \"handler\": cred_handler\n",
    "}\n",
    "\n",
    "def messages_handler(payload):\n",
    "    connection_id = payload[\"connection_id\"]\n",
    "    asyncio.get_event_loop().create_task(agent_controller.messaging.send_message(connection_id, \"This is a response from Bob\"))\n",
    "    print(\"Handle message\", payload, connection_id)\n",
    "\n",
    "\n",
    "message_listener = {\n",
    "    \"handler\": messages_handler,\n",
    "    \"topic\": \"basicmessages\"\n",
    "}\n",
    "\n",
    "def connections_handler(payload):\n",
    "    global STATE\n",
    "    connection_id = payload[\"connection_id\"]\n",
    "    print(\"Connection message\", payload, connection_id)\n",
    "    STATE = payload['state']\n",
    "    if STATE == 'active':\n",
    "#         print('Connection {0} changed state to active'.format(connection_id))\n",
    "        print(colored(\"Connection {0} changed state to active\".format(connection_id), \"red\", attrs=[\"bold\"]))\n",
    "\n",
    "\n",
    "connection_listener = {\n",
    "    \"handler\": connections_handler,\n",
    "    \"topic\": \"connections\"\n",
    "}\n",
    "\n",
    "def proof_handler(payload):\n",
    "    print(\"Handle present proof\")\n",
    "    print(payload)\n",
    "\n",
    "proof_listener = {\n",
    "    \"topic\": \"present_proof\",\n",
    "    \"handler\": proof_handler\n",
    "}\n",
    "\n",
    "agent_controller.register_listeners([cred_listener,message_listener,connection_listener,proof_listener], defaults=True)\n",
    "\n"
   ]
  },
  {
   "cell_type": "markdown",
   "metadata": {},
   "source": [
    "## 3a. Use a previously written schema\n",
    "\n",
    "@lohan potentially we use a nicer credential? More OM related? Or maybe even issue the completion of this tutorial that could be cool."
   ]
  },
  {
   "cell_type": "code",
   "execution_count": 4,
   "metadata": {},
   "outputs": [],
   "source": [
    "schema_id = 'MGgoJXWbeupKsaHDa7s4fW:2:testabc:0.0.1'"
   ]
  },
  {
   "cell_type": "markdown",
   "metadata": {},
   "source": [
    "## 3b. (OPTIONAL) Write a Schema to the Ledger\n",
    "\n",
    "For more details see the [schema-api notebook](http://localhost:8888/notebooks/schema_api.ipynb)\n",
    "\n",
    "**Note: You will only be able to do this once unless you change the schema_name or version. Once you have a schema written to the ledger it can be reused by multiple entities**"
   ]
  },
  {
   "cell_type": "code",
   "execution_count": 4,
   "metadata": {},
   "outputs": [
    {
     "name": "stdout",
     "output_type": "stream",
     "text": [
      "PQRXDxdGqQGSZ8z69p4xZP:2:testabc:0.0.1\n"
     ]
    }
   ],
   "source": [
    "# Define you schema name - must be unique on the ledger\n",
    "schema_name = \"whatever you want\"\n",
    "# Can version the schema if you wish to update it\n",
    "schema_version = \"0.0.1\"\n",
    "# Define any list of attributes you wish to include in your schema\n",
    "attributes = [\"name\", \"skill\", \"age\"]\n",
    "\n",
    "response = await agent_controller.schema.write_schema(schema_name, attributes, schema_version)\n",
    "schema_id = response[\"schema_id\"]\n",
    "print(schema_id)\n"
   ]
  },
  {
   "cell_type": "markdown",
   "metadata": {},
   "source": [
    "## 4. Write a Credential Definition to the Ledger\n",
    "\n",
    "More details in the [definitions notebook](http://localhost:8888/notebooks/definitions_api.ipynb)\n",
    "\n",
    "**Note: Again this can only be done once per issuer, per schema_id.**"
   ]
  },
  {
   "cell_type": "code",
   "execution_count": 5,
   "metadata": {},
   "outputs": [
    {
     "name": "stdout",
     "output_type": "stream",
     "text": [
      "826BrciniTTh7FRMFyrPWR:3:CL:141433:default\n"
     ]
    }
   ],
   "source": [
    "response = await agent_controller.definitions.write_cred_def(schema_id)\n",
    "\n",
    "cred_def_id = response[\"credential_definition_id\"]\n",
    "print(cred_def_id)"
   ]
  },
  {
   "cell_type": "markdown",
   "metadata": {},
   "source": [
    "**Note: You should be able to see both schema and definition transactions on Sovrin Stagingnet network with [Indyscan](https://indyscan.io/home/SOVRIN_STAGINGNET)**"
   ]
  },
  {
   "cell_type": "markdown",
   "metadata": {},
   "source": [
    "## 6. Populate the Attribues to Issue to Idenity Holder (User)\n",
    "\n",
    "The schema defines two attributes: name and skill. Both must be populated with attribute values that the Issuer wishes to issue in a credential to a User. To do this a list of objects must be created, each object containing the name of the attribute and it's value at a minimum. You can set the values to anything you wish.\n",
    "\n",
    "TODO: Some additional fields such as mime-type can be defined."
   ]
  },
  {
   "cell_type": "code",
   "execution_count": 6,
   "metadata": {},
   "outputs": [
    {
     "name": "stdout",
     "output_type": "stream",
     "text": [
      "[{'name': 'name', 'value': 'Bob'}, {'name': 'skill', 'value': 'researcher'}, {'name': 'age', 'value': '21'}]\n"
     ]
    }
   ],
   "source": [
    "credential_attributes = [\n",
    "    {\"name\": \"name\", \"value\": \"Bob\"},\n",
    "    {\"name\": \"skill\", \"value\": \"researcher\"},\n",
    "    {\"name\": \"age\", \"value\": \"21\"}\n",
    "]\n",
    "print(credential_attributes)"
   ]
  },
  {
   "cell_type": "markdown",
   "metadata": {},
   "source": [
    "## 7. Download Identity Holder Mobile SSI Wallet\n",
    "Please download a mobile SSI wallet such as [Connect.me](https://connect.me/), [Trinsic](https://trinsic.id/trinsic-wallet/) or any other Aries compatible wallet."
   ]
  },
  {
   "cell_type": "markdown",
   "metadata": {},
   "source": [
    "## 8. Create a connection invitation to scan with the Mobile SSI Wallet"
   ]
  },
  {
   "cell_type": "markdown",
   "metadata": {},
   "source": [
    "## 8a. Check for any existing connections"
   ]
  },
  {
   "cell_type": "code",
   "execution_count": 7,
   "metadata": {},
   "outputs": [
    {
     "name": "stdout",
     "output_type": "stream",
     "text": [
      "EXISTING CONNECTIONS\n"
     ]
    }
   ],
   "source": [
    "# Check for existing connections\n",
    "connection = await agent_controller.connections.get_connections()\n",
    "print(\"EXISTING CONNECTIONS\")\n",
    "for key, value in connection.items():\n",
    "    for item in value:\n",
    "        print('ConnectionID:', item['connection_id'], 'Status:',item['state'])"
   ]
  },
  {
   "cell_type": "markdown",
   "metadata": {},
   "source": [
    "## 8b. Create an Invitation"
   ]
  },
  {
   "cell_type": "code",
   "execution_count": 8,
   "metadata": {},
   "outputs": [
    {
     "name": "stdout",
     "output_type": "stream",
     "text": [
      "Connection message {'initiator': 'self', 'created_at': '2020-09-16 13:31:21.422845Z', 'updated_at': '2020-09-16 13:31:21.422845Z', 'invitation_mode': 'once', 'invitation_key': '7u3ocPs8CoZ5pf8Gf2ihrsqri9MSPbCaLcEWMNvijmkj', 'state': 'invitation', 'accept': 'auto', 'connection_id': '765b229b-257d-46ed-ba05-ab498add6aa2', 'routing_state': 'none'} 765b229b-257d-46ed-ba05-ab498add6aa2\n",
      "Connection ID 765b229b-257d-46ed-ba05-ab498add6aa2\n",
      "Invitation\n",
      "http://34fd23d13fe7.ngrok.io?c_i=eyJAdHlwZSI6ICJkaWQ6c292OkJ6Q2JzTlloTXJqSGlxWkRUVUFTSGc7c3BlYy9jb25uZWN0aW9ucy8xLjAvaW52aXRhdGlvbiIsICJAaWQiOiAiODA3N2MxNWItYTVlYi00OWVlLWFiYTEtZWQ2MWQ3NTVjZDEyIiwgInNlcnZpY2VFbmRwb2ludCI6ICJodHRwOi8vMzRmZDIzZDEzZmU3Lm5ncm9rLmlvIiwgImxhYmVsIjogIklzc3VlciIsICJyZWNpcGllbnRLZXlzIjogWyI3dTNvY1BzOENvWjVwZjhHZjJpaHJzcXJpOU1TUGJDYUxjRVdNTnZpam1raiJdfQ==\n"
     ]
    }
   ],
   "source": [
    "# Create Invitation\n",
    "invite = await agent_controller.connections.create_invitation()\n",
    "connection_id = invite[\"connection_id\"]\n",
    "print(\"Connection ID\", connection_id)\n",
    "print(\"Invitation\")\n",
    "print(invite['invitation_url'])\n",
    "inviteURL = invite['invitation_url']"
   ]
  },
  {
   "cell_type": "markdown",
   "metadata": {},
   "source": [
    "## 8c. Generate QR Code to be scanned with Mobile SSI Wallet"
   ]
  },
  {
   "cell_type": "code",
   "execution_count": 9,
   "metadata": {},
   "outputs": [
    {
     "data": {
      "image/png": "[encoded data removed]",
      "text/plain": [
       "<IPython.core.display.Image object>"
      ]
     },
     "execution_count": 9,
     "metadata": {
      "image/png": {
       "width": 400
      }
     },
     "output_type": "execute_result"
    },
    {
     "name": "stdout",
     "output_type": "stream",
     "text": [
      "Connection message {'initiator': 'self', 'created_at': '2020-09-16 13:31:21.422845Z', 'updated_at': '2020-09-16 13:31:38.402113Z', 'their_label': 'esatus Wallet', 'invitation_mode': 'once', 'invitation_key': '7u3ocPs8CoZ5pf8Gf2ihrsqri9MSPbCaLcEWMNvijmkj', 'state': 'request', 'accept': 'auto', 'connection_id': '765b229b-257d-46ed-ba05-ab498add6aa2', 'their_did': '3ec65VggsRyP8ErgA6CDN4', 'routing_state': 'none'} 765b229b-257d-46ed-ba05-ab498add6aa2\n",
      "Connection message {'initiator': 'self', 'created_at': '2020-09-16 13:31:21.422845Z', 'updated_at': '2020-09-16 13:31:38.451895Z', 'their_label': 'esatus Wallet', 'invitation_mode': 'once', 'invitation_key': '7u3ocPs8CoZ5pf8Gf2ihrsqri9MSPbCaLcEWMNvijmkj', 'state': 'response', 'accept': 'auto', 'connection_id': '765b229b-257d-46ed-ba05-ab498add6aa2', 'their_did': '3ec65VggsRyP8ErgA6CDN4', 'my_did': 'JgcyxhxpypBeuXPq3dPgQd', 'routing_state': 'none'} 765b229b-257d-46ed-ba05-ab498add6aa2\n"
     ]
    }
   ],
   "source": [
    "import qrcode\n",
    "# Link for connection invitation\n",
    "input_data = inviteURL\n",
    "# Creating an instance of qrcode\n",
    "qr = qrcode.QRCode(\n",
    "        version=1,\n",
    "        box_size=10,\n",
    "        border=5)\n",
    "qr.add_data(input_data)\n",
    "qr.make(fit=True)\n",
    "img = qr.make_image(fill='black', back_color='white')\n",
    "img.save('issuer_agent_invite_QRcode.png')\n",
    "\n",
    "from IPython.display import Image\n",
    "Image(width=400, filename='./issuer_agent_invite_QRcode.png')"
   ]
  },
  {
   "cell_type": "markdown",
   "metadata": {},
   "source": [
    "## 8d. Check if established connection is in active state"
   ]
  },
  {
   "cell_type": "code",
   "execution_count": 10,
   "metadata": {},
   "outputs": [
    {
     "name": "stdout",
     "output_type": "stream",
     "text": [
      "\u001b[1m\u001b[35mCurrent state for ConnectionId 765b229b-257d-46ed-ba05-ab498add6aa2 is response\u001b[0m\n",
      "\u001b[1m\u001b[33mConnectionId 765b229b-257d-46ed-ba05-ab498add6aa2 is not in active state yet\u001b[0m\n",
      "\u001b[1m\u001b[34mTrust ping send to ConnectionId {'thread_id': 'c695f925-8f1a-4de7-8f9c-41cf41d5e97e'} to activate connection\u001b[0m\n",
      "\u001b[1m\u001b[33mConnectionId 765b229b-257d-46ed-ba05-ab498add6aa2 is not in active state yet\u001b[0m\n",
      "Connection message {'initiator': 'self', 'created_at': '2020-09-16 13:31:21.422845Z', 'updated_at': '2020-09-16 13:31:52.140258Z', 'their_label': 'esatus Wallet', 'invitation_mode': 'once', 'invitation_key': '7u3ocPs8CoZ5pf8Gf2ihrsqri9MSPbCaLcEWMNvijmkj', 'state': 'active', 'accept': 'auto', 'connection_id': '765b229b-257d-46ed-ba05-ab498add6aa2', 'their_did': '3ec65VggsRyP8ErgA6CDN4', 'my_did': 'JgcyxhxpypBeuXPq3dPgQd', 'routing_state': 'none'} 765b229b-257d-46ed-ba05-ab498add6aa2\n",
      "\u001b[1m\u001b[31mConnection 765b229b-257d-46ed-ba05-ab498add6aa2 changed state to active\u001b[0m\n",
      "\u001b[1m\u001b[34mTrust ping send to ConnectionId {'thread_id': 'c6fa380a-e098-4bf3-8f2c-049f34fb14fd'} to activate connection\u001b[0m\n",
      "\u001b[1m\u001b[32mConnectionId: 765b229b-257d-46ed-ba05-ab498add6aa2 is now active. Continue with notebook\u001b[0m\n"
     ]
    }
   ],
   "source": [
    "import time\n",
    "\n",
    "# print('Current state for ConnectionId {} is {}'.format(connection_id,STATE))\n",
    "print(colored(\"Current state for ConnectionId {} is {}\".format(connection_id,STATE), \"magenta\", attrs=[\"bold\"]))\n",
    "while STATE != 'active':\n",
    "#     print('ConnectionId {0} is not in active state yet'.format(connection_id))\n",
    "    print(colored(\"ConnectionId {0} is not in active state yet\".format(connection_id), \"yellow\", attrs=[\"bold\"]))\n",
    "    trust_ping = await agent_controller.messaging.trust_ping(connection_id,'hello!')\n",
    "#     print('Trust ping send to ConnectionId {0} to activate connection'.format(trust_ping))\n",
    "    print(colored(\"Trust ping send to ConnectionId {0} to activate connection\".format(trust_ping), \"blue\", attrs=[\"bold\"]))\n",
    "    time.sleep(5)\n",
    "    \n",
    "# print('ConnectionId: {0} is now active. Continue with notebook'.format(connection_id))\n",
    "print(colored(\"ConnectionId: {0} is now active. Continue with notebook\".format(connection_id), \"green\", attrs=[\"bold\"]))\n"
   ]
  },
  {
   "cell_type": "markdown",
   "metadata": {},
   "source": [
    "## 9. Send Credential\n",
    "\n",
    "This sends a credential to a identity holder (User), and automates the rest of the protocol.\n",
    "\n",
    "There are other ways to issue a credential that require multiple api calls.\n",
    "\n",
    "**Arguments**\n",
    "* connection_id: The connection_id of the holder you wish to issue to (MUST be in active state)\n",
    "* schema_id: The id of the schema you wish to issue\n",
    "* cred_def_id: The definition (public key) to sign the credential object. This must refer to the schema_id and be written to the ledger by the same public did that is currently being used by the agent.\n",
    "* attributes: A list of attribute objects as defined above. Must match the schema attributes.\n",
    "* comment (optional): Any string, defaults to \"\"\n",
    "* auto_remove (optional): Boolean, defaults to True. I believe this removes the record of this credential once it has been issued. (TODO: double check)\n",
    "* trace (optional): Boolean, defaults to False. **Not entirely sure about this one, believe its for logging. Also when set to True it throws an error**"
   ]
  },
  {
   "cell_type": "code",
   "execution_count": 11,
   "metadata": {},
   "outputs": [
    {
     "name": "stdout",
     "output_type": "stream",
     "text": [
      "{'issuer_did': '826BrciniTTh7FRMFyrPWR', 'auto_remove': True, 'credential_proposal': {'@type': 'did:sov:BzCbsNYhMrjHiqZDTUASHg;spec/issue-credential/1.0/credential-preview', 'attributes': [{'name': 'name', 'value': 'Bob'}, {'name': 'skill', 'value': 'researcher'}, {'name': 'age', 'value': '21'}]}, 'connection_id': '765b229b-257d-46ed-ba05-ab498add6aa2', 'trace': False, 'comment': '', 'cred_def_id': '826BrciniTTh7FRMFyrPWR:3:CL:141433:default', 'schema_id': 'MGgoJXWbeupKsaHDa7s4fW:2:testabc:0.0.1', 'schema_name': 'testabc', 'schema_version': '0.0.1', 'schema_issuer_did': 'MGgoJXWbeupKsaHDa7s4fW'}\n",
      "Credential exchange ac398eb0-5963-46f7-a75f-ac115aed150a, role: issuer, state: offer_sent\n",
      "Handle Credentials\n",
      "Credential exchange ac398eb0-5963-46f7-a75f-ac115aed150a, role: issuer, state: offer_sent\n",
      "Offering: [{'name': 'name', 'value': 'Bob'}, {'name': 'skill', 'value': 'researcher'}, {'name': 'age', 'value': '21'}]\n",
      "Handle Credentials\n",
      "Credential exchange ac398eb0-5963-46f7-a75f-ac115aed150a, role: issuer, state: request_received\n",
      "Offering: [{'name': 'name', 'value': 'Bob'}, {'name': 'skill', 'value': 'researcher'}, {'name': 'age', 'value': '21'}]\n",
      "Handle Credentials\n",
      "Credential exchange ac398eb0-5963-46f7-a75f-ac115aed150a, role: issuer, state: credential_issued\n",
      "Offering: [{'name': 'name', 'value': 'Bob'}, {'name': 'skill', 'value': 'researcher'}, {'name': 'age', 'value': '21'}]\n"
     ]
    }
   ],
   "source": [
    "record = await agent_controller.issuer.send_credential(connection_id, schema_id, cred_def_id, credential_attributes, trace=False)\n",
    "record_id = record['credential_exchange_id']\n",
    "state = record['state']\n",
    "role = record['role']\n",
    "print(f\"Credential exchange {record_id}, role: {role}, state: {state}\")\n"
   ]
  },
  {
   "cell_type": "markdown",
   "metadata": {},
   "source": [
    "## 10. Accept credential in Mobile SSI Wallet"
   ]
  },
  {
   "cell_type": "markdown",
   "metadata": {},
   "source": [
    "## 11. End of Tutorial\n",
    "\n",
    "Be sure to terminate the controller so you can run another tutorial."
   ]
  },
  {
   "cell_type": "code",
   "execution_count": 12,
   "metadata": {},
   "outputs": [
    {
     "name": "stdout",
     "output_type": "stream",
     "text": [
      "None\n"
     ]
    }
   ],
   "source": [
    "response = await agent_controller.terminate()\n",
    "print(response)"
   ]
  },
  {
   "cell_type": "markdown",
   "metadata": {},
   "source": [
    "# Proceed to Part 3 on [Verifier Notebook](http://127.0.0.1:8889/notebooks/Part%203%20-%20Verifier.ipynb)\n",
    "\n",
    "Here you will present the attributes issued to you within this tutorial to a verifying entity."
   ]
  },
  {
   "cell_type": "code",
   "execution_count": null,
   "metadata": {},
   "outputs": [],
   "source": []
  }
 ],
 "metadata": {
  "kernelspec": {
   "display_name": "Python 3",
   "language": "python",
   "name": "python3"
  },
  "language_info": {
   "codemirror_mode": {
    "name": "ipython",
    "version": 3
   },
   "file_extension": ".py",
   "mimetype": "text/x-python",
   "name": "python",
   "nbconvert_exporter": "python",
   "pygments_lexer": "ipython3",
   "version": "3.7.6"
  }
 },
 "nbformat": 4,
 "nbformat_minor": 1
}
