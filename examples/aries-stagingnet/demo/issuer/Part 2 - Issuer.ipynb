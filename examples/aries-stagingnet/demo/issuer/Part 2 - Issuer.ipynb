{
 "cells": [
  {
   "cell_type": "markdown",
   "metadata": {
    "collapsed": true
   },
   "source": [
    "# Aries Basic Controller - Sovrin Stagingnet Issuer Agent\n",
    "\n",
    "## This notebook walks through how to issue a credential across a newly established connection with a mobile SSI agent. It should be run in parallel with the [Verifier notebook](http://127.0.0.1:8889/notebooks/Part%203%20-%20Verifier.ipynb) controlling the agent that will verify the credential.\n",
    "\n",
    "## Before running through this notebook you should run through the Getting Started notebooks - [Getting Started](http://127.0.0.1:8888/notebooks/Part%201%20-%20Getting%20Started.ipynb).\n",
    "\n",
    "If unfamiliar with the protocol it is worth reading through the [aries-rfs](https://github.com/hyperledger/aries-rfcs/tree/master/features/0036-issue-credential)\n"
   ]
  },
  {
   "cell_type": "markdown",
   "metadata": {},
   "source": [
    "## Import packages"
   ]
  },
  {
   "cell_type": "code",
   "execution_count": 1,
   "metadata": {},
   "outputs": [
    {
     "name": "stdout",
     "output_type": "stream",
     "text": [
      "Requirement already satisfied: termcolor in /opt/conda/lib/python3.7/site-packages (1.1.0)\n",
      "Requirement already satisfied: pillow in /opt/conda/lib/python3.7/site-packages (7.2.0)\n",
      "Requirement already satisfied: qrcode in /opt/conda/lib/python3.7/site-packages (6.1)\n",
      "Requirement already satisfied: six in /opt/conda/lib/python3.7/site-packages (from qrcode) (1.14.0)\n"
     ]
    }
   ],
   "source": [
    "!pip install termcolor\n",
    "!pip install pillow\n",
    "!pip install qrcode\n",
    "from termcolor import colored,cprint"
   ]
  },
  {
   "cell_type": "markdown",
   "metadata": {},
   "source": [
    "## 1. Initialise a controller for Issuer"
   ]
  },
  {
   "cell_type": "code",
   "execution_count": 2,
   "metadata": {},
   "outputs": [
    {
     "name": "stdout",
     "output_type": "stream",
     "text": [
      "IPython autoawait is `on`, and set to use `asyncio`\n"
     ]
    }
   ],
   "source": [
    "%autoawait\n",
    "import time\n",
    "import asyncio\n",
    "\n",
    "from aries_basic_controller.aries_controller import AriesAgentController\n",
    "    \n",
    "WEBHOOK_HOST = \"0.0.0.0\"\n",
    "WEBHOOK_PORT = 8022\n",
    "WEBHOOK_BASE = \"\"\n",
    "ADMIN_URL = \"http://issuer-agent:8021\"\n",
    "\n",
    "# Based on the aca-py agent you wish to control\n",
    "agent_controller = AriesAgentController(webhook_host=WEBHOOK_HOST, webhook_port=WEBHOOK_PORT,\n",
    "                                       webhook_base=WEBHOOK_BASE, admin_url=ADMIN_URL)\n",
    "    "
   ]
  },
  {
   "cell_type": "markdown",
   "metadata": {},
   "source": [
    "## 2. Register Listeners\n",
    "\n",
    "The handler should get called every time the controller receives a webhook with the topic issue_credential, printing out the payload. The agent calls to this webhook every time it receives an issue-credential protocol message from a credential."
   ]
  },
  {
   "cell_type": "code",
   "execution_count": 3,
   "metadata": {},
   "outputs": [],
   "source": [
    "loop = asyncio.get_event_loop()\n",
    "loop.create_task(agent_controller.listen_webhooks())\n",
    "\n",
    "def cred_handler(payload):\n",
    "    print(\"Handle Credentials\")\n",
    "    exchange_id = payload['credential_exchange_id']\n",
    "    state = payload['state']\n",
    "    role = payload['role']\n",
    "    attributes = payload['credential_proposal_dict']['credential_proposal']['attributes']\n",
    "    print(f\"Credential exchange {exchange_id}, role: {role}, state: {state}\")\n",
    "    print(f\"Offering: {attributes}\")\n",
    "    \n",
    "cred_listener = {\n",
    "    \"topic\": \"issue_credential\",\n",
    "    \"handler\": cred_handler\n",
    "}\n",
    "\n",
    "def messages_handler(payload):\n",
    "    connection_id = payload[\"connection_id\"]\n",
    "    asyncio.get_event_loop().create_task(agent_controller.messaging.send_message(connection_id, \"This is a response from Bob\"))\n",
    "    print(\"Handle message\", payload, connection_id)\n",
    "\n",
    "\n",
    "message_listener = {\n",
    "    \"handler\": messages_handler,\n",
    "    \"topic\": \"basicmessages\"\n",
    "}\n",
    "\n",
    "def connections_handler(payload):\n",
    "    global STATE\n",
    "    connection_id = payload[\"connection_id\"]\n",
    "    print(\"Connection message\", payload, connection_id)\n",
    "    STATE = payload['state']\n",
    "    if STATE == 'active':\n",
    "#         print('Connection {0} changed state to active'.format(connection_id))\n",
    "        print(colored(\"Connection {0} changed state to active\".format(connection_id), \"red\", attrs=[\"bold\"]))\n",
    "\n",
    "\n",
    "connection_listener = {\n",
    "    \"handler\": connections_handler,\n",
    "    \"topic\": \"connections\"\n",
    "}\n",
    "\n",
    "def proof_handler(payload):\n",
    "    print(\"Handle present proof\")\n",
    "    print(payload)\n",
    "\n",
    "proof_listener = {\n",
    "    \"topic\": \"present_proof\",\n",
    "    \"handler\": proof_handler\n",
    "}\n",
    "\n",
    "agent_controller.register_listeners([cred_listener,message_listener,connection_listener,proof_listener], defaults=True)\n",
    "\n"
   ]
  },
  {
   "cell_type": "markdown",
   "metadata": {},
   "source": [
    "## 3a. Use a previously written schema"
   ]
  },
  {
   "cell_type": "code",
   "execution_count": 4,
   "metadata": {},
   "outputs": [],
   "source": [
    "schema_id = 'MGgoJXWbeupKsaHDa7s4fW:2:testabc:0.0.1'"
   ]
  },
  {
   "cell_type": "markdown",
   "metadata": {},
   "source": [
    "## 3b. (OPTIONAL) Write a Schema to the Ledger\n",
    "\n",
    "For more details see the [schema-api notebook](http://localhost:8888/notebooks/schema_api.ipynb)\n",
    "\n",
    "**Note: You will only be able to do this once unless you change the schema_name or version. Once you have a schema written to the ledger it can be reused by multiple entities**"
   ]
  },
  {
   "cell_type": "code",
   "execution_count": 4,
   "metadata": {},
   "outputs": [
    {
     "name": "stdout",
     "output_type": "stream",
     "text": [
      "PQRXDxdGqQGSZ8z69p4xZP:2:testabc:0.0.1\n"
     ]
    }
   ],
   "source": [
    "# Define you schema name - must be unique on the ledger\n",
    "schema_name = \"testabc\"\n",
    "# Can version the schema if you wish to update it\n",
    "schema_version = \"0.0.1\"\n",
    "# Define any list of attributes you wish to include in your schema\n",
    "attributes = [\"name\", \"skill\", \"age\"]\n",
    "\n",
    "response = await agent_controller.schema.write_schema(schema_name, attributes, schema_version)\n",
    "schema_id = response[\"schema_id\"]\n",
    "print(schema_id)\n"
   ]
  },
  {
   "cell_type": "markdown",
   "metadata": {},
   "source": [
    "## 4. Write a Credential Definition to the Ledger\n",
    "\n",
    "More details in the [definitions notebook](http://localhost:8888/notebooks/definitions_api.ipynb)\n",
    "\n",
    "**Note: Again this can only be done once per issuer, per schema_id.**"
   ]
  },
  {
   "cell_type": "code",
   "execution_count": 5,
   "metadata": {},
   "outputs": [
    {
     "name": "stdout",
     "output_type": "stream",
     "text": [
      "ETsBE6DtyaKzDEUqaofsHM:3:CL:141433:default\n"
     ]
    }
   ],
   "source": [
    "response = await agent_controller.definitions.write_cred_def(schema_id)\n",
    "\n",
    "cred_def_id = response[\"credential_definition_id\"]\n",
    "print(cred_def_id)"
   ]
  },
  {
   "cell_type": "markdown",
   "metadata": {},
   "source": [
    "**Note: You should be able to see both schema and definition transactions on Sovrin Stagingnet network with [Indyscan](https://indyscan.io/home/SOVRIN_STAGINGNET)**"
   ]
  },
  {
   "cell_type": "markdown",
   "metadata": {},
   "source": [
    "## 6. Populate the Attribues to Issue to Idenity Holder (User)\n",
    "\n",
    "The schema defines two attributes: name and skill. Both must be populated with attribute values that the Issuer wishes to issue in a credential to a User. To do this a list of objects must be created, each object containing the name of the attribute and it's value at a minimum. You can set the values to anything you wish.\n",
    "\n",
    "TODO: Some additional fields such as mime-type can be defined."
   ]
  },
  {
   "cell_type": "code",
   "execution_count": 6,
   "metadata": {},
   "outputs": [
    {
     "name": "stdout",
     "output_type": "stream",
     "text": [
      "[{'name': 'name', 'value': 'Bob'}, {'name': 'skill', 'value': 'researcher'}, {'name': 'age', 'value': '21'}]\n"
     ]
    }
   ],
   "source": [
    "credential_attributes = [\n",
    "    {\"name\": \"name\", \"value\": \"Bob\"},\n",
    "    {\"name\": \"skill\", \"value\": \"researcher\"},\n",
    "    {\"name\": \"age\", \"value\": \"21\"}\n",
    "]\n",
    "print(credential_attributes)"
   ]
  },
  {
   "cell_type": "markdown",
   "metadata": {},
   "source": [
    "## 7. Download Identity Holder Mobile SSI Wallet\n",
    "Please download a mobile SSI wallet such as [Connect.me](https://connect.me/), [Trinsic](https://trinsic.id/trinsic-wallet/) or any other Aries compatible wallet."
   ]
  },
  {
   "cell_type": "markdown",
   "metadata": {},
   "source": [
    "## 8. Create a connection invitation to scan with the Mobile SSI Wallet"
   ]
  },
  {
   "cell_type": "markdown",
   "metadata": {},
   "source": [
    "## 8a. Check for any existing connections"
   ]
  },
  {
   "cell_type": "code",
   "execution_count": 7,
   "metadata": {},
   "outputs": [
    {
     "name": "stdout",
     "output_type": "stream",
     "text": [
      "EXISTING CONNECTIONS\n",
      "ConnectionID: 86d1ce68-7c4d-4472-82af-a319046ea1af Status: response\n",
      "ConnectionID: 74bbbd2b-1e70-4aaa-8bad-bae647bede3b Status: active\n",
      "ConnectionID: 8cd20940-c545-4c15-8fad-274f667c3130 Status: active\n",
      "ConnectionID: 2b5eef54-f90d-44de-9a07-0f7dc22fa392 Status: active\n",
      "ConnectionID: 7e2147f9-74ff-448c-8244-9445f0c484fd Status: active\n",
      "ConnectionID: 788dd898-505c-4140-920b-bf42130f2286 Status: active\n",
      "ConnectionID: 2898221d-830c-4890-9697-9deae6618a84 Status: invitation\n"
     ]
    }
   ],
   "source": [
    "# Check for existing connections\n",
    "connection = await agent_controller.connections.get_connections()\n",
    "print(\"EXISTING CONNECTIONS\")\n",
    "for key, value in connection.items():\n",
    "    for item in value:\n",
    "        print('ConnectionID:', item['connection_id'], 'Status:',item['state'])"
   ]
  },
  {
   "cell_type": "markdown",
   "metadata": {},
   "source": [
    "## 8b. Create an Invitation"
   ]
  },
  {
   "cell_type": "code",
   "execution_count": 8,
   "metadata": {},
   "outputs": [
    {
     "name": "stdout",
     "output_type": "stream",
     "text": [
      "Connection message {'connection_id': '1a5a9483-7517-4daf-ba17-671a81134783', 'invitation_mode': 'once', 'invitation_key': 'DwWthgE5eSbirDuQLdV2enGaDTE2WZNrXHHaBN7LgKE9', 'routing_state': 'none', 'initiator': 'self', 'updated_at': '2020-09-16 10:12:10.923548Z', 'accept': 'auto', 'created_at': '2020-09-16 10:12:10.923548Z', 'state': 'invitation'} 1a5a9483-7517-4daf-ba17-671a81134783\n",
      "Connection ID 1a5a9483-7517-4daf-ba17-671a81134783\n",
      "Invitation\n",
      "http://f0270b49779d.ngrok.io?c_i=eyJAdHlwZSI6ICJkaWQ6c292OkJ6Q2JzTlloTXJqSGlxWkRUVUFTSGc7c3BlYy9jb25uZWN0aW9ucy8xLjAvaW52aXRhdGlvbiIsICJAaWQiOiAiOTUwOGE1MzAtZGJmMC00NmM1LTlmZjQtOWQ5NzE0MTBjM2QyIiwgInNlcnZpY2VFbmRwb2ludCI6ICJodHRwOi8vZjAyNzBiNDk3NzlkLm5ncm9rLmlvIiwgInJlY2lwaWVudEtleXMiOiBbIkR3V3RoZ0U1ZVNiaXJEdVFMZFYyZW5HYURURTJXWk5yWEhIYUJON0xnS0U5Il0sICJsYWJlbCI6ICJJc3N1ZXIifQ==\n"
     ]
    }
   ],
   "source": [
    "# Create Invitation\n",
    "invite = await agent_controller.connections.create_invitation()\n",
    "connection_id = invite[\"connection_id\"]\n",
    "print(\"Connection ID\", connection_id)\n",
    "print(\"Invitation\")\n",
    "print(invite['invitation_url'])\n",
    "inviteURL = invite['invitation_url']"
   ]
  },
  {
   "cell_type": "markdown",
   "metadata": {},
   "source": [
    "## 8c. Generate QR Code to be scanned with Mobile SSI Wallet"
   ]
  },
  {
   "cell_type": "code",
   "execution_count": 9,
   "metadata": {},
   "outputs": [
    {
     "data": {
      "image/png": "[encoded data removed]",
      "text/plain": [
       "<IPython.core.display.Image object>"
      ]
     },
     "execution_count": 9,
     "metadata": {
      "image/png": {
       "width": 400
      }
     },
     "output_type": "execute_result"
    },
    {
     "name": "stdout",
     "output_type": "stream",
     "text": [
      "Connection message {'connection_id': '1a5a9483-7517-4daf-ba17-671a81134783', 'invitation_mode': 'once', 'invitation_key': 'DwWthgE5eSbirDuQLdV2enGaDTE2WZNrXHHaBN7LgKE9', 'their_did': 'REQDn1LNVk1H77fTHAahyy', 'routing_state': 'none', 'their_label': 'EAX', 'initiator': 'self', 'updated_at': '2020-09-16 10:12:22.639516Z', 'accept': 'auto', 'created_at': '2020-09-16 10:12:10.923548Z', 'state': 'request'} 1a5a9483-7517-4daf-ba17-671a81134783\n",
      "Connection message {'connection_id': '1a5a9483-7517-4daf-ba17-671a81134783', 'invitation_mode': 'once', 'invitation_key': 'DwWthgE5eSbirDuQLdV2enGaDTE2WZNrXHHaBN7LgKE9', 'their_did': 'REQDn1LNVk1H77fTHAahyy', 'routing_state': 'none', 'my_did': '78DMY7oWEjBJzBESuYe63R', 'their_label': 'EAX', 'initiator': 'self', 'updated_at': '2020-09-16 10:12:22.669072Z', 'accept': 'auto', 'created_at': '2020-09-16 10:12:10.923548Z', 'state': 'response'} 1a5a9483-7517-4daf-ba17-671a81134783\n"
     ]
    }
   ],
   "source": [
    "import qrcode\n",
    "# Link for connection invitation\n",
    "input_data = inviteURL\n",
    "# Creating an instance of qrcode\n",
    "qr = qrcode.QRCode(\n",
    "        version=1,\n",
    "        box_size=10,\n",
    "        border=5)\n",
    "qr.add_data(input_data)\n",
    "qr.make(fit=True)\n",
    "img = qr.make_image(fill='black', back_color='white')\n",
    "img.save('issuer_agent_invite_QRcode.png')\n",
    "\n",
    "from IPython.display import Image\n",
    "Image(width=400, filename='./issuer_agent_invite_QRcode.png')"
   ]
  },
  {
   "cell_type": "markdown",
   "metadata": {},
   "source": [
    "## 8d. Send Trust Ping to ensure connection is in active state"
   ]
  },
  {
   "cell_type": "code",
   "execution_count": 11,
   "metadata": {},
   "outputs": [
    {
     "name": "stdout",
     "output_type": "stream",
     "text": [
      "{'thread_id': '1929e687-62ea-4ea1-baf9-332cca0a3db6'}\n",
      "Connection message {'connection_id': '2b5eef54-f90d-44de-9a07-0f7dc22fa392', 'invitation_mode': 'once', 'invitation_key': '6HKMYTRqEhQ8pvw8RWjF1v2hm75cPEsvmxTBhRqATJRG', 'their_did': 'DQfXiRw4PnzpjwCerQRFhG', 'routing_state': 'none', 'my_did': '3xKZKdfrydnx9Qo9dWwuXK', 'their_label': 'EAX', 'initiator': 'self', 'updated_at': '2020-09-16 09:59:10.137202Z', 'accept': 'auto', 'created_at': '2020-09-16 09:58:53.898072Z', 'state': 'active'} 2b5eef54-f90d-44de-9a07-0f7dc22fa392\n",
      "\u001b[1m\u001b[31mConnection 2b5eef54-f90d-44de-9a07-0f7dc22fa392 changed state to active\u001b[0m\n"
     ]
    }
   ],
   "source": [
    "trust_ping = await agent_controller.messaging.trust_ping(connection_id,'hello')\n",
    "print(trust_ping)"
   ]
  },
  {
   "cell_type": "markdown",
   "metadata": {},
   "source": [
    "## 8e. Check if established connection is in active state"
   ]
  },
  {
   "cell_type": "code",
   "execution_count": 10,
   "metadata": {},
   "outputs": [
    {
     "name": "stdout",
     "output_type": "stream",
     "text": [
      "\u001b[1m\u001b[35mCurrent state for ConnectionId 1a5a9483-7517-4daf-ba17-671a81134783 is response\u001b[0m\n",
      "\u001b[1m\u001b[33mConnectionId 1a5a9483-7517-4daf-ba17-671a81134783 is not in active state yet\u001b[0m\n",
      "\u001b[1m\u001b[34mTrust ping send to ConnectionId {'thread_id': 'de70b2b1-856e-48a2-accc-6e9d27e1e297'} to activate connection\u001b[0m\n",
      "\u001b[1m\u001b[33mConnectionId 1a5a9483-7517-4daf-ba17-671a81134783 is not in active state yet\u001b[0m\n",
      "\u001b[1m\u001b[34mTrust ping send to ConnectionId {'thread_id': '10378f94-dfe8-46f6-8978-cc42f5956109'} to activate connection\u001b[0m\n",
      "\u001b[1m\u001b[33mConnectionId 1a5a9483-7517-4daf-ba17-671a81134783 is not in active state yet\u001b[0m\n",
      "Connection message {'connection_id': '1a5a9483-7517-4daf-ba17-671a81134783', 'invitation_mode': 'once', 'invitation_key': 'DwWthgE5eSbirDuQLdV2enGaDTE2WZNrXHHaBN7LgKE9', 'their_did': 'REQDn1LNVk1H77fTHAahyy', 'routing_state': 'none', 'my_did': '78DMY7oWEjBJzBESuYe63R', 'their_label': 'EAX', 'initiator': 'self', 'updated_at': '2020-09-16 10:12:32.965933Z', 'accept': 'auto', 'created_at': '2020-09-16 10:12:10.923548Z', 'state': 'active'} 1a5a9483-7517-4daf-ba17-671a81134783\n",
      "\u001b[1m\u001b[31mConnection 1a5a9483-7517-4daf-ba17-671a81134783 changed state to active\u001b[0m\n",
      "\u001b[1m\u001b[34mTrust ping send to ConnectionId {'thread_id': '06c89d8c-c589-4cc7-9244-e9dec5196f88'} to activate connection\u001b[0m\n",
      "\u001b[1m\u001b[32mConnectionId: 1a5a9483-7517-4daf-ba17-671a81134783 is now active. Continue with notebook\u001b[0m\n"
     ]
    }
   ],
   "source": [
    "import time\n",
    "# Check for existing connections\n",
    "# connection = await agent_controller.connections.get_connections()\n",
    "# print(\"EXISTING CONNECTIONS\")\n",
    "# for key, value in connection.items():\n",
    "#     for item in value:\n",
    "#         print('ConnectionID:', item['connection_id'], 'Status:',item['state'])\n",
    "#         if item['connection_id'] == connection_id:\n",
    "#             while item['state'] != 'active':\n",
    "#                 #connection_id = item['connection_id']\n",
    "#                 print('Connection: {0} not in active state yet'.format(item['connection_id']))\n",
    "#                 trust_ping = await agent_controller.messaging.trust_ping(connection_id,'hello!')\n",
    "#                 print('Trust ping send to {0} to sactivate connection'.format(trust_ping))\n",
    "#                 time.sleep(5)\n",
    "\n",
    "# print('Current state for ConnectionId {} is {}'.format(connection_id,STATE))\n",
    "print(colored(\"Current state for ConnectionId {} is {}\".format(connection_id,STATE), \"magenta\", attrs=[\"bold\"]))\n",
    "while STATE != 'active':\n",
    "#     print('ConnectionId {0} is not in active state yet'.format(connection_id))\n",
    "    print(colored(\"ConnectionId {0} is not in active state yet\".format(connection_id), \"yellow\", attrs=[\"bold\"]))\n",
    "    trust_ping = await agent_controller.messaging.trust_ping(connection_id,'hello!')\n",
    "#     print('Trust ping send to ConnectionId {0} to activate connection'.format(trust_ping))\n",
    "    print(colored(\"Trust ping send to ConnectionId {0} to activate connection\".format(trust_ping), \"blue\", attrs=[\"bold\"]))\n",
    "    time.sleep(5)\n",
    "    \n",
    "# print('ConnectionId: {0} is now active. Continue with notebook'.format(connection_id))\n",
    "print(colored(\"ConnectionId: {0} is now active. Continue with notebook\".format(connection_id), \"green\", attrs=[\"bold\"]))\n"
   ]
  },
  {
   "cell_type": "markdown",
   "metadata": {},
   "source": [
    "## 9. Send Credential\n",
    "\n",
    "This sends a credential to a identity holder (User), and automates the rest of the protocol.\n",
    "\n",
    "There are other ways to issue a credential that require multiple api calls.\n",
    "\n",
    "**Arguments**\n",
    "* connection_id: The connection_id of the holder you wish to issue to (MUST be in active state)\n",
    "* schema_id: The id of the schema you wish to issue\n",
    "* cred_def_id: The definition (public key) to sign the credential object. This must refer to the schema_id and be written to the ledger by the same public did that is currently being used by the agent.\n",
    "* attributes: A list of attribute objects as defined above. Must match the schema attributes.\n",
    "* comment (optional): Any string, defaults to \"\"\n",
    "* auto_remove (optional): Boolean, defaults to True. I believe this removes the record of this credential once it has been issued. (TODO: double check)\n",
    "* trace (optional): Boolean, defaults to False. **Not entirely sure about this one, believe its for logging. Also when set to True it throws an error**"
   ]
  },
  {
   "cell_type": "code",
   "execution_count": 7,
   "metadata": {},
   "outputs": [
    {
     "name": "stdout",
     "output_type": "stream",
     "text": [
      "{'issuer_did': 'PQRXDxdGqQGSZ8z69p4xZP', 'auto_remove': True, 'credential_proposal': {'@type': 'did:sov:BzCbsNYhMrjHiqZDTUASHg;spec/issue-credential/1.0/credential-preview', 'attributes': [{'name': 'name', 'value': 'Bob'}, {'name': 'skill', 'value': 'researcher'}, {'name': 'age', 'value': '21'}]}, 'connection_id': '4a3bfb5d-483c-4ba3-b7f8-3755d09a3fb9', 'trace': False, 'comment': '', 'cred_def_id': 'PQRXDxdGqQGSZ8z69p4xZP:3:CL:10:default', 'schema_id': 'PQRXDxdGqQGSZ8z69p4xZP:2:open_mined_contributor:0.0.1', 'schema_name': 'open_mined_contributor', 'schema_version': '0.0.1', 'schema_issuer_did': 'PQRXDxdGqQGSZ8z69p4xZP'}\n",
      "Credential exchange 1a7aca80-0d1b-4232-9888-1f270a9f3886, role: issuer, state: offer_sent\n",
      "Handle Credentials\n",
      "Credential exchange 1a7aca80-0d1b-4232-9888-1f270a9f3886, role: issuer, state: offer_sent\n",
      "Being offered: [{'name': 'name', 'value': 'Bob'}, {'name': 'skill', 'value': 'researcher'}, {'name': 'age', 'value': '21'}]\n",
      "Handle Credentials\n",
      "Credential exchange 1a7aca80-0d1b-4232-9888-1f270a9f3886, role: issuer, state: request_received\n",
      "Being offered: [{'name': 'name', 'value': 'Bob'}, {'name': 'skill', 'value': 'researcher'}, {'name': 'age', 'value': '21'}]\n",
      "Handle Credentials\n",
      "Credential exchange 1a7aca80-0d1b-4232-9888-1f270a9f3886, role: issuer, state: credential_issued\n",
      "Being offered: [{'name': 'name', 'value': 'Bob'}, {'name': 'skill', 'value': 'researcher'}, {'name': 'age', 'value': '21'}]\n",
      "Handle Credentials\n",
      "Credential exchange 1a7aca80-0d1b-4232-9888-1f270a9f3886, role: issuer, state: credential_acked\n",
      "Being offered: [{'name': 'name', 'value': 'Bob'}, {'name': 'skill', 'value': 'researcher'}, {'name': 'age', 'value': '21'}]\n"
     ]
    }
   ],
   "source": [
    "record = await agent_controller.issuer.send_credential(connection_id, schema_id, cred_def_id, credential_attributes, trace=False)\n",
    "record_id = record['credential_exchange_id']\n",
    "state = record['state']\n",
    "role = record['role']\n",
    "print(f\"Credential exchange {record_id}, role: {role}, state: {state}\")\n"
   ]
  },
  {
   "cell_type": "markdown",
   "metadata": {},
   "source": [
    "## 10. Continue on Verifier Notebook\n",
    "\n",
    "Continue to the [Verifier Notebook](http://127.0.0.1:8889/notebooks/Part%203%20-%20Verifier.ipynb)\n",
    "\n",
    "It works best if this notebook is already initialised and has listeners registered."
   ]
  },
  {
   "cell_type": "markdown",
   "metadata": {},
   "source": [
    "## End of Tutorial\n",
    "\n",
    "Be sure to terminate the controller so you can run another tutorial."
   ]
  },
  {
   "cell_type": "code",
   "execution_count": 13,
   "metadata": {},
   "outputs": [
    {
     "name": "stdout",
     "output_type": "stream",
     "text": [
      "None\n"
     ]
    }
   ],
   "source": [
    "response = await agent_controller.terminate()\n",
    "print(response)"
   ]
  },
  {
   "cell_type": "code",
   "execution_count": null,
   "metadata": {},
   "outputs": [],
   "source": []
  }
 ],
 "metadata": {
  "kernelspec": {
   "display_name": "Python 3",
   "language": "python",
   "name": "python3"
  },
  "language_info": {
   "codemirror_mode": {
    "name": "ipython",
    "version": 3
   },
   "file_extension": ".py",
   "mimetype": "text/x-python",
   "name": "python",
   "nbconvert_exporter": "python",
   "pygments_lexer": "ipython3",
   "version": "3.7.6"
  }
 },
 "nbformat": 4,
 "nbformat_minor": 1
}
