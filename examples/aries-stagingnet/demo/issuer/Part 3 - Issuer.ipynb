{
 "cells": [
  {
   "cell_type": "markdown",
   "metadata": {
    "collapsed": true
   },
   "source": [
    "# Aries Basic Controller - Sovrin Stagingnet Issuer Agent\n",
    "\n",
    "## This notebook walks through how to issue a credential across a newly established connection with a mobile SSI agent. \n",
    "\n",
    "## Before running through this notebook you should run through the following notebook - [Part 2 - Connecting Issuer Agent to Sovrin Stagingnet](http://127.0.0.1:8888/notebooks/Part%202%20-%20Connecting%20Issuer%20Agent%20to%20Sovrin%20Stagingnet.ipynb).\n",
    "\n",
    "If unfamiliar with the protocol it is worth reading through the [aries-rfs](https://github.com/hyperledger/aries-rfcs/tree/master/features/0036-issue-credential)\n"
   ]
  },
  {
   "cell_type": "markdown",
   "metadata": {},
   "source": [
    "## 1. Initialise a controller for Issuer"
   ]
  },
  {
   "cell_type": "code",
   "execution_count": 1,
   "metadata": {},
   "outputs": [
    {
     "name": "stdout",
     "output_type": "stream",
     "text": [
      "IPython autoawait is `on`, and set to use `asyncio`\n"
     ]
    }
   ],
   "source": [
    "%autoawait\n",
    "import time\n",
    "import asyncio\n",
    "from termcolor import colored,cprint\n",
    "\n",
    "from aries_basic_controller.aries_controller import AriesAgentController\n",
    "    \n",
    "WEBHOOK_HOST = \"0.0.0.0\"\n",
    "WEBHOOK_PORT = 8022\n",
    "WEBHOOK_BASE = \"\"\n",
    "ADMIN_URL = \"http://issuer-agent:8021\"\n",
    "\n",
    "# Based on the aca-py agent you wish to control\n",
    "agent_controller = AriesAgentController(webhook_host=WEBHOOK_HOST, webhook_port=WEBHOOK_PORT,\n",
    "                                       webhook_base=WEBHOOK_BASE, admin_url=ADMIN_URL)\n",
    "    "
   ]
  },
  {
   "cell_type": "markdown",
   "metadata": {},
   "source": [
    "## 2. Register Listeners\n",
    "\n",
    "The handler should get called every time the controller receives a webhook with the topic issue_credential, printing out the payload. The agent calls to this webhook every time it receives an issue-credential protocol message from a credential."
   ]
  },
  {
   "cell_type": "code",
   "execution_count": 2,
   "metadata": {},
   "outputs": [],
   "source": [
    "loop = asyncio.get_event_loop()\n",
    "loop.create_task(agent_controller.listen_webhooks())\n",
    "\n",
    "def cred_handler(payload):\n",
    "    print(\"Handle Credentials\")\n",
    "    exchange_id = payload['credential_exchange_id']\n",
    "    state = payload['state']\n",
    "    role = payload['role']\n",
    "    attributes = payload['credential_proposal_dict']['credential_proposal']['attributes']\n",
    "    print(f\"Credential exchange {exchange_id}, role: {role}, state: {state}\")\n",
    "    print(f\"Offering: {attributes}\")\n",
    "    \n",
    "cred_listener = {\n",
    "    \"topic\": \"issue_credential\",\n",
    "    \"handler\": cred_handler\n",
    "}\n",
    "\n",
    "def connections_handler(payload):\n",
    "    global STATE\n",
    "    connection_id = payload[\"connection_id\"]\n",
    "    print(\"Connection message\", payload, connection_id)\n",
    "    STATE = payload['state']\n",
    "    if STATE == 'active':\n",
    "#         print('Connection {0} changed state to active'.format(connection_id))\n",
    "        print(colored(\"Connection {0} changed state to active\".format(connection_id), \"red\", attrs=[\"bold\"]))\n",
    "\n",
    "\n",
    "connection_listener = {\n",
    "    \"handler\": connections_handler,\n",
    "    \"topic\": \"connections\"\n",
    "}\n",
    "\n",
    "agent_controller.register_listeners([cred_listener,connection_listener], defaults=True)\n"
   ]
  },
  {
   "cell_type": "markdown",
   "metadata": {},
   "source": [
    "## 3a. Use a previously written schema"
   ]
  },
  {
   "cell_type": "code",
   "execution_count": 3,
   "metadata": {},
   "outputs": [],
   "source": [
    "schema_id = 'EuEtnVakYFyBtGFT1nHYtH:2:SSI PyDentity Tutorial:0.0.1'"
   ]
  },
  {
   "cell_type": "markdown",
   "metadata": {},
   "source": [
    "## 3b. (OPTIONAL) Write a Schema to the Ledger\n",
    "\n",
    "For more details see the [schema-api notebook](http://localhost:8888/notebooks/schema_api.ipynb)\n",
    "\n",
    "**Note: You will only be able to do this once unless you change the schema_name or version. Once you have a schema written to the ledger it can be reused by multiple entities**"
   ]
  },
  {
   "cell_type": "code",
   "execution_count": 4,
   "metadata": {},
   "outputs": [
    {
     "name": "stdout",
     "output_type": "stream",
     "text": [
      "EuEtnVakYFyBtGFT1nHYtH:2:SSI PyDentity Tutorial:0.0.1\n"
     ]
    }
   ],
   "source": [
    "# Define you schema name - must be unique on the ledger\n",
    "schema_name = \"SSI PyDentity Tutorial\"\n",
    "# Can version the schema if you wish to update it\n",
    "schema_version = \"0.0.1\"\n",
    "# Define any list of attributes you wish to include in your schema\n",
    "attributes = [\"fullname\", \"skill\", \"age\"]\n",
    "\n",
    "response = await agent_controller.schema.write_schema(schema_name, attributes, schema_version)\n",
    "schema_id = response[\"schema_id\"]\n",
    "print(schema_id)\n"
   ]
  },
  {
   "cell_type": "markdown",
   "metadata": {},
   "source": [
    "## 4. Write a Credential Definition to the Ledger\n",
    "\n",
    "More details in the [definitions notebook](http://localhost:8888/notebooks/definitions_api.ipynb)\n",
    "\n",
    "**Note: Again this can only be done once per issuer, per schema_id.**"
   ]
  },
  {
   "cell_type": "code",
   "execution_count": 4,
   "metadata": {},
   "outputs": [
    {
     "name": "stdout",
     "output_type": "stream",
     "text": [
      "T4WGdVSJPFTjXR9HXk4F5A:3:CL:142409:default\n"
     ]
    }
   ],
   "source": [
    "response = await agent_controller.definitions.write_cred_def(schema_id)\n",
    "\n",
    "cred_def_id = response[\"credential_definition_id\"]\n",
    "print(cred_def_id)"
   ]
  },
  {
   "cell_type": "markdown",
   "metadata": {},
   "source": [
    "**Note: You should be able to see both schema and definition transactions on Sovrin Stagingnet network with [Indyscan](https://indyscan.io/home/SOVRIN_STAGINGNET)**"
   ]
  },
  {
   "cell_type": "markdown",
   "metadata": {},
   "source": [
    "## 6. Populate the Attribues to Issue to Idenity Holder (User)\n",
    "\n",
    "The schema defines two attributes: name and skill. Both must be populated with attribute values that the Issuer wishes to issue in a credential to a User. To do this a list of objects must be created, each object containing the name of the attribute and it's value at a minimum. You can set the values to anything you wish.\n",
    "\n",
    "TODO: Some additional fields such as mime-type can be defined."
   ]
  },
  {
   "cell_type": "code",
   "execution_count": 10,
   "metadata": {},
   "outputs": [
    {
     "name": "stdout",
     "output_type": "stream",
     "text": [
      "Please enter your name and surname: Adam Hall\n",
      "Please enter your age: 22\n",
      "[{'name': 'fullname', 'value': 'Adam Hall'}, {'name': 'skill', 'value': 'PyDentity SSI Ninja'}, {'name': 'age', 'value': '22'}]\n"
     ]
    }
   ],
   "source": [
    "name=input(\"Please enter your name and surname: \")\n",
    "age=input(\"Please enter your age: \")\n",
    "credential_attributes = [\n",
    "    {\"name\": \"fullname\", \"value\": name},\n",
    "    {\"name\": \"skill\", \"value\": \"PyDentity SSI Ninja\"},\n",
    "    {\"name\": \"age\", \"value\": age}\n",
    "]\n",
    "print(credential_attributes)"
   ]
  },
  {
   "cell_type": "markdown",
   "metadata": {},
   "source": [
    "## 7. Download Identity Holder Mobile SSI Wallet\n",
    "Please download a mobile SSI wallet such as [Connect.me](https://connect.me/), [Trinsic](https://trinsic.id/trinsic-wallet/) or any other Aries compatible wallet."
   ]
  },
  {
   "cell_type": "markdown",
   "metadata": {},
   "source": [
    "## 8. Create a connection invitation to scan with the Mobile SSI Wallet"
   ]
  },
  {
   "cell_type": "markdown",
   "metadata": {},
   "source": [
    "## 8a. Check for any existing connections"
   ]
  },
  {
   "cell_type": "code",
   "execution_count": 6,
   "metadata": {},
   "outputs": [
    {
     "name": "stdout",
     "output_type": "stream",
     "text": [
      "EXISTING CONNECTIONS\n"
     ]
    }
   ],
   "source": [
    "# Check for existing connections\n",
    "connection = await agent_controller.connections.get_connections()\n",
    "print(\"EXISTING CONNECTIONS\")\n",
    "for key, value in connection.items():\n",
    "    for item in value:\n",
    "        print('ConnectionID:', item['connection_id'], 'Status:',item['state'])"
   ]
  },
  {
   "cell_type": "markdown",
   "metadata": {},
   "source": [
    "## 8b. Create an Invitation"
   ]
  },
  {
   "cell_type": "code",
   "execution_count": 7,
   "metadata": {},
   "outputs": [
    {
     "name": "stdout",
     "output_type": "stream",
     "text": [
      "Connection ID fcbdc894-1622-4f39-b8e5-2d65885b96b5\n",
      "Invitation\n",
      "http://d60c854177b1.ngrok.io?c_i=eyJAdHlwZSI6ICJkaWQ6c292OkJ6Q2JzTlloTXJqSGlxWkRUVUFTSGc7c3BlYy9jb25uZWN0aW9ucy8xLjAvaW52aXRhdGlvbiIsICJAaWQiOiAiMTZiZmY5NzctNjdhOC00Njc2LTk3YzEtZWU4N2QxYTBlMGViIiwgInNlcnZpY2VFbmRwb2ludCI6ICJodHRwOi8vZDYwYzg1NDE3N2IxLm5ncm9rLmlvIiwgImxhYmVsIjogIklzc3VlciIsICJyZWNpcGllbnRLZXlzIjogWyJHVGZwcnpZa3pmWXNFbmpwRmhoaWgyRWpmZVVBZTc4RzF2enhwdDlHbUJZYiJdfQ==\n",
      "Connection message {'invitation_mode': 'once', 'accept': 'auto', 'initiator': 'self', 'created_at': '2020-09-17 12:27:13.568235Z', 'state': 'invitation', 'invitation_key': 'GTfprzYkzfYsEnjpFhhih2EjfeUAe78G1vzxpt9GmBYb', 'updated_at': '2020-09-17 12:27:13.568235Z', 'connection_id': 'fcbdc894-1622-4f39-b8e5-2d65885b96b5', 'routing_state': 'none'} fcbdc894-1622-4f39-b8e5-2d65885b96b5\n"
     ]
    }
   ],
   "source": [
    "# Create Invitation\n",
    "invite = await agent_controller.connections.create_invitation()\n",
    "connection_id = invite[\"connection_id\"]\n",
    "print(\"Connection ID\", connection_id)\n",
    "print(\"Invitation\")\n",
    "print(invite['invitation_url'])\n",
    "inviteURL = invite['invitation_url']"
   ]
  },
  {
   "cell_type": "markdown",
   "metadata": {},
   "source": [
    "## 8c. Generate QR Code to be scanned with Mobile SSI Wallet"
   ]
  },
  {
   "cell_type": "code",
   "execution_count": 8,
   "metadata": {},
   "outputs": [
    {
     "data": {
      "image/png": "[encoded data removed]",
      "text/plain": [
       "<IPython.core.display.Image object>"
      ]
     },
     "execution_count": 8,
     "metadata": {
      "image/png": {
       "width": 400
      }
     },
     "output_type": "execute_result"
    },
    {
     "name": "stdout",
     "output_type": "stream",
     "text": [
      "Connection message {'their_label': 'Adam’s iPhone', 'invitation_mode': 'once', 'accept': 'auto', 'initiator': 'self', 'created_at': '2020-09-17 12:27:13.568235Z', 'state': 'request', 'invitation_key': 'GTfprzYkzfYsEnjpFhhih2EjfeUAe78G1vzxpt9GmBYb', 'updated_at': '2020-09-17 12:27:22.870077Z', 'connection_id': 'fcbdc894-1622-4f39-b8e5-2d65885b96b5', 'their_did': '5zVUHvZa3yiUsF5EBP6tHb', 'routing_state': 'none'} fcbdc894-1622-4f39-b8e5-2d65885b96b5\n",
      "Connection message {'their_label': 'Adam’s iPhone', 'invitation_mode': 'once', 'accept': 'auto', 'my_did': 'UHXeAsspVa6h3GkJ1LNuGW', 'initiator': 'self', 'created_at': '2020-09-17 12:27:13.568235Z', 'state': 'response', 'invitation_key': 'GTfprzYkzfYsEnjpFhhih2EjfeUAe78G1vzxpt9GmBYb', 'updated_at': '2020-09-17 12:27:22.898099Z', 'connection_id': 'fcbdc894-1622-4f39-b8e5-2d65885b96b5', 'their_did': '5zVUHvZa3yiUsF5EBP6tHb', 'routing_state': 'none'} fcbdc894-1622-4f39-b8e5-2d65885b96b5\n"
     ]
    }
   ],
   "source": [
    "import qrcode\n",
    "# Link for connection invitation\n",
    "input_data = inviteURL\n",
    "# Creating an instance of qrcode\n",
    "qr = qrcode.QRCode(\n",
    "        version=1,\n",
    "        box_size=10,\n",
    "        border=5)\n",
    "qr.add_data(input_data)\n",
    "qr.make(fit=True)\n",
    "img = qr.make_image(fill='black', back_color='white')\n",
    "img.save('issuer_agent_invite_QRcode.png')\n",
    "\n",
    "from IPython.display import Image\n",
    "Image(width=400, filename='./issuer_agent_invite_QRcode.png')"
   ]
  },
  {
   "cell_type": "markdown",
   "metadata": {},
   "source": [
    "## 8d. Check if established connection is in active state"
   ]
  },
  {
   "cell_type": "code",
   "execution_count": 9,
   "metadata": {},
   "outputs": [
    {
     "name": "stdout",
     "output_type": "stream",
     "text": [
      "\u001b[1m\u001b[35mCurrent state for ConnectionId fcbdc894-1622-4f39-b8e5-2d65885b96b5 is response\u001b[0m\n",
      "\u001b[1m\u001b[33mConnectionId fcbdc894-1622-4f39-b8e5-2d65885b96b5 is not in active state yet\u001b[0m\n",
      "\u001b[1m\u001b[34mTrust ping send to ConnectionId {'thread_id': '6b5e19f7-676b-4d09-b1a0-7f31b8216afb'} to activate connection\u001b[0m\n",
      "\u001b[1m\u001b[33mConnectionId fcbdc894-1622-4f39-b8e5-2d65885b96b5 is not in active state yet\u001b[0m\n",
      "Connection message {'their_label': 'Adam’s iPhone', 'invitation_mode': 'once', 'accept': 'auto', 'my_did': 'UHXeAsspVa6h3GkJ1LNuGW', 'initiator': 'self', 'created_at': '2020-09-17 12:27:13.568235Z', 'state': 'active', 'invitation_key': 'GTfprzYkzfYsEnjpFhhih2EjfeUAe78G1vzxpt9GmBYb', 'updated_at': '2020-09-17 12:27:50.999973Z', 'connection_id': 'fcbdc894-1622-4f39-b8e5-2d65885b96b5', 'their_did': '5zVUHvZa3yiUsF5EBP6tHb', 'routing_state': 'none'} fcbdc894-1622-4f39-b8e5-2d65885b96b5\n",
      "\u001b[1m\u001b[31mConnection fcbdc894-1622-4f39-b8e5-2d65885b96b5 changed state to active\u001b[0m\n",
      "\u001b[1m\u001b[34mTrust ping send to ConnectionId {'thread_id': '158905e4-cb8c-4252-a62e-9c2eef434fa6'} to activate connection\u001b[0m\n",
      "\u001b[1m\u001b[32mConnectionId: fcbdc894-1622-4f39-b8e5-2d65885b96b5 is now active. Continue with notebook\u001b[0m\n"
     ]
    }
   ],
   "source": [
    "import time\n",
    "\n",
    "# print('Current state for ConnectionId {} is {}'.format(connection_id,STATE))\n",
    "print(colored(\"Current state for ConnectionId {} is {}\".format(connection_id,STATE), \"magenta\", attrs=[\"bold\"]))\n",
    "while STATE != 'active':\n",
    "#     print('ConnectionId {0} is not in active state yet'.format(connection_id))\n",
    "    print(colored(\"ConnectionId {0} is not in active state yet\".format(connection_id), \"yellow\", attrs=[\"bold\"]))\n",
    "    trust_ping = await agent_controller.messaging.trust_ping(connection_id,'hello!')\n",
    "#     print('Trust ping send to ConnectionId {0} to activate connection'.format(trust_ping))\n",
    "    print(colored(\"Trust ping send to ConnectionId {0} to activate connection\".format(trust_ping), \"blue\", attrs=[\"bold\"]))\n",
    "    time.sleep(5)\n",
    "    \n",
    "# print('ConnectionId: {0} is now active. Continue with notebook'.format(connection_id))\n",
    "print(colored(\"ConnectionId: {0} is now active. Continue with notebook\".format(connection_id), \"green\", attrs=[\"bold\"]))\n"
   ]
  },
  {
   "cell_type": "markdown",
   "metadata": {},
   "source": [
    "## 9. Send Credential\n",
    "\n",
    "This sends a credential to a identity holder (User), and automates the rest of the protocol.\n",
    "\n",
    "There are other ways to issue a credential that require multiple api calls.\n",
    "\n",
    "**Arguments**\n",
    "* connection_id: The connection_id of the holder you wish to issue to (MUST be in active state)\n",
    "* schema_id: The id of the schema you wish to issue\n",
    "* cred_def_id: The definition (public key) to sign the credential object. This must refer to the schema_id and be written to the ledger by the same public did that is currently being used by the agent.\n",
    "* attributes: A list of attribute objects as defined above. Must match the schema attributes.\n",
    "* comment (optional): Any string, defaults to \"\"\n",
    "* auto_remove (optional): Boolean, defaults to True. I believe this removes the record of this credential once it has been issued. (TODO: double check)\n",
    "* trace (optional): Boolean, defaults to False. **Not entirely sure about this one, believe its for logging. Also when set to True it throws an error**"
   ]
  },
  {
   "cell_type": "code",
   "execution_count": 11,
   "metadata": {},
   "outputs": [
    {
     "name": "stdout",
     "output_type": "stream",
     "text": [
      "{'issuer_did': 'T4WGdVSJPFTjXR9HXk4F5A', 'auto_remove': True, 'credential_proposal': {'@type': 'did:sov:BzCbsNYhMrjHiqZDTUASHg;spec/issue-credential/1.0/credential-preview', 'attributes': [{'name': 'fullname', 'value': 'Adam Hall'}, {'name': 'skill', 'value': 'PyDentity SSI Ninja'}, {'name': 'age', 'value': '22'}]}, 'connection_id': 'fcbdc894-1622-4f39-b8e5-2d65885b96b5', 'trace': False, 'comment': '', 'cred_def_id': 'T4WGdVSJPFTjXR9HXk4F5A:3:CL:142409:default', 'schema_id': 'EuEtnVakYFyBtGFT1nHYtH:2:SSI PyDentity Tutorial:0.0.1', 'schema_name': 'SSI PyDentity Tutorial', 'schema_version': '0.0.1', 'schema_issuer_did': 'EuEtnVakYFyBtGFT1nHYtH'}\n",
      "Credential exchange da696b1f-987e-4321-b362-e1df9da7bf21, role: issuer, state: offer_sent\n",
      "Handle Credentials\n",
      "Credential exchange da696b1f-987e-4321-b362-e1df9da7bf21, role: issuer, state: offer_sent\n",
      "Offering: [{'name': 'fullname', 'value': 'Adam Hall'}, {'name': 'skill', 'value': 'PyDentity SSI Ninja'}, {'name': 'age', 'value': '22'}]\n",
      "Handle Credentials\n",
      "Credential exchange da696b1f-987e-4321-b362-e1df9da7bf21, role: issuer, state: request_received\n",
      "Offering: [{'name': 'fullname', 'value': 'Adam Hall'}, {'name': 'skill', 'value': 'PyDentity SSI Ninja'}, {'name': 'age', 'value': '22'}]\n"
     ]
    }
   ],
   "source": [
    "record = await agent_controller.issuer.send_credential(connection_id, schema_id, cred_def_id, credential_attributes, trace=False)\n",
    "record_id = record['credential_exchange_id']\n",
    "state = record['state']\n",
    "role = record['role']\n",
    "print(f\"Credential exchange {record_id}, role: {role}, state: {state}\")\n"
   ]
  },
  {
   "cell_type": "markdown",
   "metadata": {},
   "source": [
    "## 10. Accept credential in Mobile SSI Wallet"
   ]
  },
  {
   "cell_type": "markdown",
   "metadata": {},
   "source": [
    "## 11. End of Tutorial\n",
    "\n",
    "Be sure to terminate the controller so you can run another tutorial."
   ]
  },
  {
   "cell_type": "code",
   "execution_count": 12,
   "metadata": {},
   "outputs": [
    {
     "name": "stdout",
     "output_type": "stream",
     "text": [
      "None\n"
     ]
    }
   ],
   "source": [
    "response = await agent_controller.terminate()\n",
    "print(response)"
   ]
  },
  {
   "cell_type": "markdown",
   "metadata": {},
   "source": [
    "# Proceed to Part 4 on [Verifier Notebook](http://127.0.0.1:8889/notebooks/Part%204%20-%20Verifier.ipynb)\n",
    "\n",
    "Here you will present the attributes issued to you within this tutorial to a verifying entity."
   ]
  },
  {
   "cell_type": "code",
   "execution_count": null,
   "metadata": {},
   "outputs": [],
   "source": []
  }
 ],
 "metadata": {
  "kernelspec": {
   "display_name": "Python 3",
   "language": "python",
   "name": "python3"
  },
  "language_info": {
   "codemirror_mode": {
    "name": "ipython",
    "version": 3
   },
   "file_extension": ".py",
   "mimetype": "text/x-python",
   "name": "python",
   "nbconvert_exporter": "python",
   "pygments_lexer": "ipython3",
   "version": "3.7.6"
  }
 },
 "nbformat": 4,
 "nbformat_minor": 1
}
