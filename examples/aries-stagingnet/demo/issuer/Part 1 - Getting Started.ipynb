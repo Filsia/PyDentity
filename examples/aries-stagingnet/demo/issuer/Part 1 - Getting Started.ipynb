{
 "cells": [
  {
   "cell_type": "markdown",
   "metadata": {},
   "source": [
    "# Getting Started - SSI in the \"Real World\""
   ]
  },
  {
   "cell_type": "markdown",
   "metadata": {},
   "source": [
    "We will work through the demo flow:\n",
    "* Exposing your agent to the world\n",
    "* Connecting the Issuer agent to Sovrin Stagingnet\n",
    "* Acceptance of the Transaction Author Agreement (TAA)\n",
    "* Ledgering Issuer agent DID, DIDDoc, Schema and Credential definitions to Sovrin Stagingnet\n",
    "* Making a connection between Issuer Agent and an Identity Holder's Mobile SSI Wallet\n",
    "* Issuing a credential to an Identity Holder's Mobile SSI Wallet\n",
    "* Making a connection between Verifier Agent and an Identity Holder's Mobile SSI Wallet\n",
    "* Requesting a proof from the Verifier agent to an Identity Holder's Mobile SSI Wallet\n",
    "* Verifiying the presentation proof by the Verifier agent\n",
    "* End of demo"
   ]
  },
  {
   "cell_type": "markdown",
   "metadata": {},
   "source": [
    "In previous tutorials all infrastructure was running on your own machine, this includes the issuer agent, verifier agent, indy network and indy ledger browser. For development and learning purposes it is sufficient, however to move into the \"real world\" of SSI we require the agents to be exposed to the internet and furthermore for the issuer agent and verifier agent to be connected to a global public utility such as Sovrin Stagingnet.\n",
    "\n",
    "The resulting agents in this demo are fully prepared to interact with other agents and the Sovrin Staging Net for Verifiable Credentials exchange."
   ]
  },
  {
   "cell_type": "markdown",
   "metadata": {},
   "source": [
    "## Step 1. Exposing your agent to the world\n",
    "\n",
    "### Disclaimer regarding the use of ngrok\n",
    "Both compose setups use the ngrok tunneling service to make your agent available to the outside world. One caveat of this, however, is that connections made from your docker agent will expire within 8 hours as a limitation of the ngrok free-tier. Therefore, these setups are intended for demonstration purposes only and should not be relied upon as is for production environments.\n",
    "\n",
    "### What is `ngrok`?\n",
    "Ngrok exposes local servers behind NATs and firewalls to the public internet over secure tunnels.\n",
    "\n",
    "Visit [ngrok](https://ngrok.com/) for more information.\n",
    "\n",
    "### What do we do with ngrok?\n",
    "We use ngrok to expose the issuer and verifier agents to the internet so that SSI Mobile Wallets and other agents on the internet can communicate with our agents running on our local machine."
   ]
  },
  {
   "cell_type": "markdown",
   "metadata": {},
   "source": [
    "## Step 2. Connecting the Issuer agent to Sovrin Stagingnet\n",
    "\n",
    "Only Issuing agents require writing to the ledger. To understand what goes onto the ledger refer to [this](https://www.evernym.com/wp-content/uploads/2017/07/What-Goes-On-The-Ledger.pdf) article.\n",
    "\n",
    "An extract from the article:\n",
    "> **Goes on Sovrin:**\n",
    "    * Public DIDs and associated DID documents with verification keys and endpoints.\n",
    "    * Schemas and credential definitions\n",
    "    * Revocation registries\n",
    "    * Agent authorisation policies\n",
    "> **Does not go on Sovrin:**\n",
    "    * Private DIDs\n",
    "    * Private credentials\n",
    "    * Consent receipts or data exchange records\n",
    "    \n",
    "As per the extract above, only **Issuers are required to write to the Sovrin ledger**. **Verifiers and Identity Holder don't need to write** to the Sovrin ledger, **but rather only read from the ledger**.\n",
    "\n",
    "To connect the Issuer agent to the Sovrin Stagingnet the following is required:\n",
    "* Providing the Sovrin Stagingnet Genesis file URL to the agent during startup with the `--genesis-url` startup parameter for Aca-Py. \n",
    "    * Sovrin Stagingnet genesis URL can be found [here](https://raw.githubusercontent.com/sovrin-foundation/sovrin/master/sovrin/pool_transactions_sandbox_genesis).\n",
    "    * For a complete list of Aca-Py startup parameters please refer to [this](https://github.com/hyperledger/aries-cloudagent-python/blob/25b7a9c08921e67b0962c434102489884ac403b2/aries_cloudagent/config/argparse.py) link.\n",
    "* Ensure that agent is exposed to the internet with `ngrok`\n",
    "\n",
    "Both of these are already taken care off by the `example/aries-stagingnet` docker environment and in the [Part 2- Connecting Issuer Agent to Sovrin Stagingnet](http://127.0.0.1:8888/notebooks/Part%202%20-%20Connecting%20Issuer%20Agent%20to%20Sovrin%20Stagingnet.ipynb) notebook."
   ]
  },
  {
   "cell_type": "markdown",
   "metadata": {},
   "source": [
    "## Step 3. Acceptance of the Transaction Author Agreement (TAA)\n",
    "\n",
    "Although the ledger is permissionless, before DID's have the authority to write to the ledger they must accept something called a transaction author agreement by signing it using that DID.\n",
    "\n",
    "As a global public ledger, the Sovrin Ledger and all its participants are subject to privacy and data protection regulations such as the EU General Data Protection Regulation (GDPR). These regulations require that the participants be explicit about responsibilities for Personal Data.\n",
    "\n",
    "To clarify these responsibilities and provide protection for all parties, the Sovrin Governance Framework Working Group developed an agreement between Transaction Authors and the Sovrin Foundation. It ensures that users are aware of and consent to the fact that all data written to the Sovrin Ledger cannot be removed, even if the original author of the transaction requests its removal. - source: https://www.evernym.com/taa/\n",
    "\n",
    "To clarify these responsibilities and provide protection for all parties, the Sovrin Governance Framework Working Group developed an agreement between Transaction Authors and the Sovrin Foundation. The TAA can be found at Sovrin.org. It ensures that users are aware of and consent to the fact that all data written to the Sovrin Ledger cannot be removed, even if the original author of the transaction requests its removal.\n",
    "\n",
    "The TAA outlines the policies that users must follow when interacting with the Sovrin Ledger. When a user’s client software is preparing a transaction for submission to the network, it must include a demonstration that the user had the opportunity to review the current TAA and accept it. This is done by including some additional fields in the ledger write transaction: \n",
    "\n",
    "* A hash of the agreement\n",
    "* A date when the agreement was accepted, and\n",
    "* A string indicating the user interaction that was followed to obtain the acceptance.\n",
    "\n",
    "The Indy client API used by Sovrin has been extended to allow users to review current and past agreements and to indicate acceptance through an approved user interaction pattern. - source: https://sovrin.org/preparing-for-the-sovrin-transaction-author-agreement/\n",
    "\n",
    "For more details on TAA please read more at the following links:\n",
    "* [Preparing for the Sovrin Transaction Author Agreement](https://sovrin.org/preparing-for-the-sovrin-transaction-author-agreement/)\n",
    "* [How the recent approval of the Sovrin Governance Framework v2 affects Transaction Authors\n",
    "](https://sovrin.org/how-the-recent-approval-of-the-sovrin-governance-framework-v2-affects-transaction-authors/)\n",
    "* [TAA v2](https://github.com/sovrin-foundation/sovrin/blob/master/TAA/TAA.md)\n",
    "* [TAA Acceptance Mechanism List (AML)](https://github.com/sovrin-foundation/sovrin/blob/master/TAA/AML.md)\n",
    "\n",
    "The TAA is handled in the [Part 2- Connecting Issuer Agent to Sovrin Stagingnet](http://127.0.0.1:8888/notebooks/Part%202%20-%20Connecting%20Issuer%20Agent%20to%20Sovrin%20Stagingnet.ipynb) notebook."
   ]
  },
  {
   "cell_type": "markdown",
   "metadata": {},
   "source": [
    "## Step 4. Ledgering Issuer agent DID, DIDDoc, Schema and Credential definitions to Sovrin Stagingnet\n",
    "\n",
    "The Issuer agent will have no DID created at startup. \n",
    "This is to show the process of:\n",
    "* generating a DID\n",
    "* writing the newly created DID to Sovrin Stagingnet through the [Sovrin Selfserve Portal](https://selfserve.sovrin.org)\n",
    "* accepting the TAA\n",
    "* setting the agents public DID.\n",
    "\n",
    "All this is achieved in the [Part 2- Connecting Issuer Agent to Sovrin Stagingnet](http://127.0.0.1:8888/notebooks/Part%202%20-%20Connecting%20Issuer%20Agent%20to%20Sovrin%20Stagingnet.ipynb) notebook."
   ]
  },
  {
   "cell_type": "markdown",
   "metadata": {},
   "source": [
    "## Step 5. Making a connection between Issuer Agent and an Identity Holder's Mobile SSI Wallet\n",
    "\n",
    "To make a connection with an identity holders wallet we must create a connection invitation and present the QR code to be scanned by the identity holders wallet. The identity holder scan this QR code and then communicate back to the agent through the exposed ngrok endpoint.\n",
    "\n",
    "Once a connection is in an `active state`, the agent and the identity holders mobile wallet now have a secure pairwise relationship over which they can exchange verifiable credentials.\n",
    "\n",
    "An example of a QR code can be seen below.\n",
    "\n",
    "All this is achieved in the [Part 3 - Issuer](http://127.0.0.1:8888/notebooks/Part%203%20-%20Issuer.ipynb) notebook."
   ]
  },
  {
   "cell_type": "code",
   "execution_count": 3,
   "metadata": {},
   "outputs": [
    {
     "data": {
      "image/png": "[encoded data removed]",
      "text/plain": [
       "<IPython.core.display.Image object>"
      ]
     },
     "execution_count": 3,
     "metadata": {
      "image/png": {
       "width": 400
      }
     },
     "output_type": "execute_result"
    }
   ],
   "source": [
    "from IPython.display import Image\n",
    "Image(width=400, filename='./issuer_agent_invite_QRcode.png')"
   ]
  },
  {
   "cell_type": "markdown",
   "metadata": {},
   "source": [
    "## Step 6. Issuing a credential to an Identity Holder's Mobile SSI Wallet\n",
    "\n",
    "Once a connection is established between the Issuer agent and the identity holder's mobile wallet we are able to issue a credential to the identity holder.\n",
    "\n",
    "We will issue a credential to the identity holder consisting of the following attributes:\n",
    "~~~~\n",
    "credential_attributes = [\n",
    "    {\"name\": \"fullname\", \"value\": name},\n",
    "    {\"name\": \"skill\", \"value\": \"PyDentity SSI Ninja\"},\n",
    "    {\"name\": \"age\", \"value\": age}\n",
    "]\n",
    "~~~~\n",
    "\n",
    "The Issuer agent will be asked to input the identity holder's full name and age which will be used to populate the schema above with the identity holders attribute information.\n",
    "\n",
    "Once this step is complete the identity holder will have a credential in his wallet that will be requested as a proof by the verifier agent."
   ]
  },
  {
   "cell_type": "markdown",
   "metadata": {},
   "source": [
    "## Step 7. Making a connection between Verifier Agent and an Identity Holder's Mobile SSI Wallet\n",
    "\n",
    "To make a connection with an identity holders wallet we must create a connection invitation and present the QR code to be scanned by the identity holders wallet. The identity holder scan this QR code and then communicate back to the agent through the exposed ngrok endpoint.\n",
    "\n",
    "Once a connection is in an `active state`, the agent and the identity holders mobile wallet now have a secure pairwise relationship over which they can exchange verifiable credentials.\n",
    "\n",
    "All this is achieved in the [Part 4 - Verifier](http://127.0.0.1:8889/notebooks/Part%204%20-%20Verifier.ipynb) notebook."
   ]
  },
  {
   "cell_type": "markdown",
   "metadata": {},
   "source": [
    "## Step 8. Requesting a proof from the Verifier agent to an Identity Holder's Mobile SSI Wallet\n",
    "\n",
    "The verifier will request a proof from the identity holder for the following attributes:\n",
    "* fullname\"\n",
    "* \"skill\"\n",
    "* \"country\" - self-attested\n",
    "* \"age\" - as a predicate range proof to determine if the identity holder is older than 21\n",
    "\n",
    "Below is the proof request JSON object that will be used to generate the proof request.\n",
    "As can be seen from the JSON object below, we included restrictions that only credentials issued against a specific `schema_id = 'EuEtnVakYFyBtGFT1nHYtH:2:SSI PyDentity Tutorial:0.0.1` will be allowed.\n",
    "\n",
    "If you decided to ledger your own schema as part of Section 3c in [Part 3 - Issuer](http://127.0.0.1:8888/notebooks/Part%203%20-%20Issuer.ipynb) notebook you will need to update the `schema_id` in Section 5a in [Part 4 - Verifier](http://127.0.0.1:8889/notebooks/Part%204%20-%20Verifier.ipynb) notebook.\n",
    "~~~~\n",
    "schema_id = 'EuEtnVakYFyBtGFT1nHYtH:2:SSI PyDentity Tutorial:0.0.1'\n",
    "\n",
    "print(\"Request proof of Fullname and Age range from Identity Holder\")\n",
    "#Set some variables\n",
    "\n",
    "revocation = False\n",
    "SELF_ATTESTED = True\n",
    "exchange_tracing = False\n",
    "\n",
    "#Enable this to ask for attributes to identity a user\n",
    "#TODO - change restriction to schemaId or credentialId\n",
    "\n",
    "req_attrs = [\n",
    "    {\"name\": \"fullname\", \"restrictions\": [{\"schema_id\": schema_id}]},\n",
    "    {\"name\": \"skill\", \"restrictions\": [{\"schema_id\": schema_id}]},\n",
    "]\n",
    "\n",
    "if revocation:\n",
    "    req_attrs.append(\n",
    "        {\n",
    "            \"name\": \"skill\",\n",
    "            \"restrictions\": [{\"schema_id\": schema_id}],\n",
    "            \"non_revoked\": {\"to\": int(time.time() - 1)},\n",
    "        },\n",
    "    )\n",
    "\n",
    "if SELF_ATTESTED:\n",
    "    # test self-attested claims\n",
    "    req_attrs.append({\"name\": \"country\"},)\n",
    "\n",
    "#Set predicates for Zero Knowledge Proofs\n",
    "req_preds = [\n",
    "    # test zero-knowledge proofs\n",
    "    {\n",
    "        \"name\": \"age\",\n",
    "        \"p_type\": \">=\",\n",
    "        \"p_value\": 21,\n",
    "        \"restrictions\": [{\"schema_id\": schema_id}],\n",
    "    }\n",
    "]\n",
    "~~~~\n"
   ]
  },
  {
   "cell_type": "markdown",
   "metadata": {},
   "source": [
    "## Step 9. Verifiying the presentation proof by the Verifier agent\n",
    "\n",
    "Once the proof request is processed by the identity holder and send to the verifier agent the last step is to verify the credential received. For this the verifier agent will be required to read from the Sovrin Stagingnet the DID document for the Issuer agent to verify the authenticity of the presented credential.\n",
    "\n",
    "This is achieved in section 6 of the [Part 4 - Verifier](http://127.0.0.1:8889/notebooks/Part%204%20-%20Verifier.ipynb) notebook."
   ]
  },
  {
   "cell_type": "markdown",
   "metadata": {},
   "source": [
    "## Step 9. End of demo"
   ]
  },
  {
   "cell_type": "markdown",
   "metadata": {},
   "source": [
    "Well done on completing the PyDentity SSI tutorials! \n",
    "\n",
    "You should now have a good understanding of SSI from a development perspective using `Aca-Py`, `Aries-basic-controller` and `Python`."
   ]
  },
  {
   "cell_type": "code",
   "execution_count": null,
   "metadata": {},
   "outputs": [],
   "source": []
  }
 ],
 "metadata": {
  "kernelspec": {
   "display_name": "Python 3",
   "language": "python",
   "name": "python3"
  },
  "language_info": {
   "codemirror_mode": {
    "name": "ipython",
    "version": 3
   },
   "file_extension": ".py",
   "mimetype": "text/x-python",
   "name": "python",
   "nbconvert_exporter": "python",
   "pygments_lexer": "ipython3",
   "version": "3.7.6"
  }
 },
 "nbformat": 4,
 "nbformat_minor": 4
}
