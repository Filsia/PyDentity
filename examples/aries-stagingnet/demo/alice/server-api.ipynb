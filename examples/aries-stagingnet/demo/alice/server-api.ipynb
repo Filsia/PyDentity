{
 "cells": [
  {
   "cell_type": "markdown",
   "metadata": {},
   "source": [
    "# Aries Basic Controller\n",
    "\n",
    "## Server"
   ]
  },
  {
   "cell_type": "code",
   "execution_count": null,
   "metadata": {},
   "outputs": [],
   "source": [
    "%autoawait\n",
    "import time\n",
    "import asyncio\n",
    "from aries_basic_controller.aries_controller import AriesAgentController\n",
    "    \n",
    "WEBHOOK_HOST = \"0.0.0.0\"\n",
    "WEBHOOK_PORT = 8022\n",
    "WEBHOOK_BASE = \"\"\n",
    "ADMIN_URL = \"http://alice-agent:8021\"\n",
    "\n",
    "# Based on the aca-py agent you wish to control\n",
    "agent_controller = AriesAgentController(webhook_host=WEBHOOK_HOST, webhook_port=WEBHOOK_PORT,\n",
    "                                       webhook_base=WEBHOOK_BASE, admin_url=ADMIN_URL)"
   ]
  },
  {
   "cell_type": "markdown",
   "metadata": {},
   "source": [
    "## Get Plugins\n",
    "\n",
    "This function shows you the set of protocols your aries agent supports."
   ]
  },
  {
   "cell_type": "code",
   "execution_count": 3,
   "metadata": {},
   "outputs": [
    {
     "name": "stdout",
     "output_type": "stream",
     "text": [
      "{'result': ['aries_cloudagent.holder', 'aries_cloudagent.ledger', 'aries_cloudagent.messaging.credential_definitions', 'aries_cloudagent.messaging.schemas', 'aries_cloudagent.protocols.actionmenu', 'aries_cloudagent.protocols.basicmessage', 'aries_cloudagent.protocols.connections', 'aries_cloudagent.protocols.discovery', 'aries_cloudagent.protocols.introduction', 'aries_cloudagent.protocols.issue_credential', 'aries_cloudagent.protocols.out_of_band', 'aries_cloudagent.protocols.present_proof', 'aries_cloudagent.protocols.problem_report', 'aries_cloudagent.protocols.routing', 'aries_cloudagent.protocols.trustping', 'aries_cloudagent.revocation', 'aries_cloudagent.wallet']}\n"
     ]
    }
   ],
   "source": [
    "plugins = await agent_controller.server.get_plugins()\n",
    "print(plugins)"
   ]
  },
  {
   "cell_type": "markdown",
   "metadata": {},
   "source": [
    "## Get Status\n",
    "\n",
    "This function provides some information about the current status of the agent. It's versions and current tasks done to date."
   ]
  },
  {
   "cell_type": "code",
   "execution_count": 6,
   "metadata": {},
   "outputs": [
    {
     "name": "stdout",
     "output_type": "stream",
     "text": [
      "{'version': '0.5.2', 'conductor': {'in_sessions': 0, 'out_encode': 0, 'out_deliver': 0, 'task_active': 1, 'task_done': 37, 'task_failed': 3, 'task_pending': 0}}\n"
     ]
    }
   ],
   "source": [
    "status = await agent_controller.server.get_status()\n",
    "print(status)"
   ]
  },
  {
   "cell_type": "markdown",
   "metadata": {},
   "source": [
    "## Reset Status\n",
    "\n",
    "This can be used to reset the current status of the agent. \n",
    "\n",
    "**Note: Not actually sure what this does. Would expect it to revert the number of tasks the get_status() method says the agent has done**"
   ]
  },
  {
   "cell_type": "code",
   "execution_count": 8,
   "metadata": {},
   "outputs": [
    {
     "name": "stdout",
     "output_type": "stream",
     "text": [
      "{}\n"
     ]
    }
   ],
   "source": [
    "reset = await agent_controller.server.reset_status()\n",
    "print(reset)"
   ]
  },
  {
   "cell_type": "code",
   "execution_count": 9,
   "metadata": {},
   "outputs": [
    {
     "name": "stdout",
     "output_type": "stream",
     "text": [
      "{'version': '0.5.2', 'conductor': {'in_sessions': 0, 'out_encode': 0, 'out_deliver': 0, 'task_active': 1, 'task_done': 40, 'task_failed': 3, 'task_pending': 0}}\n"
     ]
    }
   ],
   "source": [
    "status = await agent_controller.server.get_status()\n",
    "print(status)"
   ]
  },
  {
   "cell_type": "markdown",
   "metadata": {},
   "source": [
    "## Get Features\n",
    "\n",
    "Returns a list of did comm protocol features the agent supports (I think)"
   ]
  },
  {
   "cell_type": "code",
   "execution_count": 10,
   "metadata": {},
   "outputs": [
    {
     "name": "stdout",
     "output_type": "stream",
     "text": [
      "{'results': {'did:sov:BzCbsNYhMrjHiqZDTUASHg;spec/action-menu/1.0': {}, 'did:sov:BzCbsNYhMrjHiqZDTUASHg;spec/trust_ping/1.0': {}, 'https://didcomm.org/routing/1.0': {}, 'https://didcomm.org/introduction-service/0.1': {}, 'did:sov:BzCbsNYhMrjHiqZDTUASHg;spec/connections/1.0': {}, 'https://didcomm.org/present-proof/1.0': {}, 'https://didcomm.org/discover-features/1.0': {}, 'did:sov:BzCbsNYhMrjHiqZDTUASHg;spec/notification/1.0': {}, 'https://didcomm.org/issue-credential/1.0': {}, 'https://didcomm.org/notification/1.0': {}, 'https://didcomm.org/out-of-band/1.0': {}, 'https://didcomm.org/connections/1.0': {}, 'https://didcomm.org/basicmessage/1.0': {}, 'did:sov:BzCbsNYhMrjHiqZDTUASHg;spec/routing/1.0': {}, 'https://didcomm.org/action-menu/1.0': {}, 'did:sov:BzCbsNYhMrjHiqZDTUASHg;spec/present-proof/1.0': {}, 'did:sov:BzCbsNYhMrjHiqZDTUASHg;spec/discover-features/1.0': {}, 'did:sov:BzCbsNYhMrjHiqZDTUASHg;spec/introduction-service/0.1': {}, 'did:sov:BzCbsNYhMrjHiqZDTUASHg;spec/basicmessage/1.0': {}, 'did:sov:BzCbsNYhMrjHiqZDTUASHg;spec/issue-credential/1.0': {}, 'https://didcomm.org/trust_ping/1.0': {}}}\n"
     ]
    }
   ],
   "source": [
    "features = await agent_controller.server.get_features()\n",
    "print(features)"
   ]
  },
  {
   "cell_type": "markdown",
   "metadata": {},
   "source": [
    "## End of Tutorial\n",
    "\n",
    "Be sure to terminate the controller"
   ]
  },
  {
   "cell_type": "code",
   "execution_count": null,
   "metadata": {},
   "outputs": [],
   "source": [
    "response = await agent_controller.terminate()\n",
    "print(response)"
   ]
  }
 ],
 "metadata": {
  "kernelspec": {
   "display_name": "Python 3",
   "language": "python",
   "name": "python3"
  },
  "language_info": {
   "codemirror_mode": {
    "name": "ipython",
    "version": 3
   },
   "file_extension": ".py",
   "mimetype": "text/x-python",
   "name": "python",
   "nbconvert_exporter": "python",
   "pygments_lexer": "ipython3",
   "version": "3.7.6"
  }
 },
 "nbformat": 4,
 "nbformat_minor": 4
}
