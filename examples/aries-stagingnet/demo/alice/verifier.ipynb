{
 "cells": [
  {
   "cell_type": "markdown",
   "metadata": {},
   "source": [
    "# Aries Basic Controller - Alice\n",
    "\n",
    "## This notebook works through the present proof protocol from the Verifier's perspective, it should be run alongside the prover notebook from Bob's perspective. \n",
    "\n",
    "## Before running through these two notebooks you should run through the Issuer/Holder flow found in these two notebooks - [issuer](http://localhost:8888/notebooks/issuer.ipynb) [holder](http://localhost:8889/notebooks/holder.ipynb).\n",
    "\n",
    "If unfamiliar with the present-proof protocol it is worth reading through the [aries-rfs](https://github.com/hyperledger/aries-rfcs/tree/master/features/0037-present-proof)\n"
   ]
  },
  {
   "cell_type": "markdown",
   "metadata": {
    "pycharm": {
     "name": "#%%\n"
    }
   },
   "source": [
    "## 1. Instatiate Controller for Alice's Agent"
   ]
  },
  {
   "cell_type": "code",
   "execution_count": 1,
   "metadata": {
    "pycharm": {
     "name": "#%%\n"
    }
   },
   "outputs": [
    {
     "name": "stdout",
     "output_type": "stream",
     "text": [
      "IPython autoawait is `on`, and set to use `asyncio`\n"
     ]
    }
   ],
   "source": [
    "%autoawait\n",
    "import time\n",
    "import asyncio\n",
    "from aries_basic_controller.aries_controller import AriesAgentController\n",
    "\n",
    "WEBHOOK_HOST = \"0.0.0.0\"\n",
    "WEBHOOK_PORT = 8022\n",
    "WEBHOOK_BASE = \"\"\n",
    "ADMIN_URL = \"http://alice-agent:8021\"\n",
    "\n",
    "# Based on the aca-py agent you wish to control\n",
    "alice_agent_controller = AriesAgentController(webhook_host=WEBHOOK_HOST, webhook_port=WEBHOOK_PORT,\n",
    "                                       webhook_base=WEBHOOK_BASE, admin_url=ADMIN_URL)\n"
   ]
  },
  {
   "cell_type": "markdown",
   "metadata": {},
   "source": [
    "## 2. Register Listeners\n",
    "\n",
    "The handler should get called every time the controller receives a webhook with the topic present_proof, printing out the payload. The agent calls to this webhook every time it receives a present proof protocol message from another agent. \n",
    "\n",
    "The code for this protocol can be found [here](https://github.com/hyperledger/aries-cloudagent-python/tree/master/aries_cloudagent/protocols/issue_credential)."
   ]
  },
  {
   "cell_type": "code",
   "execution_count": 2,
   "metadata": {
    "pycharm": {
     "name": "#%%\n"
    }
   },
   "outputs": [],
   "source": [
    "loop = asyncio.get_event_loop()\n",
    "loop.create_task(alice_agent_controller.listen_webhooks())\n",
    "\n",
    "def proof_handler(payload):\n",
    "    print(\"Handle present proof\")\n",
    "    print(payload)\n",
    "\n",
    "proof_listener = {\n",
    "    \"topic\": \"present_proof\",\n",
    "    \"handler\": proof_handler\n",
    "}\n",
    "alice_agent_controller.register_listeners([proof_listener], defaults=True)\n"
   ]
  },
  {
   "cell_type": "markdown",
   "metadata": {},
   "source": [
    "## 3. Check the agent has an active connection\n",
    "\n",
    "**Note: An active connection is required, this should have been established on start up through the python script create_connection.py in the setup folder. If not it is possible to run through the did-exchange tutorial to create one between Alice and Bob**\n",
    "\n",
    "* [Alice](http://localhost:8888/notebooks/did-exchange-inviter.ipynb)\n",
    "* [Bob](http://localhost:8889/notebooks/did-exchange-invitee.ipynb)"
   ]
  },
  {
   "cell_type": "code",
   "execution_count": 3,
   "metadata": {
    "pycharm": {
     "name": "#%%\n"
    }
   },
   "outputs": [
    {
     "name": "stdout",
     "output_type": "stream",
     "text": [
      "Results :  [{'my_did': '6fgDnPSBh5gXgupAqGAH4h', 'their_label': 'Bob', 'initiator': 'external', 'created_at': '2020-09-03 11:22:06.585012Z', 'invitation_key': 'H1AHmexKtYx4bZbd257NCGdHcYXQsRmY419zLvT28Adw', 'routing_state': 'none', 'state': 'active', 'updated_at': '2020-09-03 11:22:18.709593Z', 'accept': 'manual', 'invitation_mode': 'once', 'request_id': '4be6a88c-3dec-4f3b-aac8-724e4369f7a7', 'connection_id': '4a3bfb5d-483c-4ba3-b7f8-3755d09a3fb9', 'their_did': 'L7arMaEZQCbJq1eTCmL1pu'}]\n",
      "\n",
      "\n",
      "Connection : {'my_did': '6fgDnPSBh5gXgupAqGAH4h', 'their_label': 'Bob', 'initiator': 'external', 'created_at': '2020-09-03 11:22:06.585012Z', 'invitation_key': 'H1AHmexKtYx4bZbd257NCGdHcYXQsRmY419zLvT28Adw', 'routing_state': 'none', 'state': 'active', 'updated_at': '2020-09-03 11:22:18.709593Z', 'accept': 'manual', 'invitation_mode': 'once', 'request_id': '4be6a88c-3dec-4f3b-aac8-724e4369f7a7', 'connection_id': '4a3bfb5d-483c-4ba3-b7f8-3755d09a3fb9', 'their_did': 'L7arMaEZQCbJq1eTCmL1pu'}\n",
      "\n",
      "Active Connection ID :  4a3bfb5d-483c-4ba3-b7f8-3755d09a3fb9\n"
     ]
    }
   ],
   "source": [
    "try:\n",
    "    response = await alice_agent_controller.connections.get_connections()\n",
    "    results = response['results']\n",
    "    print(\"Results : \", results)\n",
    "    print('\\n')\n",
    "    if len(results) > 0:\n",
    "        connection = response['results'][0]\n",
    "        print(\"Connection :\", connection)\n",
    "        if connection['state'] == 'active':\n",
    "            connection_id = connection[\"connection_id\"]\n",
    "            print(\"\\nActive Connection ID : \", connection_id)\n",
    "        else:\n",
    "            print(\"\\nNo active connection found - wait a bit and execute again\")\n",
    "    else:\n",
    "        print(\"You must create a connection\")\n",
    "except ConnectionRefusedError as e:\n",
    "    print(repr(e))"
   ]
  },
  {
   "cell_type": "markdown",
   "metadata": {},
   "source": [
    "## 4. Continue in [prover](http://localhost:8889/notebooks/prover.ipynb) Notebook"
   ]
  },
  {
   "cell_type": "markdown",
   "metadata": {},
   "source": [
    "## 7. Send Proof Request\n",
    "\n",
    "Request a proof of Opemined community member to prove community membership.\n",
    "\n"
   ]
  },
  {
   "cell_type": "markdown",
   "metadata": {},
   "source": [
    "### 7.1. First we build the request object, a json. In the future we aim to develop a builder class that abstracts this away.\n",
    "\n",
    "### TODO add better documentation to this whole process. Design for someome who has no idea what a proof request is. Hopefully the builder class will make that easier?\n",
    "\n",
    "### Easy step for now would be to split up the sections and document each bit. Like the req_attrs. and req_preds. What restrictions are available etx."
   ]
  },
  {
   "cell_type": "code",
   "execution_count": 6,
   "metadata": {
    "pycharm": {
     "name": "#%%\n"
    }
   },
   "outputs": [
    {
     "name": "stdout",
     "output_type": "stream",
     "text": [
      "{'result': {'did': 'PQRXDxdGqQGSZ8z69p4xZP', 'verkey': 'DDEKJtBjzaXAJtpwetdPiXH5s4rNUEzG18V15QoLRcZZ', 'public': 'true'}}\n",
      "Request proof of Name and Age range from Bob\n"
     ]
    }
   ],
   "source": [
    "response = await alice_agent_controller.wallet.get_public_did()\n",
    "print(response)\n",
    "issuer_did = response[\"result\"][\"did\"]\n",
    "\n",
    "print(\"Request proof of Name and Age range from Bob\")\n",
    "#Set some variables\n",
    "\n",
    "revocation = False\n",
    "SELF_ATTESTED = True\n",
    "exchange_tracing = False\n",
    "\n",
    "#Enable this to ask for attributes to identity a user\n",
    "req_attrs = [\n",
    "    {\"name\": \"name\", \"restrictions\": [{\"issuer_did\": issuer_did}]},\n",
    "    {\"name\": \"skill\", \"restrictions\": [{\"issuer_did\": issuer_did}]},\n",
    "]\n",
    "\n",
    "if revocation:\n",
    "    req_attrs.append(\n",
    "        {\n",
    "            \"name\": \"skill\",\n",
    "            \"restrictions\": [{\"issuer_did\": agent.did}],\n",
    "            \"non_revoked\": {\"to\": int(time.time() - 1)},\n",
    "        },\n",
    "    )\n",
    "\n",
    "if SELF_ATTESTED:\n",
    "    # test self-attested claims\n",
    "    req_attrs.append({\"name\": \"country\"},)\n",
    "\n",
    "#Set predicates for Zero Knowledge Proofs\n",
    "req_preds = [\n",
    "    # test zero-knowledge proofs\n",
    "    {\n",
    "        \"name\": \"age\",\n",
    "        \"p_type\": \">=\",\n",
    "        \"p_value\": 21,\n",
    "        \"restrictions\": [{\"issuer_did\": issuer_did}],\n",
    "    }\n",
    "]\n",
    "\n",
    "indy_proof_request = {\n",
    "    \"name\": \"Proof of Personal Information\",\n",
    "    \"version\": \"1.0\",\n",
    "    \"requested_attributes\": {\n",
    "        f\"0_{req_attr['name']}_uuid\":\n",
    "        req_attr for req_attr in req_attrs\n",
    "    },\n",
    "    \"requested_predicates\": {\n",
    "        f\"0_{req_pred['name']}_GE_uuid\":\n",
    "        req_pred for req_pred in req_preds\n",
    "    },\n",
    "}\n",
    "\n",
    "if revocation:\n",
    "    indy_proof_request[\"non_revoked\"] = {\"to\": int(time.time())}\n",
    "\n",
    "#proof_request = indy_proof_request\n",
    "exchange_tracing_id = exchange_tracing\n",
    "proof_request_web_request = {\n",
    "    \"connection_id\": connection_id,\n",
    "    \"proof_request\": indy_proof_request,\n",
    "    \"trace\": exchange_tracing,\n",
    "}"
   ]
  },
  {
   "cell_type": "markdown",
   "metadata": {},
   "source": [
    "### 7.2. Send the proof request to Bob\n",
    "\n",
    "Bob is identified through the connection_id"
   ]
  },
  {
   "cell_type": "code",
   "execution_count": 7,
   "metadata": {
    "pycharm": {
     "name": "#%%\n"
    }
   },
   "outputs": [
    {
     "name": "stdout",
     "output_type": "stream",
     "text": [
      "{'thread_id': 'd0dec549-b119-4f05-9384-1edfcd634bc5', 'presentation_request': {'name': 'Proof of Personal Information', 'version': '1.0', 'requested_attributes': {'0_name_uuid': {'name': 'name', 'restrictions': [{'issuer_did': 'PQRXDxdGqQGSZ8z69p4xZP'}]}, '0_skill_uuid': {'name': 'skill', 'restrictions': [{'issuer_did': 'PQRXDxdGqQGSZ8z69p4xZP'}]}, '0_country_uuid': {'name': 'country'}}, 'requested_predicates': {'0_age_GE_uuid': {'name': 'age', 'p_type': '>=', 'p_value': 21, 'restrictions': [{'issuer_did': 'PQRXDxdGqQGSZ8z69p4xZP'}]}}, 'nonce': '1012453674509974792060177'}, 'auto_present': False, 'initiator': 'self', 'created_at': '2020-09-03 11:59:11.247203Z', 'state': 'request_sent', 'updated_at': '2020-09-03 11:59:11.247203Z', 'presentation_exchange_id': '9b98163e-8973-41cc-963e-1c1454ba9b82', 'trace': False, 'presentation_request_dict': {'@type': 'did:sov:BzCbsNYhMrjHiqZDTUASHg;spec/present-proof/1.0/request-presentation', '@id': 'd0dec549-b119-4f05-9384-1edfcd634bc5', 'request_presentations~attach': [{'@id': 'libindy-request-presentation-0', 'mime-type': 'application/json', 'data': {'base64': 'eyJuYW1lIjogIlByb29mIG9mIFBlcnNvbmFsIEluZm9ybWF0aW9uIiwgInZlcnNpb24iOiAiMS4wIiwgInJlcXVlc3RlZF9hdHRyaWJ1dGVzIjogeyIwX25hbWVfdXVpZCI6IHsibmFtZSI6ICJuYW1lIiwgInJlc3RyaWN0aW9ucyI6IFt7Imlzc3Vlcl9kaWQiOiAiUFFSWER4ZEdxUUdTWjh6NjlwNHhaUCJ9XX0sICIwX3NraWxsX3V1aWQiOiB7Im5hbWUiOiAic2tpbGwiLCAicmVzdHJpY3Rpb25zIjogW3siaXNzdWVyX2RpZCI6ICJQUVJYRHhkR3FRR1NaOHo2OXA0eFpQIn1dfSwgIjBfY291bnRyeV91dWlkIjogeyJuYW1lIjogImNvdW50cnkifX0sICJyZXF1ZXN0ZWRfcHJlZGljYXRlcyI6IHsiMF9hZ2VfR0VfdXVpZCI6IHsibmFtZSI6ICJhZ2UiLCAicF90eXBlIjogIj49IiwgInBfdmFsdWUiOiAyMSwgInJlc3RyaWN0aW9ucyI6IFt7Imlzc3Vlcl9kaWQiOiAiUFFSWER4ZEdxUUdTWjh6NjlwNHhaUCJ9XX19LCAibm9uY2UiOiAiMTAxMjQ1MzY3NDUwOTk3NDc5MjA2MDE3NyJ9'}}]}, 'connection_id': '4a3bfb5d-483c-4ba3-b7f8-3755d09a3fb9', 'role': 'verifier'}\n",
      "\n",
      "\n",
      "9b98163e-8973-41cc-963e-1c1454ba9b82\n",
      "Handle present proof\n",
      "{'thread_id': 'd0dec549-b119-4f05-9384-1edfcd634bc5', 'presentation_request': {'name': 'Proof of Personal Information', 'version': '1.0', 'requested_attributes': {'0_name_uuid': {'name': 'name', 'restrictions': [{'issuer_did': 'PQRXDxdGqQGSZ8z69p4xZP'}]}, '0_skill_uuid': {'name': 'skill', 'restrictions': [{'issuer_did': 'PQRXDxdGqQGSZ8z69p4xZP'}]}, '0_country_uuid': {'name': 'country'}}, 'requested_predicates': {'0_age_GE_uuid': {'name': 'age', 'p_type': '>=', 'p_value': 21, 'restrictions': [{'issuer_did': 'PQRXDxdGqQGSZ8z69p4xZP'}]}}, 'nonce': '1012453674509974792060177'}, 'auto_present': False, 'initiator': 'self', 'created_at': '2020-09-03 11:59:11.247203Z', 'state': 'request_sent', 'updated_at': '2020-09-03 11:59:11.247203Z', 'presentation_exchange_id': '9b98163e-8973-41cc-963e-1c1454ba9b82', 'trace': False, 'presentation_request_dict': {'@type': 'did:sov:BzCbsNYhMrjHiqZDTUASHg;spec/present-proof/1.0/request-presentation', '@id': 'd0dec549-b119-4f05-9384-1edfcd634bc5', 'request_presentations~attach': [{'@id': 'libindy-request-presentation-0', 'mime-type': 'application/json', 'data': {'base64': 'eyJuYW1lIjogIlByb29mIG9mIFBlcnNvbmFsIEluZm9ybWF0aW9uIiwgInZlcnNpb24iOiAiMS4wIiwgInJlcXVlc3RlZF9hdHRyaWJ1dGVzIjogeyIwX25hbWVfdXVpZCI6IHsibmFtZSI6ICJuYW1lIiwgInJlc3RyaWN0aW9ucyI6IFt7Imlzc3Vlcl9kaWQiOiAiUFFSWER4ZEdxUUdTWjh6NjlwNHhaUCJ9XX0sICIwX3NraWxsX3V1aWQiOiB7Im5hbWUiOiAic2tpbGwiLCAicmVzdHJpY3Rpb25zIjogW3siaXNzdWVyX2RpZCI6ICJQUVJYRHhkR3FRR1NaOHo2OXA0eFpQIn1dfSwgIjBfY291bnRyeV91dWlkIjogeyJuYW1lIjogImNvdW50cnkifX0sICJyZXF1ZXN0ZWRfcHJlZGljYXRlcyI6IHsiMF9hZ2VfR0VfdXVpZCI6IHsibmFtZSI6ICJhZ2UiLCAicF90eXBlIjogIj49IiwgInBfdmFsdWUiOiAyMSwgInJlc3RyaWN0aW9ucyI6IFt7Imlzc3Vlcl9kaWQiOiAiUFFSWER4ZEdxUUdTWjh6NjlwNHhaUCJ9XX19LCAibm9uY2UiOiAiMTAxMjQ1MzY3NDUwOTk3NDc5MjA2MDE3NyJ9'}}]}, 'connection_id': '4a3bfb5d-483c-4ba3-b7f8-3755d09a3fb9', 'role': 'verifier'}\n",
      "Handle present proof\n",
      "{'thread_id': 'd0dec549-b119-4f05-9384-1edfcd634bc5', 'presentation_request': {'name': 'Proof of Personal Information', 'version': '1.0', 'requested_attributes': {'0_name_uuid': {'name': 'name', 'restrictions': [{'issuer_did': 'PQRXDxdGqQGSZ8z69p4xZP'}]}, '0_skill_uuid': {'name': 'skill', 'restrictions': [{'issuer_did': 'PQRXDxdGqQGSZ8z69p4xZP'}]}, '0_country_uuid': {'name': 'country'}}, 'requested_predicates': {'0_age_GE_uuid': {'name': 'age', 'p_type': '>=', 'p_value': 21, 'restrictions': [{'issuer_did': 'PQRXDxdGqQGSZ8z69p4xZP'}]}}, 'nonce': '1012453674509974792060177'}, 'auto_present': False, 'initiator': 'self', 'created_at': '2020-09-03 11:59:11.247203Z', 'state': 'presentation_received', 'updated_at': '2020-09-03 12:01:55.995096Z', 'presentation_exchange_id': '9b98163e-8973-41cc-963e-1c1454ba9b82', 'trace': False, 'presentation_request_dict': {'@type': 'did:sov:BzCbsNYhMrjHiqZDTUASHg;spec/present-proof/1.0/request-presentation', '@id': 'd0dec549-b119-4f05-9384-1edfcd634bc5', 'request_presentations~attach': [{'@id': 'libindy-request-presentation-0', 'mime-type': 'application/json', 'data': {'base64': 'eyJuYW1lIjogIlByb29mIG9mIFBlcnNvbmFsIEluZm9ybWF0aW9uIiwgInZlcnNpb24iOiAiMS4wIiwgInJlcXVlc3RlZF9hdHRyaWJ1dGVzIjogeyIwX25hbWVfdXVpZCI6IHsibmFtZSI6ICJuYW1lIiwgInJlc3RyaWN0aW9ucyI6IFt7Imlzc3Vlcl9kaWQiOiAiUFFSWER4ZEdxUUdTWjh6NjlwNHhaUCJ9XX0sICIwX3NraWxsX3V1aWQiOiB7Im5hbWUiOiAic2tpbGwiLCAicmVzdHJpY3Rpb25zIjogW3siaXNzdWVyX2RpZCI6ICJQUVJYRHhkR3FRR1NaOHo2OXA0eFpQIn1dfSwgIjBfY291bnRyeV91dWlkIjogeyJuYW1lIjogImNvdW50cnkifX0sICJyZXF1ZXN0ZWRfcHJlZGljYXRlcyI6IHsiMF9hZ2VfR0VfdXVpZCI6IHsibmFtZSI6ICJhZ2UiLCAicF90eXBlIjogIj49IiwgInBfdmFsdWUiOiAyMSwgInJlc3RyaWN0aW9ucyI6IFt7Imlzc3Vlcl9kaWQiOiAiUFFSWER4ZEdxUUdTWjh6NjlwNHhaUCJ9XX19LCAibm9uY2UiOiAiMTAxMjQ1MzY3NDUwOTk3NDc5MjA2MDE3NyJ9'}}]}, 'presentation': {'proof': {'proofs': [{'primary_proof': {'eq_proof': {'revealed_attrs': {'name': '93006290325627508022776103386395994712401809437930957652111221015872244345185', 'skill': '24214165878429772374367858032287880675266648921286067519661391650938186682695'}, 'a_prime': '34948550590402059053133211261623715841449799425052812505320736682990100599093862267154505169714372010677856670162339609811353746140641898103798342498183018154651347268604761442500877092182742451101805044849581140032928947958286552169291614243818483314660120454665456141313733260725165540482524421581511713723640525532574411012155288828651773028712089937867368226829983943531694083815680061174820891626260064133558429967688200677051906567936612279414089074348139119229335459310385585477212864157756285687746977455980251959400317542154434082143848828970144308120809216764200367637897699964261364199219607403981066067853', 'e': '18160616030283377915637695249674412865841654381277360157992093393397901159443970619333052923793422276112930163012470187864252013603642583', 'v': '349589949497196394887338715029526517226009946420305690877016468590906964045379776006981958859896985708268369619565924643468268614699933785892269637277197187188211695714532178437324829673159829629227225962326938944584313625642694887446970593822863619731530733669748583662977650516218817807697978433480591453323866100810229259008766688048541190570610435460746614286760824576433425360570340276916935568121959154280802073929310475768874425388237152374845332216498088871378316052865926643413921162067618958813748425783393723350511069257173645982316219328811933413537300662609681501511162684846367666396226253355620983343980803195385223201376320867801524869803186470407338724465740486490583646852111477765607601907310843030259146284693728417869925706554852277942489645548584944103080274048330253401839531849405421886768158299876305809200154646492076336457989309943531631896973569754172732500126476524520291936960044052096168620', 'm': {'age': '509410829723257478964971621822053773352084409641357919009724007379175580628388656003182663667647935806261442532341776482519848403173824688583067222050818954291533415703194576051', 'master_secret': '2144408324712280543464701802558628646572072279439356267635911204540720230510515283237693258902271810568579197437946631102932690307355124425220150269241918232606817640058105180369'}, 'm2': '8222886679846252591564021287064154646583239155227705083405363575119566338232291170346381154419087130539730330003400920800115559016492289064560464017289842548286594930286947015393'}, 'ge_proofs': [{'u': {'3': '11430322540319877878881446750875181725996454147387714780028069038665965195118109140157112697132185681054927808229346258528999878829084724901682783870839676843876604287694851564869', '1': '1525832834612073297830361987805503372149526946921693441154549690249682877685161629205995696662368795174091590251618231241922850474376327151582014901781741578786131963032447253893', '0': '13716156416835951710381784846739494941084934986644042150213738179025912062694232043265951206209377687426415613710139163367572850052820430015801787886848725371653877131016350473423', '2': '13667578183705621718854693730477244942088884861663586372728343606204492691626461104906552129164949742146892088025538141711303093246929432475068838876125806139568816837777987533772'}, 'r': {'0': '249954545961957204537605913570569889938008605774983340566134905363988936811516103087766773633361666304169883145560908723768084604815480183523641457353703123953597276534484224397891631090512231192781203005763198477103134746973197545642369537661624221357428430920220366665055818181614898854037594013343101480183187438791223044512075352734844360846109547473803648287982169077721529546116822636876444303243195826008663270656895107323600682955354420879627250303439669440109921676763093411077336323426232400735582136392974981648268837484868319841736163412192722822547712698380702511021690994123225799714096787476808389383439849585975993096940005617671465686621723396790690477298433265410138049772390629797551150537065104377', '3': '440056933867602508673040195331778075372055165953352054197622418255947218768449589483458811468914324859546126431578740085846112794900025625756182567002410926413873773185316973544263919614245309869108433910186418381752814356584191061918417657247373069602963091356147099098394071977988524169108496198017189684553304449378513457107927604865811044877994273206737656656438264165762890580814415391868273025561056455578179459930160749606154379613681512576942791401550346915014735552247294475060938582057661679516280618526304446473872859042888502525839923274304644001002058174799479354674715020943311705238326279632520801860163499666214126093992606253208909719422670913631213636712840234563605541217727048383031860841647676748', '2': '514903115245861225579386871564666344064647832462679995632067416249378796424185503671085421387030763540005037239165019225717998690778305498330575215464950902240900468636304464946330181282263463682611819154461588559520963289647629558927827474210203872629725403433036523788388921025392665255120799837697040917015129949949134117813108723998961437822367706594627983313584137123990267684531686206138969771101616193144720329600299332502551794865958916130646361507100893101307809376123560903215540689692898898197648609779054529810544350058196515762502200349365041354310410617054237637232349834765963178777693969150968129681081719990182001777642070995233050501853535671717803175877681208089080093706533445970908848495100124560', '1': '183937396435636143731466090110142883463592312012655521269921354930681321785147872373595681855346861496006681028520986180967423689569663648063468658547697682071579807128257243492543569031756545983730558475138583044134523312623321694273128391433769334255068825725315439646675343902702159170996752480505978599916607739218159263423943656376090038106476645911120370429843094559632082179858902685547746733521271904749740021256866334728140217124853950947990436164805882910039332217632350509804854059970320528389751485566105951004011375320588091542446767812010831636521939602224459533537512467716078248940436409764249699752557831645721767723151769709688072329695272697067762166149218868591558666617361290408395546933837956598', 'DELTA': '494665599782659062204109448344725470350121225875119049437807085384626356960872696510514772810398887366779561875893220704621003651507987605653890596699217353178071339110378695517905515005416270020386526793832661713939776337759275379967801706225264965578744366706067759023298626031537953137776456245523852253285376255169852206144439064425225962498270176747766606121457886794791041821494433706728997995233847659533352384685002146752204755433433719482958199626976051531291167651591234309999370981292487034961997644398892906552556047621106092917559304973838839238754926068761131539230987879246123914610112949194130465978838784835286802976164534201281809781652889124259314982762668583318319918386089386407592489794805673807'}, 'mj': '509410829723257478964971621822053773352084409641357919009724007379175580628388656003182663667647935806261442532341776482519848403173824688583067222050818954291533415703194576051', 'alpha': '73907632363567758372554116432958440359268464547790832945792598706769252987483263362178720900508194016777093681646084241975985565295773057876791924642309541172044665797000918892493383784208854094823365260200450532986468983573349473906346348983435267029455871070046222156037615431063070012137802065830951640333492476642680468651511175853775270966070069844134208659875795671562754669485208047690591886617146123014732155202890790834374952128746176269535601707845950805612164733456073875881080713829326336889441367005990147674987662941578030912832354370278614113706998867193795149887244607698508245663967717100696638954806181687018660405089954452230265522180099902241165322028843818223520055946091453263275816495471657076928099274738253766585504658925485162343507525143386212317008731536758074029749069933615465831673471596357296647269063829964', 't': {'3': '93532403025407137023635364645263394207533719999170426215066524378019602053760490392670059289872068283244320336874678271035519213573682551989031003269881911514302284492238880180604285427374198751047718218260051860325686944910789167030013237194340229401569021429043026815518467657929321253521387855211958128854064075670784530545689493324062011206757392977732677496939379634379311490201876357385538237507046757086650659205739888262818551435756157689728093575415179133110437531221886494692241375653890764315249255216029888395981606318944951452629822770188204186554293060331620826258744881716569670803604576514494139941671', 'DELTA': '52358299660087411188219599756268590751982696325368517613151146360634417702921655615514901051572378193015123063704042174289485506449521624439745936363912921859193691356382921789386800260920341606484801720683189986395663363740563063893084172123847608057380864130371215701736638519451629050222627667024243245715797754921276291869254113296286085680326685028783478424770598064601035947612998623199193723545263031148402538511228198696519022477732987677754818827406000732955889676380169306859453392466889143185660437391786003014953834260547154811388867398367398211294934661828660380880516805410859904535206921485900341940074', '1': '466586116250251709040427713181778176128016491551082401441214325437660152098684693660559141752720894203123689867135071929758380199669029345037362924958980586347557467631339358435280338721322976981548629105469842371256042764955634498645803573331741513413960693602334599209227248133152517889627859042649344255651036821249216899625143521911326473590180796746274225527321171060829663209336320150274763995260807344967782555860554633924898308201644748864542298229769617375534422526899522942881016860709332926392355044634652861809074099679554550803808496145940285807298698016212278736025743143009248743473349744571303971927', '0': '94284977806805984915428962262760195450365031126190182820487126203722674603064564062512755871503296076350251452178588161650545473276339800151678465137940958932127435817356288899585366827899554458058018154656614566012719725684548991094537907984921410789510520148612140598312233141104521186392291439700022836235711023180992243968932805300183479115538239873258753584711561388450958187367133696569583152735310742869290517481685792841353620259357708895478167085714343205032175154148636046975083800246408267463017123351735815089706622556216908879116498213228474457633037882112383324115926226414058873194677388919863893236974', '2': '19134162823282011058989675887432084051771503686595729971836094123344087675541932905546391541635064233071368228177105325571235722753464665021578963620462380102996827002814788004492264593486348881881976135407457795394301460851639050767425842547596802136368764285487532000124136834517725427017957672152053791194851946545480890813534704327117364055271361505391382765331003489024650933911191097206871118926885166446223959759268467705215056375707324345929942150542645063714367601029033781240452916963861226169216320965378908281718942534127112023693935734855264438162533995744469630598735372615260055374733327987958448651469'}, 'predicate': {'attr_name': 'age', 'p_type': 'GE', 'value': 21}}]}, 'non_revoc_proof': None}], 'aggregated_proof': {'c_hash': '14718276421223465610050774215141434071752506560006213777237234895118716305641', 'c_list': [[1, 20, 216, 137, 126, 221, 31, 219, 120, 54, 92, 186, 191, 24, 96, 139, 51, 248, 247, 251, 28, 217, 152, 170, 20, 47, 38, 33, 140, 244, 220, 196, 166, 57, 93, 218, 103, 25, 213, 230, 75, 191, 38, 180, 240, 221, 96, 149, 92, 170, 124, 55, 46, 47, 202, 168, 57, 44, 208, 223, 101, 178, 56, 50, 151, 246, 80, 17, 177, 123, 219, 118, 109, 163, 207, 69, 229, 82, 14, 56, 18, 120, 129, 154, 218, 167, 156, 250, 19, 33, 78, 48, 247, 25, 200, 137, 138, 214, 17, 7, 0, 104, 149, 157, 249, 186, 186, 88, 8, 57, 7, 229, 108, 37, 240, 47, 141, 43, 210, 207, 97, 214, 143, 219, 199, 241, 62, 216, 57, 158, 182, 94, 16, 36, 36, 215, 95, 83, 147, 226, 186, 106, 194, 241, 182, 6, 16, 163, 30, 191, 203, 245, 159, 120, 176, 19, 229, 191, 109, 67, 66, 197, 222, 168, 74, 18, 187, 178, 201, 168, 87, 192, 59, 187, 27, 155, 72, 112, 107, 150, 38, 195, 195, 28, 209, 5, 141, 157, 95, 113, 220, 196, 146, 70, 222, 60, 55, 69, 171, 197, 178, 164, 227, 183, 63, 60, 128, 213, 228, 86, 243, 208, 148, 65, 84, 221, 42, 29, 13, 202, 235, 220, 44, 9, 162, 42, 21, 253, 80, 116, 242, 209, 82, 34, 151, 28, 208, 224, 143, 218, 151, 196, 150, 255, 102, 13, 235, 20, 157, 10, 217, 89, 36, 147, 133, 223, 141], [2, 234, 225, 130, 33, 235, 117, 48, 62, 232, 204, 193, 217, 22, 34, 216, 53, 234, 193, 55, 172, 247, 171, 203, 198, 62, 150, 26, 206, 230, 128, 74, 203, 61, 41, 153, 81, 10, 220, 132, 121, 119, 250, 96, 219, 220, 61, 141, 225, 113, 89, 193, 163, 16, 158, 106, 49, 66, 94, 248, 214, 232, 207, 225, 198, 195, 223, 192, 19, 201, 221, 45, 85, 204, 44, 58, 114, 5, 157, 156, 109, 24, 32, 35, 43, 209, 27, 161, 100, 237, 23, 140, 222, 58, 176, 237, 255, 192, 88, 186, 60, 47, 177, 69, 235, 38, 101, 147, 86, 170, 6, 214, 97, 35, 170, 115, 21, 13, 42, 49, 202, 71, 86, 8, 92, 97, 182, 174, 170, 57, 165, 69, 249, 34, 74, 113, 229, 76, 77, 99, 229, 22, 77, 110, 44, 38, 8, 49, 8, 100, 113, 59, 160, 163, 234, 206, 117, 48, 40, 83, 239, 229, 124, 69, 147, 65, 58, 190, 143, 121, 171, 191, 138, 43, 11, 154, 98, 165, 91, 2, 232, 74, 76, 125, 227, 15, 45, 138, 12, 87, 84, 54, 234, 43, 227, 54, 84, 240, 230, 120, 99, 43, 14, 61, 112, 220, 72, 84, 122, 118, 165, 244, 227, 152, 179, 172, 246, 191, 87, 39, 172, 15, 42, 55, 51, 153, 68, 197, 168, 173, 197, 126, 245, 85, 8, 85, 242, 16, 26, 227, 81, 201, 130, 11, 168, 90, 203, 220, 73, 210, 96, 188, 200, 183, 39, 28, 238], [3, 178, 49, 231, 199, 67, 28, 23, 116, 200, 140, 143, 136, 182, 205, 16, 121, 103, 4, 249, 173, 235, 99, 105, 241, 27, 180, 100, 241, 54, 148, 13, 10, 50, 88, 192, 247, 100, 214, 29, 96, 178, 250, 25, 58, 54, 140, 166, 9, 51, 179, 237, 100, 205, 148, 209, 60, 125, 95, 204, 65, 252, 241, 13, 152, 30, 86, 4, 196, 13, 84, 3, 14, 209, 187, 131, 136, 185, 12, 53, 196, 3, 203, 104, 67, 23, 234, 153, 220, 253, 88, 92, 232, 32, 163, 38, 203, 97, 119, 179, 97, 157, 7, 98, 119, 60, 146, 119, 251, 154, 111, 233, 165, 168, 167, 218, 236, 237, 74, 195, 175, 35, 232, 248, 81, 223, 148, 241, 163, 94, 65, 231, 144, 202, 116, 108, 117, 114, 109, 182, 218, 235, 167, 225, 41, 66, 79, 158, 249, 208, 1, 146, 122, 142, 49, 251, 91, 98, 142, 68, 63, 115, 219, 214, 242, 10, 113, 220, 175, 113, 192, 15, 163, 199, 83, 252, 75, 16, 212, 193, 219, 204, 159, 54, 84, 206, 13, 96, 208, 49, 73, 184, 104, 181, 177, 123, 65, 236, 186, 3, 206, 24, 16, 129, 178, 249, 223, 6, 199, 147, 228, 107, 152, 174, 61, 50, 54, 122, 153, 164, 209, 236, 135, 6, 184, 237, 44, 136, 187, 42, 152, 4, 116, 72, 111, 167, 253, 126, 7, 61, 144, 231, 90, 88, 24, 193, 195, 210, 88, 179, 238, 214, 240, 213, 204, 87], [151, 146, 95, 66, 11, 216, 49, 71, 110, 151, 100, 222, 255, 106, 123, 114, 137, 52, 202, 104, 199, 3, 29, 136, 65, 53, 133, 160, 140, 86, 202, 17, 50, 254, 136, 29, 211, 22, 57, 243, 183, 77, 98, 66, 237, 203, 127, 6, 132, 253, 9, 175, 246, 97, 164, 62, 106, 14, 226, 77, 152, 179, 118, 227, 93, 175, 215, 13, 146, 69, 171, 184, 53, 1, 72, 139, 249, 44, 77, 15, 56, 109, 25, 191, 4, 34, 232, 5, 62, 129, 125, 205, 183, 14, 145, 224, 34, 108, 89, 119, 190, 3, 97, 208, 228, 195, 79, 220, 107, 220, 112, 231, 6, 9, 26, 161, 40, 14, 126, 91, 61, 94, 74, 85, 234, 76, 179, 181, 159, 33, 49, 84, 210, 253, 73, 106, 59, 67, 39, 172, 32, 187, 214, 10, 183, 97, 159, 102, 208, 248, 251, 102, 75, 236, 10, 96, 105, 253, 85, 145, 97, 15, 170, 16, 98, 15, 184, 10, 169, 101, 114, 0, 110, 219, 119, 20, 127, 237, 124, 210, 203, 129, 39, 141, 58, 81, 121, 217, 108, 8, 13, 182, 183, 171, 230, 230, 31, 178, 150, 211, 178, 87, 102, 20, 161, 211, 203, 89, 87, 181, 130, 93, 82, 177, 224, 44, 109, 117, 140, 4, 23, 215, 195, 208, 136, 189, 32, 197, 228, 151, 23, 230, 183, 250, 12, 106, 84, 51, 80, 95, 71, 45, 181, 16, 101, 84, 160, 158, 69, 8, 81, 233, 248, 3, 252, 205], [2, 228, 235, 90, 155, 112, 83, 250, 34, 124, 250, 153, 46, 180, 95, 185, 137, 184, 40, 17, 19, 193, 204, 179, 254, 193, 15, 4, 132, 182, 41, 165, 127, 68, 101, 73, 238, 113, 253, 207, 225, 221, 186, 159, 54, 83, 39, 163, 102, 30, 222, 231, 145, 144, 108, 212, 170, 246, 83, 37, 156, 39, 193, 60, 13, 229, 59, 172, 107, 9, 42, 24, 19, 128, 190, 81, 43, 99, 252, 206, 132, 76, 180, 229, 227, 23, 212, 45, 42, 102, 161, 213, 205, 128, 53, 202, 222, 222, 0, 86, 158, 70, 0, 45, 105, 222, 152, 51, 126, 216, 88, 150, 140, 84, 133, 53, 197, 215, 101, 211, 249, 243, 78, 119, 146, 219, 49, 88, 175, 35, 211, 238, 204, 120, 131, 52, 248, 6, 213, 219, 32, 194, 186, 24, 229, 150, 62, 154, 214, 248, 129, 6, 60, 116, 170, 83, 130, 139, 19, 57, 158, 32, 187, 125, 87, 231, 45, 15, 243, 199, 63, 181, 157, 158, 135, 194, 26, 105, 6, 235, 150, 64, 24, 214, 130, 36, 101, 87, 153, 223, 78, 163, 153, 159, 66, 101, 115, 22, 164, 91, 238, 82, 124, 147, 147, 166, 218, 202, 233, 75, 231, 236, 41, 165, 247, 45, 78, 225, 218, 53, 212, 243, 1, 245, 118, 181, 107, 98, 76, 32, 122, 200, 245, 153, 90, 32, 187, 97, 207, 215, 11, 15, 234, 6, 101, 231, 98, 134, 16, 139, 96, 5, 201, 4, 227, 67, 39], [1, 158, 193, 243, 196, 171, 159, 228, 167, 49, 134, 139, 227, 205, 156, 250, 38, 232, 35, 118, 88, 32, 19, 38, 178, 162, 84, 214, 81, 122, 3, 29, 208, 212, 184, 215, 104, 146, 50, 188, 97, 21, 218, 48, 38, 56, 143, 19, 159, 15, 136, 98, 140, 118, 53, 106, 14, 69, 135, 29, 1, 58, 204, 169, 56, 30, 161, 120, 178, 147, 83, 248, 9, 103, 232, 239, 226, 23, 82, 50, 81, 109, 245, 181, 169, 233, 165, 179, 33, 161, 221, 138, 190, 140, 117, 205, 194, 177, 179, 48, 9, 10, 40, 231, 143, 29, 88, 83, 106, 178, 216, 222, 219, 252, 160, 95, 13, 179, 55, 36, 155, 100, 114, 197, 186, 17, 151, 31, 21, 198, 126, 215, 61, 175, 206, 107, 190, 3, 71, 201, 129, 6, 44, 17, 19, 48, 118, 121, 131, 127, 254, 10, 180, 199, 94, 66, 83, 49, 186, 5, 63, 149, 41, 191, 147, 237, 246, 92, 240, 2, 115, 158, 22, 12, 96, 47, 90, 26, 106, 184, 162, 89, 198, 105, 86, 19, 243, 30, 153, 141, 181, 233, 41, 246, 250, 8, 35, 116, 131, 254, 145, 14, 244, 190, 168, 109, 34, 134, 207, 245, 207, 69, 233, 25, 245, 22, 46, 241, 104, 34, 210, 153, 193, 250, 30, 61, 162, 236, 224, 230, 214, 59, 250, 123, 66, 136, 183, 199, 119, 32, 250, 114, 88, 134, 161, 225, 214, 130, 138, 135, 126, 26, 251, 190, 65, 143, 106]]}}, 'requested_proof': {'revealed_attrs': {'0_name_uuid': {'sub_proof_index': 0, 'raw': 'Bob', 'encoded': '93006290325627508022776103386395994712401809437930957652111221015872244345185'}, '0_skill_uuid': {'sub_proof_index': 0, 'raw': 'researcher', 'encoded': '24214165878429772374367858032287880675266648921286067519661391650938186682695'}}, 'self_attested_attrs': {'0_country_uuid': 'South Africa'}, 'unrevealed_attrs': {}, 'predicates': {'0_age_GE_uuid': {'sub_proof_index': 0}}}, 'identifiers': [{'schema_id': 'PQRXDxdGqQGSZ8z69p4xZP:2:open_mined_contributor:0.0.1', 'cred_def_id': 'PQRXDxdGqQGSZ8z69p4xZP:3:CL:10:default', 'rev_reg_id': None, 'timestamp': None}]}, 'connection_id': '4a3bfb5d-483c-4ba3-b7f8-3755d09a3fb9', 'role': 'verifier'}\n"
     ]
    }
   ],
   "source": [
    "response = await alice_agent_controller.proofs.send_request(proof_request_web_request)\n",
    "print(response)\n",
    "presentation_exchange_id = response['presentation_exchange_id']\n",
    "print(\"\\n\")\n",
    "print(presentation_exchange_id)\n"
   ]
  },
  {
   "cell_type": "markdown",
   "metadata": {},
   "source": [
    "## 8. Continue in the prover notebook"
   ]
  },
  {
   "cell_type": "markdown",
   "metadata": {},
   "source": [
    "## 11. Verify Proof Presentation\n",
    "\n",
    "This is checking the signatures on the credentials presented against the credential schema and definition id stored and resolvable on the ledger.\n",
    "\n",
    "### TODO: It is not clear to me how we actually take this big blob of data and parse it to make a meaningful, true false. Yes this proof is valid, no it is not. I think this is perhaps a event that gets fired to the handler? Additionally it would be good to show how you transform this to get the attributes that were proven. Should the controller provide some helper functions for this? Not sure, think it is more the role of the business logic using the controller. But would still be useful to show in the notebooks."
   ]
  },
  {
   "cell_type": "code",
   "execution_count": 11,
   "metadata": {
    "pycharm": {
     "name": "#%%\n"
    }
   },
   "outputs": [
    {
     "ename": "ClientResponseError",
     "evalue": "400, message='Presentation exchange 9b98163e-8973-41cc-963e-1c1454ba9b82 in verified state (must be presentation_received)', url=URL('http://alice-agent:8021/present-proof/records/9b98163e-8973-41cc-963e-1c1454ba9b82/verify-presentation')",
     "output_type": "error",
     "traceback": [
      "\u001b[0;31m---------------------------------------------------------------------------\u001b[0m",
      "\u001b[0;31mClientResponseError\u001b[0m                       Traceback (most recent call last)",
      "\u001b[0;32m<ipython-input-11-e405368c71c2>\u001b[0m in \u001b[0;36masync-def-wrapper\u001b[0;34m()\u001b[0m\n\u001b[1;32m      2\u001b[0m \u001b[0mprint\u001b[0m\u001b[0;34m(\u001b[0m\u001b[0mverify\u001b[0m\u001b[0;34m)\u001b[0m\u001b[0;34m\u001b[0m\u001b[0;34m\u001b[0m\u001b[0m\n",
      "\u001b[0;32m/aries_basic_controller/controllers/proof.py\u001b[0m in \u001b[0;36mverify_presentation\u001b[0;34m(self, pres_ex_id)\u001b[0m\n\u001b[1;32m     77\u001b[0m     \u001b[0;31m# Verify a received presentation\u001b[0m\u001b[0;34m\u001b[0m\u001b[0;34m\u001b[0m\u001b[0;34m\u001b[0m\u001b[0m\n\u001b[1;32m     78\u001b[0m     \u001b[0;32masync\u001b[0m \u001b[0;32mdef\u001b[0m \u001b[0mverify_presentation\u001b[0m\u001b[0;34m(\u001b[0m\u001b[0mself\u001b[0m\u001b[0;34m,\u001b[0m \u001b[0mpres_ex_id\u001b[0m\u001b[0;34m)\u001b[0m\u001b[0;34m:\u001b[0m\u001b[0;34m\u001b[0m\u001b[0;34m\u001b[0m\u001b[0m\n\u001b[0;32m---> 79\u001b[0;31m         \u001b[0;32mreturn\u001b[0m \u001b[0;32mawait\u001b[0m \u001b[0mself\u001b[0m\u001b[0;34m.\u001b[0m\u001b[0madmin_POST\u001b[0m\u001b[0;34m(\u001b[0m\u001b[0;34mf\"{self.base_url}/records/{pres_ex_id}/verify-presentation\"\u001b[0m\u001b[0;34m)\u001b[0m\u001b[0;34m\u001b[0m\u001b[0;34m\u001b[0m\u001b[0m\n\u001b[0m\u001b[1;32m     80\u001b[0m \u001b[0;34m\u001b[0m\u001b[0m\n\u001b[1;32m     81\u001b[0m     \u001b[0;32masync\u001b[0m \u001b[0;32mdef\u001b[0m \u001b[0mremove_presentation_record\u001b[0m\u001b[0;34m(\u001b[0m\u001b[0mself\u001b[0m\u001b[0;34m,\u001b[0m \u001b[0mpres_ex_id\u001b[0m\u001b[0;34m)\u001b[0m\u001b[0;34m:\u001b[0m\u001b[0;34m\u001b[0m\u001b[0;34m\u001b[0m\u001b[0m\n",
      "\u001b[0;32m/aries_basic_controller/controllers/base.py\u001b[0m in \u001b[0;36madmin_POST\u001b[0;34m(self, path, data, text, params)\u001b[0m\n\u001b[1;32m     94\u001b[0m                 \u001b[0;34m(\u001b[0m\u001b[0;34m\" with data: \\n{}\"\u001b[0m\u001b[0;34m.\u001b[0m\u001b[0mformat\u001b[0m\u001b[0;34m(\u001b[0m\u001b[0mrepr_json\u001b[0m\u001b[0;34m(\u001b[0m\u001b[0mdata\u001b[0m\u001b[0;34m)\u001b[0m\u001b[0;34m)\u001b[0m \u001b[0;32mif\u001b[0m \u001b[0mdata\u001b[0m \u001b[0;32melse\u001b[0m \u001b[0;34m\"\"\u001b[0m\u001b[0;34m)\u001b[0m\u001b[0;34m,\u001b[0m\u001b[0;34m\u001b[0m\u001b[0;34m\u001b[0m\u001b[0m\n\u001b[1;32m     95\u001b[0m             )\n\u001b[0;32m---> 96\u001b[0;31m             \u001b[0mresponse\u001b[0m \u001b[0;34m=\u001b[0m \u001b[0;32mawait\u001b[0m \u001b[0mself\u001b[0m\u001b[0;34m.\u001b[0m\u001b[0madmin_request\u001b[0m\u001b[0;34m(\u001b[0m\u001b[0;34m\"POST\"\u001b[0m\u001b[0;34m,\u001b[0m \u001b[0mpath\u001b[0m\u001b[0;34m,\u001b[0m \u001b[0mdata\u001b[0m\u001b[0;34m,\u001b[0m \u001b[0mtext\u001b[0m\u001b[0;34m,\u001b[0m \u001b[0mparams\u001b[0m\u001b[0;34m)\u001b[0m\u001b[0;34m\u001b[0m\u001b[0;34m\u001b[0m\u001b[0m\n\u001b[0m\u001b[1;32m     97\u001b[0m             EVENT_LOGGER.debug(\n\u001b[1;32m     98\u001b[0m                 \u001b[0;34m\"Response from POST %s received: \\n%s\"\u001b[0m\u001b[0;34m,\u001b[0m \u001b[0mpath\u001b[0m\u001b[0;34m,\u001b[0m \u001b[0mrepr_json\u001b[0m\u001b[0;34m(\u001b[0m\u001b[0mresponse\u001b[0m\u001b[0;34m)\u001b[0m\u001b[0;34m,\u001b[0m\u001b[0;34m\u001b[0m\u001b[0;34m\u001b[0m\u001b[0m\n",
      "\u001b[0;32m/aries_basic_controller/controllers/base.py\u001b[0m in \u001b[0;36madmin_request\u001b[0;34m(self, method, path, data, text, params)\u001b[0m\n\u001b[1;32m     61\u001b[0m             \u001b[0mmethod\u001b[0m\u001b[0;34m,\u001b[0m \u001b[0mself\u001b[0m\u001b[0;34m.\u001b[0m\u001b[0madmin_url\u001b[0m \u001b[0;34m+\u001b[0m \u001b[0mpath\u001b[0m\u001b[0;34m,\u001b[0m \u001b[0mjson\u001b[0m\u001b[0;34m=\u001b[0m\u001b[0mdata\u001b[0m\u001b[0;34m,\u001b[0m \u001b[0mparams\u001b[0m\u001b[0;34m=\u001b[0m\u001b[0mparams\u001b[0m\u001b[0;34m\u001b[0m\u001b[0;34m\u001b[0m\u001b[0m\n\u001b[1;32m     62\u001b[0m         ) as resp:\n\u001b[0;32m---> 63\u001b[0;31m             \u001b[0mresp\u001b[0m\u001b[0;34m.\u001b[0m\u001b[0mraise_for_status\u001b[0m\u001b[0;34m(\u001b[0m\u001b[0;34m)\u001b[0m\u001b[0;34m\u001b[0m\u001b[0;34m\u001b[0m\u001b[0m\n\u001b[0m\u001b[1;32m     64\u001b[0m             \u001b[0mresp_text\u001b[0m \u001b[0;34m=\u001b[0m \u001b[0;32mawait\u001b[0m \u001b[0mresp\u001b[0m\u001b[0;34m.\u001b[0m\u001b[0mtext\u001b[0m\u001b[0;34m(\u001b[0m\u001b[0;34m)\u001b[0m\u001b[0;34m\u001b[0m\u001b[0;34m\u001b[0m\u001b[0m\n\u001b[1;32m     65\u001b[0m             \u001b[0;32mif\u001b[0m \u001b[0;32mnot\u001b[0m \u001b[0mresp_text\u001b[0m \u001b[0;32mand\u001b[0m \u001b[0;32mnot\u001b[0m \u001b[0mtext\u001b[0m\u001b[0;34m:\u001b[0m\u001b[0;34m\u001b[0m\u001b[0;34m\u001b[0m\u001b[0m\n",
      "\u001b[0;32m/opt/conda/lib/python3.7/site-packages/aiohttp/client_reqrep.py\u001b[0m in \u001b[0;36mraise_for_status\u001b[0;34m(self)\u001b[0m\n\u001b[1;32m    944\u001b[0m                 \u001b[0mstatus\u001b[0m\u001b[0;34m=\u001b[0m\u001b[0mself\u001b[0m\u001b[0;34m.\u001b[0m\u001b[0mstatus\u001b[0m\u001b[0;34m,\u001b[0m\u001b[0;34m\u001b[0m\u001b[0;34m\u001b[0m\u001b[0m\n\u001b[1;32m    945\u001b[0m                 \u001b[0mmessage\u001b[0m\u001b[0;34m=\u001b[0m\u001b[0mself\u001b[0m\u001b[0;34m.\u001b[0m\u001b[0mreason\u001b[0m\u001b[0;34m,\u001b[0m\u001b[0;34m\u001b[0m\u001b[0;34m\u001b[0m\u001b[0m\n\u001b[0;32m--> 946\u001b[0;31m                 headers=self.headers)\n\u001b[0m\u001b[1;32m    947\u001b[0m \u001b[0;34m\u001b[0m\u001b[0m\n\u001b[1;32m    948\u001b[0m     \u001b[0;32mdef\u001b[0m \u001b[0m_cleanup_writer\u001b[0m\u001b[0;34m(\u001b[0m\u001b[0mself\u001b[0m\u001b[0;34m)\u001b[0m \u001b[0;34m->\u001b[0m \u001b[0;32mNone\u001b[0m\u001b[0;34m:\u001b[0m\u001b[0;34m\u001b[0m\u001b[0;34m\u001b[0m\u001b[0m\n",
      "\u001b[0;31mClientResponseError\u001b[0m: 400, message='Presentation exchange 9b98163e-8973-41cc-963e-1c1454ba9b82 in verified state (must be presentation_received)', url=URL('http://alice-agent:8021/present-proof/records/9b98163e-8973-41cc-963e-1c1454ba9b82/verify-presentation')"
     ]
    },
    {
     "name": "stderr",
     "output_type": "stream",
     "text": [
      "ERROR:asyncio:Task exception was never retrieved\n",
      "future: <Task finished coro=<run_in_terminal.<locals>.run() done, defined at /opt/conda/lib/python3.7/site-packages/prompt_toolkit/application/run_in_terminal.py:50> exception=UnsupportedOperation('fileno')>\n",
      "Traceback (most recent call last):\n",
      "  File \"/opt/conda/lib/python3.7/site-packages/prompt_toolkit/application/run_in_terminal.py\", line 55, in run\n",
      "    return func()\n",
      "  File \"/aries_basic_controller/helpers/utils.py\", line 120, in <lambda>\n",
      "    run_in_terminal(lambda: print_ext(*msg, color=color, **kwargs))\n",
      "  File \"/aries_basic_controller/helpers/utils.py\", line 103, in print_ext\n",
      "    print_formatted(FormattedText(msg), **kwargs)\n",
      "  File \"/aries_basic_controller/helpers/utils.py\", line 83, in print_formatted\n",
      "    prompt_toolkit.print_formatted_text(*args, **kwargs)\n",
      "  File \"/opt/conda/lib/python3.7/site-packages/prompt_toolkit/shortcuts/utils.py\", line 112, in print_formatted_text\n",
      "    output = get_app_session().output\n",
      "  File \"/opt/conda/lib/python3.7/site-packages/prompt_toolkit/application/current.py\", line 65, in output\n",
      "    self._output = create_output()\n",
      "  File \"/opt/conda/lib/python3.7/site-packages/prompt_toolkit/output/defaults.py\", line 62, in create_output\n",
      "    return Vt100_Output.from_pty(stdout, term=get_term_environment_variable())\n",
      "  File \"/opt/conda/lib/python3.7/site-packages/prompt_toolkit/output/vt100.py\", line 449, in from_pty\n",
      "    fd = stdout.fileno()\n",
      "io.UnsupportedOperation: fileno\n"
     ]
    }
   ],
   "source": [
    "verify = await alice_agent_controller.proofs.verify_presentation(presentation_exchange_id)\n",
    "print(verify)\n"
   ]
  },
  {
   "cell_type": "markdown",
   "metadata": {},
   "source": [
    "## Not all the proofs api has been covered in this example.\n",
    "\n",
    "### TODO: At least list API calls not documented."
   ]
  },
  {
   "cell_type": "markdown",
   "metadata": {},
   "source": [
    "## End of Tutorial\n",
    "\n",
    "Be sure to terminate the controller so you can run another tutorial."
   ]
  },
  {
   "cell_type": "code",
   "execution_count": 26,
   "metadata": {
    "pycharm": {
     "name": "#%%\n"
    }
   },
   "outputs": [
    {
     "name": "stdout",
     "output_type": "stream",
     "text": [
      "None\n"
     ]
    },
    {
     "ename": "NameError",
     "evalue": "name 'bob_agent_controller' is not defined",
     "output_type": "error",
     "traceback": [
      "\u001b[0;31m---------------------------------------------------------------------------\u001b[0m",
      "\u001b[0;31mNameError\u001b[0m                                 Traceback (most recent call last)",
      "\u001b[0;32m<ipython-input-26-f5f5fcba62d2>\u001b[0m in \u001b[0;36masync-def-wrapper\u001b[0;34m()\u001b[0m\n\u001b[1;32m      4\u001b[0m \u001b[0mprint\u001b[0m\u001b[0;34m(\u001b[0m\u001b[0mresponse\u001b[0m\u001b[0;34m)\u001b[0m\u001b[0;34m\u001b[0m\u001b[0;34m\u001b[0m\u001b[0m\n",
      "\u001b[0;31mNameError\u001b[0m: name 'bob_agent_controller' is not defined"
     ]
    }
   ],
   "source": [
    "response = await alice_agent_controller.terminate()\n",
    "print(response)"
   ]
  }
 ],
 "metadata": {
  "kernelspec": {
   "display_name": "Python 3",
   "language": "python",
   "name": "python3"
  },
  "language_info": {
   "codemirror_mode": {
    "name": "ipython",
    "version": 3
   },
   "file_extension": ".py",
   "mimetype": "text/x-python",
   "name": "python",
   "nbconvert_exporter": "python",
   "pygments_lexer": "ipython3",
   "version": "3.7.6"
  }
 },
 "nbformat": 4,
 "nbformat_minor": 1
}
