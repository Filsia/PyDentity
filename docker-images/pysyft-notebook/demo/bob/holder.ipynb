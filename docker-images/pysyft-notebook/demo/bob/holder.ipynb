{
 "cells": [
  {
   "cell_type": "markdown",
   "metadata": {},
   "source": [
    "# Aries Basic Controller - Holder Bob\n",
    "\n",
    "This tutorial runs through the issuer-api from the perspective of a holder. It should be run alongside the [issuer notebook](http://localhost:8888/notebooks/issuer.ipynb) from Alice's perspective.\n",
    "\n",
    "If unfamiliar with the protocol it is worth reading through the [aries-rfs](https://github.com/hyperledger/aries-rfcs/tree/master/features/0036-issue-credential)"
   ]
  },
  {
   "cell_type": "code",
   "execution_count": 5,
   "metadata": {},
   "outputs": [
    {
     "name": "stdout",
     "output_type": "stream",
     "text": [
      "IPython autoawait is `on`, and set to use `asyncio`\n"
     ]
    }
   ],
   "source": [
    "%autoawait\n",
    "import time\n",
    "import asyncio"
   ]
  },
  {
   "cell_type": "code",
   "execution_count": 6,
   "metadata": {},
   "outputs": [],
   "source": [
    "from aries_basic_controller.aries_controller import AriesAgentController\n",
    "    \n",
    "WEBHOOK_HOST = \"0.0.0.0\"\n",
    "WEBHOOK_PORT = 8052\n",
    "WEBHOOK_BASE = \"\"\n",
    "ADMIN_URL = \"http://bob-agent:8051\"\n",
    "\n",
    "agent_controller = AriesAgentController(webhook_host=WEBHOOK_HOST, webhook_port=WEBHOOK_PORT,\n",
    "                                       webhook_base=WEBHOOK_BASE, admin_url=ADMIN_URL, connections=True)"
   ]
  },
  {
   "cell_type": "markdown",
   "metadata": {},
   "source": [
    "## Register listeners\n",
    "\n",
    "The handler should get called every time the controller receives a webhook with the topic issue_credential, printing out the payload. The agent calls to this webhook every time it receives an issue-credential protocol message from a credential."
   ]
  },
  {
   "cell_type": "code",
   "execution_count": 7,
   "metadata": {},
   "outputs": [
    {
     "name": "stdout",
     "output_type": "stream",
     "text": [
      "Handle Credentials\n",
      "Credential exchange 2126baeb-114d-4da6-b2c2-a8cb326d7d2e, role: holder, state: offer_received\n",
      "Being offered: [{'name': 'name', 'value': 'Bob'}, {'name': 'skill', 'value': 'researcher'}]\n",
      "Handle Credentials\n",
      "Credential exchange 4732cdb9-ccb7-40e4-88c5-c652fef1d6c6, role: holder, state: offer_received\n",
      "Being offered: [{'name': 'name', 'value': 'Bob'}, {'name': 'skill', 'value': 'researcher'}]\n"
     ]
    }
   ],
   "source": [
    "loop = asyncio.get_event_loop()\n",
    "loop.create_task(agent_controller.listen_webhooks())\n",
    "def cred_handler(payload):\n",
    "    print(\"Handle Credentials\")\n",
    "    exchange_id = payload['credential_exchange_id']\n",
    "    state = payload['state']\n",
    "    role = payload['role']\n",
    "    attributes = payload['credential_proposal_dict']['credential_proposal']['attributes']\n",
    "    print(f\"Credential exchange {exchange_id}, role: {role}, state: {state}\")\n",
    "    print(f\"Attributes: {attributes}\")\n",
    "    \n",
    "cred_listener = {\n",
    "    \"topic\": \"issue_credential\",\n",
    "    \"handler\": cred_handler\n",
    "}\n",
    "agent_controller.register_listeners([cred_listener], defaults=True)"
   ]
  },
  {
   "cell_type": "markdown",
   "metadata": {},
   "source": [
    "## Check Credential Exchange Records\n",
    "\n",
    "The agent will have at least one record if you have run through the issuer notebook up until send credential."
   ]
  },
  {
   "cell_type": "code",
   "execution_count": 8,
   "metadata": {},
   "outputs": [
    {
     "name": "stdout",
     "output_type": "stream",
     "text": [
      "Credential exchange 2126baeb-114d-4da6-b2c2-a8cb326d7d2e, role: holder, state: offer_received\n",
      "Being offered: [{'name': 'name', 'value': 'Bob'}, {'name': 'skill', 'value': 'researcher'}]\n"
     ]
    }
   ],
   "source": [
    "response = await agent_controller.issuer.get_records()\n",
    "results = response[\"results\"]\n",
    "if len(results) == 0:\n",
    "    print(\"You need to first send a credential from the issuer notebook (Alice)\")\n",
    "else:\n",
    "    cred_record = results[0]\n",
    "    cred_ex_id = cred_record['credential_exchange_id']\n",
    "    state = cred_record['state']\n",
    "    role = cred_record['role']\n",
    "    attributes = results[0]['credential_proposal_dict']['credential_proposal']['attributes']\n",
    "    print(f\"Credential exchange {cred_ex_id}, role: {role}, state: {state}\")\n",
    "    print(f\"Being offered: {attributes}\")\n"
   ]
  },
  {
   "cell_type": "markdown",
   "metadata": {},
   "source": [
    "## Propose Credential (Optional)\n",
    "\n",
    "If unhappy with the attributes being offered (e.g. there is a mistake), the holder can send a proposal to the issuer for an alternative credential. The holder can also initiate the protocol with a proposal to the issuer, this is left out of scope in the tutorial, but should be possible to edit to achieve this if interested.\n",
    "\n",
    "Note the proposal will create a new credential exchange record, the tutorial currently does not progress this to issued state but instead continues with the previous credential_exchange.\n",
    "\n",
    "**Arguments (These can all be found in a credential exchange record)**\n",
    "* connection_id: The connection_id of the holder you wish to issue to (MUST be in active state)\n",
    "* schema_id: The id of the schema you wish to issue\n",
    "* cred_def_id: The definition (public key) to sign the credential object. This must refer to the schema_id and be written to the ledger by the same public did that is currently being used by the agent.\n",
    "* attributes: A list of attribute objects as defined above. Must match the schema attributes.\n",
    "* comment (optional): Any string, defaults to \"\"\n",
    "* auto_remove (optional): Boolean, defaults to True. I believe this removes the record of this credential once it has been issued. (TODO: double check)\n",
    "* trace (optional): Boolean, defaults to False. **Not entirely sure about this one, believe its for logging. Also when set to True it throws an error**"
   ]
  },
  {
   "cell_type": "code",
   "execution_count": 11,
   "metadata": {},
   "outputs": [
    {
     "name": "stdout",
     "output_type": "stream",
     "text": [
      "{'issuer_did': 'PQRXDxdGqQGSZ8z69p4xZP', 'auto_remove': True, 'credential_proposal': {'@type': 'did:sov:BzCbsNYhMrjHiqZDTUASHg;spec/issue-credential/1.0/credential-preview', 'attributes': [{'name': 'name', 'value': 'Bob'}, {'name': 'skill', 'value': 'software engineer'}]}, 'connection_id': '49ec8c02-0616-40e1-b11a-55348a2a8f82', 'trace': False, 'comment': '', 'cred_def_id': 'PQRXDxdGqQGSZ8z69p4xZP:3:CL:10:default', 'schema_id': 'PQRXDxdGqQGSZ8z69p4xZP:2:open_mined_contributor:0.0.1', 'schema_name': 'open_mined_contributor', 'schema_version': '0.0.1', 'schema_issuer_did': 'PQRXDxdGqQGSZ8z69p4xZP'}\n",
      "Proposal credential exchange record ea8d1a1e-e1e3-48fd-b95b-8d0421313e7a, role: holder, state: proposal_sent\n",
      "Attributes: [{'name': 'name', 'value': 'Bob'}, {'name': 'skill', 'value': 'researcher'}]\n",
      "Handle Credentials\n",
      "Credential exchange ea8d1a1e-e1e3-48fd-b95b-8d0421313e7a, role: holder, state: proposal_sent\n",
      "Being offered: [{'name': 'name', 'value': 'Bob'}, {'name': 'skill', 'value': 'software engineer'}]\n"
     ]
    }
   ],
   "source": [
    "connection_id = cred_record['connection_id']\n",
    "schema_id = cred_record['schema_id']\n",
    "cred_def_id = cred_record['credential_definition_id']\n",
    "proposed_attributes = [{'name': 'name', 'value': 'Bob'}, {'name': 'skill', 'value': 'software engineer'}]\n",
    "\n",
    "proposal_record = await agent_controller.issuer.send_proposal(connection_id, schema_id, cred_def_id, proposed_attributes)\n",
    "proposal_record_id = proposal_record['credential_exchange_id']\n",
    "proposal_state = proposal_record['state']\n",
    "proposal_role = proposal_record['role']\n",
    "proposal_attributes = proposal_record['credential_proposal_dict']['credential_proposal']['attributes']\n",
    "print(f\"Proposal credential exchange record {proposal_record_id}, role: {proposal_role}, state: {proposal_state}\")\n",
    "print(f\"Attributes: {attributes}\")\n"
   ]
  },
  {
   "cell_type": "markdown",
   "metadata": {},
   "source": [
    "## Request Credential from Issuer\n",
    "\n",
    "If happy with the attributes being offered in the credential, then the holder requests the credential from the issuer to proceed with the issuance.\n",
    "\n",
    "It is only possible to request a credential from an exchange when it is in the offer_received state"
   ]
  },
  {
   "cell_type": "code",
   "execution_count": 13,
   "metadata": {},
   "outputs": [
    {
     "name": "stdout",
     "output_type": "stream",
     "text": [
      "Credential exchange 2126baeb-114d-4da6-b2c2-a8cb326d7d2e, role: holder, state: request_sent\n",
      "Handle Credentials\n",
      "Credential exchange 2126baeb-114d-4da6-b2c2-a8cb326d7d2e, role: holder, state: request_sent\n",
      "Being offered: [{'name': 'name', 'value': 'Bob'}, {'name': 'skill', 'value': 'researcher'}]\n",
      "Handle Credentials\n",
      "Credential exchange 2126baeb-114d-4da6-b2c2-a8cb326d7d2e, role: holder, state: credential_received\n",
      "Being offered: [{'name': 'name', 'value': 'Bob'}, {'name': 'skill', 'value': 'researcher'}]\n"
     ]
    }
   ],
   "source": [
    "record = await agent_controller.issuer.send_request_for_record(cred_ex_id)\n",
    "state = record['state']\n",
    "role = record['role']\n",
    "print(f\"Credential exchange {cred_ex_id}, role: {role}, state: {state}\")"
   ]
  },
  {
   "cell_type": "markdown",
   "metadata": {},
   "source": [
    "## Store the credential\n",
    "\n",
    "Once the issuer has responded to a request by sending the credential, the holder needs to store it to save the credential for later.\n",
    "\n",
    "First check that the credential record is in the credential_received state"
   ]
  },
  {
   "cell_type": "code",
   "execution_count": 14,
   "metadata": {},
   "outputs": [
    {
     "name": "stdout",
     "output_type": "stream",
     "text": [
      "Credential exchange 2126baeb-114d-4da6-b2c2-a8cb326d7d2e, role: holder, state: credential_received\n"
     ]
    }
   ],
   "source": [
    "record = await agent_controller.issuer.get_record_by_id(cred_ex_id)\n",
    "state = record['state']\n",
    "role = record['role']\n",
    "print(f\"Credential exchange {cred_ex_id}, role: {role}, state: {state}\")"
   ]
  },
  {
   "cell_type": "code",
   "execution_count": 15,
   "metadata": {},
   "outputs": [
    {
     "name": "stdout",
     "output_type": "stream",
     "text": [
      "Handle Credentials\n",
      "Credential exchange 2126baeb-114d-4da6-b2c2-a8cb326d7d2e, role: holder, state: credential_acked\n",
      "Being offered: [{'name': 'name', 'value': 'Bob'}, {'name': 'skill', 'value': 'researcher'}]\n",
      "Credential exchange 2126baeb-114d-4da6-b2c2-a8cb326d7d2e, role: holder, state: credential_acked\n"
     ]
    }
   ],
   "source": [
    "response = await agent_controller.issuer.store_credential(cred_ex_id, \"My OM Credential\")\n",
    "state = response['state']\n",
    "role = response['role']\n",
    "print(f\"Credential exchange {cred_ex_id}, role: {role}, state: {state}\")"
   ]
  },
  {
   "cell_type": "markdown",
   "metadata": {},
   "source": [
    "## End of Tutorial\n",
    "\n",
    "Be sure to terminate the controller so you can run another tutorial."
   ]
  },
  {
   "cell_type": "code",
   "execution_count": 16,
   "metadata": {},
   "outputs": [],
   "source": [
    "response = await agent_controller.terminate()\n"
   ]
  },
  {
   "cell_type": "code",
   "execution_count": null,
   "metadata": {},
   "outputs": [],
   "source": []
  }
 ],
 "metadata": {
  "kernelspec": {
   "display_name": "Python 3",
   "language": "python",
   "name": "python3"
  },
  "language_info": {
   "codemirror_mode": {
    "name": "ipython",
    "version": 3
   },
   "file_extension": ".py",
   "mimetype": "text/x-python",
   "name": "python",
   "nbconvert_exporter": "python",
   "pygments_lexer": "ipython3",
   "version": "3.7.6"
  }
 },
 "nbformat": 4,
 "nbformat_minor": 4
}
