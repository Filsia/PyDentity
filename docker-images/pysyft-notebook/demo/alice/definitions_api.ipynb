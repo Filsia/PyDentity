{
 "cells": [
  {
   "cell_type": "markdown",
   "metadata": {},
   "source": [
    "# Aries Basic Controller Example\n",
    "## Definitions Api\n",
    "\n",
    "This can be used to write credential definitions to the ledger and search the definitions previously written by the agent.\n",
    "\n",
    "A credential definition needs to be written to the ledger for every schema the agent wishes to issue. A credential definition acts as the public key in the [CL-signature scheme](https://wip-abramson.dev/cl-signatures) used in the sovrin ecosystem. \n",
    "\n",
    "For the interested the originally literature on this scheme can be found [here](https://citeseerx.ist.psu.edu/viewdoc/download?doi=10.1.1.186.5994&rep=rep1&type=pdf).\n",
    "\n",
    "The key takeaway is that by using this type of signature scheme we are able to sign each attribute in the schema individual, making selective disclosure and efficient zero knowledge proof generation possible."
   ]
  },
  {
   "cell_type": "code",
   "execution_count": 1,
   "metadata": {
    "pycharm": {
     "name": "#%%\n"
    }
   },
   "outputs": [
    {
     "name": "stdout",
     "output_type": "stream",
     "text": [
      "IPython autoawait is `on`, and set to use `asyncio`\n"
     ]
    }
   ],
   "source": [
    "%autoawait\n",
    "import time\n",
    "import asyncio"
   ]
  },
  {
   "cell_type": "code",
   "execution_count": 2,
   "metadata": {
    "pycharm": {
     "name": "#%%\n"
    }
   },
   "outputs": [],
   "source": [
    "from aries_basic_controller.aries_controller import AriesAgentController\n",
    "    \n",
    "WEBHOOK_HOST = \"0.0.0.0\"\n",
    "WEBHOOK_PORT = 8022\n",
    "WEBHOOK_BASE = \"\"\n",
    "ADMIN_URL = \"http://alice-agent:8021\"\n",
    "\n",
    "# Based on the aca-py agent you wish to control\n",
    "agent_controller = AriesAgentController(webhook_host=WEBHOOK_HOST, webhook_port=WEBHOOK_PORT,\n",
    "                                       webhook_base=WEBHOOK_BASE, admin_url=ADMIN_URL)\n",
    "    \n"
   ]
  },
  {
   "cell_type": "markdown",
   "metadata": {},
   "source": [
    "## Write a Schema to the Ledger first\n",
    "\n",
    "A credential definition is tied to a schema, each public DID may only write one credential definition per schema to the ledger. It is possible to write a credential definition for schemas that already exist on the ledger but because we are using a [fresh local network](http://localhost:9000) there aren't any so you must write one. See the schema_api notebook for more details."
   ]
  },
  {
   "cell_type": "code",
   "execution_count": 3,
   "metadata": {},
   "outputs": [
    {
     "name": "stdout",
     "output_type": "stream",
     "text": [
      "PQRXDxdGqQGSZ8z69p4xZP:2:my_new_schema:0.0.1\n"
     ]
    }
   ],
   "source": [
    "# Define you schema name - must be unique on the ledger\n",
    "schema_name = \"my_new_schema\"\n",
    "# Can version the schema if you wish to update it\n",
    "schema_version = \"0.0.1\"\n",
    "# Define any list of attributes you wish to include in your schema\n",
    "attributes = [\"name\", \"skill\"]\n",
    "\n",
    "response = await agent_controller.schemas.write_schema(schema_name, attributes, schema_version)\n",
    "schema_id = response[\"schema_id\"]\n",
    "print(schema_id)"
   ]
  },
  {
   "cell_type": "markdown",
   "metadata": {},
   "source": [
    "## Write a credential definition for this schema\n",
    "\n",
    "#### Arguments\n",
    "* schema_id - you need to pass in one of these and it must exist on the ledger\n",
    "* tag - tag to identity the definition later, defaults to default\n",
    "* support_revocation - Determines whether you will be able to later revoke the credential, defaults to False\n",
    "\n",
    "**Note: You should be able to see the transactions on the local network [here](http://localhost:9000)**"
   ]
  },
  {
   "cell_type": "code",
   "execution_count": 4,
   "metadata": {},
   "outputs": [
    {
     "name": "stdout",
     "output_type": "stream",
     "text": [
      "PQRXDxdGqQGSZ8z69p4xZP:3:CL:10:default\n"
     ]
    }
   ],
   "source": [
    "response = await agent_controller.definitions.write_cred_def(schema_id)\n",
    "\n",
    "cred_def_id = response[\"credential_definition_id\"]\n",
    "print(cred_def_id)\n"
   ]
  },
  {
   "cell_type": "markdown",
   "metadata": {},
   "source": [
    "## Get Created definition by id\n",
    "\n",
    "As you can see it contains a bunch of BIG numbers all defined in the signature scheme. Notice that 'r' contains numbers for name, skill and master_secret, all attributes within the credential schema. (All credential schemas contain a master_secret to identify the holder)\n"
   ]
  },
  {
   "cell_type": "code",
   "execution_count": 5,
   "metadata": {},
   "outputs": [
    {
     "name": "stdout",
     "output_type": "stream",
     "text": [
      "{'credential_definition': {'ver': '1.0', 'id': 'PQRXDxdGqQGSZ8z69p4xZP:3:CL:10:default', 'schemaId': '10', 'type': 'CL', 'tag': 'default', 'value': {'primary': {'n': '117348249298555620816378097089215434370235308448936230955131133326654214868878217081815360006116132532953538129760584332613323908624443929256781050187007203845824068602545485327161105407309572114201236766832047249405780839144960309457027105204738426099677324035658127602685366142072443364571039078555128249206057310889689064821151714396593459219644050788423713316295200899057922618352787737845278926941967284999050097263244555827127035215351871104548689505480315236434790686926209663124464568110519549044459561305118753423638604455611699085584896532424877931651884708486784793523108647596658894160024453716368811205889', 's': '71561028554571956613466619459835273643120462810825345572292872886083817490237871032155864730769419512303268359310034954118885915991167092176072816557393326167513689021830229076519089775560675577410326866336807673542198978118549554484961018220997942192660082631159283850845588191798717786864424657813932937942180140885421219933683609370510141936186904816940487013275936446749667376404409078063545435049674480533177330726165792567751925390269593240479658129963654944448254316470741826533437960477928759836778590293369831634256193452524278155286856003443101626903428172495877591221807024037564550431609903959002276655913', 'r': {'skill': '6861219311922796770087869209638072798866677306085172984951342079893381618226374826944806375381858457668687888834179305048687204072502219418487625559071015061552511638752617770331835818348318531723062647831912241987828364566316551273648007680494649511591238494142130655373001036686491132067850416501214714824650248874151697808086490782095822618304176124733991701415905707342765451640923277022602507660092433199152783123702662984129788655446703204754794522493195916969895406472037961570136237707869762605700350507456514630963661229771774631982985170809366443897359544383321446344324901213677741347673654906069190943734', 'master_secret': '67594577267322366716375901938076002638185617291329213993089089598836946482041611759863058311574456350271280099227101833975701280303707349257440563639099444735274004940252529874836295636360135005745349302925560701885231994323663673426499858454588248610216962403598432250060546504333465014452897323956054986645051292215845645546785121228690778239638490256063757289333206123226468082725249499414500005037102758796815375771978499966958611823472794929659936375472574656639382154298043824203571489131127304024506511280842987461522550357936507531720739300705830761114631763449365305726636011847571603782432419204126381044085', 'name': '3450474208921707090055461649900913683631878931626223399199777900369527468584976273019531680187396303772793485531421679913738176013116247533793998466804157387102366225208662744166886375851896223228179029849666966547632105937674632169941255445828249226052634264863302843403224446289219070776748715071430253522782276371623234412199661909322672464439668814043739457058052622298603755671666177274525989647853424293007406846515707736730136712597262732459851532107724486462485343009235404207288595981986505895816762480914825135036607776680655014478493422196925701358882111810980201068215805839063059508877175798374483125052'}, 'rctxt': '108953877194565822578202055517375412425560096072536508152904146397268595580329994408208454873090462865316369902659690775180648690309947028002608786262422695868721445348345808898705378588586205365297942486399562780302478887239008631148888600908535172482757789018113018631083352718259775439465215251207070284371606579508289728797191468127613170149224208274575781442882281249525906152160547522507821428887563696822119125917355103899898034074734085065192880231796291070469707169314111823047868570764529179453519762601594388905772607199164959039909265002484225597884779952305504886860588101202088791380864340903071860890630', 'z': '84164078531606843395952189716486218419243119254610983501638604517429749065964592378039097740091466738717166022928206000241359168131936679895830271552258440502698201483537283797369036851199208152805325652578267053624609679861915518013914046726384118505716715018072519950169769824397128178421736118003366108167966906684630528885278422549435110897741920965635702521375053307508568606112406835624030692375759457152185566530977763032457121248343040388659323072854727324306956538154115790547974134768319507926673454985900424288697699309233220439835731566225250946430299310638630056660167377011065738720671222848604644172674'}}}}\n"
     ]
    }
   ],
   "source": [
    "\n",
    "definition = await agent_controller.definitions.get_by_id(cred_def_id)\n",
    "print(definition)"
   ]
  },
  {
   "cell_type": "markdown",
   "metadata": {},
   "source": [
    "## Search all definitions the agent has created\n",
    "\n",
    "#### Optional Arguments\n",
    "* schema_id\n",
    "* schema_issuer_did\n",
    "* schema_version\n",
    "* schema_name\n",
    "* issuer_did\n",
    "* cred_def_id"
   ]
  },
  {
   "cell_type": "code",
   "execution_count": 5,
   "metadata": {},
   "outputs": [
    {
     "name": "stdout",
     "output_type": "stream",
     "text": [
      "{'credential_definition_ids': ['PQRXDxdGqQGSZ8z69p4xZP:3:CL:10:default']}\n"
     ]
    }
   ],
   "source": [
    "definitions = await agent_controller.definitions.search_created(cred_def_id=cred_def_id)\n",
    "print(definitions)"
   ]
  },
  {
   "cell_type": "code",
   "execution_count": null,
   "metadata": {},
   "outputs": [],
   "source": []
  }
 ],
 "metadata": {
  "kernelspec": {
   "display_name": "Python 3",
   "language": "python",
   "name": "python3"
  },
  "language_info": {
   "codemirror_mode": {
    "name": "ipython",
    "version": 3
   },
   "file_extension": ".py",
   "mimetype": "text/x-python",
   "name": "python",
   "nbconvert_exporter": "python",
   "pygments_lexer": "ipython3",
   "version": "3.7.6"
  },
  "pycharm": {
   "stem_cell": {
    "cell_type": "raw",
    "metadata": {
     "collapsed": false
    },
    "source": []
   }
  }
 },
 "nbformat": 4,
 "nbformat_minor": 1
}
