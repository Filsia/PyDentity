{
 "cells": [
  {
   "cell_type": "markdown",
   "metadata": {
    "collapsed": true
   },
   "source": [
    "# Aries Basic Controller Example\n",
    "## Schema Api"
   ]
  },
  {
   "cell_type": "code",
   "execution_count": 1,
   "metadata": {},
   "outputs": [
    {
     "name": "stdout",
     "output_type": "stream",
     "text": [
      "IPython autoawait is `on`, and set to use `asyncio`\n"
     ]
    }
   ],
   "source": [
    "%autoawait\n",
    "import time\n",
    "import asyncio"
   ]
  },
  {
   "cell_type": "code",
   "execution_count": 2,
   "metadata": {},
   "outputs": [],
   "source": [
    "from aries_basic_controller.aries_controller import AriesAgentController\n",
    "    \n",
    "WEBHOOK_HOST = \"0.0.0.0\"\n",
    "WEBHOOK_PORT = 8022\n",
    "WEBHOOK_BASE = \"\"\n",
    "ADMIN_URL = \"http://alice-agent:8021\"\n",
    "\n",
    "# Based on the aca-py agent you wish to control\n",
    "agent_controller = AriesAgentController(webhook_host=WEBHOOK_HOST, webhook_port=WEBHOOK_PORT,\n",
    "                                       webhook_base=WEBHOOK_BASE, admin_url=ADMIN_URL)"
   ]
  },
  {
   "cell_type": "markdown",
   "metadata": {},
   "source": [
    "## Define schema arguments"
   ]
  },
  {
   "cell_type": "code",
   "execution_count": 5,
   "metadata": {},
   "outputs": [],
   "source": [
    "# Define you schema name - must be unique on the ledger\n",
    "schema_name = \"alice_test_schema\"\n",
    "# Can version the schema if you wish to update it\n",
    "schema_version = \"0.0.1\"\n",
    "# Define any list of attributes you wish to include in your schema\n",
    "attributes = [\"name\", \"skill\"]\n"
   ]
  },
  {
   "cell_type": "markdown",
   "metadata": {},
   "source": [
    "## Write Schema to Ledger"
   ]
  },
  {
   "cell_type": "code",
   "execution_count": 6,
   "metadata": {},
   "outputs": [
    {
     "name": "stdout",
     "output_type": "stream",
     "text": [
      "PQRXDxdGqQGSZ8z69p4xZP:2:alice_test_schema:0.0.2\n"
     ]
    }
   ],
   "source": [
    "response = await agent_controller.schema.write_schema(schema_name, attributes, schema_version)\n",
    "schema_id = response[\"schema_id\"]\n",
    "print(schema_id)"
   ]
  },
  {
   "cell_type": "markdown",
   "metadata": {},
   "source": [
    "## Get Schema on Ledger by ID\n",
    "\n",
    "Note that this does not have to be a schema that the agent has written itself."
   ]
  },
  {
   "cell_type": "code",
   "execution_count": 7,
   "metadata": {},
   "outputs": [
    {
     "name": "stdout",
     "output_type": "stream",
     "text": [
      "{'schema': {'ver': '1.0', 'id': 'PQRXDxdGqQGSZ8z69p4xZP:2:alice_test_schema:0.0.2', 'name': 'alice_test_schema', 'version': '0.0.2', 'attrNames': ['skill', 'name'], 'seqNo': 11}}\n"
     ]
    }
   ],
   "source": [
    "schema = await agent_controller.schema.get_by_id(schema_id)\n",
    "print(schema)"
   ]
  },
  {
   "cell_type": "markdown",
   "metadata": {},
   "source": [
    "## Search ledger for schema\n",
    "\n",
    "### Returns a list of schema ids\n",
    "\n",
    "#### Arguments:\n",
    "* schema_id - if searching for a particular set of scheme (many versions)\n",
    "* schema_issuer_did - returns a set of schema created by a particular DID. Defaults to the agents DID\n",
    "* schema_name - name of schema you are looking for\n",
    "* schema_version - particular version of a schema"
   ]
  },
  {
   "cell_type": "code",
   "execution_count": 8,
   "metadata": {},
   "outputs": [
    {
     "name": "stdout",
     "output_type": "stream",
     "text": [
      "{'schema_ids': ['PQRXDxdGqQGSZ8z69p4xZP:2:alice_test_schema:0.0.1', 'PQRXDxdGqQGSZ8z69p4xZP:2:alice_test_schema:0.0.2']}\n"
     ]
    }
   ],
   "source": [
    "created_schema = await agent_controller.schema.get_created_schema()\n",
    "print(created_schema)"
   ]
  },
  {
   "cell_type": "code",
   "execution_count": 9,
   "metadata": {},
   "outputs": [
    {
     "name": "stdout",
     "output_type": "stream",
     "text": [
      "{'schema_ids': ['PQRXDxdGqQGSZ8z69p4xZP:2:alice_test_schema:0.0.2']}\n"
     ]
    }
   ],
   "source": [
    "created_schema = await agent_controller.schema.get_created_schema(schema_id=schema_id)\n",
    "print(created_schema)"
   ]
  },
  {
   "cell_type": "code",
   "execution_count": 11,
   "metadata": {},
   "outputs": [
    {
     "name": "stdout",
     "output_type": "stream",
     "text": [
      "{'schema_ids': ['PQRXDxdGqQGSZ8z69p4xZP:2:alice_test_schema:0.0.1']}\n"
     ]
    }
   ],
   "source": [
    "created_schema = await agent_controller.schema.get_created_schemas(schema_version='0.0.1')\n",
    "print(created_schema)"
   ]
  },
  {
   "cell_type": "code",
   "execution_count": 13,
   "metadata": {},
   "outputs": [
    {
     "name": "stdout",
     "output_type": "stream",
     "text": [
      "{'schema_ids': []}\n"
     ]
    }
   ],
   "source": [
    "\n",
    "created_schema = await agent_controller.schema.get_created_schema(schema_issuer_did='somerandomdid')\n",
    "print(created_schema)"
   ]
  },
  {
   "cell_type": "code",
   "execution_count": null,
   "metadata": {},
   "outputs": [],
   "source": []
  }
 ],
 "metadata": {
  "kernelspec": {
   "display_name": "Python 3",
   "language": "python",
   "name": "python3"
  },
  "language_info": {
   "codemirror_mode": {
    "name": "ipython",
    "version": 3
   },
   "file_extension": ".py",
   "mimetype": "text/x-python",
   "name": "python",
   "nbconvert_exporter": "python",
   "pygments_lexer": "ipython3",
   "version": "3.7.6"
  },
  "pycharm": {
   "stem_cell": {
    "cell_type": "raw",
    "source": [],
    "metadata": {
     "collapsed": false
    }
   }
  }
 },
 "nbformat": 4,
 "nbformat_minor": 1
}