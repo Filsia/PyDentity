{
 "cells": [
  {
   "cell_type": "markdown",
   "metadata": {
    "collapsed": true
   },
   "source": [
    "# Aries Basic Controller - Issuer Alice\n",
    "\n",
    "This notebook walks through how to issue a credential across a previously established connection. It is best run in parallel with the [Holder notebook](http://localhost:8889/notebooks/holder.ipynb) controlling the agent receiving the credential.\n",
    "\n",
    "If unfamiliar with the protocol it is worth reading through the [aries-rfs](https://github.com/hyperledger/aries-rfcs/tree/master/features/0036-issue-credential)\n"
   ]
  },
  {
   "cell_type": "code",
   "execution_count": 1,
   "metadata": {},
   "outputs": [
    {
     "name": "stdout",
     "output_type": "stream",
     "text": [
      "IPython autoawait is `on`, and set to use `asyncio`\n"
     ]
    }
   ],
   "source": [
    "%autoawait\n",
    "import time\n",
    "import asyncio"
   ]
  },
  {
   "cell_type": "code",
   "execution_count": 2,
   "metadata": {},
   "outputs": [],
   "source": [
    "from aries_basic_controller.aries_controller import AriesAgentController\n",
    "    \n",
    "WEBHOOK_HOST = \"0.0.0.0\"\n",
    "WEBHOOK_PORT = 8022\n",
    "WEBHOOK_BASE = \"\"\n",
    "ADMIN_URL = \"http://alice-agent:8021\"\n",
    "\n",
    "# Based on the aca-py agent you wish to control\n",
    "agent_controller = AriesAgentController(webhook_host=WEBHOOK_HOST, webhook_port=WEBHOOK_PORT,\n",
    "                                       webhook_base=WEBHOOK_BASE, admin_url=ADMIN_URL)\n",
    "    "
   ]
  },
  {
   "cell_type": "markdown",
   "metadata": {},
   "source": [
    "## Register Listeners\n",
    "\n",
    "The handler should get called every time the controller receives a webhook with the topic issue_credential, printing out the payload. The agent calls to this webhook every time it receives an issue-credential protocol message from a credential."
   ]
  },
  {
   "cell_type": "code",
   "execution_count": 3,
   "metadata": {},
   "outputs": [],
   "source": [
    "loop = asyncio.get_event_loop()\n",
    "loop.create_task(agent_controller.listen_webhooks())\n",
    "\n",
    "def cred_handler(payload):\n",
    "    print(\"Handle Credentials\")\n",
    "    exchange_id = payload['credential_exchange_id']\n",
    "    state = payload['state']\n",
    "    role = payload['role']\n",
    "    attributes = payload['credential_proposal_dict']['credential_proposal']['attributes']\n",
    "    print(f\"Credential exchange {exchange_id}, role: {role}, state: {state}\")\n",
    "    print(f\"Being offered: {attributes}\")\n",
    "    \n",
    "cred_listener = {\n",
    "    \"topic\": \"issue_credential\",\n",
    "    \"handler\": cred_handler\n",
    "}\n",
    "agent_controller.register_listeners([cred_listener], defaults=True)\n"
   ]
  },
  {
   "cell_type": "markdown",
   "metadata": {},
   "source": [
    "## Check the agent has an active connection\n",
    "\n",
    "**Note: An active connection is required, this should have been established on start up through the python script create_connection.py in the setup folder. If not it is possible to run through the did-exchange tutorial to create one between Alice and Bob**\n",
    "\n",
    "* [Alice](http://localhost:8888/notebooks/did-exchange-inviter.ipynb)\n",
    "* [Bob](http://localhost:8889/notebooks/did-exchange-invitee.ipynb)"
   ]
  },
  {
   "cell_type": "code",
   "execution_count": 4,
   "metadata": {},
   "outputs": [
    {
     "name": "stdout",
     "output_type": "stream",
     "text": [
      "Results :  [{'connection_id': 'ba15ba75-51c1-4b6a-a771-c1c2891e179e', 'initiator': 'external', 'invitation_key': '3V2bVcNLhARUhiVvfHfxqWdc8p9Nt1rgzLuHckbUzfyR', 'created_at': '2020-07-09 15:42:49.132515Z', 'my_did': 'YZcXXhm22VW3LGpWy3iGtg', 'state': 'active', 'routing_state': 'none', 'their_label': 'Bob', 'updated_at': '2020-07-09 15:42:59.259713Z', 'their_did': '7KG1LK8j7YPBYCHGhBSSjc', 'request_id': '31debc08-1d95-4e32-8a92-79e9a51718e0', 'invitation_mode': 'once', 'accept': 'manual'}]\n",
      "Connection : {'connection_id': 'ba15ba75-51c1-4b6a-a771-c1c2891e179e', 'initiator': 'external', 'invitation_key': '3V2bVcNLhARUhiVvfHfxqWdc8p9Nt1rgzLuHckbUzfyR', 'created_at': '2020-07-09 15:42:49.132515Z', 'my_did': 'YZcXXhm22VW3LGpWy3iGtg', 'state': 'active', 'routing_state': 'none', 'their_label': 'Bob', 'updated_at': '2020-07-09 15:42:59.259713Z', 'their_did': '7KG1LK8j7YPBYCHGhBSSjc', 'request_id': '31debc08-1d95-4e32-8a92-79e9a51718e0', 'invitation_mode': 'once', 'accept': 'manual'}\n",
      "Active Connection ID :  ba15ba75-51c1-4b6a-a771-c1c2891e179e\n"
     ]
    }
   ],
   "source": [
    "response = await agent_controller.connections.get_connections()\n",
    "results = response['results']\n",
    "print(\"Results : \", results)\n",
    "if len(results) > 0:\n",
    "    connection = response['results'][0]\n",
    "    print(\"Connection :\", connection)\n",
    "    if connection['state'] == 'active':       \n",
    "        connection_id = connection[\"connection_id\"]\n",
    "        print(\"Active Connection ID : \", connection_id)\n",
    "else:\n",
    "    print(\"You must create a connection\")\n",
    "    \n"
   ]
  },
  {
   "cell_type": "markdown",
   "metadata": {},
   "source": [
    "## Write a Schema to the Ledger\n",
    "\n",
    "For more details see the [schema-api notebook](http://localhost:8888/notebooks/schema_api.ipynb)"
   ]
  },
  {
   "cell_type": "code",
   "execution_count": 5,
   "metadata": {},
   "outputs": [
    {
     "name": "stdout",
     "output_type": "stream",
     "text": [
      "PQRXDxdGqQGSZ8z69p4xZP:2:open_mined_contributor:0.0.1\n"
     ]
    }
   ],
   "source": [
    "# Define you schema name - must be unique on the ledger\n",
    "schema_name = \"open_mined_contributor\"\n",
    "# Can version the schema if you wish to update it\n",
    "schema_version = \"0.0.1\"\n",
    "# Define any list of attributes you wish to include in your schema\n",
    "attributes = [\"name\", \"skill\"]\n",
    "\n",
    "response = await agent_controller.schema.write_schema(schema_name, attributes, schema_version)\n",
    "schema_id = response[\"schema_id\"]\n",
    "print(schema_id)\n"
   ]
  },
  {
   "cell_type": "markdown",
   "metadata": {},
   "source": [
    "## Write a Credential Definition to the Ledger\n",
    "\n",
    "More details in the [definitions notebook](http://localhost:8888/notebooks/definitions_api.ipynb)"
   ]
  },
  {
   "cell_type": "code",
   "execution_count": 6,
   "metadata": {},
   "outputs": [
    {
     "name": "stdout",
     "output_type": "stream",
     "text": [
      "PQRXDxdGqQGSZ8z69p4xZP:3:CL:10:default\n"
     ]
    }
   ],
   "source": [
    "response = await agent_controller.definitions.write_cred_def(schema_id)\n",
    "\n",
    "cred_def_id = response[\"credential_definition_id\"]\n",
    "print(cred_def_id)"
   ]
  },
  {
   "cell_type": "markdown",
   "metadata": {},
   "source": [
    "**Note: You should be able to see both schema and definition transactions on the local network [here](http://localhost:9000)**"
   ]
  },
  {
   "cell_type": "markdown",
   "metadata": {},
   "source": [
    "## Populate the Attribues to Issue to Bob\n",
    "\n",
    "The schema defines two attributes: name and skill. Both must be populated with attribute values that Alice wishes to issue in a credential to Bob. To do this a list of objects must be created, each object containing the name of the attribute and it's value at a minimum. You can set the values to anything you wish.\n",
    "\n",
    "TODO: Some additional fields such as mime-type can be defined."
   ]
  },
  {
   "cell_type": "code",
   "execution_count": 7,
   "metadata": {},
   "outputs": [
    {
     "name": "stdout",
     "output_type": "stream",
     "text": [
      "[{'name': 'name', 'value': 'Bob'}, {'name': 'skill', 'value': 'researcher'}]\n"
     ]
    }
   ],
   "source": [
    "credential_attributes = [\n",
    "    {\"name\": \"name\", \"value\": \"Bob\"},\n",
    "    {\"name\": \"skill\", \"value\": \"researcher\"}\n",
    "]\n",
    "print(credential_attributes)"
   ]
  },
  {
   "cell_type": "markdown",
   "metadata": {},
   "source": [
    "## Send Credential\n",
    "\n",
    "This sends a credential to a holder (Bob), and automates the rest of the protocol. This tutorial works best if you have initialised the [holder notebook](http://localhost:8889/notebooks/holder.ipynb) and registered the listener for the issue_credential webhook.\n",
    "\n",
    "There are other ways to issue a credential that require multiple api calls.\n",
    "\n",
    "**Arguments**\n",
    "* connection_id: The connection_id of the holder you wish to issue to (MUST be in active state)\n",
    "* schema_id: The id of the schema you wish to issue\n",
    "* cred_def_id: The definition (public key) to sign the credential object. This must refer to the schema_id and be written to the ledger by the same public did that is currently being used by the agent.\n",
    "* attributes: A list of attribute objects as defined above. Must match the schema attributes.\n",
    "* comment (optional): Any string, defaults to \"\"\n",
    "* auto_remove (optional): Boolean, defaults to True. I believe this removes the record of this credential once it has been issued. (TODO: double check)\n",
    "* trace (optional): Boolean, defaults to False. **Not entirely sure about this one, believe its for logging. Also when set to True it throws an error**"
   ]
  },
  {
   "cell_type": "code",
   "execution_count": 9,
   "metadata": {},
   "outputs": [
    {
     "name": "stdout",
     "output_type": "stream",
     "text": [
      "{'issuer_did': 'PQRXDxdGqQGSZ8z69p4xZP', 'auto_remove': True, 'credential_proposal': {'@type': 'did:sov:BzCbsNYhMrjHiqZDTUASHg;spec/issue-credential/1.0/credential-preview', 'attributes': [{'name': 'name', 'value': 'Bob'}, {'name': 'skill', 'value': 'researcher'}]}, 'connection_id': 'ba15ba75-51c1-4b6a-a771-c1c2891e179e', 'trace': False, 'comment': '', 'cred_def_id': 'PQRXDxdGqQGSZ8z69p4xZP:3:CL:10:default', 'schema_id': 'PQRXDxdGqQGSZ8z69p4xZP:2:open_mined_contributor:0.0.1', 'schema_name': 'open_mined_contributor', 'schema_version': '0.0.1', 'schema_issuer_did': 'PQRXDxdGqQGSZ8z69p4xZP'}\n",
      "Credential exchange 937d7a76-aa6d-4728-8f3c-a23dee80f269, role: issuer, state: offer_sent\n",
      "Handle Credentials\n",
      "Credential exchange 937d7a76-aa6d-4728-8f3c-a23dee80f269, role: issuer, state: offer_sent\n",
      "Being offered: [{'name': 'name', 'value': 'Bob'}, {'name': 'skill', 'value': 'researcher'}]\n"
     ]
    }
   ],
   "source": [
    "record = await agent_controller.issuer.send_credential(connection_id, schema_id, cred_def_id, credential_attributes, trace=False)\n",
    "record_id = record['credential_exchange_id']\n",
    "state = record['state']\n",
    "role = record['role']\n",
    "print(f\"Credential exchange {record_id}, role: {role}, state: {state}\")\n"
   ]
  },
  {
   "cell_type": "markdown",
   "metadata": {},
   "source": [
    "## Get Credential Exchange Records\n",
    "\n",
    "The state of the protocol is stored in an object called a Credential Exchange. These can be retrieved from the agent either individually by ID or the full list.\n",
    "\n",
    "Each record has a state, representing the stage of the protocol the record is at and a role. Either issuer or holder."
   ]
  },
  {
   "cell_type": "code",
   "execution_count": 11,
   "metadata": {},
   "outputs": [
    {
     "name": "stdout",
     "output_type": "stream",
     "text": [
      "[{'credential_proposal_dict': {'@type': 'did:sov:BzCbsNYhMrjHiqZDTUASHg;spec/issue-credential/1.0/propose-credential', '@id': 'b6d92f87-a3cc-4b77-9516-d43d775b9ad9', 'cred_def_id': 'PQRXDxdGqQGSZ8z69p4xZP:3:CL:10:default', 'issuer_did': 'PQRXDxdGqQGSZ8z69p4xZP', 'schema_issuer_did': 'PQRXDxdGqQGSZ8z69p4xZP', 'schema_id': 'PQRXDxdGqQGSZ8z69p4xZP:2:open_mined_contributor:0.0.1', 'comment': '', 'schema_version': '0.0.1', 'schema_name': 'open_mined_contributor', 'credential_proposal': {'@type': 'did:sov:BzCbsNYhMrjHiqZDTUASHg;spec/issue-credential/1.0/credential-preview', 'attributes': [{'name': 'name', 'value': 'Bob'}, {'name': 'skill', 'value': 'researcher'}]}}, 'updated_at': '2020-07-09 16:04:52.437427Z', 'auto_offer': False, 'auto_remove': True, 'trace': False, 'credential_offer': {'schema_id': 'PQRXDxdGqQGSZ8z69p4xZP:2:open_mined_contributor:0.0.1', 'cred_def_id': 'PQRXDxdGqQGSZ8z69p4xZP:3:CL:10:default', 'key_correctness_proof': {'c': '46268802052609902668838671703638605027761697238086948435423083040147158874419', 'xz_cap': '875212275449692289595117135455512073508592539802097982561705543690159795460192503723322283006816719903110356209457674613670111496780775200070642669510915586910860082686692573642969326720434690892910810349110051339038384871308092648430503025035678803433776964965644693621807683507582013867783640436328463046476805412683431245771677665797461525668436256189167118787624980226442312248025207606403892799309685191773473331846698468141078866102953536785663457159611979310267109523587819407236508919188020737420537705448006987527462052767466683509653940919296194688502793981103773060723598679101684988152190401822752729030890868559928510469855393043631735799257114338522835635042548301485311191059918', 'xr_cap': [['master_secret', '270104140317483729805151671768235465461289653032841353801360450060887479753421119457836887239038831534113823028093263869169791411903417936139954468265576684051646821907942115861363618116393854100291527920148595762434035496061818673265690402843270146620322066448398190467831878520390714924751232256868842160314612227943550345019728551752803819024982101226559534249386844538967354564296093552909265146074558988011115079189820949120483275388408129576302868782863124707164708582172936118462626006663439134757225292112711823512030494884997226644278225744665532145283810477801709286465879247495500543888802849225080648879804806701472017297118721007014673493966898839987125486881975352638442265826258'], ['skill', '899993984273507561179168162422417123059938084626076290680090506332815433514308590130385848086133966490524338677320907440611399044190395511226696322262374978481283540111176043883124229691161842481693255116108655230588380324105393812670818439217462927051929764620417784367287261583097654782860065213807964566729584993822849488240873011404846094053743552303279411996765980833481896927762237379222237283984326601279057549004455365722332551766694803863690949709481418430140174417191127301382436050243476841978693764537630229147915959339587347623448132274738465615770332404929103967873569287611193710043075629250562840957350284378200898175107810988488085477887313230650058055755376139317198981047343'], ['name', '761083165804231541616092861540166672772106269957551344418518664183677870241085130555518290822247280663074247668175458119815386946233701524771184002555790507900149740846219507974493755612958631708968219332323247972647681366371458122643994019678277234718482971831010724729163037002975107981381216135628915278501268983339890450543176247862567479517629344731924773468278394285786686235598831039026712057095996114016708098806531999547874007181870988036472626232996348837657078903492944424421904174339976030728350835377398127195634468727787773550836940426325291782863706097330082948090122176462238733121673133556146644626936462288919413161493355944901075593142826670532797636887240612529605333086448']]}, 'nonce': '102377456687330324047878'}, 'thread_id': '787eee1b-7cc8-4d2e-bbce-64caea84cdc8', 'connection_id': 'ba15ba75-51c1-4b6a-a771-c1c2891e179e', 'initiator': 'self', 'created_at': '2020-07-09 16:04:52.437427Z', 'auto_issue': True, 'credential_exchange_id': '937d7a76-aa6d-4728-8f3c-a23dee80f269', 'state': 'offer_sent', 'credential_definition_id': 'PQRXDxdGqQGSZ8z69p4xZP:3:CL:10:default', 'schema_id': 'PQRXDxdGqQGSZ8z69p4xZP:2:open_mined_contributor:0.0.1', 'role': 'issuer'}, {'credential_proposal_dict': {'@type': 'did:sov:BzCbsNYhMrjHiqZDTUASHg;spec/issue-credential/1.0/propose-credential', '@id': '78759c68-7a54-4d52-8086-4140b99ed68b', 'cred_def_id': 'PQRXDxdGqQGSZ8z69p4xZP:3:CL:10:default', 'issuer_did': 'PQRXDxdGqQGSZ8z69p4xZP', 'schema_issuer_did': 'PQRXDxdGqQGSZ8z69p4xZP', 'schema_id': 'PQRXDxdGqQGSZ8z69p4xZP:2:open_mined_contributor:0.0.1', 'comment': '', 'schema_version': '0.0.1', 'schema_name': 'open_mined_contributor', 'credential_proposal': {'@type': 'did:sov:BzCbsNYhMrjHiqZDTUASHg;spec/issue-credential/1.0/credential-preview', 'attributes': [{'name': 'name', 'value': 'Bob'}, {'name': 'skill', 'value': 'researcher'}]}}, 'updated_at': '2020-07-09 16:03:53.224579Z', 'auto_offer': False, 'auto_remove': True, 'trace': False, 'credential_offer': {'schema_id': 'PQRXDxdGqQGSZ8z69p4xZP:2:open_mined_contributor:0.0.1', 'cred_def_id': 'PQRXDxdGqQGSZ8z69p4xZP:3:CL:10:default', 'key_correctness_proof': {'c': '46268802052609902668838671703638605027761697238086948435423083040147158874419', 'xz_cap': '875212275449692289595117135455512073508592539802097982561705543690159795460192503723322283006816719903110356209457674613670111496780775200070642669510915586910860082686692573642969326720434690892910810349110051339038384871308092648430503025035678803433776964965644693621807683507582013867783640436328463046476805412683431245771677665797461525668436256189167118787624980226442312248025207606403892799309685191773473331846698468141078866102953536785663457159611979310267109523587819407236508919188020737420537705448006987527462052767466683509653940919296194688502793981103773060723598679101684988152190401822752729030890868559928510469855393043631735799257114338522835635042548301485311191059918', 'xr_cap': [['master_secret', '270104140317483729805151671768235465461289653032841353801360450060887479753421119457836887239038831534113823028093263869169791411903417936139954468265576684051646821907942115861363618116393854100291527920148595762434035496061818673265690402843270146620322066448398190467831878520390714924751232256868842160314612227943550345019728551752803819024982101226559534249386844538967354564296093552909265146074558988011115079189820949120483275388408129576302868782863124707164708582172936118462626006663439134757225292112711823512030494884997226644278225744665532145283810477801709286465879247495500543888802849225080648879804806701472017297118721007014673493966898839987125486881975352638442265826258'], ['skill', '899993984273507561179168162422417123059938084626076290680090506332815433514308590130385848086133966490524338677320907440611399044190395511226696322262374978481283540111176043883124229691161842481693255116108655230588380324105393812670818439217462927051929764620417784367287261583097654782860065213807964566729584993822849488240873011404846094053743552303279411996765980833481896927762237379222237283984326601279057549004455365722332551766694803863690949709481418430140174417191127301382436050243476841978693764537630229147915959339587347623448132274738465615770332404929103967873569287611193710043075629250562840957350284378200898175107810988488085477887313230650058055755376139317198981047343'], ['name', '761083165804231541616092861540166672772106269957551344418518664183677870241085130555518290822247280663074247668175458119815386946233701524771184002555790507900149740846219507974493755612958631708968219332323247972647681366371458122643994019678277234718482971831010724729163037002975107981381216135628915278501268983339890450543176247862567479517629344731924773468278394285786686235598831039026712057095996114016708098806531999547874007181870988036472626232996348837657078903492944424421904174339976030728350835377398127195634468727787773550836940426325291782863706097330082948090122176462238733121673133556146644626936462288919413161493355944901075593142826670532797636887240612529605333086448']]}, 'nonce': '102377456687330324047878'}, 'thread_id': '17534a1b-df5a-4d1b-b923-467a2cce2bc2', 'connection_id': 'ba15ba75-51c1-4b6a-a771-c1c2891e179e', 'initiator': 'self', 'created_at': '2020-07-09 16:03:53.224579Z', 'auto_issue': True, 'credential_exchange_id': '9c408f6c-c164-4682-b0b4-d0e29dedcea7', 'state': 'offer_sent', 'credential_definition_id': 'PQRXDxdGqQGSZ8z69p4xZP:3:CL:10:default', 'schema_id': 'PQRXDxdGqQGSZ8z69p4xZP:2:open_mined_contributor:0.0.1', 'role': 'issuer'}]\n"
     ]
    }
   ],
   "source": [
    "response = await agent_controller.issuer.get_records()\n",
    "print(response['results'])"
   ]
  },
  {
   "cell_type": "code",
   "execution_count": 12,
   "metadata": {},
   "outputs": [
    {
     "name": "stdout",
     "output_type": "stream",
     "text": [
      "Credential exchange 937d7a76-aa6d-4728-8f3c-a23dee80f269, role: issuer, state: offer_sent\n",
      "Handle Credentials\n",
      "Credential exchange 5def5a31-069f-498d-9053-095ae673d934, role: issuer, state: proposal_received\n",
      "Being offered: [{'name': 'name', 'value': 'Bob'}, {'name': 'skill', 'value': 'software engineer'}]\n",
      "Handle Credentials\n",
      "Credential exchange 91e4e1e1-503e-49aa-917d-dda16adf953c, role: issuer, state: proposal_received\n",
      "Being offered: [{'name': 'name', 'value': 'Bob'}, {'name': 'skill', 'value': 'software engineer'}]\n",
      "Handle Credentials\n",
      "Credential exchange 3b7e2b0c-f907-4dfd-b138-c526136925a3, role: issuer, state: proposal_received\n",
      "Being offered: [{'name': 'name', 'value': 'Bob'}, {'name': 'skill', 'value': 'software engineer'}]\n",
      "Handle Credentials\n",
      "Credential exchange 937d7a76-aa6d-4728-8f3c-a23dee80f269, role: issuer, state: request_received\n",
      "Being offered: [{'name': 'name', 'value': 'Bob'}, {'name': 'skill', 'value': 'researcher'}]\n",
      "Handle Credentials\n",
      "Credential exchange 937d7a76-aa6d-4728-8f3c-a23dee80f269, role: issuer, state: credential_issued\n",
      "Being offered: [{'name': 'name', 'value': 'Bob'}, {'name': 'skill', 'value': 'researcher'}]\n",
      "Handle Credentials\n",
      "Credential exchange 937d7a76-aa6d-4728-8f3c-a23dee80f269, role: issuer, state: credential_acked\n",
      "Being offered: [{'name': 'name', 'value': 'Bob'}, {'name': 'skill', 'value': 'researcher'}]\n"
     ]
    }
   ],
   "source": [
    "cred_record = await agent_controller.issuer.get_record_by_id(record_id)\n",
    "state = cred_record['state']\n",
    "role = cred_record['role']\n",
    "print(f\"Credential exchange {record_id}, role: {role}, state: {state}\")"
   ]
  },
  {
   "cell_type": "markdown",
   "metadata": {},
   "source": [
    "## Remove Credential Exchange\n",
    "\n",
    "It is possible to remove stored credential exchanges from an agent. Typically when you are not interested in the credential being offered, or the credential offer that you have sent has become stale (been ignored?)."
   ]
  },
  {
   "cell_type": "code",
   "execution_count": 15,
   "metadata": {},
   "outputs": [
    {
     "ename": "ClientResponseError",
     "evalue": "404, message='Not Found', url=URL('http://alice-agent:8021/issue-credential/records/22b59951-89c0-40d5-9d96-fa31093b2d25/remove')",
     "output_type": "error",
     "traceback": [
      "\u001b[0;31m---------------------------------------------------------------------------\u001b[0m",
      "\u001b[0;31mClientResponseError\u001b[0m                       Traceback (most recent call last)",
      "\u001b[0;32m<ipython-input-15-1f47caf85c4a>\u001b[0m in \u001b[0;36masync-def-wrapper\u001b[0;34m()\u001b[0m\n\u001b[1;32m      2\u001b[0m \u001b[0mprint\u001b[0m\u001b[0;34m(\u001b[0m\u001b[0mresponse\u001b[0m\u001b[0;34m)\u001b[0m\u001b[0;34m\u001b[0m\u001b[0;34m\u001b[0m\u001b[0m\n\u001b[1;32m      3\u001b[0m \u001b[0mresponse\u001b[0m \u001b[0;34m=\u001b[0m \u001b[0;32mawait\u001b[0m \u001b[0magent_controller\u001b[0m\u001b[0;34m.\u001b[0m\u001b[0missuer\u001b[0m\u001b[0;34m.\u001b[0m\u001b[0mget_records\u001b[0m\u001b[0;34m(\u001b[0m\u001b[0;34m)\u001b[0m\u001b[0;34m\u001b[0m\u001b[0;34m\u001b[0m\u001b[0m\n\u001b[0;32m----> 4\u001b[0;31m \u001b[0mprint\u001b[0m\u001b[0;34m(\u001b[0m\u001b[0mresponse\u001b[0m\u001b[0;34m)\u001b[0m\u001b[0;34m\u001b[0m\u001b[0;34m\u001b[0m\u001b[0m\n\u001b[0m",
      "\u001b[0;32m/workspace/aries_basic_controller/issuer_controller.py\u001b[0m in \u001b[0;36mremove_record\u001b[0;34m(self, cred_ex_id)\u001b[0m\n\u001b[1;32m    103\u001b[0m     \u001b[0;31m# Remove an existing credential exchange record\u001b[0m\u001b[0;34m\u001b[0m\u001b[0;34m\u001b[0m\u001b[0;34m\u001b[0m\u001b[0m\n\u001b[1;32m    104\u001b[0m     \u001b[0;32masync\u001b[0m \u001b[0;32mdef\u001b[0m \u001b[0mremove_record\u001b[0m\u001b[0;34m(\u001b[0m\u001b[0mself\u001b[0m\u001b[0;34m,\u001b[0m \u001b[0mcred_ex_id\u001b[0m\u001b[0;34m)\u001b[0m\u001b[0;34m:\u001b[0m\u001b[0;34m\u001b[0m\u001b[0;34m\u001b[0m\u001b[0m\n\u001b[0;32m--> 105\u001b[0;31m         \u001b[0;32mreturn\u001b[0m \u001b[0;32mawait\u001b[0m \u001b[0mself\u001b[0m\u001b[0;34m.\u001b[0m\u001b[0madmin_POST\u001b[0m\u001b[0;34m(\u001b[0m\u001b[0;34mf\"{self.base_url}/records/{cred_ex_id}/remove\"\u001b[0m\u001b[0;34m)\u001b[0m\u001b[0;34m\u001b[0m\u001b[0;34m\u001b[0m\u001b[0m\n\u001b[0m\u001b[1;32m    106\u001b[0m \u001b[0;34m\u001b[0m\u001b[0m\n\u001b[1;32m    107\u001b[0m     \u001b[0;31m# Send a problem report for a credential exchange\u001b[0m\u001b[0;34m\u001b[0m\u001b[0;34m\u001b[0m\u001b[0;34m\u001b[0m\u001b[0m\n",
      "\u001b[0;32m/workspace/aries_basic_controller/base_controller.py\u001b[0m in \u001b[0;36madmin_POST\u001b[0;34m(self, path, data, text, params)\u001b[0m\n\u001b[1;32m     94\u001b[0m                 \u001b[0;34m(\u001b[0m\u001b[0;34m\" with data: \\n{}\"\u001b[0m\u001b[0;34m.\u001b[0m\u001b[0mformat\u001b[0m\u001b[0;34m(\u001b[0m\u001b[0mrepr_json\u001b[0m\u001b[0;34m(\u001b[0m\u001b[0mdata\u001b[0m\u001b[0;34m)\u001b[0m\u001b[0;34m)\u001b[0m \u001b[0;32mif\u001b[0m \u001b[0mdata\u001b[0m \u001b[0;32melse\u001b[0m \u001b[0;34m\"\"\u001b[0m\u001b[0;34m)\u001b[0m\u001b[0;34m,\u001b[0m\u001b[0;34m\u001b[0m\u001b[0;34m\u001b[0m\u001b[0m\n\u001b[1;32m     95\u001b[0m             )\n\u001b[0;32m---> 96\u001b[0;31m             \u001b[0mresponse\u001b[0m \u001b[0;34m=\u001b[0m \u001b[0;32mawait\u001b[0m \u001b[0mself\u001b[0m\u001b[0;34m.\u001b[0m\u001b[0madmin_request\u001b[0m\u001b[0;34m(\u001b[0m\u001b[0;34m\"POST\"\u001b[0m\u001b[0;34m,\u001b[0m \u001b[0mpath\u001b[0m\u001b[0;34m,\u001b[0m \u001b[0mdata\u001b[0m\u001b[0;34m,\u001b[0m \u001b[0mtext\u001b[0m\u001b[0;34m,\u001b[0m \u001b[0mparams\u001b[0m\u001b[0;34m)\u001b[0m\u001b[0;34m\u001b[0m\u001b[0;34m\u001b[0m\u001b[0m\n\u001b[0m\u001b[1;32m     97\u001b[0m             EVENT_LOGGER.debug(\n\u001b[1;32m     98\u001b[0m                 \u001b[0;34m\"Response from POST %s received: \\n%s\"\u001b[0m\u001b[0;34m,\u001b[0m \u001b[0mpath\u001b[0m\u001b[0;34m,\u001b[0m \u001b[0mrepr_json\u001b[0m\u001b[0;34m(\u001b[0m\u001b[0mresponse\u001b[0m\u001b[0;34m)\u001b[0m\u001b[0;34m,\u001b[0m\u001b[0;34m\u001b[0m\u001b[0;34m\u001b[0m\u001b[0m\n",
      "\u001b[0;32m/workspace/aries_basic_controller/base_controller.py\u001b[0m in \u001b[0;36madmin_request\u001b[0;34m(self, method, path, data, text, params)\u001b[0m\n\u001b[1;32m     61\u001b[0m             \u001b[0mmethod\u001b[0m\u001b[0;34m,\u001b[0m \u001b[0mself\u001b[0m\u001b[0;34m.\u001b[0m\u001b[0madmin_url\u001b[0m \u001b[0;34m+\u001b[0m \u001b[0mpath\u001b[0m\u001b[0;34m,\u001b[0m \u001b[0mjson\u001b[0m\u001b[0;34m=\u001b[0m\u001b[0mdata\u001b[0m\u001b[0;34m,\u001b[0m \u001b[0mparams\u001b[0m\u001b[0;34m=\u001b[0m\u001b[0mparams\u001b[0m\u001b[0;34m\u001b[0m\u001b[0;34m\u001b[0m\u001b[0m\n\u001b[1;32m     62\u001b[0m         ) as resp:\n\u001b[0;32m---> 63\u001b[0;31m             \u001b[0mresp\u001b[0m\u001b[0;34m.\u001b[0m\u001b[0mraise_for_status\u001b[0m\u001b[0;34m(\u001b[0m\u001b[0;34m)\u001b[0m\u001b[0;34m\u001b[0m\u001b[0;34m\u001b[0m\u001b[0m\n\u001b[0m\u001b[1;32m     64\u001b[0m             \u001b[0mresp_text\u001b[0m \u001b[0;34m=\u001b[0m \u001b[0;32mawait\u001b[0m \u001b[0mresp\u001b[0m\u001b[0;34m.\u001b[0m\u001b[0mtext\u001b[0m\u001b[0;34m(\u001b[0m\u001b[0;34m)\u001b[0m\u001b[0;34m\u001b[0m\u001b[0;34m\u001b[0m\u001b[0m\n\u001b[1;32m     65\u001b[0m             \u001b[0;32mif\u001b[0m \u001b[0;32mnot\u001b[0m \u001b[0mresp_text\u001b[0m \u001b[0;32mand\u001b[0m \u001b[0;32mnot\u001b[0m \u001b[0mtext\u001b[0m\u001b[0;34m:\u001b[0m\u001b[0;34m\u001b[0m\u001b[0;34m\u001b[0m\u001b[0m\n",
      "\u001b[0;32m/opt/conda/lib/python3.7/site-packages/aiohttp/client_reqrep.py\u001b[0m in \u001b[0;36mraise_for_status\u001b[0;34m(self)\u001b[0m\n\u001b[1;32m    944\u001b[0m                 \u001b[0mstatus\u001b[0m\u001b[0;34m=\u001b[0m\u001b[0mself\u001b[0m\u001b[0;34m.\u001b[0m\u001b[0mstatus\u001b[0m\u001b[0;34m,\u001b[0m\u001b[0;34m\u001b[0m\u001b[0;34m\u001b[0m\u001b[0m\n\u001b[1;32m    945\u001b[0m                 \u001b[0mmessage\u001b[0m\u001b[0;34m=\u001b[0m\u001b[0mself\u001b[0m\u001b[0;34m.\u001b[0m\u001b[0mreason\u001b[0m\u001b[0;34m,\u001b[0m\u001b[0;34m\u001b[0m\u001b[0;34m\u001b[0m\u001b[0m\n\u001b[0;32m--> 946\u001b[0;31m                 headers=self.headers)\n\u001b[0m\u001b[1;32m    947\u001b[0m \u001b[0;34m\u001b[0m\u001b[0m\n\u001b[1;32m    948\u001b[0m     \u001b[0;32mdef\u001b[0m \u001b[0m_cleanup_writer\u001b[0m\u001b[0;34m(\u001b[0m\u001b[0mself\u001b[0m\u001b[0;34m)\u001b[0m \u001b[0;34m->\u001b[0m \u001b[0;32mNone\u001b[0m\u001b[0;34m:\u001b[0m\u001b[0;34m\u001b[0m\u001b[0;34m\u001b[0m\u001b[0m\n",
      "\u001b[0;31mClientResponseError\u001b[0m: 404, message='Not Found', url=URL('http://alice-agent:8021/issue-credential/records/22b59951-89c0-40d5-9d96-fa31093b2d25/remove')"
     ]
    },
    {
     "name": "stderr",
     "output_type": "stream",
     "text": [
      "ERROR:asyncio:Task exception was never retrieved\n",
      "future: <Task finished coro=<run_in_terminal.<locals>.run() done, defined at /opt/conda/lib/python3.7/site-packages/prompt_toolkit/application/run_in_terminal.py:50> exception=UnsupportedOperation('fileno')>\n",
      "Traceback (most recent call last):\n",
      "  File \"/opt/conda/lib/python3.7/site-packages/prompt_toolkit/application/run_in_terminal.py\", line 55, in run\n",
      "    return func()\n",
      "  File \"/workspace/aries_basic_controller/utils.py\", line 120, in <lambda>\n",
      "    run_in_terminal(lambda: print_ext(*msg, color=color, **kwargs))\n",
      "  File \"/workspace/aries_basic_controller/utils.py\", line 103, in print_ext\n",
      "    print_formatted(FormattedText(msg), **kwargs)\n",
      "  File \"/workspace/aries_basic_controller/utils.py\", line 83, in print_formatted\n",
      "    prompt_toolkit.print_formatted_text(*args, **kwargs)\n",
      "  File \"/opt/conda/lib/python3.7/site-packages/prompt_toolkit/shortcuts/utils.py\", line 112, in print_formatted_text\n",
      "    output = get_app_session().output\n",
      "  File \"/opt/conda/lib/python3.7/site-packages/prompt_toolkit/application/current.py\", line 65, in output\n",
      "    self._output = create_output()\n",
      "  File \"/opt/conda/lib/python3.7/site-packages/prompt_toolkit/output/defaults.py\", line 62, in create_output\n",
      "    return Vt100_Output.from_pty(stdout, term=get_term_environment_variable())\n",
      "  File \"/opt/conda/lib/python3.7/site-packages/prompt_toolkit/output/vt100.py\", line 449, in from_pty\n",
      "    fd = stdout.fileno()\n",
      "io.UnsupportedOperation: fileno\n"
     ]
    }
   ],
   "source": [
    "response = await agent_controller.issuer.remove_record(record_id)\n",
    "print(response)"
   ]
  },
  {
   "cell_type": "code",
   "execution_count": 26,
   "metadata": {},
   "outputs": [
    {
     "name": "stdout",
     "output_type": "stream",
     "text": [
      "{'results': [{'connection_id': 'ac53ec32-0c36-4202-a6b0-cbdff9b37ed1', 'credential_exchange_id': 'd318bc42-3bf8-4bdd-997f-3ec37b156ee4', 'schema_id': 'PQRXDxdGqQGSZ8z69p4xZP:2:open_mined_contributor:0.0.1', 'auto_offer': False, 'auto_remove': True, 'auto_issue': True, 'credential_offer': {'schema_id': 'PQRXDxdGqQGSZ8z69p4xZP:2:open_mined_contributor:0.0.1', 'cred_def_id': 'PQRXDxdGqQGSZ8z69p4xZP:3:CL:10:default', 'key_correctness_proof': {'c': '79170176153350620028549950016135935654313248003471236926302455974413396051344', 'xz_cap': '1396235375325619727338321551222113480244211052014874840937160204552798576435859880925148151476722993078399547575807537695585488790036145257604049598327982178818544291205088081644473046348076996514883811028715602948870034170217016503327494499905844178648936888458598945201615966125928353232341132412886093303135418353600987329915719417804180125576821370613932982083996648803277155780075871308305170575550955969658720299874424052627072600097890088914615943336991227714640784652696829231191754539661422652899054865551387591008322104644930558990910424683341870869042830252073899826066731091397861435970324315892935414620368639404178452538504893529341672914520898426297098855952170451804495187035252', 'xr_cap': [['master_secret', '887282224518812246209554558473905258132444383685885178068348248191192703487974649411481031848033596182818272073666795904769017383500238115084296016135791760827968944842227815997863626715023817026612922695483465966122248022112169455796813441681420370600850024753871384203552032339686409577271077776010920274589091148337568455840290906965008279374828782352515694185886090895431682136101086151344087909906158088968247646626184694646088999293982522553169033388946558333753200316827585439206236165174778920133985893626198841266149567649208580742863209300721385808720259137803048008331173148584393646181020823359263597677800150819789990673821397266713729294707810932820281063042103878386245718051776'], ['skill', '744329119049725659863179633617600051711973468409085295471305333632823485758268722117022298473842276270207721898814790461251798251872920357115254449509836811122276846410386979733240217888127375059603177366148861019313894617398691764071237315871626862695000867736474927715763269308296031751971325371907808586420790894846450925901674651738927211096598451060328964939634130809615837129028872358936207106222786856145307098183505722261984891643177021630516848010905116940475014561281239579902435211725150951841752031100654234471305432211303651785015337358770035017838082421530132032002108758605808934585737857558979665465462857291442739535694124713995682967120744134426644171322761893303193757587342'], ['name', '430252763910708419552017166952279035342448965078855889111632087655470384516470837014598250118627588559286761145532263699438646225181820305228175214115002696906150079438289186859777817446858930437901816675613923566163321471938168348132777311881352743400858043814843165959729792793633528437010946970889031372072959905506267687301042916598311635512565684412700457096260923783686029700655946067170441839233696297373612694105986779547644280990175504150330486035681314318954977485667887299254556841068622555770760897779660737885403889720353158142584926607997849350138832261990312633205698389891057597587257206401213526619069100786544497643059151449118281833342776940178201168291030950776316725109767']]}, 'nonce': '403205089062883899371033'}, 'credential_proposal_dict': {'@type': 'did:sov:BzCbsNYhMrjHiqZDTUASHg;spec/issue-credential/1.0/propose-credential', '@id': '162507a8-c50b-4c43-9fa9-1e96522697c3', 'comment': '', 'credential_proposal': {'@type': 'did:sov:BzCbsNYhMrjHiqZDTUASHg;spec/issue-credential/1.0/credential-preview', 'attributes': [{'name': 'name', 'value': 'Bob'}, {'name': 'skill', 'value': 'researcher'}]}, 'cred_def_id': 'PQRXDxdGqQGSZ8z69p4xZP:3:CL:10:default', 'schema_name': 'open_mined_contributor', 'issuer_did': 'PQRXDxdGqQGSZ8z69p4xZP', 'schema_version': '0.0.1', 'schema_issuer_did': 'PQRXDxdGqQGSZ8z69p4xZP', 'schema_id': 'PQRXDxdGqQGSZ8z69p4xZP:2:open_mined_contributor:0.0.1'}, 'trace': False, 'credential_definition_id': 'PQRXDxdGqQGSZ8z69p4xZP:3:CL:10:default', 'state': 'offer_sent', 'created_at': '2020-07-09 10:40:06.576301Z', 'role': 'issuer', 'thread_id': '895d5075-d6cf-49f4-8143-79782df53e7d', 'initiator': 'self', 'updated_at': '2020-07-09 10:40:06.576301Z'}, {'connection_id': 'ac53ec32-0c36-4202-a6b0-cbdff9b37ed1', 'credential_exchange_id': '043d1ff0-372a-4dba-91bb-9dfd3b833ec1', 'schema_id': 'PQRXDxdGqQGSZ8z69p4xZP:2:open_mined_contributor:0.0.1', 'auto_offer': False, 'auto_remove': True, 'auto_issue': True, 'credential_offer': {'schema_id': 'PQRXDxdGqQGSZ8z69p4xZP:2:open_mined_contributor:0.0.1', 'cred_def_id': 'PQRXDxdGqQGSZ8z69p4xZP:3:CL:10:default', 'key_correctness_proof': {'c': '79170176153350620028549950016135935654313248003471236926302455974413396051344', 'xz_cap': '1396235375325619727338321551222113480244211052014874840937160204552798576435859880925148151476722993078399547575807537695585488790036145257604049598327982178818544291205088081644473046348076996514883811028715602948870034170217016503327494499905844178648936888458598945201615966125928353232341132412886093303135418353600987329915719417804180125576821370613932982083996648803277155780075871308305170575550955969658720299874424052627072600097890088914615943336991227714640784652696829231191754539661422652899054865551387591008322104644930558990910424683341870869042830252073899826066731091397861435970324315892935414620368639404178452538504893529341672914520898426297098855952170451804495187035252', 'xr_cap': [['master_secret', '887282224518812246209554558473905258132444383685885178068348248191192703487974649411481031848033596182818272073666795904769017383500238115084296016135791760827968944842227815997863626715023817026612922695483465966122248022112169455796813441681420370600850024753871384203552032339686409577271077776010920274589091148337568455840290906965008279374828782352515694185886090895431682136101086151344087909906158088968247646626184694646088999293982522553169033388946558333753200316827585439206236165174778920133985893626198841266149567649208580742863209300721385808720259137803048008331173148584393646181020823359263597677800150819789990673821397266713729294707810932820281063042103878386245718051776'], ['skill', '744329119049725659863179633617600051711973468409085295471305333632823485758268722117022298473842276270207721898814790461251798251872920357115254449509836811122276846410386979733240217888127375059603177366148861019313894617398691764071237315871626862695000867736474927715763269308296031751971325371907808586420790894846450925901674651738927211096598451060328964939634130809615837129028872358936207106222786856145307098183505722261984891643177021630516848010905116940475014561281239579902435211725150951841752031100654234471305432211303651785015337358770035017838082421530132032002108758605808934585737857558979665465462857291442739535694124713995682967120744134426644171322761893303193757587342'], ['name', '430252763910708419552017166952279035342448965078855889111632087655470384516470837014598250118627588559286761145532263699438646225181820305228175214115002696906150079438289186859777817446858930437901816675613923566163321471938168348132777311881352743400858043814843165959729792793633528437010946970889031372072959905506267687301042916598311635512565684412700457096260923783686029700655946067170441839233696297373612694105986779547644280990175504150330486035681314318954977485667887299254556841068622555770760897779660737885403889720353158142584926607997849350138832261990312633205698389891057597587257206401213526619069100786544497643059151449118281833342776940178201168291030950776316725109767']]}, 'nonce': '403205089062883899371033'}, 'credential_proposal_dict': {'@type': 'did:sov:BzCbsNYhMrjHiqZDTUASHg;spec/issue-credential/1.0/propose-credential', '@id': '8e8ed012-f0a4-46d0-9b73-c7cb1837ce97', 'comment': '', 'credential_proposal': {'@type': 'did:sov:BzCbsNYhMrjHiqZDTUASHg;spec/issue-credential/1.0/credential-preview', 'attributes': [{'name': 'name', 'value': 'Bob'}, {'name': 'skill', 'value': 'researcher'}]}, 'cred_def_id': 'PQRXDxdGqQGSZ8z69p4xZP:3:CL:10:default', 'schema_name': 'open_mined_contributor', 'issuer_did': 'PQRXDxdGqQGSZ8z69p4xZP', 'schema_version': '0.0.1', 'schema_issuer_did': 'PQRXDxdGqQGSZ8z69p4xZP', 'schema_id': 'PQRXDxdGqQGSZ8z69p4xZP:2:open_mined_contributor:0.0.1'}, 'trace': False, 'credential_definition_id': 'PQRXDxdGqQGSZ8z69p4xZP:3:CL:10:default', 'state': 'offer_sent', 'created_at': '2020-07-09 10:33:52.561393Z', 'role': 'issuer', 'thread_id': 'ae10443d-767f-4989-bce8-62237b3c847c', 'initiator': 'self', 'updated_at': '2020-07-09 10:33:52.561393Z'}, {'connection_id': 'ac53ec32-0c36-4202-a6b0-cbdff9b37ed1', 'credential_exchange_id': '0801a225-e6d1-4353-946b-f14570f3cd3a', 'auto_remove': True, 'credential_proposal_dict': {'@type': 'did:sov:BzCbsNYhMrjHiqZDTUASHg;spec/issue-credential/1.0/propose-credential', '@id': 'a40785bf-5fe2-4885-b43e-a307840b8767', 'comment': '', 'credential_proposal': {'@type': 'did:sov:BzCbsNYhMrjHiqZDTUASHg;spec/issue-credential/1.0/credential-preview', 'attributes': [{'name': 'name', 'value': 'Bob'}, {'name': 'skill', 'value': 'software engineer'}]}, 'cred_def_id': 'PQRXDxdGqQGSZ8z69p4xZP:3:CL:10:default', 'schema_name': 'open_mined_contributor', 'issuer_did': 'PQRXDxdGqQGSZ8z69p4xZP', 'schema_version': '0.0.1', 'schema_issuer_did': 'PQRXDxdGqQGSZ8z69p4xZP', 'schema_id': 'PQRXDxdGqQGSZ8z69p4xZP:2:open_mined_contributor:0.0.1'}, 'trace': False, 'state': 'proposal_received', 'created_at': '2020-07-09 11:11:12.175111Z', 'role': 'issuer', 'thread_id': 'a40785bf-5fe2-4885-b43e-a307840b8767', 'initiator': 'external', 'updated_at': '2020-07-09 11:11:12.175111Z'}, {'connection_id': 'ac53ec32-0c36-4202-a6b0-cbdff9b37ed1', 'credential_exchange_id': '8b318c40-bbf0-42f0-8ba2-c46a083f54fa', 'schema_id': 'PQRXDxdGqQGSZ8z69p4xZP:2:open_mined_contributor:0.0.1', 'auto_offer': False, 'auto_remove': True, 'auto_issue': True, 'credential_offer': {'schema_id': 'PQRXDxdGqQGSZ8z69p4xZP:2:open_mined_contributor:0.0.1', 'cred_def_id': 'PQRXDxdGqQGSZ8z69p4xZP:3:CL:10:default', 'key_correctness_proof': {'c': '79170176153350620028549950016135935654313248003471236926302455974413396051344', 'xz_cap': '1396235375325619727338321551222113480244211052014874840937160204552798576435859880925148151476722993078399547575807537695585488790036145257604049598327982178818544291205088081644473046348076996514883811028715602948870034170217016503327494499905844178648936888458598945201615966125928353232341132412886093303135418353600987329915719417804180125576821370613932982083996648803277155780075871308305170575550955969658720299874424052627072600097890088914615943336991227714640784652696829231191754539661422652899054865551387591008322104644930558990910424683341870869042830252073899826066731091397861435970324315892935414620368639404178452538504893529341672914520898426297098855952170451804495187035252', 'xr_cap': [['master_secret', '887282224518812246209554558473905258132444383685885178068348248191192703487974649411481031848033596182818272073666795904769017383500238115084296016135791760827968944842227815997863626715023817026612922695483465966122248022112169455796813441681420370600850024753871384203552032339686409577271077776010920274589091148337568455840290906965008279374828782352515694185886090895431682136101086151344087909906158088968247646626184694646088999293982522553169033388946558333753200316827585439206236165174778920133985893626198841266149567649208580742863209300721385808720259137803048008331173148584393646181020823359263597677800150819789990673821397266713729294707810932820281063042103878386245718051776'], ['skill', '744329119049725659863179633617600051711973468409085295471305333632823485758268722117022298473842276270207721898814790461251798251872920357115254449509836811122276846410386979733240217888127375059603177366148861019313894617398691764071237315871626862695000867736474927715763269308296031751971325371907808586420790894846450925901674651738927211096598451060328964939634130809615837129028872358936207106222786856145307098183505722261984891643177021630516848010905116940475014561281239579902435211725150951841752031100654234471305432211303651785015337358770035017838082421530132032002108758605808934585737857558979665465462857291442739535694124713995682967120744134426644171322761893303193757587342'], ['name', '430252763910708419552017166952279035342448965078855889111632087655470384516470837014598250118627588559286761145532263699438646225181820305228175214115002696906150079438289186859777817446858930437901816675613923566163321471938168348132777311881352743400858043814843165959729792793633528437010946970889031372072959905506267687301042916598311635512565684412700457096260923783686029700655946067170441839233696297373612694105986779547644280990175504150330486035681314318954977485667887299254556841068622555770760897779660737885403889720353158142584926607997849350138832261990312633205698389891057597587257206401213526619069100786544497643059151449118281833342776940178201168291030950776316725109767']]}, 'nonce': '403205089062883899371033'}, 'credential_proposal_dict': {'@type': 'did:sov:BzCbsNYhMrjHiqZDTUASHg;spec/issue-credential/1.0/propose-credential', '@id': 'd86afc36-ecba-42d3-88ce-89bfb633f852', 'comment': '', 'credential_proposal': {'@type': 'did:sov:BzCbsNYhMrjHiqZDTUASHg;spec/issue-credential/1.0/credential-preview', 'attributes': [{'name': 'name', 'value': 'Bob'}, {'name': 'skill', 'value': 'researcher'}]}, 'cred_def_id': 'PQRXDxdGqQGSZ8z69p4xZP:3:CL:10:default', 'schema_name': 'open_mined_contributor', 'issuer_did': 'PQRXDxdGqQGSZ8z69p4xZP', 'schema_version': '0.0.1', 'schema_issuer_did': 'PQRXDxdGqQGSZ8z69p4xZP', 'schema_id': 'PQRXDxdGqQGSZ8z69p4xZP:2:open_mined_contributor:0.0.1'}, 'trace': False, 'credential_definition_id': 'PQRXDxdGqQGSZ8z69p4xZP:3:CL:10:default', 'state': 'offer_sent', 'created_at': '2020-07-09 10:39:43.893416Z', 'role': 'issuer', 'thread_id': '068c8788-b8f7-41e4-ae03-8c75a8bd4d0e', 'initiator': 'self', 'updated_at': '2020-07-09 10:39:43.893416Z'}]}\n"
     ]
    }
   ],
   "source": [
    "response = await agent_controller.issuer.get_records()\n",
    "print(response)"
   ]
  },
  {
   "cell_type": "markdown",
   "metadata": {},
   "source": [
    "## End of Tutorial\n",
    "\n",
    "Be sure to terminate the controller so you can run another tutorial.\n",
    "\n",
    "There are a few api calls not covered in this tutorial so far. Mostly around credential revocation."
   ]
  },
  {
   "cell_type": "code",
   "execution_count": 5,
   "metadata": {},
   "outputs": [
    {
     "name": "stdout",
     "output_type": "stream",
     "text": [
      "None\n"
     ]
    }
   ],
   "source": [
    "response = await agent_controller.terminate()\n",
    "print(response)"
   ]
  },
  {
   "cell_type": "code",
   "execution_count": null,
   "metadata": {},
   "outputs": [],
   "source": []
  }
 ],
 "metadata": {
  "kernelspec": {
   "display_name": "Python 3",
   "language": "python",
   "name": "python3"
  },
  "language_info": {
   "codemirror_mode": {
    "name": "ipython",
    "version": 3
   },
   "file_extension": ".py",
   "mimetype": "text/x-python",
   "name": "python",
   "nbconvert_exporter": "python",
   "pygments_lexer": "ipython3",
   "version": "3.7.6"
  }
 },
 "nbformat": 4,
 "nbformat_minor": 1
}
