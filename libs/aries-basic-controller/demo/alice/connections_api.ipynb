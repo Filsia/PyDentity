{
 "cells": [
  {
   "cell_type": "markdown",
   "metadata": {
    "collapsed": true,
    "pycharm": {
     "name": "#%% md\n"
    }
   },
   "source": [
    "# Aries Basic Controller Example\n",
    "## Controllers Api\n",
    "\n",
    "This can be used to make connections between two aries agents.\n",
    "\n",
    "A connection invitation must be created by Alice which is then copied to Bob's notebook to accept the invitation request.\n",
    "\n",
    "Once Bob accepted the invitation, Alice can accept the invitation response from Bob.\n",
    "\n",
    "This creates a pairwise relationship between Alice and Bob that is end-to-end encrypted and a trust channel between them for exchanging basic messages or verifiable credentials."
   ]
  },
  {
   "cell_type": "code",
   "execution_count": 1,
   "metadata": {
    "pycharm": {
     "name": "#%%\n"
    }
   },
   "outputs": [
    {
     "name": "stdout",
     "output_type": "stream",
     "text": [
      "IPython autoawait is `on`, and set to use `asyncio`\n"
     ]
    }
   ],
   "source": [
    "%autoawait\n",
    "import time\n",
    "import asyncio"
   ]
  },
  {
   "cell_type": "code",
   "execution_count": 2,
   "metadata": {
    "pycharm": {
     "name": "#%%\n"
    }
   },
   "outputs": [],
   "source": [
    "from aries_basic_controller.aries_controller import AriesAgentController\n",
    "\n",
    "WEBHOOK_HOST = \"0.0.0.0\"\n",
    "WEBHOOK_PORT = 8022\n",
    "WEBHOOK_BASE = \"\"\n",
    "ADMIN_URL = \"http://alice-agent:8021\"\n",
    "\n",
    "# Based on the aca-py agent you wish to control\n",
    "agent_controller = AriesAgentController(webhook_host=WEBHOOK_HOST, webhook_port=WEBHOOK_PORT,\n",
    "                                       webhook_base=WEBHOOK_BASE, admin_url=ADMIN_URL)\n",
    "\n"
   ]
  },
  {
   "cell_type": "markdown",
   "metadata": {},
   "source": [
    "## Check the agent has an active connection\n",
    "\n",
    "**Note: An active connection is required, this should have been established on start up through the python script create_connection.py in the setup folder. If not it is possible to run through the did-exchange tutorial to create one between Alice and Bob**\n",
    "\n",
    "* [Alice](http://localhost:8888/notebooks/did-exchange-inviter.ipynb)\n",
    "* [Bob](http://localhost:8889/notebooks/did-exchange-invitee.ipynb)"
   ]
  },
  {
   "cell_type": "code",
   "execution_count": 5,
   "metadata": {},
   "outputs": [
    {
     "ename": "ClientConnectorError",
     "evalue": "Cannot connect to host alice-agent:8021 ssl:default [Connect call failed ('192.168.48.4', 8021)]",
     "output_type": "error",
     "traceback": [
      "\u001B[0;31m---------------------------------------------------------------------------\u001B[0m",
      "\u001B[0;31mConnectionRefusedError\u001B[0m                    Traceback (most recent call last)",
      "\u001B[0;32m/opt/conda/lib/python3.7/site-packages/aiohttp/connector.py\u001B[0m in \u001B[0;36m_wrap_create_connection\u001B[0;34m(self, req, timeout, client_error, *args, **kwargs)\u001B[0m\n\u001B[1;32m    935\u001B[0m             \u001B[0;32mwith\u001B[0m \u001B[0mCeilTimeout\u001B[0m\u001B[0;34m(\u001B[0m\u001B[0mtimeout\u001B[0m\u001B[0;34m.\u001B[0m\u001B[0msock_connect\u001B[0m\u001B[0;34m)\u001B[0m\u001B[0;34m:\u001B[0m\u001B[0;34m\u001B[0m\u001B[0;34m\u001B[0m\u001B[0m\n\u001B[0;32m--> 936\u001B[0;31m                 \u001B[0;32mreturn\u001B[0m \u001B[0;32mawait\u001B[0m \u001B[0mself\u001B[0m\u001B[0;34m.\u001B[0m\u001B[0m_loop\u001B[0m\u001B[0;34m.\u001B[0m\u001B[0mcreate_connection\u001B[0m\u001B[0;34m(\u001B[0m\u001B[0;34m*\u001B[0m\u001B[0margs\u001B[0m\u001B[0;34m,\u001B[0m \u001B[0;34m**\u001B[0m\u001B[0mkwargs\u001B[0m\u001B[0;34m)\u001B[0m  \u001B[0;31m# type: ignore  # noqa\u001B[0m\u001B[0;34m\u001B[0m\u001B[0;34m\u001B[0m\u001B[0m\n\u001B[0m\u001B[1;32m    937\u001B[0m         \u001B[0;32mexcept\u001B[0m \u001B[0mcert_errors\u001B[0m \u001B[0;32mas\u001B[0m \u001B[0mexc\u001B[0m\u001B[0;34m:\u001B[0m\u001B[0;34m\u001B[0m\u001B[0;34m\u001B[0m\u001B[0m\n",
      "\u001B[0;32m/opt/conda/lib/python3.7/asyncio/base_events.py\u001B[0m in \u001B[0;36mcreate_connection\u001B[0;34m(self, protocol_factory, host, port, ssl, family, proto, flags, sock, local_addr, server_hostname, ssl_handshake_timeout)\u001B[0m\n\u001B[1;32m    957\u001B[0m                 \u001B[0;32mif\u001B[0m \u001B[0mlen\u001B[0m\u001B[0;34m(\u001B[0m\u001B[0mexceptions\u001B[0m\u001B[0;34m)\u001B[0m \u001B[0;34m==\u001B[0m \u001B[0;36m1\u001B[0m\u001B[0;34m:\u001B[0m\u001B[0;34m\u001B[0m\u001B[0;34m\u001B[0m\u001B[0m\n\u001B[0;32m--> 958\u001B[0;31m                     \u001B[0;32mraise\u001B[0m \u001B[0mexceptions\u001B[0m\u001B[0;34m[\u001B[0m\u001B[0;36m0\u001B[0m\u001B[0;34m]\u001B[0m\u001B[0;34m\u001B[0m\u001B[0;34m\u001B[0m\u001B[0m\n\u001B[0m\u001B[1;32m    959\u001B[0m                 \u001B[0;32melse\u001B[0m\u001B[0;34m:\u001B[0m\u001B[0;34m\u001B[0m\u001B[0;34m\u001B[0m\u001B[0m\n",
      "\u001B[0;32m/opt/conda/lib/python3.7/asyncio/base_events.py\u001B[0m in \u001B[0;36mcreate_connection\u001B[0;34m(self, protocol_factory, host, port, ssl, family, proto, flags, sock, local_addr, server_hostname, ssl_handshake_timeout)\u001B[0m\n\u001B[1;32m    944\u001B[0m                         \u001B[0mlogger\u001B[0m\u001B[0;34m.\u001B[0m\u001B[0mdebug\u001B[0m\u001B[0;34m(\u001B[0m\u001B[0;34m\"connect %r to %r\"\u001B[0m\u001B[0;34m,\u001B[0m \u001B[0msock\u001B[0m\u001B[0;34m,\u001B[0m \u001B[0maddress\u001B[0m\u001B[0;34m)\u001B[0m\u001B[0;34m\u001B[0m\u001B[0;34m\u001B[0m\u001B[0m\n\u001B[0;32m--> 945\u001B[0;31m                     \u001B[0;32mawait\u001B[0m \u001B[0mself\u001B[0m\u001B[0;34m.\u001B[0m\u001B[0msock_connect\u001B[0m\u001B[0;34m(\u001B[0m\u001B[0msock\u001B[0m\u001B[0;34m,\u001B[0m \u001B[0maddress\u001B[0m\u001B[0;34m)\u001B[0m\u001B[0;34m\u001B[0m\u001B[0;34m\u001B[0m\u001B[0m\n\u001B[0m\u001B[1;32m    946\u001B[0m                 \u001B[0;32mexcept\u001B[0m \u001B[0mOSError\u001B[0m \u001B[0;32mas\u001B[0m \u001B[0mexc\u001B[0m\u001B[0;34m:\u001B[0m\u001B[0;34m\u001B[0m\u001B[0;34m\u001B[0m\u001B[0m\n",
      "\u001B[0;32m/opt/conda/lib/python3.7/asyncio/selector_events.py\u001B[0m in \u001B[0;36msock_connect\u001B[0;34m(self, sock, address)\u001B[0m\n\u001B[1;32m    472\u001B[0m         \u001B[0mself\u001B[0m\u001B[0;34m.\u001B[0m\u001B[0m_sock_connect\u001B[0m\u001B[0;34m(\u001B[0m\u001B[0mfut\u001B[0m\u001B[0;34m,\u001B[0m \u001B[0msock\u001B[0m\u001B[0;34m,\u001B[0m \u001B[0maddress\u001B[0m\u001B[0;34m)\u001B[0m\u001B[0;34m\u001B[0m\u001B[0;34m\u001B[0m\u001B[0m\n\u001B[0;32m--> 473\u001B[0;31m         \u001B[0;32mreturn\u001B[0m \u001B[0;32mawait\u001B[0m \u001B[0mfut\u001B[0m\u001B[0;34m\u001B[0m\u001B[0;34m\u001B[0m\u001B[0m\n\u001B[0m\u001B[1;32m    474\u001B[0m \u001B[0;34m\u001B[0m\u001B[0m\n",
      "\u001B[0;32m/opt/conda/lib/python3.7/asyncio/selector_events.py\u001B[0m in \u001B[0;36m_sock_connect_cb\u001B[0;34m(self, fut, sock, address)\u001B[0m\n\u001B[1;32m    502\u001B[0m                 \u001B[0;31m# Jump to any except clause below.\u001B[0m\u001B[0;34m\u001B[0m\u001B[0;34m\u001B[0m\u001B[0;34m\u001B[0m\u001B[0m\n\u001B[0;32m--> 503\u001B[0;31m                 \u001B[0;32mraise\u001B[0m \u001B[0mOSError\u001B[0m\u001B[0;34m(\u001B[0m\u001B[0merr\u001B[0m\u001B[0;34m,\u001B[0m \u001B[0;34mf'Connect call failed {address}'\u001B[0m\u001B[0;34m)\u001B[0m\u001B[0;34m\u001B[0m\u001B[0;34m\u001B[0m\u001B[0m\n\u001B[0m\u001B[1;32m    504\u001B[0m         \u001B[0;32mexcept\u001B[0m \u001B[0;34m(\u001B[0m\u001B[0mBlockingIOError\u001B[0m\u001B[0;34m,\u001B[0m \u001B[0mInterruptedError\u001B[0m\u001B[0;34m)\u001B[0m\u001B[0;34m:\u001B[0m\u001B[0;34m\u001B[0m\u001B[0;34m\u001B[0m\u001B[0m\n",
      "\u001B[0;31mConnectionRefusedError\u001B[0m: [Errno 111] Connect call failed ('192.168.48.4', 8021)",
      "\nThe above exception was the direct cause of the following exception:\n",
      "\u001B[0;31mClientConnectorError\u001B[0m                      Traceback (most recent call last)",
      "\u001B[0;32m<ipython-input-5-1f9dd734d4d7>\u001B[0m in \u001B[0;36masync-def-wrapper\u001B[0;34m()\u001B[0m\n\u001B[1;32m      2\u001B[0m \u001B[0mresults\u001B[0m \u001B[0;34m=\u001B[0m \u001B[0mresponse\u001B[0m\u001B[0;34m[\u001B[0m\u001B[0;34m'results'\u001B[0m\u001B[0;34m]\u001B[0m\u001B[0;34m\u001B[0m\u001B[0;34m\u001B[0m\u001B[0m\n\u001B[1;32m      3\u001B[0m \u001B[0;31m#print(\"Results : \", results)\u001B[0m\u001B[0;34m\u001B[0m\u001B[0;34m\u001B[0m\u001B[0;34m\u001B[0m\u001B[0m\n\u001B[0;32m----> 4\u001B[0;31m \u001B[0mprint\u001B[0m\u001B[0;34m(\u001B[0m\u001B[0;34m'\\n'\u001B[0m\u001B[0;34m)\u001B[0m\u001B[0;34m\u001B[0m\u001B[0;34m\u001B[0m\u001B[0m\n\u001B[0m\u001B[1;32m      5\u001B[0m \u001B[0;32mif\u001B[0m \u001B[0mlen\u001B[0m\u001B[0;34m(\u001B[0m\u001B[0mresults\u001B[0m\u001B[0;34m)\u001B[0m \u001B[0;34m>\u001B[0m \u001B[0;36m0\u001B[0m\u001B[0;34m:\u001B[0m\u001B[0;34m\u001B[0m\u001B[0;34m\u001B[0m\u001B[0m\n\u001B[1;32m      6\u001B[0m     \u001B[0mconnection\u001B[0m \u001B[0;34m=\u001B[0m \u001B[0mresponse\u001B[0m\u001B[0;34m[\u001B[0m\u001B[0;34m'results'\u001B[0m\u001B[0;34m]\u001B[0m\u001B[0;34m[\u001B[0m\u001B[0;36m0\u001B[0m\u001B[0;34m]\u001B[0m\u001B[0;34m\u001B[0m\u001B[0;34m\u001B[0m\u001B[0m\n",
      "\u001B[0;32m/aries_basic_controller/controllers/connections.py\u001B[0m in \u001B[0;36mget_connections\u001B[0;34m(self, alias, initiator, invitation_key, my_did, state, their_did, their_role)\u001B[0m\n\u001B[1;32m     57\u001B[0m             \u001B[0mparams\u001B[0m\u001B[0;34m[\u001B[0m\u001B[0;34m\"their_role\"\u001B[0m\u001B[0;34m]\u001B[0m \u001B[0;34m=\u001B[0m \u001B[0mtheir_role\u001B[0m\u001B[0;34m\u001B[0m\u001B[0;34m\u001B[0m\u001B[0m\n\u001B[1;32m     58\u001B[0m \u001B[0;34m\u001B[0m\u001B[0m\n\u001B[0;32m---> 59\u001B[0;31m         \u001B[0mconnections\u001B[0m \u001B[0;34m=\u001B[0m \u001B[0;32mawait\u001B[0m \u001B[0mself\u001B[0m\u001B[0;34m.\u001B[0m\u001B[0madmin_GET\u001B[0m\u001B[0;34m(\u001B[0m\u001B[0;34m\"/connections\"\u001B[0m\u001B[0;34m,\u001B[0m \u001B[0mparams\u001B[0m\u001B[0;34m=\u001B[0m\u001B[0mparams\u001B[0m\u001B[0;34m)\u001B[0m\u001B[0;34m\u001B[0m\u001B[0;34m\u001B[0m\u001B[0m\n\u001B[0m\u001B[1;32m     60\u001B[0m         \u001B[0;32mreturn\u001B[0m \u001B[0mconnections\u001B[0m\u001B[0;34m\u001B[0m\u001B[0;34m\u001B[0m\u001B[0m\n\u001B[1;32m     61\u001B[0m \u001B[0;34m\u001B[0m\u001B[0m\n",
      "\u001B[0;32m/aries_basic_controller/controllers/base.py\u001B[0m in \u001B[0;36madmin_GET\u001B[0;34m(self, path, text, params)\u001B[0m\n\u001B[1;32m     76\u001B[0m         \u001B[0;32mtry\u001B[0m\u001B[0;34m:\u001B[0m\u001B[0;34m\u001B[0m\u001B[0;34m\u001B[0m\u001B[0m\n\u001B[1;32m     77\u001B[0m             \u001B[0mEVENT_LOGGER\u001B[0m\u001B[0;34m.\u001B[0m\u001B[0mdebug\u001B[0m\u001B[0;34m(\u001B[0m\u001B[0;34m\"Controller GET %s request to Agent\"\u001B[0m\u001B[0;34m,\u001B[0m \u001B[0mpath\u001B[0m\u001B[0;34m)\u001B[0m\u001B[0;34m\u001B[0m\u001B[0;34m\u001B[0m\u001B[0m\n\u001B[0;32m---> 78\u001B[0;31m             \u001B[0mresponse\u001B[0m \u001B[0;34m=\u001B[0m \u001B[0;32mawait\u001B[0m \u001B[0mself\u001B[0m\u001B[0;34m.\u001B[0m\u001B[0madmin_request\u001B[0m\u001B[0;34m(\u001B[0m\u001B[0;34m\"GET\"\u001B[0m\u001B[0;34m,\u001B[0m \u001B[0mpath\u001B[0m\u001B[0;34m,\u001B[0m \u001B[0;32mNone\u001B[0m\u001B[0;34m,\u001B[0m \u001B[0mtext\u001B[0m\u001B[0;34m,\u001B[0m \u001B[0mparams\u001B[0m\u001B[0;34m)\u001B[0m\u001B[0;34m\u001B[0m\u001B[0;34m\u001B[0m\u001B[0m\n\u001B[0m\u001B[1;32m     79\u001B[0m             EVENT_LOGGER.debug(\n\u001B[1;32m     80\u001B[0m                 \u001B[0;34m\"Response from GET %s received: \\n%s\"\u001B[0m\u001B[0;34m,\u001B[0m \u001B[0mpath\u001B[0m\u001B[0;34m,\u001B[0m \u001B[0mrepr_json\u001B[0m\u001B[0;34m(\u001B[0m\u001B[0mresponse\u001B[0m\u001B[0;34m)\u001B[0m\u001B[0;34m,\u001B[0m\u001B[0;34m\u001B[0m\u001B[0;34m\u001B[0m\u001B[0m\n",
      "\u001B[0;32m/aries_basic_controller/controllers/base.py\u001B[0m in \u001B[0;36madmin_request\u001B[0;34m(self, method, path, data, text, params)\u001B[0m\n\u001B[1;32m     59\u001B[0m         \u001B[0mparams\u001B[0m \u001B[0;34m=\u001B[0m \u001B[0;34m{\u001B[0m\u001B[0mk\u001B[0m\u001B[0;34m:\u001B[0m \u001B[0mv\u001B[0m \u001B[0;32mfor\u001B[0m \u001B[0;34m(\u001B[0m\u001B[0mk\u001B[0m\u001B[0;34m,\u001B[0m \u001B[0mv\u001B[0m\u001B[0;34m)\u001B[0m \u001B[0;32min\u001B[0m \u001B[0;34m(\u001B[0m\u001B[0mparams\u001B[0m \u001B[0;32mor\u001B[0m \u001B[0;34m{\u001B[0m\u001B[0;34m}\u001B[0m\u001B[0;34m)\u001B[0m\u001B[0;34m.\u001B[0m\u001B[0mitems\u001B[0m\u001B[0;34m(\u001B[0m\u001B[0;34m)\u001B[0m \u001B[0;32mif\u001B[0m \u001B[0mv\u001B[0m \u001B[0;32mis\u001B[0m \u001B[0;32mnot\u001B[0m \u001B[0;32mNone\u001B[0m\u001B[0;34m}\u001B[0m\u001B[0;34m\u001B[0m\u001B[0;34m\u001B[0m\u001B[0m\n\u001B[1;32m     60\u001B[0m         async with self.client_session.request(\n\u001B[0;32m---> 61\u001B[0;31m             \u001B[0mmethod\u001B[0m\u001B[0;34m,\u001B[0m \u001B[0mself\u001B[0m\u001B[0;34m.\u001B[0m\u001B[0madmin_url\u001B[0m \u001B[0;34m+\u001B[0m \u001B[0mpath\u001B[0m\u001B[0;34m,\u001B[0m \u001B[0mjson\u001B[0m\u001B[0;34m=\u001B[0m\u001B[0mdata\u001B[0m\u001B[0;34m,\u001B[0m \u001B[0mparams\u001B[0m\u001B[0;34m=\u001B[0m\u001B[0mparams\u001B[0m\u001B[0;34m\u001B[0m\u001B[0;34m\u001B[0m\u001B[0m\n\u001B[0m\u001B[1;32m     62\u001B[0m         ) as resp:\n\u001B[1;32m     63\u001B[0m             \u001B[0mresp\u001B[0m\u001B[0;34m.\u001B[0m\u001B[0mraise_for_status\u001B[0m\u001B[0;34m(\u001B[0m\u001B[0;34m)\u001B[0m\u001B[0;34m\u001B[0m\u001B[0;34m\u001B[0m\u001B[0m\n",
      "\u001B[0;32m/opt/conda/lib/python3.7/site-packages/aiohttp/client.py\u001B[0m in \u001B[0;36m__aenter__\u001B[0;34m(self)\u001B[0m\n\u001B[1;32m   1010\u001B[0m \u001B[0;34m\u001B[0m\u001B[0m\n\u001B[1;32m   1011\u001B[0m     \u001B[0;32masync\u001B[0m \u001B[0;32mdef\u001B[0m \u001B[0m__aenter__\u001B[0m\u001B[0;34m(\u001B[0m\u001B[0mself\u001B[0m\u001B[0;34m)\u001B[0m \u001B[0;34m->\u001B[0m \u001B[0m_RetType\u001B[0m\u001B[0;34m:\u001B[0m\u001B[0;34m\u001B[0m\u001B[0;34m\u001B[0m\u001B[0m\n\u001B[0;32m-> 1012\u001B[0;31m         \u001B[0mself\u001B[0m\u001B[0;34m.\u001B[0m\u001B[0m_resp\u001B[0m \u001B[0;34m=\u001B[0m \u001B[0;32mawait\u001B[0m \u001B[0mself\u001B[0m\u001B[0;34m.\u001B[0m\u001B[0m_coro\u001B[0m\u001B[0;34m\u001B[0m\u001B[0;34m\u001B[0m\u001B[0m\n\u001B[0m\u001B[1;32m   1013\u001B[0m         \u001B[0;32mreturn\u001B[0m \u001B[0mself\u001B[0m\u001B[0;34m.\u001B[0m\u001B[0m_resp\u001B[0m\u001B[0;34m\u001B[0m\u001B[0;34m\u001B[0m\u001B[0m\n\u001B[1;32m   1014\u001B[0m \u001B[0;34m\u001B[0m\u001B[0m\n",
      "\u001B[0;32m/opt/conda/lib/python3.7/site-packages/aiohttp/client.py\u001B[0m in \u001B[0;36m_request\u001B[0;34m(self, method, str_or_url, params, data, json, cookies, headers, skip_auto_headers, auth, allow_redirects, max_redirects, compress, chunked, expect100, raise_for_status, read_until_eof, proxy, proxy_auth, timeout, verify_ssl, fingerprint, ssl_context, ssl, proxy_headers, trace_request_ctx)\u001B[0m\n\u001B[1;32m    481\u001B[0m                                 \u001B[0mreq\u001B[0m\u001B[0;34m,\u001B[0m\u001B[0;34m\u001B[0m\u001B[0;34m\u001B[0m\u001B[0m\n\u001B[1;32m    482\u001B[0m                                 \u001B[0mtraces\u001B[0m\u001B[0;34m=\u001B[0m\u001B[0mtraces\u001B[0m\u001B[0;34m,\u001B[0m\u001B[0;34m\u001B[0m\u001B[0;34m\u001B[0m\u001B[0m\n\u001B[0;32m--> 483\u001B[0;31m                                 \u001B[0mtimeout\u001B[0m\u001B[0;34m=\u001B[0m\u001B[0mreal_timeout\u001B[0m\u001B[0;34m\u001B[0m\u001B[0;34m\u001B[0m\u001B[0m\n\u001B[0m\u001B[1;32m    484\u001B[0m                             )\n\u001B[1;32m    485\u001B[0m                     \u001B[0;32mexcept\u001B[0m \u001B[0masyncio\u001B[0m\u001B[0;34m.\u001B[0m\u001B[0mTimeoutError\u001B[0m \u001B[0;32mas\u001B[0m \u001B[0mexc\u001B[0m\u001B[0;34m:\u001B[0m\u001B[0;34m\u001B[0m\u001B[0;34m\u001B[0m\u001B[0m\n",
      "\u001B[0;32m/opt/conda/lib/python3.7/site-packages/aiohttp/connector.py\u001B[0m in \u001B[0;36mconnect\u001B[0;34m(self, req, traces, timeout)\u001B[0m\n\u001B[1;32m    521\u001B[0m \u001B[0;34m\u001B[0m\u001B[0m\n\u001B[1;32m    522\u001B[0m             \u001B[0;32mtry\u001B[0m\u001B[0;34m:\u001B[0m\u001B[0;34m\u001B[0m\u001B[0;34m\u001B[0m\u001B[0m\n\u001B[0;32m--> 523\u001B[0;31m                 \u001B[0mproto\u001B[0m \u001B[0;34m=\u001B[0m \u001B[0;32mawait\u001B[0m \u001B[0mself\u001B[0m\u001B[0;34m.\u001B[0m\u001B[0m_create_connection\u001B[0m\u001B[0;34m(\u001B[0m\u001B[0mreq\u001B[0m\u001B[0;34m,\u001B[0m \u001B[0mtraces\u001B[0m\u001B[0;34m,\u001B[0m \u001B[0mtimeout\u001B[0m\u001B[0;34m)\u001B[0m\u001B[0;34m\u001B[0m\u001B[0;34m\u001B[0m\u001B[0m\n\u001B[0m\u001B[1;32m    524\u001B[0m                 \u001B[0;32mif\u001B[0m \u001B[0mself\u001B[0m\u001B[0;34m.\u001B[0m\u001B[0m_closed\u001B[0m\u001B[0;34m:\u001B[0m\u001B[0;34m\u001B[0m\u001B[0;34m\u001B[0m\u001B[0m\n\u001B[1;32m    525\u001B[0m                     \u001B[0mproto\u001B[0m\u001B[0;34m.\u001B[0m\u001B[0mclose\u001B[0m\u001B[0;34m(\u001B[0m\u001B[0;34m)\u001B[0m\u001B[0;34m\u001B[0m\u001B[0;34m\u001B[0m\u001B[0m\n",
      "\u001B[0;32m/opt/conda/lib/python3.7/site-packages/aiohttp/connector.py\u001B[0m in \u001B[0;36m_create_connection\u001B[0;34m(self, req, traces, timeout)\u001B[0m\n\u001B[1;32m    857\u001B[0m         \u001B[0;32melse\u001B[0m\u001B[0;34m:\u001B[0m\u001B[0;34m\u001B[0m\u001B[0;34m\u001B[0m\u001B[0m\n\u001B[1;32m    858\u001B[0m             _, proto = await self._create_direct_connection(\n\u001B[0;32m--> 859\u001B[0;31m                 req, traces, timeout)\n\u001B[0m\u001B[1;32m    860\u001B[0m \u001B[0;34m\u001B[0m\u001B[0m\n\u001B[1;32m    861\u001B[0m         \u001B[0;32mreturn\u001B[0m \u001B[0mproto\u001B[0m\u001B[0;34m\u001B[0m\u001B[0;34m\u001B[0m\u001B[0m\n",
      "\u001B[0;32m/opt/conda/lib/python3.7/site-packages/aiohttp/connector.py\u001B[0m in \u001B[0;36m_create_direct_connection\u001B[0;34m(self, req, traces, timeout, client_error)\u001B[0m\n\u001B[1;32m   1002\u001B[0m         \u001B[0;32melse\u001B[0m\u001B[0;34m:\u001B[0m\u001B[0;34m\u001B[0m\u001B[0;34m\u001B[0m\u001B[0m\n\u001B[1;32m   1003\u001B[0m             \u001B[0;32massert\u001B[0m \u001B[0mlast_exc\u001B[0m \u001B[0;32mis\u001B[0m \u001B[0;32mnot\u001B[0m \u001B[0;32mNone\u001B[0m\u001B[0;34m\u001B[0m\u001B[0;34m\u001B[0m\u001B[0m\n\u001B[0;32m-> 1004\u001B[0;31m             \u001B[0;32mraise\u001B[0m \u001B[0mlast_exc\u001B[0m\u001B[0;34m\u001B[0m\u001B[0;34m\u001B[0m\u001B[0m\n\u001B[0m\u001B[1;32m   1005\u001B[0m \u001B[0;34m\u001B[0m\u001B[0m\n\u001B[1;32m   1006\u001B[0m     async def _create_proxy_connection(\n",
      "\u001B[0;32m/opt/conda/lib/python3.7/site-packages/aiohttp/connector.py\u001B[0m in \u001B[0;36m_create_direct_connection\u001B[0;34m(self, req, traces, timeout, client_error)\u001B[0m\n\u001B[1;32m    984\u001B[0m                     \u001B[0mserver_hostname\u001B[0m\u001B[0;34m=\u001B[0m\u001B[0mhinfo\u001B[0m\u001B[0;34m[\u001B[0m\u001B[0;34m'hostname'\u001B[0m\u001B[0;34m]\u001B[0m \u001B[0;32mif\u001B[0m \u001B[0msslcontext\u001B[0m \u001B[0;32melse\u001B[0m \u001B[0;32mNone\u001B[0m\u001B[0;34m,\u001B[0m\u001B[0;34m\u001B[0m\u001B[0;34m\u001B[0m\u001B[0m\n\u001B[1;32m    985\u001B[0m                     \u001B[0mlocal_addr\u001B[0m\u001B[0;34m=\u001B[0m\u001B[0mself\u001B[0m\u001B[0;34m.\u001B[0m\u001B[0m_local_addr\u001B[0m\u001B[0;34m,\u001B[0m\u001B[0;34m\u001B[0m\u001B[0;34m\u001B[0m\u001B[0m\n\u001B[0;32m--> 986\u001B[0;31m                     req=req, client_error=client_error)\n\u001B[0m\u001B[1;32m    987\u001B[0m             \u001B[0;32mexcept\u001B[0m \u001B[0mClientConnectorError\u001B[0m \u001B[0;32mas\u001B[0m \u001B[0mexc\u001B[0m\u001B[0;34m:\u001B[0m\u001B[0;34m\u001B[0m\u001B[0;34m\u001B[0m\u001B[0m\n\u001B[1;32m    988\u001B[0m                 \u001B[0mlast_exc\u001B[0m \u001B[0;34m=\u001B[0m \u001B[0mexc\u001B[0m\u001B[0;34m\u001B[0m\u001B[0;34m\u001B[0m\u001B[0m\n",
      "\u001B[0;32m/opt/conda/lib/python3.7/site-packages/aiohttp/connector.py\u001B[0m in \u001B[0;36m_wrap_create_connection\u001B[0;34m(self, req, timeout, client_error, *args, **kwargs)\u001B[0m\n\u001B[1;32m    941\u001B[0m             \u001B[0;32mraise\u001B[0m \u001B[0mClientConnectorSSLError\u001B[0m\u001B[0;34m(\u001B[0m\u001B[0mreq\u001B[0m\u001B[0;34m.\u001B[0m\u001B[0mconnection_key\u001B[0m\u001B[0;34m,\u001B[0m \u001B[0mexc\u001B[0m\u001B[0;34m)\u001B[0m \u001B[0;32mfrom\u001B[0m \u001B[0mexc\u001B[0m\u001B[0;34m\u001B[0m\u001B[0;34m\u001B[0m\u001B[0m\n\u001B[1;32m    942\u001B[0m         \u001B[0;32mexcept\u001B[0m \u001B[0mOSError\u001B[0m \u001B[0;32mas\u001B[0m \u001B[0mexc\u001B[0m\u001B[0;34m:\u001B[0m\u001B[0;34m\u001B[0m\u001B[0;34m\u001B[0m\u001B[0m\n\u001B[0;32m--> 943\u001B[0;31m             \u001B[0;32mraise\u001B[0m \u001B[0mclient_error\u001B[0m\u001B[0;34m(\u001B[0m\u001B[0mreq\u001B[0m\u001B[0;34m.\u001B[0m\u001B[0mconnection_key\u001B[0m\u001B[0;34m,\u001B[0m \u001B[0mexc\u001B[0m\u001B[0;34m)\u001B[0m \u001B[0;32mfrom\u001B[0m \u001B[0mexc\u001B[0m\u001B[0;34m\u001B[0m\u001B[0;34m\u001B[0m\u001B[0m\n\u001B[0m\u001B[1;32m    944\u001B[0m \u001B[0;34m\u001B[0m\u001B[0m\n\u001B[1;32m    945\u001B[0m     async def _create_direct_connection(\n",
      "\u001B[0;31mClientConnectorError\u001B[0m: Cannot connect to host alice-agent:8021 ssl:default [Connect call failed ('192.168.48.4', 8021)]"
     ]
    },
    {
     "name": "stderr",
     "output_type": "stream",
     "text": [
      "Task exception was never retrieved\n",
      "future: <Task finished coro=<run_in_terminal.<locals>.run() done, defined at /opt/conda/lib/python3.7/site-packages/prompt_toolkit/application/run_in_terminal.py:50> exception=UnsupportedOperation('fileno')>\n",
      "Traceback (most recent call last):\n",
      "  File \"/opt/conda/lib/python3.7/site-packages/prompt_toolkit/application/run_in_terminal.py\", line 55, in run\n",
      "    return func()\n",
      "  File \"/aries_basic_controller/helpers/utils.py\", line 120, in <lambda>\n",
      "    run_in_terminal(lambda: print_ext(*msg, color=color, **kwargs))\n",
      "  File \"/aries_basic_controller/helpers/utils.py\", line 103, in print_ext\n",
      "    print_formatted(FormattedText(msg), **kwargs)\n",
      "  File \"/aries_basic_controller/helpers/utils.py\", line 83, in print_formatted\n",
      "    prompt_toolkit.print_formatted_text(*args, **kwargs)\n",
      "  File \"/opt/conda/lib/python3.7/site-packages/prompt_toolkit/shortcuts/utils.py\", line 112, in print_formatted_text\n",
      "    output = get_app_session().output\n",
      "  File \"/opt/conda/lib/python3.7/site-packages/prompt_toolkit/application/current.py\", line 65, in output\n",
      "    self._output = create_output()\n",
      "  File \"/opt/conda/lib/python3.7/site-packages/prompt_toolkit/output/defaults.py\", line 62, in create_output\n",
      "    return Vt100_Output.from_pty(stdout, term=get_term_environment_variable())\n",
      "  File \"/opt/conda/lib/python3.7/site-packages/prompt_toolkit/output/vt100.py\", line 449, in from_pty\n",
      "    fd = stdout.fileno()\n",
      "io.UnsupportedOperation: fileno\n"
     ]
    }
   ],
   "source": [
    "response = await agent_controller.connections.get_connections()\n",
    "results = response['results']\n",
    "#print(\"Results : \", results)\n",
    "print('\\n')\n",
    "if len(results) > 0:\n",
    "    connection = response['results'][0]\n",
    "    #print(\"Connection :\", connection)\n",
    "    if connection['state'] == 'active':       \n",
    "        connection_id = connection[\"connection_id\"]\n",
    "        print(\"\\nActive Connection ID : \", connection_id)\n",
    "    else:\n",
    "        print(\"No active connection found - wait a bit and execute again\")\n",
    "else:\n",
    "    print(\"You must create a connection. A connection is being established in the background.\")"
   ]
  },
  {
   "cell_type": "markdown",
   "metadata": {},
   "source": [
    "### Pairwise Connection Record Parameters (`/connections`)\n",
    "\n",
    " * `connection_id`: the unique connection identifier\n",
    " * `state`: `init` / `invitation` / `request` / `response` / `active` / `error` / `inactive`\n",
    " * `my_did`: the DID this agent is using in the connection\n",
    " * `their_did`: the DID the other agent in the connection is using\n",
    " * `their_label`: a connection label provided by the other agent\n",
    " * `their_role`: a role assigned to the other agent in the connection\n",
    " * `inbound_connection_id`: a connection identifier for the related inbound routing connection\n",
    " * `initiator`: `self` / `external` / `multiuse`\n",
    " * `invitation_key`: a verification key used to identify the source connection invitation\n",
    " * `request_id`: the `@id` property from the connection request message\n",
    " * `routing_state`: `none` / `request` / `active` / `error`\n",
    " * `accept`: `manual` / `auto`\n",
    " * `error_msg`: the most recent error message\n",
    " * `invitation_mode`: `once` / `multi`\n",
    " * `alias`: a local alias for the connection record"
   ]
  },
  {
   "cell_type": "markdown",
   "metadata": {
    "pycharm": {
     "name": "#%% md\n"
    }
   },
   "source": [
    "### Get Connections List"
   ]
  },
  {
   "cell_type": "code",
   "execution_count": 5,
   "metadata": {},
   "outputs": [
    {
     "name": "stdout",
     "output_type": "stream",
     "text": [
      "{'results': [{'created_at': '2020-09-01 12:32:48.878318Z', 'invitation_key': '2QWZP9LjTNCq5EXY4cTbGtgfKD7wJAp4KJBvr7BuqD17', 'my_did': '6i6qJNj4chnju8BKtVTDh5', 'updated_at': '2020-09-01 12:33:01.240107Z', 'their_did': 'Xv3tKU9K8jDP2QCuuGaGs', 'initiator': 'external', 'their_label': 'Bob', 'request_id': 'e1582602-b571-4e2a-a6cc-dc088f5729af', 'accept': 'manual', 'routing_state': 'none', 'invitation_mode': 'once', 'state': 'active', 'connection_id': '6f51c520-913c-4780-941c-c4afbdc7caec'}]}\n"
     ]
    }
   ],
   "source": [
    "response = await agent_controller.connections.get_connections()\n",
    "print(response)"
   ]
  },
  {
   "cell_type": "markdown",
   "metadata": {},
   "source": [
    "### Get Connection by Connection ID"
   ]
  },
  {
   "cell_type": "code",
   "execution_count": 6,
   "metadata": {},
   "outputs": [
    {
     "name": "stdout",
     "output_type": "stream",
     "text": [
      "6f51c520-913c-4780-941c-c4afbdc7caec\n",
      "{'created_at': '2020-09-01 12:32:48.878318Z', 'invitation_key': '2QWZP9LjTNCq5EXY4cTbGtgfKD7wJAp4KJBvr7BuqD17', 'my_did': '6i6qJNj4chnju8BKtVTDh5', 'updated_at': '2020-09-01 12:33:01.240107Z', 'their_did': 'Xv3tKU9K8jDP2QCuuGaGs', 'initiator': 'external', 'their_label': 'Bob', 'request_id': 'e1582602-b571-4e2a-a6cc-dc088f5729af', 'accept': 'manual', 'routing_state': 'none', 'invitation_mode': 'once', 'state': 'active', 'connection_id': '6f51c520-913c-4780-941c-c4afbdc7caec'}\n"
     ]
    }
   ],
   "source": [
    "print(connection_id)\n",
    "response = await agent_controller.connections.get_connection(connection_id)\n",
    "print(response)"
   ]
  },
  {
   "cell_type": "markdown",
   "metadata": {},
   "source": [
    "### Create a new static connection"
   ]
  },
  {
   "cell_type": "code",
   "execution_count": 6,
   "metadata": {},
   "outputs": [
    {
     "name": "stdout",
     "output_type": "stream",
     "text": [
      "{'my_did': 'PQRXDxdGqQGSZ8z69p4xZP', 'my_verkey': 'DDEKJtBjzaXAJtpwetdPiXH5s4rNUEzG18V15QoLRcZZ', 'my_endpoint': 'http://192.168.65.3:8020', 'their_did': 'gZj39Y8JGQ5GVQp2y6zFH', 'their_verkey': 'NZhmtd1RginriRRSAWWhgA3567PGbzsEnnm5u927Pcu', 'record': {'accept': 'manual', 'updated_at': '2020-09-01 16:54:08.497107Z', 'alias': 'Alice', 'initiator': 'self', 'state': 'active', 'their_label': 'Bob', 'their_role': 'test', 'routing_state': 'none', 'created_at': '2020-09-01 16:54:08.497107Z', 'connection_id': '09c95f61-34ed-4ef0-9ddd-531fb1e534f7', 'invitation_mode': 'static', 'my_did': 'PQRXDxdGqQGSZ8z69p4xZP', 'their_did': 'gZj39Y8JGQ5GVQp2y6zFH'}}\n"
     ]
    }
   ],
   "source": [
    "# Create Static Connection\n",
    "# Alice settings\n",
    "# my_seed = my_seed\n",
    "# my_did = my_did\n",
    "# alias = alias\n",
    "\n",
    "my_did = 'PQRXDxdGqQGSZ8z69p4xZP'\n",
    "my_seed = 'alice_seed_000000000000000000000'\n",
    "alias = 'Alice'\n",
    "\n",
    "\n",
    "# # Bob settings\n",
    "# their_endpoint = their_endpoint\n",
    "# their_did = their_did\n",
    "# their_seed = their_seed\n",
    "# their_label = their_label\n",
    "# their_verkey = their_verkey\n",
    "# their_role = their_role\n",
    "their_did = 'gZj39Y8JGQ5GVQp2y6zFH'\n",
    "their_seed = 'bob_seed_00000000000000000000000'\n",
    "their_label = 'Bob'\n",
    "their_verkey = 'NZhmtd1RginriRRSAWWhgA3567PGbzsEnnm5u927Pcu'\n",
    "their_endpoint = 'http://192.168.65.3:8050'\n",
    "their_role = 'test'\n",
    "\n",
    "static = await agent_controller.connections.create_static(their_seed,their_label,their_verkey,their_role,my_seed,my_did,their_endpoint,alias,their_did)\n",
    "print(static)"
   ]
  },
  {
   "cell_type": "markdown",
   "metadata": {},
   "source": [
    "### Create invitation request that can be passed to Bob"
   ]
  },
  {
   "cell_type": "code",
   "execution_count": 7,
   "metadata": {
    "pycharm": {
     "name": "#%%\n"
    }
   },
   "outputs": [
    {
     "name": "stdout",
     "output_type": "stream",
     "text": [
      "Connection ID 0c057db4-d9f2-45f5-a8c1-516e2a1e12d0\n",
      "Invitation\n",
      "{'connection_id': '0c057db4-d9f2-45f5-a8c1-516e2a1e12d0', 'invitation': {'@type': 'did:sov:BzCbsNYhMrjHiqZDTUASHg;spec/connections/1.0/invitation', '@id': '717080aa-401d-4edc-9579-dd89a3469b3c', 'recipientKeys': ['BYcjKjcKJV2NSP8oPH1JZUiDsCsiKZqPzWdwtdsPcsyP'], 'serviceEndpoint': 'http://192.168.65.3:8020', 'label': 'Alice'}, 'invitation_url': 'http://192.168.65.3:8020?c_i=eyJAdHlwZSI6ICJkaWQ6c292OkJ6Q2JzTlloTXJqSGlxWkRUVUFTSGc7c3BlYy9jb25uZWN0aW9ucy8xLjAvaW52aXRhdGlvbiIsICJAaWQiOiAiNzE3MDgwYWEtNDAxZC00ZWRjLTk1NzktZGQ4OWEzNDY5YjNjIiwgInJlY2lwaWVudEtleXMiOiBbIkJZY2pLamNLSlYyTlNQOG9QSDFKWlVpRHNDc2lLWnFQeldkd3Rkc1Bjc3lQIl0sICJzZXJ2aWNlRW5kcG9pbnQiOiAiaHR0cDovLzE5Mi4xNjguNjUuMzo4MDIwIiwgImxhYmVsIjogIkFsaWNlIn0='}\n"
     ]
    }
   ],
   "source": [
    "# Create Invitation\n",
    "invite = await agent_controller.connections.create_invitation()\n",
    "connection_id = invite[\"connection_id\"]\n",
    "print(\"Connection ID\", connection_id)\n",
    "print(\"Invitation\")\n",
    "print(invite)"
   ]
  },
  {
   "cell_type": "markdown",
   "metadata": {
    "pycharm": {
     "name": "#%% md\n"
    }
   },
   "source": [
    "### Receive a connection invitation\n",
    "#### Example of accepting the invitation from the Alice [notebook](localhost:8088) in Bob's [notebook](localhost:8089);\n",
    "Copy the invitation request above to Bob's [notebook](localhost:8089)"
   ]
  },
  {
   "cell_type": "markdown",
   "metadata": {},
   "source": [
    "### Accept the invitation, then move to Alice's notebook"
   ]
  },
  {
   "cell_type": "code",
   "execution_count": 8,
   "metadata": {
    "pycharm": {
     "name": "#%%\n"
    }
   },
   "outputs": [
    {
     "name": "stdout",
     "output_type": "stream",
     "text": [
      "Connection {'created_at': '2020-09-01 12:34:32.780621Z', 'invitation_key': 'BYcjKjcKJV2NSP8oPH1JZUiDsCsiKZqPzWdwtdsPcsyP', 'my_did': 'JHf4eRqEfvdfotJizn5WxT', 'updated_at': '2020-09-01 12:34:32.842258Z', 'initiator': 'external', 'their_label': 'Alice', 'request_id': '343605c1-3e46-4b26-a3ef-d9d65f7508c9', 'accept': 'manual', 'routing_state': 'none', 'invitation_mode': 'once', 'state': 'request', 'connection_id': 'fe5bb963-9c12-4f9e-ad80-bdea40c3bf8a'}\n"
     ]
    }
   ],
   "source": [
    "# Receive Invitation\n",
    "response = await agent_controller.connections.accept_connection(invite[\"invitation\"])\n",
    "# Print out accepted Invite and Alice's connection ID\n",
    "print(\"Connection\", response)\n",
    "alice_id = response[\"connection_id\"]"
   ]
  },
  {
   "cell_type": "markdown",
   "metadata": {
    "pycharm": {
     "name": "#%% md\n"
    }
   },
   "source": [
    "### Accept Request for Connection by Alice"
   ]
  },
  {
   "cell_type": "code",
   "execution_count": 9,
   "metadata": {
    "pycharm": {
     "name": "#%%\n"
    }
   },
   "outputs": [
    {
     "name": "stdout",
     "output_type": "stream",
     "text": [
      "True\n",
      "ACCEPT REQUEST\n",
      "{'created_at': '2020-09-01 12:33:17.891802Z', 'invitation_key': 'BYcjKjcKJV2NSP8oPH1JZUiDsCsiKZqPzWdwtdsPcsyP', 'my_did': 'D3zLxJ52zjHRnYEtB1Lvyt', 'updated_at': '2020-09-01 12:35:12.627511Z', 'their_did': 'JHf4eRqEfvdfotJizn5WxT', 'initiator': 'self', 'their_label': 'Alice', 'accept': 'manual', 'routing_state': 'none', 'invitation_mode': 'once', 'state': 'response', 'connection_id': '0c057db4-d9f2-45f5-a8c1-516e2a1e12d0'}\n",
      "state response\n"
     ]
    }
   ],
   "source": [
    "# Accept Request for Invite created\n",
    "connection = await agent_controller.connections.accept_request(connection_id)\n",
    "print(\"ACCEPT REQUEST\")\n",
    "print(connection)\n",
    "print(\"state\", connection[\"state\"])"
   ]
  },
  {
   "cell_type": "markdown",
   "metadata": {},
   "source": [
    "### Establish Inbound Connection"
   ]
  },
  {
   "cell_type": "code",
   "execution_count": null,
   "metadata": {},
   "outputs": [],
   "source": []
  },
  {
   "cell_type": "markdown",
   "metadata": {},
   "source": [
    "### Remove Connection"
   ]
  },
  {
   "cell_type": "code",
   "execution_count": 10,
   "metadata": {},
   "outputs": [
    {
     "name": "stdout",
     "output_type": "stream",
     "text": [
      "{}\n"
     ]
    }
   ],
   "source": [
    "# Remove a connection\n",
    "connection = await agent_controller.connections.remove_connection(connection_id)\n",
    "print(connection)"
   ]
  },
  {
   "cell_type": "markdown",
   "metadata": {},
   "source": [
    "### End of Tutorial\n",
    "\n"
   ]
  },
  {
   "cell_type": "code",
   "execution_count": 6,
   "metadata": {},
   "outputs": [
    {
     "name": "stdout",
     "output_type": "stream",
     "text": [
      "None\n"
     ]
    }
   ],
   "source": [
    "response = await agent_controller.terminate()\n",
    "print(response)"
   ]
  },
  {
   "cell_type": "code",
   "execution_count": null,
   "metadata": {},
   "outputs": [],
   "source": []
  }
 ],
 "metadata": {
  "kernelspec": {
   "display_name": "Python 3",
   "language": "python",
   "name": "python3"
  },
  "language_info": {
   "codemirror_mode": {
    "name": "ipython",
    "version": 3
   },
   "file_extension": ".py",
   "mimetype": "text/x-python",
   "name": "python",
   "nbconvert_exporter": "python",
   "pygments_lexer": "ipython3",
   "version": "3.7.6"
  }
 },
 "nbformat": 4,
 "nbformat_minor": 1
}