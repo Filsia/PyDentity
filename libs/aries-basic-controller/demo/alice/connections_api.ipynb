{
 "cells": [
  {
   "cell_type": "markdown",
   "metadata": {
    "collapsed": true,
    "pycharm": {
     "name": "#%% md\n"
    }
   },
   "source": [
    "# Aries Basic Controller Example\n",
    "## Controllers Api\n",
    "\n",
    "This can be used to make connections between two aries agents.\n",
    "\n",
    "A connection invitation must be created by Alice which is then copied to Bob's notebook to accept the invitation request.\n",
    "\n",
    "Once Bob accepted the invitation, Alice can accept the invitation response from Bob.\n",
    "\n",
    "This creates a pairwise relationship between Alice and Bob that is end-to-end encrypted and a trust channel between them for exchanging basic messages or verifiable credentials."
   ]
  },
  {
   "cell_type": "code",
   "execution_count": 1,
   "metadata": {
    "pycharm": {
     "name": "#%%\n"
    }
   },
   "outputs": [
    {
     "name": "stdout",
     "output_type": "stream",
     "text": [
      "IPython autoawait is `on`, and set to use `asyncio`\n"
     ]
    }
   ],
   "source": [
    "%autoawait\n",
    "import time\n",
    "import asyncio"
   ]
  },
  {
   "cell_type": "code",
   "execution_count": 2,
   "metadata": {
    "pycharm": {
     "name": "#%%\n"
    }
   },
   "outputs": [],
   "source": [
    "from aries_basic_controller.aries_controller import AriesAgentController\n",
    "\n",
    "WEBHOOK_HOST = \"0.0.0.0\"\n",
    "WEBHOOK_PORT = 8022\n",
    "WEBHOOK_BASE = \"\"\n",
    "ADMIN_URL = \"http://alice-agent:8021\"\n",
    "\n",
    "# Based on the aca-py agent you wish to control\n",
    "agent_controller = AriesAgentController(webhook_host=WEBHOOK_HOST, webhook_port=WEBHOOK_PORT,\n",
    "                                       webhook_base=WEBHOOK_BASE, admin_url=ADMIN_URL)\n",
    "\n"
   ]
  },
  {
   "cell_type": "markdown",
   "metadata": {},
   "source": [
    "## Check the agent has an active connection\n",
    "\n",
    "**Note: An active connection is required, this should have been established on start up through the python script create_connection.py in the setup folder. If not it is possible to run through the did-exchange tutorial to create one between Alice and Bob**\n",
    "\n",
    "* [Alice](http://localhost:8888/notebooks/did-exchange-inviter.ipynb)\n",
    "* [Bob](http://localhost:8889/notebooks/did-exchange-invitee.ipynb)"
   ]
  },
  {
   "cell_type": "code",
   "execution_count": 4,
   "metadata": {},
   "outputs": [
    {
     "name": "stdout",
     "output_type": "stream",
     "text": [
      "\n",
      "\n",
      "\n",
      "Active Connection ID :  6f51c520-913c-4780-941c-c4afbdc7caec\n"
     ]
    }
   ],
   "source": [
    "response = await agent_controller.connections.get_connections()\n",
    "results = response['results']\n",
    "#print(\"Results : \", results)\n",
    "print('\\n')\n",
    "if len(results) > 0:\n",
    "    connection = response['results'][0]\n",
    "    #print(\"Connection :\", connection)\n",
    "    if connection['state'] == 'active':       \n",
    "        connection_id = connection[\"connection_id\"]\n",
    "        print(\"\\nActive Connection ID : \", connection_id)\n",
    "    else:\n",
    "        print(\"No active connection found - wait a bit and execute again\")\n",
    "else:\n",
    "    print(\"You must create a connection. A connection is being established in the background.\")"
   ]
  },
  {
   "cell_type": "markdown",
   "metadata": {},
   "source": [
    "### Pairwise Connection Record Parameters (`/connections`)\n",
    "\n",
    " * `connection_id`: the unique connection identifier\n",
    " * `state`: `init` / `invitation` / `request` / `response` / `active` / `error` / `inactive`\n",
    " * `my_did`: the DID this agent is using in the connection\n",
    " * `their_did`: the DID the other agent in the connection is using\n",
    " * `their_label`: a connection label provided by the other agent\n",
    " * `their_role`: a role assigned to the other agent in the connection\n",
    " * `inbound_connection_id`: a connection identifier for the related inbound routing connection\n",
    " * `initiator`: `self` / `external` / `multiuse`\n",
    " * `invitation_key`: a verification key used to identify the source connection invitation\n",
    " * `request_id`: the `@id` property from the connection request message\n",
    " * `routing_state`: `none` / `request` / `active` / `error`\n",
    " * `accept`: `manual` / `auto`\n",
    " * `error_msg`: the most recent error message\n",
    " * `invitation_mode`: `once` / `multi`\n",
    " * `alias`: a local alias for the connection record"
   ]
  },
  {
   "cell_type": "markdown",
   "metadata": {
    "pycharm": {
     "name": "#%% md\n"
    }
   },
   "source": [
    "### Get Connections List"
   ]
  },
  {
   "cell_type": "code",
   "execution_count": 5,
   "metadata": {},
   "outputs": [
    {
     "name": "stdout",
     "output_type": "stream",
     "text": [
      "{'results': [{'created_at': '2020-09-01 12:32:48.878318Z', 'invitation_key': '2QWZP9LjTNCq5EXY4cTbGtgfKD7wJAp4KJBvr7BuqD17', 'my_did': '6i6qJNj4chnju8BKtVTDh5', 'updated_at': '2020-09-01 12:33:01.240107Z', 'their_did': 'Xv3tKU9K8jDP2QCuuGaGs', 'initiator': 'external', 'their_label': 'Bob', 'request_id': 'e1582602-b571-4e2a-a6cc-dc088f5729af', 'accept': 'manual', 'routing_state': 'none', 'invitation_mode': 'once', 'state': 'active', 'connection_id': '6f51c520-913c-4780-941c-c4afbdc7caec'}]}\n"
     ]
    }
   ],
   "source": [
    "response = await agent_controller.connections.get_connections()\n",
    "print(response)"
   ]
  },
  {
   "cell_type": "markdown",
   "metadata": {},
   "source": [
    "### Get Connection by Connection ID"
   ]
  },
  {
   "cell_type": "code",
   "execution_count": 6,
   "metadata": {},
   "outputs": [
    {
     "name": "stdout",
     "output_type": "stream",
     "text": [
      "6f51c520-913c-4780-941c-c4afbdc7caec\n",
      "{'created_at': '2020-09-01 12:32:48.878318Z', 'invitation_key': '2QWZP9LjTNCq5EXY4cTbGtgfKD7wJAp4KJBvr7BuqD17', 'my_did': '6i6qJNj4chnju8BKtVTDh5', 'updated_at': '2020-09-01 12:33:01.240107Z', 'their_did': 'Xv3tKU9K8jDP2QCuuGaGs', 'initiator': 'external', 'their_label': 'Bob', 'request_id': 'e1582602-b571-4e2a-a6cc-dc088f5729af', 'accept': 'manual', 'routing_state': 'none', 'invitation_mode': 'once', 'state': 'active', 'connection_id': '6f51c520-913c-4780-941c-c4afbdc7caec'}\n"
     ]
    }
   ],
   "source": [
    "print(connection_id)\n",
    "response = await agent_controller.connections.get_connection(connection_id)\n",
    "print(response)"
   ]
  },
  {
   "cell_type": "markdown",
   "metadata": {},
   "source": [
    "# TODO - Implement API endpoint for static connections\n",
    "### Create a new static connection"
   ]
  },
  {
   "cell_type": "code",
   "execution_count": null,
   "metadata": {},
   "outputs": [],
   "source": []
  },
  {
   "cell_type": "markdown",
   "metadata": {},
   "source": [
    "### Create invitation request that can be passed to Bob"
   ]
  },
  {
   "cell_type": "code",
   "execution_count": 7,
   "metadata": {
    "pycharm": {
     "name": "#%%\n"
    }
   },
   "outputs": [
    {
     "name": "stdout",
     "output_type": "stream",
     "text": [
      "Connection ID 0c057db4-d9f2-45f5-a8c1-516e2a1e12d0\n",
      "Invitation\n",
      "{'connection_id': '0c057db4-d9f2-45f5-a8c1-516e2a1e12d0', 'invitation': {'@type': 'did:sov:BzCbsNYhMrjHiqZDTUASHg;spec/connections/1.0/invitation', '@id': '717080aa-401d-4edc-9579-dd89a3469b3c', 'recipientKeys': ['BYcjKjcKJV2NSP8oPH1JZUiDsCsiKZqPzWdwtdsPcsyP'], 'serviceEndpoint': 'http://192.168.65.3:8020', 'label': 'Alice'}, 'invitation_url': 'http://192.168.65.3:8020?c_i=eyJAdHlwZSI6ICJkaWQ6c292OkJ6Q2JzTlloTXJqSGlxWkRUVUFTSGc7c3BlYy9jb25uZWN0aW9ucy8xLjAvaW52aXRhdGlvbiIsICJAaWQiOiAiNzE3MDgwYWEtNDAxZC00ZWRjLTk1NzktZGQ4OWEzNDY5YjNjIiwgInJlY2lwaWVudEtleXMiOiBbIkJZY2pLamNLSlYyTlNQOG9QSDFKWlVpRHNDc2lLWnFQeldkd3Rkc1Bjc3lQIl0sICJzZXJ2aWNlRW5kcG9pbnQiOiAiaHR0cDovLzE5Mi4xNjguNjUuMzo4MDIwIiwgImxhYmVsIjogIkFsaWNlIn0='}\n"
     ]
    }
   ],
   "source": [
    "# Create Invitation\n",
    "invite = await agent_controller.connections.create_invitation()\n",
    "connection_id = invite[\"connection_id\"]\n",
    "print(\"Connection ID\", connection_id)\n",
    "print(\"Invitation\")\n",
    "print(invite)"
   ]
  },
  {
   "cell_type": "markdown",
   "metadata": {
    "pycharm": {
     "name": "#%% md\n"
    }
   },
   "source": [
    "### Receive a connection invitation\n",
    "#### Example of accepting the invitation from the Alice [notebook](localhost:8088) in Bob's [notebook](localhost:8089);\n",
    "Copy the invitation request above to Bob's [notebook](localhost:8089)"
   ]
  },
  {
   "cell_type": "markdown",
   "metadata": {},
   "source": [
    "### Accept the invitation, then move to Alice's notebook"
   ]
  },
  {
   "cell_type": "code",
   "execution_count": 8,
   "metadata": {
    "pycharm": {
     "name": "#%%\n"
    }
   },
   "outputs": [
    {
     "name": "stdout",
     "output_type": "stream",
     "text": [
      "Connection {'created_at': '2020-09-01 12:34:32.780621Z', 'invitation_key': 'BYcjKjcKJV2NSP8oPH1JZUiDsCsiKZqPzWdwtdsPcsyP', 'my_did': 'JHf4eRqEfvdfotJizn5WxT', 'updated_at': '2020-09-01 12:34:32.842258Z', 'initiator': 'external', 'their_label': 'Alice', 'request_id': '343605c1-3e46-4b26-a3ef-d9d65f7508c9', 'accept': 'manual', 'routing_state': 'none', 'invitation_mode': 'once', 'state': 'request', 'connection_id': 'fe5bb963-9c12-4f9e-ad80-bdea40c3bf8a'}\n"
     ]
    }
   ],
   "source": [
    "# Receive Invitation\n",
    "response = await agent_controller.connections.accept_connection(invite[\"invitation\"])\n",
    "# Print out accepted Invite and Alice's connection ID\n",
    "print(\"Connection\", response)\n",
    "alice_id = response[\"connection_id\"]"
   ]
  },
  {
   "cell_type": "markdown",
   "metadata": {
    "pycharm": {
     "name": "#%% md\n"
    }
   },
   "source": [
    "### Accept Request for Connection by Alice"
   ]
  },
  {
   "cell_type": "code",
   "execution_count": 9,
   "metadata": {
    "pycharm": {
     "name": "#%%\n"
    }
   },
   "outputs": [
    {
     "name": "stdout",
     "output_type": "stream",
     "text": [
      "True\n",
      "ACCEPT REQUEST\n",
      "{'created_at': '2020-09-01 12:33:17.891802Z', 'invitation_key': 'BYcjKjcKJV2NSP8oPH1JZUiDsCsiKZqPzWdwtdsPcsyP', 'my_did': 'D3zLxJ52zjHRnYEtB1Lvyt', 'updated_at': '2020-09-01 12:35:12.627511Z', 'their_did': 'JHf4eRqEfvdfotJizn5WxT', 'initiator': 'self', 'their_label': 'Alice', 'accept': 'manual', 'routing_state': 'none', 'invitation_mode': 'once', 'state': 'response', 'connection_id': '0c057db4-d9f2-45f5-a8c1-516e2a1e12d0'}\n",
      "state response\n"
     ]
    }
   ],
   "source": [
    "# Accept Request for Invite created\n",
    "connection = await agent_controller.connections.accept_request(connection_id)\n",
    "print(\"ACCEPT REQUEST\")\n",
    "print(connection)\n",
    "print(\"state\", connection[\"state\"])"
   ]
  },
  {
   "cell_type": "markdown",
   "metadata": {},
   "source": [
    "### Establish Inbound Connection"
   ]
  },
  {
   "cell_type": "code",
   "execution_count": null,
   "metadata": {},
   "outputs": [],
   "source": []
  },
  {
   "cell_type": "markdown",
   "metadata": {},
   "source": [
    "### Remove Connection"
   ]
  },
  {
   "cell_type": "code",
   "execution_count": 10,
   "metadata": {},
   "outputs": [
    {
     "name": "stdout",
     "output_type": "stream",
     "text": [
      "{}\n"
     ]
    }
   ],
   "source": [
    "# Remove a connection\n",
    "connection = await agent_controller.connections.remove_connection(connection_id)\n",
    "print(connection)"
   ]
  },
  {
   "cell_type": "markdown",
   "metadata": {},
   "source": [
    "### End of Tutorial\n",
    "\n"
   ]
  },
  {
   "cell_type": "code",
   "execution_count": 6,
   "metadata": {},
   "outputs": [
    {
     "name": "stdout",
     "output_type": "stream",
     "text": [
      "None\n"
     ]
    }
   ],
   "source": [
    "response = await agent_controller.terminate()\n",
    "print(response)"
   ]
  },
  {
   "cell_type": "code",
   "execution_count": null,
   "metadata": {},
   "outputs": [],
   "source": []
  }
 ],
 "metadata": {
  "kernelspec": {
   "display_name": "Python 3",
   "language": "python",
   "name": "python3"
  },
  "language_info": {
   "codemirror_mode": {
    "name": "ipython",
    "version": 3
   },
   "file_extension": ".py",
   "mimetype": "text/x-python",
   "name": "python",
   "nbconvert_exporter": "python",
   "pygments_lexer": "ipython3",
   "version": "3.7.6"
  }
 },
 "nbformat": 4,
 "nbformat_minor": 1
}
