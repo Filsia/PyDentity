{
 "cells": [
  {
   "cell_type": "markdown",
   "metadata": {},
   "source": [
    "# 1.\n",
    "# Aries Basic Controller - Alice\n",
    "\n",
    "This notebook walks through a MVP for PryVote assuming the Openminded community will be issued an Openmined commuity credential that will enable community members to vote on basic things. The credential will be issued across a previously established connection.\n",
    "\n",
    "It is best run in parallel with the [openmind-pryvote-voter notebook](http://127.0.0.1:8889/notebooks/openmind-pryvote-voter.ipynb) controlling the agent receiving the credential to enable voting.\n",
    "\n",
    "If unfamiliar with the protocol it is worth reading through the [aries-rfs](https://github.com/hyperledger/aries-rfcs/tree/master/features/0036-issue-credential)\n"
   ]
  },
  {
   "cell_type": "code",
   "execution_count": 1,
   "metadata": {
    "pycharm": {
     "name": "#%%\n"
    }
   },
   "outputs": [
    {
     "name": "stdout",
     "output_type": "stream",
     "text": [
      "IPython autoawait is `on`, and set to use `asyncio`\n"
     ]
    }
   ],
   "source": [
    "%autoawait\n",
    "import time\n",
    "import asyncio"
   ]
  },
  {
   "cell_type": "code",
   "execution_count": 2,
   "metadata": {
    "pycharm": {
     "name": "#%%\n"
    }
   },
   "outputs": [],
   "source": [
    "from aries_basic_controller.aries_controller import AriesAgentController\n",
    "\n",
    "WEBHOOK_HOST = \"0.0.0.0\"\n",
    "WEBHOOK_PORT = 8022\n",
    "WEBHOOK_BASE = \"\"\n",
    "ADMIN_URL = \"http://alice-agent:8021\"\n",
    "\n",
    "# Based on the aca-py agent you wish to control\n",
    "alice_agent_controller = AriesAgentController(webhook_host=WEBHOOK_HOST, webhook_port=WEBHOOK_PORT,\n",
    "                                       webhook_base=WEBHOOK_BASE, admin_url=ADMIN_URL)\n"
   ]
  },
  {
   "cell_type": "markdown",
   "metadata": {},
   "source": [
    "# 2\n",
    "## Register Listeners\n",
    "\n",
    "The handler should get called every time the controller receives a webhook with the topic issue_credential, printing out the payload. The agent calls to this webhook every time it receives an issue-credential protocol message from a credential."
   ]
  },
  {
   "cell_type": "code",
   "execution_count": 3,
   "metadata": {
    "pycharm": {
     "name": "#%%\n"
    }
   },
   "outputs": [],
   "source": [
    "loop = asyncio.get_event_loop()\n",
    "loop.create_task(alice_agent_controller.listen_webhooks())\n",
    "\n",
    "def cred_handler(payload):\n",
    "    print(\"Handle Credentials\")\n",
    "    exchange_id = payload['credential_exchange_id']\n",
    "    state = payload['state']\n",
    "    role = payload['role']\n",
    "    attributes = payload['credential_proposal_dict']['credential_proposal']['attributes']\n",
    "    print(f\"Credential exchange {exchange_id}, role: {role}, state: {state}\")\n",
    "    print(f\"Being offered: {attributes}\")\n",
    "\n",
    "cred_listener = {\n",
    "    \"topic\": \"issue_credential\",\n",
    "    \"handler\": cred_handler\n",
    "}\n",
    "alice_agent_controller.register_listeners([cred_listener], defaults=True)\n"
   ]
  },
  {
   "cell_type": "markdown",
   "metadata": {},
   "source": [
    "# 3\n",
    "## Check the agent has an active connection\n",
    "\n",
    "**Note: An active connection is required, this should have been established on start up through the python script create_connection.py in the setup folder. If not it is possible to run through the did-exchange tutorial to create one between Alice and Bob**\n",
    "\n",
    "* [Alice](http://localhost:8888/notebooks/did-exchange-inviter.ipynb)\n",
    "* [Bob](http://localhost:8889/notebooks/did-exchange-invitee.ipynb)"
   ]
  },
  {
   "cell_type": "code",
   "execution_count": 18,
   "metadata": {
    "pycharm": {
     "name": "#%%\n"
    }
   },
   "outputs": [
    {
     "name": "stdout",
     "output_type": "stream",
     "text": [
      "Results :  [{'my_did': '5GaQxuSKGe2iSSv3cMHNRr', 'invitation_key': '8rqmwfahoEDDYWvvQDfW5FwP8jB65xZYCnVtbdKc5BtB', 'request_id': '019fe144-3daf-435d-8774-5ada7c538ce3', 'accept': 'manual', 'routing_state': 'none', 'updated_at': '2020-09-01 20:41:58.473911Z', 'initiator': 'external', 'state': 'active', 'connection_id': 'ac91d05a-f26c-487f-8cbc-95c6da689089', 'their_did': 'FJ9sRat4y2CVaL6CA22Uqf', 'invitation_mode': 'once', 'their_label': 'Bob', 'created_at': '2020-09-01 20:41:46.258467Z'}]\n",
      "\n",
      "\n",
      "Connection : {'my_did': '5GaQxuSKGe2iSSv3cMHNRr', 'invitation_key': '8rqmwfahoEDDYWvvQDfW5FwP8jB65xZYCnVtbdKc5BtB', 'request_id': '019fe144-3daf-435d-8774-5ada7c538ce3', 'accept': 'manual', 'routing_state': 'none', 'updated_at': '2020-09-01 20:41:58.473911Z', 'initiator': 'external', 'state': 'active', 'connection_id': 'ac91d05a-f26c-487f-8cbc-95c6da689089', 'their_did': 'FJ9sRat4y2CVaL6CA22Uqf', 'invitation_mode': 'once', 'their_label': 'Bob', 'created_at': '2020-09-01 20:41:46.258467Z'}\n",
      "\n",
      "Active Connection ID :  ac91d05a-f26c-487f-8cbc-95c6da689089\n"
     ]
    }
   ],
   "source": [
    "try:\n",
    "    response = await alice_agent_controller.connections.get_connections()\n",
    "    results = response['results']\n",
    "    print(\"Results : \", results)\n",
    "    print('\\n')\n",
    "    if len(results) > 0:\n",
    "        connection = response['results'][0]\n",
    "        print(\"Connection :\", connection)\n",
    "        if connection['state'] == 'active':\n",
    "            connection_id = connection[\"connection_id\"]\n",
    "            alice_connection_id = connection_id\n",
    "            print(\"\\nActive Connection ID : \", connection_id)\n",
    "        else:\n",
    "            print(\"\\nNo active connection found - wait a bit and execute again\")\n",
    "    else:\n",
    "        print(\"You must create a connection\")\n",
    "except ConnectionRefusedError as e:\n",
    "    print(repr(e))"
   ]
  },
  {
   "cell_type": "markdown",
   "metadata": {},
   "source": [
    "# 6\n",
    "## Write a Schema to the Ledger\n",
    "\n",
    "For more details see the [schema-api notebook](http://localhost:8888/notebooks/schema_api.ipynb)"
   ]
  },
  {
   "cell_type": "code",
   "execution_count": 19,
   "metadata": {
    "pycharm": {
     "name": "#%%\n"
    }
   },
   "outputs": [
    {
     "name": "stdout",
     "output_type": "stream",
     "text": [
      "PQRXDxdGqQGSZ8z69p4xZP:2:generic_person:0.0.1\n"
     ]
    }
   ],
   "source": [
    "# Define you schema name - must be unique on the ledger\n",
    "schema_name = \"generic_person\"\n",
    "# Can version the schema if you wish to update it\n",
    "schema_version = \"0.0.1\"\n",
    "# Define any list of attributes you wish to include in your schema\n",
    "attributes = [\"fullname\", \"surname\", \"email\", \"age\"]\n",
    "\n",
    "response = await alice_agent_controller.schema.write_schema(schema_name, attributes, schema_version)\n",
    "schema_id = response[\"schema_id\"]\n",
    "print(schema_id)\n"
   ]
  },
  {
   "cell_type": "markdown",
   "metadata": {},
   "source": [
    "# 7\n",
    "## Write a Credential Definition to the Ledger\n",
    "\n",
    "More details in the [definitions notebook](http://localhost:8888/notebooks/definitions_api.ipynb)"
   ]
  },
  {
   "cell_type": "code",
   "execution_count": 20,
   "metadata": {
    "pycharm": {
     "name": "#%%\n"
    }
   },
   "outputs": [
    {
     "name": "stdout",
     "output_type": "stream",
     "text": [
      "{'credential_definition_id': 'PQRXDxdGqQGSZ8z69p4xZP:3:CL:10:default'}\n",
      "PQRXDxdGqQGSZ8z69p4xZP:3:CL:10:default\n"
     ]
    }
   ],
   "source": [
    "response = await alice_agent_controller.definitions.write_cred_def(schema_id)\n",
    "print(response)\n",
    "cred_def_id = response[\"credential_definition_id\"]\n",
    "print(cred_def_id)"
   ]
  },
  {
   "cell_type": "markdown",
   "metadata": {},
   "source": [
    "**Note: You should be able to see both schema and definition transactions on the local network [here](http://localhost:9000)**"
   ]
  },
  {
   "cell_type": "markdown",
   "metadata": {},
   "source": [
    "# 8\n",
    "## Populate the Attribues to Issue to Bob\n",
    "\n",
    "The schema defines two attributes: name and community_member. Both must be populated with attribute values that Openmined Community (Alice) wishes to issue in a credential to Openmind-pryvote-voter (Bob). To do this a list of objects must be created, each object containing the name of the attribute and it's value at a minimum. You can set the values to anything you wish.\n",
    "\n",
    "TODO: Some additional fields such as mime-type can be defined."
   ]
  },
  {
   "cell_type": "code",
   "execution_count": 21,
   "metadata": {
    "pycharm": {
     "name": "#%%\n"
    }
   },
   "outputs": [
    {
     "name": "stdout",
     "output_type": "stream",
     "text": [
      "[{'name': 'fullname', 'value': 'Bob'}, {'name': 'surname', 'value': 'Bobber'}, {'name': 'email', 'value': 'bob@bobber.org'}, {'name': 'age', 'value': '21'}]\n"
     ]
    }
   ],
   "source": [
    "credential_attributes = [\n",
    "    {\"name\": \"fullname\", \"value\": \"Bob\"},\n",
    "    {\"name\": \"surname\", \"value\": \"Bobber\"},\n",
    "    {\"name\": \"email\", \"value\": \"bob@bobber.org\"},\n",
    "    {\"name\": \"age\", \"value\": \"21\"},\n",
    "]\n",
    "\n",
    "print(credential_attributes)"
   ]
  },
  {
   "cell_type": "markdown",
   "metadata": {},
   "source": [
    "# 9\n",
    "## Send Credential\n",
    "\n",
    "This sends a credential to a holder Openmind-pryvote-voter (Bob), and automates the rest of the protocol. This tutorial works best if you have initialised the [openmind-pryvote-voter notebook](http://127.0.0.1:8889/notebooks/openmind-pryvote-voter.ipynb) and registered the listener for the issue_credential webhook.\n",
    "\n",
    "There are other ways to issue a credential that require multiple api calls.\n",
    "\n",
    "**Arguments**\n",
    "* connection_id: The connection_id of the holder you wish to issue to (MUST be in active state)\n",
    "* schema_id: The id of the schema you wish to issue\n",
    "* cred_def_id: The definition (public key) to sign the credential object. This must refer to the schema_id and be written to the ledger by the same public did that is currently being used by the agent.\n",
    "* attributes: A list of attribute objects as defined above. Must match the schema attributes.\n",
    "* comment (optional): Any string, defaults to \"\"\n",
    "* auto_remove (optional): Boolean, defaults to True. I believe this removes the record of this credential once it has been issued. (TODO: double check)\n",
    "* trace (optional): Boolean, defaults to False. **Not entirely sure about this one, believe its for logging. Also when set to True it throws an error**"
   ]
  },
  {
   "cell_type": "code",
   "execution_count": 22,
   "metadata": {
    "pycharm": {
     "name": "#%%\n"
    }
   },
   "outputs": [
    {
     "name": "stdout",
     "output_type": "stream",
     "text": [
      "{'issuer_did': 'PQRXDxdGqQGSZ8z69p4xZP', 'auto_remove': True, 'credential_proposal': {'@type': 'did:sov:BzCbsNYhMrjHiqZDTUASHg;spec/issue-credential/1.0/credential-preview', 'attributes': [{'name': 'fullname', 'value': 'Bob'}, {'name': 'surname', 'value': 'Bobber'}, {'name': 'email', 'value': 'bob@bobber.org'}, {'name': 'age', 'value': '21'}]}, 'connection_id': 'ac91d05a-f26c-487f-8cbc-95c6da689089', 'trace': False, 'comment': '', 'cred_def_id': 'PQRXDxdGqQGSZ8z69p4xZP:3:CL:10:default', 'schema_id': 'PQRXDxdGqQGSZ8z69p4xZP:2:generic_person:0.0.1', 'schema_name': 'generic_person', 'schema_version': '0.0.1', 'schema_issuer_did': 'PQRXDxdGqQGSZ8z69p4xZP'}\n",
      "Credential exchange 7c144b2d-d54a-4f9e-9c1f-ed11ac612d85, role: issuer, state: offer_sent\n",
      "Handle Credentials\n",
      "Credential exchange 7c144b2d-d54a-4f9e-9c1f-ed11ac612d85, role: issuer, state: offer_sent\n",
      "Being offered: [{'name': 'fullname', 'value': 'Bob'}, {'name': 'surname', 'value': 'Bobber'}, {'name': 'email', 'value': 'bob@bobber.org'}, {'name': 'age', 'value': '21'}]\n"
     ]
    }
   ],
   "source": [
    "record = await alice_agent_controller.issuer.send_credential(connection_id, schema_id, cred_def_id, credential_attributes, trace=False)\n",
    "record_id = record['credential_exchange_id']\n",
    "state = record['state']\n",
    "role = record['role']\n",
    "#extract issuer DID for proof request requirements\n",
    "issuer_did = record['credential_proposal_dict']['issuer_did']\n",
    "print(f\"Credential exchange {record_id}, role: {role}, state: {state}\")\n"
   ]
  },
  {
   "cell_type": "markdown",
   "metadata": {},
   "source": [
    "# 10\n",
    "## Get Credential Exchange Records\n",
    "\n",
    "The state of the protocol is stored in an object called a Credential Exchange. These can be retrieved from the agent either individually by ID or the full list.\n",
    "\n",
    "Each record has a state, representing the stage of the protocol the record is at and a role. Either issuer or holder."
   ]
  },
  {
   "cell_type": "code",
   "execution_count": 23,
   "metadata": {
    "pycharm": {
     "name": "#%%\n"
    }
   },
   "outputs": [
    {
     "name": "stdout",
     "output_type": "stream",
     "text": [
      "[{'initiator': 'self', 'state': 'offer_sent', 'trace': False, 'created_at': '2020-09-01 20:42:17.189447Z', 'schema_id': 'PQRXDxdGqQGSZ8z69p4xZP:2:generic_person:0.0.1', 'auto_issue': True, 'auto_offer': False, 'credential_offer': {'schema_id': 'PQRXDxdGqQGSZ8z69p4xZP:2:generic_person:0.0.1', 'cred_def_id': 'PQRXDxdGqQGSZ8z69p4xZP:3:CL:10:default', 'key_correctness_proof': {'c': '105526218928870020337543973933819360795869252280038683280462362682042055465734', 'xz_cap': '504060657670162587867546311141986776787409708174698812848338459170190770918286068043101102407714900907567269586923097989434687904916813802803100834899561709817035167863256008127104382345931539745257289060257726650293342333847326909367240825305095745635278224758408275941124593315868953062156159561796922390789183833803264059254205800260717448572330121339894914526957374807504975045176687703569055144341579941579671434098874099446525744320997413595676744110881923152236591155308310221384140995089466755534375026438784855629750907070909153113070501004310882430183618457600551686722546623432130679760398274910145790159016683987865155242763093915249980736566157725072059642349188173616020724190663', 'xr_cap': [['fullname', '1192833678188714275200421640112868317190898307679732543229577423235225514825361212344495892301183860571156759016323922303118568644456836686266691827556992649192782873963286049934387262015928330593483674826956728236756608443378002206137664454396543831350311591497974073188545352986255601702119474512017018708725907328172637014120550212331746735151678970385773385829944799654175946123939819353958588480154590704398043746625415108697730119853032257486868155481217592274260835776166638980066410241998491966866894048780872643996034490832063101183131569715150260532217949451991191711735354094876221630411580582161256311059316213593669291159646485136393061633656941167738568620596782642364367695613917'], ['surname', '2303276550208807840539497432555977285896533988891318189474552222619895146775309585859458539478042369024918169892255283256978134348197233474229436121364304914395464888497346163283452201121484448533918189227881100711627540155402718942365504609916665890673828201451970378112672141729987826268380211770360405510775936956634655611528904136805275838589337884288190171652024901571007350118144340173105517635844042227453300109846652767403898612490266787800712380787180472125468466162775478097404762639475891472213899704088584198329090651668540310137005590295254220079072170343876223017032260302617120746278032456164915227131115984094314046534645426775248143566404021192137982271074678740910278024019731'], ['email', '491139996734452217253539056069181767331409064041595751699192780221942665051263160179021823187586365326905215970127908772916633587052853337837082930544719944144379906503447453919937482628652514701531510504968970456967767905520260576792546018455878159138562701510937188017444812270470837918682409509585576103820876263560507354764676394816747857614130410032552186776007013509568331100543117146939361786162075249383283944219513786150708943164386083996795323244213414974662274141781447890891523526363578122443608756632665102420193857557293047862801485425851208233280110697358151189603667316029173980745961390576040667520315176603687952623513372570158570729064135584024911084083604085396368741750637'], ['age', '1152289540431325165072088653494411337513690657363240127973354455806221567146217041476266324528020454173822213375128278735569110320716743989735180288127451697213505465489384169940520823977633256886108877333015545750535641450944604318319566897789062161219802628677270302457212457049572735345164193112686141677733811138972830606836861065398858027803787114838764907322859040939672429348730349807641591527002962578876734861421746435572338414411997932989351096244796377677873135672437098201824267454000771549362670621798059196200409592342301677511245221287131503742032964321278360669328602531829866286087255290111695791052757952651049429115256252687966559545668076753580191520808052969201833070934055'], ['master_secret', '277677898830397633628068588200146256823865316973369500690256168238559339756817450333260930489263336838388944310310356106946034990239750129103123158612802145169582514485924676478411511824649040835203301298365092231859620890847430120767990813803204974231101949731931410418606396979355728848750890553646032063162634373853725140886853916849074532617706483121781924643261334300755642773531390207532182328338949816796182776190572819480562569375008824177709122199695804482056501284824242524601837610411797745726482234294324070462933632608996663144930958018843288645563189755179839396577966298225089672951672627670445301843077677162078081974812413190406081258864438149382939661740375134511896970612627']]}, 'nonce': '878846935214143209425296'}, 'updated_at': '2020-09-01 20:42:17.189447Z', 'credential_proposal_dict': {'@type': 'did:sov:BzCbsNYhMrjHiqZDTUASHg;spec/issue-credential/1.0/propose-credential', '@id': '94208ca9-4430-415f-a23a-0afb12f8aca3', 'issuer_did': 'PQRXDxdGqQGSZ8z69p4xZP', 'schema_issuer_did': 'PQRXDxdGqQGSZ8z69p4xZP', 'cred_def_id': 'PQRXDxdGqQGSZ8z69p4xZP:3:CL:10:default', 'schema_id': 'PQRXDxdGqQGSZ8z69p4xZP:2:generic_person:0.0.1', 'credential_proposal': {'@type': 'did:sov:BzCbsNYhMrjHiqZDTUASHg;spec/issue-credential/1.0/credential-preview', 'attributes': [{'name': 'fullname', 'value': 'Bob'}, {'name': 'surname', 'value': 'Bobber'}, {'name': 'email', 'value': 'bob@bobber.org'}, {'name': 'age', 'value': '21'}]}, 'schema_name': 'generic_person', 'comment': '', 'schema_version': '0.0.1'}, 'connection_id': 'ac91d05a-f26c-487f-8cbc-95c6da689089', 'thread_id': '99af40c7-d039-4764-a122-e04bd7bcab5e', 'role': 'issuer', 'auto_remove': True, 'credential_definition_id': 'PQRXDxdGqQGSZ8z69p4xZP:3:CL:10:default', 'credential_exchange_id': '7c144b2d-d54a-4f9e-9c1f-ed11ac612d85'}]\n"
     ]
    }
   ],
   "source": [
    "response = await alice_agent_controller.issuer.get_records()\n",
    "print(response['results'])"
   ]
  },
  {
   "cell_type": "code",
   "execution_count": 24,
   "metadata": {
    "pycharm": {
     "name": "#%%\n"
    }
   },
   "outputs": [
    {
     "name": "stdout",
     "output_type": "stream",
     "text": [
      "Credential exchange 7c144b2d-d54a-4f9e-9c1f-ed11ac612d85, role: issuer, state: offer_sent\n"
     ]
    }
   ],
   "source": [
    "cred_record = await alice_agent_controller.issuer.get_record_by_id(record_id)\n",
    "state = cred_record['state']\n",
    "role = cred_record['role']\n",
    "print(f\"Credential exchange {record_id}, role: {role}, state: {state}\")"
   ]
  },
  {
   "cell_type": "markdown",
   "metadata": {},
   "source": [
    "# OPTIONAL\n",
    "## Remove Credential Exchange\n",
    "\n",
    "It is possible to remove stored credential exchanges from an agent. Typically when you are not interested in the credential being offered, or the credential offer that you have sent has become stale (been ignored?)."
   ]
  },
  {
   "cell_type": "code",
   "execution_count": null,
   "metadata": {
    "pycharm": {
     "name": "#%%\n"
    }
   },
   "outputs": [],
   "source": [
    "response = await alice_agent_controller.issuer.remove_record(record_id)\n",
    "print(response)"
   ]
  },
  {
   "cell_type": "code",
   "execution_count": null,
   "metadata": {
    "pycharm": {
     "name": "#%%\n"
    }
   },
   "outputs": [],
   "source": [
    "response = await alice_agent_controller.issuer.get_records()\n",
    "print(response)"
   ]
  },
  {
   "cell_type": "markdown",
   "metadata": {},
   "source": [
    "# 4\n",
    "# Aries Basic Controller - Bob\n",
    "\n",
    "This tutorial runs through the issuer-api from the perspective of a holder. It should be run alongside the [openmind-pryvote-community issuer notebook](http://127.0.0.1:8888/notebooks/openmind-pryvote-community.ipynb) from Openmined PryVote Community (Alice)'s perspective.\n",
    "\n",
    "If unfamiliar with the protocol it is worth reading through the [aries-rfs](https://github.com/hyperledger/aries-rfcs/tree/master/features/0036-issue-credential)\n"
   ]
  },
  {
   "cell_type": "code",
   "execution_count": 25,
   "metadata": {
    "pycharm": {
     "name": "#%%\n"
    }
   },
   "outputs": [
    {
     "name": "stdout",
     "output_type": "stream",
     "text": [
      "IPython autoawait is `on`, and set to use `asyncio`\n"
     ]
    }
   ],
   "source": [
    "%autoawait\n",
    "import time\n",
    "import asyncio"
   ]
  },
  {
   "cell_type": "code",
   "execution_count": 26,
   "metadata": {
    "pycharm": {
     "name": "#%%\n"
    }
   },
   "outputs": [],
   "source": [
    "from aries_basic_controller.aries_controller import AriesAgentController\n",
    "\n",
    "WEBHOOK_HOST = \"0.0.0.0\"\n",
    "WEBHOOK_PORT = 8052\n",
    "WEBHOOK_BASE = \"\"\n",
    "ADMIN_URL = \"http://bob-agent:8051\"\n",
    "\n",
    "bob_agent_controller = AriesAgentController(webhook_host=WEBHOOK_HOST, webhook_port=WEBHOOK_PORT,\n",
    "                                       webhook_base=WEBHOOK_BASE, admin_url=ADMIN_URL, connections=True)"
   ]
  },
  {
   "cell_type": "markdown",
   "metadata": {},
   "source": [
    "# 5\n",
    "## Register listeners\n",
    "\n",
    "The handler should get called every time the controller receives a webhook with the topic issue_credential, printing out the payload. The agent calls to this webhook every time it receives an issue-credential protocol message from a credential."
   ]
  },
  {
   "cell_type": "code",
   "execution_count": 27,
   "metadata": {
    "pycharm": {
     "name": "#%%\n"
    }
   },
   "outputs": [],
   "source": [
    "loop = asyncio.get_event_loop()\n",
    "loop.create_task(bob_agent_controller.listen_webhooks())\n",
    "def cred_handler(payload):\n",
    "    print(\"Handle Credentials\")\n",
    "    exchange_id = payload['credential_exchange_id']\n",
    "    state = payload['state']\n",
    "    role = payload['role']\n",
    "    attributes = payload['credential_proposal_dict']['credential_proposal']['attributes']\n",
    "    print(f\"Credential exchange {exchange_id}, role: {role}, state: {state}\")\n",
    "    print(f\"Attributes: {attributes}\")\n",
    "\n",
    "cred_listener = {\n",
    "    \"topic\": \"issue_credential\",\n",
    "    \"handler\": cred_handler\n",
    "}\n",
    "bob_agent_controller.register_listeners([cred_listener], defaults=True)"
   ]
  },
  {
   "cell_type": "markdown",
   "metadata": {},
   "source": [
    "# 11\n",
    "## Check Credential Exchange Records\n",
    "\n",
    "The agent will have at least one record if you have run through the [openmind-pryvote-community issuer notebook](http://127.0.0.1:8888/notebooks/openmind-pryvote-community.ipynb) notebook up until send credential."
   ]
  },
  {
   "cell_type": "code",
   "execution_count": 28,
   "metadata": {
    "pycharm": {
     "name": "#%%\n"
    }
   },
   "outputs": [
    {
     "name": "stdout",
     "output_type": "stream",
     "text": [
      "Credential exchange ef8b2f10-1979-4587-9a36-40a04d67ea55, role: holder, state: offer_received\n",
      "Being offered: [{'name': 'fullname', 'value': 'Bob'}, {'name': 'surname', 'value': 'Bobber'}, {'name': 'email', 'value': 'bob@bobber.org'}, {'name': 'age', 'value': '21'}]\n"
     ]
    }
   ],
   "source": [
    "response = await bob_agent_controller.issuer.get_records()\n",
    "results = response[\"results\"]\n",
    "if len(results) == 0:\n",
    "    print(\"You need to first send a credential from the issuer notebook (Alice)\")\n",
    "else:\n",
    "    cred_record = results[0]\n",
    "    cred_ex_id = cred_record['credential_exchange_id']\n",
    "    state = cred_record['state']\n",
    "    role = cred_record['role']\n",
    "    attributes = results[0]['credential_proposal_dict']['credential_proposal']['attributes']\n",
    "    print(f\"Credential exchange {cred_ex_id}, role: {role}, state: {state}\")\n",
    "    print(f\"Being offered: {attributes}\")\n"
   ]
  },
  {
   "cell_type": "markdown",
   "metadata": {},
   "source": [
    "# OPTIONAL!\n",
    "## Propose Credential - not to be executed as part of notebook\n",
    "\n",
    "If unhappy with the attributes being offered (e.g. there is a mistake), the holder can send a proposal to the issuer for an alternative credential. The holder can also initiate the protocol with a proposal to the issuer, this is left out of scope in the tutorial, but should be possible to edit to achieve this if interested.\n",
    "\n",
    "Note the proposal will create a new credential exchange record, the tutorial currently does not progress this to issued state but instead continues with the previous credential_exchange.\n",
    "\n",
    "**Arguments (These can all be found in a credential exchange record)**\n",
    "* connection_id: The connection_id of the holder you wish to issue to (MUST be in active state)\n",
    "* schema_id: The id of the schema you wish to issue\n",
    "* cred_def_id: The definition (public key) to sign the credential object. This must refer to the schema_id and be written to the ledger by the same public did that is currently being used by the agent.\n",
    "* attributes: A list of attribute objects as defined above. Must match the schema attributes.\n",
    "* comment (optional): Any string, defaults to \"\"\n",
    "* auto_remove (optional): Boolean, defaults to True. I believe this removes the record of this credential once it has been issued. (TODO: double check)\n",
    "* trace (optional): Boolean, defaults to False. **Not entirely sure about this one, believe its for logging. Also when set to True it throws an error**"
   ]
  },
  {
   "cell_type": "code",
   "execution_count": null,
   "metadata": {
    "pycharm": {
     "name": "#%%\n"
    }
   },
   "outputs": [],
   "source": [
    "### NOT TO BE EXECUTED AS PART OF NOTEBOOK\n",
    "connection_id = cred_record['connection_id']\n",
    "schema_id = cred_record['schema_id']\n",
    "cred_def_id = cred_record['credential_definition_id']\n",
    "proposed_attributes = [{'name': 'name', 'value': 'Bob'}, {'name': 'community_member', 'value': '0'}]\n",
    "\n",
    "proposal_record = await bob_agent_controller.issuer.send_proposal(connection_id, schema_id, cred_def_id, proposed_attributes)\n",
    "proposal_record_id = proposal_record['credential_exchange_id']\n",
    "proposal_state = proposal_record['state']\n",
    "proposal_role = proposal_record['role']\n",
    "proposal_attributes = proposal_record['credential_proposal_dict']['credential_proposal']['attributes']\n",
    "print(f\"Proposal credential exchange record {proposal_record_id}, role: {proposal_role}, state: {proposal_state}\")\n",
    "print(f\"Attributes: {attributes}\")\n"
   ]
  },
  {
   "cell_type": "markdown",
   "metadata": {},
   "source": [
    "# 12\n",
    "## Request Credential from Alice Issuer\n",
    "\n",
    "If happy with the attributes being offered in the credential, then the holder requests the credential from the issuer to proceed with the issuance.\n",
    "\n",
    "It is only possible to request a credential from an exchange when it is in the offer_received state"
   ]
  },
  {
   "cell_type": "code",
   "execution_count": 29,
   "metadata": {
    "pycharm": {
     "name": "#%%\n"
    }
   },
   "outputs": [
    {
     "name": "stdout",
     "output_type": "stream",
     "text": [
      "Credential exchange ef8b2f10-1979-4587-9a36-40a04d67ea55, role: holder, state: request_sent\n",
      "Handle Credentials\n",
      "Credential exchange 7c144b2d-d54a-4f9e-9c1f-ed11ac612d85, role: issuer, state: request_received\n",
      "Attributes: [{'name': 'fullname', 'value': 'Bob'}, {'name': 'surname', 'value': 'Bobber'}, {'name': 'email', 'value': 'bob@bobber.org'}, {'name': 'age', 'value': '21'}]\n",
      "Handle Credentials\n",
      "Credential exchange 7c144b2d-d54a-4f9e-9c1f-ed11ac612d85, role: issuer, state: credential_issued\n",
      "Attributes: [{'name': 'fullname', 'value': 'Bob'}, {'name': 'surname', 'value': 'Bobber'}, {'name': 'email', 'value': 'bob@bobber.org'}, {'name': 'age', 'value': '21'}]\n"
     ]
    }
   ],
   "source": [
    "record = await bob_agent_controller.issuer.send_request_for_record(cred_ex_id)\n",
    "state = record['state']\n",
    "role = record['role']\n",
    "print(f\"Credential exchange {cred_ex_id}, role: {role}, state: {state}\")"
   ]
  },
  {
   "cell_type": "markdown",
   "metadata": {},
   "source": [
    "# 13\n",
    "## Store the credential\n",
    "\n",
    "Once the Openmined PryVote Community (Alice) issuer has responded to a request by sending the credential, the holder needs to store it to save the credential for later.\n",
    "\n",
    "First check that the credential record is in the credential_received state"
   ]
  },
  {
   "cell_type": "code",
   "execution_count": 30,
   "metadata": {
    "pycharm": {
     "name": "#%%\n"
    }
   },
   "outputs": [
    {
     "name": "stdout",
     "output_type": "stream",
     "text": [
      "Credential exchange ef8b2f10-1979-4587-9a36-40a04d67ea55, role: holder, state: credential_received\n"
     ]
    }
   ],
   "source": [
    "record = await bob_agent_controller.issuer.get_record_by_id(cred_ex_id)\n",
    "state = record['state']\n",
    "role = record['role']\n",
    "print(f\"Credential exchange {cred_ex_id}, role: {role}, state: {state}\")"
   ]
  },
  {
   "cell_type": "code",
   "execution_count": 31,
   "metadata": {
    "pycharm": {
     "name": "#%%\n"
    }
   },
   "outputs": [
    {
     "name": "stdout",
     "output_type": "stream",
     "text": [
      "Credential exchange ef8b2f10-1979-4587-9a36-40a04d67ea55, role: holder, state: credential_acked\n",
      "Handle Credentials\n",
      "Credential exchange 7c144b2d-d54a-4f9e-9c1f-ed11ac612d85, role: issuer, state: credential_acked\n",
      "Attributes: [{'name': 'fullname', 'value': 'Bob'}, {'name': 'surname', 'value': 'Bobber'}, {'name': 'email', 'value': 'bob@bobber.org'}, {'name': 'age', 'value': '21'}]\n"
     ]
    }
   ],
   "source": [
    "response = await bob_agent_controller.issuer.store_credential(cred_ex_id, \"My Personal Info Credential\")\n",
    "state = response['state']\n",
    "role = response['role']\n",
    "print(f\"Credential exchange {cred_ex_id}, role: {role}, state: {state}\")"
   ]
  },
  {
   "cell_type": "markdown",
   "metadata": {},
   "source": [
    "# 14\n",
    "## Send Proof Request\n",
    "Request a proof of Opemined community member to prove community membership"
   ]
  },
  {
   "cell_type": "code",
   "execution_count": 45,
   "metadata": {
    "pycharm": {
     "name": "#%%\n"
    }
   },
   "outputs": [
    {
     "name": "stdout",
     "output_type": "stream",
     "text": [
      "Request proof of Name and Age range from Bob\n"
     ]
    }
   ],
   "source": [
    "print(\"Request proof of Name and Age range from Bob\")\n",
    "#Set some variables\n",
    "\n",
    "revocation = False\n",
    "SELF_ATTESTED = True\n",
    "exchange_tracing = False\n",
    "\n",
    "#Enable this to ask for attributes to identity a user\n",
    "req_attrs = [\n",
    "    {\"name\": \"fullname\", \"restrictions\": [{\"issuer_did\": issuer_did}]},\n",
    "    {\"name\": \"surname\", \"restrictions\": [{\"issuer_did\": issuer_did}]},\n",
    "    {\"name\": \"email\", \"restrictions\": [{\"issuer_did\": issuer_did}]},\n",
    "#     {\"name\": \"age\", \"restrictions\": [{\"issuer_did\": issuer_did}]},\n",
    "]\n",
    "\n",
    "if revocation:\n",
    "    req_attrs.append(\n",
    "        {\n",
    "            \"name\": \"email\",\n",
    "            \"restrictions\": [{\"issuer_did\": agent.did}],\n",
    "            \"non_revoked\": {\"to\": int(time.time() - 1)},\n",
    "        },\n",
    "    )\n",
    "# else:\n",
    "#     req_attrs.append(\n",
    "#         {\"name\": \"degree\", \"restrictions\": [{\"issuer_did\": issuer_did}]}\n",
    "#     )\n",
    "\n",
    "if SELF_ATTESTED:\n",
    "    # test self-attested claims\n",
    "    req_attrs.append({\"name\": \"country\"},)\n",
    "\n",
    "#Set predicates for Zero Knowledge Proofs\n",
    "req_preds = [\n",
    "    # test zero-knowledge proofs\n",
    "    {\n",
    "        \"name\": \"age\",\n",
    "        \"p_type\": \"=\",\n",
    "        \"p_value\": 21,\n",
    "        \"restrictions\": [{\"issuer_did\": issuer_did}],\n",
    "    }\n",
    "]\n",
    "\n",
    "indy_proof_request = {\n",
    "    \"name\": \"Proof of Personal Information\",\n",
    "    \"version\": \"1.0\",\n",
    "    \"requested_attributes\": {\n",
    "        f\"0_{req_attr['name']}_uuid\":\n",
    "        req_attr for req_attr in req_attrs\n",
    "    },\n",
    "    \"requested_predicates\": {\n",
    "        f\"0_{req_pred['name']}_GE_uuid\":\n",
    "        req_pred for req_pred in req_preds\n",
    "    },\n",
    "}\n",
    "\n",
    "if revocation:\n",
    "    indy_proof_request[\"non_revoked\"] = {\"to\": int(time.time())}\n",
    "\n",
    "#proof_request = indy_proof_request\n",
    "exchange_tracing_id = exchange_tracing\n",
    "proof_request_web_request = {\n",
    "    \"connection_id\": alice_connection_id,\n",
    "    \"proof_request\": indy_proof_request,\n",
    "    \"trace\": exchange_tracing,\n",
    "}"
   ]
  },
  {
   "cell_type": "code",
   "execution_count": 46,
   "metadata": {
    "pycharm": {
     "name": "#%%\n"
    }
   },
   "outputs": [
    {
     "name": "stdout",
     "output_type": "stream",
     "text": [
      "{'role': 'verifier', 'auto_present': False, 'updated_at': '2020-09-01 20:48:34.620258Z', 'initiator': 'self', 'presentation_exchange_id': '2dd23dc2-48fe-46b2-b182-1e211c1d661b', 'state': 'request_sent', 'connection_id': 'ac91d05a-f26c-487f-8cbc-95c6da689089', 'trace': False, 'thread_id': 'a1e3abad-380a-408f-b523-a6f1a9015813', 'presentation_request': {'name': 'Proof of Personal Information', 'version': '1.0', 'requested_attributes': {'0_fullname_uuid': {'name': 'fullname', 'restrictions': [{'issuer_did': 'PQRXDxdGqQGSZ8z69p4xZP'}]}, '0_surname_uuid': {'name': 'surname', 'restrictions': [{'issuer_did': 'PQRXDxdGqQGSZ8z69p4xZP'}]}, '0_email_uuid': {'name': 'email', 'restrictions': [{'issuer_did': 'PQRXDxdGqQGSZ8z69p4xZP'}]}, '0_country_uuid': {'name': 'country'}}, 'requested_predicates': {'0_age_GE_uuid': {'name': 'age', 'p_type': '=', 'p_value': 21, 'restrictions': [{'issuer_did': 'PQRXDxdGqQGSZ8z69p4xZP'}]}}, 'nonce': '881013976097942586932089'}, 'created_at': '2020-09-01 20:48:34.620258Z'}\n",
      "\n",
      "\n",
      "2dd23dc2-48fe-46b2-b182-1e211c1d661b\n"
     ]
    }
   ],
   "source": [
    "response = await alice_agent_controller.proofs.send_request(proof_request_web_request)\n",
    "print(response)\n",
    "alice_presentation_exchange_id = response['presentation_exchange_id']\n",
    "print(\"\\n\")\n",
    "print(alice_presentation_exchange_id)\n"
   ]
  },
  {
   "cell_type": "markdown",
   "metadata": {},
   "source": [
    "# 15\n",
    "## Get Proof Request Records"
   ]
  },
  {
   "cell_type": "code",
   "execution_count": 47,
   "metadata": {
    "pycharm": {
     "name": "#%%\n"
    }
   },
   "outputs": [
    {
     "name": "stdout",
     "output_type": "stream",
     "text": [
      "{'results': [{'created_at': '2020-09-01 20:46:29.937794Z', 'presentation': {'proof': {'proofs': [{'primary_proof': {'eq_proof': {'revealed_attrs': {'email': '6513909451916333113483947287287970522401646418372523946287247802942771553817', 'fullname': '93006290325627508022776103386395994712401809437930957652111221015872244345185', 'surname': '54306315064670580610056743999040514243692441086237581448976115027979391150265'}, 'a_prime': '22888462598983572487468762851503263293549317541557508180054806161488146755155480848889889513617266602462582700499566294915128256728901131561490079754178286104681208732720248014734444937157121081215452583201878162130629920156297843408780676263757397160994536358819224347828806231831942763334209529425254322200767447740523016601614648956032469219037906794754963238373862500613980057568021866358570639194601980883605148082649972152283180072543535528967749169640067224556461822386282989324813058206736765260642808030345990486086099376766785474514803605483479147474129762919002193889784304342435224780956675157226040561143', 'e': '103374754521687748020133025369836005918174226201974741886757997482011494191308749438446503908309180877609457248469913014194670002939417036', 'v': '1301831260922427203077884979254267943602873358619607453763456556736751343628372826017835247156085050534251275557202468990888264125573111898927988313809474255415968818085255052250678545041792626610692641308740085996054717164294119780746970178649481096974578035188134520914501625572256894454424878887264384444594084760777490641258838579231938903012313475380378528903403556819586168632690977002364069172289949924914504576340454947920702717570686644982997423006280841342796923206202988604354557593061939051371673854065594276740677101044029302674554637203339893153570959344327258366019702202537872350830530935937413233638837974369331860169038034594415846106404060682188626963854901383102249157883554990002848136668547038255266050567212773968547983990914255186411372670883934829892835128837721054026429320172108211212967670150517854372021425189938153675558311162173648499681864419886903622688340238034092192586082747572040684199', 'm': {'master_secret': '15870405749600171018029719876487149007451512604837665462731473077001480519507544064649439510071533009106108262175298382459832020909082696055372570847901790839678283106123216017174', 'age': '6115989850301707286286237104935826116599767098057791077210045153939200336866548444387332810033061567387519099988453513788467916920291047978385626577763340341022916721300532610803'}, 'm2': '14934976142166456749023213389816144578610576979075536945495207621381473489057986685157384712187904919751138567043139766462178284387549827265725203889617781895350875575885238911760'}, 'ge_proofs': []}, 'non_revoc_proof': None}], 'aggregated_proof': {'c_hash': '12633356654465468711583418281100397411642008738509394136124855810244998337431', 'c_list': [[181, 79, 193, 170, 137, 27, 191, 61, 73, 72, 254, 1, 147, 77, 11, 153, 231, 16, 237, 203, 175, 28, 148, 37, 59, 15, 244, 4, 123, 51, 14, 107, 67, 129, 215, 246, 105, 112, 106, 173, 167, 243, 238, 89, 117, 59, 36, 8, 51, 11, 227, 223, 90, 244, 213, 233, 118, 47, 88, 53, 152, 197, 188, 78, 186, 174, 210, 131, 156, 252, 251, 60, 156, 229, 71, 37, 30, 241, 167, 217, 68, 114, 138, 93, 111, 103, 230, 129, 234, 47, 12, 192, 188, 219, 199, 58, 11, 168, 21, 24, 47, 224, 157, 102, 200, 163, 6, 146, 39, 25, 223, 105, 122, 221, 205, 116, 142, 216, 254, 135, 5, 232, 7, 220, 129, 254, 26, 39, 112, 110, 183, 140, 161, 75, 116, 55, 42, 33, 200, 37, 4, 145, 76, 249, 98, 116, 22, 137, 229, 12, 169, 1, 115, 147, 92, 255, 89, 111, 111, 222, 250, 160, 106, 124, 167, 50, 196, 191, 9, 124, 227, 191, 194, 245, 26, 164, 250, 39, 218, 62, 227, 6, 212, 31, 154, 138, 151, 45, 134, 184, 230, 208, 12, 226, 151, 79, 194, 133, 210, 16, 35, 180, 211, 18, 98, 126, 253, 121, 49, 241, 31, 96, 25, 247, 114, 217, 89, 57, 141, 64, 180, 249, 119, 75, 60, 174, 52, 229, 103, 246, 33, 4, 138, 244, 5, 41, 103, 15, 129, 13, 156, 77, 134, 218, 186, 218, 189, 137, 146, 71, 51, 111, 130, 159, 141, 247]]}}, 'requested_proof': {'revealed_attrs': {'0_email_uuid': {'sub_proof_index': 0, 'raw': 'bob@bobber.org', 'encoded': '6513909451916333113483947287287970522401646418372523946287247802942771553817'}, '0_surname_uuid': {'sub_proof_index': 0, 'raw': 'Bobber', 'encoded': '54306315064670580610056743999040514243692441086237581448976115027979391150265'}, '0_fullname_uuid': {'sub_proof_index': 0, 'raw': 'Bob', 'encoded': '93006290325627508022776103386395994712401809437930957652111221015872244345185'}}, 'self_attested_attrs': {'0_country_uuid': 'True'}, 'unrevealed_attrs': {}, 'predicates': {}}, 'identifiers': [{'schema_id': 'PQRXDxdGqQGSZ8z69p4xZP:2:generic_person:0.0.1', 'cred_def_id': 'PQRXDxdGqQGSZ8z69p4xZP:3:CL:10:default', 'rev_reg_id': None, 'timestamp': None}]}, 'presentation_request': {'name': 'Proof of Personal Information', 'version': '1.0', 'requested_attributes': {'0_fullname_uuid': {'name': 'fullname', 'restrictions': [{'issuer_did': 'PQRXDxdGqQGSZ8z69p4xZP'}]}, '0_surname_uuid': {'name': 'surname', 'restrictions': [{'issuer_did': 'PQRXDxdGqQGSZ8z69p4xZP'}]}, '0_email_uuid': {'name': 'email', 'restrictions': [{'issuer_did': 'PQRXDxdGqQGSZ8z69p4xZP'}]}, '0_country_uuid': {'name': 'country'}}, 'requested_predicates': {'0_age_GE_uuid': {'name': 'age', 'p_type': '<', 'p_value': 21, 'restrictions': [{'issuer_did': 'PQRXDxdGqQGSZ8z69p4xZP'}]}}, 'nonce': '66516272281597936727882'}, 'presentation_exchange_id': '7941be3e-97ca-4be7-add3-68eeac99c4a5', 'initiator': 'external', 'state': 'presentation_sent', 'trace': False, 'updated_at': '2020-09-01 20:46:40.544337Z', 'connection_id': 'cabbc316-7961-48d4-be44-3ab9e021a701', 'thread_id': '0d0fb92b-85be-4424-9f3e-d14caf27d61c', 'role': 'prover'}, {'created_at': '2020-09-01 20:44:08.214497Z', 'presentation': {'proof': {'proofs': [{'primary_proof': {'eq_proof': {'revealed_attrs': {'email': '6513909451916333113483947287287970522401646418372523946287247802942771553817', 'fullname': '93006290325627508022776103386395994712401809437930957652111221015872244345185', 'surname': '54306315064670580610056743999040514243692441086237581448976115027979391150265'}, 'a_prime': '47639624659275615330489639074708026390898155803096945131108249201920874407815573023397424509770535471408519313355246608981466884040129864202929772178297488199932461189388780579064568244101668646246106859827264456167388727037505637072774932855123497901659618611533671833167890788822309101583920199463344379052864440563858003824684170374266195447313565643058275536199263629021873819579615360242387377937887611876981379250791890358902248199854922163931611301983074636216816828670279915333991617976095190826385202013777835185900290926637931581111051126816633975662197643459689127258871329358353071123978339546914587353908', 'e': '64513072123931165450662945928931481842174427662685352589145560730132569142908353248068084878216642370198515235789561086474307525269107608', 'v': '1188583795438713107802458917937416415281296512334070815332346020798827310309927049116126875878076569070553829036565363959165931620840642386518193263881819424297131749275373876304601449310148237515651348425258867268856921056585790605852387121117081052194262771906427061495638551776032699363312568168644204205288388285252862585037121835352782414758059955915290667233040695033416685342559663162768093714925438765972698543842142042997863298063964450136925757122832140882911952937746488001016238638868657537787423225085211408653876758662829101120455495438803154968187327966455548479639975108904399776970943940241121431573495210659050522819663376791406600294795348707793937220426441694770049746353739737040272183322327607141933814786540614166889661298989479912873571540340222463128055157666463147354283176942230120623545916219090350472725481776517073775866455349249339421440368456807406067800630652932929021240633418073570325127', 'm': {'age': '12940627950560585351356987480642854534799608858319289773998573208460883304048257724874558727411143338491944224119668760618678913912006836244873361589417853197182416705691011966900', 'master_secret': '7298697525265910604539015803436128217438506804223290275465330538648301348171624382967457369998858304585783668520179483545243589885220158379573389184965012926109997119981913369373'}, 'm2': '11184740462436379677188170825428499429379987134655958869667735598342851214013487371687483734794730244840469381915618776259713255839027352125210319502359140427604028957523639799355'}, 'ge_proofs': [{'u': {'2': '8752494141794120869409789208986245181930930518113869227584175432606510166603069174758281281103228796333463989662772804552892063981355017391707522759407517287587801347812260368099', '1': '352503222648231766746998487765098682962075457759237410656703116313562981185619799606104346423088954672196843965159286893717701671919601610730089614394405205023339868363210294883', '3': '9375702213011904120803292314036596539007559523659750367530816785632714607604330000544289555476046982411223774104860544009009835037045711192016935420090433085132222679990352169810', '0': '9791210972804996174301321812488546535021589212762648233185582500429162593785615808083017656365156246072809952424624091286855370630062520894828845180878173572828904525015822266308'}, 'r': {'DELTA': '640425826829499578594527207532626468414519547185676516092850977038114368930284190612065541354541577874198823494166456867803605218384553934288966253194777037192211166327192379716571412781187559574307023883165298673725470985974351021743447195065007716657837204411744054903507201828853508060724067129589170848558702385533172358215240237820704001320814912171827600313131482391742839232720175771372805470286565676928720272798517732262794412021685263191048060134285685701610189525075878867897510266029367253273167864007343843400415687855308509600539503319886841786411023789331922889527007611220337121441850817098264842321153048230194449171459272892959961905111800663007871721843040191187042523054762839955851260776794241152', '1': '690984580611328639078855697860699906711114231288312193712482119120477129018296122865362374360638210445430533056336994178371514903109791331172506620049262054492123289949058269800311349428228544724102534022112536317367544421418159747256492339426328697592225652332961638475391478793932471891400610974743143269564551657088390820971688061556859730771733066065466457853978486798323810217728560508398327460228208256710086400910601467229493187716817149193789806631350095334868675054701940594028896397466143956551459349214081448472021238680438046258034055626534690579751237525730026818122883627064603549141861706935556525578190853134192968485484749594655741447658613105793554310116795746520812150664692604569616306646032494628', '0': '436539677359390541762841644994898732763048037634803813369412667655223588391371153855201599872679398589195637981574976666860177074936773542409657889826134190898265925374622597093239621709162560676944687336637877495929192017882254932997739674299948753093105577820832932152347974285166545359973017600876786508215191946170444161544028662708012133639513781145386919321328638871739626339653687103673260502760005556934275720732185653850067114870849669540437868565700213747355578386771388881292337879524617216763800218814516666237342035458920124704195963589342935967769484202167940057437088160052133709527019828551567272312311235691915304524214256022828352586238320537419152591749908641599292456352089467926929477094098413625', '2': '862038447784353001984255239943149700771368561262536566602692668586506068034941113616802454602210709998560953876875677548495132661682473604803524158815340517916503127432894131792141379435774903310755164419132978611999197502389588698197626947830261118580234052963296143559301387346768462232385256562608202392999791469197712096510988678447160958360322280693136168025229083606208413301188422187589490473003985173600623240502023913050986704601715190654795917316668606181583421962006368106842326667395908007211748792139174477853093724287525192729095319002878394375216417719224427245450243760880769513269103484537299901017158498171835370268977478159275456445710464473301722615775167803919918296930116560804554128347464642437', '3': '833923440812940252282524591411837133623552208204832736064935071369320379562958590487885490713518045202175230647919810049272025249575015580551790391259108400415211287583888657827772386953604398937279440871963761814190821080381317660299222735631792845977878192086118973146113557468310660984155657764703801915608085740284915435292393189186369419263678111952540986840078389401908069151118415483884313479529468517946437504741828021688987793187363662886901619676000464477872910569999960973532490694022582413157906546559501459667569710945042662064950299784401614217165265689557977200574122584782233316964765255363441177961137433816331482910694488732594058322404246727755416753459377368545758969173386770413509531357330093834'}, 'mj': '12940627950560585351356987480642854534799608858319289773998573208460883304048257724874558727411143338491944224119668760618678913912006836244873361589417853197182416705691011966900', 'alpha': '65515389558379847857387397250170557195614645763654532871830631367160285412979953228950605706163087874055247838615720264444763417180477642282835436040250835488708998274908765598116034309375165677687885544345011154803602184829557770465780267587810995772317883682000765421307617823222623091777169167102756996907686133020792428196431597192941367825521531147041065557296367456460693579692424654163608293020547490642373180872017362944498415996544030342925880238675418283358705799968289245526564764821521781753861265287991324478299126920865084009753764400548075310223662784090430460505827825658166849893130421589820169685121377403926796481071611965504185636460699243855770655065403910517621072240376952320569839257902897748803448452360389901357814316554145546757782203970035868457247425858274025661173219749767400513180341162689509046195356763672', 't': {'1': '13261447015192488241594191459006590593314029968551832387543668984767942934197024679417717396005171047692847216894651508124246917686972738290776747129952587219505654825478723943987059489393936379376399427766420627899188824187690897878146634369712107154441847514949476001707341577200567858809100421996401439856309577849267391353735045989267519985235643509816369427599605170225314303688931803533484774078710664726202667933133723306146812617574026384142397342758904938797337315176922169872292911137158711792962430189417385073250318070099569527491043490964162974778517805624784269677314402381338311574695981010960430035158', '2': '63867693377079257197062034464977952463584147620450750331652019729170469351204597239378680942929367776067574938235471710762128486375806922393673641676572434222503021219188721875952715914170350761284759732460244137660154694953341067815642389304815125165859352555517526891074213348654787370926033549762317465922213475131504672935368635611987906891456438765291359590400924260574740059952581272805036475715640249462896186202691250335192517213340775068327740810610077359396080715861979366754869057856694642935975250420786672619273663729815213961165658639758977429471765051079931036204871809337306824843189297160403710393397', '3': '60917436502215132216007864479577929195353635116616900845587020970447588796364847473487793477342422504775038925212645132556551046673979551096186556598767211229229051580135857403297841222875465417970156144792631225218786866645368935510545756580322938013545075677864315614361349691891584044156112322604537521079849747516666455367488764833461029123422263549963803212827813599827856471492094288436788169131905063490918754301189664897321191565793822379377061361738620021982889306674286447206397716314019870645757433168481550311834654361964799991831968213192762729147746241892616308014026873897785310118802876897917094221096', '0': '63670687592399112585931297950227890764152947179957248698830794294539102196016133044900641164478987738035335965850488964788626145924013483676977732734976864149384962172478317362216096648105116167840314199454944884724031869991290034825999822339044941837361860857799485654055556944187210874835042880989285684794509746254639042905095972144095478980204532329523760402950618919142901796618362273478047016385751439399566176419064843982823486757143541676165803733613654645136938498145002355691717132523634085498861726199763154182513196038838846485965392875133169276682060620560050145336975417101814843574110715817260135430287', 'DELTA': '65692308207853916145551583063367958050329861210858644373487837563359543626229996915653613566638067347596592602663443095616478147400722973997480213490886776663216341630914170936546134670637398002062450595668055099829688697821202504904817526399226412506300311429589179414875589032334371357775103340315224767238904593211330499038224290800738382802733193114803833764149229431344276787733518280788140107984534714358363225666326472024327930279661405413986026433757428805380058277990028088537096513083667647171421195871673168268172014557924346919344524915122297696773676457202702179884055275681142063330480440530004167379288'}, 'predicate': {'attr_name': 'age', 'p_type': 'GE', 'value': 21}}]}, 'non_revoc_proof': None}], 'aggregated_proof': {'c_hash': '42631396488419537309285875341325326289958606043753941519028649113045885692841', 'c_list': [[1, 121, 96, 230, 170, 255, 214, 135, 223, 44, 179, 104, 25, 172, 58, 45, 82, 190, 17, 52, 234, 115, 151, 115, 206, 255, 54, 152, 181, 214, 11, 184, 33, 183, 159, 232, 194, 152, 120, 31, 222, 255, 28, 99, 138, 90, 203, 240, 189, 214, 143, 54, 62, 73, 48, 234, 47, 24, 141, 154, 15, 163, 134, 45, 17, 223, 191, 80, 186, 102, 68, 167, 72, 172, 228, 76, 172, 179, 152, 15, 240, 184, 79, 250, 85, 201, 169, 172, 28, 63, 72, 99, 150, 9, 249, 140, 8, 101, 37, 26, 78, 78, 240, 85, 219, 66, 124, 79, 125, 235, 252, 2, 114, 46, 224, 21, 207, 252, 248, 239, 245, 250, 196, 215, 182, 232, 138, 210, 31, 12, 150, 69, 144, 107, 56, 71, 84, 132, 219, 111, 53, 130, 160, 109, 188, 13, 104, 56, 103, 168, 160, 10, 234, 28, 3, 92, 184, 219, 12, 32, 12, 139, 32, 241, 205, 80, 81, 50, 83, 71, 102, 198, 245, 52, 52, 18, 96, 43, 219, 149, 132, 16, 227, 154, 173, 85, 196, 25, 188, 153, 57, 151, 8, 142, 230, 215, 18, 251, 50, 54, 175, 117, 147, 107, 227, 39, 82, 23, 145, 185, 132, 134, 15, 195, 118, 171, 37, 222, 250, 230, 182, 56, 147, 192, 171, 183, 78, 24, 4, 179, 189, 70, 131, 4, 115, 208, 249, 52, 218, 226, 196, 227, 130, 144, 253, 3, 76, 26, 150, 96, 44, 64, 73, 46, 119, 35, 52], [1, 248, 94, 118, 194, 184, 73, 136, 106, 229, 102, 179, 122, 28, 133, 3, 55, 188, 219, 144, 145, 140, 196, 41, 107, 189, 35, 33, 140, 179, 209, 163, 210, 114, 243, 234, 172, 8, 233, 64, 204, 249, 76, 213, 93, 178, 11, 136, 3, 64, 186, 251, 88, 206, 43, 222, 5, 11, 101, 123, 11, 141, 164, 22, 211, 31, 233, 127, 69, 224, 186, 168, 25, 186, 156, 194, 205, 119, 200, 40, 247, 161, 232, 39, 67, 107, 161, 198, 164, 7, 89, 89, 118, 240, 44, 185, 17, 71, 248, 181, 153, 17, 102, 177, 229, 100, 163, 236, 153, 82, 154, 96, 250, 131, 34, 237, 229, 30, 7, 13, 191, 100, 206, 156, 97, 203, 55, 30, 176, 62, 79, 102, 113, 144, 92, 37, 97, 18, 111, 190, 226, 84, 60, 175, 61, 164, 120, 158, 211, 227, 194, 107, 60, 253, 49, 172, 240, 170, 207, 82, 108, 9, 186, 240, 246, 227, 59, 19, 124, 188, 23, 17, 31, 13, 99, 1, 129, 70, 30, 238, 5, 141, 21, 47, 197, 17, 144, 231, 13, 143, 4, 163, 151, 42, 106, 174, 75, 243, 85, 118, 106, 192, 187, 9, 152, 20, 81, 76, 245, 67, 96, 39, 255, 42, 153, 22, 77, 19, 6, 192, 16, 23, 115, 117, 159, 152, 133, 255, 107, 171, 72, 125, 87, 14, 128, 67, 8, 102, 222, 100, 135, 90, 193, 105, 235, 11, 89, 101, 182, 56, 254, 177, 172, 157, 47, 56, 143], [105, 13, 7, 129, 16, 88, 10, 235, 29, 118, 222, 212, 37, 133, 94, 50, 4, 132, 81, 54, 60, 108, 36, 212, 136, 199, 47, 18, 161, 136, 73, 97, 115, 93, 229, 169, 90, 111, 111, 62, 198, 57, 192, 114, 218, 223, 59, 201, 102, 22, 241, 101, 114, 226, 89, 246, 141, 237, 192, 215, 43, 76, 152, 10, 131, 80, 88, 200, 32, 179, 220, 189, 200, 169, 211, 159, 32, 31, 184, 118, 207, 100, 132, 134, 29, 32, 252, 60, 195, 182, 205, 52, 118, 38, 6, 129, 60, 172, 172, 2, 128, 130, 227, 32, 34, 42, 162, 193, 86, 18, 150, 251, 255, 255, 102, 4, 118, 229, 36, 3, 9, 181, 100, 239, 195, 240, 8, 30, 15, 238, 251, 0, 136, 165, 160, 235, 142, 112, 52, 5, 70, 30, 176, 105, 140, 70, 247, 22, 120, 241, 12, 103, 78, 228, 112, 183, 213, 26, 202, 166, 77, 97, 103, 88, 71, 141, 64, 9, 242, 105, 121, 228, 138, 77, 181, 183, 197, 28, 243, 228, 53, 229, 12, 24, 163, 209, 76, 109, 181, 195, 237, 199, 189, 171, 4, 3, 108, 41, 89, 92, 127, 55, 78, 177, 122, 12, 8, 246, 163, 109, 153, 201, 123, 74, 189, 28, 194, 198, 183, 45, 238, 64, 189, 226, 126, 181, 91, 122, 255, 151, 5, 174, 104, 94, 147, 96, 225, 121, 205, 105, 156, 188, 177, 225, 34, 210, 110, 140, 194, 1, 162, 56, 27, 110, 112, 214], [1, 249, 237, 249, 90, 53, 212, 59, 85, 189, 155, 79, 4, 35, 169, 210, 109, 226, 220, 7, 212, 125, 179, 5, 210, 62, 19, 45, 240, 121, 243, 15, 47, 134, 192, 229, 214, 235, 82, 228, 136, 117, 200, 137, 187, 120, 228, 143, 212, 191, 106, 112, 55, 2, 127, 211, 108, 146, 149, 38, 223, 124, 63, 254, 54, 57, 108, 59, 178, 173, 227, 7, 41, 70, 242, 20, 101, 170, 74, 209, 76, 78, 222, 146, 125, 158, 27, 132, 72, 112, 65, 125, 4, 209, 49, 58, 111, 66, 239, 252, 3, 36, 4, 22, 161, 82, 171, 241, 147, 16, 114, 117, 210, 169, 181, 150, 127, 230, 80, 184, 240, 101, 49, 32, 92, 240, 68, 43, 248, 89, 247, 43, 242, 197, 167, 66, 99, 233, 162, 167, 226, 160, 140, 135, 79, 56, 59, 147, 64, 44, 169, 79, 142, 93, 137, 80, 114, 47, 53, 168, 103, 63, 101, 203, 101, 8, 26, 173, 45, 213, 96, 193, 85, 185, 8, 198, 93, 182, 151, 217, 249, 166, 212, 147, 146, 167, 234, 254, 193, 236, 150, 28, 8, 88, 117, 19, 59, 228, 50, 50, 56, 28, 187, 14, 254, 165, 108, 216, 119, 133, 232, 37, 70, 215, 42, 87, 58, 4, 5, 59, 244, 161, 193, 203, 37, 187, 190, 162, 92, 87, 52, 200, 215, 151, 232, 165, 204, 222, 64, 51, 37, 63, 96, 146, 177, 150, 204, 225, 6, 188, 26, 174, 26, 134, 44, 60, 53], [1, 226, 143, 29, 228, 128, 182, 88, 236, 155, 194, 193, 177, 127, 35, 169, 82, 107, 62, 45, 128, 94, 192, 4, 24, 179, 109, 207, 89, 39, 81, 94, 107, 248, 101, 176, 71, 93, 215, 12, 35, 166, 156, 223, 129, 169, 16, 248, 28, 43, 169, 149, 183, 189, 244, 129, 98, 102, 207, 25, 18, 8, 99, 216, 196, 108, 8, 4, 198, 248, 238, 212, 254, 81, 42, 203, 210, 177, 43, 102, 191, 192, 203, 172, 220, 64, 243, 129, 34, 63, 55, 132, 73, 237, 22, 177, 245, 7, 9, 4, 27, 78, 28, 8, 101, 167, 134, 223, 240, 92, 225, 223, 130, 185, 109, 216, 24, 225, 106, 113, 213, 77, 116, 45, 72, 173, 148, 89, 107, 178, 87, 40, 194, 59, 113, 172, 35, 1, 13, 70, 42, 99, 232, 205, 97, 128, 13, 126, 169, 117, 246, 141, 41, 8, 213, 1, 142, 33, 100, 191, 171, 189, 219, 110, 191, 144, 86, 118, 243, 200, 150, 165, 5, 36, 91, 8, 212, 4, 101, 147, 66, 136, 105, 93, 101, 226, 137, 104, 60, 198, 200, 40, 206, 161, 32, 83, 220, 2, 103, 223, 98, 165, 156, 78, 144, 208, 215, 23, 231, 138, 181, 143, 145, 97, 1, 28, 148, 233, 40, 239, 70, 208, 206, 180, 0, 122, 15, 25, 117, 145, 110, 191, 208, 148, 8, 224, 162, 54, 180, 192, 64, 19, 118, 234, 164, 76, 28, 239, 117, 20, 12, 130, 18, 23, 182, 85, 40], [2, 8, 98, 33, 60, 234, 12, 223, 55, 90, 236, 161, 155, 217, 20, 205, 76, 119, 254, 186, 211, 154, 15, 122, 220, 73, 184, 243, 196, 233, 252, 213, 35, 205, 250, 133, 193, 226, 202, 42, 138, 184, 151, 180, 30, 32, 122, 160, 136, 144, 170, 144, 66, 201, 94, 229, 194, 121, 79, 139, 145, 4, 44, 187, 208, 183, 221, 94, 204, 75, 173, 232, 229, 211, 244, 251, 61, 71, 142, 30, 178, 18, 38, 190, 193, 146, 173, 178, 182, 66, 77, 70, 29, 70, 112, 9, 231, 147, 178, 203, 57, 26, 217, 167, 212, 110, 207, 6, 127, 231, 57, 5, 149, 72, 212, 28, 150, 115, 124, 104, 162, 238, 207, 183, 27, 105, 234, 190, 240, 74, 232, 162, 164, 216, 86, 24, 20, 65, 73, 69, 9, 51, 62, 221, 218, 205, 117, 23, 193, 54, 44, 80, 28, 1, 175, 48, 110, 137, 158, 232, 45, 30, 236, 224, 119, 82, 216, 217, 47, 76, 211, 234, 100, 42, 235, 218, 90, 252, 93, 10, 53, 228, 137, 120, 181, 12, 141, 182, 251, 88, 0, 20, 255, 166, 195, 46, 178, 42, 46, 178, 52, 71, 47, 207, 235, 27, 66, 177, 182, 134, 206, 36, 192, 245, 216, 55, 175, 238, 139, 178, 110, 78, 16, 216, 56, 170, 210, 245, 26, 119, 3, 110, 74, 46, 212, 75, 217, 232, 86, 185, 255, 91, 122, 23, 231, 4, 237, 155, 39, 116, 167, 240, 52, 208, 12, 73, 88]]}}, 'requested_proof': {'revealed_attrs': {'0_fullname_uuid': {'sub_proof_index': 0, 'raw': 'Bob', 'encoded': '93006290325627508022776103386395994712401809437930957652111221015872244345185'}, '0_email_uuid': {'sub_proof_index': 0, 'raw': 'bob@bobber.org', 'encoded': '6513909451916333113483947287287970522401646418372523946287247802942771553817'}, '0_surname_uuid': {'sub_proof_index': 0, 'raw': 'Bobber', 'encoded': '54306315064670580610056743999040514243692441086237581448976115027979391150265'}}, 'self_attested_attrs': {'0_country_uuid': 'True'}, 'unrevealed_attrs': {}, 'predicates': {'0_age_GE_uuid': {'sub_proof_index': 0}}}, 'identifiers': [{'schema_id': 'PQRXDxdGqQGSZ8z69p4xZP:2:generic_person:0.0.1', 'cred_def_id': 'PQRXDxdGqQGSZ8z69p4xZP:3:CL:10:default', 'rev_reg_id': None, 'timestamp': None}]}, 'presentation_request': {'name': 'Proof of Personal Information', 'version': '1.0', 'requested_attributes': {'0_fullname_uuid': {'name': 'fullname', 'restrictions': [{'issuer_did': 'PQRXDxdGqQGSZ8z69p4xZP'}]}, '0_surname_uuid': {'name': 'surname', 'restrictions': [{'issuer_did': 'PQRXDxdGqQGSZ8z69p4xZP'}]}, '0_email_uuid': {'name': 'email', 'restrictions': [{'issuer_did': 'PQRXDxdGqQGSZ8z69p4xZP'}]}, '0_country_uuid': {'name': 'country'}}, 'requested_predicates': {'0_age_GE_uuid': {'name': 'age', 'p_type': '>=', 'p_value': 21, 'restrictions': [{'issuer_did': 'PQRXDxdGqQGSZ8z69p4xZP'}]}}, 'nonce': '305034712946296645643352'}, 'presentation_exchange_id': '989236ba-aadd-46b4-ba46-ebc6fe6cc5bf', 'initiator': 'external', 'state': 'presentation_sent', 'trace': False, 'updated_at': '2020-09-01 20:44:34.340549Z', 'connection_id': 'cabbc316-7961-48d4-be44-3ab9e021a701', 'thread_id': '2698ce71-f7e6-4b44-bf35-1cd8ce8e8743', 'role': 'prover'}, {'created_at': '2020-09-01 20:48:34.688511Z', 'presentation_request': {'name': 'Proof of Personal Information', 'version': '1.0', 'requested_attributes': {'0_fullname_uuid': {'name': 'fullname', 'restrictions': [{'issuer_did': 'PQRXDxdGqQGSZ8z69p4xZP'}]}, '0_surname_uuid': {'name': 'surname', 'restrictions': [{'issuer_did': 'PQRXDxdGqQGSZ8z69p4xZP'}]}, '0_email_uuid': {'name': 'email', 'restrictions': [{'issuer_did': 'PQRXDxdGqQGSZ8z69p4xZP'}]}, '0_country_uuid': {'name': 'country'}}, 'requested_predicates': {'0_age_GE_uuid': {'name': 'age', 'p_type': '=', 'p_value': 21, 'restrictions': [{'issuer_did': 'PQRXDxdGqQGSZ8z69p4xZP'}]}}, 'nonce': '881013976097942586932089'}, 'presentation_exchange_id': '53627946-8d8e-413a-bb4c-82b2445b9de1', 'initiator': 'external', 'state': 'request_received', 'trace': False, 'updated_at': '2020-09-01 20:48:34.688511Z', 'connection_id': 'cabbc316-7961-48d4-be44-3ab9e021a701', 'thread_id': 'a1e3abad-380a-408f-b523-a6f1a9015813', 'role': 'prover'}, {'created_at': '2020-09-01 20:42:42.923444Z', 'presentation_request': {'name': 'Proof of Personal Information', 'version': '1.0', 'requested_attributes': {'0_fullname_uuid': {'name': 'fullname', 'restrictions': [{'issuer_did': 'PQRXDxdGqQGSZ8z69p4xZP'}]}, '0_surname_uuid': {'name': 'surname', 'restrictions': [{'issuer_did': 'PQRXDxdGqQGSZ8z69p4xZP'}]}, '0_email_uuid': {'name': 'email', 'restrictions': [{'issuer_did': 'PQRXDxdGqQGSZ8z69p4xZP'}]}, '0_country_uuid': {'name': 'country'}}, 'requested_predicates': {'0_age_GE_uuid': {'name': 'age', 'p_type': '>=', 'p_value': 21, 'restrictions': [{'issuer_did': 'PQRXDxdGqQGSZ8z69p4xZP'}]}}, 'nonce': '512445178883777767503103'}, 'presentation_exchange_id': '007e6e74-992c-4b0e-aac2-f699c5f66591', 'initiator': 'external', 'state': 'request_received', 'trace': False, 'updated_at': '2020-09-01 20:42:42.923444Z', 'connection_id': 'cabbc316-7961-48d4-be44-3ab9e021a701', 'thread_id': 'ce283831-2976-4c84-b20a-a5a10352201e', 'role': 'prover'}]}\n",
      "\n",
      "\n",
      "Presentation Exchange ID\n",
      "\n",
      "7941be3e-97ca-4be7-add3-68eeac99c4a5\n",
      "Presentation Request Object\n",
      "\n",
      "{'name': 'Proof of Personal Information', 'version': '1.0', 'requested_attributes': {'0_fullname_uuid': {'name': 'fullname', 'restrictions': [{'issuer_did': 'PQRXDxdGqQGSZ8z69p4xZP'}]}, '0_surname_uuid': {'name': 'surname', 'restrictions': [{'issuer_did': 'PQRXDxdGqQGSZ8z69p4xZP'}]}, '0_email_uuid': {'name': 'email', 'restrictions': [{'issuer_did': 'PQRXDxdGqQGSZ8z69p4xZP'}]}, '0_country_uuid': {'name': 'country'}}, 'requested_predicates': {'0_age_GE_uuid': {'name': 'age', 'p_type': '<', 'p_value': 21, 'restrictions': [{'issuer_did': 'PQRXDxdGqQGSZ8z69p4xZP'}]}}, 'nonce': '66516272281597936727882'}\n",
      "Requested Attributes\n",
      "\n",
      "{'0_fullname_uuid': {'name': 'fullname', 'restrictions': [{'issuer_did': 'PQRXDxdGqQGSZ8z69p4xZP'}]}, '0_surname_uuid': {'name': 'surname', 'restrictions': [{'issuer_did': 'PQRXDxdGqQGSZ8z69p4xZP'}]}, '0_email_uuid': {'name': 'email', 'restrictions': [{'issuer_did': 'PQRXDxdGqQGSZ8z69p4xZP'}]}, '0_country_uuid': {'name': 'country'}}\n",
      "Requested Predicates\n",
      "\n",
      "{'0_age_GE_uuid': {'name': 'age', 'p_type': '<', 'p_value': 21, 'restrictions': [{'issuer_did': 'PQRXDxdGqQGSZ8z69p4xZP'}]}}\n"
     ]
    }
   ],
   "source": [
    "response = await bob_agent_controller.proofs.get_records()\n",
    "print(response)\n",
    "\n",
    "print('\\n')\n",
    "\n",
    "state = response['results'][0][\"state\"]\n",
    "bob_presentation_exchange_id = response['results'][0]['presentation_exchange_id']\n",
    "presentation_request = response['results'][0]['presentation_request']\n",
    "\n",
    "print('Presentation Exchange ID\\n')\n",
    "print(response['results'][0]['presentation_exchange_id'])\n",
    "pres_x_id = response['results'][0]['presentation_exchange_id']\n",
    "print('Presentation Request Object\\n')\n",
    "print(response['results'][0]['presentation_request'])\n",
    "print('Requested Attributes\\n')\n",
    "print(response['results'][0]['presentation_request']['requested_attributes'])\n",
    "requested_attribs = response['results'][0]['presentation_request']['requested_attributes']\n",
    "print('Requested Predicates\\n')\n",
    "print(response['results'][0]['presentation_request']['requested_predicates'])\n",
    "requested_predicates = response['results'][0]['presentation_request']['requested_predicates']"
   ]
  },
  {
   "cell_type": "markdown",
   "metadata": {},
   "source": [
    "# 16\n",
    "## Fetch Credentials for Proof Presentation"
   ]
  },
  {
   "cell_type": "code",
   "execution_count": 48,
   "metadata": {
    "pycharm": {
     "name": "#%%\n"
    }
   },
   "outputs": [
    {
     "name": "stdout",
     "output_type": "stream",
     "text": [
      "[{'cred_info': {'referent': 'My Personal Info Credential', 'attrs': {'fullname': 'Bob', 'surname': 'Bobber', 'email': 'bob@bobber.org', 'age': '21'}, 'schema_id': 'PQRXDxdGqQGSZ8z69p4xZP:2:generic_person:0.0.1', 'cred_def_id': 'PQRXDxdGqQGSZ8z69p4xZP:3:CL:10:default', 'rev_reg_id': None, 'cred_rev_id': None}, 'interval': None, 'presentation_referents': ['0_surname_uuid', '0_fullname_uuid', '0_email_uuid']}]\n",
      "\n",
      "Generate the proof\n",
      "{'requested_predicates': {}, 'requested_attributes': {'0_fullname_uuid': {'cred_id': 'My Personal Info Credential', 'revealed': True}, '0_surname_uuid': {'cred_id': 'My Personal Info Credential', 'revealed': True}, '0_email_uuid': {'cred_id': 'My Personal Info Credential', 'revealed': True}}, 'self_attested_attributes': {'0_country_uuid': 'South Africa'}}\n",
      "\n",
      "XXX\n",
      "{}\n",
      "{'0_fullname_uuid': {'cred_id': 'My Personal Info Credential', 'revealed': True}, '0_surname_uuid': {'cred_id': 'My Personal Info Credential', 'revealed': True}, '0_email_uuid': {'cred_id': 'My Personal Info Credential', 'revealed': True}}\n",
      "{'0_country_uuid': 'South Africa'}\n"
     ]
    }
   ],
   "source": [
    "if state == \"request_received\":\n",
    "    print(\n",
    "    \"Received Request -> Query for credentials in the wallet that satisfy the proof request\")\n",
    "\n",
    "# include self-attested attributes (not included in credentials)\n",
    "credentials_by_reft = {}\n",
    "revealed = {}\n",
    "self_attested = {}\n",
    "predicates = {}\n",
    "\n",
    "# select credentials to provide for the proof\n",
    "credentials = await bob_agent_controller.proofs.get_presentation_credentials(bob_presentation_exchange_id)\n",
    "print(credentials)\n",
    "\n",
    "if credentials:\n",
    "    for row in sorted(\n",
    "        credentials,\n",
    "        key=lambda c: dict(c[\"cred_info\"][\"attrs\"]),\n",
    "        reverse=True,\n",
    "    ):\n",
    "        for referent in row[\"presentation_referents\"]:\n",
    "            if referent not in credentials_by_reft:\n",
    "                credentials_by_reft[referent] = row\n",
    "\n",
    "for referent in presentation_request[\"requested_attributes\"]:\n",
    "    if referent in credentials_by_reft:\n",
    "        revealed[referent] = {\n",
    "            \"cred_id\": credentials_by_reft[referent][\"cred_info\"][\n",
    "                \"referent\"\n",
    "            ],\n",
    "            \"revealed\": True,\n",
    "        }\n",
    "    else:\n",
    "        self_attested[referent] = \"South Africa\"\n",
    "\n",
    "for referent in presentation_request[\"requested_predicates\"]:\n",
    "    if referent in credentials_by_reft:\n",
    "        predicates[referent] = {\n",
    "            \"cred_id\": credentials_by_reft[referent][\"cred_info\"][\n",
    "                \"referent\"\n",
    "            ]\n",
    "        }\n",
    "\n",
    "print(\"\\nGenerate the proof\")\n",
    "request = {\n",
    "    \"requested_predicates\": predicates,\n",
    "    \"requested_attributes\": revealed,\n",
    "    \"self_attested_attributes\": self_attested,\n",
    "}\n",
    "print(request)\n",
    "print(\"\\nXXX\")\n",
    "print(predicates)\n",
    "print(revealed)\n",
    "print(self_attested)"
   ]
  },
  {
   "cell_type": "markdown",
   "metadata": {},
   "source": [
    "# 17\n",
    "## Send a Proof Presentation"
   ]
  },
  {
   "cell_type": "code",
   "execution_count": 49,
   "metadata": {
    "pycharm": {
     "name": "#%%\n"
    }
   },
   "outputs": [
    {
     "name": "stdout",
     "output_type": "stream",
     "text": [
      "\n",
      "Send the proof to Openmined Community Agent (Alice)\n"
     ]
    },
    {
     "ename": "ClientResponseError",
     "evalue": "500, message='Internal Server Error', url=URL('http://bob-agent:8051/present-proof/records/7941be3e-97ca-4be7-add3-68eeac99c4a5/send-presentation')",
     "output_type": "error",
     "traceback": [
      "\u001b[0;31m---------------------------------------------------------------------------\u001b[0m",
      "\u001b[0;31mClientResponseError\u001b[0m                       Traceback (most recent call last)",
      "\u001b[0;32m<ipython-input-49-f9f6e3a4ce9d>\u001b[0m in \u001b[0;36masync-def-wrapper\u001b[0;34m()\u001b[0m\n\u001b[1;32m     41\u001b[0m \u001b[0mprint\u001b[0m\u001b[0;34m(\u001b[0m\u001b[0mresponse\u001b[0m\u001b[0;34m)\u001b[0m\u001b[0;34m\u001b[0m\u001b[0;34m\u001b[0m\u001b[0m\n",
      "\u001b[0;32m/aries_basic_controller/controllers/proof.py\u001b[0m in \u001b[0;36msend_presentation\u001b[0;34m(self, pres_ex_id, presentation)\u001b[0m\n\u001b[1;32m     73\u001b[0m     \u001b[0;32masync\u001b[0m \u001b[0;32mdef\u001b[0m \u001b[0msend_presentation\u001b[0m\u001b[0;34m(\u001b[0m\u001b[0mself\u001b[0m\u001b[0;34m,\u001b[0m \u001b[0mpres_ex_id\u001b[0m\u001b[0;34m,\u001b[0m \u001b[0mpresentation\u001b[0m\u001b[0;34m)\u001b[0m\u001b[0;34m:\u001b[0m\u001b[0;34m\u001b[0m\u001b[0;34m\u001b[0m\u001b[0m\n\u001b[1;32m     74\u001b[0m \u001b[0;34m\u001b[0m\u001b[0m\n\u001b[0;32m---> 75\u001b[0;31m         \u001b[0;32mreturn\u001b[0m \u001b[0;32mawait\u001b[0m \u001b[0mself\u001b[0m\u001b[0;34m.\u001b[0m\u001b[0madmin_POST\u001b[0m\u001b[0;34m(\u001b[0m\u001b[0;34mf\"{self.base_url}/records/{pres_ex_id}/send-presentation\"\u001b[0m\u001b[0;34m,\u001b[0m \u001b[0mdata\u001b[0m\u001b[0;34m=\u001b[0m\u001b[0mpresentation\u001b[0m\u001b[0;34m)\u001b[0m\u001b[0;34m\u001b[0m\u001b[0;34m\u001b[0m\u001b[0m\n\u001b[0m\u001b[1;32m     76\u001b[0m \u001b[0;34m\u001b[0m\u001b[0m\n\u001b[1;32m     77\u001b[0m     \u001b[0;31m# Verify a received presentation\u001b[0m\u001b[0;34m\u001b[0m\u001b[0;34m\u001b[0m\u001b[0;34m\u001b[0m\u001b[0m\n",
      "\u001b[0;32m/aries_basic_controller/controllers/base.py\u001b[0m in \u001b[0;36madmin_POST\u001b[0;34m(self, path, data, text, params)\u001b[0m\n\u001b[1;32m     94\u001b[0m                 \u001b[0;34m(\u001b[0m\u001b[0;34m\" with data: \\n{}\"\u001b[0m\u001b[0;34m.\u001b[0m\u001b[0mformat\u001b[0m\u001b[0;34m(\u001b[0m\u001b[0mrepr_json\u001b[0m\u001b[0;34m(\u001b[0m\u001b[0mdata\u001b[0m\u001b[0;34m)\u001b[0m\u001b[0;34m)\u001b[0m \u001b[0;32mif\u001b[0m \u001b[0mdata\u001b[0m \u001b[0;32melse\u001b[0m \u001b[0;34m\"\"\u001b[0m\u001b[0;34m)\u001b[0m\u001b[0;34m,\u001b[0m\u001b[0;34m\u001b[0m\u001b[0;34m\u001b[0m\u001b[0m\n\u001b[1;32m     95\u001b[0m             )\n\u001b[0;32m---> 96\u001b[0;31m             \u001b[0mresponse\u001b[0m \u001b[0;34m=\u001b[0m \u001b[0;32mawait\u001b[0m \u001b[0mself\u001b[0m\u001b[0;34m.\u001b[0m\u001b[0madmin_request\u001b[0m\u001b[0;34m(\u001b[0m\u001b[0;34m\"POST\"\u001b[0m\u001b[0;34m,\u001b[0m \u001b[0mpath\u001b[0m\u001b[0;34m,\u001b[0m \u001b[0mdata\u001b[0m\u001b[0;34m,\u001b[0m \u001b[0mtext\u001b[0m\u001b[0;34m,\u001b[0m \u001b[0mparams\u001b[0m\u001b[0;34m)\u001b[0m\u001b[0;34m\u001b[0m\u001b[0;34m\u001b[0m\u001b[0m\n\u001b[0m\u001b[1;32m     97\u001b[0m             EVENT_LOGGER.debug(\n\u001b[1;32m     98\u001b[0m                 \u001b[0;34m\"Response from POST %s received: \\n%s\"\u001b[0m\u001b[0;34m,\u001b[0m \u001b[0mpath\u001b[0m\u001b[0;34m,\u001b[0m \u001b[0mrepr_json\u001b[0m\u001b[0;34m(\u001b[0m\u001b[0mresponse\u001b[0m\u001b[0;34m)\u001b[0m\u001b[0;34m,\u001b[0m\u001b[0;34m\u001b[0m\u001b[0;34m\u001b[0m\u001b[0m\n",
      "\u001b[0;32m/aries_basic_controller/controllers/base.py\u001b[0m in \u001b[0;36madmin_request\u001b[0;34m(self, method, path, data, text, params)\u001b[0m\n\u001b[1;32m     61\u001b[0m             \u001b[0mmethod\u001b[0m\u001b[0;34m,\u001b[0m \u001b[0mself\u001b[0m\u001b[0;34m.\u001b[0m\u001b[0madmin_url\u001b[0m \u001b[0;34m+\u001b[0m \u001b[0mpath\u001b[0m\u001b[0;34m,\u001b[0m \u001b[0mjson\u001b[0m\u001b[0;34m=\u001b[0m\u001b[0mdata\u001b[0m\u001b[0;34m,\u001b[0m \u001b[0mparams\u001b[0m\u001b[0;34m=\u001b[0m\u001b[0mparams\u001b[0m\u001b[0;34m\u001b[0m\u001b[0;34m\u001b[0m\u001b[0m\n\u001b[1;32m     62\u001b[0m         ) as resp:\n\u001b[0;32m---> 63\u001b[0;31m             \u001b[0mresp\u001b[0m\u001b[0;34m.\u001b[0m\u001b[0mraise_for_status\u001b[0m\u001b[0;34m(\u001b[0m\u001b[0;34m)\u001b[0m\u001b[0;34m\u001b[0m\u001b[0;34m\u001b[0m\u001b[0m\n\u001b[0m\u001b[1;32m     64\u001b[0m             \u001b[0mresp_text\u001b[0m \u001b[0;34m=\u001b[0m \u001b[0;32mawait\u001b[0m \u001b[0mresp\u001b[0m\u001b[0;34m.\u001b[0m\u001b[0mtext\u001b[0m\u001b[0;34m(\u001b[0m\u001b[0;34m)\u001b[0m\u001b[0;34m\u001b[0m\u001b[0;34m\u001b[0m\u001b[0m\n\u001b[1;32m     65\u001b[0m             \u001b[0;32mif\u001b[0m \u001b[0;32mnot\u001b[0m \u001b[0mresp_text\u001b[0m \u001b[0;32mand\u001b[0m \u001b[0;32mnot\u001b[0m \u001b[0mtext\u001b[0m\u001b[0;34m:\u001b[0m\u001b[0;34m\u001b[0m\u001b[0;34m\u001b[0m\u001b[0m\n",
      "\u001b[0;32m/opt/conda/lib/python3.7/site-packages/aiohttp/client_reqrep.py\u001b[0m in \u001b[0;36mraise_for_status\u001b[0;34m(self)\u001b[0m\n\u001b[1;32m    944\u001b[0m                 \u001b[0mstatus\u001b[0m\u001b[0;34m=\u001b[0m\u001b[0mself\u001b[0m\u001b[0;34m.\u001b[0m\u001b[0mstatus\u001b[0m\u001b[0;34m,\u001b[0m\u001b[0;34m\u001b[0m\u001b[0;34m\u001b[0m\u001b[0m\n\u001b[1;32m    945\u001b[0m                 \u001b[0mmessage\u001b[0m\u001b[0;34m=\u001b[0m\u001b[0mself\u001b[0m\u001b[0;34m.\u001b[0m\u001b[0mreason\u001b[0m\u001b[0;34m,\u001b[0m\u001b[0;34m\u001b[0m\u001b[0;34m\u001b[0m\u001b[0m\n\u001b[0;32m--> 946\u001b[0;31m                 headers=self.headers)\n\u001b[0m\u001b[1;32m    947\u001b[0m \u001b[0;34m\u001b[0m\u001b[0m\n\u001b[1;32m    948\u001b[0m     \u001b[0;32mdef\u001b[0m \u001b[0m_cleanup_writer\u001b[0m\u001b[0;34m(\u001b[0m\u001b[0mself\u001b[0m\u001b[0;34m)\u001b[0m \u001b[0;34m->\u001b[0m \u001b[0;32mNone\u001b[0m\u001b[0;34m:\u001b[0m\u001b[0;34m\u001b[0m\u001b[0;34m\u001b[0m\u001b[0m\n",
      "\u001b[0;31mClientResponseError\u001b[0m: 500, message='Internal Server Error', url=URL('http://bob-agent:8051/present-proof/records/7941be3e-97ca-4be7-add3-68eeac99c4a5/send-presentation')"
     ]
    },
    {
     "name": "stderr",
     "output_type": "stream",
     "text": [
      "ERROR:asyncio:Task exception was never retrieved\n",
      "future: <Task finished coro=<run_in_terminal.<locals>.run() done, defined at /opt/conda/lib/python3.7/site-packages/prompt_toolkit/application/run_in_terminal.py:50> exception=UnsupportedOperation('fileno')>\n",
      "Traceback (most recent call last):\n",
      "  File \"/opt/conda/lib/python3.7/site-packages/prompt_toolkit/application/run_in_terminal.py\", line 55, in run\n",
      "    return func()\n",
      "  File \"/aries_basic_controller/helpers/utils.py\", line 120, in <lambda>\n",
      "    run_in_terminal(lambda: print_ext(*msg, color=color, **kwargs))\n",
      "  File \"/aries_basic_controller/helpers/utils.py\", line 103, in print_ext\n",
      "    print_formatted(FormattedText(msg), **kwargs)\n",
      "  File \"/aries_basic_controller/helpers/utils.py\", line 83, in print_formatted\n",
      "    prompt_toolkit.print_formatted_text(*args, **kwargs)\n",
      "  File \"/opt/conda/lib/python3.7/site-packages/prompt_toolkit/shortcuts/utils.py\", line 112, in print_formatted_text\n",
      "    output = get_app_session().output\n",
      "  File \"/opt/conda/lib/python3.7/site-packages/prompt_toolkit/application/current.py\", line 65, in output\n",
      "    self._output = create_output()\n",
      "  File \"/opt/conda/lib/python3.7/site-packages/prompt_toolkit/output/defaults.py\", line 62, in create_output\n",
      "    return Vt100_Output.from_pty(stdout, term=get_term_environment_variable())\n",
      "  File \"/opt/conda/lib/python3.7/site-packages/prompt_toolkit/output/vt100.py\", line 449, in from_pty\n",
      "    fd = stdout.fileno()\n",
      "io.UnsupportedOperation: fileno\n"
     ]
    }
   ],
   "source": [
    "# {\n",
    "#   \"self_attested_attributes\": {\n",
    "#     \"additionalProp1\": \"self_attested_value\",\n",
    "#     \"additionalProp2\": \"self_attested_value\",\n",
    "#     \"additionalProp3\": \"self_attested_value\"\n",
    "#   },\n",
    "#   \"trace\": true,\n",
    "#   \"requested_attributes\": {\n",
    "#     \"additionalProp1\": {\n",
    "#       \"cred_id\": \"3fa85f64-5717-4562-b3fc-2c963f66afa6\",\n",
    "#       \"revealed\": true\n",
    "#     },\n",
    "#     \"additionalProp2\": {\n",
    "#       \"cred_id\": \"3fa85f64-5717-4562-b3fc-2c963f66afa6\",\n",
    "#       \"revealed\": true\n",
    "#     },\n",
    "#     \"additionalProp3\": {\n",
    "#       \"cred_id\": \"3fa85f64-5717-4562-b3fc-2c963f66afa6\",\n",
    "#       \"revealed\": true\n",
    "#     }\n",
    "#   },\n",
    "#   \"requested_predicates\": {\n",
    "#     \"additionalProp1\": {\n",
    "#       \"cred_id\": \"3fa85f64-5717-4562-b3fc-2c963f66afa6\"\n",
    "#     },\n",
    "#     \"additionalProp2\": {\n",
    "#       \"cred_id\": \"3fa85f64-5717-4562-b3fc-2c963f66afa6\"\n",
    "#     },\n",
    "#     \"additionalProp3\": {\n",
    "#       \"cred_id\": \"3fa85f64-5717-4562-b3fc-2c963f66afa6\"\n",
    "#     }\n",
    "#   }\n",
    "# }\n",
    "\n",
    "proof_presentation = {}\n",
    "\n",
    "\n",
    "\n",
    "print(\"\\nSend the proof to Openmined Community Agent (Alice)\")\n",
    "send_presentation = await bob_agent_controller.proofs.send_presentation(bob_presentation_exchange_id, request)\n",
    "print(response)"
   ]
  },
  {
   "cell_type": "markdown",
   "metadata": {},
   "source": [
    "# 18\n",
    "## Verify Proof Presentation"
   ]
  },
  {
   "cell_type": "code",
   "execution_count": 44,
   "metadata": {
    "pycharm": {
     "name": "#%%\n"
    }
   },
   "outputs": [
    {
     "name": "stdout",
     "output_type": "stream",
     "text": [
      "{'role': 'verifier', 'presentation': {'proof': {'proofs': [{'primary_proof': {'eq_proof': {'revealed_attrs': {'email': '6513909451916333113483947287287970522401646418372523946287247802942771553817', 'fullname': '93006290325627508022776103386395994712401809437930957652111221015872244345185', 'surname': '54306315064670580610056743999040514243692441086237581448976115027979391150265'}, 'a_prime': '22888462598983572487468762851503263293549317541557508180054806161488146755155480848889889513617266602462582700499566294915128256728901131561490079754178286104681208732720248014734444937157121081215452583201878162130629920156297843408780676263757397160994536358819224347828806231831942763334209529425254322200767447740523016601614648956032469219037906794754963238373862500613980057568021866358570639194601980883605148082649972152283180072543535528967749169640067224556461822386282989324813058206736765260642808030345990486086099376766785474514803605483479147474129762919002193889784304342435224780956675157226040561143', 'e': '103374754521687748020133025369836005918174226201974741886757997482011494191308749438446503908309180877609457248469913014194670002939417036', 'v': '1301831260922427203077884979254267943602873358619607453763456556736751343628372826017835247156085050534251275557202468990888264125573111898927988313809474255415968818085255052250678545041792626610692641308740085996054717164294119780746970178649481096974578035188134520914501625572256894454424878887264384444594084760777490641258838579231938903012313475380378528903403556819586168632690977002364069172289949924914504576340454947920702717570686644982997423006280841342796923206202988604354557593061939051371673854065594276740677101044029302674554637203339893153570959344327258366019702202537872350830530935937413233638837974369331860169038034594415846106404060682188626963854901383102249157883554990002848136668547038255266050567212773968547983990914255186411372670883934829892835128837721054026429320172108211212967670150517854372021425189938153675558311162173648499681864419886903622688340238034092192586082747572040684199', 'm': {'master_secret': '15870405749600171018029719876487149007451512604837665462731473077001480519507544064649439510071533009106108262175298382459832020909082696055372570847901790839678283106123216017174', 'age': '6115989850301707286286237104935826116599767098057791077210045153939200336866548444387332810033061567387519099988453513788467916920291047978385626577763340341022916721300532610803'}, 'm2': '14934976142166456749023213389816144578610576979075536945495207621381473489057986685157384712187904919751138567043139766462178284387549827265725203889617781895350875575885238911760'}, 'ge_proofs': []}, 'non_revoc_proof': None}], 'aggregated_proof': {'c_hash': '12633356654465468711583418281100397411642008738509394136124855810244998337431', 'c_list': [[181, 79, 193, 170, 137, 27, 191, 61, 73, 72, 254, 1, 147, 77, 11, 153, 231, 16, 237, 203, 175, 28, 148, 37, 59, 15, 244, 4, 123, 51, 14, 107, 67, 129, 215, 246, 105, 112, 106, 173, 167, 243, 238, 89, 117, 59, 36, 8, 51, 11, 227, 223, 90, 244, 213, 233, 118, 47, 88, 53, 152, 197, 188, 78, 186, 174, 210, 131, 156, 252, 251, 60, 156, 229, 71, 37, 30, 241, 167, 217, 68, 114, 138, 93, 111, 103, 230, 129, 234, 47, 12, 192, 188, 219, 199, 58, 11, 168, 21, 24, 47, 224, 157, 102, 200, 163, 6, 146, 39, 25, 223, 105, 122, 221, 205, 116, 142, 216, 254, 135, 5, 232, 7, 220, 129, 254, 26, 39, 112, 110, 183, 140, 161, 75, 116, 55, 42, 33, 200, 37, 4, 145, 76, 249, 98, 116, 22, 137, 229, 12, 169, 1, 115, 147, 92, 255, 89, 111, 111, 222, 250, 160, 106, 124, 167, 50, 196, 191, 9, 124, 227, 191, 194, 245, 26, 164, 250, 39, 218, 62, 227, 6, 212, 31, 154, 138, 151, 45, 134, 184, 230, 208, 12, 226, 151, 79, 194, 133, 210, 16, 35, 180, 211, 18, 98, 126, 253, 121, 49, 241, 31, 96, 25, 247, 114, 217, 89, 57, 141, 64, 180, 249, 119, 75, 60, 174, 52, 229, 103, 246, 33, 4, 138, 244, 5, 41, 103, 15, 129, 13, 156, 77, 134, 218, 186, 218, 189, 137, 146, 71, 51, 111, 130, 159, 141, 247]]}}, 'requested_proof': {'revealed_attrs': {'0_email_uuid': {'sub_proof_index': 0, 'raw': 'bob@bobber.org', 'encoded': '6513909451916333113483947287287970522401646418372523946287247802942771553817'}, '0_surname_uuid': {'sub_proof_index': 0, 'raw': 'Bobber', 'encoded': '54306315064670580610056743999040514243692441086237581448976115027979391150265'}, '0_fullname_uuid': {'sub_proof_index': 0, 'raw': 'Bob', 'encoded': '93006290325627508022776103386395994712401809437930957652111221015872244345185'}}, 'self_attested_attrs': {'0_country_uuid': 'True'}, 'unrevealed_attrs': {}, 'predicates': {}}, 'identifiers': [{'schema_id': 'PQRXDxdGqQGSZ8z69p4xZP:2:generic_person:0.0.1', 'cred_def_id': 'PQRXDxdGqQGSZ8z69p4xZP:3:CL:10:default', 'rev_reg_id': None, 'timestamp': None}]}, 'auto_present': False, 'updated_at': '2020-09-01 20:46:44.216150Z', 'initiator': 'self', 'presentation_exchange_id': '39b148e5-0f18-4496-94c7-3476063035f7', 'verified': 'false', 'state': 'verified', 'connection_id': 'ac91d05a-f26c-487f-8cbc-95c6da689089', 'trace': False, 'thread_id': '0d0fb92b-85be-4424-9f3e-d14caf27d61c', 'presentation_request': {'name': 'Proof of Personal Information', 'version': '1.0', 'requested_attributes': {'0_fullname_uuid': {'name': 'fullname', 'restrictions': [{'issuer_did': 'PQRXDxdGqQGSZ8z69p4xZP'}]}, '0_surname_uuid': {'name': 'surname', 'restrictions': [{'issuer_did': 'PQRXDxdGqQGSZ8z69p4xZP'}]}, '0_email_uuid': {'name': 'email', 'restrictions': [{'issuer_did': 'PQRXDxdGqQGSZ8z69p4xZP'}]}, '0_country_uuid': {'name': 'country'}}, 'requested_predicates': {'0_age_GE_uuid': {'name': 'age', 'p_type': '<', 'p_value': 21, 'restrictions': [{'issuer_did': 'PQRXDxdGqQGSZ8z69p4xZP'}]}}, 'nonce': '66516272281597936727882'}, 'created_at': '2020-09-01 20:46:29.882046Z'}\n"
     ]
    }
   ],
   "source": [
    "verify = await alice_agent_controller.proofs.verify_presentation(alice_presentation_exchange_id)\n",
    "print(verify)"
   ]
  },
  {
   "cell_type": "markdown",
   "metadata": {},
   "source": [
    "# 20\n",
    "## End of Tutorial\n",
    "\n",
    "Be sure to terminate the controller so you can run another tutorial."
   ]
  },
  {
   "cell_type": "code",
   "execution_count": 26,
   "metadata": {
    "pycharm": {
     "name": "#%%\n"
    }
   },
   "outputs": [
    {
     "name": "stdout",
     "output_type": "stream",
     "text": [
      "None\n"
     ]
    },
    {
     "ename": "NameError",
     "evalue": "name 'bob_agent_controller' is not defined",
     "output_type": "error",
     "traceback": [
      "\u001b[0;31m---------------------------------------------------------------------------\u001b[0m",
      "\u001b[0;31mNameError\u001b[0m                                 Traceback (most recent call last)",
      "\u001b[0;32m<ipython-input-26-f5f5fcba62d2>\u001b[0m in \u001b[0;36masync-def-wrapper\u001b[0;34m()\u001b[0m\n\u001b[1;32m      4\u001b[0m \u001b[0mprint\u001b[0m\u001b[0;34m(\u001b[0m\u001b[0mresponse\u001b[0m\u001b[0;34m)\u001b[0m\u001b[0;34m\u001b[0m\u001b[0;34m\u001b[0m\u001b[0m\n",
      "\u001b[0;31mNameError\u001b[0m: name 'bob_agent_controller' is not defined"
     ]
    }
   ],
   "source": [
    "response = await alice_agent_controller.terminate()\n",
    "print(response)\n",
    "response = await bob_agent_controller.terminate()\n",
    "print(response)"
   ]
  }
 ],
 "metadata": {
  "kernelspec": {
   "display_name": "Python 3",
   "language": "python",
   "name": "python3"
  },
  "language_info": {
   "codemirror_mode": {
    "name": "ipython",
    "version": 3
   },
   "file_extension": ".py",
   "mimetype": "text/x-python",
   "name": "python",
   "nbconvert_exporter": "python",
   "pygments_lexer": "ipython3",
   "version": "3.7.6"
  }
 },
 "nbformat": 4,
 "nbformat_minor": 1
}
