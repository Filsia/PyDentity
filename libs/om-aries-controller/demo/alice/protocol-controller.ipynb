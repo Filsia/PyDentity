{
 "cells": [
  {
   "cell_type": "markdown",
   "metadata": {},
   "source": [
    "# Protocol Controller Example\n",
    "\n",
    "This notebook tests the capablity to extend the basic controller to control a custom protocol developed in an aries agent. Che"
   ]
  },
  {
   "cell_type": "code",
   "execution_count": 1,
   "metadata": {},
   "outputs": [
    {
     "name": "stdout",
     "output_type": "stream",
     "text": [
      "IPython autoawait is `on`, and set to use `asyncio`\n"
     ]
    }
   ],
   "source": [
    "%autoawait\n",
    "import time\n",
    "import asyncio"
   ]
  },
  {
   "cell_type": "code",
   "execution_count": 2,
   "metadata": {},
   "outputs": [],
   "source": [
    "from om_aries_controller.om_aries_controller import OMAriesController\n",
    "    \n",
    "WEBHOOK_HOST = \"0.0.0.0\"\n",
    "WEBHOOK_PORT = 8022\n",
    "WEBHOOK_BASE = \"\"\n",
    "ADMIN_URL = \"http://alice-agent:8021\"\n",
    "\n",
    "# Based on the aca-py agent you wish to control\n",
    "om_controller = OMAriesController(webhook_host=WEBHOOK_HOST, webhook_port=WEBHOOK_PORT,\n",
    "                                       webhook_base=WEBHOOK_BASE, admin_url=ADMIN_URL)"
   ]
  },
  {
   "cell_type": "code",
   "execution_count": 3,
   "metadata": {},
   "outputs": [
    {
     "name": "stdout",
     "output_type": "stream",
     "text": [
      "Results :  [{'invitation_key': 'HkhCqKvUGNPZKGjRTG2QHPFr3mFvYvb2hF6CZhc8osP', 'my_did': '3VPSSJ7Fq3kV7K9ma5sp83', 'initiator': 'external', 'request_id': 'fbcb2955-1676-43b1-a3a9-a2e4e2ec7824', 'accept': 'manual', 'routing_state': 'none', 'updated_at': '2020-07-17 13:08:54.628201Z', 'their_did': 'Texred5mDTHsNyhsBT5jXw', 'invitation_mode': 'once', 'their_label': 'Bob', 'created_at': '2020-07-17 13:08:42.502714Z', 'connection_id': '5f8ba629-e79d-4fab-b3ff-518d7065b3e7', 'state': 'active'}]\n",
      "Connection : {'invitation_key': 'HkhCqKvUGNPZKGjRTG2QHPFr3mFvYvb2hF6CZhc8osP', 'my_did': '3VPSSJ7Fq3kV7K9ma5sp83', 'initiator': 'external', 'request_id': 'fbcb2955-1676-43b1-a3a9-a2e4e2ec7824', 'accept': 'manual', 'routing_state': 'none', 'updated_at': '2020-07-17 13:08:54.628201Z', 'their_did': 'Texred5mDTHsNyhsBT5jXw', 'invitation_mode': 'once', 'their_label': 'Bob', 'created_at': '2020-07-17 13:08:42.502714Z', 'connection_id': '5f8ba629-e79d-4fab-b3ff-518d7065b3e7', 'state': 'active'}\n",
      "Active Connection ID :  5f8ba629-e79d-4fab-b3ff-518d7065b3e7\n"
     ]
    }
   ],
   "source": [
    "response = await om_controller.connections.get_connections()\n",
    "results = response['results']\n",
    "print(\"Results : \", results)\n",
    "if len(results) > 0:\n",
    "    connection = response['results'][0]\n",
    "    print(\"Connection :\", connection)\n",
    "    if connection['state'] == 'active':       \n",
    "        connection_id = connection[\"connection_id\"]\n",
    "        print(\"Active Connection ID : \", connection_id)\n",
    "    else:\n",
    "        print(\"Connection is still progressing to active state, retry in a few moments\")\n",
    "else:\n",
    "    print(\"You must create a connection\")\n",
    "    "
   ]
  },
  {
   "cell_type": "code",
   "execution_count": 4,
   "metadata": {},
   "outputs": [
    {
     "name": "stdout",
     "output_type": "stream",
     "text": [
      "{'thread_id': 'b36cd9fb-b6d4-4c1e-927f-fe03147d60ab'}\n"
     ]
    }
   ],
   "source": [
    "response = await om_controller.protocol.test_protocol(connection_id, True, \"Hey this is a test\")\n",
    "print(response)"
   ]
  },
  {
   "cell_type": "code",
   "execution_count": null,
   "metadata": {},
   "outputs": [],
   "source": []
  }
 ],
 "metadata": {
  "kernelspec": {
   "display_name": "Python 3",
   "language": "python",
   "name": "python3"
  },
  "language_info": {
   "codemirror_mode": {
    "name": "ipython",
    "version": 3
   },
   "file_extension": ".py",
   "mimetype": "text/x-python",
   "name": "python",
   "nbconvert_exporter": "python",
   "pygments_lexer": "ipython3",
   "version": "3.7.6"
  }
 },
 "nbformat": 4,
 "nbformat_minor": 4
}
