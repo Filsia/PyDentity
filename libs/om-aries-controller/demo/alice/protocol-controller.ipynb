{
 "cells": [
  {
   "cell_type": "markdown",
   "metadata": {},
   "source": [
    "# Protocol Controller Example\n",
    "\n",
    "This notebook tests the capablity to extend the basic controller to control a custom protocol developed in an aries agent."
   ]
  },
  {
   "cell_type": "code",
   "execution_count": 1,
   "metadata": {},
   "outputs": [
    {
     "name": "stdout",
     "output_type": "stream",
     "text": [
      "IPython autoawait is `on`, and set to use `asyncio`\n"
     ]
    }
   ],
   "source": [
    "%autoawait\n",
    "import time\n",
    "import asyncio"
   ]
  },
  {
   "cell_type": "code",
   "execution_count": 2,
   "metadata": {},
   "outputs": [],
   "source": [
    "from aries_basic_controller.aries_controller import AriesAgentController\n",
    "    \n",
    "WEBHOOK_HOST = \"0.0.0.0\"\n",
    "WEBHOOK_PORT = 8022\n",
    "WEBHOOK_BASE = \"\"\n",
    "ADMIN_URL = \"http://alice-agent:8021\"\n",
    "\n",
    "# Based on the aca-py agent you wish to control\n",
    "agent_controller = AriesAgentController(webhook_host=WEBHOOK_HOST, webhook_port=WEBHOOK_PORT,\n",
    "                                       webhook_base=WEBHOOK_BASE, admin_url=ADMIN_URL)"
   ]
  },
  {
   "cell_type": "code",
   "execution_count": 3,
   "metadata": {},
   "outputs": [],
   "source": [
    "def messages_handler(payload):\n",
    "    connection_id = payload[\"connection_id\"]\n",
    "    print(\"Handle message\", payload, connection_id)\n",
    "\n",
    "\n",
    "message_listener = {\n",
    "    \"handler\": messages_handler,\n",
    "    \"topic\": \"basicmessages\"\n",
    "}\n",
    "\n",
    "loop = asyncio.get_event_loop()\n",
    "loop.create_task(agent_controller.listen_webhooks())\n",
    "\n",
    "agent_controller.register_listeners([message_listener], defaults=True)"
   ]
  },
  {
   "cell_type": "code",
   "execution_count": 7,
   "metadata": {},
   "outputs": [
    {
     "name": "stdout",
     "output_type": "stream",
     "text": [
      "Results :  [{'connection_id': '772b3e0a-2b54-47af-800d-8e7361d812e7', 'accept': 'manual', 'invitation_key': '3H9XTSoUo1H7mRMhHw2ZbPpNEt1ho68zLMcM3VdzZ7gT', 'initiator': 'external', 'their_label': 'Bob', 'state': 'request', 'created_at': '2020-07-10 14:21:25.497668Z', 'updated_at': '2020-07-10 14:21:25.512921Z', 'invitation_mode': 'once', 'request_id': '31f0d677-3985-498f-aded-80f0ff9d5649', 'my_did': '9HEe6Z9PHZcbuyhWDyre7s', 'routing_state': 'none'}]\n",
      "Connection : {'connection_id': '772b3e0a-2b54-47af-800d-8e7361d812e7', 'accept': 'manual', 'invitation_key': '3H9XTSoUo1H7mRMhHw2ZbPpNEt1ho68zLMcM3VdzZ7gT', 'initiator': 'external', 'their_label': 'Bob', 'state': 'request', 'created_at': '2020-07-10 14:21:25.497668Z', 'updated_at': '2020-07-10 14:21:25.512921Z', 'invitation_mode': 'once', 'request_id': '31f0d677-3985-498f-aded-80f0ff9d5649', 'my_did': '9HEe6Z9PHZcbuyhWDyre7s', 'routing_state': 'none'}\n",
      "Connection is still progressing to active state, retry in a few moments\n"
     ]
    }
   ],
   "source": [
    "response = await agent_controller.connections.get_connections()\n",
    "results = response['results']\n",
    "print(\"Results : \", results)\n",
    "if len(results) > 0:\n",
    "    connection = response['results'][0]\n",
    "    print(\"Connection :\", connection)\n",
    "    if connection['state'] == 'active':       \n",
    "        connection_id = connection[\"connection_id\"]\n",
    "        print(\"Active Connection ID : \", connection_id)\n",
    "    else:\n",
    "        print(\"Connection is still progressing to active state, retry in a few moments\")\n",
    "else:\n",
    "    print(\"You must create a connection\")\n",
    "    "
   ]
  },
  {
   "cell_type": "code",
   "execution_count": null,
   "metadata": {},
   "outputs": [],
   "source": []
  }
 ],
 "metadata": {
  "kernelspec": {
   "display_name": "Python 3",
   "language": "python",
   "name": "python3"
  },
  "language_info": {
   "codemirror_mode": {
    "name": "ipython",
    "version": 3
   },
   "file_extension": ".py",
   "mimetype": "text/x-python",
   "name": "python",
   "nbconvert_exporter": "python",
   "pygments_lexer": "ipython3",
   "version": "3.7.6"
  }
 },
 "nbformat": 4,
 "nbformat_minor": 4
}
