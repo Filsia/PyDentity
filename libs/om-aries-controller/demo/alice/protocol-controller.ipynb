{
 "cells": [
  {
   "cell_type": "markdown",
   "metadata": {},
   "source": [
    "# Protocol Controller Example\n",
    "\n",
    "This notebook tests the capablity to extend the basic controller to control a custom protocol developed in an aries agent. Che"
   ]
  },
  {
   "cell_type": "code",
   "execution_count": 1,
   "metadata": {},
   "outputs": [
    {
     "name": "stdout",
     "output_type": "stream",
     "text": [
      "IPython autoawait is `on`, and set to use `asyncio`\n"
     ]
    }
   ],
   "source": [
    "%autoawait\n",
    "import time\n",
    "import asyncio"
   ]
  },
  {
   "cell_type": "code",
   "execution_count": 2,
   "metadata": {},
   "outputs": [],
   "source": [
    "from om_aries_controller.om_aries_controller import OMAriesController\n",
    "    \n",
    "WEBHOOK_HOST = \"0.0.0.0\"\n",
    "WEBHOOK_PORT = 8022\n",
    "WEBHOOK_BASE = \"\"\n",
    "ADMIN_URL = \"http://alice-agent:8021\"\n",
    "\n",
    "# Based on the aca-py agent you wish to control\n",
    "om_controller = OMAriesController(webhook_host=WEBHOOK_HOST, webhook_port=WEBHOOK_PORT,\n",
    "                                       webhook_base=WEBHOOK_BASE, admin_url=ADMIN_URL)"
   ]
  },
  {
   "cell_type": "code",
   "execution_count": 4,
   "metadata": {},
   "outputs": [
    {
     "name": "stdout",
     "output_type": "stream",
     "text": [
      "Results :  [{'routing_state': 'none', 'accept': 'manual', 'invitation_key': 'AvFBfD8n2hkPuLed7GSAdmqAa5Li4ajuuci2WrGfHpxR', 'created_at': '2020-07-17 11:07:14.889671Z', 'state': 'active', 'connection_id': '1256050d-45ea-474a-8ab6-0927fcdc9e51', 'request_id': '37e26999-96ff-465e-8277-d4b2e26a8da7', 'their_did': 'Lqf8mpCRiA6ksjFHWuYWVq', 'my_did': 'JzTmnfEgR54H2AqChyH2kk', 'their_label': 'Bob', 'invitation_mode': 'once', 'updated_at': '2020-07-17 11:07:27.035444Z', 'initiator': 'external'}]\n",
      "Connection : {'routing_state': 'none', 'accept': 'manual', 'invitation_key': 'AvFBfD8n2hkPuLed7GSAdmqAa5Li4ajuuci2WrGfHpxR', 'created_at': '2020-07-17 11:07:14.889671Z', 'state': 'active', 'connection_id': '1256050d-45ea-474a-8ab6-0927fcdc9e51', 'request_id': '37e26999-96ff-465e-8277-d4b2e26a8da7', 'their_did': 'Lqf8mpCRiA6ksjFHWuYWVq', 'my_did': 'JzTmnfEgR54H2AqChyH2kk', 'their_label': 'Bob', 'invitation_mode': 'once', 'updated_at': '2020-07-17 11:07:27.035444Z', 'initiator': 'external'}\n",
      "Active Connection ID :  1256050d-45ea-474a-8ab6-0927fcdc9e51\n"
     ]
    }
   ],
   "source": [
    "response = await om_controller.connections.get_connections()\n",
    "results = response['results']\n",
    "print(\"Results : \", results)\n",
    "if len(results) > 0:\n",
    "    connection = response['results'][0]\n",
    "    print(\"Connection :\", connection)\n",
    "    if connection['state'] == 'active':       \n",
    "        connection_id = connection[\"connection_id\"]\n",
    "        print(\"Active Connection ID : \", connection_id)\n",
    "    else:\n",
    "        print(\"Connection is still progressing to active state, retry in a few moments\")\n",
    "else:\n",
    "    print(\"You must create a connection\")\n",
    "    "
   ]
  },
  {
   "cell_type": "code",
   "execution_count": 6,
   "metadata": {},
   "outputs": [
    {
     "name": "stdout",
     "output_type": "stream",
     "text": [
      "{'thread_id': '299e6767-da04-49b0-90b1-1e4371f14e74'}\n"
     ]
    }
   ],
   "source": [
    "response = await om_controller.protocol.test_protocol(connection_id, True, \"Hey this is a test\")\n",
    "print(response)"
   ]
  },
  {
   "cell_type": "code",
   "execution_count": null,
   "metadata": {},
   "outputs": [],
   "source": []
  }
 ],
 "metadata": {
  "kernelspec": {
   "display_name": "Python 3",
   "language": "python",
   "name": "python3"
  },
  "language_info": {
   "codemirror_mode": {
    "name": "ipython",
    "version": 3
   },
   "file_extension": ".py",
   "mimetype": "text/x-python",
   "name": "python",
   "nbconvert_exporter": "python",
   "pygments_lexer": "ipython3",
   "version": "3.7.6"
  }
 },
 "nbformat": 4,
 "nbformat_minor": 4
}
