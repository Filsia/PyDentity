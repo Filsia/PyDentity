{
 "cells": [
  {
   "cell_type": "markdown",
   "metadata": {},
   "source": [
    "# Attachment Protocol Example - Alice\n",
    "\n",
    "This notebook tests the capablity to extend the basic controller to control a custom protocol developed in an aries agent. This protocol allows you to attach a file to a message.\n",
    "Run this along side [Attachment Protocol Bob](http://localhost:8889/notebooks/attachment.ipynb)"
   ]
  },
  {
   "cell_type": "code",
   "execution_count": 34,
   "metadata": {},
   "outputs": [
    {
     "name": "stdout",
     "output_type": "stream",
     "text": [
      "IPython autoawait is `on`, and set to use `asyncio`\n"
     ]
    }
   ],
   "source": [
    "%autoawait\n",
    "import time\n",
    "import asyncio"
   ]
  },
  {
   "cell_type": "markdown",
   "metadata": {},
   "source": [
    "####  Intialise a controller "
   ]
  },
  {
   "cell_type": "code",
   "execution_count": 35,
   "metadata": {},
   "outputs": [],
   "source": [
    "from om_aries_controller.om_aries_controller import OMAriesController\n",
    "    \n",
    "WEBHOOK_HOST = \"0.0.0.0\"\n",
    "WEBHOOK_PORT = 8030\n",
    "WEBHOOK_BASE = \"\"\n",
    "ADMIN_URL = \"http://alice-agent:8021\"\n",
    "\n",
    "# Based on the aca-py agent you wish to control\n",
    "om_controller = OMAriesController(webhook_host=WEBHOOK_HOST, webhook_port=WEBHOOK_PORT,\n",
    "                                       webhook_base=WEBHOOK_BASE, admin_url=ADMIN_URL)"
   ]
  },
  {
   "cell_type": "markdown",
   "metadata": {},
   "source": [
    "\n",
    "\n",
    "\n",
    "### Confirm that an active connection exists"
   ]
  },
  {
   "cell_type": "code",
   "execution_count": 37,
   "metadata": {},
   "outputs": [
    {
     "name": "stdout",
     "output_type": "stream",
     "text": [
      "Results :  [{'request_id': '2817d6be-68f4-4237-8a84-780bb6305758', 'routing_state': 'none', 'invitation_mode': 'once', 'initiator': 'external', 'updated_at': '2020-09-18 11:03:44.718412Z', 'invitation_key': 'EJv5a7NDdMZJ196SdmTpZtEt7VnmiFUvkpEVfdc4wnLu', 'created_at': '2020-09-18 11:03:23.938360Z', 'state': 'active', 'connection_id': 'ea905ec6-dbd0-44bb-a639-4c23d101a7a1', 'their_did': '5j6W5xo2aPPzXKKinSQc5E', 'accept': 'manual', 'their_label': 'Bob', 'my_did': 'MmdMDrUhYfHnF2yxH4Bfyb'}]\n",
      "Connection : {'request_id': '2817d6be-68f4-4237-8a84-780bb6305758', 'routing_state': 'none', 'invitation_mode': 'once', 'initiator': 'external', 'updated_at': '2020-09-18 11:03:44.718412Z', 'invitation_key': 'EJv5a7NDdMZJ196SdmTpZtEt7VnmiFUvkpEVfdc4wnLu', 'created_at': '2020-09-18 11:03:23.938360Z', 'state': 'active', 'connection_id': 'ea905ec6-dbd0-44bb-a639-4c23d101a7a1', 'their_did': '5j6W5xo2aPPzXKKinSQc5E', 'accept': 'manual', 'their_label': 'Bob', 'my_did': 'MmdMDrUhYfHnF2yxH4Bfyb'}\n",
      "Active Connection ID :  ea905ec6-dbd0-44bb-a639-4c23d101a7a1\n"
     ]
    }
   ],
   "source": [
    "response = await om_controller.connections.get_connections()\n",
    "results = response['results']\n",
    "print(\"Results : \", results)\n",
    "if len(results) > 0:\n",
    "    connection = response['results'][0]\n",
    "    print(\"Connection :\", connection)\n",
    "    if connection['state'] == 'active':       \n",
    "        connection_id = connection[\"connection_id\"]\n",
    "        print(\"Active Connection ID : \", connection_id)\n",
    "    else:\n",
    "        print(\"Connection is still progressing to active state, retry in a few moments\")\n",
    "else:\n",
    "    print(\"You must create a connection\")\n",
    "    "
   ]
  },
  {
   "cell_type": "markdown",
   "metadata": {},
   "source": [
    "### Instantiate Listener for the Attachment topic"
   ]
  },
  {
   "cell_type": "markdown",
   "metadata": {},
   "source": [
    "This is emitted using PyPubSub when the controller receives a atatchment webhook from the agent. This happens everytime the agent receives an attachment."
   ]
  },
  {
   "cell_type": "code",
   "execution_count": 38,
   "metadata": {},
   "outputs": [],
   "source": [
    "\n",
    "def attach_handler(payload):\n",
    "    connection_id = payload['connection_id']\n",
    "    print(\"Handle Attachment\", payload, connection_id)\n",
    "\n",
    "attach_listener = {\n",
    "    \"handler\": attach_handler,\n",
    "    \"topic\": \"attachment\"\n",
    "}\n",
    "loop = asyncio.get_event_loop()\n",
    "loop.create_task(om_controller.listen_webhooks())\n",
    "om_controller.register_listeners([attach_listener], defaults=True)"
   ]
  },
  {
   "cell_type": "markdown",
   "metadata": {},
   "source": [
    "### Send an attachment over DIDcomm to Bob"
   ]
  },
  {
   "cell_type": "markdown",
   "metadata": {},
   "source": [
    "In this instance a text file is sent, this will be received and saved by the handler in the [Bob notebook](http://localhost:8889/notebooks/attachment.ipynb)."
   ]
  },
  {
   "cell_type": "code",
   "execution_count": 24,
   "metadata": {},
   "outputs": [
    {
     "name": "stdout",
     "output_type": "stream",
     "text": [
      "Attachment- Alice-> Bob\n",
      "{'thread_id': '7365cd04-9804-4c17-8e24-033831c2a97a'}\n"
     ]
    }
   ],
   "source": [
    "from aiohttp import FormData\n",
    "data = FormData()\n",
    "data.add_field('file',\n",
    "               open('test_file.txt', 'rb'),\n",
    "               filename='test_file.txt',\n",
    "               content_type='text/plain')\n",
    "response = await om_controller.protocol.send_attachment(connection_id, data)\n",
    "print('Attachment- Alice-> Bob')\n",
    "print(response)\n"
   ]
  },
  {
   "cell_type": "code",
   "execution_count": 21,
   "metadata": {},
   "outputs": [
    {
     "name": "stdout",
     "output_type": "stream",
     "text": [
      "Requirement already satisfied: Pillow in /opt/conda/lib/python3.7/site-packages (7.2.0)\n",
      "Note: you may need to restart the kernel to use updated packages.\n"
     ]
    }
   ],
   "source": [
    "\n",
    "pip install Pillow\n"
   ]
  },
  {
   "cell_type": "code",
   "execution_count": 39,
   "metadata": {},
   "outputs": [
    {
     "name": "stdout",
     "output_type": "stream",
     "text": [
      "Attachment- Alice-> Bob\n",
      "{'thread_id': '945e26e0-357d-494a-aedb-5113cbdfefb3'}\n"
     ]
    }
   ],
   "source": [
    "import base64\n",
    "from aiohttp import FormData\n",
    "with open(\"openmined.jpg\", \"rb\") as imageFile:\n",
    "    str = base64.b64encode(imageFile.read())\n",
    "data = str.decode(\"utf-8\")\n",
    "f = open(\"image.txt\", \"w\")\n",
    "f.write(data)\n",
    "data = FormData()\n",
    "data.add_field('file',\n",
    "               open('image.txt', 'rb'),\n",
    "               filename='image.txt',\n",
    "               content_type='text/plain')\n",
    "response = await om_controller.protocol.send_attachment(connection_id, data)\n",
    "print('Attachment- Alice-> Bob')\n",
    "print(response)"
   ]
  },
  {
   "cell_type": "markdown",
   "metadata": {},
   "source": [
    "\n",
    "# End of Tutorial\n",
    "\n",
    "Be sure to terminate the controller so you can run another tutorial"
   ]
  },
  {
   "cell_type": "code",
   "execution_count": 8,
   "metadata": {},
   "outputs": [
    {
     "name": "stdout",
     "output_type": "stream",
     "text": [
      "None\n"
     ]
    }
   ],
   "source": [
    "response = await om_controller.terminate()\n",
    "print(response)\n"
   ]
  },
  {
   "cell_type": "code",
   "execution_count": null,
   "metadata": {},
   "outputs": [],
   "source": []
  }
 ],
 "metadata": {
  "kernelspec": {
   "display_name": "Python 3",
   "language": "python",
   "name": "python3"
  },
  "language_info": {
   "codemirror_mode": {
    "name": "ipython",
    "version": 3
   },
   "file_extension": ".py",
   "mimetype": "text/x-python",
   "name": "python",
   "nbconvert_exporter": "python",
   "pygments_lexer": "ipython3",
   "version": "3.7.6"
  },
  "pycharm": {
   "stem_cell": {
    "cell_type": "raw",
    "metadata": {
     "collapsed": false
    },
    "source": []
   }
  }
 },
 "nbformat": 4,
 "nbformat_minor": 4
}
