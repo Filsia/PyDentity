{
 "cells": [
  {
   "cell_type": "markdown",
   "metadata": {},
   "source": [
    "# Protocol Controller Example\n",
    "\n",
    "This notebook tests the capablity to extend the basic controller to control a custom protocol developed in an aries agent. Che"
   ]
  },
  {
   "cell_type": "code",
   "execution_count": 1,
   "metadata": {},
   "outputs": [
    {
     "name": "stdout",
     "output_type": "stream",
     "text": [
      "IPython autoawait is `on`, and set to use `asyncio`\n"
     ]
    }
   ],
   "source": [
    "%autoawait\n",
    "import time\n",
    "import asyncio"
   ]
  },
  {
   "cell_type": "code",
   "execution_count": 2,
   "metadata": {},
   "outputs": [],
   "source": [
    "from om_aries_controller.om_aries_controller import OMAriesController\n",
    "    \n",
    "WEBHOOK_HOST = \"0.0.0.0\"\n",
    "WEBHOOK_PORT = 8022\n",
    "WEBHOOK_BASE = \"\"\n",
    "ADMIN_URL = \"http://alice-agent:8021\"\n",
    "\n",
    "# Based on the aca-py agent you wish to control\n",
    "om_controller = OMAriesController(webhook_host=WEBHOOK_HOST, webhook_port=WEBHOOK_PORT,\n",
    "                                       webhook_base=WEBHOOK_BASE, admin_url=ADMIN_URL)"
   ]
  },
  {
   "cell_type": "code",
   "execution_count": 3,
   "metadata": {},
   "outputs": [
    {
     "name": "stdout",
     "output_type": "stream",
     "text": [
      "Results :  [{'updated_at': '2020-09-10 07:03:30.662999Z', 'initiator': 'external', 'created_at': '2020-09-10 07:03:15.939601Z', 'accept': 'manual', 'request_id': '2f3f9a7d-4341-44b7-9bb9-6de9a9656303', 'invitation_key': '5a6zsXxQkrnrFpZhnZ6phfZMqWmbM9GMTntwcfmUQNAM', 'their_label': 'Bob', 'state': 'active', 'connection_id': '472d471b-da3b-4f71-9b94-7bcb8397c71a', 'my_did': 'QzoMbdwg9Ppt8BBr3LT81y', 'their_did': 'DKucuEdKa4HC156LpgqLNo', 'invitation_mode': 'once', 'routing_state': 'none'}]\n",
      "Connection : {'updated_at': '2020-09-10 07:03:30.662999Z', 'initiator': 'external', 'created_at': '2020-09-10 07:03:15.939601Z', 'accept': 'manual', 'request_id': '2f3f9a7d-4341-44b7-9bb9-6de9a9656303', 'invitation_key': '5a6zsXxQkrnrFpZhnZ6phfZMqWmbM9GMTntwcfmUQNAM', 'their_label': 'Bob', 'state': 'active', 'connection_id': '472d471b-da3b-4f71-9b94-7bcb8397c71a', 'my_did': 'QzoMbdwg9Ppt8BBr3LT81y', 'their_did': 'DKucuEdKa4HC156LpgqLNo', 'invitation_mode': 'once', 'routing_state': 'none'}\n",
      "Active Connection ID :  472d471b-da3b-4f71-9b94-7bcb8397c71a\n"
     ]
    }
   ],
   "source": [
    "response = await om_controller.connections.get_connections()\n",
    "results = response['results']\n",
    "print(\"Results : \", results)\n",
    "if len(results) > 0:\n",
    "    connection = response['results'][0]\n",
    "    print(\"Connection :\", connection)\n",
    "    if connection['state'] == 'active':       \n",
    "        connection_id = connection[\"connection_id\"]\n",
    "        print(\"Active Connection ID : \", connection_id)\n",
    "    else:\n",
    "        print(\"Connection is still progressing to active state, retry in a few moments\")\n",
    "else:\n",
    "    print(\"You must create a connection\")\n",
    "    "
   ]
  },
  {
   "cell_type": "code",
   "execution_count": 4,
   "metadata": {},
   "outputs": [],
   "source": [
    "\n",
    "def attach_handler(payload):\n",
    "    connection_id = payload['connection_id']\n",
    "    print(\"Handle Attachment\", payload, connection_id)\n",
    "\n",
    "message_listener = {\n",
    "    \"handler\": attach_handler,\n",
    "    \"topic\": \"attachment\"\n",
    "}\n",
    "loop = asyncio.get_event_loop()\n",
    "loop.create_task(om_controller.listen_webhooks())\n",
    "om_controller.register_listeners([message_listener], defaults=True)"
   ]
  },
  {
   "cell_type": "code",
   "execution_count": 5,
   "metadata": {},
   "outputs": [],
   "source": [
    "from aiohttp import FormData\n"
   ]
  },
  {
   "cell_type": "code",
   "execution_count": 6,
   "metadata": {},
   "outputs": [],
   "source": [
    "data = FormData()\n",
    "data.add_field('file',\n",
    "               open('test_file.txt', 'rb'),\n",
    "               filename='test_file.txt',\n",
    "               content_type='text/plain')"
   ]
  },
  {
   "cell_type": "code",
   "execution_count": 7,
   "metadata": {},
   "outputs": [
    {
     "name": "stdout",
     "output_type": "stream",
     "text": [
      "Attachment- Alice-> Bob\n",
      "{'thread_id': 'abc64ece-8677-4117-a3c5-8addc244a5ba'}\n"
     ]
    }
   ],
   "source": [
    "response = await om_controller.protocol.send_attachment(connection_id, data)\n",
    "print('Attachment- Alice-> Bob')\n",
    "print(response)\n"
   ]
  },
  {
   "cell_type": "code",
   "execution_count": null,
   "metadata": {},
   "outputs": [],
   "source": []
  },
  {
   "cell_type": "code",
   "execution_count": null,
   "metadata": {},
   "outputs": [],
   "source": []
  },
  {
   "cell_type": "code",
   "execution_count": 8,
   "metadata": {},
   "outputs": [
    {
     "name": "stdout",
     "output_type": "stream",
     "text": [
      "None\n"
     ]
    }
   ],
   "source": [
    "response = await om_controller.terminate()\n",
    "print(response)\n"
   ]
  },
  {
   "cell_type": "code",
   "execution_count": null,
   "metadata": {},
   "outputs": [],
   "source": []
  }
 ],
 "metadata": {
  "kernelspec": {
   "display_name": "Python 3",
   "language": "python",
   "name": "python3"
  },
  "language_info": {
   "codemirror_mode": {
    "name": "ipython",
    "version": 3
   },
   "file_extension": ".py",
   "mimetype": "text/x-python",
   "name": "python",
   "nbconvert_exporter": "python",
   "pygments_lexer": "ipython3",
   "version": "3.7.6"
  },
  "pycharm": {
   "stem_cell": {
    "cell_type": "raw",
    "metadata": {
     "collapsed": false
    },
    "source": []
   }
  }
 },
 "nbformat": 4,
 "nbformat_minor": 4
}
