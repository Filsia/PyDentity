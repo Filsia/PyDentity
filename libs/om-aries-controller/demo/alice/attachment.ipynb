{
 "cells": [
  {
   "cell_type": "markdown",
   "metadata": {},
   "source": [
    "# Attachment Protocol Example - Alice\n",
    "\n",
    "This notebook tests the capablity to extend the basic controller to control a custom protocol developed in an aries agent. This protocol allows you to attach a file to a message.\n",
    "Run this along side [Attachment Protocol Bob](http://localhost:8889/notebooks/attachment.ipynb)"
   ]
  },
  {
   "cell_type": "code",
   "execution_count": 1,
   "metadata": {},
   "outputs": [
    {
     "name": "stdout",
     "output_type": "stream",
     "text": [
      "IPython autoawait is `on`, and set to use `asyncio`\n"
     ]
    }
   ],
   "source": [
    "%autoawait\n",
    "import time\n",
    "import asyncio"
   ]
  },
  {
   "cell_type": "markdown",
   "metadata": {},
   "source": [
    "### Intialise a controller "
   ]
  },
  {
   "cell_type": "code",
   "execution_count": 2,
   "metadata": {},
   "outputs": [],
   "source": [
    "from attachment_controller.attachment_controller import AttachmentController\n",
    "    \n",
    "WEBHOOK_HOST = \"0.0.0.0\"\n",
    "WEBHOOK_PORT = 8028\n",
    "WEBHOOK_BASE = \"\"\n",
    "ADMIN_URL = \"http://alice-agent:8021\"\n",
    "\n",
    "# Based on the aca-py agent you wish to control\n",
    "attach_controller = AttachmentController(webhook_host=WEBHOOK_HOST, webhook_port=WEBHOOK_PORT,\n",
    "                                       webhook_base=WEBHOOK_BASE, admin_url=ADMIN_URL)"
   ]
  },
  {
   "cell_type": "markdown",
   "metadata": {},
   "source": [
    "\n",
    "\n",
    "\n",
    "### Confirm that an active connection exists"
   ]
  },
  {
   "cell_type": "code",
   "execution_count": 3,
   "metadata": {},
   "outputs": [
    {
     "name": "stdout",
     "output_type": "stream",
     "text": [
      "Results :  [{'state': 'active', 'their_did': 'RgB2v726a7DzHWXfP9HXvD', 'initiator': 'external', 'routing_state': 'none', 'request_id': '1a095e43-8019-4d84-a59c-154abd4ccdb8', 'updated_at': '2020-09-20 14:01:49.946821Z', 'created_at': '2020-09-20 14:01:29.478241Z', 'connection_id': '80143a84-9fcb-4dfe-ac9e-aaf6f83df216', 'accept': 'manual', 'invitation_key': 'Ar7dsDPiQn58zhiKmwdwM1RfmQ5UHDkbHiKckd3GoSw', 'invitation_mode': 'once', 'their_label': 'Bob', 'my_did': 'MpprthBV8krDWReVcefM8t'}]\n",
      "Connection : {'state': 'active', 'their_did': 'RgB2v726a7DzHWXfP9HXvD', 'initiator': 'external', 'routing_state': 'none', 'request_id': '1a095e43-8019-4d84-a59c-154abd4ccdb8', 'updated_at': '2020-09-20 14:01:49.946821Z', 'created_at': '2020-09-20 14:01:29.478241Z', 'connection_id': '80143a84-9fcb-4dfe-ac9e-aaf6f83df216', 'accept': 'manual', 'invitation_key': 'Ar7dsDPiQn58zhiKmwdwM1RfmQ5UHDkbHiKckd3GoSw', 'invitation_mode': 'once', 'their_label': 'Bob', 'my_did': 'MpprthBV8krDWReVcefM8t'}\n",
      "Active Connection ID :  80143a84-9fcb-4dfe-ac9e-aaf6f83df216\n"
     ]
    }
   ],
   "source": [
    "response = await attach_controller.connections.get_connections()\n",
    "results = response['results']\n",
    "print(\"Results : \", results)\n",
    "if len(results) > 0:\n",
    "    connection = response['results'][0]\n",
    "    print(\"Connection :\", connection)\n",
    "    if connection['state'] == 'active':       \n",
    "        connection_id = connection[\"connection_id\"]\n",
    "        print(\"Active Connection ID : \", connection_id)\n",
    "    else:\n",
    "        print(\"Connection is still progressing to active state, retry in a few moments\")\n",
    "else:\n",
    "    print(\"You must create a connection\")\n",
    "    "
   ]
  },
  {
   "cell_type": "markdown",
   "metadata": {},
   "source": [
    "### Instantiate Listener for the Attachment topic"
   ]
  },
  {
   "cell_type": "markdown",
   "metadata": {},
   "source": [
    "This is emitted using PyPubSub when the controller receives a atatchment webhook from the agent. This happens everytime the agent receives an attachment."
   ]
  },
  {
   "cell_type": "code",
   "execution_count": 4,
   "metadata": {},
   "outputs": [],
   "source": [
    "\n",
    "def attach_handler(payload):\n",
    "    connection_id = payload['connection_id']\n",
    "    print(\"Handle Attachment\", payload, connection_id)\n",
    "\n",
    "attach_listener = {\n",
    "    \"handler\": attach_handler,\n",
    "    \"topic\": \"attachment\"\n",
    "}\n",
    "loop = asyncio.get_event_loop()\n",
    "loop.create_task(attach_controller.listen_webhooks())\n",
    "attach_controller.register_listeners([attach_listener], defaults=True)"
   ]
  },
  {
   "cell_type": "markdown",
   "metadata": {},
   "source": [
    "### Send an attachment over DIDcomm to Bob"
   ]
  },
  {
   "cell_type": "markdown",
   "metadata": {},
   "source": [
    "In this instance a text file is sent, this will be received and saved by the handler in the [Bob notebook](http://localhost:8889/notebooks/attachment.ipynb)."
   ]
  },
  {
   "cell_type": "code",
   "execution_count": 5,
   "metadata": {},
   "outputs": [
    {
     "name": "stdout",
     "output_type": "stream",
     "text": [
      "Attachment- Alice-> Bob\n",
      "{'thread_id': '7ff38303-2106-4556-a489-3c8f44aa932e'}\n"
     ]
    }
   ],
   "source": [
    "from aiohttp import FormData\n",
    "data = FormData()\n",
    "data.add_field('file',\n",
    "               open('test_file.txt', 'rb'),\n",
    "               filename='test_file.txt',\n",
    "               content_type='text/plain')\n",
    "response = await attach_controller.protocol.send_attachment(connection_id, data)\n",
    "print('Attachment- Alice-> Bob')\n",
    "print(response)\n"
   ]
  },
  {
   "cell_type": "markdown",
   "metadata": {},
   "source": [
    "Here an image file is sent and is received by the handler in [Bob notebook](http://localhost:8889/notebooks/attachment.ipynb)."
   ]
  },
  {
   "cell_type": "code",
   "execution_count": 6,
   "metadata": {},
   "outputs": [
    {
     "name": "stdout",
     "output_type": "stream",
     "text": [
      "Attachment- Alice-> Bob\n",
      "{'thread_id': '7a065c05-f90f-4b32-95b5-bb90d52c3a96'}\n"
     ]
    }
   ],
   "source": [
    "import base64\n",
    "from aiohttp import FormData\n",
    "\n",
    "data = FormData()\n",
    "data.add_field('file',\n",
    "               open('openmined.jpg', 'rb'),\n",
    "               filename='openmined.jpg',\n",
    "               content_type='image/jpeg')\n",
    "response = await attach_controller.protocol.send_attachment(connection_id, data)\n",
    "print('Attachment- Alice-> Bob')\n",
    "print(response)"
   ]
  },
  {
   "cell_type": "markdown",
   "metadata": {},
   "source": [
    "\n",
    "# End of Tutorial\n",
    "\n",
    "Be sure to terminate the controller so you can run another tutorial"
   ]
  },
  {
   "cell_type": "code",
   "execution_count": 8,
   "metadata": {},
   "outputs": [
    {
     "name": "stdout",
     "output_type": "stream",
     "text": [
      "None\n"
     ]
    }
   ],
   "source": [
    "response = await attach_controller.terminate()\n",
    "print(response)\n"
   ]
  },
  {
   "cell_type": "code",
   "execution_count": null,
   "metadata": {},
   "outputs": [],
   "source": []
  }
 ],
 "metadata": {
  "kernelspec": {
   "display_name": "Python 3",
   "language": "python",
   "name": "python3"
  },
  "language_info": {
   "codemirror_mode": {
    "name": "ipython",
    "version": 3
   },
   "file_extension": ".py",
   "mimetype": "text/x-python",
   "name": "python",
   "nbconvert_exporter": "python",
   "pygments_lexer": "ipython3",
   "version": "3.7.6"
  },
  "pycharm": {
   "stem_cell": {
    "cell_type": "raw",
    "metadata": {
     "collapsed": false
    },
    "source": []
   }
  }
 },
 "nbformat": 4,
 "nbformat_minor": 4
}
