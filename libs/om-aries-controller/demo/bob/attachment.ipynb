{
 "cells": [
  {
   "cell_type": "code",
   "execution_count": 1,
   "metadata": {},
   "outputs": [
    {
     "name": "stdout",
     "output_type": "stream",
     "text": [
      "IPython autoawait is `on`, and set to use `asyncio`\n"
     ]
    }
   ],
   "source": [
    "%autoawait\n",
    "import time\n",
    "import asyncio\n",
    "import base64"
   ]
  },
  {
   "cell_type": "code",
   "execution_count": 2,
   "metadata": {},
   "outputs": [],
   "source": [
    "from om_aries_controller.om_aries_controller import OMAriesController\n",
    "    \n",
    "WEBHOOK_HOST = \"0.0.0.0\"\n",
    "WEBHOOK_PORT = 8052\n",
    "WEBHOOK_BASE = \"\"\n",
    "ADMIN_URL = \"http://bob-agent:8051\"\n",
    "\n",
    "# Based on the aca-py agent you wish to control\n",
    "om_controller = OMAriesController(webhook_host=WEBHOOK_HOST, webhook_port=WEBHOOK_PORT,\n",
    "                                       webhook_base=WEBHOOK_BASE, admin_url=ADMIN_URL)"
   ]
  },
  {
   "cell_type": "code",
   "execution_count": 3,
   "metadata": {},
   "outputs": [
    {
     "name": "stdout",
     "output_type": "stream",
     "text": [
      "Results :  [{'initiator': 'self', 'routing_state': 'none', 'invitation_key': '5a6zsXxQkrnrFpZhnZ6phfZMqWmbM9GMTntwcfmUQNAM', 'updated_at': '2020-09-10 07:03:30.846826Z', 'my_did': 'DKucuEdKa4HC156LpgqLNo', 'created_at': '2020-09-10 07:03:14.919425Z', 'their_did': 'QzoMbdwg9Ppt8BBr3LT81y', 'their_label': 'Alice', 'accept': 'manual', 'state': 'active', 'connection_id': '049d9971-582d-4b8c-9ef5-12b1dc7ae2d6', 'invitation_mode': 'once'}]\n",
      "Connection : {'initiator': 'self', 'routing_state': 'none', 'invitation_key': '5a6zsXxQkrnrFpZhnZ6phfZMqWmbM9GMTntwcfmUQNAM', 'updated_at': '2020-09-10 07:03:30.846826Z', 'my_did': 'DKucuEdKa4HC156LpgqLNo', 'created_at': '2020-09-10 07:03:14.919425Z', 'their_did': 'QzoMbdwg9Ppt8BBr3LT81y', 'their_label': 'Alice', 'accept': 'manual', 'state': 'active', 'connection_id': '049d9971-582d-4b8c-9ef5-12b1dc7ae2d6', 'invitation_mode': 'once'}\n",
      "Active Connection ID :  049d9971-582d-4b8c-9ef5-12b1dc7ae2d6\n"
     ]
    }
   ],
   "source": [
    "response = await om_controller.connections.get_connections()\n",
    "results = response['results']\n",
    "print(\"Results : \", results)\n",
    "if len(results) > 0:\n",
    "    connection = response['results'][0]\n",
    "    print(\"Connection :\", connection)\n",
    "    if connection['state'] == 'active':       \n",
    "        connection_id = connection[\"connection_id\"]\n",
    "        print(\"Active Connection ID : \", connection_id)\n",
    "    else:\n",
    "        print(\"Connection is still progressing to active state, retry in a few moments\")\n",
    "else:\n",
    "    print(\"You must create a connection\")\n"
   ]
  },
  {
   "cell_type": "code",
   "execution_count": 4,
   "metadata": {},
   "outputs": [
    {
     "name": "stdout",
     "output_type": "stream",
     "text": [
      "Handle Attachment {'connection_id': '049d9971-582d-4b8c-9ef5-12b1dc7ae2d6', 'message_id': 'abc64ece-8677-4117-a3c5-8addc244a5ba', 'attachment_message': 'Here is the data you wanted', 'content': 'VGhpcyBpcyBhIHRlc3QgZmlsZSB0byBhdHRhY2gu', 'filename': 'test_file.txt', 'state': 'received'} 049d9971-582d-4b8c-9ef5-12b1dc7ae2d6\n",
      "Attachment Received\n"
     ]
    }
   ],
   "source": [
    "\n",
    "def attach_handler(payload):\n",
    "    connection_id = payload['connection_id']\n",
    "    print(\"Handle Attachment\", payload, connection_id)\n",
    "    print(\"Attachment Received\")\n",
    "    data = payload['content']\n",
    "    base64_bytes = data.encode('ascii')\n",
    "    text = base64.b64decode(base64_bytes)\n",
    "    message = text.decode('ascii')\n",
    "    f = open(\"test.txt\",\"w+\")\n",
    "    f.write(message)\n",
    "    f.close()\n",
    "    \n",
    "#     data = payload['content'] \n",
    "#     asyncio.get_event_loop().create_task(om_controller.messaging.send_message(connection_id, \" Received!\"))\n",
    "message_listener = {\n",
    "    \"handler\": attach_handler,\n",
    "    \"topic\": \"attachment\"\n",
    "}\n",
    "loop = asyncio.get_event_loop()\n",
    "loop.create_task(om_controller.listen_webhooks())\n",
    "om_controller.register_listeners([message_listener], defaults=True)\n"
   ]
  },
  {
   "cell_type": "code",
   "execution_count": null,
   "metadata": {},
   "outputs": [],
   "source": []
  },
  {
   "cell_type": "code",
   "execution_count": 6,
   "metadata": {},
   "outputs": [
    {
     "ename": "TypeError",
     "evalue": "send_attachment() missing 1 required positional argument: 'data'",
     "output_type": "error",
     "traceback": [
      "\u001b[0;31m---------------------------------------------------------------------------\u001b[0m",
      "\u001b[0;31mTypeError\u001b[0m                                 Traceback (most recent call last)",
      "\u001b[0;32m<ipython-input-6-317d299f236e>\u001b[0m in \u001b[0;36masync-def-wrapper\u001b[0;34m()\u001b[0m\n\u001b[1;32m      2\u001b[0m \u001b[0;34m\u001b[0m\u001b[0m\n\u001b[1;32m      3\u001b[0m \u001b[0mprint\u001b[0m\u001b[0;34m(\u001b[0m\u001b[0mresponse\u001b[0m\u001b[0;34m)\u001b[0m\u001b[0;34m\u001b[0m\u001b[0;34m\u001b[0m\u001b[0m\n",
      "\u001b[0;31mTypeError\u001b[0m: send_attachment() missing 1 required positional argument: 'data'"
     ]
    }
   ],
   "source": [
    "response = await om_controller.protocol.send_attachment(connection_id,data)\n",
    "\n",
    "print(response)"
   ]
  },
  {
   "cell_type": "code",
   "execution_count": null,
   "metadata": {},
   "outputs": [],
   "source": []
  },
  {
   "cell_type": "code",
   "execution_count": 7,
   "metadata": {},
   "outputs": [
    {
     "name": "stdout",
     "output_type": "stream",
     "text": [
      "None\n"
     ]
    }
   ],
   "source": [
    "response = await om_controller.terminate()\n",
    "print(response)\n"
   ]
  },
  {
   "cell_type": "code",
   "execution_count": null,
   "metadata": {},
   "outputs": [],
   "source": []
  },
  {
   "cell_type": "code",
   "execution_count": null,
   "metadata": {},
   "outputs": [],
   "source": []
  }
 ],
 "metadata": {
  "kernelspec": {
   "display_name": "Python 3",
   "language": "python",
   "name": "python3"
  },
  "language_info": {
   "codemirror_mode": {
    "name": "ipython",
    "version": 3
   },
   "file_extension": ".py",
   "mimetype": "text/x-python",
   "name": "python",
   "nbconvert_exporter": "python",
   "pygments_lexer": "ipython3",
   "version": "3.7.6"
  }
 },
 "nbformat": 4,
 "nbformat_minor": 4
}
