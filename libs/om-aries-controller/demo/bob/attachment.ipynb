{
 "cells": [
  {
   "cell_type": "code",
   "execution_count": 1,
   "metadata": {},
   "outputs": [
    {
     "name": "stdout",
     "output_type": "stream",
     "text": [
      "IPython autoawait is `on`, and set to use `asyncio`\n"
     ]
    }
   ],
   "source": [
    "%autoawait\n",
    "import time\n",
    "import asyncio\n",
    "import base64"
   ]
  },
  {
   "cell_type": "code",
   "execution_count": 2,
   "metadata": {},
   "outputs": [],
   "source": [
    "from om_aries_controller.om_aries_controller import OMAriesController\n",
    "    \n",
    "WEBHOOK_HOST = \"0.0.0.0\"\n",
    "WEBHOOK_PORT = 8052\n",
    "WEBHOOK_BASE = \"\"\n",
    "ADMIN_URL = \"http://bob-agent:8051\"\n",
    "\n",
    "# Based on the aca-py agent you wish to control\n",
    "om_controller = OMAriesController(webhook_host=WEBHOOK_HOST, webhook_port=WEBHOOK_PORT,\n",
    "                                       webhook_base=WEBHOOK_BASE, admin_url=ADMIN_URL)"
   ]
  },
  {
   "cell_type": "code",
   "execution_count": 3,
   "metadata": {},
   "outputs": [
    {
     "name": "stdout",
     "output_type": "stream",
     "text": [
      "Results :  [{'invitation_mode': 'once', 'invitation_key': '27mkkudkjHrZQ56QCM9XvLsjjoTVJJgt2ymGuRYwUrYd', 'my_did': 'WuBEbhuAkrRjUPXvxMRyTc', 'routing_state': 'none', 'state': 'active', 'their_label': 'Alice', 'updated_at': '2020-09-10 05:17:08.852843Z', 'accept': 'manual', 'connection_id': '8a5213fb-f170-4cc8-896a-765d9b90457e', 'initiator': 'self', 'their_did': 'GXGsuZJxFiSExKwFfbNKgg', 'created_at': '2020-09-10 05:16:44.823775Z'}]\n",
      "Connection : {'invitation_mode': 'once', 'invitation_key': '27mkkudkjHrZQ56QCM9XvLsjjoTVJJgt2ymGuRYwUrYd', 'my_did': 'WuBEbhuAkrRjUPXvxMRyTc', 'routing_state': 'none', 'state': 'active', 'their_label': 'Alice', 'updated_at': '2020-09-10 05:17:08.852843Z', 'accept': 'manual', 'connection_id': '8a5213fb-f170-4cc8-896a-765d9b90457e', 'initiator': 'self', 'their_did': 'GXGsuZJxFiSExKwFfbNKgg', 'created_at': '2020-09-10 05:16:44.823775Z'}\n",
      "Active Connection ID :  8a5213fb-f170-4cc8-896a-765d9b90457e\n"
     ]
    }
   ],
   "source": [
    "response = await om_controller.connections.get_connections()\n",
    "results = response['results']\n",
    "print(\"Results : \", results)\n",
    "if len(results) > 0:\n",
    "    connection = response['results'][0]\n",
    "    print(\"Connection :\", connection)\n",
    "    if connection['state'] == 'active':       \n",
    "        connection_id = connection[\"connection_id\"]\n",
    "        print(\"Active Connection ID : \", connection_id)\n",
    "    else:\n",
    "        print(\"Connection is still progressing to active state, retry in a few moments\")\n",
    "else:\n",
    "    print(\"You must create a connection\")\n"
   ]
  },
  {
   "cell_type": "code",
   "execution_count": 4,
   "metadata": {},
   "outputs": [
    {
     "name": "stdout",
     "output_type": "stream",
     "text": [
      "Handle Attachment {'connection_id': '8a5213fb-f170-4cc8-896a-765d9b90457e', 'message_id': 'cb18a36a-d941-4135-8085-efa9d4dd4082', 'attachment_message': 'Here is the data you wanted', 'content': 'VGhpcyBpcyBhIHRlc3QgZmlsZSB0byBhdHRhY2gu', 'filename': 'test_file.txt', 'state': 'received'} 8a5213fb-f170-4cc8-896a-765d9b90457e\n"
     ]
    }
   ],
   "source": [
    "\n",
    "def attach_handler(payload):\n",
    "    connection_id = payload['connection_id']\n",
    "    print(\"Handle Attachment\", payload, connection_id)\n",
    "    print(\"Attachment Received\")\n",
    "    data = payload['content']\n",
    "    with open(\"test.txt\",\"w+\") as f\n",
    "    text = base64.b64decode(data)\n",
    "    f.write(data)\n",
    "#     data = payload['content'] \n",
    "#     asyncio.get_event_loop().create_task(om_controller.messaging.send_message(connection_id, \" Received!\"))\n",
    "message_listener = {\n",
    "    \"handler\": attach_handler,\n",
    "    \"topic\": \"attachment\"\n",
    "}\n",
    "loop = asyncio.get_event_loop()\n",
    "loop.create_task(om_controller.listen_webhooks())\n",
    "om_controller.register_listeners([message_listener], defaults=True)\n"
   ]
  },
  {
   "cell_type": "code",
   "execution_count": null,
   "metadata": {},
   "outputs": [],
   "source": []
  },
  {
   "cell_type": "code",
   "execution_count": null,
   "metadata": {},
   "outputs": [],
   "source": []
  },
  {
   "cell_type": "code",
   "execution_count": 10,
   "metadata": {},
   "outputs": [
    {
     "ename": "NameError",
     "evalue": "name 'data' is not defined",
     "output_type": "error",
     "traceback": [
      "\u001b[0;31m---------------------------------------------------------------------------\u001b[0m",
      "\u001b[0;31mNameError\u001b[0m                                 Traceback (most recent call last)",
      "\u001b[0;32m<ipython-input-10-17ebe2c868f9>\u001b[0m in \u001b[0;36masync-def-wrapper\u001b[0;34m()\u001b[0m\n\u001b[1;32m      2\u001b[0m \u001b[0;34m\u001b[0m\u001b[0m\n\u001b[1;32m      3\u001b[0m \u001b[0mprint\u001b[0m\u001b[0;34m(\u001b[0m\u001b[0mresponse\u001b[0m\u001b[0;34m)\u001b[0m\u001b[0;34m\u001b[0m\u001b[0;34m\u001b[0m\u001b[0m\n",
      "\u001b[0;31mNameError\u001b[0m: name 'data' is not defined"
     ]
    }
   ],
   "source": [
    "response = await om_controller.protocol.send_attachment(connection_id, data)\n",
    "\n",
    "print(response)"
   ]
  },
  {
   "cell_type": "code",
   "execution_count": null,
   "metadata": {},
   "outputs": [],
   "source": []
  },
  {
   "cell_type": "code",
   "execution_count": 13,
   "metadata": {},
   "outputs": [
    {
     "name": "stdout",
     "output_type": "stream",
     "text": [
      "None\n"
     ]
    },
    {
     "name": "stderr",
     "output_type": "stream",
     "text": [
      "ERROR:asyncio:Task exception was never retrieved\n",
      "future: <Task finished coro=<MessagingController.send_message() done, defined at /aries-basic-controller/aries_basic_controller/messaging_controller.py:16> exception=RuntimeError('Session is closed')>\n",
      "Traceback (most recent call last):\n",
      "  File \"/aries-basic-controller/aries_basic_controller/messaging_controller.py\", line 18, in send_message\n",
      "    \"content\": msg,\n",
      "  File \"/aries-basic-controller/aries_basic_controller/base_controller.py\", line 96, in admin_POST\n",
      "    response = await self.admin_request(\"POST\", path, json_data, text, params, data)\n",
      "  File \"/aries-basic-controller/aries_basic_controller/base_controller.py\", line 61, in admin_request\n",
      "    method, self.admin_url + path, json=json_data, params=params, data=data\n",
      "  File \"/opt/conda/lib/python3.7/site-packages/aiohttp/client.py\", line 1012, in __aenter__\n",
      "    self._resp = await self._coro\n",
      "  File \"/opt/conda/lib/python3.7/site-packages/aiohttp/client.py\", line 357, in _request\n",
      "    raise RuntimeError('Session is closed')\n",
      "RuntimeError: Session is closed\n"
     ]
    },
    {
     "name": "stdout",
     "output_type": "stream",
     "text": [
      "Handle Attachment {'connection_id': 'eda8c739-430f-4c55-8aeb-ee9d0101a2f0', 'message_id': 'bfba1e2c-5f93-4228-bee0-bee1b9af2347', 'attachment_message': 'Here is the data you wanted', 'content': 'VGhpcyBpcyBhIHRlc3QgZmlsZSB0byBhdHRhY2gu', 'filename': 'test_file.txt', 'state': 'received'} eda8c739-430f-4c55-8aeb-ee9d0101a2f0\n"
     ]
    }
   ],
   "source": [
    "response = await om_controller.terminate()\n",
    "print(response)\n"
   ]
  },
  {
   "cell_type": "code",
   "execution_count": null,
   "metadata": {},
   "outputs": [],
   "source": []
  },
  {
   "cell_type": "code",
   "execution_count": null,
   "metadata": {},
   "outputs": [],
   "source": []
  }
 ],
 "metadata": {
  "kernelspec": {
   "display_name": "Python 3",
   "language": "python",
   "name": "python3"
  },
  "language_info": {
   "codemirror_mode": {
    "name": "ipython",
    "version": 3
   },
   "file_extension": ".py",
   "mimetype": "text/x-python",
   "name": "python",
   "nbconvert_exporter": "python",
   "pygments_lexer": "ipython3",
   "version": "3.7.6"
  }
 },
 "nbformat": 4,
 "nbformat_minor": 4
}
