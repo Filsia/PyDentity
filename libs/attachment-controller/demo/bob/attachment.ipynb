{
 "cells": [
  {
   "cell_type": "markdown",
   "metadata": {},
   "source": [
    "# Attachment Protocol Example -Bob\n"
   ]
  },
  {
   "cell_type": "code",
   "execution_count": 21,
   "metadata": {},
   "outputs": [
    {
     "name": "stdout",
     "output_type": "stream",
     "text": [
      "IPython autoawait is `on`, and set to use `asyncio`\n"
     ]
    }
   ],
   "source": [
    "%autoawait\n",
    "import time\n",
    "import asyncio\n",
    "import base64"
   ]
  },
  {
   "cell_type": "markdown",
   "metadata": {},
   "source": [
    "###  Intialise Controller"
   ]
  },
  {
   "cell_type": "code",
   "execution_count": 22,
   "metadata": {},
   "outputs": [],
   "source": [
    "from attachment_controller.attachment_controller import AttachmentController\n",
    "    \n",
    "WEBHOOK_HOST = \"0.0.0.0\"\n",
    "WEBHOOK_PORT = 8052\n",
    "WEBHOOK_BASE = \"\"\n",
    "ADMIN_URL = \"http://bob-agent:8051\"\n",
    "\n",
    "# Based on the aca-py agent you wish to control\n",
    "attach_controller = AttachmentController(webhook_host=WEBHOOK_HOST, webhook_port=WEBHOOK_PORT,\n",
    "                                       webhook_base=WEBHOOK_BASE, admin_url=ADMIN_URL)"
   ]
  },
  {
   "cell_type": "markdown",
   "metadata": {},
   "source": [
    "###  Check if active connection exists"
   ]
  },
  {
   "cell_type": "code",
   "execution_count": 23,
   "metadata": {},
   "outputs": [
    {
     "name": "stdout",
     "output_type": "stream",
     "text": [
      "Results :  [{'their_label': 'Alice', 'invitation_key': 'HAmnhn9ytFXjBMu927DFRjgStMJ7D33vRhHdkhzWi9Fe', 'routing_state': 'none', 'created_at': '2020-09-20 17:18:55.245042Z', 'their_did': '18mLaPQ24aZYcwtihn3hN', 'updated_at': '2020-09-20 17:28:26.243420Z', 'connection_id': '65401d5d-70e2-4d61-81fc-2e11c1bd3800', 'accept': 'manual', 'my_did': 'U6csGxrgMJYGUx2wBK6vWM', 'initiator': 'self', 'state': 'active', 'invitation_mode': 'once'}]\n",
      "Connection : {'their_label': 'Alice', 'invitation_key': 'HAmnhn9ytFXjBMu927DFRjgStMJ7D33vRhHdkhzWi9Fe', 'routing_state': 'none', 'created_at': '2020-09-20 17:18:55.245042Z', 'their_did': '18mLaPQ24aZYcwtihn3hN', 'updated_at': '2020-09-20 17:28:26.243420Z', 'connection_id': '65401d5d-70e2-4d61-81fc-2e11c1bd3800', 'accept': 'manual', 'my_did': 'U6csGxrgMJYGUx2wBK6vWM', 'initiator': 'self', 'state': 'active', 'invitation_mode': 'once'}\n",
      "Active Connection ID :  65401d5d-70e2-4d61-81fc-2e11c1bd3800\n"
     ]
    }
   ],
   "source": [
    "response = await attach_controller.connections.get_connections()\n",
    "results = response['results']\n",
    "print(\"Results : \", results)\n",
    "if len(results) > 0:\n",
    "    connection = response['results'][0]\n",
    "    print(\"Connection :\", connection)\n",
    "    if connection['state'] == 'active':       \n",
    "        connection_id = connection[\"connection_id\"]\n",
    "        print(\"Active Connection ID : \", connection_id)\n",
    "    else:\n",
    "        print(\"Connection is still progressing to active state, retry in a few moments\")\n",
    "else:\n",
    "    print(\"You must create a connection\")\n"
   ]
  },
  {
   "cell_type": "markdown",
   "metadata": {},
   "source": [
    "### Instantiate Listener"
   ]
  },
  {
   "cell_type": "markdown",
   "metadata": {},
   "source": [
    "This is emitted using PyPubSub when the controller receives a atatchment webhook from the agent. This happens everytime the agent receives an attachment.\n",
    "\n",
    "In this instance the handler decodes the sent attachment and stores it. "
   ]
  },
  {
   "cell_type": "code",
   "execution_count": 19,
   "metadata": {},
   "outputs": [],
   "source": [
    "\n",
    "def attach_handler(payload):\n",
    "    connection_id = payload['connection_id']\n",
    "    print(\"Handle Attachment\", payload, connection_id)\n",
    "    print(\"Attachment Received\")\n",
    "    data = payload['content']\n",
    "    filename = payload['filename']\n",
    "    base64_bytes = data.encode('ascii')\n",
    "    text = base64.b64decode(base64_bytes)\n",
    "    file_content = text.decode('ascii')\n",
    "    filepath = f\"received_files/{filename}\"\n",
    "    f = open(filepath,\"w+\")\n",
    "    f.write(file_content)\n",
    "    f.close()\n",
    "    \n",
    "#     data = payload['content'] \n",
    "#     asyncio.get_event_loop().create_task(om_controller.messaging.send_message(connection_id, \" Received!\"))\n",
    "attach_listener = {\n",
    "    \"handler\": attach_handler,\n",
    "    \"topic\": \"attachment\"\n",
    "}\n",
    "loop = asyncio.get_event_loop()\n",
    "loop.create_task(attach_controller.listen_webhooks())\n",
    "attach_controller.register_listeners([attach_listener], defaults=True)\n"
   ]
  },
  {
   "cell_type": "markdown",
   "metadata": {},
   "source": [
    "In this instance the handler decodes the sent image and stores it in the received_files folder. "
   ]
  },
  {
   "cell_type": "code",
   "execution_count": 24,
   "metadata": {},
   "outputs": [
    {
     "name": "stdout",
     "output_type": "stream",
     "text": [
      "Handle Attachment {'connection_id': '65401d5d-70e2-4d61-81fc-2e11c1bd3800', 'message_id': '37734586-2029-404b-b08c-7698818a1908', 'attachment_message': 'Here is the data you wanted', 'content': 'VGhpcyBpcyBhIHRlc3QgZmlsZSB0byBhdHRhY2gu', 'filename': 'test_file.txt', 'state': 'received'} 65401d5d-70e2-4d61-81fc-2e11c1bd3800\n",
      "Attachment Received\n"
     ]
    }
   ],
   "source": [
    "\n",
    "def attach_handler(payload):\n",
    "    connection_id = payload['connection_id']\n",
    "    print(\"Handle Attachment\", payload, connection_id)\n",
    "    print(\"Attachment Received\")\n",
    "    data = payload['content']\n",
    "    filename = payload['filename']\n",
    "    file_content = base64.b64decode(data)\n",
    "#     fh = open(\"image_received.png\", \"wb\")\n",
    "#     fh.write(text)\n",
    "#     fh.close()\n",
    "    filepath = f\"received_files/{filename}\"\n",
    "    f = open(filepath,'wb')\n",
    "    f.write(file_content)\n",
    "    f.close()\n",
    "attach_listener = {\n",
    "    \"handler\": attach_handler,\n",
    "    \"topic\": \"attachment\"\n",
    "}\n",
    "loop = asyncio.get_event_loop()\n",
    "loop.create_task(attach_controller.listen_webhooks())\n",
    "attach_controller.register_listeners([attach_listener], defaults=True)"
   ]
  },
  {
   "cell_type": "code",
   "execution_count": 62,
   "metadata": {},
   "outputs": [
    {
     "ename": "NameError",
     "evalue": "name 'data' is not defined",
     "output_type": "error",
     "traceback": [
      "\u001b[0;31m---------------------------------------------------------------------------\u001b[0m",
      "\u001b[0;31mNameError\u001b[0m                                 Traceback (most recent call last)",
      "\u001b[0;32m<ipython-input-62-cac1940357bb>\u001b[0m in \u001b[0;36masync-def-wrapper\u001b[0;34m()\u001b[0m\n\u001b[1;32m      2\u001b[0m \u001b[0;34m\u001b[0m\u001b[0m\n\u001b[1;32m      3\u001b[0m \u001b[0mprint\u001b[0m\u001b[0;34m(\u001b[0m\u001b[0mresponse\u001b[0m\u001b[0;34m)\u001b[0m\u001b[0;34m\u001b[0m\u001b[0;34m\u001b[0m\u001b[0m\n",
      "\u001b[0;31mNameError\u001b[0m: name 'data' is not defined"
     ]
    }
   ],
   "source": [
    "response = await attach_controller.protocol.send_attachment(connection_id,data)\n",
    "\n",
    "print(response)\n"
   ]
  },
  {
   "cell_type": "markdown",
   "metadata": {},
   "source": [
    "\n",
    "# End of Tutorial\n",
    "\n",
    "Be sure to terminate the controller so you can run another tutorial.\n"
   ]
  },
  {
   "cell_type": "code",
   "execution_count": 20,
   "metadata": {},
   "outputs": [
    {
     "name": "stdout",
     "output_type": "stream",
     "text": [
      "None\n"
     ]
    }
   ],
   "source": [
    "response = await attach_controller.terminate()\n",
    "print(response)\n"
   ]
  },
  {
   "cell_type": "code",
   "execution_count": null,
   "metadata": {},
   "outputs": [],
   "source": []
  },
  {
   "cell_type": "code",
   "execution_count": null,
   "metadata": {},
   "outputs": [],
   "source": []
  },
  {
   "cell_type": "code",
   "execution_count": null,
   "metadata": {},
   "outputs": [],
   "source": []
  }
 ],
 "metadata": {
  "kernelspec": {
   "display_name": "Python 3",
   "language": "python",
   "name": "python3"
  },
  "language_info": {
   "codemirror_mode": {
    "name": "ipython",
    "version": 3
   },
   "file_extension": ".py",
   "mimetype": "text/x-python",
   "name": "python",
   "nbconvert_exporter": "python",
   "pygments_lexer": "ipython3",
   "version": "3.7.6"
  }
 },
 "nbformat": 4,
 "nbformat_minor": 4
}
