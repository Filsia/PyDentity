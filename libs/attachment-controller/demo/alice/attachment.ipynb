{
 "cells": [
  {
   "cell_type": "markdown",
   "metadata": {},
   "source": [
    "# Attachment Protocol Example - Alice\n",
    "\n",
    "## Role: \n",
    "\n",
    "This notebook tests the capablity to extend the basic controller to control a custom protocol developed in an aries agent. This protocol allows you to attach a file to a message.\n",
    "Run this along side [Attachment Protocol Bob](http://localhost:8889/notebooks/attachment.ipynb)"
   ]
  },
  {
   "cell_type": "code",
   "execution_count": 1,
   "metadata": {},
   "outputs": [
    {
     "name": "stdout",
     "output_type": "stream",
     "text": [
      "IPython autoawait is `on`, and set to use `asyncio`\n"
     ]
    }
   ],
   "source": [
    "%autoawait\n",
    "import time\n",
    "import asyncio"
   ]
  },
  {
   "cell_type": "markdown",
   "metadata": {},
   "source": [
    "## Intialise a controller "
   ]
  },
  {
   "cell_type": "code",
   "execution_count": 2,
   "metadata": {},
   "outputs": [],
   "source": [
    "from attachment_controller.attachment_controller import AttachmentController\n",
    "    \n",
    "WEBHOOK_HOST = \"0.0.0.0\"\n",
    "WEBHOOK_PORT = 8022\n",
    "WEBHOOK_BASE = \"\"\n",
    "ADMIN_URL = \"http://alice-agent:8021\"\n",
    "\n",
    "# Based on the aca-py agent you wish to control\n",
    "attach_controller = AttachmentController(webhook_host=WEBHOOK_HOST, webhook_port=WEBHOOK_PORT,\n",
    "                                       webhook_base=WEBHOOK_BASE, admin_url=ADMIN_URL)"
   ]
  },
  {
   "cell_type": "markdown",
   "metadata": {},
   "source": [
    "## Confirm that an active connection exists\n",
    "\n",
    "This can fail sometimes, there are fallback steps described in Bob's notebook."
   ]
  },
  {
   "cell_type": "code",
   "execution_count": 12,
   "metadata": {},
   "outputs": [
    {
     "name": "stdout",
     "output_type": "stream",
     "text": [
      "Results :  [{'their_label': 'Bob', 'my_did': 'Q56UL3EQUhpZQTqc362TyS', 'invitation_key': '2tw9GTmUCoTpTBUH4tcb3X8qA7aUcFu2fhyygjg4n4XT', 'initiator': 'external', 'created_at': '2020-09-20 17:40:12.985136Z', 'invitation_mode': 'once', 'accept': 'manual', 'connection_id': '5fa381f3-85e5-4fb7-809f-3e9b1c652358', 'their_did': 'Sqcq1kjRiDH7uSqB2QJMyn', 'request_id': '3ef37337-25c8-491b-a65d-a80062d8b696', 'state': 'active', 'updated_at': '2020-09-20 17:44:06.812859Z', 'routing_state': 'none'}]\n",
      "Connection : {'their_label': 'Bob', 'my_did': 'Q56UL3EQUhpZQTqc362TyS', 'invitation_key': '2tw9GTmUCoTpTBUH4tcb3X8qA7aUcFu2fhyygjg4n4XT', 'initiator': 'external', 'created_at': '2020-09-20 17:40:12.985136Z', 'invitation_mode': 'once', 'accept': 'manual', 'connection_id': '5fa381f3-85e5-4fb7-809f-3e9b1c652358', 'their_did': 'Sqcq1kjRiDH7uSqB2QJMyn', 'request_id': '3ef37337-25c8-491b-a65d-a80062d8b696', 'state': 'active', 'updated_at': '2020-09-20 17:44:06.812859Z', 'routing_state': 'none'}\n",
      "Active Connection ID :  5fa381f3-85e5-4fb7-809f-3e9b1c652358\n"
     ]
    }
   ],
   "source": [
    "response = await attach_controller.connections.get_connections()\n",
    "results = response['results']\n",
    "print(\"Results : \", results)\n",
    "if len(results) > 0:\n",
    "    connection = response['results'][0]\n",
    "    print(\"Connection :\", connection)\n",
    "    if connection['state'] == 'active':   \n",
    "        global connection_id\n",
    "        connection_id = connection[\"connection_id\"]\n",
    "        print(\"Active Connection ID : \", connection_id)\n",
    "    else:\n",
    "        print(\"Connection is still progressing to active state, retry in a few moments\")\n",
    "else:\n",
    "    print(\"You must create a connection\")\n",
    "    "
   ]
  },
  {
   "cell_type": "code",
   "execution_count": 13,
   "metadata": {},
   "outputs": [
    {
     "name": "stdout",
     "output_type": "stream",
     "text": [
      "5fa381f3-85e5-4fb7-809f-3e9b1c652358\n"
     ]
    }
   ],
   "source": [
    "print(connection_id)"
   ]
  },
  {
   "cell_type": "markdown",
   "metadata": {},
   "source": [
    "### Note: We do not need to initialise any listeners for Alice. In this example she only sends attachments and does not receive them"
   ]
  },
  {
   "cell_type": "markdown",
   "metadata": {},
   "source": [
    "## Make sure you have initialised the handler on [Bob's notebook](http://localhost:8889/notebooks/attachment.ipynb)"
   ]
  },
  {
   "cell_type": "markdown",
   "metadata": {},
   "source": [
    "## Send an attachment over DIDcomm to Bob"
   ]
  },
  {
   "cell_type": "markdown",
   "metadata": {},
   "source": [
    "In this instance a text file is sent, this will be received and saved by the handler in the [Bob notebook](http://localhost:8889/notebooks/attachment.ipynb)."
   ]
  },
  {
   "cell_type": "code",
   "execution_count": 5,
   "metadata": {},
   "outputs": [
    {
     "name": "stdout",
     "output_type": "stream",
     "text": [
      "Attachment- Alice-> Bob\n",
      "{'thread_id': 'adc71765-2fa3-4027-af4a-e72797067c02'}\n"
     ]
    }
   ],
   "source": [
    "from aiohttp import FormData\n",
    "data = FormData()\n",
    "data.add_field('file',\n",
    "               open('test_file.txt', 'rb'),\n",
    "               filename='test_file.txt',\n",
    "               content_type='text/plain')\n",
    "response = await attach_controller.protocol.send_attachment(connection_id, data)\n",
    "print('Attachment- Alice-> Bob')\n",
    "print(response)\n"
   ]
  },
  {
   "cell_type": "markdown",
   "metadata": {},
   "source": [
    "Here an image file is sent and is received by the handler in [Bob notebook](http://localhost:8889/notebooks/attachment.ipynb)."
   ]
  },
  {
   "cell_type": "code",
   "execution_count": 15,
   "metadata": {},
   "outputs": [
    {
     "name": "stdout",
     "output_type": "stream",
     "text": [
      "Attachment- Alice-> Bob\n",
      "{'thread_id': '4b541001-77ea-49b2-85ef-7c7bf9f06ceb'}\n"
     ]
    }
   ],
   "source": [
    "data = FormData()\n",
    "data.add_field('file',\n",
    "               open('openmined.jpg', 'rb'),\n",
    "               filename='openmined.jpg',\n",
    "               content_type='image/jpeg')\n",
    "response = await attach_controller.protocol.send_attachment(connection_id, data)\n",
    "print('Attachment- Alice-> Bob')\n",
    "print(response)"
   ]
  },
  {
   "cell_type": "markdown",
   "metadata": {},
   "source": [
    "\n",
    "# End of Tutorial\n",
    "\n",
    "Be sure to terminate the controller so you can run another tutorial"
   ]
  },
  {
   "cell_type": "code",
   "execution_count": 8,
   "metadata": {},
   "outputs": [
    {
     "name": "stdout",
     "output_type": "stream",
     "text": [
      "None\n"
     ]
    }
   ],
   "source": [
    "response = await attach_controller.terminate()\n",
    "print(response)\n"
   ]
  },
  {
   "cell_type": "code",
   "execution_count": null,
   "metadata": {},
   "outputs": [],
   "source": []
  }
 ],
 "metadata": {
  "kernelspec": {
   "display_name": "Python 3",
   "language": "python",
   "name": "python3"
  },
  "language_info": {
   "codemirror_mode": {
    "name": "ipython",
    "version": 3
   },
   "file_extension": ".py",
   "mimetype": "text/x-python",
   "name": "python",
   "nbconvert_exporter": "python",
   "pygments_lexer": "ipython3",
   "version": "3.7.6"
  },
  "pycharm": {
   "stem_cell": {
    "cell_type": "raw",
    "metadata": {
     "collapsed": false
    },
    "source": []
   }
  }
 },
 "nbformat": 4,
 "nbformat_minor": 4
}
