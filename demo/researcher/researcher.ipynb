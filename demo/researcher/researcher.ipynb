{
 "cells": [
  {
   "cell_type": "code",
   "execution_count": 1,
   "metadata": {},
   "outputs": [],
   "source": [
    "from aries_basic_controller.aries_controller import AriesAgentController\n",
    "    \n",
    "WEBHOOK_HOST = \"0.0.0.0\"\n",
    "WEBHOOK_PORT = 8052\n",
    "WEBHOOK_BASE = \"/\"\n",
    "ADMIN_URL = \"http://researcher-agent:8051\""
   ]
  },
  {
   "cell_type": "code",
   "execution_count": 6,
   "metadata": {},
   "outputs": [],
   "source": [
    "# Based on the aca-py agent you wish to control\n",
    "agent_controller = AriesAgentController(webhook_host=WEBHOOK_HOST, webhook_port=WEBHOOK_PORT,\n",
    "                                           webhook_base=WEBHOOK_BASE, admin_url=ADMIN_URL, connections=True)"
   ]
  },
  {
   "cell_type": "code",
   "execution_count": 7,
   "metadata": {},
   "outputs": [],
   "source": [
    "# Spins up server to respond to any webhook events from the agent\n",
    "import asyncio\n",
    "asyncio.get_event_loop().run_until_complete(agent_controller.listen_webhooks())\n",
    "# await agent_controller.listen_webhooks()"
   ]
  },
  {
   "cell_type": "code",
   "execution_count": 8,
   "metadata": {},
   "outputs": [],
   "source": [
    "# Controllers re-emit webhooks as events through PyPubSub\n",
    "# Basic state management is handled through defaults but you can choose to pass in custom handlers\n",
    "custom_handler = []\n",
    "agent_controller.register_listeners(custom_handler, defaults=True)"
   ]
  },
  {
   "cell_type": "code",
   "execution_count": 9,
   "metadata": {},
   "outputs": [],
   "source": [
    "#Paste in invitation from data_owner agent\n",
    "invite = {'connection_id': 'ca5f3332-e5d9-42c4-bad0-db8edc637fb4', 'invitation': {'@type': 'did:sov:BzCbsNYhMrjHiqZDTUASHg;spec/connections/1.0/invitation', '@id': '7b485f18-2d8c-4d54-943a-016b623c33c0', 'recipientKeys': ['8b8rvN2SaxaSiCsgTh7qeU5c14y5QwEkDBCUtNDstStH'], 'label': 'Bob', 'serviceEndpoint': 'http://192.168.65.3:8020'}, 'invitation_url': 'http://192.168.65.3:8020?c_i=eyJAdHlwZSI6ICJkaWQ6c292OkJ6Q2JzTlloTXJqSGlxWkRUVUFTSGc7c3BlYy9jb25uZWN0aW9ucy8xLjAvaW52aXRhdGlvbiIsICJAaWQiOiAiN2I0ODVmMTgtMmQ4Yy00ZDU0LTk0M2EtMDE2YjYyM2MzM2MwIiwgInJlY2lwaWVudEtleXMiOiBbIjhiOHJ2TjJTYXhhU2lDc2dUaDdxZVU1YzE0eTVRd0VrREJDVXRORHN0U3RIIl0sICJsYWJlbCI6ICJCb2IiLCAic2VydmljZUVuZHBvaW50IjogImh0dHA6Ly8xOTIuMTY4LjY1LjM6ODAyMCJ9'}"
   ]
  },
  {
   "cell_type": "code",
   "execution_count": 10,
   "metadata": {},
   "outputs": [
    {
     "name": "stdout",
     "output_type": "stream",
     "text": [
      "ACCEPTED CONNECTION -  {'invitation_key': '8b8rvN2SaxaSiCsgTh7qeU5c14y5QwEkDBCUtNDstStH', 'their_label': 'Bob', 'state': 'request', 'initiator': 'external', 'request_id': '9eb467bb-dd71-467a-8e21-fffea970172a', 'routing_state': 'none', 'accept': 'manual', 'my_did': 'YLmMyavYq9rrZ9P6x6zDpF', 'invitation_mode': 'once', 'updated_at': '2020-06-24 13:28:47.682962Z', 'created_at': '2020-06-24 13:28:47.654059Z', 'connection_id': 'f51d599f-0d0f-4e48-83a4-7eed86a2ed37'}\n",
      "{'invitation_key': '8b8rvN2SaxaSiCsgTh7qeU5c14y5QwEkDBCUtNDstStH', 'their_label': 'Bob', 'state': 'request', 'initiator': 'external', 'request_id': '9eb467bb-dd71-467a-8e21-fffea970172a', 'routing_state': 'none', 'accept': 'manual', 'my_did': 'YLmMyavYq9rrZ9P6x6zDpF', 'invitation_mode': 'once', 'updated_at': '2020-06-24 13:28:47.682962Z', 'created_at': '2020-06-24 13:28:47.654059Z', 'connection_id': 'f51d599f-0d0f-4e48-83a4-7eed86a2ed37'}\n"
     ]
    }
   ],
   "source": [
    "# Receive Invitation\n",
    "response = await agent_controller.connections.accept_connection(invite[\"invitation\"])\n",
    "print(response)"
   ]
  },
  {
   "cell_type": "code",
   "execution_count": 16,
   "metadata": {},
   "outputs": [
    {
     "name": "stdout",
     "output_type": "stream",
     "text": [
      "Researcher ID 97838a70-6c54-4d50-a968-baf0f36de4cd\n",
      "Invite Accepted\n",
      "{'request_id': 'fb8ead9c-da32-4328-9a0e-541295078190', 'my_did': 'JmVHZsdrvdtMJjHE7WCi4q', 'routing_state': 'none', 'state': 'request', 'initiator': 'external', 'invitation_mode': 'once', 'accept': 'manual', 'connection_id': '97838a70-6c54-4d50-a968-baf0f36de4cd', 'created_at': '2020-06-23 14:13:43.720229Z', 'updated_at': '2020-06-23 14:13:43.877959Z', 'invitation_key': 'A74iU3TDpJc1P6f88osUnEFi8FzCMzbW9hvgYT6hDijs', 'their_label': 'Bob'}\n"
     ]
    }
   ],
   "source": [
    "# Print out accepted Invite and Researcher ID\n",
    "print(\"Researcher ID\", response[\"connection_id\"])\n",
    "researcher_id = response[\"connection_id\"]\n",
    "print(\"Invite Accepted\")\n",
    "print(response)"
   ]
  },
  {
   "cell_type": "code",
   "execution_count": null,
   "metadata": {},
   "outputs": [],
   "source": [
    "# Do a trust ping to ensure connection is accepted by data_owner\n",
    "trust_ping = await agent_controller.connections.trust_ping(researcher_id,\"hello\")\n",
    "print(\"TUST PING TO ACTIVATE CONNECTION - RESEARCH -> DATA\")\n",
    "print(trust_ping)\n",
    "\n",
    "print(\"RESEARCHER ID {} DATA ID {}\".format(researcher_id,data_connection_id))"
   ]
  },
  {
   "cell_type": "code",
   "execution_count": null,
   "metadata": {},
   "outputs": [],
   "source": [
    "# Print connection list\n",
    "connection = await agent_controller.connections.get_connection(researcher_id)\n",
    "print(\"RESEARCH AGENT CONNECTION\")\n",
    "print(connection)"
   ]
  },
  {
   "cell_type": "code",
   "execution_count": null,
   "metadata": {},
   "outputs": [],
   "source": [
    "#send some basic messages\n",
    "message = await agent_controller.connections.send_message(researcher_id,\"hello from researcher world!\")\n",
    "print(\"BASIC MESSAGE - RESEARCH -> DATA\")\n",
    "print(message)"
   ]
  }
 ],
 "metadata": {
  "kernelspec": {
   "display_name": "Python 3",
   "language": "python",
   "name": "python3"
  },
  "language_info": {
   "codemirror_mode": {
    "name": "ipython",
    "version": 3
   },
   "file_extension": ".py",
   "mimetype": "text/x-python",
   "name": "python",
   "nbconvert_exporter": "python",
   "pygments_lexer": "ipython3",
   "version": "3.7.6"
  }
 },
 "nbformat": 4,
 "nbformat_minor": 4
}
