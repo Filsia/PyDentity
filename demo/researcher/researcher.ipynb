{
 "cells": [
  {
   "cell_type": "code",
   "execution_count": 1,
   "metadata": {},
   "outputs": [
    {
     "name": "stdout",
     "output_type": "stream",
     "text": [
      "IPython autoawait is `on`, and set to use `asyncio`\n"
     ]
    }
   ],
   "source": [
    "%autoawait"
   ]
  },
  {
   "cell_type": "code",
   "execution_count": 2,
   "metadata": {},
   "outputs": [],
   "source": [
    "import time\n",
    "import asyncio"
   ]
  },
  {
   "cell_type": "code",
   "execution_count": 3,
   "metadata": {},
   "outputs": [],
   "source": [
    "from aries_basic_controller.aries_controller import AriesAgentController\n",
    "    \n",
    "WEBHOOK_HOST = \"0.0.0.0\"\n",
    "WEBHOOK_PORT = 8052\n",
    "WEBHOOK_BASE = \"\"\n",
    "ADMIN_URL = \"http://researcher-agent:8051\""
   ]
  },
  {
   "cell_type": "code",
   "execution_count": 4,
   "metadata": {},
   "outputs": [],
   "source": [
    "agent_controller = AriesAgentController(webhook_host=WEBHOOK_HOST, webhook_port=WEBHOOK_PORT,\n",
    "                                       webhook_base=WEBHOOK_BASE, admin_url=ADMIN_URL, connections=True)\n",
    "\n",
    "def research_messages_hook(payload):\n",
    "    connection_id = payload[\"connection_id\"]\n",
    "    print(\"Handle research messages \", payload, connection_id)\n",
    "\n",
    "research_message_listener = {\n",
    "    \"handler\": research_messages_hook,\n",
    "    \"topic\": \"basicmessages\"\n",
    "}\n",
    "\n"
   ]
  },
  {
   "cell_type": "code",
   "execution_count": 5,
   "metadata": {
    "scrolled": true
   },
   "outputs": [
    {
     "data": {
      "text/plain": [
       "<Task pending coro=<AriesAgentController.listen_webhooks() running at /opt/conda/lib/python3.7/site-packages/aries_basic_controller/aries_controller.py:42>>"
      ]
     },
     "execution_count": 5,
     "metadata": {},
     "output_type": "execute_result"
    }
   ],
   "source": [
    "loop = asyncio.get_event_loop()\n",
    "loop.create_task(agent_controller.listen_webhooks())"
   ]
  },
  {
   "cell_type": "code",
   "execution_count": 6,
   "metadata": {},
   "outputs": [],
   "source": [
    "agent_controller.register_listeners([research_message_listener], defaults=True)"
   ]
  },
  {
   "cell_type": "code",
   "execution_count": 7,
   "metadata": {},
   "outputs": [],
   "source": [
    "#Paste in invitation from data_owner agent\n",
    "invite = {'connection_id': '6ceb16b7-c95b-4f2f-9ee6-7f83232807e5', 'invitation': {'@type': 'did:sov:BzCbsNYhMrjHiqZDTUASHg;spec/connections/1.0/invitation', '@id': '815e1e53-37d0-4aa9-b2a3-4683b6f708f6', 'label': 'Bob', 'serviceEndpoint': 'http://172.17.0.1:8020', 'recipientKeys': ['2TMwBDhLQU6ef1x4AaFdL58b9PiRbukVBnYstakWuNUV']}, 'invitation_url': 'http://172.17.0.1:8020?c_i=eyJAdHlwZSI6ICJkaWQ6c292OkJ6Q2JzTlloTXJqSGlxWkRUVUFTSGc7c3BlYy9jb25uZWN0aW9ucy8xLjAvaW52aXRhdGlvbiIsICJAaWQiOiAiODE1ZTFlNTMtMzdkMC00YWE5LWIyYTMtNDY4M2I2ZjcwOGY2IiwgImxhYmVsIjogIkJvYiIsICJzZXJ2aWNlRW5kcG9pbnQiOiAiaHR0cDovLzE3Mi4xNy4wLjE6ODAyMCIsICJyZWNpcGllbnRLZXlzIjogWyIyVE13QkRoTFFVNmVmMXg0QWFGZEw1OGI5UGlSYnVrVkJuWXN0YWtXdU5VViJdfQ=='}\n",
    "\n"
   ]
  },
  {
   "cell_type": "code",
   "execution_count": 8,
   "metadata": {},
   "outputs": [
    {
     "name": "stdout",
     "output_type": "stream",
     "text": [
      "ACCEPTED CONNECTION -  {'updated_at': '2020-06-25 15:55:54.621110Z', 'created_at': '2020-06-25 15:55:54.601676Z', 'my_did': 'YZjeSRBv5WJSvwtqATeAUJ', 'their_label': 'Bob', 'invitation_key': '2TMwBDhLQU6ef1x4AaFdL58b9PiRbukVBnYstakWuNUV', 'routing_state': 'none', 'invitation_mode': 'once', 'accept': 'manual', 'connection_id': '1d63886a-85dc-48e1-89bd-3109bf665fe0', 'state': 'request', 'initiator': 'external', 'request_id': '1f21520e-adf7-4b21-a24a-e35058cbf6b0'}\n",
      "{'updated_at': '2020-06-25 15:55:54.621110Z', 'created_at': '2020-06-25 15:55:54.601676Z', 'my_did': 'YZjeSRBv5WJSvwtqATeAUJ', 'their_label': 'Bob', 'invitation_key': '2TMwBDhLQU6ef1x4AaFdL58b9PiRbukVBnYstakWuNUV', 'routing_state': 'none', 'invitation_mode': 'once', 'accept': 'manual', 'connection_id': '1d63886a-85dc-48e1-89bd-3109bf665fe0', 'state': 'request', 'initiator': 'external', 'request_id': '1f21520e-adf7-4b21-a24a-e35058cbf6b0'}\n",
      "Connection {'updated_at': '2020-06-25 15:55:54.621110Z', 'created_at': '2020-06-25 15:55:54.601676Z', 'my_did': 'YZjeSRBv5WJSvwtqATeAUJ', 'their_label': 'Bob', 'invitation_key': '2TMwBDhLQU6ef1x4AaFdL58b9PiRbukVBnYstakWuNUV', 'routing_state': 'none', 'invitation_mode': 'once', 'accept': 'manual', 'connection_id': '1d63886a-85dc-48e1-89bd-3109bf665fe0', 'state': 'request', 'initiator': 'external', 'request_id': '1f21520e-adf7-4b21-a24a-e35058cbf6b0'}\n"
     ]
    }
   ],
   "source": [
    "# Receive Invitation\n",
    "response = await agent_controller.connections.accept_connection(invite[\"invitation\"])\n",
    "print(response)\n",
    "# Print out accepted Invite and Researcher ID\n",
    "print(\"Connection\", response)\n",
    "researcher_id = response[\"connection_id\"]\n"
   ]
  },
  {
   "cell_type": "code",
   "execution_count": 9,
   "metadata": {},
   "outputs": [
    {
     "name": "stdout",
     "output_type": "stream",
     "text": [
      "TUST PING TO ACTIVATE CONNECTION - RESEARCH -> DATA\n",
      "{'thread_id': 'e4d378ee-2867-4e4a-b674-64c7b6f2a2d0'}\n"
     ]
    }
   ],
   "source": [
    "# Do a trust ping to ensure connection is accepted by data_owner\n",
    "trust_ping = await agent_controller.connections.trust_ping(researcher_id,\"hello\")\n",
    "print(\"TUST PING TO ACTIVATE CONNECTION - RESEARCH -> DATA\")\n",
    "print(trust_ping)   "
   ]
  },
  {
   "cell_type": "code",
   "execution_count": 10,
   "metadata": {},
   "outputs": [
    {
     "name": "stdout",
     "output_type": "stream",
     "text": [
      "RESEARCH AGENT CONNECTION\n",
      "{'updated_at': '2020-06-25 15:56:44.224945Z', 'created_at': '2020-06-25 15:55:54.601676Z', 'my_did': 'YZjeSRBv5WJSvwtqATeAUJ', 'their_label': 'Bob', 'invitation_key': '2TMwBDhLQU6ef1x4AaFdL58b9PiRbukVBnYstakWuNUV', 'routing_state': 'none', 'invitation_mode': 'once', 'accept': 'manual', 'their_did': 'CGpVrCGcbpPSmTX5WiPB9F', 'connection_id': '1d63886a-85dc-48e1-89bd-3109bf665fe0', 'state': 'active', 'initiator': 'external', 'request_id': '1f21520e-adf7-4b21-a24a-e35058cbf6b0'}\n"
     ]
    }
   ],
   "source": [
    "# Print connection list\n",
    "connection = await agent_controller.connections.get_connection(researcher_id)\n",
    "print(\"RESEARCH AGENT CONNECTION\")\n",
    "print(connection)"
   ]
  },
  {
   "cell_type": "code",
   "execution_count": 12,
   "metadata": {},
   "outputs": [
    {
     "name": "stdout",
     "output_type": "stream",
     "text": [
      "Handle research messages  {'connection_id': '1d63886a-85dc-48e1-89bd-3109bf665fe0', 'message_id': 'f48abbbd-5daa-419f-9b55-21b5264319e9', 'content': 'hello from data owner world! WOOPWOOP', 'state': 'received'} 1d63886a-85dc-48e1-89bd-3109bf665fe0\n",
      "Handle research messages  {'connection_id': '1d63886a-85dc-48e1-89bd-3109bf665fe0', 'message_id': '0fe8bab8-d0dc-4bbd-8b7f-31ddf84b4d83', 'content': 'THIS IS MY RESPONSE - DATA AGENT', 'state': 'received'} 1d63886a-85dc-48e1-89bd-3109bf665fe0\n",
      "BASIC MESSAGE - RESEARCH -> DATA\n",
      "{}\n"
     ]
    }
   ],
   "source": [
    "#send some basic messages\n",
    "message = await agent_controller.connections.send_message(researcher_id,\"hello from researcher world!\")\n",
    "print(\"BASIC MESSAGE - RESEARCH -> DATA\")\n",
    "print(message)"
   ]
  },
  {
   "cell_type": "code",
   "execution_count": null,
   "metadata": {},
   "outputs": [],
   "source": []
  }
 ],
 "metadata": {
  "kernelspec": {
   "display_name": "Python 3",
   "language": "python",
   "name": "python3"
  },
  "language_info": {
   "codemirror_mode": {
    "name": "ipython",
    "version": 3
   },
   "file_extension": ".py",
   "mimetype": "text/x-python",
   "name": "python",
   "nbconvert_exporter": "python",
   "pygments_lexer": "ipython3",
   "version": "3.7.6"
  },
  "pycharm": {
   "stem_cell": {
    "cell_type": "raw",
    "metadata": {
     "collapsed": false
    },
    "source": []
   }
  }
 },
 "nbformat": 4,
 "nbformat_minor": 4
}
