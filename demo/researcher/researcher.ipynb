{
 "cells": [
  {
   "cell_type": "markdown",
   "metadata": {},
   "source": [
    "# PyDentity Example - Researcher Side\n",
    "\n",
    "In this notebook we'll be responding to a connection from a remote data Owner through our Agents. This notebook has the following phases:\n",
    "\n",
    "<b>Begin at the Data Owner side</b>\n",
    "\n",
    "\n",
    "6. Pull in dependencies\n",
    "7. Instatiate the controller for our Agent\n",
    "8. Set up a data message listener running as a service on our controller\n",
    "9. Paste the invitation from the Data Owner notebook into the invitation variable here\n",
    "10. Accept the invitation\n",
    "\n",
    "<b>Carry on at the Data Owner side</b>\n",
    "    \n",
    "14. Send Trust Ping to the Data Owner\n",
    "\n",
    "<b>Carry on at the Data Owner side</b>\n",
    "\n",
    "\n",
    "You've established an end-end channel. Now begin Syft worker experimentation."
   ]
  },
  {
   "cell_type": "markdown",
   "metadata": {},
   "source": [
    "### 6. Pull in dependencies\n"
   ]
  },
  {
   "cell_type": "code",
   "execution_count": 1,
   "metadata": {
    "scrolled": true
   },
   "outputs": [
    {
     "name": "stdout",
     "output_type": "stream",
     "text": [
      "IPython autoawait is `on`, and set to use `asyncio`\n"
     ]
    }
   ],
   "source": [
    "%autoawait\n",
    "import time\n",
    "import asyncio"
   ]
  },
  {
   "cell_type": "markdown",
   "metadata": {},
   "source": [
    "### 7. Instatiate the controller for our Agent"
   ]
  },
  {
   "cell_type": "code",
   "execution_count": 2,
   "metadata": {},
   "outputs": [],
   "source": [
    "from aries_basic_controller.aries_controller import AriesAgentController\n",
    "    \n",
    "WEBHOOK_HOST = \"0.0.0.0\"\n",
    "WEBHOOK_PORT = 8052\n",
    "WEBHOOK_BASE = \"\"\n",
    "ADMIN_URL = \"http://researcher-agent:8051\"\n",
    "\n",
    "agent_controller = AriesAgentController(webhook_host=WEBHOOK_HOST, webhook_port=WEBHOOK_PORT,\n",
    "                                       webhook_base=WEBHOOK_BASE, admin_url=ADMIN_URL, connections=True)"
   ]
  },
  {
   "cell_type": "markdown",
   "metadata": {},
   "source": [
    "### 8. Set up a data message listener running as a service on our controller"
   ]
  },
  {
   "cell_type": "code",
   "execution_count": 3,
   "metadata": {},
   "outputs": [],
   "source": [
    "def research_messages_handler(payload):\n",
    "    connection_id = payload[\"connection_id\"]\n",
    "    print(\"Handle research messages \", payload, connection_id)\n",
    "\n",
    "research_message_listener = {\n",
    "    \"handler\": research_messages_handler,\n",
    "    \"topic\": \"basicmessages\"\n",
    "}\n",
    "\n",
    "loop = asyncio.get_event_loop()\n",
    "loop.create_task(agent_controller.listen_webhooks())\n",
    "\n",
    "agent_controller.register_listeners([research_message_listener], defaults=True)"
   ]
  },
  {
   "cell_type": "markdown",
   "metadata": {},
   "source": [
    "### 9. Paste the invitation from the Data Owner notebook into the invitation variable here;"
   ]
  },
  {
   "cell_type": "code",
   "execution_count": 4,
   "metadata": {},
   "outputs": [],
   "source": [
    "#Paste in invitation from data_owner agent\n",
    "invite = {'connection_id': 'b3431f7a-7a26-4425-88fa-742780a7b09d', 'invitation': {'@type': 'did:sov:BzCbsNYhMrjHiqZDTUASHg;spec/connections/1.0/invitation', '@id': '3cfc8191-010e-4982-8b17-5c9dd54e37d6', 'recipientKeys': ['Dy5uQGfxZQXG4QXKcMnJkW4birm5WqBJJ1Ls6mme7BkG'], 'label': 'Bob', 'serviceEndpoint': 'http://192.168.65.3:8020'}, 'invitation_url': 'http://192.168.65.3:8020?c_i=eyJAdHlwZSI6ICJkaWQ6c292OkJ6Q2JzTlloTXJqSGlxWkRUVUFTSGc7c3BlYy9jb25uZWN0aW9ucy8xLjAvaW52aXRhdGlvbiIsICJAaWQiOiAiM2NmYzgxOTEtMDEwZS00OTgyLThiMTctNWM5ZGQ1NGUzN2Q2IiwgInJlY2lwaWVudEtleXMiOiBbIkR5NXVRR2Z4WlFYRzRRWEtjTW5Ka1c0YmlybTVXcUJKSjFMczZtbWU3QmtHIl0sICJsYWJlbCI6ICJCb2IiLCAic2VydmljZUVuZHBvaW50IjogImh0dHA6Ly8xOTIuMTY4LjY1LjM6ODAyMCJ9'}"
   ]
  },
  {
   "cell_type": "markdown",
   "metadata": {},
   "source": [
    "### 10. Accept the invitation, then move to Data Owner notebook"
   ]
  },
  {
   "cell_type": "code",
   "execution_count": 5,
   "metadata": {},
   "outputs": [
    {
     "name": "stdout",
     "output_type": "stream",
     "text": [
      "ACCEPTED CONNECTION -  {'invitation_key': 'Dy5uQGfxZQXG4QXKcMnJkW4birm5WqBJJ1Ls6mme7BkG', 'created_at': '2020-06-26 11:39:22.616439Z', 'accept': 'manual', 'their_label': 'Bob', 'connection_id': '9ce9f05c-0aff-4955-94ad-f0302afe146a', 'updated_at': '2020-06-26 11:39:22.629460Z', 'request_id': '8f6e61c6-bb5c-4741-a59d-c11c9c8eac91', 'invitation_mode': 'once', 'state': 'request', 'my_did': 'NAN12ecuQ2Kni6FoD9j3Gd', 'routing_state': 'none', 'initiator': 'external'}\n",
      "{'invitation_key': 'Dy5uQGfxZQXG4QXKcMnJkW4birm5WqBJJ1Ls6mme7BkG', 'created_at': '2020-06-26 11:39:22.616439Z', 'accept': 'manual', 'their_label': 'Bob', 'connection_id': '9ce9f05c-0aff-4955-94ad-f0302afe146a', 'updated_at': '2020-06-26 11:39:22.629460Z', 'request_id': '8f6e61c6-bb5c-4741-a59d-c11c9c8eac91', 'invitation_mode': 'once', 'state': 'request', 'my_did': 'NAN12ecuQ2Kni6FoD9j3Gd', 'routing_state': 'none', 'initiator': 'external'}\n",
      "Connection {'invitation_key': 'Dy5uQGfxZQXG4QXKcMnJkW4birm5WqBJJ1Ls6mme7BkG', 'created_at': '2020-06-26 11:39:22.616439Z', 'accept': 'manual', 'their_label': 'Bob', 'connection_id': '9ce9f05c-0aff-4955-94ad-f0302afe146a', 'updated_at': '2020-06-26 11:39:22.629460Z', 'request_id': '8f6e61c6-bb5c-4741-a59d-c11c9c8eac91', 'invitation_mode': 'once', 'state': 'request', 'my_did': 'NAN12ecuQ2Kni6FoD9j3Gd', 'routing_state': 'none', 'initiator': 'external'}\n"
     ]
    }
   ],
   "source": [
    "# Receive Invitation\n",
    "response = await agent_controller.connections.accept_connection(invite[\"invitation\"])\n",
    "print(response)\n",
    "# Print out accepted Invite and Researcher ID\n",
    "print(\"Connection\", response)\n",
    "researcher_id = response[\"connection_id\"]\n"
   ]
  },
  {
   "cell_type": "markdown",
   "metadata": {},
   "source": [
    "### 14. Send Trust Ping to the Data Owner"
   ]
  },
  {
   "cell_type": "code",
   "execution_count": 6,
   "metadata": {
    "scrolled": true
   },
   "outputs": [
    {
     "name": "stdout",
     "output_type": "stream",
     "text": [
      "TUST PING TO ACTIVATE CONNECTION - RESEARCH -> DATA\n",
      "{'thread_id': '1a2fa9db-89df-4a3e-bb7e-427b9d1d625d'}\n"
     ]
    }
   ],
   "source": [
    "# Do a trust ping to ensure connection is accepted by data_owner\n",
    "trust_ping = await agent_controller.connections.trust_ping(researcher_id,\"hello\")\n",
    "print(\"TUST PING TO ACTIVATE CONNECTION - RESEARCH -> DATA\")\n",
    "print(trust_ping)   "
   ]
  },
  {
   "cell_type": "markdown",
   "metadata": {},
   "source": [
    "#### 14.1 Check if connection is active"
   ]
  },
  {
   "cell_type": "code",
   "execution_count": 7,
   "metadata": {},
   "outputs": [
    {
     "name": "stdout",
     "output_type": "stream",
     "text": [
      "Handle research messages  {'connection_id': '9ce9f05c-0aff-4955-94ad-f0302afe146a', 'message_id': 'ce356301-6b49-42cf-bc4a-ffae015d63d2', 'content': 'hello from data owner world! WOOPWOOP', 'state': 'received'} 9ce9f05c-0aff-4955-94ad-f0302afe146a\n",
      "RESEARCH AGENT CONNECTION\n",
      "{'invitation_key': 'Dy5uQGfxZQXG4QXKcMnJkW4birm5WqBJJ1Ls6mme7BkG', 'created_at': '2020-06-26 11:39:22.616439Z', 'accept': 'manual', 'their_label': 'Bob', 'connection_id': '9ce9f05c-0aff-4955-94ad-f0302afe146a', 'their_did': 'Mfc76nvc5xzWgGWoBjJcuL', 'updated_at': '2020-06-26 11:39:48.114142Z', 'request_id': '8f6e61c6-bb5c-4741-a59d-c11c9c8eac91', 'invitation_mode': 'once', 'state': 'active', 'my_did': 'NAN12ecuQ2Kni6FoD9j3Gd', 'routing_state': 'none', 'initiator': 'external'}\n"
     ]
    }
   ],
   "source": [
    "# Print connection list\n",
    "connection = await agent_controller.connections.get_connection(researcher_id)\n",
    "print(\"RESEARCH AGENT CONNECTION\")\n",
    "print(connection)"
   ]
  },
  {
   "cell_type": "markdown",
   "metadata": {},
   "source": [
    "#### 14.2 Send a basic message over e2e channel"
   ]
  },
  {
   "cell_type": "code",
   "execution_count": 8,
   "metadata": {},
   "outputs": [
    {
     "name": "stdout",
     "output_type": "stream",
     "text": [
      "BASIC MESSAGE - RESEARCH -> DATA\n",
      "{}\n"
     ]
    }
   ],
   "source": [
    "#send some basic messages\n",
    "message = await agent_controller.connections.send_message(researcher_id,\"hello from researcher world!\")\n",
    "print(\"BASIC MESSAGE - RESEARCH -> DATA\")\n",
    "print(message)"
   ]
  },
  {
   "cell_type": "markdown",
   "metadata": {},
   "source": [
    "## Begin Syft Worker Experimentation"
   ]
  },
  {
   "cell_type": "code",
   "execution_count": 9,
   "metadata": {},
   "outputs": [
    {
     "name": "stderr",
     "output_type": "stream",
     "text": [
      "Falling back to insecure randomness since the required custom op could not be found for the installed version of TensorFlow. Fix this by compiling custom ops. Missing file was '/opt/conda/lib/python3.7/site-packages/tf_encrypted/operations/secure_random/secure_random_module_tf_1.15.3.so'\n"
     ]
    },
    {
     "name": "stdout",
     "output_type": "stream",
     "text": [
      "WARNING:tensorflow:From /opt/conda/lib/python3.7/site-packages/tf_encrypted/session.py:24: The name tf.Session is deprecated. Please use tf.compat.v1.Session instead.\n",
      "\n"
     ]
    }
   ],
   "source": [
    "import torch\n",
    "import syft as sy\n",
    "from syft.serde import deserialize\n",
    "from syft.serde import serialize\n",
    "from syft.workers.base import BaseWorker\n",
    "\n",
    "\n",
    "class AriesWorker(BaseWorker):\n",
    "    def _send_msg(self, message: bin, location: BaseWorker) -> bin:\n",
    "      return self._recv_msg(message)\n",
    "\n",
    "    def _recv_msg(self, message: bin) -> bin:\n",
    "      json_message = deserialize(message)\n",
    "      print(json_message)\n",
    "      result = self.recv_msg(message)\n",
    "      result = deserialize(result)\n",
    "      print(result)\n",
    "      \n",
    "      message = asyncio.get_event_loop().create_task(agent_controller.connections.send_message(researcher_id, str(result) ))\n",
    "      print(message)\n",
    "      return result"
   ]
  },
  {
   "cell_type": "code",
   "execution_count": 10,
   "metadata": {},
   "outputs": [],
   "source": [
    "hook = sy.TorchHook(torch)\n",
    "alice = AriesWorker(hook, id=\"alice\")"
   ]
  },
  {
   "cell_type": "code",
   "execution_count": 11,
   "metadata": {},
   "outputs": [],
   "source": [
    "def research_syft_handler(payload):\n",
    "    connection_id = payload[\"connection_id\"]\n",
    "    alice._recv_msg(serialize(payload[\"content\"]))\n",
    "    print(\"Handle research messages \", payload, connection_id)\n",
    "\n",
    "research_syft_listener = {\n",
    "    \"handler\": research_syft_handler,\n",
    "    \"topic\": \"basicmessages\"\n",
    "}\n"
   ]
  },
  {
   "cell_type": "code",
   "execution_count": 12,
   "metadata": {},
   "outputs": [],
   "source": [
    "agent_controller.register_listeners([research_syft_listener], defaults=False)"
   ]
  }
 ],
 "metadata": {
  "kernelspec": {
   "display_name": "Python 3",
   "language": "python",
   "name": "python3"
  },
  "language_info": {
   "codemirror_mode": {
    "name": "ipython",
    "version": 3
   },
   "file_extension": ".py",
   "mimetype": "text/x-python",
   "name": "python",
   "nbconvert_exporter": "python",
   "pygments_lexer": "ipython3",
   "version": "3.7.6"
  },
  "pycharm": {
   "stem_cell": {
    "cell_type": "raw",
    "metadata": {
     "collapsed": false
    },
    "source": []
   }
  }
 },
 "nbformat": 4,
 "nbformat_minor": 4
}
