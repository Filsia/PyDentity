{
 "cells": [
  {
   "cell_type": "code",
   "execution_count": 1,
   "metadata": {},
   "outputs": [
    {
     "name": "stdout",
     "output_type": "stream",
     "text": [
      "IPython autoawait is `on`, and set to use `asyncio`\n"
     ]
    }
   ],
   "source": [
    "%autoawait"
   ]
  },
  {
   "cell_type": "code",
   "execution_count": 2,
   "metadata": {},
   "outputs": [],
   "source": [
    "import time\n",
    "import asyncio"
   ]
  },
  {
   "cell_type": "code",
   "execution_count": 3,
   "metadata": {},
   "outputs": [],
   "source": [
    "from aries_basic_controller.aries_controller import AriesAgentController\n",
    "    \n",
    "WEBHOOK_HOST = \"0.0.0.0\"\n",
    "WEBHOOK_PORT = 8052\n",
    "WEBHOOK_BASE = \"\"\n",
    "ADMIN_URL = \"http://researcher-agent:8051\""
   ]
  },
  {
   "cell_type": "code",
   "execution_count": 4,
   "metadata": {},
   "outputs": [],
   "source": [
    "agent_controller = AriesAgentController(webhook_host=WEBHOOK_HOST, webhook_port=WEBHOOK_PORT,\n",
    "                                       webhook_base=WEBHOOK_BASE, admin_url=ADMIN_URL, connections=True)\n",
    "\n",
    "def research_messages_handler(payload):\n",
    "    connection_id = payload[\"connection_id\"]\n",
    "    print(\"Handle research messages \", payload, connection_id)\n",
    "\n",
    "research_message_listener = {\n",
    "    \"handler\": research_messages_handler,\n",
    "    \"topic\": \"basicmessages\"\n",
    "}\n",
    "\n"
   ]
  },
  {
   "cell_type": "code",
   "execution_count": 5,
   "metadata": {
    "scrolled": true
   },
   "outputs": [
    {
     "data": {
      "text/plain": [
       "<Task pending coro=<AriesAgentController.listen_webhooks() running at /opt/conda/lib/python3.7/site-packages/aries_basic_controller/aries_controller.py:42>>"
      ]
     },
     "execution_count": 5,
     "metadata": {},
     "output_type": "execute_result"
    }
   ],
   "source": [
    "loop = asyncio.get_event_loop()\n",
    "loop.create_task(agent_controller.listen_webhooks())"
   ]
  },
  {
   "cell_type": "code",
   "execution_count": 6,
   "metadata": {},
   "outputs": [],
   "source": [
    "agent_controller.register_listeners([research_message_listener], defaults=True)"
   ]
  },
  {
   "cell_type": "code",
   "execution_count": 7,
   "metadata": {},
   "outputs": [],
   "source": [
    "#Paste in invitation from data_owner agent\n",
    "invite = {'connection_id': 'fe0b1101-649c-4e23-9084-9bc6dd5e6150', 'invitation': {'@type': 'did:sov:BzCbsNYhMrjHiqZDTUASHg;spec/connections/1.0/invitation', '@id': '1c8f447e-271f-43cf-be83-2f647d5ebcb2', 'recipientKeys': ['C5gih4nhTrQUUcrQ4bWxNiz5R6Jbw1WJ8GrcNEyT2cTE'], 'serviceEndpoint': 'http://192.168.65.3:8020', 'label': 'Bob'}, 'invitation_url': 'http://192.168.65.3:8020?c_i=eyJAdHlwZSI6ICJkaWQ6c292OkJ6Q2JzTlloTXJqSGlxWkRUVUFTSGc7c3BlYy9jb25uZWN0aW9ucy8xLjAvaW52aXRhdGlvbiIsICJAaWQiOiAiMWM4ZjQ0N2UtMjcxZi00M2NmLWJlODMtMmY2NDdkNWViY2IyIiwgInJlY2lwaWVudEtleXMiOiBbIkM1Z2loNG5oVHJRVVVjclE0Yld4Tml6NVI2SmJ3MVdKOEdyY05FeVQyY1RFIl0sICJzZXJ2aWNlRW5kcG9pbnQiOiAiaHR0cDovLzE5Mi4xNjguNjUuMzo4MDIwIiwgImxhYmVsIjogIkJvYiJ9'}"
   ]
  },
  {
   "cell_type": "code",
   "execution_count": 8,
   "metadata": {},
   "outputs": [
    {
     "name": "stdout",
     "output_type": "stream",
     "text": [
      "ACCEPTED CONNECTION -  {'initiator': 'external', 'updated_at': '2020-06-25 19:25:03.385544Z', 'request_id': 'ec153399-f3d3-4109-b48a-3e626edd6c85', 'invitation_mode': 'once', 'routing_state': 'none', 'connection_id': '846daefe-83e6-4139-a236-31f142724420', 'accept': 'manual', 'created_at': '2020-06-25 19:25:03.368209Z', 'state': 'request', 'invitation_key': 'C5gih4nhTrQUUcrQ4bWxNiz5R6Jbw1WJ8GrcNEyT2cTE', 'their_label': 'Bob', 'my_did': '5ZZDzLNPUxYtbML35bd89N'}\n",
      "{'initiator': 'external', 'updated_at': '2020-06-25 19:25:03.385544Z', 'request_id': 'ec153399-f3d3-4109-b48a-3e626edd6c85', 'invitation_mode': 'once', 'routing_state': 'none', 'connection_id': '846daefe-83e6-4139-a236-31f142724420', 'accept': 'manual', 'created_at': '2020-06-25 19:25:03.368209Z', 'state': 'request', 'invitation_key': 'C5gih4nhTrQUUcrQ4bWxNiz5R6Jbw1WJ8GrcNEyT2cTE', 'their_label': 'Bob', 'my_did': '5ZZDzLNPUxYtbML35bd89N'}\n",
      "Connection {'initiator': 'external', 'updated_at': '2020-06-25 19:25:03.385544Z', 'request_id': 'ec153399-f3d3-4109-b48a-3e626edd6c85', 'invitation_mode': 'once', 'routing_state': 'none', 'connection_id': '846daefe-83e6-4139-a236-31f142724420', 'accept': 'manual', 'created_at': '2020-06-25 19:25:03.368209Z', 'state': 'request', 'invitation_key': 'C5gih4nhTrQUUcrQ4bWxNiz5R6Jbw1WJ8GrcNEyT2cTE', 'their_label': 'Bob', 'my_did': '5ZZDzLNPUxYtbML35bd89N'}\n"
     ]
    }
   ],
   "source": [
    "# Receive Invitation\n",
    "response = await agent_controller.connections.accept_connection(invite[\"invitation\"])\n",
    "print(response)\n",
    "# Print out accepted Invite and Researcher ID\n",
    "print(\"Connection\", response)\n",
    "researcher_id = response[\"connection_id\"]\n"
   ]
  },
  {
   "cell_type": "code",
   "execution_count": 9,
   "metadata": {},
   "outputs": [
    {
     "name": "stdout",
     "output_type": "stream",
     "text": [
      "TUST PING TO ACTIVATE CONNECTION - RESEARCH -> DATA\n",
      "{'thread_id': '0785039a-2ee9-4cf9-b677-0ed25db34442'}\n"
     ]
    }
   ],
   "source": [
    "# Do a trust ping to ensure connection is accepted by data_owner\n",
    "trust_ping = await agent_controller.connections.trust_ping(researcher_id,\"hello\")\n",
    "print(\"TUST PING TO ACTIVATE CONNECTION - RESEARCH -> DATA\")\n",
    "print(trust_ping)   "
   ]
  },
  {
   "cell_type": "code",
   "execution_count": 14,
   "metadata": {},
   "outputs": [
    {
     "name": "stdout",
     "output_type": "stream",
     "text": [
      "RESEARCH AGENT CONNECTION\n",
      "{'initiator': 'external', 'updated_at': '2020-06-25 19:25:13.152328Z', 'request_id': 'ec153399-f3d3-4109-b48a-3e626edd6c85', 'invitation_mode': 'once', 'routing_state': 'none', 'their_did': 'EKFusCHGwjMWdpDr3Ti3cC', 'connection_id': '846daefe-83e6-4139-a236-31f142724420', 'accept': 'manual', 'created_at': '2020-06-25 19:25:03.368209Z', 'state': 'active', 'invitation_key': 'C5gih4nhTrQUUcrQ4bWxNiz5R6Jbw1WJ8GrcNEyT2cTE', 'their_label': 'Bob', 'my_did': '5ZZDzLNPUxYtbML35bd89N'}\n"
     ]
    }
   ],
   "source": [
    "# Print connection list\n",
    "connection = await agent_controller.connections.get_connection(researcher_id)\n",
    "print(\"RESEARCH AGENT CONNECTION\")\n",
    "print(connection)"
   ]
  },
  {
   "cell_type": "code",
   "execution_count": 19,
   "metadata": {},
   "outputs": [
    {
     "name": "stdout",
     "output_type": "stream",
     "text": [
      "BASIC MESSAGE - RESEARCH -> DATA\n",
      "{}\n"
     ]
    }
   ],
   "source": [
    "#send some basic messages\n",
    "message = await agent_controller.connections.send_message(researcher_id,\"hello from researcher world!\")\n",
    "print(\"BASIC MESSAGE - RESEARCH -> DATA\")\n",
    "print(message)"
   ]
  },
  {
   "cell_type": "code",
   "execution_count": 10,
   "metadata": {},
   "outputs": [
    {
     "name": "stderr",
     "output_type": "stream",
     "text": [
      "Falling back to insecure randomness since the required custom op could not be found for the installed version of TensorFlow. Fix this by compiling custom ops. Missing file was '/opt/conda/lib/python3.7/site-packages/tf_encrypted/operations/secure_random/secure_random_module_tf_1.15.3.so'\n"
     ]
    },
    {
     "name": "stdout",
     "output_type": "stream",
     "text": [
      "WARNING:tensorflow:From /opt/conda/lib/python3.7/site-packages/tf_encrypted/session.py:24: The name tf.Session is deprecated. Please use tf.compat.v1.Session instead.\n",
      "\n"
     ]
    }
   ],
   "source": [
    "import torch\n",
    "import syft as sy\n",
    "from syft.serde import deserialize\n",
    "from syft.serde import serialize\n",
    "from syft.workers.base import BaseWorker\n",
    "\n",
    "\n",
    "class AriesWorker(BaseWorker):\n",
    "    def _send_msg(self, message: bin, location: BaseWorker) -> bin:\n",
    "      return self._recv_msg(message)\n",
    "\n",
    "    def _recv_msg(self, message: bin) -> bin:\n",
    "      json_message = deserialize(message)\n",
    "      print(json_message)\n",
    "      result = self.recv_msg(message)\n",
    "      result = deserialize(result)\n",
    "      print(result)\n",
    "      \n",
    "      message = asyncio.get_event_loop().create_task(agent_controller.connections.send_message(researcher_id, str(result) ))\n",
    "      print(message)\n",
    "      return result"
   ]
  },
  {
   "cell_type": "code",
   "execution_count": 11,
   "metadata": {},
   "outputs": [],
   "source": [
    "hook = sy.TorchHook(torch)\n",
    "alice = AriesWorker(hook, id=\"claire\")"
   ]
  },
  {
   "cell_type": "code",
   "execution_count": 12,
   "metadata": {},
   "outputs": [],
   "source": [
    "def research_syft_handler(payload):\n",
    "    connection_id = payload[\"connection_id\"]\n",
    "    alice._recv_msg(serialize(payload[\"content\"]))\n",
    "    print(\"Handle research messages \", payload, connection_id)\n",
    "\n",
    "research_syft_listener = {\n",
    "    \"handler\": research_syft_handler,\n",
    "    \"topic\": \"basicmessages\"\n",
    "}\n"
   ]
  },
  {
   "cell_type": "code",
   "execution_count": 13,
   "metadata": {},
   "outputs": [],
   "source": [
    "agent_controller.register_listeners([research_syft_listener], defaults=False)"
   ]
  },
  {
   "cell_type": "code",
   "execution_count": null,
   "metadata": {},
   "outputs": [],
   "source": []
  },
  {
   "cell_type": "code",
   "execution_count": 22,
   "metadata": {},
   "outputs": [
    {
     "ename": "NameError",
     "evalue": "name 'GRID' is not defined",
     "output_type": "error",
     "traceback": [
      "\u001b[0;31m---------------------------------------------------------------------------\u001b[0m",
      "\u001b[0;31mNameError\u001b[0m                                 Traceback (most recent call last)",
      "\u001b[0;32m<ipython-input-22-575336eabe27>\u001b[0m in \u001b[0;36m<module>\u001b[0;34m\u001b[0m\n\u001b[0;32m----> 1\u001b[0;31m \u001b[0mserialize\u001b[0m\u001b[0;34m(\u001b[0m\u001b[0mGRID\u001b[0m\u001b[0;34m)\u001b[0m\u001b[0;34m\u001b[0m\u001b[0;34m\u001b[0m\u001b[0m\n\u001b[0m",
      "\u001b[0;31mNameError\u001b[0m: name 'GRID' is not defined"
     ]
    }
   ],
   "source": []
  },
  {
   "cell_type": "code",
   "execution_count": null,
   "metadata": {},
   "outputs": [],
   "source": []
  }
 ],
 "metadata": {
  "kernelspec": {
   "display_name": "Python 3",
   "language": "python",
   "name": "python3"
  },
  "language_info": {
   "codemirror_mode": {
    "name": "ipython",
    "version": 3
   },
   "file_extension": ".py",
   "mimetype": "text/x-python",
   "name": "python",
   "nbconvert_exporter": "python",
   "pygments_lexer": "ipython3",
   "version": "3.7.6"
  },
  "pycharm": {
   "stem_cell": {
    "cell_type": "raw",
    "metadata": {
     "collapsed": false
    },
    "source": []
   }
  }
 },
 "nbformat": 4,
 "nbformat_minor": 4
}
