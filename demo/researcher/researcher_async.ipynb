{
 "cells": [
  {
   "cell_type": "code",
   "execution_count": 1,
   "metadata": {},
   "outputs": [
    {
     "name": "stdout",
     "output_type": "stream",
     "text": [
      "IPython autoawait is `on`, and set to use `asyncio`\n"
     ]
    }
   ],
   "source": [
    "%autoawait"
   ]
  },
  {
   "cell_type": "code",
   "execution_count": 2,
   "metadata": {},
   "outputs": [],
   "source": [
    "import time\n",
    "import asyncio"
   ]
  },
  {
   "cell_type": "code",
   "execution_count": 3,
   "metadata": {},
   "outputs": [],
   "source": [
    "from aries_basic_controller.aries_controller import AriesAgentController\n",
    "    \n",
    "WEBHOOK_HOST = \"0.0.0.0\"\n",
    "WEBHOOK_PORT = 8052\n",
    "WEBHOOK_BASE = \"\"\n",
    "ADMIN_URL = \"http://researcher-agent:8051\""
   ]
  },
  {
   "cell_type": "code",
   "execution_count": 4,
   "metadata": {},
   "outputs": [],
   "source": [
    "agent_controller = AriesAgentController(webhook_host=WEBHOOK_HOST, webhook_port=WEBHOOK_PORT,\n",
    "                                       webhook_base=WEBHOOK_BASE, admin_url=ADMIN_URL, connections=True)\n",
    "\n",
    "def research_messages_hook(payload):\n",
    "    connection_id = payload[\"connection_id\"]\n",
    "    print(\"Handle research messages \", payload, connection_id)\n",
    "\n",
    "research_message_listener = {\n",
    "    \"handler\": research_messages_hook,\n",
    "    \"topic\": \"basicmessages\"\n",
    "}\n",
    "\n"
   ]
  },
  {
   "cell_type": "code",
   "execution_count": 5,
   "metadata": {
    "scrolled": true
   },
   "outputs": [
    {
     "data": {
      "text/plain": [
       "<Task pending coro=<AriesAgentController.listen_webhooks() running at /opt/conda/lib/python3.7/site-packages/aries_basic_controller/aries_controller.py:42>>"
      ]
     },
     "execution_count": 5,
     "metadata": {},
     "output_type": "execute_result"
    }
   ],
   "source": [
    "loop = asyncio.get_event_loop()\n",
    "loop.create_task(agent_controller.listen_webhooks())"
   ]
  },
  {
   "cell_type": "code",
   "execution_count": 6,
   "metadata": {},
   "outputs": [],
   "source": [
    "agent_controller.register_listeners([research_message_listener], defaults=True)"
   ]
  },
  {
   "cell_type": "code",
   "execution_count": 7,
   "metadata": {},
   "outputs": [],
   "source": [
    "#Paste in invitation from data_owner agent\n",
    "invite = {'connection_id': '366aa320-3e6b-435c-8415-cdd8b643617a', 'invitation': {'@type': 'did:sov:BzCbsNYhMrjHiqZDTUASHg;spec/connections/1.0/invitation', '@id': '1ddbe7f4-89e3-435f-bb50-946b079b94af', 'label': 'Bob', 'serviceEndpoint': 'http://172.17.0.1:8020', 'recipientKeys': ['GMFbr3hc2Phj9D9YW4JWTaAd3n1itNUxaLjHgVGPBYu5']}, 'invitation_url': 'http://172.17.0.1:8020?c_i=eyJAdHlwZSI6ICJkaWQ6c292OkJ6Q2JzTlloTXJqSGlxWkRUVUFTSGc7c3BlYy9jb25uZWN0aW9ucy8xLjAvaW52aXRhdGlvbiIsICJAaWQiOiAiMWRkYmU3ZjQtODllMy00MzVmLWJiNTAtOTQ2YjA3OWI5NGFmIiwgImxhYmVsIjogIkJvYiIsICJzZXJ2aWNlRW5kcG9pbnQiOiAiaHR0cDovLzE3Mi4xNy4wLjE6ODAyMCIsICJyZWNpcGllbnRLZXlzIjogWyJHTUZicjNoYzJQaGo5RDlZVzRKV1RhQWQzbjFpdE5VeGFMakhnVkdQQll1NSJdfQ=='}\n",
    "\n"
   ]
  },
  {
   "cell_type": "code",
   "execution_count": 8,
   "metadata": {},
   "outputs": [
    {
     "name": "stdout",
     "output_type": "stream",
     "text": [
      "ACCEPTED CONNECTION -  {'my_did': 'GCWXyezyt8WMjtVBcp3qoJ', 'routing_state': 'none', 'updated_at': '2020-06-25 15:36:28.336999Z', 'initiator': 'external', 'invitation_key': 'GMFbr3hc2Phj9D9YW4JWTaAd3n1itNUxaLjHgVGPBYu5', 'their_label': 'Bob', 'created_at': '2020-06-25 15:36:28.320580Z', 'connection_id': '457cb26e-364a-446f-a78c-0c339fcdfae5', 'request_id': '729b6466-c860-439c-95b9-9f694bfc051b', 'state': 'request', 'invitation_mode': 'once', 'accept': 'manual'}\n",
      "{'my_did': 'GCWXyezyt8WMjtVBcp3qoJ', 'routing_state': 'none', 'updated_at': '2020-06-25 15:36:28.336999Z', 'initiator': 'external', 'invitation_key': 'GMFbr3hc2Phj9D9YW4JWTaAd3n1itNUxaLjHgVGPBYu5', 'their_label': 'Bob', 'created_at': '2020-06-25 15:36:28.320580Z', 'connection_id': '457cb26e-364a-446f-a78c-0c339fcdfae5', 'request_id': '729b6466-c860-439c-95b9-9f694bfc051b', 'state': 'request', 'invitation_mode': 'once', 'accept': 'manual'}\n",
      "Connection {'my_did': 'GCWXyezyt8WMjtVBcp3qoJ', 'routing_state': 'none', 'updated_at': '2020-06-25 15:36:28.336999Z', 'initiator': 'external', 'invitation_key': 'GMFbr3hc2Phj9D9YW4JWTaAd3n1itNUxaLjHgVGPBYu5', 'their_label': 'Bob', 'created_at': '2020-06-25 15:36:28.320580Z', 'connection_id': '457cb26e-364a-446f-a78c-0c339fcdfae5', 'request_id': '729b6466-c860-439c-95b9-9f694bfc051b', 'state': 'request', 'invitation_mode': 'once', 'accept': 'manual'}\n"
     ]
    }
   ],
   "source": [
    "# Receive Invitation\n",
    "response = await agent_controller.connections.accept_connection(invite[\"invitation\"])\n",
    "print(response)\n",
    "# Print out accepted Invite and Researcher ID\n",
    "print(\"Connection\", response)\n",
    "researcher_id = response[\"connection_id\"]\n"
   ]
  },
  {
   "cell_type": "code",
   "execution_count": 9,
   "metadata": {},
   "outputs": [
    {
     "name": "stdout",
     "output_type": "stream",
     "text": [
      "TUST PING TO ACTIVATE CONNECTION - RESEARCH -> DATA\n",
      "{'thread_id': 'f77cfe69-175a-4611-9726-2010eb28cbeb'}\n"
     ]
    }
   ],
   "source": [
    "# Do a trust ping to ensure connection is accepted by data_owner\n",
    "trust_ping = await agent_controller.connections.trust_ping(researcher_id,\"hello\")\n",
    "print(\"TUST PING TO ACTIVATE CONNECTION - RESEARCH -> DATA\")\n",
    "print(trust_ping)   "
   ]
  },
  {
   "cell_type": "code",
   "execution_count": 10,
   "metadata": {},
   "outputs": [
    {
     "name": "stdout",
     "output_type": "stream",
     "text": [
      "RESEARCH AGENT CONNECTION\n",
      "{'my_did': 'GCWXyezyt8WMjtVBcp3qoJ', 'routing_state': 'none', 'updated_at': '2020-06-25 15:36:52.460947Z', 'initiator': 'external', 'invitation_key': 'GMFbr3hc2Phj9D9YW4JWTaAd3n1itNUxaLjHgVGPBYu5', 'their_did': 'StD1yXEWmmqSyKPZPdRrAQ', 'their_label': 'Bob', 'created_at': '2020-06-25 15:36:28.320580Z', 'connection_id': '457cb26e-364a-446f-a78c-0c339fcdfae5', 'request_id': '729b6466-c860-439c-95b9-9f694bfc051b', 'state': 'active', 'invitation_mode': 'once', 'accept': 'manual'}\n"
     ]
    }
   ],
   "source": [
    "# Print connection list\n",
    "connection = await agent_controller.connections.get_connection(researcher_id)\n",
    "print(\"RESEARCH AGENT CONNECTION\")\n",
    "print(connection)"
   ]
  },
  {
   "cell_type": "code",
   "execution_count": 11,
   "metadata": {},
   "outputs": [
    {
     "name": "stdout",
     "output_type": "stream",
     "text": [
      "BASIC MESSAGE - RESEARCH -> DATA\n",
      "{}\n"
     ]
    }
   ],
   "source": [
    "#send some basic messages\n",
    "message = await agent_controller.connections.send_message(researcher_id,\"hello from researcher world!\")\n",
    "print(\"BASIC MESSAGE - RESEARCH -> DATA\")\n",
    "print(message)"
   ]
  },
  {
   "cell_type": "code",
   "execution_count": null,
   "metadata": {},
   "outputs": [],
   "source": []
  }
 ],
 "metadata": {
  "kernelspec": {
   "display_name": "Python 3",
   "language": "python",
   "name": "python3"
  },
  "language_info": {
   "codemirror_mode": {
    "name": "ipython",
    "version": 3
   },
   "file_extension": ".py",
   "mimetype": "text/x-python",
   "name": "python",
   "nbconvert_exporter": "python",
   "pygments_lexer": "ipython3",
   "version": "3.7.6"
  },
  "pycharm": {
   "stem_cell": {
    "cell_type": "raw",
    "metadata": {
     "collapsed": false
    },
    "source": []
   }
  }
 },
 "nbformat": 4,
 "nbformat_minor": 4
}
