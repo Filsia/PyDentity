{
 "cells": [
  {
   "cell_type": "code",
   "execution_count": 1,
   "metadata": {},
   "outputs": [
    {
     "name": "stdout",
     "output_type": "stream",
     "text": [
      "IPython autoawait is `on`, and set to use `asyncio`\n"
     ]
    }
   ],
   "source": [
    "%autoawait"
   ]
  },
  {
   "cell_type": "code",
   "execution_count": 2,
   "metadata": {},
   "outputs": [],
   "source": [
    "import time\n",
    "import asyncio\n",
    "import flask\n",
    "from flask import request"
   ]
  },
  {
   "cell_type": "code",
   "execution_count": 3,
   "metadata": {},
   "outputs": [],
   "source": [
    "from aries_basic_controller.aries_controller import AriesAgentController\n",
    "    \n",
    "WEBHOOK_HOST = \"0.0.0.0\"\n",
    "WEBHOOK_PORT = 8022\n",
    "WEBHOOK_BASE = \"\"\n",
    "ADMIN_URL = \"http://data-agent:8021\""
   ]
  },
  {
   "cell_type": "code",
   "execution_count": 4,
   "metadata": {},
   "outputs": [],
   "source": [
    "    # Based on the aca-py agent you wish to control\n",
    "agent_controller = AriesAgentController(webhook_host=WEBHOOK_HOST, webhook_port=WEBHOOK_PORT,\n",
    "                                       webhook_base=WEBHOOK_BASE, admin_url=ADMIN_URL, connections=True)"
   ]
  },
  {
   "cell_type": "code",
   "execution_count": 5,
   "metadata": {},
   "outputs": [],
   "source": [
    "def data_messages_hook(payload):\n",
    "    connection_id = payload[\"connection_id\"]\n",
    "    asyncio.get_event_loop().create_task(agent_controller.connections.send_message(connection_id, \"THIS IS MY RESPONSE - DATA AGENT\"))\n",
    "    print(\"Handle data messages \", payload, connection_id)\n",
    "\n",
    "\n",
    "data_message_listener = {\n",
    "    \"handler\": data_messages_hook,\n",
    "    \"topic\": \"basicmessages\"\n",
    "}"
   ]
  },
  {
   "cell_type": "code",
   "execution_count": 6,
   "metadata": {},
   "outputs": [
    {
     "data": {
      "text/plain": [
       "<Task pending coro=<AriesAgentController.listen_webhooks() running at /opt/conda/lib/python3.7/site-packages/aries_basic_controller/aries_controller.py:42>>"
      ]
     },
     "execution_count": 6,
     "metadata": {},
     "output_type": "execute_result"
    }
   ],
   "source": [
    "loop = asyncio.get_event_loop()\n",
    "loop.create_task(agent_controller.listen_webhooks())"
   ]
  },
  {
   "cell_type": "code",
   "execution_count": 7,
   "metadata": {},
   "outputs": [],
   "source": [
    "agent_controller.register_listeners([data_message_listener], defaults=True)"
   ]
  },
  {
   "cell_type": "code",
   "execution_count": 8,
   "metadata": {},
   "outputs": [
    {
     "name": "stdout",
     "output_type": "stream",
     "text": [
      "{'connection_id': '366aa320-3e6b-435c-8415-cdd8b643617a', 'invitation': {'@type': 'did:sov:BzCbsNYhMrjHiqZDTUASHg;spec/connections/1.0/invitation', '@id': '1ddbe7f4-89e3-435f-bb50-946b079b94af', 'label': 'Bob', 'serviceEndpoint': 'http://172.17.0.1:8020', 'recipientKeys': ['GMFbr3hc2Phj9D9YW4JWTaAd3n1itNUxaLjHgVGPBYu5']}, 'invitation_url': 'http://172.17.0.1:8020?c_i=eyJAdHlwZSI6ICJkaWQ6c292OkJ6Q2JzTlloTXJqSGlxWkRUVUFTSGc7c3BlYy9jb25uZWN0aW9ucy8xLjAvaW52aXRhdGlvbiIsICJAaWQiOiAiMWRkYmU3ZjQtODllMy00MzVmLWJiNTAtOTQ2YjA3OWI5NGFmIiwgImxhYmVsIjogIkJvYiIsICJzZXJ2aWNlRW5kcG9pbnQiOiAiaHR0cDovLzE3Mi4xNy4wLjE6ODAyMCIsICJyZWNpcGllbnRLZXlzIjogWyJHTUZicjNoYzJQaGo5RDlZVzRKV1RhQWQzbjFpdE5VeGFMakhnVkdQQll1NSJdfQ=='}\n"
     ]
    }
   ],
   "source": [
    "# Create Invitation\n",
    "invite = await agent_controller.connections.create_invitation(alias=\"Will\")\n",
    "print(invite)"
   ]
  },
  {
   "cell_type": "code",
   "execution_count": 9,
   "metadata": {},
   "outputs": [
    {
     "name": "stdout",
     "output_type": "stream",
     "text": [
      "Data Owner ID 366aa320-3e6b-435c-8415-cdd8b643617a\n"
     ]
    }
   ],
   "source": [
    "# Print out accepted Invite and Researcher ID\n",
    "print(\"Data Owner ID\", invite[\"connection_id\"])\n",
    "data_connection_id = invite[\"connection_id\"]"
   ]
  },
  {
   "cell_type": "code",
   "execution_count": 10,
   "metadata": {},
   "outputs": [
    {
     "name": "stdout",
     "output_type": "stream",
     "text": [
      "True\n",
      "ACCEPT REQUEST\n",
      "{'invitation_mode': 'once', 'state': 'response', 'initiator': 'self', 'their_did': 'GCWXyezyt8WMjtVBcp3qoJ', 'invitation_key': 'GMFbr3hc2Phj9D9YW4JWTaAd3n1itNUxaLjHgVGPBYu5', 'routing_state': 'none', 'accept': 'manual', 'my_did': 'StD1yXEWmmqSyKPZPdRrAQ', 'their_label': 'Alice', 'created_at': '2020-06-25 15:36:04.467935Z', 'connection_id': '366aa320-3e6b-435c-8415-cdd8b643617a', 'updated_at': '2020-06-25 15:36:45.398857Z'}\n"
     ]
    }
   ],
   "source": [
    "# Accept Request for Invite created\n",
    "connection = await agent_controller.connections.accept_request(data_connection_id)\n",
    "print(\"ACCEPT REQUEST\")\n",
    "print(connection)"
   ]
  },
  {
   "cell_type": "code",
   "execution_count": 11,
   "metadata": {},
   "outputs": [
    {
     "name": "stdout",
     "output_type": "stream",
     "text": [
      "{'thread_id': 'cfebdcaa-baba-4353-87ad-6f1122c19e61'}\n"
     ]
    }
   ],
   "source": [
    "trust_ping = await agent_controller.connections.trust_ping(data_connection_id, \"hello\")\n",
    "print(trust_ping)"
   ]
  },
  {
   "cell_type": "code",
   "execution_count": 12,
   "metadata": {},
   "outputs": [
    {
     "name": "stdout",
     "output_type": "stream",
     "text": [
      "{'invitation_mode': 'once', 'state': 'active', 'initiator': 'self', 'their_did': 'GCWXyezyt8WMjtVBcp3qoJ', 'invitation_key': 'GMFbr3hc2Phj9D9YW4JWTaAd3n1itNUxaLjHgVGPBYu5', 'routing_state': 'none', 'accept': 'manual', 'my_did': 'StD1yXEWmmqSyKPZPdRrAQ', 'their_label': 'Alice', 'created_at': '2020-06-25 15:36:04.467935Z', 'connection_id': '366aa320-3e6b-435c-8415-cdd8b643617a', 'updated_at': '2020-06-25 15:36:52.807121Z'}\n"
     ]
    }
   ],
   "source": [
    "connection = await agent_controller.connections.get_connection(data_connection_id)\n",
    "print(connection)"
   ]
  },
  {
   "cell_type": "code",
   "execution_count": 13,
   "metadata": {},
   "outputs": [
    {
     "name": "stdout",
     "output_type": "stream",
     "text": [
      "Handle data messages  {'connection_id': '366aa320-3e6b-435c-8415-cdd8b643617a', 'message_id': 'a1f6d53a-bd3f-40c8-8253-5c1a607948d0', 'content': 'hello from researcher world!', 'state': 'received'} 366aa320-3e6b-435c-8415-cdd8b643617a\n",
      "BASIC MESSAGE - DATA -> RESEARCH\n",
      "{}\n"
     ]
    }
   ],
   "source": [
    "message = await agent_controller.connections.send_message(data_connection_id,\"hello from data owner world! WOOPWOOP\")\n",
    "print(\"BASIC MESSAGE - DATA -> RESEARCH\")\n",
    "print(message)"
   ]
  },
  {
   "cell_type": "code",
   "execution_count": 15,
   "metadata": {},
   "outputs": [
    {
     "ename": "SyntaxError",
     "evalue": "'await' outside async function (<ipython-input-15-1e06e3d35104>, line 10)",
     "output_type": "error",
     "traceback": [
      "\u001b[0;36m  File \u001b[0;32m\"<ipython-input-15-1e06e3d35104>\"\u001b[0;36m, line \u001b[0;32m10\u001b[0m\n\u001b[0;31mSyntaxError\u001b[0m\u001b[0;31m:\u001b[0m 'await' outside async function\n"
     ]
    }
   ],
   "source": [
    "app = Flask(__name__)\n",
    "\n",
    "@app.route('/gridhook', methods=['POST'])\n",
    "def demo():\n",
    "    if request.method == 'POST':\n",
    "        content = request.json\n",
    "        message = await agent_controller.connections.send_message(data_connection_id, content)"
   ]
  },
  {
   "cell_type": "code",
   "execution_count": null,
   "metadata": {},
   "outputs": [],
   "source": []
  }
 ],
 "metadata": {
  "kernelspec": {
   "display_name": "Python 3",
   "language": "python",
   "name": "python3"
  },
  "language_info": {
   "codemirror_mode": {
    "name": "ipython",
    "version": 3
   },
   "file_extension": ".py",
   "mimetype": "text/x-python",
   "name": "python",
   "nbconvert_exporter": "python",
   "pygments_lexer": "ipython3",
   "version": "3.7.6"
  },
  "pycharm": {
   "stem_cell": {
    "cell_type": "raw",
    "metadata": {
     "collapsed": false
    },
    "source": []
   }
  }
 },
 "nbformat": 4,
 "nbformat_minor": 4
}
