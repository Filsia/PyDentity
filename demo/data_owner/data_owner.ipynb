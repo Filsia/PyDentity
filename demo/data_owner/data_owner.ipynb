{
 "cells": [
  {
   "cell_type": "code",
   "execution_count": 1,
   "metadata": {},
   "outputs": [
    {
     "name": "stdout",
     "output_type": "stream",
     "text": [
      "IPython autoawait is `on`, and set to use `asyncio`\n"
     ]
    }
   ],
   "source": [
    "%autoawait"
   ]
  },
  {
   "cell_type": "code",
   "execution_count": 18,
   "metadata": {},
   "outputs": [],
   "source": [
    "import time\n",
    "import asyncio\n",
    "import flask\n",
    "from flask import request\n"
   ]
  },
  {
   "cell_type": "code",
   "execution_count": 3,
   "metadata": {},
   "outputs": [],
   "source": [
    "from aries_basic_controller.aries_controller import AriesAgentController\n",
    "    \n",
    "WEBHOOK_HOST = \"0.0.0.0\"\n",
    "WEBHOOK_PORT = 8022\n",
    "WEBHOOK_BASE = \"\"\n",
    "ADMIN_URL = \"http://data-agent:8021\""
   ]
  },
  {
   "cell_type": "code",
   "execution_count": 4,
   "metadata": {},
   "outputs": [],
   "source": [
    "    # Based on the aca-py agent you wish to control\n",
    "agent_controller = AriesAgentController(webhook_host=WEBHOOK_HOST, webhook_port=WEBHOOK_PORT,\n",
    "                                       webhook_base=WEBHOOK_BASE, admin_url=ADMIN_URL, connections=True)"
   ]
  },
  {
   "cell_type": "code",
   "execution_count": 5,
   "metadata": {},
   "outputs": [],
   "source": [
    "def data_messages_handler(payload):\n",
    "    connection_id = payload[\"connection_id\"]\n",
    "    asyncio.get_event_loop().create_task(agent_controller.connections.send_message(connection_id, \"THIS IS MY RESPONSE - DATA AGENT\"))\n",
    "    print(\"Handle data messages \", payload, connection_id)\n",
    "\n",
    "\n",
    "data_message_listener = {\n",
    "    \"handler\": data_messages_hook,\n",
    "    \"topic\": \"basicmessages\"\n",
    "}"
   ]
  },
  {
   "cell_type": "code",
   "execution_count": 6,
   "metadata": {},
   "outputs": [
    {
     "data": {
      "text/plain": [
       "<Task pending coro=<AriesAgentController.listen_webhooks() running at /opt/conda/lib/python3.7/site-packages/aries_basic_controller/aries_controller.py:42>>"
      ]
     },
     "execution_count": 6,
     "metadata": {},
     "output_type": "execute_result"
    }
   ],
   "source": [
    "loop = asyncio.get_event_loop()\n",
    "loop.create_task(agent_controller.listen_webhooks())"
   ]
  },
  {
   "cell_type": "code",
   "execution_count": 7,
   "metadata": {},
   "outputs": [],
   "source": [
    "agent_controller.register_listeners([data_message_listener], defaults=True)"
   ]
  },
  {
   "cell_type": "code",
   "execution_count": 8,
   "metadata": {},
   "outputs": [
    {
     "name": "stdout",
     "output_type": "stream",
     "text": [
      "{'connection_id': '6ceb16b7-c95b-4f2f-9ee6-7f83232807e5', 'invitation': {'@type': 'did:sov:BzCbsNYhMrjHiqZDTUASHg;spec/connections/1.0/invitation', '@id': '815e1e53-37d0-4aa9-b2a3-4683b6f708f6', 'label': 'Bob', 'serviceEndpoint': 'http://172.17.0.1:8020', 'recipientKeys': ['2TMwBDhLQU6ef1x4AaFdL58b9PiRbukVBnYstakWuNUV']}, 'invitation_url': 'http://172.17.0.1:8020?c_i=eyJAdHlwZSI6ICJkaWQ6c292OkJ6Q2JzTlloTXJqSGlxWkRUVUFTSGc7c3BlYy9jb25uZWN0aW9ucy8xLjAvaW52aXRhdGlvbiIsICJAaWQiOiAiODE1ZTFlNTMtMzdkMC00YWE5LWIyYTMtNDY4M2I2ZjcwOGY2IiwgImxhYmVsIjogIkJvYiIsICJzZXJ2aWNlRW5kcG9pbnQiOiAiaHR0cDovLzE3Mi4xNy4wLjE6ODAyMCIsICJyZWNpcGllbnRLZXlzIjogWyIyVE13QkRoTFFVNmVmMXg0QWFGZEw1OGI5UGlSYnVrVkJuWXN0YWtXdU5VViJdfQ=='}\n"
     ]
    }
   ],
   "source": [
    "# Create Invitation\n",
    "invite = await agent_controller.connections.create_invitation(alias=\"Will\")\n",
    "print(invite)"
   ]
  },
  {
   "cell_type": "code",
   "execution_count": 9,
   "metadata": {},
   "outputs": [
    {
     "name": "stdout",
     "output_type": "stream",
     "text": [
      "Data Owner ID 6ceb16b7-c95b-4f2f-9ee6-7f83232807e5\n"
     ]
    }
   ],
   "source": [
    "# Print out accepted Invite and Researcher ID\n",
    "print(\"Data Owner ID\", invite[\"connection_id\"])\n",
    "data_connection_id = invite[\"connection_id\"]"
   ]
  },
  {
   "cell_type": "code",
   "execution_count": 10,
   "metadata": {},
   "outputs": [
    {
     "name": "stdout",
     "output_type": "stream",
     "text": [
      "True\n",
      "ACCEPT REQUEST\n",
      "{'accept': 'manual', 'created_at': '2020-06-25 15:55:29.214205Z', 'state': 'response', 'updated_at': '2020-06-25 15:56:30.321726Z', 'their_did': 'YZjeSRBv5WJSvwtqATeAUJ', 'initiator': 'self', 'their_label': 'Alice', 'my_did': 'CGpVrCGcbpPSmTX5WiPB9F', 'connection_id': '6ceb16b7-c95b-4f2f-9ee6-7f83232807e5', 'invitation_key': '2TMwBDhLQU6ef1x4AaFdL58b9PiRbukVBnYstakWuNUV', 'invitation_mode': 'once', 'routing_state': 'none'}\n"
     ]
    }
   ],
   "source": [
    "# Accept Request for Invite created\n",
    "connection = await agent_controller.connections.accept_request(data_connection_id)\n",
    "print(\"ACCEPT REQUEST\")\n",
    "print(connection)"
   ]
  },
  {
   "cell_type": "code",
   "execution_count": 11,
   "metadata": {},
   "outputs": [
    {
     "name": "stdout",
     "output_type": "stream",
     "text": [
      "{'thread_id': 'bdf8ffc1-12fe-4f3f-972a-5bff9a5b91d1'}\n"
     ]
    }
   ],
   "source": [
    "trust_ping = await agent_controller.connections.trust_ping(data_connection_id, \"hello\")\n",
    "print(trust_ping)"
   ]
  },
  {
   "cell_type": "code",
   "execution_count": 12,
   "metadata": {},
   "outputs": [
    {
     "name": "stdout",
     "output_type": "stream",
     "text": [
      "{'accept': 'manual', 'created_at': '2020-06-25 15:55:29.214205Z', 'state': 'active', 'updated_at': '2020-06-25 15:56:44.256177Z', 'their_did': 'YZjeSRBv5WJSvwtqATeAUJ', 'initiator': 'self', 'their_label': 'Alice', 'my_did': 'CGpVrCGcbpPSmTX5WiPB9F', 'connection_id': '6ceb16b7-c95b-4f2f-9ee6-7f83232807e5', 'invitation_key': '2TMwBDhLQU6ef1x4AaFdL58b9PiRbukVBnYstakWuNUV', 'invitation_mode': 'once', 'routing_state': 'none'}\n"
     ]
    }
   ],
   "source": [
    "connection = await agent_controller.connections.get_connection(data_connection_id)\n",
    "print(connection)"
   ]
  },
  {
   "cell_type": "code",
   "execution_count": 13,
   "metadata": {},
   "outputs": [
    {
     "name": "stdout",
     "output_type": "stream",
     "text": [
      "Handle data messages  {'connection_id': '6ceb16b7-c95b-4f2f-9ee6-7f83232807e5', 'message_id': '7b8c154c-0a63-4ca2-af51-44ccbd6e8038', 'content': 'hello from researcher world!', 'state': 'received'} 6ceb16b7-c95b-4f2f-9ee6-7f83232807e5\n",
      "BASIC MESSAGE - DATA -> RESEARCH\n",
      "{}\n"
     ]
    }
   ],
   "source": [
    "message = await agent_controller.connections.send_message(data_connection_id,\"hello from data owner world! WOOPWOOP\")\n",
    "print(\"BASIC MESSAGE - DATA -> RESEARCH\")\n",
    "print(message)"
   ]
  },
  {
   "cell_type": "code",
   "execution_count": 22,
   "metadata": {},
   "outputs": [],
   "source": [
    "import torch\n",
    "import syft as sy"
   ]
  },
  {
   "cell_type": "code",
   "execution_count": 23,
   "metadata": {},
   "outputs": [
    {
     "name": "stderr",
     "output_type": "stream",
     "text": [
      "WARNING:root:Torch was already hooked... skipping hooking process\n"
     ]
    }
   ],
   "source": [
    "hook = sy.TorchHook(torch)\n",
    "bob = sy.VirtualWorker(hook, id=\"bob\")"
   ]
  },
  {
   "cell_type": "code",
   "execution_count": 24,
   "metadata": {},
   "outputs": [],
   "source": [
    "x = torch.tensor([1,2,3,4,5])\n",
    "y = torch.tensor([1,1,1,1,1])\n",
    "\n",
    "\n"
   ]
  },
  {
   "cell_type": "code",
   "execution_count": 25,
   "metadata": {},
   "outputs": [],
   "source": [
    "\n",
    "\n",
    "x_ptr = x.send(bob)\n",
    "y_ptr = y.send(bob)\n",
    "\n"
   ]
  },
  {
   "cell_type": "code",
   "execution_count": 27,
   "metadata": {},
   "outputs": [
    {
     "name": "stdout",
     "output_type": "stream",
     "text": [
      "(Wrapper)>[PointerTensor | me:81986732112 -> bob:52383037777]\n"
     ]
    }
   ],
   "source": [
    "print(x_ptr)"
   ]
  },
  {
   "cell_type": "code",
   "execution_count": null,
   "metadata": {},
   "outputs": [],
   "source": []
  }
 ],
 "metadata": {
  "kernelspec": {
   "display_name": "Python 3",
   "language": "python",
   "name": "python3"
  },
  "language_info": {
   "codemirror_mode": {
    "name": "ipython",
    "version": 3
   },
   "file_extension": ".py",
   "mimetype": "text/x-python",
   "name": "python",
   "nbconvert_exporter": "python",
   "pygments_lexer": "ipython3",
   "version": "3.7.6"
  },
  "pycharm": {
   "stem_cell": {
    "cell_type": "raw",
    "metadata": {
     "collapsed": false
    },
    "source": []
   }
  }
 },
 "nbformat": 4,
 "nbformat_minor": 4
}
