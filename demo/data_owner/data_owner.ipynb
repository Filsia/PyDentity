{
 "cells": [
  {
   "cell_type": "code",
   "execution_count": 1,
   "metadata": {},
   "outputs": [],
   "source": [
    "from aries_basic_controller.aries_controller import AriesAgentController\n",
    "    \n",
    "WEBHOOK_HOST = \"0.0.0.0\"\n",
    "WEBHOOK_PORT = 8022\n",
    "WEBHOOK_BASE = \"/\"\n",
    "ADMIN_URL = \"http://data-agent:8021\""
   ]
  },
  {
   "cell_type": "code",
   "execution_count": 2,
   "metadata": {},
   "outputs": [],
   "source": [
    "# Based on the aca-py agent you wish to control\n",
    "agent_controller = AriesAgentController(webhook_host=WEBHOOK_HOST, webhook_port=WEBHOOK_PORT,\n",
    "                                           webhook_base=WEBHOOK_BASE, admin_url=ADMIN_URL, connections=True)"
   ]
  },
  {
   "cell_type": "code",
   "execution_count": 3,
   "metadata": {},
   "outputs": [],
   "source": [
    "# Spins up server to respond to any webhook events from the agent\n",
    "import asyncio\n",
    "asyncio.get_event_loop().run_until_complete(agent_controller.listen_webhooks())\n",
    "# await agent_controller.listen_webhooks()"
   ]
  },
  {
   "cell_type": "code",
   "execution_count": 4,
   "metadata": {},
   "outputs": [],
   "source": [
    "# Controllers re-emit webhooks as events through PyPubSub\n",
    "# Basic state management is handled through defaults but you can choose to pass in custom handlers\n",
    "custom_handler = []\n",
    "agent_controller.register_listeners(custom_handler, defaults=True)"
   ]
  },
  {
   "cell_type": "code",
   "execution_count": 5,
   "metadata": {},
   "outputs": [],
   "source": [
    "# Create Invitation\n",
    "invite = await agent_controller.connections.create_invitation(alias=\"Will\")"
   ]
  },
  {
   "cell_type": "code",
   "execution_count": 6,
   "metadata": {},
   "outputs": [
    {
     "name": "stdout",
     "output_type": "stream",
     "text": [
      "{'connection_id': '2c0fb7cb-e409-47e9-b84d-e016759644b6', 'invitation': {'@type': 'did:sov:BzCbsNYhMrjHiqZDTUASHg;spec/connections/1.0/invitation', '@id': '6f3e6a4c-d7f6-4c5a-bd7b-83de3ce6452e', 'recipientKeys': ['8Pk27WDNHxYxP9t2AXwF5NZQWgBHughT7FCnaCfwNMcy'], 'label': 'Bob', 'serviceEndpoint': 'http://192.168.65.3:8020'}, 'invitation_url': 'http://192.168.65.3:8020?c_i=eyJAdHlwZSI6ICJkaWQ6c292OkJ6Q2JzTlloTXJqSGlxWkRUVUFTSGc7c3BlYy9jb25uZWN0aW9ucy8xLjAvaW52aXRhdGlvbiIsICJAaWQiOiAiNmYzZTZhNGMtZDdmNi00YzVhLWJkN2ItODNkZTNjZTY0NTJlIiwgInJlY2lwaWVudEtleXMiOiBbIjhQazI3V0ROSHhZeFA5dDJBWHdGNU5aUVdnQkh1Z2hUN0ZDbmFDZndOTWN5Il0sICJsYWJlbCI6ICJCb2IiLCAic2VydmljZUVuZHBvaW50IjogImh0dHA6Ly8xOTIuMTY4LjY1LjM6ODAyMCJ9'}\n"
     ]
    }
   ],
   "source": [
    "print(invite)"
   ]
  },
  {
   "cell_type": "code",
   "execution_count": 7,
   "metadata": {},
   "outputs": [
    {
     "name": "stdout",
     "output_type": "stream",
     "text": [
      "2c0fb7cb-e409-47e9-b84d-e016759644b6\n"
     ]
    }
   ],
   "source": [
    "data_connection_id = invite[\"connection_id\"]\n",
    "print(data_connection_id)"
   ]
  },
  {
   "cell_type": "code",
   "execution_count": null,
   "metadata": {},
   "outputs": [],
   "source": [
    "# Accept Request for Invite created\n",
    "connection = await agent_controller.connections.accept_request(data_connection_id)\n",
    "print(\"ACCEPT REQUEST\")\n",
    "print(connection)"
   ]
  },
  {
   "cell_type": "code",
   "execution_count": null,
   "metadata": {},
   "outputs": [],
   "source": [
    "# Print Connections\n",
    "connection = await agent_controller.connections.get_connection(data_connection_id)\n",
    "print(\"DATA AGENT CONNECTION\")\n",
    "print(connection)"
   ]
  },
  {
   "cell_type": "code",
   "execution_count": null,
   "metadata": {},
   "outputs": [],
   "source": [
    "# Do a trust ping to bring accepted request into \"ACTIVE\" state\n",
    "while connection[\"state\"] != \"active\":\n",
    "    trust_ping = await agent_controller.connections.trust_ping(data_connection_id, \"hello\")\n",
    "    print(\"TUST PING TO ACTIVATE CONNECTION - DATA -> RESEARCH\")\n",
    "    print(trust_ping)\n",
    "    time.sleep(5)\n",
    "    connection = await agent_controller.connections.get_connection(data_connection_id)"
   ]
  },
  {
   "cell_type": "code",
   "execution_count": null,
   "metadata": {},
   "outputs": [],
   "source": [
    "# Print connection list\n",
    "connection = await agent_controller.connections.get_connection(data_connection_id)\n",
    "print(\"DATA AGENT CONNECTION\")\n",
    "print(connection)"
   ]
  },
  {
   "cell_type": "code",
   "execution_count": null,
   "metadata": {},
   "outputs": [],
   "source": [
    "#send some basic messages\n",
    "message = await agent_controller.connections.send_message(data_connection_id,\"hello from data world!\")\n",
    "print(\"BASIC MESSAGE - DATA -> RESEARCH\")\n",
    "print(message)"
   ]
  },
  {
   "cell_type": "code",
   "execution_count": null,
   "metadata": {},
   "outputs": [],
   "source": []
  }
 ],
 "metadata": {
  "kernelspec": {
   "display_name": "Python 3",
   "language": "python",
   "name": "python3"
  },
  "language_info": {
   "codemirror_mode": {
    "name": "ipython",
    "version": 3
   },
   "file_extension": ".py",
   "mimetype": "text/x-python",
   "name": "python",
   "nbconvert_exporter": "python",
   "pygments_lexer": "ipython3",
   "version": "3.7.6"
  }
 },
 "nbformat": 4,
 "nbformat_minor": 4
}
